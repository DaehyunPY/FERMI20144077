{
 "cells": [
  {
   "cell_type": "code",
   "execution_count": 1,
   "metadata": {},
   "outputs": [],
   "source": [
    "from typing import Tuple\n",
    "from functools import wraps\n",
    "\n",
    "from IPython.display import display, Latex\n",
    "from sympy import (\n",
    "    init_printing, Expr, Symbol, symbols, I, pi, oo, exp, Ynm, Abs, cos, sin, arg, sqrt, re, legendre,\n",
    "    cancel, expand_func, simplify, expand, solve, lambdify,\n",
    ")\n",
    "\n",
    "init_printing()"
   ]
  },
  {
   "cell_type": "code",
   "execution_count": 2,
   "metadata": {},
   "outputs": [],
   "source": [
    "# %% pads\n",
    "coeff_s, coeff_p, coeff_d = symbols('c_s c_p c_d', positive=True)\n",
    "eta_s, eta_p, eta_d = symbols('eta_s eta_p eta_d', real=True)\n",
    "phi, theta, varphi = symbols('phi theta varphi', real=True)\n",
    "r, rho_w, rho_2w, h = symbols('r rho_omega rho_2_omega h', positive=True)\n",
    "\n",
    "waves = {\n",
    "    'm=0': (coeff_s * exp(-(r / rho_w) ** 2) * exp(eta_s * I) * Ynm(0, 0, theta, varphi) +\n",
    "            coeff_p * exp(-(r / rho_2w) ** 2/2) * exp(eta_p * I + phi * I) * Ynm(1, 0, theta, varphi) +\n",
    "            coeff_d * exp(-(r / rho_w) ** 2) * exp(eta_d * I) * Ynm(2, 0, theta, varphi)),\n",
    "}\n",
    "pads = {\n",
    "    k: (sum(Abs(term) ** 2 for term in expr) * r)\n",
    "       .integrate([r, 0, oo]).subs(rho_2w**2, h*rho_w**2/2).cancel().simplify()\n",
    "    for k, expr in {\n",
    "        'm=0': [waves['m=0']],\n",
    "        'summed': [waves['m=0']],\n",
    "    }.items()\n",
    "}"
   ]
  },
  {
   "cell_type": "code",
   "execution_count": 3,
   "metadata": {},
   "outputs": [],
   "source": [
    "# %% solve pad eq\n",
    "def expend_cos(expr: Expr, x: Symbol) -> Tuple[Expr, Expr]:\n",
    "    while True:\n",
    "        term = expr.subs(x, pi / 2)\n",
    "        yield term\n",
    "        expr = cancel((expr - term) / cos(x))\n",
    "        if expr == 0:\n",
    "            return\n",
    "\n",
    "\n",
    "def amp_and_shift(expr: Expr, x: Symbol) -> Tuple[Expr, Expr]:\n",
    "    amp = simplify(cancel(sqrt(expr ** 2 + expr.diff(x) ** 2).subs(x, 0)))\n",
    "    shift = arg(expr.subs(x, 0) + I * expr.diff(x).subs(x, 0))\n",
    "    return amp, shift\n",
    "\n",
    "\n",
    "def solve_eq(pad: Expr) -> dict:\n",
    "    # expand left term\n",
    "    left = cancel(\n",
    "        expand_func(pad)\n",
    "            .subs(sin(theta) ** 2, 1 - cos(theta) ** 2)\n",
    "    )\n",
    "    terms_lft = tuple(expend_cos(left, theta))\n",
    "\n",
    "    # expand right term\n",
    "    b0, b1, b2, b3, b4 = symbols(\n",
    "        'b_0 b_1 b_2 b_3 b_4',\n",
    "        real=True\n",
    "    )\n",
    "    right = cancel(b0 +\n",
    "                   b1 * legendre(1, cos(theta)) +\n",
    "                   b2 * legendre(2, cos(theta)) +\n",
    "                   b3 * legendre(3, cos(theta)) +\n",
    "                   b4 * legendre(4, cos(theta)))\n",
    "    terms_rgt = tuple(expend_cos(right, theta))\n",
    "\n",
    "    # solve equations\n",
    "    b4_cmpx = simplify(cancel(solve((terms_lft[4] - terms_rgt[4]), b4)[0]))\n",
    "    b4_real = simplify(re(expand(b4_cmpx)))\n",
    "    b3_cmpx = simplify(cancel(solve((terms_lft[3] - terms_rgt[3]), b3)[0]))\n",
    "    b3_real = simplify(re(expand(b3_cmpx)))\n",
    "    b3_amp, b3_shift = amp_and_shift(b3_real, phi)\n",
    "    b2_cmpx = simplify(cancel(solve((terms_lft[2] - terms_rgt[2])\n",
    "                                    .subs(b4, b4_cmpx), b2)[0]))\n",
    "    b2_real = simplify(re(expand(b2_cmpx)))\n",
    "    b1_cmpx = simplify(cancel(solve((terms_lft[1] - terms_rgt[1])\n",
    "                                    .subs(b3, b3_cmpx), b1)[0]))\n",
    "    b1_real = simplify(re(expand(b1_cmpx)))\n",
    "    b1_amp, b1_shift = amp_and_shift(b1_real, phi)\n",
    "    b0_cmpx = simplify(cancel(solve((terms_lft[0] - terms_rgt[0])\n",
    "                                    .subs(b4, b4_cmpx)\n",
    "                                    .subs(b2, b2_cmpx), b0)[0]))\n",
    "    b0_real = simplify(re(expand(b0_cmpx)))\n",
    "    b1m3_real = simplify(cancel(b1_real - b3_real * 2 / 3))\n",
    "    b1m3_amp, b1m3_shift = amp_and_shift(b1m3_real, phi)\n",
    "    return {\n",
    "        'b0': b0_real,\n",
    "\n",
    "        'b1': b1_real,\n",
    "        'b1_amp': b1_amp,\n",
    "        'b1_shift': b1_shift,\n",
    "        'beta1': b1_real / b0_real,\n",
    "        'beta1_amp': b1_amp / b0_real,\n",
    "        'beta1_shift': b1_shift,\n",
    "\n",
    "        'b2': b2_real,\n",
    "        'beta2': b2_real / b0_real,\n",
    "\n",
    "        'b3': b3_real,\n",
    "        'b3_amp': b3_amp,\n",
    "        'b3_shift': b3_shift,\n",
    "        'beta3': b3_real / b0_real,\n",
    "        'beta3_amp': b3_amp / b0_real,\n",
    "        'beta3_shift': b3_shift,\n",
    "\n",
    "        'b4': b4_real,\n",
    "        'beta4': b4_real / b0_real,\n",
    "\n",
    "        'b1m3': b1m3_real,\n",
    "        'b1m3_amp': b1m3_amp,\n",
    "        'b1m3_shift': b1m3_shift,\n",
    "        'beta1m3': b1m3_real / b0_real,\n",
    "        'beta1m3_amp': b1m3_amp / b0_real,\n",
    "        'beta1m3_shift': b1m3_shift,\n",
    "    }\n",
    "\n",
    "\n",
    "solved = solve_eq(pads['summed'])"
   ]
  },
  {
   "cell_type": "code",
   "execution_count": 4,
   "metadata": {},
   "outputs": [
    {
     "data": {
      "text/latex": [
       "$\\beta_1=$"
      ],
      "text/plain": [
       "<IPython.core.display.Latex object>"
      ]
     },
     "metadata": {},
     "output_type": "display_data"
    },
    {
     "data": {
      "image/png": "[encoded data removed]",
      "text/latex": [
       "$$\\frac{2 c_{p} h}{5 \\left(h + 1\\right) \\left(c_{d}^{2} + c_{p}^{2} h + c_{s}^{2}\\right)} \\left(4 \\sqrt{15} c_{d} \\cos{\\left (- \\eta_{d} + \\eta_{p} + \\phi \\right )} + 10 \\sqrt{3} c_{s} \\cos{\\left (\\eta_{p} - \\eta_{s} + \\phi \\right )}\\right)$$"
      ],
      "text/plain": [
       "2⋅cₚ⋅h⋅(4⋅√15⋅c_d⋅cos(-η_d + ηₚ + φ) + 10⋅√3⋅cₛ⋅cos(ηₚ - ηₛ + φ))\n",
       "─────────────────────────────────────────────────────────────────\n",
       "                            ⎛   2     2       2⎞                 \n",
       "                  5⋅(h + 1)⋅⎝c_d  + cₚ ⋅h + cₛ ⎠                 "
      ]
     },
     "metadata": {},
     "output_type": "display_data"
    },
    {
     "name": "stdout",
     "output_type": "stream",
     "text": [
      "\n"
     ]
    },
    {
     "data": {
      "text/latex": [
       "$\\beta_2=$"
      ],
      "text/plain": [
       "<IPython.core.display.Latex object>"
      ]
     },
     "metadata": {},
     "output_type": "display_data"
    },
    {
     "data": {
      "image/png": "[encoded data removed]",
      "text/latex": [
       "$$\\frac{1}{7 \\left(c_{d}^{2} + c_{p}^{2} h + c_{s}^{2}\\right)} \\left(10 c_{d}^{2} + 14 \\sqrt{5} c_{d} c_{s} \\cos{\\left (\\eta_{d} - \\eta_{s} \\right )} + 14 c_{p}^{2} h\\right)$$"
      ],
      "text/plain": [
       "      2                                     2  \n",
       "10⋅c_d  + 14⋅√5⋅c_d⋅cₛ⋅cos(η_d - ηₛ) + 14⋅cₚ ⋅h\n",
       "───────────────────────────────────────────────\n",
       "               ⎛   2     2       2⎞            \n",
       "             7⋅⎝c_d  + cₚ ⋅h + cₛ ⎠            "
      ]
     },
     "metadata": {},
     "output_type": "display_data"
    },
    {
     "name": "stdout",
     "output_type": "stream",
     "text": [
      "\n"
     ]
    },
    {
     "data": {
      "text/latex": [
       "$\\beta_3=$"
      ],
      "text/plain": [
       "<IPython.core.display.Latex object>"
      ]
     },
     "metadata": {},
     "output_type": "display_data"
    },
    {
     "data": {
      "image/png": "[encoded data removed]",
      "text/latex": [
       "$$\\frac{12 \\sqrt{15} c_{d} c_{p} h \\cos{\\left (- \\eta_{d} + \\eta_{p} + \\phi \\right )}}{5 \\left(h + 1\\right) \\left(c_{d}^{2} + c_{p}^{2} h + c_{s}^{2}\\right)}$$"
      ],
      "text/plain": [
       "12⋅√15⋅c_d⋅cₚ⋅h⋅cos(-η_d + ηₚ + φ)\n",
       "──────────────────────────────────\n",
       "            ⎛   2     2       2⎞  \n",
       "  5⋅(h + 1)⋅⎝c_d  + cₚ ⋅h + cₛ ⎠  "
      ]
     },
     "metadata": {},
     "output_type": "display_data"
    },
    {
     "name": "stdout",
     "output_type": "stream",
     "text": [
      "\n"
     ]
    },
    {
     "data": {
      "text/latex": [
       "$\\beta_4=$"
      ],
      "text/plain": [
       "<IPython.core.display.Latex object>"
      ]
     },
     "metadata": {},
     "output_type": "display_data"
    },
    {
     "data": {
      "image/png": "[encoded data removed]",
      "text/latex": [
       "$$\\frac{18 c_{d}^{2}}{7 \\left(c_{d}^{2} + c_{p}^{2} h + c_{s}^{2}\\right)}$$"
      ],
      "text/plain": [
       "             2        \n",
       "       18⋅c_d         \n",
       "──────────────────────\n",
       "  ⎛   2     2       2⎞\n",
       "7⋅⎝c_d  + cₚ ⋅h + cₛ ⎠"
      ]
     },
     "metadata": {},
     "output_type": "display_data"
    },
    {
     "name": "stdout",
     "output_type": "stream",
     "text": [
      "\n"
     ]
    },
    {
     "data": {
      "text/latex": [
       "$\\beta_1-\\frac{2}{3}\\beta_3=$"
      ],
      "text/plain": [
       "<IPython.core.display.Latex object>"
      ]
     },
     "metadata": {},
     "output_type": "display_data"
    },
    {
     "data": {
      "image/png": "[encoded data removed]",
      "text/latex": [
       "$$\\frac{4 \\sqrt{3} c_{p} c_{s} h \\cos{\\left (\\eta_{p} - \\eta_{s} + \\phi \\right )}}{\\left(h + 1\\right) \\left(c_{d}^{2} + c_{p}^{2} h + c_{s}^{2}\\right)}$$"
      ],
      "text/plain": [
       "4⋅√3⋅cₚ⋅cₛ⋅h⋅cos(ηₚ - ηₛ + φ)\n",
       "─────────────────────────────\n",
       "         ⎛   2     2       2⎞\n",
       " (h + 1)⋅⎝c_d  + cₚ ⋅h + cₛ ⎠"
      ]
     },
     "metadata": {},
     "output_type": "display_data"
    },
    {
     "name": "stdout",
     "output_type": "stream",
     "text": [
      "\n"
     ]
    }
   ],
   "source": [
    "for k, v in [\n",
    "        [r\"$\\beta_1=$\", \"beta1\"],\n",
    "        [r\"$\\beta_2=$\", \"beta2\"],\n",
    "        [r\"$\\beta_3=$\", \"beta3\"],\n",
    "        [r\"$\\beta_4=$\", \"beta4\"],\n",
    "        [r\"$\\beta_1-\\frac{2}{3}\\beta_3=$\", \"beta1m3\"],\n",
    "    ]:\n",
    "    display(Latex(k))\n",
    "    display(solved[f\"{v}\"])\n",
    "    print()"
   ]
  },
  {
   "cell_type": "code",
   "execution_count": 5,
   "metadata": {},
   "outputs": [
    {
     "data": {
      "text/latex": [
       "$b_0=$"
      ],
      "text/plain": [
       "<IPython.core.display.Latex object>"
      ]
     },
     "metadata": {},
     "output_type": "display_data"
    },
    {
     "data": {
      "image/png": "[encoded data removed]",
      "text/latex": [
       "$$\\frac{\\rho_{\\omega}^{2}}{16 \\pi} \\left(c_{d}^{2} + c_{p}^{2} h + c_{s}^{2}\\right)$$"
      ],
      "text/plain": [
       "   2 ⎛   2     2       2⎞\n",
       "ρ_ω ⋅⎝c_d  + cₚ ⋅h + cₛ ⎠\n",
       "─────────────────────────\n",
       "           16⋅π          "
      ]
     },
     "metadata": {},
     "output_type": "display_data"
    },
    {
     "name": "stdout",
     "output_type": "stream",
     "text": [
      "\n"
     ]
    },
    {
     "data": {
      "text/latex": [
       "$b_1=$"
      ],
      "text/plain": [
       "<IPython.core.display.Latex object>"
      ]
     },
     "metadata": {},
     "output_type": "display_data"
    },
    {
     "data": {
      "image/png": "[encoded data removed]",
      "text/latex": [
       "$$\\frac{c_{p} h \\rho_{\\omega}^{2}}{40 \\pi \\left(h + 1\\right)} \\left(4 \\sqrt{15} c_{d} \\cos{\\left (- \\eta_{d} + \\eta_{p} + \\phi \\right )} + 10 \\sqrt{3} c_{s} \\cos{\\left (\\eta_{p} - \\eta_{s} + \\phi \\right )}\\right)$$"
      ],
      "text/plain": [
       "        2                                                           \n",
       "cₚ⋅h⋅ρ_ω ⋅(4⋅√15⋅c_d⋅cos(-η_d + ηₚ + φ) + 10⋅√3⋅cₛ⋅cos(ηₚ - ηₛ + φ))\n",
       "────────────────────────────────────────────────────────────────────\n",
       "                            40⋅π⋅(h + 1)                            "
      ]
     },
     "metadata": {},
     "output_type": "display_data"
    },
    {
     "name": "stdout",
     "output_type": "stream",
     "text": [
      "\n"
     ]
    },
    {
     "data": {
      "text/latex": [
       "$b_2=$"
      ],
      "text/plain": [
       "<IPython.core.display.Latex object>"
      ]
     },
     "metadata": {},
     "output_type": "display_data"
    },
    {
     "data": {
      "image/png": "[encoded data removed]",
      "text/latex": [
       "$$\\frac{\\rho_{\\omega}^{2}}{112 \\pi} \\left(10 c_{d}^{2} + 14 \\sqrt{5} c_{d} c_{s} \\cos{\\left (\\eta_{d} - \\eta_{s} \\right )} + 14 c_{p}^{2} h\\right)$$"
      ],
      "text/plain": [
       "   2 ⎛      2                                     2  ⎞\n",
       "ρ_ω ⋅⎝10⋅c_d  + 14⋅√5⋅c_d⋅cₛ⋅cos(η_d - ηₛ) + 14⋅cₚ ⋅h⎠\n",
       "──────────────────────────────────────────────────────\n",
       "                        112⋅π                         "
      ]
     },
     "metadata": {},
     "output_type": "display_data"
    },
    {
     "name": "stdout",
     "output_type": "stream",
     "text": [
      "\n"
     ]
    },
    {
     "data": {
      "text/latex": [
       "$b_3=$"
      ],
      "text/plain": [
       "<IPython.core.display.Latex object>"
      ]
     },
     "metadata": {},
     "output_type": "display_data"
    },
    {
     "data": {
      "image/png": "[encoded data removed]",
      "text/latex": [
       "$$\\frac{3 \\sqrt{15} c_{d} c_{p} h \\rho_{\\omega}^{2}}{20 \\pi \\left(h + 1\\right)} \\cos{\\left (- \\eta_{d} + \\eta_{p} + \\phi \\right )}$$"
      ],
      "text/plain": [
       "                  2                   \n",
       "3⋅√15⋅c_d⋅cₚ⋅h⋅ρ_ω ⋅cos(-η_d + ηₚ + φ)\n",
       "──────────────────────────────────────\n",
       "             20⋅π⋅(h + 1)             "
      ]
     },
     "metadata": {},
     "output_type": "display_data"
    },
    {
     "name": "stdout",
     "output_type": "stream",
     "text": [
      "\n"
     ]
    },
    {
     "data": {
      "text/latex": [
       "$b_4=$"
      ],
      "text/plain": [
       "<IPython.core.display.Latex object>"
      ]
     },
     "metadata": {},
     "output_type": "display_data"
    },
    {
     "data": {
      "image/png": "[encoded data removed]",
      "text/latex": [
       "$$\\frac{9 c_{d}^{2} \\rho_{\\omega}^{2}}{56 \\pi}$$"
      ],
      "text/plain": [
       "     2    2\n",
       "9⋅c_d ⋅ρ_ω \n",
       "───────────\n",
       "    56⋅π   "
      ]
     },
     "metadata": {},
     "output_type": "display_data"
    },
    {
     "name": "stdout",
     "output_type": "stream",
     "text": [
      "\n"
     ]
    },
    {
     "data": {
      "text/latex": [
       "$b_1-\\frac{2}{3}b_3=$"
      ],
      "text/plain": [
       "<IPython.core.display.Latex object>"
      ]
     },
     "metadata": {},
     "output_type": "display_data"
    },
    {
     "data": {
      "image/png": "[encoded data removed]",
      "text/latex": [
       "$$\\frac{\\sqrt{3} c_{p} c_{s} h \\rho_{\\omega}^{2}}{4 \\pi \\left(h + 1\\right)} \\cos{\\left (\\eta_{p} - \\eta_{s} + \\phi \\right )}$$"
      ],
      "text/plain": [
       "              2                 \n",
       "√3⋅cₚ⋅cₛ⋅h⋅ρ_ω ⋅cos(ηₚ - ηₛ + φ)\n",
       "────────────────────────────────\n",
       "          4⋅π⋅(h + 1)           "
      ]
     },
     "metadata": {},
     "output_type": "display_data"
    },
    {
     "name": "stdout",
     "output_type": "stream",
     "text": [
      "\n"
     ]
    }
   ],
   "source": [
    "for k, v in [\n",
    "        [r\"$b_0=$\", \"b0\"],\n",
    "        [r\"$b_1=$\", \"b1\"],\n",
    "        [r\"$b_2=$\", \"b2\"],\n",
    "        [r\"$b_3=$\", \"b3\"],\n",
    "        [r\"$b_4=$\", \"b4\"],\n",
    "        [r\"$b_1-\\frac{2}{3}b_3=$\", \"b1m3\"],\n",
    "    ]:\n",
    "    display(Latex(k))\n",
    "    display(solved[f\"{v}\"])\n",
    "    print()"
   ]
  }
 ],
 "metadata": {
  "kernelspec": {
   "display_name": "Python 3",
   "language": "python",
   "name": "python3"
  },
  "language_info": {
   "codemirror_mode": {
    "name": "ipython",
    "version": 3
   },
   "file_extension": ".py",
   "mimetype": "text/x-python",
   "name": "python",
   "nbconvert_exporter": "python",
   "pygments_lexer": "ipython3",
   "version": "3.6.5"
  }
 },
 "nbformat": 4,
 "nbformat_minor": 2
}
