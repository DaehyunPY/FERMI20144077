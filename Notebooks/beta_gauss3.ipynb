{
 "cells": [
  {
   "cell_type": "code",
   "execution_count": 1,
   "metadata": {},
   "outputs": [],
   "source": [
    "import pandas as pd"
   ]
  },
  {
   "cell_type": "code",
   "execution_count": 3,
   "metadata": {},
   "outputs": [],
   "source": [
    "filename = 'beta_{}_gauss3.xlsx'.format\n",
    "datasets = ['good1', 'good2', 'good3', 'good4']\n",
    "\n",
    "with pd.ExcelWriter('beta_gauss3.xlsx') as writer:\n",
    "    fitted = (\n",
    "        pd.DataFrame([\n",
    "            {'dataset': d, **pd.read_excel(filename(d), sheet_name='fitted').iloc[0]}\n",
    "            for d in datasets])\n",
    "        .set_index('dataset')\n",
    "    )\n",
    "    fitted.to_excel(writer, sheet_name='fitted')\n",
    "    for d in datasets:\n",
    "        pd.read_excel(filename(d), sheet_name='data').to_excel(writer, sheet_name=f'{d}')"
   ]
  }
 ],
 "metadata": {
  "kernelspec": {
   "display_name": "Python 3",
   "language": "python",
   "name": "python3"
  },
  "language_info": {
   "codemirror_mode": {
    "name": "ipython",
    "version": 3
   },
   "file_extension": ".py",
   "mimetype": "text/x-python",
   "name": "python",
   "nbconvert_exporter": "python",
   "pygments_lexer": "ipython3",
   "version": "3.6.5"
  }
 },
 "nbformat": 4,
 "nbformat_minor": 2
}
