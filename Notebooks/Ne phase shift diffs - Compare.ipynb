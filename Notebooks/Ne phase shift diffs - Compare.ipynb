{
 "cells": [
  {
   "cell_type": "code",
   "execution_count": 1,
   "metadata": {},
   "outputs": [],
   "source": [
    "import numpy as np\n",
    "import pandas as pd\n",
    "import altair as alt\n",
    "from altair import datum"
   ]
  },
  {
   "cell_type": "code",
   "execution_count": 2,
   "metadata": {},
   "outputs": [
    {
     "data": {
      "application/vnd.vegalite.v2+json": {
       "$schema": "https://vega.github.io/schema/vega-lite/v2.6.0.json",
       "config": {
        "view": {
         "height": 300,
         "width": 400
        }
       },
       "datasets": {
        "data-4fc773a744dc7371bda9ddb8e08624ac": [
         {
          "Config": "sum[m]",
          "KE (eV)": "04.0",
          "Phase shift diff (deg)": 50.9644722155745,
          "Phase shift diff (rad)": 0.8894978417029444,
          "Photon energy (eV)": 14.3,
          "Polar ang (deg)": 0,
          "Polar ang (rad)": 0
         },
         {
          "Config": "sum[m]",
          "KE (eV)": "04.0",
          "Phase shift diff (deg)": 50.9661516764165,
          "Phase shift diff (rad)": 0.8895271538242956,
          "Photon energy (eV)": 14.3,
          "Polar ang (deg)": 0.572957795130823,
          "Polar ang (rad)": 0.009999999999999997
         },
         {
          "Config": "sum[m]",
          "KE (eV)": "04.0",
          "Phase shift diff (deg)": 50.9711912797178,
          "Phase shift diff (rad)": 0.8896151114948977,
          "Photon energy (eV)": 14.3,
          "Polar ang (deg)": 1.14591559026165,
          "Polar ang (rad)": 0.020000000000000063
         },
         {
          "Config": "sum[m]",
          "KE (eV)": "04.0",
          "Phase shift diff (deg)": 50.9795946894468,
          "Phase shift diff (rad)": 0.8897617786630627,
          "Photon energy (eV)": 14.3,
          "Polar ang (deg)": 1.71887338539247,
          "Polar ang (rad)": 0.03000000000000001
         },
         {
          "Config": "sum[m]",
          "KE (eV)": "04.0",
          "Phase shift diff (deg)": 50.9913680176934,
          "Phase shift diff (rad)": 0.889967262004884,
          "Photon energy (eV)": 14.3,
          "Polar ang (deg)": 2.29183118052329,
          "Polar ang (rad)": 0.039999999999999945
         },
         {
          "Config": "sum[m]",
          "KE (eV)": "04.0",
          "Phase shift diff (deg)": 51.0065198328929,
          "Phase shift diff (rad)": 0.890231711067769,
          "Photon energy (eV)": 14.3,
          "Polar ang (deg)": 2.86478897565412,
          "Polar ang (rad)": 0.050000000000000065
         },
         {
          "Config": "sum[m]",
          "KE (eV)": "04.0",
          "Phase shift diff (deg)": 51.0250611713575,
          "Phase shift diff (rad)": 0.890555318471703,
          "Photon energy (eV)": 14.3,
          "Polar ang (deg)": 3.43774677078494,
          "Polar ang (rad)": 0.06000000000000002
         },
         {
          "Config": "sum[m]",
          "KE (eV)": "04.0",
          "Phase shift diff (deg)": 51.0470055521344,
          "Phase shift diff (rad)": 0.8909383201685711,
          "Photon energy (eV)": 14.3,
          "Polar ang (deg)": 4.01070456591576,
          "Polar ang (rad)": 0.06999999999999995
         },
         {
          "Config": "sum[m]",
          "KE (eV)": "04.0",
          "Phase shift diff (deg)": 51.0723689952152,
          "Phase shift diff (rad)": 0.8913809957599734,
          "Photon energy (eV)": 14.3,
          "Polar ang (deg)": 4.58366236104659,
          "Polar ang (rad)": 0.08000000000000007
         },
         {
          "Config": "sum[m]",
          "KE (eV)": "04.0",
          "Phase shift diff (deg)": 51.1011700431245,
          "Phase shift diff (rad)": 0.8918836688740153,
          "Photon energy (eV)": 14.3,
          "Polar ang (deg)": 5.15662015617741,
          "Polar ang (rad)": 0.09000000000000001
         },
         {
          "Config": "sum[m]",
          "KE (eV)": "04.0",
          "Phase shift diff (deg)": 51.1334297859237,
          "Phase shift diff (rad)": 0.8924467076017079,
          "Photon energy (eV)": 14.3,
          "Polar ang (deg)": 5.72957795130823,
          "Polar ang (rad)": 0.09999999999999998
         },
         {
          "Config": "sum[m]",
          "KE (eV)": "04.0",
          "Phase shift diff (deg)": 51.1691718896682,
          "Phase shift diff (rad)": 0.8930705249936386,
          "Photon energy (eV)": 14.3,
          "Polar ang (deg)": 6.30253574643906,
          "Polar ang (rad)": 0.11000000000000007
         },
         {
          "Config": "sum[m]",
          "KE (eV)": "04.0",
          "Phase shift diff (deg)": 51.2084226283646,
          "Phase shift diff (rad)": 0.8937555796177308,
          "Photon energy (eV)": 14.3,
          "Polar ang (deg)": 6.87549354156988,
          "Polar ang (rad)": 0.12000000000000004
         },
         {
          "Config": "sum[m]",
          "KE (eV)": "04.0",
          "Phase shift diff (deg)": 51.2512109194764,
          "Phase shift diff (rad)": 0.8945023761789336,
          "Photon energy (eV)": 14.3,
          "Polar ang (deg)": 7.4484513367007,
          "Polar ang (rad)": 0.12999999999999995
         },
         {
          "Config": "sum[m]",
          "KE (eV)": "04.0",
          "Phase shift diff (deg)": 51.297568363035,
          "Phase shift diff (rad)": 0.8953114662018387,
          "Photon energy (eV)": 14.3,
          "Polar ang (deg)": 8.02140913183153,
          "Polar ang (rad)": 0.1400000000000001
         },
         {
          "Config": "sum[m]",
          "KE (eV)": "04.0",
          "Phase shift diff (deg)": 51.347529284415,
          "Phase shift diff (rad)": 0.8961834487772496,
          "Photon energy (eV)": 14.3,
          "Polar ang (deg)": 8.59436692696235,
          "Polar ang (rad)": 0.15
         },
         {
          "Config": "sum[m]",
          "KE (eV)": "04.0",
          "Phase shift diff (deg)": 51.4011307808396,
          "Phase shift diff (rad)": 0.897118971373855,
          "Photon energy (eV)": 14.3,
          "Polar ang (deg)": 9.16732472209317,
          "Polar ang (rad)": 0.15999999999999998
         },
         {
          "Config": "sum[m]",
          "KE (eV)": "04.0",
          "Phase shift diff (deg)": 51.458412771686,
          "Phase shift diff (rad)": 0.8981187307162218,
          "Photon energy (eV)": 14.3,
          "Polar ang (deg)": 9.740282517224,
          "Polar ang (rad)": 0.1700000000000001
         },
         {
          "Config": "sum[m]",
          "KE (eV)": "04.0",
          "Phase shift diff (deg)": 51.5194180526659,
          "Phase shift diff (rad)": 0.8991834737304253,
          "Photon energy (eV)": 14.3,
          "Polar ang (deg)": 10.3132403123548,
          "Polar ang (rad)": 0.1799999999999997
         },
         {
          "Config": "sum[m]",
          "KE (eV)": "04.0",
          "Phase shift diff (deg)": 51.5841923539588,
          "Phase shift diff (rad)": 0.9003139985586652,
          "Photon energy (eV)": 14.3,
          "Polar ang (deg)": 10.8861981074856,
          "Polar ang (rad)": 0.18999999999999928
         },
         {
          "Config": "sum[m]",
          "KE (eV)": "04.0",
          "Phase shift diff (deg)": 51.652784402384,
          "Phase shift diff (rad)": 0.9015111556443723,
          "Photon energy (eV)": 14.3,
          "Polar ang (deg)": 11.4591559026165,
          "Polar ang (rad)": 0.2000000000000006
         },
         {
          "Config": "sum[m]",
          "KE (eV)": "04.0",
          "Phase shift diff (deg)": 51.7252459876969,
          "Phase shift diff (rad)": 0.9027758488892973,
          "Photon energy (eV)": 14.3,
          "Polar ang (deg)": 12.0321136977473,
          "Polar ang (rad)": 0.21000000000000024
         },
         {
          "Config": "sum[m]",
          "KE (eV)": "04.0",
          "Phase shift diff (deg)": 51.8016320331017,
          "Phase shift diff (rad)": 0.9041090368841888,
          "Photon energy (eV)": 14.3,
          "Polar ang (deg)": 12.6050714928781,
          "Polar ang (rad)": 0.21999999999999978
         },
         {
          "Config": "sum[m]",
          "KE (eV)": "04.0",
          "Phase shift diff (deg)": 51.8820006700756,
          "Phase shift diff (rad)": 0.9055117342147234,
          "Photon energy (eV)": 14.3,
          "Polar ang (deg)": 13.1780292880089,
          "Polar ang (rad)": 0.22999999999999943
         },
         {
          "Config": "sum[m]",
          "KE (eV)": "04.0",
          "Phase shift diff (deg)": 51.966413317602,
          "Phase shift diff (rad)": 0.9069850128443846,
          "Photon energy (eV)": 14.3,
          "Polar ang (deg)": 13.7509870831398,
          "Polar ang (rad)": 0.2400000000000007
         },
         {
          "Config": "sum[m]",
          "KE (eV)": "04.0",
          "Phase shift diff (deg)": 52.0549347659128,
          "Phase shift diff (rad)": 0.908530003576042,
          "Photon energy (eV)": 14.3,
          "Polar ang (deg)": 14.3239448782706,
          "Polar ang (rad)": 0.25000000000000033
         },
         {
          "Config": "sum[m]",
          "KE (eV)": "04.0",
          "Phase shift diff (deg)": 52.1476332648433,
          "Phase shift diff (rad)": 0.9101478975940358,
          "Photon energy (eV)": 14.3,
          "Polar ang (deg)": 14.8969026734014,
          "Polar ang (rad)": 0.2599999999999999
         },
         {
          "Config": "sum[m]",
          "KE (eV)": "04.0",
          "Phase shift diff (deg)": 52.2445806169023,
          "Phase shift diff (rad)": 0.9118399480885554,
          "Photon energy (eV)": 14.3,
          "Polar ang (deg)": 15.4698604685322,
          "Polar ang (rad)": 0.2699999999999995
         },
         {
          "Config": "sum[m]",
          "KE (eV)": "04.0",
          "Phase shift diff (deg)": 52.3458522751627,
          "Phase shift diff (rad)": 0.9136074719641539,
          "Photon energy (eV)": 14.3,
          "Polar ang (deg)": 16.0428182636631,
          "Polar ang (rad)": 0.28000000000000086
         },
         {
          "Config": "sum[m]",
          "KE (eV)": "04.0",
          "Phase shift diff (deg)": 52.4515274460761,
          "Phase shift diff (rad)": 0.9154518516342004,
          "Photon energy (eV)": 14.3,
          "Polar ang (deg)": 16.6157760587939,
          "Polar ang (rad)": 0.2900000000000005
         },
         {
          "Config": "sum[m]",
          "KE (eV)": "04.0",
          "Phase shift diff (deg)": 52.5616891973148,
          "Phase shift diff (rad)": 0.9173745369030787,
          "Photon energy (eV)": 14.3,
          "Polar ang (deg)": 17.1887338539247,
          "Polar ang (rad)": 0.3
         },
         {
          "Config": "sum[m]",
          "KE (eV)": "04.0",
          "Phase shift diff (deg)": 52.6764245707407,
          "Phase shift diff (rad)": 0.9193770469378659,
          "Photon energy (eV)": 14.3,
          "Polar ang (deg)": 17.7616916490555,
          "Polar ang (rad)": 0.30999999999999966
         },
         {
          "Config": "sum[m]",
          "KE (eV)": "04.0",
          "Phase shift diff (deg)": 52.7958247005994,
          "Phase shift diff (rad)": 0.9214609723312089,
          "Photon energy (eV)": 14.3,
          "Polar ang (deg)": 18.3346494441863,
          "Polar ang (rad)": 0.31999999999999923
         },
         {
          "Config": "sum[m]",
          "KE (eV)": "04.0",
          "Phase shift diff (deg)": 52.9199849370286,
          "Phase shift diff (rad)": 0.923627977256953,
          "Photon energy (eV)": 14.3,
          "Polar ang (deg)": 18.9076072393172,
          "Polar ang (rad)": 0.3300000000000006
         },
         {
          "Config": "sum[m]",
          "KE (eV)": "04.0",
          "Phase shift diff (deg)": 53.049004974966,
          "Phase shift diff (rad)": 0.9258798017200087,
          "Photon energy (eV)": 14.3,
          "Polar ang (deg)": 19.480565034448,
          "Polar ang (rad)": 0.3400000000000002
         },
         {
          "Config": "sum[m]",
          "KE (eV)": "04.0",
          "Phase shift diff (deg)": 53.1829889885324,
          "Phase shift diff (rad)": 0.9282182639017792,
          "Photon energy (eV)": 14.3,
          "Polar ang (deg)": 20.0535228295788,
          "Polar ang (rad)": 0.34999999999999976
         },
         {
          "Config": "sum[m]",
          "KE (eV)": "04.0",
          "Phase shift diff (deg)": 53.3220457709517,
          "Phase shift diff (rad)": 0.9306452626022254,
          "Photon energy (eV)": 14.3,
          "Polar ang (deg)": 20.6264806247096,
          "Polar ang (rad)": 0.3599999999999994
         },
         {
          "Config": "sum[m]",
          "KE (eV)": "04.0",
          "Phase shift diff (deg)": 53.4662888800586,
          "Phase shift diff (rad)": 0.9331627797794542,
          "Photon energy (eV)": 14.3,
          "Polar ang (deg)": 21.1994384198405,
          "Polar ang (rad)": 0.3700000000000007
         },
         {
          "Config": "sum[m]",
          "KE (eV)": "04.0",
          "Phase shift diff (deg)": 53.615836789425,
          "Phase shift diff (rad)": 0.935772883187372,
          "Photon energy (eV)": 14.3,
          "Polar ang (deg)": 21.7723962149713,
          "Polar ang (rad)": 0.38000000000000034
         },
         {
          "Config": "sum[m]",
          "KE (eV)": "04.0",
          "Phase shift diff (deg)": 53.770813045118,
          "Phase shift diff (rad)": 0.9384777291116274,
          "Photon energy (eV)": 14.3,
          "Polar ang (deg)": 22.3453540101021,
          "Polar ang (rad)": 0.3899999999999999
         },
         {
          "Config": "sum[m]",
          "KE (eV)": "04.0",
          "Phase shift diff (deg)": 53.9313464280755,
          "Phase shift diff (rad)": 0.9412795652036007,
          "Photon energy (eV)": 14.3,
          "Polar ang (deg)": 22.9183118052329,
          "Polar ang (rad)": 0.39999999999999947
         },
         {
          "Config": "sum[m]",
          "KE (eV)": "04.0",
          "Phase shift diff (deg)": 54.0975711220578,
          "Phase shift diff (rad)": 0.9441807334117118,
          "Photon energy (eV)": 14.3,
          "Polar ang (deg)": 23.4912696003638,
          "Polar ang (rad)": 0.41000000000000086
         },
         {
          "Config": "sum[m]",
          "KE (eV)": "04.0",
          "Phase shift diff (deg)": 54.2696268871007,
          "Phase shift diff (rad)": 0.9471836730087482,
          "Photon energy (eV)": 14.3,
          "Polar ang (deg)": 24.0642273954946,
          "Polar ang (rad)": 0.4200000000000005
         },
         {
          "Config": "sum[m]",
          "KE (eV)": "04.0",
          "Phase shift diff (deg)": 54.4476592383533,
          "Phase shift diff (rad)": 0.9502909237131731,
          "Photon energy (eV)": 14.3,
          "Polar ang (deg)": 24.6371851906254,
          "Polar ang (rad)": 0.43000000000000005
         },
         {
          "Config": "sum[m]",
          "KE (eV)": "04.0",
          "Phase shift diff (deg)": 54.6318196301412,
          "Phase shift diff (rad)": 0.9535051289016347,
          "Photon energy (eV)": 14.3,
          "Polar ang (deg)": 25.2101429857562,
          "Polar ang (rad)": 0.43999999999999956
         },
         {
          "Config": "sum[m]",
          "KE (eV)": "04.0",
          "Phase shift diff (deg)": 54.8222656450402,
          "Phase shift diff (rad)": 0.9568290389089242,
          "Photon energy (eV)": 14.3,
          "Polar ang (deg)": 25.783100780887,
          "Polar ang (rad)": 0.44999999999999923
         },
         {
          "Config": "sum[m]",
          "KE (eV)": "04.0",
          "Phase shift diff (deg)": 55.0191611876861,
          "Phase shift diff (rad)": 0.9602655144105963,
          "Photon energy (eV)": 14.3,
          "Polar ang (deg)": 26.3560585760179,
          "Polar ang (rad)": 0.4600000000000006
         },
         {
          "Config": "sum[m]",
          "KE (eV)": "04.0",
          "Phase shift diff (deg)": 55.2226766829758,
          "Phase shift diff (rad)": 0.9638175298822286,
          "Photon energy (eV)": 14.3,
          "Polar ang (deg)": 26.9290163711487,
          "Polar ang (rad)": 0.47000000000000014
         },
         {
          "Config": "sum[m]",
          "KE (eV)": "04.0",
          "Phase shift diff (deg)": 55.4329892782337,
          "Phase shift diff (rad)": 0.967488177127893,
          "Photon energy (eV)": 14.3,
          "Polar ang (deg)": 27.5019741662795,
          "Polar ang (rad)": 0.4799999999999997
         },
         {
          "Config": "sum[m]",
          "KE (eV)": "04.0",
          "Phase shift diff (deg)": 55.6502830488288,
          "Phase shift diff (rad)": 0.9712806688688509,
          "Photon energy (eV)": 14.3,
          "Polar ang (deg)": 28.0749319614103,
          "Polar ang (rad)": 0.4899999999999993
         },
         {
          "Config": "sum[m]",
          "KE (eV)": "04.0",
          "Phase shift diff (deg)": 55.8747492066193,
          "Phase shift diff (rad)": 0.9751983423815962,
          "Photon energy (eV)": 14.3,
          "Polar ang (deg)": 28.6478897565412,
          "Polar ang (rad)": 0.5000000000000007
         },
         {
          "Config": "sum[m]",
          "KE (eV)": "04.0",
          "Phase shift diff (deg)": 56.1065863104879,
          "Phase shift diff (rad)": 0.9792446631723912,
          "Photon energy (eV)": 14.3,
          "Polar ang (deg)": 29.220847551672,
          "Polar ang (rad)": 0.5100000000000002
         },
         {
          "Config": "sum[m]",
          "KE (eV)": "04.0",
          "Phase shift diff (deg)": 56.3460004780938,
          "Phase shift diff (rad)": 0.9834232286730359,
          "Photon energy (eV)": 14.3,
          "Polar ang (deg)": 29.7938053468028,
          "Polar ang (rad)": 0.5199999999999998
         },
         {
          "Config": "sum[m]",
          "KE (eV)": "04.0",
          "Phase shift diff (deg)": 56.5932055978175,
          "Phase shift diff (rad)": 0.9877377719400012,
          "Photon energy (eV)": 14.3,
          "Polar ang (deg)": 30.3667631419336,
          "Polar ang (rad)": 0.5299999999999995
         },
         {
          "Config": "sum[m]",
          "KE (eV)": "04.0",
          "Phase shift diff (deg)": 56.8484235397033,
          "Phase shift diff (rad)": 0.9921921653360719,
          "Photon energy (eV)": 14.3,
          "Polar ang (deg)": 30.9397209370645,
          "Polar ang (rad)": 0.5400000000000008
         },
         {
          "Config": "sum[m]",
          "KE (eV)": "04.0",
          "Phase shift diff (deg)": 57.1118843640124,
          "Phase shift diff (rad)": 0.996790424170284,
          "Photon energy (eV)": 14.3,
          "Polar ang (deg)": 31.5126787321953,
          "Polar ang (rad)": 0.5500000000000004
         },
         {
          "Config": "sum[m]",
          "KE (eV)": "04.0",
          "Phase shift diff (deg)": 57.3838265257835,
          "Phase shift diff (rad)": 1.0015367102681807,
          "Photon energy (eV)": 14.3,
          "Polar ang (deg)": 32.0856365273261,
          "Polar ang (rad)": 0.56
         },
         {
          "Config": "sum[m]",
          "KE (eV)": "04.0",
          "Phase shift diff (deg)": 57.6644970735569,
          "Phase shift diff (rad)": 1.0064353354402027,
          "Photon energy (eV)": 14.3,
          "Polar ang (deg)": 32.6585943224569,
          "Polar ang (rad)": 0.5699999999999995
         },
         {
          "Config": "sum[m]",
          "KE (eV)": "04.0",
          "Phase shift diff (deg)": 57.9541518401469,
          "Phase shift diff (rad)": 1.0114907648112939,
          "Photon energy (eV)": 14.3,
          "Polar ang (deg)": 33.2315521175877,
          "Polar ang (rad)": 0.5799999999999991
         },
         {
          "Config": "sum[m]",
          "KE (eV)": "04.0",
          "Phase shift diff (deg)": 58.2530556230469,
          "Phase shift diff (rad)": 1.0167076199695653,
          "Photon energy (eV)": 14.3,
          "Polar ang (deg)": 33.8045099127186,
          "Polar ang (rad)": 0.5900000000000005
         },
         {
          "Config": "sum[m]",
          "KE (eV)": "04.0",
          "Phase shift diff (deg)": 58.5614823517164,
          "Phase shift diff (rad)": 1.0220906818860032,
          "Photon energy (eV)": 14.3,
          "Polar ang (deg)": 34.3774677078494,
          "Polar ang (rad)": 0.6
         },
         {
          "Config": "sum[m]",
          "KE (eV)": "04.0",
          "Phase shift diff (deg)": 58.8797152386272,
          "Phase shift diff (rad)": 1.0276448935507234,
          "Photon energy (eV)": 14.3,
          "Polar ang (deg)": 34.9504255029802,
          "Polar ang (rad)": 0.6099999999999998
         },
         {
          "Config": "sum[m]",
          "KE (eV)": "04.0",
          "Phase shift diff (deg)": 59.2080469105345,
          "Phase shift diff (rad)": 1.0333753622640836,
          "Photon energy (eV)": 14.3,
          "Polar ang (deg)": 35.523383298111,
          "Polar ang (rad)": 0.6199999999999993
         },
         {
          "Config": "sum[m]",
          "KE (eV)": "04.0",
          "Phase shift diff (deg)": 59.5467795159867,
          "Phase shift diff (rad)": 1.0392873615130833,
          "Photon energy (eV)": 14.3,
          "Polar ang (deg)": 36.0963410932419,
          "Polar ang (rad)": 0.6300000000000006
         },
         {
          "Config": "sum[m]",
          "KE (eV)": "04.0",
          "Phase shift diff (deg)": 59.8962248045859,
          "Phase shift diff (rad)": 1.0453863323547212,
          "Photon energy (eV)": 14.3,
          "Polar ang (deg)": 36.6692988883727,
          "Polar ang (rad)": 0.6400000000000002
         },
         {
          "Config": "sum[m]",
          "KE (eV)": "04.0",
          "Phase shift diff (deg)": 60.2567041729675,
          "Phase shift diff (rad)": 1.0516778842184897,
          "Photon energy (eV)": 14.3,
          "Polar ang (deg)": 37.2422566835035,
          "Polar ang (rad)": 0.6499999999999998
         },
         {
          "Config": "sum[m]",
          "KE (eV)": "04.0",
          "Phase shift diff (deg)": 60.6285486718689,
          "Phase shift diff (rad)": 1.0581677950297474,
          "Photon energy (eV)": 14.3,
          "Polar ang (deg)": 37.8152144786343,
          "Polar ang (rad)": 0.6599999999999995
         },
         {
          "Config": "sum[m]",
          "KE (eV)": "04.0",
          "Phase shift diff (deg)": 61.0120989680089,
          "Phase shift diff (rad)": 1.0648620105443898,
          "Photon energy (eV)": 14.3,
          "Polar ang (deg)": 38.3881722737652,
          "Polar ang (rad)": 0.6700000000000008
         },
         {
          "Config": "sum[m]",
          "KE (eV)": "04.0",
          "Phase shift diff (deg)": 61.4077052537986,
          "Phase shift diff (rad)": 1.0717666427730057,
          "Photon energy (eV)": 14.3,
          "Polar ang (deg)": 38.961130068896,
          "Polar ang (rad)": 0.6800000000000004
         },
         {
          "Config": "sum[m]",
          "KE (eV)": "04.0",
          "Phase shift diff (deg)": 61.8157270971495,
          "Phase shift diff (rad)": 1.0788879673595353,
          "Photon energy (eV)": 14.3,
          "Polar ang (deg)": 39.5340878640268,
          "Polar ang (rad)": 0.69
         },
         {
          "Config": "sum[m]",
          "KE (eV)": "04.0",
          "Phase shift diff (deg)": 62.2365332228354,
          "Phase shift diff (rad)": 1.0862324197653153,
          "Photon energy (eV)": 14.3,
          "Polar ang (deg)": 40.1070456591576,
          "Polar ang (rad)": 0.6999999999999995
         },
         {
          "Config": "sum[m]",
          "KE (eV)": "04.0",
          "Phase shift diff (deg)": 62.6705012160105,
          "Phase shift diff (rad)": 1.093806590094493,
          "Photon energy (eV)": 14.3,
          "Polar ang (deg)": 40.6800034542884,
          "Polar ang (rad)": 0.7099999999999992
         },
         {
          "Config": "sum[m]",
          "KE (eV)": "04.0",
          "Phase shift diff (deg)": 63.1180171375771,
          "Phase shift diff (rad)": 1.101617216380927,
          "Photon energy (eV)": 14.3,
          "Polar ang (deg)": 41.2529612494193,
          "Polar ang (rad)": 0.7200000000000004
         },
         {
          "Config": "sum[m]",
          "KE (eV)": "04.0",
          "Phase shift diff (deg)": 63.579475040159,
          "Phase shift diff (rad)": 1.1096711761403286,
          "Photon energy (eV)": 14.3,
          "Polar ang (deg)": 41.8259190445501,
          "Polar ang (rad)": 0.73
         },
         {
          "Config": "sum[m]",
          "KE (eV)": "04.0",
          "Phase shift diff (deg)": 64.0552763724572,
          "Phase shift diff (rad)": 1.1179754759743077,
          "Photon energy (eV)": 14.3,
          "Polar ang (deg)": 42.3988768396809,
          "Polar ang (rad)": 0.7399999999999998
         },
         {
          "Config": "sum[m]",
          "KE (eV)": "04.0",
          "Phase shift diff (deg)": 64.5458292587775,
          "Phase shift diff (rad)": 1.1265372389957584,
          "Photon energy (eV)": 14.3,
          "Polar ang (deg)": 42.9718346348117,
          "Polar ang (rad)": 0.7499999999999992
         },
         {
          "Config": "sum[m]",
          "KE (eV)": "04.0",
          "Phase shift diff (deg)": 65.0515476395255,
          "Phase shift diff (rad)": 1.1353636898276651,
          "Photon energy (eV)": 14.3,
          "Polar ang (deg)": 43.5447924299426,
          "Polar ang (rad)": 0.7600000000000007
         },
         {
          "Config": "sum[m]",
          "KE (eV)": "04.0",
          "Phase shift diff (deg)": 65.5728502574941,
          "Phase shift diff (rad)": 1.1444621369104835,
          "Photon energy (eV)": 14.3,
          "Polar ang (deg)": 44.1177502250734,
          "Polar ang (rad)": 0.7700000000000002
         },
         {
          "Config": "sum[m]",
          "KE (eV)": "04.0",
          "Phase shift diff (deg)": 66.110159473847,
          "Phase shift diff (rad)": 1.1538399518371523,
          "Photon energy (eV)": 14.3,
          "Polar ang (deg)": 44.6907080202042,
          "Polar ang (rad)": 0.7799999999999998
         },
         {
          "Config": "sum[m]",
          "KE (eV)": "04.0",
          "Phase shift diff (deg)": 66.66389989686,
          "Phase shift diff (rad)": 1.1635045454201152,
          "Photon energy (eV)": 14.3,
          "Polar ang (deg)": 45.263665815335,
          "Polar ang (rad)": 0.7899999999999994
         },
         {
          "Config": "sum[m]",
          "KE (eV)": "04.0",
          "Phase shift diff (deg)": 67.2344968057647,
          "Phase shift diff (rad)": 1.1734633401822046,
          "Photon energy (eV)": 14.3,
          "Polar ang (deg)": 45.8366236104659,
          "Polar ang (rad)": 0.8000000000000007
         },
         {
          "Config": "sum[m]",
          "KE (eV)": "04.0",
          "Phase shift diff (deg)": 67.8223743514979,
          "Phase shift diff (rad)": 1.1837237389537922,
          "Photon energy (eV)": 14.3,
          "Polar ang (deg)": 46.4095814055967,
          "Polar ang (rad)": 0.8100000000000003
         },
         {
          "Config": "sum[m]",
          "KE (eV)": "04.0",
          "Phase shift diff (deg)": 68.4279535158409,
          "Phase shift diff (rad)": 1.1942930892530534,
          "Photon energy (eV)": 14.3,
          "Polar ang (deg)": 46.9825392007275,
          "Polar ang (rad)": 0.82
         },
         {
          "Config": "sum[m]",
          "KE (eV)": "04.0",
          "Phase shift diff (deg)": 69.0516498104213,
          "Phase shift diff (rad)": 1.20517864312597,
          "Photon energy (eV)": 14.3,
          "Polar ang (deg)": 47.5554969958583,
          "Polar ang (rad)": 0.8299999999999995
         },
         {
          "Config": "sum[m]",
          "KE (eV)": "04.0",
          "Phase shift diff (deg)": 69.6938706974101,
          "Phase shift diff (rad)": 1.216387512129003,
          "Photon energy (eV)": 14.3,
          "Polar ang (deg)": 48.1284547909891,
          "Polar ang (rad)": 0.8399999999999992
         },
         {
          "Config": "sum[m]",
          "KE (eV)": "04.0",
          "Phase shift diff (deg)": 70.3550127145671,
          "Phase shift diff (rad)": 1.2279266171516694,
          "Photon energy (eV)": 14.3,
          "Polar ang (deg)": 48.70141258612,
          "Polar ang (rad)": 0.8500000000000005
         },
         {
          "Config": "sum[m]",
          "KE (eV)": "04.0",
          "Phase shift diff (deg)": 71.0354582886742,
          "Phase shift diff (rad)": 1.2398026328004614,
          "Photon energy (eV)": 14.3,
          "Polar ang (deg)": 49.2743703812508,
          "Polar ang (rad)": 0.8600000000000001
         },
         {
          "Config": "sum[m]",
          "KE (eV)": "04.0",
          "Phase shift diff (deg)": 71.7355722234403,
          "Phase shift diff (rad)": 1.2520219261012226,
          "Photon energy (eV)": 14.3,
          "Polar ang (deg)": 49.8473281763816,
          "Polar ang (rad)": 0.8699999999999997
         },
         {
          "Config": "sum[m]",
          "KE (eV)": "04.0",
          "Phase shift diff (deg)": 72.4556978507845,
          "Phase shift diff (rad)": 1.2645904893263686,
          "Photon energy (eV)": 14.3,
          "Polar ang (deg)": 50.4202859715125,
          "Polar ang (rad)": 0.8800000000000009
         },
         {
          "Config": "sum[m]",
          "KE (eV)": "04.0",
          "Phase shift diff (deg)": 73.1961528381145,
          "Phase shift diff (rad)": 1.27751386681809,
          "Photon energy (eV)": 14.3,
          "Polar ang (deg)": 50.9932437666433,
          "Polar ang (rad)": 0.8900000000000007
         },
         {
          "Config": "sum[m]",
          "KE (eV)": "04.0",
          "Phase shift diff (deg)": 73.9572246489258,
          "Phase shift diff (rad)": 1.2907970757608627,
          "Photon energy (eV)": 14.3,
          "Polar ang (deg)": 51.5662015617741,
          "Polar ang (rad)": 0.9000000000000001
         },
         {
          "Config": "sum[m]",
          "KE (eV)": "04.0",
          "Phase shift diff (deg)": 74.7391656598635,
          "Phase shift diff (rad)": 1.3044445209580984,
          "Photon energy (eV)": 14.3,
          "Polar ang (deg)": 52.1391593569049,
          "Polar ang (rad)": 0.9099999999999997
         },
         {
          "Config": "sum[m]",
          "KE (eV)": "04.0",
          "Phase shift diff (deg)": 75.5421879443969,
          "Phase shift diff (rad)": 1.318459903790093,
          "Photon energy (eV)": 14.3,
          "Polar ang (deg)": 52.7121171520357,
          "Polar ang (rad)": 0.9199999999999995
         },
         {
          "Config": "sum[m]",
          "KE (eV)": "04.0",
          "Phase shift diff (deg)": 76.3664577415274,
          "Phase shift diff (rad)": 1.332846125674766,
          "Photon energy (eV)": 14.3,
          "Polar ang (deg)": 53.2850749471666,
          "Polar ang (rad)": 0.9300000000000007
         },
         {
          "Config": "sum[m]",
          "KE (eV)": "04.0",
          "Phase shift diff (deg)": 77.2120896375107,
          "Phase shift diff (rad)": 1.3476051865195566,
          "Photon energy (eV)": 14.3,
          "Polar ang (deg)": 53.8580327422974,
          "Polar ang (rad)": 0.9400000000000003
         },
         {
          "Config": "sum[m]",
          "KE (eV)": "04.0",
          "Phase shift diff (deg)": 78.0791404994121,
          "Phase shift diff (rad)": 1.362738078841991,
          "Photon energy (eV)": 14.3,
          "Polar ang (deg)": 54.4309905374282,
          "Polar ang (rad)": 0.9499999999999998
         },
         {
          "Config": "sum[m]",
          "KE (eV)": "04.0",
          "Phase shift diff (deg)": 78.9676032113427,
          "Phase shift diff (rad)": 1.3782446784463778,
          "Photon energy (eV)": 14.3,
          "Polar ang (deg)": 55.003948332559,
          "Polar ang (rad)": 0.9599999999999994
         },
         {
          "Config": "sum[m]",
          "KE (eV)": "04.0",
          "Phase shift diff (deg)": 79.8774002773128,
          "Phase shift diff (rad)": 1.3941236327725401,
          "Photon energy (eV)": 14.3,
          "Polar ang (deg)": 55.5769061276899,
          "Polar ang (rad)": 0.9700000000000009
         },
         {
          "Config": "sum[m]",
          "KE (eV)": "04.0",
          "Phase shift diff (deg)": 80.808377368518,
          "Phase shift diff (rad)": 1.4103722482747103,
          "Photon energy (eV)": 14.3,
          "Polar ang (deg)": 56.1498639228207,
          "Polar ang (rad)": 0.9800000000000004
         },
         {
          "Config": "sum[m]",
          "KE (eV)": "04.0",
          "Phase shift diff (deg)": 81.7602969072349,
          "Phase shift diff (rad)": 1.426986378439386,
          "Photon energy (eV)": 14.3,
          "Polar ang (deg)": 56.7228217179515,
          "Polar ang (rad)": 0.99
         },
         {
          "Config": "sum[m]",
          "KE (eV)": "04.0",
          "Phase shift diff (deg)": 82.7328317938776,
          "Phase shift diff (rad)": 1.4439603143018107,
          "Photon energy (eV)": 14.3,
          "Polar ang (deg)": 57.2957795130823,
          "Polar ang (rad)": 0.9999999999999997
         },
         {
          "Config": "sum[m]",
          "KE (eV)": "04.0",
          "Phase shift diff (deg)": 83.7255593976028,
          "Phase shift diff (rad)": 1.461286679562249,
          "Photon energy (eV)": 14.3,
          "Polar ang (deg)": 57.8687373082132,
          "Polar ang (rad)": 1.010000000000001
         },
         {
          "Config": "sum[m]",
          "KE (eV)": "04.0",
          "Phase shift diff (deg)": 84.7379559434896,
          "Phase shift diff (rad)": 1.4789563326237916,
          "Photon energy (eV)": 14.3,
          "Polar ang (deg)": 58.441695103344,
          "Polar ang (rad)": 1.0200000000000005
         },
         {
          "Config": "sum[m]",
          "KE (eV)": "04.0",
          "Phase shift diff (deg)": 85.7693914399881,
          "Phase shift diff (rad)": 1.4969582780596329,
          "Photon energy (eV)": 14.3,
          "Polar ang (deg)": 59.0146528984748,
          "Polar ang (rad)": 1.03
         },
         {
          "Config": "sum[m]",
          "KE (eV)": "04.0",
          "Phase shift diff (deg)": 86.8191252982109,
          "Phase shift diff (rad)": 1.5152795901552842,
          "Photon energy (eV)": 14.3,
          "Polar ang (deg)": 59.5876106936056,
          "Polar ang (rad)": 1.0399999999999996
         },
         {
          "Config": "sum[m]",
          "KE (eV)": "04.0",
          "Phase shift diff (deg)": 87.8863027988616,
          "Phase shift diff (rad)": 1.5339053512448426,
          "Photon energy (eV)": 14.3,
          "Polar ang (deg)": 60.1605684887364,
          "Polar ang (rad)": 1.0499999999999994
         },
         {
          "Config": "sum[m]",
          "KE (eV)": "04.0",
          "Phase shift diff (deg)": 88.9699525623086,
          "Phase shift diff (rad)": 1.5528186075554504,
          "Photon energy (eV)": 14.3,
          "Polar ang (deg)": 60.7335262838673,
          "Polar ang (rad)": 1.0600000000000007
         },
         {
          "Config": "sum[m]",
          "KE (eV)": "04.0",
          "Phase shift diff (deg)": 90.0689851717418,
          "Phase shift diff (rad)": 1.5720003451768445,
          "Photon energy (eV)": 14.3,
          "Polar ang (deg)": 61.3064840789981,
          "Polar ang (rad)": 1.0700000000000003
         },
         {
          "Config": "sum[m]",
          "KE (eV)": "04.0",
          "Phase shift diff (deg)": 91.1821930878623,
          "Phase shift diff (rad)": 1.5914294885724125,
          "Photon energy (eV)": 14.3,
          "Polar ang (deg)": 61.8794418741289,
          "Polar ang (rad)": 1.0799999999999998
         },
         {
          "Config": "sum[m]",
          "KE (eV)": "04.0",
          "Phase shift diff (deg)": 92.3082519757289,
          "Phase shift diff (rad)": 1.61108292373703,
          "Photon energy (eV)": 14.3,
          "Polar ang (deg)": 62.4523996692597,
          "Polar ang (rad)": 1.0899999999999994
         },
         {
          "Config": "sum[m]",
          "KE (eV)": "04.0",
          "Phase shift diff (deg)": 93.4457235400837,
          "Phase shift diff (rad)": 1.6309355476828322,
          "Photon energy (eV)": 14.3,
          "Polar ang (deg)": 63.0253574643906,
          "Polar ang (rad)": 1.1000000000000008
         },
         {
          "Config": "sum[m]",
          "KE (eV)": "04.0",
          "Phase shift diff (deg)": 94.5930599349082,
          "Phase shift diff (rad)": 1.6509603454004809,
          "Photon energy (eV)": 14.3,
          "Polar ang (deg)": 63.5983152595214,
          "Polar ang (rad)": 1.1100000000000003
         },
         {
          "Config": "sum[m]",
          "KE (eV)": "04.0",
          "Phase shift diff (deg)": 95.7486097767303,
          "Phase shift diff (rad)": 1.6711284948111764,
          "Photon energy (eV)": 14.3,
          "Polar ang (deg)": 64.1712730546522,
          "Polar ang (rad)": 1.12
         },
         {
          "Config": "sum[m]",
          "KE (eV)": "04.0",
          "Phase shift diff (deg)": 96.910625750305,
          "Phase shift diff (rad)": 1.6914094995108222,
          "Photon energy (eV)": 14.3,
          "Polar ang (deg)": 64.744230849783,
          "Polar ang (rad)": 1.1299999999999994
         },
         {
          "Config": "sum[m]",
          "KE (eV)": "04.0",
          "Phase shift diff (deg)": 98.0772737511462,
          "Phase shift diff (rad)": 1.7117713483373107,
          "Photon energy (eV)": 14.3,
          "Polar ang (deg)": 65.3171886449139,
          "Polar ang (rad)": 1.1400000000000008
         },
         {
          "Config": "sum[m]",
          "KE (eV)": "04.0",
          "Phase shift diff (deg)": 99.2466434637364,
          "Phase shift diff (rad)": 1.7321806999951095,
          "Photon energy (eV)": 14.3,
          "Polar ang (deg)": 65.8901464400447,
          "Polar ang (rad)": 1.1500000000000006
         },
         {
          "Config": "sum[m]",
          "KE (eV)": "04.0",
          "Phase shift diff (deg)": 100.416760229111,
          "Phase shift diff (rad)": 1.7526030901836827,
          "Photon energy (eV)": 14.3,
          "Polar ang (deg)": 66.4631042351755,
          "Polar ang (rad)": 1.1600000000000004
         },
         {
          "Config": "sum[m]",
          "KE (eV)": "04.0",
          "Phase shift diff (deg)": 101.58559801306,
          "Phase shift diff (rad)": 1.7730031579353063,
          "Photon energy (eV)": 14.3,
          "Polar ang (deg)": 67.0360620303063,
          "Polar ang (rad)": 1.1699999999999997
         },
         {
          "Config": "sum[m]",
          "KE (eV)": "04.0",
          "Phase shift diff (deg)": 102.751093248568,
          "Phase shift diff (rad)": 1.7933448872112276,
          "Photon energy (eV)": 14.3,
          "Polar ang (deg)": 67.6090198254371,
          "Polar ang (rad)": 1.1799999999999995
         },
         {
          "Config": "sum[m]",
          "KE (eV)": "04.0",
          "Phase shift diff (deg)": 103.91115929539,
          "Phase shift diff (rad)": 1.8135918592688662,
          "Photon energy (eV)": 14.3,
          "Polar ang (deg)": 68.181977620568,
          "Polar ang (rad)": 1.1900000000000006
         },
         {
          "Config": "sum[m]",
          "KE (eV)": "04.0",
          "Phase shift diff (deg)": 105.063701237421,
          "Phase shift diff (rad)": 1.8337075109246372,
          "Photon energy (eV)": 14.3,
          "Polar ang (deg)": 68.7549354156988,
          "Polar ang (rad)": 1.2
         },
         {
          "Config": "sum[m]",
          "KE (eV)": "04.0",
          "Phase shift diff (deg)": 106.206630726201,
          "Phase shift diff (rad)": 1.8536553936219837,
          "Photon energy (eV)": 14.3,
          "Polar ang (deg)": 69.3278932108296,
          "Polar ang (rad)": 1.2099999999999997
         },
         {
          "Config": "sum[m]",
          "KE (eV)": "04.0",
          "Phase shift diff (deg)": 107.337880577037,
          "Phase shift diff (rad)": 1.8733994281817665,
          "Photon energy (eV)": 14.3,
          "Polar ang (deg)": 69.9008510059604,
          "Polar ang (rad)": 1.2199999999999995
         },
         {
          "Config": "sum[m]",
          "KE (eV)": "04.0",
          "Phase shift diff (deg)": 108.455418833064,
          "Phase shift diff (rad)": 1.8929041502664332,
          "Photon energy (eV)": 14.3,
          "Polar ang (deg)": 70.4738088010913,
          "Polar ang (rad)": 1.2300000000000006
         },
         {
          "Config": "sum[m]",
          "KE (eV)": "04.0",
          "Phase shift diff (deg)": 109.557262031551,
          "Phase shift diff (rad)": 1.9121349419207367,
          "Photon energy (eV)": 14.3,
          "Polar ang (deg)": 71.0467665962221,
          "Polar ang (rad)": 1.2400000000000004
         },
         {
          "Config": "sum[m]",
          "KE (eV)": "04.0",
          "Phase shift diff (deg)": 110.641487434762,
          "Phase shift diff (rad)": 1.9310582450405318,
          "Photon energy (eV)": 14.3,
          "Polar ang (deg)": 71.6197243913529,
          "Polar ang (rad)": 1.25
         },
         {
          "Config": "sum[m]",
          "KE (eV)": "04.0",
          "Phase shift diff (deg)": 111.706244023258,
          "Phase shift diff (rad)": 1.949641753242089,
          "Photon energy (eV)": 14.3,
          "Polar ang (deg)": 72.1926821864837,
          "Polar ang (rad)": 1.2599999999999993
         },
         {
          "Config": "sum[m]",
          "KE (eV)": "04.0",
          "Phase shift diff (deg)": 112.749762090622,
          "Phase shift diff (rad)": 1.967854579321639,
          "Photon energy (eV)": 14.3,
          "Polar ang (deg)": 72.7656399816146,
          "Polar ang (rad)": 1.270000000000001
         },
         {
          "Config": "sum[m]",
          "KE (eV)": "04.0",
          "Phase shift diff (deg)": 113.770361323147,
          "Phase shift diff (rad)": 1.9856673962725278,
          "Photon energy (eV)": 14.3,
          "Polar ang (deg)": 73.3385977767454,
          "Polar ang (rad)": 1.2800000000000005
         },
         {
          "Config": "sum[m]",
          "KE (eV)": "04.0",
          "Phase shift diff (deg)": 114.766457293922,
          "Phase shift diff (rad)": 2.0030525506284005,
          "Photon energy (eV)": 14.3,
          "Polar ang (deg)": 73.9115555718762,
          "Polar ang (rad)": 1.2900000000000003
         },
         {
          "Config": "sum[m]",
          "KE (eV)": "04.0",
          "Phase shift diff (deg)": 115.736566345711,
          "Phase shift diff (rad)": 2.019984147685519,
          "Photon energy (eV)": 14.3,
          "Polar ang (deg)": 74.484513367007,
          "Polar ang (rad)": 1.2999999999999996
         },
         {
          "Config": "sum[m]",
          "KE (eV)": "04.0",
          "Phase shift diff (deg)": 116.679308879482,
          "Phase shift diff (rad)": 2.0364381088984165,
          "Photon energy (eV)": 14.3,
          "Polar ang (deg)": 75.0574711621378,
          "Polar ang (rad)": 1.3099999999999994
         },
         {
          "Config": "sum[m]",
          "KE (eV)": "04.0",
          "Phase shift diff (deg)": 117.593411103549,
          "Phase shift diff (rad)": 2.0523922024081886,
          "Photon energy (eV)": 14.3,
          "Polar ang (deg)": 75.6304289572687,
          "Polar ang (rad)": 1.3200000000000007
         },
         {
          "Config": "sum[m]",
          "KE (eV)": "04.0",
          "Phase shift diff (deg)": 118.47770533119,
          "Phase shift diff (rad)": 2.0678260482369044,
          "Photon energy (eV)": 14.3,
          "Polar ang (deg)": 76.2033867523995,
          "Polar ang (rad)": 1.33
         },
         {
          "Config": "sum[m]",
          "KE (eV)": "04.0",
          "Phase shift diff (deg)": 119.331128941324,
          "Phase shift diff (rad)": 2.082721100147999,
          "Photon energy (eV)": 14.3,
          "Polar ang (deg)": 76.7763445475303,
          "Polar ang (rad)": 1.3399999999999999
         },
         {
          "Config": "sum[m]",
          "KE (eV)": "04.0",
          "Phase shift diff (deg)": 120.152722137204,
          "Phase shift diff (rad)": 2.0970606065280877,
          "Photon energy (eV)": 14.3,
          "Polar ang (deg)": 77.3493023426612,
          "Polar ang (rad)": 1.3500000000000012
         },
         {
          "Config": "sum[m]",
          "KE (eV)": "04.0",
          "Phase shift diff (deg)": 120.941624652008,
          "Phase shift diff (rad)": 2.110829552888681,
          "Photon energy (eV)": 14.3,
          "Polar ang (deg)": 77.922260137792,
          "Polar ang (rad)": 1.3600000000000008
         },
         {
          "Config": "sum[m]",
          "KE (eV)": "04.0",
          "Phase shift diff (deg)": 121.697071558108,
          "Phase shift diff (rad)": 2.12401458872413,
          "Photon energy (eV)": 14.3,
          "Polar ang (deg)": 78.4952179329228,
          "Polar ang (rad)": 1.3700000000000003
         },
         {
          "Config": "sum[m]",
          "KE (eV)": "04.0",
          "Phase shift diff (deg)": 122.418388339181,
          "Phase shift diff (rad)": 2.136603941503741,
          "Photon energy (eV)": 14.3,
          "Polar ang (deg)": 79.0681757280536,
          "Polar ang (rad)": 1.38
         },
         {
          "Config": "sum[m]",
          "KE (eV)": "04.0",
          "Phase shift diff (deg)": 123.10498538198,
          "Phase shift diff (rad)": 2.1485873205350403,
          "Photon energy (eV)": 14.3,
          "Polar ang (deg)": 79.6411335231844,
          "Polar ang (rad)": 1.3899999999999992
         },
         {
          "Config": "sum[m]",
          "KE (eV)": "04.0",
          "Phase shift diff (deg)": 123.756352038279,
          "Phase shift diff (rad)": 2.159955813325164,
          "Photon energy (eV)": 14.3,
          "Polar ang (deg)": 80.2140913183153,
          "Polar ang (rad)": 1.4000000000000008
         },
         {
          "Config": "sum[m]",
          "KE (eV)": "04.0",
          "Phase shift diff (deg)": 124.372050398201,
          "Phase shift diff (rad)": 2.1707017769049317,
          "Photon energy (eV)": 14.3,
          "Polar ang (deg)": 80.7870491134461,
          "Polar ang (rad)": 1.4100000000000006
         },
         {
          "Config": "sum[m]",
          "KE (eV)": "04.0",
          "Phase shift diff (deg)": 124.951708904589,
          "Phase shift diff (rad)": 2.1808187263785954,
          "Photon energy (eV)": 14.3,
          "Polar ang (deg)": 81.3600069085769,
          "Polar ang (rad)": 1.4200000000000002
         },
         {
          "Config": "sum[m]",
          "KE (eV)": "04.0",
          "Phase shift diff (deg)": 125.495015925125,
          "Phase shift diff (rad)": 2.190301222736149,
          "Photon energy (eV)": 14.3,
          "Polar ang (deg)": 81.9329647037077,
          "Polar ang (rad)": 1.4299999999999997
         },
         {
          "Config": "sum[m]",
          "KE (eV)": "04.0",
          "Phase shift diff (deg)": 126.001713385278,
          "Phase shift diff (rad)": 2.1991447617273114,
          "Photon energy (eV)": 14.3,
          "Polar ang (deg)": 82.5059224988385,
          "Polar ang (rad)": 1.439999999999999
         },
         {
          "Config": "sum[m]",
          "KE (eV)": "04.0",
          "Phase shift diff (deg)": 126.471590551363,
          "Phase shift diff (rad)": 2.207345665355435,
          "Photon energy (eV)": 14.3,
          "Polar ang (deg)": 83.0788802939694,
          "Polar ang (rad)": 1.4500000000000006
         },
         {
          "Config": "sum[m]",
          "KE (eV)": "04.0",
          "Phase shift diff (deg)": 126.904478039623,
          "Phase shift diff (rad)": 2.2149009773162605,
          "Photon energy (eV)": 14.3,
          "Polar ang (deg)": 83.6518380891002,
          "Polar ang (rad)": 1.46
         },
         {
          "Config": "sum[m]",
          "KE (eV)": "04.0",
          "Phase shift diff (deg)": 127.300242114621,
          "Phase shift diff (rad)": 2.2218083634860855,
          "Photon energy (eV)": 14.3,
          "Polar ang (deg)": 84.224795884231,
          "Polar ang (rad)": 1.4699999999999998
         },
         {
          "Config": "sum[m]",
          "KE (eV)": "04.0",
          "Phase shift diff (deg)": 127.658779328583,
          "Phase shift diff (rad)": 2.228066018360649,
          "Photon energy (eV)": 14.3,
          "Polar ang (deg)": 84.7977536793618,
          "Polar ang (rad)": 1.4799999999999995
         },
         {
          "Config": "sum[m]",
          "KE (eV)": "04.0",
          "Phase shift diff (deg)": 127.980011542983,
          "Phase shift diff (rad)": 2.2336725781654017,
          "Photon energy (eV)": 14.3,
          "Polar ang (deg)": 85.3707114744927,
          "Polar ang (rad)": 1.4900000000000007
         },
         {
          "Config": "sum[m]",
          "KE (eV)": "04.0",
          "Phase shift diff (deg)": 128.263881364499,
          "Phase shift diff (rad)": 2.238627041197905,
          "Photon energy (eV)": 14.3,
          "Polar ang (deg)": 85.9436692696235,
          "Polar ang (rad)": 1.5000000000000002
         },
         {
          "Config": "sum[m]",
          "KE (eV)": "04.0",
          "Phase shift diff (deg)": 128.510348019735,
          "Phase shift diff (rad)": 2.2429286958281507,
          "Photon energy (eV)": 14.3,
          "Polar ang (deg)": 86.5166270647543,
          "Polar ang (rad)": 1.5099999999999998
         },
         {
          "Config": "sum[m]",
          "KE (eV)": "04.0",
          "Phase shift diff (deg)": 128.719383686618,
          "Phase shift diff (rad)": 2.246577056469361,
          "Photon energy (eV)": 14.3,
          "Polar ang (deg)": 87.0895848598851,
          "Polar ang (rad)": 1.5199999999999994
         },
         {
          "Config": "sum[m]",
          "KE (eV)": "04.0",
          "Phase shift diff (deg)": 128.890970295133,
          "Phase shift diff (rad)": 2.249571807740278,
          "Photon energy (eV)": 14.3,
          "Polar ang (deg)": 87.6625426550159,
          "Polar ang (rad)": 1.529999999999999
         },
         {
          "Config": "sum[m]",
          "KE (eV)": "04.0",
          "Phase shift diff (deg)": 129.025096805981,
          "Phase shift diff (rad)": 2.251912756968788,
          "Photon energy (eV)": 14.3,
          "Polar ang (deg)": 88.2355004501468,
          "Polar ang (rad)": 1.5400000000000005
         },
         {
          "Config": "sum[m]",
          "KE (eV)": "04.0",
          "Phase shift diff (deg)": 129.121756972633,
          "Phase shift diff (rad)": 2.2535997951323914,
          "Photon energy (eV)": 14.3,
          "Polar ang (deg)": 88.8084582452776,
          "Polar ang (rad)": 1.55
         },
         {
          "Config": "sum[m]",
          "KE (eV)": "04.0",
          "Phase shift diff (deg)": 129.180947590052,
          "Phase shift diff (rad)": 2.2546328662926416,
          "Photon energy (eV)": 14.3,
          "Polar ang (deg)": 89.3814160404084,
          "Polar ang (rad)": 1.5599999999999996
         },
         {
          "Config": "sum[m]",
          "KE (eV)": "04.0",
          "Phase shift diff (deg)": 129.202667231866,
          "Phase shift diff (rad)": 2.25501194555465,
          "Photon energy (eV)": 14.3,
          "Polar ang (deg)": 89.9543738355393,
          "Polar ang (rad)": 1.570000000000001
         },
         {
          "Config": "sum[m]",
          "KE (eV)": "04.0",
          "Phase shift diff (deg)": 309.186915476841,
          "Phase shift diff (rad)": 5.396329679156289,
          "Photon energy (eV)": 14.3,
          "Polar ang (deg)": 90.5273316306701,
          "Polar ang (rad)": 1.5800000000000005
         },
         {
          "Config": "sum[m]",
          "KE (eV)": "04.0",
          "Phase shift diff (deg)": 309.133692625003,
          "Phase shift diff (rad)": 5.395400765154415,
          "Photon energy (eV)": 14.3,
          "Polar ang (deg)": 91.1002894258009,
          "Polar ang (rad)": 1.59
         },
         {
          "Config": "sum[m]",
          "KE (eV)": "04.0",
          "Phase shift diff (deg)": 309.042999903519,
          "Phase shift diff (rad)": 5.393817878556924,
          "Photon energy (eV)": 14.3,
          "Polar ang (deg)": 91.6732472209317,
          "Polar ang (rad)": 1.5999999999999996
         },
         {
          "Config": "sum[m]",
          "KE (eV)": "04.0",
          "Phase shift diff (deg)": 308.914840162252,
          "Phase shift diff (rad)": 5.391581069103311,
          "Photon energy (eV)": 14.3,
          "Polar ang (deg)": 92.2462050160626,
          "Polar ang (rad)": 1.6100000000000012
         },
         {
          "Config": "sum[m]",
          "KE (eV)": "04.0",
          "Phase shift diff (deg)": 308.749219058699,
          "Phase shift diff (rad)": 5.388690435535525,
          "Photon energy (eV)": 14.3,
          "Polar ang (deg)": 92.8191628111934,
          "Polar ang (rad)": 1.6200000000000006
         },
         {
          "Config": "sum[m]",
          "KE (eV)": "04.0",
          "Phase shift diff (deg)": 308.546146731569,
          "Phase shift diff (rad)": 5.38514615480742,
          "Photon energy (eV)": 14.3,
          "Polar ang (deg)": 93.3921206063242,
          "Polar ang (rad)": 1.6300000000000003
         },
         {
          "Config": "sum[m]",
          "KE (eV)": "04.0",
          "Phase shift diff (deg)": 308.305639961386,
          "Phase shift diff (rad)": 5.38094851979439,
          "Photon energy (eV)": 14.3,
          "Polar ang (deg)": 93.965078401455,
          "Polar ang (rad)": 1.64
         },
         {
          "Config": "sum[m]",
          "KE (eV)": "04.0",
          "Phase shift diff (deg)": 308.02772481515,
          "Phase shift diff (rad)": 5.37609798545141,
          "Photon energy (eV)": 14.3,
          "Polar ang (deg)": 94.5380361965858,
          "Polar ang (rad)": 1.6499999999999995
         },
         {
          "Config": "sum[m]",
          "KE (eV)": "04.0",
          "Phase shift diff (deg)": 307.71243976996,
          "Phase shift diff (rad)": 5.370595223330544,
          "Photon energy (eV)": 14.3,
          "Polar ang (deg)": 95.1109939917167,
          "Polar ang (rad)": 1.6600000000000008
         },
         {
          "Config": "sum[m]",
          "KE (eV)": "04.0",
          "Phase shift diff (deg)": 307.359839307604,
          "Phase shift diff (rad)": 5.364441184318378,
          "Photon energy (eV)": 14.3,
          "Polar ang (deg)": 95.6839517868475,
          "Polar ang (rad)": 1.6700000000000004
         },
         {
          "Config": "sum[m]",
          "KE (eV)": "04.0",
          "Phase shift diff (deg)": 306.969997968152,
          "Phase shift diff (rad)": 5.357637169384556,
          "Photon energy (eV)": 14.3,
          "Polar ang (deg)": 96.2569095819783,
          "Polar ang (rad)": 1.6800000000000002
         },
         {
          "Config": "sum[m]",
          "KE (eV)": "04.0",
          "Phase shift diff (deg)": 306.543014845564,
          "Phase shift diff (rad)": 5.350184908044949,
          "Photon energy (eV)": 14.3,
          "Polar ang (deg)": 96.8298673771091,
          "Polar ang (rad)": 1.6899999999999995
         },
         {
          "Config": "sum[m]",
          "KE (eV)": "04.0",
          "Phase shift diff (deg)": 306.079018502058,
          "Phase shift diff (rad)": 5.342086644133555,
          "Photon energy (eV)": 14.3,
          "Polar ang (deg)": 97.40282517224,
          "Polar ang (rad)": 1.700000000000001
         },
         {
          "Config": "sum[m]",
          "KE (eV)": "04.0",
          "Phase shift diff (deg)": 305.578172270385,
          "Phase shift diff (rad)": 5.333345228344654,
          "Photon energy (eV)": 14.3,
          "Polar ang (deg)": 97.9757829673708,
          "Polar ang (rad)": 1.7100000000000006
         },
         {
          "Config": "sum[m]",
          "KE (eV)": "04.0",
          "Phase shift diff (deg)": 305.040679904322,
          "Phase shift diff (rad)": 5.323964216852521,
          "Photon energy (eV)": 14.3,
          "Polar ang (deg)": 98.5487407625016,
          "Polar ang (rad)": 1.7200000000000002
         },
         {
          "Config": "sum[m]",
          "KE (eV)": "04.0",
          "Phase shift diff (deg)": 304.466791527432,
          "Phase shift diff (rad)": 5.3139479751368635,
          "Photon energy (eV)": 14.3,
          "Polar ang (deg)": 99.1216985576324,
          "Polar ang (rad)": 1.7299999999999998
         },
         {
          "Config": "sum[m]",
          "KE (eV)": "04.0",
          "Phase shift diff (deg)": 303.856809818746,
          "Phase shift diff (rad)": 5.3033017859433516,
          "Photon energy (eV)": 14.3,
          "Polar ang (deg)": 99.6946563527632,
          "Polar ang (rad)": 1.7399999999999993
         },
         {
          "Config": "sum[m]",
          "KE (eV)": "04.0",
          "Phase shift diff (deg)": 303.211096361545,
          "Phase shift diff (rad)": 5.2920319600907595,
          "Photon energy (eV)": 14.3,
          "Polar ang (deg)": 100.267614147894,
          "Polar ang (rad)": 1.7499999999999987
         },
         {
          "Config": "sum[m]",
          "KE (eV)": "04.0",
          "Phase shift diff (deg)": 302.530078068083,
          "Phase shift diff (rad)": 5.2801459486035345,
          "Photon energy (eV)": 14.3,
          "Polar ang (deg)": 100.840571943025,
          "Polar ang (rad)": 1.7600000000000018
         },
         {
          "Config": "sum[m]",
          "KE (eV)": "04.0",
          "Phase shift diff (deg)": 301.814253579419,
          "Phase shift diff (rad)": 5.267652454409943,
          "Photon energy (eV)": 14.3,
          "Polar ang (deg)": 101.413529738156,
          "Polar ang (rad)": 1.7700000000000051
         },
         {
          "Config": "sum[m]",
          "KE (eV)": "04.0",
          "Phase shift diff (deg)": 301.064199525763,
          "Phase shift diff (rad)": 5.254561541605716,
          "Photon energy (eV)": 14.3,
          "Polar ang (deg)": 101.986487533287,
          "Polar ang (rad)": 1.7800000000000082
         },
         {
          "Config": "sum[m]",
          "KE (eV)": "04.0",
          "Phase shift diff (deg)": 300.280576519673,
          "Phase shift diff (rad)": 5.240884740055069,
          "Photon energy (eV)": 14.3,
          "Polar ang (deg)": 102.559445328417,
          "Polar ang (rad)": 1.7899999999999938
         },
         {
          "Config": "sum[m]",
          "KE (eV)": "04.0",
          "Phase shift diff (deg)": 299.46413474261,
          "Phase shift diff (rad)": 5.2266351428944855,
          "Photon energy (eV)": 14.3,
          "Polar ang (deg)": 103.132403123548,
          "Polar ang (rad)": 1.799999999999997
         },
         {
          "Config": "sum[m]",
          "KE (eV)": "04.0",
          "Phase shift diff (deg)": 298.61571897563,
          "Phase shift diff (rad)": 5.211827494334853,
          "Photon energy (eV)": 14.3,
          "Polar ang (deg)": 103.705360918679,
          "Polar ang (rad)": 1.8099999999999998
         },
         {
          "Config": "sum[m]",
          "KE (eV)": "04.0",
          "Phase shift diff (deg)": 297.73627291817,
          "Phase shift diff (rad)": 5.196478265038492,
          "Photon energy (eV)": 14.3,
          "Polar ang (deg)": 104.27831871381,
          "Polar ang (rad)": 1.820000000000003
         },
         {
          "Config": "sum[m]",
          "KE (eV)": "04.0",
          "Phase shift diff (deg)": 296.826842635828,
          "Phase shift diff (rad)": 5.180605712294281,
          "Photon energy (eV)": 14.3,
          "Polar ang (deg)": 104.851276508941,
          "Polar ang (rad)": 1.830000000000006
         },
         {
          "Config": "sum[m]",
          "KE (eV)": "04.0",
          "Phase shift diff (deg)": 295.888578979639,
          "Phase shift diff (rad)": 5.164229922241985,
          "Photon energy (eV)": 14.3,
          "Polar ang (deg)": 105.424234304071,
          "Polar ang (rad)": 1.8399999999999919
         },
         {
          "Config": "sum[m]",
          "KE (eV)": "04.0",
          "Phase shift diff (deg)": 294.922738826296,
          "Phase shift diff (rad)": 5.147372831518181,
          "Photon energy (eV)": 14.3,
          "Polar ang (deg)": 105.997192099202,
          "Polar ang (rad)": 1.8499999999999945
         },
         {
          "Config": "sum[m]",
          "KE (eV)": "04.0",
          "Phase shift diff (deg)": 293.930685001739,
          "Phase shift diff (rad)": 5.13005822592266,
          "Photon energy (eV)": 14.3,
          "Polar ang (deg)": 106.570149894333,
          "Polar ang (rad)": 1.859999999999998
         },
         {
          "Config": "sum[m]",
          "KE (eV)": "04.0",
          "Phase shift diff (deg)": 292.913884769841,
          "Phase shift diff (rad)": 5.112311714040998,
          "Photon energy (eV)": 14.3,
          "Polar ang (deg)": 107.143107689464,
          "Polar ang (rad)": 1.870000000000001
         },
         {
          "Config": "sum[m]",
          "KE (eV)": "04.0",
          "Phase shift diff (deg)": 291.873906793648,
          "Phase shift diff (rad)": 5.0941606742082035,
          "Photon energy (eV)": 14.3,
          "Polar ang (deg)": 107.716065484595,
          "Polar ang (rad)": 1.8800000000000041
         },
         {
          "Config": "sum[m]",
          "KE (eV)": "04.0",
          "Phase shift diff (deg)": 290.812416508595,
          "Phase shift diff (rad)": 5.075634173756095,
          "Photon energy (eV)": 14.3,
          "Polar ang (deg)": 108.289023279726,
          "Polar ang (rad)": 1.890000000000007
         },
         {
          "Config": "sum[m]",
          "KE (eV)": "04.0",
          "Phase shift diff (deg)": 289.731169884455,
          "Phase shift diff (rad)": 5.056762860138779,
          "Photon energy (eV)": 14.3,
          "Polar ang (deg)": 108.861981074856,
          "Polar ang (rad)": 1.8999999999999928
         },
         {
          "Config": "sum[m]",
          "KE (eV)": "04.0",
          "Phase shift diff (deg)": 288.632005594643,
          "Phase shift diff (rad)": 5.037578824261214,
          "Photon energy (eV)": 14.3,
          "Polar ang (deg)": 109.434938869987,
          "Polar ang (rad)": 1.9099999999999957
         },
         {
          "Config": "sum[m]",
          "KE (eV)": "04.0",
          "Phase shift diff (deg)": 287.516835656166,
          "Phase shift diff (rad)": 5.018115437115528,
          "Photon energy (eV)": 14.3,
          "Polar ang (deg)": 110.007896665118,
          "Polar ang (rad)": 1.9199999999999988
         },
         {
          "Config": "sum[m]",
          "KE (eV)": "04.0",
          "Phase shift diff (deg)": 286.387634649413,
          "Phase shift diff (rad)": 4.998407161630853,
          "Photon energy (eV)": 14.3,
          "Polar ang (deg)": 110.580854460249,
          "Polar ang (rad)": 1.9300000000000022
         },
         {
          "Config": "sum[m]",
          "KE (eV)": "04.0",
          "Phase shift diff (deg)": 285.246427671866,
          "Phase shift diff (rad)": 4.978489342425925,
          "Photon energy (eV)": 14.3,
          "Polar ang (deg)": 111.15381225538,
          "Polar ang (rad)": 1.9400000000000053
         },
         {
          "Config": "sum[m]",
          "KE (eV)": "04.0",
          "Phase shift diff (deg)": 284.095277221635,
          "Phase shift diff (rad)": 4.958397976883579,
          "Photon energy (eV)": 14.3,
          "Polar ang (deg)": 111.726770050511,
          "Polar ang (rad)": 1.9500000000000082
         },
         {
          "Config": "sum[m]",
          "KE (eV)": "04.0",
          "Phase shift diff (deg)": 282.936269243286,
          "Phase shift diff (rad)": 4.938169471604506,
          "Photon energy (eV)": 14.3,
          "Polar ang (deg)": 112.299727845641,
          "Polar ang (rad)": 1.9599999999999937
         },
         {
          "Config": "sum[m]",
          "KE (eV)": "04.0",
          "Phase shift diff (deg)": 281.77149859777,
          "Phase shift diff (rad)": 4.917840388809672,
          "Photon energy (eV)": 14.3,
          "Polar ang (deg)": 112.872685640772,
          "Polar ang (rad)": 1.9699999999999969
         },
         {
          "Config": "sum[m]",
          "KE (eV)": "04.0",
          "Phase shift diff (deg)": 280.603054238778,
          "Phase shift diff (rad)": 4.897447187618907,
          "Photon energy (eV)": 14.3,
          "Polar ang (deg)": 113.445643435903,
          "Polar ang (rad)": 1.98
         },
         {
          "Config": "sum[m]",
          "KE (eV)": "04.0",
          "Phase shift diff (deg)": 279.43300438831,
          "Phase shift diff (rad)": 4.877025965315773,
          "Photon energy (eV)": 14.3,
          "Polar ang (deg)": 114.018601231034,
          "Polar ang (rad)": 1.9900000000000029
         },
         {
          "Config": "sum[m]",
          "KE (eV)": "04.0",
          "Phase shift diff (deg)": 278.263382004167,
          "Phase shift diff (rad)": 4.856612203707452,
          "Photon energy (eV)": 14.3,
          "Polar ang (deg)": 114.591559026165,
          "Polar ang (rad)": 2.000000000000006
         },
         {
          "Config": "sum[m]",
          "KE (eV)": "04.0",
          "Phase shift diff (deg)": 277.09617082132,
          "Phase shift diff (rad)": 4.836240525500674,
          "Photon energy (eV)": 14.3,
          "Polar ang (deg)": 115.164516821295,
          "Polar ang (rad)": 2.009999999999992
         },
         {
          "Config": "sum[m]",
          "KE (eV)": "04.0",
          "Phase shift diff (deg)": 275.933292228431,
          "Phase shift diff (rad)": 4.815944465253803,
          "Photon energy (eV)": 14.3,
          "Polar ang (deg)": 115.737474616426,
          "Polar ang (rad)": 2.019999999999995
         },
         {
          "Config": "sum[m]",
          "KE (eV)": "04.0",
          "Phase shift diff (deg)": 274.776593211301,
          "Phase shift diff (rad)": 4.795756258950302,
          "Photon energy (eV)": 14.3,
          "Polar ang (deg)": 116.310432411557,
          "Polar ang (rad)": 2.029999999999998
         },
         {
          "Config": "sum[m]",
          "KE (eV)": "04.0",
          "Phase shift diff (deg)": 273.627835558369,
          "Phase shift diff (rad)": 4.775706655599156,
          "Photon energy (eV)": 14.3,
          "Polar ang (deg)": 116.883390206688,
          "Polar ang (rad)": 2.040000000000001
         },
         {
          "Config": "sum[m]",
          "KE (eV)": "04.0",
          "Phase shift diff (deg)": 272.48868648157,
          "Phase shift diff (rad)": 4.75582475353796,
          "Photon energy (eV)": 14.3,
          "Polar ang (deg)": 117.456348001819,
          "Polar ang (rad)": 2.0500000000000043
         },
         {
          "Config": "sum[m]",
          "KE (eV)": "04.0",
          "Phase shift diff (deg)": 271.360710760994,
          "Phase shift diff (rad)": 4.7361378633313524,
          "Photon energy (eV)": 14.3,
          "Polar ang (deg)": 118.02930579695,
          "Polar ang (rad)": 2.060000000000007
         },
         {
          "Config": "sum[m]",
          "KE (eV)": "04.0",
          "Phase shift diff (deg)": 270.245364476099,
          "Phase shift diff (rad)": 4.716671398360048,
          "Photon energy (eV)": 14.3,
          "Polar ang (deg)": 118.60226359208,
          "Polar ang (rad)": 2.069999999999993
         },
         {
          "Config": "sum[m]",
          "KE (eV)": "04.0",
          "Phase shift diff (deg)": 269.143990341701,
          "Phase shift diff (rad)": 4.6974487934185,
          "Photon energy (eV)": 14.3,
          "Polar ang (deg)": 119.175221387211,
          "Polar ang (rad)": 2.0799999999999956
         },
         {
          "Config": "sum[m]",
          "KE (eV)": "04.0",
          "Phase shift diff (deg)": 268.05781462545,
          "Phase shift diff (rad)": 4.678491450914714,
          "Photon energy (eV)": 14.3,
          "Polar ang (deg)": 119.748179182342,
          "Polar ang (rad)": 2.089999999999999
         },
         {
          "Config": "sum[m]",
          "KE (eV)": "04.0",
          "Phase shift diff (deg)": 266.987945586474,
          "Phase shift diff (rad)": 4.659818713619433,
          "Photon energy (eV)": 14.3,
          "Polar ang (deg)": 120.321136977473,
          "Polar ang (rad)": 2.1000000000000023
         },
         {
          "Config": "sum[m]",
          "KE (eV)": "04.0",
          "Phase shift diff (deg)": 265.935373343299,
          "Phase shift diff (rad)": 4.641447862360928,
          "Photon energy (eV)": 14.3,
          "Polar ang (deg)": 120.894094772604,
          "Polar ang (rad)": 2.110000000000005
         },
         {
          "Config": "sum[m]",
          "KE (eV)": "04.0",
          "Phase shift diff (deg)": 264.900971053883,
          "Phase shift diff (rad)": 4.623394136620451,
          "Photon energy (eV)": 14.3,
          "Polar ang (deg)": 121.467052567735,
          "Polar ang (rad)": 2.120000000000008
         },
         {
          "Config": "sum[m]",
          "KE (eV)": "04.0",
          "Phase shift diff (deg)": 263.885497271711,
          "Phase shift diff (rad)": 4.605670775653871,
          "Photon energy (eV)": 14.3,
          "Polar ang (deg)": 122.040010362865,
          "Polar ang (rad)": 2.1299999999999937
         },
         {
          "Config": "sum[m]",
          "KE (eV)": "04.0",
          "Phase shift diff (deg)": 262.889599329433,
          "Phase shift diff (rad)": 4.588289077547283,
          "Photon energy (eV)": 14.3,
          "Polar ang (deg)": 122.612968157996,
          "Polar ang (rad)": 2.139999999999997
         },
         {
          "Config": "sum[m]",
          "KE (eV)": "04.0",
          "Phase shift diff (deg)": 261.913817595055,
          "Phase shift diff (rad)": 4.571258473501566,
          "Photon energy (eV)": 14.3,
          "Polar ang (deg)": 123.185925953127,
          "Polar ang (rad)": 2.15
         },
         {
          "Config": "sum[m]",
          "KE (eV)": "04.0",
          "Phase shift diff (deg)": 260.958590444609,
          "Phase shift diff (rad)": 4.55458661462184,
          "Photon energy (eV)": 14.3,
          "Polar ang (deg)": 123.758883748258,
          "Polar ang (rad)": 2.1600000000000033
         },
         {
          "Config": "sum[m]",
          "KE (eV)": "04.0",
          "Phase shift diff (deg)": 260.024259798788,
          "Phase shift diff (rad)": 4.538279468549979,
          "Photon energy (eV)": 14.3,
          "Polar ang (deg)": 124.331841543389,
          "Polar ang (rad)": 2.170000000000006
         },
         {
          "Config": "sum[m]",
          "KE (eV)": "04.0",
          "Phase shift diff (deg)": 259.111077078388,
          "Phase shift diff (rad)": 4.522341423406679,
          "Photon energy (eV)": 14.3,
          "Polar ang (deg)": 124.904799338519,
          "Polar ang (rad)": 2.1799999999999917
         },
         {
          "Config": "sum[m]",
          "KE (eV)": "04.0",
          "Phase shift diff (deg)": 258.219209443688,
          "Phase shift diff (rad)": 4.506775396689191,
          "Photon energy (eV)": 14.3,
          "Polar ang (deg)": 125.47775713365,
          "Polar ang (rad)": 2.189999999999995
         },
         {
          "Config": "sum[m]",
          "KE (eV)": "04.0",
          "Phase shift diff (deg)": 257.34874619525,
          "Phase shift diff (rad)": 4.491582946986342,
          "Photon energy (eV)": 14.3,
          "Polar ang (deg)": 126.050714928781,
          "Polar ang (rad)": 2.199999999999998
         },
         {
          "Config": "sum[m]",
          "KE (eV)": "04.0",
          "Phase shift diff (deg)": 256.499705227349,
          "Phase shift diff (rad)": 4.4767643866121505,
          "Photon energy (eV)": 14.3,
          "Polar ang (deg)": 126.623672723912,
          "Polar ang (rad)": 2.210000000000001
         },
         {
          "Config": "sum[m]",
          "KE (eV)": "04.0",
          "Phase shift diff (deg)": 255.672039439548,
          "Phase shift diff (rad)": 4.46231889350891,
          "Photon energy (eV)": 14.3,
          "Polar ang (deg)": 127.196630519043,
          "Polar ang (rad)": 2.220000000000004
         },
         {
          "Config": "sum[m]",
          "KE (eV)": "04.0",
          "Phase shift diff (deg)": 254.865643026334,
          "Phase shift diff (rad)": 4.448244621022053,
          "Photon energy (eV)": 14.3,
          "Polar ang (deg)": 127.769588314174,
          "Polar ang (rad)": 2.2300000000000075
         },
         {
          "Config": "sum[m]",
          "KE (eV)": "04.0",
          "Phase shift diff (deg)": 254.080357578725,
          "Phase shift diff (rad)": 4.434538804393279,
          "Photon energy (eV)": 14.3,
          "Polar ang (deg)": 128.342546109304,
          "Polar ang (rad)": 2.239999999999993
         },
         {
          "Config": "sum[m]",
          "KE (eV)": "04.0",
          "Phase shift diff (deg)": 253.315977944964,
          "Phase shift diff (rad)": 4.4211978630489615,
          "Photon energy (eV)": 14.3,
          "Polar ang (deg)": 128.915503904435,
          "Polar ang (rad)": 2.2499999999999964
         },
         {
          "Config": "sum[m]",
          "KE (eV)": "04.0",
          "Phase shift diff (deg)": 252.57225780966,
          "Phase shift diff (rad)": 4.408217497974528,
          "Photon energy (eV)": 14.3,
          "Polar ang (deg)": 129.488461699566,
          "Polar ang (rad)": 2.259999999999999
         },
         {
          "Config": "sum[m]",
          "KE (eV)": "04.0",
          "Phase shift diff (deg)": 251.848914961739,
          "Phase shift diff (rad)": 4.395592783657555,
          "Photon energy (eV)": 14.3,
          "Polar ang (deg)": 130.061419494697,
          "Polar ang (rad)": 2.2700000000000022
         },
         {
          "Config": "sum[m]",
          "KE (eV)": "04.0",
          "Phase shift diff (deg)": 251.145636231359,
          "Phase shift diff (rad)": 4.383318254253178,
          "Photon energy (eV)": 14.3,
          "Polar ang (deg)": 130.634377289828,
          "Polar ang (rad)": 2.280000000000005
         },
         {
          "Config": "sum[m]",
          "KE (eV)": "04.0",
          "Phase shift diff (deg)": 250.462082084403,
          "Phase shift diff (rad)": 4.371387983773134,
          "Photon energy (eV)": 14.3,
          "Polar ang (deg)": 131.207335084959,
          "Polar ang (rad)": 2.290000000000008
         },
         {
          "Config": "sum[m]",
          "KE (eV)": "04.0",
          "Phase shift diff (deg)": 249.797890870369,
          "Phase shift diff (rad)": 4.359795660225423,
          "Photon energy (eV)": 14.3,
          "Polar ang (deg)": 131.780292880089,
          "Polar ang (rad)": 2.299999999999994
         },
         {
          "Config": "sum[m]",
          "KE (eV)": "04.0",
          "Phase shift diff (deg)": 249.152682725491,
          "Phase shift diff (rad)": 4.348534653736617,
          "Photon energy (eV)": 14.3,
          "Polar ang (deg)": 132.35325067522,
          "Polar ang (rad)": 2.3099999999999974
         },
         {
          "Config": "sum[m]",
          "KE (eV)": "04.0",
          "Phase shift diff (deg)": 248.526063137792,
          "Phase shift diff (rad)": 4.33759807877378,
          "Photon energy (eV)": 14.3,
          "Polar ang (deg)": 132.926208470351,
          "Polar ang (rad)": 2.3200000000000007
         },
         {
          "Config": "sum[m]",
          "KE (eV)": "04.0",
          "Phase shift diff (deg)": 247.917626184621,
          "Phase shift diff (rad)": 4.326978850650144,
          "Photon energy (eV)": 14.3,
          "Polar ang (deg)": 133.499166265482,
          "Polar ang (rad)": 2.3300000000000027
         },
         {
          "Config": "sum[m]",
          "KE (eV)": "04.0",
          "Phase shift diff (deg)": 247.326957456219,
          "Phase shift diff (rad)": 4.316669736550961,
          "Photon energy (eV)": 14.3,
          "Polar ang (deg)": 134.072124060613,
          "Polar ang (rad)": 2.3400000000000065
         },
         {
          "Config": "sum[m]",
          "KE (eV)": "04.0",
          "Phase shift diff (deg)": 246.753636680972,
          "Phase shift diff (rad)": 4.3066634013528144,
          "Photon energy (eV)": 14.3,
          "Polar ang (deg)": 134.645081855743,
          "Polar ang (rad)": 2.349999999999992
         },
         {
          "Config": "sum[m]",
          "KE (eV)": "04.0",
          "Phase shift diff (deg)": 246.197240069535,
          "Phase shift diff (rad)": 4.2969524485363,
          "Photon energy (eV)": 14.3,
          "Polar ang (deg)": 135.218039650874,
          "Polar ang (rad)": 2.3599999999999954
         },
         {
          "Config": "sum[m]",
          "KE (eV)": "04.0",
          "Phase shift diff (deg)": 245.657342395883,
          "Phase shift diff (rad)": 4.2875294565072135,
          "Photon energy (eV)": 14.3,
          "Polar ang (deg)": 135.790997446005,
          "Polar ang (rad)": 2.3699999999999983
         },
         {
          "Config": "sum[m]",
          "KE (eV)": "04.0",
          "Phase shift diff (deg)": 245.133518833807,
          "Phase shift diff (rad)": 4.278387010649462,
          "Photon energy (eV)": 14.3,
          "Polar ang (deg)": 136.363955241136,
          "Polar ang (rad)": 2.3800000000000012
         },
         {
          "Config": "sum[m]",
          "KE (eV)": "04.0",
          "Phase shift diff (deg)": 244.625346567361,
          "Phase shift diff (rad)": 4.269517731432658,
          "Photon energy (eV)": 14.3,
          "Polar ang (deg)": 136.936913036267,
          "Polar ang (rad)": 2.390000000000004
         },
         {
          "Config": "sum[m]",
          "KE (eV)": "04.0",
          "Phase shift diff (deg)": 244.132406193563,
          "Phase shift diff (rad)": 4.260914298893872,
          "Photon energy (eV)": 14.3,
          "Polar ang (deg)": 137.509870831398,
          "Polar ang (rad)": 2.400000000000007
         },
         {
          "Config": "sum[m]",
          "KE (eV)": "04.0",
          "Phase shift diff (deg)": 243.654282935076,
          "Phase shift diff (rad)": 4.252569473802909,
          "Photon energy (eV)": 14.3,
          "Polar ang (deg)": 138.082828626528,
          "Polar ang (rad)": 2.409999999999993
         },
         {
          "Config": "sum[m]",
          "KE (eV)": "04.0",
          "Phase shift diff (deg)": 243.190567679944,
          "Phase shift diff (rad)": 4.24447611580913,
          "Photon energy (eV)": 14.3,
          "Polar ang (deg)": 138.655786421659,
          "Polar ang (rad)": 2.419999999999996
         },
         {
          "Config": "sum[m]",
          "KE (eV)": "04.0",
          "Phase shift diff (deg)": 242.740857864613,
          "Phase shift diff (rad)": 4.236627198853069,
          "Photon energy (eV)": 14.3,
          "Polar ang (deg)": 139.22874421679,
          "Polar ang (rad)": 2.4299999999999993
         },
         {
          "Config": "sum[m]",
          "KE (eV)": "04.0",
          "Phase shift diff (deg)": 242.304758215577,
          "Phase shift diff (rad)": 4.229015824110599,
          "Photon energy (eV)": 14.3,
          "Polar ang (deg)": 139.801702011921,
          "Polar ang (rad)": 2.4400000000000026
         },
         {
          "Config": "sum[m]",
          "KE (eV)": "04.0",
          "Phase shift diff (deg)": 241.881881363986,
          "Phase shift diff (rad)": 4.221635230719868,
          "Photon energy (eV)": 14.3,
          "Polar ang (deg)": 140.374659807052,
          "Polar ang (rad)": 2.4500000000000055
         },
         {
          "Config": "sum[m]",
          "KE (eV)": "04.0",
          "Phase shift diff (deg)": 241.471848346609,
          "Phase shift diff (rad)": 4.214478804524752,
          "Photon energy (eV)": 14.3,
          "Polar ang (deg)": 140.947617602183,
          "Polar ang (rad)": 2.4600000000000084
         },
         {
          "Config": "sum[m]",
          "KE (eV)": "04.0",
          "Phase shift diff (deg)": 241.074289005517,
          "Phase shift diff (rad)": 4.2075400850506375,
          "Photon energy (eV)": 14.3,
          "Polar ang (deg)": 141.520575397313,
          "Polar ang (rad)": 2.469999999999994
         },
         {
          "Config": "sum[m]",
          "KE (eV)": "04.0",
          "Phase shift diff (deg)": 240.688842297894,
          "Phase shift diff (rad)": 4.200812770911645,
          "Photon energy (eV)": 14.3,
          "Polar ang (deg)": 142.093533192444,
          "Polar ang (rad)": 2.4799999999999973
         },
         {
          "Config": "sum[m]",
          "KE (eV)": "04.0",
          "Phase shift diff (deg)": 240.315156526416,
          "Phase shift diff (rad)": 4.194290723831498,
          "Photon energy (eV)": 14.3,
          "Polar ang (deg)": 142.666490987575,
          "Polar ang (rad)": 2.49
         },
         {
          "Config": "sum[m]",
          "KE (eV)": "04.0",
          "Phase shift diff (deg)": 239.952889499752,
          "Phase shift diff (rad)": 4.1879679714448015,
          "Photon energy (eV)": 14.3,
          "Polar ang (deg)": 143.239448782706,
          "Polar ang (rad)": 2.5000000000000036
         },
         {
          "Config": "sum[m]",
          "KE (eV)": "04.0",
          "Phase shift diff (deg)": 239.601708631857,
          "Phase shift diff (rad)": 4.181838709030023,
          "Photon energy (eV)": 14.3,
          "Polar ang (deg)": 143.812406577837,
          "Polar ang (rad)": 2.5100000000000064
         },
         {
          "Config": "sum[m]",
          "KE (eV)": "04.0",
          "Phase shift diff (deg)": 239.261290987914,
          "Phase shift diff (rad)": 4.175897300311336,
          "Photon energy (eV)": 14.3,
          "Polar ang (deg)": 144.385364372967,
          "Polar ang (rad)": 2.519999999999992
         },
         {
          "Config": "sum[m]",
          "KE (eV)": "04.0",
          "Phase shift diff (deg)": 238.931323284026,
          "Phase shift diff (rad)": 4.170138277453244,
          "Photon energy (eV)": 14.3,
          "Polar ang (deg)": 144.958322168098,
          "Polar ang (rad)": 2.529999999999995
         },
         {
          "Config": "sum[m]",
          "KE (eV)": "04.0",
          "Phase shift diff (deg)": 238.611501847036,
          "Phase shift diff (rad)": 4.164556340359309,
          "Photon energy (eV)": 14.3,
          "Polar ang (deg)": 145.531279963229,
          "Polar ang (rad)": 2.5399999999999983
         },
         {
          "Config": "sum[m]",
          "KE (eV)": "04.0",
          "Phase shift diff (deg)": 238.301532540221,
          "Phase shift diff (rad)": 4.159146355375263,
          "Photon energy (eV)": 14.3,
          "Polar ang (deg)": 146.10423775836,
          "Polar ang (rad)": 2.550000000000001
         },
         {
          "Config": "sum[m]",
          "KE (eV)": "04.0",
          "Phase shift diff (deg)": 238.001130659963,
          "Phase shift diff (rad)": 4.153903353485579,
          "Photon energy (eV)": 14.3,
          "Polar ang (deg)": 146.677195553491,
          "Polar ang (rad)": 2.5600000000000045
         },
         {
          "Config": "sum[m]",
          "KE (eV)": "04.0",
          "Phase shift diff (deg)": 237.710020807986,
          "Phase shift diff (rad)": 4.1488225280835875,
          "Photon energy (eV)": 14.3,
          "Polar ang (deg)": 147.250153348622,
          "Polar ang (rad)": 2.5700000000000074
         },
         {
          "Config": "sum[m]",
          "KE (eV)": "04.0",
          "Phase shift diff (deg)": 237.427936743209,
          "Phase shift diff (rad)": 4.143899232385819,
          "Photon energy (eV)": 14.3,
          "Polar ang (deg)": 147.823111143752,
          "Polar ang (rad)": 2.579999999999993
         },
         {
          "Config": "sum[m]",
          "KE (eV)": "04.0",
          "Phase shift diff (deg)": 237.154621216829,
          "Phase shift diff (rad)": 4.139128976553668,
          "Photon energy (eV)": 14.3,
          "Polar ang (deg)": 148.396068938883,
          "Polar ang (rad)": 2.589999999999996
         },
         {
          "Config": "sum[m]",
          "KE (eV)": "04.0",
          "Phase shift diff (deg)": 236.889825793809,
          "Phase shift diff (rad)": 4.134507424577757,
          "Photon energy (eV)": 14.3,
          "Polar ang (deg)": 148.969026734014,
          "Polar ang (rad)": 2.599999999999999
         },
         {
          "Config": "sum[m]",
          "KE (eV)": "04.0",
          "Phase shift diff (deg)": 236.633310663589,
          "Phase shift diff (rad)": 4.130030390974236,
          "Photon energy (eV)": 14.3,
          "Polar ang (deg)": 149.541984529145,
          "Polar ang (rad)": 2.6100000000000025
         },
         {
          "Config": "sum[m]",
          "KE (eV)": "04.0",
          "Phase shift diff (deg)": 236.384844442478,
          "Phase shift diff (rad)": 4.12569383733586,
          "Photon energy (eV)": 14.3,
          "Polar ang (deg)": 150.114942324276,
          "Polar ang (rad)": 2.6200000000000054
         },
         {
          "Config": "sum[m]",
          "KE (eV)": "04.0",
          "Phase shift diff (deg)": 236.144203969894,
          "Phase shift diff (rad)": 4.1214938687757146,
          "Photon energy (eV)": 14.3,
          "Polar ang (deg)": 150.687900119407,
          "Polar ang (rad)": 2.6300000000000088
         },
         {
          "Config": "sum[m]",
          "KE (eV)": "04.0",
          "Phase shift diff (deg)": 235.911174100331,
          "Phase shift diff (rad)": 4.117426730296348,
          "Photon energy (eV)": 14.3,
          "Polar ang (deg)": 151.260857914537,
          "Polar ang (rad)": 2.6399999999999944
         },
         {
          "Config": "sum[m]",
          "KE (eV)": "04.0",
          "Phase shift diff (deg)": 235.685547492703,
          "Phase shift diff (rad)": 4.113488803113134,
          "Photon energy (eV)": 14.3,
          "Polar ang (deg)": 151.833815709668,
          "Polar ang (rad)": 2.6499999999999972
         },
         {
          "Config": "sum[m]",
          "KE (eV)": "04.0",
          "Phase shift diff (deg)": 235.46712439847,
          "Phase shift diff (rad)": 4.109676600956374,
          "Photon energy (eV)": 14.3,
          "Polar ang (deg)": 152.406773504799,
          "Polar ang (rad)": 2.66
         },
         {
          "Config": "sum[m]",
          "KE (eV)": "04.0",
          "Phase shift diff (deg)": 235.255712449787,
          "Phase shift diff (rad)": 4.105986766373798,
          "Photon energy (eV)": 14.3,
          "Polar ang (deg)": 152.97973129993,
          "Polar ang (rad)": 2.6700000000000035
         },
         {
          "Config": "sum[m]",
          "KE (eV)": "04.0",
          "Phase shift diff (deg)": 235.051126448706,
          "Phase shift diff (rad)": 4.102416067051446,
          "Photon energy (eV)": 14.3,
          "Polar ang (deg)": 153.552689095061,
          "Polar ang (rad)": 2.680000000000007
         },
         {
          "Config": "sum[m]",
          "KE (eV)": "04.0",
          "Phase shift diff (deg)": 234.853188158354,
          "Phase shift diff (rad)": 4.098961392169035,
          "Photon energy (eV)": 14.3,
          "Polar ang (deg)": 154.125646890191,
          "Polar ang (rad)": 2.6899999999999924
         },
         {
          "Config": "sum[m]",
          "KE (eV)": "04.0",
          "Phase shift diff (deg)": 234.661726096815,
          "Phase shift diff (rad)": 4.095619748802523,
          "Photon energy (eV)": 14.3,
          "Polar ang (deg)": 154.698604685322,
          "Polar ang (rad)": 2.6999999999999953
         },
         {
          "Config": "sum[m]",
          "KE (eV)": "04.0",
          "Phase shift diff (deg)": 234.476575334378,
          "Phase shift diff (rad)": 4.092388258385419,
          "Photon energy (eV)": 14.3,
          "Polar ang (deg)": 155.271562480453,
          "Polar ang (rad)": 2.7099999999999986
         },
         {
          "Config": "sum[m]",
          "KE (eV)": "04.0",
          "Phase shift diff (deg)": 234.297577294677,
          "Phase shift diff (rad)": 4.089264153238022,
          "Photon energy (eV)": 14.3,
          "Polar ang (deg)": 155.844520275584,
          "Polar ang (rad)": 2.7200000000000015
         },
         {
          "Config": "sum[m]",
          "KE (eV)": "04.0",
          "Phase shift diff (deg)": 234.124579560153,
          "Phase shift diff (rad)": 4.086244773172087,
          "Photon energy (eV)": 14.3,
          "Polar ang (deg)": 156.417478070715,
          "Polar ang (rad)": 2.7300000000000044
         },
         {
          "Config": "sum[m]",
          "KE (eV)": "04.0",
          "Phase shift diff (deg)": 233.957435682206,
          "Phase shift diff (rad)": 4.08332756217736,
          "Photon energy (eV)": 14.3,
          "Polar ang (deg)": 156.990435865846,
          "Polar ang (rad)": 2.7400000000000073
         },
         {
          "Config": "sum[m]",
          "KE (eV)": "04.0",
          "Phase shift diff (deg)": 233.796004996322,
          "Phase shift diff (rad)": 4.080510065194932,
          "Photon energy (eV)": 14.3,
          "Polar ang (deg)": 157.563393660976,
          "Polar ang (rad)": 2.7499999999999933
         },
         {
          "Config": "sum[m]",
          "KE (eV)": "04.0",
          "Phase shift diff (deg)": 233.640152442386,
          "Phase shift diff (rad)": 4.077789924981107,
          "Photon energy (eV)": 14.3,
          "Polar ang (deg)": 158.136351456107,
          "Polar ang (rad)": 2.7599999999999962
         },
         {
          "Config": "sum[m]",
          "KE (eV)": "04.0",
          "Phase shift diff (deg)": 233.489748390365,
          "Phase shift diff (rad)": 4.0751648790649995,
          "Photon energy (eV)": 14.3,
          "Polar ang (deg)": 158.709309251238,
          "Polar ang (rad)": 2.7699999999999996
         },
         {
          "Config": "sum[m]",
          "KE (eV)": "04.0",
          "Phase shift diff (deg)": 233.344668471476,
          "Phase shift diff (rad)": 4.07263275680186,
          "Photon energy (eV)": 14.3,
          "Polar ang (deg)": 159.282267046369,
          "Polar ang (rad)": 2.780000000000002
         },
         {
          "Config": "sum[m]",
          "KE (eV)": "04.0",
          "Phase shift diff (deg)": 233.204793414913,
          "Phase shift diff (rad)": 4.070191476523423,
          "Photon energy (eV)": 14.3,
          "Polar ang (deg)": 159.8552248415,
          "Polar ang (rad)": 2.7900000000000054
         },
         {
          "Config": "sum[m]",
          "KE (eV)": "04.0",
          "Phase shift diff (deg)": 233.070008890199,
          "Phase shift diff (rad)": 4.067839042786428,
          "Photon energy (eV)": 14.3,
          "Polar ang (deg)": 160.428182636631,
          "Polar ang (rad)": 2.8000000000000087
         },
         {
          "Config": "sum[m]",
          "KE (eV)": "04.0",
          "Phase shift diff (deg)": 232.940205355159,
          "Phase shift diff (rad)": 4.0655735437192515,
          "Photon energy (eV)": 14.3,
          "Polar ang (deg)": 161.001140431761,
          "Polar ang (rad)": 2.8099999999999943
         },
         {
          "Config": "sum[m]",
          "KE (eV)": "04.0",
          "Phase shift diff (deg)": 232.815277909522,
          "Phase shift diff (rad)": 4.06339314846678,
          "Photon energy (eV)": 14.3,
          "Polar ang (deg)": 161.574098226892,
          "Polar ang (rad)": 2.8199999999999976
         },
         {
          "Config": "sum[m]",
          "KE (eV)": "04.0",
          "Phase shift diff (deg)": 232.69512615411,
          "Phase shift diff (rad)": 4.06129610473279,
          "Photon energy (eV)": 14.3,
          "Polar ang (deg)": 162.147056022023,
          "Polar ang (rad)": 2.8300000000000005
         },
         {
          "Config": "sum[m]",
          "KE (eV)": "04.0",
          "Phase shift diff (deg)": 232.579654055581,
          "Phase shift diff (rad)": 4.059280736419271,
          "Photon energy (eV)": 14.3,
          "Polar ang (deg)": 162.720013817154,
          "Polar ang (rad)": 2.8400000000000034
         },
         {
          "Config": "sum[m]",
          "KE (eV)": "04.0",
          "Phase shift diff (deg)": 232.468769816651,
          "Phase shift diff (rad)": 4.057345441361375,
          "Photon energy (eV)": 14.3,
          "Polar ang (deg)": 163.292971612285,
          "Polar ang (rad)": 2.8500000000000063
         },
         {
          "Config": "sum[m]",
          "KE (eV)": "04.0",
          "Phase shift diff (deg)": 232.362385751732,
          "Phase shift diff (rad)": 4.055488689156883,
          "Photon energy (eV)": 14.3,
          "Polar ang (deg)": 163.865929407415,
          "Polar ang (rad)": 2.8599999999999923
         },
         {
          "Config": "sum[m]",
          "KE (eV)": "04.0",
          "Phase shift diff (deg)": 232.2604181679,
          "Phase shift diff (rad)": 4.0537090190887115,
          "Photon energy (eV)": 14.3,
          "Polar ang (deg)": 164.438887202546,
          "Polar ang (rad)": 2.869999999999995
         },
         {
          "Config": "sum[m]",
          "KE (eV)": "04.0",
          "Phase shift diff (deg)": 232.162787251095,
          "Phase shift diff (rad)": 4.052005038138724,
          "Photon energy (eV)": 14.3,
          "Polar ang (deg)": 165.011844997677,
          "Polar ang (rad)": 2.879999999999998
         },
         {
          "Config": "sum[m]",
          "KE (eV)": "04.0",
          "Phase shift diff (deg)": 232.069416957473,
          "Phase shift diff (rad)": 4.050375419091465,
          "Photon energy (eV)": 14.3,
          "Polar ang (deg)": 165.584802792808,
          "Polar ang (rad)": 2.890000000000002
         },
         {
          "Config": "sum[m]",
          "KE (eV)": "04.0",
          "Phase shift diff (deg)": 231.980234909797,
          "Phase shift diff (rad)": 4.048818898725848,
          "Photon energy (eV)": 14.3,
          "Polar ang (deg)": 166.157760587939,
          "Polar ang (rad)": 2.900000000000005
         },
         {
          "Config": "sum[m]",
          "KE (eV)": "04.0",
          "Phase shift diff (deg)": 231.895172298769,
          "Phase shift diff (rad)": 4.047334276093067,
          "Photon energy (eV)": 14.3,
          "Polar ang (deg)": 166.73071838307,
          "Polar ang (rad)": 2.9100000000000077
         },
         {
          "Config": "sum[m]",
          "KE (eV)": "04.0",
          "Phase shift diff (deg)": 231.814163789198,
          "Phase shift diff (rad)": 4.045920410878919,
          "Photon energy (eV)": 14.3,
          "Polar ang (deg)": 167.3036761782,
          "Polar ang (rad)": 2.919999999999993
         },
         {
          "Config": "sum[m]",
          "KE (eV)": "04.0",
          "Phase shift diff (deg)": 231.737147430901,
          "Phase shift diff (rad)": 4.04457622184874,
          "Photon energy (eV)": 14.3,
          "Polar ang (deg)": 167.876633973331,
          "Polar ang (rad)": 2.9299999999999966
         },
         {
          "Config": "sum[m]",
          "KE (eV)": "04.0",
          "Phase shift diff (deg)": 231.664064574237,
          "Phase shift diff (rad)": 4.0433006853731905,
          "Photon energy (eV)": 14.3,
          "Polar ang (deg)": 168.449591768462,
          "Polar ang (rad)": 2.9399999999999995
         },
         {
          "Config": "sum[m]",
          "KE (eV)": "04.0",
          "Phase shift diff (deg)": 231.594859790155,
          "Phase shift diff (rad)": 4.042092834032828,
          "Photon energy (eV)": 14.3,
          "Polar ang (deg)": 169.022549563593,
          "Polar ang (rad)": 2.9500000000000024
         },
         {
          "Config": "sum[m]",
          "KE (eV)": "04.0",
          "Phase shift diff (deg)": 231.529480794683,
          "Phase shift diff (rad)": 4.0409517553001955,
          "Photon energy (eV)": 14.3,
          "Polar ang (deg)": 169.595507358724,
          "Polar ang (rad)": 2.9600000000000057
         },
         {
          "Config": "sum[m]",
          "KE (eV)": "04.0",
          "Phase shift diff (deg)": 231.467878377728,
          "Phase shift diff (rad)": 4.039876590297144,
          "Photon energy (eV)": 14.3,
          "Polar ang (deg)": 170.168465153855,
          "Polar ang (rad)": 2.970000000000009
         },
         {
          "Config": "sum[m]",
          "KE (eV)": "04.0",
          "Phase shift diff (deg)": 231.410006336118,
          "Phase shift diff (rad)": 4.038866532626199,
          "Photon energy (eV)": 14.3,
          "Polar ang (deg)": 170.741422948985,
          "Polar ang (rad)": 2.979999999999994
         },
         {
          "Config": "sum[m]",
          "KE (eV)": "04.0",
          "Phase shift diff (deg)": 231.355821410776,
          "Phase shift diff (rad)": 4.037920827274033,
          "Photon energy (eV)": 14.3,
          "Polar ang (deg)": 171.314380744116,
          "Polar ang (rad)": 2.989999999999997
         },
         {
          "Config": "sum[m]",
          "KE (eV)": "04.0",
          "Phase shift diff (deg)": 231.305283227956,
          "Phase shift diff (rad)": 4.03703876958585,
          "Photon energy (eV)": 14.3,
          "Polar ang (deg)": 171.887338539247,
          "Polar ang (rad)": 3.0000000000000004
         },
         {
          "Config": "sum[m]",
          "KE (eV)": "04.0",
          "Phase shift diff (deg)": 231.258354244428,
          "Phase shift diff (rad)": 4.036219704308673,
          "Photon energy (eV)": 14.3,
          "Polar ang (deg)": 172.460296334378,
          "Polar ang (rad)": 3.010000000000004
         },
         {
          "Config": "sum[m]",
          "KE (eV)": "04.0",
          "Phase shift diff (deg)": 231.214999696569,
          "Phase shift diff (rad)": 4.035463024702819,
          "Photon energy (eV)": 14.3,
          "Polar ang (deg)": 173.033254129509,
          "Polar ang (rad)": 3.0200000000000067
         },
         {
          "Config": "sum[m]",
          "KE (eV)": "04.0",
          "Phase shift diff (deg)": 231.175187553257,
          "Phase shift diff (rad)": 4.034768171719748,
          "Photon energy (eV)": 14.3,
          "Polar ang (deg)": 173.606211924639,
          "Polar ang (rad)": 3.0299999999999927
         },
         {
          "Config": "sum[m]",
          "KE (eV)": "04.0",
          "Phase shift diff (deg)": 231.138888472498,
          "Phase shift diff (rad)": 4.034134633245056,
          "Photon energy (eV)": 14.3,
          "Polar ang (deg)": 174.17916971977,
          "Polar ang (rad)": 3.039999999999995
         },
         {
          "Config": "sum[m]",
          "KE (eV)": "04.0",
          "Phase shift diff (deg)": 231.106075761746,
          "Phase shift diff (rad)": 4.033561943405931,
          "Photon energy (eV)": 14.3,
          "Polar ang (deg)": 174.752127514901,
          "Polar ang (rad)": 3.0499999999999985
         },
         {
          "Config": "sum[m]",
          "KE (eV)": "04.0",
          "Phase shift diff (deg)": 231.076725341818,
          "Phase shift diff (rad)": 4.0330496819413435,
          "Photon energy (eV)": 14.3,
          "Polar ang (deg)": 175.325085310032,
          "Polar ang (rad)": 3.0600000000000014
         },
         {
          "Config": "sum[m]",
          "KE (eV)": "04.0",
          "Phase shift diff (deg)": 231.050815714384,
          "Phase shift diff (rad)": 4.032597473634655,
          "Photon energy (eV)": 14.3,
          "Polar ang (deg)": 175.898043105163,
          "Polar ang (rad)": 3.0700000000000047
         },
         {
          "Config": "sum[m]",
          "KE (eV)": "04.0",
          "Phase shift diff (deg)": 231.028327932945,
          "Phase shift diff (rad)": 4.032204987807075,
          "Photon energy (eV)": 14.3,
          "Polar ang (deg)": 176.471000900294,
          "Polar ang (rad)": 3.0800000000000076
         },
         {
          "Config": "sum[m]",
          "KE (eV)": "04.0",
          "Phase shift diff (deg)": 231.009245577292,
          "Phase shift diff (rad)": 4.031871937871895,
          "Photon energy (eV)": 14.3,
          "Polar ang (deg)": 177.043958695424,
          "Polar ang (rad)": 3.0899999999999936
         },
         {
          "Config": "sum[m]",
          "KE (eV)": "04.0",
          "Phase shift diff (deg)": 230.99355473137,
          "Phase shift diff (rad)": 4.031598080948132,
          "Photon energy (eV)": 14.3,
          "Polar ang (deg)": 177.616916490555,
          "Polar ang (rad)": 3.099999999999997
         },
         {
          "Config": "sum[m]",
          "KE (eV)": "04.0",
          "Phase shift diff (deg)": 230.981243964534,
          "Phase shift diff (rad)": 4.031383217533398,
          "Photon energy (eV)": 14.3,
          "Polar ang (deg)": 178.189874285686,
          "Polar ang (rad)": 3.1099999999999994
         },
         {
          "Config": "sum[m]",
          "KE (eV)": "04.0",
          "Phase shift diff (deg)": 230.97230431616,
          "Phase shift diff (rad)": 4.031227191235302,
          "Photon energy (eV)": 14.3,
          "Polar ang (deg)": 178.762832080817,
          "Polar ang (rad)": 3.1200000000000023
         },
         {
          "Config": "sum[m]",
          "KE (eV)": "04.0",
          "Phase shift diff (deg)": 230.966729283583,
          "Phase shift diff (rad)": 4.031129888560927,
          "Photon energy (eV)": 14.3,
          "Polar ang (deg)": 179.335789875948,
          "Polar ang (rad)": 3.1300000000000057
         },
         {
          "Config": "sum[m]",
          "KE (eV)": "04.0",
          "Phase shift diff (deg)": 230.964514813348,
          "Phase shift diff (rad)": 4.031091238764138,
          "Photon energy (eV)": 14.3,
          "Polar ang (deg)": 179.908747671079,
          "Polar ang (rad)": 3.140000000000009
         },
         {
          "Config": "sum[m]",
          "KE (eV)": "07.2",
          "Phase shift diff (deg)": 53.9812773668436,
          "Phase shift diff (rad)": 0.9421510244837157,
          "Photon energy (eV)": 15.9,
          "Polar ang (deg)": 0,
          "Polar ang (rad)": 0
         },
         {
          "Config": "sum[m]",
          "KE (eV)": "07.2",
          "Phase shift diff (deg)": 53.9823796813146,
          "Phase shift diff (rad)": 0.942170263500627,
          "Photon energy (eV)": 15.9,
          "Polar ang (deg)": 0.572957795130823,
          "Polar ang (rad)": 0.009999999999999997
         },
         {
          "Config": "sum[m]",
          "KE (eV)": "07.2",
          "Phase shift diff (deg)": 53.9856876839446,
          "Phase shift diff (rad)": 0.9422279990381851,
          "Photon energy (eV)": 15.9,
          "Polar ang (deg)": 1.14591559026165,
          "Polar ang (rad)": 0.020000000000000063
         },
         {
          "Config": "sum[m]",
          "KE (eV)": "07.2",
          "Phase shift diff (deg)": 53.9912045546168,
          "Phase shift diff (rad)": 0.9423242865958218,
          "Photon energy (eV)": 15.9,
          "Polar ang (deg)": 1.71887338539247,
          "Polar ang (rad)": 0.03000000000000001
         },
         {
          "Config": "sum[m]",
          "KE (eV)": "07.2",
          "Phase shift diff (deg)": 53.9989356005827,
          "Phase shift diff (rad)": 0.9424592188025498,
          "Photon energy (eV)": 15.9,
          "Polar ang (deg)": 2.29183118052329,
          "Polar ang (rad)": 0.039999999999999945
         },
         {
          "Config": "sum[m]",
          "KE (eV)": "07.2",
          "Phase shift diff (deg)": 54.0088882676603,
          "Phase shift diff (rad)": 0.9426329256124089,
          "Photon energy (eV)": 15.9,
          "Polar ang (deg)": 2.86478897565412,
          "Polar ang (rad)": 0.050000000000000065
         },
         {
          "Config": "sum[m]",
          "KE (eV)": "07.2",
          "Phase shift diff (deg)": 54.0210721559692,
          "Phase shift diff (rad)": 0.9428455745790943,
          "Photon energy (eV)": 15.9,
          "Polar ang (deg)": 3.43774677078494,
          "Polar ang (rad)": 0.06000000000000002
         },
         {
          "Config": "sum[m]",
          "KE (eV)": "07.2",
          "Phase shift diff (deg)": 54.0354990402596,
          "Phase shift diff (rad)": 0.9430973712107661,
          "Photon energy (eV)": 15.9,
          "Polar ang (deg)": 4.01070456591576,
          "Polar ang (rad)": 0.06999999999999995
         },
         {
          "Config": "sum[m]",
          "KE (eV)": "07.2",
          "Phase shift diff (deg)": 54.0521828949098,
          "Phase shift diff (rad)": 0.943388559406336,
          "Photon energy (eV)": 15.9,
          "Polar ang (deg)": 4.58366236104659,
          "Polar ang (rad)": 0.08000000000000007
         },
         {
          "Config": "sum[m]",
          "KE (eV)": "07.2",
          "Phase shift diff (deg)": 54.0711399236861,
          "Phase shift diff (rad)": 0.9437194219748779,
          "Photon energy (eV)": 15.9,
          "Polar ang (deg)": 5.15662015617741,
          "Polar ang (rad)": 0.09000000000000001
         },
         {
          "Config": "sum[m]",
          "KE (eV)": "07.2",
          "Phase shift diff (deg)": 54.0923885943722,
          "Phase shift diff (rad)": 0.9440902812400224,
          "Photon energy (eV)": 15.9,
          "Polar ang (deg)": 5.72957795130823,
          "Polar ang (rad)": 0.09999999999999998
         },
         {
          "Config": "sum[m]",
          "KE (eV)": "07.2",
          "Phase shift diff (deg)": 54.1159496784002,
          "Phase shift diff (rad)": 0.94450149973165,
          "Photon energy (eV)": 15.9,
          "Polar ang (deg)": 6.30253574643906,
          "Polar ang (rad)": 0.11000000000000007
         },
         {
          "Config": "sum[m]",
          "KE (eV)": "07.2",
          "Phase shift diff (deg)": 54.1418462956281,
          "Phase shift diff (rad)": 0.9449534809674055,
          "Photon energy (eV)": 15.9,
          "Polar ang (deg)": 6.87549354156988,
          "Polar ang (rad)": 0.12000000000000004
         },
         {
          "Config": "sum[m]",
          "KE (eV)": "07.2",
          "Phase shift diff (deg)": 54.1701039644336,
          "Phase shift diff (rad)": 0.9454466703269997,
          "Photon energy (eV)": 15.9,
          "Polar ang (deg)": 7.4484513367007,
          "Polar ang (rad)": 0.12999999999999995
         },
         {
          "Config": "sum[m]",
          "KE (eV)": "07.2",
          "Phase shift diff (deg)": 54.2007506573131,
          "Phase shift diff (rad)": 0.9459815560225944,
          "Photon energy (eV)": 15.9,
          "Polar ang (deg)": 8.02140913183153,
          "Polar ang (rad)": 0.1400000000000001
         },
         {
          "Config": "sum[m]",
          "KE (eV)": "07.2",
          "Phase shift diff (deg)": 54.2338168621971,
          "Phase shift diff (rad)": 0.9465586701689592,
          "Photon energy (eV)": 15.9,
          "Polar ang (deg)": 8.59436692696235,
          "Polar ang (rad)": 0.15
         },
         {
          "Config": "sum[m]",
          "KE (eV)": "07.2",
          "Phase shift diff (deg)": 54.2693356497159,
          "Phase shift diff (rad)": 0.9471785899574786,
          "Photon energy (eV)": 15.9,
          "Polar ang (deg)": 9.16732472209317,
          "Polar ang (rad)": 0.15999999999999998
         },
         {
          "Config": "sum[m]",
          "KE (eV)": "07.2",
          "Phase shift diff (deg)": 54.3073427466768,
          "Phase shift diff (rad)": 0.9478419389385709,
          "Photon energy (eV)": 15.9,
          "Polar ang (deg)": 9.740282517224,
          "Polar ang (rad)": 0.1700000000000001
         },
         {
          "Config": "sum[m]",
          "KE (eV)": "07.2",
          "Phase shift diff (deg)": 54.3478766160364,
          "Phase shift diff (rad)": 0.9485493884174693,
          "Photon energy (eV)": 15.9,
          "Polar ang (deg)": 10.3132403123548,
          "Polar ang (rad)": 0.1799999999999997
         },
         {
          "Config": "sum[m]",
          "KE (eV)": "07.2",
          "Phase shift diff (deg)": 54.3909785436832,
          "Phase shift diff (rad)": 0.9493016589688622,
          "Photon energy (eV)": 15.9,
          "Polar ang (deg)": 10.8861981074856,
          "Polar ang (rad)": 0.18999999999999928
         },
         {
          "Config": "sum[m]",
          "KE (eV)": "07.2",
          "Phase shift diff (deg)": 54.4366927323728,
          "Phase shift diff (rad)": 0.9500995220763737,
          "Photon energy (eV)": 15.9,
          "Polar ang (deg)": 11.4591559026165,
          "Polar ang (rad)": 0.2000000000000006
         },
         {
          "Config": "sum[m]",
          "KE (eV)": "07.2",
          "Phase shift diff (deg)": 54.4850664031913,
          "Phase shift diff (rad)": 0.9509438019034323,
          "Photon energy (eV)": 15.9,
          "Polar ang (deg)": 12.0321136977473,
          "Polar ang (rad)": 0.21000000000000024
         },
         {
          "Config": "sum[m]",
          "KE (eV)": "07.2",
          "Phase shift diff (deg)": 54.5361499049567,
          "Phase shift diff (rad)": 0.951835377202687,
          "Photon energy (eV)": 15.9,
          "Polar ang (deg)": 12.6050714928781,
          "Polar ang (rad)": 0.21999999999999978
         },
         {
          "Config": "sum[m]",
          "KE (eV)": "07.2",
          "Phase shift diff (deg)": 54.5899968320031,
          "Phase shift diff (rad)": 0.952775183371728,
          "Photon energy (eV)": 15.9,
          "Polar ang (deg)": 13.1780292880089,
          "Polar ang (rad)": 0.22999999999999943
         },
         {
          "Config": "sum[m]",
          "KE (eV)": "07.2",
          "Phase shift diff (deg)": 54.6466641508333,
          "Phase shift diff (rad)": 0.9537642146635923,
          "Photon energy (eV)": 15.9,
          "Polar ang (deg)": 13.7509870831398,
          "Polar ang (rad)": 0.2400000000000007
         },
         {
          "Config": "sum[m]",
          "KE (eV)": "07.2",
          "Phase shift diff (deg)": 54.7062123361688,
          "Phase shift diff (rad)": 0.9548035265612844,
          "Photon energy (eV)": 15.9,
          "Polar ang (deg)": 14.3239448782706,
          "Polar ang (rad)": 0.25000000000000033
         },
         {
          "Config": "sum[m]",
          "KE (eV)": "07.2",
          "Phase shift diff (deg)": 54.7687055169679,
          "Phase shift diff (rad)": 0.955894238326273,
          "Photon energy (eV)": 15.9,
          "Polar ang (deg)": 14.8969026734014,
          "Polar ang (rad)": 0.2599999999999999
         },
         {
          "Config": "sum[m]",
          "KE (eV)": "07.2",
          "Phase shift diff (deg)": 54.8342116330367,
          "Phase shift diff (rad)": 0.9570375357318671,
          "Photon energy (eV)": 15.9,
          "Polar ang (deg)": 15.4698604685322,
          "Polar ang (rad)": 0.2699999999999995
         },
         {
          "Config": "sum[m]",
          "KE (eV)": "07.2",
          "Phase shift diff (deg)": 54.9028026029081,
          "Phase shift diff (rad)": 0.9582346739932593,
          "Photon energy (eV)": 15.9,
          "Polar ang (deg)": 16.0428182636631,
          "Polar ang (rad)": 0.28000000000000086
         },
         {
          "Config": "sum[m]",
          "KE (eV)": "07.2",
          "Phase shift diff (deg)": 54.9745545037221,
          "Phase shift diff (rad)": 0.959486980907028,
          "Photon energy (eV)": 15.9,
          "Polar ang (deg)": 16.6157760587939,
          "Polar ang (rad)": 0.2900000000000005
         },
         {
          "Config": "sum[m]",
          "KE (eV)": "07.2",
          "Phase shift diff (deg)": 55.0495477639044,
          "Phase shift diff (rad)": 0.9607958602140139,
          "Photon energy (eV)": 15.9,
          "Polar ang (deg)": 17.1887338539247,
          "Polar ang (rad)": 0.3
         },
         {
          "Config": "sum[m]",
          "KE (eV)": "07.2",
          "Phase shift diff (deg)": 55.1278673695061,
          "Phase shift diff (rad)": 0.9621627952006268,
          "Photon energy (eV)": 15.9,
          "Polar ang (deg)": 17.7616916490555,
          "Polar ang (rad)": 0.30999999999999966
         },
         {
          "Config": "sum[m]",
          "KE (eV)": "07.2",
          "Phase shift diff (deg)": 55.2096030851433,
          "Phase shift diff (rad)": 0.9635893525549698,
          "Photon energy (eV)": 15.9,
          "Polar ang (deg)": 18.3346494441863,
          "Polar ang (rad)": 0.31999999999999923
         },
         {
          "Config": "sum[m]",
          "KE (eV)": "07.2",
          "Phase shift diff (deg)": 55.294849690553,
          "Phase shift diff (rad)": 0.9650771864955175,
          "Photon energy (eV)": 15.9,
          "Polar ang (deg)": 18.9076072393172,
          "Polar ang (rad)": 0.3300000000000006
         },
         {
          "Config": "sum[m]",
          "KE (eV)": "07.2",
          "Phase shift diff (deg)": 55.3837072338707,
          "Phase shift diff (rad)": 0.9666280431916449,
          "Photon energy (eV)": 15.9,
          "Polar ang (deg)": 19.480565034448,
          "Polar ang (rad)": 0.3400000000000002
         },
         {
          "Config": "sum[m]",
          "KE (eV)": "07.2",
          "Phase shift diff (deg)": 55.4762813028271,
          "Phase shift diff (rad)": 0.9682437654969023,
          "Photon energy (eV)": 15.9,
          "Polar ang (deg)": 20.0535228295788,
          "Polar ang (rad)": 0.34999999999999976
         },
         {
          "Config": "sum[m]",
          "KE (eV)": "07.2",
          "Phase shift diff (deg)": 55.5726833151679,
          "Phase shift diff (rad)": 0.9699262980177975,
          "Photon energy (eV)": 15.9,
          "Polar ang (deg)": 20.6264806247096,
          "Polar ang (rad)": 0.3599999999999994
         },
         {
          "Config": "sum[m]",
          "KE (eV)": "07.2",
          "Phase shift diff (deg)": 55.6730308297086,
          "Phase shift diff (rad)": 0.9716776925427256,
          "Photon energy (eV)": 15.9,
          "Polar ang (deg)": 21.1994384198405,
          "Polar ang (rad)": 0.3700000000000007
         },
         {
          "Config": "sum[m]",
          "KE (eV)": "07.2",
          "Phase shift diff (deg)": 55.7774478795623,
          "Phase shift diff (rad)": 0.9735001138578918,
          "Photon energy (eV)": 15.9,
          "Polar ang (deg)": 21.7723962149713,
          "Polar ang (rad)": 0.38000000000000034
         },
         {
          "Config": "sum[m]",
          "KE (eV)": "07.2",
          "Phase shift diff (deg)": 55.8860653292085,
          "Phase shift diff (rad)": 0.9753958459793369,
          "Photon energy (eV)": 15.9,
          "Polar ang (deg)": 22.3453540101021,
          "Polar ang (rad)": 0.3899999999999999
         },
         {
          "Config": "sum[m]",
          "KE (eV)": "07.2",
          "Phase shift diff (deg)": 55.9990212572196,
          "Phase shift diff (rad)": 0.9773672988327764,
          "Photon energy (eV)": 15.9,
          "Polar ang (deg)": 22.9183118052329,
          "Polar ang (rad)": 0.39999999999999947
         },
         {
          "Config": "sum[m]",
          "KE (eV)": "07.2",
          "Phase shift diff (deg)": 56.1164613666172,
          "Phase shift diff (rad)": 0.979417015415667,
          "Photon energy (eV)": 15.9,
          "Polar ang (deg)": 23.4912696003638,
          "Polar ang (rad)": 0.41000000000000086
         },
         {
          "Config": "sum[m]",
          "KE (eV)": "07.2",
          "Phase shift diff (deg)": 56.2385394250062,
          "Phase shift diff (rad)": 0.9815476794789969,
          "Photon energy (eV)": 15.9,
          "Polar ang (deg)": 24.0642273954946,
          "Polar ang (rad)": 0.4200000000000005
         },
         {
          "Config": "sum[m]",
          "KE (eV)": "07.2",
          "Phase shift diff (deg)": 56.3654177368228,
          "Phase shift diff (rad)": 0.9837621237695685,
          "Photon energy (eV)": 15.9,
          "Polar ang (deg)": 24.6371851906254,
          "Polar ang (rad)": 0.43000000000000005
         },
         {
          "Config": "sum[m]",
          "KE (eV)": "07.2",
          "Phase shift diff (deg)": 56.4972676502405,
          "Phase shift diff (rad)": 0.9860633388771768,
          "Photon energy (eV)": 15.9,
          "Polar ang (deg)": 25.2101429857562,
          "Polar ang (rad)": 0.43999999999999956
         },
         {
          "Config": "sum[m]",
          "KE (eV)": "07.2",
          "Phase shift diff (deg)": 56.6342701015014,
          "Phase shift diff (rad)": 0.9884544827349826,
          "Photon energy (eV)": 15.9,
          "Polar ang (deg)": 25.783100780887,
          "Polar ang (rad)": 0.44999999999999923
         },
         {
          "Config": "sum[m]",
          "KE (eV)": "07.2",
          "Phase shift diff (deg)": 56.7766161996913,
          "Phase shift diff (rad)": 0.9909388908257635,
          "Photon energy (eV)": 15.9,
          "Polar ang (deg)": 26.3560585760179,
          "Polar ang (rad)": 0.4600000000000006
         },
         {
          "Config": "sum[m]",
          "KE (eV)": "07.2",
          "Phase shift diff (deg)": 56.9245078552428,
          "Phase shift diff (rad)": 0.9935200871513625,
          "Photon energy (eV)": 15.9,
          "Polar ang (deg)": 26.9290163711487,
          "Polar ang (rad)": 0.47000000000000014
         },
         {
          "Config": "sum[m]",
          "KE (eV)": "07.2",
          "Phase shift diff (deg)": 57.0781584557499,
          "Phase shift diff (rad)": 0.9962017960278778,
          "Photon energy (eV)": 15.9,
          "Polar ang (deg)": 27.5019741662795,
          "Polar ang (rad)": 0.4799999999999997
         },
         {
          "Config": "sum[m]",
          "KE (eV)": "07.2",
          "Phase shift diff (deg)": 57.237793592994,
          "Phase shift diff (rad)": 0.9989879547746604,
          "Photon energy (eV)": 15.9,
          "Polar ang (deg)": 28.0749319614103,
          "Polar ang (rad)": 0.4899999999999993
         },
         {
          "Config": "sum[m]",
          "KE (eV)": "07.2",
          "Phase shift diff (deg)": 57.4036518454402,
          "Phase shift diff (rad)": 1.0018827273714506,
          "Photon energy (eV)": 15.9,
          "Polar ang (deg)": 28.6478897565412,
          "Polar ang (rad)": 0.5000000000000007
         },
         {
          "Config": "sum[m]",
          "KE (eV)": "07.2",
          "Phase shift diff (deg)": 57.5759856208409,
          "Phase shift diff (rad)": 1.0048905191645852,
          "Photon energy (eV)": 15.9,
          "Polar ang (deg)": 29.220847551672,
          "Polar ang (rad)": 0.5100000000000002
         },
         {
          "Config": "sum[m]",
          "KE (eV)": "07.2",
          "Phase shift diff (deg)": 57.7550620640064,
          "Phase shift diff (rad)": 1.0080159927105836,
          "Photon energy (eV)": 15.9,
          "Polar ang (deg)": 29.7938053468028,
          "Polar ang (rad)": 0.5199999999999998
         },
         {
          "Config": "sum[m]",
          "KE (eV)": "07.2",
          "Phase shift diff (deg)": 57.9411640352575,
          "Phase shift diff (rad)": 1.0112640848533672,
          "Photon energy (eV)": 15.9,
          "Polar ang (deg)": 30.3667631419336,
          "Polar ang (rad)": 0.5299999999999995
         },
         {
          "Config": "sum[m]",
          "KE (eV)": "07.2",
          "Phase shift diff (deg)": 58.1345911655746,
          "Phase shift diff (rad)": 1.0146400251400847,
          "Photon energy (eV)": 15.9,
          "Polar ang (deg)": 30.9397209370645,
          "Polar ang (rad)": 0.5400000000000008
         },
         {
          "Config": "sum[m]",
          "KE (eV)": "07.2",
          "Phase shift diff (deg)": 58.3356609949965,
          "Phase shift diff (rad)": 1.0181493556899202,
          "Photon energy (eV)": 15.9,
          "Polar ang (deg)": 31.5126787321953,
          "Polar ang (rad)": 0.5500000000000004
         },
         {
          "Config": "sum[m]",
          "KE (eV)": "07.2",
          "Phase shift diff (deg)": 58.5447102014114,
          "Phase shift diff (rad)": 1.0217979526405416,
          "Photon energy (eV)": 15.9,
          "Polar ang (deg)": 32.0856365273261,
          "Polar ang (rad)": 0.56
         },
         {
          "Config": "sum[m]",
          "KE (eV)": "07.2",
          "Phase shift diff (deg)": 58.7620959275216,
          "Phase shift diff (rad)": 1.025592049308003,
          "Photon energy (eV)": 15.9,
          "Polar ang (deg)": 32.6585943224569,
          "Polar ang (rad)": 0.5699999999999995
         },
         {
          "Config": "sum[m]",
          "KE (eV)": "07.2",
          "Phase shift diff (deg)": 58.9881972144472,
          "Phase shift diff (rad)": 1.0295382612078512,
          "Photon energy (eV)": 15.9,
          "Polar ang (deg)": 33.2315521175877,
          "Polar ang (rad)": 0.5799999999999991
         },
         {
          "Config": "sum[m]",
          "KE (eV)": "07.2",
          "Phase shift diff (deg)": 59.223416551182,
          "Phase shift diff (rad)": 1.0336436130982307,
          "Photon energy (eV)": 15.9,
          "Polar ang (deg)": 33.8045099127186,
          "Polar ang (rad)": 0.5900000000000005
         },
         {
          "Config": "sum[m]",
          "KE (eV)": "07.2",
          "Phase shift diff (deg)": 59.4681815499099,
          "Phase shift diff (rad)": 1.0379155682196723,
          "Photon energy (eV)": 15.9,
          "Polar ang (deg)": 34.3774677078494,
          "Polar ang (rad)": 0.6
         },
         {
          "Config": "sum[m]",
          "KE (eV)": "07.2",
          "Phase shift diff (deg)": 59.722946758043,
          "Phase shift diff (rad)": 1.0423620599211234,
          "Photon energy (eV)": 15.9,
          "Polar ang (deg)": 34.9504255029802,
          "Polar ang (rad)": 0.6099999999999998
         },
         {
          "Config": "sum[m]",
          "KE (eV)": "07.2",
          "Phase shift diff (deg)": 59.9881956187523,
          "Phase shift diff (rad)": 1.0469915258776648,
          "Photon energy (eV)": 15.9,
          "Polar ang (deg)": 35.523383298111,
          "Polar ang (rad)": 0.6199999999999993
         },
         {
          "Config": "sum[m]",
          "KE (eV)": "07.2",
          "Phase shift diff (deg)": 60.264442592718,
          "Phase shift diff (rad)": 1.0518129451220373,
          "Photon energy (eV)": 15.9,
          "Polar ang (deg)": 36.0963410932419,
          "Polar ang (rad)": 0.6300000000000006
         },
         {
          "Config": "sum[m]",
          "KE (eV)": "07.2",
          "Phase shift diff (deg)": 60.5522354548333,
          "Phase shift diff (rad)": 1.0568358781296872,
          "Photon energy (eV)": 15.9,
          "Polar ang (deg)": 36.6692988883727,
          "Polar ang (rad)": 0.6400000000000002
         },
         {
          "Config": "sum[m]",
          "KE (eV)": "07.2",
          "Phase shift diff (deg)": 60.8521577806328,
          "Phase shift diff (rad)": 1.0620705102151278,
          "Photon energy (eV)": 15.9,
          "Polar ang (deg)": 37.2422566835035,
          "Polar ang (rad)": 0.6499999999999998
         },
         {
          "Config": "sum[m]",
          "KE (eV)": "07.2",
          "Phase shift diff (deg)": 61.1648316382828,
          "Phase shift diff (rad)": 1.0675276985160322,
          "Photon energy (eV)": 15.9,
          "Polar ang (deg)": 37.8152144786343,
          "Polar ang (rad)": 0.6599999999999995
         },
         {
          "Config": "sum[m]",
          "KE (eV)": "07.2",
          "Phase shift diff (deg)": 61.4909205030291,
          "Phase shift diff (rad)": 1.0732190228599456,
          "Photon energy (eV)": 15.9,
          "Polar ang (deg)": 38.3881722737652,
          "Polar ang (rad)": 0.6700000000000008
         },
         {
          "Config": "sum[m]",
          "KE (eV)": "07.2",
          "Phase shift diff (deg)": 61.8311324120377,
          "Phase shift diff (rad)": 1.079156840826641,
          "Photon energy (eV)": 15.9,
          "Polar ang (deg)": 38.961130068896,
          "Polar ang (rad)": 0.6800000000000004
         },
         {
          "Config": "sum[m]",
          "KE (eV)": "07.2",
          "Phase shift diff (deg)": 62.1862233785307,
          "Phase shift diff (rad)": 1.0853543473360328,
          "Photon energy (eV)": 15.9,
          "Polar ang (deg)": 39.5340878640268,
          "Polar ang (rad)": 0.69
         },
         {
          "Config": "sum[m]",
          "KE (eV)": "07.2",
          "Phase shift diff (deg)": 62.557001084965,
          "Phase shift diff (rad)": 1.0918256391063041,
          "Photon energy (eV)": 15.9,
          "Polar ang (deg)": 40.1070456591576,
          "Polar ang (rad)": 0.6999999999999995
         },
         {
          "Config": "sum[m]",
          "KE (eV)": "07.2",
          "Phase shift diff (deg)": 62.9443288756609,
          "Phase shift diff (rad)": 1.0985857843384232,
          "Photon energy (eV)": 15.9,
          "Polar ang (deg)": 40.6800034542884,
          "Polar ang (rad)": 0.7099999999999992
         },
         {
          "Config": "sum[m]",
          "KE (eV)": "07.2",
          "Phase shift diff (deg)": 63.349130069649,
          "Phase shift diff (rad)": 1.1056508979895197,
          "Photon energy (eV)": 15.9,
          "Polar ang (deg)": 41.2529612494193,
          "Polar ang (rad)": 0.7200000000000004
         },
         {
          "Config": "sum[m]",
          "KE (eV)": "07.2",
          "Phase shift diff (deg)": 63.7723926144649,
          "Phase shift diff (rad)": 1.1130382229969271,
          "Photon energy (eV)": 15.9,
          "Polar ang (deg)": 41.8259190445501,
          "Polar ang (rad)": 0.73
         },
         {
          "Config": "sum[m]",
          "KE (eV)": "07.2",
          "Phase shift diff (deg)": 64.2151741009961,
          "Phase shift diff (rad)": 1.1207662178037714,
          "Photon energy (eV)": 15.9,
          "Polar ang (deg)": 42.3988768396809,
          "Polar ang (rad)": 0.7399999999999998
         },
         {
          "Config": "sum[m]",
          "KE (eV)": "07.2",
          "Phase shift diff (deg)": 64.6786071580873,
          "Phase shift diff (rad)": 1.128854650512596,
          "Photon energy (eV)": 15.9,
          "Polar ang (deg)": 42.9718346348117,
          "Polar ang (rad)": 0.7499999999999992
         },
         {
          "Config": "sum[m]",
          "KE (eV)": "07.2",
          "Phase shift diff (deg)": 65.1639052431456,
          "Phase shift diff (rad)": 1.137324699950487,
          "Photon energy (eV)": 15.9,
          "Polar ang (deg)": 43.5447924299426,
          "Polar ang (rad)": 0.7600000000000007
         },
         {
          "Config": "sum[m]",
          "KE (eV)": "07.2",
          "Phase shift diff (deg)": 65.6723688411287,
          "Phase shift diff (rad)": 1.1461990638618287,
          "Photon energy (eV)": 15.9,
          "Polar ang (deg)": 44.1177502250734,
          "Polar ang (rad)": 0.7700000000000002
         },
         {
          "Config": "sum[m]",
          "KE (eV)": "07.2",
          "Phase shift diff (deg)": 66.2053920785891,
          "Phase shift diff (rad)": 1.155502074345152,
          "Photon energy (eV)": 15.9,
          "Polar ang (deg)": 44.6907080202042,
          "Polar ang (rad)": 0.7799999999999998
         },
         {
          "Config": "sum[m]",
          "KE (eV)": "07.2",
          "Phase shift diff (deg)": 66.7644697513333,
          "Phase shift diff (rad)": 1.1652598205089257,
          "Photon energy (eV)": 15.9,
          "Polar ang (deg)": 45.263665815335,
          "Polar ang (rad)": 0.7899999999999994
         },
         {
          "Config": "sum[m]",
          "KE (eV)": "07.2",
          "Phase shift diff (deg)": 67.3512047530253,
          "Phase shift diff (rad)": 1.1755002781251458,
          "Photon energy (eV)": 15.9,
          "Polar ang (deg)": 45.8366236104659,
          "Polar ang (rad)": 0.8000000000000007
         },
         {
          "Config": "sum[m]",
          "KE (eV)": "07.2",
          "Phase shift diff (deg)": 67.9673158768282,
          "Phase shift diff (rad)": 1.1862534457936686,
          "Photon energy (eV)": 15.9,
          "Polar ang (deg)": 46.4095814055967,
          "Polar ang (rad)": 0.8100000000000003
         },
         {
          "Config": "sum[m]",
          "KE (eV)": "07.2",
          "Phase shift diff (deg)": 68.6146459418366,
          "Phase shift diff (rad)": 1.1975514867752144,
          "Photon energy (eV)": 15.9,
          "Polar ang (deg)": 46.9825392007275,
          "Polar ang (rad)": 0.82
         },
         {
          "Config": "sum[m]",
          "KE (eV)": "07.2",
          "Phase shift diff (deg)": 69.2951701692321,
          "Phase shift diff (rad)": 1.2094288751828564,
          "Photon energy (eV)": 15.9,
          "Polar ang (deg)": 47.5554969958583,
          "Polar ang (rad)": 0.8299999999999995
         },
         {
          "Config": "sum[m]",
          "KE (eV)": "07.2",
          "Phase shift diff (deg)": 70.01100469813,
          "Phase shift diff (rad)": 1.2219225446115871,
          "Photon energy (eV)": 15.9,
          "Polar ang (deg)": 48.1284547909891,
          "Polar ang (rad)": 0.8399999999999992
         },
         {
          "Config": "sum[m]",
          "KE (eV)": "07.2",
          "Phase shift diff (deg)": 70.7644150859456,
          "Phase shift diff (rad)": 1.2350720364976968,
          "Photon energy (eV)": 15.9,
          "Polar ang (deg)": 48.70141258612,
          "Polar ang (rad)": 0.8500000000000005
         },
         {
          "Config": "sum[m]",
          "KE (eV)": "07.2",
          "Phase shift diff (deg)": 71.5578245803954,
          "Phase shift diff (rad)": 1.2489196444924295,
          "Photon energy (eV)": 15.9,
          "Polar ang (deg)": 49.2743703812508,
          "Polar ang (rad)": 0.8600000000000001
         },
         {
          "Config": "sum[m]",
          "KE (eV)": "07.2",
          "Phase shift diff (deg)": 72.3938218771248,
          "Phase shift diff (rad)": 1.2635105498581296,
          "Photon energy (eV)": 15.9,
          "Polar ang (deg)": 49.8473281763816,
          "Polar ang (rad)": 0.8699999999999997
         },
         {
          "Config": "sum[m]",
          "KE (eV)": "07.2",
          "Phase shift diff (deg)": 73.2751679852144,
          "Phase shift diff (rad)": 1.2788929412939307,
          "Photon energy (eV)": 15.9,
          "Polar ang (deg)": 50.4202859715125,
          "Polar ang (rad)": 0.8800000000000009
         },
         {
          "Config": "sum[m]",
          "KE (eV)": "07.2",
          "Phase shift diff (deg)": 74.2048017089036,
          "Phase shift diff (rad)": 1.2951181106098826,
          "Photon energy (eV)": 15.9,
          "Polar ang (deg)": 50.9932437666433,
          "Polar ang (rad)": 0.8900000000000007
         },
         {
          "Config": "sum[m]",
          "KE (eV)": "07.2",
          "Phase shift diff (deg)": 75.1858431140757,
          "Phase shift diff (rad)": 1.3122405132285273,
          "Photon energy (eV)": 15.9,
          "Polar ang (deg)": 51.5662015617741,
          "Polar ang (rad)": 0.9000000000000001
         },
         {
          "Config": "sum[m]",
          "KE (eV)": "07.2",
          "Phase shift diff (deg)": 76.2215941788144,
          "Phase shift diff (rad)": 1.3303177795392547,
          "Photon energy (eV)": 15.9,
          "Polar ang (deg)": 52.1391593569049,
          "Polar ang (rad)": 0.9099999999999997
         },
         {
          "Config": "sum[m]",
          "KE (eV)": "07.2",
          "Phase shift diff (deg)": 77.3155356257827,
          "Phase shift diff (rad)": 1.3494106596128825,
          "Photon energy (eV)": 15.9,
          "Polar ang (deg)": 52.7121171520357,
          "Polar ang (rad)": 0.9199999999999995
         },
         {
          "Config": "sum[m]",
          "KE (eV)": "07.2",
          "Phase shift diff (deg)": 78.4713186989553,
          "Phase shift diff (rad)": 1.369582879678563,
          "Photon energy (eV)": 15.9,
          "Polar ang (deg)": 53.2850749471666,
          "Polar ang (rad)": 0.9300000000000007
         },
         {
          "Config": "sum[m]",
          "KE (eV)": "07.2",
          "Phase shift diff (deg)": 79.6927503798394,
          "Phase shift diff (rad)": 1.390900884098159,
          "Photon energy (eV)": 15.9,
          "Polar ang (deg)": 53.8580327422974,
          "Polar ang (rad)": 0.9400000000000003
         },
         {
          "Config": "sum[m]",
          "KE (eV)": "07.2",
          "Phase shift diff (deg)": 80.9837702448807,
          "Phase shift diff (rad)": 1.4134334314517827,
          "Photon energy (eV)": 15.9,
          "Polar ang (deg)": 54.4309905374282,
          "Polar ang (rad)": 0.9499999999999998
         },
         {
          "Config": "sum[m]",
          "KE (eV)": "07.2",
          "Phase shift diff (deg)": 82.3484168596832,
          "Phase shift diff (rad)": 1.4372510080062812,
          "Photon energy (eV)": 15.9,
          "Polar ang (deg)": 55.003948332559,
          "Polar ang (rad)": 0.9599999999999994
         },
         {
          "Config": "sum[m]",
          "KE (eV)": "07.2",
          "Phase shift diff (deg)": 83.79078131086,
          "Phase shift diff (rad)": 1.4624250166930373,
          "Photon energy (eV)": 15.9,
          "Polar ang (deg)": 55.5769061276899,
          "Polar ang (rad)": 0.9700000000000009
         },
         {
          "Config": "sum[m]",
          "KE (eV)": "07.2",
          "Phase shift diff (deg)": 85.3149452313143,
          "Phase shift diff (rad)": 1.4890266954450697,
          "Photon energy (eV)": 15.9,
          "Polar ang (deg)": 56.1498639228207,
          "Polar ang (rad)": 0.9800000000000004
         },
         {
          "Config": "sum[m]",
          "KE (eV)": "07.2",
          "Phase shift diff (deg)": 86.9249005370015,
          "Phase shift diff (rad)": 1.5171257163392633,
          "Photon energy (eV)": 15.9,
          "Polar ang (deg)": 56.7228217179515,
          "Polar ang (rad)": 0.99
         },
         {
          "Config": "sum[m]",
          "KE (eV)": "07.2",
          "Phase shift diff (deg)": 88.6244481433042,
          "Phase shift diff (rad)": 1.5467884178636337,
          "Photon energy (eV)": 15.9,
          "Polar ang (deg)": 57.2957795130823,
          "Polar ang (rad)": 0.9999999999999997
         },
         {
          "Config": "sum[m]",
          "KE (eV)": "07.2",
          "Phase shift diff (deg)": 90.4170732728015,
          "Phase shift diff (rad)": 1.5780756286273512,
          "Photon energy (eV)": 15.9,
          "Polar ang (deg)": 57.8687373082132,
          "Polar ang (rad)": 1.010000000000001
         },
         {
          "Config": "sum[m]",
          "KE (eV)": "07.2",
          "Phase shift diff (deg)": 92.3057957323445,
          "Phase shift diff (rad)": 1.611040054202742,
          "Photon energy (eV)": 15.9,
          "Polar ang (deg)": 58.441695103344,
          "Polar ang (rad)": 1.0200000000000005
         },
         {
          "Config": "sum[m]",
          "KE (eV)": "07.2",
          "Phase shift diff (deg)": 94.2929948682467,
          "Phase shift diff (rad)": 1.6457232220170213,
          "Photon energy (eV)": 15.9,
          "Polar ang (deg)": 59.0146528984748,
          "Polar ang (rad)": 1.03
         },
         {
          "Config": "sum[m]",
          "KE (eV)": "07.2",
          "Phase shift diff (deg)": 96.3802109381648,
          "Phase shift diff (rad)": 1.6821520146376283,
          "Photon energy (eV)": 15.9,
          "Polar ang (deg)": 59.5876106936056,
          "Polar ang (rad)": 1.0399999999999996
         },
         {
          "Config": "sum[m]",
          "KE (eV)": "07.2",
          "Phase shift diff (deg)": 98.5679274554751,
          "Phase shift diff (rad)": 1.720334870964957,
          "Photon energy (eV)": 15.9,
          "Polar ang (deg)": 60.1605684887364,
          "Polar ang (rad)": 1.0499999999999994
         },
         {
          "Config": "sum[m]",
          "KE (eV)": "07.2",
          "Phase shift diff (deg)": 100.855342655112,
          "Phase shift diff (rad)": 1.760257797558784,
          "Photon energy (eV)": 15.9,
          "Polar ang (deg)": 60.7335262838673,
          "Polar ang (rad)": 1.0600000000000007
         },
         {
          "Config": "sum[m]",
          "KE (eV)": "07.2",
          "Phase shift diff (deg)": 103.240142419531,
          "Phase shift diff (rad)": 1.8018804054486808,
          "Photon energy (eV)": 15.9,
          "Polar ang (deg)": 61.3064840789981,
          "Polar ang (rad)": 1.0700000000000003
         },
         {
          "Config": "sum[m]",
          "KE (eV)": "07.2",
          "Phase shift diff (deg)": 105.718291375422,
          "Phase shift diff (rad)": 1.8451322640838386,
          "Photon energy (eV)": 15.9,
          "Polar ang (deg)": 61.8794418741289,
          "Polar ang (rad)": 1.0799999999999998
         },
         {
          "Config": "sum[m]",
          "KE (eV)": "07.2",
          "Phase shift diff (deg)": 108.283862737154,
          "Phase shift diff (rad)": 1.8899099315409362,
          "Photon energy (eV)": 15.9,
          "Polar ang (deg)": 62.4523996692597,
          "Polar ang (rad)": 1.0899999999999994
         },
         {
          "Config": "sum[m]",
          "KE (eV)": "07.2",
          "Phase shift diff (deg)": 110.928929892551,
          "Phase shift diff (rad)": 1.9360750623389744,
          "Photon energy (eV)": 15.9,
          "Polar ang (deg)": 63.0253574643906,
          "Polar ang (rad)": 1.1000000000000008
         },
         {
          "Config": "sum[m]",
          "KE (eV)": "07.2",
          "Phase shift diff (deg)": 113.64354263831,
          "Phase shift diff (rad)": 1.9834539926690729,
          "Photon energy (eV)": 15.9,
          "Polar ang (deg)": 63.5983152595214,
          "Polar ang (rad)": 1.1100000000000003
         },
         {
          "Config": "sum[m]",
          "KE (eV)": "07.2",
          "Phase shift diff (deg)": 116.415807436833,
          "Phase shift diff (rad)": 2.0318391411404364,
          "Photon energy (eV)": 15.9,
          "Polar ang (deg)": 64.1712730546522,
          "Polar ang (rad)": 1.12
         },
         {
          "Config": "sum[m]",
          "KE (eV)": "07.2",
          "Phase shift diff (deg)": 119.232083605637,
          "Phase shift diff (rad)": 2.0809924329315175,
          "Photon energy (eV)": 15.9,
          "Polar ang (deg)": 64.744230849783,
          "Polar ang (rad)": 1.1299999999999994
         },
         {
          "Config": "sum[m]",
          "KE (eV)": "07.2",
          "Phase shift diff (deg)": 122.077296283696,
          "Phase shift diff (rad)": 2.1306507620831328,
          "Photon energy (eV)": 15.9,
          "Polar ang (deg)": 65.3171886449139,
          "Polar ang (rad)": 1.1400000000000008
         },
         {
          "Config": "sum[m]",
          "KE (eV)": "07.2",
          "Phase shift diff (deg)": 124.935353653043,
          "Phase shift diff (rad)": 2.1805332733891256,
          "Photon energy (eV)": 15.9,
          "Polar ang (deg)": 65.8901464400447,
          "Polar ang (rad)": 1.1500000000000006
         },
         {
          "Config": "sum[m]",
          "KE (eV)": "07.2",
          "Phase shift diff (deg)": 127.789642423372,
          "Phase shift diff (rad)": 2.230350010234067,
          "Photon energy (eV)": 15.9,
          "Polar ang (deg)": 66.4631042351755,
          "Polar ang (rad)": 1.1600000000000004
         },
         {
          "Config": "sum[m]",
          "KE (eV)": "07.2",
          "Phase shift diff (deg)": 130.623564647175,
          "Phase shift diff (rad)": 2.2798112837848685,
          "Photon energy (eV)": 15.9,
          "Polar ang (deg)": 67.0360620303063,
          "Polar ang (rad)": 1.1699999999999997
         },
         {
          "Config": "sum[m]",
          "KE (eV)": "07.2",
          "Phase shift diff (deg)": 133.421072892501,
          "Phase shift diff (rad)": 2.328637013517497,
          "Photon energy (eV)": 15.9,
          "Polar ang (deg)": 67.6090198254371,
          "Polar ang (rad)": 1.1799999999999995
         },
         {
          "Config": "sum[m]",
          "KE (eV)": "07.2",
          "Phase shift diff (deg)": 136.167161041173,
          "Phase shift diff (rad)": 2.3765652932618186,
          "Photon energy (eV)": 15.9,
          "Polar ang (deg)": 68.181977620568,
          "Polar ang (rad)": 1.1900000000000006
         },
         {
          "Config": "sum[m]",
          "KE (eV)": "07.2",
          "Phase shift diff (deg)": 138.848274446303,
          "Phase shift diff (rad)": 2.4233595498006943,
          "Photon energy (eV)": 15.9,
          "Polar ang (deg)": 68.7549354156988,
          "Polar ang (rad)": 1.2
         },
         {
          "Config": "sum[m]",
          "KE (eV)": "07.2",
          "Phase shift diff (deg)": 141.452614399259,
          "Phase shift diff (rad)": 2.4688138568210105,
          "Photon energy (eV)": 15.9,
          "Polar ang (deg)": 69.3278932108296,
          "Polar ang (rad)": 1.2099999999999997
         },
         {
          "Config": "sum[m]",
          "KE (eV)": "07.2",
          "Phase shift diff (deg)": 143.970325407512,
          "Phase shift diff (rad)": 2.5127562035287316,
          "Photon energy (eV)": 15.9,
          "Polar ang (deg)": 69.9008510059604,
          "Polar ang (rad)": 1.2199999999999995
         },
         {
          "Config": "sum[m]",
          "KE (eV)": "07.2",
          "Phase shift diff (deg)": 146.39356704664,
          "Phase shift diff (rad)": 2.5550497487029387,
          "Photon energy (eV)": 15.9,
          "Polar ang (deg)": 70.4738088010913,
          "Polar ang (rad)": 1.2300000000000006
         },
         {
          "Config": "sum[m]",
          "KE (eV)": "07.2",
          "Phase shift diff (deg)": 148.716482981825,
          "Phase shift diff (rad)": 2.595592280018961,
          "Photon energy (eV)": 15.9,
          "Polar ang (deg)": 71.0467665962221,
          "Polar ang (rad)": 1.2400000000000004
         },
         {
          "Config": "sum[m]",
          "KE (eV)": "07.2",
          "Phase shift diff (deg)": 150.93508692365,
          "Phase shift diff (rad)": 2.6343142236015313,
          "Photon energy (eV)": 15.9,
          "Polar ang (deg)": 71.6197243913529,
          "Polar ang (rad)": 1.25
         },
         {
          "Config": "sum[m]",
          "KE (eV)": "07.2",
          "Phase shift diff (deg)": 153.047088538949,
          "Phase shift diff (rad)": 2.6711756055959377,
          "Photon energy (eV)": 15.9,
          "Polar ang (deg)": 72.1926821864837,
          "Polar ang (rad)": 1.2599999999999993
         },
         {
          "Config": "sum[m]",
          "KE (eV)": "07.2",
          "Phase shift diff (deg)": 155.051682204437,
          "Phase shift diff (rad)": 2.706162365223325,
          "Photon energy (eV)": 15.9,
          "Polar ang (deg)": 72.7656399816146,
          "Polar ang (rad)": 1.270000000000001
         },
         {
          "Config": "sum[m]",
          "KE (eV)": "07.2",
          "Phase shift diff (deg)": 156.949318927896,
          "Phase shift diff (rad)": 2.739282374054442,
          "Photon energy (eV)": 15.9,
          "Polar ang (deg)": 73.3385977767454,
          "Polar ang (rad)": 1.2800000000000005
         },
         {
          "Config": "sum[m]",
          "KE (eV)": "07.2",
          "Phase shift diff (deg)": 158.741477829043,
          "Phase shift diff (rad)": 2.7705614475983804,
          "Photon energy (eV)": 15.9,
          "Polar ang (deg)": 73.9115555718762,
          "Polar ang (rad)": 1.2900000000000003
         },
         {
          "Config": "sum[m]",
          "KE (eV)": "07.2",
          "Phase shift diff (deg)": 160.430449193251,
          "Phase shift diff (rad)": 2.8000395588757105,
          "Photon energy (eV)": 15.9,
          "Polar ang (deg)": 74.484513367007,
          "Polar ang (rad)": 1.2999999999999996
         },
         {
          "Config": "sum[m]",
          "KE (eV)": "07.2",
          "Phase shift diff (deg)": 162.019136954501,
          "Phase shift diff (rad)": 2.8277673910956604,
          "Photon energy (eV)": 15.9,
          "Polar ang (deg)": 75.0574711621378,
          "Polar ang (rad)": 1.3099999999999994
         },
         {
          "Config": "sum[m]",
          "KE (eV)": "07.2",
          "Phase shift diff (deg)": 163.510884924219,
          "Phase shift diff (rad)": 2.8538033047771805,
          "Photon energy (eV)": 15.9,
          "Polar ang (deg)": 75.6304289572687,
          "Polar ang (rad)": 1.3200000000000007
         },
         {
          "Config": "sum[m]",
          "KE (eV)": "07.2",
          "Phase shift diff (deg)": 164.909328324534,
          "Phase shift diff (rad)": 2.878210746515462,
          "Photon energy (eV)": 15.9,
          "Polar ang (deg)": 76.2033867523995,
          "Polar ang (rad)": 1.33
         },
         {
          "Config": "sum[m]",
          "KE (eV)": "07.2",
          "Phase shift diff (deg)": 166.218270210003,
          "Phase shift diff (rad)": 2.9010560921341586,
          "Photon energy (eV)": 15.9,
          "Polar ang (deg)": 76.7763445475303,
          "Polar ang (rad)": 1.3399999999999999
         },
         {
          "Config": "sum[m]",
          "KE (eV)": "07.2",
          "Phase shift diff (deg)": 167.441581077179,
          "Phase shift diff (rad)": 2.922406894541807,
          "Photon energy (eV)": 15.9,
          "Polar ang (deg)": 77.3493023426612,
          "Polar ang (rad)": 1.3500000000000012
         },
         {
          "Config": "sum[m]",
          "KE (eV)": "07.2",
          "Phase shift diff (deg)": 168.58311923092,
          "Phase shift diff (rad)": 2.9423304938617245,
          "Photon energy (eV)": 15.9,
          "Polar ang (deg)": 77.922260137792,
          "Polar ang (rad)": 1.3600000000000008
         },
         {
          "Config": "sum[m]",
          "KE (eV)": "07.2",
          "Phase shift diff (deg)": 169.646669158118,
          "Phase shift diff (rad)": 2.9608929418506755,
          "Photon energy (eV)": 15.9,
          "Polar ang (deg)": 78.4952179329228,
          "Polar ang (rad)": 1.3700000000000003
         },
         {
          "Config": "sum[m]",
          "KE (eV)": "07.2",
          "Phase shift diff (deg)": 170.635895126143,
          "Phase shift diff (rad)": 2.9781581920389404,
          "Photon energy (eV)": 15.9,
          "Polar ang (deg)": 79.0681757280536,
          "Polar ang (rad)": 1.38
         },
         {
          "Config": "sum[m]",
          "KE (eV)": "07.2",
          "Phase shift diff (deg)": 171.554307370885,
          "Phase shift diff (rad)": 2.9941875096003203,
          "Photon energy (eV)": 15.9,
          "Polar ang (deg)": 79.6411335231844,
          "Polar ang (rad)": 1.3899999999999992
         },
         {
          "Config": "sum[m]",
          "KE (eV)": "07.2",
          "Phase shift diff (deg)": 172.405238489118,
          "Phase shift diff (rad)": 3.009039059321163,
          "Photon energy (eV)": 15.9,
          "Polar ang (deg)": 80.2140913183153,
          "Polar ang (rad)": 1.4000000000000008
         },
         {
          "Config": "sum[m]",
          "KE (eV)": "07.2",
          "Phase shift diff (deg)": 173.191827946011,
          "Phase shift diff (rad)": 3.02276763520542,
          "Photon energy (eV)": 15.9,
          "Polar ang (deg)": 80.7870491134461,
          "Polar ang (rad)": 1.4100000000000006
         },
         {
          "Config": "sum[m]",
          "KE (eV)": "07.2",
          "Phase shift diff (deg)": 173.917012913721,
          "Phase shift diff (rad)": 3.0354245005779283,
          "Photon energy (eV)": 15.9,
          "Polar ang (deg)": 81.3600069085769,
          "Polar ang (rad)": 1.4200000000000002
         },
         {
          "Config": "sum[m]",
          "KE (eV)": "07.2",
          "Phase shift diff (deg)": 174.583523948131,
          "Phase shift diff (rad)": 3.0470573126292555,
          "Photon energy (eV)": 15.9,
          "Polar ang (deg)": 81.9329647037077,
          "Polar ang (rad)": 1.4299999999999997
         },
         {
          "Config": "sum[m]",
          "KE (eV)": "07.2",
          "Phase shift diff (deg)": 175.193884275146,
          "Phase shift diff (rad)": 3.057710109959217,
          "Photon energy (eV)": 15.9,
          "Polar ang (deg)": 82.5059224988385,
          "Polar ang (rad)": 1.439999999999999
         },
         {
          "Config": "sum[m]",
          "KE (eV)": "07.2",
          "Phase shift diff (deg)": 175.750411689847,
          "Phase shift diff (rad)": 3.0674233457233613,
          "Photon energy (eV)": 15.9,
          "Polar ang (deg)": 83.0788802939694,
          "Polar ang (rad)": 1.4500000000000006
         },
         {
          "Config": "sum[m]",
          "KE (eV)": "07.2",
          "Phase shift diff (deg)": 176.255222269983,
          "Phase shift diff (rad)": 3.076233952445637,
          "Photon energy (eV)": 15.9,
          "Polar ang (deg)": 83.6518380891002,
          "Polar ang (rad)": 1.46
         },
         {
          "Config": "sum[m]",
          "KE (eV)": "07.2",
          "Phase shift diff (deg)": 176.710235271286,
          "Phase shift diff (rad)": 3.084175427457756,
          "Photon energy (eV)": 15.9,
          "Polar ang (deg)": 84.224795884231,
          "Polar ang (rad)": 1.4699999999999998
         },
         {
          "Config": "sum[m]",
          "KE (eV)": "07.2",
          "Phase shift diff (deg)": 177.117178708809,
          "Phase shift diff (rad)": 3.0912779303119162,
          "Photon energy (eV)": 15.9,
          "Polar ang (deg)": 84.7977536793618,
          "Polar ang (rad)": 1.4799999999999995
         },
         {
          "Config": "sum[m]",
          "KE (eV)": "07.2",
          "Phase shift diff (deg)": 177.477595239633,
          "Phase shift diff (rad)": 3.09756838545341,
          "Photon energy (eV)": 15.9,
          "Polar ang (deg)": 85.3707114744927,
          "Polar ang (rad)": 1.4900000000000007
         },
         {
          "Config": "sum[m]",
          "KE (eV)": "07.2",
          "Phase shift diff (deg)": 177.792848051419,
          "Phase shift diff (rad)": 3.1030705849952462,
          "Photon energy (eV)": 15.9,
          "Polar ang (deg)": 85.9436692696235,
          "Polar ang (rad)": 1.5000000000000002
         },
         {
          "Config": "sum[m]",
          "KE (eV)": "07.2",
          "Phase shift diff (deg)": 178.064126532125,
          "Phase shift diff (rad)": 3.1078052876733735,
          "Photon energy (eV)": 15.9,
          "Polar ang (deg)": 86.5166270647543,
          "Polar ang (rad)": 1.5099999999999998
         },
         {
          "Config": "sum[m]",
          "KE (eV)": "07.2",
          "Phase shift diff (deg)": 178.292451551811,
          "Phase shift diff (rad)": 3.111790311031575,
          "Photon energy (eV)": 15.9,
          "Polar ang (deg)": 87.0895848598851,
          "Polar ang (rad)": 1.5199999999999994
         },
         {
          "Config": "sum[m]",
          "KE (eV)": "07.2",
          "Phase shift diff (deg)": 178.478680230793,
          "Phase shift diff (rad)": 3.1150406146414507,
          "Photon energy (eV)": 15.9,
          "Polar ang (deg)": 87.6625426550159,
          "Polar ang (rad)": 1.529999999999999
         },
         {
          "Config": "sum[m]",
          "KE (eV)": "07.2",
          "Phase shift diff (deg)": 178.623510101801,
          "Phase shift diff (rad)": 3.117568372745779,
          "Photon energy (eV)": 15.9,
          "Polar ang (deg)": 88.2355004501468,
          "Polar ang (rad)": 1.5400000000000005
         },
         {
          "Config": "sum[m]",
          "KE (eV)": "07.2",
          "Phase shift diff (deg)": 178.727482599365,
          "Phase shift diff (rad)": 3.119383035159793,
          "Photon energy (eV)": 15.9,
          "Polar ang (deg)": 88.8084582452776,
          "Polar ang (rad)": 1.55
         },
         {
          "Config": "sum[m]",
          "KE (eV)": "07.2",
          "Phase shift diff (deg)": 178.790985829135,
          "Phase shift diff (rad)": 3.1204913756049293,
          "Photon energy (eV)": 15.9,
          "Polar ang (deg)": 89.3814160404084,
          "Polar ang (rad)": 1.5599999999999996
         },
         {
          "Config": "sum[m]",
          "KE (eV)": "07.2",
          "Phase shift diff (deg)": 178.814256584661,
          "Phase shift diff (rad)": 3.120897526908285,
          "Photon energy (eV)": 15.9,
          "Polar ang (deg)": 89.9543738355393,
          "Polar ang (rad)": 1.570000000000001
         },
         {
          "Config": "sum[m]",
          "KE (eV)": "07.2",
          "Phase shift diff (deg)": 358.797381590596,
          "Phase shift diff (rad)": 6.262195656290389,
          "Photon energy (eV)": 15.9,
          "Polar ang (deg)": 90.5273316306701,
          "Polar ang (rad)": 1.5800000000000005
         },
         {
          "Config": "sum[m]",
          "KE (eV)": "07.2",
          "Phase shift diff (deg)": 358.740297960394,
          "Phase shift diff (rad)": 6.261199358994374,
          "Photon energy (eV)": 15.9,
          "Polar ang (deg)": 91.1002894258009,
          "Polar ang (rad)": 1.59
         },
         {
          "Config": "sum[m]",
          "KE (eV)": "07.2",
          "Phase shift diff (deg)": 358.64279286429,
          "Phase shift diff (rad)": 6.2594975740298855,
          "Photon energy (eV)": 15.9,
          "Polar ang (deg)": 91.6732472209317,
          "Polar ang (rad)": 1.5999999999999996
         },
         {
          "Config": "sum[m]",
          "KE (eV)": "07.2",
          "Phase shift diff (deg)": 358.504502410622,
          "Phase shift diff (rad)": 6.257083950289302,
          "Photon energy (eV)": 15.9,
          "Polar ang (deg)": 92.2462050160626,
          "Polar ang (rad)": 1.6100000000000012
         },
         {
          "Config": "sum[m]",
          "KE (eV)": "07.2",
          "Phase shift diff (deg)": 358.324909751094,
          "Phase shift diff (rad)": 6.253949467068126,
          "Photon energy (eV)": 15.9,
          "Polar ang (deg)": 92.8191628111934,
          "Polar ang (rad)": 1.6200000000000006
         },
         {
          "Config": "sum[m]",
          "KE (eV)": "07.2",
          "Phase shift diff (deg)": 358.103342429478,
          "Phase shift diff (rad)": 6.250082387791101,
          "Photon energy (eV)": 15.9,
          "Polar ang (deg)": 93.3921206063242,
          "Polar ang (rad)": 1.6300000000000003
         },
         {
          "Config": "sum[m]",
          "KE (eV)": "07.2",
          "Phase shift diff (deg)": 357.838969004162,
          "Phase shift diff (rad)": 6.245468201064561,
          "Photon energy (eV)": 15.9,
          "Polar ang (deg)": 93.965078401455,
          "Polar ang (rad)": 1.64
         },
         {
          "Config": "sum[m]",
          "KE (eV)": "07.2",
          "Phase shift diff (deg)": 357.530794989249,
          "Phase shift diff (rad)": 6.240089549835239,
          "Photon energy (eV)": 15.9,
          "Polar ang (deg)": 94.5380361965858,
          "Polar ang (rad)": 1.6499999999999995
         },
         {
          "Config": "sum[m]",
          "KE (eV)": "07.2",
          "Phase shift diff (deg)": 357.177658177478,
          "Phase shift diff (rad)": 6.23392614975984,
          "Photon energy (eV)": 15.9,
          "Polar ang (deg)": 95.1109939917167,
          "Polar ang (rad)": 1.6600000000000008
         },
         {
          "Config": "sum[m]",
          "KE (eV)": "07.2",
          "Phase shift diff (deg)": 356.778223432772,
          "Phase shift diff (rad)": 6.226954698317857,
          "Photon energy (eV)": 15.9,
          "Polar ang (deg)": 95.6839517868475,
          "Polar ang (rad)": 1.6700000000000004
         },
         {
          "Config": "sum[m]",
          "KE (eV)": "07.2",
          "Phase shift diff (deg)": 356.330977072246,
          "Phase shift diff (rad)": 6.219148776759117,
          "Photon energy (eV)": 15.9,
          "Polar ang (deg)": 96.2569095819783,
          "Polar ang (rad)": 1.6800000000000002
         },
         {
          "Config": "sum[m]",
          "KE (eV)": "07.2",
          "Phase shift diff (deg)": 355.83422099906,
          "Phase shift diff (rad)": 6.2104787477027426,
          "Photon energy (eV)": 15.9,
          "Polar ang (deg)": 96.8298673771091,
          "Polar ang (rad)": 1.6899999999999995
         },
         {
          "Config": "sum[m]",
          "KE (eV)": "07.2",
          "Phase shift diff (deg)": 355.28606680104,
          "Phase shift diff (rad)": 6.200911652138666,
          "Photon energy (eV)": 15.9,
          "Polar ang (deg)": 97.40282517224,
          "Polar ang (rad)": 1.700000000000001
         },
         {
          "Config": "sum[m]",
          "KE (eV)": "07.2",
          "Phase shift diff (deg)": 354.684430098125,
          "Phase shift diff (rad)": 6.190411110771956,
          "Photon energy (eV)": 15.9,
          "Polar ang (deg)": 97.9757829673708,
          "Polar ang (rad)": 1.7100000000000006
         },
         {
          "Config": "sum[m]",
          "KE (eV)": "07.2",
          "Phase shift diff (deg)": 354.027025507771,
          "Phase shift diff (rad)": 6.178937236152553,
          "Photon energy (eV)": 15.9,
          "Polar ang (deg)": 98.5487407625016,
          "Polar ang (rad)": 1.7200000000000002
         },
         {
          "Config": "sum[m]",
          "KE (eV)": "07.2",
          "Phase shift diff (deg)": 353.311362704751,
          "Phase shift diff (rad)": 6.166446563905803,
          "Photon energy (eV)": 15.9,
          "Polar ang (deg)": 99.1216985576324,
          "Polar ang (rad)": 1.7299999999999998
         },
         {
          "Config": "sum[m]",
          "KE (eV)": "07.2",
          "Phase shift diff (deg)": 352.534744184247,
          "Phase shift diff (rad)": 6.152892013691042,
          "Photon energy (eV)": 15.9,
          "Polar ang (deg)": 99.6946563527632,
          "Polar ang (rad)": 1.7399999999999993
         },
         {
          "Config": "sum[m]",
          "KE (eV)": "07.2",
          "Phase shift diff (deg)": 351.694265498209,
          "Phase shift diff (rad)": 6.138222893326843,
          "Photon energy (eV)": 15.9,
          "Polar ang (deg)": 100.267614147894,
          "Polar ang (rad)": 1.7499999999999987
         },
         {
          "Config": "sum[m]",
          "KE (eV)": "07.2",
          "Phase shift diff (deg)": 350.78681892789,
          "Phase shift diff (rad)": 6.122384962888845,
          "Photon energy (eV)": 15.9,
          "Polar ang (deg)": 100.840571943025,
          "Polar ang (rad)": 1.7600000000000018
         },
         {
          "Config": "sum[m]",
          "KE (eV)": "07.2",
          "Phase shift diff (deg)": 349.809101781949,
          "Phase shift diff (rad)": 6.105320579538973,
          "Photon energy (eV)": 15.9,
          "Polar ang (deg)": 101.413529738156,
          "Polar ang (rad)": 1.7700000000000051
         },
         {
          "Config": "sum[m]",
          "KE (eV)": "07.2",
          "Phase shift diff (deg)": 348.757630768964,
          "Phase shift diff (rad)": 6.086968948373105,
          "Photon energy (eV)": 15.9,
          "Polar ang (deg)": 101.986487533287,
          "Polar ang (rad)": 1.7800000000000082
         },
         {
          "Config": "sum[m]",
          "KE (eV)": "07.2",
          "Phase shift diff (deg)": 347.628764180668,
          "Phase shift diff (rad)": 6.067266509591584,
          "Photon energy (eV)": 15.9,
          "Polar ang (deg)": 102.559445328417,
          "Polar ang (rad)": 1.7899999999999938
         },
         {
          "Config": "sum[m]",
          "KE (eV)": "07.2",
          "Phase shift diff (deg)": 346.418733926362,
          "Phase shift diff (rad)": 6.0461474976052,
          "Photon energy (eV)": 15.9,
          "Polar ang (deg)": 103.132403123548,
          "Polar ang (rad)": 1.799999999999997
         },
         {
          "Config": "sum[m]",
          "KE (eV)": "07.2",
          "Phase shift diff (deg)": 345.123689758545,
          "Phase shift diff (rad)": 6.023544712918044,
          "Photon energy (eV)": 15.9,
          "Polar ang (deg)": 103.705360918679,
          "Polar ang (rad)": 1.8099999999999998
         },
         {
          "Config": "sum[m]",
          "KE (eV)": "07.2",
          "Phase shift diff (deg)": 343.739758290245,
          "Phase shift diff (rad)": 5.9993905521742485,
          "Photon energy (eV)": 15.9,
          "Polar ang (deg)": 104.27831871381,
          "Polar ang (rad)": 1.820000000000003
         },
         {
          "Config": "sum[m]",
          "KE (eV)": "07.2",
          "Phase shift diff (deg)": 342.263119573024,
          "Phase shift diff (rad)": 5.973618344696318,
          "Photon energy (eV)": 15.9,
          "Polar ang (deg)": 104.851276508941,
          "Polar ang (rad)": 1.830000000000006
         },
         {
          "Config": "sum[m]",
          "KE (eV)": "07.2",
          "Phase shift diff (deg)": 340.690104006384,
          "Phase shift diff (rad)": 5.946164043873325,
          "Photon energy (eV)": 15.9,
          "Polar ang (deg)": 105.424234304071,
          "Polar ang (rad)": 1.8399999999999919
         },
         {
          "Config": "sum[m]",
          "KE (eV)": "07.2",
          "Phase shift diff (deg)": 339.017312084414,
          "Phase shift diff (rad)": 5.9169683171341845,
          "Photon energy (eV)": 15.9,
          "Polar ang (deg)": 105.997192099202,
          "Polar ang (rad)": 1.8499999999999945
         },
         {
          "Config": "sum[m]",
          "KE (eV)": "07.2",
          "Phase shift diff (deg)": 337.241758830008,
          "Phase shift diff (rad)": 5.885979066800299,
          "Photon energy (eV)": 15.9,
          "Polar ang (deg)": 106.570149894333,
          "Polar ang (rad)": 1.859999999999998
         },
         {
          "Config": "sum[m]",
          "KE (eV)": "07.2",
          "Phase shift diff (deg)": 335.361043580159,
          "Phase shift diff (rad)": 5.853154393397966,
          "Photon energy (eV)": 15.9,
          "Polar ang (deg)": 107.143107689464,
          "Polar ang (rad)": 1.870000000000001
         },
         {
          "Config": "sum[m]",
          "KE (eV)": "07.2",
          "Phase shift diff (deg)": 333.373543929128,
          "Phase shift diff (rad)": 5.818465980605237,
          "Photon energy (eV)": 15.9,
          "Polar ang (deg)": 107.716065484595,
          "Polar ang (rad)": 1.8800000000000041
         },
         {
          "Config": "sum[m]",
          "KE (eV)": "07.2",
          "Phase shift diff (deg)": 331.278630006032,
          "Phase shift diff (rad)": 5.7819028351013415,
          "Photon energy (eV)": 15.9,
          "Polar ang (deg)": 108.289023279726,
          "Polar ang (rad)": 1.890000000000007
         },
         {
          "Config": "sum[m]",
          "KE (eV)": "07.2",
          "Phase shift diff (deg)": 329.076891842259,
          "Phase shift diff (rad)": 5.743475254876687,
          "Photon energy (eV)": 15.9,
          "Polar ang (deg)": 108.861981074856,
          "Polar ang (rad)": 1.8999999999999928
         },
         {
          "Config": "sum[m]",
          "KE (eV)": "07.2",
          "Phase shift diff (deg)": 326.770368505757,
          "Phase shift diff (rad)": 5.703218828380643,
          "Photon energy (eV)": 15.9,
          "Polar ang (deg)": 109.434938869987,
          "Polar ang (rad)": 1.9099999999999957
         },
         {
          "Config": "sum[m]",
          "KE (eV)": "07.2",
          "Phase shift diff (deg)": 324.36276329827,
          "Phase shift diff (rad)": 5.661198190421834,
          "Photon energy (eV)": 15.9,
          "Polar ang (deg)": 110.007896665118,
          "Polar ang (rad)": 1.9199999999999988
         },
         {
          "Config": "sum[m]",
          "KE (eV)": "07.2",
          "Phase shift diff (deg)": 321.859625251768,
          "Phase shift diff (rad)": 5.617510189878435,
          "Photon energy (eV)": 15.9,
          "Polar ang (deg)": 110.580854460249,
          "Polar ang (rad)": 1.9300000000000022
         },
         {
          "Config": "sum[m]",
          "KE (eV)": "07.2",
          "Phase shift diff (deg)": 319.268474309605,
          "Phase shift diff (rad)": 5.572286074521537,
          "Photon energy (eV)": 15.9,
          "Polar ang (deg)": 111.15381225538,
          "Polar ang (rad)": 1.9400000000000053
         },
         {
          "Config": "sum[m]",
          "KE (eV)": "07.2",
          "Phase shift diff (deg)": 316.598846987435,
          "Phase shift diff (rad)": 5.525692287948472,
          "Photon energy (eV)": 15.9,
          "Polar ang (deg)": 111.726770050511,
          "Polar ang (rad)": 1.9500000000000082
         },
         {
          "Config": "sum[m]",
          "KE (eV)": "07.2",
          "Phase shift diff (deg)": 313.862241974458,
          "Phase shift diff (rad)": 5.47792952014544,
          "Photon energy (eV)": 15.9,
          "Polar ang (deg)": 112.299727845641,
          "Polar ang (rad)": 1.9599999999999937
         },
         {
          "Config": "sum[m]",
          "KE (eV)": "07.2",
          "Phase shift diff (deg)": 311.071951674941,
          "Phase shift diff (rad)": 5.4292297673324095,
          "Photon energy (eV)": 15.9,
          "Polar ang (deg)": 112.872685640772,
          "Polar ang (rad)": 1.9699999999999969
         },
         {
          "Config": "sum[m]",
          "KE (eV)": "07.2",
          "Phase shift diff (deg)": 308.242775994954,
          "Phase shift diff (rad)": 5.3798513365992875,
          "Photon energy (eV)": 15.9,
          "Polar ang (deg)": 113.445643435903,
          "Polar ang (rad)": 1.98
         },
         {
          "Config": "sum[m]",
          "KE (eV)": "07.2",
          "Phase shift diff (deg)": 305.390627677244,
          "Phase shift diff (rad)": 5.330071957700031,
          "Photon energy (eV)": 15.9,
          "Polar ang (deg)": 114.018601231034,
          "Polar ang (rad)": 1.9900000000000029
         },
         {
          "Config": "sum[m]",
          "KE (eV)": "07.2",
          "Phase shift diff (deg)": 302.532052162749,
          "Phase shift diff (rad)": 5.280180403055201,
          "Photon energy (eV)": 15.9,
          "Polar ang (deg)": 114.591559026165,
          "Polar ang (rad)": 2.000000000000006
         },
         {
          "Config": "sum[m]",
          "KE (eV)": "07.2",
          "Phase shift diff (deg)": 299.683696721871,
          "Phase shift diff (rad)": 5.230467222344786,
          "Photon energy (eV)": 15.9,
          "Polar ang (deg)": 115.164516821295,
          "Polar ang (rad)": 2.009999999999992
         },
         {
          "Config": "sum[m]",
          "KE (eV)": "07.2",
          "Phase shift diff (deg)": 296.861770951861,
          "Phase shift diff (rad)": 5.181215326411235,
          "Photon energy (eV)": 15.9,
          "Polar ang (deg)": 115.737474616426,
          "Polar ang (rad)": 2.019999999999995
         },
         {
          "Config": "sum[m]",
          "KE (eV)": "07.2",
          "Phase shift diff (deg)": 294.081542012246,
          "Phase shift diff (rad)": 5.132691177455723,
          "Photon energy (eV)": 15.9,
          "Polar ang (deg)": 116.310432411557,
          "Polar ang (rad)": 2.029999999999998
         },
         {
          "Config": "sum[m]",
          "KE (eV)": "07.2",
          "Phase shift diff (deg)": 291.356902871624,
          "Phase shift diff (rad)": 5.08513725352316,
          "Photon energy (eV)": 15.9,
          "Polar ang (deg)": 116.883390206688,
          "Polar ang (rad)": 2.040000000000001
         },
         {
          "Config": "sum[m]",
          "KE (eV)": "07.2",
          "Phase shift diff (deg)": 288.70004153833,
          "Phase shift diff (rad)": 5.038766275488254,
          "Photon energy (eV)": 15.9,
          "Polar ang (deg)": 117.456348001819,
          "Polar ang (rad)": 2.0500000000000043
         },
         {
          "Config": "sum[m]",
          "KE (eV)": "07.2",
          "Phase shift diff (deg)": 286.121226001188,
          "Phase shift diff (rad)": 4.99375745356354,
          "Photon energy (eV)": 15.9,
          "Polar ang (deg)": 118.02930579695,
          "Polar ang (rad)": 2.060000000000007
         },
         {
          "Config": "sum[m]",
          "KE (eV)": "07.2",
          "Phase shift diff (deg)": 283.628706058463,
          "Phase shift diff (rad)": 4.950254773891368,
          "Photon energy (eV)": 15.9,
          "Polar ang (deg)": 118.60226359208,
          "Polar ang (rad)": 2.069999999999993
         },
         {
          "Config": "sum[m]",
          "KE (eV)": "07.2",
          "Phase shift diff (deg)": 281.228721666726,
          "Phase shift diff (rad)": 4.908367144259084,
          "Photon energy (eV)": 15.9,
          "Polar ang (deg)": 119.175221387211,
          "Polar ang (rad)": 2.0799999999999956
         },
         {
          "Config": "sum[m]",
          "KE (eV)": "07.2",
          "Phase shift diff (deg)": 278.925599360513,
          "Phase shift diff (rad)": 4.868170076939541,
          "Photon energy (eV)": 15.9,
          "Polar ang (deg)": 119.748179182342,
          "Polar ang (rad)": 2.089999999999999
         },
         {
          "Config": "sum[m]",
          "KE (eV)": "07.2",
          "Phase shift diff (deg)": 276.721914148063,
          "Phase shift diff (rad)": 4.829708514304778,
          "Photon energy (eV)": 15.9,
          "Polar ang (deg)": 120.321136977473,
          "Polar ang (rad)": 2.1000000000000023
         },
         {
          "Config": "sum[m]",
          "KE (eV)": "07.2",
          "Phase shift diff (deg)": 274.618693706329,
          "Phase shift diff (rad)": 4.793000392701271,
          "Photon energy (eV)": 15.9,
          "Polar ang (deg)": 120.894094772604,
          "Polar ang (rad)": 2.110000000000005
         },
         {
          "Config": "sum[m]",
          "KE (eV)": "07.2",
          "Phase shift diff (deg)": 272.615643790153,
          "Phase shift diff (rad)": 4.758040576582204,
          "Photon energy (eV)": 15.9,
          "Polar ang (deg)": 121.467052567735,
          "Polar ang (rad)": 2.120000000000008
         },
         {
          "Config": "sum[m]",
          "KE (eV)": "07.2",
          "Phase shift diff (deg)": 270.711377473743,
          "Phase shift diff (rad)": 4.724804859526025,
          "Photon energy (eV)": 15.9,
          "Polar ang (deg)": 122.040010362865,
          "Polar ang (rad)": 2.1299999999999937
         },
         {
          "Config": "sum[m]",
          "KE (eV)": "07.2",
          "Phase shift diff (deg)": 268.903635187224,
          "Phase shift diff (rad)": 4.693253804598737,
          "Photon energy (eV)": 15.9,
          "Polar ang (deg)": 122.612968157996,
          "Polar ang (rad)": 2.139999999999997
         },
         {
          "Config": "sum[m]",
          "KE (eV)": "07.2",
          "Phase shift diff (deg)": 267.189486764348,
          "Phase shift diff (rad)": 4.6633362707516826,
          "Photon energy (eV)": 15.9,
          "Polar ang (deg)": 123.185925953127,
          "Polar ang (rad)": 2.15
         },
         {
          "Config": "sum[m]",
          "KE (eV)": "07.2",
          "Phase shift diff (deg)": 265.565510422962,
          "Phase shift diff (rad)": 4.634992536620006,
          "Photon energy (eV)": 15.9,
          "Polar ang (deg)": 123.758883748258,
          "Polar ang (rad)": 2.1600000000000033
         },
         {
          "Config": "sum[m]",
          "KE (eV)": "07.2",
          "Phase shift diff (deg)": 264.027946544906,
          "Phase shift diff (rad)": 4.608156984488196,
          "Photon energy (eV)": 15.9,
          "Polar ang (deg)": 124.331841543389,
          "Polar ang (rad)": 2.170000000000006
         },
         {
          "Config": "sum[m]",
          "KE (eV)": "07.2",
          "Phase shift diff (deg)": 262.57282627314,
          "Phase shift diff (rad)": 4.582760344733364,
          "Photon energy (eV)": 15.9,
          "Polar ang (deg)": 124.904799338519,
          "Polar ang (rad)": 2.1799999999999917
         },
         {
          "Config": "sum[m]",
          "KE (eV)": "07.2",
          "Phase shift diff (deg)": 261.196076377727,
          "Phase shift diff (rad)": 4.558731526081921,
          "Photon energy (eV)": 15.9,
          "Polar ang (deg)": 125.47775713365,
          "Polar ang (rad)": 2.189999999999995
         },
         {
          "Config": "sum[m]",
          "KE (eV)": "07.2",
          "Phase shift diff (deg)": 259.89360268878,
          "Phase shift diff (rad)": 4.535999071789198,
          "Photon energy (eV)": 15.9,
          "Polar ang (deg)": 126.050714928781,
          "Polar ang (rad)": 2.199999999999998
         },
         {
          "Config": "sum[m]",
          "KE (eV)": "07.2",
          "Phase shift diff (deg)": 258.661354796233,
          "Phase shift diff (rad)": 4.514492288863492,
          "Photon energy (eV)": 15.9,
          "Polar ang (deg)": 126.623672723912,
          "Polar ang (rad)": 2.210000000000001
         },
         {
          "Config": "sum[m]",
          "KE (eV)": "07.2",
          "Phase shift diff (deg)": 257.495374805426,
          "Phase shift diff (rad)": 4.494142099011538,
          "Photon energy (eV)": 15.9,
          "Polar ang (deg)": 127.196630519043,
          "Polar ang (rad)": 2.220000000000004
         },
         {
          "Config": "sum[m]",
          "KE (eV)": "07.2",
          "Phase shift diff (deg)": 256.391832823615,
          "Phase shift diff (rad)": 4.474881657994952,
          "Photon energy (eV)": 15.9,
          "Polar ang (deg)": 127.769588314174,
          "Polar ang (rad)": 2.2300000000000075
         },
         {
          "Config": "sum[m]",
          "KE (eV)": "07.2",
          "Phase shift diff (deg)": 255.347051620177,
          "Phase shift diff (rad)": 4.45664678603201,
          "Photon energy (eV)": 15.9,
          "Polar ang (deg)": 128.342546109304,
          "Polar ang (rad)": 2.239999999999993
         },
         {
          "Config": "sum[m]",
          "KE (eV)": "07.2",
          "Phase shift diff (deg)": 254.357522613411,
          "Phase shift diff (rad)": 4.439376246819953,
          "Photon energy (eV)": 15.9,
          "Polar ang (deg)": 128.915503904435,
          "Polar ang (rad)": 2.2499999999999964
         },
         {
          "Config": "sum[m]",
          "KE (eV)": "07.2",
          "Phase shift diff (deg)": 253.419915030579,
          "Phase shift diff (rad)": 4.4230119074078695,
          "Photon energy (eV)": 15.9,
          "Polar ang (deg)": 129.488461699566,
          "Polar ang (rad)": 2.259999999999999
         },
         {
          "Config": "sum[m]",
          "KE (eV)": "07.2",
          "Phase shift diff (deg)": 252.531079791321,
          "Phase shift diff (rad)": 4.407498805975066,
          "Photon energy (eV)": 15.9,
          "Polar ang (deg)": 130.061419494697,
          "Polar ang (rad)": 2.2700000000000022
         },
         {
          "Config": "sum[m]",
          "KE (eV)": "07.2",
          "Phase shift diff (deg)": 251.688049392413,
          "Phase shift diff (rad)": 4.392785149819721,
          "Photon energy (eV)": 15.9,
          "Polar ang (deg)": 130.634377289828,
          "Polar ang (rad)": 2.280000000000005
         },
         {
          "Config": "sum[m]",
          "KE (eV)": "07.2",
          "Phase shift diff (deg)": 250.888034831345,
          "Phase shift diff (rad)": 4.378822261665187,
          "Photon energy (eV)": 15.9,
          "Polar ang (deg)": 131.207335084959,
          "Polar ang (rad)": 2.290000000000008
         },
         {
          "Config": "sum[m]",
          "KE (eV)": "07.2",
          "Phase shift diff (deg)": 250.128420399258,
          "Phase shift diff (rad)": 4.365564488779602,
          "Photon energy (eV)": 15.9,
          "Polar ang (deg)": 131.780292880089,
          "Polar ang (rad)": 2.299999999999994
         },
         {
          "Config": "sum[m]",
          "KE (eV)": "07.2",
          "Phase shift diff (deg)": 249.406756999632,
          "Phase shift diff (rad)": 4.352969086364992,
          "Photon energy (eV)": 15.9,
          "Polar ang (deg)": 132.35325067522,
          "Polar ang (rad)": 2.3099999999999974
         },
         {
          "Config": "sum[m]",
          "KE (eV)": "07.2",
          "Phase shift diff (deg)": 248.720754504778,
          "Phase shift diff (rad)": 4.340996084152895,
          "Photon energy (eV)": 15.9,
          "Polar ang (deg)": 132.926208470351,
          "Polar ang (rad)": 2.3200000000000007
         },
         {
          "Config": "sum[m]",
          "KE (eV)": "07.2",
          "Phase shift diff (deg)": 248.068273544482,
          "Phase shift diff (rad)": 4.329608143089155,
          "Photon energy (eV)": 15.9,
          "Polar ang (deg)": 133.499166265482,
          "Polar ang (rad)": 2.3300000000000027
         },
         {
          "Config": "sum[m]",
          "KE (eV)": "07.2",
          "Phase shift diff (deg)": 247.447317026065,
          "Phase shift diff (rad)": 4.3187704073310575,
          "Photon energy (eV)": 15.9,
          "Polar ang (deg)": 134.072124060613,
          "Polar ang (rad)": 2.3400000000000065
         },
         {
          "Config": "sum[m]",
          "KE (eV)": "07.2",
          "Phase shift diff (deg)": 246.856021609276,
          "Phase shift diff (rad)": 4.308450355456138,
          "Photon energy (eV)": 15.9,
          "Polar ang (deg)": 134.645081855743,
          "Polar ang (rad)": 2.349999999999992
         },
         {
          "Config": "sum[m]",
          "KE (eV)": "07.2",
          "Phase shift diff (deg)": 246.292649299495,
          "Phase shift diff (rad)": 4.298617653735893,
          "Photon energy (eV)": 15.9,
          "Polar ang (deg)": 135.218039650874,
          "Polar ang (rad)": 2.3599999999999954
         },
         {
          "Config": "sum[m]",
          "KE (eV)": "07.2",
          "Phase shift diff (deg)": 245.755579275699,
          "Phase shift diff (rad)": 4.289244013506889,
          "Photon energy (eV)": 15.9,
          "Polar ang (deg)": 135.790997446005,
          "Polar ang (rad)": 2.3699999999999983
         },
         {
          "Config": "sum[m]",
          "KE (eV)": "07.2",
          "Phase shift diff (deg)": 245.243300033257,
          "Phase shift diff (rad)": 4.280303054036653,
          "Photon energy (eV)": 15.9,
          "Polar ang (deg)": 136.363955241136,
          "Polar ang (rad)": 2.3800000000000012
         },
         {
          "Config": "sum[m]",
          "KE (eV)": "07.2",
          "Phase shift diff (deg)": 244.754401893583,
          "Phase shift diff (rad)": 4.271770171792467,
          "Photon energy (eV)": 15.9,
          "Polar ang (deg)": 136.936913036267,
          "Polar ang (rad)": 2.390000000000004
         },
         {
          "Config": "sum[m]",
          "KE (eV)": "07.2",
          "Phase shift diff (deg)": 244.287569911436,
          "Phase shift diff (rad)": 4.263622416650391,
          "Photon energy (eV)": 15.9,
          "Polar ang (deg)": 137.509870831398,
          "Polar ang (rad)": 2.400000000000007
         },
         {
          "Config": "sum[m]",
          "KE (eV)": "07.2",
          "Phase shift diff (deg)": 243.841577194648,
          "Phase shift diff (rad)": 4.255838375302526,
          "Photon energy (eV)": 15.9,
          "Polar ang (deg)": 138.082828626528,
          "Polar ang (rad)": 2.409999999999993
         },
         {
          "Config": "sum[m]",
          "KE (eV)": "07.2",
          "Phase shift diff (deg)": 243.415278639309,
          "Phase shift diff (rad)": 4.248398061915365,
          "Photon energy (eV)": 15.9,
          "Polar ang (deg)": 138.655786421659,
          "Polar ang (rad)": 2.419999999999996
         },
         {
          "Config": "sum[m]",
          "KE (eV)": "07.2",
          "Phase shift diff (deg)": 243.007605074819,
          "Phase shift diff (rad)": 4.2412828159416724,
          "Photon energy (eV)": 15.9,
          "Polar ang (deg)": 139.22874421679,
          "Polar ang (rad)": 2.4299999999999993
         },
         {
          "Config": "sum[m]",
          "KE (eV)": "07.2",
          "Phase shift diff (deg)": 242.617557807225,
          "Phase shift diff (rad)": 4.23447520688375,
          "Photon energy (eV)": 15.9,
          "Polar ang (deg)": 139.801702011921,
          "Polar ang (rad)": 2.4400000000000026
         },
         {
          "Config": "sum[m]",
          "KE (eV)": "07.2",
          "Phase shift diff (deg)": 242.244203545093,
          "Phase shift diff (rad)": 4.227958945733192,
          "Photon energy (eV)": 15.9,
          "Polar ang (deg)": 140.374659807052,
          "Polar ang (rad)": 2.4500000000000055
         },
         {
          "Config": "sum[m]",
          "KE (eV)": "07.2",
          "Phase shift diff (deg)": 241.886669689528,
          "Phase shift diff (rad)": 4.221718802766233,
          "Photon energy (eV)": 15.9,
          "Polar ang (deg)": 140.947617602183,
          "Polar ang (rad)": 2.4600000000000084
         },
         {
          "Config": "sum[m]",
          "KE (eV)": "07.2",
          "Phase shift diff (deg)": 241.54413996841,
          "Phase shift diff (rad)": 4.215740531346786,
          "Photon energy (eV)": 15.9,
          "Polar ang (deg)": 141.520575397313,
          "Polar ang (rad)": 2.469999999999994
         },
         {
          "Config": "sum[m]",
          "KE (eV)": "07.2",
          "Phase shift diff (deg)": 241.215850394156,
          "Phase shift diff (rad)": 4.210010797376084,
          "Photon energy (eV)": 15.9,
          "Polar ang (deg)": 142.093533192444,
          "Polar ang (rad)": 2.4799999999999973
         },
         {
          "Config": "sum[m]",
          "KE (eV)": "07.2",
          "Phase shift diff (deg)": 240.901085524233,
          "Phase shift diff (rad)": 4.204517114026316,
          "Photon energy (eV)": 15.9,
          "Polar ang (deg)": 142.666490987575,
          "Polar ang (rad)": 2.49
         },
         {
          "Config": "sum[m]",
          "KE (eV)": "07.2",
          "Phase shift diff (deg)": 240.599175003921,
          "Phase shift diff (rad)": 4.199247781400462,
          "Photon energy (eV)": 15.9,
          "Polar ang (deg)": 143.239448782706,
          "Polar ang (rad)": 2.5000000000000036
         },
         {
          "Config": "sum[m]",
          "KE (eV)": "07.2",
          "Phase shift diff (deg)": 240.309490371461,
          "Phase shift diff (rad)": 4.194191830771606,
          "Photon energy (eV)": 15.9,
          "Polar ang (deg)": 143.812406577837,
          "Polar ang (rad)": 2.5100000000000064
         },
         {
          "Config": "sum[m]",
          "KE (eV)": "07.2",
          "Phase shift diff (deg)": 240.031442106554,
          "Phase shift diff (rad)": 4.189338973069521,
          "Photon energy (eV)": 15.9,
          "Polar ang (deg)": 144.385364372967,
          "Polar ang (rad)": 2.519999999999992
         },
         {
          "Config": "sum[m]",
          "KE (eV)": "07.2",
          "Phase shift diff (deg)": 239.764476904094,
          "Phase shift diff (rad)": 4.184679551298341,
          "Photon energy (eV)": 15.9,
          "Polar ang (deg)": 144.958322168098,
          "Polar ang (rad)": 2.529999999999995
         },
         {
          "Config": "sum[m]",
          "KE (eV)": "07.2",
          "Phase shift diff (deg)": 239.508075156094,
          "Phase shift diff (rad)": 4.180204496587872,
          "Photon energy (eV)": 15.9,
          "Polar ang (deg)": 145.531279963229,
          "Polar ang (rad)": 2.5399999999999983
         },
         {
          "Config": "sum[m]",
          "KE (eV)": "07.2",
          "Phase shift diff (deg)": 239.261748625775,
          "Phase shift diff (rad)": 4.175905287598791,
          "Photon energy (eV)": 15.9,
          "Polar ang (deg)": 146.10423775836,
          "Polar ang (rad)": 2.550000000000001
         },
         {
          "Config": "sum[m]",
          "KE (eV)": "07.2",
          "Phase shift diff (deg)": 239.025038298904,
          "Phase shift diff (rad)": 4.171773913021421,
          "Photon energy (eV)": 15.9,
          "Polar ang (deg)": 146.677195553491,
          "Polar ang (rad)": 2.5600000000000045
         },
         {
          "Config": "sum[m]",
          "KE (eV)": "07.2",
          "Phase shift diff (deg)": 238.79751239846,
          "Phase shift diff (rad)": 4.167802836925108,
          "Photon energy (eV)": 15.9,
          "Polar ang (deg)": 147.250153348622,
          "Polar ang (rad)": 2.5700000000000074
         },
         {
          "Config": "sum[m]",
          "KE (eV)": "07.2",
          "Phase shift diff (deg)": 238.578764549762,
          "Phase shift diff (rad)": 4.163984966733674,
          "Photon energy (eV)": 15.9,
          "Polar ang (deg)": 147.823111143752,
          "Polar ang (rad)": 2.579999999999993
         },
         {
          "Config": "sum[m]",
          "KE (eV)": "07.2",
          "Phase shift diff (deg)": 238.368412084125,
          "Phase shift diff (rad)": 4.160313623618619,
          "Photon energy (eV)": 15.9,
          "Polar ang (deg)": 148.396068938883,
          "Polar ang (rad)": 2.589999999999996
         },
         {
          "Config": "sum[m]",
          "KE (eV)": "07.2",
          "Phase shift diff (deg)": 238.166094470049,
          "Phase shift diff (rad)": 4.1567825151182145,
          "Photon energy (eV)": 15.9,
          "Polar ang (deg)": 148.969026734014,
          "Polar ang (rad)": 2.599999999999999
         },
         {
          "Config": "sum[m]",
          "KE (eV)": "07.2",
          "Phase shift diff (deg)": 237.97147186180501,
          "Phase shift diff (rad)": 4.153385709805538,
          "Photon energy (eV)": 15.9,
          "Polar ang (deg)": 149.541984529145,
          "Polar ang (rad)": 2.6100000000000025
         },
         {
          "Config": "sum[m]",
          "KE (eV)": "07.2",
          "Phase shift diff (deg)": 237.784223756069,
          "Phase shift diff (rad)": 4.150117613842322,
          "Photon energy (eV)": 15.9,
          "Polar ang (deg)": 150.114942324276,
          "Polar ang (rad)": 2.6200000000000054
         },
         {
          "Config": "sum[m]",
          "KE (eV)": "07.2",
          "Phase shift diff (deg)": 237.604047748035,
          "Phase shift diff (rad)": 4.146972949269029,
          "Photon energy (eV)": 15.9,
          "Polar ang (deg)": 150.687900119407,
          "Polar ang (rad)": 2.6300000000000088
         },
         {
          "Config": "sum[m]",
          "KE (eV)": "07.2",
          "Phase shift diff (deg)": 237.430658379112,
          "Phase shift diff (rad)": 4.143946733893367,
          "Photon energy (eV)": 15.9,
          "Polar ang (deg)": 151.260857914537,
          "Polar ang (rad)": 2.6399999999999944
         },
         {
          "Config": "sum[m]",
          "KE (eV)": "07.2",
          "Phase shift diff (deg)": 237.263786068969,
          "Phase shift diff (rad)": 4.141034262650963,
          "Photon energy (eV)": 15.9,
          "Polar ang (deg)": 151.833815709668,
          "Polar ang (rad)": 2.6499999999999972
         },
         {
          "Config": "sum[m]",
          "KE (eV)": "07.2",
          "Phase shift diff (deg)": 237.103176125288,
          "Phase shift diff (rad)": 4.138231090322287,
          "Photon energy (eV)": 15.9,
          "Polar ang (deg)": 152.406773504799,
          "Polar ang (rad)": 2.66
         },
         {
          "Config": "sum[m]",
          "KE (eV)": "07.2",
          "Phase shift diff (deg)": 236.948587825112,
          "Phase shift diff (rad)": 4.1355330154991545,
          "Photon energy (eV)": 15.9,
          "Polar ang (deg)": 152.97973129993,
          "Polar ang (rad)": 2.6700000000000035
         },
         {
          "Config": "sum[m]",
          "KE (eV)": "07.2",
          "Phase shift diff (deg)": 236.799793562218,
          "Phase shift diff (rad)": 4.132936065703576,
          "Photon energy (eV)": 15.9,
          "Polar ang (deg)": 153.552689095061,
          "Polar ang (rad)": 2.680000000000007
         },
         {
          "Config": "sum[m]",
          "KE (eV)": "07.2",
          "Phase shift diff (deg)": 236.656578055363,
          "Phase shift diff (rad)": 4.130436483569044,
          "Photon energy (eV)": 15.9,
          "Polar ang (deg)": 154.125646890191,
          "Polar ang (rad)": 2.6899999999999924
         },
         {
          "Config": "sum[m]",
          "KE (eV)": "07.2",
          "Phase shift diff (deg)": 236.518737612724,
          "Phase shift diff (rad)": 4.128030714002587,
          "Photon energy (eV)": 15.9,
          "Polar ang (deg)": 154.698604685322,
          "Polar ang (rad)": 2.6999999999999953
         },
         {
          "Config": "sum[m]",
          "KE (eV)": "07.2",
          "Phase shift diff (deg)": 236.386079448192,
          "Phase shift diff (rad)": 4.125715392251851,
          "Photon energy (eV)": 15.9,
          "Polar ang (deg)": 155.271562480453,
          "Polar ang (rad)": 2.7099999999999986
         },
         {
          "Config": "sum[m]",
          "KE (eV)": "07.2",
          "Phase shift diff (deg)": 236.258421045585,
          "Phase shift diff (rad)": 4.123487332808522,
          "Photon energy (eV)": 15.9,
          "Polar ang (deg)": 155.844520275584,
          "Polar ang (rad)": 2.7200000000000015
         },
         {
          "Config": "sum[m]",
          "KE (eV)": "07.2",
          "Phase shift diff (deg)": 236.135589567135,
          "Phase shift diff (rad)": 4.121343519084477,
          "Photon energy (eV)": 15.9,
          "Polar ang (deg)": 156.417478070715,
          "Polar ang (rad)": 2.7300000000000044
         },
         {
          "Config": "sum[m]",
          "KE (eV)": "07.2",
          "Phase shift diff (deg)": 236.017421302922,
          "Phase shift diff (rad)": 4.119281093802594,
          "Photon energy (eV)": 15.9,
          "Polar ang (deg)": 156.990435865846,
          "Polar ang (rad)": 2.7400000000000073
         },
         {
          "Config": "sum[m]",
          "KE (eV)": "07.2",
          "Phase shift diff (deg)": 235.903761158202,
          "Phase shift diff (rad)": 4.117297350048936,
          "Photon energy (eV)": 15.9,
          "Polar ang (deg)": 157.563393660976,
          "Polar ang (rad)": 2.7499999999999933
         },
         {
          "Config": "sum[m]",
          "KE (eV)": "07.2",
          "Phase shift diff (deg)": 235.794462175813,
          "Phase shift diff (rad)": 4.115389722937169,
          "Photon energy (eV)": 15.9,
          "Polar ang (deg)": 158.136351456107,
          "Polar ang (rad)": 2.7599999999999962
         },
         {
          "Config": "sum[m]",
          "KE (eV)": "07.2",
          "Phase shift diff (deg)": 235.689385091091,
          "Phase shift diff (rad)": 4.113555781840374,
          "Photon energy (eV)": 15.9,
          "Polar ang (deg)": 158.709309251238,
          "Polar ang (rad)": 2.7699999999999996
         },
         {
          "Config": "sum[m]",
          "KE (eV)": "07.2",
          "Phase shift diff (deg)": 235.588397916914,
          "Phase shift diff (rad)": 4.1117932231487,
          "Photon energy (eV)": 15.9,
          "Polar ang (deg)": 159.282267046369,
          "Polar ang (rad)": 2.780000000000002
         },
         {
          "Config": "sum[m]",
          "KE (eV)": "07.2",
          "Phase shift diff (deg)": 235.491375556717,
          "Phase shift diff (rad)": 4.110099863515206,
          "Photon energy (eV)": 15.9,
          "Polar ang (deg)": 159.8552248415,
          "Polar ang (rad)": 2.7900000000000054
         },
         {
          "Config": "sum[m]",
          "KE (eV)": "07.2",
          "Phase shift diff (deg)": 235.398199443458,
          "Phase shift diff (rad)": 4.108473633554626,
          "Photon energy (eV)": 15.9,
          "Polar ang (deg)": 160.428182636631,
          "Polar ang (rad)": 2.8000000000000087
         },
         {
          "Config": "sum[m]",
          "KE (eV)": "07.2",
          "Phase shift diff (deg)": 235.308757202711,
          "Phase shift diff (rad)": 4.106912571963229,
          "Photon energy (eV)": 15.9,
          "Polar ang (deg)": 161.001140431761,
          "Polar ang (rad)": 2.8099999999999943
         },
         {
          "Config": "sum[m]",
          "KE (eV)": "07.2",
          "Phase shift diff (deg)": 235.222942338187,
          "Phase shift diff (rad)": 4.105414820030132,
          "Photon energy (eV)": 15.9,
          "Polar ang (deg)": 161.574098226892,
          "Polar ang (rad)": 2.8199999999999976
         },
         {
          "Config": "sum[m]",
          "KE (eV)": "07.2",
          "Phase shift diff (deg)": 235.140653938123,
          "Phase shift diff (rad)": 4.103978616512817,
          "Photon energy (eV)": 15.9,
          "Polar ang (deg)": 162.147056022023,
          "Polar ang (rad)": 2.8300000000000005
         },
         {
          "Config": "sum[m]",
          "KE (eV)": "07.2",
          "Phase shift diff (deg)": 235.061796401113,
          "Phase shift diff (rad)": 4.10260229285198,
          "Photon energy (eV)": 15.9,
          "Polar ang (deg)": 162.720013817154,
          "Polar ang (rad)": 2.8400000000000034
         },
         {
          "Config": "sum[m]",
          "KE (eV)": "07.2",
          "Phase shift diff (deg)": 234.986279180064,
          "Phase shift diff (rad)": 4.1012842687027184,
          "Photon energy (eV)": 15.9,
          "Polar ang (deg)": 163.292971612285,
          "Polar ang (rad)": 2.8500000000000063
         },
         {
          "Config": "sum[m]",
          "KE (eV)": "07.2",
          "Phase shift diff (deg)": 234.914016543046,
          "Phase shift diff (rad)": 4.10002304776058,
          "Photon energy (eV)": 15.9,
          "Polar ang (deg)": 163.865929407415,
          "Polar ang (rad)": 2.8599999999999923
         },
         {
          "Config": "sum[m]",
          "KE (eV)": "07.2",
          "Phase shift diff (deg)": 234.844927349944,
          "Phase shift diff (rad)": 4.098817213863404,
          "Photon energy (eV)": 15.9,
          "Polar ang (deg)": 164.438887202546,
          "Polar ang (rad)": 2.869999999999995
         },
         {
          "Config": "sum[m]",
          "KE (eV)": "07.2",
          "Phase shift diff (deg)": 234.778934843851,
          "Phase shift diff (rad)": 4.097665427350439,
          "Photon energy (eV)": 15.9,
          "Polar ang (deg)": 165.011844997677,
          "Polar ang (rad)": 2.879999999999998
         },
         {
          "Config": "sum[m]",
          "KE (eV)": "07.2",
          "Phase shift diff (deg)": 234.715966456276,
          "Phase shift diff (rad)": 4.096566421662583,
          "Photon energy (eV)": 15.9,
          "Polar ang (deg)": 165.584802792808,
          "Polar ang (rad)": 2.890000000000002
         },
         {
          "Config": "sum[m]",
          "KE (eV)": "07.2",
          "Phase shift diff (deg)": 234.655953625281,
          "Phase shift diff (rad)": 4.095519000168277,
          "Photon energy (eV)": 15.9,
          "Polar ang (deg)": 166.157760587939,
          "Polar ang (rad)": 2.900000000000005
         },
         {
          "Config": "sum[m]",
          "KE (eV)": "07.2",
          "Phase shift diff (deg)": 234.59883162574,
          "Phase shift diff (rad)": 4.094522033200964,
          "Photon energy (eV)": 15.9,
          "Polar ang (deg)": 166.73071838307,
          "Polar ang (rad)": 2.9100000000000077
         },
         {
          "Config": "sum[m]",
          "KE (eV)": "07.2",
          "Phase shift diff (deg)": 234.544539410979,
          "Phase shift diff (rad)": 4.093574455295186,
          "Photon energy (eV)": 15.9,
          "Polar ang (deg)": 167.3036761782,
          "Polar ang (rad)": 2.919999999999993
         },
         {
          "Config": "sum[m]",
          "KE (eV)": "07.2",
          "Phase shift diff (deg)": 234.493019465119,
          "Phase shift diff (rad)": 4.092675262609479,
          "Photon energy (eV)": 15.9,
          "Polar ang (deg)": 167.876633973331,
          "Polar ang (rad)": 2.9299999999999966
         },
         {
          "Config": "sum[m]",
          "KE (eV)": "07.2",
          "Phase shift diff (deg)": 234.444217665471,
          "Phase shift diff (rad)": 4.091823510524723,
          "Photon energy (eV)": 15.9,
          "Polar ang (deg)": 168.449591768462,
          "Polar ang (rad)": 2.9399999999999995
         },
         {
          "Config": "sum[m]",
          "KE (eV)": "07.2",
          "Phase shift diff (deg)": 234.398083154427,
          "Phase shift diff (rad)": 4.091018311408208,
          "Photon energy (eV)": 15.9,
          "Polar ang (deg)": 169.022549563593,
          "Polar ang (rad)": 2.9500000000000024
         },
         {
          "Config": "sum[m]",
          "KE (eV)": "07.2",
          "Phase shift diff (deg)": 234.3545682203,
          "Phase shift diff (rad)": 4.090258832533903,
          "Photon energy (eV)": 15.9,
          "Polar ang (deg)": 169.595507358724,
          "Polar ang (rad)": 2.9600000000000057
         },
         {
          "Config": "sum[m]",
          "KE (eV)": "07.2",
          "Phase shift diff (deg)": 234.313628186609,
          "Phase shift diff (rad)": 4.089544294150117,
          "Photon energy (eV)": 15.9,
          "Polar ang (deg)": 170.168465153855,
          "Polar ang (rad)": 2.970000000000009
         },
         {
          "Config": "sum[m]",
          "KE (eV)": "07.2",
          "Phase shift diff (deg)": 234.275221309391,
          "Phase shift diff (rad)": 4.088873967687253,
          "Photon energy (eV)": 15.9,
          "Polar ang (deg)": 170.741422948985,
          "Polar ang (rad)": 2.979999999999994
         },
         {
          "Config": "sum[m]",
          "KE (eV)": "07.2",
          "Phase shift diff (deg)": 234.239308682084,
          "Phase shift diff (rad)": 4.088247174097705,
          "Photon energy (eV)": 15.9,
          "Polar ang (deg)": 171.314380744116,
          "Polar ang (rad)": 2.989999999999997
         },
         {
          "Config": "sum[m]",
          "KE (eV)": "07.2",
          "Phase shift diff (deg)": 234.205854147634,
          "Phase shift diff (rad)": 4.087663282321831,
          "Photon energy (eV)": 15.9,
          "Polar ang (deg)": 171.887338539247,
          "Polar ang (rad)": 3.0000000000000004
         },
         {
          "Config": "sum[m]",
          "KE (eV)": "07.2",
          "Phase shift diff (deg)": 234.174824217456,
          "Phase shift diff (rad)": 4.08712170787356,
          "Photon energy (eV)": 15.9,
          "Polar ang (deg)": 172.460296334378,
          "Polar ang (rad)": 3.010000000000004
         },
         {
          "Config": "sum[m]",
          "KE (eV)": "07.2",
          "Phase shift diff (deg)": 234.146187996948,
          "Phase shift diff (rad)": 4.086621911540369,
          "Photon energy (eV)": 15.9,
          "Polar ang (deg)": 173.033254129509,
          "Polar ang (rad)": 3.0200000000000067
         },
         {
          "Config": "sum[m]",
          "KE (eV)": "07.2",
          "Phase shift diff (deg)": 234.119917117247,
          "Phase shift diff (rad)": 4.086163398192191,
          "Photon energy (eV)": 15.9,
          "Polar ang (deg)": 173.606211924639,
          "Polar ang (rad)": 3.0299999999999927
         },
         {
          "Config": "sum[m]",
          "KE (eV)": "07.2",
          "Phase shift diff (deg)": 234.095985672986,
          "Phase shift diff (rad)": 4.085745715695079,
          "Photon energy (eV)": 15.9,
          "Polar ang (deg)": 174.17916971977,
          "Polar ang (rad)": 3.039999999999995
         },
         {
          "Config": "sum[m]",
          "KE (eV)": "07.2",
          "Phase shift diff (deg)": 234.074370165802,
          "Phase shift diff (rad)": 4.085368453925231,
          "Photon energy (eV)": 15.9,
          "Polar ang (deg)": 174.752127514901,
          "Polar ang (rad)": 3.0499999999999985
         },
         {
          "Config": "sum[m]",
          "KE (eV)": "07.2",
          "Phase shift diff (deg)": 234.055049453371,
          "Phase shift diff (rad)": 4.085031243879478,
          "Photon energy (eV)": 15.9,
          "Polar ang (deg)": 175.325085310032,
          "Polar ang (rad)": 3.0600000000000014
         },
         {
          "Config": "sum[m]",
          "KE (eV)": "07.2",
          "Phase shift diff (deg)": 234.038004703803,
          "Phase shift diff (rad)": 4.084733756879339,
          "Photon energy (eV)": 15.9,
          "Polar ang (deg)": 175.898043105163,
          "Polar ang (rad)": 3.0700000000000047
         },
         {
          "Config": "sum[m]",
          "KE (eV)": "07.2",
          "Phase shift diff (deg)": 234.0232193552,
          "Phase shift diff (rad)": 4.084475703865161,
          "Photon energy (eV)": 15.9,
          "Polar ang (deg)": 176.471000900294,
          "Polar ang (rad)": 3.0800000000000076
         },
         {
          "Config": "sum[m]",
          "KE (eV)": "07.2",
          "Phase shift diff (deg)": 234.010679080234,
          "Phase shift diff (rad)": 4.084256834777899,
          "Photon energy (eV)": 15.9,
          "Polar ang (deg)": 177.043958695424,
          "Polar ang (rad)": 3.0899999999999936
         },
         {
          "Config": "sum[m]",
          "KE (eV)": "07.2",
          "Phase shift diff (deg)": 234.000371755627,
          "Phase shift diff (rad)": 4.084076938026435,
          "Photon energy (eV)": 15.9,
          "Polar ang (deg)": 177.616916490555,
          "Polar ang (rad)": 3.099999999999997
         },
         {
          "Config": "sum[m]",
          "KE (eV)": "07.2",
          "Phase shift diff (deg)": 233.992287436398,
          "Phase shift diff (rad)": 4.083935840038107,
          "Photon energy (eV)": 15.9,
          "Polar ang (deg)": 178.189874285686,
          "Polar ang (rad)": 3.1099999999999994
         },
         {
          "Config": "sum[m]",
          "KE (eV)": "07.2",
          "Phase shift diff (deg)": 233.986418334793,
          "Phase shift diff (rad)": 4.0838334048909655,
          "Photon energy (eV)": 15.9,
          "Polar ang (deg)": 178.762832080817,
          "Polar ang (rad)": 3.1200000000000023
         },
         {
          "Config": "sum[m]",
          "KE (eV)": "07.2",
          "Phase shift diff (deg)": 233.982758803829,
          "Phase shift diff (rad)": 4.0837695340265645,
          "Photon energy (eV)": 15.9,
          "Polar ang (deg)": 179.335789875948,
          "Polar ang (rad)": 3.1300000000000057
         },
         {
          "Config": "sum[m]",
          "KE (eV)": "07.2",
          "Phase shift diff (deg)": 233.98130532537,
          "Phase shift diff (rad)": 4.083744166041848,
          "Photon energy (eV)": 15.9,
          "Polar ang (deg)": 179.908747671079,
          "Polar ang (rad)": 3.140000000000009
         },
         {
          "Config": "sum[m]",
          "KE (eV)": "13.6",
          "Phase shift diff (deg)": 60.4977040430528,
          "Phase shift diff (rad)": 1.0558841254483566,
          "Photon energy (eV)": 19.1,
          "Polar ang (deg)": 0,
          "Polar ang (rad)": 0
         },
         {
          "Config": "sum[m]",
          "KE (eV)": "13.6",
          "Phase shift diff (deg)": 60.4994463006819,
          "Phase shift diff (rad)": 1.0559145335804025,
          "Photon energy (eV)": 19.1,
          "Polar ang (deg)": 0.572957795130823,
          "Polar ang (rad)": 0.009999999999999997
         },
         {
          "Config": "sum[m]",
          "KE (eV)": "13.6",
          "Phase shift diff (deg)": 60.5046745089196,
          "Phase shift diff (rad)": 1.0560057830281302,
          "Photon energy (eV)": 19.1,
          "Polar ang (deg)": 1.14591559026165,
          "Polar ang (rad)": 0.020000000000000063
         },
         {
          "Config": "sum[m]",
          "KE (eV)": "13.6",
          "Phase shift diff (deg)": 60.5133929761609,
          "Phase shift diff (rad)": 1.0561579489872182,
          "Photon energy (eV)": 19.1,
          "Polar ang (deg)": 1.71887338539247,
          "Polar ang (rad)": 0.03000000000000001
         },
         {
          "Config": "sum[m]",
          "KE (eV)": "13.6",
          "Phase shift diff (deg)": 60.5256088908863,
          "Phase shift diff (rad)": 1.0563711569203194,
          "Photon energy (eV)": 19.1,
          "Polar ang (deg)": 2.29183118052329,
          "Polar ang (rad)": 0.039999999999999945
         },
         {
          "Config": "sum[m]",
          "KE (eV)": "13.6",
          "Phase shift diff (deg)": 60.5413323334134,
          "Phase shift diff (rad)": 1.0566455827621652,
          "Photon energy (eV)": 19.1,
          "Polar ang (deg)": 2.86478897565412,
          "Polar ang (rad)": 0.050000000000000065
         },
         {
          "Config": "sum[m]",
          "KE (eV)": "13.6",
          "Phase shift diff (deg)": 60.5605762923888,
          "Phase shift diff (rad)": 1.0569814532074047,
          "Photon energy (eV)": 19.1,
          "Polar ang (deg)": 3.43774677078494,
          "Polar ang (rad)": 0.06000000000000002
         },
         {
          "Config": "sum[m]",
          "KE (eV)": "13.6",
          "Phase shift diff (deg)": 60.5833566860584,
          "Phase shift diff (rad)": 1.0573790460818397,
          "Photon energy (eV)": 19.1,
          "Polar ang (deg)": 4.01070456591576,
          "Polar ang (rad)": 0.06999999999999995
         },
         {
          "Config": "sum[m]",
          "KE (eV)": "13.6",
          "Phase shift diff (deg)": 60.6096923883667,
          "Phase shift diff (rad)": 1.0578386907979447,
          "Photon energy (eV)": 19.1,
          "Polar ang (deg)": 4.58366236104659,
          "Polar ang (rad)": 0.08000000000000007
         },
         {
          "Config": "sum[m]",
          "KE (eV)": "13.6",
          "Phase shift diff (deg)": 60.639605259947,
          "Phase shift diff (rad)": 1.058360768895747,
          "Photon energy (eV)": 19.1,
          "Polar ang (deg)": 5.15662015617741,
          "Polar ang (rad)": 0.09000000000000001
         },
         {
          "Config": "sum[m]",
          "KE (eV)": "13.6",
          "Phase shift diff (deg)": 60.6731201840751,
          "Phase shift diff (rad)": 1.0589457146703385,
          "Photon energy (eV)": 19.1,
          "Polar ang (deg)": 5.72957795130823,
          "Polar ang (rad)": 0.09999999999999998
         },
         {
          "Config": "sum[m]",
          "KE (eV)": "13.6",
          "Phase shift diff (deg)": 60.7102651076713,
          "Phase shift diff (rad)": 1.059594015887494,
          "Photon energy (eV)": 19.1,
          "Polar ang (deg)": 6.30253574643906,
          "Polar ang (rad)": 0.11000000000000007
         },
         {
          "Config": "sum[m]",
          "KE (eV)": "13.6",
          "Phase shift diff (deg)": 60.7510710874488,
          "Phase shift diff (rad)": 1.0603062145891136,
          "Photon energy (eV)": 19.1,
          "Polar ang (deg)": 6.87549354156988,
          "Polar ang (rad)": 0.12000000000000004
         },
         {
          "Config": "sum[m]",
          "KE (eV)": "13.6",
          "Phase shift diff (deg)": 60.7955723413139,
          "Phase shift diff (rad)": 1.0610829079903255,
          "Photon energy (eV)": 19.1,
          "Polar ang (deg)": 7.4484513367007,
          "Polar ang (rad)": 0.12999999999999995
         },
         {
          "Config": "sum[m]",
          "KE (eV)": "13.6",
          "Phase shift diff (deg)": 60.8438063051432,
          "Phase shift diff (rad)": 1.0619247494704345,
          "Photon energy (eV)": 19.1,
          "Polar ang (deg)": 8.02140913183153,
          "Polar ang (rad)": 0.1400000000000001
         },
         {
          "Config": "sum[m]",
          "KE (eV)": "13.6",
          "Phase shift diff (deg)": 60.8958136950666,
          "Phase shift diff (rad)": 1.0628324496599664,
          "Photon energy (eV)": 19.1,
          "Polar ang (deg)": 8.59436692696235,
          "Polar ang (rad)": 0.15
         },
         {
          "Config": "sum[m]",
          "KE (eV)": "13.6",
          "Phase shift diff (deg)": 60.9516385754058,
          "Phase shift diff (rad)": 1.0638067776264173,
          "Photon energy (eV)": 19.1,
          "Polar ang (deg)": 9.16732472209317,
          "Polar ang (rad)": 0.15999999999999998
         },
         {
          "Config": "sum[m]",
          "KE (eV)": "13.6",
          "Phase shift diff (deg)": 61.0113284324234,
          "Phase shift diff (rad)": 1.064848562161419,
          "Photon energy (eV)": 19.1,
          "Polar ang (deg)": 9.740282517224,
          "Polar ang (rad)": 0.1700000000000001
         },
         {
          "Config": "sum[m]",
          "KE (eV)": "13.6",
          "Phase shift diff (deg)": 61.0749342540582,
          "Phase shift diff (rad)": 1.0659586931723826,
          "Photon energy (eV)": 19.1,
          "Polar ang (deg)": 10.3132403123548,
          "Polar ang (rad)": 0.1799999999999997
         },
         {
          "Config": "sum[m]",
          "KE (eV)": "13.6",
          "Phase shift diff (deg)": 61.1425106158284,
          "Phase shift diff (rad)": 1.0671381231817914,
          "Photon energy (eV)": 19.1,
          "Polar ang (deg)": 10.8861981074856,
          "Polar ang (rad)": 0.18999999999999928
         },
         {
          "Config": "sum[m]",
          "KE (eV)": "13.6",
          "Phase shift diff (deg)": 61.2141157731042,
          "Phase shift diff (rad)": 1.0683878689376625,
          "Photon energy (eV)": 19.1,
          "Polar ang (deg)": 11.4591559026165,
          "Polar ang (rad)": 0.2000000000000006
         },
         {
          "Config": "sum[m]",
          "KE (eV)": "13.6",
          "Phase shift diff (deg)": 61.2898117599598,
          "Phase shift diff (rad)": 1.069709013138839,
          "Photon energy (eV)": 19.1,
          "Polar ang (deg)": 12.0321136977473,
          "Polar ang (rad)": 0.21000000000000024
         },
         {
          "Config": "sum[m]",
          "KE (eV)": "13.6",
          "Phase shift diff (deg)": 61.3696644948345,
          "Phase shift diff (rad)": 1.0711027062791245,
          "Photon energy (eV)": 19.1,
          "Polar ang (deg)": 12.6050714928781,
          "Polar ang (rad)": 0.21999999999999978
         },
         {
          "Config": "sum[m]",
          "KE (eV)": "13.6",
          "Phase shift diff (deg)": 61.4537438932405,
          "Phase shift diff (rad)": 1.0725701686144054,
          "Photon energy (eV)": 19.1,
          "Polar ang (deg)": 13.1780292880089,
          "Polar ang (rad)": 0.22999999999999943
         },
         {
          "Config": "sum[m]",
          "KE (eV)": "13.6",
          "Phase shift diff (deg)": 61.5421239877745,
          "Phase shift diff (rad)": 1.0741126922572475,
          "Photon energy (eV)": 19.1,
          "Polar ang (deg)": 13.7509870831398,
          "Polar ang (rad)": 0.2400000000000007
         },
         {
          "Config": "sum[m]",
          "KE (eV)": "13.6",
          "Phase shift diff (deg)": 61.6348830557025,
          "Phase shift diff (rad)": 1.075731643403672,
          "Photon energy (eV)": 19.1,
          "Polar ang (deg)": 14.3239448782706,
          "Polar ang (rad)": 0.25000000000000033
         },
         {
          "Config": "sum[m]",
          "KE (eV)": "13.6",
          "Phase shift diff (deg)": 61.7321037544011,
          "Phase shift diff (rad)": 1.0774284646970522,
          "Photon energy (eV)": 19.1,
          "Polar ang (deg)": 14.8969026734014,
          "Polar ang (rad)": 0.2599999999999999
         },
         {
          "Config": "sum[m]",
          "KE (eV)": "13.6",
          "Phase shift diff (deg)": 61.833873264955,
          "Phase shift diff (rad)": 1.079204677734361,
          "Photon energy (eV)": 19.1,
          "Polar ang (deg)": 15.4698604685322,
          "Polar ang (rad)": 0.2699999999999995
         },
         {
          "Config": "sum[m]",
          "KE (eV)": "13.6",
          "Phase shift diff (deg)": 61.9402834442229,
          "Phase shift diff (rad)": 1.081061885720223,
          "Photon energy (eV)": 19.1,
          "Polar ang (deg)": 16.0428182636631,
          "Polar ang (rad)": 0.28000000000000086
         },
         {
          "Config": "sum[m]",
          "KE (eV)": "13.6",
          "Phase shift diff (deg)": 62.0514309856993,
          "Phase shift diff (rad)": 1.0830017762744832,
          "Photon energy (eV)": 19.1,
          "Polar ang (deg)": 16.6157760587939,
          "Polar ang (rad)": 0.2900000000000005
         },
         {
          "Config": "sum[m]",
          "KE (eV)": "13.6",
          "Phase shift diff (deg)": 62.167417589513,
          "Phase shift diff (rad)": 1.0850261243992385,
          "Photon energy (eV)": 19.1,
          "Polar ang (deg)": 17.1887338539247,
          "Polar ang (rad)": 0.3
         },
         {
          "Config": "sum[m]",
          "KE (eV)": "13.6",
          "Phase shift diff (deg)": 62.2883501419172,
          "Phase shift diff (rad)": 1.0871367956115323,
          "Photon energy (eV)": 19.1,
          "Polar ang (deg)": 17.7616916490555,
          "Polar ang (rad)": 0.30999999999999966
         },
         {
          "Config": "sum[m]",
          "KE (eV)": "13.6",
          "Phase shift diff (deg)": 62.4143409046368,
          "Phase shift diff (rad)": 1.0893357492480884,
          "Photon energy (eV)": 19.1,
          "Polar ang (deg)": 18.3346494441863,
          "Polar ang (rad)": 0.31999999999999923
         },
         {
          "Config": "sum[m]",
          "KE (eV)": "13.6",
          "Phase shift diff (deg)": 62.5455077144528,
          "Phase shift diff (rad)": 1.0916250419487148,
          "Photon energy (eV)": 19.1,
          "Polar ang (deg)": 18.9076072393172,
          "Polar ang (rad)": 0.3300000000000006
         },
         {
          "Config": "sum[m]",
          "KE (eV)": "13.6",
          "Phase shift diff (deg)": 62.6819741934114,
          "Phase shift diff (rad)": 1.0940068313251459,
          "Photon energy (eV)": 19.1,
          "Polar ang (deg)": 19.480565034448,
          "Polar ang (rad)": 0.3400000000000002
         },
         {
          "Config": "sum[m]",
          "KE (eV)": "13.6",
          "Phase shift diff (deg)": 62.8238699700566,
          "Phase shift diff (rad)": 1.096483379822279,
          "Photon energy (eV)": 19.1,
          "Polar ang (deg)": 20.0535228295788,
          "Polar ang (rad)": 0.34999999999999976
         },
         {
          "Config": "sum[m]",
          "KE (eV)": "13.6",
          "Phase shift diff (deg)": 62.9713309120902,
          "Phase shift diff (rad)": 1.099057058778858,
          "Photon energy (eV)": 19.1,
          "Polar ang (deg)": 20.6264806247096,
          "Polar ang (rad)": 0.3599999999999994
         },
         {
          "Config": "sum[m]",
          "KE (eV)": "13.6",
          "Phase shift diff (deg)": 63.1244993708685,
          "Phase shift diff (rad)": 1.1017303526947444,
          "Photon energy (eV)": 19.1,
          "Polar ang (deg)": 21.1994384198405,
          "Polar ang (rad)": 0.3700000000000007
         },
         {
          "Config": "sum[m]",
          "KE (eV)": "13.6",
          "Phase shift diff (deg)": 63.2835244381482,
          "Phase shift diff (rad)": 1.1045058637119807,
          "Photon energy (eV)": 19.1,
          "Polar ang (deg)": 21.7723962149713,
          "Polar ang (rad)": 0.38000000000000034
         },
         {
          "Config": "sum[m]",
          "KE (eV)": "13.6",
          "Phase shift diff (deg)": 63.4485622154884,
          "Phase shift diff (rad)": 1.1073863163167403,
          "Photon energy (eV)": 19.1,
          "Polar ang (deg)": 22.3453540101021,
          "Polar ang (rad)": 0.3899999999999999
         },
         {
          "Config": "sum[m]",
          "KE (eV)": "13.6",
          "Phase shift diff (deg)": 63.6197760967136,
          "Phase shift diff (rad)": 1.1103745622692387,
          "Photon energy (eV)": 19.1,
          "Polar ang (deg)": 22.9183118052329,
          "Polar ang (rad)": 0.39999999999999947
         },
         {
          "Config": "sum[m]",
          "KE (eV)": "13.6",
          "Phase shift diff (deg)": 63.7973370638302,
          "Phase shift diff (rad)": 1.1134735857684488,
          "Photon energy (eV)": 19.1,
          "Polar ang (deg)": 23.4912696003638,
          "Polar ang (rad)": 0.41000000000000086
         },
         {
          "Config": "sum[m]",
          "KE (eV)": "13.6",
          "Phase shift diff (deg)": 63.9814239967701,
          "Phase shift diff (rad)": 1.1166865088581481,
          "Photon energy (eV)": 19.1,
          "Polar ang (deg)": 24.0642273954946,
          "Polar ang (rad)": 0.4200000000000005
         },
         {
          "Config": "sum[m]",
          "KE (eV)": "13.6",
          "Phase shift diff (deg)": 64.1722239973151,
          "Phase shift diff (rad)": 1.1200165970804652,
          "Photon energy (eV)": 19.1,
          "Polar ang (deg)": 24.6371851906254,
          "Polar ang (rad)": 0.43000000000000005
         },
         {
          "Config": "sum[m]",
          "KE (eV)": "13.6",
          "Phase shift diff (deg)": 64.3699327275194,
          "Phase shift diff (rad)": 1.1234672653824676,
          "Photon energy (eV)": 19.1,
          "Polar ang (deg)": 25.2101429857562,
          "Polar ang (rad)": 0.43999999999999956
         },
         {
          "Config": "sum[m]",
          "KE (eV)": "13.6",
          "Phase shift diff (deg)": 64.5747547629082,
          "Phase shift diff (rad)": 1.1270420842806383,
          "Photon energy (eV)": 19.1,
          "Polar ang (deg)": 25.783100780887,
          "Polar ang (rad)": 0.44999999999999923
         },
         {
          "Config": "sum[m]",
          "KE (eV)": "13.6",
          "Phase shift diff (deg)": 64.786903960675,
          "Phase shift diff (rad)": 1.1307447862871338,
          "Photon energy (eV)": 19.1,
          "Polar ang (deg)": 26.3560585760179,
          "Polar ang (rad)": 0.4600000000000006
         },
         {
          "Config": "sum[m]",
          "KE (eV)": "13.6",
          "Phase shift diff (deg)": 65.0066038430345,
          "Phase shift diff (rad)": 1.134579272600551,
          "Photon energy (eV)": 19.1,
          "Polar ang (deg)": 26.9290163711487,
          "Polar ang (rad)": 0.47000000000000014
         },
         {
          "Config": "sum[m]",
          "KE (eV)": "13.6",
          "Phase shift diff (deg)": 65.2340879958045,
          "Phase shift diff (rad)": 1.1385496200624974,
          "Photon energy (eV)": 19.1,
          "Polar ang (deg)": 27.5019741662795,
          "Polar ang (rad)": 0.4799999999999997
         },
         {
          "Config": "sum[m]",
          "KE (eV)": "13.6",
          "Phase shift diff (deg)": 65.4696004821905,
          "Phase shift diff (rad)": 1.1426600883794915,
          "Photon energy (eV)": 19.1,
          "Polar ang (deg)": 28.0749319614103,
          "Polar ang (rad)": 0.4899999999999993
         },
         {
          "Config": "sum[m]",
          "KE (eV)": "13.6",
          "Phase shift diff (deg)": 65.7133962716226,
          "Phase shift diff (rad)": 1.1469151276075804,
          "Photon energy (eV)": 19.1,
          "Polar ang (deg)": 28.6478897565412,
          "Polar ang (rad)": 0.5000000000000007
         },
         {
          "Config": "sum[m]",
          "KE (eV)": "13.6",
          "Phase shift diff (deg)": 65.9657416833512,
          "Phase shift diff (rad)": 1.1513193858945452,
          "Photon energy (eV)": 19.1,
          "Polar ang (deg)": 29.220847551672,
          "Polar ang (rad)": 0.5100000000000002
         },
         {
          "Config": "sum[m]",
          "KE (eV)": "13.6",
          "Phase shift diff (deg)": 66.2269148443307,
          "Phase shift diff (rad)": 1.1558777174714785,
          "Photon energy (eV)": 19.1,
          "Polar ang (deg)": 29.7938053468028,
          "Polar ang (rad)": 0.5199999999999998
         },
         {
          "Config": "sum[m]",
          "KE (eV)": "13.6",
          "Phase shift diff (deg)": 66.4972061607164,
          "Phase shift diff (rad)": 1.1605951908819587,
          "Photon energy (eV)": 19.1,
          "Polar ang (deg)": 30.3667631419336,
          "Polar ang (rad)": 0.5299999999999995
         },
         {
          "Config": "sum[m]",
          "KE (eV)": "13.6",
          "Phase shift diff (deg)": 66.776918802052,
          "Phase shift diff (rad)": 1.1654770974327149,
          "Photon energy (eV)": 19.1,
          "Polar ang (deg)": 30.9397209370645,
          "Polar ang (rad)": 0.5400000000000008
         },
         {
          "Config": "sum[m]",
          "KE (eV)": "13.6",
          "Phase shift diff (deg)": 67.0663691969431,
          "Phase shift diff (rad)": 1.1705289598447624,
          "Photon energy (eV)": 19.1,
          "Polar ang (deg)": 31.5126787321953,
          "Polar ang (rad)": 0.5500000000000004
         },
         {
          "Config": "sum[m]",
          "KE (eV)": "13.6",
          "Phase shift diff (deg)": 67.3658875386722,
          "Phase shift diff (rad)": 1.1757565410780488,
          "Photon energy (eV)": 19.1,
          "Polar ang (deg)": 32.0856365273261,
          "Polar ang (rad)": 0.56
         },
         {
          "Config": "sum[m]",
          "KE (eV)": "13.6",
          "Phase shift diff (deg)": 67.6758182988219,
          "Phase shift diff (rad)": 1.1811658532958698,
          "Photon energy (eV)": 19.1,
          "Polar ang (deg)": 32.6585943224569,
          "Polar ang (rad)": 0.5699999999999995
         },
         {
          "Config": "sum[m]",
          "KE (eV)": "13.6",
          "Phase shift diff (deg)": 67.9965207465171,
          "Phase shift diff (rad)": 1.1867631669273562,
          "Photon energy (eV)": 19.1,
          "Polar ang (deg)": 33.2315521175877,
          "Polar ang (rad)": 0.5799999999999991
         },
         {
          "Config": "sum[m]",
          "KE (eV)": "13.6",
          "Phase shift diff (deg)": 68.3283694703698,
          "Phase shift diff (rad)": 1.192555019777127,
          "Photon energy (eV)": 19.1,
          "Polar ang (deg)": 33.8045099127186,
          "Polar ang (rad)": 0.5900000000000005
         },
         {
          "Config": "sum[m]",
          "KE (eV)": "13.6",
          "Phase shift diff (deg)": 68.6717548996024,
          "Phase shift diff (rad)": 1.19854822612061,
          "Photon energy (eV)": 19.1,
          "Polar ang (deg)": 34.3774677078494,
          "Polar ang (rad)": 0.6
         },
         {
          "Config": "sum[m]",
          "KE (eV)": "13.6",
          "Phase shift diff (deg)": 69.0270838201241,
          "Phase shift diff (rad)": 1.2047498857112708,
          "Photon energy (eV)": 19.1,
          "Polar ang (deg)": 34.9504255029802,
          "Polar ang (rad)": 0.6099999999999998
         },
         {
          "Config": "sum[m]",
          "KE (eV)": "13.6",
          "Phase shift diff (deg)": 69.3947798805299,
          "Phase shift diff (rad)": 1.211167392611964,
          "Photon energy (eV)": 19.1,
          "Polar ang (deg)": 35.523383298111,
          "Polar ang (rad)": 0.6199999999999993
         },
         {
          "Config": "sum[m]",
          "KE (eV)": "13.6",
          "Phase shift diff (deg)": 69.7752840820742,
          "Phase shift diff (rad)": 1.217808443746584,
          "Photon energy (eV)": 19.1,
          "Polar ang (deg)": 36.0963410932419,
          "Polar ang (rad)": 0.6300000000000006
         },
         {
          "Config": "sum[m]",
          "KE (eV)": "13.6",
          "Phase shift diff (deg)": 70.1690552456179,
          "Phase shift diff (rad)": 1.2246810470498308,
          "Photon energy (eV)": 19.1,
          "Polar ang (deg)": 36.6692988883727,
          "Polar ang (rad)": 0.6400000000000002
         },
         {
          "Config": "sum[m]",
          "KE (eV)": "13.6",
          "Phase shift diff (deg)": 70.5765704473577,
          "Phase shift diff (rad)": 1.2317935290721191,
          "Photon energy (eV)": 19.1,
          "Polar ang (deg)": 37.2422566835035,
          "Polar ang (rad)": 0.6499999999999998
         },
         {
          "Config": "sum[m]",
          "KE (eV)": "13.6",
          "Phase shift diff (deg)": 70.9983254137931,
          "Phase shift diff (rad)": 1.239154541873055,
          "Photon energy (eV)": 19.1,
          "Polar ang (deg)": 37.8152144786343,
          "Polar ang (rad)": 0.6599999999999995
         },
         {
          "Config": "sum[m]",
          "KE (eV)": "13.6",
          "Phase shift diff (deg)": 71.4348348648626,
          "Phase shift diff (rad)": 1.246773069010291,
          "Photon energy (eV)": 19.1,
          "Polar ang (deg)": 38.3881722737652,
          "Polar ang (rad)": 0.6700000000000008
         },
         {
          "Config": "sum[m]",
          "KE (eV)": "13.6",
          "Phase shift diff (deg)": 71.886632792464,
          "Phase shift diff (rad)": 1.2546584304006223,
          "Photon energy (eV)": 19.1,
          "Polar ang (deg)": 38.961130068896,
          "Polar ang (rad)": 0.6800000000000004
         },
         {
          "Config": "sum[m]",
          "KE (eV)": "13.6",
          "Phase shift diff (deg)": 72.3542726596597,
          "Phase shift diff (rad)": 1.2628202857967763,
          "Photon energy (eV)": 19.1,
          "Polar ang (deg)": 39.5340878640268,
          "Polar ang (rad)": 0.69
         },
         {
          "Config": "sum[m]",
          "KE (eV)": "13.6",
          "Phase shift diff (deg)": 72.8383275037261,
          "Phase shift diff (rad)": 1.271268636585963,
          "Photon energy (eV)": 19.1,
          "Polar ang (deg)": 40.1070456591576,
          "Polar ang (rad)": 0.6999999999999995
         },
         {
          "Config": "sum[m]",
          "KE (eV)": "13.6",
          "Phase shift diff (deg)": 73.3393899238474,
          "Phase shift diff (rad)": 1.2800138255750906,
          "Photon energy (eV)": 19.1,
          "Polar ang (deg)": 40.6800034542884,
          "Polar ang (rad)": 0.7099999999999992
         },
         {
          "Config": "sum[m]",
          "KE (eV)": "13.6",
          "Phase shift diff (deg)": 73.8580719316452,
          "Phase shift diff (rad)": 1.289066534382017,
          "Photon energy (eV)": 19.1,
          "Polar ang (deg)": 41.2529612494193,
          "Polar ang (rad)": 0.7200000000000004
         },
         {
          "Config": "sum[m]",
          "KE (eV)": "13.6",
          "Phase shift diff (deg)": 74.3950046398966,
          "Phase shift diff (rad)": 1.298437778002654,
          "Photon energy (eV)": 19.1,
          "Polar ang (deg)": 41.8259190445501,
          "Polar ang (rad)": 0.73
         },
         {
          "Config": "sum[m]",
          "KE (eV)": "13.6",
          "Phase shift diff (deg)": 74.9508377617067,
          "Phase shift diff (rad)": 1.3081388960698788,
          "Photon energy (eV)": 19.1,
          "Polar ang (deg)": 42.3988768396809,
          "Polar ang (rad)": 0.7399999999999998
         },
         {
          "Config": "sum[m]",
          "KE (eV)": "13.6",
          "Phase shift diff (deg)": 75.5262388890975,
          "Phase shift diff (rad)": 1.3181815402625356,
          "Photon energy (eV)": 19.1,
          "Polar ang (deg)": 42.9718346348117,
          "Polar ang (rad)": 0.7499999999999992
         },
         {
          "Config": "sum[m]",
          "KE (eV)": "13.6",
          "Phase shift diff (deg)": 76.1218925164643,
          "Phase shift diff (rad)": 1.3285776572615338,
          "Photon energy (eV)": 19.1,
          "Polar ang (deg)": 43.5447924299426,
          "Polar ang (rad)": 0.7600000000000007
         },
         {
          "Config": "sum[m]",
          "KE (eV)": "13.6",
          "Phase shift diff (deg)": 76.7384987706791,
          "Phase shift diff (rad)": 1.3393394665859713,
          "Photon energy (eV)": 19.1,
          "Polar ang (deg)": 44.1177502250734,
          "Polar ang (rad)": 0.7700000000000002
         },
         {
          "Config": "sum[m]",
          "KE (eV)": "13.6",
          "Phase shift diff (deg)": 77.3767718058504,
          "Phase shift diff (rad)": 1.3504794325764078,
          "Photon energy (eV)": 19.1,
          "Polar ang (deg)": 44.6907080202042,
          "Polar ang (rad)": 0.7799999999999998
         },
         {
          "Config": "sum[m]",
          "KE (eV)": "13.6",
          "Phase shift diff (deg)": 78.0374378169558,
          "Phase shift diff (rad)": 1.3620102297262147,
          "Photon energy (eV)": 19.1,
          "Polar ang (deg)": 45.263665815335,
          "Polar ang (rad)": 0.7899999999999994
         },
         {
          "Config": "sum[m]",
          "KE (eV)": "13.6",
          "Phase shift diff (deg)": 78.7212326228689,
          "Phase shift diff (rad)": 1.373944700497434,
          "Photon energy (eV)": 19.1,
          "Polar ang (deg)": 45.8366236104659,
          "Polar ang (rad)": 0.8000000000000007
         },
         {
          "Config": "sum[m]",
          "KE (eV)": "13.6",
          "Phase shift diff (deg)": 79.4288987658487,
          "Phase shift diff (rad)": 1.3862958046973204,
          "Photon energy (eV)": 19.1,
          "Polar ang (deg)": 46.4095814055967,
          "Polar ang (rad)": 0.8100000000000003
         },
         {
          "Config": "sum[m]",
          "KE (eV)": "13.6",
          "Phase shift diff (deg)": 80.1611820715475,
          "Phase shift diff (rad)": 1.3990765594391525,
          "Photon energy (eV)": 19.1,
          "Polar ang (deg)": 46.9825392007275,
          "Polar ang (rad)": 0.82
         },
         {
          "Config": "sum[m]",
          "KE (eV)": "13.6",
          "Phase shift diff (deg)": 80.918827611246,
          "Phase shift diff (rad)": 1.4122999686699407,
          "Photon energy (eV)": 19.1,
          "Polar ang (deg)": 47.5554969958583,
          "Polar ang (rad)": 0.8299999999999995
         },
         {
          "Config": "sum[m]",
          "KE (eV)": "13.6",
          "Phase shift diff (deg)": 81.7025750066534,
          "Phase shift diff (rad)": 1.4259789412237298,
          "Photon energy (eV)": 19.1,
          "Polar ang (deg)": 48.1284547909891,
          "Polar ang (rad)": 0.8399999999999992
         },
         {
          "Config": "sum[m]",
          "KE (eV)": "13.6",
          "Phase shift diff (deg)": 82.5131530175549,
          "Phase shift diff (rad)": 1.4401261963582275,
          "Photon energy (eV)": 19.1,
          "Polar ang (deg)": 48.70141258612,
          "Polar ang (rad)": 0.8500000000000005
         },
         {
          "Config": "sum[m]",
          "KE (eV)": "13.6",
          "Phase shift diff (deg)": 83.3512733542645,
          "Phase shift diff (rad)": 1.4547541557617336,
          "Photon energy (eV)": 19.1,
          "Polar ang (deg)": 49.2743703812508,
          "Polar ang (rad)": 0.8600000000000001
         },
         {
          "Config": "sum[m]",
          "KE (eV)": "13.6",
          "Phase shift diff (deg)": 84.2176236607319,
          "Phase shift diff (rad)": 1.4698748210852515,
          "Photon energy (eV)": 19.1,
          "Polar ang (deg)": 49.8473281763816,
          "Polar ang (rad)": 0.8699999999999997
         },
         {
          "Config": "sum[m]",
          "KE (eV)": "13.6",
          "Phase shift diff (deg)": 85.1128596207747,
          "Phase shift diff (rad)": 1.4854996361702506,
          "Photon energy (eV)": 19.1,
          "Polar ang (deg)": 50.4202859715125,
          "Polar ang (rad)": 0.8800000000000009
         },
         {
          "Config": "sum[m]",
          "KE (eV)": "13.6",
          "Phase shift diff (deg)": 86.037596149855,
          "Phase shift diff (rad)": 1.5016393333161664,
          "Photon energy (eV)": 19.1,
          "Polar ang (deg)": 50.9932437666433,
          "Polar ang (rad)": 0.8900000000000007
         },
         {
          "Config": "sum[m]",
          "KE (eV)": "13.6",
          "Phase shift diff (deg)": 86.9923976486824,
          "Phase shift diff (rad)": 1.5183037631736813,
          "Photon energy (eV)": 19.1,
          "Polar ang (deg)": 51.5662015617741,
          "Polar ang (rad)": 0.9000000000000001
         },
         {
          "Config": "sum[m]",
          "KE (eV)": "13.6",
          "Phase shift diff (deg)": 87.9777673133083,
          "Phase shift diff (rad)": 1.5355017081706757,
          "Photon energy (eV)": 19.1,
          "Polar ang (deg)": 52.1391593569049,
          "Polar ang (rad)": 0.9099999999999997
         },
         {
          "Config": "sum[m]",
          "KE (eV)": "13.6",
          "Phase shift diff (deg)": 88.9941355198276,
          "Phase shift diff (rad)": 1.5532406797870268,
          "Photon energy (eV)": 19.1,
          "Polar ang (deg)": 52.7121171520357,
          "Polar ang (rad)": 0.9199999999999995
         },
         {
          "Config": "sum[m]",
          "KE (eV)": "13.6",
          "Phase shift diff (deg)": 90.0418473307709,
          "Phase shift diff (rad)": 1.5715267005000197,
          "Photon energy (eV)": 19.1,
          "Polar ang (deg)": 53.2850749471666,
          "Polar ang (rad)": 0.9300000000000007
         },
         {
          "Config": "sum[m]",
          "KE (eV)": "13.6",
          "Phase shift diff (deg)": 91.1211492050183,
          "Phase shift diff (rad)": 1.5903640718285827,
          "Photon energy (eV)": 19.1,
          "Polar ang (deg)": 53.8580327422974,
          "Polar ang (rad)": 0.9400000000000003
         },
         {
          "Config": "sum[m]",
          "KE (eV)": "13.6",
          "Phase shift diff (deg)": 92.2321750336084,
          "Phase shift diff (rad)": 1.6097551306121782,
          "Photon energy (eV)": 19.1,
          "Polar ang (deg)": 54.4309905374282,
          "Polar ang (rad)": 0.9499999999999998
         },
         {
          "Config": "sum[m]",
          "KE (eV)": "13.6",
          "Phase shift diff (deg)": 93.3749316697951,
          "Phase shift diff (rad)": 1.629699996462651,
          "Photon energy (eV)": 19.1,
          "Polar ang (deg)": 55.003948332559,
          "Polar ang (rad)": 0.9599999999999994
         },
         {
          "Config": "sum[m]",
          "KE (eV)": "13.6",
          "Phase shift diff (deg)": 94.5492841723037,
          "Phase shift diff (rad)": 1.650196314210461,
          "Photon energy (eV)": 19.1,
          "Polar ang (deg)": 55.5769061276899,
          "Polar ang (rad)": 0.9700000000000009
         },
         {
          "Config": "sum[m]",
          "KE (eV)": "13.6",
          "Phase shift diff (deg)": 95.7549410345823,
          "Phase shift diff (rad)": 1.6712389961064866,
          "Photon energy (eV)": 19.1,
          "Polar ang (deg)": 56.1498639228207,
          "Polar ang (rad)": 0.9800000000000004
         },
         {
          "Config": "sum[m]",
          "KE (eV)": "13.6",
          "Phase shift diff (deg)": 96.9914397279089,
          "Phase shift diff (rad)": 1.6928199695016433,
          "Photon energy (eV)": 19.1,
          "Polar ang (deg)": 56.7228217179515,
          "Polar ang (rad)": 0.99
         },
         {
          "Config": "sum[m]",
          "KE (eV)": "13.6",
          "Phase shift diff (deg)": 98.2581329397856,
          "Phase shift diff (rad)": 1.714927936661554,
          "Photon energy (eV)": 19.1,
          "Polar ang (deg)": 57.2957795130823,
          "Polar ang (rad)": 0.9999999999999997
         },
         {
          "Config": "sum[m]",
          "KE (eV)": "13.6",
          "Phase shift diff (deg)": 99.554175937723,
          "Phase shift diff (rad)": 1.7375481542229798,
          "Photon energy (eV)": 19.1,
          "Polar ang (deg)": 57.8687373082132,
          "Polar ang (rad)": 1.010000000000001
         },
         {
          "Config": "sum[m]",
          "KE (eV)": "13.6",
          "Phase shift diff (deg)": 100.878515528293,
          "Phase shift diff (rad)": 1.7606622404929397,
          "Photon energy (eV)": 19.1,
          "Polar ang (deg)": 58.441695103344,
          "Polar ang (rad)": 1.0200000000000005
         },
         {
          "Config": "sum[m]",
          "KE (eV)": "13.6",
          "Phase shift diff (deg)": 102.229881107745,
          "Phase shift diff (rad)": 1.7842480192524983,
          "Photon energy (eV)": 19.1,
          "Polar ang (deg)": 59.0146528984748,
          "Polar ang (rad)": 1.03
         },
         {
          "Config": "sum[m]",
          "KE (eV)": "13.6",
          "Phase shift diff (deg)": 103.606778308977,
          "Phase shift diff (rad)": 1.8082794088754914,
          "Photon energy (eV)": 19.1,
          "Polar ang (deg)": 59.5876106936056,
          "Polar ang (rad)": 1.0399999999999996
         },
         {
          "Config": "sum[m]",
          "KE (eV)": "13.6",
          "Phase shift diff (deg)": 105.007485735792,
          "Phase shift diff (rad)": 1.8327263653305508,
          "Photon energy (eV)": 19.1,
          "Polar ang (deg)": 60.1605684887364,
          "Polar ang (rad)": 1.0499999999999994
         },
         {
          "Config": "sum[m]",
          "KE (eV)": "13.6",
          "Phase shift diff (deg)": 106.430055235589,
          "Phase shift diff (rad)": 1.857554886940457,
          "Photon energy (eV)": 19.1,
          "Polar ang (deg)": 60.7335262838673,
          "Polar ang (rad)": 1.0600000000000007
         },
         {
          "Config": "sum[m]",
          "KE (eV)": "13.6",
          "Phase shift diff (deg)": 107.872316093361,
          "Phase shift diff (rad)": 1.8827270875812163,
          "Photon energy (eV)": 19.1,
          "Polar ang (deg)": 61.3064840789981,
          "Polar ang (rad)": 1.0700000000000003
         },
         {
          "Config": "sum[m]",
          "KE (eV)": "13.6",
          "Phase shift diff (deg)": 109.331883432523,
          "Phase shift diff (rad)": 1.908201343304166,
          "Photon energy (eV)": 19.1,
          "Polar ang (deg)": 61.8794418741289,
          "Polar ang (rad)": 1.0799999999999998
         },
         {
          "Config": "sum[m]",
          "KE (eV)": "13.6",
          "Phase shift diff (deg)": 110.80617098311,
          "Phase shift diff (rad)": 1.9339325151830713,
          "Photon energy (eV)": 19.1,
          "Polar ang (deg)": 62.4523996692597,
          "Polar ang (rad)": 1.0899999999999994
         },
         {
          "Config": "sum[m]",
          "KE (eV)": "13.6",
          "Phase shift diff (deg)": 112.292408229317,
          "Phase shift diff (rad)": 1.9598722485951574,
          "Photon energy (eV)": 19.1,
          "Polar ang (deg)": 63.0253574643906,
          "Polar ang (rad)": 1.1000000000000008
         },
         {
          "Config": "sum[m]",
          "KE (eV)": "13.6",
          "Phase shift diff (deg)": 113.787661782674,
          "Phase shift diff (rad)": 1.9859693462533816,
          "Photon energy (eV)": 19.1,
          "Polar ang (deg)": 63.5983152595214,
          "Polar ang (rad)": 1.1100000000000003
         },
         {
          "Config": "sum[m]",
          "KE (eV)": "13.6",
          "Phase shift diff (deg)": 115.288860653362,
          "Phase shift diff (rad)": 2.0121702092741076,
          "Photon energy (eV)": 19.1,
          "Polar ang (deg)": 64.1712730546522,
          "Polar ang (rad)": 1.12
         },
         {
          "Config": "sum[m]",
          "KE (eV)": "13.6",
          "Phase shift diff (deg)": 116.792824920695,
          "Phase shift diff (rad)": 2.038419337571413,
          "Photon energy (eV)": 19.1,
          "Polar ang (deg)": 64.744230849783,
          "Polar ang (rad)": 1.1299999999999994
         },
         {
          "Config": "sum[m]",
          "KE (eV)": "13.6",
          "Phase shift diff (deg)": 118.296297146295,
          "Phase shift diff (rad)": 2.06465987812042,
          "Photon energy (eV)": 19.1,
          "Polar ang (deg)": 65.3171886449139,
          "Polar ang (rad)": 1.1400000000000008
         },
         {
          "Config": "sum[m]",
          "KE (eV)": "13.6",
          "Phase shift diff (deg)": 119.795975741217,
          "Phase shift diff (rad)": 2.0908342073234913,
          "Photon energy (eV)": 19.1,
          "Polar ang (deg)": 65.8901464400447,
          "Polar ang (rad)": 1.1500000000000006
         },
         {
          "Config": "sum[m]",
          "KE (eV)": "13.6",
          "Phase shift diff (deg)": 121.288549401238,
          "Phase shift diff (rad)": 2.1168845320194,
          "Photon energy (eV)": 19.1,
          "Polar ang (deg)": 66.4631042351755,
          "Polar ang (rad)": 1.1600000000000004
         },
         {
          "Config": "sum[m]",
          "KE (eV)": "13.6",
          "Phase shift diff (deg)": 122.770731670393,
          "Phase shift diff (rad)": 2.1427534927308356,
          "Photon energy (eV)": 19.1,
          "Polar ang (deg)": 67.0360620303063,
          "Polar ang (rad)": 1.1699999999999997
         },
         {
          "Config": "sum[m]",
          "KE (eV)": "13.6",
          "Phase shift diff (deg)": 124.239294685871,
          "Phase shift diff (rad)": 2.1683847526239433,
          "Photon energy (eV)": 19.1,
          "Polar ang (deg)": 67.6090198254371,
          "Polar ang (rad)": 1.1799999999999995
         },
         {
          "Config": "sum[m]",
          "KE (eV)": "13.6",
          "Phase shift diff (deg)": 125.691101198176,
          "Phase shift diff (rad)": 2.193723556365561,
          "Photon energy (eV)": 19.1,
          "Polar ang (deg)": 68.181977620568,
          "Polar ang (rad)": 1.1900000000000006
         },
         {
          "Config": "sum[m]",
          "KE (eV)": "13.6",
          "Phase shift diff (deg)": 127.123134045733,
          "Phase shift diff (rad)": 2.2187172445521406,
          "Photon energy (eV)": 19.1,
          "Polar ang (deg)": 68.7549354156988,
          "Polar ang (rad)": 1.2
         },
         {
          "Config": "sum[m]",
          "KE (eV)": "13.6",
          "Phase shift diff (deg)": 128.532522386147,
          "Phase shift diff (rad)": 2.243315711531584,
          "Photon energy (eV)": 19.1,
          "Polar ang (deg)": 69.3278932108296,
          "Polar ang (rad)": 1.2099999999999997
         },
         {
          "Config": "sum[m]",
          "KE (eV)": "13.6",
          "Phase shift diff (deg)": 129.916564137651,
          "Phase shift diff (rad)": 2.2674717970803977,
          "Photon energy (eV)": 19.1,
          "Polar ang (deg)": 69.9008510059604,
          "Polar ang (rad)": 1.2199999999999995
         },
         {
          "Config": "sum[m]",
          "KE (eV)": "13.6",
          "Phase shift diff (deg)": 131.272744252889,
          "Phase shift diff (rad)": 2.2911416053413767,
          "Photon energy (eV)": 19.1,
          "Polar ang (deg)": 70.4738088010913,
          "Polar ang (rad)": 1.2300000000000006
         },
         {
          "Config": "sum[m]",
          "KE (eV)": "13.6",
          "Phase shift diff (deg)": 132.598748621449,
          "Phase shift diff (rad)": 2.314284747468577,
          "Photon energy (eV)": 19.1,
          "Polar ang (deg)": 71.0467665962221,
          "Polar ang (rad)": 1.2400000000000004
         },
         {
          "Config": "sum[m]",
          "KE (eV)": "13.6",
          "Phase shift diff (deg)": 133.892473566566,
          "Phase shift diff (rad)": 2.3368645073760517,
          "Photon energy (eV)": 19.1,
          "Polar ang (deg)": 71.6197243913529,
          "Polar ang (rad)": 1.25
         },
         {
          "Config": "sum[m]",
          "KE (eV)": "13.6",
          "Phase shift diff (deg)": 135.152031055688,
          "Phase shift diff (rad)": 2.3588479326793834,
          "Photon energy (eV)": 19.1,
          "Polar ang (deg)": 72.1926821864837,
          "Polar ang (rad)": 1.2599999999999993
         },
         {
          "Config": "sum[m]",
          "KE (eV)": "13.6",
          "Phase shift diff (deg)": 136.375749876924,
          "Phase shift diff (rad)": 2.3802058552285756,
          "Photon energy (eV)": 19.1,
          "Polar ang (deg)": 72.7656399816146,
          "Polar ang (rad)": 1.270000000000001
         },
         {
          "Config": "sum[m]",
          "KE (eV)": "13.6",
          "Phase shift diff (deg)": 137.562173138991,
          "Phase shift diff (rad)": 2.4009128474738963,
          "Photon energy (eV)": 19.1,
          "Polar ang (deg)": 73.3385977767454,
          "Polar ang (rad)": 1.2800000000000005
         },
         {
          "Config": "sum[m]",
          "KE (eV)": "13.6",
          "Phase shift diff (deg)": 138.710052528955,
          "Phase shift diff (rad)": 2.420947122244552,
          "Photon energy (eV)": 19.1,
          "Polar ang (deg)": 73.9115555718762,
          "Polar ang (rad)": 1.2900000000000003
         },
         {
          "Config": "sum[m]",
          "KE (eV)": "13.6",
          "Phase shift diff (deg)": 139.818339809932,
          "Phase shift diff (rad)": 2.4402903843555763,
          "Photon energy (eV)": 19.1,
          "Polar ang (deg)": 74.484513367007,
          "Polar ang (rad)": 1.2999999999999996
         },
         {
          "Config": "sum[m]",
          "KE (eV)": "13.6",
          "Phase shift diff (deg)": 140.886176061937,
          "Phase shift diff (rad)": 2.4589276428252194,
          "Photon energy (eV)": 19.1,
          "Polar ang (deg)": 75.0574711621378,
          "Polar ang (rad)": 1.3099999999999994
         },
         {
          "Config": "sum[m]",
          "KE (eV)": "13.6",
          "Phase shift diff (deg)": 141.912879166661,
          "Phase shift diff (rad)": 2.476846992443101,
          "Photon energy (eV)": 19.1,
          "Polar ang (deg)": 75.6304289572687,
          "Polar ang (rad)": 1.3200000000000007
         },
         {
          "Config": "sum[m]",
          "KE (eV)": "13.6",
          "Phase shift diff (deg)": 142.897930015288,
          "Phase shift diff (rad)": 2.4940393730512067,
          "Photon energy (eV)": 19.1,
          "Polar ang (deg)": 76.2033867523995,
          "Polar ang (rad)": 1.33
         },
         {
          "Config": "sum[m]",
          "KE (eV)": "13.6",
          "Phase shift diff (deg)": 143.840957882142,
          "Phase shift diff (rad)": 2.5104983142658672,
          "Photon energy (eV)": 19.1,
          "Polar ang (deg)": 76.7763445475303,
          "Polar ang (rad)": 1.3399999999999999
         },
         {
          "Config": "sum[m]",
          "KE (eV)": "13.6",
          "Phase shift diff (deg)": 144.741725360548,
          "Phase shift diff (rad)": 2.5262196725589394,
          "Photon energy (eV)": 19.1,
          "Polar ang (deg)": 77.3493023426612,
          "Polar ang (rad)": 1.3500000000000012
         },
         {
          "Config": "sum[m]",
          "KE (eV)": "13.6",
          "Phase shift diff (deg)": 145.600113204813,
          "Phase shift diff (rad)": 2.54120136670046,
          "Photon energy (eV)": 19.1,
          "Polar ang (deg)": 77.922260137792,
          "Polar ang (rad)": 1.3600000000000008
         },
         {
          "Config": "sum[m]",
          "KE (eV)": "13.6",
          "Phase shift diff (deg)": 146.416105367483,
          "Phase shift diff (rad)": 2.5554431166095206,
          "Photon energy (eV)": 19.1,
          "Polar ang (deg)": 78.4952179329228,
          "Polar ang (rad)": 1.3700000000000003
         },
         {
          "Config": "sum[m]",
          "KE (eV)": "13.6",
          "Phase shift diff (deg)": 147.189774466743,
          "Phase shift diff (rad)": 2.568946189712546,
          "Photon energy (eV)": 19.1,
          "Polar ang (deg)": 79.0681757280536,
          "Polar ang (rad)": 1.38
         },
         {
          "Config": "sum[m]",
          "KE (eV)": "13.6",
          "Phase shift diff (deg)": 147.921267867321,
          "Phase shift diff (rad)": 2.5817131580092423,
          "Photon energy (eV)": 19.1,
          "Polar ang (deg)": 79.6411335231844,
          "Polar ang (rad)": 1.3899999999999992
         },
         {
          "Config": "sum[m]",
          "KE (eV)": "13.6",
          "Phase shift diff (deg)": 148.610794511097,
          "Phase shift diff (rad)": 2.5937476682233593,
          "Photon energy (eV)": 19.1,
          "Polar ang (deg)": 80.2140913183153,
          "Polar ang (rad)": 1.4000000000000008
         },
         {
          "Config": "sum[m]",
          "KE (eV)": "13.6",
          "Phase shift diff (deg)": 149.258612591718,
          "Phase shift diff (rad)": 2.6050542266841457,
          "Photon energy (eV)": 19.1,
          "Polar ang (deg)": 80.7870491134461,
          "Polar ang (rad)": 1.4100000000000006
         },
         {
          "Config": "sum[m]",
          "KE (eV)": "13.6",
          "Phase shift diff (deg)": 149.865018131435,
          "Phase shift diff (rad)": 2.6156379999545405,
          "Photon energy (eV)": 19.1,
          "Polar ang (deg)": 81.3600069085769,
          "Polar ang (rad)": 1.4200000000000002
         },
         {
          "Config": "sum[m]",
          "KE (eV)": "13.6",
          "Phase shift diff (deg)": 150.430334488145,
          "Phase shift diff (rad)": 2.625504631694509,
          "Photon energy (eV)": 19.1,
          "Polar ang (deg)": 81.9329647037077,
          "Polar ang (rad)": 1.4299999999999997
         },
         {
          "Config": "sum[m]",
          "KE (eV)": "13.6",
          "Phase shift diff (deg)": 150.954902796077,
          "Phase shift diff (rad)": 2.634660075819538,
          "Photon energy (eV)": 19.1,
          "Polar ang (deg)": 82.5059224988385,
          "Polar ang (rad)": 1.439999999999999
         },
         {
          "Config": "sum[m]",
          "KE (eV)": "13.6",
          "Phase shift diff (deg)": 151.439073324294,
          "Phase shift diff (rad)": 2.6431104456780443,
          "Photon energy (eV)": 19.1,
          "Polar ang (deg)": 83.0788802939694,
          "Polar ang (rad)": 1.4500000000000006
         },
         {
          "Config": "sum[m]",
          "KE (eV)": "13.6",
          "Phase shift diff (deg)": 151.883197722692,
          "Phase shift diff (rad)": 2.6508618787185285,
          "Photon energy (eV)": 19.1,
          "Polar ang (deg)": 83.6518380891002,
          "Polar ang (rad)": 1.46
         },
         {
          "Config": "sum[m]",
          "KE (eV)": "13.6",
          "Phase shift diff (deg)": 152.287622114876,
          "Phase shift diff (rad)": 2.6579204159375163,
          "Photon energy (eV)": 19.1,
          "Polar ang (deg)": 84.224795884231,
          "Polar ang (rad)": 1.4699999999999998
         },
         {
          "Config": "sum[m]",
          "KE (eV)": "13.6",
          "Phase shift diff (deg)": 152.652680990565,
          "Phase shift diff (rad)": 2.664291895281918,
          "Photon energy (eV)": 19.1,
          "Polar ang (deg)": 84.7977536793618,
          "Polar ang (rad)": 1.4799999999999995
         },
         {
          "Config": "sum[m]",
          "KE (eV)": "13.6",
          "Phase shift diff (deg)": 152.978691846507,
          "Phase shift diff (rad)": 2.6699818581153507,
          "Photon energy (eV)": 19.1,
          "Polar ang (deg)": 85.3707114744927,
          "Polar ang (rad)": 1.4900000000000007
         },
         {
          "Config": "sum[m]",
          "KE (eV)": "13.6",
          "Phase shift diff (deg)": 153.265950523666,
          "Phase shift diff (rad)": 2.6749954678366987,
          "Photon energy (eV)": 19.1,
          "Polar ang (deg)": 85.9436692696235,
          "Polar ang (rad)": 1.5000000000000002
         },
         {
          "Config": "sum[m]",
          "KE (eV)": "13.6",
          "Phase shift diff (deg)": 153.514727189263,
          "Phase shift diff (rad)": 2.6793374397534993,
          "Photon energy (eV)": 19.1,
          "Polar ang (deg)": 86.5166270647543,
          "Polar ang (rad)": 1.5099999999999998
         },
         {
          "Config": "sum[m]",
          "KE (eV)": "13.6",
          "Phase shift diff (deg)": 153.725262914645,
          "Phase shift diff (rad)": 2.6830119813544897,
          "Photon energy (eV)": 19.1,
          "Polar ang (deg)": 87.0895848598851,
          "Polar ang (rad)": 1.5199999999999994
         },
         {
          "Config": "sum[m]",
          "KE (eV)": "13.6",
          "Phase shift diff (deg)": 153.897766803593,
          "Phase shift diff (rad)": 2.686022742189127,
          "Photon energy (eV)": 19.1,
          "Polar ang (deg)": 87.6625426550159,
          "Polar ang (rad)": 1.529999999999999
         },
         {
          "Config": "sum[m]",
          "KE (eV)": "13.6",
          "Phase shift diff (deg)": 154.032413630278,
          "Phase shift diff (rad)": 2.6883727726421425,
          "Photon energy (eV)": 19.1,
          "Polar ang (deg)": 88.2355004501468,
          "Polar ang (rad)": 1.5400000000000005
         },
         {
          "Config": "sum[m]",
          "KE (eV)": "13.6",
          "Phase shift diff (deg)": 154.129341951338,
          "Phase shift diff (rad)": 2.6900644909830698,
          "Photon energy (eV)": 19.1,
          "Polar ang (deg)": 88.8084582452776,
          "Polar ang (rad)": 1.55
         },
         {
          "Config": "sum[m]",
          "KE (eV)": "13.6",
          "Phase shift diff (deg)": 154.188652662371,
          "Phase shift diff (rad)": 2.6910996581722944,
          "Photon energy (eV)": 19.1,
          "Polar ang (deg)": 89.3814160404084,
          "Polar ang (rad)": 1.5599999999999996
         },
         {
          "Config": "sum[m]",
          "KE (eV)": "13.6",
          "Phase shift diff (deg)": 154.210407975303,
          "Phase shift diff (rad)": 2.69147936001276,
          "Photon energy (eV)": 19.1,
          "Polar ang (deg)": 89.9543738355393,
          "Polar ang (rad)": 1.570000000000001
         },
         {
          "Config": "sum[m]",
          "KE (eV)": "13.6",
          "Phase shift diff (deg)": 334.194630799495,
          "Phase shift diff (rad)": 5.832796649938037,
          "Photon energy (eV)": 19.1,
          "Polar ang (deg)": 90.5273316306701,
          "Polar ang (rad)": 1.5800000000000005
         },
         {
          "Config": "sum[m]",
          "KE (eV)": "13.6",
          "Phase shift diff (deg)": 334.141304516042,
          "Phase shift diff (rad)": 5.8318659307139304,
          "Photon energy (eV)": 19.1,
          "Polar ang (deg)": 91.1002894258009,
          "Polar ang (rad)": 1.59
         },
         {
          "Config": "sum[m]",
          "KE (eV)": "13.6",
          "Phase shift diff (deg)": 334.050373141385,
          "Phase shift diff (rad)": 5.830278878832802,
          "Photon energy (eV)": 19.1,
          "Polar ang (deg)": 91.6732472209317,
          "Polar ang (rad)": 1.5999999999999996
         },
         {
          "Config": "sum[m]",
          "KE (eV)": "13.6",
          "Phase shift diff (deg)": 333.921741883044,
          "Phase shift diff (rad)": 5.828033839853767,
          "Photon energy (eV)": 19.1,
          "Polar ang (deg)": 92.2462050160626,
          "Polar ang (rad)": 1.6100000000000012
         },
         {
          "Config": "sum[m]",
          "KE (eV)": "13.6",
          "Phase shift diff (deg)": 333.755278096975,
          "Phase shift diff (rad)": 5.825128498701528,
          "Photon energy (eV)": 19.1,
          "Polar ang (deg)": 92.8191628111934,
          "Polar ang (rad)": 1.6200000000000006
         },
         {
          "Config": "sum[m]",
          "KE (eV)": "13.6",
          "Phase shift diff (deg)": 333.550812662628,
          "Phase shift diff (rad)": 5.821559903665653,
          "Photon energy (eV)": 19.1,
          "Polar ang (deg)": 93.3921206063242,
          "Polar ang (rad)": 1.6300000000000003
         },
         {
          "Config": "sum[m]",
          "KE (eV)": "13.6",
          "Phase shift diff (deg)": 333.308141798261,
          "Phase shift diff (rad)": 5.817324498083788,
          "Photon energy (eV)": 19.1,
          "Polar ang (deg)": 93.965078401455,
          "Polar ang (rad)": 1.64
         },
         {
          "Config": "sum[m]",
          "KE (eV)": "13.6",
          "Phase shift diff (deg)": 333.027029345239,
          "Phase shift diff (rad)": 5.812418160210196,
          "Photon energy (eV)": 19.1,
          "Polar ang (deg)": 94.5380361965858,
          "Polar ang (rad)": 1.6499999999999995
         },
         {
          "Config": "sum[m]",
          "KE (eV)": "13.6",
          "Phase shift diff (deg)": 332.707209555953,
          "Phase shift diff (rad)": 5.806836251874121,
          "Photon energy (eV)": 19.1,
          "Polar ang (deg)": 95.1109939917167,
          "Polar ang (rad)": 1.6600000000000008
         },
         {
          "Config": "sum[m]",
          "KE (eV)": "13.6",
          "Phase shift diff (deg)": 332.348390425357,
          "Phase shift diff (rad)": 5.800573676626078,
          "Photon energy (eV)": 19.1,
          "Polar ang (deg)": 95.6839517868475,
          "Polar ang (rad)": 1.6700000000000004
         },
         {
          "Config": "sum[m]",
          "KE (eV)": "13.6",
          "Phase shift diff (deg)": 331.950257610831,
          "Phase shift diff (rad)": 5.793624948152367,
          "Photon energy (eV)": 19.1,
          "Polar ang (deg)": 96.2569095819783,
          "Polar ang (rad)": 1.6800000000000002
         },
         {
          "Config": "sum[m]",
          "KE (eV)": "13.6",
          "Phase shift diff (deg)": 331.512478988892,
          "Phase shift diff (rad)": 5.785984269804687,
          "Photon energy (eV)": 19.1,
          "Polar ang (deg)": 96.8298673771091,
          "Polar ang (rad)": 1.6899999999999995
         },
         {
          "Config": "sum[m]",
          "KE (eV)": "13.6",
          "Phase shift diff (deg)": 331.03470989989,
          "Phase shift diff (rad)": 5.777645626137349,
          "Photon energy (eV)": 19.1,
          "Polar ang (deg)": 97.40282517224,
          "Polar ang (rad)": 1.700000000000001
         },
         {
          "Config": "sum[m]",
          "KE (eV)": "13.6",
          "Phase shift diff (deg)": 330.516599132919,
          "Phase shift diff (rad)": 5.768602887363672,
          "Photon energy (eV)": 19.1,
          "Polar ang (deg)": 97.9757829673708,
          "Polar ang (rad)": 1.7100000000000006
         },
         {
          "Config": "sum[m]",
          "KE (eV)": "13.6",
          "Phase shift diff (deg)": 329.957795702303,
          "Phase shift diff (rad)": 5.758849927627983,
          "Photon energy (eV)": 19.1,
          "Polar ang (deg)": 98.5487407625016,
          "Polar ang (rad)": 1.7200000000000002
         },
         {
          "Config": "sum[m]",
          "KE (eV)": "13.6",
          "Phase shift diff (deg)": 329.357956463785,
          "Phase shift diff (rad)": 5.748380757933188,
          "Photon energy (eV)": 19.1,
          "Polar ang (deg)": 99.1216985576324,
          "Polar ang (rad)": 1.7299999999999998
         },
         {
          "Config": "sum[m]",
          "KE (eV)": "13.6",
          "Phase shift diff (deg)": 328.716754612338,
          "Phase shift diff (rad)": 5.737189674455554,
          "Photon energy (eV)": 19.1,
          "Polar ang (deg)": 99.6946563527632,
          "Polar ang (rad)": 1.7399999999999993
         },
         {
          "Config": "sum[m]",
          "KE (eV)": "13.6",
          "Phase shift diff (deg)": 328.033889093811,
          "Phase shift diff (rad)": 5.7252714228089205,
          "Photon energy (eV)": 19.1,
          "Polar ang (deg)": 100.267614147894,
          "Polar ang (rad)": 1.7499999999999987
         },
         {
          "Config": "sum[m]",
          "KE (eV)": "13.6",
          "Phase shift diff (deg)": 327.309094948863,
          "Phase shift diff (rad)": 5.7126213785804,
          "Photon energy (eV)": 19.1,
          "Polar ang (deg)": 100.840571943025,
          "Polar ang (rad)": 1.7600000000000018
         },
         {
          "Config": "sum[m]",
          "KE (eV)": "13.6",
          "Phase shift diff (deg)": 326.542154589147,
          "Phase shift diff (rad)": 5.699235744136926,
          "Photon energy (eV)": 19.1,
          "Polar ang (deg)": 101.413529738156,
          "Polar ang (rad)": 1.7700000000000051
         },
         {
          "Config": "sum[m]",
          "KE (eV)": "13.6",
          "Phase shift diff (deg)": 325.73290998205,
          "Phase shift diff (rad)": 5.685111761289076,
          "Photon energy (eV)": 19.1,
          "Polar ang (deg)": 101.986487533287,
          "Polar ang (rad)": 1.7800000000000082
         },
         {
          "Config": "sum[m]",
          "KE (eV)": "13.6",
          "Phase shift diff (deg)": 324.881275690973,
          "Phase shift diff (rad)": 5.670247938886894,
          "Photon energy (eV)": 19.1,
          "Polar ang (deg)": 102.559445328417,
          "Polar ang (rad)": 1.7899999999999938
         },
         {
          "Config": "sum[m]",
          "KE (eV)": "13.6",
          "Phase shift diff (deg)": 323.98725268299,
          "Phase shift diff (rad)": 5.654644293809008,
          "Photon energy (eV)": 19.1,
          "Polar ang (deg)": 103.132403123548,
          "Polar ang (rad)": 1.799999999999997
         },
         {
          "Config": "sum[m]",
          "KE (eV)": "13.6",
          "Phase shift diff (deg)": 323.050942774741,
          "Phase shift diff (rad)": 5.638302603091016,
          "Photon energy (eV)": 19.1,
          "Polar ang (deg)": 103.705360918679,
          "Polar ang (rad)": 1.8099999999999998
         },
         {
          "Config": "sum[m]",
          "KE (eV)": "13.6",
          "Phase shift diff (deg)": 322.072563541016,
          "Phase shift diff (rad)": 5.6212266641293755,
          "Photon energy (eV)": 19.1,
          "Polar ang (deg)": 104.27831871381,
          "Polar ang (rad)": 1.820000000000003
         },
         {
          "Config": "sum[m]",
          "KE (eV)": "13.6",
          "Phase shift diff (deg)": 321.052463459601,
          "Phase shift diff (rad)": 5.603422559008822,
          "Photon energy (eV)": 19.1,
          "Polar ang (deg)": 104.851276508941,
          "Polar ang (rad)": 1.830000000000006
         },
         {
          "Config": "sum[m]",
          "KE (eV)": "13.6",
          "Phase shift diff (deg)": 319.991137012002,
          "Phase shift diff (rad)": 5.584898918059725,
          "Photon energy (eV)": 19.1,
          "Polar ang (deg)": 105.424234304071,
          "Polar ang (rad)": 1.8399999999999919
         },
         {
          "Config": "sum[m]",
          "KE (eV)": "13.6",
          "Phase shift diff (deg)": 318.889239404743,
          "Phase shift diff (rad)": 5.565667176793208,
          "Photon energy (eV)": 19.1,
          "Polar ang (deg)": 105.997192099202,
          "Polar ang (rad)": 1.8499999999999945
         },
         {
          "Config": "sum[m]",
          "KE (eV)": "13.6",
          "Phase shift diff (deg)": 317.747600522947,
          "Phase shift diff (rad)": 5.5457418194370804,
          "Photon energy (eV)": 19.1,
          "Polar ang (deg)": 106.570149894333,
          "Polar ang (rad)": 1.859999999999998
         },
         {
          "Config": "sum[m]",
          "KE (eV)": "13.6",
          "Phase shift diff (deg)": 316.567237680227,
          "Phase shift diff (rad)": 5.525140601463416,
          "Photon energy (eV)": 19.1,
          "Polar ang (deg)": 107.143107689464,
          "Polar ang (rad)": 1.870000000000001
         },
         {
          "Config": "sum[m]",
          "KE (eV)": "13.6",
          "Phase shift diff (deg)": 315.349366690687,
          "Phase shift diff (rad)": 5.503884742831423,
          "Photon energy (eV)": 19.1,
          "Polar ang (deg)": 107.716065484595,
          "Polar ang (rad)": 1.8800000000000041
         },
         {
          "Config": "sum[m]",
          "KE (eV)": "13.6",
          "Phase shift diff (deg)": 314.095410764544,
          "Phase shift diff (rad)": 5.4819990832453325,
          "Photon energy (eV)": 19.1,
          "Polar ang (deg)": 108.289023279726,
          "Polar ang (rad)": 1.890000000000007
         },
         {
          "Config": "sum[m]",
          "KE (eV)": "13.6",
          "Phase shift diff (deg)": 312.807006723099,
          "Phase shift diff (rad)": 5.459512190626115,
          "Photon energy (eV)": 19.1,
          "Polar ang (deg)": 108.861981074856,
          "Polar ang (rad)": 1.8999999999999928
         },
         {
          "Config": "sum[m]",
          "KE (eV)": "13.6",
          "Phase shift diff (deg)": 311.486008045808,
          "Phase shift diff (rad)": 5.4364564142928975,
          "Photon energy (eV)": 19.1,
          "Polar ang (deg)": 109.434938869987,
          "Polar ang (rad)": 1.9099999999999957
         },
         {
          "Config": "sum[m]",
          "KE (eV)": "13.6",
          "Phase shift diff (deg)": 310.134484305652,
          "Phase shift diff (rad)": 5.412867875108307,
          "Photon energy (eV)": 19.1,
          "Polar ang (deg)": 110.007896665118,
          "Polar ang (rad)": 1.9199999999999988
         },
         {
          "Config": "sum[m]",
          "KE (eV)": "13.6",
          "Phase shift diff (deg)": 308.754716621006,
          "Phase shift diff (rad)": 5.388786386098616,
          "Photon energy (eV)": 19.1,
          "Polar ang (deg)": 110.580854460249,
          "Polar ang (rad)": 1.9300000000000022
         },
         {
          "Config": "sum[m]",
          "KE (eV)": "13.6",
          "Phase shift diff (deg)": 307.349188853294,
          "Phase shift diff (rad)": 5.364255298823835,
          "Photon energy (eV)": 19.1,
          "Polar ang (deg)": 111.15381225538,
          "Polar ang (rad)": 1.9400000000000053
         },
         {
          "Config": "sum[m]",
          "KE (eV)": "13.6",
          "Phase shift diff (deg)": 305.920574408052,
          "Phase shift diff (rad)": 5.33932127301281,
          "Photon energy (eV)": 19.1,
          "Polar ang (deg)": 111.726770050511,
          "Polar ang (rad)": 1.9500000000000082
         },
         {
          "Config": "sum[m]",
          "KE (eV)": "13.6",
          "Phase shift diff (deg)": 304.471718648191,
          "Phase shift diff (rad)": 5.314033969616751,
          "Photon energy (eV)": 19.1,
          "Polar ang (deg)": 112.299727845641,
          "Polar ang (rad)": 1.9599999999999937
         },
         {
          "Config": "sum[m]",
          "KE (eV)": "13.6",
          "Phase shift diff (deg)": 303.005617095512,
          "Phase shift diff (rad)": 5.288445670353902,
          "Photon energy (eV)": 19.1,
          "Polar ang (deg)": 112.872685640772,
          "Polar ang (rad)": 1.9699999999999969
         },
         {
          "Config": "sum[m]",
          "KE (eV)": "13.6",
          "Phase shift diff (deg)": 301.525389770667,
          "Phase shift diff (rad)": 5.262610829857369,
          "Photon energy (eV)": 19.1,
          "Polar ang (deg)": 113.445643435903,
          "Polar ang (rad)": 1.98
         },
         {
          "Config": "sum[m]",
          "KE (eV)": "13.6",
          "Phase shift diff (deg)": 300.03425219202,
          "Phase shift diff (rad)": 5.236585569509764,
          "Photon energy (eV)": 19.1,
          "Polar ang (deg)": 114.018601231034,
          "Polar ang (rad)": 1.9900000000000029
         },
         {
          "Config": "sum[m]",
          "KE (eV)": "13.6",
          "Phase shift diff (deg)": 298.535483708725,
          "Phase shift diff (rad)": 5.210427124751144,
          "Photon energy (eV)": 19.1,
          "Polar ang (deg)": 114.591559026165,
          "Polar ang (rad)": 2.000000000000006
         },
         {
          "Config": "sum[m]",
          "KE (eV)": "13.6",
          "Phase shift diff (deg)": 297.032393971565,
          "Phase shift diff (rad)": 5.184193259884766,
          "Photon energy (eV)": 19.1,
          "Polar ang (deg)": 115.164516821295,
          "Polar ang (rad)": 2.009999999999992
         },
         {
          "Config": "sum[m]",
          "KE (eV)": "13.6",
          "Phase shift diff (deg)": 295.528288436897,
          "Phase shift diff (rad)": 5.157941666007339,
          "Photon energy (eV)": 19.1,
          "Polar ang (deg)": 115.737474616426,
          "Polar ang (rad)": 2.019999999999995
         },
         {
          "Config": "sum[m]",
          "KE (eV)": "13.6",
          "Phase shift diff (deg)": 294.026433847248,
          "Phase shift diff (rad)": 5.131729358531775,
          "Photon energy (eV)": 19.1,
          "Polar ang (deg)": 116.310432411557,
          "Polar ang (rad)": 2.029999999999998
         },
         {
          "Config": "sum[m]",
          "KE (eV)": "13.6",
          "Phase shift diff (deg)": 292.530024632836,
          "Phase shift diff (rad)": 5.105612090783104,
          "Photon energy (eV)": 19.1,
          "Polar ang (deg)": 116.883390206688,
          "Polar ang (rad)": 2.040000000000001
         },
         {
          "Config": "sum[m]",
          "KE (eV)": "13.6",
          "Phase shift diff (deg)": 291.042151131404,
          "Phase shift diff (rad)": 5.079643799329939,
          "Photon energy (eV)": 19.1,
          "Polar ang (deg)": 117.456348001819,
          "Polar ang (rad)": 2.0500000000000043
         },
         {
          "Config": "sum[m]",
          "KE (eV)": "13.6",
          "Phase shift diff (deg)": 289.5657704332,
          "Phase shift diff (rad)": 5.053876095133387,
          "Photon energy (eV)": 19.1,
          "Polar ang (deg)": 118.02930579695,
          "Polar ang (rad)": 2.060000000000007
         },
         {
          "Config": "sum[m]",
          "KE (eV)": "13.6",
          "Phase shift diff (deg)": 288.103680530585,
          "Phase shift diff (rad)": 5.028357812372591,
          "Photon energy (eV)": 19.1,
          "Polar ang (deg)": 118.60226359208,
          "Polar ang (rad)": 2.069999999999993
         },
         {
          "Config": "sum[m]",
          "KE (eV)": "13.6",
          "Phase shift diff (deg)": 286.658498297565,
          "Phase shift diff (rad)": 5.003134624115069,
          "Photon energy (eV)": 19.1,
          "Polar ang (deg)": 119.175221387211,
          "Polar ang (rad)": 2.0799999999999956
         },
         {
          "Config": "sum[m]",
          "KE (eV)": "13.6",
          "Phase shift diff (deg)": 285.232641654517,
          "Phase shift diff (rad)": 4.978248731032449,
          "Photon energy (eV)": 19.1,
          "Polar ang (deg)": 119.748179182342,
          "Polar ang (rad)": 2.089999999999999
         },
         {
          "Config": "sum[m]",
          "KE (eV)": "13.6",
          "Phase shift diff (deg)": 283.828316099195,
          "Phase shift diff (rad)": 4.95373862632218,
          "Photon energy (eV)": 19.1,
          "Polar ang (deg)": 120.321136977473,
          "Polar ang (rad)": 2.1000000000000023
         },
         {
          "Config": "sum[m]",
          "KE (eV)": "13.6",
          "Phase shift diff (deg)": 282.447505617481,
          "Phase shift diff (rad)": 4.929638937070223,
          "Photon energy (eV)": 19.1,
          "Polar ang (deg)": 120.894094772604,
          "Polar ang (rad)": 2.110000000000005
         },
         {
          "Config": "sum[m]",
          "KE (eV)": "13.6",
          "Phase shift diff (deg)": 281.091967835589,
          "Phase shift diff (rad)": 4.905980339641027,
          "Photon energy (eV)": 19.1,
          "Polar ang (deg)": 121.467052567735,
          "Polar ang (rad)": 2.120000000000008
         },
         {
          "Config": "sum[m]",
          "KE (eV)": "13.6",
          "Phase shift diff (deg)": 279.763233146302,
          "Phase shift diff (rad)": 4.882789544427505,
          "Photon energy (eV)": 19.1,
          "Polar ang (deg)": 122.040010362865,
          "Polar ang (rad)": 2.1299999999999937
         },
         {
          "Config": "sum[m]",
          "KE (eV)": "13.6",
          "Phase shift diff (deg)": 278.46260743995,
          "Phase shift diff (rad)": 4.860089343515585,
          "Photon energy (eV)": 19.1,
          "Polar ang (deg)": 122.612968157996,
          "Polar ang (rad)": 2.139999999999997
         },
         {
          "Config": "sum[m]",
          "KE (eV)": "13.6",
          "Phase shift diff (deg)": 277.191177997905,
          "Phase shift diff (rad)": 4.837898713545106,
          "Photon energy (eV)": 19.1,
          "Polar ang (deg)": 123.185925953127,
          "Polar ang (rad)": 2.15
         },
         {
          "Config": "sum[m]",
          "KE (eV)": "13.6",
          "Phase shift diff (deg)": 275.949822062183,
          "Phase shift diff (rad)": 4.816232965277582,
          "Photon energy (eV)": 19.1,
          "Polar ang (deg)": 123.758883748258,
          "Polar ang (rad)": 2.1600000000000033
         },
         {
          "Config": "sum[m]",
          "KE (eV)": "13.6",
          "Phase shift diff (deg)": 274.739217576956,
          "Phase shift diff (rad)": 4.795103931070959,
          "Photon energy (eV)": 19.1,
          "Polar ang (deg)": 124.331841543389,
          "Polar ang (rad)": 2.170000000000006
         },
         {
          "Config": "sum[m]",
          "KE (eV)": "13.6",
          "Phase shift diff (deg)": 273.559855603026,
          "Phase shift diff (rad)": 4.774520181553061,
          "Photon energy (eV)": 19.1,
          "Polar ang (deg)": 124.904799338519,
          "Polar ang (rad)": 2.1799999999999917
         },
         {
          "Config": "sum[m]",
          "KE (eV)": "13.6",
          "Phase shift diff (deg)": 272.412053930144,
          "Phase shift diff (rad)": 4.754487263201372,
          "Photon energy (eV)": 19.1,
          "Polar ang (deg)": 125.47775713365,
          "Polar ang (rad)": 2.189999999999995
         },
         {
          "Config": "sum[m]",
          "KE (eV)": "13.6",
          "Phase shift diff (deg)": 271.295971450042,
          "Phase shift diff (rad)": 4.735007949199767,
          "Photon energy (eV)": 19.1,
          "Polar ang (deg)": 126.050714928781,
          "Polar ang (rad)": 2.199999999999998
         },
         {
          "Config": "sum[m]",
          "KE (eV)": "13.6",
          "Phase shift diff (deg)": 270.211622900568,
          "Phase shift diff (rad)": 4.716082496772222,
          "Photon energy (eV)": 19.1,
          "Polar ang (deg)": 126.623672723912,
          "Polar ang (rad)": 2.210000000000001
         },
         {
          "Config": "sum[m]",
          "KE (eV)": "13.6",
          "Phase shift diff (deg)": 269.158893644341,
          "Phase shift diff (rad)": 4.69770890511899,
          "Photon energy (eV)": 19.1,
          "Polar ang (deg)": 127.196630519043,
          "Polar ang (rad)": 2.220000000000004
         },
         {
          "Config": "sum[m]",
          "KE (eV)": "13.6",
          "Phase shift diff (deg)": 268.137554200399,
          "Phase shift diff (rad)": 4.679883169041713,
          "Photon energy (eV)": 19.1,
          "Polar ang (deg)": 127.769588314174,
          "Polar ang (rad)": 2.2300000000000075
         },
         {
          "Config": "sum[m]",
          "KE (eV)": "13.6",
          "Phase shift diff (deg)": 267.147274301466,
          "Phase shift diff (rad)": 4.662599524289016,
          "Photon energy (eV)": 19.1,
          "Polar ang (deg)": 128.342546109304,
          "Polar ang (rad)": 2.239999999999993
         },
         {
          "Config": "sum[m]",
          "KE (eV)": "13.6",
          "Phase shift diff (deg)": 266.187636300722,
          "Phase shift diff (rad)": 4.645850681548778,
          "Photon energy (eV)": 19.1,
          "Polar ang (deg)": 128.915503904435,
          "Polar ang (rad)": 2.2499999999999964
         },
         {
          "Config": "sum[m]",
          "KE (eV)": "13.6",
          "Phase shift diff (deg)": 265.25814779872,
          "Phase shift diff (rad)": 4.629628046829413,
          "Photon energy (eV)": 19.1,
          "Polar ang (deg)": 129.488461699566,
          "Polar ang (rad)": 2.259999999999999
         },
         {
          "Config": "sum[m]",
          "KE (eV)": "13.6",
          "Phase shift diff (deg)": 264.358253402552,
          "Phase shift diff (rad)": 4.613921926696035,
          "Photon energy (eV)": 19.1,
          "Polar ang (deg)": 130.061419494697,
          "Polar ang (rad)": 2.2700000000000022
         },
         {
          "Config": "sum[m]",
          "KE (eV)": "13.6",
          "Phase shift diff (deg)": 263.487345565033,
          "Phase shift diff (rad)": 4.598721717449905,
          "Photon energy (eV)": 19.1,
          "Polar ang (deg)": 130.634377289828,
          "Polar ang (rad)": 2.280000000000005
         },
         {
          "Config": "sum[m]",
          "KE (eV)": "13.6",
          "Phase shift diff (deg)": 262.644774481549,
          "Phase shift diff (rad)": 4.584016077861013,
          "Photon energy (eV)": 19.1,
          "Polar ang (deg)": 131.207335084959,
          "Polar ang (rad)": 2.290000000000008
         },
         {
          "Config": "sum[m]",
          "KE (eV)": "13.6",
          "Phase shift diff (deg)": 261.829857046533,
          "Phase shift diff (rad)": 4.569793085488077,
          "Photon energy (eV)": 19.1,
          "Polar ang (deg)": 131.780292880089,
          "Polar ang (rad)": 2.299999999999994
         },
         {
          "Config": "sum[m]",
          "KE (eV)": "13.6",
          "Phase shift diff (deg)": 261.041884890668,
          "Phase shift diff (rad)": 4.5560403769541935,
          "Photon energy (eV)": 19.1,
          "Polar ang (deg)": 132.35325067522,
          "Polar ang (rad)": 2.3099999999999974
         },
         {
          "Config": "sum[m]",
          "KE (eV)": "13.6",
          "Phase shift diff (deg)": 260.280131534463,
          "Phase shift diff (rad)": 4.5427452728003,
          "Photon energy (eV)": 19.1,
          "Polar ang (deg)": 132.926208470351,
          "Polar ang (rad)": 2.3200000000000007
         },
         {
          "Config": "sum[m]",
          "KE (eV)": "13.6",
          "Phase shift diff (deg)": 259.543858704404,
          "Phase shift diff (rad)": 4.529894887722794,
          "Photon energy (eV)": 19.1,
          "Polar ang (deg)": 133.499166265482,
          "Polar ang (rad)": 2.3300000000000027
         },
         {
          "Config": "sum[m]",
          "KE (eV)": "13.6",
          "Phase shift diff (deg)": 258.832321864947,
          "Phase shift diff (rad)": 4.517476227125035,
          "Photon energy (eV)": 19.1,
          "Polar ang (deg)": 134.072124060613,
          "Polar ang (rad)": 2.3400000000000065
         },
         {
          "Config": "sum[m]",
          "KE (eV)": "13.6",
          "Phase shift diff (deg)": 258.144775023964,
          "Phase shift diff (rad)": 4.505476270988195,
          "Photon energy (eV)": 19.1,
          "Polar ang (deg)": 134.645081855743,
          "Polar ang (rad)": 2.349999999999992
         },
         {
          "Config": "sum[m]",
          "KE (eV)": "13.6",
          "Phase shift diff (deg)": 257.480474871195,
          "Phase shift diff (rad)": 4.493882046100875,
          "Photon energy (eV)": 19.1,
          "Polar ang (deg)": 135.218039650874,
          "Polar ang (rad)": 2.3599999999999954
         },
         {
          "Config": "sum[m]",
          "KE (eV)": "13.6",
          "Phase shift diff (deg)": 256.8386843095,
          "Phase shift diff (rad)": 4.482680687691074,
          "Photon energy (eV)": 19.1,
          "Polar ang (deg)": 135.790997446005,
          "Polar ang (rad)": 2.3699999999999983
         },
         {
          "Config": "sum[m]",
          "KE (eV)": "13.6",
          "Phase shift diff (deg)": 256.218675437468,
          "Phase shift diff (rad)": 4.471859491482539,
          "Photon energy (eV)": 19.1,
          "Polar ang (deg)": 136.363955241136,
          "Polar ang (rad)": 2.3800000000000012
         },
         {
          "Config": "sum[m]",
          "KE (eV)": "13.6",
          "Phase shift diff (deg)": 255.619732039778,
          "Phase shift diff (rad)": 4.461405957159767,
          "Photon energy (eV)": 19.1,
          "Polar ang (deg)": 136.936913036267,
          "Polar ang (rad)": 2.390000000000004
         },
         {
          "Config": "sum[m]",
          "KE (eV)": "13.6",
          "Phase shift diff (deg)": 255.041151638738,
          "Phase shift diff (rad)": 4.451307824174109,
          "Photon energy (eV)": 19.1,
          "Polar ang (deg)": 137.509870831398,
          "Polar ang (rad)": 2.400000000000007
         },
         {
          "Config": "sum[m]",
          "KE (eV)": "13.6",
          "Phase shift diff (deg)": 254.482247157066,
          "Phase shift diff (rad)": 4.441553100764781,
          "Photon energy (eV)": 19.1,
          "Polar ang (deg)": 138.082828626528,
          "Polar ang (rad)": 2.409999999999993
         },
         {
          "Config": "sum[m]",
          "KE (eV)": "13.6",
          "Phase shift diff (deg)": 253.942348238282,
          "Phase shift diff (rad)": 4.432130087004043,
          "Photon energy (eV)": 19.1,
          "Polar ang (deg)": 138.655786421659,
          "Polar ang (rad)": 2.419999999999996
         },
         {
          "Config": "sum[m]",
          "KE (eV)": "13.6",
          "Phase shift diff (deg)": 253.42080226732,
          "Phase shift diff (rad)": 4.423027392610245,
          "Photon energy (eV)": 19.1,
          "Polar ang (deg)": 139.22874421679,
          "Polar ang (rad)": 2.4299999999999993
         },
         {
          "Config": "sum[m]",
          "KE (eV)": "13.6",
          "Phase shift diff (deg)": 252.916975130165,
          "Phase shift diff (rad)": 4.414233950205993,
          "Photon energy (eV)": 19.1,
          "Polar ang (deg)": 139.801702011921,
          "Polar ang (rad)": 2.4400000000000026
         },
         {
          "Config": "sum[m]",
          "KE (eV)": "13.6",
          "Phase shift diff (deg)": 252.430251747645,
          "Phase shift diff (rad)": 4.405739024634576,
          "Photon energy (eV)": 19.1,
          "Polar ang (deg)": 140.374659807052,
          "Polar ang (rad)": 2.4500000000000055
         },
         {
          "Config": "sum[m]",
          "KE (eV)": "13.6",
          "Phase shift diff (deg)": 251.960036414964,
          "Phase shift diff (rad)": 4.397532218885932,
          "Photon energy (eV)": 19.1,
          "Polar ang (deg)": 140.947617602183,
          "Polar ang (rad)": 2.4600000000000084
         },
         {
          "Config": "sum[m]",
          "KE (eV)": "13.6",
          "Phase shift diff (deg)": 251.505752975212,
          "Phase shift diff (rad)": 4.3896034771249735,
          "Photon energy (eV)": 19.1,
          "Polar ang (deg)": 141.520575397313,
          "Polar ang (rad)": 2.469999999999994
         },
         {
          "Config": "sum[m]",
          "KE (eV)": "13.6",
          "Phase shift diff (deg)": 251.066844851987,
          "Phase shift diff (rad)": 4.381943085260949,
          "Photon energy (eV)": 19.1,
          "Polar ang (deg)": 142.093533192444,
          "Polar ang (rad)": 2.4799999999999973
         },
         {
          "Config": "sum[m]",
          "KE (eV)": "13.6",
          "Phase shift diff (deg)": 250.642774963372,
          "Phase shift diff (rad)": 4.374541669446051,
          "Photon energy (eV)": 19.1,
          "Polar ang (deg)": 142.666490987575,
          "Polar ang (rad)": 2.49
         },
         {
          "Config": "sum[m]",
          "KE (eV)": "13.6",
          "Phase shift diff (deg)": 250.233025536854,
          "Phase shift diff (rad)": 4.3673901928451535,
          "Photon energy (eV)": 19.1,
          "Polar ang (deg)": 143.239448782706,
          "Polar ang (rad)": 2.5000000000000036
         },
         {
          "Config": "sum[m]",
          "KE (eV)": "13.6",
          "Phase shift diff (deg)": 249.837097842398,
          "Phase shift diff (rad)": 4.360479950977067,
          "Photon energy (eV)": 19.1,
          "Polar ang (deg)": 143.812406577837,
          "Polar ang (rad)": 2.5100000000000064
         },
         {
          "Config": "sum[m]",
          "KE (eV)": "13.6",
          "Phase shift diff (deg)": 249.454511858702,
          "Phase shift diff (rad)": 4.353802565889589,
          "Photon energy (eV)": 19.1,
          "Polar ang (deg)": 144.385364372967,
          "Polar ang (rad)": 2.519999999999992
         },
         {
          "Config": "sum[m]",
          "KE (eV)": "13.6",
          "Phase shift diff (deg)": 249.084805885703,
          "Phase shift diff (rad)": 4.347349979396467,
          "Photon energy (eV)": 19.1,
          "Polar ang (deg)": 144.958322168098,
          "Polar ang (rad)": 2.529999999999995
         },
         {
          "Config": "sum[m]",
          "KE (eV)": "13.6",
          "Phase shift diff (deg)": 248.727536114657,
          "Phase shift diff (rad)": 4.341114445573869,
          "Photon energy (eV)": 19.1,
          "Polar ang (deg)": 145.531279963229,
          "Polar ang (rad)": 2.5399999999999983
         },
         {
          "Config": "sum[m]",
          "KE (eV)": "13.6",
          "Phase shift diff (deg)": 248.38227616559,
          "Phase shift diff (rad)": 4.335088522687382,
          "Photon energy (eV)": 19.1,
          "Polar ang (deg)": 146.10423775836,
          "Polar ang (rad)": 2.550000000000001
         },
         {
          "Config": "sum[m]",
          "KE (eV)": "13.6",
          "Phase shift diff (deg)": 248.048616600488,
          "Phase shift diff (rad)": 4.32926506469558,
          "Photon energy (eV)": 19.1,
          "Polar ang (deg)": 146.677195553491,
          "Polar ang (rad)": 2.5600000000000045
         },
         {
          "Config": "sum[m]",
          "KE (eV)": "13.6",
          "Phase shift diff (deg)": 247.726164419431,
          "Phase shift diff (rad)": 4.323637212455898,
          "Photon energy (eV)": 19.1,
          "Polar ang (deg)": 147.250153348622,
          "Polar ang (rad)": 2.5700000000000074
         },
         {
          "Config": "sum[m]",
          "KE (eV)": "13.6",
          "Phase shift diff (deg)": 247.414542545758,
          "Phase shift diff (rad)": 4.318198384739071,
          "Photon energy (eV)": 19.1,
          "Polar ang (deg)": 147.823111143752,
          "Polar ang (rad)": 2.579999999999993
         },
         {
          "Config": "sum[m]",
          "KE (eV)": "13.6",
          "Phase shift diff (deg)": 247.11338930545,
          "Phase shift diff (rad)": 4.312942269142646,
          "Photon energy (eV)": 19.1,
          "Polar ang (deg)": 148.396068938883,
          "Polar ang (rad)": 2.589999999999996
         },
         {
          "Config": "sum[m]",
          "KE (eV)": "13.6",
          "Phase shift diff (deg)": 246.822357905059,
          "Phase shift diff (rad)": 4.307862812979133,
          "Photon energy (eV)": 19.1,
          "Polar ang (deg)": 148.969026734014,
          "Polar ang (rad)": 2.599999999999999
         },
         {
          "Config": "sum[m]",
          "KE (eV)": "13.6",
          "Phase shift diff (deg)": 246.541115911827,
          "Phase shift diff (rad)": 4.302954214202363,
          "Photon energy (eV)": 19.1,
          "Polar ang (deg)": 149.541984529145,
          "Polar ang (rad)": 2.6100000000000025
         },
         {
          "Config": "sum[m]",
          "KE (eV)": "13.6",
          "Phase shift diff (deg)": 246.269344738995,
          "Phase shift diff (rad)": 4.298210912424438,
          "Photon energy (eV)": 19.1,
          "Polar ang (deg)": 150.114942324276,
          "Polar ang (rad)": 2.6200000000000054
         },
         {
          "Config": "sum[m]",
          "KE (eV)": "13.6",
          "Phase shift diff (deg)": 246.006739138774,
          "Phase shift diff (rad)": 4.293627580066405,
          "Photon energy (eV)": 19.1,
          "Polar ang (deg)": 150.687900119407,
          "Polar ang (rad)": 2.6300000000000088
         },
         {
          "Config": "sum[m]",
          "KE (eV)": "13.6",
          "Phase shift diff (deg)": 245.753006704971,
          "Phase shift diff (rad)": 4.289199113677445,
          "Photon energy (eV)": 19.1,
          "Polar ang (deg)": 151.260857914537,
          "Polar ang (rad)": 2.6399999999999944
         },
         {
          "Config": "sum[m]",
          "KE (eV)": "13.6",
          "Phase shift diff (deg)": 245.507867386889,
          "Phase shift diff (rad)": 4.2849206254508205,
          "Photon energy (eV)": 19.1,
          "Polar ang (deg)": 151.833815709668,
          "Polar ang (rad)": 2.6499999999999972
         },
         {
          "Config": "sum[m]",
          "KE (eV)": "13.6",
          "Phase shift diff (deg)": 245.271053015735,
          "Phase shift diff (rad)": 4.2807874349581425,
          "Photon energy (eV)": 19.1,
          "Polar ang (deg)": 152.406773504799,
          "Polar ang (rad)": 2.66
         },
         {
          "Config": "sum[m]",
          "KE (eV)": "13.6",
          "Phase shift diff (deg)": 245.042306844522,
          "Phase shift diff (rad)": 4.276795061119145,
          "Photon energy (eV)": 19.1,
          "Polar ang (deg)": 152.97973129993,
          "Polar ang (rad)": 2.6700000000000035
         },
         {
          "Config": "sum[m]",
          "KE (eV)": "13.6",
          "Phase shift diff (deg)": 244.821383102156,
          "Phase shift diff (rad)": 4.272939214419031,
          "Photon energy (eV)": 19.1,
          "Polar ang (deg)": 153.552689095061,
          "Polar ang (rad)": 2.680000000000007
         },
         {
          "Config": "sum[m]",
          "KE (eV)": "13.6",
          "Phase shift diff (deg)": 244.608046562229,
          "Phase shift diff (rad)": 4.269215789382493,
          "Photon energy (eV)": 19.1,
          "Polar ang (deg)": 154.125646890191,
          "Polar ang (rad)": 2.6899999999999924
         },
         {
          "Config": "sum[m]",
          "KE (eV)": "13.6",
          "Phase shift diff (deg)": 244.402072126824,
          "Phase shift diff (rad)": 4.265620857309739,
          "Photon energy (eV)": 19.1,
          "Polar ang (deg)": 154.698604685322,
          "Polar ang (rad)": 2.6999999999999953
         },
         {
          "Config": "sum[m]",
          "KE (eV)": "13.6",
          "Phase shift diff (deg)": 244.203244425501,
          "Phase shift diff (rad)": 4.262150659277481,
          "Photon energy (eV)": 19.1,
          "Polar ang (deg)": 155.271562480453,
          "Polar ang (rad)": 2.7099999999999986
         },
         {
          "Config": "sum[m]",
          "KE (eV)": "13.6",
          "Phase shift diff (deg)": 244.01135742953,
          "Phase shift diff (rad)": 4.258801599406025,
          "Photon energy (eV)": 19.1,
          "Polar ang (deg)": 155.844520275584,
          "Polar ang (rad)": 2.7200000000000015
         },
         {
          "Config": "sum[m]",
          "KE (eV)": "13.6",
          "Phase shift diff (deg)": 243.826214081282,
          "Phase shift diff (rad)": 4.2555702383909315,
          "Photon energy (eV)": 19.1,
          "Polar ang (deg)": 156.417478070715,
          "Polar ang (rad)": 2.7300000000000044
         },
         {
          "Config": "sum[m]",
          "KE (eV)": "13.6",
          "Phase shift diff (deg)": 243.647625938655,
          "Phase shift diff (rad)": 4.25245328729707,
          "Photon energy (eV)": 19.1,
          "Polar ang (deg)": 156.990435865846,
          "Polar ang (rad)": 2.7400000000000073
         },
         {
          "Config": "sum[m]",
          "KE (eV)": "13.6",
          "Phase shift diff (deg)": 243.475412834321,
          "Phase shift diff (rad)": 4.24944760161136,
          "Photon energy (eV)": 19.1,
          "Polar ang (deg)": 157.563393660976,
          "Polar ang (rad)": 2.7499999999999933
         },
         {
          "Config": "sum[m]",
          "KE (eV)": "13.6",
          "Phase shift diff (deg)": 243.309402549507,
          "Phase shift diff (rad)": 4.246550175549182,
          "Photon energy (eV)": 19.1,
          "Polar ang (deg)": 158.136351456107,
          "Polar ang (rad)": 2.7599999999999962
         },
         {
          "Config": "sum[m]",
          "KE (eV)": "13.6",
          "Phase shift diff (deg)": 243.14943050202,
          "Phase shift diff (rad)": 4.243758136609379,
          "Photon energy (eV)": 19.1,
          "Polar ang (deg)": 158.709309251238,
          "Polar ang (rad)": 2.7699999999999996
         },
         {
          "Config": "sum[m]",
          "KE (eV)": "13.6",
          "Phase shift diff (deg)": 242.995339448148,
          "Phase shift diff (rad)": 4.2410687403714435,
          "Photon energy (eV)": 19.1,
          "Polar ang (deg)": 159.282267046369,
          "Polar ang (rad)": 2.780000000000002
         },
         {
          "Config": "sum[m]",
          "KE (eV)": "13.6",
          "Phase shift diff (deg)": 242.846979198088,
          "Phase shift diff (rad)": 4.238479365528814,
          "Photon energy (eV)": 19.1,
          "Polar ang (deg)": 159.8552248415,
          "Polar ang (rad)": 2.7900000000000054
         },
         {
          "Config": "sum[m]",
          "KE (eV)": "13.6",
          "Phase shift diff (deg)": 242.704206344481,
          "Phase shift diff (rad)": 4.235987509150904,
          "Photon energy (eV)": 19.1,
          "Polar ang (deg)": 160.428182636631,
          "Polar ang (rad)": 2.8000000000000087
         },
         {
          "Config": "sum[m]",
          "KE (eV)": "13.6",
          "Phase shift diff (deg)": 242.566884003685,
          "Phase shift diff (rad)": 4.233590782167469,
          "Photon energy (eV)": 19.1,
          "Polar ang (deg)": 161.001140431761,
          "Polar ang (rad)": 2.8099999999999943
         },
         {
          "Config": "sum[m]",
          "KE (eV)": "13.6",
          "Phase shift diff (deg)": 242.434881569352,
          "Phase shift diff (rad)": 4.2312869050677095,
          "Photon energy (eV)": 19.1,
          "Polar ang (deg)": 161.574098226892,
          "Polar ang (rad)": 2.8199999999999976
         },
         {
          "Config": "sum[m]",
          "KE (eV)": "13.6",
          "Phase shift diff (deg)": 242.308074477913,
          "Phase shift diff (rad)": 4.229073703807222,
          "Photon energy (eV)": 19.1,
          "Polar ang (deg)": 162.147056022023,
          "Polar ang (rad)": 2.8300000000000005
         },
         {
          "Config": "sum[m]",
          "KE (eV)": "13.6",
          "Phase shift diff (deg)": 242.186343985546,
          "Phase shift diff (rad)": 4.226949105915344,
          "Photon energy (eV)": 19.1,
          "Polar ang (deg)": 162.720013817154,
          "Polar ang (rad)": 2.8400000000000034
         },
         {
          "Config": "sum[m]",
          "KE (eV)": "13.6",
          "Phase shift diff (deg)": 242.069576956246,
          "Phase shift diff (rad)": 4.224911136796286,
          "Photon energy (eV)": 19.1,
          "Polar ang (deg)": 163.292971612285,
          "Polar ang (rad)": 2.8500000000000063
         },
         {
          "Config": "sum[m]",
          "KE (eV)": "13.6",
          "Phase shift diff (deg)": 241.957665660572,
          "Phase shift diff (rad)": 4.222957916216602,
          "Photon energy (eV)": 19.1,
          "Polar ang (deg)": 163.865929407415,
          "Polar ang (rad)": 2.8599999999999923
         },
         {
          "Config": "sum[m]",
          "KE (eV)": "13.6",
          "Phase shift diff (deg)": 241.85050758469,
          "Phase shift diff (rad)": 4.221087654972359,
          "Photon energy (eV)": 19.1,
          "Polar ang (deg)": 164.438887202546,
          "Polar ang (rad)": 2.869999999999995
         },
         {
          "Config": "sum[m]",
          "KE (eV)": "13.6",
          "Phase shift diff (deg)": 241.748005249347,
          "Phase shift diff (rad)": 4.21929865172964,
          "Photon energy (eV)": 19.1,
          "Polar ang (deg)": 165.011844997677,
          "Polar ang (rad)": 2.879999999999998
         },
         {
          "Config": "sum[m]",
          "KE (eV)": "13.6",
          "Phase shift diff (deg)": 241.650066038376,
          "Phase shift diff (rad)": 4.217589290031391,
          "Photon energy (eV)": 19.1,
          "Polar ang (deg)": 165.584802792808,
          "Polar ang (rad)": 2.890000000000002
         },
         {
          "Config": "sum[m]",
          "KE (eV)": "13.6",
          "Phase shift diff (deg)": 241.55660203641,
          "Phase shift diff (rad)": 4.215958035464994,
          "Photon energy (eV)": 19.1,
          "Polar ang (deg)": 166.157760587939,
          "Polar ang (rad)": 2.900000000000005
         },
         {
          "Config": "sum[m]",
          "KE (eV)": "13.6",
          "Phase shift diff (deg)": 241.467529875429,
          "Phase shift diff (rad)": 4.2144034329840085,
          "Photon energy (eV)": 19.1,
          "Polar ang (deg)": 166.73071838307,
          "Polar ang (rad)": 2.9100000000000077
         },
         {
          "Config": "sum[m]",
          "KE (eV)": "13.6",
          "Phase shift diff (deg)": 241.382770589844,
          "Phase shift diff (rad)": 4.212924104378913,
          "Photon energy (eV)": 19.1,
          "Polar ang (deg)": 167.3036761782,
          "Polar ang (rad)": 2.919999999999993
         },
         {
          "Config": "sum[m]",
          "KE (eV)": "13.6",
          "Phase shift diff (deg)": 241.302249479771,
          "Phase shift diff (rad)": 4.211518745890778,
          "Photon energy (eV)": 19.1,
          "Polar ang (deg)": 167.876633973331,
          "Polar ang (rad)": 2.9299999999999966
         },
         {
          "Config": "sum[m]",
          "KE (eV)": "13.6",
          "Phase shift diff (deg)": 241.225895982215,
          "Phase shift diff (rad)": 4.210186125963013,
          "Photon energy (eV)": 19.1,
          "Polar ang (deg)": 168.449591768462,
          "Polar ang (rad)": 2.9399999999999995
         },
         {
          "Config": "sum[m]",
          "KE (eV)": "13.6",
          "Phase shift diff (deg)": 241.153643549875,
          "Phase shift diff (rad)": 4.208925083126105,
          "Photon energy (eV)": 19.1,
          "Polar ang (deg)": 169.022549563593,
          "Polar ang (rad)": 2.9500000000000024
         },
         {
          "Config": "sum[m]",
          "KE (eV)": "13.6",
          "Phase shift diff (deg)": 241.085429537284,
          "Phase shift diff (rad)": 4.207734524010395,
          "Photon energy (eV)": 19.1,
          "Polar ang (deg)": 169.595507358724,
          "Polar ang (rad)": 2.9600000000000057
         },
         {
          "Config": "sum[m]",
          "KE (eV)": "13.6",
          "Phase shift diff (deg)": 241.021195094047,
          "Phase shift diff (rad)": 4.206613421482724,
          "Photon energy (eV)": 19.1,
          "Polar ang (deg)": 170.168465153855,
          "Polar ang (rad)": 2.970000000000009
         },
         {
          "Config": "sum[m]",
          "KE (eV)": "13.6",
          "Phase shift diff (deg)": 240.960885064918,
          "Phase shift diff (rad)": 4.2055608129024495,
          "Photon energy (eV)": 19.1,
          "Polar ang (deg)": 170.741422948985,
          "Polar ang (rad)": 2.979999999999994
         },
         {
          "Config": "sum[m]",
          "KE (eV)": "13.6",
          "Phase shift diff (deg)": 240.904447896494,
          "Phase shift diff (rad)": 4.204575798492948,
          "Photon energy (eV)": 19.1,
          "Polar ang (deg)": 171.314380744116,
          "Polar ang (rad)": 2.989999999999997
         },
         {
          "Config": "sum[m]",
          "KE (eV)": "13.6",
          "Phase shift diff (deg)": 240.851835550314,
          "Phase shift diff (rad)": 4.203657539824908,
          "Photon energy (eV)": 19.1,
          "Polar ang (deg)": 171.887338539247,
          "Polar ang (rad)": 3.0000000000000004
         },
         {
          "Config": "sum[m]",
          "KE (eV)": "13.6",
          "Phase shift diff (deg)": 240.803003422149,
          "Phase shift diff (rad)": 4.202805258407673,
          "Photon energy (eV)": 19.1,
          "Polar ang (deg)": 172.460296334378,
          "Polar ang (rad)": 3.010000000000004
         },
         {
          "Config": "sum[m]",
          "KE (eV)": "13.6",
          "Phase shift diff (deg)": 240.757910267314,
          "Phase shift diff (rad)": 4.20201823438569,
          "Photon energy (eV)": 19.1,
          "Polar ang (deg)": 173.033254129509,
          "Polar ang (rad)": 3.0200000000000067
         },
         {
          "Config": "sum[m]",
          "KE (eV)": "13.6",
          "Phase shift diff (deg)": 240.716518131818,
          "Phase shift diff (rad)": 4.201295805336854,
          "Photon energy (eV)": 19.1,
          "Polar ang (deg)": 173.606211924639,
          "Polar ang (rad)": 3.0299999999999927
         },
         {
          "Config": "sum[m]",
          "KE (eV)": "13.6",
          "Phase shift diff (deg)": 240.678792289184,
          "Phase shift diff (rad)": 4.2006373651698015,
          "Photon energy (eV)": 19.1,
          "Polar ang (deg)": 174.17916971977,
          "Polar ang (rad)": 3.039999999999995
         },
         {
          "Config": "sum[m]",
          "KE (eV)": "13.6",
          "Phase shift diff (deg)": 240.644701182809,
          "Phase shift diff (rad)": 4.20004236311791,
          "Photon energy (eV)": 19.1,
          "Polar ang (deg)": 174.752127514901,
          "Polar ang (rad)": 3.0499999999999985
         },
         {
          "Config": "sum[m]",
          "KE (eV)": "13.6",
          "Phase shift diff (deg)": 240.614216373716,
          "Phase shift diff (rad)": 4.199510302827395,
          "Photon energy (eV)": 19.1,
          "Polar ang (deg)": 175.325085310032,
          "Polar ang (rad)": 3.0600000000000014
         },
         {
          "Config": "sum[m]",
          "KE (eV)": "13.6",
          "Phase shift diff (deg)": 240.587312493573,
          "Phase shift diff (rad)": 4.199040741537338,
          "Photon energy (eV)": 19.1,
          "Polar ang (deg)": 175.898043105163,
          "Polar ang (rad)": 3.0700000000000047
         },
         {
          "Config": "sum[m]",
          "KE (eV)": "13.6",
          "Phase shift diff (deg)": 240.56396720288,
          "Phase shift diff (rad)": 4.19863328934991,
          "Photon energy (eV)": 19.1,
          "Polar ang (deg)": 176.471000900294,
          "Polar ang (rad)": 3.0800000000000076
         },
         {
          "Config": "sum[m]",
          "KE (eV)": "13.6",
          "Phase shift diff (deg)": 240.544161154221,
          "Phase shift diff (rad)": 4.198287608589,
          "Photon energy (eV)": 19.1,
          "Polar ang (deg)": 177.043958695424,
          "Polar ang (rad)": 3.0899999999999936
         },
         {
          "Config": "sum[m]",
          "KE (eV)": "13.6",
          "Phase shift diff (deg)": 240.52787796048,
          "Phase shift diff (rad)": 4.1980034132454795,
          "Photon energy (eV)": 19.1,
          "Polar ang (deg)": 177.616916490555,
          "Polar ang (rad)": 3.099999999999997
         },
         {
          "Config": "sum[m]",
          "KE (eV)": "13.6",
          "Phase shift diff (deg)": 240.515104167977,
          "Phase shift diff (rad)": 4.197780468508336,
          "Photon energy (eV)": 19.1,
          "Polar ang (deg)": 178.189874285686,
          "Polar ang (rad)": 3.1099999999999994
         },
         {
          "Config": "sum[m]",
          "KE (eV)": "13.6",
          "Phase shift diff (deg)": 240.505829234426,
          "Phase shift diff (rad)": 4.1976185903799665,
          "Photon energy (eV)": 19.1,
          "Polar ang (deg)": 178.762832080817,
          "Polar ang (rad)": 3.1200000000000023
         },
         {
          "Config": "sum[m]",
          "KE (eV)": "13.6",
          "Phase shift diff (deg)": 240.500045511684,
          "Phase shift diff (rad)": 4.197517645375097,
          "Photon energy (eV)": 19.1,
          "Polar ang (deg)": 179.335789875948,
          "Polar ang (rad)": 3.1300000000000057
         },
         {
          "Config": "sum[m]",
          "KE (eV)": "13.6",
          "Phase shift diff (deg)": 240.497748233253,
          "Phase shift diff (rad)": 4.19747755030264,
          "Photon energy (eV)": 19.1,
          "Polar ang (deg)": 179.908747671079,
          "Polar ang (rad)": 3.140000000000009
         }
        ],
        "data-81456c96bb74b4dee9ce07cecbe1482a": [
         {
          "Amp": 0.00325546942456922,
          "Config": "sum[m]",
          "Group": "G1430",
          "KE (eV)": "04.0",
          "Phase mod": 0,
          "Phase shift diff (deg)": 59.221804718383765,
          "Phase shift diff (rad)": 1.03361548130891,
          "Photon energy (eV)": 14.3,
          "Polar ang (deg)": 0,
          "Polar ang (rad)": 0,
          "Rel amp": 1,
          "Rounded (deg)": 0,
          "Unwrapped (deg)": 59.221804718383765,
          "Unwrapped (rad)": 1.03361548130891
         },
         {
          "Amp": 0.00315051401709287,
          "Config": "sum[m]",
          "Group": "G1430",
          "KE (eV)": "04.0",
          "Phase mod": 0,
          "Phase shift diff (deg)": 61.2318287795432,
          "Phase shift diff (rad)": 1.06869701922045,
          "Photon energy (eV)": 14.3,
          "Polar ang (deg)": 9.344271401722308,
          "Polar ang (rad)": 0.16308830216,
          "Rel amp": 0.997931029609892,
          "Rounded (deg)": 9,
          "Unwrapped (deg)": 61.2318287795432,
          "Unwrapped (rad)": 1.06869701922045
         },
         {
          "Amp": 0.00292683262866,
          "Config": "sum[m]",
          "Group": "G1430",
          "KE (eV)": "04.0",
          "Phase mod": 0,
          "Phase shift diff (deg)": 66.11176348054234,
          "Phase shift diff (rad)": 1.15386794703521,
          "Photon energy (eV)": 14.3,
          "Polar ang (deg)": 17.108726233104477,
          "Polar ang (rad)": 0.29860360359,
          "Rel amp": 0.997434911929857,
          "Rounded (deg)": 17,
          "Unwrapped (deg)": 66.11176348054234,
          "Unwrapped (rad)": 1.15386794703521
         },
         {
          "Amp": 0.00263697013250485,
          "Config": "sum[m]",
          "Group": "G1430",
          "KE (eV)": "04.0",
          "Phase mod": 0,
          "Phase shift diff (deg)": 74.1128575542532,
          "Phase shift diff (rad)": 1.29351338238327,
          "Photon energy (eV)": 14.3,
          "Polar ang (deg)": 24.80980629558633,
          "Polar ang (rad)": 0.433012806639999,
          "Rel amp": 0.995186044697598,
          "Rounded (deg)": 25,
          "Unwrapped (deg)": 74.1128575542532,
          "Unwrapped (rad)": 1.2935133823832703
         },
         {
          "Amp": 0.00234750073646439,
          "Config": "sum[m]",
          "Group": "G1430",
          "KE (eV)": "04.0",
          "Phase mod": 0,
          "Phase shift diff (deg)": 85.26291046826245,
          "Phase shift diff (rad)": 1.48811851750432,
          "Photon energy (eV)": 14.3,
          "Polar ang (deg)": 32.49225476866312,
          "Polar ang (rad)": 0.56709682711,
          "Rel amp": 0.751055633163554,
          "Rounded (deg)": 32,
          "Unwrapped (deg)": 85.26291046826245,
          "Unwrapped (rad)": 1.48811851750432
         },
         {
          "Amp": 0.00211283811487206,
          "Config": "sum[m]",
          "Group": "G1430",
          "KE (eV)": "04.0",
          "Phase mod": 0,
          "Phase shift diff (deg)": 98.72563957497792,
          "Phase shift diff (rad)": 1.72308746672058,
          "Photon energy (eV)": 14.3,
          "Polar ang (deg)": 40.16674918838051,
          "Polar ang (rad)": 0.70104202316,
          "Rel amp": 0.688560750636766,
          "Rounded (deg)": 40,
          "Unwrapped (deg)": 98.72563957497792,
          "Unwrapped (rad)": 1.72308746672058
         },
         {
          "Amp": 0.00194069017314824,
          "Config": "sum[m]",
          "Group": "G1430",
          "KE (eV)": "04.0",
          "Phase mod": 0,
          "Phase shift diff (deg)": 112.54810398440294,
          "Phase shift diff (rad)": 1.96433498140478,
          "Photon energy (eV)": 14.3,
          "Polar ang (deg)": 47.83715098431827,
          "Polar ang (rad)": 0.83491578945,
          "Rel amp": 0.882068457010333,
          "Rounded (deg)": 48,
          "Unwrapped (deg)": 112.54810398440294,
          "Unwrapped (rad)": 1.9643349814047801
         },
         {
          "Amp": 0.00178250189294959,
          "Config": "sum[m]",
          "Group": "G1430",
          "KE (eV)": "04.0",
          "Phase mod": 0,
          "Phase shift diff (deg)": 124.64035193387038,
          "Phase shift diff (rad)": 2.17538452209052,
          "Photon energy (eV)": 14.3,
          "Polar ang (deg)": 55.50520565119975,
          "Polar ang (rad)": 0.968748590609999,
          "Rel amp": 0.881539690429625,
          "Rounded (deg)": 56,
          "Unwrapped (deg)": 124.64035193387038,
          "Unwrapped (rad)": 2.17538452209052
         },
         {
          "Amp": 0.00156744133098496,
          "Config": "sum[m]",
          "Group": "G1430",
          "KE (eV)": "04.0",
          "Phase mod": 0,
          "Phase shift diff (deg)": 133.9552574235681,
          "Phase shift diff (rad)": 2.33796029239784,
          "Photon energy (eV)": 14.3,
          "Polar ang (deg)": 63.17182749559405,
          "Polar ang (rad)": 1.1025563843,
          "Rel amp": 0.444229679717569,
          "Rounded (deg)": 63,
          "Unwrapped (deg)": 133.9552574235681,
          "Unwrapped (rad)": 2.3379602923978395
         },
         {
          "Amp": 0.0012453403809971,
          "Config": "sum[m]",
          "Group": "G1430",
          "KE (eV)": "04.0",
          "Phase mod": 0,
          "Phase shift diff (deg)": 140.46137426597,
          "Phase shift diff (rad)": 2.45151345281721,
          "Photon energy (eV)": 14.3,
          "Polar ang (deg)": 70.83755277620344,
          "Polar ang (rad)": 1.23634853,
          "Rel amp": 0.295377537415626,
          "Rounded (deg)": 71,
          "Unwrapped (deg)": 140.46137426597,
          "Unwrapped (rad)": 2.45151345281721
         },
         {
          "Amp": 0.000806392629221219,
          "Config": "sum[m]",
          "Group": "G1430",
          "KE (eV)": "04.0",
          "Phase mod": 0,
          "Phase shift diff (deg)": 144.51428681173817,
          "Phase shift diff (rad)": 2.52225012103625,
          "Photon energy (eV)": 14.3,
          "Polar ang (deg)": 78.50272940388737,
          "Polar ang (rad)": 1.3701310999,
          "Rel amp": 0.237061251981503,
          "Rounded (deg)": 79,
          "Unwrapped (deg)": 144.51428681173817,
          "Unwrapped (rad)": 2.52225012103625
         },
         {
          "Amp": 0.000279593279581158,
          "Config": "sum[m]",
          "Group": "G1430",
          "KE (eV)": "04.0",
          "Phase mod": 0,
          "Phase shift diff (deg)": 146.45018117873008,
          "Phase shift diff (rad)": 2.55603785171107,
          "Photon energy (eV)": 14.3,
          "Polar ang (deg)": 86.16760800757415,
          "Polar ang (rad)": 1.5039084683,
          "Rel amp": 0.214934460990103,
          "Rounded (deg)": 86,
          "Unwrapped (deg)": 146.45018117873008,
          "Unwrapped (rad)": 2.55603785171107
         },
         {
          "Amp": 0.000279593279581158,
          "Config": "sum[m]",
          "Group": "G1430",
          "KE (eV)": "04.0",
          "Phase mod": 0,
          "Phase shift diff (deg)": 326.4501811787305,
          "Phase shift diff (rad)": 5.69763050530087,
          "Photon energy (eV)": 14.3,
          "Polar ang (deg)": 93.83239199242567,
          "Polar ang (rad)": 1.63768418528979,
          "Rel amp": 0.214934460990103,
          "Rounded (deg)": 94,
          "Unwrapped (deg)": 326.4501811787305,
          "Unwrapped (rad)": 5.697630505300871
         },
         {
          "Amp": 0.000806392629221219,
          "Config": "sum[m]",
          "Group": "G1430",
          "KE (eV)": "04.0",
          "Phase mod": 0,
          "Phase shift diff (deg)": 324.514286811738,
          "Phase shift diff (rad)": 5.66384277462604,
          "Photon energy (eV)": 14.3,
          "Polar ang (deg)": 101.49727059611246,
          "Polar ang (rad)": 1.77146155368979,
          "Rel amp": 0.237061251981503,
          "Rounded (deg)": 101,
          "Unwrapped (deg)": 324.514286811738,
          "Unwrapped (rad)": 5.66384277462604
         },
         {
          "Amp": 0.0012453403809971,
          "Config": "sum[m]",
          "Group": "G1430",
          "KE (eV)": "04.0",
          "Phase mod": 0,
          "Phase shift diff (deg)": 320.4613742659699,
          "Phase shift diff (rad)": 5.593106106407,
          "Photon energy (eV)": 14.3,
          "Polar ang (deg)": 109.16244722379638,
          "Polar ang (rad)": 1.90524412358979,
          "Rel amp": 0.295377537415626,
          "Rounded (deg)": 109,
          "Unwrapped (deg)": 320.4613742659699,
          "Unwrapped (rad)": 5.593106106407
         },
         {
          "Amp": 0.00156744133098496,
          "Config": "sum[m]",
          "Group": "G1430",
          "KE (eV)": "04.0",
          "Phase mod": 0,
          "Phase shift diff (deg)": 313.95525742356796,
          "Phase shift diff (rad)": 5.47955294598763,
          "Photon energy (eV)": 14.3,
          "Polar ang (deg)": 116.82817250440576,
          "Polar ang (rad)": 2.03903626928979,
          "Rel amp": 0.444229679717569,
          "Rounded (deg)": 117,
          "Unwrapped (deg)": 313.95525742356796,
          "Unwrapped (rad)": 5.47955294598763
         },
         {
          "Amp": 0.00178250189294959,
          "Config": "sum[m]",
          "Group": "G1430",
          "KE (eV)": "04.0",
          "Phase mod": 0,
          "Phase shift diff (deg)": 304.6403519338702,
          "Phase shift diff (rad)": 5.31697717568031,
          "Photon energy (eV)": 14.3,
          "Polar ang (deg)": 124.4947943488,
          "Polar ang (rad)": 2.17284406297979,
          "Rel amp": 0.881539690429625,
          "Rounded (deg)": 124,
          "Unwrapped (deg)": 304.6403519338702,
          "Unwrapped (rad)": 5.31697717568031
         },
         {
          "Amp": 0.00194069017314824,
          "Config": "sum[m]",
          "Group": "G1430",
          "KE (eV)": "04.0",
          "Phase mod": 0,
          "Phase shift diff (deg)": 292.54810398440276,
          "Phase shift diff (rad)": 5.10592763499457,
          "Photon energy (eV)": 14.3,
          "Polar ang (deg)": 132.16284901568156,
          "Polar ang (rad)": 2.30667686413979,
          "Rel amp": 0.882068457010333,
          "Rounded (deg)": 132,
          "Unwrapped (deg)": 292.54810398440276,
          "Unwrapped (rad)": 5.10592763499457
         },
         {
          "Amp": 0.00211283811487206,
          "Config": "sum[m]",
          "Group": "G1430",
          "KE (eV)": "04.0",
          "Phase mod": 0,
          "Phase shift diff (deg)": 278.7256395749777,
          "Phase shift diff (rad)": 4.86468012031037,
          "Photon energy (eV)": 14.3,
          "Polar ang (deg)": 139.8332508116193,
          "Polar ang (rad)": 2.44055063042979,
          "Rel amp": 0.688560750636766,
          "Rounded (deg)": 140,
          "Unwrapped (deg)": 278.7256395749777,
          "Unwrapped (rad)": 4.86468012031037
         },
         {
          "Amp": 0.00234750073646439,
          "Config": "sum[m]",
          "Group": "G1430",
          "KE (eV)": "04.0",
          "Phase mod": 0,
          "Phase shift diff (deg)": 265.2629104682623,
          "Phase shift diff (rad)": 4.62971117109411,
          "Photon energy (eV)": 14.3,
          "Polar ang (deg)": 147.5077452313367,
          "Polar ang (rad)": 2.57449582647979,
          "Rel amp": 0.751055633163554,
          "Rounded (deg)": 148,
          "Unwrapped (deg)": 265.2629104682623,
          "Unwrapped (rad)": 4.629711171094111
         },
         {
          "Amp": 0.00263697013250485,
          "Config": "sum[m]",
          "Group": "G1430",
          "KE (eV)": "04.0",
          "Phase mod": 0,
          "Phase shift diff (deg)": 254.11285755425303,
          "Phase shift diff (rad)": 4.43510603597306,
          "Photon energy (eV)": 14.3,
          "Polar ang (deg)": 155.19019370441345,
          "Polar ang (rad)": 2.70857984694979,
          "Rel amp": 0.995186044697598,
          "Rounded (deg)": 155,
          "Unwrapped (deg)": 254.11285755425303,
          "Unwrapped (rad)": 4.43510603597306
         },
         {
          "Amp": 0.00292683262866,
          "Config": "sum[m]",
          "Group": "G1430",
          "KE (eV)": "04.0",
          "Phase mod": 0,
          "Phase shift diff (deg)": 246.11176348054215,
          "Phase shift diff (rad)": 4.295460600625,
          "Photon energy (eV)": 14.3,
          "Polar ang (deg)": 162.89127376689535,
          "Polar ang (rad)": 2.84298904999979,
          "Rel amp": 0.997434911929857,
          "Rounded (deg)": 163,
          "Unwrapped (deg)": 246.11176348054215,
          "Unwrapped (rad)": 4.295460600625
         },
         {
          "Amp": 0.00315051401709287,
          "Config": "sum[m]",
          "Group": "G1430",
          "KE (eV)": "04.0",
          "Phase mod": 0,
          "Phase shift diff (deg)": 241.231828779543,
          "Phase shift diff (rad)": 4.21028967281024,
          "Photon energy (eV)": 14.3,
          "Polar ang (deg)": 170.65572859827753,
          "Polar ang (rad)": 2.97850435142979,
          "Rel amp": 0.997931029609892,
          "Rounded (deg)": 171,
          "Unwrapped (deg)": 241.231828779543,
          "Unwrapped (rad)": 4.21028967281024
         },
         {
          "Amp": 0.00325546942456922,
          "Config": "sum[m]",
          "Group": "G1430",
          "KE (eV)": "04.0",
          "Phase mod": 0,
          "Phase shift diff (deg)": 239.22180471838413,
          "Phase shift diff (rad)": 4.17520813489871,
          "Photon energy (eV)": 14.3,
          "Polar ang (deg)": 179.99999999999983,
          "Polar ang (rad)": 3.14159265358979,
          "Rel amp": 1,
          "Rounded (deg)": 180,
          "Unwrapped (deg)": 239.22180471838413,
          "Unwrapped (rad)": 4.17520813489871
         },
         {
          "Amp": 0.00351286227033553,
          "Config": "sum[m]",
          "Group": "G1590",
          "KE (eV)": "07.2",
          "Phase mod": 0,
          "Phase shift diff (deg)": 61.30998626337162,
          "Phase shift diff (rad)": 1.07006112464833,
          "Photon energy (eV)": 15.9,
          "Polar ang (deg)": 0,
          "Polar ang (rad)": 0,
          "Rel amp": 1,
          "Rounded (deg)": 0,
          "Unwrapped (deg)": 61.30998626337162,
          "Unwrapped (rad)": 1.07006112464833
         },
         {
          "Amp": 0.0033506852382672,
          "Config": "sum[m]",
          "Group": "G1590",
          "KE (eV)": "07.2",
          "Phase mod": 0,
          "Phase shift diff (deg)": 61.98745689177477,
          "Phase shift diff (rad)": 1.08188521769952,
          "Photon energy (eV)": 15.9,
          "Polar ang (deg)": 9.344271401722308,
          "Polar ang (rad)": 0.16308830216,
          "Rel amp": 0.998596003143194,
          "Rounded (deg)": 9,
          "Unwrapped (deg)": 61.98745689177477,
          "Unwrapped (rad)": 1.08188521769952
         },
         {
          "Amp": 0.00298374668231482,
          "Config": "sum[m]",
          "Group": "G1590",
          "KE (eV)": "07.2",
          "Phase mod": 0,
          "Phase shift diff (deg)": 63.71288138914506,
          "Phase shift diff (rad)": 1.1119995561732,
          "Photon energy (eV)": 15.9,
          "Polar ang (deg)": 17.108726233104477,
          "Polar ang (rad)": 0.29860360359,
          "Rel amp": 0.995655724024659,
          "Rounded (deg)": 17,
          "Unwrapped (deg)": 63.71288138914506,
          "Unwrapped (rad)": 1.1119995561732
         },
         {
          "Amp": 0.00245007487740434,
          "Config": "sum[m]",
          "Group": "G1590",
          "KE (eV)": "07.2",
          "Phase mod": 0,
          "Phase shift diff (deg)": 66.91223071454911,
          "Phase shift diff (rad)": 1.16783873582296,
          "Photon energy (eV)": 15.9,
          "Polar ang (deg)": 24.80980629558633,
          "Polar ang (rad)": 0.433012806639999,
          "Rel amp": 0.992526859226588,
          "Rounded (deg)": 25,
          "Unwrapped (deg)": 66.91223071454911,
          "Unwrapped (rad)": 1.16783873582296
         },
         {
          "Amp": 0.00181191276878189,
          "Config": "sum[m]",
          "Group": "G1590",
          "KE (eV)": "07.2",
          "Phase mod": 0,
          "Phase shift diff (deg)": 72.7514187494358,
          "Phase shift diff (rad)": 1.26975179267479,
          "Photon energy (eV)": 15.9,
          "Polar ang (deg)": 32.49225476866312,
          "Polar ang (rad)": 0.56709682711,
          "Rel amp": 0.993563366555192,
          "Rounded (deg)": 32,
          "Unwrapped (deg)": 72.7514187494358,
          "Unwrapped (rad)": 1.2697517926747903
         },
         {
          "Amp": 0.00116384050973095,
          "Config": "sum[m]",
          "Group": "G1590",
          "KE (eV)": "07.2",
          "Phase mod": 0,
          "Phase shift diff (deg)": 84.71557622425009,
          "Phase shift diff (rad)": 1.47856573283739,
          "Photon energy (eV)": 15.9,
          "Polar ang (deg)": 40.16674918838051,
          "Polar ang (rad)": 0.70104202316,
          "Rel amp": 0.996133267463506,
          "Rounded (deg)": 40,
          "Unwrapped (deg)": 84.71557622425009,
          "Unwrapped (rad)": 1.47856573283739
         },
         {
          "Amp": 0.000663972226391695,
          "Config": "sum[m]",
          "Group": "G1590",
          "KE (eV)": "07.2",
          "Phase mod": 0,
          "Phase shift diff (deg)": 113.92988141103133,
          "Phase shift diff (rad)": 1.98845154702918,
          "Photon energy (eV)": 15.9,
          "Polar ang (deg)": 47.83715098431827,
          "Polar ang (rad)": 0.83491578945,
          "Rel amp": 0.956654730604885,
          "Rounded (deg)": 48,
          "Unwrapped (deg)": 113.92988141103133,
          "Unwrapped (rad)": 1.9884515470291797
         },
         {
          "Amp": 0.000557069821916833,
          "Config": "sum[m]",
          "Group": "G1590",
          "KE (eV)": "07.2",
          "Phase mod": 0,
          "Phase shift diff (deg)": 164.8839939523909,
          "Phase shift diff (rad)": 2.87776857830764,
          "Photon energy (eV)": 15.9,
          "Polar ang (deg)": 55.50520565119975,
          "Polar ang (rad)": 0.968748590609999,
          "Rel amp": 0.718634962729498,
          "Rounded (deg)": 56,
          "Unwrapped (deg)": 164.8839939523909,
          "Unwrapped (rad)": 2.87776857830764
         },
         {
          "Amp": 0.00068075145991453,
          "Config": "sum[m]",
          "Group": "G1590",
          "KE (eV)": "07.2",
          "Phase mod": 0,
          "Phase shift diff (deg)": 194.2375172216654,
          "Phase shift diff (rad)": 3.39008420641725,
          "Photon energy (eV)": 15.9,
          "Polar ang (deg)": 63.17182749559405,
          "Polar ang (rad)": 1.1025563843,
          "Rel amp": 0.448418273281166,
          "Rounded (deg)": 63,
          "Unwrapped (deg)": 194.2375172216654,
          "Unwrapped (rad)": 3.39008420641725
         },
         {
          "Amp": 0.000690862987919205,
          "Config": "sum[m]",
          "Group": "G1590",
          "KE (eV)": "07.2",
          "Phase mod": 0,
          "Phase shift diff (deg)": 205.80417323191347,
          "Phase shift diff (rad)": 3.59196043724167,
          "Photon energy (eV)": 15.9,
          "Polar ang (deg)": 70.83755277620344,
          "Polar ang (rad)": 1.23634853,
          "Rel amp": 0.371451415598104,
          "Rounded (deg)": 71,
          "Unwrapped (deg)": 205.80417323191347,
          "Unwrapped (rad)": 3.59196043724167
         },
         {
          "Amp": 0.000512812370367044,
          "Config": "sum[m]",
          "Group": "G1590",
          "KE (eV)": "07.2",
          "Phase mod": 0,
          "Phase shift diff (deg)": 210.85593718648144,
          "Phase shift diff (rad)": 3.68013035128245,
          "Photon energy (eV)": 15.9,
          "Polar ang (deg)": 78.50272940388737,
          "Polar ang (rad)": 1.3701310999,
          "Rel amp": 0.337435196797895,
          "Rounded (deg)": 79,
          "Unwrapped (deg)": 210.85593718648144,
          "Unwrapped (rad)": 3.68013035128245
         },
         {
          "Amp": 0.000188899704072431,
          "Config": "sum[m]",
          "Group": "G1590",
          "KE (eV)": "07.2",
          "Phase mod": 0,
          "Phase shift diff (deg)": 212.87623584314457,
          "Phase shift diff (rad)": 3.71539121471484,
          "Photon energy (eV)": 15.9,
          "Polar ang (deg)": 86.16760800757415,
          "Polar ang (rad)": 1.5039084683,
          "Rel amp": 0.323212521279023,
          "Rounded (deg)": 86,
          "Unwrapped (deg)": 212.87623584314457,
          "Unwrapped (rad)": 3.7153912147148396
         },
         {
          "Amp": 0.000188899704072431,
          "Config": "sum[m]",
          "Group": "G1590",
          "KE (eV)": "07.2",
          "Phase mod": 0,
          "Phase shift diff (deg)": 392.87623584314497,
          "Phase shift diff (rad)": 6.85698386830464,
          "Photon energy (eV)": 15.9,
          "Polar ang (deg)": 93.83239199242567,
          "Polar ang (rad)": 1.63768418528979,
          "Rel amp": 0.323212521279023,
          "Rounded (deg)": 94,
          "Unwrapped (deg)": 392.87623584314497,
          "Unwrapped (rad)": 6.85698386830464
         },
         {
          "Amp": 0.000512812370367044,
          "Config": "sum[m]",
          "Group": "G1590",
          "KE (eV)": "07.2",
          "Phase mod": 0,
          "Phase shift diff (deg)": 390.8559371864813,
          "Phase shift diff (rad)": 6.82172300487224,
          "Photon energy (eV)": 15.9,
          "Polar ang (deg)": 101.49727059611246,
          "Polar ang (rad)": 1.77146155368979,
          "Rel amp": 0.337435196797895,
          "Rounded (deg)": 101,
          "Unwrapped (deg)": 390.8559371864813,
          "Unwrapped (rad)": 6.82172300487224
         },
         {
          "Amp": 0.000690862987919205,
          "Config": "sum[m]",
          "Group": "G1590",
          "KE (eV)": "07.2",
          "Phase mod": 0,
          "Phase shift diff (deg)": 385.80417323191335,
          "Phase shift diff (rad)": 6.73355309083146,
          "Photon energy (eV)": 15.9,
          "Polar ang (deg)": 109.16244722379638,
          "Polar ang (rad)": 1.90524412358979,
          "Rel amp": 0.371451415598104,
          "Rounded (deg)": 109,
          "Unwrapped (deg)": 385.80417323191335,
          "Unwrapped (rad)": 6.73355309083146
         },
         {
          "Amp": 0.00068075145991453,
          "Config": "sum[m]",
          "Group": "G1590",
          "KE (eV)": "07.2",
          "Phase mod": 0,
          "Phase shift diff (deg)": 374.2375172216658,
          "Phase shift diff (rad)": 6.53167686000705,
          "Photon energy (eV)": 15.9,
          "Polar ang (deg)": 116.82817250440576,
          "Polar ang (rad)": 2.03903626928979,
          "Rel amp": 0.448418273281166,
          "Rounded (deg)": 117,
          "Unwrapped (deg)": 374.2375172216658,
          "Unwrapped (rad)": 6.53167686000705
         },
         {
          "Amp": 0.000557069821916833,
          "Config": "sum[m]",
          "Group": "G1590",
          "KE (eV)": "07.2",
          "Phase mod": 0,
          "Phase shift diff (deg)": 344.88399395239077,
          "Phase shift diff (rad)": 6.01936123189743,
          "Photon energy (eV)": 15.9,
          "Polar ang (deg)": 124.4947943488,
          "Polar ang (rad)": 2.17284406297979,
          "Rel amp": 0.718634962729498,
          "Rounded (deg)": 124,
          "Unwrapped (deg)": 344.88399395239077,
          "Unwrapped (rad)": 6.01936123189743
         },
         {
          "Amp": 0.000663972226391695,
          "Config": "sum[m]",
          "Group": "G1590",
          "KE (eV)": "07.2",
          "Phase mod": 0,
          "Phase shift diff (deg)": 293.92988141103115,
          "Phase shift diff (rad)": 5.13004420061897,
          "Photon energy (eV)": 15.9,
          "Polar ang (deg)": 132.16284901568156,
          "Polar ang (rad)": 2.30667686413979,
          "Rel amp": 0.956654730604885,
          "Rounded (deg)": 132,
          "Unwrapped (deg)": 293.92988141103115,
          "Unwrapped (rad)": 5.130044200618969
         },
         {
          "Amp": 0.00116384050973095,
          "Config": "sum[m]",
          "Group": "G1590",
          "KE (eV)": "07.2",
          "Phase mod": 0,
          "Phase shift diff (deg)": 264.7155762242499,
          "Phase shift diff (rad)": 4.62015838642718,
          "Photon energy (eV)": 15.9,
          "Polar ang (deg)": 139.8332508116193,
          "Polar ang (rad)": 2.44055063042979,
          "Rel amp": 0.996133267463506,
          "Rounded (deg)": 140,
          "Unwrapped (deg)": 264.7155762242499,
          "Unwrapped (rad)": 4.62015838642718
         },
         {
          "Amp": 0.00181191276878189,
          "Config": "sum[m]",
          "Group": "G1590",
          "KE (eV)": "07.2",
          "Phase mod": 0,
          "Phase shift diff (deg)": 252.7514187494356,
          "Phase shift diff (rad)": 4.41134444626458,
          "Photon energy (eV)": 15.9,
          "Polar ang (deg)": 147.5077452313367,
          "Polar ang (rad)": 2.57449582647979,
          "Rel amp": 0.993563366555192,
          "Rounded (deg)": 148,
          "Unwrapped (deg)": 252.7514187494356,
          "Unwrapped (rad)": 4.41134444626458
         },
         {
          "Amp": 0.00245007487740434,
          "Config": "sum[m]",
          "Group": "G1590",
          "KE (eV)": "07.2",
          "Phase mod": 0,
          "Phase shift diff (deg)": 246.91223071454948,
          "Phase shift diff (rad)": 4.30943138941276,
          "Photon energy (eV)": 15.9,
          "Polar ang (deg)": 155.19019370441345,
          "Polar ang (rad)": 2.70857984694979,
          "Rel amp": 0.992526859226588,
          "Rounded (deg)": 155,
          "Unwrapped (deg)": 246.91223071454948,
          "Unwrapped (rad)": 4.30943138941276
         },
         {
          "Amp": 0.00298374668231482,
          "Config": "sum[m]",
          "Group": "G1590",
          "KE (eV)": "07.2",
          "Phase mod": 0,
          "Phase shift diff (deg)": 243.7128813891449,
          "Phase shift diff (rad)": 4.25359220976299,
          "Photon energy (eV)": 15.9,
          "Polar ang (deg)": 162.89127376689535,
          "Polar ang (rad)": 2.84298904999979,
          "Rel amp": 0.995655724024659,
          "Rounded (deg)": 163,
          "Unwrapped (deg)": 243.7128813891449,
          "Unwrapped (rad)": 4.25359220976299
         },
         {
          "Amp": 0.0033506852382672,
          "Config": "sum[m]",
          "Group": "G1590",
          "KE (eV)": "07.2",
          "Phase mod": 0,
          "Phase shift diff (deg)": 241.9874568917746,
          "Phase shift diff (rad)": 4.22347787128931,
          "Photon energy (eV)": 15.9,
          "Polar ang (deg)": 170.65572859827753,
          "Polar ang (rad)": 2.97850435142979,
          "Rel amp": 0.998596003143194,
          "Rounded (deg)": 171,
          "Unwrapped (deg)": 241.9874568917746,
          "Unwrapped (rad)": 4.22347787128931
         },
         {
          "Amp": 0.00351286227033553,
          "Config": "sum[m]",
          "Group": "G1590",
          "KE (eV)": "07.2",
          "Phase mod": 0,
          "Phase shift diff (deg)": 241.30998626337202,
          "Phase shift diff (rad)": 4.21165377823813,
          "Photon energy (eV)": 15.9,
          "Polar ang (deg)": 179.99999999999983,
          "Polar ang (rad)": 3.14159265358979,
          "Rel amp": 1,
          "Rounded (deg)": 180,
          "Unwrapped (deg)": 241.30998626337202,
          "Unwrapped (rad)": 4.21165377823813
         },
         {
          "Amp": 0.00338742477992481,
          "Config": "sum[m]",
          "Group": "G1910",
          "KE (eV)": "13.6",
          "Phase mod": -1,
          "Phase shift diff (deg)": 64.38105392841206,
          "Phase shift diff (rad)": 1.12366136695482,
          "Photon energy (eV)": 19.1,
          "Polar ang (deg)": 0,
          "Polar ang (rad)": 0,
          "Rel amp": 1,
          "Rounded (deg)": 0,
          "Unwrapped (deg)": -295.61894607158797,
          "Unwrapped (rad)": -5.159523940224767
         },
         {
          "Amp": 0.00325262393617364,
          "Config": "sum[m]",
          "Group": "G1910",
          "KE (eV)": "13.6",
          "Phase mod": -1,
          "Phase shift diff (deg)": 65.16186345656831,
          "Phase shift diff (rad)": 1.13728906405209,
          "Photon energy (eV)": 19.1,
          "Polar ang (deg)": 9.344271401722308,
          "Polar ang (rad)": 0.16308830216,
          "Rel amp": 0.998858863358732,
          "Rounded (deg)": 9,
          "Unwrapped (deg)": -294.8381365434317,
          "Unwrapped (rad)": -5.145896243127496
         },
         {
          "Amp": 0.00295510269775745,
          "Config": "sum[m]",
          "Group": "G1910",
          "KE (eV)": "13.6",
          "Phase mod": -1,
          "Phase shift diff (deg)": 67.11733615349075,
          "Phase shift diff (rad)": 1.17141850104624,
          "Photon energy (eV)": 19.1,
          "Polar ang (deg)": 17.108726233104477,
          "Polar ang (rad)": 0.29860360359,
          "Rel amp": 0.996995232438671,
          "Rounded (deg)": 17,
          "Unwrapped (deg)": -292.8826638465092,
          "Unwrapped (rad)": -5.111766806133346
         },
         {
          "Amp": 0.00253981792882895,
          "Config": "sum[m]",
          "Group": "G1910",
          "KE (eV)": "13.6",
          "Phase mod": -1,
          "Phase shift diff (deg)": 70.55059714945754,
          "Phase shift diff (rad)": 1.23134020950616,
          "Photon energy (eV)": 19.1,
          "Polar ang (deg)": 24.80980629558633,
          "Polar ang (rad)": 0.433012806639999,
          "Rel amp": 0.996913477128632,
          "Rounded (deg)": 25,
          "Unwrapped (deg)": -289.44940285054247,
          "Unwrapped (rad)": -5.051845097673427
         },
         {
          "Amp": 0.0020672438888647,
          "Config": "sum[m]",
          "Group": "G1910",
          "KE (eV)": "13.6",
          "Phase mod": -1,
          "Phase shift diff (deg)": 76.00215371300439,
          "Phase shift diff (rad)": 1.32648782089876,
          "Photon energy (eV)": 19.1,
          "Polar ang (deg)": 32.49225476866312,
          "Polar ang (rad)": 0.56709682711,
          "Rel amp": 0.999578359354831,
          "Rounded (deg)": 32,
          "Unwrapped (deg)": -283.9978462869956,
          "Unwrapped (rad)": -4.9566974862808255
         },
         {
          "Amp": 0.00160397857302152,
          "Config": "sum[m]",
          "Group": "G1910",
          "KE (eV)": "13.6",
          "Phase mod": -1,
          "Phase shift diff (deg)": 84.24493143139716,
          "Phase shift diff (rad)": 1.47035143159474,
          "Photon energy (eV)": 19.1,
          "Polar ang (deg)": 40.16674918838051,
          "Polar ang (rad)": 0.70104202316,
          "Rel amp": 0.832083142029582,
          "Rounded (deg)": 40,
          "Unwrapped (deg)": -275.75506856860284,
          "Unwrapped (rad)": -4.812833875584847
         },
         {
          "Amp": 0.00120889131764756,
          "Config": "sum[m]",
          "Group": "G1910",
          "KE (eV)": "13.6",
          "Phase mod": -1,
          "Phase shift diff (deg)": 95.98589339123521,
          "Phase shift diff (rad)": 1.67526987514532,
          "Photon energy (eV)": 19.1,
          "Polar ang (deg)": 47.83715098431827,
          "Polar ang (rad)": 0.83491578945,
          "Rel amp": 0.756539875693927,
          "Rounded (deg)": 48,
          "Unwrapped (deg)": -264.0141066087648,
          "Unwrapped (rad)": -4.607915432034266
         },
         {
          "Amp": 0.000913572282917218,
          "Config": "sum[m]",
          "Group": "G1910",
          "KE (eV)": "13.6",
          "Phase mod": -1,
          "Phase shift diff (deg)": 110.83211155172197,
          "Phase shift diff (rad)": 1.93438526351519,
          "Photon energy (eV)": 19.1,
          "Polar ang (deg)": 55.50520565119975,
          "Polar ang (rad)": 0.968748590609999,
          "Rel amp": 0.905685732082891,
          "Rounded (deg)": 56,
          "Unwrapped (deg)": -249.16788844827803,
          "Unwrapped (rad)": -4.348800043664396
         },
         {
          "Amp": 0.000703047135766521,
          "Config": "sum[m]",
          "Group": "G1910",
          "KE (eV)": "13.6",
          "Phase mod": -1,
          "Phase shift diff (deg)": 126.20037010072564,
          "Phase shift diff (rad)": 2.20261197549307,
          "Photon energy (eV)": 19.1,
          "Polar ang (deg)": 63.17182749559405,
          "Polar ang (rad)": 1.1025563843,
          "Rel amp": 0.832861927333548,
          "Rounded (deg)": 63,
          "Unwrapped (deg)": -233.79962989927435,
          "Unwrapped (rad)": -4.080573331686516
         },
         {
          "Amp": 0.00052520878023099,
          "Config": "sum[m]",
          "Group": "G1910",
          "KE (eV)": "13.6",
          "Phase mod": -1,
          "Phase shift diff (deg)": 138.74431734655516,
          "Phase shift diff (rad)": 2.42154515612927,
          "Photon energy (eV)": 19.1,
          "Polar ang (deg)": 70.83755277620344,
          "Polar ang (rad)": 1.23634853,
          "Rel amp": 0.40706952481963,
          "Rounded (deg)": 71,
          "Unwrapped (deg)": -221.25568265344484,
          "Unwrapped (rad)": -3.8616401510503158
         },
         {
          "Amp": 0.000333702178940464,
          "Config": "sum[m]",
          "Group": "G1910",
          "KE (eV)": "13.6",
          "Phase mod": -1,
          "Phase shift diff (deg)": 146.91869064946613,
          "Phase shift diff (rad)": 2.56421488455219,
          "Photon energy (eV)": 19.1,
          "Polar ang (deg)": 78.50272940388737,
          "Polar ang (rad)": 1.3701310999,
          "Rel amp": 0.287080886198806,
          "Rounded (deg)": 79,
          "Unwrapped (deg)": -213.08130935053387,
          "Unwrapped (rad)": -3.7189704226273963
         },
         {
          "Amp": 0.000115311332777201,
          "Config": "sum[m]",
          "Group": "G1910",
          "KE (eV)": "13.6",
          "Phase mod": -1,
          "Phase shift diff (deg)": 150.81786824700237,
          "Phase shift diff (rad)": 2.6322683717492,
          "Photon energy (eV)": 19.1,
          "Polar ang (deg)": 86.16760800757415,
          "Polar ang (rad)": 1.5039084683,
          "Rel amp": 0.248852779175538,
          "Rounded (deg)": 86,
          "Unwrapped (deg)": -209.18213175299763,
          "Unwrapped (rad)": -3.6509169354303865
         },
         {
          "Amp": 0.000115311332777201,
          "Config": "sum[m]",
          "Group": "G1910",
          "KE (eV)": "13.6",
          "Phase mod": -1,
          "Phase shift diff (deg)": 330.8178682470022,
          "Phase shift diff (rad)": 5.77386102533899,
          "Photon energy (eV)": 19.1,
          "Polar ang (deg)": 93.83239199242567,
          "Polar ang (rad)": 1.63768418528979,
          "Rel amp": 0.248852779175538,
          "Rounded (deg)": 94,
          "Unwrapped (deg)": -29.182131752997805,
          "Unwrapped (rad)": -0.5093242818405963
         },
         {
          "Amp": 0.000333702178940464,
          "Config": "sum[m]",
          "Group": "G1910",
          "KE (eV)": "13.6",
          "Phase mod": -1,
          "Phase shift diff (deg)": 326.9186906494665,
          "Phase shift diff (rad)": 5.70580753814199,
          "Photon energy (eV)": 19.1,
          "Polar ang (deg)": 101.49727059611246,
          "Polar ang (rad)": 1.77146155368979,
          "Rel amp": 0.287080886198806,
          "Rounded (deg)": 101,
          "Unwrapped (deg)": -33.0813093505335,
          "Unwrapped (rad)": -0.5773777690375965
         },
         {
          "Amp": 0.00052520878023099,
          "Config": "sum[m]",
          "Group": "G1910",
          "KE (eV)": "13.6",
          "Phase mod": -1,
          "Phase shift diff (deg)": 318.74431734655553,
          "Phase shift diff (rad)": 5.56313780971907,
          "Photon energy (eV)": 19.1,
          "Polar ang (deg)": 109.16244722379638,
          "Polar ang (rad)": 1.90524412358979,
          "Rel amp": 0.40706952481963,
          "Rounded (deg)": 109,
          "Unwrapped (deg)": -41.25568265344447,
          "Unwrapped (rad)": -0.7200474974605167
         },
         {
          "Amp": 0.000703047135766521,
          "Config": "sum[m]",
          "Group": "G1910",
          "KE (eV)": "13.6",
          "Phase mod": -1,
          "Phase shift diff (deg)": 306.2003701007254,
          "Phase shift diff (rad)": 5.34420462908286,
          "Photon energy (eV)": 19.1,
          "Polar ang (deg)": 116.82817250440576,
          "Polar ang (rad)": 2.03903626928979,
          "Rel amp": 0.832861927333548,
          "Rounded (deg)": 117,
          "Unwrapped (deg)": -53.79962989927458,
          "Unwrapped (rad)": -0.9389806780967267
         },
         {
          "Amp": 0.000913572282917218,
          "Config": "sum[m]",
          "Group": "G1910",
          "KE (eV)": "13.6",
          "Phase mod": -1,
          "Phase shift diff (deg)": 290.8321115517224,
          "Phase shift diff (rad)": 5.07597791710499,
          "Photon energy (eV)": 19.1,
          "Polar ang (deg)": 124.4947943488,
          "Polar ang (rad)": 2.17284406297979,
          "Rel amp": 0.905685732082891,
          "Rounded (deg)": 124,
          "Unwrapped (deg)": -69.16788844827761,
          "Unwrapped (rad)": -1.2072073900745959
         },
         {
          "Amp": 0.00120889131764756,
          "Config": "sum[m]",
          "Group": "G1910",
          "KE (eV)": "13.6",
          "Phase mod": -1,
          "Phase shift diff (deg)": 275.98589339123504,
          "Phase shift diff (rad)": 4.81686252873511,
          "Photon energy (eV)": 19.1,
          "Polar ang (deg)": 132.16284901568156,
          "Polar ang (rad)": 2.30667686413979,
          "Rel amp": 0.756539875693927,
          "Rounded (deg)": 132,
          "Unwrapped (deg)": -84.01410660876496,
          "Unwrapped (rad)": -1.4663227784444761
         },
         {
          "Amp": 0.00160397857302152,
          "Config": "sum[m]",
          "Group": "G1910",
          "KE (eV)": "13.6",
          "Phase mod": -1,
          "Phase shift diff (deg)": 264.244931431397,
          "Phase shift diff (rad)": 4.61194408518453,
          "Photon energy (eV)": 19.1,
          "Polar ang (deg)": 139.8332508116193,
          "Polar ang (rad)": 2.44055063042979,
          "Rel amp": 0.832083142029582,
          "Rounded (deg)": 140,
          "Unwrapped (deg)": -95.75506856860301,
          "Unwrapped (rad)": -1.671241221995056
         },
         {
          "Amp": 0.0020672438888647,
          "Config": "sum[m]",
          "Group": "G1910",
          "KE (eV)": "13.6",
          "Phase mod": -1,
          "Phase shift diff (deg)": 256.00215371300425,
          "Phase shift diff (rad)": 4.46808047448855,
          "Photon energy (eV)": 19.1,
          "Polar ang (deg)": 147.5077452313367,
          "Polar ang (rad)": 2.57449582647979,
          "Rel amp": 0.999578359354831,
          "Rounded (deg)": 148,
          "Unwrapped (deg)": -103.99784628699575,
          "Unwrapped (rad)": -1.8151048326910355
         },
         {
          "Amp": 0.00253981792882895,
          "Config": "sum[m]",
          "Group": "G1910",
          "KE (eV)": "13.6",
          "Phase mod": -1,
          "Phase shift diff (deg)": 250.55059714945736,
          "Phase shift diff (rad)": 4.37293286309595,
          "Photon energy (eV)": 19.1,
          "Polar ang (deg)": 155.19019370441345,
          "Polar ang (rad)": 2.70857984694979,
          "Rel amp": 0.996913477128632,
          "Rounded (deg)": 155,
          "Unwrapped (deg)": -109.44940285054264,
          "Unwrapped (rad)": -1.9102524440836361
         },
         {
          "Amp": 0.00295510269775745,
          "Config": "sum[m]",
          "Group": "G1910",
          "KE (eV)": "13.6",
          "Phase mod": -1,
          "Phase shift diff (deg)": 247.11733615349118,
          "Phase shift diff (rad)": 4.31301115463604,
          "Photon energy (eV)": 19.1,
          "Polar ang (deg)": 162.89127376689535,
          "Polar ang (rad)": 2.84298904999979,
          "Rel amp": 0.996995232438671,
          "Rounded (deg)": 163,
          "Unwrapped (deg)": -112.88266384650882,
          "Unwrapped (rad)": -1.9701741525435459
         },
         {
          "Amp": 0.00325262393617364,
          "Config": "sum[m]",
          "Group": "G1910",
          "KE (eV)": "13.6",
          "Phase mod": -1,
          "Phase shift diff (deg)": 245.1618634565687,
          "Phase shift diff (rad)": 4.27888171764189,
          "Photon energy (eV)": 19.1,
          "Polar ang (deg)": 170.65572859827753,
          "Polar ang (rad)": 2.97850435142979,
          "Rel amp": 0.998858863358732,
          "Rounded (deg)": 171,
          "Unwrapped (deg)": -114.83813654343129,
          "Unwrapped (rad)": -2.004303589537696
         },
         {
          "Amp": 0.00338742477992481,
          "Config": "sum[m]",
          "Group": "G1910",
          "KE (eV)": "13.6",
          "Phase mod": -1,
          "Phase shift diff (deg)": 244.3810539284119,
          "Phase shift diff (rad)": 4.26525402054461,
          "Photon energy (eV)": 19.1,
          "Polar ang (deg)": 179.99999999999983,
          "Polar ang (rad)": 3.14159265358979,
          "Rel amp": 1,
          "Rounded (deg)": 180,
          "Unwrapped (deg)": -115.61894607158811,
          "Unwrapped (rad)": -2.017931286634976
         }
        ],
        "data-ebc0758b7f98df2214d4cf80b4920157": [
         {
          "KE (eV)": "07.2",
          "Phase shift diff (deg)": 55.62416523791295,
          "Phase shift diff fr (deg)": 50.52155667616718,
          "Phase shift diff to (deg)": 60.726773799658716,
          "Polar ang (deg)": 2.5
         },
         {
          "KE (eV)": "07.2",
          "Phase shift diff (deg)": 69.34129761702131,
          "Phase shift diff fr (deg)": 63.79888689950374,
          "Phase shift diff to (deg)": 74.88370833453888,
          "Polar ang (deg)": 7.5
         },
         {
          "KE (eV)": "07.2",
          "Phase shift diff (deg)": 57.48579921989812,
          "Phase shift diff fr (deg)": 53.318618211461434,
          "Phase shift diff to (deg)": 61.652980228334805,
          "Polar ang (deg)": 12.5
         },
         {
          "KE (eV)": "07.2",
          "Phase shift diff (deg)": 69.85629700128588,
          "Phase shift diff fr (deg)": 66.30691734931521,
          "Phase shift diff to (deg)": 73.40567665325655,
          "Polar ang (deg)": 17.5
         },
         {
          "KE (eV)": "07.2",
          "Phase shift diff (deg)": 63.804060942049574,
          "Phase shift diff fr (deg)": 57.147352273619745,
          "Phase shift diff to (deg)": 70.4607696104794,
          "Polar ang (deg)": 22.5
         },
         {
          "KE (eV)": "07.2",
          "Phase shift diff (deg)": 64.06627678367491,
          "Phase shift diff fr (deg)": 58.21046534128381,
          "Phase shift diff to (deg)": 69.92208822606601,
          "Polar ang (deg)": 27.5
         },
         {
          "KE (eV)": "07.2",
          "Phase shift diff (deg)": 77.86420468270163,
          "Phase shift diff fr (deg)": 71.61803993748418,
          "Phase shift diff to (deg)": 84.11036942791907,
          "Polar ang (deg)": 32.5
         },
         {
          "KE (eV)": "07.2",
          "Phase shift diff (deg)": 82.04948906635484,
          "Phase shift diff fr (deg)": 75.46576186348233,
          "Phase shift diff to (deg)": 88.63321626922735,
          "Polar ang (deg)": 37.5
         },
         {
          "KE (eV)": "07.2",
          "Phase shift diff (deg)": 101.08066443197743,
          "Phase shift diff fr (deg)": 92.36566466165924,
          "Phase shift diff to (deg)": 109.79566420229561,
          "Polar ang (deg)": 42.5
         },
         {
          "KE (eV)": "07.2",
          "Phase shift diff (deg)": 116.74393961258663,
          "Phase shift diff fr (deg)": 104.01047678380233,
          "Phase shift diff to (deg)": 129.47740244137094,
          "Polar ang (deg)": 47.5
         },
         {
          "KE (eV)": "07.2",
          "Phase shift diff (deg)": 142.074734302659,
          "Phase shift diff fr (deg)": 131.16408739872855,
          "Phase shift diff to (deg)": 152.98538120658947,
          "Polar ang (deg)": 52.5
         },
         {
          "KE (eV)": "07.2",
          "Phase shift diff (deg)": 170.1899770629955,
          "Phase shift diff fr (deg)": 150.26177461398296,
          "Phase shift diff to (deg)": 190.11817951200803,
          "Polar ang (deg)": 57.5
         },
         {
          "KE (eV)": "07.2",
          "Phase shift diff (deg)": 172.43782915687578,
          "Phase shift diff fr (deg)": 163.32023117780312,
          "Phase shift diff to (deg)": 181.55542713594843,
          "Polar ang (deg)": 62.5
         },
         {
          "KE (eV)": "07.2",
          "Phase shift diff (deg)": 191.9282169905305,
          "Phase shift diff fr (deg)": 180.82163243721834,
          "Phase shift diff to (deg)": 203.03480154384266,
          "Polar ang (deg)": 67.5
         },
         {
          "KE (eV)": "07.2",
          "Phase shift diff (deg)": 186.87179630246047,
          "Phase shift diff fr (deg)": 174.52380257499308,
          "Phase shift diff to (deg)": 199.21979002992785,
          "Polar ang (deg)": 72.5
         },
         {
          "KE (eV)": "07.2",
          "Phase shift diff (deg)": 205.02767445107293,
          "Phase shift diff fr (deg)": 190.57129503013465,
          "Phase shift diff to (deg)": 219.4840538720112,
          "Polar ang (deg)": 77.5
         },
         {
          "KE (eV)": "07.2",
          "Phase shift diff (deg)": 211.1659306571402,
          "Phase shift diff fr (deg)": 166.11195784197324,
          "Phase shift diff to (deg)": 256.2199034723071,
          "Polar ang (deg)": 82.5
         },
         {
          "KE (eV)": "07.2",
          "Phase shift diff (deg)": 206.585017988087,
          "Phase shift diff fr (deg)": 138.07028697640192,
          "Phase shift diff to (deg)": 275.0997489997721,
          "Polar ang (deg)": 87.5
         },
         {
          "KE (eV)": "07.2",
          "Phase shift diff (deg)": 386.5850311745987,
          "Phase shift diff fr (deg)": 318.0703428210797,
          "Phase shift diff to (deg)": 455.09971952811776,
          "Polar ang (deg)": 92.5
         },
         {
          "KE (eV)": "07.2",
          "Phase shift diff (deg)": 391.16592228664666,
          "Phase shift diff fr (deg)": 346.11195825621166,
          "Phase shift diff to (deg)": 436.21988631708166,
          "Polar ang (deg)": 97.5
         },
         {
          "KE (eV)": "07.2",
          "Phase shift diff (deg)": 385.02767507481235,
          "Phase shift diff fr (deg)": 370.5712948445811,
          "Phase shift diff to (deg)": 399.4840553050436,
          "Polar ang (deg)": 102.5
         },
         {
          "KE (eV)": "07.2",
          "Phase shift diff (deg)": 366.87179530347,
          "Phase shift diff fr (deg)": 354.5238019166549,
          "Phase shift diff to (deg)": 379.21978869028504,
          "Polar ang (deg)": 107.5
         },
         {
          "KE (eV)": "07.2",
          "Phase shift diff (deg)": 371.9282171432328,
          "Phase shift diff fr (deg)": 360.8216324822841,
          "Phase shift diff to (deg)": 383.03480180418154,
          "Polar ang (deg)": 112.5
         },
         {
          "KE (eV)": "07.2",
          "Phase shift diff (deg)": 352.4378290366072,
          "Phase shift diff fr (deg)": 343.32023101687946,
          "Phase shift diff to (deg)": 361.5554270563349,
          "Polar ang (deg)": 117.5
         },
         {
          "KE (eV)": "07.2",
          "Phase shift diff (deg)": 350.1899795107145,
          "Phase shift diff fr (deg)": 330.26177815352014,
          "Phase shift diff to (deg)": 370.1181808679089,
          "Polar ang (deg)": 122.5
         },
         {
          "KE (eV)": "07.2",
          "Phase shift diff (deg)": 322.07473397811776,
          "Phase shift diff fr (deg)": 311.1640869975023,
          "Phase shift diff to (deg)": 332.98538095873323,
          "Polar ang (deg)": 127.5
         },
         {
          "KE (eV)": "07.2",
          "Phase shift diff (deg)": 296.743940229548,
          "Phase shift diff fr (deg)": 284.01047738010595,
          "Phase shift diff to (deg)": 309.47740307899005,
          "Polar ang (deg)": 132.5
         },
         {
          "KE (eV)": "07.2",
          "Phase shift diff (deg)": 281.0806642043761,
          "Phase shift diff fr (deg)": 272.36566443951955,
          "Phase shift diff to (deg)": 289.79566396923263,
          "Polar ang (deg)": 137.5
         },
         {
          "KE (eV)": "07.2",
          "Phase shift diff (deg)": 262.0494889431447,
          "Phase shift diff fr (deg)": 255.46576173424347,
          "Phase shift diff to (deg)": 268.6332161520459,
          "Polar ang (deg)": 142.5
         },
         {
          "KE (eV)": "07.2",
          "Phase shift diff (deg)": 257.86420463985166,
          "Phase shift diff fr (deg)": 251.61803986646865,
          "Phase shift diff to (deg)": 264.11036941323465,
          "Polar ang (deg)": 147.5
         },
         {
          "KE (eV)": "07.2",
          "Phase shift diff (deg)": 244.06627675029188,
          "Phase shift diff fr (deg)": 238.21046527630364,
          "Phase shift diff to (deg)": 249.92208822428012,
          "Polar ang (deg)": 152.5
         },
         {
          "KE (eV)": "07.2",
          "Phase shift diff (deg)": 243.80406099006325,
          "Phase shift diff fr (deg)": 237.147352349597,
          "Phase shift diff to (deg)": 250.46076963052948,
          "Polar ang (deg)": 157.5
         },
         {
          "KE (eV)": "07.2",
          "Phase shift diff (deg)": 249.85629699598752,
          "Phase shift diff fr (deg)": 246.30691734024248,
          "Phase shift diff to (deg)": 253.40567665173256,
          "Polar ang (deg)": 162.5
         },
         {
          "KE (eV)": "07.2",
          "Phase shift diff (deg)": 237.48579927144408,
          "Phase shift diff fr (deg)": 233.31861824250623,
          "Phase shift diff to (deg)": 241.65298030038193,
          "Polar ang (deg)": 167.5
         },
         {
          "KE (eV)": "07.2",
          "Phase shift diff (deg)": 249.3412975344184,
          "Phase shift diff fr (deg)": 243.79888678793924,
          "Phase shift diff to (deg)": 254.88370828089757,
          "Polar ang (deg)": 172.5
         },
         {
          "KE (eV)": "07.2",
          "Phase shift diff (deg)": 235.62416516592486,
          "Phase shift diff fr (deg)": 230.52155659108493,
          "Phase shift diff to (deg)": 240.7267737407648,
          "Polar ang (deg)": 177.5
         },
         {
          "KE (eV)": 13.6,
          "Phase shift diff (deg)": 63.56911371973984,
          "Phase shift diff fr (deg)": 59.69890030698804,
          "Phase shift diff to (deg)": 67.43932713249164,
          "Polar ang (deg)": 2.5
         },
         {
          "KE (eV)": 13.6,
          "Phase shift diff (deg)": 63.472793003001776,
          "Phase shift diff fr (deg)": 59.39609836793211,
          "Phase shift diff to (deg)": 67.54948763807144,
          "Polar ang (deg)": 7.5
         },
         {
          "KE (eV)": 13.6,
          "Phase shift diff (deg)": 63.9853857296668,
          "Phase shift diff fr (deg)": 60.040282147526646,
          "Phase shift diff to (deg)": 67.93048931180697,
          "Polar ang (deg)": 12.5
         },
         {
          "KE (eV)": 13.6,
          "Phase shift diff (deg)": 65.55916803938536,
          "Phase shift diff fr (deg)": 61.477111415987565,
          "Phase shift diff to (deg)": 69.64122466278315,
          "Polar ang (deg)": 17.5
         },
         {
          "KE (eV)": 13.6,
          "Phase shift diff (deg)": 67.5385877195846,
          "Phase shift diff fr (deg)": 63.175481900290485,
          "Phase shift diff to (deg)": 71.9016935388787,
          "Polar ang (deg)": 22.5
         },
         {
          "KE (eV)": 13.6,
          "Phase shift diff (deg)": 69.96797280545479,
          "Phase shift diff fr (deg)": 65.39284268758412,
          "Phase shift diff to (deg)": 74.54310292332546,
          "Polar ang (deg)": 27.5
         },
         {
          "KE (eV)": 13.6,
          "Phase shift diff (deg)": 73.89721216086856,
          "Phase shift diff fr (deg)": 68.92578378865242,
          "Phase shift diff to (deg)": 78.8686405330847,
          "Polar ang (deg)": 32.5
         },
         {
          "KE (eV)": 13.6,
          "Phase shift diff (deg)": 80.22320818469953,
          "Phase shift diff fr (deg)": 74.55827002049165,
          "Phase shift diff to (deg)": 85.88814634890741,
          "Polar ang (deg)": 37.5
         },
         {
          "KE (eV)": 13.6,
          "Phase shift diff (deg)": 84.69266867527082,
          "Phase shift diff fr (deg)": 78.62848311613628,
          "Phase shift diff to (deg)": 90.75685423440537,
          "Polar ang (deg)": 42.5
         },
         {
          "KE (eV)": 13.6,
          "Phase shift diff (deg)": 93.13782462662932,
          "Phase shift diff fr (deg)": 86.1761417940514,
          "Phase shift diff to (deg)": 100.09950745920725,
          "Polar ang (deg)": 47.5
         },
         {
          "KE (eV)": 13.6,
          "Phase shift diff (deg)": 103.92487718307508,
          "Phase shift diff fr (deg)": 95.79697579537027,
          "Phase shift diff to (deg)": 112.05277857077989,
          "Polar ang (deg)": 52.5
         },
         {
          "KE (eV)": 13.6,
          "Phase shift diff (deg)": 114.71907754662071,
          "Phase shift diff fr (deg)": 106.02121059852735,
          "Phase shift diff to (deg)": 123.41694449471407,
          "Polar ang (deg)": 57.5
         },
         {
          "KE (eV)": 13.6,
          "Phase shift diff (deg)": 124.68426954579056,
          "Phase shift diff fr (deg)": 115.47110978438901,
          "Phase shift diff to (deg)": 133.89742930719208,
          "Polar ang (deg)": 62.5
         },
         {
          "KE (eV)": 13.6,
          "Phase shift diff (deg)": 134.06041665357031,
          "Phase shift diff fr (deg)": 123.74580015929088,
          "Phase shift diff to (deg)": 144.37503314784976,
          "Polar ang (deg)": 67.5
         },
         {
          "KE (eV)": 13.6,
          "Phase shift diff (deg)": 143.48720383095693,
          "Phase shift diff fr (deg)": 131.1579640161164,
          "Phase shift diff to (deg)": 155.81644364579745,
          "Polar ang (deg)": 72.5
         },
         {
          "KE (eV)": 13.6,
          "Phase shift diff (deg)": 151.73306159279474,
          "Phase shift diff fr (deg)": 137.08327992860856,
          "Phase shift diff to (deg)": 166.38284325698092,
          "Polar ang (deg)": 77.5
         },
         {
          "KE (eV)": 13.6,
          "Phase shift diff (deg)": 152.4896542870002,
          "Phase shift diff fr (deg)": 130.84543078779336,
          "Phase shift diff to (deg)": 174.13387778620705,
          "Polar ang (deg)": 82.5
         },
         {
          "KE (eV)": 13.6,
          "Phase shift diff (deg)": 148.69639360259413,
          "Phase shift diff fr (deg)": 77.57994753094468,
          "Phase shift diff to (deg)": 219.81283967424358,
          "Polar ang (deg)": 87.5
         },
         {
          "KE (eV)": 13.6,
          "Phase shift diff (deg)": 328.6963936826533,
          "Phase shift diff fr (deg)": 257.5799576157064,
          "Phase shift diff to (deg)": 399.8128297496002,
          "Polar ang (deg)": 92.5
         },
         {
          "KE (eV)": 13.6,
          "Phase shift diff (deg)": 332.4896538294365,
          "Phase shift diff fr (deg)": 310.8454327074375,
          "Phase shift diff to (deg)": 354.13387495143553,
          "Polar ang (deg)": 97.5
         },
         {
          "KE (eV)": 13.6,
          "Phase shift diff (deg)": 331.7330608365344,
          "Phase shift diff fr (deg)": 317.0832787880744,
          "Phase shift diff to (deg)": 346.3828428849944,
          "Polar ang (deg)": 102.5
         },
         {
          "KE (eV)": 13.6,
          "Phase shift diff (deg)": 323.48720374626504,
          "Phase shift diff fr (deg)": 311.15796409611545,
          "Phase shift diff to (deg)": 335.8164433964146,
          "Polar ang (deg)": 107.5
         },
         {
          "KE (eV)": 13.6,
          "Phase shift diff (deg)": 314.0604166704334,
          "Phase shift diff fr (deg)": 303.7458002079539,
          "Phase shift diff to (deg)": 324.37503313291296,
          "Polar ang (deg)": 112.5
         },
         {
          "KE (eV)": 13.6,
          "Phase shift diff (deg)": 304.6842695185657,
          "Phase shift diff fr (deg)": 295.47110978529656,
          "Phase shift diff to (deg)": 313.89742925183486,
          "Polar ang (deg)": 117.5
         },
         {
          "KE (eV)": 13.6,
          "Phase shift diff (deg)": 294.71907719854005,
          "Phase shift diff fr (deg)": 286.0212104723865,
          "Phase shift diff to (deg)": 303.4169439246936,
          "Polar ang (deg)": 122.5
         },
         {
          "KE (eV)": 13.6,
          "Phase shift diff (deg)": 283.9248772922818,
          "Phase shift diff fr (deg)": 275.7969758830786,
          "Phase shift diff to (deg)": 292.052778701485,
          "Polar ang (deg)": 127.5
         },
         {
          "KE (eV)": 13.6,
          "Phase shift diff (deg)": 273.1378245898624,
          "Phase shift diff fr (deg)": 266.1761417388514,
          "Phase shift diff to (deg)": 280.0995074408734,
          "Polar ang (deg)": 132.5
         },
         {
          "KE (eV)": 13.6,
          "Phase shift diff (deg)": 264.6926687744983,
          "Phase shift diff fr (deg)": 258.6284831470773,
          "Phase shift diff to (deg)": 270.7568544019193,
          "Polar ang (deg)": 137.5
         },
         {
          "KE (eV)": 13.6,
          "Phase shift diff (deg)": 260.2232083313891,
          "Phase shift diff fr (deg)": 254.55827020099903,
          "Phase shift diff to (deg)": 265.88814646177923,
          "Polar ang (deg)": 142.5
         },
         {
          "KE (eV)": 13.6,
          "Phase shift diff (deg)": 253.89721228890724,
          "Phase shift diff fr (deg)": 248.9257839882734,
          "Phase shift diff to (deg)": 258.8686405895411,
          "Polar ang (deg)": 147.5
         },
         {
          "KE (eV)": 13.6,
          "Phase shift diff (deg)": 249.96797272587477,
          "Phase shift diff fr (deg)": 245.39284259647246,
          "Phase shift diff to (deg)": 254.54310285527708,
          "Polar ang (deg)": 152.5
         },
         {
          "KE (eV)": 13.6,
          "Phase shift diff (deg)": 247.53858769196043,
          "Phase shift diff fr (deg)": 243.1754818580675,
          "Phase shift diff to (deg)": 251.90169352585335,
          "Polar ang (deg)": 157.5
         },
         {
          "KE (eV)": 13.6,
          "Phase shift diff (deg)": 245.55916805289894,
          "Phase shift diff fr (deg)": 241.4771114608115,
          "Phase shift diff to (deg)": 249.64122464498638,
          "Polar ang (deg)": 162.5
         },
         {
          "KE (eV)": 13.6,
          "Phase shift diff (deg)": 243.98538567346577,
          "Phase shift diff fr (deg)": 240.0402821113927,
          "Phase shift diff to (deg)": 247.93048923553883,
          "Polar ang (deg)": 167.5
         },
         {
          "KE (eV)": 13.6,
          "Phase shift diff (deg)": 243.47279298244098,
          "Phase shift diff fr (deg)": 239.39609835645757,
          "Phase shift diff to (deg)": 247.54948760842439,
          "Polar ang (deg)": 172.5
         },
         {
          "KE (eV)": 13.6,
          "Phase shift diff (deg)": 243.56911367645495,
          "Phase shift diff fr (deg)": 239.69890025127663,
          "Phase shift diff to (deg)": 247.43932710163327,
          "Polar ang (deg)": 177.5
         },
         {
          "KE (eV)": "04.0",
          "Phase shift diff (deg)": 55.85723161382815,
          "Phase shift diff fr (deg)": 49.20255891020727,
          "Phase shift diff to (deg)": 62.51190431744902,
          "Polar ang (deg)": 2.5
         },
         {
          "KE (eV)": "04.0",
          "Phase shift diff (deg)": 58.181210267788444,
          "Phase shift diff fr (deg)": 53.66824310531264,
          "Phase shift diff to (deg)": 62.69417743026425,
          "Polar ang (deg)": 7.5
         },
         {
          "KE (eV)": "04.0",
          "Phase shift diff (deg)": 60.18767109617394,
          "Phase shift diff fr (deg)": 55.85121350752102,
          "Phase shift diff to (deg)": 64.52412868482688,
          "Polar ang (deg)": 12.5
         },
         {
          "KE (eV)": "04.0",
          "Phase shift diff (deg)": 64.10582091154656,
          "Phase shift diff fr (deg)": 59.36809587150215,
          "Phase shift diff to (deg)": 68.84354595159097,
          "Polar ang (deg)": 17.5
         },
         {
          "KE (eV)": "04.0",
          "Phase shift diff (deg)": 68.60144782072959,
          "Phase shift diff fr (deg)": 63.2354846454588,
          "Phase shift diff to (deg)": 73.96741099600038,
          "Polar ang (deg)": 22.5
         },
         {
          "KE (eV)": "04.0",
          "Phase shift diff (deg)": 78.3987459617571,
          "Phase shift diff fr (deg)": 72.70051659825052,
          "Phase shift diff to (deg)": 84.09697532526368,
          "Polar ang (deg)": 27.5
         },
         {
          "KE (eV)": "04.0",
          "Phase shift diff (deg)": 83.39021309803033,
          "Phase shift diff fr (deg)": 77.27652653077593,
          "Phase shift diff to (deg)": 89.50389966528473,
          "Polar ang (deg)": 32.5
         },
         {
          "KE (eV)": "04.0",
          "Phase shift diff (deg)": 94.50585311409363,
          "Phase shift diff fr (deg)": 88.59252893934249,
          "Phase shift diff to (deg)": 100.41917728884476,
          "Polar ang (deg)": 37.5
         },
         {
          "KE (eV)": "04.0",
          "Phase shift diff (deg)": 102.62188275679969,
          "Phase shift diff fr (deg)": 95.81798426938187,
          "Phase shift diff to (deg)": 109.42578124421752,
          "Polar ang (deg)": 42.5
         },
         {
          "KE (eV)": "04.0",
          "Phase shift diff (deg)": 113.0205258616028,
          "Phase shift diff fr (deg)": 107.50004943168881,
          "Phase shift diff to (deg)": 118.5410022915168,
          "Polar ang (deg)": 47.5
         },
         {
          "KE (eV)": "04.0",
          "Phase shift diff (deg)": 117.1806867082902,
          "Phase shift diff fr (deg)": 110.08229924805478,
          "Phase shift diff to (deg)": 124.27907416852561,
          "Polar ang (deg)": 52.5
         },
         {
          "KE (eV)": "04.0",
          "Phase shift diff (deg)": 127.51720003869966,
          "Phase shift diff fr (deg)": 120.10738659596392,
          "Phase shift diff to (deg)": 134.9270134814354,
          "Polar ang (deg)": 57.5
         },
         {
          "KE (eV)": "04.0",
          "Phase shift diff (deg)": 131.85970189440548,
          "Phase shift diff fr (deg)": 124.95112003399271,
          "Phase shift diff to (deg)": 138.76828375481824,
          "Polar ang (deg)": 62.5
         },
         {
          "KE (eV)": "04.0",
          "Phase shift diff (deg)": 136.50010965783093,
          "Phase shift diff fr (deg)": 127.23927821668987,
          "Phase shift diff to (deg)": 145.76094109897198,
          "Polar ang (deg)": 67.5
         },
         {
          "KE (eV)": "04.0",
          "Phase shift diff (deg)": 135.81351661077937,
          "Phase shift diff fr (deg)": 124.5691769034943,
          "Phase shift diff to (deg)": 147.05785631806444,
          "Polar ang (deg)": 72.5
         },
         {
          "KE (eV)": "04.0",
          "Phase shift diff (deg)": 140.22174284059565,
          "Phase shift diff fr (deg)": 125.89196642579763,
          "Phase shift diff to (deg)": 154.55151925539366,
          "Polar ang (deg)": 77.5
         },
         {
          "KE (eV)": "04.0",
          "Phase shift diff (deg)": 146.16747088735085,
          "Phase shift diff fr (deg)": 115.7790071489172,
          "Phase shift diff to (deg)": 176.5559346257845,
          "Polar ang (deg)": 82.5
         },
         {
          "KE (eV)": "04.0",
          "Phase shift diff (deg)": 139.3005831570775,
          "Phase shift diff fr (deg)": 80.68614129906905,
          "Phase shift diff to (deg)": 197.91502501508597,
          "Polar ang (deg)": 87.5
         },
         {
          "KE (eV)": "04.0",
          "Phase shift diff (deg)": 319.3005794220669,
          "Phase shift diff fr (deg)": 260.68613438417077,
          "Phase shift diff to (deg)": 377.91502445996304,
          "Polar ang (deg)": 92.5
         },
         {
          "KE (eV)": "04.0",
          "Phase shift diff (deg)": 326.16747430207886,
          "Phase shift diff fr (deg)": 295.7790102380193,
          "Phase shift diff to (deg)": 356.55593836613843,
          "Polar ang (deg)": 97.5
         },
         {
          "KE (eV)": "04.0",
          "Phase shift diff (deg)": 320.22174285795035,
          "Phase shift diff fr (deg)": 305.89196649833013,
          "Phase shift diff to (deg)": 334.55151921757056,
          "Polar ang (deg)": 102.5
         },
         {
          "KE (eV)": "04.0",
          "Phase shift diff (deg)": 315.81351558175277,
          "Phase shift diff fr (deg)": 304.5691757670219,
          "Phase shift diff to (deg)": 327.05785539648366,
          "Polar ang (deg)": 107.5
         },
         {
          "KE (eV)": "04.0",
          "Phase shift diff (deg)": 316.5001095985279,
          "Phase shift diff fr (deg)": 307.2392786087637,
          "Phase shift diff to (deg)": 325.7609405882921,
          "Polar ang (deg)": 112.5
         },
         {
          "KE (eV)": "04.0",
          "Phase shift diff (deg)": 311.85970165573343,
          "Phase shift diff fr (deg)": 304.95111970212525,
          "Phase shift diff to (deg)": 318.7682836093416,
          "Polar ang (deg)": 117.5
         },
         {
          "KE (eV)": "04.0",
          "Phase shift diff (deg)": 307.5171994828457,
          "Phase shift diff fr (deg)": 300.10738618949955,
          "Phase shift diff to (deg)": 314.9270127761918,
          "Polar ang (deg)": 122.5
         },
         {
          "KE (eV)": "04.0",
          "Phase shift diff (deg)": 297.18068624843977,
          "Phase shift diff fr (deg)": 290.0822988028397,
          "Phase shift diff to (deg)": 304.2790736940398,
          "Polar ang (deg)": 127.5
         },
         {
          "KE (eV)": "04.0",
          "Phase shift diff (deg)": 293.0205257468065,
          "Phase shift diff fr (deg)": 287.5000493311301,
          "Phase shift diff to (deg)": 298.5410021624829,
          "Polar ang (deg)": 132.5
         },
         {
          "KE (eV)": "04.0",
          "Phase shift diff (deg)": 282.62188263641536,
          "Phase shift diff fr (deg)": 275.8179841460851,
          "Phase shift diff to (deg)": 289.4257811267456,
          "Polar ang (deg)": 137.5
         },
         {
          "KE (eV)": "04.0",
          "Phase shift diff (deg)": 274.5058532047915,
          "Phase shift diff fr (deg)": 268.59252896789627,
          "Phase shift diff to (deg)": 280.4191774416867,
          "Polar ang (deg)": 142.5
         },
         {
          "KE (eV)": "04.0",
          "Phase shift diff (deg)": 263.3902131945535,
          "Phase shift diff fr (deg)": 257.27652664763133,
          "Phase shift diff to (deg)": 269.50389974147566,
          "Polar ang (deg)": 147.5
         },
         {
          "KE (eV)": "04.0",
          "Phase shift diff (deg)": 258.39874610825996,
          "Phase shift diff fr (deg)": 252.7005168106166,
          "Phase shift diff to (deg)": 264.0969754059033,
          "Polar ang (deg)": 152.5
         },
         {
          "KE (eV)": "04.0",
          "Phase shift diff (deg)": 248.6014477897507,
          "Phase shift diff fr (deg)": 243.2354846374918,
          "Phase shift diff to (deg)": 253.9674109420096,
          "Polar ang (deg)": 157.5
         },
         {
          "KE (eV)": "04.0",
          "Phase shift diff (deg)": 244.10582080185358,
          "Phase shift diff fr (deg)": 239.36809577290333,
          "Phase shift diff to (deg)": 248.84354583080383,
          "Polar ang (deg)": 162.5
         },
         {
          "KE (eV)": "04.0",
          "Phase shift diff (deg)": 240.18767116783184,
          "Phase shift diff fr (deg)": 235.85121358923428,
          "Phase shift diff to (deg)": 244.5241287464294,
          "Polar ang (deg)": 167.5
         },
         {
          "KE (eV)": "04.0",
          "Phase shift diff (deg)": 238.18121024645075,
          "Phase shift diff fr (deg)": 233.66824302825572,
          "Phase shift diff to (deg)": 242.69417746464578,
          "Polar ang (deg)": 172.5
         },
         {
          "KE (eV)": "04.0",
          "Phase shift diff (deg)": 235.85723161292515,
          "Phase shift diff fr (deg)": 229.2025588614402,
          "Phase shift diff to (deg)": 242.5119043644101,
          "Polar ang (deg)": 177.5
         },
         {
          "KE (eV)": "07.2 (II)",
          "Phase shift diff (deg)": 60.17837946676736,
          "Phase shift diff fr (deg)": 55.21172648730567,
          "Phase shift diff to (deg)": 65.14503244622905,
          "Polar ang (deg)": 2.5
         },
         {
          "KE (eV)": "07.2 (II)",
          "Phase shift diff (deg)": 59.63317437669815,
          "Phase shift diff fr (deg)": 54.31542335147404,
          "Phase shift diff to (deg)": 64.95092540192226,
          "Polar ang (deg)": 7.5
         },
         {
          "KE (eV)": "07.2 (II)",
          "Phase shift diff (deg)": 61.43675356401543,
          "Phase shift diff fr (deg)": 55.836979067566915,
          "Phase shift diff to (deg)": 67.03652806046395,
          "Polar ang (deg)": 12.5
         },
         {
          "KE (eV)": "07.2 (II)",
          "Phase shift diff (deg)": 62.56796360573621,
          "Phase shift diff fr (deg)": 56.923064594475896,
          "Phase shift diff to (deg)": 68.21286261699652,
          "Polar ang (deg)": 17.5
         },
         {
          "KE (eV)": "07.2 (II)",
          "Phase shift diff (deg)": 64.4045791213452,
          "Phase shift diff fr (deg)": 58.37347547059546,
          "Phase shift diff to (deg)": 70.43568277209492,
          "Polar ang (deg)": 22.5
         },
         {
          "KE (eV)": "07.2 (II)",
          "Phase shift diff (deg)": 67.39694011772008,
          "Phase shift diff fr (deg)": 60.495186703585446,
          "Phase shift diff to (deg)": 74.29869353185471,
          "Polar ang (deg)": 27.5
         },
         {
          "KE (eV)": "07.2 (II)",
          "Phase shift diff (deg)": 72.82405345832417,
          "Phase shift diff fr (deg)": 64.9680787444666,
          "Phase shift diff to (deg)": 80.68002817218175,
          "Polar ang (deg)": 32.5
         },
         {
          "KE (eV)": "07.2 (II)",
          "Phase shift diff (deg)": 79.56501823438364,
          "Phase shift diff fr (deg)": 69.58306409116311,
          "Phase shift diff to (deg)": 89.54697237760418,
          "Polar ang (deg)": 37.5
         },
         {
          "KE (eV)": "07.2 (II)",
          "Phase shift diff (deg)": 93.17873649296767,
          "Phase shift diff fr (deg)": 80.64505398050579,
          "Phase shift diff to (deg)": 105.71241900542955,
          "Polar ang (deg)": 42.5
         },
         {
          "KE (eV)": "07.2 (II)",
          "Phase shift diff (deg)": 113.21342487382661,
          "Phase shift diff fr (deg)": 96.8744380883868,
          "Phase shift diff to (deg)": 129.55241165926643,
          "Polar ang (deg)": 47.5
         },
         {
          "KE (eV)": "07.2 (II)",
          "Phase shift diff (deg)": 140.34418580539773,
          "Phase shift diff fr (deg)": 122.40260088345514,
          "Phase shift diff to (deg)": 158.28577072734032,
          "Polar ang (deg)": 52.5
         },
         {
          "KE (eV)": "07.2 (II)",
          "Phase shift diff (deg)": 168.00222048055988,
          "Phase shift diff fr (deg)": 151.21284761302834,
          "Phase shift diff to (deg)": 184.79159334809142,
          "Polar ang (deg)": 57.5
         },
         {
          "KE (eV)": "07.2 (II)",
          "Phase shift diff (deg)": 184.45360759060088,
          "Phase shift diff fr (deg)": 168.92248808860438,
          "Phase shift diff to (deg)": 199.98472709259738,
          "Polar ang (deg)": 62.5
         },
         {
          "KE (eV)": "07.2 (II)",
          "Phase shift diff (deg)": 194.7440407208727,
          "Phase shift diff fr (deg)": 180.58057798440606,
          "Phase shift diff to (deg)": 208.90750345733935,
          "Polar ang (deg)": 67.5
         },
         {
          "KE (eV)": "07.2 (II)",
          "Phase shift diff (deg)": 199.84904554101362,
          "Phase shift diff fr (deg)": 184.73166958706946,
          "Phase shift diff to (deg)": 214.96642149495779,
          "Polar ang (deg)": 72.5
         },
         {
          "KE (eV)": "07.2 (II)",
          "Phase shift diff (deg)": 202.16456036072174,
          "Phase shift diff fr (deg)": 185.09502006588474,
          "Phase shift diff to (deg)": 219.23410065555873,
          "Polar ang (deg)": 77.5
         },
         {
          "KE (eV)": "07.2 (II)",
          "Phase shift diff (deg)": 208.93997719182545,
          "Phase shift diff fr (deg)": 183.68895235569647,
          "Phase shift diff to (deg)": 234.19100202795443,
          "Polar ang (deg)": 82.5
         },
         {
          "KE (eV)": "07.2 (II)",
          "Phase shift diff (deg)": 204.65445299687468,
          "Phase shift diff fr (deg)": 133.07816542925656,
          "Phase shift diff to (deg)": 276.2307405644928,
          "Polar ang (deg)": 87.5
         },
         {
          "KE (eV)": "07.2 (II)",
          "Phase shift diff (deg)": 384.65446278697397,
          "Phase shift diff fr (deg)": 313.0781701836137,
          "Phase shift diff to (deg)": 456.23075539033425,
          "Polar ang (deg)": 92.5
         },
         {
          "KE (eV)": "07.2 (II)",
          "Phase shift diff (deg)": 388.9399781964982,
          "Phase shift diff fr (deg)": 363.68895432141767,
          "Phase shift diff to (deg)": 414.19100207157874,
          "Polar ang (deg)": 97.5
         },
         {
          "KE (eV)": "07.2 (II)",
          "Phase shift diff (deg)": 382.1645607287295,
          "Phase shift diff fr (deg)": 365.09502005124494,
          "Phase shift diff to (deg)": 399.23410140621405,
          "Polar ang (deg)": 102.5
         },
         {
          "KE (eV)": "07.2 (II)",
          "Phase shift diff (deg)": 379.78918236592506,
          "Phase shift diff fr (deg)": 341.9398766730722,
          "Phase shift diff to (deg)": 417.6384880587779,
          "Polar ang (deg)": 107.5
         },
         {
          "KE (eV)": "07.2 (II)",
          "Phase shift diff (deg)": 374.7440406342459,
          "Phase shift diff fr (deg)": 360.5805774315562,
          "Phase shift diff to (deg)": 388.9075038369356,
          "Polar ang (deg)": 112.5
         },
         {
          "KE (eV)": "07.2 (II)",
          "Phase shift diff (deg)": 364.4536075956565,
          "Phase shift diff fr (deg)": 348.9224883543468,
          "Phase shift diff to (deg)": 379.98472683696616,
          "Polar ang (deg)": 117.5
         },
         {
          "KE (eV)": "07.2 (II)",
          "Phase shift diff (deg)": 348.00222050015884,
          "Phase shift diff fr (deg)": 331.2128476794314,
          "Phase shift diff to (deg)": 364.7915933208863,
          "Polar ang (deg)": 122.5
         },
         {
          "KE (eV)": "07.2 (II)",
          "Phase shift diff (deg)": 320.34418493039533,
          "Phase shift diff fr (deg)": 302.4026006956307,
          "Phase shift diff to (deg)": 338.28576916515993,
          "Polar ang (deg)": 127.5
         },
         {
          "KE (eV)": "07.2 (II)",
          "Phase shift diff (deg)": 293.2134254282542,
          "Phase shift diff fr (deg)": 276.8744387418129,
          "Phase shift diff to (deg)": 309.55241211469547,
          "Polar ang (deg)": 132.5
         },
         {
          "KE (eV)": "07.2 (II)",
          "Phase shift diff (deg)": 273.17873664619304,
          "Phase shift diff fr (deg)": 260.64505413162885,
          "Phase shift diff to (deg)": 285.71241916075724,
          "Polar ang (deg)": 137.5
         },
         {
          "KE (eV)": "07.2 (II)",
          "Phase shift diff (deg)": 259.5650183731882,
          "Phase shift diff fr (deg)": 249.583064266794,
          "Phase shift diff to (deg)": 269.5469724795824,
          "Polar ang (deg)": 142.5
         },
         {
          "KE (eV)": "07.2 (II)",
          "Phase shift diff (deg)": 252.8240532497313,
          "Phase shift diff fr (deg)": 244.96807855344244,
          "Phase shift diff to (deg)": 260.6800279460201,
          "Polar ang (deg)": 147.5
         },
         {
          "KE (eV)": "07.2 (II)",
          "Phase shift diff (deg)": 247.39693997080204,
          "Phase shift diff fr (deg)": 240.49518652572385,
          "Phase shift diff to (deg)": 254.29869341588022,
          "Polar ang (deg)": 152.5
         },
         {
          "KE (eV)": "07.2 (II)",
          "Phase shift diff (deg)": 244.4045787004416,
          "Phase shift diff fr (deg)": 238.37347488454543,
          "Phase shift diff to (deg)": 250.43568251633775,
          "Polar ang (deg)": 157.5
         },
         {
          "KE (eV)": "07.2 (II)",
          "Phase shift diff (deg)": 242.5679634738503,
          "Phase shift diff fr (deg)": 236.9230644134622,
          "Phase shift diff to (deg)": 248.2128625342384,
          "Polar ang (deg)": 162.5
         },
         {
          "KE (eV)": "07.2 (II)",
          "Phase shift diff (deg)": 241.43675321830625,
          "Phase shift diff fr (deg)": 235.83697873634796,
          "Phase shift diff to (deg)": 247.03652770026454,
          "Polar ang (deg)": 167.5
         },
         {
          "KE (eV)": "07.2 (II)",
          "Phase shift diff (deg)": 239.6331744728357,
          "Phase shift diff fr (deg)": 234.31542347278958,
          "Phase shift diff to (deg)": 244.9509254728818,
          "Polar ang (deg)": 172.5
         },
         {
          "KE (eV)": "07.2 (II)",
          "Phase shift diff (deg)": 240.1783795548583,
          "Phase shift diff fr (deg)": 235.21172659329477,
          "Phase shift diff to (deg)": 245.14503251642185,
          "Polar ang (deg)": 177.5
         }
        ]
       },
       "layer": [
        {
         "data": {
          "name": "data-ebc0758b7f98df2214d4cf80b4920157"
         },
         "encoding": {
          "color": {
           "field": "KE (eV)",
           "type": "nominal"
          },
          "x": {
           "field": "Polar ang (deg)",
           "type": "quantitative"
          },
          "y": {
           "axis": {
            "title": "Phase shift diff (deg)"
           },
           "field": "Phase shift diff fr (deg)",
           "type": "quantitative"
          },
          "y2": {
           "field": "Phase shift diff to (deg)",
           "type": "quantitative"
          }
         },
         "mark": {
          "opacity": 0.2,
          "type": "area"
         },
         "selection": {
          "selector001": {
           "bind": "scales",
           "encodings": [
            "y"
           ],
           "mark": {
            "fill": "#333",
            "fillOpacity": 0.125,
            "stroke": "white"
           },
           "on": "[mousedown, window:mouseup] > window:mousemove!",
           "resolve": "global",
           "translate": "[mousedown, window:mouseup] > window:mousemove!",
           "type": "interval",
           "zoom": "wheel!"
          }
         }
        },
        {
         "data": {
          "name": "data-ebc0758b7f98df2214d4cf80b4920157"
         },
         "encoding": {
          "color": {
           "field": "KE (eV)",
           "type": "nominal"
          },
          "x": {
           "field": "Polar ang (deg)",
           "type": "quantitative"
          },
          "y": {
           "field": "Phase shift diff (deg)",
           "type": "quantitative"
          }
         },
         "mark": "point"
        },
        {
         "data": {
          "name": "data-81456c96bb74b4dee9ce07cecbe1482a"
         },
         "encoding": {
          "color": {
           "field": "KE (eV)",
           "type": "nominal"
          },
          "x": {
           "field": "Polar ang (deg)",
           "type": "quantitative"
          },
          "y": {
           "field": "Phase shift diff (deg)",
           "type": "quantitative"
          }
         },
         "mark": "line"
        },
        {
         "data": {
          "name": "data-4fc773a744dc7371bda9ddb8e08624ac"
         },
         "encoding": {
          "color": {
           "field": "KE (eV)",
           "type": "nominal"
          },
          "x": {
           "field": "Polar ang (deg)",
           "type": "quantitative"
          },
          "y": {
           "field": "Phase shift diff (deg)",
           "type": "quantitative"
          }
         },
         "mark": {
          "strokeDash": [
           8,
           4
          ],
          "type": "line"
         }
        }
       ]
      },
      "image/png": "[encoded data removed]",
      "text/plain": [
       "<VegaLite 2 object>\n",
       "\n",
       "If you see this message, it means the renderer has not been properly enabled\n",
       "for the frontend that you are using. For more information, see\n",
       "https://altair-viz.github.io/user_guide/troubleshooting.html\n"
      ]
     },
     "execution_count": 2,
     "metadata": {},
     "output_type": "execute_result"
    }
   ],
   "source": [
    "data = pd.read_excel(\"Data/Ne phase shift diffs.xlsx\", sheet_name=None)\n",
    "\n",
    "key = \"Measured\"\n",
    "df = data[key]\n",
    "df[\"KE (eV)\"] = df[\"Dataset / KE (eV)\"]\n",
    "df = df[[\"Polar ang (deg)\", \"Phase shift diff (deg)\", \"Phase shift diff fr (deg)\", \"Phase shift diff to (deg)\", \"KE (eV)\"]]\n",
    "data[key] = df\n",
    "\n",
    "key = \"Perturb\"\n",
    "df = data[key]\n",
    "df[\"KE (eV)\"] = df[\"KE (eV)\"].map(\"{:04.1f}\".format)\n",
    "data[key] = df\n",
    "\n",
    "key = \"TDCASSCF\"\n",
    "df = data[key]\n",
    "df[\"KE (eV)\"] = df[\"KE (eV)\"].map(\"{:04.1f}\".format)\n",
    "where = ((df[\"Group\"].isin({\"G1430\", \"G1590\", \"G1910\"}))\n",
    "         & (df[\"Config\"] == \"sum[m]\"))\n",
    "data[key] = df[where]\n",
    "\n",
    "base = alt.Chart(data[\"Measured\"])\n",
    "(\n",
    "    \n",
    "    base.mark_area(opacity=0.2).encode(\n",
    "        x=\"Polar ang (deg)\",\n",
    "        y=alt.Y(\"Phase shift diff fr (deg)\", axis=alt.Axis(title=\"Phase shift diff (deg)\")),\n",
    "        y2=\"Phase shift diff to (deg)\",\n",
    "        color=\"KE (eV)\",\n",
    "    )\n",
    "    + base.mark_point().encode(\n",
    "        x=\"Polar ang (deg)\",\n",
    "        y=\"Phase shift diff (deg)\",\n",
    "        color=\"KE (eV)\",\n",
    "    )\n",
    "    + alt.Chart(data[\"TDCASSCF\"]).mark_line().encode(\n",
    "        x=\"Polar ang (deg)\",\n",
    "        y=\"Phase shift diff (deg)\",\n",
    "        color=\"KE (eV)\",\n",
    "    )\n",
    "    + alt.Chart(data[\"Perturb\"]).mark_line(strokeDash=[8, 4]).encode(\n",
    "        x=\"Polar ang (deg)\",\n",
    "        y=\"Phase shift diff (deg)\",\n",
    "        color=\"KE (eV)\",\n",
    "    )\n",
    ").interactive(bind_x=False)"
   ]
  },
  {
   "cell_type": "code",
   "execution_count": 8,
   "metadata": {},
   "outputs": [
    {
     "data": {
      "application/vnd.vegalite.v2+json": {
       "$schema": "https://vega.github.io/schema/vega-lite/v2.6.0.json",
       "config": {
        "view": {
         "height": 300,
         "width": 400
        }
       },
       "datasets": {
        "data-0b0ab6f84c8011583ef66b5a3da041a6": [
         {
          "EWS delay diff (as)": 8.60291253805253,
          "KE range (eV)": "04.0–07.2",
          "Photon energy fr (eV)": 14.3,
          "Photon energy to (eV)": 15.9,
          "Polar ang (deg)": 0
         },
         {
          "EWS delay diff (as)": 8.54723793362702,
          "KE range (eV)": "04.0–07.2",
          "Photon energy fr (eV)": 14.3,
          "Photon energy to (eV)": 15.9,
          "Polar ang (deg)": 1
         },
         {
          "EWS delay diff (as)": 8.38015813633129,
          "KE range (eV)": "04.0–07.2",
          "Photon energy fr (eV)": 14.3,
          "Photon energy to (eV)": 15.9,
          "Polar ang (deg)": 2
         },
         {
          "EWS delay diff (as)": 8.10150708642052,
          "KE range (eV)": "04.0–07.2",
          "Photon energy fr (eV)": 14.3,
          "Photon energy to (eV)": 15.9,
          "Polar ang (deg)": 3
         },
         {
          "EWS delay diff (as)": 7.711014385687,
          "KE range (eV)": "04.0–07.2",
          "Photon energy fr (eV)": 14.3,
          "Photon energy to (eV)": 15.9,
          "Polar ang (deg)": 4
         },
         {
          "EWS delay diff (as)": 7.20831505172386,
          "KE range (eV)": "04.0–07.2",
          "Photon energy fr (eV)": 14.3,
          "Photon energy to (eV)": 15.9,
          "Polar ang (deg)": 5
         },
         {
          "EWS delay diff (as)": 6.59296358843074,
          "KE range (eV)": "04.0–07.2",
          "Photon energy fr (eV)": 14.3,
          "Photon energy to (eV)": 15.9,
          "Polar ang (deg)": 6
         },
         {
          "EWS delay diff (as)": 5.86445278898418,
          "KE range (eV)": "04.0–07.2",
          "Photon energy fr (eV)": 14.3,
          "Photon energy to (eV)": 15.9,
          "Polar ang (deg)": 7
         },
         {
          "EWS delay diff (as)": 5.02223782676691,
          "KE range (eV)": "04.0–07.2",
          "Photon energy fr (eV)": 14.3,
          "Photon energy to (eV)": 15.9,
          "Polar ang (deg)": 8
         },
         {
          "EWS delay diff (as)": 4.06576632777712,
          "KE range (eV)": "04.0–07.2",
          "Photon energy fr (eV)": 14.3,
          "Photon energy to (eV)": 15.9,
          "Polar ang (deg)": 9
         },
         {
          "EWS delay diff (as)": 2.99451526985699,
          "KE range (eV)": "04.0–07.2",
          "Photon energy fr (eV)": 14.3,
          "Photon energy to (eV)": 15.9,
          "Polar ang (deg)": 10
         },
         {
          "EWS delay diff (as)": 1.80803571753597,
          "KE range (eV)": "04.0–07.2",
          "Photon energy fr (eV)": 14.3,
          "Photon energy to (eV)": 15.9,
          "Polar ang (deg)": 11
         },
         {
          "EWS delay diff (as)": 0.506006577600278,
          "KE range (eV)": "04.0–07.2",
          "Photon energy fr (eV)": 14.3,
          "Photon energy to (eV)": 15.9,
          "Polar ang (deg)": 12
         },
         {
          "EWS delay diff (as)": -0.911701251775154,
          "KE range (eV)": "04.0–07.2",
          "Photon energy fr (eV)": 14.3,
          "Photon energy to (eV)": 15.9,
          "Polar ang (deg)": 13
         },
         {
          "EWS delay diff (as)": -2.44494876319876,
          "KE range (eV)": "04.0–07.2",
          "Photon energy fr (eV)": 14.3,
          "Photon energy to (eV)": 15.9,
          "Polar ang (deg)": 14
         },
         {
          "EWS delay diff (as)": -4.09323896528903,
          "KE range (eV)": "04.0–07.2",
          "Photon energy fr (eV)": 14.3,
          "Photon energy to (eV)": 15.9,
          "Polar ang (deg)": 15
         },
         {
          "EWS delay diff (as)": -5.85561124308428,
          "KE range (eV)": "04.0–07.2",
          "Photon energy fr (eV)": 14.3,
          "Photon energy to (eV)": 15.9,
          "Polar ang (deg)": 16
         },
         {
          "EWS delay diff (as)": -7.73051771052518,
          "KE range (eV)": "04.0–07.2",
          "Photon energy fr (eV)": 14.3,
          "Photon energy to (eV)": 15.9,
          "Polar ang (deg)": 17
         },
         {
          "EWS delay diff (as)": -9.71567908817699,
          "KE range (eV)": "04.0–07.2",
          "Photon energy fr (eV)": 14.3,
          "Photon energy to (eV)": 15.9,
          "Polar ang (deg)": 18
         },
         {
          "EWS delay diff (as)": -11.8079173946342,
          "KE range (eV)": "04.0–07.2",
          "Photon energy fr (eV)": 14.3,
          "Photon energy to (eV)": 15.9,
          "Polar ang (deg)": 19
         },
         {
          "EWS delay diff (as)": -14.0029625255081,
          "KE range (eV)": "04.0–07.2",
          "Photon energy fr (eV)": 14.3,
          "Photon energy to (eV)": 15.9,
          "Polar ang (deg)": 20
         },
         {
          "EWS delay diff (as)": -16.295229556283,
          "KE range (eV)": "04.0–07.2",
          "Photon energy fr (eV)": 14.3,
          "Photon energy to (eV)": 15.9,
          "Polar ang (deg)": 21
         },
         {
          "EWS delay diff (as)": -18.677563401614,
          "KE range (eV)": "04.0–07.2",
          "Photon energy fr (eV)": 14.3,
          "Photon energy to (eV)": 15.9,
          "Polar ang (deg)": 22
         },
         {
          "EWS delay diff (as)": -21.1409472288061,
          "KE range (eV)": "04.0–07.2",
          "Photon energy fr (eV)": 14.3,
          "Photon energy to (eV)": 15.9,
          "Polar ang (deg)": 23
         },
         {
          "EWS delay diff (as)": -23.6741707939402,
          "KE range (eV)": "04.0–07.2",
          "Photon energy fr (eV)": 14.3,
          "Photon energy to (eV)": 15.9,
          "Polar ang (deg)": 24
         },
         {
          "EWS delay diff (as)": -26.2634545786687,
          "KE range (eV)": "04.0–07.2",
          "Photon energy fr (eV)": 14.3,
          "Photon energy to (eV)": 15.9,
          "Polar ang (deg)": 25
         },
         {
          "EWS delay diff (as)": -28.892025230569,
          "KE range (eV)": "04.0–07.2",
          "Photon energy fr (eV)": 14.3,
          "Photon energy to (eV)": 15.9,
          "Polar ang (deg)": 26
         },
         {
          "EWS delay diff (as)": -31.5396372859893,
          "KE range (eV)": "04.0–07.2",
          "Photon energy fr (eV)": 14.3,
          "Photon energy to (eV)": 15.9,
          "Polar ang (deg)": 27
         },
         {
          "EWS delay diff (as)": -34.1820353882018,
          "KE range (eV)": "04.0–07.2",
          "Photon energy fr (eV)": 14.3,
          "Photon energy to (eV)": 15.9,
          "Polar ang (deg)": 28
         },
         {
          "EWS delay diff (as)": -36.7903501428129,
          "KE range (eV)": "04.0–07.2",
          "Photon energy fr (eV)": 14.3,
          "Photon energy to (eV)": 15.9,
          "Polar ang (deg)": 29
         },
         {
          "EWS delay diff (as)": -39.3304192668349,
          "KE range (eV)": "04.0–07.2",
          "Photon energy fr (eV)": 14.3,
          "Photon energy to (eV)": 15.9,
          "Polar ang (deg)": 30
         },
         {
          "EWS delay diff (as)": -41.7620237901212,
          "KE range (eV)": "04.0–07.2",
          "Photon energy fr (eV)": 14.3,
          "Photon energy to (eV)": 15.9,
          "Polar ang (deg)": 31
         },
         {
          "EWS delay diff (as)": -44.0380268454708,
          "KE range (eV)": "04.0–07.2",
          "Photon energy fr (eV)": 14.3,
          "Photon energy to (eV)": 15.9,
          "Polar ang (deg)": 32
         },
         {
          "EWS delay diff (as)": -46.1034004244681,
          "KE range (eV)": "04.0–07.2",
          "Photon energy fr (eV)": 14.3,
          "Photon energy to (eV)": 15.9,
          "Polar ang (deg)": 33
         },
         {
          "EWS delay diff (as)": -47.8941242665149,
          "KE range (eV)": "04.0–07.2",
          "Photon energy fr (eV)": 14.3,
          "Photon energy to (eV)": 15.9,
          "Polar ang (deg)": 34
         },
         {
          "EWS delay diff (as)": -49.3359425985373,
          "KE range (eV)": "04.0–07.2",
          "Photon energy fr (eV)": 14.3,
          "Photon energy to (eV)": 15.9,
          "Polar ang (deg)": 35
         },
         {
          "EWS delay diff (as)": -50.3429721032066,
          "KE range (eV)": "04.0–07.2",
          "Photon energy fr (eV)": 14.3,
          "Photon energy to (eV)": 15.9,
          "Polar ang (deg)": 36
         },
         {
          "EWS delay diff (as)": -50.8161742657363,
          "KE range (eV)": "04.0–07.2",
          "Photon energy fr (eV)": 14.3,
          "Photon energy to (eV)": 15.9,
          "Polar ang (deg)": 37
         },
         {
          "EWS delay diff (as)": -50.6417472777283,
          "KE range (eV)": "04.0–07.2",
          "Photon energy fr (eV)": 14.3,
          "Photon energy to (eV)": 15.9,
          "Polar ang (deg)": 38
         },
         {
          "EWS delay diff (as)": -49.6895735995666,
          "KE range (eV)": "04.0–07.2",
          "Photon energy fr (eV)": 14.3,
          "Photon energy to (eV)": 15.9,
          "Polar ang (deg)": 39
         },
         {
          "EWS delay diff (as)": -47.8120047754195,
          "KE range (eV)": "04.0–07.2",
          "Photon energy fr (eV)": 14.3,
          "Photon energy to (eV)": 15.9,
          "Polar ang (deg)": 40
         },
         {
          "EWS delay diff (as)": -44.8435116362262,
          "KE range (eV)": "04.0–07.2",
          "Photon energy fr (eV)": 14.3,
          "Photon energy to (eV)": 15.9,
          "Polar ang (deg)": 41
         },
         {
          "EWS delay diff (as)": -40.6021192847334,
          "KE range (eV)": "04.0–07.2",
          "Photon energy fr (eV)": 14.3,
          "Photon energy to (eV)": 15.9,
          "Polar ang (deg)": 42
         },
         {
          "EWS delay diff (as)": -34.8941137761068,
          "KE range (eV)": "04.0–07.2",
          "Photon energy fr (eV)": 14.3,
          "Photon energy to (eV)": 15.9,
          "Polar ang (deg)": 43
         },
         {
          "EWS delay diff (as)": -27.5242140721819,
          "KE range (eV)": "04.0–07.2",
          "Photon energy fr (eV)": 14.3,
          "Photon energy to (eV)": 15.9,
          "Polar ang (deg)": 44
         },
         {
          "EWS delay diff (as)": -18.3140183760654,
          "KE range (eV)": "04.0–07.2",
          "Photon energy fr (eV)": 14.3,
          "Photon energy to (eV)": 15.9,
          "Polar ang (deg)": 45
         },
         {
          "EWS delay diff (as)": -7.13143182240852,
          "KE range (eV)": "04.0–07.2",
          "Photon energy fr (eV)": 14.3,
          "Photon energy to (eV)": 15.9,
          "Polar ang (deg)": 46
         },
         {
          "EWS delay diff (as)": 6.0682251180925,
          "KE range (eV)": "04.0–07.2",
          "Photon energy fr (eV)": 14.3,
          "Photon energy to (eV)": 15.9,
          "Polar ang (deg)": 47
         },
         {
          "EWS delay diff (as)": 21.1940773209745,
          "KE range (eV)": "04.0–07.2",
          "Photon energy fr (eV)": 14.3,
          "Photon energy to (eV)": 15.9,
          "Polar ang (deg)": 48
         },
         {
          "EWS delay diff (as)": 37.9779934649854,
          "KE range (eV)": "04.0–07.2",
          "Photon energy fr (eV)": 14.3,
          "Photon energy to (eV)": 15.9,
          "Polar ang (deg)": 49
         },
         {
          "EWS delay diff (as)": 55.9610824514164,
          "KE range (eV)": "04.0–07.2",
          "Photon energy fr (eV)": 14.3,
          "Photon energy to (eV)": 15.9,
          "Polar ang (deg)": 50
         },
         {
          "EWS delay diff (as)": 74.5288716308447,
          "KE range (eV)": "04.0–07.2",
          "Photon energy fr (eV)": 14.3,
          "Photon energy to (eV)": 15.9,
          "Polar ang (deg)": 51
         },
         {
          "EWS delay diff (as)": 92.997497168568,
          "KE range (eV)": "04.0–07.2",
          "Photon energy fr (eV)": 14.3,
          "Photon energy to (eV)": 15.9,
          "Polar ang (deg)": 52
         },
         {
          "EWS delay diff (as)": 110.725181892348,
          "KE range (eV)": "04.0–07.2",
          "Photon energy fr (eV)": 14.3,
          "Photon energy to (eV)": 15.9,
          "Polar ang (deg)": 53
         },
         {
          "EWS delay diff (as)": 127.207143043126,
          "KE range (eV)": "04.0–07.2",
          "Photon energy fr (eV)": 14.3,
          "Photon energy to (eV)": 15.9,
          "Polar ang (deg)": 54
         },
         {
          "EWS delay diff (as)": 142.122822691415,
          "KE range (eV)": "04.0–07.2",
          "Photon energy fr (eV)": 14.3,
          "Photon energy to (eV)": 15.9,
          "Polar ang (deg)": 55
         },
         {
          "EWS delay diff (as)": 155.33184952996,
          "KE range (eV)": "04.0–07.2",
          "Photon energy fr (eV)": 14.3,
          "Photon energy to (eV)": 15.9,
          "Polar ang (deg)": 56
         },
         {
          "EWS delay diff (as)": 166.836734088174,
          "KE range (eV)": "04.0–07.2",
          "Photon energy fr (eV)": 14.3,
          "Photon energy to (eV)": 15.9,
          "Polar ang (deg)": 57
         },
         {
          "EWS delay diff (as)": 176.734957538812,
          "KE range (eV)": "04.0–07.2",
          "Photon energy fr (eV)": 14.3,
          "Photon energy to (eV)": 15.9,
          "Polar ang (deg)": 58
         },
         {
          "EWS delay diff (as)": 185.176029967483,
          "KE range (eV)": "04.0–07.2",
          "Photon energy fr (eV)": 14.3,
          "Photon energy to (eV)": 15.9,
          "Polar ang (deg)": 59
         },
         {
          "EWS delay diff (as)": 192.329850305209,
          "KE range (eV)": "04.0–07.2",
          "Photon energy fr (eV)": 14.3,
          "Photon energy to (eV)": 15.9,
          "Polar ang (deg)": 60
         },
         {
          "EWS delay diff (as)": 198.36650279036,
          "KE range (eV)": "04.0–07.2",
          "Photon energy fr (eV)": 14.3,
          "Photon energy to (eV)": 15.9,
          "Polar ang (deg)": 61
         },
         {
          "EWS delay diff (as)": 203.444995431762,
          "KE range (eV)": "04.0–07.2",
          "Photon energy fr (eV)": 14.3,
          "Photon energy to (eV)": 15.9,
          "Polar ang (deg)": 62
         },
         {
          "EWS delay diff (as)": 207.708045531381,
          "KE range (eV)": "04.0–07.2",
          "Photon energy fr (eV)": 14.3,
          "Photon energy to (eV)": 15.9,
          "Polar ang (deg)": 63
         },
         {
          "EWS delay diff (as)": 211.280546551906,
          "KE range (eV)": "04.0–07.2",
          "Photon energy fr (eV)": 14.3,
          "Photon energy to (eV)": 15.9,
          "Polar ang (deg)": 64
         },
         {
          "EWS delay diff (as)": 214.270067398632,
          "KE range (eV)": "04.0–07.2",
          "Photon energy fr (eV)": 14.3,
          "Photon energy to (eV)": 15.9,
          "Polar ang (deg)": 65
         },
         {
          "EWS delay diff (as)": 216.768341833763,
          "KE range (eV)": "04.0–07.2",
          "Photon energy fr (eV)": 14.3,
          "Photon energy to (eV)": 15.9,
          "Polar ang (deg)": 66
         },
         {
          "EWS delay diff (as)": 218.853136308125,
          "KE range (eV)": "04.0–07.2",
          "Photon energy fr (eV)": 14.3,
          "Photon energy to (eV)": 15.9,
          "Polar ang (deg)": 67
         },
         {
          "EWS delay diff (as)": 220.590161958609,
          "KE range (eV)": "04.0–07.2",
          "Photon energy fr (eV)": 14.3,
          "Photon energy to (eV)": 15.9,
          "Polar ang (deg)": 68
         },
         {
          "EWS delay diff (as)": 222.034864127538,
          "KE range (eV)": "04.0–07.2",
          "Photon energy fr (eV)": 14.3,
          "Photon energy to (eV)": 15.9,
          "Polar ang (deg)": 69
         },
         {
          "EWS delay diff (as)": 223.234018863079,
          "KE range (eV)": "04.0–07.2",
          "Photon energy fr (eV)": 14.3,
          "Photon energy to (eV)": 15.9,
          "Polar ang (deg)": 70
         },
         {
          "EWS delay diff (as)": 224.227118140787,
          "KE range (eV)": "04.0–07.2",
          "Photon energy fr (eV)": 14.3,
          "Photon energy to (eV)": 15.9,
          "Polar ang (deg)": 71
         },
         {
          "EWS delay diff (as)": 225.047552159716,
          "KE range (eV)": "04.0–07.2",
          "Photon energy fr (eV)": 14.3,
          "Photon energy to (eV)": 15.9,
          "Polar ang (deg)": 72
         },
         {
          "EWS delay diff (as)": 225.723609207167,
          "KE range (eV)": "04.0–07.2",
          "Photon energy fr (eV)": 14.3,
          "Photon energy to (eV)": 15.9,
          "Polar ang (deg)": 73
         },
         {
          "EWS delay diff (as)": 226.27931800256,
          "KE range (eV)": "04.0–07.2",
          "Photon energy fr (eV)": 14.3,
          "Photon energy to (eV)": 15.9,
          "Polar ang (deg)": 74
         },
         {
          "EWS delay diff (as)": 226.735158028876,
          "KE range (eV)": "04.0–07.2",
          "Photon energy fr (eV)": 14.3,
          "Photon energy to (eV)": 15.9,
          "Polar ang (deg)": 75
         },
         {
          "EWS delay diff (as)": 227.108662488289,
          "KE range (eV)": "04.0–07.2",
          "Photon energy fr (eV)": 14.3,
          "Photon energy to (eV)": 15.9,
          "Polar ang (deg)": 76
         },
         {
          "EWS delay diff (as)": 227.414937639368,
          "KE range (eV)": "04.0–07.2",
          "Photon energy fr (eV)": 14.3,
          "Photon energy to (eV)": 15.9,
          "Polar ang (deg)": 77
         },
         {
          "EWS delay diff (as)": 227.667122625515,
          "KE range (eV)": "04.0–07.2",
          "Photon energy fr (eV)": 14.3,
          "Photon energy to (eV)": 15.9,
          "Polar ang (deg)": 78
         },
         {
          "EWS delay diff (as)": 227.876816979084,
          "KE range (eV)": "04.0–07.2",
          "Photon energy fr (eV)": 14.3,
          "Photon energy to (eV)": 15.9,
          "Polar ang (deg)": 79
         },
         {
          "EWS delay diff (as)": 228.054511451878,
          "KE range (eV)": "04.0–07.2",
          "Photon energy fr (eV)": 14.3,
          "Photon energy to (eV)": 15.9,
          "Polar ang (deg)": 80
         },
         {
          "EWS delay diff (as)": 228.21007740811,
          "KE range (eV)": "04.0–07.2",
          "Photon energy fr (eV)": 14.3,
          "Photon energy to (eV)": 15.9,
          "Polar ang (deg)": 81
         },
         {
          "EWS delay diff (as)": 228.353414103423,
          "KE range (eV)": "04.0–07.2",
          "Photon energy fr (eV)": 14.3,
          "Photon energy to (eV)": 15.9,
          "Polar ang (deg)": 82
         },
         {
          "EWS delay diff (as)": 228.495456317937,
          "KE range (eV)": "04.0–07.2",
          "Photon energy fr (eV)": 14.3,
          "Photon energy to (eV)": 15.9,
          "Polar ang (deg)": 83
         },
         {
          "EWS delay diff (as)": 228.650004643339,
          "KE range (eV)": "04.0–07.2",
          "Photon energy fr (eV)": 14.3,
          "Photon energy to (eV)": 15.9,
          "Polar ang (deg)": 84
         },
         {
          "EWS delay diff (as)": 228.837569325816,
          "KE range (eV)": "04.0–07.2",
          "Photon energy fr (eV)": 14.3,
          "Photon energy to (eV)": 15.9,
          "Polar ang (deg)": 85
         },
         {
          "EWS delay diff (as)": 229.094783425161,
          "KE range (eV)": "04.0–07.2",
          "Photon energy fr (eV)": 14.3,
          "Photon energy to (eV)": 15.9,
          "Polar ang (deg)": 86
         },
         {
          "EWS delay diff (as)": 229.502371693254,
          "KE range (eV)": "04.0–07.2",
          "Photon energy fr (eV)": 14.3,
          "Photon energy to (eV)": 15.9,
          "Polar ang (deg)": 87
         },
         {
          "EWS delay diff (as)": 230.296252236102,
          "KE range (eV)": "04.0–07.2",
          "Photon energy fr (eV)": 14.3,
          "Photon energy to (eV)": 15.9,
          "Polar ang (deg)": 88
         },
         {
          "EWS delay diff (as)": 232.636128736217,
          "KE range (eV)": "04.0–07.2",
          "Photon energy fr (eV)": 14.3,
          "Photon energy to (eV)": 15.9,
          "Polar ang (deg)": 89
         },
         {
          "EWS delay diff (as)": 223.108959846612,
          "KE range (eV)": "04.0–07.2",
          "Photon energy fr (eV)": 14.3,
          "Photon energy to (eV)": 15.9,
          "Polar ang (deg)": 91
         },
         {
          "EWS delay diff (as)": 225.534267505004,
          "KE range (eV)": "04.0–07.2",
          "Photon energy fr (eV)": 14.3,
          "Photon energy to (eV)": 15.9,
          "Polar ang (deg)": 92
         },
         {
          "EWS delay diff (as)": 226.32907909179,
          "KE range (eV)": "04.0–07.2",
          "Photon energy fr (eV)": 14.3,
          "Photon energy to (eV)": 15.9,
          "Polar ang (deg)": 93
         },
         {
          "EWS delay diff (as)": 226.716192117875,
          "KE range (eV)": "04.0–07.2",
          "Photon energy fr (eV)": 14.3,
          "Photon energy to (eV)": 15.9,
          "Polar ang (deg)": 94
         },
         {
          "EWS delay diff (as)": 226.936085639059,
          "KE range (eV)": "04.0–07.2",
          "Photon energy fr (eV)": 14.3,
          "Photon energy to (eV)": 15.9,
          "Polar ang (deg)": 95
         },
         {
          "EWS delay diff (as)": 227.066822330235,
          "KE range (eV)": "04.0–07.2",
          "Photon energy fr (eV)": 14.3,
          "Photon energy to (eV)": 15.9,
          "Polar ang (deg)": 96
         },
         {
          "EWS delay diff (as)": 227.13981676899,
          "KE range (eV)": "04.0–07.2",
          "Photon energy fr (eV)": 14.3,
          "Photon energy to (eV)": 15.9,
          "Polar ang (deg)": 97
         },
         {
          "EWS delay diff (as)": 227.168579843876,
          "KE range (eV)": "04.0–07.2",
          "Photon energy fr (eV)": 14.3,
          "Photon energy to (eV)": 15.9,
          "Polar ang (deg)": 98
         },
         {
          "EWS delay diff (as)": 227.158209378536,
          "KE range (eV)": "04.0–07.2",
          "Photon energy fr (eV)": 14.3,
          "Photon energy to (eV)": 15.9,
          "Polar ang (deg)": 99
         },
         {
          "EWS delay diff (as)": 227.109107659777,
          "KE range (eV)": "04.0–07.2",
          "Photon energy fr (eV)": 14.3,
          "Photon energy to (eV)": 15.9,
          "Polar ang (deg)": 100
         },
         {
          "EWS delay diff (as)": 227.018588103464,
          "KE range (eV)": "04.0–07.2",
          "Photon energy fr (eV)": 14.3,
          "Photon energy to (eV)": 15.9,
          "Polar ang (deg)": 101
         },
         {
          "EWS delay diff (as)": 226.881586100108,
          "KE range (eV)": "04.0–07.2",
          "Photon energy fr (eV)": 14.3,
          "Photon energy to (eV)": 15.9,
          "Polar ang (deg)": 102
         },
         {
          "EWS delay diff (as)": 226.690937090026,
          "KE range (eV)": "04.0–07.2",
          "Photon energy fr (eV)": 14.3,
          "Photon energy to (eV)": 15.9,
          "Polar ang (deg)": 103
         },
         {
          "EWS delay diff (as)": 226.437415988608,
          "KE range (eV)": "04.0–07.2",
          "Photon energy fr (eV)": 14.3,
          "Photon energy to (eV)": 15.9,
          "Polar ang (deg)": 104
         },
         {
          "EWS delay diff (as)": 226.109623698245,
          "KE range (eV)": "04.0–07.2",
          "Photon energy fr (eV)": 14.3,
          "Photon energy to (eV)": 15.9,
          "Polar ang (deg)": 105
         },
         {
          "EWS delay diff (as)": 225.69375804338,
          "KE range (eV)": "04.0–07.2",
          "Photon energy fr (eV)": 14.3,
          "Photon energy to (eV)": 15.9,
          "Polar ang (deg)": 106
         },
         {
          "EWS delay diff (as)": 225.173282466028,
          "KE range (eV)": "04.0–07.2",
          "Photon energy fr (eV)": 14.3,
          "Photon energy to (eV)": 15.9,
          "Polar ang (deg)": 107
         },
         {
          "EWS delay diff (as)": 224.528492554003,
          "KE range (eV)": "04.0–07.2",
          "Photon energy fr (eV)": 14.3,
          "Photon energy to (eV)": 15.9,
          "Polar ang (deg)": 108
         },
         {
          "EWS delay diff (as)": 223.735972094609,
          "KE range (eV)": "04.0–07.2",
          "Photon energy fr (eV)": 14.3,
          "Photon energy to (eV)": 15.9,
          "Polar ang (deg)": 109
         },
         {
          "EWS delay diff (as)": 222.767924406059,
          "KE range (eV)": "04.0–07.2",
          "Photon energy fr (eV)": 14.3,
          "Photon energy to (eV)": 15.9,
          "Polar ang (deg)": 110
         },
         {
          "EWS delay diff (as)": 221.591360255143,
          "KE range (eV)": "04.0–07.2",
          "Photon energy fr (eV)": 14.3,
          "Photon energy to (eV)": 15.9,
          "Polar ang (deg)": 111
         },
         {
          "EWS delay diff (as)": 220.167120704129,
          "KE range (eV)": "04.0–07.2",
          "Photon energy fr (eV)": 14.3,
          "Photon energy to (eV)": 15.9,
          "Polar ang (deg)": 112
         },
         {
          "EWS delay diff (as)": 218.448712570846,
          "KE range (eV)": "04.0–07.2",
          "Photon energy fr (eV)": 14.3,
          "Photon energy to (eV)": 15.9,
          "Polar ang (deg)": 113
         },
         {
          "EWS delay diff (as)": 216.380937875713,
          "KE range (eV)": "04.0–07.2",
          "Photon energy fr (eV)": 14.3,
          "Photon energy to (eV)": 15.9,
          "Polar ang (deg)": 114
         },
         {
          "EWS delay diff (as)": 213.898310339,
          "KE range (eV)": "04.0–07.2",
          "Photon energy fr (eV)": 14.3,
          "Photon energy to (eV)": 15.9,
          "Polar ang (deg)": 115
         },
         {
          "EWS delay diff (as)": 210.923278381842,
          "KE range (eV)": "04.0–07.2",
          "Photon energy fr (eV)": 14.3,
          "Photon energy to (eV)": 15.9,
          "Polar ang (deg)": 116
         },
         {
          "EWS delay diff (as)": 207.364326221704,
          "KE range (eV)": "04.0–07.2",
          "Photon energy fr (eV)": 14.3,
          "Photon energy to (eV)": 15.9,
          "Polar ang (deg)": 117
         },
         {
          "EWS delay diff (as)": 203.114120673451,
          "KE range (eV)": "04.0–07.2",
          "Photon energy fr (eV)": 14.3,
          "Photon energy to (eV)": 15.9,
          "Polar ang (deg)": 118
         },
         {
          "EWS delay diff (as)": 198.048038624185,
          "KE range (eV)": "04.0–07.2",
          "Photon energy fr (eV)": 14.3,
          "Photon energy to (eV)": 15.9,
          "Polar ang (deg)": 119
         },
         {
          "EWS delay diff (as)": 192.023687126556,
          "KE range (eV)": "04.0–07.2",
          "Photon energy fr (eV)": 14.3,
          "Photon energy to (eV)": 15.9,
          "Polar ang (deg)": 120
         },
         {
          "EWS delay diff (as)": 184.882457186964,
          "KE range (eV)": "04.0–07.2",
          "Photon energy fr (eV)": 14.3,
          "Photon energy to (eV)": 15.9,
          "Polar ang (deg)": 121
         },
         {
          "EWS delay diff (as)": 176.45475630262,
          "KE range (eV)": "04.0–07.2",
          "Photon energy fr (eV)": 14.3,
          "Photon energy to (eV)": 15.9,
          "Polar ang (deg)": 122
         },
         {
          "EWS delay diff (as)": 166.571276569125,
          "KE range (eV)": "04.0–07.2",
          "Photon energy fr (eV)": 14.3,
          "Photon energy to (eV)": 15.9,
          "Polar ang (deg)": 123
         },
         {
          "EWS delay diff (as)": 155.08317699754,
          "KE range (eV)": "04.0–07.2",
          "Photon energy fr (eV)": 14.3,
          "Photon energy to (eV)": 15.9,
          "Polar ang (deg)": 124
         },
         {
          "EWS delay diff (as)": 141.893651132751,
          "KE range (eV)": "04.0–07.2",
          "Photon energy fr (eV)": 14.3,
          "Photon energy to (eV)": 15.9,
          "Polar ang (deg)": 125
         },
         {
          "EWS delay diff (as)": 127.000722318688,
          "KE range (eV)": "04.0–07.2",
          "Photon energy fr (eV)": 14.3,
          "Photon energy to (eV)": 15.9,
          "Polar ang (deg)": 126
         },
         {
          "EWS delay diff (as)": 110.544935755267,
          "KE range (eV)": "04.0–07.2",
          "Photon energy fr (eV)": 14.3,
          "Photon energy to (eV)": 15.9,
          "Polar ang (deg)": 127
         },
         {
          "EWS delay diff (as)": 92.8464309291507,
          "KE range (eV)": "04.0–07.2",
          "Photon energy fr (eV)": 14.3,
          "Photon energy to (eV)": 15.9,
          "Polar ang (deg)": 128
         },
         {
          "EWS delay diff (as)": 74.4088640310756,
          "KE range (eV)": "04.0–07.2",
          "Photon energy fr (eV)": 14.3,
          "Photon energy to (eV)": 15.9,
          "Polar ang (deg)": 129
         },
         {
          "EWS delay diff (as)": 55.8723152582807,
          "KE range (eV)": "04.0–07.2",
          "Photon energy fr (eV)": 14.3,
          "Photon energy to (eV)": 15.9,
          "Polar ang (deg)": 130
         },
         {
          "EWS delay diff (as)": 37.9187854282675,
          "KE range (eV)": "04.0–07.2",
          "Photon energy fr (eV)": 14.3,
          "Photon energy to (eV)": 15.9,
          "Polar ang (deg)": 131
         },
         {
          "EWS delay diff (as)": 21.161210952166,
          "KE range (eV)": "04.0–07.2",
          "Photon energy fr (eV)": 14.3,
          "Photon energy to (eV)": 15.9,
          "Polar ang (deg)": 132
         },
         {
          "EWS delay diff (as)": 6.05760328021706,
          "KE range (eV)": "04.0–07.2",
          "Photon energy fr (eV)": 14.3,
          "Photon energy to (eV)": 15.9,
          "Polar ang (deg)": 133
         },
         {
          "EWS delay diff (as)": -7.12408671785773,
          "KE range (eV)": "04.0–07.2",
          "Photon energy fr (eV)": 14.3,
          "Photon energy to (eV)": 15.9,
          "Polar ang (deg)": 134
         },
         {
          "EWS delay diff (as)": -18.2926434472842,
          "KE range (eV)": "04.0–07.2",
          "Photon energy fr (eV)": 14.3,
          "Photon energy to (eV)": 15.9,
          "Polar ang (deg)": 135
         },
         {
          "EWS delay diff (as)": -27.4921332347776,
          "KE range (eV)": "04.0–07.2",
          "Photon energy fr (eV)": 14.3,
          "Photon energy to (eV)": 15.9,
          "Polar ang (deg)": 136
         },
         {
          "EWS delay diff (as)": -34.8539697925365,
          "KE range (eV)": "04.0–07.2",
          "Photon energy fr (eV)": 14.3,
          "Photon energy to (eV)": 15.9,
          "Polar ang (deg)": 137
         },
         {
          "EWS delay diff (as)": -40.5559288461797,
          "KE range (eV)": "04.0–07.2",
          "Photon energy fr (eV)": 14.3,
          "Photon energy to (eV)": 15.9,
          "Polar ang (deg)": 138
         },
         {
          "EWS delay diff (as)": -44.7927729029197,
          "KE range (eV)": "04.0–07.2",
          "Photon energy fr (eV)": 14.3,
          "Photon energy to (eV)": 15.9,
          "Polar ang (deg)": 139
         },
         {
          "EWS delay diff (as)": -47.7578131730025,
          "KE range (eV)": "04.0–07.2",
          "Photon energy fr (eV)": 14.3,
          "Photon energy to (eV)": 15.9,
          "Polar ang (deg)": 140
         },
         {
          "EWS delay diff (as)": -49.632724485808,
          "KE range (eV)": "04.0–07.2",
          "Photon energy fr (eV)": 14.3,
          "Photon energy to (eV)": 15.9,
          "Polar ang (deg)": 141
         },
         {
          "EWS delay diff (as)": -50.582818417469,
          "KE range (eV)": "04.0–07.2",
          "Photon energy fr (eV)": 14.3,
          "Photon energy to (eV)": 15.9,
          "Polar ang (deg)": 142
         },
         {
          "EWS delay diff (as)": -50.7555883176857,
          "KE range (eV)": "04.0–07.2",
          "Photon energy fr (eV)": 14.3,
          "Photon energy to (eV)": 15.9,
          "Polar ang (deg)": 143
         },
         {
          "EWS delay diff (as)": -50.2810422076559,
          "KE range (eV)": "04.0–07.2",
          "Photon energy fr (eV)": 14.3,
          "Photon energy to (eV)": 15.9,
          "Polar ang (deg)": 144
         },
         {
          "EWS delay diff (as)": -49.2729047871701,
          "KE range (eV)": "04.0–07.2",
          "Photon energy fr (eV)": 14.3,
          "Photon energy to (eV)": 15.9,
          "Polar ang (deg)": 145
         },
         {
          "EWS delay diff (as)": -47.8301600844389,
          "KE range (eV)": "04.0–07.2",
          "Photon energy fr (eV)": 14.3,
          "Photon energy to (eV)": 15.9,
          "Polar ang (deg)": 146
         },
         {
          "EWS delay diff (as)": -46.0386525206759,
          "KE range (eV)": "04.0–07.2",
          "Photon energy fr (eV)": 14.3,
          "Photon energy to (eV)": 15.9,
          "Polar ang (deg)": 147
         },
         {
          "EWS delay diff (as)": -43.9726096166935,
          "KE range (eV)": "04.0–07.2",
          "Photon energy fr (eV)": 14.3,
          "Photon energy to (eV)": 15.9,
          "Polar ang (deg)": 148
         },
         {
          "EWS delay diff (as)": -41.6960306240442,
          "KE range (eV)": "04.0–07.2",
          "Photon energy fr (eV)": 14.3,
          "Photon energy to (eV)": 15.9,
          "Polar ang (deg)": 149
         },
         {
          "EWS delay diff (as)": -39.2639274815647,
          "KE range (eV)": "04.0–07.2",
          "Photon energy fr (eV)": 14.3,
          "Photon energy to (eV)": 15.9,
          "Polar ang (deg)": 150
         },
         {
          "EWS delay diff (as)": -36.7234243899063,
          "KE range (eV)": "04.0–07.2",
          "Photon energy fr (eV)": 14.3,
          "Photon energy to (eV)": 15.9,
          "Polar ang (deg)": 151
         },
         {
          "EWS delay diff (as)": -34.114730048859,
          "KE range (eV)": "04.0–07.2",
          "Photon energy fr (eV)": 14.3,
          "Photon energy to (eV)": 15.9,
          "Polar ang (deg)": 152
         },
         {
          "EWS delay diff (as)": -31.4719982157819,
          "KE range (eV)": "04.0–07.2",
          "Photon energy fr (eV)": 14.3,
          "Photon energy to (eV)": 15.9,
          "Polar ang (deg)": 153
         },
         {
          "EWS delay diff (as)": -28.8240910867797,
          "KE range (eV)": "04.0–07.2",
          "Photon energy fr (eV)": 14.3,
          "Photon energy to (eV)": 15.9,
          "Polar ang (deg)": 154
         },
         {
          "EWS delay diff (as)": -26.1952578802357,
          "KE range (eV)": "04.0–07.2",
          "Photon energy fr (eV)": 14.3,
          "Photon energy to (eV)": 15.9,
          "Polar ang (deg)": 155
         },
         {
          "EWS delay diff (as)": -23.6057388092658,
          "KE range (eV)": "04.0–07.2",
          "Photon energy fr (eV)": 14.3,
          "Photon energy to (eV)": 15.9,
          "Polar ang (deg)": 156
         },
         {
          "EWS delay diff (as)": -21.0723027460036,
          "KE range (eV)": "04.0–07.2",
          "Photon energy fr (eV)": 14.3,
          "Photon energy to (eV)": 15.9,
          "Polar ang (deg)": 157
         },
         {
          "EWS delay diff (as)": -18.6087254154105,
          "KE range (eV)": "04.0–07.2",
          "Photon energy fr (eV)": 14.3,
          "Photon energy to (eV)": 15.9,
          "Polar ang (deg)": 158
         },
         {
          "EWS delay diff (as)": -16.2262138869647,
          "KE range (eV)": "04.0–07.2",
          "Photon energy fr (eV)": 14.3,
          "Photon energy to (eV)": 15.9,
          "Polar ang (deg)": 159
         },
         {
          "EWS delay diff (as)": -13.9337823795934,
          "KE range (eV)": "04.0–07.2",
          "Photon energy fr (eV)": 14.3,
          "Photon energy to (eV)": 15.9,
          "Polar ang (deg)": 160
         },
         {
          "EWS delay diff (as)": -11.7385838709019,
          "KE range (eV)": "04.0–07.2",
          "Photon energy fr (eV)": 14.3,
          "Photon energy to (eV)": 15.9,
          "Polar ang (deg)": 161
         },
         {
          "EWS delay diff (as)": -9.64620163019261,
          "KE range (eV)": "04.0–07.2",
          "Photon energy fr (eV)": 14.3,
          "Photon energy to (eV)": 15.9,
          "Polar ang (deg)": 162
         },
         {
          "EWS delay diff (as)": -7.66090450861915,
          "KE range (eV)": "04.0–07.2",
          "Photon energy fr (eV)": 14.3,
          "Photon energy to (eV)": 15.9,
          "Polar ang (deg)": 163
         },
         {
          "EWS delay diff (as)": -5.78586958389383,
          "KE range (eV)": "04.0–07.2",
          "Photon energy fr (eV)": 14.3,
          "Photon energy to (eV)": 15.9,
          "Polar ang (deg)": 164
         },
         {
          "EWS delay diff (as)": -4.02337553371416,
          "KE range (eV)": "04.0–07.2",
          "Photon energy fr (eV)": 14.3,
          "Photon energy to (eV)": 15.9,
          "Polar ang (deg)": 165
         },
         {
          "EWS delay diff (as)": -2.37496989579875,
          "KE range (eV)": "04.0–07.2",
          "Photon energy fr (eV)": 14.3,
          "Photon energy to (eV)": 15.9,
          "Polar ang (deg)": 166
         },
         {
          "EWS delay diff (as)": -0.841613147945719,
          "KE range (eV)": "04.0–07.2",
          "Photon energy fr (eV)": 14.3,
          "Photon energy to (eV)": 15.9,
          "Polar ang (deg)": 167
         },
         {
          "EWS delay diff (as)": 0.576197687115808,
          "KE range (eV)": "04.0–07.2",
          "Photon energy fr (eV)": 14.3,
          "Photon energy to (eV)": 15.9,
          "Polar ang (deg)": 168
         },
         {
          "EWS delay diff (as)": 1.87832343826226,
          "KE range (eV)": "04.0–07.2",
          "Photon energy fr (eV)": 14.3,
          "Photon energy to (eV)": 15.9,
          "Polar ang (deg)": 169
         },
         {
          "EWS delay diff (as)": 3.06489294605597,
          "KE range (eV)": "04.0–07.2",
          "Photon energy fr (eV)": 14.3,
          "Photon energy to (eV)": 15.9,
          "Polar ang (deg)": 170
         },
         {
          "EWS delay diff (as)": 4.13622697463938,
          "KE range (eV)": "04.0–07.2",
          "Photon energy fr (eV)": 14.3,
          "Photon energy to (eV)": 15.9,
          "Polar ang (deg)": 171
         },
         {
          "EWS delay diff (as)": 5.09277408957318,
          "KE range (eV)": "04.0–07.2",
          "Photon energy fr (eV)": 14.3,
          "Photon energy to (eV)": 15.9,
          "Polar ang (deg)": 172
         },
         {
          "EWS delay diff (as)": 5.93505692523569,
          "KE range (eV)": "04.0–07.2",
          "Photon energy fr (eV)": 14.3,
          "Photon energy to (eV)": 15.9,
          "Polar ang (deg)": 173
         },
         {
          "EWS delay diff (as)": 6.66362747016053,
          "KE range (eV)": "04.0–07.2",
          "Photon energy fr (eV)": 14.3,
          "Photon energy to (eV)": 15.9,
          "Polar ang (deg)": 174
         },
         {
          "EWS delay diff (as)": 7.27903018496751,
          "KE range (eV)": "04.0–07.2",
          "Photon energy fr (eV)": 14.3,
          "Photon energy to (eV)": 15.9,
          "Polar ang (deg)": 175
         },
         {
          "EWS delay diff (as)": 7.78177194421352,
          "KE range (eV)": "04.0–07.2",
          "Photon energy fr (eV)": 14.3,
          "Photon energy to (eV)": 15.9,
          "Polar ang (deg)": 176
         },
         {
          "EWS delay diff (as)": 8.17229795714193,
          "KE range (eV)": "04.0–07.2",
          "Photon energy fr (eV)": 14.3,
          "Photon energy to (eV)": 15.9,
          "Polar ang (deg)": 177
         },
         {
          "EWS delay diff (as)": 8.45097297330533,
          "KE range (eV)": "04.0–07.2",
          "Photon energy fr (eV)": 14.3,
          "Photon energy to (eV)": 15.9,
          "Polar ang (deg)": 178
         },
         {
          "EWS delay diff (as)": 8.61806722015928,
          "KE range (eV)": "04.0–07.2",
          "Photon energy fr (eV)": 14.3,
          "Photon energy to (eV)": 15.9,
          "Polar ang (deg)": 179
         },
         {
          "EWS delay diff (as)": 8.67374665279061,
          "KE range (eV)": "04.0–07.2",
          "Photon energy fr (eV)": 14.3,
          "Photon energy to (eV)": 15.9,
          "Polar ang (deg)": 180
         }
        ],
        "data-4dc41d2be287f231dfb051e6b86bca0a": [
         {
          "EWS delay diff (as)": 12.1553587190425,
          "KE range (eV)": "04.0–07.2",
          "Photon energy fr (eV)": 14.3,
          "Photon energy to (eV)": 15.9,
          "Polar ang (deg)": 0
         },
         {
          "EWS delay diff (as)": 12.1532247555682,
          "KE range (eV)": "04.0–07.2",
          "Photon energy fr (eV)": 14.3,
          "Photon energy to (eV)": 15.9,
          "Polar ang (deg)": 0.572957795130823
         },
         {
          "EWS delay diff (as)": 12.1468223537466,
          "KE range (eV)": "04.0–07.2",
          "Photon energy fr (eV)": 14.3,
          "Photon energy to (eV)": 15.9,
          "Polar ang (deg)": 1.14591559026165
         },
         {
          "EWS delay diff (as)": 12.1361499818833,
          "KE range (eV)": "04.0–07.2",
          "Photon energy fr (eV)": 14.3,
          "Photon energy to (eV)": 15.9,
          "Polar ang (deg)": 1.71887338539247
         },
         {
          "EWS delay diff (as)": 12.1212050955167,
          "KE range (eV)": "04.0–07.2",
          "Photon energy fr (eV)": 14.3,
          "Photon energy to (eV)": 15.9,
          "Polar ang (deg)": 2.29183118052329
         },
         {
          "EWS delay diff (as)": 12.1019841500372,
          "KE range (eV)": "04.0–07.2",
          "Photon energy fr (eV)": 14.3,
          "Photon energy to (eV)": 15.9,
          "Polar ang (deg)": 2.86478897565412
         },
         {
          "EWS delay diff (as)": 12.0784826185062,
          "KE range (eV)": "04.0–07.2",
          "Photon energy fr (eV)": 14.3,
          "Photon energy to (eV)": 15.9,
          "Polar ang (deg)": 3.43774677078494
         },
         {
          "EWS delay diff (as)": 12.0506950148288,
          "KE range (eV)": "04.0–07.2",
          "Photon energy fr (eV)": 14.3,
          "Photon energy to (eV)": 15.9,
          "Polar ang (deg)": 4.01070456591576
         },
         {
          "EWS delay diff (as)": 12.0186149224804,
          "KE range (eV)": "04.0–07.2",
          "Photon energy fr (eV)": 14.3,
          "Photon energy to (eV)": 15.9,
          "Polar ang (deg)": 4.58366236104659
         },
         {
          "EWS delay diff (as)": 11.982235029033,
          "KE range (eV)": "04.0–07.2",
          "Photon energy fr (eV)": 14.3,
          "Photon energy to (eV)": 15.9,
          "Polar ang (deg)": 5.15662015617741
         },
         {
          "EWS delay diff (as)": 11.9415471667818,
          "KE range (eV)": "04.0–07.2",
          "Photon energy fr (eV)": 14.3,
          "Photon energy to (eV)": 15.9,
          "Polar ang (deg)": 5.72957795130823
         },
         {
          "EWS delay diff (as)": 11.8965423598172,
          "KE range (eV)": "04.0–07.2",
          "Photon energy fr (eV)": 14.3,
          "Photon energy to (eV)": 15.9,
          "Polar ang (deg)": 6.30253574643906
         },
         {
          "EWS delay diff (as)": 11.8472108779501,
          "KE range (eV)": "04.0–07.2",
          "Photon energy fr (eV)": 14.3,
          "Photon energy to (eV)": 15.9,
          "Polar ang (deg)": 6.87549354156988
         },
         {
          "EWS delay diff (as)": 11.7935422979526,
          "KE range (eV)": "04.0–07.2",
          "Photon energy fr (eV)": 14.3,
          "Photon energy to (eV)": 15.9,
          "Polar ang (deg)": 7.4484513367007
         },
         {
          "EWS delay diff (as)": 11.7355255726379,
          "KE range (eV)": "04.0–07.2",
          "Photon energy fr (eV)": 14.3,
          "Photon energy to (eV)": 15.9,
          "Polar ang (deg)": 8.02140913183153
         },
         {
          "EWS delay diff (as)": 11.6731491083731,
          "KE range (eV)": "04.0–07.2",
          "Photon energy fr (eV)": 14.3,
          "Photon energy to (eV)": 15.9,
          "Polar ang (deg)": 8.59436692696235
         },
         {
          "EWS delay diff (as)": 11.6064008516863,
          "KE range (eV)": "04.0–07.2",
          "Photon energy fr (eV)": 14.3,
          "Photon energy to (eV)": 15.9,
          "Polar ang (deg)": 9.16732472209317
         },
         {
          "EWS delay diff (as)": 11.5352683857111,
          "KE range (eV)": "04.0–07.2",
          "Photon energy fr (eV)": 14.3,
          "Photon energy to (eV)": 15.9,
          "Polar ang (deg)": 9.740282517224
         },
         {
          "EWS delay diff (as)": 11.4597390372891,
          "KE range (eV)": "04.0–07.2",
          "Photon energy fr (eV)": 14.3,
          "Photon energy to (eV)": 15.9,
          "Polar ang (deg)": 10.3132403123548
         },
         {
          "EWS delay diff (as)": 11.3797999956474,
          "KE range (eV)": "04.0–07.2",
          "Photon energy fr (eV)": 14.3,
          "Photon energy to (eV)": 15.9,
          "Polar ang (deg)": 10.8861981074856
         },
         {
          "EWS delay diff (as)": 11.2954384436613,
          "KE range (eV)": "04.0–07.2",
          "Photon energy fr (eV)": 14.3,
          "Photon energy to (eV)": 15.9,
          "Polar ang (deg)": 11.4591559026165
         },
         {
          "EWS delay diff (as)": 11.2066417028227,
          "KE range (eV)": "04.0–07.2",
          "Photon energy fr (eV)": 14.3,
          "Photon energy to (eV)": 15.9,
          "Polar ang (deg)": 12.0321136977473
         },
         {
          "EWS delay diff (as)": 11.1133973931479,
          "KE range (eV)": "04.0–07.2",
          "Photon energy fr (eV)": 14.3,
          "Photon energy to (eV)": 15.9,
          "Polar ang (deg)": 12.6050714928781
         },
         {
          "EWS delay diff (as)": 11.015693609388,
          "KE range (eV)": "04.0–07.2",
          "Photon energy fr (eV)": 14.3,
          "Photon energy to (eV)": 15.9,
          "Polar ang (deg)": 13.1780292880089
         },
         {
          "EWS delay diff (as)": 10.9135191150421,
          "KE range (eV)": "04.0–07.2",
          "Photon energy fr (eV)": 14.3,
          "Photon energy to (eV)": 15.9,
          "Polar ang (deg)": 13.7509870831398
         },
         {
          "EWS delay diff (as)": 10.8068635558264,
          "KE range (eV)": "04.0–07.2",
          "Photon energy fr (eV)": 14.3,
          "Photon energy to (eV)": 15.9,
          "Polar ang (deg)": 14.3239448782706
         },
         {
          "EWS delay diff (as)": 10.695717694416,
          "KE range (eV)": "04.0–07.2",
          "Photon energy fr (eV)": 14.3,
          "Photon energy to (eV)": 15.9,
          "Polar ang (deg)": 14.8969026734014
         },
         {
          "EWS delay diff (as)": 10.5800736684631,
          "KE range (eV)": "04.0–07.2",
          "Photon energy fr (eV)": 14.3,
          "Photon energy to (eV)": 15.9,
          "Polar ang (deg)": 15.4698604685322
         },
         {
          "EWS delay diff (as)": 10.459925274088,
          "KE range (eV)": "04.0–07.2",
          "Photon energy fr (eV)": 14.3,
          "Photon energy to (eV)": 15.9,
          "Polar ang (deg)": 16.0428182636631
         },
         {
          "EWS delay diff (as)": 10.3352682772658,
          "KE range (eV)": "04.0–07.2",
          "Photon energy fr (eV)": 14.3,
          "Photon energy to (eV)": 15.9,
          "Polar ang (deg)": 16.6157760587939
         },
         {
          "EWS delay diff (as)": 10.2061007557668,
          "KE range (eV)": "04.0–07.2",
          "Photon energy fr (eV)": 14.3,
          "Photon energy to (eV)": 15.9,
          "Polar ang (deg)": 17.1887338539247
         },
         {
          "EWS delay diff (as)": 10.0724234745745,
          "KE range (eV)": "04.0–07.2",
          "Photon energy fr (eV)": 14.3,
          "Photon energy to (eV)": 15.9,
          "Polar ang (deg)": 17.7616916490555
         },
         {
          "EWS delay diff (as)": 9.93424029799808,
          "KE range (eV)": "04.0–07.2",
          "Photon energy fr (eV)": 14.3,
          "Photon energy to (eV)": 15.9,
          "Polar ang (deg)": 18.3346494441863
         },
         {
          "EWS delay diff (as)": 9.79155864201181,
          "KE range (eV)": "04.0–07.2",
          "Photon energy fr (eV)": 14.3,
          "Photon energy to (eV)": 15.9,
          "Polar ang (deg)": 18.9076072393172
         },
         {
          "EWS delay diff (as)": 9.64438997070755,
          "KE range (eV)": "04.0–07.2",
          "Photon energy fr (eV)": 14.3,
          "Photon energy to (eV)": 15.9,
          "Polar ang (deg)": 19.480565034448
         },
         {
          "EWS delay diff (as)": 9.49275034113312,
          "KE range (eV)": "04.0–07.2",
          "Photon energy fr (eV)": 14.3,
          "Photon energy to (eV)": 15.9,
          "Polar ang (deg)": 20.0535228295788
         },
         {
          "EWS delay diff (as)": 9.33666100121344,
          "KE range (eV)": "04.0–07.2",
          "Photon energy fr (eV)": 14.3,
          "Photon energy to (eV)": 15.9,
          "Polar ang (deg)": 20.6264806247096
         },
         {
          "EWS delay diff (as)": 9.17614904592096,
          "KE range (eV)": "04.0–07.2",
          "Photon energy fr (eV)": 14.3,
          "Photon energy to (eV)": 15.9,
          "Polar ang (deg)": 21.1994384198405
         },
         {
          "EWS delay diff (as)": 9.01124813737644,
          "KE range (eV)": "04.0–07.2",
          "Photon energy fr (eV)": 14.3,
          "Photon energy to (eV)": 15.9,
          "Polar ang (deg)": 21.7723962149713
         },
         {
          "EWS delay diff (as)": 8.84199929512861,
          "KE range (eV)": "04.0–07.2",
          "Photon energy fr (eV)": 14.3,
          "Photon energy to (eV)": 15.9,
          "Polar ang (deg)": 22.3453540101021
         },
         {
          "EWS delay diff (as)": 8.66845176348716,
          "KE range (eV)": "04.0–07.2",
          "Photon energy fr (eV)": 14.3,
          "Photon energy to (eV)": 15.9,
          "Polar ang (deg)": 22.9183118052329
         },
         {
          "EWS delay diff (as)": 8.49066396346876,
          "KE range (eV)": "04.0–07.2",
          "Photon energy fr (eV)": 14.3,
          "Photon energy to (eV)": 15.9,
          "Polar ang (deg)": 23.4912696003638
         },
         {
          "EWS delay diff (as)": 8.3087045376769,
          "KE range (eV)": "04.0–07.2",
          "Photon energy fr (eV)": 14.3,
          "Photon energy to (eV)": 15.9,
          "Polar ang (deg)": 24.0642273954946
         },
         {
          "EWS delay diff (as)": 8.1226534972646,
          "KE range (eV)": "04.0–07.2",
          "Photon energy fr (eV)": 14.3,
          "Photon energy to (eV)": 15.9,
          "Polar ang (deg)": 24.6371851906254
         },
         {
          "EWS delay diff (as)": 7.93260348105246,
          "KE range (eV)": "04.0–07.2",
          "Photon energy fr (eV)": 14.3,
          "Photon energy to (eV)": 15.9,
          "Polar ang (deg)": 25.2101429857562
         },
         {
          "EWS delay diff (as)": 7.73866113787686,
          "KE range (eV)": "04.0–07.2",
          "Photon energy fr (eV)": 14.3,
          "Photon energy to (eV)": 15.9,
          "Polar ang (deg)": 25.783100780887
         },
         {
          "EWS delay diff (as)": 7.54094864435931,
          "KE range (eV)": "04.0–07.2",
          "Photon energy fr (eV)": 14.3,
          "Photon energy to (eV)": 15.9,
          "Polar ang (deg)": 26.3560585760179
         },
         {
          "EWS delay diff (as)": 7.33960537150333,
          "KE range (eV)": "04.0–07.2",
          "Photon energy fr (eV)": 14.3,
          "Photon energy to (eV)": 15.9,
          "Polar ang (deg)": 26.9290163711487
         },
         {
          "EWS delay diff (as)": 7.13478971486861,
          "KE range (eV)": "04.0–07.2",
          "Photon energy fr (eV)": 14.3,
          "Photon energy to (eV)": 15.9,
          "Polar ang (deg)": 27.5019741662795
         },
         {
          "EWS delay diff (as)": 6.92668110454342,
          "KE range (eV)": "04.0–07.2",
          "Photon energy fr (eV)": 14.3,
          "Photon energy to (eV)": 15.9,
          "Polar ang (deg)": 28.0749319614103
         },
         {
          "EWS delay diff (as)": 6.71548221275095,
          "KE range (eV)": "04.0–07.2",
          "Photon energy fr (eV)": 14.3,
          "Photon energy to (eV)": 15.9,
          "Polar ang (deg)": 28.6478897565412
         },
         {
          "EWS delay diff (as)": 6.50142137869664,
          "KE range (eV)": "04.0–07.2",
          "Photon energy fr (eV)": 14.3,
          "Photon energy to (eV)": 15.9,
          "Polar ang (deg)": 29.220847551672
         },
         {
          "EWS delay diff (as)": 6.28475527220163,
          "KE range (eV)": "04.0–07.2",
          "Photon energy fr (eV)": 14.3,
          "Photon energy to (eV)": 15.9,
          "Polar ang (deg)": 29.7938053468028
         },
         {
          "EWS delay diff (as)": 6.06577181978785,
          "KE range (eV)": "04.0–07.2",
          "Photon energy fr (eV)": 14.3,
          "Photon energy to (eV)": 15.9,
          "Polar ang (deg)": 30.3667631419336
         },
         {
          "EWS delay diff (as)": 5.84479341919397,
          "KE range (eV)": "04.0–07.2",
          "Photon energy fr (eV)": 14.3,
          "Photon energy to (eV)": 15.9,
          "Polar ang (deg)": 30.9397209370645
         },
         {
          "EWS delay diff (as)": 5.62218047082544,
          "KE range (eV)": "04.0–07.2",
          "Photon energy fr (eV)": 14.3,
          "Photon energy to (eV)": 15.9,
          "Polar ang (deg)": 31.5126787321953
         },
         {
          "EWS delay diff (as)": 5.39833525738576,
          "KE range (eV)": "04.0–07.2",
          "Photon energy fr (eV)": 14.3,
          "Photon energy to (eV)": 15.9,
          "Polar ang (deg)": 32.0856365273261
         },
         {
          "EWS delay diff (as)": 5.1737062059104,
          "KE range (eV)": "04.0–07.2",
          "Photon energy fr (eV)": 14.3,
          "Photon energy to (eV)": 15.9,
          "Polar ang (deg)": 32.6585943224569
         },
         {
          "EWS delay diff (as)": 4.94879256964864,
          "KE range (eV)": "04.0–07.2",
          "Photon energy fr (eV)": 14.3,
          "Photon energy to (eV)": 15.9,
          "Polar ang (deg)": 33.2315521175877
         },
         {
          "EWS delay diff (as)": 4.72414957070522,
          "KE range (eV)": "04.0–07.2",
          "Photon energy fr (eV)": 14.3,
          "Photon energy to (eV)": 15.9,
          "Polar ang (deg)": 33.8045099127186
         },
         {
          "EWS delay diff (as)": 4.5003940480827,
          "KE range (eV)": "04.0–07.2",
          "Photon energy fr (eV)": 14.3,
          "Photon energy to (eV)": 15.9,
          "Polar ang (deg)": 34.3774677078494
         },
         {
          "EWS delay diff (as)": 4.27821065974124,
          "KE range (eV)": "04.0–07.2",
          "Photon energy fr (eV)": 14.3,
          "Photon energy to (eV)": 15.9,
          "Polar ang (deg)": 34.9504255029802
         },
         {
          "EWS delay diff (as)": 4.0583586915188,
          "KE range (eV)": "04.0–07.2",
          "Photon energy fr (eV)": 14.3,
          "Photon energy to (eV)": 15.9,
          "Polar ang (deg)": 35.523383298111
         },
         {
          "EWS delay diff (as)": 3.8416795302034,
          "KE range (eV)": "04.0–07.2",
          "Photon energy fr (eV)": 14.3,
          "Photon energy to (eV)": 15.9,
          "Polar ang (deg)": 36.0963410932419
         },
         {
          "EWS delay diff (as)": 3.62910486269546,
          "KE range (eV)": "04.0–07.2",
          "Photon energy fr (eV)": 14.3,
          "Photon energy to (eV)": 15.9,
          "Polar ang (deg)": 36.6692988883727
         },
         {
          "EWS delay diff (as)": 3.42166566799038,
          "KE range (eV)": "04.0–07.2",
          "Photon energy fr (eV)": 14.3,
          "Photon energy to (eV)": 15.9,
          "Polar ang (deg)": 37.2422566835035
         },
         {
          "EWS delay diff (as)": 3.22050207357985,
          "KE range (eV)": "04.0–07.2",
          "Photon energy fr (eV)": 14.3,
          "Photon energy to (eV)": 15.9,
          "Polar ang (deg)": 37.8152144786343
         },
         {
          "EWS delay diff (as)": 3.0268741527181,
          "KE range (eV)": "04.0–07.2",
          "Photon energy fr (eV)": 14.3,
          "Photon energy to (eV)": 15.9,
          "Polar ang (deg)": 38.3881722737652
         },
         {
          "EWS delay diff (as)": 2.84217374368562,
          "KE range (eV)": "04.0–07.2",
          "Photon energy fr (eV)": 14.3,
          "Photon energy to (eV)": 15.9,
          "Polar ang (deg)": 38.961130068896
         },
         {
          "EWS delay diff (as)": 2.66793737653256,
          "KE range (eV)": "04.0–07.2",
          "Photon energy fr (eV)": 14.3,
          "Photon energy to (eV)": 15.9,
          "Polar ang (deg)": 39.5340878640268
         },
         {
          "EWS delay diff (as)": 2.50586039654713,
          "KE range (eV)": "04.0–07.2",
          "Photon energy fr (eV)": 14.3,
          "Photon energy to (eV)": 15.9,
          "Polar ang (deg)": 40.1070456591576
         },
         {
          "EWS delay diff (as)": 2.35781237656094,
          "KE range (eV)": "04.0–07.2",
          "Photon energy fr (eV)": 14.3,
          "Photon energy to (eV)": 15.9,
          "Polar ang (deg)": 40.6800034542884
         },
         {
          "EWS delay diff (as)": 2.2258539117592,
          "KE range (eV)": "04.0–07.2",
          "Photon energy fr (eV)": 14.3,
          "Photon energy to (eV)": 15.9,
          "Polar ang (deg)": 41.2529612494193
         },
         {
          "EWS delay diff (as)": 2.11225489037925,
          "KE range (eV)": "04.0–07.2",
          "Photon energy fr (eV)": 14.3,
          "Photon energy to (eV)": 15.9,
          "Polar ang (deg)": 41.8259190445501
         },
         {
          "EWS delay diff (as)": 2.01951433087591,
          "KE range (eV)": "04.0–07.2",
          "Photon energy fr (eV)": 14.3,
          "Photon energy to (eV)": 15.9,
          "Polar ang (deg)": 42.3988768396809
         },
         {
          "EWS delay diff (as)": 1.9503818699641,
          "KE range (eV)": "04.0–07.2",
          "Photon energy fr (eV)": 14.3,
          "Photon energy to (eV)": 15.9,
          "Polar ang (deg)": 42.9718346348117
         },
         {
          "EWS delay diff (as)": 1.90788097530176,
          "KE range (eV)": "04.0–07.2",
          "Photon energy fr (eV)": 14.3,
          "Photon energy to (eV)": 15.9,
          "Polar ang (deg)": 43.5447924299426
         },
         {
          "EWS delay diff (as)": 1.89533394012198,
          "KE range (eV)": "04.0–07.2",
          "Photon energy fr (eV)": 14.3,
          "Photon energy to (eV)": 15.9,
          "Polar ang (deg)": 44.1177502250734
         },
         {
          "EWS delay diff (as)": 1.91638869313671,
          "KE range (eV)": "04.0–07.2",
          "Photon energy fr (eV)": 14.3,
          "Photon energy to (eV)": 15.9,
          "Polar ang (deg)": 44.6907080202042
         },
         {
          "EWS delay diff (as)": 1.97504742342025,
          "KE range (eV)": "04.0–07.2",
          "Photon energy fr (eV)": 14.3,
          "Photon energy to (eV)": 15.9,
          "Polar ang (deg)": 45.263665815335
         },
         {
          "EWS delay diff (as)": 2.07569697413257,
          "KE range (eV)": "04.0–07.2",
          "Photon energy fr (eV)": 14.3,
          "Photon energy to (eV)": 15.9,
          "Polar ang (deg)": 45.8366236104659
         },
         {
          "EWS delay diff (as)": 2.22314089768633,
          "KE range (eV)": "04.0–07.2",
          "Photon energy fr (eV)": 14.3,
          "Photon energy to (eV)": 15.9,
          "Polar ang (deg)": 46.4095814055967
         },
         {
          "EWS delay diff (as)": 2.42263298443679,
          "KE range (eV)": "04.0–07.2",
          "Photon energy fr (eV)": 14.3,
          "Photon energy to (eV)": 15.9,
          "Polar ang (deg)": 46.9825392007275
         },
         {
          "EWS delay diff (as)": 2.67991197253115,
          "KE range (eV)": "04.0–07.2",
          "Photon energy fr (eV)": 14.3,
          "Photon energy to (eV)": 15.9,
          "Polar ang (deg)": 47.5554969958583
         },
         {
          "EWS delay diff (as)": 3.00123701271693,
          "KE range (eV)": "04.0–07.2",
          "Photon energy fr (eV)": 14.3,
          "Photon energy to (eV)": 15.9,
          "Polar ang (deg)": 48.1284547909891
         },
         {
          "EWS delay diff (as)": 3.39342329219189,
          "KE range (eV)": "04.0–07.2",
          "Photon energy fr (eV)": 14.3,
          "Photon energy to (eV)": 15.9,
          "Polar ang (deg)": 48.70141258612
         },
         {
          "EWS delay diff (as)": 3.86387700862784,
          "KE range (eV)": "04.0–07.2",
          "Photon energy fr (eV)": 14.3,
          "Photon energy to (eV)": 15.9,
          "Polar ang (deg)": 49.2743703812508
         },
         {
          "EWS delay diff (as)": 4.42062862100051,
          "KE range (eV)": "04.0–07.2",
          "Photon energy fr (eV)": 14.3,
          "Photon energy to (eV)": 15.9,
          "Polar ang (deg)": 49.8473281763816
         },
         {
          "EWS delay diff (as)": 5.07236297888603,
          "KE range (eV)": "04.0–07.2",
          "Photon energy fr (eV)": 14.3,
          "Photon energy to (eV)": 15.9,
          "Polar ang (deg)": 50.4202859715125
         },
         {
          "EWS delay diff (as)": 5.82844453725279,
          "KE range (eV)": "04.0–07.2",
          "Photon energy fr (eV)": 14.3,
          "Photon energy to (eV)": 15.9,
          "Polar ang (deg)": 50.9932437666433
         },
         {
          "EWS delay diff (as)": 6.6989353908935,
          "KE range (eV)": "04.0–07.2",
          "Photon energy fr (eV)": 14.3,
          "Photon energy to (eV)": 15.9,
          "Polar ang (deg)": 51.5662015617741
         },
         {
          "EWS delay diff (as)": 7.69460330471566,
          "KE range (eV)": "04.0–07.2",
          "Photon energy fr (eV)": 14.3,
          "Photon energy to (eV)": 15.9,
          "Polar ang (deg)": 52.1391593569049
         },
         {
          "EWS delay diff (as)": 8.82691627019616,
          "KE range (eV)": "04.0–07.2",
          "Photon energy fr (eV)": 14.3,
          "Photon energy to (eV)": 15.9,
          "Polar ang (deg)": 52.7121171520357
         },
         {
          "EWS delay diff (as)": 10.1080193881168,
          "KE range (eV)": "04.0–07.2",
          "Photon energy fr (eV)": 14.3,
          "Photon energy to (eV)": 15.9,
          "Polar ang (deg)": 53.2850749471666
         },
         {
          "EWS delay diff (as)": 11.5506890777418,
          "KE range (eV)": "04.0–07.2",
          "Photon energy fr (eV)": 14.3,
          "Photon energy to (eV)": 15.9,
          "Polar ang (deg)": 53.8580327422974
         },
         {
          "EWS delay diff (as)": 13.168258773626,
          "KE range (eV)": "04.0–07.2",
          "Photon energy fr (eV)": 14.3,
          "Photon energy to (eV)": 15.9,
          "Polar ang (deg)": 54.4309905374282
         },
         {
          "EWS delay diff (as)": 14.9745094473886,
          "KE range (eV)": "04.0–07.2",
          "Photon energy fr (eV)": 14.3,
          "Photon energy to (eV)": 15.9,
          "Polar ang (deg)": 55.003948332559
         },
         {
          "EWS delay diff (as)": 16.9835175690614,
          "KE range (eV)": "04.0–07.2",
          "Photon energy fr (eV)": 14.3,
          "Photon energy to (eV)": 15.9,
          "Polar ang (deg)": 55.5769061276899
         },
         {
          "EWS delay diff (as)": 19.2094526285085,
          "KE range (eV)": "04.0–07.2",
          "Photon energy fr (eV)": 14.3,
          "Photon energy to (eV)": 15.9,
          "Polar ang (deg)": 56.1498639228207
         },
         {
          "EWS delay diff (as)": 21.6663162498947,
          "KE range (eV)": "04.0–07.2",
          "Photon energy fr (eV)": 14.3,
          "Photon energy to (eV)": 15.9,
          "Polar ang (deg)": 56.7228217179515
         },
         {
          "EWS delay diff (as)": 24.367615485923,
          "KE range (eV)": "04.0–07.2",
          "Photon energy fr (eV)": 14.3,
          "Photon energy to (eV)": 15.9,
          "Polar ang (deg)": 57.2957795130823
         },
         {
          "EWS delay diff (as)": 27.3259643639807,
          "KE range (eV)": "04.0–07.2",
          "Photon energy fr (eV)": 14.3,
          "Photon energy to (eV)": 15.9,
          "Polar ang (deg)": 57.8687373082132
         },
         {
          "EWS delay diff (as)": 30.5526105053522,
          "KE range (eV)": "04.0–07.2",
          "Photon energy fr (eV)": 14.3,
          "Photon energy to (eV)": 15.9,
          "Polar ang (deg)": 58.441695103344
         },
         {
          "EWS delay diff (as)": 34.0568879896886,
          "KE range (eV)": "04.0–07.2",
          "Photon energy fr (eV)": 14.3,
          "Photon energy to (eV)": 15.9,
          "Polar ang (deg)": 59.0146528984748
         },
         {
          "EWS delay diff (as)": 37.8456038704052,
          "KE range (eV)": "04.0–07.2",
          "Photon energy fr (eV)": 14.3,
          "Photon energy to (eV)": 15.9,
          "Polar ang (deg)": 59.5876106936056
         },
         {
          "EWS delay diff (as)": 41.9223739857953,
          "KE range (eV)": "04.0–07.2",
          "Photon energy fr (eV)": 14.3,
          "Photon energy to (eV)": 15.9,
          "Polar ang (deg)": 60.1605684887364
         },
         {
          "EWS delay diff (as)": 46.286933788191,
          "KE range (eV)": "04.0–07.2",
          "Photon energy fr (eV)": 14.3,
          "Photon energy to (eV)": 15.9,
          "Polar ang (deg)": 60.7335262838673
         },
         {
          "EWS delay diff (as)": 50.9344612209444,
          "KE range (eV)": "04.0–07.2",
          "Photon energy fr (eV)": 14.3,
          "Photon energy to (eV)": 15.9,
          "Polar ang (deg)": 61.3064840789981
         },
         {
          "EWS delay diff (as)": 55.8549600280339,
          "KE range (eV)": "04.0–07.2",
          "Photon energy fr (eV)": 14.3,
          "Photon energy to (eV)": 15.9,
          "Polar ang (deg)": 61.8794418741289
         },
         {
          "EWS delay diff (as)": 61.0327614743519,
          "KE range (eV)": "04.0–07.2",
          "Photon energy fr (eV)": 14.3,
          "Photon energy to (eV)": 15.9,
          "Polar ang (deg)": 62.4523996692597
         },
         {
          "EWS delay diff (as)": 66.4462079522617,
          "KE range (eV)": "04.0–07.2",
          "Photon energy fr (eV)": 14.3,
          "Photon energy to (eV)": 15.9,
          "Polar ang (deg)": 63.0253574643906
         },
         {
          "EWS delay diff (as)": 72.0675808211422,
          "KE range (eV)": "04.0–07.2",
          "Photon energy fr (eV)": 14.3,
          "Photon energy to (eV)": 15.9,
          "Polar ang (deg)": 63.5983152595214
         },
         {
          "EWS delay diff (as)": 77.8633249174903,
          "KE range (eV)": "04.0–07.2",
          "Photon energy fr (eV)": 14.3,
          "Photon energy to (eV)": 15.9,
          "Polar ang (deg)": 64.1712730546522
         },
         {
          "EWS delay diff (as)": 83.7946024515989,
          "KE range (eV)": "04.0–07.2",
          "Photon energy fr (eV)": 14.3,
          "Photon energy to (eV)": 15.9,
          "Polar ang (deg)": 64.744230849783
         },
         {
          "EWS delay diff (as)": 89.8181802819096,
          "KE range (eV)": "04.0–07.2",
          "Photon energy fr (eV)": 14.3,
          "Photon energy to (eV)": 15.9,
          "Polar ang (deg)": 65.3171886449139
         },
         {
          "EWS delay diff (as)": 95.8876198840828,
          "KE range (eV)": "04.0–07.2",
          "Photon energy fr (eV)": 14.3,
          "Photon energy to (eV)": 15.9,
          "Polar ang (deg)": 65.8901464400447
         },
         {
          "EWS delay diff (as)": 101.954703812919,
          "KE range (eV)": "04.0–07.2",
          "Photon energy fr (eV)": 14.3,
          "Photon energy to (eV)": 15.9,
          "Polar ang (deg)": 66.4631042351755
         },
         {
          "EWS delay diff (as)": 107.971002326357,
          "KE range (eV)": "04.0–07.2",
          "Photon energy fr (eV)": 14.3,
          "Photon energy to (eV)": 15.9,
          "Polar ang (deg)": 67.0360620303063
         },
         {
          "EWS delay diff (as)": 113.889464979689,
          "KE range (eV)": "04.0–07.2",
          "Photon energy fr (eV)": 14.3,
          "Photon energy to (eV)": 15.9,
          "Polar ang (deg)": 67.6090198254371
         },
         {
          "EWS delay diff (as)": 119.665918316709,
          "KE range (eV)": "04.0–07.2",
          "Photon energy fr (eV)": 14.3,
          "Photon energy to (eV)": 15.9,
          "Polar ang (deg)": 68.181977620568
         },
         {
          "EWS delay diff (as)": 125.260363077694,
          "KE range (eV)": "04.0–07.2",
          "Photon energy fr (eV)": 14.3,
          "Photon energy to (eV)": 15.9,
          "Polar ang (deg)": 68.7549354156988
         },
         {
          "EWS delay diff (as)": 130.637990048529,
          "KE range (eV)": "04.0–07.2",
          "Photon energy fr (eV)": 14.3,
          "Photon energy to (eV)": 15.9,
          "Polar ang (deg)": 69.3278932108296
         },
         {
          "EWS delay diff (as)": 135.769867634904,
          "KE range (eV)": "04.0–07.2",
          "Photon energy fr (eV)": 14.3,
          "Photon energy to (eV)": 15.9,
          "Polar ang (deg)": 69.9008510059604
         },
         {
          "EWS delay diff (as)": 140.633290178599,
          "KE range (eV)": "04.0–07.2",
          "Photon energy fr (eV)": 14.3,
          "Photon energy to (eV)": 15.9,
          "Polar ang (deg)": 70.4738088010913
         },
         {
          "EWS delay diff (as)": 145.2118081456,
          "KE range (eV)": "04.0–07.2",
          "Photon energy fr (eV)": 14.3,
          "Photon energy to (eV)": 15.9,
          "Polar ang (deg)": 71.0467665962221
         },
         {
          "EWS delay diff (as)": 149.494985526093,
          "KE range (eV)": "04.0–07.2",
          "Photon energy fr (eV)": 14.3,
          "Photon energy to (eV)": 15.9,
          "Polar ang (deg)": 71.6197243913529
         },
         {
          "EWS delay diff (as)": 153.477944256718,
          "KE range (eV)": "04.0–07.2",
          "Photon energy fr (eV)": 14.3,
          "Photon energy to (eV)": 15.9,
          "Polar ang (deg)": 72.1926821864837
         },
         {
          "EWS delay diff (as)": 157.160760458785,
          "KE range (eV)": "04.0–07.2",
          "Photon energy fr (eV)": 14.3,
          "Photon energy to (eV)": 15.9,
          "Polar ang (deg)": 72.7656399816146
         },
         {
          "EWS delay diff (as)": 160.547774514326,
          "KE range (eV)": "04.0–07.2",
          "Photon energy fr (eV)": 14.3,
          "Photon energy to (eV)": 15.9,
          "Polar ang (deg)": 73.3385977767454
         },
         {
          "EWS delay diff (as)": 163.646868920739,
          "KE range (eV)": "04.0–07.2",
          "Photon energy fr (eV)": 14.3,
          "Photon energy to (eV)": 15.9,
          "Polar ang (deg)": 73.9115555718762
         },
         {
          "EWS delay diff (as)": 166.468756963224,
          "KE range (eV)": "04.0–07.2",
          "Photon energy fr (eV)": 14.3,
          "Photon energy to (eV)": 15.9,
          "Polar ang (deg)": 74.484513367007
         },
         {
          "EWS delay diff (as)": 169.026313608823,
          "KE range (eV)": "04.0–07.2",
          "Photon energy fr (eV)": 14.3,
          "Photon energy to (eV)": 15.9,
          "Polar ang (deg)": 75.0574711621378
         },
         {
          "EWS delay diff (as)": 171.333969139924,
          "KE range (eV)": "04.0–07.2",
          "Photon energy fr (eV)": 14.3,
          "Photon energy to (eV)": 15.9,
          "Polar ang (deg)": 75.6304289572687
         },
         {
          "EWS delay diff (as)": 173.407176777897,
          "KE range (eV)": "04.0–07.2",
          "Photon energy fr (eV)": 14.3,
          "Photon energy to (eV)": 15.9,
          "Polar ang (deg)": 76.2033867523995
         },
         {
          "EWS delay diff (as)": 175.261958259126,
          "KE range (eV)": "04.0–07.2",
          "Photon energy fr (eV)": 14.3,
          "Photon energy to (eV)": 15.9,
          "Polar ang (deg)": 76.7763445475303
         },
         {
          "EWS delay diff (as)": 176.914526014612,
          "KE range (eV)": "04.0–07.2",
          "Photon energy fr (eV)": 14.3,
          "Photon energy to (eV)": 15.9,
          "Polar ang (deg)": 77.3493023426612
         },
         {
          "EWS delay diff (as)": 178.380977051832,
          "KE range (eV)": "04.0–07.2",
          "Photon energy fr (eV)": 14.3,
          "Photon energy to (eV)": 15.9,
          "Polar ang (deg)": 77.922260137792
         },
         {
          "EWS delay diff (as)": 179.677051524426,
          "KE range (eV)": "04.0–07.2",
          "Photon energy fr (eV)": 14.3,
          "Photon energy to (eV)": 15.9,
          "Polar ang (deg)": 78.4952179329228
         },
         {
          "EWS delay diff (as)": 180.81794796101,
          "KE range (eV)": "04.0–07.2",
          "Photon energy fr (eV)": 14.3,
          "Photon energy to (eV)": 15.9,
          "Polar ang (deg)": 79.0681757280536
         },
         {
          "EWS delay diff (as)": 181.818186896424,
          "KE range (eV)": "04.0–07.2",
          "Photon energy fr (eV)": 14.3,
          "Photon energy to (eV)": 15.9,
          "Polar ang (deg)": 79.6411335231844
         },
         {
          "EWS delay diff (as)": 182.691514944436,
          "KE range (eV)": "04.0–07.2",
          "Photon energy fr (eV)": 14.3,
          "Photon energy to (eV)": 15.9,
          "Polar ang (deg)": 80.2140913183153
         },
         {
          "EWS delay diff (as)": 183.450841964852,
          "KE range (eV)": "04.0–07.2",
          "Photon energy fr (eV)": 14.3,
          "Photon energy to (eV)": 15.9,
          "Polar ang (deg)": 80.7870491134461
         },
         {
          "EWS delay diff (as)": 184.108204758308,
          "KE range (eV)": "04.0–07.2",
          "Photon energy fr (eV)": 14.3,
          "Photon energy to (eV)": 15.9,
          "Polar ang (deg)": 81.3600069085769
         },
         {
          "EWS delay diff (as)": 184.674751562423,
          "KE range (eV)": "04.0–07.2",
          "Photon energy fr (eV)": 14.3,
          "Photon energy to (eV)": 15.9,
          "Polar ang (deg)": 81.9329647037077
         },
         {
          "EWS delay diff (as)": 185.160742453722,
          "KE range (eV)": "04.0–07.2",
          "Photon energy fr (eV)": 14.3,
          "Photon energy to (eV)": 15.9,
          "Polar ang (deg)": 82.5059224988385
         },
         {
          "EWS delay diff (as)": 185.575561537952,
          "KE range (eV)": "04.0–07.2",
          "Photon energy fr (eV)": 14.3,
          "Photon energy to (eV)": 15.9,
          "Polar ang (deg)": 83.0788802939694
         },
         {
          "EWS delay diff (as)": 185.927737514259,
          "KE range (eV)": "04.0–07.2",
          "Photon energy fr (eV)": 14.3,
          "Photon energy to (eV)": 15.9,
          "Polar ang (deg)": 83.6518380891002
         },
         {
          "EWS delay diff (as)": 186.224969816297,
          "KE range (eV)": "04.0–07.2",
          "Photon energy fr (eV)": 14.3,
          "Photon energy to (eV)": 15.9,
          "Polar ang (deg)": 84.224795884231
         },
         {
          "EWS delay diff (as)": 186.474158064834,
          "KE range (eV)": "04.0–07.2",
          "Photon energy fr (eV)": 14.3,
          "Photon energy to (eV)": 15.9,
          "Polar ang (deg)": 84.7977536793618
         },
         {
          "EWS delay diff (as)": 186.681433016012,
          "KE range (eV)": "04.0–07.2",
          "Photon energy fr (eV)": 14.3,
          "Photon energy to (eV)": 15.9,
          "Polar ang (deg)": 85.3707114744927
         },
         {
          "EWS delay diff (as)": 186.852187564435,
          "KE range (eV)": "04.0–07.2",
          "Photon energy fr (eV)": 14.3,
          "Photon energy to (eV)": 15.9,
          "Polar ang (deg)": 85.9436692696235
         },
         {
          "EWS delay diff (as)": 186.991106669174,
          "KE range (eV)": "04.0–07.2",
          "Photon energy fr (eV)": 14.3,
          "Photon energy to (eV)": 15.9,
          "Polar ang (deg)": 86.5166270647543
         },
         {
          "EWS delay diff (as)": 187.10219532261,
          "KE range (eV)": "04.0–07.2",
          "Photon energy fr (eV)": 14.3,
          "Photon energy to (eV)": 15.9,
          "Polar ang (deg)": 87.0895848598851
         },
         {
          "EWS delay diff (as)": 187.188803885299,
          "KE range (eV)": "04.0–07.2",
          "Photon energy fr (eV)": 14.3,
          "Photon energy to (eV)": 15.9,
          "Polar ang (deg)": 87.6625426550159
         },
         {
          "EWS delay diff (as)": 187.253650272919,
          "KE range (eV)": "04.0–07.2",
          "Photon energy fr (eV)": 14.3,
          "Photon energy to (eV)": 15.9,
          "Polar ang (deg)": 88.2355004501468
         },
         {
          "EWS delay diff (as)": 187.298838610972,
          "KE range (eV)": "04.0–07.2",
          "Photon energy fr (eV)": 14.3,
          "Photon energy to (eV)": 15.9,
          "Polar ang (deg)": 88.8084582452776
         },
         {
          "EWS delay diff (as)": 187.325874075998,
          "KE range (eV)": "04.0–07.2",
          "Photon energy fr (eV)": 14.3,
          "Photon energy to (eV)": 15.9,
          "Polar ang (deg)": 89.3814160404084
         },
         {
          "EWS delay diff (as)": 187.335673724265,
          "KE range (eV)": "04.0–07.2",
          "Photon energy fr (eV)": 14.3,
          "Photon energy to (eV)": 15.9,
          "Polar ang (deg)": 89.9543738355393
         },
         {
          "EWS delay diff (as)": 187.328573175584,
          "KE range (eV)": "04.0–07.2",
          "Photon energy fr (eV)": 14.3,
          "Photon energy to (eV)": 15.9,
          "Polar ang (deg)": 90.5273316306701
         },
         {
          "EWS delay diff (as)": 187.30432907568,
          "KE range (eV)": "04.0–07.2",
          "Photon energy fr (eV)": 14.3,
          "Photon energy to (eV)": 15.9,
          "Polar ang (deg)": 91.1002894258009
         },
         {
          "EWS delay diff (as)": 187.262117309885,
          "KE range (eV)": "04.0–07.2",
          "Photon energy fr (eV)": 14.3,
          "Photon energy to (eV)": 15.9,
          "Polar ang (deg)": 91.6732472209317
         },
         {
          "EWS delay diff (as)": 187.200526987862,
          "KE range (eV)": "04.0–07.2",
          "Photon energy fr (eV)": 14.3,
          "Photon energy to (eV)": 15.9,
          "Polar ang (deg)": 92.2462050160626
         },
         {
          "EWS delay diff (as)": 187.117550267736,
          "KE range (eV)": "04.0–07.2",
          "Photon energy fr (eV)": 14.3,
          "Photon energy to (eV)": 15.9,
          "Polar ang (deg)": 92.8191628111934
         },
         {
          "EWS delay diff (as)": 187.010568142497,
          "KE range (eV)": "04.0–07.2",
          "Photon energy fr (eV)": 14.3,
          "Photon energy to (eV)": 15.9,
          "Polar ang (deg)": 93.3921206063242
         },
         {
          "EWS delay diff (as)": 186.876332376166,
          "KE range (eV)": "04.0–07.2",
          "Photon energy fr (eV)": 14.3,
          "Photon energy to (eV)": 15.9,
          "Polar ang (deg)": 93.965078401455
         },
         {
          "EWS delay diff (as)": 186.710943856645,
          "KE range (eV)": "04.0–07.2",
          "Photon energy fr (eV)": 14.3,
          "Photon energy to (eV)": 15.9,
          "Polar ang (deg)": 94.5380361965858
         },
         {
          "EWS delay diff (as)": 186.509827731501,
          "KE range (eV)": "04.0–07.2",
          "Photon energy fr (eV)": 14.3,
          "Photon energy to (eV)": 15.9,
          "Polar ang (deg)": 95.1109939917167
         },
         {
          "EWS delay diff (as)": 186.267705817972,
          "KE range (eV)": "04.0–07.2",
          "Photon energy fr (eV)": 14.3,
          "Photon energy to (eV)": 15.9,
          "Polar ang (deg)": 95.6839517868475
         },
         {
          "EWS delay diff (as)": 185.978566935539,
          "KE range (eV)": "04.0–07.2",
          "Photon energy fr (eV)": 14.3,
          "Photon energy to (eV)": 15.9,
          "Polar ang (deg)": 96.2569095819783
         },
         {
          "EWS delay diff (as)": 185.635636005754,
          "KE range (eV)": "04.0–07.2",
          "Photon energy fr (eV)": 14.3,
          "Photon energy to (eV)": 15.9,
          "Polar ang (deg)": 96.8298673771091
         },
         {
          "EWS delay diff (as)": 185.231343007509,
          "KE range (eV)": "04.0–07.2",
          "Photon energy fr (eV)": 14.3,
          "Photon energy to (eV)": 15.9,
          "Polar ang (deg)": 97.40282517224
         },
         {
          "EWS delay diff (as)": 184.75729317521,
          "KE range (eV)": "04.0–07.2",
          "Photon energy fr (eV)": 14.3,
          "Photon energy to (eV)": 15.9,
          "Polar ang (deg)": 97.9757829673708
         },
         {
          "EWS delay diff (as)": 184.20424019116,
          "KE range (eV)": "04.0–07.2",
          "Photon energy fr (eV)": 14.3,
          "Photon energy to (eV)": 15.9,
          "Polar ang (deg)": 98.5487407625016
         },
         {
          "EWS delay diff (as)": 183.562064560678,
          "KE range (eV)": "04.0–07.2",
          "Photon energy fr (eV)": 14.3,
          "Photon energy to (eV)": 15.9,
          "Polar ang (deg)": 99.1216985576324
         },
         {
          "EWS delay diff (as)": 182.819759876531,
          "KE range (eV)": "04.0–07.2",
          "Photon energy fr (eV)": 14.3,
          "Photon energy to (eV)": 15.9,
          "Polar ang (deg)": 99.6946563527632
         },
         {
          "EWS delay diff (as)": 181.965430283028,
          "KE range (eV)": "04.0–07.2",
          "Photon energy fr (eV)": 14.3,
          "Photon energy to (eV)": 15.9,
          "Polar ang (deg)": 100.267614147894
         },
         {
          "EWS delay diff (as)": 180.986303139782,
          "KE range (eV)": "04.0–07.2",
          "Photon energy fr (eV)": 14.3,
          "Photon energy to (eV)": 15.9,
          "Polar ang (deg)": 100.840571943025
         },
         {
          "EWS delay diff (as)": 179.868761652494,
          "KE range (eV)": "04.0–07.2",
          "Photon energy fr (eV)": 14.3,
          "Photon energy to (eV)": 15.9,
          "Polar ang (deg)": 101.413529738156
         },
         {
          "EWS delay diff (as)": 178.598403062719,
          "KE range (eV)": "04.0–07.2",
          "Photon energy fr (eV)": 14.3,
          "Photon energy to (eV)": 15.9,
          "Polar ang (deg)": 101.986487533287
         },
         {
          "EWS delay diff (as)": 177.160128831344,
          "KE range (eV)": "04.0–07.2",
          "Photon energy fr (eV)": 14.3,
          "Photon energy to (eV)": 15.9,
          "Polar ang (deg)": 102.559445328417
         },
         {
          "EWS delay diff (as)": 175.538274046424,
          "KE range (eV)": "04.0–07.2",
          "Photon energy fr (eV)": 14.3,
          "Photon energy to (eV)": 15.9,
          "Polar ang (deg)": 103.132403123548
         },
         {
          "EWS delay diff (as)": 173.716783935363,
          "KE range (eV)": "04.0–07.2",
          "Photon energy fr (eV)": 14.3,
          "Photon energy to (eV)": 15.9,
          "Polar ang (deg)": 103.705360918679
         },
         {
          "EWS delay diff (as)": 171.679445720104,
          "KE range (eV)": "04.0–07.2",
          "Photon energy fr (eV)": 14.3,
          "Photon energy to (eV)": 15.9,
          "Polar ang (deg)": 104.27831871381
         },
         {
          "EWS delay diff (as)": 169.410183925499,
          "KE range (eV)": "04.0–07.2",
          "Photon energy fr (eV)": 14.3,
          "Photon energy to (eV)": 15.9,
          "Polar ang (deg)": 104.851276508941
         },
         {
          "EWS delay diff (as)": 166.893426381859,
          "KE range (eV)": "04.0–07.2",
          "Photon energy fr (eV)": 14.3,
          "Photon energy to (eV)": 15.9,
          "Polar ang (deg)": 105.424234304071
         },
         {
          "EWS delay diff (as)": 164.114546246968,
          "KE range (eV)": "04.0–07.2",
          "Photon energy fr (eV)": 14.3,
          "Photon energy to (eV)": 15.9,
          "Polar ang (deg)": 105.997192099202
         },
         {
          "EWS delay diff (as)": 161.060382072407,
          "KE range (eV)": "04.0–07.2",
          "Photon energy fr (eV)": 14.3,
          "Photon energy to (eV)": 15.9,
          "Polar ang (deg)": 106.570149894333
         },
         {
          "EWS delay diff (as)": 157.719832926404,
          "KE range (eV)": "04.0–07.2",
          "Photon energy fr (eV)": 14.3,
          "Photon energy to (eV)": 15.9,
          "Polar ang (deg)": 107.143107689464
         },
         {
          "EWS delay diff (as)": 154.084518619269,
          "KE range (eV)": "04.0–07.2",
          "Photon energy fr (eV)": 14.3,
          "Photon energy to (eV)": 15.9,
          "Polar ang (deg)": 107.716065484595
         },
         {
          "EWS delay diff (as)": 150.149486112572,
          "KE range (eV)": "04.0–07.2",
          "Photon energy fr (eV)": 14.3,
          "Photon energy to (eV)": 15.9,
          "Polar ang (deg)": 108.289023279726
         },
         {
          "EWS delay diff (as)": 145.913932521596,
          "KE range (eV)": "04.0–07.2",
          "Photon energy fr (eV)": 14.3,
          "Photon energy to (eV)": 15.9,
          "Polar ang (deg)": 108.861981074856
         },
         {
          "EWS delay diff (as)": 141.381903521862,
          "KE range (eV)": "04.0–07.2",
          "Photon energy fr (eV)": 14.3,
          "Photon energy to (eV)": 15.9,
          "Polar ang (deg)": 109.434938869987
         },
         {
          "EWS delay diff (as)": 136.56291482676,
          "KE range (eV)": "04.0–07.2",
          "Photon energy fr (eV)": 14.3,
          "Photon energy to (eV)": 15.9,
          "Polar ang (deg)": 110.007896665118
         },
         {
          "EWS delay diff (as)": 131.47243571275,
          "KE range (eV)": "04.0–07.2",
          "Photon energy fr (eV)": 14.3,
          "Photon energy to (eV)": 15.9,
          "Polar ang (deg)": 110.580854460249
         },
         {
          "EWS delay diff (as)": 126.13216977939,
          "KE range (eV)": "04.0–07.2",
          "Photon energy fr (eV)": 14.3,
          "Photon energy to (eV)": 15.9,
          "Polar ang (deg)": 111.15381225538
         },
         {
          "EWS delay diff (as)": 120.570071736027,
          "KE range (eV)": "04.0–07.2",
          "Photon energy fr (eV)": 14.3,
          "Photon energy to (eV)": 15.9,
          "Polar ang (deg)": 111.726770050511
         },
         {
          "EWS delay diff (as)": 114.82005190244,
          "KE range (eV)": "04.0–07.2",
          "Photon energy fr (eV)": 14.3,
          "Photon energy to (eV)": 15.9,
          "Polar ang (deg)": 112.299727845641
         },
         {
          "EWS delay diff (as)": 108.921342833773,
          "KE range (eV)": "04.0–07.2",
          "Photon energy fr (eV)": 14.3,
          "Photon energy to (eV)": 15.9,
          "Polar ang (deg)": 112.872685640772
         },
         {
          "EWS delay diff (as)": 102.917533551961,
          "KE range (eV)": "04.0–07.2",
          "Photon energy fr (eV)": 14.3,
          "Photon energy to (eV)": 15.9,
          "Polar ang (deg)": 113.445643435903
         },
         {
          "EWS delay diff (as)": 96.8553125455425,
          "KE range (eV)": "04.0–07.2",
          "Photon energy fr (eV)": 14.3,
          "Photon energy to (eV)": 15.9,
          "Polar ang (deg)": 114.018601231034
         },
         {
          "EWS delay diff (as)": 90.7829953998796,
          "KE range (eV)": "04.0–07.2",
          "Photon energy fr (eV)": 14.3,
          "Photon energy to (eV)": 15.9,
          "Polar ang (deg)": 114.591559026165
         },
         {
          "EWS delay diff (as)": 84.7489403330934,
          "KE range (eV)": "04.0–07.2",
          "Photon energy fr (eV)": 14.3,
          "Photon energy to (eV)": 15.9,
          "Polar ang (deg)": 115.164516821295
         },
         {
          "EWS delay diff (as)": 78.7999695946273,
          "KE range (eV)": "04.0–07.2",
          "Photon energy fr (eV)": 14.3,
          "Photon energy to (eV)": 15.9,
          "Polar ang (deg)": 115.737474616426
         },
         {
          "EWS delay diff (as)": 72.979913582377,
          "KE range (eV)": "04.0–07.2",
          "Photon energy fr (eV)": 14.3,
          "Photon energy to (eV)": 15.9,
          "Polar ang (deg)": 116.310432411557
         },
         {
          "EWS delay diff (as)": 67.3283778997247,
          "KE range (eV)": "04.0–07.2",
          "Photon energy fr (eV)": 14.3,
          "Photon energy to (eV)": 15.9,
          "Polar ang (deg)": 116.883390206688
         },
         {
          "EWS delay diff (as)": 61.8798048786149,
          "KE range (eV)": "04.0–07.2",
          "Photon energy fr (eV)": 14.3,
          "Photon energy to (eV)": 15.9,
          "Polar ang (deg)": 117.456348001819
         },
         {
          "EWS delay diff (as)": 56.6628660064641,
          "KE range (eV)": "04.0–07.2",
          "Photon energy fr (eV)": 14.3,
          "Photon energy to (eV)": 15.9,
          "Polar ang (deg)": 118.02930579695
         },
         {
          "EWS delay diff (as)": 51.7001865004894,
          "KE range (eV)": "04.0–07.2",
          "Photon energy fr (eV)": 14.3,
          "Photon energy to (eV)": 15.9,
          "Polar ang (deg)": 118.60226359208
         },
         {
          "EWS delay diff (as)": 47.0083733371323,
          "KE range (eV)": "04.0–07.2",
          "Photon energy fr (eV)": 14.3,
          "Photon energy to (eV)": 15.9,
          "Polar ang (deg)": 119.175221387211
         },
         {
          "EWS delay diff (as)": 42.5982967788339,
          "KE range (eV)": "04.0–07.2",
          "Photon energy fr (eV)": 14.3,
          "Photon energy to (eV)": 15.9,
          "Polar ang (deg)": 119.748179182342
         },
         {
          "EWS delay diff (as)": 38.4755639976904,
          "KE range (eV)": "04.0–07.2",
          "Photon energy fr (eV)": 14.3,
          "Photon energy to (eV)": 15.9,
          "Polar ang (deg)": 120.321136977473
         },
         {
          "EWS delay diff (as)": 34.6411209927788,
          "KE range (eV)": "04.0–07.2",
          "Photon energy fr (eV)": 14.3,
          "Photon energy to (eV)": 15.9,
          "Polar ang (deg)": 120.894094772604
         },
         {
          "EWS delay diff (as)": 31.0919236078258,
          "KE range (eV)": "04.0–07.2",
          "Photon energy fr (eV)": 14.3,
          "Photon energy to (eV)": 15.9,
          "Polar ang (deg)": 121.467052567735
         },
         {
          "EWS delay diff (as)": 27.8216275633716,
          "KE range (eV)": "04.0–07.2",
          "Photon energy fr (eV)": 14.3,
          "Photon energy to (eV)": 15.9,
          "Polar ang (deg)": 122.040010362865
         },
         {
          "EWS delay diff (as)": 24.8212586289818,
          "KE range (eV)": "04.0–07.2",
          "Photon energy fr (eV)": 14.3,
          "Photon energy to (eV)": 15.9,
          "Polar ang (deg)": 122.612968157996
         },
         {
          "EWS delay diff (as)": 22.0798354714173,
          "KE range (eV)": "04.0–07.2",
          "Photon energy fr (eV)": 14.3,
          "Photon energy to (eV)": 15.9,
          "Polar ang (deg)": 123.185925953127
         },
         {
          "EWS delay diff (as)": 19.5849280423512,
          "KE range (eV)": "04.0–07.2",
          "Photon energy fr (eV)": 14.3,
          "Photon energy to (eV)": 15.9,
          "Polar ang (deg)": 123.758883748258
         },
         {
          "EWS delay diff (as)": 17.3231429219161,
          "KE range (eV)": "04.0–07.2",
          "Photon energy fr (eV)": 14.3,
          "Photon energy to (eV)": 15.9,
          "Polar ang (deg)": 124.331841543389
         },
         {
          "EWS delay diff (as)": 15.2805335848196,
          "KE range (eV)": "04.0–07.2",
          "Photon energy fr (eV)": 14.3,
          "Photon energy to (eV)": 15.9,
          "Polar ang (deg)": 124.904799338519
         },
         {
          "EWS delay diff (as)": 13.4429381905219,
          "KE range (eV)": "04.0–07.2",
          "Photon energy fr (eV)": 14.3,
          "Photon energy to (eV)": 15.9,
          "Polar ang (deg)": 125.47775713365
         },
         {
          "EWS delay diff (as)": 11.7962504810365,
          "KE range (eV)": "04.0–07.2",
          "Photon energy fr (eV)": 14.3,
          "Photon energy to (eV)": 15.9,
          "Polar ang (deg)": 126.050714928781
         },
         {
          "EWS delay diff (as)": 10.3266310336514,
          "KE range (eV)": "04.0–07.2",
          "Photon energy fr (eV)": 14.3,
          "Photon energy to (eV)": 15.9,
          "Polar ang (deg)": 126.623672723912
         },
         {
          "EWS delay diff (as)": 9.02066679721025,
          "KE range (eV)": "04.0–07.2",
          "Photon energy fr (eV)": 14.3,
          "Photon energy to (eV)": 15.9,
          "Polar ang (deg)": 127.196630519043
         },
         {
          "EWS delay diff (as)": 7.86548683800248,
          "KE range (eV)": "04.0–07.2",
          "Photon energy fr (eV)": 14.3,
          "Photon energy to (eV)": 15.9,
          "Polar ang (deg)": 127.769588314174
         },
         {
          "EWS delay diff (as)": 6.84884177860845,
          "KE range (eV)": "04.0–07.2",
          "Photon energy fr (eV)": 14.3,
          "Photon energy to (eV)": 15.9,
          "Polar ang (deg)": 128.342546109304
         },
         {
          "EWS delay diff (as)": 5.9591537169974,
          "KE range (eV)": "04.0–07.2",
          "Photon energy fr (eV)": 14.3,
          "Photon energy to (eV)": 15.9,
          "Polar ang (deg)": 128.915503904435
         },
         {
          "EWS delay diff (as)": 5.18554259871351,
          "KE range (eV)": "04.0–07.2",
          "Photon energy fr (eV)": 14.3,
          "Photon energy to (eV)": 15.9,
          "Polar ang (deg)": 129.488461699566
         },
         {
          "EWS delay diff (as)": 4.51783417407314,
          "KE range (eV)": "04.0–07.2",
          "Photon energy fr (eV)": 14.3,
          "Photon energy to (eV)": 15.9,
          "Polar ang (deg)": 130.061419494697
         },
         {
          "EWS delay diff (as)": 3.94655386356346,
          "KE range (eV)": "04.0–07.2",
          "Photon energy fr (eV)": 14.3,
          "Photon energy to (eV)": 15.9,
          "Polar ang (deg)": 130.634377289828
         },
         {
          "EWS delay diff (as)": 3.46291011200961,
          "KE range (eV)": "04.0–07.2",
          "Photon energy fr (eV)": 14.3,
          "Photon energy to (eV)": 15.9,
          "Polar ang (deg)": 131.207335084959
         },
         {
          "EWS delay diff (as)": 3.05877015227174,
          "KE range (eV)": "04.0–07.2",
          "Photon energy fr (eV)": 14.3,
          "Photon energy to (eV)": 15.9,
          "Polar ang (deg)": 131.780292880089
         },
         {
          "EWS delay diff (as)": 2.72663052735989,
          "KE range (eV)": "04.0–07.2",
          "Photon energy fr (eV)": 14.3,
          "Photon energy to (eV)": 15.9,
          "Polar ang (deg)": 132.35325067522
         },
         {
          "EWS delay diff (as)": 2.45958423380133,
          "KE range (eV)": "04.0–07.2",
          "Photon energy fr (eV)": 14.3,
          "Photon energy to (eV)": 15.9,
          "Polar ang (deg)": 132.926208470351
         },
         {
          "EWS delay diff (as)": 2.25128594256252,
          "KE range (eV)": "04.0–07.2",
          "Photon energy fr (eV)": 14.3,
          "Photon energy to (eV)": 15.9,
          "Polar ang (deg)": 133.499166265482
         },
         {
          "EWS delay diff (as)": 2.09591641835294,
          "KE range (eV)": "04.0–07.2",
          "Photon energy fr (eV)": 14.3,
          "Photon energy to (eV)": 15.9,
          "Polar ang (deg)": 134.072124060613
         },
         {
          "EWS delay diff (as)": 1.98814698464023,
          "KE range (eV)": "04.0–07.2",
          "Photon energy fr (eV)": 14.3,
          "Photon energy to (eV)": 15.9,
          "Polar ang (deg)": 134.645081855743
         },
         {
          "EWS delay diff (as)": 1.92310466109569,
          "KE range (eV)": "04.0–07.2",
          "Photon energy fr (eV)": 14.3,
          "Photon energy to (eV)": 15.9,
          "Polar ang (deg)": 135.218039650874
         },
         {
          "EWS delay diff (as)": 1.89633842413506,
          "KE range (eV)": "04.0–07.2",
          "Photon energy fr (eV)": 14.3,
          "Photon energy to (eV)": 15.9,
          "Polar ang (deg)": 135.790997446005
         },
         {
          "EWS delay diff (as)": 1.90378690209547,
          "KE range (eV)": "04.0–07.2",
          "Photon energy fr (eV)": 14.3,
          "Photon energy to (eV)": 15.9,
          "Polar ang (deg)": 136.363955241136
         },
         {
          "EWS delay diff (as)": 1.94174770787969,
          "KE range (eV)": "04.0–07.2",
          "Photon energy fr (eV)": 14.3,
          "Photon energy to (eV)": 15.9,
          "Polar ang (deg)": 136.936913036267
         },
         {
          "EWS delay diff (as)": 2.00684852788668,
          "KE range (eV)": "04.0–07.2",
          "Photon energy fr (eV)": 14.3,
          "Photon energy to (eV)": 15.9,
          "Polar ang (deg)": 137.509870831398
         },
         {
          "EWS delay diff (as)": 2.0960200219986,
          "KE range (eV)": "04.0–07.2",
          "Photon energy fr (eV)": 14.3,
          "Photon energy to (eV)": 15.9,
          "Polar ang (deg)": 138.082828626528
         },
         {
          "EWS delay diff (as)": 2.20647054132583,
          "KE range (eV)": "04.0–07.2",
          "Photon energy fr (eV)": 14.3,
          "Photon energy to (eV)": 15.9,
          "Polar ang (deg)": 138.655786421659
         },
         {
          "EWS delay diff (as)": 2.33566263503848,
          "KE range (eV)": "04.0–07.2",
          "Photon energy fr (eV)": 14.3,
          "Photon energy to (eV)": 15.9,
          "Polar ang (deg)": 139.22874421679
         },
         {
          "EWS delay diff (as)": 2.48129129223784,
          "KE range (eV)": "04.0–07.2",
          "Photon energy fr (eV)": 14.3,
          "Photon energy to (eV)": 15.9,
          "Polar ang (deg)": 139.801702011921
         },
         {
          "EWS delay diff (as)": 2.64126384729801,
          "KE range (eV)": "04.0–07.2",
          "Photon energy fr (eV)": 14.3,
          "Photon energy to (eV)": 15.9,
          "Polar ang (deg)": 140.374659807052
         },
         {
          "EWS delay diff (as)": 2.81368146563299,
          "KE range (eV)": "04.0–07.2",
          "Photon energy fr (eV)": 14.3,
          "Photon energy to (eV)": 15.9,
          "Polar ang (deg)": 140.947617602183
         },
         {
          "EWS delay diff (as)": 2.99682212004426,
          "KE range (eV)": "04.0–07.2",
          "Photon energy fr (eV)": 14.3,
          "Photon energy to (eV)": 15.9,
          "Polar ang (deg)": 141.520575397313
         },
         {
          "EWS delay diff (as)": 3.18912496451573,
          "KE range (eV)": "04.0–07.2",
          "Photon energy fr (eV)": 14.3,
          "Photon energy to (eV)": 15.9,
          "Polar ang (deg)": 142.093533192444
         },
         {
          "EWS delay diff (as)": 3.38917601170596,
          "KE range (eV)": "04.0–07.2",
          "Photon energy fr (eV)": 14.3,
          "Photon energy to (eV)": 15.9,
          "Polar ang (deg)": 142.666490987575
         },
         {
          "EWS delay diff (as)": 3.5956950216679,
          "KE range (eV)": "04.0–07.2",
          "Photon energy fr (eV)": 14.3,
          "Photon energy to (eV)": 15.9,
          "Polar ang (deg)": 143.239448782706
         },
         {
          "EWS delay diff (as)": 3.80752351203284,
          "KE range (eV)": "04.0–07.2",
          "Photon energy fr (eV)": 14.3,
          "Photon energy to (eV)": 15.9,
          "Polar ang (deg)": 143.812406577837
         },
         {
          "EWS delay diff (as)": 4.02361380352223,
          "KE range (eV)": "04.0–07.2",
          "Photon energy fr (eV)": 14.3,
          "Photon energy to (eV)": 15.9,
          "Polar ang (deg)": 144.385364372967
         },
         {
          "EWS delay diff (as)": 4.24301901894353,
          "KE range (eV)": "04.0–07.2",
          "Photon energy fr (eV)": 14.3,
          "Photon energy to (eV)": 15.9,
          "Polar ang (deg)": 144.958322168098
         },
         {
          "EWS delay diff (as)": 4.46488395845357,
          "KE range (eV)": "04.0–07.2",
          "Photon energy fr (eV)": 14.3,
          "Photon energy to (eV)": 15.9,
          "Polar ang (deg)": 145.531279963229
         },
         {
          "EWS delay diff (as)": 4.68843677872211,
          "KE range (eV)": "04.0–07.2",
          "Photon energy fr (eV)": 14.3,
          "Photon energy to (eV)": 15.9,
          "Polar ang (deg)": 146.10423775836
         },
         {
          "EWS delay diff (as)": 4.91298140848662,
          "KE range (eV)": "04.0–07.2",
          "Photon energy fr (eV)": 14.3,
          "Photon energy to (eV)": 15.9,
          "Polar ang (deg)": 146.677195553491
         },
         {
          "EWS delay diff (as)": 5.13789063781034,
          "KE range (eV)": "04.0–07.2",
          "Photon energy fr (eV)": 14.3,
          "Photon energy to (eV)": 15.9,
          "Polar ang (deg)": 147.250153348622
         },
         {
          "EWS delay diff (as)": 5.36259982302023,
          "KE range (eV)": "04.0–07.2",
          "Photon energy fr (eV)": 14.3,
          "Photon energy to (eV)": 15.9,
          "Polar ang (deg)": 147.823111143752
         },
         {
          "EWS delay diff (as)": 5.58660115379051,
          "KE range (eV)": "04.0–07.2",
          "Photon energy fr (eV)": 14.3,
          "Photon energy to (eV)": 15.9,
          "Polar ang (deg)": 148.396068938883
         },
         {
          "EWS delay diff (as)": 5.80943843309711,
          "KE range (eV)": "04.0–07.2",
          "Photon energy fr (eV)": 14.3,
          "Photon energy to (eV)": 15.9,
          "Polar ang (deg)": 148.969026734014
         },
         {
          "EWS delay diff (as)": 6.03070232478475,
          "KE range (eV)": "04.0–07.2",
          "Photon energy fr (eV)": 14.3,
          "Photon energy to (eV)": 15.9,
          "Polar ang (deg)": 149.541984529145
         },
         {
          "EWS delay diff (as)": 6.25002602725977,
          "KE range (eV)": "04.0–07.2",
          "Photon energy fr (eV)": 14.3,
          "Photon energy to (eV)": 15.9,
          "Polar ang (deg)": 150.114942324276
         },
         {
          "EWS delay diff (as)": 6.46708133532603,
          "KE range (eV)": "04.0–07.2",
          "Photon energy fr (eV)": 14.3,
          "Photon energy to (eV)": 15.9,
          "Polar ang (deg)": 150.687900119407
         },
         {
          "EWS delay diff (as)": 6.68157505544964,
          "KE range (eV)": "04.0–07.2",
          "Photon energy fr (eV)": 14.3,
          "Photon energy to (eV)": 15.9,
          "Polar ang (deg)": 151.260857914537
         },
         {
          "EWS delay diff (as)": 6.89324574274108,
          "KE range (eV)": "04.0–07.2",
          "Photon energy fr (eV)": 14.3,
          "Photon energy to (eV)": 15.9,
          "Polar ang (deg)": 151.833815709668
         },
         {
          "EWS delay diff (as)": 7.1018607307356,
          "KE range (eV)": "04.0–07.2",
          "Photon energy fr (eV)": 14.3,
          "Photon energy to (eV)": 15.9,
          "Polar ang (deg)": 152.406773504799
         },
         {
          "EWS delay diff (as)": 7.30721342760377,
          "KE range (eV)": "04.0–07.2",
          "Photon energy fr (eV)": 14.3,
          "Photon energy to (eV)": 15.9,
          "Polar ang (deg)": 152.97973129993
         },
         {
          "EWS delay diff (as)": 7.50912085476618,
          "KE range (eV)": "04.0–07.2",
          "Photon energy fr (eV)": 14.3,
          "Photon energy to (eV)": 15.9,
          "Polar ang (deg)": 153.552689095061
         },
         {
          "EWS delay diff (as)": 7.7074214060513,
          "KE range (eV)": "04.0–07.2",
          "Photon energy fr (eV)": 14.3,
          "Photon energy to (eV)": 15.9,
          "Polar ang (deg)": 154.125646890191
         },
         {
          "EWS delay diff (as)": 7.90197280748284,
          "KE range (eV)": "04.0–07.2",
          "Photon energy fr (eV)": 14.3,
          "Photon energy to (eV)": 15.9,
          "Polar ang (deg)": 154.698604685322
         },
         {
          "EWS delay diff (as)": 8.09265025959782,
          "KE range (eV)": "04.0–07.2",
          "Photon energy fr (eV)": 14.3,
          "Photon energy to (eV)": 15.9,
          "Polar ang (deg)": 155.271562480453
         },
         {
          "EWS delay diff (as)": 8.27934474582048,
          "KE range (eV)": "04.0–07.2",
          "Photon energy fr (eV)": 14.3,
          "Photon energy to (eV)": 15.9,
          "Polar ang (deg)": 155.844520275584
         },
         {
          "EWS delay diff (as)": 8.46196149192024,
          "KE range (eV)": "04.0–07.2",
          "Photon energy fr (eV)": 14.3,
          "Photon energy to (eV)": 15.9,
          "Polar ang (deg)": 156.417478070715
         },
         {
          "EWS delay diff (as)": 8.64041856294284,
          "KE range (eV)": "04.0–07.2",
          "Photon energy fr (eV)": 14.3,
          "Photon energy to (eV)": 15.9,
          "Polar ang (deg)": 156.990435865846
         },
         {
          "EWS delay diff (as)": 8.81464558523415,
          "KE range (eV)": "04.0–07.2",
          "Photon energy fr (eV)": 14.3,
          "Photon energy to (eV)": 15.9,
          "Polar ang (deg)": 157.563393660976
         },
         {
          "EWS delay diff (as)": 8.98458258231549,
          "KE range (eV)": "04.0–07.2",
          "Photon energy fr (eV)": 14.3,
          "Photon energy to (eV)": 15.9,
          "Polar ang (deg)": 158.136351456107
         },
         {
          "EWS delay diff (as)": 9.1501789143793,
          "KE range (eV)": "04.0–07.2",
          "Photon energy fr (eV)": 14.3,
          "Photon energy to (eV)": 15.9,
          "Polar ang (deg)": 158.709309251238
         },
         {
          "EWS delay diff (as)": 9.31139231212053,
          "KE range (eV)": "04.0–07.2",
          "Photon energy fr (eV)": 14.3,
          "Photon energy to (eV)": 15.9,
          "Polar ang (deg)": 159.282267046369
         },
         {
          "EWS delay diff (as)": 9.46818799645244,
          "KE range (eV)": "04.0–07.2",
          "Photon energy fr (eV)": 14.3,
          "Photon energy to (eV)": 15.9,
          "Polar ang (deg)": 159.8552248415
         },
         {
          "EWS delay diff (as)": 9.62053787643225,
          "KE range (eV)": "04.0–07.2",
          "Photon energy fr (eV)": 14.3,
          "Photon energy to (eV)": 15.9,
          "Polar ang (deg)": 160.428182636631
         },
         {
          "EWS delay diff (as)": 9.76841981841692,
          "KE range (eV)": "04.0–07.2",
          "Photon energy fr (eV)": 14.3,
          "Photon energy to (eV)": 15.9,
          "Polar ang (deg)": 161.001140431761
         },
         {
          "EWS delay diff (as)": 9.91181698010535,
          "KE range (eV)": "04.0–07.2",
          "Photon energy fr (eV)": 14.3,
          "Photon energy to (eV)": 15.9,
          "Polar ang (deg)": 161.574098226892
         },
         {
          "EWS delay diff (as)": 10.0507172036992,
          "KE range (eV)": "04.0–07.2",
          "Photon energy fr (eV)": 14.3,
          "Photon energy to (eV)": 15.9,
          "Polar ang (deg)": 162.147056022023
         },
         {
          "EWS delay diff (as)": 10.1851124629353,
          "KE range (eV)": "04.0–07.2",
          "Photon energy fr (eV)": 14.3,
          "Photon energy to (eV)": 15.9,
          "Polar ang (deg)": 162.720013817154
         },
         {
          "EWS delay diff (as)": 10.3149983592246,
          "KE range (eV)": "04.0–07.2",
          "Photon energy fr (eV)": 14.3,
          "Photon energy to (eV)": 15.9,
          "Polar ang (deg)": 163.292971612285
         },
         {
          "EWS delay diff (as)": 10.4403736625559,
          "KE range (eV)": "04.0–07.2",
          "Photon energy fr (eV)": 14.3,
          "Photon energy to (eV)": 15.9,
          "Polar ang (deg)": 163.865929407415
         },
         {
          "EWS delay diff (as)": 10.5612398932232,
          "KE range (eV)": "04.0–07.2",
          "Photon energy fr (eV)": 14.3,
          "Photon energy to (eV)": 15.9,
          "Polar ang (deg)": 164.438887202546
         },
         {
          "EWS delay diff (as)": 10.677600940785,
          "KE range (eV)": "04.0–07.2",
          "Photon energy fr (eV)": 14.3,
          "Photon energy to (eV)": 15.9,
          "Polar ang (deg)": 165.011844997677
         },
         {
          "EWS delay diff (as)": 10.7894627169959,
          "KE range (eV)": "04.0–07.2",
          "Photon energy fr (eV)": 14.3,
          "Photon energy to (eV)": 15.9,
          "Polar ang (deg)": 165.584802792808
         },
         {
          "EWS delay diff (as)": 10.8968328397389,
          "KE range (eV)": "04.0–07.2",
          "Photon energy fr (eV)": 14.3,
          "Photon energy to (eV)": 15.9,
          "Polar ang (deg)": 166.157760587939
         },
         {
          "EWS delay diff (as)": 10.9997203452585,
          "KE range (eV)": "04.0–07.2",
          "Photon energy fr (eV)": 14.3,
          "Photon energy to (eV)": 15.9,
          "Polar ang (deg)": 166.73071838307
         },
         {
          "EWS delay diff (as)": 11.0981354262391,
          "KE range (eV)": "04.0–07.2",
          "Photon energy fr (eV)": 14.3,
          "Photon energy to (eV)": 15.9,
          "Polar ang (deg)": 167.3036761782
         },
         {
          "EWS delay diff (as)": 11.1920891934947,
          "KE range (eV)": "04.0–07.2",
          "Photon energy fr (eV)": 14.3,
          "Photon energy to (eV)": 15.9,
          "Polar ang (deg)": 167.876633973331
         },
         {
          "EWS delay diff (as)": 11.2815934592374,
          "KE range (eV)": "04.0–07.2",
          "Photon energy fr (eV)": 14.3,
          "Photon energy to (eV)": 15.9,
          "Polar ang (deg)": 168.449591768462
         },
         {
          "EWS delay diff (as)": 11.3666605400818,
          "KE range (eV)": "04.0–07.2",
          "Photon energy fr (eV)": 14.3,
          "Photon energy to (eV)": 15.9,
          "Polar ang (deg)": 169.022549563593
         },
         {
          "EWS delay diff (as)": 11.4473030781018,
          "KE range (eV)": "04.0–07.2",
          "Photon energy fr (eV)": 14.3,
          "Photon energy to (eV)": 15.9,
          "Polar ang (deg)": 169.595507358724
         },
         {
          "EWS delay diff (as)": 11.523533878422,
          "KE range (eV)": "04.0–07.2",
          "Photon energy fr (eV)": 14.3,
          "Photon energy to (eV)": 15.9,
          "Polar ang (deg)": 170.168465153855
         },
         {
          "EWS delay diff (as)": 11.595365761956,
          "KE range (eV)": "04.0–07.2",
          "Photon energy fr (eV)": 14.3,
          "Photon energy to (eV)": 15.9,
          "Polar ang (deg)": 170.741422948985
         },
         {
          "EWS delay diff (as)": 11.6628114320374,
          "KE range (eV)": "04.0–07.2",
          "Photon energy fr (eV)": 14.3,
          "Photon energy to (eV)": 15.9,
          "Polar ang (deg)": 171.314380744116
         },
         {
          "EWS delay diff (as)": 11.7258833538102,
          "KE range (eV)": "04.0–07.2",
          "Photon energy fr (eV)": 14.3,
          "Photon energy to (eV)": 15.9,
          "Polar ang (deg)": 171.887338539247
         },
         {
          "EWS delay diff (as)": 11.7845936453446,
          "KE range (eV)": "04.0–07.2",
          "Photon energy fr (eV)": 14.3,
          "Photon energy to (eV)": 15.9,
          "Polar ang (deg)": 172.460296334378
         },
         {
          "EWS delay diff (as)": 11.8389539795531,
          "KE range (eV)": "04.0–07.2",
          "Photon energy fr (eV)": 14.3,
          "Photon energy to (eV)": 15.9,
          "Polar ang (deg)": 173.033254129509
         },
         {
          "EWS delay diff (as)": 11.8889754960697,
          "KE range (eV)": "04.0–07.2",
          "Photon energy fr (eV)": 14.3,
          "Photon energy to (eV)": 15.9,
          "Polar ang (deg)": 173.606211924639
         },
         {
          "EWS delay diff (as)": 11.9346687223324,
          "KE range (eV)": "04.0–07.2",
          "Photon energy fr (eV)": 14.3,
          "Photon energy to (eV)": 15.9,
          "Polar ang (deg)": 174.17916971977
         },
         {
          "EWS delay diff (as)": 11.9760435032042,
          "KE range (eV)": "04.0–07.2",
          "Photon energy fr (eV)": 14.3,
          "Photon energy to (eV)": 15.9,
          "Polar ang (deg)": 174.752127514901
         },
         {
          "EWS delay diff (as)": 12.0131089385184,
          "KE range (eV)": "04.0–07.2",
          "Photon energy fr (eV)": 14.3,
          "Photon energy to (eV)": 15.9,
          "Polar ang (deg)": 175.325085310032
         },
         {
          "EWS delay diff (as)": 12.0458733280231,
          "KE range (eV)": "04.0–07.2",
          "Photon energy fr (eV)": 14.3,
          "Photon energy to (eV)": 15.9,
          "Polar ang (deg)": 175.898043105163
         },
         {
          "EWS delay diff (as)": 12.0743441232439,
          "KE range (eV)": "04.0–07.2",
          "Photon energy fr (eV)": 14.3,
          "Photon energy to (eV)": 15.9,
          "Polar ang (deg)": 176.471000900294
         },
         {
          "EWS delay diff (as)": 12.0985278858581,
          "KE range (eV)": "04.0–07.2",
          "Photon energy fr (eV)": 14.3,
          "Photon energy to (eV)": 15.9,
          "Polar ang (deg)": 177.043958695424
         },
         {
          "EWS delay diff (as)": 12.1184302522152,
          "KE range (eV)": "04.0–07.2",
          "Photon energy fr (eV)": 14.3,
          "Photon energy to (eV)": 15.9,
          "Polar ang (deg)": 177.616916490555
         },
         {
          "EWS delay diff (as)": 12.134055903707,
          "KE range (eV)": "04.0–07.2",
          "Photon energy fr (eV)": 14.3,
          "Photon energy to (eV)": 15.9,
          "Polar ang (deg)": 178.189874285686
         },
         {
          "EWS delay diff (as)": 12.1454085427234,
          "KE range (eV)": "04.0–07.2",
          "Photon energy fr (eV)": 14.3,
          "Photon energy to (eV)": 15.9,
          "Polar ang (deg)": 178.762832080817
         },
         {
          "EWS delay diff (as)": 12.1524908739928,
          "KE range (eV)": "04.0–07.2",
          "Photon energy fr (eV)": 14.3,
          "Photon energy to (eV)": 15.9,
          "Polar ang (deg)": 179.335789875948
         },
         {
          "EWS delay diff (as)": 12.1553045911432,
          "KE range (eV)": "04.0–07.2",
          "Photon energy fr (eV)": 14.3,
          "Photon energy to (eV)": 15.9,
          "Polar ang (deg)": 179.908747671079
         },
         {
          "EWS delay diff (as)": 16.3697263261544,
          "KE range (eV)": "04.0",
          "Photon energy fr (eV)": 14.3,
          "Photon energy to (eV)": null,
          "Polar ang (deg)": 0
         },
         {
          "EWS delay diff (as)": 16.3687258362266,
          "KE range (eV)": "04.0",
          "Photon energy fr (eV)": 14.3,
          "Photon energy to (eV)": null,
          "Polar ang (deg)": 0.572957795130823
         },
         {
          "EWS delay diff (as)": 16.365725078209,
          "KE range (eV)": "04.0",
          "Photon energy fr (eV)": 14.3,
          "Photon energy to (eV)": null,
          "Polar ang (deg)": 1.14591559026165
         },
         {
          "EWS delay diff (as)": 16.3607261918579,
          "KE range (eV)": "04.0",
          "Photon energy fr (eV)": 14.3,
          "Photon energy to (eV)": null,
          "Polar ang (deg)": 1.71887338539247
         },
         {
          "EWS delay diff (as)": 16.3537327583194,
          "KE range (eV)": "04.0",
          "Photon energy fr (eV)": 14.3,
          "Photon energy to (eV)": null,
          "Polar ang (deg)": 2.29183118052329
         },
         {
          "EWS delay diff (as)": 16.3447498225393,
          "KE range (eV)": "04.0",
          "Photon energy fr (eV)": 14.3,
          "Photon energy to (eV)": null,
          "Polar ang (deg)": 2.86478897565412
         },
         {
          "EWS delay diff (as)": 16.333783924781,
          "KE range (eV)": "04.0",
          "Photon energy fr (eV)": 14.3,
          "Photon energy to (eV)": null,
          "Polar ang (deg)": 3.43774677078494
         },
         {
          "EWS delay diff (as)": 16.320843141421,
          "KE range (eV)": "04.0",
          "Photon energy fr (eV)": 14.3,
          "Photon energy to (eV)": null,
          "Polar ang (deg)": 4.01070456591576
         },
         {
          "EWS delay diff (as)": 16.3059371352121,
          "KE range (eV)": "04.0",
          "Photon energy fr (eV)": 14.3,
          "Photon energy to (eV)": null,
          "Polar ang (deg)": 4.58366236104659
         },
         {
          "EWS delay diff (as)": 16.2890772152648,
          "KE range (eV)": "04.0",
          "Photon energy fr (eV)": 14.3,
          "Photon energy to (eV)": null,
          "Polar ang (deg)": 5.15662015617741
         },
         {
          "EWS delay diff (as)": 16.2702764070346,
          "KE range (eV)": "04.0",
          "Photon energy fr (eV)": 14.3,
          "Photon energy to (eV)": null,
          "Polar ang (deg)": 5.72957795130823
         },
         {
          "EWS delay diff (as)": 16.2495495326693,
          "KE range (eV)": "04.0",
          "Photon energy fr (eV)": 14.3,
          "Photon energy to (eV)": null,
          "Polar ang (deg)": 6.30253574643906
         },
         {
          "EWS delay diff (as)": 16.2269133020989,
          "KE range (eV)": "04.0",
          "Photon energy fr (eV)": 14.3,
          "Photon energy to (eV)": null,
          "Polar ang (deg)": 6.87549354156988
         },
         {
          "EWS delay diff (as)": 16.2023864153267,
          "KE range (eV)": "04.0",
          "Photon energy fr (eV)": 14.3,
          "Photon energy to (eV)": null,
          "Polar ang (deg)": 7.4484513367007
         },
         {
          "EWS delay diff (as)": 16.175989676412,
          "KE range (eV)": "04.0",
          "Photon energy fr (eV)": 14.3,
          "Photon energy to (eV)": null,
          "Polar ang (deg)": 8.02140913183153
         },
         {
          "EWS delay diff (as)": 16.1477461197155,
          "KE range (eV)": "04.0",
          "Photon energy fr (eV)": 14.3,
          "Photon energy to (eV)": null,
          "Polar ang (deg)": 8.59436692696235
         },
         {
          "EWS delay diff (as)": 16.1176811490154,
          "KE range (eV)": "04.0",
          "Photon energy fr (eV)": 14.3,
          "Photon energy to (eV)": null,
          "Polar ang (deg)": 9.16732472209317
         },
         {
          "EWS delay diff (as)": 16.0858226901963,
          "KE range (eV)": "04.0",
          "Photon energy fr (eV)": 14.3,
          "Photon energy to (eV)": null,
          "Polar ang (deg)": 9.740282517224
         },
         {
          "EWS delay diff (as)": 16.052201358236,
          "KE range (eV)": "04.0",
          "Photon energy fr (eV)": 14.3,
          "Photon energy to (eV)": null,
          "Polar ang (deg)": 10.3132403123548
         },
         {
          "EWS delay diff (as)": 16.0168506393421,
          "KE range (eV)": "04.0",
          "Photon energy fr (eV)": 14.3,
          "Photon energy to (eV)": null,
          "Polar ang (deg)": 10.8861981074856
         },
         {
          "EWS delay diff (as)": 15.9798070891028,
          "KE range (eV)": "04.0",
          "Photon energy fr (eV)": 14.3,
          "Photon energy to (eV)": null,
          "Polar ang (deg)": 11.4591559026165
         },
         {
          "EWS delay diff (as)": 15.9411105476543,
          "KE range (eV)": "04.0",
          "Photon energy fr (eV)": 14.3,
          "Photon energy to (eV)": null,
          "Polar ang (deg)": 12.0321136977473
         },
         {
          "EWS delay diff (as)": 15.9008043728983,
          "KE range (eV)": "04.0",
          "Photon energy fr (eV)": 14.3,
          "Photon energy to (eV)": null,
          "Polar ang (deg)": 12.6050714928781
         },
         {
          "EWS delay diff (as)": 15.8589356929326,
          "KE range (eV)": "04.0",
          "Photon energy fr (eV)": 14.3,
          "Photon energy to (eV)": null,
          "Polar ang (deg)": 13.1780292880089
         },
         {
          "EWS delay diff (as)": 15.8155556789312,
          "KE range (eV)": "04.0",
          "Photon energy fr (eV)": 14.3,
          "Photon energy to (eV)": null,
          "Polar ang (deg)": 13.7509870831398
         },
         {
          "EWS delay diff (as)": 15.7707198397992,
          "KE range (eV)": "04.0",
          "Photon energy fr (eV)": 14.3,
          "Photon energy to (eV)": null,
          "Polar ang (deg)": 14.3239448782706
         },
         {
          "EWS delay diff (as)": 15.7244883400618,
          "KE range (eV)": "04.0",
          "Photon energy fr (eV)": 14.3,
          "Photon energy to (eV)": null,
          "Polar ang (deg)": 14.8969026734014
         },
         {
          "EWS delay diff (as)": 15.6769263425374,
          "KE range (eV)": "04.0",
          "Photon energy fr (eV)": 14.3,
          "Photon energy to (eV)": null,
          "Polar ang (deg)": 15.4698604685322
         },
         {
          "EWS delay diff (as)": 15.6281043774524,
          "KE range (eV)": "04.0",
          "Photon energy fr (eV)": 14.3,
          "Photon energy to (eV)": null,
          "Polar ang (deg)": 16.0428182636631
         },
         {
          "EWS delay diff (as)": 15.5780987398209,
          "KE range (eV)": "04.0",
          "Photon energy fr (eV)": 14.3,
          "Photon energy to (eV)": null,
          "Polar ang (deg)": 16.6157760587939
         },
         {
          "EWS delay diff (as)": 15.5269919169916,
          "KE range (eV)": "04.0",
          "Photon energy fr (eV)": 14.3,
          "Photon energy to (eV)": null,
          "Polar ang (deg)": 17.1887338539247
         },
         {
          "EWS delay diff (as)": 15.4748730484364,
          "KE range (eV)": "04.0",
          "Photon energy fr (eV)": 14.3,
          "Photon energy to (eV)": null,
          "Polar ang (deg)": 17.7616916490555
         },
         {
          "EWS delay diff (as)": 15.4218384200067,
          "KE range (eV)": "04.0",
          "Photon energy fr (eV)": 14.3,
          "Photon energy to (eV)": null,
          "Polar ang (deg)": 18.3346494441863
         },
         {
          "EWS delay diff (as)": 15.3679919950038,
          "KE range (eV)": "04.0",
          "Photon energy fr (eV)": 14.3,
          "Photon energy to (eV)": null,
          "Polar ang (deg)": 18.9076072393172
         },
         {
          "EWS delay diff (as)": 15.313445984606,
          "KE range (eV)": "04.0",
          "Photon energy fr (eV)": 14.3,
          "Photon energy to (eV)": null,
          "Polar ang (deg)": 19.480565034448
         },
         {
          "EWS delay diff (as)": 15.2583214603483,
          "KE range (eV)": "04.0",
          "Photon energy fr (eV)": 14.3,
          "Photon energy to (eV)": null,
          "Polar ang (deg)": 20.0535228295788
         },
         {
          "EWS delay diff (as)": 15.2027490115239,
          "KE range (eV)": "04.0",
          "Photon energy fr (eV)": 14.3,
          "Photon energy to (eV)": null,
          "Polar ang (deg)": 20.6264806247096
         },
         {
          "EWS delay diff (as)": 15.1468694505752,
          "KE range (eV)": "04.0",
          "Photon energy fr (eV)": 14.3,
          "Photon energy to (eV)": null,
          "Polar ang (deg)": 21.1994384198405
         },
         {
          "EWS delay diff (as)": 15.0908345697234,
          "KE range (eV)": "04.0",
          "Photon energy fr (eV)": 14.3,
          "Photon energy to (eV)": null,
          "Polar ang (deg)": 21.7723962149713
         },
         {
          "EWS delay diff (as)": 15.0348079522797,
          "KE range (eV)": "04.0",
          "Photon energy fr (eV)": 14.3,
          "Photon energy to (eV)": null,
          "Polar ang (deg)": 22.3453540101021
         },
         {
          "EWS delay diff (as)": 14.9789658422965,
          "KE range (eV)": "04.0",
          "Photon energy fr (eV)": 14.3,
          "Photon energy to (eV)": null,
          "Polar ang (deg)": 22.9183118052329
         },
         {
          "EWS delay diff (as)": 14.9234980764015,
          "KE range (eV)": "04.0",
          "Photon energy fr (eV)": 14.3,
          "Photon energy to (eV)": null,
          "Polar ang (deg)": 23.4912696003638
         },
         {
          "EWS delay diff (as)": 14.8686090819088,
          "KE range (eV)": "04.0",
          "Photon energy fr (eV)": 14.3,
          "Photon energy to (eV)": null,
          "Polar ang (deg)": 24.0642273954946
         },
         {
          "EWS delay diff (as)": 14.8145189454372,
          "KE range (eV)": "04.0",
          "Photon energy fr (eV)": 14.3,
          "Photon energy to (eV)": null,
          "Polar ang (deg)": 24.6371851906254
         },
         {
          "EWS delay diff (as)": 14.7614645565675,
          "KE range (eV)": "04.0",
          "Photon energy fr (eV)": 14.3,
          "Photon energy to (eV)": null,
          "Polar ang (deg)": 25.2101429857562
         },
         {
          "EWS delay diff (as)": 14.7097008311796,
          "KE range (eV)": "04.0",
          "Photon energy fr (eV)": 14.3,
          "Photon energy to (eV)": null,
          "Polar ang (deg)": 25.783100780887
         },
         {
          "EWS delay diff (as)": 14.6595020193727,
          "KE range (eV)": "04.0",
          "Photon energy fr (eV)": 14.3,
          "Photon energy to (eV)": null,
          "Polar ang (deg)": 26.3560585760179
         },
         {
          "EWS delay diff (as)": 14.6111631030013,
          "KE range (eV)": "04.0",
          "Photon energy fr (eV)": 14.3,
          "Photon energy to (eV)": null,
          "Polar ang (deg)": 26.9290163711487
         },
         {
          "EWS delay diff (as)": 14.5650012880569,
          "KE range (eV)": "04.0",
          "Photon energy fr (eV)": 14.3,
          "Photon energy to (eV)": null,
          "Polar ang (deg)": 27.5019741662795
         },
         {
          "EWS delay diff (as)": 14.5213575972187,
          "KE range (eV)": "04.0",
          "Photon energy fr (eV)": 14.3,
          "Photon energy to (eV)": null,
          "Polar ang (deg)": 28.0749319614103
         },
         {
          "EWS delay diff (as)": 14.4805985680319,
          "KE range (eV)": "04.0",
          "Photon energy fr (eV)": 14.3,
          "Photon energy to (eV)": null,
          "Polar ang (deg)": 28.6478897565412
         },
         {
          "EWS delay diff (as)": 14.4431180621916,
          "KE range (eV)": "04.0",
          "Photon energy fr (eV)": 14.3,
          "Photon energy to (eV)": null,
          "Polar ang (deg)": 29.220847551672
         },
         {
          "EWS delay diff (as)": 14.4093391914195,
          "KE range (eV)": "04.0",
          "Photon energy fr (eV)": 14.3,
          "Photon energy to (eV)": null,
          "Polar ang (deg)": 29.7938053468028
         },
         {
          "EWS delay diff (as)": 14.3797163653647,
          "KE range (eV)": "04.0",
          "Photon energy fr (eV)": 14.3,
          "Photon energy to (eV)": null,
          "Polar ang (deg)": 30.3667631419336
         },
         {
          "EWS delay diff (as)": 14.3547374667565,
          "KE range (eV)": "04.0",
          "Photon energy fr (eV)": 14.3,
          "Photon energy to (eV)": null,
          "Polar ang (deg)": 30.9397209370645
         },
         {
          "EWS delay diff (as)": 14.3349261588224,
          "KE range (eV)": "04.0",
          "Photon energy fr (eV)": 14.3,
          "Photon energy to (eV)": null,
          "Polar ang (deg)": 31.5126787321953
         },
         {
          "EWS delay diff (as)": 14.320844329569,
          "KE range (eV)": "04.0",
          "Photon energy fr (eV)": 14.3,
          "Photon energy to (eV)": null,
          "Polar ang (deg)": 32.0856365273261
         },
         {
          "EWS delay diff (as)": 14.3130946769681,
          "KE range (eV)": "04.0",
          "Photon energy fr (eV)": 14.3,
          "Photon energy to (eV)": null,
          "Polar ang (deg)": 32.6585943224569
         },
         {
          "EWS delay diff (as)": 14.3123234384368,
          "KE range (eV)": "04.0",
          "Photon energy fr (eV)": 14.3,
          "Photon energy to (eV)": null,
          "Polar ang (deg)": 33.2315521175877
         },
         {
          "EWS delay diff (as)": 14.3192232669653,
          "KE range (eV)": "04.0",
          "Photon energy fr (eV)": 14.3,
          "Photon energy to (eV)": null,
          "Polar ang (deg)": 33.8045099127186
         },
         {
          "EWS delay diff (as)": 14.3345362551828,
          "KE range (eV)": "04.0",
          "Photon energy fr (eV)": 14.3,
          "Photon energy to (eV)": null,
          "Polar ang (deg)": 34.3774677078494
         },
         {
          "EWS delay diff (as)": 14.3590571070824,
          "KE range (eV)": "04.0",
          "Photon energy fr (eV)": 14.3,
          "Photon energy to (eV)": null,
          "Polar ang (deg)": 34.9504255029802
         },
         {
          "EWS delay diff (as)": 14.3936364553618,
          "KE range (eV)": "04.0",
          "Photon energy fr (eV)": 14.3,
          "Photon energy to (eV)": null,
          "Polar ang (deg)": 35.523383298111
         },
         {
          "EWS delay diff (as)": 14.4391843201261,
          "KE range (eV)": "04.0",
          "Photon energy fr (eV)": 14.3,
          "Photon energy to (eV)": null,
          "Polar ang (deg)": 36.0963410932419
         },
         {
          "EWS delay diff (as)": 14.4966737020309,
          "KE range (eV)": "04.0",
          "Photon energy fr (eV)": 14.3,
          "Photon energy to (eV)": null,
          "Polar ang (deg)": 36.6692988883727
         },
         {
          "EWS delay diff (as)": 14.5671442997455,
          "KE range (eV)": "04.0",
          "Photon energy fr (eV)": 14.3,
          "Photon energy to (eV)": null,
          "Polar ang (deg)": 37.2422566835035
         },
         {
          "EWS delay diff (as)": 14.6517063378724,
          "KE range (eV)": "04.0",
          "Photon energy fr (eV)": 14.3,
          "Photon energy to (eV)": null,
          "Polar ang (deg)": 37.8152144786343
         },
         {
          "EWS delay diff (as)": 14.7515444869923,
          "KE range (eV)": "04.0",
          "Photon energy fr (eV)": 14.3,
          "Photon energy to (eV)": null,
          "Polar ang (deg)": 38.3881722737652
         },
         {
          "EWS delay diff (as)": 14.8679218522854,
          "KE range (eV)": "04.0",
          "Photon energy fr (eV)": 14.3,
          "Photon energy to (eV)": null,
          "Polar ang (deg)": 38.961130068896
         },
         {
          "EWS delay diff (as)": 15.0021840011658,
          "KE range (eV)": "04.0",
          "Photon energy fr (eV)": 14.3,
          "Photon energy to (eV)": null,
          "Polar ang (deg)": 39.5340878640268
         },
         {
          "EWS delay diff (as)": 15.1557629933339,
          "KE range (eV)": "04.0",
          "Photon energy fr (eV)": 14.3,
          "Photon energy to (eV)": null,
          "Polar ang (deg)": 40.1070456591576
         },
         {
          "EWS delay diff (as)": 15.3301813686531,
          "KE range (eV)": "04.0",
          "Photon energy fr (eV)": 14.3,
          "Photon energy to (eV)": null,
          "Polar ang (deg)": 40.6800034542884
         },
         {
          "EWS delay diff (as)": 15.5270560391041,
          "KE range (eV)": "04.0",
          "Photon energy fr (eV)": 14.3,
          "Photon energy to (eV)": null,
          "Polar ang (deg)": 41.2529612494193
         },
         {
          "EWS delay diff (as)": 15.7481020207162,
          "KE range (eV)": "04.0",
          "Photon energy fr (eV)": 14.3,
          "Photon energy to (eV)": null,
          "Polar ang (deg)": 41.8259190445501
         },
         {
          "EWS delay diff (as)": 15.9951359297126,
          "KE range (eV)": "04.0",
          "Photon energy fr (eV)": 14.3,
          "Photon energy to (eV)": null,
          "Polar ang (deg)": 42.3988768396809
         },
         {
          "EWS delay diff (as)": 16.2700791541806,
          "KE range (eV)": "04.0",
          "Photon energy fr (eV)": 14.3,
          "Photon energy to (eV)": null,
          "Polar ang (deg)": 42.9718346348117
         },
         {
          "EWS delay diff (as)": 16.5749605981489,
          "KE range (eV)": "04.0",
          "Photon energy fr (eV)": 14.3,
          "Photon energy to (eV)": null,
          "Polar ang (deg)": 43.5447924299426
         },
         {
          "EWS delay diff (as)": 16.9119188793152,
          "KE range (eV)": "04.0",
          "Photon energy fr (eV)": 14.3,
          "Photon energy to (eV)": null,
          "Polar ang (deg)": 44.1177502250734
         },
         {
          "EWS delay diff (as)": 17.283203844606,
          "KE range (eV)": "04.0",
          "Photon energy fr (eV)": 14.3,
          "Photon energy to (eV)": null,
          "Polar ang (deg)": 44.6907080202042
         },
         {
          "EWS delay diff (as)": 17.6911772495973,
          "KE range (eV)": "04.0",
          "Photon energy fr (eV)": 14.3,
          "Photon energy to (eV)": null,
          "Polar ang (deg)": 45.263665815335
         },
         {
          "EWS delay diff (as)": 18.1383124286274,
          "KE range (eV)": "04.0",
          "Photon energy fr (eV)": 14.3,
          "Photon energy to (eV)": null,
          "Polar ang (deg)": 45.8366236104659
         },
         {
          "EWS delay diff (as)": 18.6271927625938,
          "KE range (eV)": "04.0",
          "Photon energy fr (eV)": 14.3,
          "Photon energy to (eV)": null,
          "Polar ang (deg)": 46.4095814055967
         },
         {
          "EWS delay diff (as)": 19.1605087314883,
          "KE range (eV)": "04.0",
          "Photon energy fr (eV)": 14.3,
          "Photon energy to (eV)": null,
          "Polar ang (deg)": 46.9825392007275
         },
         {
          "EWS delay diff (as)": 19.7410533188522,
          "KE range (eV)": "04.0",
          "Photon energy fr (eV)": 14.3,
          "Photon energy to (eV)": null,
          "Polar ang (deg)": 47.5554969958583
         },
         {
          "EWS delay diff (as)": 20.3717155170091,
          "KE range (eV)": "04.0",
          "Photon energy fr (eV)": 14.3,
          "Photon energy to (eV)": null,
          "Polar ang (deg)": 48.1284547909891
         },
         {
          "EWS delay diff (as)": 21.0554716652362,
          "KE range (eV)": "04.0",
          "Photon energy fr (eV)": 14.3,
          "Photon energy to (eV)": null,
          "Polar ang (deg)": 48.70141258612
         },
         {
          "EWS delay diff (as)": 21.7953743400692,
          "KE range (eV)": "04.0",
          "Photon energy fr (eV)": 14.3,
          "Photon energy to (eV)": null,
          "Polar ang (deg)": 49.2743703812508
         },
         {
          "EWS delay diff (as)": 22.5945385082866,
          "KE range (eV)": "04.0",
          "Photon energy fr (eV)": 14.3,
          "Photon energy to (eV)": null,
          "Polar ang (deg)": 49.8473281763816
         },
         {
          "EWS delay diff (as)": 23.4561246511147,
          "KE range (eV)": "04.0",
          "Photon energy fr (eV)": 14.3,
          "Photon energy to (eV)": null,
          "Polar ang (deg)": 50.4202859715125
         },
         {
          "EWS delay diff (as)": 24.3833185743192,
          "KE range (eV)": "04.0",
          "Photon energy fr (eV)": 14.3,
          "Photon energy to (eV)": null,
          "Polar ang (deg)": 50.9932437666433
         },
         {
          "EWS delay diff (as)": 25.3793076354905,
          "KE range (eV)": "04.0",
          "Photon energy fr (eV)": 14.3,
          "Photon energy to (eV)": null,
          "Polar ang (deg)": 51.5662015617741
         },
         {
          "EWS delay diff (as)": 26.4472531490956,
          "KE range (eV)": "04.0",
          "Photon energy fr (eV)": 14.3,
          "Photon energy to (eV)": null,
          "Polar ang (deg)": 52.1391593569049
         },
         {
          "EWS delay diff (as)": 27.5902587743486,
          "KE range (eV)": "04.0",
          "Photon energy fr (eV)": 14.3,
          "Photon energy to (eV)": null,
          "Polar ang (deg)": 52.7121171520357
         },
         {
          "EWS delay diff (as)": 28.8113347528309,
          "KE range (eV)": "04.0",
          "Photon energy fr (eV)": 14.3,
          "Photon energy to (eV)": null,
          "Polar ang (deg)": 53.2850749471666
         },
         {
          "EWS delay diff (as)": 30.1133579444279,
          "KE range (eV)": "04.0",
          "Photon energy fr (eV)": 14.3,
          "Photon energy to (eV)": null,
          "Polar ang (deg)": 53.8580327422974
         },
         {
          "EWS delay diff (as)": 31.4990277132159,
          "KE range (eV)": "04.0",
          "Photon energy fr (eV)": 14.3,
          "Photon energy to (eV)": null,
          "Polar ang (deg)": 54.4309905374282
         },
         {
          "EWS delay diff (as)": 32.9708178407513,
          "KE range (eV)": "04.0",
          "Photon energy fr (eV)": 14.3,
          "Photon energy to (eV)": null,
          "Polar ang (deg)": 55.003948332559
         },
         {
          "EWS delay diff (as)": 34.5309247929722,
          "KE range (eV)": "04.0",
          "Photon energy fr (eV)": 14.3,
          "Photon energy to (eV)": null,
          "Polar ang (deg)": 55.5769061276899
         },
         {
          "EWS delay diff (as)": 36.1812128377519,
          "KE range (eV)": "04.0",
          "Photon energy fr (eV)": 14.3,
          "Photon energy to (eV)": null,
          "Polar ang (deg)": 56.1498639228207
         },
         {
          "EWS delay diff (as)": 37.9231567004403,
          "KE range (eV)": "04.0",
          "Photon energy fr (eV)": 14.3,
          "Photon energy to (eV)": null,
          "Polar ang (deg)": 56.7228217179515
         },
         {
          "EWS delay diff (as)": 39.757782650323,
          "KE range (eV)": "04.0",
          "Photon energy fr (eV)": 14.3,
          "Photon energy to (eV)": null,
          "Polar ang (deg)": 57.2957795130823
         },
         {
          "EWS delay diff (as)": 41.6856091251265,
          "KE range (eV)": "04.0",
          "Photon energy fr (eV)": 14.3,
          "Photon energy to (eV)": null,
          "Polar ang (deg)": 57.8687373082132
         },
         {
          "EWS delay diff (as)": 43.7065882149517,
          "KE range (eV)": "04.0",
          "Photon energy fr (eV)": 14.3,
          "Photon energy to (eV)": null,
          "Polar ang (deg)": 58.441695103344
         },
         {
          "EWS delay diff (as)": 45.820049530251,
          "KE range (eV)": "04.0",
          "Photon energy fr (eV)": 14.3,
          "Photon energy to (eV)": null,
          "Polar ang (deg)": 59.0146528984748
         },
         {
          "EWS delay diff (as)": 48.0246481575986,
          "KE range (eV)": "04.0",
          "Photon energy fr (eV)": 14.3,
          "Photon energy to (eV)": null,
          "Polar ang (deg)": 59.5876106936056
         },
         {
          "EWS delay diff (as)": 50.3183185474603,
          "KE range (eV)": "04.0",
          "Photon energy fr (eV)": 14.3,
          "Photon energy to (eV)": null,
          "Polar ang (deg)": 60.1605684887364
         },
         {
          "EWS delay diff (as)": 52.6982362643791,
          "KE range (eV)": "04.0",
          "Photon energy fr (eV)": 14.3,
          "Photon energy to (eV)": null,
          "Polar ang (deg)": 60.7335262838673
         },
         {
          "EWS delay diff (as)": 55.1607895465551,
          "KE range (eV)": "04.0",
          "Photon energy fr (eV)": 14.3,
          "Photon energy to (eV)": null,
          "Polar ang (deg)": 61.3064840789981
         },
         {
          "EWS delay diff (as)": 57.701562554989,
          "KE range (eV)": "04.0",
          "Photon energy fr (eV)": 14.3,
          "Photon energy to (eV)": null,
          "Polar ang (deg)": 61.8794418741289
         },
         {
          "EWS delay diff (as)": 60.3153320308962,
          "KE range (eV)": "04.0",
          "Photon energy fr (eV)": 14.3,
          "Photon energy to (eV)": null,
          "Polar ang (deg)": 62.4523996692597
         },
         {
          "EWS delay diff (as)": 62.9960788177915,
          "KE range (eV)": "04.0",
          "Photon energy fr (eV)": 14.3,
          "Photon energy to (eV)": null,
          "Polar ang (deg)": 63.0253574643906
         },
         {
          "EWS delay diff (as)": 65.7370153405594,
          "KE range (eV)": "04.0",
          "Photon energy fr (eV)": 14.3,
          "Photon energy to (eV)": null,
          "Polar ang (deg)": 63.5983152595214
         },
         {
          "EWS delay diff (as)": 68.5306296746093,
          "KE range (eV)": "04.0",
          "Photon energy fr (eV)": 14.3,
          "Photon energy to (eV)": null,
          "Polar ang (deg)": 64.1712730546522
         },
         {
          "EWS delay diff (as)": 71.3687462978392,
          "KE range (eV)": "04.0",
          "Photon energy fr (eV)": 14.3,
          "Photon energy to (eV)": null,
          "Polar ang (deg)": 64.744230849783
         },
         {
          "EWS delay diff (as)": 74.242603018595,
          "KE range (eV)": "04.0",
          "Photon energy fr (eV)": 14.3,
          "Photon energy to (eV)": null,
          "Polar ang (deg)": 65.3171886449139
         },
         {
          "EWS delay diff (as)": 77.1429429429897,
          "KE range (eV)": "04.0",
          "Photon energy fr (eV)": 14.3,
          "Photon energy to (eV)": null,
          "Polar ang (deg)": 65.8901464400447
         },
         {
          "EWS delay diff (as)": 80.0601197188584,
          "KE range (eV)": "04.0",
          "Photon energy fr (eV)": 14.3,
          "Photon energy to (eV)": null,
          "Polar ang (deg)": 66.4631042351755
         },
         {
          "EWS delay diff (as)": 82.9842137088654,
          "KE range (eV)": "04.0",
          "Photon energy fr (eV)": 14.3,
          "Photon energy to (eV)": null,
          "Polar ang (deg)": 67.0360620303063
         },
         {
          "EWS delay diff (as)": 85.9051562387494,
          "KE range (eV)": "04.0",
          "Photon energy fr (eV)": 14.3,
          "Photon energy to (eV)": null,
          "Polar ang (deg)": 67.6090198254371
         },
         {
          "EWS delay diff (as)": 88.8128586729389,
          "KE range (eV)": "04.0",
          "Photon energy fr (eV)": 14.3,
          "Photon energy to (eV)": null,
          "Polar ang (deg)": 68.181977620568
         },
         {
          "EWS delay diff (as)": 91.6973428163876,
          "KE range (eV)": "04.0",
          "Photon energy fr (eV)": 14.3,
          "Photon energy to (eV)": null,
          "Polar ang (deg)": 68.7549354156988
         },
         {
          "EWS delay diff (as)": 94.5488690474763,
          "KE range (eV)": "04.0",
          "Photon energy fr (eV)": 14.3,
          "Photon energy to (eV)": null,
          "Polar ang (deg)": 69.3278932108296
         },
         {
          "EWS delay diff (as)": 97.3580586600375,
          "KE range (eV)": "04.0",
          "Photon energy fr (eV)": 14.3,
          "Photon energy to (eV)": null,
          "Polar ang (deg)": 69.9008510059604
         },
         {
          "EWS delay diff (as)": 100.116007129095,
          "KE range (eV)": "04.0",
          "Photon energy fr (eV)": 14.3,
          "Photon energy to (eV)": null,
          "Polar ang (deg)": 70.4738088010913
         },
         {
          "EWS delay diff (as)": 102.814385399273,
          "KE range (eV)": "04.0",
          "Photon energy fr (eV)": 14.3,
          "Photon energy to (eV)": null,
          "Polar ang (deg)": 71.0467665962221
         },
         {
          "EWS delay diff (as)": 105.445526801752,
          "KE range (eV)": "04.0",
          "Photon energy fr (eV)": 14.3,
          "Photon energy to (eV)": null,
          "Polar ang (deg)": 71.6197243913529
         },
         {
          "EWS delay diff (as)": 108.002497801536,
          "KE range (eV)": "04.0",
          "Photon energy fr (eV)": 14.3,
          "Photon energy to (eV)": null,
          "Polar ang (deg)": 72.1926821864837
         },
         {
          "EWS delay diff (as)": 110.479151424471,
          "KE range (eV)": "04.0",
          "Photon energy fr (eV)": 14.3,
          "Photon energy to (eV)": null,
          "Polar ang (deg)": 72.7656399816146
         },
         {
          "EWS delay diff (as)": 112.870162873243,
          "KE range (eV)": "04.0",
          "Photon energy fr (eV)": 14.3,
          "Photon energy to (eV)": null,
          "Polar ang (deg)": 73.3385977767454
         },
         {
          "EWS delay diff (as)": 115.171047476935,
          "KE range (eV)": "04.0",
          "Photon energy fr (eV)": 14.3,
          "Photon energy to (eV)": null,
          "Polar ang (deg)": 73.9115555718762
         },
         {
          "EWS delay diff (as)": 117.378161696957,
          "KE range (eV)": "04.0",
          "Photon energy fr (eV)": 14.3,
          "Photon energy to (eV)": null,
          "Polar ang (deg)": 74.484513367007
         },
         {
          "EWS delay diff (as)": 119.488688407967,
          "KE range (eV)": "04.0",
          "Photon energy fr (eV)": 14.3,
          "Photon energy to (eV)": null,
          "Polar ang (deg)": 75.0574711621378
         },
         {
          "EWS delay diff (as)": 121.500608068074,
          "KE range (eV)": "04.0",
          "Photon energy fr (eV)": 14.3,
          "Photon energy to (eV)": null,
          "Polar ang (deg)": 75.6304289572687
         },
         {
          "EWS delay diff (as)": 123.412657679252,
          "KE range (eV)": "04.0",
          "Photon energy fr (eV)": 14.3,
          "Photon energy to (eV)": null,
          "Polar ang (deg)": 76.2033867523995
         },
         {
          "EWS delay diff (as)": 125.224279615096,
          "KE range (eV)": "04.0",
          "Photon energy fr (eV)": 14.3,
          "Photon energy to (eV)": null,
          "Polar ang (deg)": 76.7763445475303
         },
         {
          "EWS delay diff (as)": 126.935562464706,
          "KE range (eV)": "04.0",
          "Photon energy fr (eV)": 14.3,
          "Photon energy to (eV)": null,
          "Polar ang (deg)": 77.3493023426612
         },
         {
          "EWS delay diff (as)": 128.547176019577,
          "KE range (eV)": "04.0",
          "Photon energy fr (eV)": 14.3,
          "Photon energy to (eV)": null,
          "Polar ang (deg)": 77.922260137792
         },
         {
          "EWS delay diff (as)": 130.060302429928,
          "KE range (eV)": "04.0",
          "Photon energy fr (eV)": 14.3,
          "Photon energy to (eV)": null,
          "Polar ang (deg)": 78.4952179329228
         },
         {
          "EWS delay diff (as)": 131.476565394624,
          "KE range (eV)": "04.0",
          "Photon energy fr (eV)": 14.3,
          "Photon energy to (eV)": null,
          "Polar ang (deg)": 79.0681757280536
         },
         {
          "EWS delay diff (as)": 132.797959042719,
          "KE range (eV)": "04.0",
          "Photon energy fr (eV)": 14.3,
          "Photon energy to (eV)": null,
          "Polar ang (deg)": 79.6411335231844
         },
         {
          "EWS delay diff (as)": 134.026777930884,
          "KE range (eV)": "04.0",
          "Photon energy fr (eV)": 14.3,
          "Photon energy to (eV)": null,
          "Polar ang (deg)": 80.2140913183153
         },
         {
          "EWS delay diff (as)": 135.165549335328,
          "KE range (eV)": "04.0",
          "Photon energy fr (eV)": 14.3,
          "Photon energy to (eV)": null,
          "Polar ang (deg)": 80.7870491134461
         },
         {
          "EWS delay diff (as)": 136.216968771952,
          "KE range (eV)": "04.0",
          "Photon energy fr (eV)": 14.3,
          "Photon energy to (eV)": null,
          "Polar ang (deg)": 81.3600069085769
         },
         {
          "EWS delay diff (as)": 137.1838394447,
          "KE range (eV)": "04.0",
          "Photon energy fr (eV)": 14.3,
          "Photon energy to (eV)": null,
          "Polar ang (deg)": 81.9329647037077
         },
         {
          "EWS delay diff (as)": 138.069016107326,
          "KE range (eV)": "04.0",
          "Photon energy fr (eV)": 14.3,
          "Photon energy to (eV)": null,
          "Polar ang (deg)": 82.5059224988385
         },
         {
          "EWS delay diff (as)": 138.875353633185,
          "KE range (eV)": "04.0",
          "Photon energy fr (eV)": 14.3,
          "Photon energy to (eV)": null,
          "Polar ang (deg)": 83.0788802939694
         },
         {
          "EWS delay diff (as)": 139.605660424234,
          "KE range (eV)": "04.0",
          "Photon energy fr (eV)": 14.3,
          "Photon energy to (eV)": null,
          "Polar ang (deg)": 83.6518380891002
         },
         {
          "EWS delay diff (as)": 140.262656655356,
          "KE range (eV)": "04.0",
          "Photon energy fr (eV)": 14.3,
          "Photon energy to (eV)": null,
          "Polar ang (deg)": 84.224795884231
         },
         {
          "EWS delay diff (as)": 140.848937243232,
          "KE range (eV)": "04.0",
          "Photon energy fr (eV)": 14.3,
          "Photon energy to (eV)": null,
          "Polar ang (deg)": 84.7977536793618
         },
         {
          "EWS delay diff (as)": 141.366939348518,
          "KE range (eV)": "04.0",
          "Photon energy fr (eV)": 14.3,
          "Photon energy to (eV)": null,
          "Polar ang (deg)": 85.3707114744927
         },
         {
          "EWS delay diff (as)": 141.818914164328,
          "KE range (eV)": "04.0",
          "Photon energy fr (eV)": 14.3,
          "Photon energy to (eV)": null,
          "Polar ang (deg)": 85.9436692696235
         },
         {
          "EWS delay diff (as)": 142.206902710035,
          "KE range (eV)": "04.0",
          "Photon energy fr (eV)": 14.3,
          "Photon energy to (eV)": null,
          "Polar ang (deg)": 86.5166270647543
         },
         {
          "EWS delay diff (as)": 142.53271533441,
          "KE range (eV)": "04.0",
          "Photon energy fr (eV)": 14.3,
          "Photon energy to (eV)": null,
          "Polar ang (deg)": 87.0895848598851
         },
         {
          "EWS delay diff (as)": 142.79791463361,
          "KE range (eV)": "04.0",
          "Photon energy fr (eV)": 14.3,
          "Photon energy to (eV)": null,
          "Polar ang (deg)": 87.6625426550159
         },
         {
          "EWS delay diff (as)": 143.003801504165,
          "KE range (eV)": "04.0",
          "Photon energy fr (eV)": 14.3,
          "Photon energy to (eV)": null,
          "Polar ang (deg)": 88.2355004501468
         },
         {
          "EWS delay diff (as)": 143.151404077102,
          "KE range (eV)": "04.0",
          "Photon energy fr (eV)": 14.3,
          "Photon energy to (eV)": null,
          "Polar ang (deg)": 88.8084582452776
         },
         {
          "EWS delay diff (as)": 143.241469313855,
          "KE range (eV)": "04.0",
          "Photon energy fr (eV)": 14.3,
          "Photon energy to (eV)": null,
          "Polar ang (deg)": 89.3814160404084
         },
         {
          "EWS delay diff (as)": 143.274457085919,
          "KE range (eV)": "04.0",
          "Photon energy fr (eV)": 14.3,
          "Photon energy to (eV)": null,
          "Polar ang (deg)": 89.9543738355393
         },
         {
          "EWS delay diff (as)": 143.250536606509,
          "KE range (eV)": "04.0",
          "Photon energy fr (eV)": 14.3,
          "Photon energy to (eV)": null,
          "Polar ang (deg)": 90.5273316306701
         },
         {
          "EWS delay diff (as)": 143.169585132103,
          "KE range (eV)": "04.0",
          "Photon energy fr (eV)": 14.3,
          "Photon energy to (eV)": null,
          "Polar ang (deg)": 91.1002894258009
         },
         {
          "EWS delay diff (as)": 143.031188903546,
          "KE range (eV)": "04.0",
          "Photon energy fr (eV)": 14.3,
          "Photon energy to (eV)": null,
          "Polar ang (deg)": 91.6732472209317
         },
         {
          "EWS delay diff (as)": 142.834646348678,
          "KE range (eV)": "04.0",
          "Photon energy fr (eV)": 14.3,
          "Photon energy to (eV)": null,
          "Polar ang (deg)": 92.2462050160626
         },
         {
          "EWS delay diff (as)": 142.578973620555,
          "KE range (eV)": "04.0",
          "Photon energy fr (eV)": 14.3,
          "Photon energy to (eV)": null,
          "Polar ang (deg)": 92.8191628111934
         },
         {
          "EWS delay diff (as)": 142.262912595147,
          "KE range (eV)": "04.0",
          "Photon energy fr (eV)": 14.3,
          "Photon energy to (eV)": null,
          "Polar ang (deg)": 93.3921206063242
         },
         {
          "EWS delay diff (as)": 141.884941499637,
          "KE range (eV)": "04.0",
          "Photon energy fr (eV)": 14.3,
          "Photon energy to (eV)": null,
          "Polar ang (deg)": 93.965078401455
         },
         {
          "EWS delay diff (as)": 141.443288384352,
          "KE range (eV)": "04.0",
          "Photon energy fr (eV)": 14.3,
          "Photon energy to (eV)": null,
          "Polar ang (deg)": 94.5380361965858
         },
         {
          "EWS delay diff (as)": 140.935947687296,
          "KE range (eV)": "04.0",
          "Photon energy fr (eV)": 14.3,
          "Photon energy to (eV)": null,
          "Polar ang (deg)": 95.1109939917167
         },
         {
          "EWS delay diff (as)": 140.360700167665,
          "KE range (eV)": "04.0",
          "Photon energy fr (eV)": 14.3,
          "Photon energy to (eV)": null,
          "Polar ang (deg)": 95.6839517868475
         },
         {
          "EWS delay diff (as)": 139.715136501316,
          "KE range (eV)": "04.0",
          "Photon energy fr (eV)": 14.3,
          "Photon energy to (eV)": null,
          "Polar ang (deg)": 96.2569095819783
         },
         {
          "EWS delay diff (as)": 138.996684834968,
          "KE range (eV)": "04.0",
          "Photon energy fr (eV)": 14.3,
          "Photon energy to (eV)": null,
          "Polar ang (deg)": 96.8298673771091
         },
         {
          "EWS delay diff (as)": 138.202642583696,
          "KE range (eV)": "04.0",
          "Photon energy fr (eV)": 14.3,
          "Photon energy to (eV)": null,
          "Polar ang (deg)": 97.40282517224
         },
         {
          "EWS delay diff (as)": 137.330212725548,
          "KE range (eV)": "04.0",
          "Photon energy fr (eV)": 14.3,
          "Photon energy to (eV)": null,
          "Polar ang (deg)": 97.9757829673708
         },
         {
          "EWS delay diff (as)": 136.376544794942,
          "KE range (eV)": "04.0",
          "Photon energy fr (eV)": 14.3,
          "Photon energy to (eV)": null,
          "Polar ang (deg)": 98.5487407625016
         },
         {
          "EWS delay diff (as)": 135.338780700224,
          "KE range (eV)": "04.0",
          "Photon energy fr (eV)": 14.3,
          "Photon energy to (eV)": null,
          "Polar ang (deg)": 99.1216985576324
         },
         {
          "EWS delay diff (as)": 134.214105388097,
          "KE range (eV)": "04.0",
          "Photon energy fr (eV)": 14.3,
          "Photon energy to (eV)": null,
          "Polar ang (deg)": 99.6946563527632
         },
         {
          "EWS delay diff (as)": 132.999802247205,
          "KE range (eV)": "04.0",
          "Photon energy fr (eV)": 14.3,
          "Photon energy to (eV)": null,
          "Polar ang (deg)": 100.267614147894
         },
         {
          "EWS delay diff (as)": 131.693312984112,
          "KE range (eV)": "04.0",
          "Photon energy fr (eV)": 14.3,
          "Photon energy to (eV)": null,
          "Polar ang (deg)": 100.840571943025
         },
         {
          "EWS delay diff (as)": 130.292301518569,
          "KE range (eV)": "04.0",
          "Photon energy fr (eV)": 14.3,
          "Photon energy to (eV)": null,
          "Polar ang (deg)": 101.413529738156
         },
         {
          "EWS delay diff (as)": 128.794721233749,
          "KE range (eV)": "04.0",
          "Photon energy fr (eV)": 14.3,
          "Photon energy to (eV)": null,
          "Polar ang (deg)": 101.986487533287
         },
         {
          "EWS delay diff (as)": 127.198884685871,
          "KE range (eV)": "04.0",
          "Photon energy fr (eV)": 14.3,
          "Photon energy to (eV)": null,
          "Polar ang (deg)": 102.559445328417
         },
         {
          "EWS delay diff (as)": 125.503534634017,
          "KE range (eV)": "04.0",
          "Photon energy fr (eV)": 14.3,
          "Photon energy to (eV)": null,
          "Polar ang (deg)": 103.132403123548
         },
         {
          "EWS delay diff (as)": 123.707915004523,
          "KE range (eV)": "04.0",
          "Photon energy fr (eV)": 14.3,
          "Photon energy to (eV)": null,
          "Polar ang (deg)": 103.705360918679
         },
         {
          "EWS delay diff (as)": 121.81184016773,
          "KE range (eV)": "04.0",
          "Photon energy fr (eV)": 14.3,
          "Photon energy to (eV)": null,
          "Polar ang (deg)": 104.27831871381
         },
         {
          "EWS delay diff (as)": 119.815760693299,
          "KE range (eV)": "04.0",
          "Photon energy fr (eV)": 14.3,
          "Photon energy to (eV)": null,
          "Polar ang (deg)": 104.851276508941
         },
         {
          "EWS delay diff (as)": 117.720823579777,
          "KE range (eV)": "04.0",
          "Photon energy fr (eV)": 14.3,
          "Photon energy to (eV)": null,
          "Polar ang (deg)": 105.424234304071
         },
         {
          "EWS delay diff (as)": 115.528924842746,
          "KE range (eV)": "04.0",
          "Photon energy fr (eV)": 14.3,
          "Photon energy to (eV)": null,
          "Polar ang (deg)": 105.997192099202
         },
         {
          "EWS delay diff (as)": 113.242752310292,
          "KE range (eV)": "04.0",
          "Photon energy fr (eV)": 14.3,
          "Photon energy to (eV)": null,
          "Polar ang (deg)": 106.570149894333
         },
         {
          "EWS delay diff (as)": 110.865816530552,
          "KE range (eV)": "04.0",
          "Photon energy fr (eV)": 14.3,
          "Photon energy to (eV)": null,
          "Polar ang (deg)": 107.143107689464
         },
         {
          "EWS delay diff (as)": 108.402467854912,
          "KE range (eV)": "04.0",
          "Photon energy fr (eV)": 14.3,
          "Photon energy to (eV)": null,
          "Polar ang (deg)": 107.716065484595
         },
         {
          "EWS delay diff (as)": 105.857898029662,
          "KE range (eV)": "04.0",
          "Photon energy fr (eV)": 14.3,
          "Photon energy to (eV)": null,
          "Polar ang (deg)": 108.289023279726
         },
         {
          "EWS delay diff (as)": 103.238125007241,
          "KE range (eV)": "04.0",
          "Photon energy fr (eV)": 14.3,
          "Photon energy to (eV)": null,
          "Polar ang (deg)": 108.861981074856
         },
         {
          "EWS delay diff (as)": 100.549960169374,
          "KE range (eV)": "04.0",
          "Photon energy fr (eV)": 14.3,
          "Photon energy to (eV)": null,
          "Polar ang (deg)": 109.434938869987
         },
         {
          "EWS delay diff (as)": 97.8009577207857,
          "KE range (eV)": "04.0",
          "Photon energy fr (eV)": 14.3,
          "Photon energy to (eV)": null,
          "Polar ang (deg)": 110.007896665118
         },
         {
          "EWS delay diff (as)": 94.9993466405452,
          "KE range (eV)": "04.0",
          "Photon energy fr (eV)": 14.3,
          "Photon energy to (eV)": null,
          "Polar ang (deg)": 110.580854460249
         },
         {
          "EWS delay diff (as)": 92.1539462363299,
          "KE range (eV)": "04.0",
          "Photon energy fr (eV)": 14.3,
          "Photon energy to (eV)": null,
          "Polar ang (deg)": 111.15381225538
         },
         {
          "EWS delay diff (as)": 89.2740669991241,
          "KE range (eV)": "04.0",
          "Photon energy fr (eV)": 14.3,
          "Photon energy to (eV)": null,
          "Polar ang (deg)": 111.726770050511
         },
         {
          "EWS delay diff (as)": 86.3693990626828,
          "KE range (eV)": "04.0",
          "Photon energy fr (eV)": 14.3,
          "Photon energy to (eV)": null,
          "Polar ang (deg)": 112.299727845641
         },
         {
          "EWS delay diff (as)": 83.449891095345,
          "KE range (eV)": "04.0",
          "Photon energy fr (eV)": 14.3,
          "Photon energy to (eV)": null,
          "Polar ang (deg)": 112.872685640772
         },
         {
          "EWS delay diff (as)": 80.5256228578628,
          "KE range (eV)": "04.0",
          "Photon energy fr (eV)": 14.3,
          "Photon energy to (eV)": null,
          "Polar ang (deg)": 113.445643435903
         },
         {
          "EWS delay diff (as)": 77.6066749221265,
          "KE range (eV)": "04.0",
          "Photon energy fr (eV)": 14.3,
          "Photon energy to (eV)": null,
          "Polar ang (deg)": 114.018601231034
         },
         {
          "EWS delay diff (as)": 74.7029991455364,
          "KE range (eV)": "04.0",
          "Photon energy fr (eV)": 14.3,
          "Photon energy to (eV)": null,
          "Polar ang (deg)": 114.591559026165
         },
         {
          "EWS delay diff (as)": 71.824293428115,
          "KE range (eV)": "04.0",
          "Photon energy fr (eV)": 14.3,
          "Photon energy to (eV)": null,
          "Polar ang (deg)": 115.164516821295
         },
         {
          "EWS delay diff (as)": 68.9798840505773,
          "KE range (eV)": "04.0",
          "Photon energy fr (eV)": 14.3,
          "Photon energy to (eV)": null,
          "Polar ang (deg)": 115.737474616426
         },
         {
          "EWS delay diff (as)": 66.1786185183253,
          "KE range (eV)": "04.0",
          "Photon energy fr (eV)": 14.3,
          "Photon energy to (eV)": null,
          "Polar ang (deg)": 116.310432411557
         },
         {
          "EWS delay diff (as)": 63.4287713458086,
          "KE range (eV)": "04.0",
          "Photon energy fr (eV)": 14.3,
          "Photon energy to (eV)": null,
          "Polar ang (deg)": 116.883390206688
         },
         {
          "EWS delay diff (as)": 60.7379646407615,
          "KE range (eV)": "04.0",
          "Photon energy fr (eV)": 14.3,
          "Photon energy to (eV)": null,
          "Polar ang (deg)": 117.456348001819
         },
         {
          "EWS delay diff (as)": 58.1131047259866,
          "KE range (eV)": "04.0",
          "Photon energy fr (eV)": 14.3,
          "Photon energy to (eV)": null,
          "Polar ang (deg)": 118.02930579695
         },
         {
          "EWS delay diff (as)": 55.5603354044081,
          "KE range (eV)": "04.0",
          "Photon energy fr (eV)": 14.3,
          "Photon energy to (eV)": null,
          "Polar ang (deg)": 118.60226359208
         },
         {
          "EWS delay diff (as)": 53.0850078671179,
          "KE range (eV)": "04.0",
          "Photon energy fr (eV)": 14.3,
          "Photon energy to (eV)": null,
          "Polar ang (deg)": 119.175221387211
         },
         {
          "EWS delay diff (as)": 50.691666692174,
          "KE range (eV)": "04.0",
          "Photon energy fr (eV)": 14.3,
          "Photon energy to (eV)": null,
          "Polar ang (deg)": 119.748179182342
         },
         {
          "EWS delay diff (as)": 48.3840509090783,
          "KE range (eV)": "04.0",
          "Photon energy fr (eV)": 14.3,
          "Photon energy to (eV)": null,
          "Polar ang (deg)": 120.321136977473
         },
         {
          "EWS delay diff (as)": 46.1651087236348,
          "KE range (eV)": "04.0",
          "Photon energy fr (eV)": 14.3,
          "Photon energy to (eV)": null,
          "Polar ang (deg)": 120.894094772604
         },
         {
          "EWS delay diff (as)": 44.0370242195236,
          "KE range (eV)": "04.0",
          "Photon energy fr (eV)": 14.3,
          "Photon energy to (eV)": null,
          "Polar ang (deg)": 121.467052567735
         },
         {
          "EWS delay diff (as)": 42.0012541754815,
          "KE range (eV)": "04.0",
          "Photon energy fr (eV)": 14.3,
          "Photon energy to (eV)": null,
          "Polar ang (deg)": 122.040010362865
         },
         {
          "EWS delay diff (as)": 40.0585730559016,
          "KE range (eV)": "04.0",
          "Photon energy fr (eV)": 14.3,
          "Photon energy to (eV)": null,
          "Polar ang (deg)": 122.612968157996
         },
         {
          "EWS delay diff (as)": 38.2091242367295,
          "KE range (eV)": "04.0",
          "Photon energy fr (eV)": 14.3,
          "Photon energy to (eV)": null,
          "Polar ang (deg)": 123.185925953127
         },
         {
          "EWS delay diff (as)": 36.4524756046833,
          "KE range (eV)": "04.0",
          "Photon energy fr (eV)": 14.3,
          "Photon energy to (eV)": null,
          "Polar ang (deg)": 123.758883748258
         },
         {
          "EWS delay diff (as)": 34.7876778006757,
          "KE range (eV)": "04.0",
          "Photon energy fr (eV)": 14.3,
          "Photon energy to (eV)": null,
          "Polar ang (deg)": 124.331841543389
         },
         {
          "EWS delay diff (as)": 33.2133235523777,
          "KE range (eV)": "04.0",
          "Photon energy fr (eV)": 14.3,
          "Photon energy to (eV)": null,
          "Polar ang (deg)": 124.904799338519
         },
         {
          "EWS delay diff (as)": 31.7276067410219,
          "KE range (eV)": "04.0",
          "Photon energy fr (eV)": 14.3,
          "Photon energy to (eV)": null,
          "Polar ang (deg)": 125.47775713365
         },
         {
          "EWS delay diff (as)": 30.3283800610323,
          "KE range (eV)": "04.0",
          "Photon energy fr (eV)": 14.3,
          "Photon energy to (eV)": null,
          "Polar ang (deg)": 126.050714928781
         },
         {
          "EWS delay diff (as)": 29.0132103457665,
          "KE range (eV)": "04.0",
          "Photon energy fr (eV)": 14.3,
          "Photon energy to (eV)": null,
          "Polar ang (deg)": 126.623672723912
         },
         {
          "EWS delay diff (as)": 27.7794308401855,
          "KE range (eV)": "04.0",
          "Photon energy fr (eV)": 14.3,
          "Photon energy to (eV)": null,
          "Polar ang (deg)": 127.196630519043
         },
         {
          "EWS delay diff (as)": 26.6241898942976,
          "KE range (eV)": "04.0",
          "Photon energy fr (eV)": 14.3,
          "Photon energy to (eV)": null,
          "Polar ang (deg)": 127.769588314174
         },
         {
          "EWS delay diff (as)": 25.5444957254465,
          "KE range (eV)": "04.0",
          "Photon energy fr (eV)": 14.3,
          "Photon energy to (eV)": null,
          "Polar ang (deg)": 128.342546109304
         },
         {
          "EWS delay diff (as)": 24.5372570497509,
          "KE range (eV)": "04.0",
          "Photon energy fr (eV)": 14.3,
          "Photon energy to (eV)": null,
          "Polar ang (deg)": 128.915503904435
         },
         {
          "EWS delay diff (as)": 23.5993195126447,
          "KE range (eV)": "04.0",
          "Photon energy fr (eV)": 14.3,
          "Photon energy to (eV)": null,
          "Polar ang (deg)": 129.488461699566
         },
         {
          "EWS delay diff (as)": 22.7274979549499,
          "KE range (eV)": "04.0",
          "Photon energy fr (eV)": 14.3,
          "Photon energy to (eV)": null,
          "Polar ang (deg)": 130.061419494697
         },
         {
          "EWS delay diff (as)": 21.9186046359354,
          "KE range (eV)": "04.0",
          "Photon energy fr (eV)": 14.3,
          "Photon energy to (eV)": null,
          "Polar ang (deg)": 130.634377289828
         },
         {
          "EWS delay diff (as)": 21.1694735997305,
          "KE range (eV)": "04.0",
          "Photon energy fr (eV)": 14.3,
          "Photon energy to (eV)": null,
          "Polar ang (deg)": 131.207335084959
         },
         {
          "EWS delay diff (as)": 20.4769814184509,
          "KE range (eV)": "04.0",
          "Photon energy fr (eV)": 14.3,
          "Photon energy to (eV)": null,
          "Polar ang (deg)": 131.780292880089
         },
         {
          "EWS delay diff (as)": 19.8380645770051,
          "KE range (eV)": "04.0",
          "Photon energy fr (eV)": 14.3,
          "Photon energy to (eV)": null,
          "Polar ang (deg)": 132.35325067522
         },
         {
          "EWS delay diff (as)": 19.2497337830204,
          "KE range (eV)": "04.0",
          "Photon energy fr (eV)": 14.3,
          "Photon energy to (eV)": null,
          "Polar ang (deg)": 132.926208470351
         },
         {
          "EWS delay diff (as)": 18.7090854930023,
          "KE range (eV)": "04.0",
          "Photon energy fr (eV)": 14.3,
          "Photon energy to (eV)": null,
          "Polar ang (deg)": 133.499166265482
         },
         {
          "EWS delay diff (as)": 18.2133109448994,
          "KE range (eV)": "04.0",
          "Photon energy fr (eV)": 14.3,
          "Photon energy to (eV)": null,
          "Polar ang (deg)": 134.072124060613
         },
         {
          "EWS delay diff (as)": 17.7597029797418,
          "KE range (eV)": "04.0",
          "Photon energy fr (eV)": 14.3,
          "Photon energy to (eV)": null,
          "Polar ang (deg)": 134.645081855743
         },
         {
          "EWS delay diff (as)": 17.3456609223415,
          "KE range (eV)": "04.0",
          "Photon energy fr (eV)": 14.3,
          "Photon energy to (eV)": null,
          "Polar ang (deg)": 135.218039650874
         },
         {
          "EWS delay diff (as)": 16.9686937752189,
          "KE range (eV)": "04.0",
          "Photon energy fr (eV)": 14.3,
          "Photon energy to (eV)": null,
          "Polar ang (deg)": 135.790997446005
         },
         {
          "EWS delay diff (as)": 16.6264219613694,
          "KE range (eV)": "04.0",
          "Photon energy fr (eV)": 14.3,
          "Photon energy to (eV)": null,
          "Polar ang (deg)": 136.363955241136
         },
         {
          "EWS delay diff (as)": 16.316577832221,
          "KE range (eV)": "04.0",
          "Photon energy fr (eV)": 14.3,
          "Photon energy to (eV)": null,
          "Polar ang (deg)": 136.936913036267
         },
         {
          "EWS delay diff (as)": 16.0370051368908,
          "KE range (eV)": "04.0",
          "Photon energy fr (eV)": 14.3,
          "Photon energy to (eV)": null,
          "Polar ang (deg)": 137.509870831398
         },
         {
          "EWS delay diff (as)": 15.7856576289568,
          "KE range (eV)": "04.0",
          "Photon energy fr (eV)": 14.3,
          "Photon energy to (eV)": null,
          "Polar ang (deg)": 138.082828626528
         },
         {
          "EWS delay diff (as)": 15.5605969678483,
          "KE range (eV)": "04.0",
          "Photon energy fr (eV)": 14.3,
          "Photon energy to (eV)": null,
          "Polar ang (deg)": 138.655786421659
         },
         {
          "EWS delay diff (as)": 15.3599900533923,
          "KE range (eV)": "04.0",
          "Photon energy fr (eV)": 14.3,
          "Photon energy to (eV)": null,
          "Polar ang (deg)": 139.22874421679
         },
         {
          "EWS delay diff (as)": 15.1821059149739,
          "KE range (eV)": "04.0",
          "Photon energy fr (eV)": 14.3,
          "Photon energy to (eV)": null,
          "Polar ang (deg)": 139.801702011921
         },
         {
          "EWS delay diff (as)": 15.025312260752,
          "KE range (eV)": "04.0",
          "Photon energy fr (eV)": 14.3,
          "Photon energy to (eV)": null,
          "Polar ang (deg)": 140.374659807052
         },
         {
          "EWS delay diff (as)": 14.8880717778965,
          "KE range (eV)": "04.0",
          "Photon energy fr (eV)": 14.3,
          "Photon energy to (eV)": null,
          "Polar ang (deg)": 140.947617602183
         },
         {
          "EWS delay diff (as)": 14.7689382615575,
          "KE range (eV)": "04.0",
          "Photon energy fr (eV)": 14.3,
          "Photon energy to (eV)": null,
          "Polar ang (deg)": 141.520575397313
         },
         {
          "EWS delay diff (as)": 14.6665526383813,
          "KE range (eV)": "04.0",
          "Photon energy fr (eV)": 14.3,
          "Photon energy to (eV)": null,
          "Polar ang (deg)": 142.093533192444
         },
         {
          "EWS delay diff (as)": 14.5796389400026,
          "KE range (eV)": "04.0",
          "Photon energy fr (eV)": 14.3,
          "Photon energy to (eV)": null,
          "Polar ang (deg)": 142.666490987575
         },
         {
          "EWS delay diff (as)": 14.5070002723546,
          "KE range (eV)": "04.0",
          "Photon energy fr (eV)": 14.3,
          "Photon energy to (eV)": null,
          "Polar ang (deg)": 143.239448782706
         },
         {
          "EWS delay diff (as)": 14.4475148187055,
          "KE range (eV)": "04.0",
          "Photon energy fr (eV)": 14.3,
          "Photon energy to (eV)": null,
          "Polar ang (deg)": 143.812406577837
         },
         {
          "EWS delay diff (as)": 14.400131906946,
          "KE range (eV)": "04.0",
          "Photon energy fr (eV)": 14.3,
          "Photon energy to (eV)": null,
          "Polar ang (deg)": 144.385364372967
         },
         {
          "EWS delay diff (as)": 14.3638681656757,
          "KE range (eV)": "04.0",
          "Photon energy fr (eV)": 14.3,
          "Photon energy to (eV)": null,
          "Polar ang (deg)": 144.958322168098
         },
         {
          "EWS delay diff (as)": 14.3378037880773,
          "KE range (eV)": "04.0",
          "Photon energy fr (eV)": 14.3,
          "Photon energy to (eV)": null,
          "Polar ang (deg)": 145.531279963229
         },
         {
          "EWS delay diff (as)": 14.3210789182326,
          "KE range (eV)": "04.0",
          "Photon energy fr (eV)": 14.3,
          "Photon energy to (eV)": null,
          "Polar ang (deg)": 146.10423775836
         },
         {
          "EWS delay diff (as)": 14.3128901704586,
          "KE range (eV)": "04.0",
          "Photon energy fr (eV)": 14.3,
          "Photon energy to (eV)": null,
          "Polar ang (deg)": 146.677195553491
         },
         {
          "EWS delay diff (as)": 14.3124872891072,
          "KE range (eV)": "04.0",
          "Photon energy fr (eV)": 14.3,
          "Photon energy to (eV)": null,
          "Polar ang (deg)": 147.250153348622
         },
         {
          "EWS delay diff (as)": 14.3191699534668,
          "KE range (eV)": "04.0",
          "Photon energy fr (eV)": 14.3,
          "Photon energy to (eV)": null,
          "Polar ang (deg)": 147.823111143752
         },
         {
          "EWS delay diff (as)": 14.3322847300915,
          "KE range (eV)": "04.0",
          "Photon energy fr (eV)": 14.3,
          "Photon energy to (eV)": null,
          "Polar ang (deg)": 148.396068938883
         },
         {
          "EWS delay diff (as)": 14.3512221732003,
          "KE range (eV)": "04.0",
          "Photon energy fr (eV)": 14.3,
          "Photon energy to (eV)": null,
          "Polar ang (deg)": 148.969026734014
         },
         {
          "EWS delay diff (as)": 14.3754140719494,
          "KE range (eV)": "04.0",
          "Photon energy fr (eV)": 14.3,
          "Photon energy to (eV)": null,
          "Polar ang (deg)": 149.541984529145
         },
         {
          "EWS delay diff (as)": 14.4043308424688,
          "KE range (eV)": "04.0",
          "Photon energy fr (eV)": 14.3,
          "Photon energy to (eV)": null,
          "Polar ang (deg)": 150.114942324276
         },
         {
          "EWS delay diff (as)": 14.4374790614066,
          "KE range (eV)": "04.0",
          "Photon energy fr (eV)": 14.3,
          "Photon energy to (eV)": null,
          "Polar ang (deg)": 150.687900119407
         },
         {
          "EWS delay diff (as)": 14.4743991370024,
          "KE range (eV)": "04.0",
          "Photon energy fr (eV)": 14.3,
          "Photon energy to (eV)": null,
          "Polar ang (deg)": 151.260857914537
         },
         {
          "EWS delay diff (as)": 14.5146631131965,
          "KE range (eV)": "04.0",
          "Photon energy fr (eV)": 14.3,
          "Photon energy to (eV)": null,
          "Polar ang (deg)": 151.833815709668
         },
         {
          "EWS delay diff (as)": 14.5578726018059,
          "KE range (eV)": "04.0",
          "Photon energy fr (eV)": 14.3,
          "Photon energy to (eV)": null,
          "Polar ang (deg)": 152.406773504799
         },
         {
          "EWS delay diff (as)": 14.6036568375809,
          "KE range (eV)": "04.0",
          "Photon energy fr (eV)": 14.3,
          "Photon energy to (eV)": null,
          "Polar ang (deg)": 152.97973129993
         },
         {
          "EWS delay diff (as)": 14.6516708507072,
          "KE range (eV)": "04.0",
          "Photon energy fr (eV)": 14.3,
          "Photon energy to (eV)": null,
          "Polar ang (deg)": 153.552689095061
         },
         {
          "EWS delay diff (as)": 14.7015937513117,
          "KE range (eV)": "04.0",
          "Photon energy fr (eV)": 14.3,
          "Photon energy to (eV)": null,
          "Polar ang (deg)": 154.125646890191
         },
         {
          "EWS delay diff (as)": 14.7531271204411,
          "KE range (eV)": "04.0",
          "Photon energy fr (eV)": 14.3,
          "Photon energy to (eV)": null,
          "Polar ang (deg)": 154.698604685322
         },
         {
          "EWS delay diff (as)": 14.8059935021099,
          "KE range (eV)": "04.0",
          "Photon energy fr (eV)": 14.3,
          "Photon energy to (eV)": null,
          "Polar ang (deg)": 155.271562480453
         },
         {
          "EWS delay diff (as)": 14.8599349909855,
          "KE range (eV)": "04.0",
          "Photon energy fr (eV)": 14.3,
          "Photon energy to (eV)": null,
          "Polar ang (deg)": 155.844520275584
         },
         {
          "EWS delay diff (as)": 14.914711910551,
          "KE range (eV)": "04.0",
          "Photon energy fr (eV)": 14.3,
          "Photon energy to (eV)": null,
          "Polar ang (deg)": 156.417478070715
         },
         {
          "EWS delay diff (as)": 14.9701015766368,
          "KE range (eV)": "04.0",
          "Photon energy fr (eV)": 14.3,
          "Photon energy to (eV)": null,
          "Polar ang (deg)": 156.990435865846
         },
         {
          "EWS delay diff (as)": 15.0258971413635,
          "KE range (eV)": "04.0",
          "Photon energy fr (eV)": 14.3,
          "Photon energy to (eV)": null,
          "Polar ang (deg)": 157.563393660976
         },
         {
          "EWS delay diff (as)": 15.081906512922,
          "KE range (eV)": "04.0",
          "Photon energy fr (eV)": 14.3,
          "Photon energy to (eV)": null,
          "Polar ang (deg)": 158.136351456107
         },
         {
          "EWS delay diff (as)": 15.1379513464729,
          "KE range (eV)": "04.0",
          "Photon energy fr (eV)": 14.3,
          "Photon energy to (eV)": null,
          "Polar ang (deg)": 158.709309251238
         },
         {
          "EWS delay diff (as)": 15.193866102079,
          "KE range (eV)": "04.0",
          "Photon energy fr (eV)": 14.3,
          "Photon energy to (eV)": null,
          "Polar ang (deg)": 159.282267046369
         },
         {
          "EWS delay diff (as)": 15.2494971653905,
          "KE range (eV)": "04.0",
          "Photon energy fr (eV)": 14.3,
          "Photon energy to (eV)": null,
          "Polar ang (deg)": 159.8552248415
         },
         {
          "EWS delay diff (as)": 15.3047020272901,
          "KE range (eV)": "04.0",
          "Photon energy fr (eV)": 14.3,
          "Photon energy to (eV)": null,
          "Polar ang (deg)": 160.428182636631
         },
         {
          "EWS delay diff (as)": 15.3593485188068,
          "KE range (eV)": "04.0",
          "Photon energy fr (eV)": 14.3,
          "Photon energy to (eV)": null,
          "Polar ang (deg)": 161.001140431761
         },
         {
          "EWS delay diff (as)": 15.4133140977706,
          "KE range (eV)": "04.0",
          "Photon energy fr (eV)": 14.3,
          "Photon energy to (eV)": null,
          "Polar ang (deg)": 161.574098226892
         },
         {
          "EWS delay diff (as)": 15.4664851839925,
          "KE range (eV)": "04.0",
          "Photon energy fr (eV)": 14.3,
          "Photon energy to (eV)": null,
          "Polar ang (deg)": 162.147056022023
         },
         {
          "EWS delay diff (as)": 15.5187565398105,
          "KE range (eV)": "04.0",
          "Photon energy fr (eV)": 14.3,
          "Photon energy to (eV)": null,
          "Polar ang (deg)": 162.720013817154
         },
         {
          "EWS delay diff (as)": 15.5700306931621,
          "KE range (eV)": "04.0",
          "Photon energy fr (eV)": 14.3,
          "Photon energy to (eV)": null,
          "Polar ang (deg)": 163.292971612285
         },
         {
          "EWS delay diff (as)": 15.620217400425,
          "KE range (eV)": "04.0",
          "Photon energy fr (eV)": 14.3,
          "Photon energy to (eV)": null,
          "Polar ang (deg)": 163.865929407415
         },
         {
          "EWS delay diff (as)": 15.6692331464434,
          "KE range (eV)": "04.0",
          "Photon energy fr (eV)": 14.3,
          "Photon energy to (eV)": null,
          "Polar ang (deg)": 164.438887202546
         },
         {
          "EWS delay diff (as)": 15.7170006794054,
          "KE range (eV)": "04.0",
          "Photon energy fr (eV)": 14.3,
          "Photon energy to (eV)": null,
          "Polar ang (deg)": 165.011844997677
         },
         {
          "EWS delay diff (as)": 15.7634485783262,
          "KE range (eV)": "04.0",
          "Photon energy fr (eV)": 14.3,
          "Photon energy to (eV)": null,
          "Polar ang (deg)": 165.584802792808
         },
         {
          "EWS delay diff (as)": 15.8085108509543,
          "KE range (eV)": "04.0",
          "Photon energy fr (eV)": 14.3,
          "Photon energy to (eV)": null,
          "Polar ang (deg)": 166.157760587939
         },
         {
          "EWS delay diff (as)": 15.8521265603238,
          "KE range (eV)": "04.0",
          "Photon energy fr (eV)": 14.3,
          "Photon energy to (eV)": null,
          "Polar ang (deg)": 166.73071838307
         },
         {
          "EWS delay diff (as)": 15.8942394779515,
          "KE range (eV)": "04.0",
          "Photon energy fr (eV)": 14.3,
          "Photon energy to (eV)": null,
          "Polar ang (deg)": 167.3036761782
         },
         {
          "EWS delay diff (as)": 15.9347977621263,
          "KE range (eV)": "04.0",
          "Photon energy fr (eV)": 14.3,
          "Photon energy to (eV)": null,
          "Polar ang (deg)": 167.876633973331
         },
         {
          "EWS delay diff (as)": 15.9737536596403,
          "KE range (eV)": "04.0",
          "Photon energy fr (eV)": 14.3,
          "Photon energy to (eV)": null,
          "Polar ang (deg)": 168.449591768462
         },
         {
          "EWS delay diff (as)": 16.0110632295503,
          "KE range (eV)": "04.0",
          "Photon energy fr (eV)": 14.3,
          "Photon energy to (eV)": null,
          "Polar ang (deg)": 169.022549563593
         },
         {
          "EWS delay diff (as)": 16.0466860875523,
          "KE range (eV)": "04.0",
          "Photon energy fr (eV)": 14.3,
          "Photon energy to (eV)": null,
          "Polar ang (deg)": 169.595507358724
         },
         {
          "EWS delay diff (as)": 16.0805851698065,
          "KE range (eV)": "04.0",
          "Photon energy fr (eV)": 14.3,
          "Photon energy to (eV)": null,
          "Polar ang (deg)": 170.168465153855
         },
         {
          "EWS delay diff (as)": 16.1127265149545,
          "KE range (eV)": "04.0",
          "Photon energy fr (eV)": 14.3,
          "Photon energy to (eV)": null,
          "Polar ang (deg)": 170.741422948985
         },
         {
          "EWS delay diff (as)": 16.1430790633261,
          "KE range (eV)": "04.0",
          "Photon energy fr (eV)": 14.3,
          "Photon energy to (eV)": null,
          "Polar ang (deg)": 171.314380744116
         },
         {
          "EWS delay diff (as)": 16.1716144723219,
          "KE range (eV)": "04.0",
          "Photon energy fr (eV)": 14.3,
          "Photon energy to (eV)": null,
          "Polar ang (deg)": 171.887338539247
         },
         {
          "EWS delay diff (as)": 16.1983069470573,
          "KE range (eV)": "04.0",
          "Photon energy fr (eV)": 14.3,
          "Photon energy to (eV)": null,
          "Polar ang (deg)": 172.460296334378
         },
         {
          "EWS delay diff (as)": 16.2231330854628,
          "KE range (eV)": "04.0",
          "Photon energy fr (eV)": 14.3,
          "Photon energy to (eV)": null,
          "Polar ang (deg)": 173.033254129509
         },
         {
          "EWS delay diff (as)": 16.2460717370525,
          "KE range (eV)": "04.0",
          "Photon energy fr (eV)": 14.3,
          "Photon energy to (eV)": null,
          "Polar ang (deg)": 173.606211924639
         },
         {
          "EWS delay diff (as)": 16.2671038746556,
          "KE range (eV)": "04.0",
          "Photon energy fr (eV)": 14.3,
          "Photon energy to (eV)": null,
          "Polar ang (deg)": 174.17916971977
         },
         {
          "EWS delay diff (as)": 16.2862124785406,
          "KE range (eV)": "04.0",
          "Photon energy fr (eV)": 14.3,
          "Photon energy to (eV)": null,
          "Polar ang (deg)": 174.752127514901
         },
         {
          "EWS delay diff (as)": 16.3033824322802,
          "KE range (eV)": "04.0",
          "Photon energy fr (eV)": 14.3,
          "Photon energy to (eV)": null,
          "Polar ang (deg)": 175.325085310032
         },
         {
          "EWS delay diff (as)": 16.3186004299263,
          "KE range (eV)": "04.0",
          "Photon energy fr (eV)": 14.3,
          "Photon energy to (eV)": null,
          "Polar ang (deg)": 175.898043105163
         },
         {
          "EWS delay diff (as)": 16.3318548939557,
          "KE range (eV)": "04.0",
          "Photon energy fr (eV)": 14.3,
          "Photon energy to (eV)": null,
          "Polar ang (deg)": 176.471000900294
         },
         {
          "EWS delay diff (as)": 16.3431359036856,
          "KE range (eV)": "04.0",
          "Photon energy fr (eV)": 14.3,
          "Photon energy to (eV)": null,
          "Polar ang (deg)": 177.043958695424
         },
         {
          "EWS delay diff (as)": 16.3524351336957,
          "KE range (eV)": "04.0",
          "Photon energy fr (eV)": 14.3,
          "Photon energy to (eV)": null,
          "Polar ang (deg)": 177.616916490555
         },
         {
          "EWS delay diff (as)": 16.3597458020437,
          "KE range (eV)": "04.0",
          "Photon energy fr (eV)": 14.3,
          "Photon energy to (eV)": null,
          "Polar ang (deg)": 178.189874285686
         },
         {
          "EWS delay diff (as)": 16.3650626279832,
          "KE range (eV)": "04.0",
          "Photon energy fr (eV)": 14.3,
          "Photon energy to (eV)": null,
          "Polar ang (deg)": 178.762832080817
         },
         {
          "EWS delay diff (as)": 16.3683817989675,
          "KE range (eV)": "04.0",
          "Photon energy fr (eV)": 14.3,
          "Photon energy to (eV)": null,
          "Polar ang (deg)": 179.335789875948
         },
         {
          "EWS delay diff (as)": 16.3697009468091,
          "KE range (eV)": "04.0",
          "Photon energy fr (eV)": 14.3,
          "Photon energy to (eV)": null,
          "Polar ang (deg)": 179.908747671079
         },
         {
          "EWS delay diff (as)": 4.12160473809609,
          "KE range (eV)": "07.2",
          "Photon energy fr (eV)": 15.9,
          "Photon energy to (eV)": null,
          "Polar ang (deg)": 0
         },
         {
          "EWS delay diff (as)": 4.11655754770912,
          "KE range (eV)": "07.2",
          "Photon energy fr (eV)": 15.9,
          "Photon energy to (eV)": null,
          "Polar ang (deg)": 0.572957795130823
         },
         {
          "EWS delay diff (as)": 4.10141267988173,
          "KE range (eV)": "07.2",
          "Photon energy fr (eV)": 15.9,
          "Photon energy to (eV)": null,
          "Polar ang (deg)": 1.14591559026165
         },
         {
          "EWS delay diff (as)": 4.07616024231805,
          "KE range (eV)": "07.2",
          "Photon energy fr (eV)": 15.9,
          "Photon energy to (eV)": null,
          "Polar ang (deg)": 1.71887338539247
         },
         {
          "EWS delay diff (as)": 4.04078374019523,
          "KE range (eV)": "07.2",
          "Photon energy fr (eV)": 15.9,
          "Photon energy to (eV)": null,
          "Polar ang (deg)": 2.29183118052329
         },
         {
          "EWS delay diff (as)": 3.99526006472861,
          "KE range (eV)": "07.2",
          "Photon energy fr (eV)": 15.9,
          "Photon energy to (eV)": null,
          "Polar ang (deg)": 2.86478897565412
         },
         {
          "EWS delay diff (as)": 3.93955947725777,
          "KE range (eV)": "07.2",
          "Photon energy fr (eV)": 15.9,
          "Photon energy to (eV)": null,
          "Polar ang (deg)": 3.43774677078494
         },
         {
          "EWS delay diff (as)": 3.8736455889703,
          "KE range (eV)": "07.2",
          "Photon energy fr (eV)": 15.9,
          "Photon energy to (eV)": null,
          "Polar ang (deg)": 4.01070456591576
         },
         {
          "EWS delay diff (as)": 3.7974753363943,
          "KE range (eV)": "07.2",
          "Photon energy fr (eV)": 15.9,
          "Photon energy to (eV)": null,
          "Polar ang (deg)": 4.58366236104659
         },
         {
          "EWS delay diff (as)": 3.71099895284077,
          "KE range (eV)": "07.2",
          "Photon energy fr (eV)": 15.9,
          "Photon energy to (eV)": null,
          "Polar ang (deg)": 5.15662015617741
         },
         {
          "EWS delay diff (as)": 3.61415993599934,
          "KE range (eV)": "07.2",
          "Photon energy fr (eV)": 15.9,
          "Photon energy to (eV)": null,
          "Polar ang (deg)": 5.72957795130823
         },
         {
          "EWS delay diff (as)": 3.50689501195101,
          "KE range (eV)": "07.2",
          "Photon energy fr (eV)": 15.9,
          "Photon energy to (eV)": null,
          "Polar ang (deg)": 6.30253574643906
         },
         {
          "EWS delay diff (as)": 3.38913409589559,
          "KE range (eV)": "07.2",
          "Photon energy fr (eV)": 15.9,
          "Photon energy to (eV)": null,
          "Polar ang (deg)": 6.87549354156988
         },
         {
          "EWS delay diff (as)": 3.26080024994369,
          "KE range (eV)": "07.2",
          "Photon energy fr (eV)": 15.9,
          "Photon energy to (eV)": null,
          "Polar ang (deg)": 7.4484513367007
         },
         {
          "EWS delay diff (as)": 3.12180963838982,
          "KE range (eV)": "07.2",
          "Photon energy fr (eV)": 15.9,
          "Photon energy to (eV)": null,
          "Polar ang (deg)": 8.02140913183153
         },
         {
          "EWS delay diff (as)": 2.97207148094136,
          "KE range (eV)": "07.2",
          "Photon energy fr (eV)": 15.9,
          "Photon energy to (eV)": null,
          "Polar ang (deg)": 8.59436692696235
         },
         {
          "EWS delay diff (as)": 2.81148800443853,
          "KE range (eV)": "07.2",
          "Photon energy fr (eV)": 15.9,
          "Photon energy to (eV)": null,
          "Polar ang (deg)": 9.16732472209317
         },
         {
          "EWS delay diff (as)": 2.63995439371101,
          "KE range (eV)": "07.2",
          "Photon energy fr (eV)": 15.9,
          "Photon energy to (eV)": null,
          "Polar ang (deg)": 9.740282517224
         },
         {
          "EWS delay diff (as)": 2.45735874227915,
          "KE range (eV)": "07.2",
          "Photon energy fr (eV)": 15.9,
          "Photon energy to (eV)": null,
          "Polar ang (deg)": 10.3132403123548
         },
         {
          "EWS delay diff (as)": 2.26358200372356,
          "KE range (eV)": "07.2",
          "Photon energy fr (eV)": 15.9,
          "Photon energy to (eV)": null,
          "Polar ang (deg)": 10.8861981074856
         },
         {
          "EWS delay diff (as)": 2.05849794467339,
          "KE range (eV)": "07.2",
          "Photon energy fr (eV)": 15.9,
          "Photon energy to (eV)": null,
          "Polar ang (deg)": 11.4591559026165
         },
         {
          "EWS delay diff (as)": 1.84197310046974,
          "KE range (eV)": "07.2",
          "Photon energy fr (eV)": 15.9,
          "Photon energy to (eV)": null,
          "Polar ang (deg)": 12.0321136977473
         },
         {
          "EWS delay diff (as)": 1.61386673473585,
          "KE range (eV)": "07.2",
          "Photon energy fr (eV)": 15.9,
          "Photon energy to (eV)": null,
          "Polar ang (deg)": 12.6050714928781
         },
         {
          "EWS delay diff (as)": 1.37403080425047,
          "KE range (eV)": "07.2",
          "Photon energy fr (eV)": 15.9,
          "Photon energy to (eV)": null,
          "Polar ang (deg)": 13.1780292880089
         },
         {
          "EWS delay diff (as)": 1.12230993068652,
          "KE range (eV)": "07.2",
          "Photon energy fr (eV)": 15.9,
          "Photon energy to (eV)": null,
          "Polar ang (deg)": 13.7509870831398
         },
         {
          "EWS delay diff (as)": 0.858541381033806,
          "KE range (eV)": "07.2",
          "Photon energy fr (eV)": 15.9,
          "Photon energy to (eV)": null,
          "Polar ang (deg)": 14.3239448782706
         },
         {
          "EWS delay diff (as)": 0.582555058747936,
          "KE range (eV)": "07.2",
          "Photon energy fr (eV)": 15.9,
          "Photon energy to (eV)": null,
          "Polar ang (deg)": 14.8969026734014
         },
         {
          "EWS delay diff (as)": 0.294173507936701,
          "KE range (eV)": "07.2",
          "Photon energy fr (eV)": 15.9,
          "Photon energy to (eV)": null,
          "Polar ang (deg)": 15.4698604685322
         },
         {
          "EWS delay diff (as)": -0.00678806675535881,
          "KE range (eV)": "07.2",
          "Photon energy fr (eV)": 15.9,
          "Photon energy to (eV)": null,
          "Polar ang (deg)": 16.0428182636631
         },
         {
          "EWS delay diff (as)": -0.320521761577819,
          "KE range (eV)": "07.2",
          "Photon energy fr (eV)": 15.9,
          "Photon energy to (eV)": null,
          "Polar ang (deg)": 16.6157760587939
         },
         {
          "EWS delay diff (as)": -0.647226913014443,
          "KE range (eV)": "07.2",
          "Photon energy fr (eV)": 15.9,
          "Photon energy to (eV)": null,
          "Polar ang (deg)": 17.1887338539247
         },
         {
          "EWS delay diff (as)": -0.987110011150261,
          "KE range (eV)": "07.2",
          "Photon energy fr (eV)": 15.9,
          "Photon energy to (eV)": null,
          "Polar ang (deg)": 17.7616916490555
         },
         {
          "EWS delay diff (as)": -1.34038458267449,
          "KE range (eV)": "07.2",
          "Photon energy fr (eV)": 15.9,
          "Photon energy to (eV)": null,
          "Polar ang (deg)": 18.3346494441863
         },
         {
          "EWS delay diff (as)": -1.70727103854862,
          "KE range (eV)": "07.2",
          "Photon energy fr (eV)": 15.9,
          "Photon energy to (eV)": null,
          "Polar ang (deg)": 18.9076072393172
         },
         {
          "EWS delay diff (as)": -2.08799648063041,
          "KE range (eV)": "07.2",
          "Photon energy fr (eV)": 15.9,
          "Photon energy to (eV)": null,
          "Polar ang (deg)": 19.480565034448
         },
         {
          "EWS delay diff (as)": -2.48279446083899,
          "KE range (eV)": "07.2",
          "Photon energy fr (eV)": 15.9,
          "Photon energy to (eV)": null,
          "Polar ang (deg)": 20.0535228295788
         },
         {
          "EWS delay diff (as)": -2.89190468553446,
          "KE range (eV)": "07.2",
          "Photon energy fr (eV)": 15.9,
          "Photon energy to (eV)": null,
          "Polar ang (deg)": 20.6264806247096
         },
         {
          "EWS delay diff (as)": -3.31557265679683,
          "KE range (eV)": "07.2",
          "Photon energy fr (eV)": 15.9,
          "Photon energy to (eV)": null,
          "Polar ang (deg)": 21.1994384198405
         },
         {
          "EWS delay diff (as)": -3.75404924113321,
          "KE range (eV)": "07.2",
          "Photon energy fr (eV)": 15.9,
          "Photon energy to (eV)": null,
          "Polar ang (deg)": 21.7723962149713
         },
         {
          "EWS delay diff (as)": -4.20759015487704,
          "KE range (eV)": "07.2",
          "Photon energy fr (eV)": 15.9,
          "Photon energy to (eV)": null,
          "Polar ang (deg)": 22.3453540101021
         },
         {
          "EWS delay diff (as)": -4.67645535404282,
          "KE range (eV)": "07.2",
          "Photon energy fr (eV)": 15.9,
          "Photon energy to (eV)": null,
          "Polar ang (deg)": 22.9183118052329
         },
         {
          "EWS delay diff (as)": -5.16090831470617,
          "KE range (eV)": "07.2",
          "Photon energy fr (eV)": 15.9,
          "Photon energy to (eV)": null,
          "Polar ang (deg)": 23.4912696003638
         },
         {
          "EWS delay diff (as)": -5.66121518809837,
          "KE range (eV)": "07.2",
          "Photon energy fr (eV)": 15.9,
          "Photon energy to (eV)": null,
          "Polar ang (deg)": 24.0642273954946
         },
         {
          "EWS delay diff (as)": -6.17764381234487,
          "KE range (eV)": "07.2",
          "Photon energy fr (eV)": 15.9,
          "Photon energy to (eV)": null,
          "Polar ang (deg)": 24.6371851906254
         },
         {
          "EWS delay diff (as)": -6.71046256033048,
          "KE range (eV)": "07.2",
          "Photon energy fr (eV)": 15.9,
          "Photon energy to (eV)": null,
          "Polar ang (deg)": 25.2101429857562
         },
         {
          "EWS delay diff (as)": -7.25993900023747,
          "KE range (eV)": "07.2",
          "Photon energy fr (eV)": 15.9,
          "Photon energy to (eV)": null,
          "Polar ang (deg)": 25.783100780887
         },
         {
          "EWS delay diff (as)": -7.82633834210289,
          "KE range (eV)": "07.2",
          "Photon energy fr (eV)": 15.9,
          "Photon energy to (eV)": null,
          "Polar ang (deg)": 26.3560585760179
         },
         {
          "EWS delay diff (as)": -8.40992163988963,
          "KE range (eV)": "07.2",
          "Photon energy fr (eV)": 15.9,
          "Photon energy to (eV)": null,
          "Polar ang (deg)": 26.9290163711487
         },
         {
          "EWS delay diff (as)": -9.01094371433153,
          "KE range (eV)": "07.2",
          "Photon energy fr (eV)": 15.9,
          "Photon energy to (eV)": null,
          "Polar ang (deg)": 27.5019741662795
         },
         {
          "EWS delay diff (as)": -9.62965075686562,
          "KE range (eV)": "07.2",
          "Photon energy fr (eV)": 15.9,
          "Photon energy to (eV)": null,
          "Polar ang (deg)": 28.0749319614103
         },
         {
          "EWS delay diff (as)": -10.2662775692592,
          "KE range (eV)": "07.2",
          "Photon energy fr (eV)": 15.9,
          "Photon energy to (eV)": null,
          "Polar ang (deg)": 28.6478897565412
         },
         {
          "EWS delay diff (as)": -10.9210443871279,
          "KE range (eV)": "07.2",
          "Photon energy fr (eV)": 15.9,
          "Photon energy to (eV)": null,
          "Polar ang (deg)": 29.220847551672
         },
         {
          "EWS delay diff (as)": -11.5941532280193,
          "KE range (eV)": "07.2",
          "Photon energy fr (eV)": 15.9,
          "Photon energy to (eV)": null,
          "Polar ang (deg)": 29.7938053468028
         },
         {
          "EWS delay diff (as)": -12.2857836962136,
          "KE range (eV)": "07.2",
          "Photon energy fr (eV)": 15.9,
          "Photon energy to (eV)": null,
          "Polar ang (deg)": 30.3667631419336
         },
         {
          "EWS delay diff (as)": -12.9960881665556,
          "KE range (eV)": "07.2",
          "Photon energy fr (eV)": 15.9,
          "Photon energy to (eV)": null,
          "Polar ang (deg)": 30.9397209370645
         },
         {
          "EWS delay diff (as)": -13.725186258291,
          "KE range (eV)": "07.2",
          "Photon energy fr (eV)": 15.9,
          "Photon energy to (eV)": null,
          "Polar ang (deg)": 31.5126787321953
         },
         {
          "EWS delay diff (as)": -14.47315849693,
          "KE range (eV)": "07.2",
          "Photon energy fr (eV)": 15.9,
          "Photon energy to (eV)": null,
          "Polar ang (deg)": 32.0856365273261
         },
         {
          "EWS delay diff (as)": -15.2400390471206,
          "KE range (eV)": "07.2",
          "Photon energy fr (eV)": 15.9,
          "Photon energy to (eV)": null,
          "Polar ang (deg)": 32.6585943224569
         },
         {
          "EWS delay diff (as)": -16.0258073823552,
          "KE range (eV)": "07.2",
          "Photon energy fr (eV)": 15.9,
          "Photon energy to (eV)": null,
          "Polar ang (deg)": 33.2315521175877
         },
         {
          "EWS delay diff (as)": -16.8303787374557,
          "KE range (eV)": "07.2",
          "Photon energy fr (eV)": 15.9,
          "Photon energy to (eV)": null,
          "Polar ang (deg)": 33.8045099127186
         },
         {
          "EWS delay diff (as)": -17.653593166989,
          "KE range (eV)": "07.2",
          "Photon energy fr (eV)": 15.9,
          "Photon energy to (eV)": null,
          "Polar ang (deg)": 34.3774677078494
         },
         {
          "EWS delay diff (as)": -18.4952030064247,
          "KE range (eV)": "07.2",
          "Photon energy fr (eV)": 15.9,
          "Photon energy to (eV)": null,
          "Polar ang (deg)": 34.9504255029802
         },
         {
          "EWS delay diff (as)": -19.3548585026799,
          "KE range (eV)": "07.2",
          "Photon energy fr (eV)": 15.9,
          "Photon energy to (eV)": null,
          "Polar ang (deg)": 35.523383298111
         },
         {
          "EWS delay diff (as)": -20.2320913457701,
          "KE range (eV)": "07.2",
          "Photon energy fr (eV)": 15.9,
          "Photon energy to (eV)": null,
          "Polar ang (deg)": 36.0963410932419
         },
         {
          "EWS delay diff (as)": -21.126295793346,
          "KE range (eV)": "07.2",
          "Photon energy fr (eV)": 15.9,
          "Photon energy to (eV)": null,
          "Polar ang (deg)": 36.6692988883727
         },
         {
          "EWS delay diff (as)": -22.0367070337923,
          "KE range (eV)": "07.2",
          "Photon energy fr (eV)": 15.9,
          "Photon energy to (eV)": null,
          "Polar ang (deg)": 37.2422566835035
         },
         {
          "EWS delay diff (as)": -22.9623763807747,
          "KE range (eV)": "07.2",
          "Photon energy fr (eV)": 15.9,
          "Photon energy to (eV)": null,
          "Polar ang (deg)": 37.8152144786343
         },
         {
          "EWS delay diff (as)": -23.9021428315205,
          "KE range (eV)": "07.2",
          "Photon energy fr (eV)": 15.9,
          "Photon energy to (eV)": null,
          "Polar ang (deg)": 38.3881722737652
         },
         {
          "EWS delay diff (as)": -24.8546004517816,
          "KE range (eV)": "07.2",
          "Photon energy fr (eV)": 15.9,
          "Photon energy to (eV)": null,
          "Polar ang (deg)": 38.961130068896
         },
         {
          "EWS delay diff (as)": -25.8180609712211,
          "KE range (eV)": "07.2",
          "Photon energy fr (eV)": 15.9,
          "Photon energy to (eV)": null,
          "Polar ang (deg)": 39.5340878640268
         },
         {
          "EWS delay diff (as)": -26.7905108828539,
          "KE range (eV)": "07.2",
          "Photon energy fr (eV)": 15.9,
          "Photon energy to (eV)": null,
          "Polar ang (deg)": 40.1070456591576
         },
         {
          "EWS delay diff (as)": -27.76956223778,
          "KE range (eV)": "07.2",
          "Photon energy fr (eV)": 15.9,
          "Photon energy to (eV)": null,
          "Polar ang (deg)": 40.6800034542884
         },
         {
          "EWS delay diff (as)": -28.7523962109564,
          "KE range (eV)": "07.2",
          "Photon energy fr (eV)": 15.9,
          "Photon energy to (eV)": null,
          "Polar ang (deg)": 41.2529612494193
         },
         {
          "EWS delay diff (as)": -29.7356983839663,
          "KE range (eV)": "07.2",
          "Photon energy fr (eV)": 15.9,
          "Photon energy to (eV)": null,
          "Polar ang (deg)": 41.8259190445501
         },
         {
          "EWS delay diff (as)": -30.7155845460296,
          "KE range (eV)": "07.2",
          "Photon energy fr (eV)": 15.9,
          "Photon energy to (eV)": null,
          "Polar ang (deg)": 42.3988768396809
         },
         {
          "EWS delay diff (as)": -31.6875156548235,
          "KE range (eV)": "07.2",
          "Photon energy fr (eV)": 15.9,
          "Photon energy to (eV)": null,
          "Polar ang (deg)": 42.9718346348117
         },
         {
          "EWS delay diff (as)": -32.6462004242876,
          "KE range (eV)": "07.2",
          "Photon energy fr (eV)": 15.9,
          "Photon energy to (eV)": null,
          "Polar ang (deg)": 43.5447924299426
         },
         {
          "EWS delay diff (as)": -33.5854838196816,
          "KE range (eV)": "07.2",
          "Photon energy fr (eV)": 15.9,
          "Photon energy to (eV)": null,
          "Polar ang (deg)": 44.1177502250734
         },
         {
          "EWS delay diff (as)": -34.4982195438508,
          "KE range (eV)": "07.2",
          "Photon energy fr (eV)": 15.9,
          "Photon energy to (eV)": null,
          "Polar ang (deg)": 44.6907080202042
         },
         {
          "EWS delay diff (as)": -35.3761243995043,
          "KE range (eV)": "07.2",
          "Photon energy fr (eV)": 15.9,
          "Photon energy to (eV)": null,
          "Polar ang (deg)": 45.263665815335
         },
         {
          "EWS delay diff (as)": -36.2096122196238,
          "KE range (eV)": "07.2",
          "Photon energy fr (eV)": 15.9,
          "Photon energy to (eV)": null,
          "Polar ang (deg)": 45.8366236104659
         },
         {
          "EWS delay diff (as)": -36.9876048873259,
          "KE range (eV)": "07.2",
          "Photon energy fr (eV)": 15.9,
          "Photon energy to (eV)": null,
          "Polar ang (deg)": 46.4095814055967
         },
         {
          "EWS delay diff (as)": -37.6973178390809,
          "KE range (eV)": "07.2",
          "Photon energy fr (eV)": 15.9,
          "Photon energy to (eV)": null,
          "Polar ang (deg)": 46.9825392007275
         },
         {
          "EWS delay diff (as)": -38.3240173931609,
          "KE range (eV)": "07.2",
          "Photon energy fr (eV)": 15.9,
          "Photon energy to (eV)": null,
          "Polar ang (deg)": 47.5554969958583
         },
         {
          "EWS delay diff (as)": -38.8507473130151,
          "KE range (eV)": "07.2",
          "Photon energy fr (eV)": 15.9,
          "Photon energy to (eV)": null,
          "Polar ang (deg)": 48.1284547909891
         },
         {
          "EWS delay diff (as)": -39.2580222648284,
          "KE range (eV)": "07.2",
          "Photon energy fr (eV)": 15.9,
          "Photon energy to (eV)": null,
          "Polar ang (deg)": 48.70141258612
         },
         {
          "EWS delay diff (as)": -39.5234863442333,
          "KE range (eV)": "07.2",
          "Photon energy fr (eV)": 15.9,
          "Photon energy to (eV)": null,
          "Polar ang (deg)": 49.2743703812508
         },
         {
          "EWS delay diff (as)": -39.6215357421506,
          "KE range (eV)": "07.2",
          "Photon energy fr (eV)": 15.9,
          "Photon energy to (eV)": null,
          "Polar ang (deg)": 49.8473281763816
         },
         {
          "EWS delay diff (as)": -39.5229060433788,
          "KE range (eV)": "07.2",
          "Photon energy fr (eV)": 15.9,
          "Photon energy to (eV)": null,
          "Polar ang (deg)": 50.4202859715125
         },
         {
          "EWS delay diff (as)": -39.1942267969911,
          "KE range (eV)": "07.2",
          "Photon energy fr (eV)": 15.9,
          "Photon energy to (eV)": null,
          "Polar ang (deg)": 50.9932437666433
         },
         {
          "EWS delay diff (as)": -38.5975491090482,
          "KE range (eV)": "07.2",
          "Photon energy fr (eV)": 15.9,
          "Photon energy to (eV)": null,
          "Polar ang (deg)": 51.5662015617741
         },
         {
          "EWS delay diff (as)": -37.6898563860353,
          "KE range (eV)": "07.2",
          "Photon energy fr (eV)": 15.9,
          "Photon energy to (eV)": null,
          "Polar ang (deg)": 52.1391593569049
         },
         {
          "EWS delay diff (as)": -36.422574357446,
          "KE range (eV)": "07.2",
          "Photon energy fr (eV)": 15.9,
          "Photon energy to (eV)": null,
          "Polar ang (deg)": 52.7121171520357
         },
         {
          "EWS delay diff (as)": -34.7411045271988,
          "KE range (eV)": "07.2",
          "Photon energy fr (eV)": 15.9,
          "Photon energy to (eV)": null,
          "Polar ang (deg)": 53.2850749471666
         },
         {
          "EWS delay diff (as)": -32.5844156589685,
          "KE range (eV)": "07.2",
          "Photon energy fr (eV)": 15.9,
          "Photon energy to (eV)": null,
          "Polar ang (deg)": 53.8580327422974
         },
         {
          "EWS delay diff (as)": -29.8847411537899,
          "KE range (eV)": "07.2",
          "Photon energy fr (eV)": 15.9,
          "Photon energy to (eV)": null,
          "Polar ang (deg)": 54.4309905374282
         },
         {
          "EWS delay diff (as)": -26.5674464389392,
          "KE range (eV)": "07.2",
          "Photon energy fr (eV)": 15.9,
          "Photon energy to (eV)": null,
          "Polar ang (deg)": 55.003948332559
         },
         {
          "EWS delay diff (as)": -22.5511496354054,
          "KE range (eV)": "07.2",
          "Photon energy fr (eV)": 15.9,
          "Photon energy to (eV)": null,
          "Polar ang (deg)": 55.5769061276899
         },
         {
          "EWS delay diff (as)": -17.748200104279,
          "KE range (eV)": "07.2",
          "Photon energy fr (eV)": 15.9,
          "Photon energy to (eV)": null,
          "Polar ang (deg)": 56.1498639228207
         },
         {
          "EWS delay diff (as)": -12.065641349178,
          "KE range (eV)": "07.2",
          "Photon energy fr (eV)": 15.9,
          "Photon energy to (eV)": null,
          "Polar ang (deg)": 56.7228217179515
         },
         {
          "EWS delay diff (as)": -5.40680415357731,
          "KE range (eV)": "07.2",
          "Photon energy fr (eV)": 15.9,
          "Photon energy to (eV)": null,
          "Polar ang (deg)": 57.2957795130823
         },
         {
          "EWS delay diff (as)": 2.32631211495882,
          "KE range (eV)": "07.2",
          "Photon energy fr (eV)": 15.9,
          "Photon energy to (eV)": null,
          "Polar ang (deg)": 57.8687373082132
         },
         {
          "EWS delay diff (as)": 11.2297145119022,
          "KE range (eV)": "07.2",
          "Photon energy fr (eV)": 15.9,
          "Photon energy to (eV)": null,
          "Polar ang (deg)": 58.441695103344
         },
         {
          "EWS delay diff (as)": 21.3930185965037,
          "KE range (eV)": "07.2",
          "Photon energy fr (eV)": 15.9,
          "Photon energy to (eV)": null,
          "Polar ang (deg)": 59.0146528984748
         },
         {
          "EWS delay diff (as)": 32.8939095663179,
          "KE range (eV)": "07.2",
          "Photon energy fr (eV)": 15.9,
          "Photon energy to (eV)": null,
          "Polar ang (deg)": 59.5876106936056
         },
         {
          "EWS delay diff (as)": 45.79150146128,
          "KE range (eV)": "07.2",
          "Photon energy fr (eV)": 15.9,
          "Photon energy to (eV)": null,
          "Polar ang (deg)": 60.1605684887364
         },
         {
          "EWS delay diff (as)": 60.1187935589422,
          "KE range (eV)": "07.2",
          "Photon energy fr (eV)": 15.9,
          "Photon energy to (eV)": null,
          "Polar ang (deg)": 60.7335262838673
         },
         {
          "EWS delay diff (as)": 75.8746346671764,
          "KE range (eV)": "07.2",
          "Photon energy fr (eV)": 15.9,
          "Photon energy to (eV)": null,
          "Polar ang (deg)": 61.3064840789981
         },
         {
          "EWS delay diff (as)": 93.0158523320062,
          "KE range (eV)": "07.2",
          "Photon energy fr (eV)": 15.9,
          "Photon energy to (eV)": null,
          "Polar ang (deg)": 61.8794418741289
         },
         {
          "EWS delay diff (as)": 111.450447612809,
          "KE range (eV)": "07.2",
          "Photon energy fr (eV)": 15.9,
          "Photon energy to (eV)": null,
          "Polar ang (deg)": 62.4523996692597
         },
         {
          "EWS delay diff (as)": 131.032937708842,
          "KE range (eV)": "07.2",
          "Photon energy fr (eV)": 15.9,
          "Photon energy to (eV)": null,
          "Polar ang (deg)": 63.0253574643906
         },
         {
          "EWS delay diff (as)": 151.5629741804,
          "KE range (eV)": "07.2",
          "Photon energy fr (eV)": 15.9,
          "Photon energy to (eV)": null,
          "Polar ang (deg)": 63.5983152595214
         },
         {
          "EWS delay diff (as)": 172.788203084004,
          "KE range (eV)": "07.2",
          "Photon energy fr (eV)": 15.9,
          "Photon energy to (eV)": null,
          "Polar ang (deg)": 64.1712730546522
         },
         {
          "EWS delay diff (as)": 194.411925796384,
          "KE range (eV)": "07.2",
          "Photon energy fr (eV)": 15.9,
          "Photon energy to (eV)": null,
          "Polar ang (deg)": 64.744230849783
         },
         {
          "EWS delay diff (as)": 216.105487242334,
          "KE range (eV)": "07.2",
          "Photon energy fr (eV)": 15.9,
          "Photon energy to (eV)": null,
          "Polar ang (deg)": 65.3171886449139
         },
         {
          "EWS delay diff (as)": 237.524560381092,
          "KE range (eV)": "07.2",
          "Photon energy fr (eV)": 15.9,
          "Photon energy to (eV)": null,
          "Polar ang (deg)": 65.8901464400447
         },
         {
          "EWS delay diff (as)": 258.327776640702,
          "KE range (eV)": "07.2",
          "Photon energy fr (eV)": 15.9,
          "Photon energy to (eV)": null,
          "Polar ang (deg)": 66.4631042351755
         },
         {
          "EWS delay diff (as)": 278.195658124629,
          "KE range (eV)": "07.2",
          "Photon energy fr (eV)": 15.9,
          "Photon energy to (eV)": null,
          "Polar ang (deg)": 67.0360620303063
         },
         {
          "EWS delay diff (as)": 296.847683864895,
          "KE range (eV)": "07.2",
          "Photon energy fr (eV)": 15.9,
          "Photon energy to (eV)": null,
          "Polar ang (deg)": 67.6090198254371
         },
         {
          "EWS delay diff (as)": 314.055615957614,
          "KE range (eV)": "07.2",
          "Photon energy fr (eV)": 15.9,
          "Photon energy to (eV)": null,
          "Polar ang (deg)": 68.181977620568
         },
         {
          "EWS delay diff (as)": 329.651849254967,
          "KE range (eV)": "07.2",
          "Photon energy fr (eV)": 15.9,
          "Photon energy to (eV)": null,
          "Polar ang (deg)": 68.7549354156988
         },
         {
          "EWS delay diff (as)": 343.532363790814,
          "KE range (eV)": "07.2",
          "Photon energy fr (eV)": 15.9,
          "Photon energy to (eV)": null,
          "Polar ang (deg)": 69.3278932108296
         },
         {
          "EWS delay diff (as)": 355.654652737199,
          "KE range (eV)": "07.2",
          "Photon energy fr (eV)": 15.9,
          "Photon energy to (eV)": null,
          "Polar ang (deg)": 69.9008510059604
         },
         {
          "EWS delay diff (as)": 366.0316046003,
          "KE range (eV)": "07.2",
          "Photon energy fr (eV)": 15.9,
          "Photon energy to (eV)": null,
          "Polar ang (deg)": 70.4738088010913
         },
         {
          "EWS delay diff (as)": 374.722648410435,
          "KE range (eV)": "07.2",
          "Photon energy fr (eV)": 15.9,
          "Photon energy to (eV)": null,
          "Polar ang (deg)": 71.0467665962221
         },
         {
          "EWS delay diff (as)": 381.823522600524,
          "KE range (eV)": "07.2",
          "Photon energy fr (eV)": 15.9,
          "Photon energy to (eV)": null,
          "Polar ang (deg)": 71.6197243913529
         },
         {
          "EWS delay diff (as)": 387.455864006936,
          "KE range (eV)": "07.2",
          "Photon energy fr (eV)": 15.9,
          "Photon energy to (eV)": null,
          "Polar ang (deg)": 72.1926821864837
         },
         {
          "EWS delay diff (as)": 391.757523843413,
          "KE range (eV)": "07.2",
          "Photon energy fr (eV)": 15.9,
          "Photon energy to (eV)": null,
          "Polar ang (deg)": 72.7656399816146
         },
         {
          "EWS delay diff (as)": 394.874190365448,
          "KE range (eV)": "07.2",
          "Photon energy fr (eV)": 15.9,
          "Photon energy to (eV)": null,
          "Polar ang (deg)": 73.3385977767454
         },
         {
          "EWS delay diff (as)": 396.952598284395,
          "KE range (eV)": "07.2",
          "Photon energy fr (eV)": 15.9,
          "Photon energy to (eV)": null,
          "Polar ang (deg)": 73.9115555718762
         },
         {
          "EWS delay diff (as)": 398.135369071321,
          "KE range (eV)": "07.2",
          "Photon energy fr (eV)": 15.9,
          "Photon energy to (eV)": null,
          "Polar ang (deg)": 74.484513367007
         },
         {
          "EWS delay diff (as)": 398.557365288061,
          "KE range (eV)": "07.2",
          "Photon energy fr (eV)": 15.9,
          "Photon energy to (eV)": null,
          "Polar ang (deg)": 75.0574711621378
         },
         {
          "EWS delay diff (as)": 398.343350175217,
          "KE range (eV)": "07.2",
          "Photon energy fr (eV)": 15.9,
          "Photon energy to (eV)": null,
          "Polar ang (deg)": 75.6304289572687
         },
         {
          "EWS delay diff (as)": 397.606706442383,
          "KE range (eV)": "07.2",
          "Photon energy fr (eV)": 15.9,
          "Photon energy to (eV)": null,
          "Polar ang (deg)": 76.2033867523995
         },
         {
          "EWS delay diff (as)": 396.448968822474,
          "KE range (eV)": "07.2",
          "Photon energy fr (eV)": 15.9,
          "Photon energy to (eV)": null,
          "Polar ang (deg)": 76.7763445475303
         },
         {
          "EWS delay diff (as)": 394.959948372344,
          "KE range (eV)": "07.2",
          "Photon energy fr (eV)": 15.9,
          "Photon energy to (eV)": null,
          "Polar ang (deg)": 77.3493023426612
         },
         {
          "EWS delay diff (as)": 393.218260982987,
          "KE range (eV)": "07.2",
          "Photon energy fr (eV)": 15.9,
          "Photon energy to (eV)": null,
          "Polar ang (deg)": 77.922260137792
         },
         {
          "EWS delay diff (as)": 391.292109998563,
          "KE range (eV)": "07.2",
          "Photon energy fr (eV)": 15.9,
          "Photon energy to (eV)": null,
          "Polar ang (deg)": 78.4952179329228
         },
         {
          "EWS delay diff (as)": 389.240208284306,
          "KE range (eV)": "07.2",
          "Photon energy fr (eV)": 15.9,
          "Photon energy to (eV)": null,
          "Polar ang (deg)": 79.0681757280536
         },
         {
          "EWS delay diff (as)": 387.11275596448,
          "KE range (eV)": "07.2",
          "Photon energy fr (eV)": 15.9,
          "Photon energy to (eV)": null,
          "Polar ang (deg)": 79.6411335231844
         },
         {
          "EWS delay diff (as)": 384.952415429501,
          "KE range (eV)": "07.2",
          "Photon energy fr (eV)": 15.9,
          "Photon energy to (eV)": null,
          "Polar ang (deg)": 80.2140913183153
         },
         {
          "EWS delay diff (as)": 382.795245131431,
          "KE range (eV)": "07.2",
          "Photon energy fr (eV)": 15.9,
          "Photon energy to (eV)": null,
          "Polar ang (deg)": 80.7870491134461
         },
         {
          "EWS delay diff (as)": 380.671568719611,
          "KE range (eV)": "07.2",
          "Photon energy fr (eV)": 15.9,
          "Photon energy to (eV)": null,
          "Polar ang (deg)": 81.3600069085769
         },
         {
          "EWS delay diff (as)": 378.606767002401,
          "KE range (eV)": "07.2",
          "Photon energy fr (eV)": 15.9,
          "Photon energy to (eV)": null,
          "Polar ang (deg)": 81.9329647037077
         },
         {
          "EWS delay diff (as)": 376.621987877739,
          "KE range (eV)": "07.2",
          "Photon energy fr (eV)": 15.9,
          "Photon energy to (eV)": null,
          "Polar ang (deg)": 82.5059224988385
         },
         {
          "EWS delay diff (as)": 374.734774507635,
          "KE range (eV)": "07.2",
          "Photon energy fr (eV)": 15.9,
          "Photon energy to (eV)": null,
          "Polar ang (deg)": 83.0788802939694
         },
         {
          "EWS delay diff (as)": 372.959615261733,
          "KE range (eV)": "07.2",
          "Photon energy fr (eV)": 15.9,
          "Photon energy to (eV)": null,
          "Polar ang (deg)": 83.6518380891002
         },
         {
          "EWS delay diff (as)": 371.30842084186,
          "KE range (eV)": "07.2",
          "Photon energy fr (eV)": 15.9,
          "Photon energy to (eV)": null,
          "Polar ang (deg)": 84.224795884231
         },
         {
          "EWS delay diff (as)": 369.790934928028,
          "KE range (eV)": "07.2",
          "Photon energy fr (eV)": 15.9,
          "Photon energy to (eV)": null,
          "Polar ang (deg)": 84.7977536793618
         },
         {
          "EWS delay diff (as)": 368.415084962805,
          "KE range (eV)": "07.2",
          "Photon energy fr (eV)": 15.9,
          "Photon energy to (eV)": null,
          "Polar ang (deg)": 85.3707114744927
         },
         {
          "EWS delay diff (as)": 367.187279539444,
          "KE range (eV)": "07.2",
          "Photon energy fr (eV)": 15.9,
          "Photon energy to (eV)": null,
          "Polar ang (deg)": 85.9436692696235
         },
         {
          "EWS delay diff (as)": 366.112658441494,
          "KE range (eV)": "07.2",
          "Photon energy fr (eV)": 15.9,
          "Photon energy to (eV)": null,
          "Polar ang (deg)": 86.5166270647543
         },
         {
          "EWS delay diff (as)": 365.195300808951,
          "KE range (eV)": "07.2",
          "Photon energy fr (eV)": 15.9,
          "Photon energy to (eV)": null,
          "Polar ang (deg)": 87.0895848598851
         },
         {
          "EWS delay diff (as)": 364.438396254666,
          "KE range (eV)": "07.2",
          "Photon energy fr (eV)": 15.9,
          "Photon energy to (eV)": null,
          "Polar ang (deg)": 87.6625426550159
         },
         {
          "EWS delay diff (as)": 363.844383073305,
          "KE range (eV)": "07.2",
          "Photon energy fr (eV)": 15.9,
          "Photon energy to (eV)": null,
          "Polar ang (deg)": 88.2355004501468
         },
         {
          "EWS delay diff (as)": 363.415057002866,
          "KE range (eV)": "07.2",
          "Photon energy fr (eV)": 15.9,
          "Photon energy to (eV)": null,
          "Polar ang (deg)": 88.8084582452776
         },
         {
          "EWS delay diff (as)": 363.151653333038,
          "KE range (eV)": "07.2",
          "Photon energy fr (eV)": 15.9,
          "Photon energy to (eV)": null,
          "Polar ang (deg)": 89.3814160404084
         },
         {
          "EWS delay diff (as)": 363.054904510452,
          "KE range (eV)": "07.2",
          "Photon energy fr (eV)": 15.9,
          "Photon energy to (eV)": null,
          "Polar ang (deg)": 89.9543738355393
         },
         {
          "EWS delay diff (as)": 363.125074770473,
          "KE range (eV)": "07.2",
          "Photon energy fr (eV)": 15.9,
          "Photon energy to (eV)": null,
          "Polar ang (deg)": 90.5273316306701
         },
         {
          "EWS delay diff (as)": 363.361972723087,
          "KE range (eV)": "07.2",
          "Photon energy fr (eV)": 15.9,
          "Photon energy to (eV)": null,
          "Polar ang (deg)": 91.1002894258009
         },
         {
          "EWS delay diff (as)": 363.764942231757,
          "KE range (eV)": "07.2",
          "Photon energy fr (eV)": 15.9,
          "Photon energy to (eV)": null,
          "Polar ang (deg)": 91.6732472209317
         },
         {
          "EWS delay diff (as)": 364.332831339532,
          "KE range (eV)": "07.2",
          "Photon energy fr (eV)": 15.9,
          "Photon energy to (eV)": null,
          "Polar ang (deg)": 92.2462050160626
         },
         {
          "EWS delay diff (as)": 365.063938409275,
          "KE range (eV)": "07.2",
          "Photon energy fr (eV)": 15.9,
          "Photon energy to (eV)": null,
          "Polar ang (deg)": 92.8191628111934
         },
         {
          "EWS delay diff (as)": 365.955934045502,
          "KE range (eV)": "07.2",
          "Photon energy fr (eV)": 15.9,
          "Photon energy to (eV)": null,
          "Polar ang (deg)": 93.3921206063242
         },
         {
          "EWS delay diff (as)": 367.005756747833,
          "KE range (eV)": "07.2",
          "Photon energy fr (eV)": 15.9,
          "Photon energy to (eV)": null,
          "Polar ang (deg)": 93.965078401455
         },
         {
          "EWS delay diff (as)": 368.209479606247,
          "KE range (eV)": "07.2",
          "Photon energy fr (eV)": 15.9,
          "Photon energy to (eV)": null,
          "Polar ang (deg)": 94.5380361965858
         },
         {
          "EWS delay diff (as)": 369.562144685215,
          "KE range (eV)": "07.2",
          "Photon energy fr (eV)": 15.9,
          "Photon energy to (eV)": null,
          "Polar ang (deg)": 95.1109939917167
         },
         {
          "EWS delay diff (as)": 371.057561063786,
          "KE range (eV)": "07.2",
          "Photon energy fr (eV)": 15.9,
          "Photon energy to (eV)": null,
          "Polar ang (deg)": 95.6839517868475
         },
         {
          "EWS delay diff (as)": 372.688061815321,
          "KE range (eV)": "07.2",
          "Photon energy fr (eV)": 15.9,
          "Photon energy to (eV)": null,
          "Polar ang (deg)": 96.2569095819783
         },
         {
          "EWS delay diff (as)": 374.444214551769,
          "KE range (eV)": "07.2",
          "Photon energy fr (eV)": 15.9,
          "Photon energy to (eV)": null,
          "Polar ang (deg)": 96.8298673771091
         },
         {
          "EWS delay diff (as)": 376.314479568038,
          "KE range (eV)": "07.2",
          "Photon energy fr (eV)": 15.9,
          "Photon energy to (eV)": null,
          "Polar ang (deg)": 97.40282517224
         },
         {
          "EWS delay diff (as)": 378.284809173064,
          "KE range (eV)": "07.2",
          "Photon energy fr (eV)": 15.9,
          "Photon energy to (eV)": null,
          "Polar ang (deg)": 97.9757829673708
         },
         {
          "EWS delay diff (as)": 380.338181591089,
          "KE range (eV)": "07.2",
          "Photon energy fr (eV)": 15.9,
          "Photon energy to (eV)": null,
          "Polar ang (deg)": 98.5487407625016
         },
         {
          "EWS delay diff (as)": 382.4540630116,
          "KE range (eV)": "07.2",
          "Photon energy fr (eV)": 15.9,
          "Photon energy to (eV)": null,
          "Polar ang (deg)": 99.1216985576324
         },
         {
          "EWS delay diff (as)": 384.607792173011,
          "KE range (eV)": "07.2",
          "Photon energy fr (eV)": 15.9,
          "Photon energy to (eV)": null,
          "Polar ang (deg)": 99.6946563527632
         },
         {
          "EWS delay diff (as)": 386.769883574967,
          "KE range (eV)": "07.2",
          "Photon energy fr (eV)": 15.9,
          "Photon energy to (eV)": null,
          "Polar ang (deg)": 100.267614147894
         },
         {
          "EWS delay diff (as)": 388.905248415369,
          "KE range (eV)": "07.2",
          "Photon energy fr (eV)": 15.9,
          "Photon energy to (eV)": null,
          "Polar ang (deg)": 100.840571943025
         },
         {
          "EWS delay diff (as)": 390.972337141054,
          "KE range (eV)": "07.2",
          "Photon energy fr (eV)": 15.9,
          "Photon energy to (eV)": null,
          "Polar ang (deg)": 101.413529738156
         },
         {
          "EWS delay diff (as)": 392.922214707898,
          "KE range (eV)": "07.2",
          "Photon energy fr (eV)": 15.9,
          "Photon energy to (eV)": null,
          "Polar ang (deg)": 101.986487533287
         },
         {
          "EWS delay diff (as)": 394.697590004288,
          "KE range (eV)": "07.2",
          "Photon energy fr (eV)": 15.9,
          "Photon energy to (eV)": null,
          "Polar ang (deg)": 102.559445328417
         },
         {
          "EWS delay diff (as)": 396.231835216447,
          "KE range (eV)": "07.2",
          "Photon energy fr (eV)": 15.9,
          "Photon energy to (eV)": null,
          "Polar ang (deg)": 103.132403123548
         },
         {
          "EWS delay diff (as)": 397.448050008855,
          "KE range (eV)": "07.2",
          "Photon energy fr (eV)": 15.9,
          "Photon energy to (eV)": null,
          "Polar ang (deg)": 103.705360918679
         },
         {
          "EWS delay diff (as)": 398.25824988057,
          "KE range (eV)": "07.2",
          "Photon energy fr (eV)": 15.9,
          "Photon energy to (eV)": null,
          "Polar ang (deg)": 104.27831871381
         },
         {
          "EWS delay diff (as)": 398.562788093848,
          "KE range (eV)": "07.2",
          "Photon energy fr (eV)": 15.9,
          "Photon energy to (eV)": null,
          "Polar ang (deg)": 104.851276508941
         },
         {
          "EWS delay diff (as)": 398.250155406988,
          "KE range (eV)": "07.2",
          "Photon energy fr (eV)": 15.9,
          "Photon energy to (eV)": null,
          "Polar ang (deg)": 105.424234304071
         },
         {
          "EWS delay diff (as)": 397.197339221904,
          "KE range (eV)": "07.2",
          "Photon energy fr (eV)": 15.9,
          "Photon energy to (eV)": null,
          "Polar ang (deg)": 105.997192099202
         },
         {
          "EWS delay diff (as)": 395.270959161227,
          "KE range (eV)": "07.2",
          "Photon energy fr (eV)": 15.9,
          "Photon energy to (eV)": null,
          "Polar ang (deg)": 106.570149894333
         },
         {
          "EWS delay diff (as)": 392.329421961911,
          "KE range (eV)": "07.2",
          "Photon energy fr (eV)": 15.9,
          "Photon energy to (eV)": null,
          "Polar ang (deg)": 107.143107689464
         },
         {
          "EWS delay diff (as)": 388.226343755985,
          "KE range (eV)": "07.2",
          "Photon energy fr (eV)": 15.9,
          "Photon energy to (eV)": null,
          "Polar ang (deg)": 107.716065484595
         },
         {
          "EWS delay diff (as)": 382.815457672027,
          "KE range (eV)": "07.2",
          "Photon energy fr (eV)": 15.9,
          "Photon energy to (eV)": null,
          "Polar ang (deg)": 108.289023279726
         },
         {
          "EWS delay diff (as)": 375.957142573149,
          "KE range (eV)": "07.2",
          "Photon energy fr (eV)": 15.9,
          "Photon energy to (eV)": null,
          "Polar ang (deg)": 108.861981074856
         },
         {
          "EWS delay diff (as)": 367.526559455307,
          "KE range (eV)": "07.2",
          "Photon energy fr (eV)": 15.9,
          "Photon energy to (eV)": null,
          "Polar ang (deg)": 109.434938869987
         },
         {
          "EWS delay diff (as)": 357.423157839108,
          "KE range (eV)": "07.2",
          "Photon energy fr (eV)": 15.9,
          "Photon energy to (eV)": null,
          "Polar ang (deg)": 110.007896665118
         },
         {
          "EWS delay diff (as)": 345.58102328187,
          "KE range (eV)": "07.2",
          "Photon energy fr (eV)": 15.9,
          "Photon energy to (eV)": null,
          "Polar ang (deg)": 110.580854460249
         },
         {
          "EWS delay diff (as)": 331.979210760768,
          "KE range (eV)": "07.2",
          "Photon energy fr (eV)": 15.9,
          "Photon energy to (eV)": null,
          "Polar ang (deg)": 111.15381225538
         },
         {
          "EWS delay diff (as)": 316.650907667402,
          "KE range (eV)": "07.2",
          "Photon energy fr (eV)": 15.9,
          "Photon energy to (eV)": null,
          "Polar ang (deg)": 111.726770050511
         },
         {
          "EWS delay diff (as)": 299.690079599593,
          "KE range (eV)": "07.2",
          "Photon energy fr (eV)": 15.9,
          "Photon energy to (eV)": null,
          "Polar ang (deg)": 112.299727845641
         },
         {
          "EWS delay diff (as)": 281.254264310867,
          "KE range (eV)": "07.2",
          "Photon energy fr (eV)": 15.9,
          "Photon energy to (eV)": null,
          "Polar ang (deg)": 112.872685640772
         },
         {
          "EWS delay diff (as)": 261.562463048559,
          "KE range (eV)": "07.2",
          "Photon energy fr (eV)": 15.9,
          "Photon energy to (eV)": null,
          "Polar ang (deg)": 113.445643435903
         },
         {
          "EWS delay diff (as)": 240.887644077976,
          "KE range (eV)": "07.2",
          "Photon energy fr (eV)": 15.9,
          "Photon energy to (eV)": null,
          "Polar ang (deg)": 114.018601231034
         },
         {
          "EWS delay diff (as)": 219.54414635665,
          "KE range (eV)": "07.2",
          "Photon energy fr (eV)": 15.9,
          "Photon energy to (eV)": null,
          "Polar ang (deg)": 114.591559026165
         },
         {
          "EWS delay diff (as)": 197.871096562601,
          "KE range (eV)": "07.2",
          "Photon energy fr (eV)": 15.9,
          "Photon energy to (eV)": null,
          "Polar ang (deg)": 115.164516821295
         },
         {
          "EWS delay diff (as)": 176.213631656029,
          "KE range (eV)": "07.2",
          "Photon energy fr (eV)": 15.9,
          "Photon energy to (eV)": null,
          "Polar ang (deg)": 115.737474616426
         },
         {
          "EWS delay diff (as)": 154.904075393013,
          "KE range (eV)": "07.2",
          "Photon energy fr (eV)": 15.9,
          "Photon energy to (eV)": null,
          "Polar ang (deg)": 116.310432411557
         },
         {
          "EWS delay diff (as)": 134.245160038205,
          "KE range (eV)": "07.2",
          "Photon energy fr (eV)": 15.9,
          "Photon energy to (eV)": null,
          "Polar ang (deg)": 116.883390206688
         },
         {
          "EWS delay diff (as)": 114.496941916226,
          "KE range (eV)": "07.2",
          "Photon energy fr (eV)": 15.9,
          "Photon energy to (eV)": null,
          "Polar ang (deg)": 117.456348001819
         },
         {
          "EWS delay diff (as)": 95.8683639434987,
          "KE range (eV)": "07.2",
          "Photon energy fr (eV)": 15.9,
          "Photon energy to (eV)": null,
          "Polar ang (deg)": 118.02930579695
         },
         {
          "EWS delay diff (as)": 78.5136543257039,
          "KE range (eV)": "07.2",
          "Photon energy fr (eV)": 15.9,
          "Photon energy to (eV)": null,
          "Polar ang (deg)": 118.60226359208
         },
         {
          "EWS delay diff (as)": 62.5330898941066,
          "KE range (eV)": "07.2",
          "Photon energy fr (eV)": 15.9,
          "Photon energy to (eV)": null,
          "Polar ang (deg)": 119.175221387211
         },
         {
          "EWS delay diff (as)": 47.9772058923906,
          "KE range (eV)": "07.2",
          "Photon energy fr (eV)": 15.9,
          "Photon energy to (eV)": null,
          "Polar ang (deg)": 119.748179182342
         },
         {
          "EWS delay diff (as)": 34.853334777992,
          "KE range (eV)": "07.2",
          "Photon energy fr (eV)": 15.9,
          "Photon energy to (eV)": null,
          "Polar ang (deg)": 120.321136977473
         },
         {
          "EWS delay diff (as)": 23.1333734011621,
          "KE range (eV)": "07.2",
          "Photon energy fr (eV)": 15.9,
          "Photon energy to (eV)": null,
          "Polar ang (deg)": 120.894094772604
         },
         {
          "EWS delay diff (as)": 12.7618430232275,
          "KE range (eV)": "07.2",
          "Photon energy fr (eV)": 15.9,
          "Photon energy to (eV)": null,
          "Polar ang (deg)": 121.467052567735
         },
         {
          "EWS delay diff (as)": 3.66354488928167,
          "KE range (eV)": "07.2",
          "Photon energy fr (eV)": 15.9,
          "Photon energy to (eV)": null,
          "Polar ang (deg)": 122.040010362865
         },
         {
          "EWS delay diff (as)": -4.24963695540015,
          "KE range (eV)": "07.2",
          "Photon energy fr (eV)": 15.9,
          "Photon energy to (eV)": null,
          "Polar ang (deg)": 122.612968157996
         },
         {
          "EWS delay diff (as)": -11.0730151981855,
          "KE range (eV)": "07.2",
          "Photon energy fr (eV)": 15.9,
          "Photon energy to (eV)": null,
          "Polar ang (deg)": 123.185925953127
         },
         {
          "EWS delay diff (as)": -16.9045220078701,
          "KE range (eV)": "07.2",
          "Photon energy fr (eV)": 15.9,
          "Photon energy to (eV)": null,
          "Polar ang (deg)": 123.758883748258
         },
         {
          "EWS delay diff (as)": -21.8412207056389,
          "KE range (eV)": "07.2",
          "Photon energy fr (eV)": 15.9,
          "Photon energy to (eV)": null,
          "Polar ang (deg)": 124.331841543389
         },
         {
          "EWS delay diff (as)": -25.976784234409,
          "KE range (eV)": "07.2",
          "Photon energy fr (eV)": 15.9,
          "Photon energy to (eV)": null,
          "Polar ang (deg)": 124.904799338519
         },
         {
          "EWS delay diff (as)": -29.3997872202532,
          "KE range (eV)": "07.2",
          "Photon energy fr (eV)": 15.9,
          "Photon energy to (eV)": null,
          "Polar ang (deg)": 125.47775713365
         },
         {
          "EWS delay diff (as)": -32.1926528920713,
          "KE range (eV)": "07.2",
          "Photon energy fr (eV)": 15.9,
          "Photon energy to (eV)": null,
          "Polar ang (deg)": 126.050714928781
         },
         {
          "EWS delay diff (as)": -34.4311064131588,
          "KE range (eV)": "07.2",
          "Photon energy fr (eV)": 15.9,
          "Photon energy to (eV)": null,
          "Polar ang (deg)": 126.623672723912
         },
         {
          "EWS delay diff (as)": -36.1840047901154,
          "KE range (eV)": "07.2",
          "Photon energy fr (eV)": 15.9,
          "Photon energy to (eV)": null,
          "Polar ang (deg)": 127.196630519043
         },
         {
          "EWS delay diff (as)": -37.5134352518529,
          "KE range (eV)": "07.2",
          "Photon energy fr (eV)": 15.9,
          "Photon energy to (eV)": null,
          "Polar ang (deg)": 127.769588314174
         },
         {
          "EWS delay diff (as)": -38.4749955506631,
          "KE range (eV)": "07.2",
          "Photon energy fr (eV)": 15.9,
          "Photon energy to (eV)": null,
          "Polar ang (deg)": 128.342546109304
         },
         {
          "EWS delay diff (as)": -39.118189200515,
          "KE range (eV)": "07.2",
          "Photon energy fr (eV)": 15.9,
          "Photon energy to (eV)": null,
          "Polar ang (deg)": 128.915503904435
         },
         {
          "EWS delay diff (as)": -39.4868854076105,
          "KE range (eV)": "07.2",
          "Photon energy fr (eV)": 15.9,
          "Photon energy to (eV)": null,
          "Polar ang (deg)": 129.488461699566
         },
         {
          "EWS delay diff (as)": -39.619807172647,
          "KE range (eV)": "07.2",
          "Photon energy fr (eV)": 15.9,
          "Photon energy to (eV)": null,
          "Polar ang (deg)": 130.061419494697
         },
         {
          "EWS delay diff (as)": -39.5510219233159,
          "KE range (eV)": "07.2",
          "Photon energy fr (eV)": 15.9,
          "Photon energy to (eV)": null,
          "Polar ang (deg)": 130.634377289828
         },
         {
          "EWS delay diff (as)": -39.3104174171128,
          "KE range (eV)": "07.2",
          "Photon energy fr (eV)": 15.9,
          "Photon energy to (eV)": null,
          "Polar ang (deg)": 131.207335084959
         },
         {
          "EWS delay diff (as)": -38.9241519490522,
          "KE range (eV)": "07.2",
          "Photon energy fr (eV)": 15.9,
          "Photon energy to (eV)": null,
          "Polar ang (deg)": 131.780292880089
         },
         {
          "EWS delay diff (as)": -38.4150725098174,
          "KE range (eV)": "07.2",
          "Photon energy fr (eV)": 15.9,
          "Photon energy to (eV)": null,
          "Polar ang (deg)": 132.35325067522
         },
         {
          "EWS delay diff (as)": -37.8030978315245,
          "KE range (eV)": "07.2",
          "Photon energy fr (eV)": 15.9,
          "Photon energy to (eV)": null,
          "Polar ang (deg)": 132.926208470351
         },
         {
          "EWS delay diff (as)": -37.1055655398038,
          "KE range (eV)": "07.2",
          "Photon energy fr (eV)": 15.9,
          "Photon energy to (eV)": null,
          "Polar ang (deg)": 133.499166265482
         },
         {
          "EWS delay diff (as)": -36.3375441553,
          "KE range (eV)": "07.2",
          "Photon energy fr (eV)": 15.9,
          "Photon energy to (eV)": null,
          "Polar ang (deg)": 134.072124060613
         },
         {
          "EWS delay diff (as)": -35.5121116558621,
          "KE range (eV)": "07.2",
          "Photon energy fr (eV)": 15.9,
          "Photon energy to (eV)": null,
          "Polar ang (deg)": 134.645081855743
         },
         {
          "EWS delay diff (as)": -34.6406028783992,
          "KE range (eV)": "07.2",
          "Photon energy fr (eV)": 15.9,
          "Photon energy to (eV)": null,
          "Polar ang (deg)": 135.218039650874
         },
         {
          "EWS delay diff (as)": -33.7328283250269,
          "KE range (eV)": "07.2",
          "Photon energy fr (eV)": 15.9,
          "Photon energy to (eV)": null,
          "Polar ang (deg)": 135.790997446005
         },
         {
          "EWS delay diff (as)": -32.7972670302152,
          "KE range (eV)": "07.2",
          "Photon energy fr (eV)": 15.9,
          "Photon energy to (eV)": null,
          "Polar ang (deg)": 136.363955241136
         },
         {
          "EWS delay diff (as)": -31.8412361093188,
          "KE range (eV)": "07.2",
          "Photon energy fr (eV)": 15.9,
          "Photon energy to (eV)": null,
          "Polar ang (deg)": 136.936913036267
         },
         {
          "EWS delay diff (as)": -30.8710394911227,
          "KE range (eV)": "07.2",
          "Photon energy fr (eV)": 15.9,
          "Photon energy to (eV)": null,
          "Polar ang (deg)": 137.509870831398
         },
         {
          "EWS delay diff (as)": -29.8920981713593,
          "KE range (eV)": "07.2",
          "Photon energy fr (eV)": 15.9,
          "Photon energy to (eV)": null,
          "Polar ang (deg)": 138.082828626528
         },
         {
          "EWS delay diff (as)": -28.9090641338436,
          "KE range (eV)": "07.2",
          "Photon energy fr (eV)": 15.9,
          "Photon energy to (eV)": null,
          "Polar ang (deg)": 138.655786421659
         },
         {
          "EWS delay diff (as)": -27.9259198870552,
          "KE range (eV)": "07.2",
          "Photon energy fr (eV)": 15.9,
          "Photon energy to (eV)": null,
          "Polar ang (deg)": 139.22874421679
         },
         {
          "EWS delay diff (as)": -26.9460653665625,
          "KE range (eV)": "07.2",
          "Photon energy fr (eV)": 15.9,
          "Photon energy to (eV)": null,
          "Polar ang (deg)": 139.801702011921
         },
         {
          "EWS delay diff (as)": -25.9723937652065,
          "KE range (eV)": "07.2",
          "Photon energy fr (eV)": 15.9,
          "Photon energy to (eV)": null,
          "Polar ang (deg)": 140.374659807052
         },
         {
          "EWS delay diff (as)": -25.0073576762269,
          "KE range (eV)": "07.2",
          "Photon energy fr (eV)": 15.9,
          "Photon energy to (eV)": null,
          "Polar ang (deg)": 140.947617602183
         },
         {
          "EWS delay diff (as)": -24.0530267725667,
          "KE range (eV)": "07.2",
          "Photon energy fr (eV)": 15.9,
          "Photon energy to (eV)": null,
          "Polar ang (deg)": 141.520575397313
         },
         {
          "EWS delay diff (as)": -23.111138098372,
          "KE range (eV)": "07.2",
          "Photon energy fr (eV)": 15.9,
          "Photon energy to (eV)": null,
          "Polar ang (deg)": 142.093533192444
         },
         {
          "EWS delay diff (as)": -22.1831399167431,
          "KE range (eV)": "07.2",
          "Photon energy fr (eV)": 15.9,
          "Photon energy to (eV)": null,
          "Polar ang (deg)": 142.666490987575
         },
         {
          "EWS delay diff (as)": -21.2702299398302,
          "KE range (eV)": "07.2",
          "Photon energy fr (eV)": 15.9,
          "Photon energy to (eV)": null,
          "Polar ang (deg)": 143.239448782706
         },
         {
          "EWS delay diff (as)": -20.3733886632644,
          "KE range (eV)": "07.2",
          "Photon energy fr (eV)": 15.9,
          "Photon energy to (eV)": null,
          "Polar ang (deg)": 143.812406577837
         },
         {
          "EWS delay diff (as)": -19.4934084346379,
          "KE range (eV)": "07.2",
          "Photon energy fr (eV)": 15.9,
          "Photon energy to (eV)": null,
          "Polar ang (deg)": 144.385364372967
         },
         {
          "EWS delay diff (as)": -18.6309188050977,
          "KE range (eV)": "07.2",
          "Photon energy fr (eV)": 15.9,
          "Photon energy to (eV)": null,
          "Polar ang (deg)": 144.958322168098
         },
         {
          "EWS delay diff (as)": -17.7864086421593,
          "KE range (eV)": "07.2",
          "Photon energy fr (eV)": 15.9,
          "Photon energy to (eV)": null,
          "Polar ang (deg)": 145.531279963229
         },
         {
          "EWS delay diff (as)": -16.960245419984,
          "KE range (eV)": "07.2",
          "Photon energy fr (eV)": 15.9,
          "Photon energy to (eV)": null,
          "Polar ang (deg)": 146.10423775836
         },
         {
          "EWS delay diff (as)": -16.1526920493138,
          "KE range (eV)": "07.2",
          "Photon energy fr (eV)": 15.9,
          "Photon energy to (eV)": null,
          "Polar ang (deg)": 146.677195553491
         },
         {
          "EWS delay diff (as)": -15.3639215623151,
          "KE range (eV)": "07.2",
          "Photon energy fr (eV)": 15.9,
          "Photon energy to (eV)": null,
          "Polar ang (deg)": 147.250153348622
         },
         {
          "EWS delay diff (as)": -14.5940299264744,
          "KE range (eV)": "07.2",
          "Photon energy fr (eV)": 15.9,
          "Photon energy to (eV)": null,
          "Polar ang (deg)": 147.823111143752
         },
         {
          "EWS delay diff (as)": -13.8430472262545,
          "KE range (eV)": "07.2",
          "Photon energy fr (eV)": 15.9,
          "Photon energy to (eV)": null,
          "Polar ang (deg)": 148.396068938883
         },
         {
          "EWS delay diff (as)": -13.1109474201558,
          "KE range (eV)": "07.2",
          "Photon energy fr (eV)": 15.9,
          "Photon energy to (eV)": null,
          "Polar ang (deg)": 148.969026734014
         },
         {
          "EWS delay diff (as)": -12.3976568539987,
          "KE range (eV)": "07.2",
          "Photon energy fr (eV)": 15.9,
          "Photon energy to (eV)": null,
          "Polar ang (deg)": 149.541984529145
         },
         {
          "EWS delay diff (as)": -11.703061687923,
          "KE range (eV)": "07.2",
          "Photon energy fr (eV)": 15.9,
          "Photon energy to (eV)": null,
          "Polar ang (deg)": 150.114942324276
         },
         {
          "EWS delay diff (as)": -11.0270143742142,
          "KE range (eV)": "07.2",
          "Photon energy fr (eV)": 15.9,
          "Photon energy to (eV)": null,
          "Polar ang (deg)": 150.687900119407
         },
         {
          "EWS delay diff (as)": -10.369339305619,
          "KE range (eV)": "07.2",
          "Photon energy fr (eV)": 15.9,
          "Photon energy to (eV)": null,
          "Polar ang (deg)": 151.260857914537
         },
         {
          "EWS delay diff (as)": -9.72983773828062,
          "KE range (eV)": "07.2",
          "Photon energy fr (eV)": 15.9,
          "Photon energy to (eV)": null,
          "Polar ang (deg)": 151.833815709668
         },
         {
          "EWS delay diff (as)": -9.1082920804002,
          "KE range (eV)": "07.2",
          "Photon energy fr (eV)": 15.9,
          "Photon energy to (eV)": null,
          "Polar ang (deg)": 152.406773504799
         },
         {
          "EWS delay diff (as)": -8.50446962587981,
          "KE range (eV)": "07.2",
          "Photon energy fr (eV)": 15.9,
          "Photon energy to (eV)": null,
          "Polar ang (deg)": 152.97973129993
         },
         {
          "EWS delay diff (as)": -7.91812580234108,
          "KE range (eV)": "07.2",
          "Photon energy fr (eV)": 15.9,
          "Photon energy to (eV)": null,
          "Polar ang (deg)": 153.552689095061
         },
         {
          "EWS delay diff (as)": -7.34900699412577,
          "KE range (eV)": "07.2",
          "Photon energy fr (eV)": 15.9,
          "Photon energy to (eV)": null,
          "Polar ang (deg)": 154.125646890191
         },
         {
          "EWS delay diff (as)": -6.79685299319033,
          "KE range (eV)": "07.2",
          "Photon energy fr (eV)": 15.9,
          "Photon energy to (eV)": null,
          "Polar ang (deg)": 154.698604685322
         },
         {
          "EWS delay diff (as)": -6.26139912426282,
          "KE range (eV)": "07.2",
          "Photon energy fr (eV)": 15.9,
          "Photon energy to (eV)": null,
          "Polar ang (deg)": 155.271562480453
         },
         {
          "EWS delay diff (as)": -5.74237808478628,
          "KE range (eV)": "07.2",
          "Photon energy fr (eV)": 15.9,
          "Photon energy to (eV)": null,
          "Polar ang (deg)": 155.844520275584
         },
         {
          "EWS delay diff (as)": -5.23952153516305,
          "KE range (eV)": "07.2",
          "Photon energy fr (eV)": 15.9,
          "Photon energy to (eV)": null,
          "Polar ang (deg)": 156.417478070715
         },
         {
          "EWS delay diff (as)": -4.75256147040604,
          "KE range (eV)": "07.2",
          "Photon energy fr (eV)": 15.9,
          "Photon energy to (eV)": null,
          "Polar ang (deg)": 156.990435865846
         },
         {
          "EWS delay diff (as)": -4.28123140047809,
          "KE range (eV)": "07.2",
          "Photon energy fr (eV)": 15.9,
          "Photon energy to (eV)": null,
          "Polar ang (deg)": 157.563393660976
         },
         {
          "EWS delay diff (as)": -3.82526736319555,
          "KE range (eV)": "07.2",
          "Photon energy fr (eV)": 15.9,
          "Photon energy to (eV)": null,
          "Polar ang (deg)": 158.136351456107
         },
         {
          "EWS delay diff (as)": -3.38440879069779,
          "KE range (eV)": "07.2",
          "Photon energy fr (eV)": 15.9,
          "Photon energy to (eV)": null,
          "Polar ang (deg)": 158.709309251238
         },
         {
          "EWS delay diff (as)": -2.95839924791785,
          "KE range (eV)": "07.2",
          "Photon energy fr (eV)": 15.9,
          "Photon energy to (eV)": null,
          "Polar ang (deg)": 159.282267046369
         },
         {
          "EWS delay diff (as)": -2.54698705915679,
          "KE range (eV)": "07.2",
          "Photon energy fr (eV)": 15.9,
          "Photon energy to (eV)": null,
          "Polar ang (deg)": 159.8552248415
         },
         {
          "EWS delay diff (as)": -2.14992583708273,
          "KE range (eV)": "07.2",
          "Photon energy fr (eV)": 15.9,
          "Photon energy to (eV)": null,
          "Polar ang (deg)": 160.428182636631
         },
         {
          "EWS delay diff (as)": -1.76697492649858,
          "KE range (eV)": "07.2",
          "Photon energy fr (eV)": 15.9,
          "Photon energy to (eV)": null,
          "Polar ang (deg)": 161.001140431761
         },
         {
          "EWS delay diff (as)": -1.39789977397342,
          "KE range (eV)": "07.2",
          "Photon energy fr (eV)": 15.9,
          "Photon energy to (eV)": null,
          "Polar ang (deg)": 161.574098226892
         },
         {
          "EWS delay diff (as)": -1.04247223293719,
          "KE range (eV)": "07.2",
          "Photon energy fr (eV)": 15.9,
          "Photon energy to (eV)": null,
          "Polar ang (deg)": 162.147056022023
         },
         {
          "EWS delay diff (as)": -0.700470812699194,
          "KE range (eV)": "07.2",
          "Photon energy fr (eV)": 15.9,
          "Photon energy to (eV)": null,
          "Polar ang (deg)": 162.720013817154
         },
         {
          "EWS delay diff (as)": -0.371680878956227,
          "KE range (eV)": "07.2",
          "Photon energy fr (eV)": 15.9,
          "Photon energy to (eV)": null,
          "Polar ang (deg)": 163.292971612285
         },
         {
          "EWS delay diff (as)": -0.0558948122524328,
          "KE range (eV)": "07.2",
          "Photon energy fr (eV)": 15.9,
          "Photon energy to (eV)": null,
          "Polar ang (deg)": 163.865929407415
         },
         {
          "EWS delay diff (as)": 0.247087869745144,
          "KE range (eV)": "07.2",
          "Photon energy fr (eV)": 15.9,
          "Photon energy to (eV)": null,
          "Polar ang (deg)": 164.438887202546
         },
         {
          "EWS delay diff (as)": 0.537460421085712,
          "KE range (eV)": "07.2",
          "Photon energy fr (eV)": 15.9,
          "Photon energy to (eV)": null,
          "Polar ang (deg)": 165.011844997677
         },
         {
          "EWS delay diff (as)": 0.815408803029882,
          "KE range (eV)": "07.2",
          "Photon energy fr (eV)": 15.9,
          "Photon energy to (eV)": null,
          "Polar ang (deg)": 165.584802792808
         },
         {
          "EWS delay diff (as)": 1.0811116421543,
          "KE range (eV)": "07.2",
          "Photon energy fr (eV)": 15.9,
          "Photon energy to (eV)": null,
          "Polar ang (deg)": 166.157760587939
         },
         {
          "EWS delay diff (as)": 1.33474020774926,
          "KE range (eV)": "07.2",
          "Photon energy fr (eV)": 15.9,
          "Photon energy to (eV)": null,
          "Polar ang (deg)": 166.73071838307
         },
         {
          "EWS delay diff (as)": 1.5764584053013,
          "KE range (eV)": "07.2",
          "Photon energy fr (eV)": 15.9,
          "Photon energy to (eV)": null,
          "Polar ang (deg)": 167.3036761782
         },
         {
          "EWS delay diff (as)": 1.80642278341736,
          "KE range (eV)": "07.2",
          "Photon energy fr (eV)": 15.9,
          "Photon energy to (eV)": null,
          "Polar ang (deg)": 167.876633973331
         },
         {
          "EWS delay diff (as)": 2.02478255186556,
          "KE range (eV)": "07.2",
          "Photon energy fr (eV)": 15.9,
          "Photon energy to (eV)": null,
          "Polar ang (deg)": 168.449591768462
         },
         {
          "EWS delay diff (as)": 2.23167960854731,
          "KE range (eV)": "07.2",
          "Photon energy fr (eV)": 15.9,
          "Photon energy to (eV)": null,
          "Polar ang (deg)": 169.022549563593
         },
         {
          "EWS delay diff (as)": 2.42724857367271,
          "KE range (eV)": "07.2",
          "Photon energy fr (eV)": 15.9,
          "Photon energy to (eV)": null,
          "Polar ang (deg)": 169.595507358724
         },
         {
          "EWS delay diff (as)": 2.61161682942479,
          "KE range (eV)": "07.2",
          "Photon energy fr (eV)": 15.9,
          "Photon energy to (eV)": null,
          "Polar ang (deg)": 170.168465153855
         },
         {
          "EWS delay diff (as)": 2.78490456375735,
          "KE range (eV)": "07.2",
          "Photon energy fr (eV)": 15.9,
          "Photon energy to (eV)": null,
          "Polar ang (deg)": 170.741422948985
         },
         {
          "EWS delay diff (as)": 2.94722481707765,
          "KE range (eV)": "07.2",
          "Photon energy fr (eV)": 15.9,
          "Photon energy to (eV)": null,
          "Polar ang (deg)": 171.314380744116
         },
         {
          "EWS delay diff (as)": 3.09868353065568,
          "KE range (eV)": "07.2",
          "Photon energy fr (eV)": 15.9,
          "Photon energy to (eV)": null,
          "Polar ang (deg)": 171.887338539247
         },
         {
          "EWS delay diff (as)": 3.23937959589138,
          "KE range (eV)": "07.2",
          "Photon energy fr (eV)": 15.9,
          "Photon energy to (eV)": null,
          "Polar ang (deg)": 172.460296334378
         },
         {
          "EWS delay diff (as)": 3.36940490355175,
          "KE range (eV)": "07.2",
          "Photon energy fr (eV)": 15.9,
          "Photon energy to (eV)": null,
          "Polar ang (deg)": 173.033254129509
         },
         {
          "EWS delay diff (as)": 3.48884439218722,
          "KE range (eV)": "07.2",
          "Photon energy fr (eV)": 15.9,
          "Photon energy to (eV)": null,
          "Polar ang (deg)": 173.606211924639
         },
         {
          "EWS delay diff (as)": 3.59777609521572,
          "KE range (eV)": "07.2",
          "Photon energy fr (eV)": 15.9,
          "Photon energy to (eV)": null,
          "Polar ang (deg)": 174.17916971977
         },
         {
          "EWS delay diff (as)": 3.69627118600491,
          "KE range (eV)": "07.2",
          "Photon energy fr (eV)": 15.9,
          "Photon energy to (eV)": null,
          "Polar ang (deg)": 174.752127514901
         },
         {
          "EWS delay diff (as)": 3.78439402050113,
          "KE range (eV)": "07.2",
          "Photon energy fr (eV)": 15.9,
          "Photon energy to (eV)": null,
          "Polar ang (deg)": 175.325085310032
         },
         {
          "EWS delay diff (as)": 3.86220217699851,
          "KE range (eV)": "07.2",
          "Photon energy fr (eV)": 15.9,
          "Photon energy to (eV)": null,
          "Polar ang (deg)": 175.898043105163
         },
         {
          "EWS delay diff (as)": 3.92974649266975,
          "KE range (eV)": "07.2",
          "Photon energy fr (eV)": 15.9,
          "Photon energy to (eV)": null,
          "Polar ang (deg)": 176.471000900294
         },
         {
          "EWS delay diff (as)": 3.98707109656371,
          "KE range (eV)": "07.2",
          "Photon energy fr (eV)": 15.9,
          "Photon energy to (eV)": null,
          "Polar ang (deg)": 177.043958695424
         },
         {
          "EWS delay diff (as)": 4.03421343879273,
          "KE range (eV)": "07.2",
          "Photon energy fr (eV)": 15.9,
          "Photon energy to (eV)": null,
          "Polar ang (deg)": 177.616916490555
         },
         {
          "EWS delay diff (as)": 4.07120431568053,
          "KE range (eV)": "07.2",
          "Photon energy fr (eV)": 15.9,
          "Photon energy to (eV)": null,
          "Polar ang (deg)": 178.189874285686
         },
         {
          "EWS delay diff (as)": 4.09806789074096,
          "KE range (eV)": "07.2",
          "Photon energy fr (eV)": 15.9,
          "Photon energy to (eV)": null,
          "Polar ang (deg)": 178.762832080817
         },
         {
          "EWS delay diff (as)": 4.11482171129407,
          "KE range (eV)": "07.2",
          "Photon energy fr (eV)": 15.9,
          "Photon energy to (eV)": null,
          "Polar ang (deg)": 179.335789875948
         },
         {
          "EWS delay diff (as)": 4.12147672060925,
          "KE range (eV)": "07.2",
          "Photon energy fr (eV)": 15.9,
          "Photon energy to (eV)": null,
          "Polar ang (deg)": 179.908747671079
         },
         {
          "EWS delay diff (as)": -10.4458631262294,
          "KE range (eV)": "13.6",
          "Photon energy fr (eV)": 19.1,
          "Photon energy to (eV)": null,
          "Polar ang (deg)": 0
         },
         {
          "EWS delay diff (as)": -10.4496825717479,
          "KE range (eV)": "13.6",
          "Photon energy fr (eV)": 19.1,
          "Photon energy to (eV)": null,
          "Polar ang (deg)": 0.572957795130823
         },
         {
          "EWS delay diff (as)": -10.4611421767946,
          "KE range (eV)": "13.6",
          "Photon energy fr (eV)": 19.1,
          "Photon energy to (eV)": null,
          "Polar ang (deg)": 1.14591559026165
         },
         {
          "EWS delay diff (as)": -10.4802457434023,
          "KE range (eV)": "13.6",
          "Photon energy fr (eV)": 19.1,
          "Photon energy to (eV)": null,
          "Polar ang (deg)": 1.71887338539247
         },
         {
          "EWS delay diff (as)": -10.5069995967613,
          "KE range (eV)": "13.6",
          "Photon energy fr (eV)": 19.1,
          "Photon energy to (eV)": null,
          "Polar ang (deg)": 2.29183118052329
         },
         {
          "EWS delay diff (as)": -10.541412567798499,
          "KE range (eV)": "13.6",
          "Photon energy fr (eV)": 19.1,
          "Photon energy to (eV)": null,
          "Polar ang (deg)": 2.86478897565412
         },
         {
          "EWS delay diff (as)": -10.5834959685387,
          "KE range (eV)": "13.6",
          "Photon energy fr (eV)": 19.1,
          "Photon energy to (eV)": null,
          "Polar ang (deg)": 3.43774677078494
         },
         {
          "EWS delay diff (as)": -10.6332635600062,
          "KE range (eV)": "13.6",
          "Photon energy fr (eV)": 19.1,
          "Photon energy to (eV)": null,
          "Polar ang (deg)": 4.01070456591576
         },
         {
          "EWS delay diff (as)": -10.6907315123261,
          "KE range (eV)": "13.6",
          "Photon energy fr (eV)": 19.1,
          "Photon energy to (eV)": null,
          "Polar ang (deg)": 4.58366236104659
         },
         {
          "EWS delay diff (as)": -10.7559183566299,
          "KE range (eV)": "13.6",
          "Photon energy fr (eV)": 19.1,
          "Photon energy to (eV)": null,
          "Polar ang (deg)": 5.15662015617741
         },
         {
          "EWS delay diff (as)": -10.8288449282994,
          "KE range (eV)": "13.6",
          "Photon energy fr (eV)": 19.1,
          "Photon energy to (eV)": null,
          "Polar ang (deg)": 5.72957795130823
         },
         {
          "EWS delay diff (as)": -10.9095343009251,
          "KE range (eV)": "13.6",
          "Photon energy fr (eV)": 19.1,
          "Photon energy to (eV)": null,
          "Polar ang (deg)": 6.30253574643906
         },
         {
          "EWS delay diff (as)": -10.9980117103943,
          "KE range (eV)": "13.6",
          "Photon energy fr (eV)": 19.1,
          "Photon energy to (eV)": null,
          "Polar ang (deg)": 6.87549354156988
         },
         {
          "EWS delay diff (as)": -11.0943044682843,
          "KE range (eV)": "13.6",
          "Photon energy fr (eV)": 19.1,
          "Photon energy to (eV)": null,
          "Polar ang (deg)": 7.4484513367007
         },
         {
          "EWS delay diff (as)": -11.1984418637494,
          "KE range (eV)": "13.6",
          "Photon energy fr (eV)": 19.1,
          "Photon energy to (eV)": null,
          "Polar ang (deg)": 8.02140913183153
         },
         {
          "EWS delay diff (as)": -11.3104550529104,
          "KE range (eV)": "13.6",
          "Photon energy fr (eV)": 19.1,
          "Photon energy to (eV)": null,
          "Polar ang (deg)": 8.59436692696235
         },
         {
          "EWS delay diff (as)": -11.4303769346709,
          "KE range (eV)": "13.6",
          "Photon energy fr (eV)": 19.1,
          "Photon energy to (eV)": null,
          "Polar ang (deg)": 9.16732472209317
         },
         {
          "EWS delay diff (as)": -11.5582420117537,
          "KE range (eV)": "13.6",
          "Photon energy fr (eV)": 19.1,
          "Photon energy to (eV)": null,
          "Polar ang (deg)": 9.740282517224
         },
         {
          "EWS delay diff (as)": -11.6940862356056,
          "KE range (eV)": "13.6",
          "Photon energy fr (eV)": 19.1,
          "Photon energy to (eV)": null,
          "Polar ang (deg)": 10.3132403123548
         },
         {
          "EWS delay diff (as)": -11.8379468336687,
          "KE range (eV)": "13.6",
          "Photon energy fr (eV)": 19.1,
          "Photon energy to (eV)": null,
          "Polar ang (deg)": 10.8861981074856
         },
         {
          "EWS delay diff (as)": -11.989862117376,
          "KE range (eV)": "13.6",
          "Photon energy fr (eV)": 19.1,
          "Photon energy to (eV)": null,
          "Polar ang (deg)": 11.4591559026165
         },
         {
          "EWS delay diff (as)": -12.1498712690435,
          "KE range (eV)": "13.6",
          "Photon energy fr (eV)": 19.1,
          "Photon energy to (eV)": null,
          "Polar ang (deg)": 12.0321136977473
         },
         {
          "EWS delay diff (as)": -12.3180141056114,
          "KE range (eV)": "13.6",
          "Photon energy fr (eV)": 19.1,
          "Photon energy to (eV)": null,
          "Polar ang (deg)": 12.6050714928781
         },
         {
          "EWS delay diff (as)": -12.4943308170442,
          "KE range (eV)": "13.6",
          "Photon energy fr (eV)": 19.1,
          "Photon energy to (eV)": null,
          "Polar ang (deg)": 13.1780292880089
         },
         {
          "EWS delay diff (as)": -12.6788616769078,
          "KE range (eV)": "13.6",
          "Photon energy fr (eV)": 19.1,
          "Photon energy to (eV)": null,
          "Polar ang (deg)": 13.7509870831398
         },
         {
          "EWS delay diff (as)": -12.8716467224472,
          "KE range (eV)": "13.6",
          "Photon energy fr (eV)": 19.1,
          "Photon energy to (eV)": null,
          "Polar ang (deg)": 14.3239448782706
         },
         {
          "EWS delay diff (as)": -13.0727254011744,
          "KE range (eV)": "13.6",
          "Photon energy fr (eV)": 19.1,
          "Photon energy to (eV)": null,
          "Polar ang (deg)": 14.8969026734014
         },
         {
          "EWS delay diff (as)": -13.2821361807256,
          "KE range (eV)": "13.6",
          "Photon energy fr (eV)": 19.1,
          "Photon energy to (eV)": null,
          "Polar ang (deg)": 15.4698604685322
         },
         {
          "EWS delay diff (as)": -13.4999161183957,
          "KE range (eV)": "13.6",
          "Photon energy fr (eV)": 19.1,
          "Photon energy to (eV)": null,
          "Polar ang (deg)": 16.0428182636631
         },
         {
          "EWS delay diff (as)": -13.7261003864086,
          "KE range (eV)": "13.6",
          "Photon energy fr (eV)": 19.1,
          "Photon energy to (eV)": null,
          "Polar ang (deg)": 16.6157760587939
         },
         {
          "EWS delay diff (as)": -13.9607217486284,
          "KE range (eV)": "13.6",
          "Photon energy fr (eV)": 19.1,
          "Photon energy to (eV)": null,
          "Polar ang (deg)": 17.1887338539247
         },
         {
          "EWS delay diff (as)": -14.2038099839445,
          "KE range (eV)": "13.6",
          "Photon energy fr (eV)": 19.1,
          "Photon energy to (eV)": null,
          "Polar ang (deg)": 17.7616916490555
         },
         {
          "EWS delay diff (as)": -14.4553912511753,
          "KE range (eV)": "13.6",
          "Photon energy fr (eV)": 19.1,
          "Photon energy to (eV)": null,
          "Polar ang (deg)": 18.3346494441863
         },
         {
          "EWS delay diff (as)": -14.7154873897488,
          "KE range (eV)": "13.6",
          "Photon energy fr (eV)": 19.1,
          "Photon energy to (eV)": null,
          "Polar ang (deg)": 18.9076072393172
         },
         {
          "EWS delay diff (as)": -14.9841151499679,
          "KE range (eV)": "13.6",
          "Photon energy fr (eV)": 19.1,
          "Photon energy to (eV)": null,
          "Polar ang (deg)": 19.480565034448
         },
         {
          "EWS delay diff (as)": -15.2612853459893,
          "KE range (eV)": "13.6",
          "Photon energy fr (eV)": 19.1,
          "Photon energy to (eV)": null,
          "Polar ang (deg)": 20.0535228295788
         },
         {
          "EWS delay diff (as)": -15.5470019240376,
          "KE range (eV)": "13.6",
          "Photon energy fr (eV)": 19.1,
          "Photon energy to (eV)": null,
          "Polar ang (deg)": 20.6264806247096
         },
         {
          "EWS delay diff (as)": -15.8412609376706,
          "KE range (eV)": "13.6",
          "Photon energy fr (eV)": 19.1,
          "Photon energy to (eV)": null,
          "Polar ang (deg)": 21.1994384198405
         },
         {
          "EWS delay diff (as)": -16.1440494211038,
          "KE range (eV)": "13.6",
          "Photon energy fr (eV)": 19.1,
          "Photon energy to (eV)": null,
          "Polar ang (deg)": 21.7723962149713
         },
         {
          "EWS delay diff (as)": -16.4553441508044,
          "KE range (eV)": "13.6",
          "Photon energy fr (eV)": 19.1,
          "Photon energy to (eV)": null,
          "Polar ang (deg)": 22.3453540101021
         },
         {
          "EWS delay diff (as)": -16.775110284625,
          "KE range (eV)": "13.6",
          "Photon energy fr (eV)": 19.1,
          "Photon energy to (eV)": null,
          "Polar ang (deg)": 22.9183118052329
         },
         {
          "EWS delay diff (as)": -17.1032998667693,
          "KE range (eV)": "13.6",
          "Photon energy fr (eV)": 19.1,
          "Photon energy to (eV)": null,
          "Polar ang (deg)": 23.4912696003638
         },
         {
          "EWS delay diff (as)": -17.4398501857755,
          "KE range (eV)": "13.6",
          "Photon energy fr (eV)": 19.1,
          "Photon energy to (eV)": null,
          "Polar ang (deg)": 24.0642273954946
         },
         {
          "EWS delay diff (as)": -17.7846819716265,
          "KE range (eV)": "13.6",
          "Photon energy fr (eV)": 19.1,
          "Photon energy to (eV)": null,
          "Polar ang (deg)": 24.6371851906254
         },
         {
          "EWS delay diff (as)": -18.1376974167033,
          "KE range (eV)": "13.6",
          "Photon energy fr (eV)": 19.1,
          "Photon energy to (eV)": null,
          "Polar ang (deg)": 25.2101429857562
         },
         {
          "EWS delay diff (as)": -18.4987780041084,
          "KE range (eV)": "13.6",
          "Photon energy fr (eV)": 19.1,
          "Photon energy to (eV)": null,
          "Polar ang (deg)": 25.783100780887
         },
         {
          "EWS delay diff (as)": -18.8677821252989,
          "KE range (eV)": "13.6",
          "Photon energy fr (eV)": 19.1,
          "Photon energy to (eV)": null,
          "Polar ang (deg)": 26.3560585760179
         },
         {
          "EWS delay diff (as)": -19.2445424674856,
          "KE range (eV)": "13.6",
          "Photon energy fr (eV)": 19.1,
          "Photon energy to (eV)": null,
          "Polar ang (deg)": 26.9290163711487
         },
         {
          "EWS delay diff (as)": -19.6288631495953,
          "KE range (eV)": "13.6",
          "Photon energy fr (eV)": 19.1,
          "Photon energy to (eV)": null,
          "Polar ang (deg)": 27.5019741662795
         },
         {
          "EWS delay diff (as)": -20.0205165838163,
          "KE range (eV)": "13.6",
          "Photon energy fr (eV)": 19.1,
          "Photon energy to (eV)": null,
          "Polar ang (deg)": 28.0749319614103
         },
         {
          "EWS delay diff (as)": -20.4192400378807,
          "KE range (eV)": "13.6",
          "Photon energy fr (eV)": 19.1,
          "Photon energy to (eV)": null,
          "Polar ang (deg)": 28.6478897565412
         },
         {
          "EWS delay diff (as)": -20.8247318713104,
          "KE range (eV)": "13.6",
          "Photon energy fr (eV)": 19.1,
          "Photon energy to (eV)": null,
          "Polar ang (deg)": 29.220847551672
         },
         {
          "EWS delay diff (as)": -21.2366474168029,
          "KE range (eV)": "13.6",
          "Photon energy fr (eV)": 19.1,
          "Photon energy to (eV)": null,
          "Polar ang (deg)": 29.7938053468028
         },
         {
          "EWS delay diff (as)": -21.6545944758035,
          "KE range (eV)": "13.6",
          "Photon energy fr (eV)": 19.1,
          "Photon energy to (eV)": null,
          "Polar ang (deg)": 30.3667631419336
         },
         {
          "EWS delay diff (as)": -22.0781283952132,
          "KE range (eV)": "13.6",
          "Photon energy fr (eV)": 19.1,
          "Photon energy to (eV)": null,
          "Polar ang (deg)": 30.9397209370645
         },
         {
          "EWS delay diff (as)": -22.5067466899525,
          "KE range (eV)": "13.6",
          "Photon energy fr (eV)": 19.1,
          "Photon energy to (eV)": null,
          "Polar ang (deg)": 31.5126787321953
         },
         {
          "EWS delay diff (as)": -22.9398831739722,
          "KE range (eV)": "13.6",
          "Photon energy fr (eV)": 19.1,
          "Photon energy to (eV)": null,
          "Polar ang (deg)": 32.0856365273261
         },
         {
          "EWS delay diff (as)": -23.3769015602201,
          "KE range (eV)": "13.6",
          "Photon energy fr (eV)": 19.1,
          "Photon energy to (eV)": null,
          "Polar ang (deg)": 32.6585943224569
         },
         {
          "EWS delay diff (as)": -23.8170884881477,
          "KE range (eV)": "13.6",
          "Photon energy fr (eV)": 19.1,
          "Photon energy to (eV)": null,
          "Polar ang (deg)": 33.2315521175877
         },
         {
          "EWS delay diff (as)": -24.2596459355324,
          "KE range (eV)": "13.6",
          "Photon energy fr (eV)": 19.1,
          "Photon energy to (eV)": null,
          "Polar ang (deg)": 33.8045099127186
         },
         {
          "EWS delay diff (as)": -24.7036829700802,
          "KE range (eV)": "13.6",
          "Photon energy fr (eV)": 19.1,
          "Photon energy to (eV)": null,
          "Polar ang (deg)": 34.3774677078494
         },
         {
          "EWS delay diff (as)": -25.1482067952145,
          "KE range (eV)": "13.6",
          "Photon energy fr (eV)": 19.1,
          "Photon energy to (eV)": null,
          "Polar ang (deg)": 34.9504255029802
         },
         {
          "EWS delay diff (as)": -25.5921130441461,
          "KE range (eV)": "13.6",
          "Photon energy fr (eV)": 19.1,
          "Photon energy to (eV)": null,
          "Polar ang (deg)": 35.523383298111
         },
         {
          "EWS delay diff (as)": -26.0341752767133,
          "KE range (eV)": "13.6",
          "Photon energy fr (eV)": 19.1,
          "Photon energy to (eV)": null,
          "Polar ang (deg)": 36.0963410932419
         },
         {
          "EWS delay diff (as)": -26.4730336349288,
          "KE range (eV)": "13.6",
          "Photon energy fr (eV)": 19.1,
          "Photon energy to (eV)": null,
          "Polar ang (deg)": 36.6692988883727
         },
         {
          "EWS delay diff (as)": -26.9071826159779,
          "KE range (eV)": "13.6",
          "Photon energy fr (eV)": 19.1,
          "Photon energy to (eV)": null,
          "Polar ang (deg)": 37.2422566835035
         },
         {
          "EWS delay diff (as)": -27.3349579257047,
          "KE range (eV)": "13.6",
          "Photon energy fr (eV)": 19.1,
          "Photon energy to (eV)": null,
          "Polar ang (deg)": 37.8152144786343
         },
         {
          "EWS delay diff (as)": -27.7545223821605,
          "KE range (eV)": "13.6",
          "Photon energy fr (eV)": 19.1,
          "Photon energy to (eV)": null,
          "Polar ang (deg)": 38.3881722737652
         },
         {
          "EWS delay diff (as)": -28.1638508476396,
          "KE range (eV)": "13.6",
          "Photon energy fr (eV)": 19.1,
          "Photon energy to (eV)": null,
          "Polar ang (deg)": 38.961130068896
         },
         {
          "EWS delay diff (as)": -28.5607141796556,
          "KE range (eV)": "13.6",
          "Photon energy fr (eV)": 19.1,
          "Photon energy to (eV)": null,
          "Polar ang (deg)": 39.5340878640268
         },
         {
          "EWS delay diff (as)": -28.9426622069495,
          "KE range (eV)": "13.6",
          "Photon energy fr (eV)": 19.1,
          "Photon energy to (eV)": null,
          "Polar ang (deg)": 40.1070456591576
         },
         {
          "EWS delay diff (as)": -29.3070057566984,
          "KE range (eV)": "13.6",
          "Photon energy fr (eV)": 19.1,
          "Photon energy to (eV)": null,
          "Polar ang (deg)": 40.6800034542884
         },
         {
          "EWS delay diff (as)": -29.6507977843934,
          "KE range (eV)": "13.6",
          "Photon energy fr (eV)": 19.1,
          "Photon energy to (eV)": null,
          "Polar ang (deg)": 41.2529612494193
         },
         {
          "EWS delay diff (as)": -29.9708136892578,
          "KE range (eV)": "13.6",
          "Photon energy fr (eV)": 19.1,
          "Photon energy to (eV)": null,
          "Polar ang (deg)": 41.8259190445501
         },
         {
          "EWS delay diff (as)": -30.2635309367272,
          "KE range (eV)": "13.6",
          "Photon energy fr (eV)": 19.1,
          "Photon energy to (eV)": null,
          "Polar ang (deg)": 42.3988768396809
         },
         {
          "EWS delay diff (as)": -30.5251081562403,
          "KE range (eV)": "13.6",
          "Photon energy fr (eV)": 19.1,
          "Photon energy to (eV)": null,
          "Polar ang (deg)": 42.9718346348117
         },
         {
          "EWS delay diff (as)": -30.7513639388555,
          "KE range (eV)": "13.6",
          "Photon energy fr (eV)": 19.1,
          "Photon energy to (eV)": null,
          "Polar ang (deg)": 43.5447924299426
         },
         {
          "EWS delay diff (as)": -30.9377556259038,
          "KE range (eV)": "13.6",
          "Photon energy fr (eV)": 19.1,
          "Photon energy to (eV)": null,
          "Polar ang (deg)": 44.1177502250734
         },
         {
          "EWS delay diff (as)": -31.079358458177,
          "KE range (eV)": "13.6",
          "Photon energy fr (eV)": 19.1,
          "Photon energy to (eV)": null,
          "Polar ang (deg)": 44.6907080202042
         },
         {
          "EWS delay diff (as)": -31.1708455462361,
          "KE range (eV)": "13.6",
          "Photon energy fr (eV)": 19.1,
          "Photon energy to (eV)": null,
          "Polar ang (deg)": 45.263665815335
         },
         {
          "EWS delay diff (as)": -31.2064692266736,
          "KE range (eV)": "13.6",
          "Photon energy fr (eV)": 19.1,
          "Photon energy to (eV)": null,
          "Polar ang (deg)": 45.8366236104659
         },
         {
          "EWS delay diff (as)": -31.1800444873853,
          "KE range (eV)": "13.6",
          "Photon energy fr (eV)": 19.1,
          "Photon energy to (eV)": null,
          "Polar ang (deg)": 46.4095814055967
         },
         {
          "EWS delay diff (as)": -31.0849352764784,
          "KE range (eV)": "13.6",
          "Photon energy fr (eV)": 19.1,
          "Photon energy to (eV)": null,
          "Polar ang (deg)": 46.9825392007275
         },
         {
          "EWS delay diff (as)": -30.9140446538656,
          "KE range (eV)": "13.6",
          "Photon energy fr (eV)": 19.1,
          "Photon energy to (eV)": null,
          "Polar ang (deg)": 47.5554969958583
         },
         {
          "EWS delay diff (as)": -30.6598098992428,
          "KE range (eV)": "13.6",
          "Photon energy fr (eV)": 19.1,
          "Photon energy to (eV)": null,
          "Polar ang (deg)": 48.1284547909891
         },
         {
          "EWS delay diff (as)": -30.314203852102,
          "KE range (eV)": "13.6",
          "Photon energy fr (eV)": 19.1,
          "Photon energy to (eV)": null,
          "Polar ang (deg)": 48.70141258612
         },
         {
          "EWS delay diff (as)": -29.8687439229859,
          "KE range (eV)": "13.6",
          "Photon energy fr (eV)": 19.1,
          "Photon energy to (eV)": null,
          "Polar ang (deg)": 49.2743703812508
         },
         {
          "EWS delay diff (as)": -29.314510373208,
          "KE range (eV)": "13.6",
          "Photon energy fr (eV)": 19.1,
          "Photon energy to (eV)": null,
          "Polar ang (deg)": 49.8473281763816
         },
         {
          "EWS delay diff (as)": -28.6421756025055,
          "KE range (eV)": "13.6",
          "Photon energy fr (eV)": 19.1,
          "Photon energy to (eV)": null,
          "Polar ang (deg)": 50.4202859715125
         },
         {
          "EWS delay diff (as)": -27.8420462978497,
          "KE range (eV)": "13.6",
          "Photon energy fr (eV)": 19.1,
          "Photon energy to (eV)": null,
          "Polar ang (deg)": 50.9932437666433
         },
         {
          "EWS delay diff (as)": -26.9041203656162,
          "KE range (eV)": "13.6",
          "Photon energy fr (eV)": 19.1,
          "Photon energy to (eV)": null,
          "Polar ang (deg)": 51.5662015617741
         },
         {
          "EWS delay diff (as)": -25.8181605742287,
          "KE range (eV)": "13.6",
          "Photon energy fr (eV)": 19.1,
          "Photon energy to (eV)": null,
          "Polar ang (deg)": 52.1391593569049
         },
         {
          "EWS delay diff (as)": -24.5737867529758,
          "KE range (eV)": "13.6",
          "Photon energy fr (eV)": 19.1,
          "Photon energy to (eV)": null,
          "Polar ang (deg)": 52.7121171520357
         },
         {
          "EWS delay diff (as)": -23.1605882001311,
          "KE range (eV)": "13.6",
          "Photon energy fr (eV)": 19.1,
          "Photon energy to (eV)": null,
          "Polar ang (deg)": 53.2850749471666
         },
         {
          "EWS delay diff (as)": -21.5682576240992,
          "KE range (eV)": "13.6",
          "Photon energy fr (eV)": 19.1,
          "Photon energy to (eV)": null,
          "Polar ang (deg)": 53.8580327422974
         },
         {
          "EWS delay diff (as)": -19.7867474497135,
          "KE range (eV)": "13.6",
          "Photon energy fr (eV)": 19.1,
          "Photon energy to (eV)": null,
          "Polar ang (deg)": 54.4309905374282
         },
         {
          "EWS delay diff (as)": -17.8064486464224,
          "KE range (eV)": "13.6",
          "Photon energy fr (eV)": 19.1,
          "Photon energy to (eV)": null,
          "Polar ang (deg)": 55.003948332559
         },
         {
          "EWS delay diff (as)": -15.6183913607881,
          "KE range (eV)": "13.6",
          "Photon energy fr (eV)": 19.1,
          "Photon energy to (eV)": null,
          "Polar ang (deg)": 55.5769061276899
         },
         {
          "EWS delay diff (as)": -13.2144655582946,
          "KE range (eV)": "13.6",
          "Photon energy fr (eV)": 19.1,
          "Photon energy to (eV)": null,
          "Polar ang (deg)": 56.1498639228207
         },
         {
          "EWS delay diff (as)": -10.5876586104685,
          "KE range (eV)": "13.6",
          "Photon energy fr (eV)": 19.1,
          "Photon energy to (eV)": null,
          "Polar ang (deg)": 56.7228217179515
         },
         {
          "EWS delay diff (as)": -7.73230533436742,
          "KE range (eV)": "13.6",
          "Photon energy fr (eV)": 19.1,
          "Photon energy to (eV)": null,
          "Polar ang (deg)": 57.2957795130823
         },
         {
          "EWS delay diff (as)": -4.64434445837725,
          "KE range (eV)": "13.6",
          "Photon energy fr (eV)": 19.1,
          "Photon energy to (eV)": null,
          "Polar ang (deg)": 57.8687373082132
         },
         {
          "EWS delay diff (as)": -1.32157393414278,
          "KE range (eV)": "13.6",
          "Photon energy fr (eV)": 19.1,
          "Photon energy to (eV)": null,
          "Polar ang (deg)": 58.441695103344
         },
         {
          "EWS delay diff (as)": 2.23610395107254,
          "KE range (eV)": "13.6",
          "Photon energy fr (eV)": 19.1,
          "Photon energy to (eV)": null,
          "Polar ang (deg)": 59.0146528984748
         },
         {
          "EWS delay diff (as)": 6.02645795042633,
          "KE range (eV)": "13.6",
          "Photon energy fr (eV)": 19.1,
          "Photon energy to (eV)": null,
          "Polar ang (deg)": 59.5876106936056
         },
         {
          "EWS delay diff (as)": 10.0447348820474,
          "KE range (eV)": "13.6",
          "Photon energy fr (eV)": 19.1,
          "Photon energy to (eV)": null,
          "Polar ang (deg)": 60.1605684887364
         },
         {
          "EWS delay diff (as)": 14.2835098084211,
          "KE range (eV)": "13.6",
          "Photon energy fr (eV)": 19.1,
          "Photon energy to (eV)": null,
          "Polar ang (deg)": 60.7335262838673
         },
         {
          "EWS delay diff (as)": 18.7325905584048,
          "KE range (eV)": "13.6",
          "Photon energy fr (eV)": 19.1,
          "Photon energy to (eV)": null,
          "Polar ang (deg)": 61.3064840789981
         },
         {
          "EWS delay diff (as)": 23.378986689286,
          "KE range (eV)": "13.6",
          "Photon energy fr (eV)": 19.1,
          "Photon energy to (eV)": null,
          "Polar ang (deg)": 61.8794418741289
         },
         {
          "EWS delay diff (as)": 28.2069510716747,
          "KE range (eV)": "13.6",
          "Photon energy fr (eV)": 19.1,
          "Photon energy to (eV)": null,
          "Polar ang (deg)": 62.4523996692597
         },
         {
          "EWS delay diff (as)": 33.1980995596508,
          "KE range (eV)": "13.6",
          "Photon energy fr (eV)": 19.1,
          "Photon energy to (eV)": null,
          "Polar ang (deg)": 63.0253574643906
         },
         {
          "EWS delay diff (as)": 38.3316107866074,
          "KE range (eV)": "13.6",
          "Photon energy fr (eV)": 19.1,
          "Photon energy to (eV)": null,
          "Polar ang (deg)": 63.5983152595214
         },
         {
          "EWS delay diff (as)": 43.5845041933272,
          "KE range (eV)": "13.6",
          "Photon energy fr (eV)": 19.1,
          "Photon energy to (eV)": null,
          "Polar ang (deg)": 64.1712730546522
         },
         {
          "EWS delay diff (as)": 48.9319902173833,
          "KE range (eV)": "13.6",
          "Photon energy fr (eV)": 19.1,
          "Photon energy to (eV)": null,
          "Polar ang (deg)": 64.744230849783
         },
         {
          "EWS delay diff (as)": 54.3478824750956,
          "KE range (eV)": "13.6",
          "Photon energy fr (eV)": 19.1,
          "Photon energy to (eV)": null,
          "Polar ang (deg)": 65.3171886449139
         },
         {
          "EWS delay diff (as)": 59.8050580948915,
          "KE range (eV)": "13.6",
          "Photon energy fr (eV)": 19.1,
          "Photon energy to (eV)": null,
          "Polar ang (deg)": 65.8901464400447
         },
         {
          "EWS delay diff (as)": 65.2759494428805,
          "KE range (eV)": "13.6",
          "Photon energy fr (eV)": 19.1,
          "Photon energy to (eV)": null,
          "Polar ang (deg)": 66.4631042351755
         },
         {
          "EWS delay diff (as)": 70.7330485871349,
          "KE range (eV)": "13.6",
          "Photon energy fr (eV)": 19.1,
          "Photon energy to (eV)": null,
          "Polar ang (deg)": 67.0360620303063
         },
         {
          "EWS delay diff (as)": 76.1494051541458,
          "KE range (eV)": "13.6",
          "Photon energy fr (eV)": 19.1,
          "Photon energy to (eV)": null,
          "Polar ang (deg)": 67.6090198254371
         },
         {
          "EWS delay diff (as)": 81.4990987978534,
          "KE range (eV)": "13.6",
          "Photon energy fr (eV)": 19.1,
          "Photon energy to (eV)": null,
          "Polar ang (deg)": 68.181977620568
         },
         {
          "EWS delay diff (as)": 86.7576692644603,
          "KE range (eV)": "13.6",
          "Photon energy fr (eV)": 19.1,
          "Photon energy to (eV)": null,
          "Polar ang (deg)": 68.7549354156988
         },
         {
          "EWS delay diff (as)": 91.9024898152108,
          "KE range (eV)": "13.6",
          "Photon energy fr (eV)": 19.1,
          "Photon energy to (eV)": null,
          "Polar ang (deg)": 69.3278932108296
         },
         {
          "EWS delay diff (as)": 96.9130732955907,
          "KE range (eV)": "13.6",
          "Photon energy fr (eV)": 19.1,
          "Photon energy to (eV)": null,
          "Polar ang (deg)": 69.9008510059604
         },
         {
          "EWS delay diff (as)": 101.771304090676,
          "KE range (eV)": "13.6",
          "Photon energy fr (eV)": 19.1,
          "Photon energy to (eV)": null,
          "Polar ang (deg)": 70.4738088010913
         },
         {
          "EWS delay diff (as)": 106.46159324633,
          "KE range (eV)": "13.6",
          "Photon energy fr (eV)": 19.1,
          "Photon energy to (eV)": null,
          "Polar ang (deg)": 71.0467665962221
         },
         {
          "EWS delay diff (as)": 110.970957853796,
          "KE range (eV)": "13.6",
          "Photon energy fr (eV)": 19.1,
          "Photon energy to (eV)": null,
          "Polar ang (deg)": 71.6197243913529
         },
         {
          "EWS delay diff (as)": 115.289029135116,
          "KE range (eV)": "13.6",
          "Photon energy fr (eV)": 19.1,
          "Photon energy to (eV)": null,
          "Polar ang (deg)": 72.1926821864837
         },
         {
          "EWS delay diff (as)": 119.407996348198,
          "KE range (eV)": "13.6",
          "Photon energy fr (eV)": 19.1,
          "Photon energy to (eV)": null,
          "Polar ang (deg)": 72.7656399816146
         },
         {
          "EWS delay diff (as)": 123.322495555769,
          "KE range (eV)": "13.6",
          "Photon energy fr (eV)": 19.1,
          "Photon energy to (eV)": null,
          "Polar ang (deg)": 73.3385977767454
         },
         {
          "EWS delay diff (as)": 127.029453453295,
          "KE range (eV)": "13.6",
          "Photon energy fr (eV)": 19.1,
          "Photon energy to (eV)": null,
          "Polar ang (deg)": 73.9115555718762
         },
         {
          "EWS delay diff (as)": 130.527896875238,
          "KE range (eV)": "13.6",
          "Photon energy fr (eV)": 19.1,
          "Photon energy to (eV)": null,
          "Polar ang (deg)": 74.484513367007
         },
         {
          "EWS delay diff (as)": 133.818738395387,
          "KE range (eV)": "13.6",
          "Photon energy fr (eV)": 19.1,
          "Photon energy to (eV)": null,
          "Polar ang (deg)": 75.0574711621378
         },
         {
          "EWS delay diff (as)": 136.904547732826,
          "KE range (eV)": "13.6",
          "Photon energy fr (eV)": 19.1,
          "Photon energy to (eV)": null,
          "Polar ang (deg)": 75.6304289572687
         },
         {
          "EWS delay diff (as)": 139.789317611285,
          "KE range (eV)": "13.6",
          "Photon energy fr (eV)": 19.1,
          "Photon energy to (eV)": null,
          "Polar ang (deg)": 76.2033867523995
         },
         {
          "EWS delay diff (as)": 142.478231432548,
          "KE range (eV)": "13.6",
          "Photon energy fr (eV)": 19.1,
          "Photon energy to (eV)": null,
          "Polar ang (deg)": 76.7763445475303
         },
         {
          "EWS delay diff (as)": 144.977438737424,
          "KE range (eV)": "13.6",
          "Photon energy fr (eV)": 19.1,
          "Photon energy to (eV)": null,
          "Polar ang (deg)": 77.3493023426612
         },
         {
          "EWS delay diff (as)": 147.293843041538,
          "KE range (eV)": "13.6",
          "Photon energy fr (eV)": 19.1,
          "Photon energy to (eV)": null,
          "Polar ang (deg)": 77.922260137792
         },
         {
          "EWS delay diff (as)": 149.434905325567,
          "KE range (eV)": "13.6",
          "Photon energy fr (eV)": 19.1,
          "Photon energy to (eV)": null,
          "Polar ang (deg)": 78.4952179329228
         },
         {
          "EWS delay diff (as)": 151.408465283192,
          "KE range (eV)": "13.6",
          "Photon energy fr (eV)": 19.1,
          "Photon energy to (eV)": null,
          "Polar ang (deg)": 79.0681757280536
         },
         {
          "EWS delay diff (as)": 153.222581416804,
          "KE range (eV)": "13.6",
          "Photon energy fr (eV)": 19.1,
          "Photon energy to (eV)": null,
          "Polar ang (deg)": 79.6411335231844
         },
         {
          "EWS delay diff (as)": 154.88539023386,
          "KE range (eV)": "13.6",
          "Photon energy fr (eV)": 19.1,
          "Photon energy to (eV)": null,
          "Polar ang (deg)": 80.2140913183153
         },
         {
          "EWS delay diff (as)": 156.404984134653,
          "KE range (eV)": "13.6",
          "Photon energy fr (eV)": 19.1,
          "Photon energy to (eV)": null,
          "Polar ang (deg)": 80.7870491134461
         },
         {
          "EWS delay diff (as)": 157.789307084551,
          "KE range (eV)": "13.6",
          "Photon energy fr (eV)": 19.1,
          "Photon energy to (eV)": null,
          "Polar ang (deg)": 81.3600069085769
         },
         {
          "EWS delay diff (as)": 159.046066812303,
          "KE range (eV)": "13.6",
          "Photon energy fr (eV)": 19.1,
          "Photon energy to (eV)": null,
          "Polar ang (deg)": 81.9329647037077
         },
         {
          "EWS delay diff (as)": 160.182662050978,
          "KE range (eV)": "13.6",
          "Photon energy fr (eV)": 19.1,
          "Photon energy to (eV)": null,
          "Polar ang (deg)": 82.5059224988385
         },
         {
          "EWS delay diff (as)": 161.206123216546,
          "KE range (eV)": "13.6",
          "Photon energy fr (eV)": 19.1,
          "Photon energy to (eV)": null,
          "Polar ang (deg)": 83.0788802939694
         },
         {
          "EWS delay diff (as)": 162.123064880909,
          "KE range (eV)": "13.6",
          "Photon energy fr (eV)": 19.1,
          "Photon energy to (eV)": null,
          "Polar ang (deg)": 83.6518380891002
         },
         {
          "EWS delay diff (as)": 162.939648420934,
          "KE range (eV)": "13.6",
          "Photon energy fr (eV)": 19.1,
          "Photon energy to (eV)": null,
          "Polar ang (deg)": 84.224795884231
         },
         {
          "EWS delay diff (as)": 163.661553296702,
          "KE range (eV)": "13.6",
          "Photon energy fr (eV)": 19.1,
          "Photon energy to (eV)": null,
          "Polar ang (deg)": 84.7977536793618
         },
         {
          "EWS delay diff (as)": 164.293955515452,
          "KE range (eV)": "13.6",
          "Photon energy fr (eV)": 19.1,
          "Photon energy to (eV)": null,
          "Polar ang (deg)": 85.3707114744927
         },
         {
          "EWS delay diff (as)": 164.841511961935,
          "KE range (eV)": "13.6",
          "Photon energy fr (eV)": 19.1,
          "Photon energy to (eV)": null,
          "Polar ang (deg)": 85.9436692696235
         },
         {
          "EWS delay diff (as)": 165.308349411088,
          "KE range (eV)": "13.6",
          "Photon energy fr (eV)": 19.1,
          "Photon energy to (eV)": null,
          "Polar ang (deg)": 86.5166270647543
         },
         {
          "EWS delay diff (as)": 165.698057179155,
          "KE range (eV)": "13.6",
          "Photon energy fr (eV)": 19.1,
          "Photon energy to (eV)": null,
          "Polar ang (deg)": 87.0895848598851
         },
         {
          "EWS delay diff (as)": 166.013682508858,
          "KE range (eV)": "13.6",
          "Photon energy fr (eV)": 19.1,
          "Photon energy to (eV)": null,
          "Polar ang (deg)": 87.6625426550159
         },
         {
          "EWS delay diff (as)": 166.257727920925,
          "KE range (eV)": "13.6",
          "Photon energy fr (eV)": 19.1,
          "Photon energy to (eV)": null,
          "Polar ang (deg)": 88.2355004501468
         },
         {
          "EWS delay diff (as)": 166.432149894982,
          "KE range (eV)": "13.6",
          "Photon energy fr (eV)": 19.1,
          "Photon energy to (eV)": null,
          "Polar ang (deg)": 88.8084582452776
         },
         {
          "EWS delay diff (as)": 166.538358368197,
          "KE range (eV)": "13.6",
          "Photon energy fr (eV)": 19.1,
          "Photon energy to (eV)": null,
          "Polar ang (deg)": 89.3814160404084
         },
         {
          "EWS delay diff (as)": 166.57721665908,
          "KE range (eV)": "13.6",
          "Photon energy fr (eV)": 19.1,
          "Photon energy to (eV)": null,
          "Polar ang (deg)": 89.9543738355393
         },
         {
          "EWS delay diff (as)": 166.54904153776,
          "KE range (eV)": "13.6",
          "Photon energy fr (eV)": 19.1,
          "Photon energy to (eV)": null,
          "Polar ang (deg)": 90.5273316306701
         },
         {
          "EWS delay diff (as)": 166.453603273919,
          "KE range (eV)": "13.6",
          "Photon energy fr (eV)": 19.1,
          "Photon energy to (eV)": null,
          "Polar ang (deg)": 91.1002894258009
         },
         {
          "EWS delay diff (as)": 166.29012560086,
          "KE range (eV)": "13.6",
          "Photon energy fr (eV)": 19.1,
          "Photon energy to (eV)": null,
          "Polar ang (deg)": 91.6732472209317
         },
         {
          "EWS delay diff (as)": 166.057285640257,
          "KE range (eV)": "13.6",
          "Photon energy fr (eV)": 19.1,
          "Photon energy to (eV)": null,
          "Polar ang (deg)": 92.2462050160626
         },
         {
          "EWS delay diff (as)": 165.753213939276,
          "KE range (eV)": "13.6",
          "Photon energy fr (eV)": 19.1,
          "Photon energy to (eV)": null,
          "Polar ang (deg)": 92.8191628111934
         },
         {
          "EWS delay diff (as)": 165.375494880934,
          "KE range (eV)": "13.6",
          "Photon energy fr (eV)": 19.1,
          "Photon energy to (eV)": null,
          "Polar ang (deg)": 93.3921206063242
         },
         {
          "EWS delay diff (as)": 164.921167841843,
          "KE range (eV)": "13.6",
          "Photon energy fr (eV)": 19.1,
          "Photon energy to (eV)": null,
          "Polar ang (deg)": 93.965078401455
         },
         {
          "EWS delay diff (as)": 164.386729589666,
          "KE range (eV)": "13.6",
          "Photon energy fr (eV)": 19.1,
          "Photon energy to (eV)": null,
          "Polar ang (deg)": 94.5380361965858
         },
         {
          "EWS delay diff (as)": 163.768138536792,
          "KE range (eV)": "13.6",
          "Photon energy fr (eV)": 19.1,
          "Photon energy to (eV)": null,
          "Polar ang (deg)": 95.1109939917167
         },
         {
          "EWS delay diff (as)": 163.060821596837,
          "KE range (eV)": "13.6",
          "Photon energy fr (eV)": 19.1,
          "Photon energy to (eV)": null,
          "Polar ang (deg)": 95.6839517868475
         },
         {
          "EWS delay diff (as)": 162.259684526219,
          "KE range (eV)": "13.6",
          "Photon energy fr (eV)": 19.1,
          "Photon energy to (eV)": null,
          "Polar ang (deg)": 96.2569095819783
         },
         {
          "EWS delay diff (as)": 161.359126772425,
          "KE range (eV)": "13.6",
          "Photon energy fr (eV)": 19.1,
          "Photon energy to (eV)": null,
          "Polar ang (deg)": 96.8298673771091
         },
         {
          "EWS delay diff (as)": 160.353061990801,
          "KE range (eV)": "13.6",
          "Photon energy fr (eV)": 19.1,
          "Photon energy to (eV)": null,
          "Polar ang (deg)": 97.40282517224
         },
         {
          "EWS delay diff (as)": 159.234945528262,
          "KE range (eV)": "13.6",
          "Photon energy fr (eV)": 19.1,
          "Photon energy to (eV)": null,
          "Polar ang (deg)": 97.9757829673708
         },
         {
          "EWS delay diff (as)": 157.997810298728,
          "KE range (eV)": "13.6",
          "Photon energy fr (eV)": 19.1,
          "Photon energy to (eV)": null,
          "Polar ang (deg)": 98.5487407625016
         },
         {
          "EWS delay diff (as)": 156.634312582412,
          "KE range (eV)": "13.6",
          "Photon energy fr (eV)": 19.1,
          "Photon energy to (eV)": null,
          "Polar ang (deg)": 99.1216985576324
         },
         {
          "EWS delay diff (as)": 155.136789358792,
          "KE range (eV)": "13.6",
          "Photon energy fr (eV)": 19.1,
          "Photon energy to (eV)": null,
          "Polar ang (deg)": 99.6946563527632
         },
         {
          "EWS delay diff (as)": 153.497328816176,
          "KE range (eV)": "13.6",
          "Photon energy fr (eV)": 19.1,
          "Photon energy to (eV)": null,
          "Polar ang (deg)": 100.267614147894
         },
         {
          "EWS delay diff (as)": 151.707855654031,
          "KE range (eV)": "13.6",
          "Photon energy fr (eV)": 19.1,
          "Photon energy to (eV)": null,
          "Polar ang (deg)": 100.840571943025
         },
         {
          "EWS delay diff (as)": 149.760232687282,
          "KE range (eV)": "13.6",
          "Photon energy fr (eV)": 19.1,
          "Photon energy to (eV)": null,
          "Polar ang (deg)": 101.413529738156
         },
         {
          "EWS delay diff (as)": 147.64638005461,
          "KE range (eV)": "13.6",
          "Photon energy fr (eV)": 19.1,
          "Photon energy to (eV)": null,
          "Polar ang (deg)": 101.986487533287
         },
         {
          "EWS delay diff (as)": 145.358413003073,
          "KE range (eV)": "13.6",
          "Photon energy fr (eV)": 19.1,
          "Photon energy to (eV)": null,
          "Polar ang (deg)": 102.559445328417
         },
         {
          "EWS delay diff (as)": 142.888798748054,
          "KE range (eV)": "13.6",
          "Photon energy fr (eV)": 19.1,
          "Photon energy to (eV)": null,
          "Polar ang (deg)": 103.132403123548
         },
         {
          "EWS delay diff (as)": 140.230532272724,
          "KE range (eV)": "13.6",
          "Photon energy fr (eV)": 19.1,
          "Photon energy to (eV)": null,
          "Polar ang (deg)": 103.705360918679
         },
         {
          "EWS delay diff (as)": 137.377330122199,
          "KE range (eV)": "13.6",
          "Photon energy fr (eV)": 19.1,
          "Photon energy to (eV)": null,
          "Polar ang (deg)": 104.27831871381
         },
         {
          "EWS delay diff (as)": 134.323840261857,
          "KE range (eV)": "13.6",
          "Photon energy fr (eV)": 19.1,
          "Photon energy to (eV)": null,
          "Polar ang (deg)": 104.851276508941
         },
         {
          "EWS delay diff (as)": 131.065864917527,
          "KE range (eV)": "13.6",
          "Photon energy fr (eV)": 19.1,
          "Photon energy to (eV)": null,
          "Polar ang (deg)": 105.424234304071
         },
         {
          "EWS delay diff (as)": 127.600592025374,
          "KE range (eV)": "13.6",
          "Photon energy fr (eV)": 19.1,
          "Photon energy to (eV)": null,
          "Polar ang (deg)": 105.997192099202
         },
         {
          "EWS delay diff (as)": 123.926829541197,
          "KE range (eV)": "13.6",
          "Photon energy fr (eV)": 19.1,
          "Photon energy to (eV)": null,
          "Polar ang (deg)": 106.570149894333
         },
         {
          "EWS delay diff (as)": 120.045235465426,
          "KE range (eV)": "13.6",
          "Photon energy fr (eV)": 19.1,
          "Photon energy to (eV)": null,
          "Polar ang (deg)": 107.143107689464
         },
         {
          "EWS delay diff (as)": 115.958535129753,
          "KE range (eV)": "13.6",
          "Photon energy fr (eV)": 19.1,
          "Photon energy to (eV)": null,
          "Polar ang (deg)": 107.716065484595
         },
         {
          "EWS delay diff (as)": 111.67171618257,
          "KE range (eV)": "13.6",
          "Photon energy fr (eV)": 19.1,
          "Photon energy to (eV)": null,
          "Polar ang (deg)": 108.289023279726
         },
         {
          "EWS delay diff (as)": 107.192190939909,
          "KE range (eV)": "13.6",
          "Photon energy fr (eV)": 19.1,
          "Photon energy to (eV)": null,
          "Polar ang (deg)": 108.861981074856
         },
         {
          "EWS delay diff (as)": 102.529915475792,
          "KE range (eV)": "13.6",
          "Photon energy fr (eV)": 19.1,
          "Photon energy to (eV)": null,
          "Polar ang (deg)": 109.434938869987
         },
         {
          "EWS delay diff (as)": 97.6974551428533,
          "KE range (eV)": "13.6",
          "Photon energy fr (eV)": 19.1,
          "Photon energy to (eV)": null,
          "Polar ang (deg)": 110.007896665118
         },
         {
          "EWS delay diff (as)": 92.70998724433,
          "KE range (eV)": "13.6",
          "Photon energy fr (eV)": 19.1,
          "Photon energy to (eV)": null,
          "Polar ang (deg)": 110.580854460249
         },
         {
          "EWS delay diff (as)": 87.5852333799578,
          "KE range (eV)": "13.6",
          "Photon energy fr (eV)": 19.1,
          "Photon energy to (eV)": null,
          "Polar ang (deg)": 111.15381225538
         },
         {
          "EWS delay diff (as)": 82.3433165536613,
          "KE range (eV)": "13.6",
          "Photon energy fr (eV)": 19.1,
          "Photon energy to (eV)": null,
          "Polar ang (deg)": 111.726770050511
         },
         {
          "EWS delay diff (as)": 77.0065413760435,
          "KE range (eV)": "13.6",
          "Photon energy fr (eV)": 19.1,
          "Photon energy to (eV)": null,
          "Polar ang (deg)": 112.299727845641
         },
         {
          "EWS delay diff (as)": 71.5990994514755,
          "KE range (eV)": "13.6",
          "Photon energy fr (eV)": 19.1,
          "Photon energy to (eV)": null,
          "Polar ang (deg)": 112.872685640772
         },
         {
          "EWS delay diff (as)": 66.1467060641954,
          "KE range (eV)": "13.6",
          "Photon energy fr (eV)": 19.1,
          "Photon energy to (eV)": null,
          "Polar ang (deg)": 113.445643435903
         },
         {
          "EWS delay diff (as)": 60.6761782652931,
          "KE range (eV)": "13.6",
          "Photon energy fr (eV)": 19.1,
          "Photon energy to (eV)": null,
          "Polar ang (deg)": 114.018601231034
         },
         {
          "EWS delay diff (as)": 55.2149680788965,
          "KE range (eV)": "13.6",
          "Photon energy fr (eV)": 19.1,
          "Photon energy to (eV)": null,
          "Polar ang (deg)": 114.591559026165
         },
         {
          "EWS delay diff (as)": 49.7906674638386,
          "KE range (eV)": "13.6",
          "Photon energy fr (eV)": 19.1,
          "Photon energy to (eV)": null,
          "Polar ang (deg)": 115.164516821295
         },
         {
          "EWS delay diff (as)": 44.430503606165,
          "KE range (eV)": "13.6",
          "Photon energy fr (eV)": 19.1,
          "Photon energy to (eV)": null,
          "Polar ang (deg)": 115.737474616426
         },
         {
          "EWS delay diff (as)": 39.1608438830993,
          "KE range (eV)": "13.6",
          "Photon energy fr (eV)": 19.1,
          "Photon energy to (eV)": null,
          "Polar ang (deg)": 116.310432411557
         },
         {
          "EWS delay diff (as)": 34.0067293455526,
          "KE range (eV)": "13.6",
          "Photon energy fr (eV)": 19.1,
          "Photon energy to (eV)": null,
          "Polar ang (deg)": 116.883390206688
         },
         {
          "EWS delay diff (as)": 28.991453854605,
          "KE range (eV)": "13.6",
          "Photon energy fr (eV)": 19.1,
          "Photon energy to (eV)": null,
          "Polar ang (deg)": 117.456348001819
         },
         {
          "EWS delay diff (as)": 24.1362032362176,
          "KE range (eV)": "13.6",
          "Photon energy fr (eV)": 19.1,
          "Photon energy to (eV)": null,
          "Polar ang (deg)": 118.02930579695
         },
         {
          "EWS delay diff (as)": 19.4597652451627,
          "KE range (eV)": "13.6",
          "Photon energy fr (eV)": 19.1,
          "Photon energy to (eV)": null,
          "Polar ang (deg)": 118.60226359208
         },
         {
          "EWS delay diff (as)": 14.9783170759932,
          "KE range (eV)": "13.6",
          "Photon energy fr (eV)": 19.1,
          "Photon energy to (eV)": null,
          "Polar ang (deg)": 119.175221387211
         },
         {
          "EWS delay diff (as)": 10.7052929713731,
          "KE range (eV)": "13.6",
          "Photon energy fr (eV)": 19.1,
          "Photon energy to (eV)": null,
          "Polar ang (deg)": 119.748179182342
         },
         {
          "EWS delay diff (as)": 6.65133048567412,
          "KE range (eV)": "13.6",
          "Photon energy fr (eV)": 19.1,
          "Photon energy to (eV)": null,
          "Polar ang (deg)": 120.321136977473
         },
         {
          "EWS delay diff (as)": 2.82429044335686,
          "KE range (eV)": "13.6",
          "Photon energy fr (eV)": 19.1,
          "Photon energy to (eV)": null,
          "Polar ang (deg)": 120.894094772604
         },
         {
          "EWS delay diff (as)": -0.770657209745451,
          "KE range (eV)": "13.6",
          "Photon energy fr (eV)": 19.1,
          "Photon energy to (eV)": null,
          "Polar ang (deg)": 121.467052567735
         },
         {
          "EWS delay diff (as)": -4.13089151023982,
          "KE range (eV)": "13.6",
          "Photon energy fr (eV)": 19.1,
          "Photon energy to (eV)": null,
          "Polar ang (deg)": 122.040010362865
         },
         {
          "EWS delay diff (as)": -7.25615360416398,
          "KE range (eV)": "13.6",
          "Photon energy fr (eV)": 19.1,
          "Photon energy to (eV)": null,
          "Polar ang (deg)": 122.612968157996
         },
         {
          "EWS delay diff (as)": -10.1483264003583,
          "KE range (eV)": "13.6",
          "Photon energy fr (eV)": 19.1,
          "Photon energy to (eV)": null,
          "Polar ang (deg)": 123.185925953127
         },
         {
          "EWS delay diff (as)": -12.8111920046088,
          "KE range (eV)": "13.6",
          "Photon energy fr (eV)": 19.1,
          "Photon energy to (eV)": null,
          "Polar ang (deg)": 123.758883748258
         },
         {
          "EWS delay diff (as)": -15.250177390989,
          "KE range (eV)": "13.6",
          "Photon energy fr (eV)": 19.1,
          "Photon energy to (eV)": null,
          "Polar ang (deg)": 124.331841543389
         },
         {
          "EWS delay diff (as)": -17.4720975727674,
          "KE range (eV)": "13.6",
          "Photon energy fr (eV)": 19.1,
          "Photon energy to (eV)": null,
          "Polar ang (deg)": 124.904799338519
         },
         {
          "EWS delay diff (as)": -19.4849040954779,
          "KE range (eV)": "13.6",
          "Photon energy fr (eV)": 19.1,
          "Photon energy to (eV)": null,
          "Polar ang (deg)": 125.47775713365
         },
         {
          "EWS delay diff (as)": -21.297445127022,
          "KE range (eV)": "13.6",
          "Photon energy fr (eV)": 19.1,
          "Photon energy to (eV)": null,
          "Polar ang (deg)": 126.050714928781
         },
         {
          "EWS delay diff (as)": -22.9192418766289,
          "KE range (eV)": "13.6",
          "Photon energy fr (eV)": 19.1,
          "Photon energy to (eV)": null,
          "Polar ang (deg)": 126.623672723912
         },
         {
          "EWS delay diff (as)": -24.3602846247235,
          "KE range (eV)": "13.6",
          "Photon energy fr (eV)": 19.1,
          "Photon energy to (eV)": null,
          "Polar ang (deg)": 127.196630519043
         },
         {
          "EWS delay diff (as)": -25.6308503485698,
          "KE range (eV)": "13.6",
          "Photon energy fr (eV)": 19.1,
          "Photon energy to (eV)": null,
          "Polar ang (deg)": 127.769588314174
         },
         {
          "EWS delay diff (as)": -26.741342819296,
          "KE range (eV)": "13.6",
          "Photon energy fr (eV)": 19.1,
          "Photon energy to (eV)": null,
          "Polar ang (deg)": 128.342546109304
         },
         {
          "EWS delay diff (as)": -27.7021551392949,
          "KE range (eV)": "13.6",
          "Photon energy fr (eV)": 19.1,
          "Photon energy to (eV)": null,
          "Polar ang (deg)": 128.915503904435
         },
         {
          "EWS delay diff (as)": -28.5235539825806,
          "KE range (eV)": "13.6",
          "Photon energy fr (eV)": 19.1,
          "Photon energy to (eV)": null,
          "Polar ang (deg)": 129.488461699566
         },
         {
          "EWS delay diff (as)": -29.2155842812676,
          "KE range (eV)": "13.6",
          "Photon energy fr (eV)": 19.1,
          "Photon energy to (eV)": null,
          "Polar ang (deg)": 130.061419494697
         },
         {
          "EWS delay diff (as)": -29.7879927475933,
          "KE range (eV)": "13.6",
          "Photon energy fr (eV)": 19.1,
          "Photon energy to (eV)": null,
          "Polar ang (deg)": 130.634377289828
         },
         {
          "EWS delay diff (as)": -30.2501684084255,
          "KE range (eV)": "13.6",
          "Photon energy fr (eV)": 19.1,
          "Photon energy to (eV)": null,
          "Polar ang (deg)": 131.207335084959
         },
         {
          "EWS delay diff (as)": -30.6110982316667,
          "KE range (eV)": "13.6",
          "Photon energy fr (eV)": 19.1,
          "Photon energy to (eV)": null,
          "Polar ang (deg)": 131.780292880089
         },
         {
          "EWS delay diff (as)": -30.8793359167368,
          "KE range (eV)": "13.6",
          "Photon energy fr (eV)": 19.1,
          "Photon energy to (eV)": null,
          "Polar ang (deg)": 132.35325067522
         },
         {
          "EWS delay diff (as)": -31.0629819814814,
          "KE range (eV)": "13.6",
          "Photon energy fr (eV)": 19.1,
          "Photon energy to (eV)": null,
          "Polar ang (deg)": 132.926208470351
         },
         {
          "EWS delay diff (as)": -31.1696733856479,
          "KE range (eV)": "13.6",
          "Photon energy fr (eV)": 19.1,
          "Photon energy to (eV)": null,
          "Polar ang (deg)": 133.499166265482
         },
         {
          "EWS delay diff (as)": -31.2065810696645,
          "KE range (eV)": "13.6",
          "Photon energy fr (eV)": 19.1,
          "Photon energy to (eV)": null,
          "Polar ang (deg)": 134.072124060613
         },
         {
          "EWS delay diff (as)": -31.1804139437264,
          "KE range (eV)": "13.6",
          "Photon energy fr (eV)": 19.1,
          "Photon energy to (eV)": null,
          "Polar ang (deg)": 134.645081855743
         },
         {
          "EWS delay diff (as)": -31.0974280255714,
          "KE range (eV)": "13.6",
          "Photon energy fr (eV)": 19.1,
          "Photon energy to (eV)": null,
          "Polar ang (deg)": 135.218039650874
         },
         {
          "EWS delay diff (as)": -30.9634395876124,
          "KE range (eV)": "13.6",
          "Photon energy fr (eV)": 19.1,
          "Photon energy to (eV)": null,
          "Polar ang (deg)": 135.790997446005
         },
         {
          "EWS delay diff (as)": -30.7838413305586,
          "KE range (eV)": "13.6",
          "Photon energy fr (eV)": 19.1,
          "Photon energy to (eV)": null,
          "Polar ang (deg)": 136.363955241136
         },
         {
          "EWS delay diff (as)": -30.5636207466016,
          "KE range (eV)": "13.6",
          "Photon energy fr (eV)": 19.1,
          "Photon energy to (eV)": null,
          "Polar ang (deg)": 136.936913036267
         },
         {
          "EWS delay diff (as)": -30.3073799690949,
          "KE range (eV)": "13.6",
          "Photon energy fr (eV)": 19.1,
          "Photon energy to (eV)": null,
          "Polar ang (deg)": 137.509870831398
         },
         {
          "EWS delay diff (as)": -30.0193565259335,
          "KE range (eV)": "13.6",
          "Photon energy fr (eV)": 19.1,
          "Photon energy to (eV)": null,
          "Polar ang (deg)": 138.082828626528
         },
         {
          "EWS delay diff (as)": -29.7034445204432,
          "KE range (eV)": "13.6",
          "Photon energy fr (eV)": 19.1,
          "Photon energy to (eV)": null,
          "Polar ang (deg)": 138.655786421659
         },
         {
          "EWS delay diff (as)": -29.3632158565611,
          "KE range (eV)": "13.6",
          "Photon energy fr (eV)": 19.1,
          "Photon energy to (eV)": null,
          "Polar ang (deg)": 139.22874421679
         },
         {
          "EWS delay diff (as)": -29.0019412054807,
          "KE range (eV)": "13.6",
          "Photon energy fr (eV)": 19.1,
          "Photon energy to (eV)": null,
          "Polar ang (deg)": 139.801702011921
         },
         {
          "EWS delay diff (as)": -28.6226104793368,
          "KE range (eV)": "13.6",
          "Photon energy fr (eV)": 19.1,
          "Photon energy to (eV)": null,
          "Polar ang (deg)": 140.374659807052
         },
         {
          "EWS delay diff (as)": -28.2279526353868,
          "KE range (eV)": "13.6",
          "Photon energy fr (eV)": 19.1,
          "Photon energy to (eV)": null,
          "Polar ang (deg)": 140.947617602183
         },
         {
          "EWS delay diff (as)": -27.8204546823062,
          "KE range (eV)": "13.6",
          "Photon energy fr (eV)": 19.1,
          "Photon energy to (eV)": null,
          "Polar ang (deg)": 141.520575397313
         },
         {
          "EWS delay diff (as)": -27.402379800078,
          "KE range (eV)": "13.6",
          "Photon energy fr (eV)": 19.1,
          "Photon energy to (eV)": null,
          "Polar ang (deg)": 142.093533192444
         },
         {
          "EWS delay diff (as)": -26.9757845174397,
          "KE range (eV)": "13.6",
          "Photon energy fr (eV)": 19.1,
          "Photon energy to (eV)": null,
          "Polar ang (deg)": 142.666490987575
         },
         {
          "EWS delay diff (as)": -26.5425349170378,
          "KE range (eV)": "13.6",
          "Photon energy fr (eV)": 19.1,
          "Photon energy to (eV)": null,
          "Polar ang (deg)": 143.239448782706
         },
         {
          "EWS delay diff (as)": -26.1043218593784,
          "KE range (eV)": "13.6",
          "Photon energy fr (eV)": 19.1,
          "Photon energy to (eV)": null,
          "Polar ang (deg)": 143.812406577837
         },
         {
          "EWS delay diff (as)": -25.6626752328302,
          "KE range (eV)": "13.6",
          "Photon energy fr (eV)": 19.1,
          "Photon energy to (eV)": null,
          "Polar ang (deg)": 144.385364372967
         },
         {
          "EWS delay diff (as)": -25.2189772495761,
          "KE range (eV)": "13.6",
          "Photon energy fr (eV)": 19.1,
          "Photon energy to (eV)": null,
          "Polar ang (deg)": 144.958322168098
         },
         {
          "EWS delay diff (as)": -24.7744748167467,
          "KE range (eV)": "13.6",
          "Photon energy fr (eV)": 19.1,
          "Photon energy to (eV)": null,
          "Polar ang (deg)": 145.531279963229
         },
         {
          "EWS delay diff (as)": -24.3302910187566,
          "KE range (eV)": "13.6",
          "Photon energy fr (eV)": 19.1,
          "Photon energy to (eV)": null,
          "Polar ang (deg)": 146.10423775836
         },
         {
          "EWS delay diff (as)": -23.8874357515506,
          "KE range (eV)": "13.6",
          "Photon energy fr (eV)": 19.1,
          "Photon energy to (eV)": null,
          "Polar ang (deg)": 146.677195553491
         },
         {
          "EWS delay diff (as)": -23.446815552493,
          "KE range (eV)": "13.6",
          "Photon energy fr (eV)": 19.1,
          "Photon energy to (eV)": null,
          "Polar ang (deg)": 147.250153348622
         },
         {
          "EWS delay diff (as)": -23.0092426712076,
          "KE range (eV)": "13.6",
          "Photon energy fr (eV)": 19.1,
          "Photon energy to (eV)": null,
          "Polar ang (deg)": 147.823111143752
         },
         {
          "EWS delay diff (as)": -22.5754434273551,
          "KE range (eV)": "13.6",
          "Photon energy fr (eV)": 19.1,
          "Photon energy to (eV)": null,
          "Polar ang (deg)": 148.396068938883
         },
         {
          "EWS delay diff (as)": -22.1460659009054,
          "KE range (eV)": "13.6",
          "Photon energy fr (eV)": 19.1,
          "Photon energy to (eV)": null,
          "Polar ang (deg)": 148.969026734014
         },
         {
          "EWS delay diff (as)": -21.7216869997845,
          "KE range (eV)": "13.6",
          "Photon energy fr (eV)": 19.1,
          "Photon energy to (eV)": null,
          "Polar ang (deg)": 149.541984529145
         },
         {
          "EWS delay diff (as)": -21.3028189482394,
          "KE range (eV)": "13.6",
          "Photon energy fr (eV)": 19.1,
          "Photon energy to (eV)": null,
          "Polar ang (deg)": 150.114942324276
         },
         {
          "EWS delay diff (as)": -20.8899152377224,
          "KE range (eV)": "13.6",
          "Photon energy fr (eV)": 19.1,
          "Photon energy to (eV)": null,
          "Polar ang (deg)": 150.687900119407
         },
         {
          "EWS delay diff (as)": -20.4833760800458,
          "KE range (eV)": "13.6",
          "Photon energy fr (eV)": 19.1,
          "Photon energy to (eV)": null,
          "Polar ang (deg)": 151.260857914537
         },
         {
          "EWS delay diff (as)": -20.0835534005908,
          "KE range (eV)": "13.6",
          "Photon energy fr (eV)": 19.1,
          "Photon energy to (eV)": null,
          "Polar ang (deg)": 151.833815709668
         },
         {
          "EWS delay diff (as)": -19.690755407181,
          "KE range (eV)": "13.6",
          "Photon energy fr (eV)": 19.1,
          "Photon energy to (eV)": null,
          "Polar ang (deg)": 152.406773504799
         },
         {
          "EWS delay diff (as)": -19.3052507679958,
          "KE range (eV)": "13.6",
          "Photon energy fr (eV)": 19.1,
          "Photon energy to (eV)": null,
          "Polar ang (deg)": 152.97973129993
         },
         {
          "EWS delay diff (as)": -18.9272724298881,
          "KE range (eV)": "13.6",
          "Photon energy fr (eV)": 19.1,
          "Photon energy to (eV)": null,
          "Polar ang (deg)": 153.552689095061
         },
         {
          "EWS delay diff (as)": -18.5570211061563,
          "KE range (eV)": "13.6",
          "Photon energy fr (eV)": 19.1,
          "Photon energy to (eV)": null,
          "Polar ang (deg)": 154.125646890191
         },
         {
          "EWS delay diff (as)": -18.1946684609642,
          "KE range (eV)": "13.6",
          "Photon energy fr (eV)": 19.1,
          "Photon energy to (eV)": null,
          "Polar ang (deg)": 154.698604685322
         },
         {
          "EWS delay diff (as)": -17.8403600154926,
          "KE range (eV)": "13.6",
          "Photon energy fr (eV)": 19.1,
          "Photon energy to (eV)": null,
          "Polar ang (deg)": 155.271562480453
         },
         {
          "EWS delay diff (as)": -17.4942177991237,
          "KE range (eV)": "13.6",
          "Photon energy fr (eV)": 19.1,
          "Photon energy to (eV)": null,
          "Polar ang (deg)": 155.844520275584
         },
         {
          "EWS delay diff (as)": -17.156342767132,
          "KE range (eV)": "13.6",
          "Photon energy fr (eV)": 19.1,
          "Photon energy to (eV)": null,
          "Polar ang (deg)": 156.417478070715
         },
         {
          "EWS delay diff (as)": -16.8268170046453,
          "KE range (eV)": "13.6",
          "Photon energy fr (eV)": 19.1,
          "Photon energy to (eV)": null,
          "Polar ang (deg)": 156.990435865846
         },
         {
          "EWS delay diff (as)": -16.5057057352644,
          "KE range (eV)": "13.6",
          "Photon energy fr (eV)": 19.1,
          "Photon energy to (eV)": null,
          "Polar ang (deg)": 157.563393660976
         },
         {
          "EWS delay diff (as)": -16.1930591509254,
          "KE range (eV)": "13.6",
          "Photon energy fr (eV)": 19.1,
          "Photon energy to (eV)": null,
          "Polar ang (deg)": 158.136351456107
         },
         {
          "EWS delay diff (as)": -15.8889140785892,
          "KE range (eV)": "13.6",
          "Photon energy fr (eV)": 19.1,
          "Photon energy to (eV)": null,
          "Polar ang (deg)": 158.709309251238
         },
         {
          "EWS delay diff (as)": -15.5932954977978,
          "KE range (eV)": "13.6",
          "Photon energy fr (eV)": 19.1,
          "Photon energy to (eV)": null,
          "Polar ang (deg)": 159.282267046369
         },
         {
          "EWS delay diff (as)": -15.3062179220882,
          "KE range (eV)": "13.6",
          "Photon energy fr (eV)": 19.1,
          "Photon energy to (eV)": null,
          "Polar ang (deg)": 159.8552248415
         },
         {
          "EWS delay diff (as)": -15.0276866561754,
          "KE range (eV)": "13.6",
          "Photon energy fr (eV)": 19.1,
          "Photon energy to (eV)": null,
          "Polar ang (deg)": 160.428182636631
         },
         {
          "EWS delay diff (as)": -14.7576989397304,
          "KE range (eV)": "13.6",
          "Photon energy fr (eV)": 19.1,
          "Photon energy to (eV)": null,
          "Polar ang (deg)": 161.001140431761
         },
         {
          "EWS delay diff (as)": -14.4962449877326,
          "KE range (eV)": "13.6",
          "Photon energy fr (eV)": 19.1,
          "Photon energy to (eV)": null,
          "Polar ang (deg)": 161.574098226892
         },
         {
          "EWS delay diff (as)": -14.2433089364946,
          "KE range (eV)": "13.6",
          "Photon energy fr (eV)": 19.1,
          "Photon energy to (eV)": null,
          "Polar ang (deg)": 162.147056022023
         },
         {
          "EWS delay diff (as)": -13.9988697036593,
          "KE range (eV)": "13.6",
          "Photon energy fr (eV)": 19.1,
          "Photon energy to (eV)": null,
          "Polar ang (deg)": 162.720013817154
         },
         {
          "EWS delay diff (as)": -13.7629017697698,
          "KE range (eV)": "13.6",
          "Photon energy fr (eV)": 19.1,
          "Photon energy to (eV)": null,
          "Polar ang (deg)": 163.292971612285
         },
         {
          "EWS delay diff (as)": -13.535375888388,
          "KE range (eV)": "13.6",
          "Photon energy fr (eV)": 19.1,
          "Photon energy to (eV)": null,
          "Polar ang (deg)": 163.865929407415
         },
         {
          "EWS delay diff (as)": -13.3162597309955,
          "KE range (eV)": "13.6",
          "Photon energy fr (eV)": 19.1,
          "Photon energy to (eV)": null,
          "Polar ang (deg)": 164.438887202546
         },
         {
          "EWS delay diff (as)": -13.1055184725764,
          "KE range (eV)": "13.6",
          "Photon energy fr (eV)": 19.1,
          "Photon energy to (eV)": null,
          "Polar ang (deg)": 165.011844997677
         },
         {
          "EWS delay diff (as)": -12.9031153230841,
          "KE range (eV)": "13.6",
          "Photon energy fr (eV)": 19.1,
          "Photon energy to (eV)": null,
          "Polar ang (deg)": 165.584802792808
         },
         {
          "EWS delay diff (as)": -12.7090120095783,
          "KE range (eV)": "13.6",
          "Photon energy fr (eV)": 19.1,
          "Photon energy to (eV)": null,
          "Polar ang (deg)": 166.157760587939
         },
         {
          "EWS delay diff (as)": -12.5231692134911,
          "KE range (eV)": "13.6",
          "Photon energy fr (eV)": 19.1,
          "Photon energy to (eV)": null,
          "Polar ang (deg)": 166.73071838307
         },
         {
          "EWS delay diff (as)": -12.3455469669302,
          "KE range (eV)": "13.6",
          "Photon energy fr (eV)": 19.1,
          "Photon energy to (eV)": null,
          "Polar ang (deg)": 167.3036761782
         },
         {
          "EWS delay diff (as)": -12.1761050117293,
          "KE range (eV)": "13.6",
          "Photon energy fr (eV)": 19.1,
          "Photon energy to (eV)": null,
          "Polar ang (deg)": 167.876633973331
         },
         {
          "EWS delay diff (as)": -12.0148031244547,
          "KE range (eV)": "13.6",
          "Photon energy fr (eV)": 19.1,
          "Photon energy to (eV)": null,
          "Polar ang (deg)": 168.449591768462
         },
         {
          "EWS delay diff (as)": -11.8616014105744,
          "KE range (eV)": "13.6",
          "Photon energy fr (eV)": 19.1,
          "Photon energy to (eV)": null,
          "Polar ang (deg)": 169.022549563593
         },
         {
          "EWS delay diff (as)": -11.7164605702396,
          "KE range (eV)": "13.6",
          "Photon energy fr (eV)": 19.1,
          "Photon energy to (eV)": null,
          "Polar ang (deg)": 169.595507358724
         },
         {
          "EWS delay diff (as)": -11.5793421384822,
          "KE range (eV)": "13.6",
          "Photon energy fr (eV)": 19.1,
          "Photon energy to (eV)": null,
          "Polar ang (deg)": 170.168465153855
         },
         {
          "EWS delay diff (as)": -11.4502087018362,
          "KE range (eV)": "13.6",
          "Photon energy fr (eV)": 19.1,
          "Photon energy to (eV)": null,
          "Polar ang (deg)": 170.741422948985
         },
         {
          "EWS delay diff (as)": -11.3290240935875,
          "KE range (eV)": "13.6",
          "Photon energy fr (eV)": 19.1,
          "Photon energy to (eV)": null,
          "Polar ang (deg)": 171.314380744116
         },
         {
          "EWS delay diff (as)": -11.2157535694664,
          "KE range (eV)": "13.6",
          "Photon energy fr (eV)": 19.1,
          "Photon energy to (eV)": null,
          "Polar ang (deg)": 171.887338539247
         },
         {
          "EWS delay diff (as)": -11.1103639654306,
          "KE range (eV)": "13.6",
          "Photon energy fr (eV)": 19.1,
          "Photon energy to (eV)": null,
          "Polar ang (deg)": 172.460296334378
         },
         {
          "EWS delay diff (as)": -11.0128238391116,
          "KE range (eV)": "13.6",
          "Photon energy fr (eV)": 19.1,
          "Photon energy to (eV)": null,
          "Polar ang (deg)": 173.033254129509
         },
         {
          "EWS delay diff (as)": -10.9231035962694,
          "KE range (eV)": "13.6",
          "Photon energy fr (eV)": 19.1,
          "Photon energy to (eV)": null,
          "Polar ang (deg)": 173.606211924639
         },
         {
          "EWS delay diff (as)": -10.8411756034918,
          "KE range (eV)": "13.6",
          "Photon energy fr (eV)": 19.1,
          "Photon energy to (eV)": null,
          "Polar ang (deg)": 174.17916971977
         },
         {
          "EWS delay diff (as)": -10.7670142882164,
          "KE range (eV)": "13.6",
          "Photon energy fr (eV)": 19.1,
          "Photon energy to (eV)": null,
          "Polar ang (deg)": 174.752127514901
         },
         {
          "EWS delay diff (as)": -10.7005962271209,
          "KE range (eV)": "13.6",
          "Photon energy fr (eV)": 19.1,
          "Photon energy to (eV)": null,
          "Polar ang (deg)": 175.325085310032
         },
         {
          "EWS delay diff (as)": -10.6419002236926,
          "KE range (eV)": "13.6",
          "Photon energy fr (eV)": 19.1,
          "Photon energy to (eV)": null,
          "Polar ang (deg)": 175.898043105163
         },
         {
          "EWS delay diff (as)": -10.5909073757751,
          "KE range (eV)": "13.6",
          "Photon energy fr (eV)": 19.1,
          "Photon energy to (eV)": null,
          "Polar ang (deg)": 176.471000900294
         },
         {
          "EWS delay diff (as)": -10.5476011337835,
          "KE range (eV)": "13.6",
          "Photon energy fr (eV)": 19.1,
          "Photon energy to (eV)": null,
          "Polar ang (deg)": 177.043958695424
         },
         {
          "EWS delay diff (as)": -10.5119673501228,
          "KE range (eV)": "13.6",
          "Photon energy fr (eV)": 19.1,
          "Photon energy to (eV)": null,
          "Polar ang (deg)": 177.616916490555
         },
         {
          "EWS delay diff (as)": -10.4839943203849,
          "KE range (eV)": "13.6",
          "Photon energy fr (eV)": 19.1,
          "Photon energy to (eV)": null,
          "Polar ang (deg)": 178.189874285686
         },
         {
          "EWS delay diff (as)": -10.4636728166554,
          "KE range (eV)": "13.6",
          "Photon energy fr (eV)": 19.1,
          "Photon energy to (eV)": null,
          "Polar ang (deg)": 178.762832080817
         },
         {
          "EWS delay diff (as)": -10.4509961133061,
          "KE range (eV)": "13.6",
          "Photon energy fr (eV)": 19.1,
          "Photon energy to (eV)": null,
          "Polar ang (deg)": 179.335789875948
         },
         {
          "EWS delay diff (as)": -10.4459600055833,
          "KE range (eV)": "13.6",
          "Photon energy fr (eV)": 19.1,
          "Photon energy to (eV)": null,
          "Polar ang (deg)": 179.908747671079
         }
        ],
        "data-d8b0bc93e284e8c68f6d99eb40c1209e": [
         {
          "EWS delay diff (as)": 7.55880145103925,
          "EWS delay diff err (as)": 27.092306089801,
          "EWS delay diff fr (as)": -19.533504638761748,
          "EWS delay diff to (as)": 34.65110754084025,
          "KE range (eV)": "04.0–07.2",
          "Photon energy fr (eV)": 14.3,
          "Photon energy to (eV)": 15.9,
          "Polar ang (deg)": 2.5,
          "Polar ang fr (deg)": 0,
          "Polar ang to (deg)": 5
         },
         {
          "EWS delay diff (as)": 21.9179164595267,
          "EWS delay diff err (as)": 21.2662216083442,
          "EWS delay diff fr (as)": 0.6516948511825014,
          "EWS delay diff to (as)": 43.184138067870904,
          "KE range (eV)": "04.0–07.2",
          "Photon energy fr (eV)": 14.3,
          "Photon energy to (eV)": 15.9,
          "Polar ang (deg)": 7.5,
          "Polar ang fr (deg)": 5,
          "Polar ang to (deg)": 10
         },
         {
          "EWS delay diff (as)": -4.64439299429189,
          "EWS delay diff err (as)": 19.656976194104,
          "EWS delay diff fr (as)": -24.30136918839589,
          "EWS delay diff to (as)": 15.012583199812111,
          "KE range (eV)": "04.0–07.2",
          "Photon energy fr (eV)": 14.3,
          "Photon energy to (eV)": 15.9,
          "Polar ang (deg)": 12.5,
          "Polar ang fr (deg)": 10,
          "Polar ang to (deg)": 15
         },
         {
          "EWS delay diff (as)": 13.2305800801503,
          "EWS delay diff err (as)": 20.1406530082311,
          "EWS delay diff fr (as)": -6.910072928080801,
          "EWS delay diff to (as)": 33.3712330883814,
          "KE range (eV)": "04.0–07.2",
          "Photon energy fr (eV)": 14.3,
          "Photon energy to (eV)": 15.9,
          "Polar ang (deg)": 17.5,
          "Polar ang fr (deg)": 15,
          "Polar ang to (deg)": 20
         },
         {
          "EWS delay diff (as)": -16.0386083406341,
          "EWS delay diff err (as)": 25.0708514713252,
          "EWS delay diff fr (as)": -41.1094598119593,
          "EWS delay diff to (as)": 9.0322431306911,
          "KE range (eV)": "04.0–07.2",
          "Photon energy fr (eV)": 14.3,
          "Photon energy to (eV)": 15.9,
          "Polar ang (deg)": 22.5,
          "Polar ang fr (deg)": 20,
          "Polar ang to (deg)": 25
         },
         {
          "EWS delay diff (as)": -46.4486816447526,
          "EWS delay diff err (as)": 25.9890725409066,
          "EWS delay diff fr (as)": -72.4377541856592,
          "EWS delay diff to (as)": -20.459609103845995,
          "KE range (eV)": "04.0–07.2",
          "Photon energy fr (eV)": 14.3,
          "Photon energy to (eV)": 15.9,
          "Polar ang (deg)": 27.5,
          "Polar ang fr (deg)": 25,
          "Polar ang to (deg)": 30
         },
         {
          "EWS delay diff (as)": -26.8464360092415,
          "EWS delay diff err (as)": 28.103194288138,
          "EWS delay diff fr (as)": -54.9496302973795,
          "EWS delay diff to (as)": 1.2567582788964984,
          "KE range (eV)": "04.0–07.2",
          "Photon energy fr (eV)": 14.3,
          "Photon energy to (eV)": 15.9,
          "Polar ang (deg)": 32.5,
          "Polar ang fr (deg)": 30,
          "Polar ang to (deg)": 35
         },
         {
          "EWS delay diff (as)": -47.4220802325965,
          "EWS delay diff err (as)": 28.981886009674,
          "EWS delay diff fr (as)": -76.4039662422705,
          "EWS delay diff to (as)": -18.4401942229225,
          "KE range (eV)": "04.0–07.2",
          "Photon energy fr (eV)": 14.3,
          "Photon energy to (eV)": 15.9,
          "Polar ang (deg)": 37.5,
          "Polar ang fr (deg)": 35,
          "Polar ang to (deg)": 40
         },
         {
          "EWS delay diff (as)": -14.7782932327033,
          "EWS delay diff err (as)": 35.446705187341,
          "EWS delay diff fr (as)": -50.2249984200443,
          "EWS delay diff to (as)": 20.668411954637705,
          "KE range (eV)": "04.0–07.2",
          "Photon energy fr (eV)": 14.3,
          "Photon energy to (eV)": 15.9,
          "Polar ang (deg)": 42.5,
          "Polar ang fr (deg)": 40,
          "Polar ang to (deg)": 45
         },
         {
          "EWS delay diff (as)": 8.57783027244598,
          "EWS delay diff err (as)": 41.1442012355898,
          "EWS delay diff fr (as)": -32.56637096314382,
          "EWS delay diff to (as)": 49.722031508035776,
          "KE range (eV)": "04.0–07.2",
          "Photon energy fr (eV)": 14.3,
          "Photon energy to (eV)": 15.9,
          "Polar ang (deg)": 47.5,
          "Polar ang fr (deg)": 45,
          "Polar ang to (deg)": 50
         },
         {
          "EWS delay diff (as)": 87.6921756765582,
          "EWS delay diff err (as)": 42.0644137686386,
          "EWS delay diff fr (as)": 45.62776190791959,
          "EWS delay diff to (as)": 129.7565894451968,
          "KE range (eV)": "04.0–07.2",
          "Photon energy fr (eV)": 14.3,
          "Photon energy to (eV)": 15.9,
          "Polar ang (deg)": 52.5,
          "Polar ang fr (deg)": 50,
          "Polar ang to (deg)": 55
         },
         {
          "EWS delay diff (as)": 148.601355935534,
          "EWS delay diff err (as)": 53.220218799238,
          "EWS delay diff fr (as)": 95.381137136296,
          "EWS delay diff to (as)": 201.821574734772,
          "KE range (eV)": "04.0–07.2",
          "Photon energy fr (eV)": 14.3,
          "Photon energy to (eV)": 15.9,
          "Polar ang (deg)": 57.5,
          "Polar ang fr (deg)": 55,
          "Polar ang to (deg)": 60
         },
         {
          "EWS delay diff (as)": 156.731112971093,
          "EWS delay diff err (as)": 37.5754926969003,
          "EWS delay diff fr (as)": 119.15562027419271,
          "EWS delay diff to (as)": 194.30660566799332,
          "KE range (eV)": "04.0–07.2",
          "Photon energy fr (eV)": 14.3,
          "Photon energy to (eV)": 15.9,
          "Polar ang (deg)": 62.5,
          "Polar ang fr (deg)": 60,
          "Polar ang to (deg)": 65
         },
         {
          "EWS delay diff (as)": 202.835617552951,
          "EWS delay diff err (as)": 45.7140141674859,
          "EWS delay diff fr (as)": 157.1216033854651,
          "EWS delay diff to (as)": 248.54963172043688,
          "KE range (eV)": "04.0–07.2",
          "Photon energy fr (eV)": 14.3,
          "Photon energy to (eV)": 15.9,
          "Polar ang (deg)": 67.5,
          "Polar ang fr (deg)": 65,
          "Polar ang to (deg)": 70
         },
         {
          "EWS delay diff (as)": 201.942603537794,
          "EWS delay diff err (as)": 52.9923400774187,
          "EWS delay diff fr (as)": 148.9502634603753,
          "EWS delay diff to (as)": 254.93494361521272,
          "KE range (eV)": "04.0–07.2",
          "Photon energy fr (eV)": 14.3,
          "Photon energy to (eV)": 15.9,
          "Polar ang (deg)": 72.5,
          "Polar ang fr (deg)": 70,
          "Polar ang to (deg)": 75
         },
         {
          "EWS delay diff (as)": 228.359633504914,
          "EWS delay diff err (as)": 64.9223447782625,
          "EWS delay diff fr (as)": 163.4372887266515,
          "EWS delay diff to (as)": 293.2819782831765,
          "KE range (eV)": "04.0–07.2",
          "Photon energy fr (eV)": 14.3,
          "Photon energy to (eV)": 15.9,
          "Polar ang (deg)": 77.5,
          "Polar ang fr (deg)": 75,
          "Polar ang to (deg)": 80
         },
         {
          "EWS delay diff (as)": 227.262912038755,
          "EWS delay diff err (as)": 134.740094505891,
          "EWS delay diff fr (as)": 92.522817532864,
          "EWS delay diff to (as)": 362.003006544646,
          "KE range (eV)": "04.0–07.2",
          "Photon energy fr (eV)": 14.3,
          "Photon energy to (eV)": 15.9,
          "Polar ang (deg)": 82.5,
          "Polar ang fr (deg)": 80,
          "Polar ang to (deg)": 85
         },
         {
          "EWS delay diff (as)": 238.236584112929,
          "EWS delay diff err (as)": 275.409368943996,
          "EWS delay diff fr (as)": -37.17278483106702,
          "EWS delay diff to (as)": 513.645953056925,
          "KE range (eV)": "04.0–07.2",
          "Photon energy fr (eV)": 14.3,
          "Photon energy to (eV)": 15.9,
          "Polar ang (deg)": 87.5,
          "Polar ang fr (deg)": 85,
          "Polar ang to (deg)": 90
         },
         {
          "EWS delay diff (as)": 238.236641427647,
          "EWS delay diff err (as)": 275.409344276933,
          "EWS delay diff fr (as)": -37.172702849286,
          "EWS delay diff to (as)": 513.64598570458,
          "KE range (eV)": "04.0–07.2",
          "Photon energy fr (eV)": 14.3,
          "Photon energy to (eV)": 15.9,
          "Polar ang (deg)": 92.5,
          "Polar ang fr (deg)": 90,
          "Polar ang to (deg)": 95
         },
         {
          "EWS delay diff (as)": 227.262895797791,
          "EWS delay diff err (as)": 134.740091945187,
          "EWS delay diff fr (as)": 92.522803852604,
          "EWS delay diff to (as)": 362.002987742978,
          "KE range (eV)": "04.0–07.2",
          "Photon energy fr (eV)": 14.3,
          "Photon energy to (eV)": 15.9,
          "Polar ang (deg)": 97.5,
          "Polar ang fr (deg)": 95,
          "Polar ang to (deg)": 100
         },
         {
          "EWS delay diff (as)": 228.359635130551,
          "EWS delay diff err (as)": 64.9223456350661,
          "EWS delay diff fr (as)": 163.4372894954849,
          "EWS delay diff to (as)": 293.2819807656171,
          "KE range (eV)": "04.0–07.2",
          "Photon energy fr (eV)": 14.3,
          "Photon energy to (eV)": 15.9,
          "Polar ang (deg)": 102.5,
          "Polar ang fr (deg)": 100,
          "Polar ang to (deg)": 105
         },
         {
          "EWS delay diff (as)": 187.759662440438,
          "EWS delay diff err (as)": 58.3570766521536,
          "EWS delay diff fr (as)": 129.4025857882844,
          "EWS delay diff to (as)": 246.11673909259162,
          "KE range (eV)": "04.0–07.2",
          "Photon energy fr (eV)": 14.3,
          "Photon energy to (eV)": 15.9,
          "Polar ang (deg)": 107.5,
          "Polar ang fr (deg)": 105,
          "Polar ang to (deg)": 110
         },
         {
          "EWS delay diff (as)": 202.835617876171,
          "EWS delay diff err (as)": 45.7140133881497,
          "EWS delay diff fr (as)": 157.1216044880213,
          "EWS delay diff to (as)": 248.5496312643207,
          "KE range (eV)": "04.0–07.2",
          "Photon energy fr (eV)": 14.3,
          "Photon energy to (eV)": 15.9,
          "Polar ang (deg)": 112.5,
          "Polar ang fr (deg)": 110,
          "Polar ang to (deg)": 115
         },
         {
          "EWS delay diff (as)": 156.731113860821,
          "EWS delay diff err (as)": 37.575492896829,
          "EWS delay diff fr (as)": 119.15562096399202,
          "EWS delay diff to (as)": 194.30660675765,
          "KE range (eV)": "04.0–07.2",
          "Photon energy fr (eV)": 14.3,
          "Photon energy to (eV)": 15.9,
          "Polar ang (deg)": 117.5,
          "Polar ang fr (deg)": 115,
          "Polar ang to (deg)": 120
         },
         {
          "EWS delay diff (as)": 148.601361818425,
          "EWS delay diff err (as)": 53.220217558038,
          "EWS delay diff fr (as)": 95.381144260387,
          "EWS delay diff to (as)": 201.821579376463,
          "KE range (eV)": "04.0–07.2",
          "Photon energy fr (eV)": 14.3,
          "Photon energy to (eV)": 15.9,
          "Polar ang (deg)": 122.5,
          "Polar ang fr (deg)": 120,
          "Polar ang to (deg)": 125
         },
         {
          "EWS delay diff (as)": 87.6921755178039,
          "EWS delay diff err (as)": 42.0644135981069,
          "EWS delay diff fr (as)": 45.627761919697,
          "EWS delay diff to (as)": 129.7565891159108,
          "KE range (eV)": "04.0–07.2",
          "Photon energy fr (eV)": 14.3,
          "Photon energy to (eV)": 15.9,
          "Polar ang (deg)": 127.5,
          "Polar ang fr (deg)": 125,
          "Polar ang to (deg)": 130
         },
         {
          "EWS delay diff (as)": 8.57783276884521,
          "EWS delay diff err (as)": 41.1442011705192,
          "EWS delay diff fr (as)": -32.56636840167399,
          "EWS delay diff to (as)": 49.722033939364415,
          "KE range (eV)": "04.0–07.2",
          "Photon energy fr (eV)": 14.3,
          "Photon energy to (eV)": 15.9,
          "Polar ang (deg)": 132.5,
          "Polar ang fr (deg)": 130,
          "Polar ang to (deg)": 135
         },
         {
          "EWS delay diff (as)": -14.778293162138,
          "EWS delay diff err (as)": 35.4467051876995,
          "EWS delay diff fr (as)": -50.2249983498375,
          "EWS delay diff to (as)": 20.6684120255615,
          "KE range (eV)": "04.0–07.2",
          "Photon energy fr (eV)": 14.3,
          "Photon energy to (eV)": 15.9,
          "Polar ang (deg)": 137.5,
          "Polar ang fr (deg)": 135,
          "Polar ang to (deg)": 140
         },
         {
          "EWS delay diff (as)": -47.422080732729,
          "EWS delay diff err (as)": 28.9818861666376,
          "EWS delay diff fr (as)": -76.4039668993666,
          "EWS delay diff to (as)": -18.4401945660914,
          "KE range (eV)": "04.0–07.2",
          "Photon energy fr (eV)": 14.3,
          "Photon energy to (eV)": 15.9,
          "Polar ang (deg)": 142.5,
          "Polar ang fr (deg)": 140,
          "Polar ang to (deg)": 145
         },
         {
          "EWS delay diff (as)": -26.8464367979766,
          "EWS delay diff err (as)": 28.1031942519228,
          "EWS delay diff fr (as)": -54.9496310498994,
          "EWS delay diff to (as)": 1.2567574539462,
          "KE range (eV)": "04.0–07.2",
          "Photon energy fr (eV)": 14.3,
          "Photon energy to (eV)": 15.9,
          "Polar ang (deg)": 147.5,
          "Polar ang fr (deg)": 145,
          "Polar ang to (deg)": 150
         },
         {
          "EWS delay diff (as)": -46.4486824558314,
          "EWS delay diff err (as)": 25.9890724043667,
          "EWS delay diff fr (as)": -72.4377548601981,
          "EWS delay diff to (as)": -20.459610051464704,
          "KE range (eV)": "04.0–07.2",
          "Photon energy fr (eV)": 14.3,
          "Photon energy to (eV)": 15.9,
          "Polar ang (deg)": 152.5,
          "Polar ang fr (deg)": 150,
          "Polar ang to (deg)": 155
         },
         {
          "EWS delay diff (as)": -16.0386090152756,
          "EWS delay diff err (as)": 25.0708515428285,
          "EWS delay diff fr (as)": -41.109460558104104,
          "EWS delay diff to (as)": 9.0322425275529,
          "KE range (eV)": "04.0–07.2",
          "Photon energy fr (eV)": 14.3,
          "Photon energy to (eV)": 15.9,
          "Polar ang (deg)": 157.5,
          "Polar ang fr (deg)": 155,
          "Polar ang to (deg)": 160
         },
         {
          "EWS delay diff (as)": 13.2305804073432,
          "EWS delay diff err (as)": 20.1406529932466,
          "EWS delay diff fr (as)": -6.9100725859034,
          "EWS delay diff to (as)": 33.3712334005898,
          "KE range (eV)": "04.0–07.2",
          "Photon energy fr (eV)": 14.3,
          "Photon energy to (eV)": 15.9,
          "Polar ang (deg)": 162.5,
          "Polar ang fr (deg)": 160,
          "Polar ang to (deg)": 165
         },
         {
          "EWS delay diff (as)": -4.64439352593619,
          "EWS delay diff err (as)": 19.6569761819577,
          "EWS delay diff fr (as)": -24.30136970789389,
          "EWS delay diff to (as)": 15.01258265602151,
          "KE range (eV)": "04.0–07.2",
          "Photon energy fr (eV)": 14.3,
          "Photon energy to (eV)": 15.9,
          "Polar ang (deg)": 167.5,
          "Polar ang fr (deg)": 165,
          "Polar ang to (deg)": 170
         },
         {
          "EWS delay diff (as)": 21.9179164004239,
          "EWS delay diff err (as)": 21.2662217610885,
          "EWS delay diff fr (as)": 0.6516946393353997,
          "EWS delay diff to (as)": 43.184138161512394,
          "KE range (eV)": "04.0–07.2",
          "Photon energy fr (eV)": 14.3,
          "Photon energy to (eV)": 15.9,
          "Polar ang (deg)": 172.5,
          "Polar ang fr (deg)": 170,
          "Polar ang to (deg)": 175
         },
         {
          "EWS delay diff (as)": 7.55880154134318,
          "EWS delay diff err (as)": 27.092306237696,
          "EWS delay diff fr (as)": -19.53350469635282,
          "EWS delay diff to (as)": 34.65110777903918,
          "KE range (eV)": "04.0–07.2",
          "Photon energy fr (eV)": 14.3,
          "Photon energy to (eV)": 15.9,
          "Polar ang (deg)": 177.5,
          "Polar ang fr (deg)": 175,
          "Polar ang to (deg)": 180
         }
        ]
       },
       "layer": [
        {
         "data": {
          "name": "data-d8b0bc93e284e8c68f6d99eb40c1209e"
         },
         "encoding": {
          "color": {
           "field": "KE range (eV)",
           "type": "nominal"
          },
          "x": {
           "field": "Polar ang (deg)",
           "type": "quantitative"
          },
          "y": {
           "axis": {
            "title": "EWS delay diff (as)"
           },
           "field": "EWS delay diff (as)",
           "type": "quantitative"
          },
          "y2": {
           "field": "EWS delay diff to (as)",
           "type": "quantitative"
          }
         },
         "mark": {
          "opacity": 0.2,
          "type": "area"
         },
         "selection": {
          "selector007": {
           "bind": "scales",
           "encodings": [
            "y"
           ],
           "mark": {
            "fill": "#333",
            "fillOpacity": 0.125,
            "stroke": "white"
           },
           "on": "[mousedown, window:mouseup] > window:mousemove!",
           "resolve": "global",
           "translate": "[mousedown, window:mouseup] > window:mousemove!",
           "type": "interval",
           "zoom": "wheel!"
          }
         }
        },
        {
         "data": {
          "name": "data-d8b0bc93e284e8c68f6d99eb40c1209e"
         },
         "encoding": {
          "color": {
           "field": "KE range (eV)",
           "type": "nominal"
          },
          "x": {
           "field": "Polar ang (deg)",
           "type": "quantitative"
          },
          "y": {
           "field": "EWS delay diff (as)",
           "type": "quantitative"
          }
         },
         "mark": "point"
        },
        {
         "data": {
          "name": "data-0b0ab6f84c8011583ef66b5a3da041a6"
         },
         "encoding": {
          "color": {
           "field": "KE range (eV)",
           "type": "nominal"
          },
          "x": {
           "field": "Polar ang (deg)",
           "type": "quantitative"
          },
          "y": {
           "field": "EWS delay diff (as)",
           "type": "quantitative"
          }
         },
         "mark": "line"
        },
        {
         "data": {
          "name": "data-4dc41d2be287f231dfb051e6b86bca0a"
         },
         "encoding": {
          "color": {
           "field": "KE range (eV)",
           "type": "nominal"
          },
          "x": {
           "field": "Polar ang (deg)",
           "type": "quantitative"
          },
          "y": {
           "field": "EWS delay diff (as)",
           "type": "quantitative"
          }
         },
         "mark": {
          "strokeDash": [
           8,
           4
          ],
          "type": "line"
         }
        }
       ]
      },
      "image/png": "[encoded data removed]",
      "text/plain": [
       "<VegaLite 2 object>\n",
       "\n",
       "If you see this message, it means the renderer has not been properly enabled\n",
       "for the frontend that you are using. For more information, see\n",
       "https://altair-viz.github.io/user_guide/troubleshooting.html\n"
      ]
     },
     "execution_count": 8,
     "metadata": {},
     "output_type": "execute_result"
    }
   ],
   "source": [
    "data = pd.read_excel(\"Data/Ne EWS delay diffs.xlsx\", sheet_name=None)\n",
    "\n",
    "base = alt.Chart(data[\"Measured\"])\n",
    "(\n",
    "    base.mark_area(opacity=0.2).encode(\n",
    "        x=\"Polar ang (deg)\",\n",
    "        y=alt.Y(\"EWS delay diff (as)\", axis=alt.Axis(title=\"EWS delay diff (as)\")),\n",
    "        y2=\"EWS delay diff to (as)\",\n",
    "        color=\"KE range (eV)\",\n",
    "    )\n",
    "    + base.mark_point().encode(\n",
    "        x=\"Polar ang (deg)\",\n",
    "        y=\"EWS delay diff (as)\",\n",
    "        color=\"KE range (eV)\",\n",
    "    )\n",
    "    + alt.Chart(data[\"TDCASSCF\"]).mark_line().encode(\n",
    "        x=\"Polar ang (deg)\",\n",
    "        y=\"EWS delay diff (as)\",\n",
    "        color=\"KE range (eV)\",\n",
    "    )\n",
    "    + alt.Chart(data[\"Perturb\"]).mark_line(strokeDash=[8, 4]).encode(\n",
    "        x=\"Polar ang (deg)\",\n",
    "        y=\"EWS delay diff (as)\",\n",
    "        color=\"KE range (eV)\",\n",
    "    )\n",
    ").interactive(bind_x=False)"
   ]
  }
 ],
 "metadata": {
  "kernelspec": {
   "display_name": "Python 3",
   "language": "python",
   "name": "python3"
  },
  "language_info": {
   "codemirror_mode": {
    "name": "ipython",
    "version": 3
   },
   "file_extension": ".py",
   "mimetype": "text/x-python",
   "name": "python",
   "nbconvert_exporter": "python",
   "pygments_lexer": "ipython3",
   "version": "3.6.5"
  }
 },
 "nbformat": 4,
 "nbformat_minor": 2
}
