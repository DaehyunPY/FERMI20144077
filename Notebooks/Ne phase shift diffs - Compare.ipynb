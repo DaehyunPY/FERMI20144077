{
 "cells": [
  {
   "cell_type": "code",
   "execution_count": 2,
   "metadata": {},
   "outputs": [],
   "source": [
    "import numpy as np\n",
    "import pandas as pd\n",
    "import altair as alt"
   ]
  },
  {
   "cell_type": "code",
   "execution_count": 25,
   "metadata": {},
   "outputs": [
    {
     "data": {
      "application/vnd.vegalite.v2+json": {
       "$schema": "https://vega.github.io/schema/vega-lite/v2.6.0.json",
       "config": {
        "view": {
         "height": 300,
         "width": 400
        }
       },
       "datasets": {
        "data-41874f8dacb77ce8a6c31a1e11d3671e": [
         {
          "Dataset / KE (eV)": "good1 / 7.2",
          "Phase shift diff (deg)": 61.7002859563193,
          "Phase shift diff (rad)": 1.07687313935979,
          "Photoelectron KE (eV)": 7.212611200000001,
          "Photon energy (eV)": 15.9,
          "Polar ang (deg)": 0,
          "Polar ang (rad)": 0,
          "Target dataset": "good1"
         },
         {
          "Dataset / KE (eV)": "good1 / 7.2",
          "Phase shift diff (deg)": 61.70690242629641,
          "Phase shift diff (rad)": 1.07698861854575,
          "Photoelectron KE (eV)": 7.212611200000001,
          "Photon energy (eV)": 15.9,
          "Polar ang (deg)": 1,
          "Polar ang (rad)": 0.017453292519943295,
          "Target dataset": "good1"
         },
         {
          "Dataset / KE (eV)": "good1 / 7.2",
          "Phase shift diff (deg)": 61.726781803684005,
          "Phase shift diff (rad)": 1.07733557913441,
          "Photoelectron KE (eV)": 7.212611200000001,
          "Photon energy (eV)": 15.9,
          "Polar ang (deg)": 2,
          "Polar ang (rad)": 0.03490658503988659,
          "Target dataset": "good1"
         },
         {
          "Dataset / KE (eV)": "good1 / 7.2",
          "Phase shift diff (deg)": 61.76001430501677,
          "Phase shift diff (rad)": 1.07791559570134,
          "Photoelectron KE (eV)": 7.212611200000001,
          "Photon energy (eV)": 15.9,
          "Polar ang (deg)": 3,
          "Polar ang (rad)": 0.05235987755982988,
          "Target dataset": "good1"
         },
         {
          "Dataset / KE (eV)": "good1 / 7.2",
          "Phase shift diff (deg)": 61.80675134604543,
          "Phase shift diff (rad)": 1.07873131094993,
          "Photoelectron KE (eV)": 7.212611200000001,
          "Photon energy (eV)": 15.9,
          "Polar ang (deg)": 4,
          "Polar ang (rad)": 0.06981317007977318,
          "Target dataset": "good1"
         },
         {
          "Dataset / KE (eV)": "good1 / 7.2",
          "Phase shift diff (deg)": 61.86720714430437,
          "Phase shift diff (rad)": 1.07978646368147,
          "Photoelectron KE (eV)": 7.212611200000001,
          "Photon energy (eV)": 15.9,
          "Polar ang (deg)": 5,
          "Polar ang (rad)": 0.08726646259971647,
          "Target dataset": "good1"
         },
         {
          "Dataset / KE (eV)": "good1 / 7.2",
          "Phase shift diff (deg)": 61.941661004856776,
          "Phase shift diff (rad)": 1.08108592868893,
          "Photoelectron KE (eV)": 7.212611200000001,
          "Photon energy (eV)": 15.9,
          "Polar ang (deg)": 6,
          "Polar ang (rad)": 0.10471975511965977,
          "Target dataset": "good1"
         },
         {
          "Dataset / KE (eV)": "good1 / 7.2",
          "Phase shift diff (deg)": 62.030460333035045,
          "Phase shift diff (rad)": 1.0826357693392,
          "Photoelectron KE (eV)": 7.212611200000001,
          "Photon energy (eV)": 15.9,
          "Polar ang (deg)": 7,
          "Polar ang (rad)": 0.12217304763960307,
          "Target dataset": "good1"
         },
         {
          "Dataset / KE (eV)": "good1 / 7.2",
          "Phase shift diff (deg)": 62.13402443125805,
          "Phase shift diff (rad)": 1.08444330384005,
          "Photoelectron KE (eV)": 7.212611200000001,
          "Photon energy (eV)": 15.9,
          "Polar ang (deg)": 8,
          "Polar ang (rad)": 0.13962634015954636,
          "Target dataset": "good1"
         },
         {
          "Dataset / KE (eV)": "good1 / 7.2",
          "Phase shift diff (deg)": 62.25284915539592,
          "Phase shift diff (rad)": 1.08651718650903,
          "Photoelectron KE (eV)": 7.212611200000001,
          "Photon energy (eV)": 15.9,
          "Polar ang (deg)": 9,
          "Polar ang (rad)": 0.15707963267948966,
          "Target dataset": "good1"
         },
         {
          "Dataset / KE (eV)": "good1 / 7.2",
          "Phase shift diff (deg)": 62.38751252265539,
          "Phase shift diff (rad)": 1.08886750564953,
          "Photoelectron KE (eV)": 7.212611200000001,
          "Photon energy (eV)": 15.9,
          "Polar ang (deg)": 10,
          "Polar ang (rad)": 0.17453292519943295,
          "Target dataset": "good1"
         },
         {
          "Dataset / KE (eV)": "good1 / 7.2",
          "Phase shift diff (deg)": 62.538681385404075,
          "Phase shift diff (rad)": 1.09150590003099,
          "Photoelectron KE (eV)": 7.212611200000001,
          "Photon energy (eV)": 15.9,
          "Polar ang (deg)": 11,
          "Polar ang (rad)": 0.19198621771937624,
          "Target dataset": "good1"
         },
         {
          "Dataset / KE (eV)": "good1 / 7.2",
          "Phase shift diff (deg)": 62.70711931021516,
          "Phase shift diff (rad)": 1.09444569640417,
          "Photoelectron KE (eV)": 7.212611200000001,
          "Photon energy (eV)": 15.9,
          "Polar ang (deg)": 12,
          "Polar ang (rad)": 0.20943951023931953,
          "Target dataset": "good1"
         },
         {
          "Dataset / KE (eV)": "good1 / 7.2",
          "Phase shift diff (deg)": 62.893695829685576,
          "Phase shift diff (rad)": 1.09770207097584,
          "Photoelectron KE (eV)": 7.212611200000001,
          "Photon energy (eV)": 15.9,
          "Polar ang (deg)": 13,
          "Polar ang (rad)": 0.22689280275926282,
          "Target dataset": "good1"
         },
         {
          "Dataset / KE (eV)": "good1 / 7.2",
          "Phase shift diff (deg)": 63.09939727058778,
          "Phase shift diff (rad)": 1.10129223839568,
          "Photoelectron KE (eV)": 7.212611200000001,
          "Photon energy (eV)": 15.9,
          "Polar ang (deg)": 14,
          "Polar ang (rad)": 0.24434609527920614,
          "Target dataset": "good1"
         },
         {
          "Dataset / KE (eV)": "good1 / 7.2",
          "Phase shift diff (deg)": 63.3253394035397,
          "Phase shift diff (rad)": 1.10523567253467,
          "Photoelectron KE (eV)": 7.212611200000001,
          "Photon energy (eV)": 15.9,
          "Polar ang (deg)": 15,
          "Polar ang (rad)": 0.2617993877991494,
          "Target dataset": "good1"
         },
         {
          "Dataset / KE (eV)": "good1 / 7.2",
          "Phase shift diff (deg)": 63.57278220696063,
          "Phase shift diff (rad)": 1.10955436416473,
          "Photoelectron KE (eV)": 7.212611200000001,
          "Photon energy (eV)": 15.9,
          "Polar ang (deg)": 16,
          "Polar ang (rad)": 0.2792526803190927,
          "Target dataset": "good1"
         },
         {
          "Dataset / KE (eV)": "good1 / 7.2",
          "Phase shift diff (deg)": 63.8431471024901,
          "Phase shift diff (rad)": 1.11427312177353,
          "Photoelectron KE (eV)": 7.212611200000001,
          "Photon energy (eV)": 15.9,
          "Polar ang (deg)": 17,
          "Polar ang (rad)": 0.296705972839036,
          "Target dataset": "good1"
         },
         {
          "Dataset / KE (eV)": "good1 / 7.2",
          "Phase shift diff (deg)": 64.13803708720152,
          "Phase shift diff (rad)": 1.1194199229379,
          "Photoelectron KE (eV)": 7.212611200000001,
          "Photon energy (eV)": 15.9,
          "Polar ang (deg)": 18,
          "Polar ang (rad)": 0.3141592653589793,
          "Target dataset": "good1"
         },
         {
          "Dataset / KE (eV)": "good1 / 7.2",
          "Phase shift diff (deg)": 64.45926028142426,
          "Phase shift diff (rad)": 1.12502632531086,
          "Photoelectron KE (eV)": 7.212611200000001,
          "Photon energy (eV)": 15.9,
          "Polar ang (deg)": 19,
          "Polar ang (rad)": 0.33161255787892263,
          "Target dataset": "good1"
         },
         {
          "Dataset / KE (eV)": "good1 / 7.2",
          "Phase shift diff (deg)": 64.80885751491404,
          "Phase shift diff (rad)": 1.13112794809112,
          "Photoelectron KE (eV)": 7.212611200000001,
          "Photon energy (eV)": 15.9,
          "Polar ang (deg)": 20,
          "Polar ang (rad)": 0.3490658503988659,
          "Target dataset": "good1"
         },
         {
          "Dataset / KE (eV)": "good1 / 7.2",
          "Phase shift diff (deg)": 65.18913471045386,
          "Phase shift diff (rad)": 1.13776503722354,
          "Photoelectron KE (eV)": 7.212611200000001,
          "Photon energy (eV)": 15.9,
          "Polar ang (deg)": 21,
          "Polar ang (rad)": 0.3665191429188092,
          "Target dataset": "good1"
         },
         {
          "Dataset / KE (eV)": "good1 / 7.2",
          "Phase shift diff (deg)": 65.6027009806411,
          "Phase shift diff (rad)": 1.1449831303135,
          "Photoelectron KE (eV)": 7.212611200000001,
          "Photon energy (eV)": 15.9,
          "Polar ang (deg)": 22,
          "Polar ang (rad)": 0.3839724354387525,
          "Target dataset": "good1"
         },
         {
          "Dataset / KE (eV)": "good1 / 7.2",
          "Phase shift diff (deg)": 66.05251355724116,
          "Phase shift diff (rad)": 1.15283384079205,
          "Photoelectron KE (eV)": 7.212611200000001,
          "Photon energy (eV)": 15.9,
          "Polar ang (deg)": 23,
          "Polar ang (rad)": 0.40142572795869574,
          "Target dataset": "good1"
         },
         {
          "Dataset / KE (eV)": "good1 / 7.2",
          "Phase shift diff (deg)": 66.54193090870474,
          "Phase shift diff (rad)": 1.16137578499148,
          "Photoelectron KE (eV)": 7.212611200000001,
          "Photon energy (eV)": 15.9,
          "Polar ang (deg)": 24,
          "Polar ang (rad)": 0.41887902047863906,
          "Target dataset": "good1"
         },
         {
          "Dataset / KE (eV)": "good1 / 7.2",
          "Phase shift diff (deg)": 67.07477570079845,
          "Phase shift diff (rad)": 1.17067568101562,
          "Photoelectron KE (eV)": 7.212611200000001,
          "Photon energy (eV)": 15.9,
          "Polar ang (deg)": 25,
          "Polar ang (rad)": 0.4363323129985824,
          "Target dataset": "good1"
         },
         {
          "Dataset / KE (eV)": "good1 / 7.2",
          "Phase shift diff (deg)": 67.6554096119141,
          "Phase shift diff (rad)": 1.18080965451332,
          "Photoelectron KE (eV)": 7.212611200000001,
          "Photon energy (eV)": 15.9,
          "Polar ang (deg)": 26,
          "Polar ang (rad)": 0.45378560551852565,
          "Target dataset": "good1"
         },
         {
          "Dataset / KE (eV)": "good1 / 7.2",
          "Phase shift diff (deg)": 68.28882244788632,
          "Phase shift diff (rad)": 1.19186479402543,
          "Photoelectron KE (eV)": 7.212611200000001,
          "Photon energy (eV)": 15.9,
          "Polar ang (deg)": 27,
          "Polar ang (rad)": 0.47123889803846897,
          "Target dataset": "good1"
         },
         {
          "Dataset / KE (eV)": "good1 / 7.2",
          "Phase shift diff (deg)": 68.9807385187389,
          "Phase shift diff (rad)": 1.20394100760927,
          "Photoelectron KE (eV)": 7.212611200000001,
          "Photon energy (eV)": 15.9,
          "Polar ang (deg)": 28,
          "Polar ang (rad)": 0.4886921905584123,
          "Target dataset": "good1"
         },
         {
          "Dataset / KE (eV)": "good1 / 7.2",
          "Phase shift diff (deg)": 69.73774384501489,
          "Phase shift diff (rad)": 1.21715324300792,
          "Photoelectron KE (eV)": 7.212611200000001,
          "Photon energy (eV)": 15.9,
          "Polar ang (deg)": 29,
          "Polar ang (rad)": 0.5061454830783556,
          "Target dataset": "good1"
         },
         {
          "Dataset / KE (eV)": "good1 / 7.2",
          "Phase shift diff (deg)": 70.56743844933057,
          "Phase shift diff (rad)": 1.23163414563926,
          "Photoelectron KE (eV)": 7.212611200000001,
          "Photon energy (eV)": 15.9,
          "Polar ang (deg)": 30,
          "Polar ang (rad)": 0.5235987755982988,
          "Target dataset": "good1"
         },
         {
          "Dataset / KE (eV)": "good1 / 7.2",
          "Phase shift diff (deg)": 71.47861873897207,
          "Phase shift diff (rad)": 1.24753724177278,
          "Photoelectron KE (eV)": 7.212611200000001,
          "Photon energy (eV)": 15.9,
          "Polar ang (deg)": 31,
          "Polar ang (rad)": 0.5410520681182421,
          "Target dataset": "good1"
         },
         {
          "Dataset / KE (eV)": "good1 / 7.2",
          "Phase shift diff (deg)": 72.48149571710668,
          "Phase shift diff (rad)": 1.26504074703368,
          "Photoelectron KE (eV)": 7.212611200000001,
          "Photon energy (eV)": 15.9,
          "Polar ang (deg)": 32,
          "Polar ang (rad)": 0.5585053606381855,
          "Target dataset": "good1"
         },
         {
          "Dataset / KE (eV)": "good1 / 7.2",
          "Phase shift diff (deg)": 73.58795534448035,
          "Phase shift diff (rad)": 1.28435211057174,
          "Photoelectron KE (eV)": 7.212611200000001,
          "Photon energy (eV)": 15.9,
          "Polar ang (deg)": 33,
          "Polar ang (rad)": 0.5759586531581287,
          "Target dataset": "good1"
         },
         {
          "Dataset / KE (eV)": "good1 / 7.2",
          "Phase shift diff (deg)": 74.81186751540002,
          "Phase shift diff (rad)": 1.30571340770952,
          "Photoelectron KE (eV)": 7.212611200000001,
          "Photon energy (eV)": 15.9,
          "Polar ang (deg)": 34,
          "Polar ang (rad)": 0.593411945678072,
          "Target dataset": "good1"
         },
         {
          "Dataset / KE (eV)": "good1 / 7.2",
          "Phase shift diff (deg)": 76.16944929164168,
          "Phase shift diff (rad)": 1.32940767957001,
          "Photoelectron KE (eV)": 7.212611200000001,
          "Photon energy (eV)": 15.9,
          "Polar ang (deg)": 35,
          "Polar ang (rad)": 0.6108652381980153,
          "Target dataset": "good1"
         },
         {
          "Dataset / KE (eV)": "good1 / 7.2",
          "Phase shift diff (deg)": 77.67968531615574,
          "Phase shift diff (rad)": 1.35576627068001,
          "Photoelectron KE (eV)": 7.212611200000001,
          "Photon energy (eV)": 15.9,
          "Polar ang (deg)": 36,
          "Polar ang (rad)": 0.6283185307179586,
          "Target dataset": "good1"
         },
         {
          "Dataset / KE (eV)": "good1 / 7.2",
          "Phase shift diff (deg)": 79.36480204684098,
          "Phase shift diff (rad)": 1.38517710591091,
          "Photoelectron KE (eV)": 7.212611200000001,
          "Photon energy (eV)": 15.9,
          "Polar ang (deg)": 37,
          "Polar ang (rad)": 0.6457718232379019,
          "Target dataset": "good1"
         },
         {
          "Dataset / KE (eV)": "good1 / 7.2",
          "Phase shift diff (deg)": 81.25077984173254,
          "Phase shift diff (rad)": 1.41809362805127,
          "Photoelectron KE (eV)": 7.212611200000001,
          "Photon energy (eV)": 15.9,
          "Polar ang (deg)": 38,
          "Polar ang (rad)": 0.6632251157578453,
          "Target dataset": "good1"
         },
         {
          "Dataset / KE (eV)": "good1 / 7.2",
          "Phase shift diff (deg)": 83.36786340932406,
          "Phase shift diff (rad)": 1.45504370684561,
          "Photoelectron KE (eV)": 7.212611200000001,
          "Photon energy (eV)": 15.9,
          "Polar ang (deg)": 39,
          "Polar ang (rad)": 0.6806784082777886,
          "Target dataset": "good1"
         },
         {
          "Dataset / KE (eV)": "good1 / 7.2",
          "Phase shift diff (deg)": 85.75098966777601,
          "Phase shift diff (rad)": 1.49663710654633,
          "Photoelectron KE (eV)": 7.212611200000001,
          "Photon energy (eV)": 15.9,
          "Polar ang (deg)": 40,
          "Polar ang (rad)": 0.6981317007977318,
          "Target dataset": "good1"
         },
         {
          "Dataset / KE (eV)": "good1 / 7.2",
          "Phase shift diff (deg)": 88.43998255780939,
          "Phase shift diff (rad)": 1.54356888604013,
          "Photoelectron KE (eV)": 7.212611200000001,
          "Photon energy (eV)": 15.9,
          "Polar ang (deg)": 41,
          "Polar ang (rad)": 0.7155849933176751,
          "Target dataset": "good1"
         },
         {
          "Dataset / KE (eV)": "good1 / 7.2",
          "Phase shift diff (deg)": 91.47925476119603,
          "Phase shift diff (rad)": 1.59661419285357,
          "Photoelectron KE (eV)": 7.212611200000001,
          "Photon energy (eV)": 15.9,
          "Polar ang (deg)": 42,
          "Polar ang (rad)": 0.7330382858376184,
          "Target dataset": "good1"
         },
         {
          "Dataset / KE (eV)": "good1 / 7.2",
          "Phase shift diff (deg)": 94.91659787404241,
          "Phase shift diff (rad)": 1.65660714769349,
          "Photoelectron KE (eV)": 7.212611200000001,
          "Photon energy (eV)": 15.9,
          "Polar ang (deg)": 43,
          "Polar ang (rad)": 0.7504915783575618,
          "Target dataset": "good1"
         },
         {
          "Dataset / KE (eV)": "good1 / 7.2",
          "Phase shift diff (deg)": 98.80044574991416,
          "Phase shift diff (rad)": 1.72439308077404,
          "Photoelectron KE (eV)": 7.212611200000001,
          "Photon energy (eV)": 15.9,
          "Polar ang (deg)": 44,
          "Polar ang (rad)": 0.767944870877505,
          "Target dataset": "good1"
         },
         {
          "Dataset / KE (eV)": "good1 / 7.2",
          "Phase shift diff (deg)": 103.17482462031529,
          "Phase shift diff (rad)": 1.80074039479221,
          "Photoelectron KE (eV)": 7.212611200000001,
          "Photon energy (eV)": 15.9,
          "Polar ang (deg)": 45,
          "Polar ang (rad)": 0.7853981633974483,
          "Target dataset": "good1"
         },
         {
          "Dataset / KE (eV)": "good1 / 7.2",
          "Phase shift diff (deg)": 108.07123270593235,
          "Phase shift diff (rad)": 1.8861988374075,
          "Photoelectron KE (eV)": 7.212611200000001,
          "Photon energy (eV)": 15.9,
          "Polar ang (deg)": 46,
          "Polar ang (rad)": 0.8028514559173915,
          "Target dataset": "good1"
         },
         {
          "Dataset / KE (eV)": "good1 / 7.2",
          "Phase shift diff (deg)": 113.4972521739953,
          "Phase shift diff (rad)": 1.98090074240251,
          "Photoelectron KE (eV)": 7.212611200000001,
          "Photon energy (eV)": 15.9,
          "Polar ang (deg)": 47,
          "Polar ang (rad)": 0.8203047484373349,
          "Target dataset": "good1"
         },
         {
          "Dataset / KE (eV)": "good1 / 7.2",
          "Phase shift diff (deg)": 119.42318738694881,
          "Phase shift diff (rad)": 2.08432782312842,
          "Photoelectron KE (eV)": 7.212611200000001,
          "Photon energy (eV)": 15.9,
          "Polar ang (deg)": 48,
          "Polar ang (rad)": 0.8377580409572781,
          "Target dataset": "good1"
         },
         {
          "Dataset / KE (eV)": "good1 / 7.2",
          "Phase shift diff (deg)": 125.77048095230639,
          "Phase shift diff (rad)": 2.19510899443456,
          "Photoelectron KE (eV)": 7.212611200000001,
          "Photon energy (eV)": 15.9,
          "Polar ang (deg)": 49,
          "Polar ang (rad)": 0.8552113334772213,
          "Target dataset": "good1"
         },
         {
          "Dataset / KE (eV)": "good1 / 7.2",
          "Phase shift diff (deg)": 132.4079694621166,
          "Phase shift diff (rad)": 2.31095502299404,
          "Photoelectron KE (eV)": 7.212611200000001,
          "Photon energy (eV)": 15.9,
          "Polar ang (deg)": 50,
          "Polar ang (rad)": 0.8726646259971648,
          "Target dataset": "good1"
         },
         {
          "Dataset / KE (eV)": "good1 / 7.2",
          "Phase shift diff (deg)": 139.16168558580608,
          "Phase shift diff (rad)": 2.42882960609745,
          "Photoelectron KE (eV)": 7.212611200000001,
          "Photon energy (eV)": 15.9,
          "Polar ang (deg)": 51,
          "Polar ang (rad)": 0.890117918517108,
          "Target dataset": "good1"
         },
         {
          "Dataset / KE (eV)": "good1 / 7.2",
          "Phase shift diff (deg)": 145.83885653085758,
          "Phase shift diff (rad)": 2.5453682238071,
          "Photoelectron KE (eV)": 7.212611200000001,
          "Photon energy (eV)": 15.9,
          "Polar ang (deg)": 52,
          "Polar ang (rad)": 0.9075712110370513,
          "Target dataset": "good1"
         },
         {
          "Dataset / KE (eV)": "good1 / 7.2",
          "Phase shift diff (deg)": 152.25893446555457,
          "Phase shift diff (rad)": 2.6574197220022,
          "Photoelectron KE (eV)": 7.212611200000001,
          "Photon energy (eV)": 15.9,
          "Polar ang (deg)": 53,
          "Polar ang (rad)": 0.9250245035569946,
          "Target dataset": "good1"
         },
         {
          "Dataset / KE (eV)": "good1 / 7.2",
          "Phase shift diff (deg)": 158.28000152579264,
          "Phase shift diff (rad)": 2.76250716668673,
          "Photoelectron KE (eV)": 7.212611200000001,
          "Photon energy (eV)": 15.9,
          "Polar ang (deg)": 54,
          "Polar ang (rad)": 0.9424777960769379,
          "Target dataset": "good1"
         },
         {
          "Dataset / KE (eV)": "good1 / 7.2",
          "Phase shift diff (deg)": 163.8118873859423,
          "Phase shift diff (rad)": 2.85905678879086,
          "Photoelectron KE (eV)": 7.212611200000001,
          "Photon energy (eV)": 15.9,
          "Polar ang (deg)": 55,
          "Polar ang (rad)": 0.9599310885968813,
          "Target dataset": "good1"
         },
         {
          "Dataset / KE (eV)": "good1 / 7.2",
          "Phase shift diff (deg)": 168.81500204349652,
          "Phase shift diff (rad)": 2.94637761241997,
          "Photoelectron KE (eV)": 7.212611200000001,
          "Photon energy (eV)": 15.9,
          "Polar ang (deg)": 56,
          "Polar ang (rad)": 0.9773843811168246,
          "Target dataset": "good1"
         },
         {
          "Dataset / KE (eV)": "good1 / 7.2",
          "Phase shift diff (deg)": 173.28990066591152,
          "Phase shift diff (rad)": 3.02447932707407,
          "Photoelectron KE (eV)": 7.212611200000001,
          "Photon energy (eV)": 15.9,
          "Polar ang (deg)": 57,
          "Polar ang (rad)": 0.9948376736367678,
          "Target dataset": "good1"
         },
         {
          "Dataset / KE (eV)": "good1 / 7.2",
          "Phase shift diff (deg)": 177.26389408771863,
          "Phase shift diff (rad)": 3.0938385967372,
          "Photoelectron KE (eV)": 7.212611200000001,
          "Photon energy (eV)": 15.9,
          "Polar ang (deg)": 58,
          "Polar ang (rad)": 1.0122909661567112,
          "Target dataset": "good1"
         },
         {
          "Dataset / KE (eV)": "good1 / 7.2",
          "Phase shift diff (deg)": 180.77904468336962,
          "Phase shift diff (rad)": 3.15518954833475,
          "Photoelectron KE (eV)": 7.212611200000001,
          "Photon energy (eV)": 15.9,
          "Polar ang (deg)": 59,
          "Polar ang (rad)": 1.0297442586766543,
          "Target dataset": "good1"
         },
         {
          "Dataset / KE (eV)": "good1 / 7.2",
          "Phase shift diff (deg)": 183.88331223419024,
          "Phase shift diff (rad)": 3.20936923795939,
          "Photoelectron KE (eV)": 7.212611200000001,
          "Photon energy (eV)": 15.9,
          "Polar ang (deg)": 60,
          "Polar ang (rad)": 1.0471975511965976,
          "Target dataset": "good1"
         },
         {
          "Dataset / KE (eV)": "good1 / 7.2",
          "Phase shift diff (deg)": 186.6248879610655,
          "Phase shift diff (rad)": 3.25721876108612,
          "Photoelectron KE (eV)": 7.212611200000001,
          "Photon energy (eV)": 15.9,
          "Polar ang (deg)": 61,
          "Polar ang (rad)": 1.064650843716541,
          "Target dataset": "good1"
         },
         {
          "Dataset / KE (eV)": "good1 / 7.2",
          "Phase shift diff (deg)": 189.04902231300252,
          "Phase shift diff (rad)": 3.29952788703812,
          "Photoelectron KE (eV)": 7.212611200000001,
          "Photon energy (eV)": 15.9,
          "Polar ang (deg)": 62,
          "Polar ang (rad)": 1.0821041362364843,
          "Target dataset": "good1"
         },
         {
          "Dataset / KE (eV)": "good1 / 7.2",
          "Phase shift diff (deg)": 191.19654040015607,
          "Phase shift diff (rad)": 3.33700914840508,
          "Photoelectron KE (eV)": 7.212611200000001,
          "Photon energy (eV)": 15.9,
          "Polar ang (deg)": 63,
          "Polar ang (rad)": 1.0995574287564276,
          "Target dataset": "good1"
         },
         {
          "Dataset / KE (eV)": "good1 / 7.2",
          "Phase shift diff (deg)": 193.10338621788193,
          "Phase shift diff (rad)": 3.37028988625228,
          "Photoelectron KE (eV)": 7.212611200000001,
          "Photon energy (eV)": 15.9,
          "Polar ang (deg)": 64,
          "Polar ang (rad)": 1.117010721276371,
          "Target dataset": "good1"
         },
         {
          "Dataset / KE (eV)": "good1 / 7.2",
          "Phase shift diff (deg)": 194.80073633645694,
          "Phase shift diff (rad)": 3.39991423438053,
          "Photoelectron KE (eV)": 7.212611200000001,
          "Photon energy (eV)": 15.9,
          "Polar ang (deg)": 65,
          "Polar ang (rad)": 1.1344640137963142,
          "Target dataset": "good1"
         },
         {
          "Dataset / KE (eV)": "good1 / 7.2",
          "Phase shift diff (deg)": 196.31539260909506,
          "Phase shift diff (rad)": 3.42634997337405,
          "Photoelectron KE (eV)": 7.212611200000001,
          "Photon energy (eV)": 15.9,
          "Polar ang (deg)": 66,
          "Polar ang (rad)": 1.1519173063162573,
          "Target dataset": "good1"
         },
         {
          "Dataset / KE (eV)": "good1 / 7.2",
          "Phase shift diff (deg)": 197.67028331089813,
          "Phase shift diff (rad)": 3.44999727712517,
          "Photoelectron KE (eV)": 7.212611200000001,
          "Photon energy (eV)": 15.9,
          "Polar ang (deg)": 67,
          "Polar ang (rad)": 1.1693705988362009,
          "Target dataset": "good1"
         },
         {
          "Dataset / KE (eV)": "good1 / 7.2",
          "Phase shift diff (deg)": 198.88497935986567,
          "Phase shift diff (rad)": 3.47119772259062,
          "Photoelectron KE (eV)": 7.212611200000001,
          "Photon energy (eV)": 15.9,
          "Polar ang (deg)": 68,
          "Polar ang (rad)": 1.186823891356144,
          "Target dataset": "good1"
         },
         {
          "Dataset / KE (eV)": "good1 / 7.2",
          "Phase shift diff (deg)": 199.9761789289394,
          "Phase shift diff (rad)": 3.4902427478673,
          "Photoelectron KE (eV)": 7.212611200000001,
          "Photon energy (eV)": 15.9,
          "Polar ang (deg)": 69,
          "Polar ang (rad)": 1.2042771838760875,
          "Target dataset": "good1"
         },
         {
          "Dataset / KE (eV)": "good1 / 7.2",
          "Phase shift diff (deg)": 200.95814051379432,
          "Phase shift diff (rad)": 3.50738121065112,
          "Photoelectron KE (eV)": 7.212611200000001,
          "Photon energy (eV)": 15.9,
          "Polar ang (deg)": 70,
          "Polar ang (rad)": 1.2217304763960306,
          "Target dataset": "good1"
         },
         {
          "Dataset / KE (eV)": "good1 / 7.2",
          "Phase shift diff (deg)": 201.84305907898204,
          "Phase shift diff (rad)": 3.52282595322567,
          "Photoelectron KE (eV)": 7.212611200000001,
          "Photon energy (eV)": 15.9,
          "Polar ang (deg)": 71,
          "Polar ang (rad)": 1.239183768915974,
          "Target dataset": "good1"
         },
         {
          "Dataset / KE (eV)": "good1 / 7.2",
          "Phase shift diff (deg)": 202.64138731860606,
          "Phase shift diff (rad)": 3.53675940951876,
          "Photoelectron KE (eV)": 7.212611200000001,
          "Photon energy (eV)": 15.9,
          "Polar ang (deg)": 72,
          "Polar ang (rad)": 1.2566370614359172,
          "Target dataset": "good1"
         },
         {
          "Dataset / KE (eV)": "good1 / 7.2",
          "Phase shift diff (deg)": 203.36210745019596,
          "Phase shift diff (rad)": 3.54933834880041,
          "Photoelectron KE (eV)": 7.212611200000001,
          "Photon energy (eV)": 15.9,
          "Polar ang (deg)": 73,
          "Polar ang (rad)": 1.2740903539558606,
          "Target dataset": "good1"
         },
         {
          "Dataset / KE (eV)": "good1 / 7.2",
          "Phase shift diff (deg)": 204.01296018528188,
          "Phase shift diff (rad)": 3.56069787197327,
          "Photoelectron KE (eV)": 7.212611200000001,
          "Photon energy (eV)": 15.9,
          "Polar ang (deg)": 74,
          "Polar ang (rad)": 1.2915436464758039,
          "Target dataset": "good1"
         },
         {
          "Dataset / KE (eV)": "good1 / 7.2",
          "Phase shift diff (deg)": 204.60063766811842,
          "Phase shift diff (rad)": 3.5709547789886,
          "Photoelectron KE (eV)": 7.212611200000001,
          "Photon energy (eV)": 15.9,
          "Polar ang (deg)": 75,
          "Polar ang (rad)": 1.3089969389957472,
          "Target dataset": "good1"
         },
         {
          "Dataset / KE (eV)": "good1 / 7.2",
          "Phase shift diff (deg)": 205.13094688874395,
          "Phase shift diff (rad)": 3.5802104209422,
          "Photoelectron KE (eV)": 7.212611200000001,
          "Photon energy (eV)": 15.9,
          "Polar ang (deg)": 76,
          "Polar ang (rad)": 1.3264502315156905,
          "Target dataset": "good1"
         },
         {
          "Dataset / KE (eV)": "good1 / 7.2",
          "Phase shift diff (deg)": 205.60894974278523,
          "Phase shift diff (rad)": 3.58855314457915,
          "Photoelectron KE (eV)": 7.212611200000001,
          "Photon energy (eV)": 15.9,
          "Polar ang (deg)": 77,
          "Polar ang (rad)": 1.3439035240356336,
          "Target dataset": "good1"
         },
         {
          "Dataset / KE (eV)": "good1 / 7.2",
          "Phase shift diff (deg)": 206.03908583745343,
          "Phase shift diff (rad)": 3.59606043566278,
          "Photoelectron KE (eV)": 7.212611200000001,
          "Photon energy (eV)": 15.9,
          "Polar ang (deg)": 78,
          "Polar ang (rad)": 1.3613568165555772,
          "Target dataset": "good1"
         },
         {
          "Dataset / KE (eV)": "good1 / 7.2",
          "Phase shift diff (deg)": 206.42528467267763,
          "Phase shift diff (rad)": 3.60280087690481,
          "Photoelectron KE (eV)": 7.212611200000001,
          "Photon energy (eV)": 15.9,
          "Polar ang (deg)": 79,
          "Polar ang (rad)": 1.3788101090755203,
          "Target dataset": "good1"
         },
         {
          "Dataset / KE (eV)": "good1 / 7.2",
          "Phase shift diff (deg)": 206.77107554169527,
          "Phase shift diff (rad)": 3.6088360660925,
          "Photoelectron KE (eV)": 7.212611200000001,
          "Photon energy (eV)": 15.9,
          "Polar ang (deg)": 80,
          "Polar ang (rad)": 1.3962634015954636,
          "Target dataset": "good1"
         },
         {
          "Dataset / KE (eV)": "good1 / 7.2",
          "Phase shift diff (deg)": 207.0797076513316,
          "Phase shift diff (rad)": 3.61422271258303,
          "Photoelectron KE (eV)": 7.212611200000001,
          "Photon energy (eV)": 15.9,
          "Polar ang (deg)": 81,
          "Polar ang (rad)": 1.413716694115407,
          "Target dataset": "good1"
         },
         {
          "Dataset / KE (eV)": "good1 / 7.2",
          "Phase shift diff (deg)": 207.35430246076047,
          "Phase shift diff (rad)": 3.61901529611645,
          "Photoelectron KE (eV)": 7.212611200000001,
          "Photon energy (eV)": 15.9,
          "Polar ang (deg)": 82,
          "Polar ang (rad)": 1.4311699866353502,
          "Target dataset": "good1"
         },
         {
          "Dataset / KE (eV)": "good1 / 7.2",
          "Phase shift diff (deg)": 207.59808259382004,
          "Phase shift diff (rad)": 3.62327006208929,
          "Photoelectron KE (eV)": 7.212611200000001,
          "Photon energy (eV)": 15.9,
          "Polar ang (deg)": 83,
          "Polar ang (rad)": 1.4486232791552935,
          "Target dataset": "good1"
         },
         {
          "Dataset / KE (eV)": "good1 / 7.2",
          "Phase shift diff (deg)": 207.81477810676458,
          "Phase shift diff (rad)": 3.62705211226447,
          "Photoelectron KE (eV)": 7.212611200000001,
          "Photon energy (eV)": 15.9,
          "Polar ang (deg)": 84,
          "Polar ang (rad)": 1.4660765716752369,
          "Target dataset": "good1"
         },
         {
          "Dataset / KE (eV)": "good1 / 7.2",
          "Phase shift diff (deg)": 208.0094691898291,
          "Phase shift diff (rad)": 3.63045011268822,
          "Photoelectron KE (eV)": 7.212611200000001,
          "Photon energy (eV)": 15.9,
          "Polar ang (deg)": 85,
          "Polar ang (rad)": 1.48352986419518,
          "Target dataset": "good1"
         },
         {
          "Dataset / KE (eV)": "good1 / 7.2",
          "Phase shift diff (deg)": 208.19063805944424,
          "Phase shift diff (rad)": 3.63361210596512,
          "Photoelectron KE (eV)": 7.212611200000001,
          "Photon energy (eV)": 15.9,
          "Polar ang (deg)": 86,
          "Polar ang (rad)": 1.5009831567151235,
          "Target dataset": "good1"
         },
         {
          "Dataset / KE (eV)": "good1 / 7.2",
          "Phase shift diff (deg)": 208.37625003907206,
          "Phase shift diff (rad)": 3.63685164614077,
          "Photoelectron KE (eV)": 7.212611200000001,
          "Photon energy (eV)": 15.9,
          "Polar ang (deg)": 87,
          "Polar ang (rad)": 1.5184364492350666,
          "Target dataset": "good1"
         },
         {
          "Dataset / KE (eV)": "good1 / 7.2",
          "Phase shift diff (deg)": 208.61787135281452,
          "Phase shift diff (rad)": 3.64106873360857,
          "Photoelectron KE (eV)": 7.212611200000001,
          "Photon energy (eV)": 15.9,
          "Polar ang (deg)": 88,
          "Polar ang (rad)": 1.53588974175501,
          "Target dataset": "good1"
         },
         {
          "Dataset / KE (eV)": "good1 / 7.2",
          "Phase shift diff (deg)": 209.1671122145577,
          "Phase shift diff (rad)": 3.65065479503248,
          "Photoelectron KE (eV)": 7.212611200000001,
          "Photon energy (eV)": 15.9,
          "Polar ang (deg)": 89,
          "Polar ang (rad)": 1.5533430342749532,
          "Target dataset": "good1"
         },
         {
          "Dataset / KE (eV)": "good1 / 7.2",
          "Phase shift diff (deg)": 387.09040150442974,
          "Phase shift diff (rad)": 6.75600200911911,
          "Photoelectron KE (eV)": 7.212611200000001,
          "Photon energy (eV)": 15.9,
          "Polar ang (deg)": 91,
          "Polar ang (rad)": 1.5882496193148399,
          "Target dataset": "good1"
         },
         {
          "Dataset / KE (eV)": "good1 / 7.2",
          "Phase shift diff (deg)": 387.5795572844159,
          "Phase shift diff (rad)": 6.76453938803503,
          "Photoelectron KE (eV)": 7.212611200000001,
          "Photon energy (eV)": 15.9,
          "Polar ang (deg)": 92,
          "Polar ang (rad)": 1.605702911834783,
          "Target dataset": "good1"
         },
         {
          "Dataset / KE (eV)": "good1 / 7.2",
          "Phase shift diff (deg)": 387.6839756644022,
          "Phase shift diff (rad)": 6.76636183256539,
          "Photoelectron KE (eV)": 7.212611200000001,
          "Photon energy (eV)": 15.9,
          "Polar ang (deg)": 93,
          "Polar ang (rad)": 1.6231562043547265,
          "Target dataset": "good1"
         },
         {
          "Dataset / KE (eV)": "good1 / 7.2",
          "Phase shift diff (deg)": 387.67134788021264,
          "Phase shift diff (rad)": 6.76614143615405,
          "Photoelectron KE (eV)": 7.212611200000001,
          "Photon energy (eV)": 15.9,
          "Polar ang (deg)": 94,
          "Polar ang (rad)": 1.6406094968746698,
          "Target dataset": "good1"
         },
         {
          "Dataset / KE (eV)": "good1 / 7.2",
          "Phase shift diff (deg)": 387.5939402215679,
          "Phase shift diff (rad)": 6.76479041764444,
          "Photoelectron KE (eV)": 7.212611200000001,
          "Photon energy (eV)": 15.9,
          "Polar ang (deg)": 95,
          "Polar ang (rad)": 1.6580627893946132,
          "Target dataset": "good1"
         },
         {
          "Dataset / KE (eV)": "good1 / 7.2",
          "Phase shift diff (deg)": 387.4683947451384,
          "Phase shift diff (rad)": 6.76259923571976,
          "Photoelectron KE (eV)": 7.212611200000001,
          "Photon energy (eV)": 15.9,
          "Polar ang (deg)": 96,
          "Polar ang (rad)": 1.6755160819145563,
          "Target dataset": "good1"
         },
         {
          "Dataset / KE (eV)": "good1 / 7.2",
          "Phase shift diff (deg)": 387.3010595449478,
          "Phase shift diff (rad)": 6.75967868552195,
          "Photoelectron KE (eV)": 7.212611200000001,
          "Photon energy (eV)": 15.9,
          "Polar ang (deg)": 97,
          "Polar ang (rad)": 1.6929693744344996,
          "Target dataset": "good1"
         },
         {
          "Dataset / KE (eV)": "good1 / 7.2",
          "Phase shift diff (deg)": 387.0942685708536,
          "Phase shift diff (rad)": 6.7560695021606,
          "Photoelectron KE (eV)": 7.212611200000001,
          "Photon energy (eV)": 15.9,
          "Polar ang (deg)": 98,
          "Polar ang (rad)": 1.7104226669544427,
          "Target dataset": "good1"
         },
         {
          "Dataset / KE (eV)": "good1 / 7.2",
          "Phase shift diff (deg)": 386.8484098625803,
          "Phase shift diff (rad)": 6.75177845820653,
          "Photoelectron KE (eV)": 7.212611200000001,
          "Photon energy (eV)": 15.9,
          "Polar ang (deg)": 99,
          "Polar ang (rad)": 1.7278759594743864,
          "Target dataset": "good1"
         },
         {
          "Dataset / KE (eV)": "good1 / 7.2",
          "Phase shift diff (deg)": 386.56273085881617,
          "Phase shift diff (rad)": 6.74679241898703,
          "Photoelectron KE (eV)": 7.212611200000001,
          "Photon energy (eV)": 15.9,
          "Polar ang (deg)": 100,
          "Polar ang (rad)": 1.7453292519943295,
          "Target dataset": "good1"
         },
         {
          "Dataset / KE (eV)": "good1 / 7.2",
          "Phase shift diff (deg)": 386.23568121432896,
          "Phase shift diff (rad)": 6.74108432587325,
          "Photoelectron KE (eV)": 7.212611200000001,
          "Photon energy (eV)": 15.9,
          "Polar ang (deg)": 101,
          "Polar ang (rad)": 1.7627825445142729,
          "Target dataset": "good1"
         },
         {
          "Dataset / KE (eV)": "good1 / 7.2",
          "Phase shift diff (deg)": 385.86505842877835,
          "Phase shift diff (rad)": 6.73461573798248,
          "Photoelectron KE (eV)": 7.212611200000001,
          "Photon energy (eV)": 15.9,
          "Polar ang (deg)": 102,
          "Polar ang (rad)": 1.780235837034216,
          "Target dataset": "good1"
         },
         {
          "Dataset / KE (eV)": "good1 / 7.2",
          "Phase shift diff (deg)": 385.44805718766617,
          "Phase shift diff (rad)": 6.72733769334017,
          "Photoelectron KE (eV)": 7.212611200000001,
          "Photon energy (eV)": 15.9,
          "Polar ang (deg)": 103,
          "Polar ang (rad)": 1.7976891295541593,
          "Target dataset": "good1"
         },
         {
          "Dataset / KE (eV)": "good1 / 7.2",
          "Phase shift diff (deg)": 384.98126449715693,
          "Phase shift diff (rad)": 6.71919062396654,
          "Photoelectron KE (eV)": 7.212611200000001,
          "Photon energy (eV)": 15.9,
          "Polar ang (deg)": 104,
          "Polar ang (rad)": 1.8151424220741026,
          "Target dataset": "good1"
         },
         {
          "Dataset / KE (eV)": "good1 / 7.2",
          "Phase shift diff (deg)": 384.4606189505303,
          "Phase shift diff (rad)": 6.71010364494206,
          "Photoelectron KE (eV)": 7.212611200000001,
          "Photon energy (eV)": 15.9,
          "Polar ang (deg)": 105,
          "Polar ang (rad)": 1.8325957145940461,
          "Target dataset": "good1"
         },
         {
          "Dataset / KE (eV)": "good1 / 7.2",
          "Phase shift diff (deg)": 383.88134180037497,
          "Phase shift diff (rad)": 6.69999335139028,
          "Photoelectron KE (eV)": 7.212611200000001,
          "Photon energy (eV)": 15.9,
          "Polar ang (deg)": 106,
          "Polar ang (rad)": 1.8500490071139892,
          "Target dataset": "good1"
         },
         {
          "Dataset / KE (eV)": "good1 / 7.2",
          "Phase shift diff (deg)": 383.2378421729685,
          "Phase shift diff (rad)": 6.68876216415668,
          "Photoelectron KE (eV)": 7.212611200000001,
          "Photon energy (eV)": 15.9,
          "Polar ang (deg)": 107,
          "Polar ang (rad)": 1.8675022996339325,
          "Target dataset": "good1"
         },
         {
          "Dataset / KE (eV)": "good1 / 7.2",
          "Phase shift diff (deg)": 382.5235957376254,
          "Phase shift diff (rad)": 6.67629621218931,
          "Photoelectron KE (eV)": 7.212611200000001,
          "Photon energy (eV)": 15.9,
          "Polar ang (deg)": 108,
          "Polar ang (rad)": 1.8849555921538759,
          "Target dataset": "good1"
         },
         {
          "Dataset / KE (eV)": "good1 / 7.2",
          "Phase shift diff (deg)": 381.73099417826785,
          "Phase shift diff (rad)": 6.66246270532208,
          "Photoelectron KE (eV)": 7.212611200000001,
          "Photon energy (eV)": 15.9,
          "Polar ang (deg)": 109,
          "Polar ang (rad)": 1.902408884673819,
          "Target dataset": "good1"
         },
         {
          "Dataset / KE (eV)": "good1 / 7.2",
          "Phase shift diff (deg)": 380.8511613718193,
          "Phase shift diff (rad)": 6.64710672598249,
          "Photoelectron KE (eV)": 7.212611200000001,
          "Photon energy (eV)": 15.9,
          "Polar ang (deg)": 110,
          "Polar ang (rad)": 1.9198621771937625,
          "Target dataset": "good1"
         },
         {
          "Dataset / KE (eV)": "good1 / 7.2",
          "Phase shift diff (deg)": 379.87373106954664,
          "Phase shift diff (rad)": 6.63004734899907,
          "Photoelectron KE (eV)": 7.212611200000001,
          "Photon energy (eV)": 15.9,
          "Polar ang (deg)": 111,
          "Polar ang (rad)": 1.9373154697137058,
          "Target dataset": "good1"
         },
         {
          "Dataset / KE (eV)": "good1 / 7.2",
          "Phase shift diff (deg)": 378.78658013514683,
          "Phase shift diff (rad)": 6.61107298572766,
          "Photoelectron KE (eV)": 7.212611200000001,
          "Photon energy (eV)": 15.9,
          "Polar ang (deg)": 112,
          "Polar ang (rad)": 1.9547687622336491,
          "Target dataset": "good1"
         },
         {
          "Dataset / KE (eV)": "good1 / 7.2",
          "Phase shift diff (deg)": 377.5755112799978,
          "Phase shift diff (rad)": 6.58993584673695,
          "Photoelectron KE (eV)": 7.212611200000001,
          "Photon energy (eV)": 15.9,
          "Polar ang (deg)": 113,
          "Polar ang (rad)": 1.9722220547535922,
          "Target dataset": "good1"
         },
         {
          "Dataset / KE (eV)": "good1 / 7.2",
          "Phase shift diff (deg)": 376.22388029219337,
          "Phase shift diff (rad)": 6.56634543572778,
          "Photoelectron KE (eV)": 7.212611200000001,
          "Photon energy (eV)": 15.9,
          "Polar ang (deg)": 114,
          "Polar ang (rad)": 1.9896753472735356,
          "Target dataset": "good1"
         },
         {
          "Dataset / KE (eV)": "good1 / 7.2",
          "Phase shift diff (deg)": 374.71216606649,
          "Phase shift diff (rad)": 6.53996104514002,
          "Photoelectron KE (eV)": 7.212611200000001,
          "Photon energy (eV)": 15.9,
          "Polar ang (deg)": 115,
          "Polar ang (rad)": 2.007128639793479,
          "Target dataset": "good1"
         },
         {
          "Dataset / KE (eV)": "good1 / 7.2",
          "Phase shift diff (deg)": 373.0174890990122,
          "Phase shift diff (rad)": 6.51038335229982,
          "Photoelectron KE (eV)": 7.212611200000001,
          "Photon energy (eV)": 15.9,
          "Polar ang (deg)": 116,
          "Polar ang (rad)": 2.0245819323134224,
          "Target dataset": "good1"
         },
         {
          "Dataset / KE (eV)": "good1 / 7.2",
          "Phase shift diff (deg)": 371.1130986608075,
          "Phase shift diff (rad)": 6.47714546890965,
          "Photoelectron KE (eV)": 7.212611200000001,
          "Photon energy (eV)": 15.9,
          "Polar ang (deg)": 117,
          "Polar ang (rad)": 2.0420352248333655,
          "Target dataset": "good1"
         },
         {
          "Dataset / KE (eV)": "good1 / 7.2",
          "Phase shift diff (deg)": 368.96787560207366,
          "Phase shift diff (rad)": 6.43970426334504,
          "Photoelectron KE (eV)": 7.212611200000001,
          "Photon energy (eV)": 15.9,
          "Polar ang (deg)": 118,
          "Polar ang (rad)": 2.0594885173533086,
          "Target dataset": "good1"
         },
         {
          "Dataset / KE (eV)": "good1 / 7.2",
          "Phase shift diff (deg)": 366.5459443551185,
          "Phase shift diff (rad)": 6.39743358882874,
          "Photoelectron KE (eV)": 7.212611200000001,
          "Photon energy (eV)": 15.9,
          "Polar ang (deg)": 119,
          "Polar ang (rad)": 2.076941809873252,
          "Target dataset": "good1"
         },
         {
          "Dataset / KE (eV)": "good1 / 7.2",
          "Phase shift diff (deg)": 363.8065648178794,
          "Phase shift diff (rad)": 6.34962239644216,
          "Photoelectron KE (eV)": 7.212611200000001,
          "Photon energy (eV)": 15.9,
          "Polar ang (deg)": 120,
          "Polar ang (rad)": 2.0943951023931953,
          "Target dataset": "good1"
         },
         {
          "Dataset / KE (eV)": "good1 / 7.2",
          "Phase shift diff (deg)": 360.70459427443745,
          "Phase shift diff (rad)": 6.29548279715922,
          "Photoelectron KE (eV)": 7.212611200000001,
          "Photon energy (eV)": 15.9,
          "Polar ang (deg)": 121,
          "Polar ang (rad)": 2.111848394913139,
          "Target dataset": "good1"
         },
         {
          "Dataset / KE (eV)": "good1 / 7.2",
          "Phase shift diff (deg)": 357.19197762207364,
          "Phase shift diff (rad)": 6.23417607121509,
          "Photoelectron KE (eV)": 7.212611200000001,
          "Photon energy (eV)": 15.9,
          "Polar ang (deg)": 122,
          "Polar ang (rad)": 2.129301687433082,
          "Target dataset": "good1"
         },
         {
          "Dataset / KE (eV)": "good1 / 7.2",
          "Phase shift diff (deg)": 353.2209223675092,
          "Phase shift diff (rad)": 6.16486808224432,
          "Photoelectron KE (eV)": 7.212611200000001,
          "Photon energy (eV)": 15.9,
          "Polar ang (deg)": 123,
          "Polar ang (rad)": 2.1467549799530254,
          "Target dataset": "good1"
         },
         {
          "Dataset / KE (eV)": "good1 / 7.2",
          "Phase shift diff (deg)": 348.7495597292783,
          "Phase shift diff (rad)": 6.08682808215653,
          "Photoelectron KE (eV)": 7.212611200000001,
          "Photon energy (eV)": 15.9,
          "Polar ang (deg)": 124,
          "Polar ang (rad)": 2.1642082724729685,
          "Target dataset": "good1"
         },
         {
          "Dataset / KE (eV)": "good1 / 7.2",
          "Phase shift diff (deg)": 343.7507795059475,
          "Phase shift diff (rad)": 5.99958290867583,
          "Photoelectron KE (eV)": 7.212611200000001,
          "Photon energy (eV)": 15.9,
          "Polar ang (deg)": 125,
          "Polar ang (rad)": 2.1816615649929116,
          "Target dataset": "good1"
         },
         {
          "Dataset / KE (eV)": "good1 / 7.2",
          "Phase shift diff (deg)": 338.2241933854581,
          "Phase shift diff (rad)": 5.90312578447827,
          "Photoelectron KE (eV)": 7.212611200000001,
          "Photon energy (eV)": 15.9,
          "Polar ang (deg)": 126,
          "Polar ang (rad)": 2.199114857512855,
          "Target dataset": "good1"
         },
         {
          "Dataset / KE (eV)": "good1 / 7.2",
          "Phase shift diff (deg)": 332.2094614713567,
          "Phase shift diff (rad)": 5.79814890895242,
          "Photoelectron KE (eV)": 7.212611200000001,
          "Photon energy (eV)": 15.9,
          "Polar ang (deg)": 127,
          "Polar ang (rad)": 2.2165681500327987,
          "Target dataset": "good1"
         },
         {
          "Dataset / KE (eV)": "good1 / 7.2",
          "Phase shift diff (deg)": 325.79665813133715,
          "Phase shift diff (rad)": 5.68622437638619,
          "Photoelectron KE (eV)": 7.212611200000001,
          "Photon energy (eV)": 15.9,
          "Polar ang (deg)": 128,
          "Polar ang (rad)": 2.234021442552742,
          "Target dataset": "good1"
         },
         {
          "Dataset / KE (eV)": "good1 / 7.2",
          "Phase shift diff (deg)": 319.12740040042,
          "Phase shift diff (rad)": 5.5698238703176,
          "Photoelectron KE (eV)": 7.212611200000001,
          "Photon energy (eV)": 15.9,
          "Polar ang (deg)": 129,
          "Polar ang (rad)": 2.251474735072685,
          "Target dataset": "good1"
         },
         {
          "Dataset / KE (eV)": "good1 / 7.2",
          "Phase shift diff (deg)": 312.3817630046496,
          "Phase shift diff (rad)": 5.45209028761575,
          "Photoelectron KE (eV)": 7.212611200000001,
          "Photon energy (eV)": 15.9,
          "Polar ang (deg)": 130,
          "Polar ang (rad)": 2.2689280275926285,
          "Target dataset": "good1"
         },
         {
          "Dataset / KE (eV)": "good1 / 7.2",
          "Phase shift diff (deg)": 305.7519846283009,
          "Phase shift diff (rad)": 5.33637882627094,
          "Photoelectron KE (eV)": 7.212611200000001,
          "Photon energy (eV)": 15.9,
          "Polar ang (deg)": 131,
          "Polar ang (rad)": 2.2863813201125716,
          "Target dataset": "good1"
         },
         {
          "Dataset / KE (eV)": "good1 / 7.2",
          "Phase shift diff (deg)": 299.4115792486751,
          "Phase shift diff (rad)": 5.22571787648531,
          "Photoelectron KE (eV)": 7.212611200000001,
          "Photon energy (eV)": 15.9,
          "Polar ang (deg)": 132,
          "Polar ang (rad)": 2.3038346126325147,
          "Target dataset": "good1"
         },
         {
          "Dataset / KE (eV)": "good1 / 7.2",
          "Phase shift diff (deg)": 293.4914374585686,
          "Phase shift diff (rad)": 5.12239191006304,
          "Photoelectron KE (eV)": 7.212611200000001,
          "Photon energy (eV)": 15.9,
          "Polar ang (deg)": 133,
          "Polar ang (rad)": 2.321287905152458,
          "Target dataset": "good1"
         },
         {
          "Dataset / KE (eV)": "good1 / 7.2",
          "Phase shift diff (deg)": 288.07004331649364,
          "Phase shift diff (rad)": 5.0277707322355,
          "Photoelectron KE (eV)": 7.212611200000001,
          "Photon energy (eV)": 15.9,
          "Polar ang (deg)": 134,
          "Polar ang (rad)": 2.3387411976724017,
          "Target dataset": "good1"
         },
         {
          "Dataset / KE (eV)": "good1 / 7.2",
          "Phase shift diff (deg)": 283.17717245758325,
          "Phase shift diff (rad)": 4.94237402587263,
          "Photoelectron KE (eV)": 7.212611200000001,
          "Photon energy (eV)": 15.9,
          "Polar ang (deg)": 135,
          "Polar ang (rad)": 2.356194490192345,
          "Target dataset": "good1"
         },
         {
          "Dataset / KE (eV)": "good1 / 7.2",
          "Phase shift diff (deg)": 278.805406886279,
          "Phase shift diff (rad)": 4.86607232252804,
          "Photoelectron KE (eV)": 7.212611200000001,
          "Photon energy (eV)": 15.9,
          "Polar ang (deg)": 136,
          "Polar ang (rad)": 2.373647782712288,
          "Target dataset": "good1"
         },
         {
          "Dataset / KE (eV)": "good1 / 7.2",
          "Phase shift diff (deg)": 274.9234376955031,
          "Phase shift diff (rad)": 4.79831917868802,
          "Photoelectron KE (eV)": 7.212611200000001,
          "Photon energy (eV)": 15.9,
          "Polar ang (deg)": 137,
          "Polar ang (rad)": 2.3911010752322315,
          "Target dataset": "good1"
         },
         {
          "Dataset / KE (eV)": "good1 / 7.2",
          "Phase shift diff (deg)": 271.48741641254543,
          "Phase shift diff (rad)": 4.73834929413181,
          "Photoelectron KE (eV)": 7.212611200000001,
          "Photon energy (eV)": 15.9,
          "Polar ang (deg)": 138,
          "Polar ang (rad)": 2.408554367752175,
          "Target dataset": "good1"
         },
         {
          "Dataset / KE (eV)": "good1 / 7.2",
          "Phase shift diff (deg)": 268.44905875121566,
          "Phase shift diff (rad)": 4.68531994908841,
          "Photoelectron KE (eV)": 7.212611200000001,
          "Photon energy (eV)": 15.9,
          "Polar ang (deg)": 139,
          "Polar ang (rad)": 2.426007660272118,
          "Target dataset": "good1"
         },
         {
          "Dataset / KE (eV)": "good1 / 7.2",
          "Phase shift diff (deg)": 265.7606908021731,
          "Phase shift diff (rad)": 4.63839907687253,
          "Photoelectron KE (eV)": 7.212611200000001,
          "Photon energy (eV)": 15.9,
          "Polar ang (deg)": 140,
          "Polar ang (rad)": 2.443460952792061,
          "Target dataset": "good1"
         },
         {
          "Dataset / KE (eV)": "good1 / 7.2",
          "Phase shift diff (deg)": 263.37798851996575,
          "Phase shift diff (rad)": 4.59681307695323,
          "Photoelectron KE (eV)": 7.212611200000001,
          "Photon energy (eV)": 15.9,
          "Polar ang (deg)": 141,
          "Polar ang (rad)": 2.4609142453120048,
          "Target dataset": "good1"
         },
         {
          "Dataset / KE (eV)": "good1 / 7.2",
          "Phase shift diff (deg)": 261.26119274860383,
          "Phase shift diff (rad)": 4.55986802115067,
          "Photoelectron KE (eV)": 7.212611200000001,
          "Photon energy (eV)": 15.9,
          "Polar ang (deg)": 142,
          "Polar ang (rad)": 2.478367537831948,
          "Target dataset": "good1"
         },
         {
          "Dataset / KE (eV)": "good1 / 7.2",
          "Phase shift diff (deg)": 259.3754129002771,
          "Phase shift diff (rad)": 4.52695495382961,
          "Photoelectron KE (eV)": 7.212611200000001,
          "Photon energy (eV)": 15.9,
          "Polar ang (deg)": 143,
          "Polar ang (rad)": 2.495820830351891,
          "Target dataset": "good1"
         },
         {
          "Dataset / KE (eV)": "good1 / 7.2",
          "Phase shift diff (deg)": 257.69043683024813,
          "Phase shift diff (rad)": 4.49754657359029,
          "Photoelectron KE (eV)": 7.212611200000001,
          "Photon energy (eV)": 15.9,
          "Polar ang (deg)": 144,
          "Polar ang (rad)": 2.5132741228718345,
          "Target dataset": "good1"
         },
         {
          "Dataset / KE (eV)": "good1 / 7.2",
          "Phase shift diff (deg)": 256.180306712938,
          "Phase shift diff (rad)": 4.4711898309097,
          "Photoelectron KE (eV)": 7.212611200000001,
          "Photon energy (eV)": 15.9,
          "Polar ang (deg)": 145,
          "Polar ang (rad)": 2.530727415391778,
          "Target dataset": "good1"
         },
         {
          "Dataset / KE (eV)": "good1 / 7.2",
          "Phase shift diff (deg)": 254.8228114278285,
          "Phase shift diff (rad)": 4.44749706860424,
          "Photoelectron KE (eV)": 7.212611200000001,
          "Photon energy (eV)": 15.9,
          "Polar ang (deg)": 146,
          "Polar ang (rad)": 2.548180707911721,
          "Target dataset": "good1"
         },
         {
          "Dataset / KE (eV)": "good1 / 7.2",
          "Phase shift diff (deg)": 253.59897656225385,
          "Phase shift diff (rad)": 4.42613712069926,
          "Photoelectron KE (eV)": 7.212611200000001,
          "Photon energy (eV)": 15.9,
          "Polar ang (deg)": 147,
          "Polar ang (rad)": 2.5656340004316642,
          "Target dataset": "good1"
         },
         {
          "Dataset / KE (eV)": "good1 / 7.2",
          "Phase shift diff (deg)": 252.49259169419557,
          "Phase shift diff (rad)": 4.4068270619574,
          "Photoelectron KE (eV)": 7.212611200000001,
          "Photon energy (eV)": 15.9,
          "Polar ang (deg)": 148,
          "Polar ang (rad)": 2.5830872929516078,
          "Target dataset": "good1"
         },
         {
          "Dataset / KE (eV)": "good1 / 7.2",
          "Phase shift diff (deg)": 251.4897910616564,
          "Phase shift diff (rad)": 4.38932488917851,
          "Photoelectron KE (eV)": 7.212611200000001,
          "Photon energy (eV)": 15.9,
          "Polar ang (deg)": 149,
          "Polar ang (rad)": 2.600540585471551,
          "Target dataset": "good1"
         },
         {
          "Dataset / KE (eV)": "good1 / 7.2",
          "Phase shift diff (deg)": 250.57869109915708,
          "Phase shift diff (rad)": 4.3734231950181,
          "Photoelectron KE (eV)": 7.212611200000001,
          "Photon energy (eV)": 15.9,
          "Polar ang (deg)": 150,
          "Polar ang (rad)": 2.6179938779914944,
          "Target dataset": "good1"
         },
         {
          "Dataset / KE (eV)": "good1 / 7.2",
          "Phase shift diff (deg)": 249.74908200738858,
          "Phase shift diff (rad)": 4.35894378486226,
          "Photoelectron KE (eV)": 7.212611200000001,
          "Photon energy (eV)": 15.9,
          "Polar ang (deg)": 151,
          "Polar ang (rad)": 2.6354471705114375,
          "Target dataset": "good1"
         },
         {
          "Dataset / KE (eV)": "good1 / 7.2",
          "Phase shift diff (deg)": 248.99216777606378,
          "Phase shift diff (rad)": 4.34573313937044,
          "Photoelectron KE (eV)": 7.212611200000001,
          "Photon energy (eV)": 15.9,
          "Polar ang (deg)": 152,
          "Polar ang (rad)": 2.652900463031381,
          "Target dataset": "good1"
         },
         {
          "Dataset / KE (eV)": "good1 / 7.2",
          "Phase shift diff (deg)": 248.30034824258416,
          "Phase shift diff (rad)": 4.33365861068161,
          "Photoelectron KE (eV)": 7.212611200000001,
          "Photon energy (eV)": 15.9,
          "Polar ang (deg)": 153,
          "Polar ang (rad)": 2.670353755551324,
          "Target dataset": "good1"
         },
         {
          "Dataset / KE (eV)": "good1 / 7.2",
          "Phase shift diff (deg)": 247.66703689962245,
          "Phase shift diff (rad)": 4.3226052425567,
          "Photoelectron KE (eV)": 7.212611200000001,
          "Photon energy (eV)": 15.9,
          "Polar ang (deg)": 154,
          "Polar ang (rad)": 2.6878070480712672,
          "Target dataset": "good1"
         },
         {
          "Dataset / KE (eV)": "good1 / 7.2",
          "Phase shift diff (deg)": 247.0865087350287,
          "Phase shift diff (rad)": 4.31247311468398,
          "Photoelectron KE (eV)": 7.212611200000001,
          "Photon energy (eV)": 15.9,
          "Polar ang (deg)": 155,
          "Polar ang (rad)": 2.705260340591211,
          "Target dataset": "good1"
         },
         {
          "Dataset / KE (eV)": "good1 / 7.2",
          "Phase shift diff (deg)": 246.55377311775388,
          "Phase shift diff (rad)": 4.30317512411989,
          "Photoelectron KE (eV)": 7.212611200000001,
          "Photon energy (eV)": 15.9,
          "Polar ang (deg)": 156,
          "Polar ang (rad)": 2.7227136331111543,
          "Target dataset": "good1"
         },
         {
          "Dataset / KE (eV)": "good1 / 7.2",
          "Phase shift diff (deg)": 246.06446748420066,
          "Phase shift diff (rad)": 4.29463512976583,
          "Photoelectron KE (eV)": 7.212611200000001,
          "Photon energy (eV)": 15.9,
          "Polar ang (deg)": 157,
          "Polar ang (rad)": 2.7401669256310974,
          "Target dataset": "good1"
         },
         {
          "Dataset / KE (eV)": "good1 / 7.2",
          "Phase shift diff (deg)": 245.61476826617627,
          "Phase shift diff (rad)": 4.28678639776766,
          "Photoelectron KE (eV)": 7.212611200000001,
          "Photon energy (eV)": 15.9,
          "Polar ang (deg)": 158,
          "Polar ang (rad)": 2.7576202181510405,
          "Target dataset": "good1"
         },
         {
          "Dataset / KE (eV)": "good1 / 7.2",
          "Phase shift diff (deg)": 245.20131610454806,
          "Phase shift diff (rad)": 4.27957029624776,
          "Photoelectron KE (eV)": 7.212611200000001,
          "Photon energy (eV)": 15.9,
          "Polar ang (deg)": 159,
          "Polar ang (rad)": 2.7750735106709836,
          "Target dataset": "good1"
         },
         {
          "Dataset / KE (eV)": "good1 / 7.2",
          "Phase shift diff (deg)": 244.8211529073199,
          "Phase shift diff (rad)": 4.27293519676122,
          "Photoelectron KE (eV)": 7.212611200000001,
          "Photon energy (eV)": 15.9,
          "Polar ang (deg)": 160,
          "Polar ang (rad)": 2.792526803190927,
          "Target dataset": "good1"
         },
         {
          "Dataset / KE (eV)": "good1 / 7.2",
          "Phase shift diff (deg)": 244.47166874366593,
          "Phase shift diff (rad)": 4.26683554742188,
          "Photoelectron KE (eV)": 7.212611200000001,
          "Photon energy (eV)": 15.9,
          "Polar ang (deg)": 161,
          "Polar ang (rad)": 2.8099800957108707,
          "Target dataset": "good1"
         },
         {
          "Dataset / KE (eV)": "good1 / 7.2",
          "Phase shift diff (deg)": 244.15055692182398,
          "Phase shift diff (rad)": 4.26123108886366,
          "Photoelectron KE (eV)": 7.212611200000001,
          "Photon energy (eV)": 15.9,
          "Polar ang (deg)": 162,
          "Polar ang (rad)": 2.827433388230814,
          "Target dataset": "good1"
         },
         {
          "Dataset / KE (eV)": "good1 / 7.2",
          "Phase shift diff (deg)": 243.8557758951895,
          "Phase shift diff (rad)": 4.25608618937648,
          "Photoelectron KE (eV)": 7.212611200000001,
          "Photon energy (eV)": 15.9,
          "Polar ang (deg)": 163,
          "Polar ang (rad)": 2.844886680750757,
          "Target dataset": "good1"
         },
         {
          "Dataset / KE (eV)": "good1 / 7.2",
          "Phase shift diff (deg)": 243.58551688038762,
          "Phase shift diff (rad)": 4.25136927973499,
          "Photoelectron KE (eV)": 7.212611200000001,
          "Photon energy (eV)": 15.9,
          "Polar ang (deg)": 164,
          "Polar ang (rad)": 2.8623399732707004,
          "Target dataset": "good1"
         },
         {
          "Dataset / KE (eV)": "good1 / 7.2",
          "Phase shift diff (deg)": 243.33817627044323,
          "Phase shift diff (rad)": 4.24705237171757,
          "Photoelectron KE (eV)": 7.212611200000001,
          "Photon energy (eV)": 15.9,
          "Polar ang (deg)": 165,
          "Polar ang (rad)": 2.8797932657906435,
          "Target dataset": "good1"
         },
         {
          "Dataset / KE (eV)": "good1 / 7.2",
          "Phase shift diff (deg)": 243.11233208602036,
          "Phase shift diff (rad)": 4.24311064710291,
          "Photoelectron KE (eV)": 7.212611200000001,
          "Photon energy (eV)": 15.9,
          "Polar ang (deg)": 166,
          "Polar ang (rad)": 2.897246558310587,
          "Target dataset": "good1"
         },
         {
          "Dataset / KE (eV)": "good1 / 7.2",
          "Phase shift diff (deg)": 242.9067238406146,
          "Phase shift diff (rad)": 4.23952210625133,
          "Photoelectron KE (eV)": 7.212611200000001,
          "Photon energy (eV)": 15.9,
          "Polar ang (deg)": 167,
          "Polar ang (rad)": 2.91469985083053,
          "Target dataset": "good1"
         },
         {
          "Dataset / KE (eV)": "good1 / 7.2",
          "Phase shift diff (deg)": 242.72023530373528,
          "Phase shift diff (rad)": 4.23626726726556,
          "Photoelectron KE (eV)": 7.212611200000001,
          "Photon energy (eV)": 15.9,
          "Polar ang (deg)": 168,
          "Polar ang (rad)": 2.9321531433504737,
          "Target dataset": "good1"
         },
         {
          "Dataset / KE (eV)": "good1 / 7.2",
          "Phase shift diff (deg)": 242.55187973366955,
          "Phase shift diff (rad)": 4.23332890825384,
          "Photoelectron KE (eV)": 7.212611200000001,
          "Photon energy (eV)": 15.9,
          "Polar ang (deg)": 169,
          "Polar ang (rad)": 2.949606435870417,
          "Target dataset": "good1"
         },
         {
          "Dataset / KE (eV)": "good1 / 7.2",
          "Phase shift diff (deg)": 242.4007872260629,
          "Phase shift diff (rad)": 4.23069184652101,
          "Photoelectron KE (eV)": 7.212611200000001,
          "Photon energy (eV)": 15.9,
          "Polar ang (deg)": 170,
          "Polar ang (rad)": 2.96705972839036,
          "Target dataset": "good1"
         },
         {
          "Dataset / KE (eV)": "good1 / 7.2",
          "Phase shift diff (deg)": 242.26619388318872,
          "Phase shift diff (rad)": 4.22834274953659,
          "Photoelectron KE (eV)": 7.212611200000001,
          "Photon energy (eV)": 15.9,
          "Polar ang (deg)": 171,
          "Polar ang (rad)": 2.9845130209103035,
          "Target dataset": "good1"
         },
         {
          "Dataset / KE (eV)": "good1 / 7.2",
          "Phase shift diff (deg)": 242.14743255977302,
          "Phase shift diff (rad)": 4.22626997341896,
          "Photoelectron KE (eV)": 7.212611200000001,
          "Photon energy (eV)": 15.9,
          "Polar ang (deg)": 172,
          "Polar ang (rad)": 3.001966313430247,
          "Target dataset": "good1"
         },
         {
          "Dataset / KE (eV)": "good1 / 7.2",
          "Phase shift diff (deg)": 242.04392498215086,
          "Phase shift diff (rad)": 4.22446342538869,
          "Photoelectron KE (eV)": 7.212611200000001,
          "Photon energy (eV)": 15.9,
          "Polar ang (deg)": 173,
          "Polar ang (rad)": 3.01941960595019,
          "Target dataset": "good1"
         },
         {
          "Dataset / KE (eV)": "good1 / 7.2",
          "Phase shift diff (deg)": 241.95517507246709,
          "Phase shift diff (rad)": 4.22291444725386,
          "Photoelectron KE (eV)": 7.212611200000001,
          "Photon energy (eV)": 15.9,
          "Polar ang (deg)": 174,
          "Polar ang (rad)": 3.036872898470133,
          "Target dataset": "good1"
         },
         {
          "Dataset / KE (eV)": "good1 / 7.2",
          "Phase shift diff (deg)": 241.88076333917857,
          "Phase shift diff (rad)": 4.22161571750586,
          "Photoelectron KE (eV)": 7.212611200000001,
          "Photon energy (eV)": 15.9,
          "Polar ang (deg)": 175,
          "Polar ang (rad)": 3.0543261909900767,
          "Target dataset": "good1"
         },
         {
          "Dataset / KE (eV)": "good1 / 7.2",
          "Phase shift diff (deg)": 241.8203422194474,
          "Phase shift diff (rad)": 4.22056117002881,
          "Photoelectron KE (eV)": 7.212611200000001,
          "Photon energy (eV)": 15.9,
          "Polar ang (deg)": 176,
          "Polar ang (rad)": 3.07177948351002,
          "Target dataset": "good1"
         },
         {
          "Dataset / KE (eV)": "good1 / 7.2",
          "Phase shift diff (deg)": 241.77363228082308,
          "Phase shift diff (rad)": 4.21974592780641,
          "Photoelectron KE (eV)": 7.212611200000001,
          "Photon energy (eV)": 15.9,
          "Polar ang (deg)": 177,
          "Polar ang (rad)": 3.089232776029963,
          "Target dataset": "good1"
         },
         {
          "Dataset / KE (eV)": "good1 / 7.2",
          "Phase shift diff (deg)": 241.74041920771793,
          "Phase shift diff (rad)": 4.21916625032602,
          "Photoelectron KE (eV)": 7.212611200000001,
          "Photon energy (eV)": 15.9,
          "Polar ang (deg)": 178,
          "Polar ang (rad)": 3.1066860685499065,
          "Target dataset": "good1"
         },
         {
          "Dataset / KE (eV)": "good1 / 7.2",
          "Phase shift diff (deg)": 241.72055151496122,
          "Phase shift diff (rad)": 4.21881949367264,
          "Photoelectron KE (eV)": 7.212611200000001,
          "Photon energy (eV)": 15.9,
          "Polar ang (deg)": 179,
          "Polar ang (rad)": 3.12413936106985,
          "Target dataset": "good1"
         },
         {
          "Dataset / KE (eV)": "good1 / 7.2",
          "Phase shift diff (deg)": 241.71393894441735,
          "Phase shift diff (rad)": 4.21870408254463,
          "Photoelectron KE (eV)": 7.212611200000001,
          "Photon energy (eV)": 15.9,
          "Polar ang (deg)": 180,
          "Polar ang (rad)": 3.141592653589793,
          "Target dataset": "good1"
         },
         {
          "Dataset / KE (eV)": "good2 / 4.0",
          "Phase shift diff (deg)": 59.30485444502954,
          "Phase shift diff (rad)": 1.03506497248176,
          "Photoelectron KE (eV)": 4.012611200000002,
          "Photon energy (eV)": 14.3,
          "Polar ang (deg)": 0,
          "Polar ang (rad)": 0,
          "Target dataset": "good2"
         },
         {
          "Dataset / KE (eV)": "good2 / 4.0",
          "Phase shift diff (deg)": 59.32697929981719,
          "Phase shift diff (rad)": 1.03545112404433,
          "Photoelectron KE (eV)": 4.012611200000002,
          "Photon energy (eV)": 14.3,
          "Polar ang (deg)": 1,
          "Polar ang (rad)": 0.017453292519943295,
          "Target dataset": "good2"
         },
         {
          "Dataset / KE (eV)": "good2 / 4.0",
          "Phase shift diff (deg)": 59.39339942578226,
          "Phase shift diff (rad)": 1.03661037393201,
          "Photoelectron KE (eV)": 4.012611200000002,
          "Photon energy (eV)": 14.3,
          "Polar ang (deg)": 2,
          "Polar ang (rad)": 0.03490658503988659,
          "Target dataset": "good2"
         },
         {
          "Dataset / KE (eV)": "good2 / 4.0",
          "Phase shift diff (deg)": 59.50425129502293,
          "Phase shift diff (rad)": 1.03854510403225,
          "Photoelectron KE (eV)": 4.012611200000002,
          "Photon energy (eV)": 14.3,
          "Polar ang (deg)": 3,
          "Polar ang (rad)": 0.05235987755982988,
          "Target dataset": "good2"
         },
         {
          "Dataset / KE (eV)": "good2 / 4.0",
          "Phase shift diff (deg)": 59.65976164204077,
          "Phase shift diff (rad)": 1.04125927160863,
          "Photoelectron KE (eV)": 4.012611200000002,
          "Photon energy (eV)": 14.3,
          "Polar ang (deg)": 4,
          "Polar ang (rad)": 0.06981317007977318,
          "Target dataset": "good2"
         },
         {
          "Dataset / KE (eV)": "good2 / 4.0",
          "Phase shift diff (deg)": 59.86024634902266,
          "Phase shift diff (rad)": 1.04475838984536,
          "Photoelectron KE (eV)": 4.012611200000002,
          "Photon energy (eV)": 14.3,
          "Polar ang (deg)": 5,
          "Polar ang (rad)": 0.08726646259971647,
          "Target dataset": "good2"
         },
         {
          "Dataset / KE (eV)": "good2 / 4.0",
          "Phase shift diff (deg)": 60.10610881259488,
          "Phase shift diff (rad)": 1.04904949934176,
          "Photoelectron KE (eV)": 4.012611200000002,
          "Photon energy (eV)": 14.3,
          "Polar ang (deg)": 6,
          "Polar ang (rad)": 0.10471975511965977,
          "Target dataset": "good2"
         },
         {
          "Dataset / KE (eV)": "good2 / 4.0",
          "Phase shift diff (deg)": 60.39783771847393,
          "Phase shift diff (rad)": 1.05414112927259,
          "Photoelectron KE (eV)": 4.012611200000002,
          "Photon energy (eV)": 14.3,
          "Polar ang (deg)": 7,
          "Polar ang (rad)": 0.12217304763960307,
          "Target dataset": "good2"
         },
         {
          "Dataset / KE (eV)": "good2 / 4.0",
          "Phase shift diff (deg)": 60.73600412799041,
          "Phase shift diff (rad)": 1.0600432465383,
          "Photoelectron KE (eV)": 4.012611200000002,
          "Photon energy (eV)": 14.3,
          "Polar ang (deg)": 8,
          "Polar ang (rad)": 0.13962634015954636,
          "Target dataset": "good2"
         },
         {
          "Dataset / KE (eV)": "good2 / 4.0",
          "Phase shift diff (deg)": 61.12125775743405,
          "Phase shift diff (rad)": 1.06676719082735,
          "Photoelectron KE (eV)": 4.012611200000002,
          "Photon energy (eV)": 14.3,
          "Polar ang (deg)": 9,
          "Polar ang (rad)": 0.15707963267948966,
          "Target dataset": "good2"
         },
         {
          "Dataset / KE (eV)": "good2 / 4.0",
          "Phase shift diff (deg)": 61.554322307607805,
          "Phase shift diff (rad)": 1.07432559310155,
          "Photoelectron KE (eV)": 4.012611200000002,
          "Photon energy (eV)": 14.3,
          "Polar ang (deg)": 10,
          "Polar ang (rad)": 0.17453292519943295,
          "Target dataset": "good2"
         },
         {
          "Dataset / KE (eV)": "good2 / 4.0",
          "Phase shift diff (deg)": 62.035989676633676,
          "Phase shift diff (rad)": 1.08273227459047,
          "Photoelectron KE (eV)": 4.012611200000002,
          "Photon energy (eV)": 14.3,
          "Polar ang (deg)": 11,
          "Polar ang (rad)": 0.19198621771937624,
          "Target dataset": "good2"
         },
         {
          "Dataset / KE (eV)": "good2 / 4.0",
          "Phase shift diff (deg)": 62.56711286493225,
          "Phase shift diff (rad)": 1.09200212295997,
          "Photoelectron KE (eV)": 4.012611200000002,
          "Photon energy (eV)": 14.3,
          "Polar ang (deg)": 12,
          "Polar ang (rad)": 0.20943951023931953,
          "Target dataset": "good2"
         },
         {
          "Dataset / KE (eV)": "good2 / 4.0",
          "Phase shift diff (deg)": 63.14859735814596,
          "Phase shift diff (rad)": 1.10215094191584,
          "Photoelectron KE (eV)": 4.012611200000002,
          "Photon energy (eV)": 14.3,
          "Polar ang (deg)": 13,
          "Polar ang (rad)": 0.22689280275926282,
          "Target dataset": "good2"
         },
         {
          "Dataset / KE (eV)": "good2 / 4.0",
          "Phase shift diff (deg)": 63.781390752501224,
          "Phase shift diff (rad)": 1.11319527013221,
          "Photoelectron KE (eV)": 4.012611200000002,
          "Photon energy (eV)": 14.3,
          "Polar ang (deg)": 14,
          "Polar ang (rad)": 0.24434609527920614,
          "Target dataset": "good2"
         },
         {
          "Dataset / KE (eV)": "good2 / 4.0",
          "Phase shift diff (deg)": 64.46647036910979,
          "Phase shift diff (rad)": 1.12515216508033,
          "Photoelectron KE (eV)": 4.012611200000002,
          "Photon energy (eV)": 14.3,
          "Polar ang (deg)": 15,
          "Polar ang (rad)": 0.2617993877991494,
          "Target dataset": "good2"
         },
         {
          "Dataset / KE (eV)": "good2 / 4.0",
          "Phase shift diff (deg)": 65.20482859189696,
          "Phase shift diff (rad)": 1.13803894712714,
          "Photoelectron KE (eV)": 4.012611200000002,
          "Photon energy (eV)": 14.3,
          "Polar ang (deg)": 16,
          "Polar ang (rad)": 0.2792526803190927,
          "Target dataset": "good2"
         },
         {
          "Dataset / KE (eV)": "good2 / 4.0",
          "Phase shift diff (deg)": 65.99745566026658,
          "Phase shift diff (rad)": 1.15187289921062,
          "Photoelectron KE (eV)": 4.012611200000002,
          "Photon energy (eV)": 14.3,
          "Polar ang (deg)": 17,
          "Polar ang (rad)": 0.296705972839036,
          "Target dataset": "good2"
         },
         {
          "Dataset / KE (eV)": "good2 / 4.0",
          "Phase shift diff (deg)": 66.84531965545492,
          "Phase shift diff (rad)": 1.16667091753577,
          "Photoelectron KE (eV)": 4.012611200000002,
          "Photon energy (eV)": 14.3,
          "Polar ang (deg)": 18,
          "Polar ang (rad)": 0.3141592653589793,
          "Target dataset": "good2"
         },
         {
          "Dataset / KE (eV)": "good2 / 4.0",
          "Phase shift diff (deg)": 67.74934344379577,
          "Phase shift diff (rad)": 1.18244910915867,
          "Photoelectron KE (eV)": 4.012611200000002,
          "Photon energy (eV)": 14.3,
          "Polar ang (deg)": 19,
          "Polar ang (rad)": 0.33161255787892263,
          "Target dataset": "good2"
         },
         {
          "Dataset / KE (eV)": "good2 / 4.0",
          "Phase shift diff (deg)": 68.71037838460614,
          "Phase shift diff (rad)": 1.19922233310252,
          "Photoelectron KE (eV)": 4.012611200000002,
          "Photon energy (eV)": 14.3,
          "Polar ang (deg)": 20,
          "Polar ang (rad)": 0.3490658503988659,
          "Target dataset": "good2"
         },
         {
          "Dataset / KE (eV)": "good2 / 4.0",
          "Phase shift diff (deg)": 69.72917468027482,
          "Phase shift diff (rad)": 1.21700368286906,
          "Photoelectron KE (eV)": 4.012611200000002,
          "Photon energy (eV)": 14.3,
          "Polar ang (deg)": 21,
          "Polar ang (rad)": 0.3665191429188092,
          "Target dataset": "good2"
         },
         {
          "Dataset / KE (eV)": "good2 / 4.0",
          "Phase shift diff (deg)": 70.80634834701006,
          "Phase shift diff (rad)": 1.23580390996937,
          "Photoelectron KE (eV)": 4.012611200000002,
          "Photon energy (eV)": 14.3,
          "Polar ang (deg)": 22,
          "Polar ang (rad)": 0.3839724354387525,
          "Target dataset": "good2"
         },
         {
          "Dataset / KE (eV)": "good2 / 4.0",
          "Phase shift diff (deg)": 71.94234492091178,
          "Phase shift diff (rad)": 1.25563079047533,
          "Photoelectron KE (eV)": 4.012611200000002,
          "Photon energy (eV)": 14.3,
          "Polar ang (deg)": 23,
          "Polar ang (rad)": 0.40142572795869574,
          "Target dataset": "good2"
         },
         {
          "Dataset / KE (eV)": "good2 / 4.0",
          "Phase shift diff (deg)": 73.13740018912245,
          "Phase shift diff (rad)": 1.27648843964891,
          "Photoelectron KE (eV)": 4.012611200000002,
          "Photon energy (eV)": 14.3,
          "Polar ang (deg)": 24,
          "Polar ang (rad)": 0.41887902047863906,
          "Target dataset": "good2"
         },
         {
          "Dataset / KE (eV)": "good2 / 4.0",
          "Phase shift diff (deg)": 74.39149845156543,
          "Phase shift diff (rad)": 1.29837658347208,
          "Photoelectron KE (eV)": 4.012611200000002,
          "Photon energy (eV)": 14.3,
          "Polar ang (deg)": 25,
          "Polar ang (rad)": 0.4363323129985824,
          "Target dataset": "good2"
         },
         {
          "Dataset / KE (eV)": "good2 / 4.0",
          "Phase shift diff (deg)": 75.70432907292285,
          "Phase shift diff (rad)": 1.32128980033577,
          "Photoelectron KE (eV)": 4.012611200000002,
          "Photon energy (eV)": 14.3,
          "Polar ang (deg)": 26,
          "Polar ang (rad)": 0.45378560551852565,
          "Target dataset": "good2"
         },
         {
          "Dataset / KE (eV)": "good2 / 4.0",
          "Phase shift diff (deg)": 77.07524237039664,
          "Phase shift diff (rad)": 1.34521675113606,
          "Photoelectron KE (eV)": 4.012611200000002,
          "Photon energy (eV)": 14.3,
          "Polar ang (deg)": 27,
          "Polar ang (rad)": 0.47123889803846897,
          "Target dataset": "good2"
         },
         {
          "Dataset / KE (eV)": "good2 / 4.0",
          "Phase shift diff (deg)": 78.5032061883921,
          "Phase shift diff (rad)": 1.37013942135943,
          "Photoelectron KE (eV)": 4.012611200000002,
          "Photon energy (eV)": 14.3,
          "Polar ang (deg)": 28,
          "Polar ang (rad)": 0.4886921905584123,
          "Target dataset": "good2"
         },
         {
          "Dataset / KE (eV)": "good2 / 4.0",
          "Phase shift diff (deg)": 79.98676481600823,
          "Phase shift diff (rad)": 1.3960324040577,
          "Photoelectron KE (eV)": 4.012611200000002,
          "Photon energy (eV)": 14.3,
          "Polar ang (deg)": 29,
          "Polar ang (rad)": 0.5061454830783556,
          "Target dataset": "good2"
         },
         {
          "Dataset / KE (eV)": "good2 / 4.0",
          "Phase shift diff (deg)": 81.52400218059732,
          "Phase shift diff (rad)": 1.42286225745446,
          "Photoelectron KE (eV)": 4.012611200000002,
          "Photon energy (eV)": 14.3,
          "Polar ang (deg)": 30,
          "Polar ang (rad)": 0.5235987755982988,
          "Target dataset": "good2"
         },
         {
          "Dataset / KE (eV)": "good2 / 4.0",
          "Phase shift diff (deg)": 83.11251146861045,
          "Phase shift diff (rad)": 1.4505869747288,
          "Photoelectron KE (eV)": 4.012611200000002,
          "Photon energy (eV)": 14.3,
          "Polar ang (deg)": 31,
          "Polar ang (rad)": 0.5410520681182421,
          "Target dataset": "good2"
         },
         {
          "Dataset / KE (eV)": "good2 / 4.0",
          "Phase shift diff (deg)": 84.74937344070801,
          "Phase shift diff (rad)": 1.47915560554259,
          "Photoelectron KE (eV)": 4.012611200000002,
          "Photon energy (eV)": 14.3,
          "Polar ang (deg)": 32,
          "Polar ang (rad)": 0.5585053606381855,
          "Target dataset": "good2"
         },
         {
          "Dataset / KE (eV)": "good2 / 4.0",
          "Phase shift diff (deg)": 86.43114568899755,
          "Phase shift diff (rad)": 1.50850806854391,
          "Photoelectron KE (eV)": 4.012611200000002,
          "Photon energy (eV)": 14.3,
          "Polar ang (deg)": 33,
          "Polar ang (rad)": 0.5759586531581287,
          "Target dataset": "good2"
         },
         {
          "Dataset / KE (eV)": "good2 / 4.0",
          "Phase shift diff (deg)": 88.15386489022293,
          "Phase shift diff (rad)": 1.53857519069262,
          "Photoelectron KE (eV)": 4.012611200000002,
          "Photon energy (eV)": 14.3,
          "Polar ang (deg)": 34,
          "Polar ang (rad)": 0.593411945678072,
          "Target dataset": "good2"
         },
         {
          "Dataset / KE (eV)": "good2 / 4.0",
          "Phase shift diff (deg)": 89.91306372075454,
          "Phase shift diff (rad)": 1.56927900248263,
          "Photoelectron KE (eV)": 4.012611200000002,
          "Photon energy (eV)": 14.3,
          "Polar ang (deg)": 35,
          "Polar ang (rad)": 0.6108652381980153,
          "Target dataset": "good2"
         },
         {
          "Dataset / KE (eV)": "good2 / 4.0",
          "Phase shift diff (deg)": 91.70380350970764,
          "Phase shift diff (rad)": 1.60053330784633,
          "Photoelectron KE (eV)": 4.012611200000002,
          "Photon energy (eV)": 14.3,
          "Polar ang (deg)": 36,
          "Polar ang (rad)": 0.6283185307179586,
          "Target dataset": "good2"
         },
         {
          "Dataset / KE (eV)": "good2 / 4.0",
          "Phase shift diff (deg)": 93.52072293674264,
          "Phase shift diff (rad)": 1.63224453409154,
          "Photoelectron KE (eV)": 4.012611200000002,
          "Photon energy (eV)": 14.3,
          "Polar ang (deg)": 37,
          "Polar ang (rad)": 0.6457718232379019,
          "Target dataset": "good2"
         },
         {
          "Dataset / KE (eV)": "good2 / 4.0",
          "Phase shift diff (deg)": 95.35810217497445,
          "Phase shift diff (rad)": 1.66431285140647,
          "Photoelectron KE (eV)": 4.012611200000002,
          "Photon energy (eV)": 14.3,
          "Polar ang (deg)": 38,
          "Polar ang (rad)": 0.6632251157578453,
          "Target dataset": "good2"
         },
         {
          "Dataset / KE (eV)": "good2 / 4.0",
          "Phase shift diff (deg)": 97.20994091022732,
          "Phase shift diff (rad)": 1.6966335345526,
          "Photoelectron KE (eV)": 4.012611200000002,
          "Photon energy (eV)": 14.3,
          "Polar ang (deg)": 39,
          "Polar ang (rad)": 0.6806784082777886,
          "Target dataset": "good2"
         },
         {
          "Dataset / KE (eV)": "good2 / 4.0",
          "Phase shift diff (deg)": 99.07004772323485,
          "Phase shift diff (rad)": 1.72909852287836,
          "Photoelectron KE (eV)": 4.012611200000002,
          "Photon energy (eV)": 14.3,
          "Polar ang (deg)": 40,
          "Polar ang (rad)": 0.6981317007977318,
          "Target dataset": "good2"
         },
         {
          "Dataset / KE (eV)": "good2 / 4.0",
          "Phase shift diff (deg)": 100.93213750355416,
          "Phase shift diff (rad)": 1.76159812051267,
          "Photoelectron KE (eV)": 4.012611200000002,
          "Photon energy (eV)": 14.3,
          "Polar ang (deg)": 41,
          "Polar ang (rad)": 0.7155849933176751,
          "Target dataset": "good2"
         },
         {
          "Dataset / KE (eV)": "good2 / 4.0",
          "Phase shift diff (deg)": 102.78993296094303,
          "Phase shift diff (rad)": 1.7940227680727,
          "Photoelectron KE (eV)": 4.012611200000002,
          "Photon energy (eV)": 14.3,
          "Polar ang (deg)": 42,
          "Polar ang (rad)": 0.7330382858376184,
          "Target dataset": "good2"
         },
         {
          "Dataset / KE (eV)": "good2 / 4.0",
          "Phase shift diff (deg)": 104.63726598705077,
          "Phase shift diff (rad)": 1.82626481175911,
          "Photoelectron KE (eV)": 4.012611200000002,
          "Photon energy (eV)": 14.3,
          "Polar ang (deg)": 43,
          "Polar ang (rad)": 0.7504915783575618,
          "Target dataset": "good2"
         },
         {
          "Dataset / KE (eV)": "good2 / 4.0",
          "Phase shift diff (deg)": 106.4681746317816,
          "Phase shift diff (rad)": 1.85822019591289,
          "Photoelectron KE (eV)": 4.012611200000002,
          "Photon energy (eV)": 14.3,
          "Polar ang (deg)": 44,
          "Polar ang (rad)": 0.767944870877505,
          "Target dataset": "good2"
         },
         {
          "Dataset / KE (eV)": "good2 / 4.0",
          "Phase shift diff (deg)": 108.2769917972417,
          "Phase shift diff (rad)": 1.88979001101676,
          "Photoelectron KE (eV)": 4.012611200000002,
          "Photon energy (eV)": 14.3,
          "Polar ang (deg)": 45,
          "Polar ang (rad)": 0.7853981633974483,
          "Target dataset": "good2"
         },
         {
          "Dataset / KE (eV)": "good2 / 4.0",
          "Phase shift diff (deg)": 110.0584223727576,
          "Phase shift diff (rad)": 1.92088183995521,
          "Photoelectron KE (eV)": 4.012611200000002,
          "Photon energy (eV)": 14.3,
          "Polar ang (deg)": 46,
          "Polar ang (rad)": 0.8028514559173915,
          "Target dataset": "good2"
         },
         {
          "Dataset / KE (eV)": "good2 / 4.0",
          "Phase shift diff (deg)": 111.80760636655165,
          "Phase shift diff (rad)": 1.9514108598701,
          "Photoelectron KE (eV)": 4.012611200000002,
          "Photon energy (eV)": 14.3,
          "Polar ang (deg)": 47,
          "Polar ang (rad)": 0.8203047484373349,
          "Target dataset": "good2"
         },
         {
          "Dataset / KE (eV)": "good2 / 4.0",
          "Phase shift diff (deg)": 113.52016653874584,
          "Phase shift diff (rad)": 1.98130067351341,
          "Photoelectron KE (eV)": 4.012611200000002,
          "Photon energy (eV)": 14.3,
          "Polar ang (deg)": 48,
          "Polar ang (rad)": 0.8377580409572781,
          "Target dataset": "good2"
         },
         {
          "Dataset / KE (eV)": "good2 / 4.0",
          "Phase shift diff (deg)": 115.19224000834153,
          "Phase shift diff (rad)": 2.0104838608931,
          "Photoelectron KE (eV)": 4.012611200000002,
          "Photon energy (eV)": 14.3,
          "Polar ang (deg)": 49,
          "Polar ang (rad)": 0.8552113334772213,
          "Target dataset": "good2"
         },
         {
          "Dataset / KE (eV)": "good2 / 4.0",
          "Phase shift diff (deg)": 116.82049420461291,
          "Phase shift diff (rad)": 2.03890225767745,
          "Photoelectron KE (eV)": 4.012611200000002,
          "Photon energy (eV)": 14.3,
          "Polar ang (deg)": 50,
          "Polar ang (rad)": 0.8726646259971648,
          "Target dataset": "good2"
         },
         {
          "Dataset / KE (eV)": "good2 / 4.0",
          "Phase shift diff (deg)": 118.40212829116064,
          "Phase shift diff (rad)": 2.06650698004948,
          "Photoelectron KE (eV)": 4.012611200000002,
          "Photon energy (eV)": 14.3,
          "Polar ang (deg)": 51,
          "Polar ang (rad)": 0.890117918517108,
          "Target dataset": "good2"
         },
         {
          "Dataset / KE (eV)": "good2 / 4.0",
          "Phase shift diff (deg)": 119.93486176513078,
          "Phase shift diff (rad)": 2.09325822572579,
          "Photoelectron KE (eV)": 4.012611200000002,
          "Photon energy (eV)": 14.3,
          "Polar ang (deg)": 52,
          "Polar ang (rad)": 0.9075712110370513,
          "Target dataset": "good2"
         },
         {
          "Dataset / KE (eV)": "good2 / 4.0",
          "Phase shift diff (deg)": 121.41691230752632,
          "Phase shift diff (rad)": 2.11912488737156,
          "Photoelectron KE (eV)": 4.012611200000002,
          "Photon energy (eV)": 14.3,
          "Polar ang (deg)": 53,
          "Polar ang (rad)": 0.9250245035569946,
          "Target dataset": "good2"
         },
         {
          "Dataset / KE (eV)": "good2 / 4.0",
          "Phase shift diff (deg)": 122.84696513950342,
          "Phase shift diff (rad)": 2.14408401776703,
          "Photoelectron KE (eV)": 4.012611200000002,
          "Photon energy (eV)": 14.3,
          "Polar ang (deg)": 54,
          "Polar ang (rad)": 0.9424777960769379,
          "Target dataset": "good2"
         },
         {
          "Dataset / KE (eV)": "good2 / 4.0",
          "Phase shift diff (deg)": 124.22413614930257,
          "Phase shift diff (rad)": 2.16812018625104,
          "Photoelectron KE (eV)": 4.012611200000002,
          "Photon energy (eV)": 14.3,
          "Polar ang (deg)": 55,
          "Polar ang (rad)": 0.9599310885968813,
          "Target dataset": "good2"
         },
         {
          "Dataset / KE (eV)": "good2 / 4.0",
          "Phase shift diff (deg)": 125.54793092568755,
          "Phase shift diff (rad)": 2.19122476371966,
          "Photoelectron KE (eV)": 4.012611200000002,
          "Photon energy (eV)": 14.3,
          "Polar ang (deg)": 56,
          "Polar ang (rad)": 0.9773843811168246,
          "Target dataset": "good2"
         },
         {
          "Dataset / KE (eV)": "good2 / 4.0",
          "Phase shift diff (deg)": 126.8182016149553,
          "Phase shift diff (rad)": 2.21339516963896,
          "Photoelectron KE (eV)": 4.012611200000002,
          "Photon energy (eV)": 14.3,
          "Polar ang (deg)": 57,
          "Polar ang (rad)": 0.9948376736367678,
          "Target dataset": "good2"
         },
         {
          "Dataset / KE (eV)": "good2 / 4.0",
          "Phase shift diff (deg)": 128.03510323352046,
          "Phase shift diff (rad)": 2.23463410955577,
          "Photoelectron KE (eV)": 4.012611200000002,
          "Photon energy (eV)": 14.3,
          "Polar ang (deg)": 58,
          "Polar ang (rad)": 1.0122909661567112,
          "Target dataset": "good2"
         },
         {
          "Dataset / KE (eV)": "good2 / 4.0",
          "Phase shift diff (deg)": 129.19905076479097,
          "Phase shift diff (rad)": 2.2549488262969,
          "Photoelectron KE (eV)": 4.012611200000002,
          "Photon energy (eV)": 14.3,
          "Polar ang (deg)": 59,
          "Polar ang (rad)": 1.0297442586766543,
          "Target dataset": "good2"
         },
         {
          "Dataset / KE (eV)": "good2 / 4.0",
          "Phase shift diff (deg)": 130.31067806333994,
          "Phase shift diff (rad)": 2.27435038271163,
          "Photoelectron KE (eV)": 4.012611200000002,
          "Photon energy (eV)": 14.3,
          "Polar ang (deg)": 60,
          "Polar ang (rad)": 1.0471975511965976,
          "Target dataset": "good2"
         },
         {
          "Dataset / KE (eV)": "good2 / 4.0",
          "Phase shift diff (deg)": 131.37079930540176,
          "Phase shift diff (rad)": 2.29285298885594,
          "Photoelectron KE (eV)": 4.012611200000002,
          "Photon energy (eV)": 14.3,
          "Polar ang (deg)": 61,
          "Polar ang (rad)": 1.064650843716541,
          "Target dataset": "good2"
         },
         {
          "Dataset / KE (eV)": "good2 / 4.0",
          "Phase shift diff (deg)": 132.38037347226657,
          "Phase shift diff (rad)": 2.31047338211081,
          "Photoelectron KE (eV)": 4.012611200000002,
          "Photon energy (eV)": 14.3,
          "Polar ang (deg)": 62,
          "Polar ang (rad)": 1.0821041362364843,
          "Target dataset": "good2"
         },
         {
          "Dataset / KE (eV)": "good2 / 4.0",
          "Phase shift diff (deg)": 133.34047214109782,
          "Phase shift diff (rad)": 2.32723026502593,
          "Photoelectron KE (eV)": 4.012611200000002,
          "Photon energy (eV)": 14.3,
          "Polar ang (deg)": 63,
          "Polar ang (rad)": 1.0995574287564276,
          "Target dataset": "good2"
         },
         {
          "Dataset / KE (eV)": "good2 / 4.0",
          "Phase shift diff (deg)": 134.25225068331133,
          "Phase shift diff (rad)": 2.34314380263659,
          "Photoelectron KE (eV)": 4.012611200000002,
          "Photon energy (eV)": 14.3,
          "Polar ang (deg)": 64,
          "Polar ang (rad)": 1.117010721276371,
          "Target dataset": "good2"
         },
         {
          "Dataset / KE (eV)": "good2 / 4.0",
          "Phase shift diff (deg)": 135.11692283750435,
          "Phase shift diff (rad)": 2.35823517867757,
          "Photoelectron KE (eV)": 4.012611200000002,
          "Photon energy (eV)": 14.3,
          "Polar ang (deg)": 65,
          "Polar ang (rad)": 1.1344640137963142,
          "Target dataset": "good2"
         },
         {
          "Dataset / KE (eV)": "good2 / 4.0",
          "Phase shift diff (deg)": 135.93573852326736,
          "Phase shift diff (rad)": 2.37252620836111,
          "Photoelectron KE (eV)": 4.012611200000002,
          "Photon energy (eV)": 14.3,
          "Polar ang (deg)": 66,
          "Polar ang (rad)": 1.1519173063162573,
          "Target dataset": "good2"
         },
         {
          "Dataset / KE (eV)": "good2 / 4.0",
          "Phase shift diff (deg)": 136.70996469284307,
          "Phase shift diff (rad)": 2.38603900417531,
          "Photoelectron KE (eV)": 4.012611200000002,
          "Photon energy (eV)": 14.3,
          "Polar ang (deg)": 67,
          "Polar ang (rad)": 1.1693705988362009,
          "Target dataset": "good2"
         },
         {
          "Dataset / KE (eV)": "good2 / 4.0",
          "Phase shift diff (deg)": 137.4408689719505,
          "Phase shift diff (rad)": 2.39879569036265,
          "Photoelectron KE (eV)": 4.012611200000002,
          "Photon energy (eV)": 14.3,
          "Polar ang (deg)": 68,
          "Polar ang (rad)": 1.186823891356144,
          "Target dataset": "good2"
         },
         {
          "Dataset / KE (eV)": "good2 / 4.0",
          "Phase shift diff (deg)": 138.12970581452058,
          "Phase shift diff (rad)": 2.41081816127454,
          "Photoelectron KE (eV)": 4.012611200000002,
          "Photon energy (eV)": 14.3,
          "Polar ang (deg)": 69,
          "Polar ang (rad)": 1.2042771838760875,
          "Target dataset": "good2"
         },
         {
          "Dataset / KE (eV)": "good2 / 4.0",
          "Phase shift diff (deg)": 138.77770488393037,
          "Phase shift diff (rad)": 2.4221278785856,
          "Photoelectron KE (eV)": 4.012611200000002,
          "Photon energy (eV)": 14.3,
          "Polar ang (deg)": 70,
          "Polar ang (rad)": 1.2217304763960306,
          "Target dataset": "good2"
         },
         {
          "Dataset / KE (eV)": "good2 / 4.0",
          "Phase shift diff (deg)": 139.38606137014048,
          "Phase shift diff (rad)": 2.43274570229583,
          "Photoelectron KE (eV)": 4.012611200000002,
          "Photon energy (eV)": 14.3,
          "Polar ang (deg)": 71,
          "Polar ang (rad)": 1.239183768915974,
          "Target dataset": "good2"
         },
         {
          "Dataset / KE (eV)": "good2 / 4.0",
          "Phase shift diff (deg)": 139.95592795315943,
          "Phase shift diff (rad)": 2.4426917504666,
          "Photoelectron KE (eV)": 4.012611200000002,
          "Photon energy (eV)": 14.3,
          "Polar ang (deg)": 72,
          "Polar ang (rad)": 1.2566370614359172,
          "Target dataset": "good2"
         },
         {
          "Dataset / KE (eV)": "good2 / 4.0",
          "Phase shift diff (deg)": 140.48840812573607,
          "Phase shift diff (rad)": 2.45198528267965,
          "Photoelectron KE (eV)": 4.012611200000002,
          "Photon energy (eV)": 14.3,
          "Polar ang (deg)": 73,
          "Polar ang (rad)": 1.2740903539558606,
          "Target dataset": "good2"
         },
         {
          "Dataset / KE (eV)": "good2 / 4.0",
          "Phase shift diff (deg)": 140.98455058390064,
          "Phase shift diff (rad)": 2.46064460213356,
          "Photoelectron KE (eV)": 4.012611200000002,
          "Photon energy (eV)": 14.3,
          "Polar ang (deg)": 74,
          "Polar ang (rad)": 1.2915436464758039,
          "Target dataset": "good2"
         },
         {
          "Dataset / KE (eV)": "good2 / 4.0",
          "Phase shift diff (deg)": 141.4453443784755,
          "Phase shift diff (rad)": 2.46868697102165,
          "Photoelectron KE (eV)": 4.012611200000002,
          "Photon energy (eV)": 14.3,
          "Polar ang (deg)": 75,
          "Polar ang (rad)": 1.3089969389957472,
          "Target dataset": "good2"
         },
         {
          "Dataset / KE (eV)": "good2 / 4.0",
          "Phase shift diff (deg)": 141.87171448096058,
          "Phase shift diff (rad)": 2.47612853314208,
          "Photoelectron KE (eV)": 4.012611200000002,
          "Photon energy (eV)": 14.3,
          "Polar ang (deg)": 76,
          "Polar ang (rad)": 1.3264502315156905,
          "Target dataset": "good2"
         },
         {
          "Dataset / KE (eV)": "good2 / 4.0",
          "Phase shift diff (deg)": 142.26451733599356,
          "Phase shift diff (rad)": 2.48298423627364,
          "Photoelectron KE (eV)": 4.012611200000002,
          "Photon energy (eV)": 14.3,
          "Polar ang (deg)": 77,
          "Polar ang (rad)": 1.3439035240356336,
          "Target dataset": "good2"
         },
         {
          "Dataset / KE (eV)": "good2 / 4.0",
          "Phase shift diff (deg)": 142.6245358119963,
          "Phase shift diff (rad)": 2.4892677440479,
          "Photoelectron KE (eV)": 4.012611200000002,
          "Photon energy (eV)": 14.3,
          "Polar ang (deg)": 78,
          "Polar ang (rad)": 1.3613568165555772,
          "Target dataset": "good2"
         },
         {
          "Dataset / KE (eV)": "good2 / 4.0",
          "Phase shift diff (deg)": 142.95247265441557,
          "Phase shift diff (rad)": 2.49499132168671,
          "Photoelectron KE (eV)": 4.012611200000002,
          "Photon energy (eV)": 14.3,
          "Polar ang (deg)": 79,
          "Polar ang (rad)": 1.3788101090755203,
          "Target dataset": "good2"
         },
         {
          "Dataset / KE (eV)": "good2 / 4.0",
          "Phase shift diff (deg)": 143.2489409427198,
          "Phase shift diff (rad)": 2.50016566944537,
          "Photoelectron KE (eV)": 4.012611200000002,
          "Photon energy (eV)": 14.3,
          "Polar ang (deg)": 80,
          "Polar ang (rad)": 1.3962634015954636,
          "Target dataset": "good2"
         },
         {
          "Dataset / KE (eV)": "good2 / 4.0",
          "Phase shift diff (deg)": 143.51444882822534,
          "Phase shift diff (rad)": 2.50479965623745,
          "Photoelectron KE (eV)": 4.012611200000002,
          "Photon energy (eV)": 14.3,
          "Polar ang (deg)": 81,
          "Polar ang (rad)": 1.413716694115407,
          "Target dataset": "good2"
         },
         {
          "Dataset / KE (eV)": "good2 / 4.0",
          "Phase shift diff (deg)": 143.74937321101757,
          "Phase shift diff (rad)": 2.50889986021039,
          "Photoelectron KE (eV)": 4.012611200000002,
          "Photon energy (eV)": 14.3,
          "Polar ang (deg)": 82,
          "Polar ang (rad)": 1.4311699866353502,
          "Target dataset": "good2"
         },
         {
          "Dataset / KE (eV)": "good2 / 4.0",
          "Phase shift diff (deg)": 143.9539110100908,
          "Phase shift diff (rad)": 2.512469718249,
          "Photoelectron KE (eV)": 4.012611200000002,
          "Photon energy (eV)": 14.3,
          "Polar ang (deg)": 83,
          "Polar ang (rad)": 1.4486232791552935,
          "Target dataset": "good2"
         },
         {
          "Dataset / KE (eV)": "good2 / 4.0",
          "Phase shift diff (deg)": 144.12798165489025,
          "Phase shift diff (rad)": 2.51550782413182,
          "Photoelectron KE (eV)": 4.012611200000002,
          "Photon energy (eV)": 14.3,
          "Polar ang (deg)": 84,
          "Polar ang (rad)": 1.4660765716752369,
          "Target dataset": "good2"
         },
         {
          "Dataset / KE (eV)": "good2 / 4.0",
          "Phase shift diff (deg)": 144.27101234535894,
          "Phase shift diff (rad)": 2.5180041806119,
          "Photoelectron KE (eV)": 4.012611200000002,
          "Photon energy (eV)": 14.3,
          "Polar ang (deg)": 85,
          "Polar ang (rad)": 1.48352986419518,
          "Target dataset": "good2"
         },
         {
          "Dataset / KE (eV)": "good2 / 4.0",
          "Phase shift diff (deg)": 144.38140089259545,
          "Phase shift diff (rad)": 2.51993082421767,
          "Photoelectron KE (eV)": 4.012611200000002,
          "Photon energy (eV)": 14.3,
          "Polar ang (deg)": 86,
          "Polar ang (rad)": 1.5009831567151235,
          "Target dataset": "good2"
         },
         {
          "Dataset / KE (eV)": "good2 / 4.0",
          "Phase shift diff (deg)": 144.45490427745386,
          "Phase shift diff (rad)": 2.52121370029481,
          "Photoelectron KE (eV)": 4.012611200000002,
          "Photon energy (eV)": 14.3,
          "Polar ang (deg)": 87,
          "Polar ang (rad)": 1.5184364492350666,
          "Target dataset": "good2"
         },
         {
          "Dataset / KE (eV)": "good2 / 4.0",
          "Phase shift diff (deg)": 144.47819693068791,
          "Phase shift diff (rad)": 2.52162023378527,
          "Photoelectron KE (eV)": 4.012611200000002,
          "Photon energy (eV)": 14.3,
          "Polar ang (deg)": 88,
          "Polar ang (rad)": 1.53588974175501,
          "Target dataset": "good2"
         },
         {
          "Dataset / KE (eV)": "good2 / 4.0",
          "Phase shift diff (deg)": 144.38385883569362,
          "Phase shift diff (rad)": 2.51997372341756,
          "Photoelectron KE (eV)": 4.012611200000002,
          "Photon energy (eV)": 14.3,
          "Polar ang (deg)": 89,
          "Polar ang (rad)": 1.5533430342749532,
          "Target dataset": "good2"
         },
         {
          "Dataset / KE (eV)": "good2 / 4.0",
          "Phase shift diff (deg)": 324.92659290719524,
          "Phase shift diff (rad)": 5.67103887351781,
          "Photoelectron KE (eV)": 4.012611200000002,
          "Photon energy (eV)": 14.3,
          "Polar ang (deg)": 91,
          "Polar ang (rad)": 1.5882496193148399,
          "Target dataset": "good2"
         },
         {
          "Dataset / KE (eV)": "good2 / 4.0",
          "Phase shift diff (deg)": 324.74923172091974,
          "Phase shift diff (rad)": 5.66794333685206,
          "Photoelectron KE (eV)": 4.012611200000002,
          "Photon energy (eV)": 14.3,
          "Polar ang (deg)": 92,
          "Polar ang (rad)": 1.605702911834783,
          "Target dataset": "good2"
         },
         {
          "Dataset / KE (eV)": "good2 / 4.0",
          "Phase shift diff (deg)": 324.6352235826543,
          "Phase shift diff (rad)": 5.66595351946526,
          "Photoelectron KE (eV)": 4.012611200000002,
          "Photon energy (eV)": 14.3,
          "Polar ang (deg)": 93,
          "Polar ang (rad)": 1.6231562043547265,
          "Target dataset": "good2"
         },
         {
          "Dataset / KE (eV)": "good2 / 4.0",
          "Phase shift diff (deg)": 324.51624999297104,
          "Phase shift diff (rad)": 5.66387703860237,
          "Photoelectron KE (eV)": 4.012611200000002,
          "Photon energy (eV)": 14.3,
          "Polar ang (deg)": 94,
          "Polar ang (rad)": 1.6406094968746698,
          "Target dataset": "good2"
         },
         {
          "Dataset / KE (eV)": "good2 / 4.0",
          "Phase shift diff (deg)": 324.3784883798873,
          "Phase shift diff (rad)": 5.6614726448712,
          "Photoelectron KE (eV)": 4.012611200000002,
          "Photon energy (eV)": 14.3,
          "Polar ang (deg)": 95,
          "Polar ang (rad)": 1.6580627893946132,
          "Target dataset": "good2"
         },
         {
          "Dataset / KE (eV)": "good2 / 4.0",
          "Phase shift diff (deg)": 324.2171321254933,
          "Phase shift diff (rad)": 5.65865644696334,
          "Photoelectron KE (eV)": 4.012611200000002,
          "Photon energy (eV)": 14.3,
          "Polar ang (deg)": 96,
          "Polar ang (rad)": 1.6755160819145563,
          "Target dataset": "good2"
         },
         {
          "Dataset / KE (eV)": "good2 / 4.0",
          "Phase shift diff (deg)": 324.02990478761393,
          "Phase shift diff (rad)": 5.6553887134676,
          "Photoelectron KE (eV)": 4.012611200000002,
          "Photon energy (eV)": 14.3,
          "Polar ang (deg)": 97,
          "Polar ang (rad)": 1.6929693744344996,
          "Target dataset": "good2"
         },
         {
          "Dataset / KE (eV)": "good2 / 4.0",
          "Phase shift diff (deg)": 323.8154396597114,
          "Phase shift diff (rad)": 5.65164559085499,
          "Photoelectron KE (eV)": 4.012611200000002,
          "Photon energy (eV)": 14.3,
          "Polar ang (deg)": 98,
          "Polar ang (rad)": 1.7104226669544427,
          "Target dataset": "good2"
         },
         {
          "Dataset / KE (eV)": "good2 / 4.0",
          "Phase shift diff (deg)": 323.5727396349396,
          "Phase shift diff (rad)": 5.64740967632805,
          "Photoelectron KE (eV)": 4.012611200000002,
          "Photon energy (eV)": 14.3,
          "Polar ang (deg)": 99,
          "Polar ang (rad)": 1.7278759594743864,
          "Target dataset": "good2"
         },
         {
          "Dataset / KE (eV)": "good2 / 4.0",
          "Phase shift diff (deg)": 323.3009610274235,
          "Phase shift diff (rad)": 5.64266624479041,
          "Photoelectron KE (eV)": 4.012611200000002,
          "Photon energy (eV)": 14.3,
          "Polar ang (deg)": 100,
          "Polar ang (rad)": 1.7453292519943295,
          "Target dataset": "good2"
         },
         {
          "Dataset / KE (eV)": "good2 / 4.0",
          "Phase shift diff (deg)": 322.9993152084009,
          "Phase shift diff (rad)": 5.63740153207359,
          "Photoelectron KE (eV)": 4.012611200000002,
          "Photon energy (eV)": 14.3,
          "Polar ang (deg)": 101,
          "Polar ang (rad)": 1.7627825445142729,
          "Target dataset": "good2"
         },
         {
          "Dataset / KE (eV)": "good2 / 4.0",
          "Phase shift diff (deg)": 322.6670193998219,
          "Phase shift diff (rad)": 5.63160187612331,
          "Photoelectron KE (eV)": 4.012611200000002,
          "Photon energy (eV)": 14.3,
          "Polar ang (deg)": 102,
          "Polar ang (rad)": 1.780235837034216,
          "Target dataset": "good2"
         },
         {
          "Dataset / KE (eV)": "good2 / 4.0",
          "Phase shift diff (deg)": 322.30327026274784,
          "Phase shift diff (rad)": 5.62525325603008,
          "Photoelectron KE (eV)": 4.012611200000002,
          "Photon energy (eV)": 14.3,
          "Polar ang (deg)": 103,
          "Polar ang (rad)": 1.7976891295541593,
          "Target dataset": "good2"
         },
         {
          "Dataset / KE (eV)": "good2 / 4.0",
          "Phase shift diff (deg)": 321.9072290257296,
          "Phase shift diff (rad)": 5.61834103247044,
          "Photoelectron KE (eV)": 4.012611200000002,
          "Photon energy (eV)": 14.3,
          "Polar ang (deg)": 104,
          "Polar ang (rad)": 1.8151424220741026,
          "Target dataset": "good2"
         },
         {
          "Dataset / KE (eV)": "good2 / 4.0",
          "Phase shift diff (deg)": 321.47801294801656,
          "Phase shift diff (rad)": 5.61084979871185,
          "Photoelectron KE (eV)": 4.012611200000002,
          "Photon energy (eV)": 14.3,
          "Polar ang (deg)": 105,
          "Polar ang (rad)": 1.8325957145940461,
          "Target dataset": "good2"
         },
         {
          "Dataset / KE (eV)": "good2 / 4.0",
          "Phase shift diff (deg)": 321.0146905673574,
          "Phase shift diff (rad)": 5.60276329767117,
          "Photoelectron KE (eV)": 4.012611200000002,
          "Photon energy (eV)": 14.3,
          "Polar ang (deg)": 106,
          "Polar ang (rad)": 1.8500490071139892,
          "Target dataset": "good2"
         },
         {
          "Dataset / KE (eV)": "good2 / 4.0",
          "Phase shift diff (deg)": 320.5162794390685,
          "Phase shift diff (rad)": 5.59406438245395,
          "Photoelectron KE (eV)": 4.012611200000002,
          "Photon energy (eV)": 14.3,
          "Polar ang (deg)": 107,
          "Polar ang (rad)": 1.8675022996339325,
          "Target dataset": "good2"
         },
         {
          "Dataset / KE (eV)": "good2 / 4.0",
          "Phase shift diff (deg)": 319.9817457115544,
          "Phase shift diff (rad)": 5.58473500894587,
          "Photoelectron KE (eV)": 4.012611200000002,
          "Photon energy (eV)": 14.3,
          "Polar ang (deg)": 108,
          "Polar ang (rad)": 1.8849555921538759,
          "Target dataset": "good2"
         },
         {
          "Dataset / KE (eV)": "good2 / 4.0",
          "Phase shift diff (deg)": 319.41000522836833,
          "Phase shift diff (rad)": 5.57475625504733,
          "Photoelectron KE (eV)": 4.012611200000002,
          "Photon energy (eV)": 14.3,
          "Polar ang (deg)": 109,
          "Polar ang (rad)": 1.902408884673819,
          "Target dataset": "good2"
         },
         {
          "Dataset / KE (eV)": "good2 / 4.0",
          "Phase shift diff (deg)": 318.7999260462402,
          "Phase shift diff (rad)": 5.56410836462132,
          "Photoelectron KE (eV)": 4.012611200000002,
          "Photon energy (eV)": 14.3,
          "Polar ang (deg)": 110,
          "Polar ang (rad)": 1.9198621771937625,
          "Target dataset": "good2"
         },
         {
          "Dataset / KE (eV)": "good2 / 4.0",
          "Phase shift diff (deg)": 318.1503323821837,
          "Phase shift diff (rad)": 5.55277081638344,
          "Photoelectron KE (eV)": 4.012611200000002,
          "Photon energy (eV)": 14.3,
          "Polar ang (deg)": 111,
          "Polar ang (rad)": 1.9373154697137058,
          "Target dataset": "good2"
         },
         {
          "Dataset / KE (eV)": "good2 / 4.0",
          "Phase shift diff (deg)": 317.4600100846864,
          "Phase shift diff (rad)": 5.54072241939218,
          "Photoelectron KE (eV)": 4.012611200000002,
          "Photon energy (eV)": 14.3,
          "Polar ang (deg)": 112,
          "Polar ang (rad)": 1.9547687622336491,
          "Target dataset": "good2"
         },
         {
          "Dataset / KE (eV)": "good2 / 4.0",
          "Phase shift diff (deg)": 316.72771378153294,
          "Phase shift diff (rad)": 5.52794143780197,
          "Photoelectron KE (eV)": 4.012611200000002,
          "Photon energy (eV)": 14.3,
          "Polar ang (deg)": 113,
          "Polar ang (rad)": 1.9722220547535922,
          "Target dataset": "good2"
         },
         {
          "Dataset / KE (eV)": "good2 / 4.0",
          "Phase shift diff (deg)": 315.95217590010327,
          "Phase shift diff (rad)": 5.51440574829708,
          "Photoelectron KE (eV)": 4.012611200000002,
          "Photon energy (eV)": 14.3,
          "Polar ang (deg)": 114,
          "Polar ang (rad)": 1.9896753472735356,
          "Target dataset": "good2"
         },
         {
          "Dataset / KE (eV)": "good2 / 4.0",
          "Phase shift diff (deg)": 315.1321177863436,
          "Phase shift diff (rad)": 5.50009303415428,
          "Photoelectron KE (eV)": 4.012611200000002,
          "Photon energy (eV)": 14.3,
          "Polar ang (deg)": 115,
          "Polar ang (rad)": 2.007128639793479,
          "Target dataset": "good2"
         },
         {
          "Dataset / KE (eV)": "good2 / 4.0",
          "Phase shift diff (deg)": 314.2662631701706,
          "Phase shift diff (rad)": 5.48498102025847,
          "Photoelectron KE (eV)": 4.012611200000002,
          "Photon energy (eV)": 14.3,
          "Polar ang (deg)": 116,
          "Polar ang (rad)": 2.0245819323134224,
          "Target dataset": "good2"
         },
         {
          "Dataset / KE (eV)": "good2 / 4.0",
          "Phase shift diff (deg)": 313.3533542340714,
          "Phase shift diff (rad)": 5.46904775355266,
          "Photoelectron KE (eV)": 4.012611200000002,
          "Photon energy (eV)": 14.3,
          "Polar ang (deg)": 117,
          "Polar ang (rad)": 2.0420352248333655,
          "Target dataset": "good2"
         },
         {
          "Dataset / KE (eV)": "good2 / 4.0",
          "Phase shift diff (deg)": 312.392170538434,
          "Phase shift diff (rad)": 5.4522719333473,
          "Photoelectron KE (eV)": 4.012611200000002,
          "Photon energy (eV)": 14.3,
          "Polar ang (deg)": 118,
          "Polar ang (rad)": 2.0594885173533086,
          "Target dataset": "good2"
         },
         {
          "Dataset / KE (eV)": "good2 / 4.0",
          "Phase shift diff (deg)": 311.3815510363948,
          "Phase shift diff (rad)": 5.43463329555185,
          "Photoelectron KE (eV)": 4.012611200000002,
          "Photon energy (eV)": 14.3,
          "Polar ang (deg)": 119,
          "Polar ang (rad)": 2.076941809873252,
          "Target dataset": "good2"
         },
         {
          "Dataset / KE (eV)": "good2 / 4.0",
          "Phase shift diff (deg)": 310.32041936964947,
          "Phase shift diff (rad)": 5.41611305416997,
          "Photoelectron KE (eV)": 4.012611200000002,
          "Photon energy (eV)": 14.3,
          "Polar ang (deg)": 120,
          "Polar ang (rad)": 2.0943951023931953,
          "Target dataset": "good2"
         },
         {
          "Dataset / KE (eV)": "good2 / 4.0",
          "Phase shift diff (deg)": 309.20781256964017,
          "Phase shift diff (rad)": 5.39669440222973,
          "Photoelectron KE (eV)": 4.012611200000002,
          "Photon energy (eV)": 14.3,
          "Polar ang (deg)": 121,
          "Polar ang (rad)": 2.111848394913139,
          "Target dataset": "good2"
         },
         {
          "Dataset / KE (eV)": "good2 / 4.0",
          "Phase shift diff (deg)": 308.04291319082114,
          "Phase shift diff (rad)": 5.3763630726149,
          "Photoelectron KE (eV)": 4.012611200000002,
          "Photon energy (eV)": 14.3,
          "Polar ang (deg)": 122,
          "Polar ang (rad)": 2.129301687433082,
          "Target dataset": "good2"
         },
         {
          "Dataset / KE (eV)": "good2 / 4.0",
          "Phase shift diff (deg)": 306.8250847695635,
          "Phase shift diff (rad)": 5.35510795693959,
          "Photoelectron KE (eV)": 4.012611200000002,
          "Photon energy (eV)": 14.3,
          "Polar ang (deg)": 123,
          "Polar ang (rad)": 2.1467549799530254,
          "Target dataset": "good2"
         },
         {
          "Dataset / KE (eV)": "good2 / 4.0",
          "Phase shift diff (deg)": 305.55391033013103,
          "Phase shift diff (rad)": 5.3329217776043,
          "Photoelectron KE (eV)": 4.012611200000002,
          "Photon energy (eV)": 14.3,
          "Polar ang (deg)": 124,
          "Polar ang (rad)": 2.1642082724729685,
          "Target dataset": "good2"
         },
         {
          "Dataset / KE (eV)": "good2 / 4.0",
          "Phase shift diff (deg)": 304.22923344657215,
          "Phase shift diff (rad)": 5.30980180446114,
          "Photoelectron KE (eV)": 4.012611200000002,
          "Photon energy (eV)": 14.3,
          "Polar ang (deg)": 125,
          "Polar ang (rad)": 2.1816615649929116,
          "Target dataset": "good2"
         },
         {
          "Dataset / KE (eV)": "good2 / 4.0",
          "Phase shift diff (deg)": 302.8512011182291,
          "Phase shift diff (rad)": 5.28575060313263,
          "Photoelectron KE (eV)": 4.012611200000002,
          "Photon energy (eV)": 14.3,
          "Polar ang (deg)": 126,
          "Polar ang (rad)": 2.199114857512855,
          "Target dataset": "good2"
         },
         {
          "Dataset / KE (eV)": "good2 / 4.0",
          "Phase shift diff (deg)": 301.42030743167317,
          "Phase shift diff (rad)": 5.26077679705623,
          "Photoelectron KE (eV)": 4.012611200000002,
          "Photon energy (eV)": 14.3,
          "Polar ang (deg)": 127,
          "Polar ang (rad)": 2.2165681500327987,
          "Target dataset": "good2"
         },
         {
          "Dataset / KE (eV)": "good2 / 4.0",
          "Phase shift diff (deg)": 299.93743667822326,
          "Phase shift diff (rad)": 5.234895820027,
          "Photoelectron KE (eV)": 4.012611200000002,
          "Photon energy (eV)": 14.3,
          "Polar ang (deg)": 128,
          "Polar ang (rad)": 2.234021442552742,
          "Target dataset": "good2"
         },
         {
          "Dataset / KE (eV)": "good2 / 4.0",
          "Phase shift diff (deg)": 298.4039042898859,
          "Phase shift diff (rad)": 5.20813063066454,
          "Photoelectron KE (eV)": 4.012611200000002,
          "Photon energy (eV)": 14.3,
          "Polar ang (deg)": 129,
          "Polar ang (rad)": 2.251474735072685,
          "Target dataset": "good2"
         },
         {
          "Dataset / KE (eV)": "good2 / 4.0",
          "Phase shift diff (deg)": 296.82149367608383,
          "Phase shift diff (rad)": 5.18051235533519,
          "Photoelectron KE (eV)": 4.012611200000002,
          "Photon energy (eV)": 14.3,
          "Polar ang (deg)": 130,
          "Polar ang (rad)": 2.2689280275926285,
          "Target dataset": "good2"
         },
         {
          "Dataset / KE (eV)": "good2 / 4.0",
          "Phase shift diff (deg)": 295.19248682116336,
          "Phase shift diff (rad)": 5.15208082217927,
          "Photoelectron KE (eV)": 4.012611200000002,
          "Photon energy (eV)": 14.3,
          "Polar ang (deg)": 131,
          "Polar ang (rad)": 2.2863813201125716,
          "Target dataset": "good2"
         },
         {
          "Dataset / KE (eV)": "good2 / 4.0",
          "Phase shift diff (deg)": 293.5196863768931,
          "Phase shift diff (rad)": 5.12288494669793,
          "Photoelectron KE (eV)": 4.012611200000002,
          "Photon energy (eV)": 14.3,
          "Polar ang (deg)": 132,
          "Polar ang (rad)": 2.3038346126325147,
          "Target dataset": "good2"
         },
         {
          "Dataset / KE (eV)": "good2 / 4.0",
          "Phase shift diff (deg)": 291.8064269939324,
          "Phase shift diff (rad)": 5.09298292952458,
          "Photoelectron KE (eV)": 4.012611200000002,
          "Photon energy (eV)": 14.3,
          "Polar ang (deg)": 133,
          "Polar ang (rad)": 2.321287905152458,
          "Target dataset": "good2"
         },
         {
          "Dataset / KE (eV)": "good2 / 4.0",
          "Phase shift diff (deg)": 290.056573816464,
          "Phase shift diff (rad)": 5.06244223015127,
          "Photoelectron KE (eV)": 4.012611200000002,
          "Photon energy (eV)": 14.3,
          "Polar ang (deg)": 134,
          "Polar ang (rad)": 2.3387411976724017,
          "Target dataset": "good2"
         },
         {
          "Dataset / KE (eV)": "good2 / 4.0",
          "Phase shift diff (deg)": 288.27450643875744,
          "Phase shift diff (rad)": 5.03133928691791,
          "Photoelectron KE (eV)": 4.012611200000002,
          "Photon energy (eV)": 14.3,
          "Polar ang (deg)": 135,
          "Polar ang (rad)": 2.356194490192345,
          "Target dataset": "good2"
         },
         {
          "Dataset / KE (eV)": "good2 / 4.0",
          "Phase shift diff (deg)": 286.46508719802137,
          "Phase shift diff (rad)": 4.99975896361813,
          "Photoelectron KE (eV)": 4.012611200000002,
          "Photon energy (eV)": 14.3,
          "Polar ang (deg)": 136,
          "Polar ang (rad)": 2.373647782712288,
          "Target dataset": "good2"
         },
         {
          "Dataset / KE (eV)": "good2 / 4.0",
          "Phase shift diff (deg)": 284.6336134370433,
          "Phase shift diff (rad)": 4.96779371632518,
          "Photoelectron KE (eV)": 4.012611200000002,
          "Photon energy (eV)": 14.3,
          "Polar ang (deg)": 137,
          "Polar ang (rad)": 2.3911010752322315,
          "Target dataset": "good2"
         },
         {
          "Dataset / KE (eV)": "good2 / 4.0",
          "Phase shift diff (deg)": 282.7857542687347,
          "Phase shift diff (rad)": 4.93554248972503,
          "Photoelectron KE (eV)": 4.012611200000002,
          "Photon energy (eV)": 14.3,
          "Polar ang (deg)": 138,
          "Polar ang (rad)": 2.408554367752175,
          "Target dataset": "good2"
         },
         {
          "Dataset / KE (eV)": "good2 / 4.0",
          "Phase shift diff (deg)": 280.9274733438198,
          "Phase shift diff (rad)": 4.90310936915826,
          "Photoelectron KE (eV)": 4.012611200000002,
          "Photon energy (eV)": 14.3,
          "Polar ang (deg)": 139,
          "Polar ang (rad)": 2.426007660272118,
          "Target dataset": "good2"
         },
         {
          "Dataset / KE (eV)": "good2 / 4.0",
          "Phase shift diff (deg)": 279.06494007062196,
          "Phase shift diff (rad)": 4.87060203111301,
          "Photoelectron KE (eV)": 4.012611200000002,
          "Photon energy (eV)": 14.3,
          "Polar ang (deg)": 140,
          "Polar ang (rad)": 2.443460952792061,
          "Target dataset": "good2"
         },
         {
          "Dataset / KE (eV)": "good2 / 4.0",
          "Phase shift diff (deg)": 277.2044325703887,
          "Phase shift diff (rad)": 4.83813004947589,
          "Photoelectron KE (eV)": 4.012611200000002,
          "Photon energy (eV)": 14.3,
          "Polar ang (deg)": 141,
          "Polar ang (rad)": 2.4609142453120048,
          "Target dataset": "good2"
         },
         {
          "Dataset / KE (eV)": "good2 / 4.0",
          "Phase shift diff (deg)": 275.352236267919,
          "Phase shift diff (rad)": 4.80580312560453,
          "Photoelectron KE (eV)": 4.012611200000002,
          "Photon energy (eV)": 14.3,
          "Polar ang (deg)": 142,
          "Polar ang (rad)": 2.478367537831948,
          "Target dataset": "good2"
         },
         {
          "Dataset / KE (eV)": "good2 / 4.0",
          "Phase shift diff (deg)": 273.514542356294,
          "Phase shift diff (rad)": 4.77372931620282,
          "Photoelectron KE (eV)": 4.012611200000002,
          "Photon energy (eV)": 14.3,
          "Polar ang (deg)": 143,
          "Polar ang (rad)": 2.495820830351891,
          "Target dataset": "good2"
         },
         {
          "Dataset / KE (eV)": "good2 / 4.0",
          "Phase shift diff (deg)": 271.6973503840166,
          "Phase shift diff (rad)": 4.74201333314577,
          "Photoelectron KE (eV)": 4.012611200000002,
          "Photon energy (eV)": 14.3,
          "Polar ang (deg)": 144,
          "Polar ang (rad)": 2.5132741228718345,
          "Target dataset": "good2"
         },
         {
          "Dataset / KE (eV)": "good2 / 4.0",
          "Phase shift diff (deg)": 269.9063788972962,
          "Phase shift diff (rad)": 4.71075498389316,
          "Photoelectron KE (eV)": 4.012611200000002,
          "Photon energy (eV)": 14.3,
          "Polar ang (deg)": 145,
          "Polar ang (rad)": 2.530727415391778,
          "Target dataset": "good2"
         },
         {
          "Dataset / KE (eV)": "good2 / 4.0",
          "Phase shift diff (deg)": 268.14698746651646,
          "Phase shift diff (rad)": 4.68004781059468,
          "Photoelectron KE (eV)": 4.012611200000002,
          "Photon energy (eV)": 14.3,
          "Polar ang (deg)": 146,
          "Polar ang (rad)": 2.548180707911721,
          "Target dataset": "good2"
         },
         {
          "Dataset / KE (eV)": "good2 / 4.0",
          "Phase shift diff (deg)": 266.4241126057983,
          "Phase shift diff (rad)": 4.64997797167531,
          "Photoelectron KE (eV)": 4.012611200000002,
          "Photon energy (eV)": 14.3,
          "Polar ang (deg)": 147,
          "Polar ang (rad)": 2.5656340004316642,
          "Target dataset": "good2"
         },
         {
          "Dataset / KE (eV)": "good2 / 4.0",
          "Phase shift diff (deg)": 264.74221914971616,
          "Phase shift diff (rad)": 4.62062339319893,
          "Photoelectron KE (eV)": 4.012611200000002,
          "Photon energy (eV)": 14.3,
          "Polar ang (deg)": 148,
          "Polar ang (rad)": 2.5830872929516078,
          "Target dataset": "good2"
         },
         {
          "Dataset / KE (eV)": "good2 / 4.0",
          "Phase shift diff (deg)": 263.1052676814185,
          "Phase shift diff (rad)": 4.59205320038178,
          "Photoelectron KE (eV)": 4.012611200000002,
          "Photon energy (eV)": 14.3,
          "Polar ang (deg)": 149,
          "Polar ang (rad)": 2.600540585471551,
          "Target dataset": "good2"
         },
         {
          "Dataset / KE (eV)": "good2 / 4.0",
          "Phase shift diff (deg)": 261.51669770058203,
          "Phase shift diff (rad)": 4.56432742381784,
          "Photoelectron KE (eV)": 4.012611200000002,
          "Photon energy (eV)": 14.3,
          "Polar ang (deg)": 150,
          "Polar ang (rad)": 2.6179938779914944,
          "Target dataset": "good2"
         },
         {
          "Dataset / KE (eV)": "good2 / 4.0",
          "Phase shift diff (deg)": 259.9794254500939,
          "Phase shift diff (rad)": 4.53749696154728,
          "Photoelectron KE (eV)": 4.012611200000002,
          "Photon energy (eV)": 14.3,
          "Polar ang (deg)": 151,
          "Polar ang (rad)": 2.6354471705114375,
          "Target dataset": "good2"
         },
         {
          "Dataset / KE (eV)": "good2 / 4.0",
          "Phase shift diff (deg)": 258.49585473237676,
          "Phase shift diff (rad)": 4.51160376783694,
          "Photoelectron KE (eV)": 4.012611200000002,
          "Photon energy (eV)": 14.3,
          "Polar ang (deg)": 152,
          "Polar ang (rad)": 2.652900463031381,
          "Target dataset": "good2"
         },
         {
          "Dataset / KE (eV)": "good2 / 4.0",
          "Phase shift diff (deg)": 257.0678986585035,
          "Phase shift diff (rad)": 4.486681232774,
          "Photoelectron KE (eV)": 4.012611200000002,
          "Photon energy (eV)": 14.3,
          "Polar ang (deg)": 153,
          "Polar ang (rad)": 2.670353755551324,
          "Target dataset": "good2"
         },
         {
          "Dataset / KE (eV)": "good2 / 4.0",
          "Phase shift diff (deg)": 255.69701008132472,
          "Phase shift diff (rad)": 4.46275471342425,
          "Photoelectron KE (eV)": 4.012611200000002,
          "Photon energy (eV)": 14.3,
          "Polar ang (deg)": 154,
          "Polar ang (rad)": 2.6878070480712672,
          "Target dataset": "good2"
         },
         {
          "Dataset / KE (eV)": "good2 / 4.0",
          "Phase shift diff (deg)": 254.38421844386212,
          "Phase shift diff (rad)": 4.43984217695788,
          "Photoelectron KE (eV)": 4.012611200000002,
          "Photon energy (eV)": 14.3,
          "Polar ang (deg)": 155,
          "Polar ang (rad)": 2.705260340591211,
          "Target dataset": "good2"
         },
         {
          "Dataset / KE (eV)": "good2 / 4.0",
          "Phase shift diff (deg)": 253.13017089313436,
          "Phase shift diff (rad)": 4.41795491822111,
          "Photoelectron KE (eV)": 4.012611200000002,
          "Photon energy (eV)": 14.3,
          "Polar ang (deg)": 156,
          "Polar ang (rad)": 2.7227136331111543,
          "Target dataset": "good2"
         },
         {
          "Dataset / KE (eV)": "good2 / 4.0",
          "Phase shift diff (deg)": 251.93517572626843,
          "Phase shift diff (rad)": 4.39709831801388,
          "Photoelectron KE (eV)": 4.012611200000002,
          "Photon energy (eV)": 14.3,
          "Polar ang (deg)": 157,
          "Polar ang (rad)": 2.7401669256310974,
          "Target dataset": "good2"
         },
         {
          "Dataset / KE (eV)": "good2 / 4.0",
          "Phase shift diff (deg)": 250.79924651418446,
          "Phase shift diff (rad)": 4.37727261319343,
          "Photoelectron KE (eV)": 4.012611200000002,
          "Photon energy (eV)": 14.3,
          "Polar ang (deg)": 158,
          "Polar ang (rad)": 2.7576202181510405,
          "Target dataset": "good2"
         },
         {
          "Dataset / KE (eV)": "good2 / 4.0",
          "Phase shift diff (deg)": 249.7221455533223,
          "Phase shift diff (rad)": 4.35847365504999,
          "Photoelectron KE (eV)": 4.012611200000002,
          "Photon energy (eV)": 14.3,
          "Polar ang (deg)": 159,
          "Polar ang (rad)": 2.7750735106709836,
          "Target dataset": "good2"
         },
         {
          "Dataset / KE (eV)": "good2 / 4.0",
          "Phase shift diff (deg)": 248.70342560117203,
          "Phase shift diff (rad)": 4.34069363772921,
          "Photoelectron KE (eV)": 4.012611200000002,
          "Photon energy (eV)": 14.3,
          "Polar ang (deg)": 160,
          "Polar ang (rad)": 2.792526803190927,
          "Target dataset": "good2"
         },
         {
          "Dataset / KE (eV)": "good2 / 4.0",
          "Phase shift diff (deg)": 247.74246913745122,
          "Phase shift diff (rad)": 4.32392178346896,
          "Photoelectron KE (eV)": 4.012611200000002,
          "Photon energy (eV)": 14.3,
          "Polar ang (deg)": 161,
          "Polar ang (rad)": 2.8099800957108707,
          "Target dataset": "good2"
         },
         {
          "Dataset / KE (eV)": "good2 / 4.0",
          "Phase shift diff (deg)": 246.83852464680785,
          "Phase shift diff (rad)": 4.30814497585197,
          "Photoelectron KE (eV)": 4.012611200000002,
          "Photon energy (eV)": 14.3,
          "Polar ang (deg)": 162,
          "Polar ang (rad)": 2.827433388230814,
          "Target dataset": "good2"
         },
         {
          "Dataset / KE (eV)": "good2 / 4.0",
          "Phase shift diff (deg)": 245.99073963431107,
          "Phase shift diff (rad)": 4.29334833603484,
          "Photoelectron KE (eV)": 4.012611200000002,
          "Photon energy (eV)": 14.3,
          "Polar ang (deg)": 163,
          "Polar ang (rad)": 2.844886680750757,
          "Target dataset": "good2"
         },
         {
          "Dataset / KE (eV)": "good2 / 4.0",
          "Phase shift diff (deg)": 245.198190260189,
          "Phase shift diff (rad)": 4.27951573997179,
          "Photoelectron KE (eV)": 4.012611200000002,
          "Photon energy (eV)": 14.3,
          "Polar ang (deg)": 164,
          "Polar ang (rad)": 2.8623399732707004,
          "Target dataset": "good2"
         },
         {
          "Dataset / KE (eV)": "good2 / 4.0",
          "Phase shift diff (deg)": 244.45990761612592,
          "Phase shift diff (rad)": 4.26663027702256,
          "Photoelectron KE (eV)": 4.012611200000002,
          "Photon energy (eV)": 14.3,
          "Polar ang (deg)": 165,
          "Polar ang (rad)": 2.8797932657906435,
          "Target dataset": "good2"
         },
         {
          "Dataset / KE (eV)": "good2 / 4.0",
          "Phase shift diff (deg)": 243.7749007660913,
          "Phase shift diff (rad)": 4.25467465209074,
          "Photoelectron KE (eV)": 4.012611200000002,
          "Photon energy (eV)": 14.3,
          "Polar ang (deg)": 166,
          "Polar ang (rad)": 2.897246558310587,
          "Target dataset": "good2"
         },
         {
          "Dataset / KE (eV)": "good2 / 4.0",
          "Phase shift diff (deg)": 243.14217674451186,
          "Phase shift diff (rad)": 4.24363153465772,
          "Photoelectron KE (eV)": 4.012611200000002,
          "Photon energy (eV)": 14.3,
          "Polar ang (deg)": 167,
          "Polar ang (rad)": 2.91469985083053,
          "Target dataset": "good2"
         },
         {
          "Dataset / KE (eV)": "good2 / 4.0",
          "Phase shift diff (deg)": 242.56075774900063,
          "Phase shift diff (rad)": 4.23348385885241,
          "Photoelectron KE (eV)": 4.012611200000002,
          "Photon energy (eV)": 14.3,
          "Polar ang (deg)": 168,
          "Polar ang (rad)": 2.9321531433504737,
          "Target dataset": "good2"
         },
         {
          "Dataset / KE (eV)": "good2 / 4.0",
          "Phase shift diff (deg)": 242.02969578870977,
          "Phase shift diff (rad)": 4.22421507911324,
          "Photoelectron KE (eV)": 4.012611200000002,
          "Photon energy (eV)": 14.3,
          "Polar ang (deg)": 169,
          "Polar ang (rad)": 2.949606435870417,
          "Target dataset": "good2"
         },
         {
          "Dataset / KE (eV)": "good2 / 4.0",
          "Phase shift diff (deg)": 241.5480850574615,
          "Phase shift diff (rad)": 4.21580938614002,
          "Photoelectron KE (eV)": 4.012611200000002,
          "Photon energy (eV)": 14.3,
          "Polar ang (deg)": 170,
          "Polar ang (rad)": 2.96705972839036,
          "Target dataset": "good2"
         },
         {
          "Dataset / KE (eV)": "good2 / 4.0",
          "Phase shift diff (deg)": 241.11507229710276,
          "Phase shift diff (rad)": 4.20825188776861,
          "Photoelectron KE (eV)": 4.012611200000002,
          "Photon energy (eV)": 14.3,
          "Polar ang (deg)": 171,
          "Polar ang (rad)": 2.9845130209103035,
          "Target dataset": "good2"
         },
         {
          "Dataset / KE (eV)": "good2 / 4.0",
          "Phase shift diff (deg)": 240.72986540446297,
          "Phase shift diff (rad)": 4.20152875919067,
          "Photoelectron KE (eV)": 4.012611200000002,
          "Photon energy (eV)": 14.3,
          "Polar ang (deg)": 172,
          "Polar ang (rad)": 3.001966313430247,
          "Target dataset": "good2"
         },
         {
          "Dataset / KE (eV)": "good2 / 4.0",
          "Phase shift diff (deg)": 240.39174051741907,
          "Phase shift diff (rad)": 4.19562736662882,
          "Photoelectron KE (eV)": 4.012611200000002,
          "Photon energy (eV)": 14.3,
          "Polar ang (deg)": 173,
          "Polar ang (rad)": 3.01941960595019,
          "Target dataset": "good2"
         },
         {
          "Dataset / KE (eV)": "good2 / 4.0",
          "Phase shift diff (deg)": 240.10004779438688,
          "Phase shift diff (rad)": 4.1905363682078,
          "Photoelectron KE (eV)": 4.012611200000002,
          "Photon energy (eV)": 14.3,
          "Polar ang (deg)": 174,
          "Polar ang (rad)": 3.036872898470133,
          "Target dataset": "good2"
         },
         {
          "Dataset / KE (eV)": "good2 / 4.0",
          "Phase shift diff (deg)": 239.85421607812202,
          "Phase shift diff (rad)": 4.18624579535315,
          "Photoelectron KE (eV)": 4.012611200000002,
          "Photon energy (eV)": 14.3,
          "Polar ang (deg)": 175,
          "Polar ang (rad)": 3.0543261909900767,
          "Target dataset": "good2"
         },
         {
          "Dataset / KE (eV)": "good2 / 4.0",
          "Phase shift diff (deg)": 239.6537566107681,
          "Phase shift diff (rad)": 4.18274711763103,
          "Photoelectron KE (eV)": 4.012611200000002,
          "Photon energy (eV)": 14.3,
          "Polar ang (deg)": 176,
          "Polar ang (rad)": 3.07177948351002,
          "Target dataset": "good2"
         },
         {
          "Dataset / KE (eV)": "good2 / 4.0",
          "Phase shift diff (deg)": 239.49826594271,
          "Phase shift diff (rad)": 4.18003329351729,
          "Photoelectron KE (eV)": 4.012611200000002,
          "Photon energy (eV)": 14.3,
          "Polar ang (deg)": 177,
          "Polar ang (rad)": 3.089232776029963,
          "Target dataset": "good2"
         },
         {
          "Dataset / KE (eV)": "good2 / 4.0",
          "Phase shift diff (deg)": 239.38742815428068,
          "Phase shift diff (rad)": 4.17809880917357,
          "Photoelectron KE (eV)": 4.012611200000002,
          "Photon energy (eV)": 14.3,
          "Polar ang (deg)": 178,
          "Polar ang (rad)": 3.1066860685499065,
          "Target dataset": "good2"
         },
         {
          "Dataset / KE (eV)": "good2 / 4.0",
          "Phase shift diff (deg)": 239.32101648619135,
          "Phase shift diff (rad)": 4.17693970690367,
          "Photoelectron KE (eV)": 4.012611200000002,
          "Photon energy (eV)": 14.3,
          "Polar ang (deg)": 179,
          "Polar ang (rad)": 3.12413936106985,
          "Target dataset": "good2"
         },
         {
          "Dataset / KE (eV)": "good2 / 4.0",
          "Phase shift diff (deg)": 239.29889445221477,
          "Phase shift diff (rad)": 4.17655360457354,
          "Photoelectron KE (eV)": 4.012611200000002,
          "Photon energy (eV)": 14.3,
          "Polar ang (deg)": 180,
          "Polar ang (rad)": 3.141592653589793,
          "Target dataset": "good2"
         },
         {
          "Dataset / KE (eV)": "good3 / 13.6",
          "Phase shift diff (deg)": 64.14363009316234,
          "Phase shift diff (rad)": 1.119517539307,
          "Photoelectron KE (eV)": 13.612611200000003,
          "Photon energy (eV)": 19.1,
          "Polar ang (deg)": 0,
          "Polar ang (rad)": 0,
          "Target dataset": "good3"
         },
         {
          "Dataset / KE (eV)": "good3 / 13.6",
          "Phase shift diff (deg)": 64.15256913118063,
          "Phase shift diff (rad)": 1.11967355495238,
          "Photoelectron KE (eV)": 13.612611200000003,
          "Photon energy (eV)": 19.1,
          "Polar ang (deg)": 1,
          "Polar ang (rad)": 0.017453292519943295,
          "Target dataset": "good3"
         },
         {
          "Dataset / KE (eV)": "good3 / 13.6",
          "Phase shift diff (deg)": 64.1794075574635,
          "Phase shift diff (rad)": 1.12014197385707,
          "Photoelectron KE (eV)": 13.612611200000003,
          "Photon energy (eV)": 19.1,
          "Polar ang (deg)": 2,
          "Polar ang (rad)": 0.03490658503988659,
          "Target dataset": "good3"
         },
         {
          "Dataset / KE (eV)": "good3 / 13.6",
          "Phase shift diff (deg)": 64.22420938952393,
          "Phase shift diff (rad)": 1.12092391333745,
          "Photoelectron KE (eV)": 13.612611200000003,
          "Photon energy (eV)": 19.1,
          "Polar ang (deg)": 3,
          "Polar ang (rad)": 0.05235987755982988,
          "Target dataset": "good3"
         },
         {
          "Dataset / KE (eV)": "good3 / 13.6",
          "Phase shift diff (deg)": 64.28708159322339,
          "Phase shift diff (rad)": 1.12202124029999,
          "Photoelectron KE (eV)": 13.612611200000003,
          "Photon energy (eV)": 19.1,
          "Polar ang (deg)": 4,
          "Polar ang (rad)": 0.06981317007977318,
          "Target dataset": "good3"
         },
         {
          "Dataset / KE (eV)": "good3 / 13.6",
          "Phase shift diff (deg)": 64.36817448790401,
          "Phase shift diff (rad)": 1.12343657831214,
          "Photoelectron KE (eV)": 13.612611200000003,
          "Photon energy (eV)": 19.1,
          "Polar ang (deg)": 5,
          "Polar ang (rad)": 0.08726646259971647,
          "Target dataset": "good3"
         },
         {
          "Dataset / KE (eV)": "good3 / 13.6",
          "Phase shift diff (deg)": 64.46768231374807,
          "Phase shift diff (rad)": 1.12517331750462,
          "Photoelectron KE (eV)": 13.612611200000003,
          "Photon energy (eV)": 19.1,
          "Polar ang (deg)": 6,
          "Polar ang (rad)": 0.10471975511965977,
          "Target dataset": "good3"
         },
         {
          "Dataset / KE (eV)": "good3 / 13.6",
          "Phase shift diff (deg)": 64.58584396137493,
          "Phase shift diff (rad)": 1.12723562730529,
          "Photoelectron KE (eV)": 13.612611200000003,
          "Photon energy (eV)": 19.1,
          "Polar ang (deg)": 7,
          "Polar ang (rad)": 0.12217304763960307,
          "Target dataset": "good3"
         },
         {
          "Dataset / KE (eV)": "good3 / 13.6",
          "Phase shift diff (deg)": 64.7229438637931,
          "Phase shift diff (rad)": 1.12962847200665,
          "Photoelectron KE (eV)": 13.612611200000003,
          "Photon energy (eV)": 19.1,
          "Polar ang (deg)": 8,
          "Polar ang (rad)": 0.13962634015954636,
          "Target dataset": "good3"
         },
         {
          "Dataset / KE (eV)": "good3 / 13.6",
          "Phase shift diff (deg)": 64.87931305005074,
          "Phase shift diff (rad)": 1.13235762915551,
          "Photoelectron KE (eV)": 13.612611200000003,
          "Photon energy (eV)": 19.1,
          "Polar ang (deg)": 9,
          "Polar ang (rad)": 0.15707963267948966,
          "Target dataset": "good3"
         },
         {
          "Dataset / KE (eV)": "good3 / 13.6",
          "Phase shift diff (deg)": 65.05533035965405,
          "Phase shift diff (rad)": 1.13542971074859,
          "Photoelectron KE (eV)": 13.612611200000003,
          "Photon energy (eV)": 19.1,
          "Polar ang (deg)": 10,
          "Polar ang (rad)": 0.17453292519943295,
          "Target dataset": "good3"
         },
         {
          "Dataset / KE (eV)": "good3 / 13.6",
          "Phase shift diff (deg)": 65.25142381611674,
          "Phase shift diff (rad)": 1.13885218720548,
          "Photoelectron KE (eV)": 13.612611200000003,
          "Photon energy (eV)": 19.1,
          "Polar ang (deg)": 11,
          "Polar ang (rad)": 0.19198621771937624,
          "Target dataset": "good3"
         },
         {
          "Dataset / KE (eV)": "good3 / 13.6",
          "Phase shift diff (deg)": 65.46807215662379,
          "Phase shift diff (rad)": 1.14263341406631,
          "Photoelectron KE (eV)": 13.612611200000003,
          "Photon energy (eV)": 19.1,
          "Polar ang (deg)": 12,
          "Polar ang (rad)": 0.20943951023931953,
          "Target dataset": "good3"
         },
         {
          "Dataset / KE (eV)": "good3 / 13.6",
          "Phase shift diff (deg)": 65.70580651347015,
          "Phase shift diff (rad)": 1.14678266133839,
          "Photoelectron KE (eV)": 13.612611200000003,
          "Photon energy (eV)": 19.1,
          "Polar ang (deg)": 13,
          "Polar ang (rad)": 0.22689280275926282,
          "Target dataset": "good3"
         },
         {
          "Dataset / KE (eV)": "good3 / 13.6",
          "Phase shift diff (deg)": 65.96521224110214,
          "Phase shift diff (rad)": 1.1513101453841,
          "Photoelectron KE (eV)": 13.612611200000003,
          "Photon energy (eV)": 19.1,
          "Polar ang (deg)": 14,
          "Polar ang (rad)": 0.24434609527920614,
          "Target dataset": "good3"
         },
         {
          "Dataset / KE (eV)": "good3 / 13.6",
          "Phase shift diff (deg)": 66.24693087922282,
          "Phase shift diff (rad)": 1.15622706318354,
          "Photoelectron KE (eV)": 13.612611200000003,
          "Photon energy (eV)": 19.1,
          "Polar ang (deg)": 15,
          "Polar ang (rad)": 0.2617993877991494,
          "Target dataset": "good3"
         },
         {
          "Dataset / KE (eV)": "good3 / 13.6",
          "Phase shift diff (deg)": 66.55166224042487,
          "Phase shift diff (rad)": 1.1615456287706,
          "Photoelectron KE (eV)": 13.612611200000003,
          "Photon energy (eV)": 19.1,
          "Polar ang (deg)": 16,
          "Polar ang (rad)": 0.2792526803190927,
          "Target dataset": "good3"
         },
         {
          "Dataset / KE (eV)": "good3 / 13.6",
          "Phase shift diff (deg)": 66.8801666050391,
          "Phase shift diff (rad)": 1.16727911154029,
          "Photoelectron KE (eV)": 13.612611200000003,
          "Photon energy (eV)": 19.1,
          "Polar ang (deg)": 17,
          "Polar ang (rad)": 0.296705972839036,
          "Target dataset": "good3"
         },
         {
          "Dataset / KE (eV)": "good3 / 13.6",
          "Phase shift diff (deg)": 67.23326700199388,
          "Phase shift diff (rad)": 1.17344187605725,
          "Photoelectron KE (eV)": 13.612611200000003,
          "Photon energy (eV)": 19.1,
          "Polar ang (deg)": 18,
          "Polar ang (rad)": 0.3141592653589793,
          "Target dataset": "good3"
         },
         {
          "Dataset / KE (eV)": "good3 / 13.6",
          "Phase shift diff (deg)": 67.6118515469598,
          "Phase shift diff (rad)": 1.18004942286407,
          "Photoelectron KE (eV)": 13.612611200000003,
          "Photon energy (eV)": 19.1,
          "Polar ang (deg)": 19,
          "Polar ang (rad)": 0.33161255787892263,
          "Target dataset": "good3"
         },
         {
          "Dataset / KE (eV)": "good3 / 13.6",
          "Phase shift diff (deg)": 68.01687580161047,
          "Phase shift diff (rad)": 1.18711842965816,
          "Photoelectron KE (eV)": 13.612611200000003,
          "Photon energy (eV)": 19.1,
          "Polar ang (deg)": 20,
          "Polar ang (rad)": 0.3490658503988659,
          "Target dataset": "good3"
         },
         {
          "Dataset / KE (eV)": "good3 / 13.6",
          "Phase shift diff (deg)": 68.4493651076663,
          "Phase shift diff (rad)": 1.1946667920285,
          "Photoelectron KE (eV)": 13.612611200000003,
          "Photon energy (eV)": 19.1,
          "Polar ang (deg)": 21,
          "Polar ang (rad)": 0.3665191429188092,
          "Target dataset": "good3"
         },
         {
          "Dataset / KE (eV)": "good3 / 13.6",
          "Phase shift diff (deg)": 68.91041683742189,
          "Phase shift diff (rad)": 1.20271366273475,
          "Photoelectron KE (eV)": 13.612611200000003,
          "Photon energy (eV)": 19.1,
          "Polar ang (deg)": 22,
          "Polar ang (rad)": 0.3839724354387525,
          "Target dataset": "good3"
         },
         {
          "Dataset / KE (eV)": "good3 / 13.6",
          "Phase shift diff (deg)": 69.40120248840219,
          "Phase shift diff (rad)": 1.2112794882659,
          "Photoelectron KE (eV)": 13.612611200000003,
          "Photon energy (eV)": 19.1,
          "Polar ang (deg)": 23,
          "Polar ang (rad)": 0.40142572795869574,
          "Target dataset": "good3"
         },
         {
          "Dataset / KE (eV)": "good3 / 13.6",
          "Phase shift diff (deg)": 69.92296953207915,
          "Phase shift diff (rad)": 1.22038604110646,
          "Photoelectron KE (eV)": 13.612611200000003,
          "Photon energy (eV)": 19.1,
          "Polar ang (deg)": 24,
          "Polar ang (rad)": 0.41887902047863906,
          "Target dataset": "good3"
         },
         {
          "Dataset / KE (eV)": "good3 / 13.6",
          "Phase shift diff (deg)": 70.4770429063992,
          "Phase shift diff (rad)": 1.23005644578598,
          "Photoelectron KE (eV)": 13.612611200000003,
          "Photon energy (eV)": 19.1,
          "Polar ang (deg)": 25,
          "Polar ang (rad)": 0.4363323129985824,
          "Target dataset": "good3"
         },
         {
          "Dataset / KE (eV)": "good3 / 13.6",
          "Phase shift diff (deg)": 71.0648260173525,
          "Phase shift diff (rad)": 1.24031519635973,
          "Photoelectron KE (eV)": 13.612611200000003,
          "Photon energy (eV)": 19.1,
          "Polar ang (deg)": 26,
          "Polar ang (rad)": 0.45378560551852565,
          "Target dataset": "good3"
         },
         {
          "Dataset / KE (eV)": "good3 / 13.6",
          "Phase shift diff (deg)": 71.68780108703152,
          "Phase shift diff (rad)": 1.25118816248347,
          "Photoelectron KE (eV)": 13.612611200000003,
          "Photon energy (eV)": 19.1,
          "Polar ang (deg)": 27,
          "Polar ang (rad)": 0.47123889803846897,
          "Target dataset": "good3"
         },
         {
          "Dataset / KE (eV)": "good3 / 13.6",
          "Phase shift diff (deg)": 72.34752865240824,
          "Phase shift diff (rad)": 1.26270258066546,
          "Photoelectron KE (eV)": 13.612611200000003,
          "Photon energy (eV)": 19.1,
          "Polar ang (deg)": 28,
          "Polar ang (rad)": 0.4886921905584123,
          "Target dataset": "good3"
         },
         {
          "Dataset / KE (eV)": "good3 / 13.6",
          "Phase shift diff (deg)": 73.045645981716,
          "Phase shift diff (rad)": 1.27488702662711,
          "Photoelectron KE (eV)": 13.612611200000003,
          "Photon energy (eV)": 19.1,
          "Polar ang (deg)": 29,
          "Polar ang (rad)": 0.5061454830783556,
          "Target dataset": "good3"
         },
         {
          "Dataset / KE (eV)": "good3 / 13.6",
          "Phase shift diff (deg)": 73.78386413368978,
          "Phase shift diff (rad)": 1.28777136397704,
          "Photoelectron KE (eV)": 13.612611200000003,
          "Photon energy (eV)": 19.1,
          "Polar ang (deg)": 30,
          "Polar ang (rad)": 0.5235987755982988,
          "Target dataset": "good3"
         },
         {
          "Dataset / KE (eV)": "good3 / 13.6",
          "Phase shift diff (deg)": 74.56396333734732,
          "Phase shift diff (rad)": 1.30138666357305,
          "Photoelectron KE (eV)": 13.612611200000003,
          "Photon energy (eV)": 19.1,
          "Polar ang (deg)": 31,
          "Polar ang (rad)": 0.5410520681182421,
          "Target dataset": "good3"
         },
         {
          "Dataset / KE (eV)": "good3 / 13.6",
          "Phase shift diff (deg)": 75.3877863202951,
          "Phase shift diff (rad)": 1.31576508707909,
          "Photoelectron KE (eV)": 13.612611200000003,
          "Photon energy (eV)": 19.1,
          "Polar ang (deg)": 32,
          "Polar ang (rad)": 0.5585053606381855,
          "Target dataset": "good3"
         },
         {
          "Dataset / KE (eV)": "good3 / 13.6",
          "Phase shift diff (deg)": 76.25722915980062,
          "Phase shift diff (rad)": 1.33093972728635,
          "Photoelectron KE (eV)": 13.612611200000003,
          "Photon energy (eV)": 19.1,
          "Polar ang (deg)": 33,
          "Polar ang (rad)": 0.5759586531581287,
          "Target dataset": "good3"
         },
         {
          "Dataset / KE (eV)": "good3 / 13.6",
          "Phase shift diff (deg)": 77.17422917787412,
          "Phase shift diff (rad)": 1.34694439684258,
          "Photoelectron KE (eV)": 13.612611200000003,
          "Photon energy (eV)": 19.1,
          "Polar ang (deg)": 34,
          "Polar ang (rad)": 0.593411945678072,
          "Target dataset": "good3"
         },
         {
          "Dataset / KE (eV)": "good3 / 13.6",
          "Phase shift diff (deg)": 78.14074935022924,
          "Phase shift diff (rad)": 1.36381335613712,
          "Photoelectron KE (eV)": 13.612611200000003,
          "Photon energy (eV)": 19.1,
          "Polar ang (deg)": 35,
          "Polar ang (rad)": 0.6108652381980153,
          "Target dataset": "good3"
         },
         {
          "Dataset / KE (eV)": "good3 / 13.6",
          "Phase shift diff (deg)": 79.1587586570427,
          "Phase shift diff (rad)": 1.38158097035696,
          "Photoelectron KE (eV)": 13.612611200000003,
          "Photon energy (eV)": 19.1,
          "Polar ang (deg)": 36,
          "Polar ang (rad)": 0.6283185307179586,
          "Target dataset": "good3"
         },
         {
          "Dataset / KE (eV)": "good3 / 13.6",
          "Phase shift diff (deg)": 80.23020777243981,
          "Phase shift diff (rad)": 1.40028128518822,
          "Photoelectron KE (eV)": 13.612611200000003,
          "Photon energy (eV)": 19.1,
          "Polar ang (deg)": 37,
          "Polar ang (rad)": 0.6457718232379019,
          "Target dataset": "good3"
         },
         {
          "Dataset / KE (eV)": "good3 / 13.6",
          "Phase shift diff (deg)": 81.35699948561013,
          "Phase shift diff (rad)": 1.41994751056723,
          "Photoelectron KE (eV)": 13.612611200000003,
          "Photon energy (eV)": 19.1,
          "Polar ang (deg)": 38,
          "Polar ang (rad)": 0.6632251157578453,
          "Target dataset": "good3"
         },
         {
          "Dataset / KE (eV)": "good3 / 13.6",
          "Phase shift diff (deg)": 82.54095327122441,
          "Phase shift diff (rad)": 1.44061140231765,
          "Photoelectron KE (eV)": 13.612611200000003,
          "Photon energy (eV)": 19.1,
          "Polar ang (deg)": 39,
          "Polar ang (rad)": 0.6806784082777886,
          "Target dataset": "good3"
         },
         {
          "Dataset / KE (eV)": "good3 / 13.6",
          "Phase shift diff (deg)": 83.78376350208626,
          "Phase shift diff (rad)": 1.46230253282366,
          "Photoelectron KE (eV)": 13.612611200000003,
          "Photon energy (eV)": 19.1,
          "Polar ang (deg)": 40,
          "Polar ang (rad)": 0.6981317007977318,
          "Target dataset": "good3"
         },
         {
          "Dataset / KE (eV)": "good3 / 13.6",
          "Phase shift diff (deg)": 85.08695093172453,
          "Phase shift diff (rad)": 1.48504744424145,
          "Photoelectron KE (eV)": 13.612611200000003,
          "Photon energy (eV)": 19.1,
          "Polar ang (deg)": 41,
          "Polar ang (rad)": 0.7155849933176751,
          "Target dataset": "good3"
         },
         {
          "Dataset / KE (eV)": "good3 / 13.6",
          "Phase shift diff (deg)": 86.4518072886996,
          "Phase shift diff (rad)": 1.50886868148744,
          "Photoelectron KE (eV)": 13.612611200000003,
          "Photon energy (eV)": 19.1,
          "Polar ang (deg)": 42,
          "Polar ang (rad)": 0.7330382858376184,
          "Target dataset": "good3"
         },
         {
          "Dataset / KE (eV)": "good3 / 13.6",
          "Phase shift diff (deg)": 87.87933313243943,
          "Phase shift diff (rad)": 1.53378370761801,
          "Photoelectron KE (eV)": 13.612611200000003,
          "Photon energy (eV)": 19.1,
          "Polar ang (deg)": 43,
          "Polar ang (rad)": 0.7504915783575618,
          "Target dataset": "good3"
         },
         {
          "Dataset / KE (eV)": "good3 / 13.6",
          "Phase shift diff (deg)": 89.37016953538047,
          "Phase shift diff (rad)": 1.55980371145792,
          "Photoelectron KE (eV)": 13.612611200000003,
          "Photon energy (eV)": 19.1,
          "Polar ang (deg)": 44,
          "Polar ang (rad)": 0.767944870877505,
          "Target dataset": "good3"
         },
         {
          "Dataset / KE (eV)": "good3 / 13.6",
          "Phase shift diff (deg)": 90.92452468498453,
          "Phase shift diff (rad)": 1.58693232656384,
          "Photoelectron KE (eV)": 13.612611200000003,
          "Photon energy (eV)": 19.1,
          "Polar ang (deg)": 45,
          "Polar ang (rad)": 0.7853981633974483,
          "Target dataset": "good3"
         },
         {
          "Dataset / KE (eV)": "good3 / 13.6",
          "Phase shift diff (deg)": 92.54209713730609,
          "Phase shift diff (rad)": 1.61516429174641,
          "Photoelectron KE (eV)": 13.612611200000003,
          "Photon energy (eV)": 19.1,
          "Polar ang (deg)": 46,
          "Polar ang (rad)": 0.8028514559173915,
          "Target dataset": "good3"
         },
         {
          "Dataset / KE (eV)": "good3 / 13.6",
          "Phase shift diff (deg)": 94.22199817997853,
          "Phase shift diff (rad)": 1.64448409604873,
          "Photoelectron KE (eV)": 13.612611200000003,
          "Photon energy (eV)": 19.1,
          "Polar ang (deg)": 47,
          "Polar ang (rad)": 0.8203047484373349,
          "Target dataset": "good3"
         },
         {
          "Dataset / KE (eV)": "good3 / 13.6",
          "Phase shift diff (deg)": 95.96267653483193,
          "Phase shift diff (rad)": 1.67486466455912,
          "Photoelectron KE (eV)": 13.612611200000003,
          "Photon energy (eV)": 19.1,
          "Polar ang (deg)": 48,
          "Polar ang (rad)": 0.8377580409572781,
          "Target dataset": "good3"
         },
         {
          "Dataset / KE (eV)": "good3 / 13.6",
          "Phase shift diff (deg)": 97.76184938159473,
          "Phase shift diff (rad)": 1.70626615454761,
          "Photoelectron KE (eV)": 13.612611200000003,
          "Photon energy (eV)": 19.1,
          "Polar ang (deg)": 49,
          "Polar ang (rad)": 0.8552113334772213,
          "Target dataset": "good3"
         },
         {
          "Dataset / KE (eV)": "good3 / 13.6",
          "Phase shift diff (deg)": 99.61644432057618,
          "Phase shift diff (rad)": 1.73863494252366,
          "Photoelectron KE (eV)": 13.612611200000003,
          "Photon energy (eV)": 19.1,
          "Polar ang (deg)": 50,
          "Polar ang (rad)": 0.8726646259971648,
          "Target dataset": "good3"
         },
         {
          "Dataset / KE (eV)": "good3 / 13.6",
          "Phase shift diff (deg)": 101.52255730036701,
          "Phase shift diff (rad)": 1.77190288993601,
          "Photoelectron KE (eV)": 13.612611200000003,
          "Photon energy (eV)": 19.1,
          "Polar ang (deg)": 51,
          "Polar ang (rad)": 0.890117918517108,
          "Target dataset": "good3"
         },
         {
          "Dataset / KE (eV)": "good3 / 13.6",
          "Phase shift diff (deg)": 103.47543159272205,
          "Phase shift diff (rad)": 1.80598697621516,
          "Photoelectron KE (eV)": 13.612611200000003,
          "Photon energy (eV)": 19.1,
          "Polar ang (deg)": 52,
          "Polar ang (rad)": 0.9075712110370513,
          "Target dataset": "good3"
         },
         {
          "Dataset / KE (eV)": "good3 / 13.6",
          "Phase shift diff (deg)": 105.46946248690048,
          "Phase shift diff (rad)": 1.84078938070506,
          "Photoelectron KE (eV)": 13.612611200000003,
          "Photon energy (eV)": 19.1,
          "Polar ang (deg)": 53,
          "Polar ang (rad)": 0.9250245035569946,
          "Target dataset": "good3"
         },
         {
          "Dataset / KE (eV)": "good3 / 13.6",
          "Phase shift diff (deg)": 107.49823141961959,
          "Phase shift diff (rad)": 1.87619807834318,
          "Photoelectron KE (eV)": 13.612611200000003,
          "Photon energy (eV)": 19.1,
          "Polar ang (deg)": 54,
          "Polar ang (rad)": 0.9424777960769379,
          "Target dataset": "good3"
         },
         {
          "Dataset / KE (eV)": "good3 / 13.6",
          "Phase shift diff (deg)": 109.55457174028801,
          "Phase shift diff (rad)": 1.91208798748036,
          "Photoelectron KE (eV)": 13.612611200000003,
          "Photon energy (eV)": 19.1,
          "Polar ang (deg)": 55,
          "Polar ang (rad)": 0.9599310885968813,
          "Target dataset": "good3"
         },
         {
          "Dataset / KE (eV)": "good3 / 13.6",
          "Phase shift diff (deg)": 111.6306662964181,
          "Phase shift diff (rad)": 1.94832267306756,
          "Photoelectron KE (eV)": 13.612611200000003,
          "Photon energy (eV)": 19.1,
          "Polar ang (deg)": 56,
          "Polar ang (rad)": 0.9773843811168246,
          "Target dataset": "good3"
         },
         {
          "Dataset / KE (eV)": "good3 / 13.6",
          "Phase shift diff (deg)": 113.71817467755524,
          "Phase shift diff (rad)": 1.98475656748138,
          "Photoelectron KE (eV)": 13.612611200000003,
          "Photon energy (eV)": 19.1,
          "Polar ang (deg)": 57,
          "Polar ang (rad)": 0.9948376736367678,
          "Target dataset": "good3"
         },
         {
          "Dataset / KE (eV)": "good3 / 13.6",
          "Phase shift diff (deg)": 115.80838552161542,
          "Phase shift diff (rad)": 2.02123762877112,
          "Photoelectron KE (eV)": 13.612611200000003,
          "Photon energy (eV)": 19.1,
          "Polar ang (deg)": 58,
          "Polar ang (rad)": 1.0122909661567112,
          "Target dataset": "good3"
         },
         {
          "Dataset / KE (eV)": "good3 / 13.6",
          "Phase shift diff (deg)": 117.89238706552632,
          "Phase shift diff (rad)": 2.05761031732901,
          "Photoelectron KE (eV)": 13.612611200000003,
          "Photon energy (eV)": 19.1,
          "Polar ang (deg)": 59,
          "Polar ang (rad)": 1.0297442586766543,
          "Target dataset": "good3"
         },
         {
          "Dataset / KE (eV)": "good3 / 13.6",
          "Phase shift diff (deg)": 119.96124741811136,
          "Phase shift diff (rad)": 2.09371874224559,
          "Photoelectron KE (eV)": 13.612611200000003,
          "Photon energy (eV)": 19.1,
          "Polar ang (deg)": 60,
          "Polar ang (rad)": 1.0471975511965976,
          "Target dataset": "good3"
         },
         {
          "Dataset / KE (eV)": "good3 / 13.6",
          "Phase shift diff (deg)": 122.00619509452352,
          "Phase shift diff (rad)": 2.12940981222999,
          "Photoelectron KE (eV)": 13.612611200000003,
          "Photon energy (eV)": 19.1,
          "Polar ang (deg)": 61,
          "Polar ang (rad)": 1.064650843716541,
          "Target dataset": "good3"
         },
         {
          "Dataset / KE (eV)": "good3 / 13.6",
          "Phase shift diff (deg)": 124.01879032246417,
          "Phase shift diff (rad)": 2.16453622546748,
          "Photoelectron KE (eV)": 13.612611200000003,
          "Photon energy (eV)": 19.1,
          "Polar ang (deg)": 62,
          "Polar ang (rad)": 1.0821041362364843,
          "Target dataset": "good3"
         },
         {
          "Dataset / KE (eV)": "good3 / 13.6",
          "Phase shift diff (deg)": 125.99107851004061,
          "Phase shift diff (rad)": 2.19895914813888,
          "Photoelectron KE (eV)": 13.612611200000003,
          "Photon energy (eV)": 19.1,
          "Polar ang (deg)": 63,
          "Polar ang (rad)": 1.0995574287564276,
          "Target dataset": "good3"
         },
         {
          "Dataset / KE (eV)": "good3 / 13.6",
          "Phase shift diff (deg)": 127.91571893459353,
          "Phase shift diff (rad)": 2.23255046046431,
          "Photoelectron KE (eV)": 13.612611200000003,
          "Photon energy (eV)": 19.1,
          "Polar ang (deg)": 64,
          "Polar ang (rad)": 1.117010721276371,
          "Target dataset": "good3"
         },
         {
          "Dataset / KE (eV)": "good3 / 13.6",
          "Phase shift diff (deg)": 129.78608390091944,
          "Phase shift diff (rad)": 2.26519448734065,
          "Photoelectron KE (eV)": 13.612611200000003,
          "Photon energy (eV)": 19.1,
          "Polar ang (deg)": 65,
          "Polar ang (rad)": 1.1344640137963142,
          "Target dataset": "good3"
         },
         {
          "Dataset / KE (eV)": "good3 / 13.6",
          "Phase shift diff (deg)": 131.59632605463958,
          "Phase shift diff (rad)": 2.29678917318146,
          "Photoelectron KE (eV)": 13.612611200000003,
          "Photon energy (eV)": 19.1,
          "Polar ang (deg)": 66,
          "Polar ang (rad)": 1.1519173063162573,
          "Target dataset": "good3"
         },
         {
          "Dataset / KE (eV)": "good3 / 13.6",
          "Phase shift diff (deg)": 133.3414138972485,
          "Phase shift diff (rad)": 2.32724670177151,
          "Photoelectron KE (eV)": 13.612611200000003,
          "Photon energy (eV)": 19.1,
          "Polar ang (deg)": 67,
          "Polar ang (rad)": 1.1693705988362009,
          "Target dataset": "good3"
         },
         {
          "Dataset / KE (eV)": "good3 / 13.6",
          "Phase shift diff (deg)": 135.01713759210264,
          "Phase shift diff (rad)": 2.3564935976004,
          "Photoelectron KE (eV)": 13.612611200000003,
          "Photon energy (eV)": 19.1,
          "Polar ang (deg)": 68,
          "Polar ang (rad)": 1.186823891356144,
          "Target dataset": "good3"
         },
         {
          "Dataset / KE (eV)": "good3 / 13.6",
          "Phase shift diff (deg)": 136.620088707645,
          "Phase shift diff (rad)": 2.38447037231513,
          "Photoelectron KE (eV)": 13.612611200000003,
          "Photon energy (eV)": 19.1,
          "Polar ang (deg)": 69,
          "Polar ang (rad)": 1.2042771838760875,
          "Target dataset": "good3"
         },
         {
          "Dataset / KE (eV)": "good3 / 13.6",
          "Phase shift diff (deg)": 138.14761854104097,
          "Phase shift diff (rad)": 2.41113079733033,
          "Photoelectron KE (eV)": 13.612611200000003,
          "Photon energy (eV)": 19.1,
          "Polar ang (deg)": 70,
          "Polar ang (rad)": 1.2217304763960306,
          "Target dataset": "good3"
         },
         {
          "Dataset / KE (eV)": "good3 / 13.6",
          "Phase shift diff (deg)": 139.59778011595407,
          "Phase shift diff (rad)": 2.43644089149847,
          "Photoelectron KE (eV)": 13.612611200000003,
          "Photon energy (eV)": 19.1,
          "Polar ang (deg)": 71,
          "Polar ang (rad)": 1.239183768915974,
          "Target dataset": "good3"
         },
         {
          "Dataset / KE (eV)": "good3 / 13.6",
          "Phase shift diff (deg)": 140.96925893112308,
          "Phase shift diff (rad)": 2.46037771244452,
          "Photoelectron KE (eV)": 13.612611200000003,
          "Photon energy (eV)": 19.1,
          "Polar ang (deg)": 72,
          "Polar ang (rad)": 1.2566370614359172,
          "Target dataset": "good3"
         },
         {
          "Dataset / KE (eV)": "good3 / 13.6",
          "Phase shift diff (deg)": 142.26129716466053,
          "Phase shift diff (rad)": 2.4829280336814,
          "Photoelectron KE (eV)": 13.612611200000003,
          "Photon energy (eV)": 19.1,
          "Polar ang (deg)": 73,
          "Polar ang (rad)": 1.2740903539558606,
          "Target dataset": "good3"
         },
         {
          "Dataset / KE (eV)": "good3 / 13.6",
          "Phase shift diff (deg)": 143.4736154409796,
          "Phase shift diff (rad)": 2.50408697918527,
          "Photoelectron KE (eV)": 13.612611200000003,
          "Photon energy (eV)": 19.1,
          "Polar ang (deg)": 74,
          "Polar ang (rad)": 1.2915436464758039,
          "Target dataset": "good3"
         },
         {
          "Dataset / KE (eV)": "good3 / 13.6",
          "Phase shift diff (deg)": 144.6063355649201,
          "Phase shift diff (rad)": 2.52385667485163,
          "Photoelectron KE (eV)": 13.612611200000003,
          "Photon energy (eV)": 19.1,
          "Polar ang (deg)": 75,
          "Polar ang (rad)": 1.3089969389957472,
          "Target dataset": "good3"
         },
         {
          "Dataset / KE (eV)": "good3 / 13.6",
          "Phase shift diff (deg)": 145.65990692605945,
          "Phase shift diff (rad)": 2.54224496400823,
          "Photoelectron KE (eV)": 13.612611200000003,
          "Photon energy (eV)": 19.1,
          "Polar ang (deg)": 76,
          "Polar ang (rad)": 1.3264502315156905,
          "Target dataset": "good3"
         },
         {
          "Dataset / KE (eV)": "good3 / 13.6",
          "Phase shift diff (deg)": 146.63503866748317,
          "Phase shift diff (rad)": 2.55926422353678,
          "Photoelectron KE (eV)": 13.612611200000003,
          "Photon energy (eV)": 19.1,
          "Polar ang (deg)": 77,
          "Polar ang (rad)": 1.3439035240356336,
          "Target dataset": "good3"
         },
         {
          "Dataset / KE (eV)": "good3 / 13.6",
          "Phase shift diff (deg)": 147.53263928071868,
          "Phase shift diff (rad)": 2.57493030960566,
          "Photoelectron KE (eV)": 13.612611200000003,
          "Photon energy (eV)": 19.1,
          "Polar ang (deg)": 78,
          "Polar ang (rad)": 1.3613568165555772,
          "Target dataset": "good3"
         },
         {
          "Dataset / KE (eV)": "good3 / 13.6",
          "Phase shift diff (deg)": 148.35376513693373,
          "Phase shift diff (rad)": 2.58926165936987,
          "Photoelectron KE (eV)": 13.612611200000003,
          "Photon energy (eV)": 19.1,
          "Polar ang (deg)": 79,
          "Polar ang (rad)": 1.3788101090755203,
          "Target dataset": "good3"
         },
         {
          "Dataset / KE (eV)": "good3 / 13.6",
          "Phase shift diff (deg)": 149.09957977226148,
          "Phase shift diff (rad)": 2.6022785803659,
          "Photoelectron KE (eV)": 13.612611200000003,
          "Photon energy (eV)": 19.1,
          "Polar ang (deg)": 80,
          "Polar ang (rad)": 1.3962634015954636,
          "Target dataset": "good3"
         },
         {
          "Dataset / KE (eV)": "good3 / 13.6",
          "Phase shift diff (deg)": 149.77132688433696,
          "Phase shift diff (rad)": 2.61400277921238,
          "Photoelectron KE (eV)": 13.612611200000003,
          "Photon energy (eV)": 19.1,
          "Polar ang (deg)": 81,
          "Polar ang (rad)": 1.413716694115407,
          "Target dataset": "good3"
         },
         {
          "Dataset / KE (eV)": "good3 / 13.6",
          "Phase shift diff (deg)": 150.37032287088812,
          "Phase shift diff (rad)": 2.62445723138393,
          "Photoelectron KE (eV)": 13.612611200000003,
          "Photon energy (eV)": 19.1,
          "Polar ang (deg)": 82,
          "Polar ang (rad)": 1.4311699866353502,
          "Target dataset": "good3"
         },
         {
          "Dataset / KE (eV)": "good3 / 13.6",
          "Phase shift diff (deg)": 150.89798165597622,
          "Phase shift diff (rad)": 2.63366661451079,
          "Photoelectron KE (eV)": 13.612611200000003,
          "Photon energy (eV)": 19.1,
          "Polar ang (deg)": 83,
          "Polar ang (rad)": 1.4486232791552935,
          "Target dataset": "good3"
         },
         {
          "Dataset / KE (eV)": "good3 / 13.6",
          "Phase shift diff (deg)": 151.35590211175997,
          "Phase shift diff (rad)": 2.64165883417645,
          "Photoelectron KE (eV)": 13.612611200000003,
          "Photon energy (eV)": 19.1,
          "Polar ang (deg)": 84,
          "Polar ang (rad)": 1.4660765716752369,
          "Target dataset": "good3"
         },
         {
          "Dataset / KE (eV)": "good3 / 13.6",
          "Phase shift diff (deg)": 151.74609773221658,
          "Phase shift diff (rad)": 2.64846903248028,
          "Photoelectron KE (eV)": 13.612611200000003,
          "Photon energy (eV)": 19.1,
          "Polar ang (deg)": 85,
          "Polar ang (rad)": 1.48352986419518,
          "Target dataset": "good3"
         },
         {
          "Dataset / KE (eV)": "good3 / 13.6",
          "Phase shift diff (deg)": 152.07160870724024,
          "Phase shift diff (rad)": 2.65415027074582,
          "Photoelectron KE (eV)": 13.612611200000003,
          "Photon energy (eV)": 19.1,
          "Polar ang (deg)": 86,
          "Polar ang (rad)": 1.5009831567151235,
          "Target dataset": "good3"
         },
         {
          "Dataset / KE (eV)": "good3 / 13.6",
          "Phase shift diff (deg)": 152.33837864209005,
          "Phase shift diff (rad)": 2.65880628445428,
          "Photoelectron KE (eV)": 13.612611200000003,
          "Photon energy (eV)": 19.1,
          "Polar ang (deg)": 87,
          "Polar ang (rad)": 1.5184364492350666,
          "Target dataset": "good3"
         },
         {
          "Dataset / KE (eV)": "good3 / 13.6",
          "Phase shift diff (deg)": 152.56281090064613,
          "Phase shift diff (rad)": 2.66272336631377,
          "Photoelectron KE (eV)": 13.612611200000003,
          "Photon energy (eV)": 19.1,
          "Polar ang (deg)": 88,
          "Polar ang (rad)": 1.53588974175501,
          "Target dataset": "good3"
         },
         {
          "Dataset / KE (eV)": "good3 / 13.6",
          "Phase shift diff (deg)": 152.82477637477973,
          "Phase shift diff (rad)": 2.66729552636395,
          "Photoelectron KE (eV)": 13.612611200000003,
          "Photon energy (eV)": 19.1,
          "Polar ang (deg)": 89,
          "Polar ang (rad)": 1.5533430342749532,
          "Target dataset": "good3"
         },
         {
          "Dataset / KE (eV)": "good3 / 13.6",
          "Phase shift diff (deg)": 332.1916472199835,
          "Phase shift diff (rad)": 5.79783799161218,
          "Photoelectron KE (eV)": 13.612611200000003,
          "Photon energy (eV)": 19.1,
          "Polar ang (deg)": 91,
          "Polar ang (rad)": 1.5882496193148399,
          "Target dataset": "good3"
         },
         {
          "Dataset / KE (eV)": "good3 / 13.6",
          "Phase shift diff (deg)": 332.248594838352,
          "Phase shift diff (rad)": 5.79883191505388,
          "Photoelectron KE (eV)": 13.612611200000003,
          "Photon energy (eV)": 19.1,
          "Polar ang (deg)": 92,
          "Polar ang (rad)": 1.605702911834783,
          "Target dataset": "good3"
         },
         {
          "Dataset / KE (eV)": "good3 / 13.6",
          "Phase shift diff (deg)": 332.1315123001957,
          "Phase shift diff (rad)": 5.79678843926646,
          "Photoelectron KE (eV)": 13.612611200000003,
          "Photon energy (eV)": 19.1,
          "Polar ang (deg)": 93,
          "Polar ang (rad)": 1.6231562043547265,
          "Target dataset": "good3"
         },
         {
          "Dataset / KE (eV)": "good3 / 13.6",
          "Phase shift diff (deg)": 331.91919963049367,
          "Phase shift diff (rad)": 5.79308288413646,
          "Photoelectron KE (eV)": 13.612611200000003,
          "Photon energy (eV)": 19.1,
          "Polar ang (deg)": 94,
          "Polar ang (rad)": 1.6406094968746698,
          "Target dataset": "good3"
         },
         {
          "Dataset / KE (eV)": "good3 / 13.6",
          "Phase shift diff (deg)": 331.62698765901996,
          "Phase shift diff (rad)": 5.7879828231205,
          "Photoelectron KE (eV)": 13.612611200000003,
          "Photon energy (eV)": 19.1,
          "Polar ang (deg)": 95,
          "Polar ang (rad)": 1.6580627893946132,
          "Target dataset": "good3"
         },
         {
          "Dataset / KE (eV)": "good3 / 13.6",
          "Phase shift diff (deg)": 331.25951023317884,
          "Phase shift diff (rad)": 5.78156913211282,
          "Photoelectron KE (eV)": 13.612611200000003,
          "Photon energy (eV)": 19.1,
          "Polar ang (deg)": 96,
          "Polar ang (rad)": 1.6755160819145563,
          "Target dataset": "good3"
         },
         {
          "Dataset / KE (eV)": "good3 / 13.6",
          "Phase shift diff (deg)": 330.81825955454156,
          "Phase shift diff (rad)": 5.77386785494394,
          "Photoelectron KE (eV)": 13.612611200000003,
          "Photon energy (eV)": 19.1,
          "Polar ang (deg)": 97,
          "Polar ang (rad)": 1.6929693744344996,
          "Target dataset": "good3"
         },
         {
          "Dataset / KE (eV)": "good3 / 13.6",
          "Phase shift diff (deg)": 330.30348734648146,
          "Phase shift diff (rad)": 5.76488338501553,
          "Photoelectron KE (eV)": 13.612611200000003,
          "Photon energy (eV)": 19.1,
          "Polar ang (deg)": 98,
          "Polar ang (rad)": 1.7104226669544427,
          "Target dataset": "good3"
         },
         {
          "Dataset / KE (eV)": "good3 / 13.6",
          "Phase shift diff (deg)": 329.71485202871605,
          "Phase shift diff (rad)": 5.754609760627,
          "Photoelectron KE (eV)": 13.612611200000003,
          "Photon energy (eV)": 19.1,
          "Polar ang (deg)": 99,
          "Polar ang (rad)": 1.7278759594743864,
          "Target dataset": "good3"
         },
         {
          "Dataset / KE (eV)": "good3 / 13.6",
          "Phase shift diff (deg)": 329.05169269617153,
          "Phase shift diff (rad)": 5.74303544680877,
          "Photoelectron KE (eV)": 13.612611200000003,
          "Photon energy (eV)": 19.1,
          "Polar ang (deg)": 100,
          "Polar ang (rad)": 1.7453292519943295,
          "Target dataset": "good3"
         },
         {
          "Dataset / KE (eV)": "good3 / 13.6",
          "Phase shift diff (deg)": 328.3131705866033,
          "Phase shift diff (rad)": 5.73014580439803,
          "Photoelectron KE (eV)": 13.612611200000003,
          "Photon energy (eV)": 19.1,
          "Polar ang (deg)": 101,
          "Polar ang (rad)": 1.7627825445142729,
          "Target dataset": "good3"
         },
         {
          "Dataset / KE (eV)": "good3 / 13.6",
          "Phase shift diff (deg)": 327.4983586597711,
          "Phase shift diff (rad)": 5.71592465349029,
          "Photoelectron KE (eV)": 13.612611200000003,
          "Photon energy (eV)": 19.1,
          "Polar ang (deg)": 102,
          "Polar ang (rad)": 1.780235837034216,
          "Target dataset": "good3"
         },
         {
          "Dataset / KE (eV)": "good3 / 13.6",
          "Phase shift diff (deg)": 326.6063106289586,
          "Phase shift diff (rad)": 5.70035547826668,
          "Photoelectron KE (eV)": 13.612611200000003,
          "Photon energy (eV)": 19.1,
          "Polar ang (deg)": 103,
          "Polar ang (rad)": 1.7976891295541593,
          "Target dataset": "good3"
         },
         {
          "Dataset / KE (eV)": "good3 / 13.6",
          "Phase shift diff (deg)": 325.63612312129777,
          "Phase shift diff (rad)": 5.68342251189628,
          "Photoelectron KE (eV)": 13.612611200000003,
          "Photon energy (eV)": 19.1,
          "Polar ang (deg)": 104,
          "Polar ang (rad)": 1.8151424220741026,
          "Target dataset": "good3"
         },
         {
          "Dataset / KE (eV)": "good3 / 13.6",
          "Phase shift diff (deg)": 324.58699747189564,
          "Phase shift diff (rad)": 5.66511181504709,
          "Photoelectron KE (eV)": 13.612611200000003,
          "Photon energy (eV)": 19.1,
          "Polar ang (deg)": 105,
          "Polar ang (rad)": 1.8325957145940461,
          "Target dataset": "good3"
         },
         {
          "Dataset / KE (eV)": "good3 / 13.6",
          "Phase shift diff (deg)": 323.45830436433675,
          "Phase shift diff (rad)": 5.64541240407562,
          "Photoelectron KE (eV)": 13.612611200000003,
          "Photon energy (eV)": 19.1,
          "Polar ang (deg)": 106,
          "Polar ang (rad)": 1.8500490071139892,
          "Target dataset": "good3"
         },
         {
          "Dataset / KE (eV)": "good3 / 13.6",
          "Phase shift diff (deg)": 322.2496527715816,
          "Phase shift diff (rad)": 5.62431745427257,
          "Photoelectron KE (eV)": 13.612611200000003,
          "Photon energy (eV)": 19.1,
          "Polar ang (deg)": 107,
          "Polar ang (rad)": 1.8675022996339325,
          "Target dataset": "good3"
         },
         {
          "Dataset / KE (eV)": "good3 / 13.6",
          "Phase shift diff (deg)": 320.9609635089351,
          "Phase shift diff (rad)": 5.60182558360429,
          "Photoelectron KE (eV)": 13.612611200000003,
          "Photon energy (eV)": 19.1,
          "Polar ang (deg)": 108,
          "Polar ang (rad)": 1.8849555921538759,
          "Target dataset": "good3"
         },
         {
          "Dataset / KE (eV)": "good3 / 13.6",
          "Phase shift diff (deg)": 319.59254679645585,
          "Phase shift diff (rad)": 5.57794220643221,
          "Photoelectron KE (eV)": 13.612611200000003,
          "Photon energy (eV)": 19.1,
          "Polar ang (deg)": 109,
          "Polar ang (rad)": 1.902408884673819,
          "Target dataset": "good3"
         },
         {
          "Dataset / KE (eV)": "good3 / 13.6",
          "Phase shift diff (deg)": 318.14518237584093,
          "Phase shift diff (rad)": 5.55268093181626,
          "Photoelectron KE (eV)": 13.612611200000003,
          "Photon energy (eV)": 19.1,
          "Polar ang (deg)": 110,
          "Polar ang (rad)": 1.9198621771937625,
          "Target dataset": "good3"
         },
         {
          "Dataset / KE (eV)": "good3 / 13.6",
          "Phase shift diff (deg)": 316.62019987691946,
          "Phase shift diff (rad)": 5.52606496617479,
          "Photoelectron KE (eV)": 13.612611200000003,
          "Photon energy (eV)": 19.1,
          "Polar ang (deg)": 111,
          "Polar ang (rad)": 1.9373154697137058,
          "Target dataset": "good3"
         },
         {
          "Dataset / KE (eV)": "good3 / 13.6",
          "Phase shift diff (deg)": 315.0195562834223,
          "Phase shift diff (rad)": 5.49812846531731,
          "Photoelectron KE (eV)": 13.612611200000003,
          "Photon energy (eV)": 19.1,
          "Polar ang (deg)": 112,
          "Polar ang (rad)": 1.9547687622336491,
          "Target dataset": "good3"
         },
         {
          "Dataset / KE (eV)": "good3 / 13.6",
          "Phase shift diff (deg)": 313.3459065545942,
          "Phase shift diff (rad)": 5.46891776702415,
          "Photoelectron KE (eV)": 13.612611200000003,
          "Photon energy (eV)": 19.1,
          "Polar ang (deg)": 113,
          "Polar ang (rad)": 1.9722220547535922,
          "Target dataset": "good3"
         },
         {
          "Dataset / KE (eV)": "good3 / 13.6",
          "Phase shift diff (deg)": 311.602662802078,
          "Phase shift diff (rad)": 5.43849242387792,
          "Photoelectron KE (eV)": 13.612611200000003,
          "Photon energy (eV)": 19.1,
          "Polar ang (deg)": 114,
          "Polar ang (rad)": 1.9896753472735356,
          "Target dataset": "good3"
         },
         {
          "Dataset / KE (eV)": "good3 / 13.6",
          "Phase shift diff (deg)": 309.79403700788697,
          "Phase shift diff (rad)": 5.40692594883279,
          "Photoelectron KE (eV)": 13.612611200000003,
          "Photon energy (eV)": 19.1,
          "Polar ang (deg)": 115,
          "Polar ang (rad)": 2.007128639793479,
          "Target dataset": "good3"
         },
         {
          "Dataset / KE (eV)": "good3 / 13.6",
          "Phase shift diff (deg)": 307.9250622215057,
          "Phase shift diff (rad)": 5.37430618517368,
          "Photoelectron KE (eV)": 13.612611200000003,
          "Photon energy (eV)": 19.1,
          "Polar ang (deg)": 116,
          "Polar ang (rad)": 2.0245819323134224,
          "Target dataset": "good3"
         },
         {
          "Dataset / KE (eV)": "good3 / 13.6",
          "Phase shift diff (deg)": 306.0015876014878,
          "Phase shift diff (rad)": 5.34073521997582,
          "Photoelectron KE (eV)": 13.612611200000003,
          "Photon energy (eV)": 19.1,
          "Polar ang (deg)": 117,
          "Polar ang (rad)": 2.0420352248333655,
          "Target dataset": "good3"
         },
         {
          "Dataset / KE (eV)": "good3 / 13.6",
          "Phase shift diff (deg)": 304.0302436471196,
          "Phase shift diff (rad)": 5.30632877728281,
          "Photoelectron KE (eV)": 13.612611200000003,
          "Photon energy (eV)": 19.1,
          "Polar ang (deg)": 118,
          "Polar ang (rad)": 2.0594885173533086,
          "Target dataset": "good3"
         },
         {
          "Dataset / KE (eV)": "good3 / 13.6",
          "Phase shift diff (deg)": 302.01837551052495,
          "Phase shift diff (rad)": 5.27121505418327,
          "Photoelectron KE (eV)": 13.612611200000003,
          "Photon energy (eV)": 19.1,
          "Polar ang (deg)": 119,
          "Polar ang (rad)": 2.076941809873252,
          "Target dataset": "good3"
         },
         {
          "Dataset / KE (eV)": "good3 / 13.6",
          "Phase shift diff (deg)": 299.973944318002,
          "Phase shift diff (rad)": 5.23553299854327,
          "Photoelectron KE (eV)": 13.612611200000003,
          "Photon energy (eV)": 19.1,
          "Polar ang (deg)": 120,
          "Polar ang (rad)": 2.0943951023931953,
          "Target dataset": "good3"
         },
         {
          "Dataset / KE (eV)": "good3 / 13.6",
          "Phase shift diff (deg)": 297.9053987925897,
          "Phase shift diff (rad)": 5.19943006839743,
          "Photoelectron KE (eV)": 13.612611200000003,
          "Photon energy (eV)": 19.1,
          "Polar ang (deg)": 121,
          "Polar ang (rad)": 2.111848394913139,
          "Target dataset": "good3"
         },
         {
          "Dataset / KE (eV)": "good3 / 13.6",
          "Phase shift diff (deg)": 295.82152190891856,
          "Phase shift diff (rad)": 5.16305955557117,
          "Photoelectron KE (eV)": 13.612611200000003,
          "Photon energy (eV)": 19.1,
          "Polar ang (deg)": 122,
          "Polar ang (rad)": 2.129301687433082,
          "Target dataset": "good3"
         },
         {
          "Dataset / KE (eV)": "good3 / 13.6",
          "Phase shift diff (deg)": 293.7312595208681,
          "Phase shift diff (rad)": 5.12657759466909,
          "Photoelectron KE (eV)": 13.612611200000003,
          "Photon energy (eV)": 19.1,
          "Polar ang (deg)": 123,
          "Polar ang (rad)": 2.1467549799530254,
          "Target dataset": "good3"
         },
         {
          "Dataset / KE (eV)": "good3 / 13.6",
          "Phase shift diff (deg)": 291.6435395796476,
          "Phase shift diff (rad)": 5.09014000783525,
          "Photoelectron KE (eV)": 13.612611200000003,
          "Photon energy (eV)": 19.1,
          "Polar ang (deg)": 124,
          "Polar ang (rad)": 2.1642082724729685,
          "Target dataset": "good3"
         },
         {
          "Dataset / KE (eV)": "good3 / 13.6",
          "Phase shift diff (deg)": 289.5670914584465,
          "Phase shift diff (rad)": 5.05389915137344,
          "Photoelectron KE (eV)": 13.612611200000003,
          "Photon energy (eV)": 19.1,
          "Polar ang (deg)": 125,
          "Polar ang (rad)": 2.1816615649929116,
          "Target dataset": "good3"
         },
         {
          "Dataset / KE (eV)": "good3 / 13.6",
          "Phase shift diff (deg)": 287.510274882774,
          "Phase shift diff (rad)": 5.01800093001836,
          "Photoelectron KE (eV)": 13.612611200000003,
          "Photon energy (eV)": 19.1,
          "Polar ang (deg)": 126,
          "Polar ang (rad)": 2.199114857512855,
          "Target dataset": "good3"
         },
         {
          "Dataset / KE (eV)": "good3 / 13.6",
          "Phase shift diff (deg)": 285.48092703576356,
          "Phase shift diff (rad)": 4.98258212841977,
          "Photoelectron KE (eV)": 13.612611200000003,
          "Photon energy (eV)": 19.1,
          "Polar ang (deg)": 127,
          "Polar ang (rad)": 2.2165681500327987,
          "Target dataset": "good3"
         },
         {
          "Dataset / KE (eV)": "good3 / 13.6",
          "Phase shift diff (deg)": 283.48623470601547,
          "Phase shift diff (rad)": 4.94776817970139,
          "Photoelectron KE (eV)": 13.612611200000003,
          "Photon energy (eV)": 19.1,
          "Polar ang (deg)": 128,
          "Polar ang (rad)": 2.234021442552742,
          "Target dataset": "good3"
         },
         {
          "Dataset / KE (eV)": "good3 / 13.6",
          "Phase shift diff (deg)": 281.5326361212271,
          "Phase shift diff (rad)": 4.91367145213453,
          "Photoelectron KE (eV)": 13.612611200000003,
          "Photon energy (eV)": 19.1,
          "Polar ang (deg)": 129,
          "Polar ang (rad)": 2.251474735072685,
          "Target dataset": "good3"
         },
         {
          "Dataset / KE (eV)": "good3 / 13.6",
          "Phase shift diff (deg)": 279.62575466841923,
          "Phase shift diff (rad)": 4.88039009233782,
          "Photoelectron KE (eV)": 13.612611200000003,
          "Photon energy (eV)": 19.1,
          "Polar ang (deg)": 130,
          "Polar ang (rad)": 2.2689280275926285,
          "Target dataset": "good3"
         },
         {
          "Dataset / KE (eV)": "good3 / 13.6",
          "Phase shift diff (deg)": 277.7703643425935,
          "Phase shift diff (rad)": 4.84800742224251,
          "Photoelectron KE (eV)": 13.612611200000003,
          "Photon energy (eV)": 19.1,
          "Polar ang (deg)": 131,
          "Polar ang (rad)": 2.2863813201125716,
          "Target dataset": "good3"
         },
         {
          "Dataset / KE (eV)": "good3 / 13.6",
          "Phase shift diff (deg)": 275.9703847412178,
          "Phase shift diff (rad)": 4.81659185172977,
          "Photoelectron KE (eV)": 13.612611200000003,
          "Photon energy (eV)": 19.1,
          "Polar ang (deg)": 132,
          "Polar ang (rad)": 2.3038346126325147,
          "Target dataset": "good3"
         },
         {
          "Dataset / KE (eV)": "good3 / 13.6",
          "Phase shift diff (deg)": 274.2289018904859,
          "Phase shift diff (rad)": 4.78619724211748,
          "Photoelectron KE (eV)": 13.612611200000003,
          "Photon energy (eV)": 19.1,
          "Polar ang (deg)": 133,
          "Polar ang (rad)": 2.321287905152458,
          "Target dataset": "good3"
         },
         {
          "Dataset / KE (eV)": "good3 / 13.6",
          "Phase shift diff (deg)": 272.54821022557496,
          "Phase shift diff (rad)": 4.75686363885396,
          "Photoelectron KE (eV)": 13.612611200000003,
          "Photon energy (eV)": 19.1,
          "Polar ang (deg)": 134,
          "Polar ang (rad)": 2.3387411976724017,
          "Target dataset": "good3"
         },
         {
          "Dataset / KE (eV)": "good3 / 13.6",
          "Phase shift diff (deg)": 270.92987062923606,
          "Phase shift diff (rad)": 4.72861828448245,
          "Photoelectron KE (eV)": 13.612611200000003,
          "Photon energy (eV)": 19.1,
          "Polar ang (deg)": 135,
          "Polar ang (rad)": 2.356194490192345,
          "Target dataset": "good3"
         },
         {
          "Dataset / KE (eV)": "good3 / 13.6",
          "Phase shift diff (deg)": 269.37477948509536,
          "Phase shift diff (rad)": 4.70147682384859,
          "Photoelectron KE (eV)": 13.612611200000003,
          "Photon energy (eV)": 19.1,
          "Polar ang (deg)": 136,
          "Polar ang (rad)": 2.373647782712288,
          "Target dataset": "good3"
         },
         {
          "Dataset / KE (eV)": "good3 / 13.6",
          "Phase shift diff (deg)": 267.88324410862396,
          "Phase shift diff (rad)": 4.67544462061919,
          "Photoelectron KE (eV)": 13.612611200000003,
          "Photon energy (eV)": 19.1,
          "Polar ang (deg)": 137,
          "Polar ang (rad)": 2.3911010752322315,
          "Target dataset": "good3"
         },
         {
          "Dataset / KE (eV)": "good3 / 13.6",
          "Phase shift diff (deg)": 266.45506055576834,
          "Phase shift diff (rad)": 4.65051811529903,
          "Photoelectron KE (eV)": 13.612611200000003,
          "Photon energy (eV)": 19.1,
          "Polar ang (deg)": 138,
          "Polar ang (rad)": 2.408554367752175,
          "Target dataset": "good3"
         },
         {
          "Dataset / KE (eV)": "good3 / 13.6",
          "Phase shift diff (deg)": 265.08959056243856,
          "Phase shift diff (rad)": 4.62668616807824,
          "Photoelectron KE (eV)": 13.612611200000003,
          "Photon energy (eV)": 19.1,
          "Polar ang (deg)": 139,
          "Polar ang (rad)": 2.426007660272118,
          "Target dataset": "good3"
         },
         {
          "Dataset / KE (eV)": "good3 / 13.6",
          "Phase shift diff (deg)": 263.7858351431703,
          "Phase shift diff (rad)": 4.60393134337129,
          "Photoelectron KE (eV)": 13.612611200000003,
          "Photon energy (eV)": 19.1,
          "Polar ang (deg)": 140,
          "Polar ang (rad)": 2.443460952792061,
          "Target dataset": "good3"
         },
         {
          "Dataset / KE (eV)": "good3 / 13.6",
          "Phase shift diff (deg)": 262.5425031065971,
          "Phase shift diff (rad)": 4.58223110563756,
          "Photoelectron KE (eV)": 13.612611200000003,
          "Photon energy (eV)": 19.1,
          "Polar ang (deg)": 141,
          "Polar ang (rad)": 2.4609142453120048,
          "Target dataset": "good3"
         },
         {
          "Dataset / KE (eV)": "good3 / 13.6",
          "Phase shift diff (deg)": 261.35807338645867,
          "Phase shift diff (rad)": 4.56155890726267,
          "Photoelectron KE (eV)": 13.612611200000003,
          "Photon energy (eV)": 19.1,
          "Polar ang (deg)": 142,
          "Polar ang (rad)": 2.478367537831948,
          "Target dataset": "good3"
         },
         {
          "Dataset / KE (eV)": "good3 / 13.6",
          "Phase shift diff (deg)": 260.23085061824577,
          "Phase shift diff (rad)": 4.54188515855391,
          "Photoelectron KE (eV)": 13.612611200000003,
          "Photon energy (eV)": 19.1,
          "Polar ang (deg)": 143,
          "Polar ang (rad)": 2.495820830351891,
          "Target dataset": "good3"
         },
         {
          "Dataset / KE (eV)": "good3 / 13.6",
          "Phase shift diff (deg)": 259.1590138090022,
          "Phase shift diff (rad)": 4.52317807718854,
          "Photoelectron KE (eV)": 13.612611200000003,
          "Photon energy (eV)": 19.1,
          "Polar ang (deg)": 144,
          "Polar ang (rad)": 2.5132741228718345,
          "Target dataset": "good3"
         },
         {
          "Dataset / KE (eV)": "good3 / 13.6",
          "Phase shift diff (deg)": 258.1406582573915,
          "Phase shift diff (rad)": 4.50540441985697,
          "Photoelectron KE (eV)": 13.612611200000003,
          "Photon energy (eV)": 19.1,
          "Polar ang (deg)": 145,
          "Polar ang (rad)": 2.530727415391778,
          "Target dataset": "good3"
         },
         {
          "Dataset / KE (eV)": "good3 / 13.6",
          "Phase shift diff (deg)": 257.1738310963715,
          "Phase shift diff (rad)": 4.48853010259946,
          "Photoelectron KE (eV)": 13.612611200000003,
          "Photon energy (eV)": 19.1,
          "Polar ang (deg)": 146,
          "Polar ang (rad)": 2.548180707911721,
          "Target dataset": "good3"
         },
         {
          "Dataset / KE (eV)": "good3 / 13.6",
          "Phase shift diff (deg)": 256.2565609665993,
          "Phase shift diff (rad)": 4.47252071870474,
          "Photoelectron KE (eV)": 13.612611200000003,
          "Photon energy (eV)": 19.1,
          "Polar ang (deg)": 147,
          "Polar ang (rad)": 2.5656340004316642,
          "Target dataset": "good3"
         },
         {
          "Dataset / KE (eV)": "good3 / 13.6",
          "Phase shift diff (deg)": 255.38688240461073,
          "Phase shift diff (rad)": 4.45734196436403,
          "Photoelectron KE (eV)": 13.612611200000003,
          "Photon energy (eV)": 19.1,
          "Polar ang (deg)": 148,
          "Polar ang (rad)": 2.5830872929516078,
          "Target dataset": "good3"
         },
         {
          "Dataset / KE (eV)": "good3 / 13.6",
          "Phase shift diff (deg)": 254.56285555471658,
          "Phase shift diff (rad)": 4.44295998270854,
          "Photoelectron KE (eV)": 13.612611200000003,
          "Photon energy (eV)": 19.1,
          "Polar ang (deg)": 149,
          "Polar ang (rad)": 2.600540585471551,
          "Target dataset": "good3"
         },
         {
          "Dataset / KE (eV)": "good3 / 13.6",
          "Phase shift diff (deg)": 253.7825818092964,
          "Phase shift diff (rad)": 4.42934163678409,
          "Photoelectron KE (eV)": 13.612611200000003,
          "Photon energy (eV)": 19.1,
          "Polar ang (deg)": 150,
          "Polar ang (rad)": 2.6179938779914944,
          "Target dataset": "good3"
         },
         {
          "Dataset / KE (eV)": "good3 / 13.6",
          "Phase shift diff (deg)": 253.04421595200986,
          "Phase shift diff (rad)": 4.41645472149013,
          "Photoelectron KE (eV)": 13.612611200000003,
          "Photon energy (eV)": 19.1,
          "Polar ang (deg)": 151,
          "Polar ang (rad)": 2.6354471705114375,
          "Target dataset": "good3"
         },
         {
          "Dataset / KE (eV)": "good3 / 13.6",
          "Phase shift diff (deg)": 252.34597533535234,
          "Phase shift diff (rad)": 4.4042681237583,
          "Photoelectron KE (eV)": 13.612611200000003,
          "Photon energy (eV)": 19.1,
          "Polar ang (deg)": 152,
          "Polar ang (rad)": 2.652900463031381,
          "Target dataset": "good3"
         },
         {
          "Dataset / KE (eV)": "good3 / 13.6",
          "Phase shift diff (deg)": 251.68614657333615,
          "Phase shift diff (rad)": 4.39275193936176,
          "Photoelectron KE (eV)": 13.612611200000003,
          "Photon energy (eV)": 19.1,
          "Polar ang (deg)": 153,
          "Polar ang (rad)": 2.670353755551324,
          "Target dataset": "good3"
         },
         {
          "Dataset / KE (eV)": "good3 / 13.6",
          "Phase shift diff (deg)": 251.06309017616047,
          "Phase shift diff (rad)": 4.38187755380543,
          "Photoelectron KE (eV)": 13.612611200000003,
          "Photon energy (eV)": 19.1,
          "Polar ang (deg)": 154,
          "Polar ang (rad)": 2.6878070480712672,
          "Target dataset": "good3"
         },
         {
          "Dataset / KE (eV)": "good3 / 13.6",
          "Phase shift diff (deg)": 250.4752435004884,
          "Phase shift diff (rad)": 4.37161769381805,
          "Photoelectron KE (eV)": 13.612611200000003,
          "Photon energy (eV)": 19.1,
          "Polar ang (deg)": 155,
          "Polar ang (rad)": 2.705260340591211,
          "Target dataset": "good3"
         },
         {
          "Dataset / KE (eV)": "good3 / 13.6",
          "Phase shift diff (deg)": 249.9211223383175,
          "Phase shift diff (rad)": 4.36194645508319,
          "Photoelectron KE (eV)": 13.612611200000003,
          "Photon energy (eV)": 19.1,
          "Polar ang (deg)": 156,
          "Polar ang (rad)": 2.7227136331111543,
          "Target dataset": "good3"
         },
         {
          "Dataset / KE (eV)": "good3 / 13.6",
          "Phase shift diff (deg)": 249.3993214204464,
          "Phase shift diff (rad)": 4.35283931102641,
          "Photoelectron KE (eV)": 13.612611200000003,
          "Photon energy (eV)": 19.1,
          "Polar ang (deg)": 157,
          "Polar ang (rad)": 2.7401669256310974,
          "Target dataset": "good3"
         },
         {
          "Dataset / KE (eV)": "good3 / 13.6",
          "Phase shift diff (deg)": 248.90851406824376,
          "Phase shift diff (rad)": 4.34427310673748,
          "Photoelectron KE (eV)": 13.612611200000003,
          "Photon energy (eV)": 19.1,
          "Polar ang (deg)": 158,
          "Polar ang (rad)": 2.7576202181510405,
          "Target dataset": "good3"
         },
         {
          "Dataset / KE (eV)": "good3 / 13.6",
          "Phase shift diff (deg)": 248.44745119002098,
          "Phase shift diff (rad)": 4.33622604145377,
          "Photoelectron KE (eV)": 13.612611200000003,
          "Photon energy (eV)": 19.1,
          "Polar ang (deg)": 159,
          "Polar ang (rad)": 2.7750735106709836,
          "Target dataset": "good3"
         },
         {
          "Dataset / KE (eV)": "good3 / 13.6",
          "Phase shift diff (deg)": 248.01495978519094,
          "Phase shift diff (rad)": 4.32867764245291,
          "Photoelectron KE (eV)": 13.612611200000003,
          "Photon energy (eV)": 19.1,
          "Polar ang (deg)": 160,
          "Polar ang (rad)": 2.792526803190927,
          "Target dataset": "good3"
         },
         {
          "Dataset / KE (eV)": "good3 / 13.6",
          "Phase shift diff (deg)": 247.60994109130652,
          "Phase shift diff (rad)": 4.3216087327125,
          "Photoelectron KE (eV)": 13.612611200000003,
          "Photon energy (eV)": 19.1,
          "Polar ang (deg)": 161,
          "Polar ang (rad)": 2.8099800957108707,
          "Target dataset": "good3"
         },
         {
          "Dataset / KE (eV)": "good3 / 13.6",
          "Phase shift diff (deg)": 247.23136848469775,
          "Phase shift diff (rad)": 4.31500139426932,
          "Photoelectron KE (eV)": 13.612611200000003,
          "Photon energy (eV)": 19.1,
          "Polar ang (deg)": 162,
          "Polar ang (rad)": 2.827433388230814,
          "Target dataset": "good3"
         },
         {
          "Dataset / KE (eV)": "good3 / 13.6",
          "Phase shift diff (deg)": 246.8782852246511,
          "Phase shift diff (rad)": 4.30883892884783,
          "Photoelectron KE (eV)": 13.612611200000003,
          "Photon energy (eV)": 19.1,
          "Polar ang (deg)": 163,
          "Polar ang (rad)": 2.844886680750757,
          "Target dataset": "good3"
         },
         {
          "Dataset / KE (eV)": "good3 / 13.6",
          "Phase shift diff (deg)": 246.54980211409364,
          "Phase shift diff (rad)": 4.30310581703141,
          "Photoelectron KE (eV)": 13.612611200000003,
          "Photon energy (eV)": 19.1,
          "Polar ang (deg)": 164,
          "Polar ang (rad)": 2.8623399732707004,
          "Target dataset": "good3"
         },
         {
          "Dataset / KE (eV)": "good3 / 13.6",
          "Phase shift diff (deg)": 246.24509513506183,
          "Phase shift diff (rad)": 4.2977876769935,
          "Photoelectron KE (eV)": 13.612611200000003,
          "Photon energy (eV)": 19.1,
          "Polar ang (deg)": 165,
          "Polar ang (rad)": 2.8797932657906435,
          "Target dataset": "good3"
         },
         {
          "Dataset / KE (eV)": "good3 / 13.6",
          "Phase shift diff (deg)": 245.96340310528112,
          "Phase shift diff (rad)": 4.2928712235972,
          "Photoelectron KE (eV)": 13.612611200000003,
          "Photon energy (eV)": 19.1,
          "Polar ang (deg)": 166,
          "Polar ang (rad)": 2.897246558310587,
          "Target dataset": "good3"
         },
         {
          "Dataset / KE (eV)": "good3 / 13.6",
          "Phase shift diff (deg)": 245.70402539237236,
          "Phase shift diff (rad)": 4.28834422850065,
          "Photoelectron KE (eV)": 13.612611200000003,
          "Photon energy (eV)": 19.1,
          "Polar ang (deg)": 167,
          "Polar ang (rad)": 2.91469985083053,
          "Target dataset": "good3"
         },
         {
          "Dataset / KE (eV)": "good3 / 13.6",
          "Phase shift diff (deg)": 245.46631971409994,
          "Phase shift diff (rad)": 4.28419548176411,
          "Photoelectron KE (eV)": 13.612611200000003,
          "Photon energy (eV)": 19.1,
          "Polar ang (deg)": 168,
          "Polar ang (rad)": 2.9321531433504737,
          "Target dataset": "good3"
         },
         {
          "Dataset / KE (eV)": "good3 / 13.6",
          "Phase shift diff (deg)": 245.24970004645672,
          "Phase shift diff (rad)": 4.28041475533916,
          "Photoelectron KE (eV)": 13.612611200000003,
          "Photon energy (eV)": 19.1,
          "Polar ang (deg)": 169,
          "Polar ang (rad)": 2.949606435870417,
          "Target dataset": "good3"
         },
         {
          "Dataset / KE (eV)": "good3 / 13.6",
          "Phase shift diff (deg)": 245.05363465616205,
          "Phase shift diff (rad)": 4.27699276872931,
          "Photoelectron KE (eV)": 13.612611200000003,
          "Photon energy (eV)": 19.1,
          "Polar ang (deg)": 170,
          "Polar ang (rad)": 2.96705972839036,
          "Target dataset": "good3"
         },
         {
          "Dataset / KE (eV)": "good3 / 13.6",
          "Phase shift diff (deg)": 244.87764426996642,
          "Phase shift diff (rad)": 4.27392115703834,
          "Photoelectron KE (eV)": 13.612611200000003,
          "Photon energy (eV)": 19.1,
          "Polar ang (deg)": 171,
          "Polar ang (rad)": 2.9845130209103035,
          "Target dataset": "good3"
         },
         {
          "Dataset / KE (eV)": "good3 / 13.6",
          "Phase shift diff (deg)": 244.72130038967035,
          "Phase shift diff (rad)": 4.27119244156183,
          "Photoelectron KE (eV)": 13.612611200000003,
          "Photon energy (eV)": 19.1,
          "Polar ang (deg)": 172,
          "Polar ang (rad)": 3.001966313430247,
          "Target dataset": "good3"
         },
         {
          "Dataset / KE (eV)": "good3 / 13.6",
          "Phase shift diff (deg)": 244.58422375929726,
          "Phase shift diff (rad)": 4.26880000303428,
          "Photoelectron KE (eV)": 13.612611200000003,
          "Photon energy (eV)": 19.1,
          "Polar ang (deg)": 173,
          "Polar ang (rad)": 3.01941960595019,
          "Target dataset": "good3"
         },
         {
          "Dataset / KE (eV)": "good3 / 13.6",
          "Phase shift diff (deg)": 244.46608298880227,
          "Phase shift diff (rad)": 4.2667380576083,
          "Photoelectron KE (eV)": 13.612611200000003,
          "Photon energy (eV)": 19.1,
          "Polar ang (deg)": 174,
          "Polar ang (rad)": 3.036872898470133,
          "Target dataset": "good3"
         },
         {
          "Dataset / KE (eV)": "good3 / 13.6",
          "Phase shift diff (deg)": 244.36659333717952,
          "Phase shift diff (rad)": 4.26500163561582,
          "Photoelectron KE (eV)": 13.612611200000003,
          "Photon energy (eV)": 19.1,
          "Polar ang (deg)": 175,
          "Polar ang (rad)": 3.0543261909900767,
          "Target dataset": "good3"
         },
         {
          "Dataset / KE (eV)": "good3 / 13.6",
          "Phase shift diff (deg)": 244.28551565668263,
          "Phase shift diff (rad)": 4.26358656314127,
          "Photoelectron KE (eV)": 13.612611200000003,
          "Photon energy (eV)": 19.1,
          "Polar ang (deg)": 176,
          "Polar ang (rad)": 3.07177948351002,
          "Target dataset": "good3"
         },
         {
          "Dataset / KE (eV)": "good3 / 13.6",
          "Phase shift diff (deg)": 244.22265549919337,
          "Phase shift diff (rad)": 4.26248944642476,
          "Photoelectron KE (eV)": 13.612611200000003,
          "Photon energy (eV)": 19.1,
          "Polar ang (deg)": 177,
          "Polar ang (rad)": 3.089232776029963,
          "Target dataset": "good3"
         },
         {
          "Dataset / KE (eV)": "good3 / 13.6",
          "Phase shift diff (deg)": 244.1778623851104,
          "Phase shift diff (rad)": 4.26170765910179,
          "Photoelectron KE (eV)": 13.612611200000003,
          "Photon energy (eV)": 19.1,
          "Polar ang (deg)": 178,
          "Polar ang (rad)": 3.1066860685499065,
          "Target dataset": "good3"
         },
         {
          "Dataset / KE (eV)": "good3 / 13.6",
          "Phase shift diff (deg)": 244.15102923486924,
          "Phase shift diff (rad)": 4.2612393322814,
          "Photoelectron KE (eV)": 13.612611200000003,
          "Photon energy (eV)": 19.1,
          "Polar ang (deg)": 179,
          "Polar ang (rad)": 3.12413936106985,
          "Target dataset": "good3"
         },
         {
          "Dataset / KE (eV)": "good3 / 13.6",
          "Phase shift diff (deg)": 244.14209196304492,
          "Phase shift diff (rad)": 4.26108334746192,
          "Photoelectron KE (eV)": 13.612611200000003,
          "Photon energy (eV)": 19.1,
          "Polar ang (deg)": 180,
          "Polar ang (rad)": 3.141592653589793,
          "Target dataset": "good3"
         },
         {
          "Dataset / KE (eV)": "good4 / 7.2",
          "Phase shift diff (deg)": 61.702143234352256,
          "Phase shift diff (rad)": 1.07690555497659,
          "Photoelectron KE (eV)": 7.212611200000001,
          "Photon energy (eV)": 15.9,
          "Polar ang (deg)": 0,
          "Polar ang (rad)": 0,
          "Target dataset": "good4"
         },
         {
          "Dataset / KE (eV)": "good4 / 7.2",
          "Phase shift diff (deg)": 61.70875990768012,
          "Phase shift diff (rad)": 1.07702103771169,
          "Photoelectron KE (eV)": 7.212611200000001,
          "Photon energy (eV)": 15.9,
          "Polar ang (deg)": 1,
          "Polar ang (rad)": 0.017453292519943295,
          "Target dataset": "good4"
         },
         {
          "Dataset / KE (eV)": "good4 / 7.2",
          "Phase shift diff (deg)": 61.72863989446676,
          "Phase shift diff (rad)": 1.07736800893637,
          "Photoelectron KE (eV)": 7.212611200000001,
          "Photon energy (eV)": 15.9,
          "Polar ang (deg)": 2,
          "Polar ang (rad)": 0.03490658503988659,
          "Target dataset": "good4"
         },
         {
          "Dataset / KE (eV)": "good4 / 7.2",
          "Phase shift diff (deg)": 61.761873409764064,
          "Phase shift diff (rad)": 1.07794804320032,
          "Photoelectron KE (eV)": 7.212611200000001,
          "Photon energy (eV)": 15.9,
          "Polar ang (deg)": 3,
          "Polar ang (rad)": 0.05235987755982988,
          "Target dataset": "good4"
         },
         {
          "Dataset / KE (eV)": "good4 / 7.2",
          "Phase shift diff (deg)": 61.80861186679663,
          "Phase shift diff (rad)": 1.07876378316284,
          "Photoelectron KE (eV)": 7.212611200000001,
          "Photon energy (eV)": 15.9,
          "Polar ang (deg)": 4,
          "Polar ang (rad)": 0.06981317007977318,
          "Target dataset": "good4"
         },
         {
          "Dataset / KE (eV)": "good4 / 7.2",
          "Phase shift diff (deg)": 61.86906947910297,
          "Phase shift diff (rad)": 1.07981896755548,
          "Photoelectron KE (eV)": 7.212611200000001,
          "Photon energy (eV)": 15.9,
          "Polar ang (deg)": 5,
          "Polar ang (rad)": 0.08726646259971647,
          "Target dataset": "good4"
         },
         {
          "Dataset / KE (eV)": "good4 / 7.2",
          "Phase shift diff (deg)": 61.94352554704346,
          "Phase shift diff (rad)": 1.08111847108913,
          "Photoelectron KE (eV)": 7.212611200000001,
          "Photon energy (eV)": 15.9,
          "Polar ang (deg)": 6,
          "Polar ang (rad)": 0.10471975511965977,
          "Target dataset": "good4"
         },
         {
          "Dataset / KE (eV)": "good4 / 7.2",
          "Phase shift diff (deg)": 62.03232746957063,
          "Phase shift diff (rad)": 1.08266835701933,
          "Photoelectron KE (eV)": 7.212611200000001,
          "Photon energy (eV)": 15.9,
          "Polar ang (deg)": 7,
          "Polar ang (rad)": 0.12217304763960307,
          "Target dataset": "good4"
         },
         {
          "Dataset / KE (eV)": "good4 / 7.2",
          "Phase shift diff (deg)": 62.135894541631934,
          "Phase shift diff (rad)": 1.08447594342345,
          "Photoelectron KE (eV)": 7.212611200000001,
          "Photon energy (eV)": 15.9,
          "Polar ang (deg)": 8,
          "Polar ang (rad)": 0.13962634015954636,
          "Target dataset": "good4"
         },
         {
          "Dataset / KE (eV)": "good4 / 7.2",
          "Phase shift diff (deg)": 62.25472260995716,
          "Phase shift diff (rad)": 1.08654988445951,
          "Photoelectron KE (eV)": 7.212611200000001,
          "Photon energy (eV)": 15.9,
          "Polar ang (deg)": 9,
          "Polar ang (rad)": 0.15707963267948966,
          "Target dataset": "good4"
         },
         {
          "Dataset / KE (eV)": "good4 / 7.2",
          "Phase shift diff (deg)": 62.38938968100604,
          "Phase shift diff (rad)": 1.08890026824333,
          "Photoelectron KE (eV)": 7.212611200000001,
          "Photon energy (eV)": 15.9,
          "Polar ang (deg)": 10,
          "Polar ang (rad)": 0.17453292519943295,
          "Target dataset": "good4"
         },
         {
          "Dataset / KE (eV)": "good4 / 7.2",
          "Phase shift diff (deg)": 62.54056259473707,
          "Phase shift diff (rad)": 1.09153873332777,
          "Photoelectron KE (eV)": 7.212611200000001,
          "Photon energy (eV)": 15.9,
          "Polar ang (deg)": 11,
          "Polar ang (rad)": 0.19198621771937624,
          "Target dataset": "good4"
         },
         {
          "Dataset / KE (eV)": "good4 / 7.2",
          "Phase shift diff (deg)": 62.70900490298124,
          "Phase shift diff (rad)": 1.09447860620629,
          "Photoelectron KE (eV)": 7.212611200000001,
          "Photon energy (eV)": 15.9,
          "Polar ang (deg)": 12,
          "Polar ang (rad)": 0.20943951023931953,
          "Target dataset": "good4"
         },
         {
          "Dataset / KE (eV)": "good4 / 7.2",
          "Phase shift diff (deg)": 62.89558612123156,
          "Phase shift diff (rad)": 1.09773506278714,
          "Photoelectron KE (eV)": 7.212611200000001,
          "Photon energy (eV)": 15.9,
          "Polar ang (deg)": 13,
          "Polar ang (rad)": 0.22689280275926282,
          "Target dataset": "good4"
         },
         {
          "Dataset / KE (eV)": "good4 / 7.2",
          "Phase shift diff (deg)": 63.101292556798796,
          "Phase shift diff (rad)": 1.10132531738033,
          "Photoelectron KE (eV)": 7.212611200000001,
          "Photon energy (eV)": 15.9,
          "Polar ang (deg)": 14,
          "Polar ang (rad)": 0.24434609527920614,
          "Target dataset": "good4"
         },
         {
          "Dataset / KE (eV)": "good4 / 7.2",
          "Phase shift diff (deg)": 63.32723995736428,
          "Phase shift diff (rad)": 1.10526884345652,
          "Photoelectron KE (eV)": 7.212611200000001,
          "Photon energy (eV)": 15.9,
          "Polar ang (deg)": 15,
          "Polar ang (rad)": 0.2617993877991494,
          "Target dataset": "good4"
         },
         {
          "Dataset / KE (eV)": "good4 / 7.2",
          "Phase shift diff (deg)": 63.57468827516764,
          "Phase shift diff (rad)": 1.10958763133071,
          "Photoelectron KE (eV)": 7.212611200000001,
          "Photon energy (eV)": 15.9,
          "Polar ang (deg)": 16,
          "Polar ang (rad)": 0.2792526803190927,
          "Target dataset": "good4"
         },
         {
          "Dataset / KE (eV)": "good4 / 7.2",
          "Phase shift diff (deg)": 63.84505890148916,
          "Phase shift diff (rad)": 1.1143064889607,
          "Photoelectron KE (eV)": 7.212611200000001,
          "Photon energy (eV)": 15.9,
          "Polar ang (deg)": 17,
          "Polar ang (rad)": 0.296705972839036,
          "Target dataset": "good4"
         },
         {
          "Dataset / KE (eV)": "good4 / 7.2",
          "Phase shift diff (deg)": 64.13995479829538,
          "Phase shift diff (rad)": 1.11945339331059,
          "Photoelectron KE (eV)": 7.212611200000001,
          "Photon energy (eV)": 15.9,
          "Polar ang (deg)": 18,
          "Polar ang (rad)": 0.3141592653589793,
          "Target dataset": "good4"
         },
         {
          "Dataset / KE (eV)": "good4 / 7.2",
          "Phase shift diff (deg)": 64.46118404530215,
          "Phase shift diff (rad)": 1.12505990132456,
          "Photoelectron KE (eV)": 7.212611200000001,
          "Photon energy (eV)": 15.9,
          "Polar ang (deg)": 19,
          "Polar ang (rad)": 0.33161255787892263,
          "Target dataset": "good4"
         },
         {
          "Dataset / KE (eV)": "good4 / 7.2",
          "Phase shift diff (deg)": 64.81078742526829,
          "Phase shift diff (rad)": 1.13116163138107,
          "Photoelectron KE (eV)": 7.212611200000001,
          "Photon energy (eV)": 15.9,
          "Polar ang (deg)": 20,
          "Polar ang (rad)": 0.3490658503988659,
          "Target dataset": "good4"
         },
         {
          "Dataset / KE (eV)": "good4 / 7.2",
          "Phase shift diff (deg)": 65.19107080612527,
          "Phase shift diff (rad)": 1.13779882846764,
          "Photoelectron KE (eV)": 7.212611200000001,
          "Photon energy (eV)": 15.9,
          "Polar ang (deg)": 21,
          "Polar ang (rad)": 0.3665191429188092,
          "Target dataset": "good4"
         },
         {
          "Dataset / KE (eV)": "good4 / 7.2",
          "Phase shift diff (deg)": 65.60464323711685,
          "Phase shift diff (rad)": 1.14501702908392,
          "Photoelectron KE (eV)": 7.212611200000001,
          "Photon energy (eV)": 15.9,
          "Polar ang (deg)": 22,
          "Polar ang (rad)": 0.3839724354387525,
          "Target dataset": "good4"
         },
         {
          "Dataset / KE (eV)": "good4 / 7.2",
          "Phase shift diff (deg)": 66.05446187571178,
          "Phase shift diff (rad)": 1.15286784536424,
          "Photoelectron KE (eV)": 7.212611200000001,
          "Photon energy (eV)": 15.9,
          "Polar ang (deg)": 23,
          "Polar ang (rad)": 0.40142572795869574,
          "Target dataset": "good4"
         },
         {
          "Dataset / KE (eV)": "good4 / 7.2",
          "Phase shift diff (deg)": 66.54388510379034,
          "Phase shift diff (rad)": 1.16140989212995,
          "Photoelectron KE (eV)": 7.212611200000001,
          "Photon energy (eV)": 15.9,
          "Polar ang (deg)": 24,
          "Polar ang (rad)": 0.41887902047863906,
          "Target dataset": "good4"
         },
         {
          "Dataset / KE (eV)": "good4 / 7.2",
          "Phase shift diff (deg)": 67.0767354855314,
          "Phase shift diff (rad)": 1.17070988571184,
          "Photoelectron KE (eV)": 7.212611200000001,
          "Photon energy (eV)": 15.9,
          "Polar ang (deg)": 25,
          "Polar ang (rad)": 0.4363323129985824,
          "Target dataset": "good4"
         },
         {
          "Dataset / KE (eV)": "good4 / 7.2",
          "Phase shift diff (deg)": 67.65737458009708,
          "Phase shift diff (rad)": 1.18084394967781,
          "Photoelectron KE (eV)": 7.212611200000001,
          "Photon energy (eV)": 15.9,
          "Polar ang (deg)": 26,
          "Polar ang (rad)": 0.45378560551852565,
          "Target dataset": "good4"
         },
         {
          "Dataset / KE (eV)": "good4 / 7.2",
          "Phase shift diff (deg)": 68.29079205263629,
          "Phase shift diff (rad)": 1.19189917011328,
          "Photoelectron KE (eV)": 7.212611200000001,
          "Photon energy (eV)": 15.9,
          "Polar ang (deg)": 27,
          "Polar ang (rad)": 0.47123889803846897,
          "Target dataset": "good4"
         },
         {
          "Dataset / KE (eV)": "good4 / 7.2",
          "Phase shift diff (deg)": 68.98271204753587,
          "Phase shift diff (rad)": 1.20397545218466,
          "Photoelectron KE (eV)": 7.212611200000001,
          "Photon energy (eV)": 15.9,
          "Polar ang (deg)": 28,
          "Polar ang (rad)": 0.4886921905584123,
          "Target dataset": "good4"
         },
         {
          "Dataset / KE (eV)": "good4 / 7.2",
          "Phase shift diff (deg)": 69.73972038866364,
          "Phase shift diff (rad)": 1.2171877402024,
          "Photoelectron KE (eV)": 7.212611200000001,
          "Photon energy (eV)": 15.9,
          "Polar ang (deg)": 29,
          "Polar ang (rad)": 0.5061454830783556,
          "Target dataset": "good4"
         },
         {
          "Dataset / KE (eV)": "good4 / 7.2",
          "Phase shift diff (deg)": 70.56941686577208,
          "Phase shift diff (rad)": 1.23166867552014,
          "Photoelectron KE (eV)": 7.212611200000001,
          "Photon energy (eV)": 15.9,
          "Polar ang (deg)": 30,
          "Polar ang (rad)": 0.5235987755982988,
          "Target dataset": "good4"
         },
         {
          "Dataset / KE (eV)": "good4 / 7.2",
          "Phase shift diff (deg)": 71.48059760911309,
          "Phase shift diff (rad)": 1.24757177957221,
          "Photoelectron KE (eV)": 7.212611200000001,
          "Photon energy (eV)": 15.9,
          "Polar ang (deg)": 31,
          "Polar ang (rad)": 0.5410520681182421,
          "Target dataset": "good4"
         },
         {
          "Dataset / KE (eV)": "good4 / 7.2",
          "Phase shift diff (deg)": 72.48347329226453,
          "Phase shift diff (rad)": 1.26507526223139,
          "Photoelectron KE (eV)": 7.212611200000001,
          "Photon energy (eV)": 15.9,
          "Polar ang (deg)": 32,
          "Polar ang (rad)": 0.5585053606381855,
          "Target dataset": "good4"
         },
         {
          "Dataset / KE (eV)": "good4 / 7.2",
          "Phase shift diff (deg)": 73.5899294834934,
          "Phase shift diff (rad)": 1.28438656579741,
          "Photoelectron KE (eV)": 7.212611200000001,
          "Photon energy (eV)": 15.9,
          "Polar ang (deg)": 33,
          "Polar ang (rad)": 0.5759586531581287,
          "Target dataset": "good4"
         },
         {
          "Dataset / KE (eV)": "good4 / 7.2",
          "Phase shift diff (deg)": 74.81383560990258,
          "Phase shift diff (rad)": 1.30574775743858,
          "Photoelectron KE (eV)": 7.212611200000001,
          "Photon energy (eV)": 15.9,
          "Polar ang (deg)": 34,
          "Polar ang (rad)": 0.593411945678072,
          "Target dataset": "good4"
         },
         {
          "Dataset / KE (eV)": "good4 / 7.2",
          "Phase shift diff (deg)": 76.17140817926423,
          "Phase shift diff (rad)": 1.3294418686087,
          "Photoelectron KE (eV)": 7.212611200000001,
          "Photon energy (eV)": 15.9,
          "Polar ang (deg)": 35,
          "Polar ang (rad)": 0.6108652381980153,
          "Target dataset": "good4"
         },
         {
          "Dataset / KE (eV)": "good4 / 7.2",
          "Phase shift diff (deg)": 77.68163117955893,
          "Phase shift diff (rad)": 1.35580023240319,
          "Photoelectron KE (eV)": 7.212611200000001,
          "Photon energy (eV)": 15.9,
          "Polar ang (deg)": 36,
          "Polar ang (rad)": 0.6283185307179586,
          "Target dataset": "good4"
         },
         {
          "Dataset / KE (eV)": "good4 / 7.2",
          "Phase shift diff (deg)": 79.36673030310332,
          "Phase shift diff (rad)": 1.38521076033151,
          "Photoelectron KE (eV)": 7.212611200000001,
          "Photon energy (eV)": 15.9,
          "Polar ang (deg)": 37,
          "Polar ang (rad)": 0.6457718232379019,
          "Target dataset": "good4"
         },
         {
          "Dataset / KE (eV)": "good4 / 7.2",
          "Phase shift diff (deg)": 81.25268502459485,
          "Phase shift diff (rad)": 1.41812687976507,
          "Photoelectron KE (eV)": 7.212611200000001,
          "Photon energy (eV)": 15.9,
          "Polar ang (deg)": 38,
          "Polar ang (rad)": 0.6632251157578453,
          "Target dataset": "good4"
         },
         {
          "Dataset / KE (eV)": "good4 / 7.2",
          "Phase shift diff (deg)": 83.36973905910318,
          "Phase shift diff (rad)": 1.45507644310987,
          "Photoelectron KE (eV)": 7.212611200000001,
          "Photon energy (eV)": 15.9,
          "Polar ang (deg)": 39,
          "Polar ang (rad)": 0.6806784082777886,
          "Target dataset": "good4"
         },
         {
          "Dataset / KE (eV)": "good4 / 7.2",
          "Phase shift diff (deg)": 85.75282825215105,
          "Phase shift diff (rad)": 1.49666919589725,
          "Photoelectron KE (eV)": 7.212611200000001,
          "Photon energy (eV)": 15.9,
          "Polar ang (deg)": 40,
          "Polar ang (rad)": 0.6981317007977318,
          "Target dataset": "good4"
         },
         {
          "Dataset / KE (eV)": "good4 / 7.2",
          "Phase shift diff (deg)": 88.44177546809631,
          "Phase shift diff (rad)": 1.54360017822783,
          "Photoelectron KE (eV)": 7.212611200000001,
          "Photon energy (eV)": 15.9,
          "Polar ang (deg)": 41,
          "Polar ang (rad)": 0.7155849933176751,
          "Target dataset": "good4"
         },
         {
          "Dataset / KE (eV)": "good4 / 7.2",
          "Phase shift diff (deg)": 91.48099245794211,
          "Phase shift diff (rad)": 1.59664452138319,
          "Photoelectron KE (eV)": 7.212611200000001,
          "Photon energy (eV)": 15.9,
          "Polar ang (deg)": 42,
          "Polar ang (rad)": 0.7330382858376184,
          "Target dataset": "good4"
         },
         {
          "Dataset / KE (eV)": "good4 / 7.2",
          "Phase shift diff (deg)": 94.91827029702658,
          "Phase shift diff (rad)": 1.65663633698105,
          "Photoelectron KE (eV)": 7.212611200000001,
          "Photon energy (eV)": 15.9,
          "Polar ang (deg)": 43,
          "Polar ang (rad)": 0.7504915783575618,
          "Target dataset": "good4"
         },
         {
          "Dataset / KE (eV)": "good4 / 7.2",
          "Phase shift diff (deg)": 98.80204315430464,
          "Phase shift diff (rad)": 1.72442096074014,
          "Photoelectron KE (eV)": 7.212611200000001,
          "Photon energy (eV)": 15.9,
          "Polar ang (deg)": 44,
          "Polar ang (rad)": 0.767944870877505,
          "Target dataset": "good4"
         },
         {
          "Dataset / KE (eV)": "good4 / 7.2",
          "Phase shift diff (deg)": 103.17633902586311,
          "Phase shift diff (rad)": 1.80076682615523,
          "Photoelectron KE (eV)": 7.212611200000001,
          "Photon energy (eV)": 15.9,
          "Polar ang (deg)": 45,
          "Polar ang (rad)": 0.7853981633974483,
          "Target dataset": "good4"
         },
         {
          "Dataset / KE (eV)": "good4 / 7.2",
          "Phase shift diff (deg)": 108.07266009842299,
          "Phase shift diff (rad)": 1.88622375010618,
          "Photoelectron KE (eV)": 7.212611200000001,
          "Photon energy (eV)": 15.9,
          "Polar ang (deg)": 46,
          "Polar ang (rad)": 0.8028514559173915,
          "Target dataset": "good4"
         },
         {
          "Dataset / KE (eV)": "good4 / 7.2",
          "Phase shift diff (deg)": 113.49859538289891,
          "Phase shift diff (rad)": 1.98092418582042,
          "Photoelectron KE (eV)": 7.212611200000001,
          "Photon energy (eV)": 15.9,
          "Polar ang (deg)": 47,
          "Polar ang (rad)": 0.8203047484373349,
          "Target dataset": "good4"
         },
         {
          "Dataset / KE (eV)": "good4 / 7.2",
          "Phase shift diff (deg)": 119.42445910674866,
          "Phase shift diff (rad)": 2.08435001882609,
          "Photoelectron KE (eV)": 7.212611200000001,
          "Photon energy (eV)": 15.9,
          "Polar ang (deg)": 48,
          "Polar ang (rad)": 0.8377580409572781,
          "Target dataset": "good4"
         },
         {
          "Dataset / KE (eV)": "good4 / 7.2",
          "Phase shift diff (deg)": 125.7717057655739,
          "Phase shift diff (rad)": 2.1951303714588,
          "Photoelectron KE (eV)": 7.212611200000001,
          "Photon energy (eV)": 15.9,
          "Polar ang (deg)": 49,
          "Polar ang (rad)": 0.8552113334772213,
          "Target dataset": "good4"
         },
         {
          "Dataset / KE (eV)": "good4 / 7.2",
          "Phase shift diff (deg)": 132.40918338244802,
          "Phase shift diff (rad)": 2.31097620990068,
          "Photoelectron KE (eV)": 7.212611200000001,
          "Photon energy (eV)": 15.9,
          "Polar ang (deg)": 50,
          "Polar ang (rad)": 0.8726646259971648,
          "Target dataset": "good4"
         },
         {
          "Dataset / KE (eV)": "good4 / 7.2",
          "Phase shift diff (deg)": 139.16293220755182,
          "Phase shift diff (rad)": 2.42885136375144,
          "Photoelectron KE (eV)": 7.212611200000001,
          "Photon energy (eV)": 15.9,
          "Polar ang (deg)": 51,
          "Polar ang (rad)": 0.890117918517108,
          "Target dataset": "good4"
         },
         {
          "Dataset / KE (eV)": "good4 / 7.2",
          "Phase shift diff (deg)": 145.8401804864908,
          "Phase shift diff (rad)": 2.54539133119205,
          "Photoelectron KE (eV)": 7.212611200000001,
          "Photon energy (eV)": 15.9,
          "Polar ang (deg)": 52,
          "Polar ang (rad)": 0.9075712110370513,
          "Target dataset": "good4"
         },
         {
          "Dataset / KE (eV)": "good4 / 7.2",
          "Phase shift diff (deg)": 152.26037453599923,
          "Phase shift diff (rad)": 2.65744485597292,
          "Photoelectron KE (eV)": 7.212611200000001,
          "Photon energy (eV)": 15.9,
          "Polar ang (deg)": 53,
          "Polar ang (rad)": 0.9250245035569946,
          "Target dataset": "good4"
         },
         {
          "Dataset / KE (eV)": "good4 / 7.2",
          "Phase shift diff (deg)": 158.2815859738381,
          "Phase shift diff (rad)": 2.76253482052195,
          "Photoelectron KE (eV)": 7.212611200000001,
          "Photon energy (eV)": 15.9,
          "Polar ang (deg)": 54,
          "Polar ang (rad)": 0.9424777960769379,
          "Target dataset": "good4"
         },
         {
          "Dataset / KE (eV)": "good4 / 7.2",
          "Phase shift diff (deg)": 163.81363267388468,
          "Phase shift diff (rad)": 2.85908724981185,
          "Photoelectron KE (eV)": 7.212611200000001,
          "Photon energy (eV)": 15.9,
          "Polar ang (deg)": 55,
          "Polar ang (rad)": 0.9599310885968813,
          "Target dataset": "good4"
         },
         {
          "Dataset / KE (eV)": "good4 / 7.2",
          "Phase shift diff (deg)": 168.8169143453417,
          "Phase shift diff (rad)": 2.94641098838346,
          "Photoelectron KE (eV)": 7.212611200000001,
          "Photon energy (eV)": 15.9,
          "Polar ang (deg)": 56,
          "Polar ang (rad)": 0.9773843811168246,
          "Target dataset": "good4"
         },
         {
          "Dataset / KE (eV)": "good4 / 7.2",
          "Phase shift diff (deg)": 173.29197874029254,
          "Phase shift diff (rad)": 3.02451559631412,
          "Photoelectron KE (eV)": 7.212611200000001,
          "Photon energy (eV)": 15.9,
          "Polar ang (deg)": 57,
          "Polar ang (rad)": 0.9948376736367678,
          "Target dataset": "good4"
         },
         {
          "Dataset / KE (eV)": "good4 / 7.2",
          "Phase shift diff (deg)": 177.26613224585327,
          "Phase shift diff (rad)": 3.09387765996583,
          "Photoelectron KE (eV)": 7.212611200000001,
          "Photon energy (eV)": 15.9,
          "Polar ang (deg)": 58,
          "Polar ang (rad)": 1.0122909661567112,
          "Target dataset": "good4"
         },
         {
          "Dataset / KE (eV)": "good4 / 7.2",
          "Phase shift diff (deg)": 180.78143517871382,
          "Phase shift diff (rad)": 3.15523127034926,
          "Photoelectron KE (eV)": 7.212611200000001,
          "Photon energy (eV)": 15.9,
          "Polar ang (deg)": 59,
          "Polar ang (rad)": 1.0297442586766543,
          "Target dataset": "good4"
         },
         {
          "Dataset / KE (eV)": "good4 / 7.2",
          "Phase shift diff (deg)": 183.88584690621383,
          "Phase shift diff (rad)": 3.20941347633166,
          "Photoelectron KE (eV)": 7.212611200000001,
          "Photon energy (eV)": 15.9,
          "Polar ang (deg)": 60,
          "Polar ang (rad)": 1.0471975511965976,
          "Target dataset": "good4"
         },
         {
          "Dataset / KE (eV)": "good4 / 7.2",
          "Phase shift diff (deg)": 186.62755923498855,
          "Phase shift diff (rad)": 3.2572653836113,
          "Photoelectron KE (eV)": 7.212611200000001,
          "Photon energy (eV)": 15.9,
          "Polar ang (deg)": 61,
          "Polar ang (rad)": 1.064650843716541,
          "Target dataset": "good4"
         },
         {
          "Dataset / KE (eV)": "good4 / 7.2",
          "Phase shift diff (deg)": 189.05182373761417,
          "Phase shift diff (rad)": 3.29957678112134,
          "Photoelectron KE (eV)": 7.212611200000001,
          "Photon energy (eV)": 15.9,
          "Polar ang (deg)": 62,
          "Polar ang (rad)": 1.0821041362364843,
          "Target dataset": "good4"
         },
         {
          "Dataset / KE (eV)": "good4 / 7.2",
          "Phase shift diff (deg)": 191.1994668930325,
          "Phase shift diff (rad)": 3.33706022534131,
          "Photoelectron KE (eV)": 7.212611200000001,
          "Photon energy (eV)": 15.9,
          "Polar ang (deg)": 63,
          "Polar ang (rad)": 1.0995574287564276,
          "Target dataset": "good4"
         },
         {
          "Dataset / KE (eV)": "good4 / 7.2",
          "Phase shift diff (deg)": 193.1064341444711,
          "Phase shift diff (rad)": 3.37034308260662,
          "Photoelectron KE (eV)": 7.212611200000001,
          "Photon energy (eV)": 15.9,
          "Polar ang (deg)": 64,
          "Polar ang (rad)": 1.117010721276371,
          "Target dataset": "good4"
         },
         {
          "Dataset / KE (eV)": "good4 / 7.2",
          "Phase shift diff (deg)": 194.80390350769912,
          "Phase shift diff (rad)": 3.39996951194668,
          "Photoelectron KE (eV)": 7.212611200000001,
          "Photon energy (eV)": 15.9,
          "Polar ang (deg)": 65,
          "Polar ang (rad)": 1.1344640137963142,
          "Target dataset": "good4"
         },
         {
          "Dataset / KE (eV)": "good4 / 7.2",
          "Phase shift diff (deg)": 196.31867824988146,
          "Phase shift diff (rad)": 3.42640731862381,
          "Photoelectron KE (eV)": 7.212611200000001,
          "Photon energy (eV)": 15.9,
          "Polar ang (deg)": 66,
          "Polar ang (rad)": 1.1519173063162573,
          "Target dataset": "good4"
         },
         {
          "Dataset / KE (eV)": "good4 / 7.2",
          "Phase shift diff (deg)": 197.6736880311795,
          "Phase shift diff (rad)": 3.45005670070419,
          "Photoelectron KE (eV)": 7.212611200000001,
          "Photon energy (eV)": 15.9,
          "Polar ang (deg)": 67,
          "Polar ang (rad)": 1.1693705988362009,
          "Target dataset": "good4"
         },
         {
          "Dataset / KE (eV)": "good4 / 7.2",
          "Phase shift diff (deg)": 198.88850514755012,
          "Phase shift diff (rad)": 3.47125925919444,
          "Photoelectron KE (eV)": 7.212611200000001,
          "Photon energy (eV)": 15.9,
          "Polar ang (deg)": 68,
          "Polar ang (rad)": 1.186823891356144,
          "Target dataset": "good4"
         },
         {
          "Dataset / KE (eV)": "good4 / 7.2",
          "Phase shift diff (deg)": 199.979829177264,
          "Phase shift diff (rad)": 3.49030645671908,
          "Photoelectron KE (eV)": 7.212611200000001,
          "Photon energy (eV)": 15.9,
          "Polar ang (deg)": 69,
          "Polar ang (rad)": 1.2042771838760875,
          "Target dataset": "good4"
         },
         {
          "Dataset / KE (eV)": "good4 / 7.2",
          "Phase shift diff (deg)": 200.9619200929565,
          "Phase shift diff (rad)": 3.50744717675184,
          "Photoelectron KE (eV)": 7.212611200000001,
          "Photon energy (eV)": 15.9,
          "Polar ang (deg)": 70,
          "Polar ang (rad)": 1.2217304763960306,
          "Target dataset": "good4"
         },
         {
          "Dataset / KE (eV)": "good4 / 7.2",
          "Phase shift diff (deg)": 201.8469744627586,
          "Phase shift diff (rad)": 3.52289428956405,
          "Photoelectron KE (eV)": 7.212611200000001,
          "Photon energy (eV)": 15.9,
          "Polar ang (deg)": 71,
          "Polar ang (rad)": 1.239183768915974,
          "Target dataset": "good4"
         },
         {
          "Dataset / KE (eV)": "good4 / 7.2",
          "Phase shift diff (deg)": 202.64544677890044,
          "Phase shift diff (rad)": 3.53683026046675,
          "Photoelectron KE (eV)": 7.212611200000001,
          "Photon energy (eV)": 15.9,
          "Polar ang (deg)": 72,
          "Polar ang (rad)": 1.2566370614359172,
          "Target dataset": "good4"
         },
         {
          "Dataset / KE (eV)": "good4 / 7.2",
          "Phase shift diff (deg)": 203.366321338259,
          "Phase shift diff (rad)": 3.54941189502142,
          "Photoelectron KE (eV)": 7.212611200000001,
          "Photon energy (eV)": 15.9,
          "Polar ang (deg)": 73,
          "Polar ang (rad)": 1.2740903539558606,
          "Target dataset": "good4"
         },
         {
          "Dataset / KE (eV)": "good4 / 7.2",
          "Phase shift diff (deg)": 204.01734132632063,
          "Phase shift diff (rad)": 3.56077433730939,
          "Photoelectron KE (eV)": 7.212611200000001,
          "Photon energy (eV)": 15.9,
          "Polar ang (deg)": 74,
          "Polar ang (rad)": 1.2915436464758039,
          "Target dataset": "good4"
         },
         {
          "Dataset / KE (eV)": "good4 / 7.2",
          "Phase shift diff (deg)": 204.60520191025265,
          "Phase shift diff (rad)": 3.5710344400417,
          "Photoelectron KE (eV)": 7.212611200000001,
          "Photon energy (eV)": 15.9,
          "Polar ang (deg)": 75,
          "Polar ang (rad)": 1.3089969389957472,
          "Target dataset": "good4"
         },
         {
          "Dataset / KE (eV)": "good4 / 7.2",
          "Phase shift diff (deg)": 205.1357138668356,
          "Phase shift diff (rad)": 3.58029362040527,
          "Photoelectron KE (eV)": 7.212611200000001,
          "Photon energy (eV)": 15.9,
          "Polar ang (deg)": 76,
          "Polar ang (rad)": 1.3264502315156905,
          "Target dataset": "good4"
         },
         {
          "Dataset / KE (eV)": "good4 / 7.2",
          "Phase shift diff (deg)": 205.61394395261013,
          "Phase shift diff (rad)": 3.58864030998413,
          "Photoelectron KE (eV)": 7.212611200000001,
          "Photon energy (eV)": 15.9,
          "Polar ang (deg)": 77,
          "Polar ang (rad)": 1.3439035240356336,
          "Target dataset": "good4"
         },
         {
          "Dataset / KE (eV)": "good4 / 7.2",
          "Phase shift diff (deg)": 206.04433817161643,
          "Phase shift diff (rad)": 3.59615210618734,
          "Photoelectron KE (eV)": 7.212611200000001,
          "Photon energy (eV)": 15.9,
          "Polar ang (deg)": 78,
          "Polar ang (rad)": 1.3613568165555772,
          "Target dataset": "good4"
         },
         {
          "Dataset / KE (eV)": "good4 / 7.2",
          "Phase shift diff (deg)": 206.43083466516012,
          "Phase shift diff (rad)": 3.60289774254709,
          "Photoelectron KE (eV)": 7.212611200000001,
          "Photon energy (eV)": 15.9,
          "Polar ang (deg)": 79,
          "Polar ang (rad)": 1.3788101090755203,
          "Target dataset": "good4"
         },
         {
          "Dataset / KE (eV)": "good4 / 7.2",
          "Phase shift diff (deg)": 206.77697474277394,
          "Phase shift diff (rad)": 3.60893902657456,
          "Photoelectron KE (eV)": 7.212611200000001,
          "Photon energy (eV)": 15.9,
          "Polar ang (deg)": 80,
          "Polar ang (rad)": 1.3962634015954636,
          "Target dataset": "good4"
         },
         {
          "Dataset / KE (eV)": "good4 / 7.2",
          "Phase shift diff (deg)": 207.08602488055604,
          "Phase shift diff (rad)": 3.6143329690326,
          "Photoelectron KE (eV)": 7.212611200000001,
          "Photon energy (eV)": 15.9,
          "Polar ang (deg)": 81,
          "Polar ang (rad)": 1.413716694115407,
          "Target dataset": "good4"
         },
         {
          "Dataset / KE (eV)": "good4 / 7.2",
          "Phase shift diff (deg)": 207.36113233823392,
          "Phase shift diff (rad)": 3.61913449996587,
          "Photoelectron KE (eV)": 7.212611200000001,
          "Photon energy (eV)": 15.9,
          "Polar ang (deg)": 82,
          "Polar ang (rad)": 1.4311699866353502,
          "Target dataset": "good4"
         },
         {
          "Dataset / KE (eV)": "good4 / 7.2",
          "Phase shift diff (deg)": 207.60556014391216,
          "Phase shift diff (rad)": 3.62340056995838,
          "Photoelectron KE (eV)": 7.212611200000001,
          "Photon energy (eV)": 15.9,
          "Polar ang (deg)": 83,
          "Polar ang (rad)": 1.4486232791552935,
          "Target dataset": "good4"
         },
         {
          "Dataset / KE (eV)": "good4 / 7.2",
          "Phase shift diff (deg)": 207.8231054703772,
          "Phase shift diff (rad)": 3.62719745217752,
          "Photoelectron KE (eV)": 7.212611200000001,
          "Photon energy (eV)": 15.9,
          "Polar ang (deg)": 84,
          "Polar ang (rad)": 1.4660765716752369,
          "Target dataset": "good4"
         },
         {
          "Dataset / KE (eV)": "good4 / 7.2",
          "Phase shift diff (deg)": 208.01896887536927,
          "Phase shift diff (rad)": 3.6306159134788,
          "Photoelectron KE (eV)": 7.212611200000001,
          "Photon energy (eV)": 15.9,
          "Polar ang (deg)": 85,
          "Polar ang (rad)": 1.48352986419518,
          "Target dataset": "good4"
         },
         {
          "Dataset / KE (eV)": "good4 / 7.2",
          "Phase shift diff (deg)": 208.20187220291407,
          "Phase shift diff (rad)": 3.63380817875731,
          "Photoelectron KE (eV)": 7.212611200000001,
          "Photon energy (eV)": 15.9,
          "Polar ang (deg)": 86,
          "Polar ang (rad)": 1.5009831567151235,
          "Target dataset": "good4"
         },
         {
          "Dataset / KE (eV)": "good4 / 7.2",
          "Phase shift diff (deg)": 208.39033620452128,
          "Phase shift diff (rad)": 3.63709749610684,
          "Photoelectron KE (eV)": 7.212611200000001,
          "Photon energy (eV)": 15.9,
          "Polar ang (deg)": 87,
          "Polar ang (rad)": 1.5184364492350666,
          "Target dataset": "good4"
         },
         {
          "Dataset / KE (eV)": "good4 / 7.2",
          "Phase shift diff (deg)": 208.63757452900816,
          "Phase shift diff (rad)": 3.64141261890625,
          "Photoelectron KE (eV)": 7.212611200000001,
          "Photon energy (eV)": 15.9,
          "Polar ang (deg)": 88,
          "Polar ang (rad)": 1.53588974175501,
          "Target dataset": "good4"
         },
         {
          "Dataset / KE (eV)": "good4 / 7.2",
          "Phase shift diff (deg)": 209.2032129363642,
          "Phase shift diff (rad)": 3.65128487149035,
          "Photoelectron KE (eV)": 7.212611200000001,
          "Photon energy (eV)": 15.9,
          "Polar ang (deg)": 89,
          "Polar ang (rad)": 1.5533430342749532,
          "Target dataset": "good4"
         },
         {
          "Dataset / KE (eV)": "good4 / 7.2",
          "Phase shift diff (deg)": 387.05776422236505,
          "Phase shift diff (rad)": 6.75543238108818,
          "Photoelectron KE (eV)": 7.212611200000001,
          "Photon energy (eV)": 15.9,
          "Polar ang (deg)": 91,
          "Polar ang (rad)": 1.5882496193148399,
          "Target dataset": "good4"
         },
         {
          "Dataset / KE (eV)": "good4 / 7.2",
          "Phase shift diff (deg)": 387.5650356018257,
          "Phase shift diff (rad)": 6.7642859368609,
          "Photoelectron KE (eV)": 7.212611200000001,
          "Photon energy (eV)": 15.9,
          "Polar ang (deg)": 92,
          "Polar ang (rad)": 1.605702911834783,
          "Target dataset": "good4"
         },
         {
          "Dataset / KE (eV)": "good4 / 7.2",
          "Phase shift diff (deg)": 387.67539396573085,
          "Phase shift diff (rad)": 6.76621205366816,
          "Photoelectron KE (eV)": 7.212611200000001,
          "Photon energy (eV)": 15.9,
          "Polar ang (deg)": 93,
          "Polar ang (rad)": 1.6231562043547265,
          "Target dataset": "good4"
         },
         {
          "Dataset / KE (eV)": "good4 / 7.2",
          "Phase shift diff (deg)": 387.6657369349616,
          "Phase shift diff (rad)": 6.76604350668527,
          "Photoelectron KE (eV)": 7.212611200000001,
          "Photon energy (eV)": 15.9,
          "Polar ang (deg)": 94,
          "Polar ang (rad)": 1.6406094968746698,
          "Target dataset": "good4"
         },
         {
          "Dataset / KE (eV)": "good4 / 7.2",
          "Phase shift diff (deg)": 387.5901250123714,
          "Phase shift diff (rad)": 6.76472382968231,
          "Photoelectron KE (eV)": 7.212611200000001,
          "Photon energy (eV)": 15.9,
          "Polar ang (deg)": 95,
          "Polar ang (rad)": 1.6580627893946132,
          "Target dataset": "good4"
         },
         {
          "Dataset / KE (eV)": "good4 / 7.2",
          "Phase shift diff (deg)": 387.4657919639768,
          "Phase shift diff (rad)": 6.76255380861878,
          "Photoelectron KE (eV)": 7.212611200000001,
          "Photon energy (eV)": 15.9,
          "Polar ang (deg)": 96,
          "Polar ang (rad)": 1.6755160819145563,
          "Target dataset": "good4"
         },
         {
          "Dataset / KE (eV)": "good4 / 7.2",
          "Phase shift diff (deg)": 387.2993380103356,
          "Phase shift diff (rad)": 6.75964863907478,
          "Photoelectron KE (eV)": 7.212611200000001,
          "Photon energy (eV)": 15.9,
          "Polar ang (deg)": 97,
          "Polar ang (rad)": 1.6929693744344996,
          "Target dataset": "good4"
         },
         {
          "Dataset / KE (eV)": "good4 / 7.2",
          "Phase shift diff (deg)": 387.0932227637763,
          "Phase shift diff (rad)": 6.75605124938376,
          "Photoelectron KE (eV)": 7.212611200000001,
          "Photon energy (eV)": 15.9,
          "Polar ang (deg)": 98,
          "Polar ang (rad)": 1.7104226669544427,
          "Target dataset": "good4"
         },
         {
          "Dataset / KE (eV)": "good4 / 7.2",
          "Phase shift diff (deg)": 386.84790399078787,
          "Phase shift diff (rad)": 6.75176962907816,
          "Photoelectron KE (eV)": 7.212611200000001,
          "Photon energy (eV)": 15.9,
          "Polar ang (deg)": 99,
          "Polar ang (rad)": 1.7278759594743864,
          "Target dataset": "good4"
         },
         {
          "Dataset / KE (eV)": "good4 / 7.2",
          "Phase shift diff (deg)": 386.56267099667735,
          "Phase shift diff (rad)": 6.74679137419561,
          "Photoelectron KE (eV)": 7.212611200000001,
          "Photon energy (eV)": 15.9,
          "Polar ang (deg)": 100,
          "Polar ang (rad)": 1.7453292519943295,
          "Target dataset": "good4"
         },
         {
          "Dataset / KE (eV)": "good4 / 7.2",
          "Phase shift diff (deg)": 386.2360001613496,
          "Phase shift diff (rad)": 6.7410898925489,
          "Photoelectron KE (eV)": 7.212611200000001,
          "Photon energy (eV)": 15.9,
          "Polar ang (deg)": 101,
          "Polar ang (rad)": 1.7627825445142729,
          "Target dataset": "good4"
         },
         {
          "Dataset / KE (eV)": "good4 / 7.2",
          "Phase shift diff (deg)": 385.86570691288796,
          "Phase shift diff (rad)": 6.73462705616534,
          "Photoelectron KE (eV)": 7.212611200000001,
          "Photon energy (eV)": 15.9,
          "Polar ang (deg)": 102,
          "Polar ang (rad)": 1.780235837034216,
          "Target dataset": "good4"
         },
         {
          "Dataset / KE (eV)": "good4 / 7.2",
          "Phase shift diff (deg)": 385.44899848029746,
          "Phase shift diff (rad)": 6.72735412199581,
          "Photoelectron KE (eV)": 7.212611200000001,
          "Photon energy (eV)": 15.9,
          "Polar ang (deg)": 103,
          "Polar ang (rad)": 1.7976891295541593,
          "Target dataset": "good4"
         },
         {
          "Dataset / KE (eV)": "good4 / 7.2",
          "Phase shift diff (deg)": 384.9824709794259,
          "Phase shift diff (rad)": 6.7192116810545,
          "Photoelectron KE (eV)": 7.212611200000001,
          "Photon energy (eV)": 15.9,
          "Polar ang (deg)": 104,
          "Polar ang (rad)": 1.8151424220741026,
          "Target dataset": "good4"
         },
         {
          "Dataset / KE (eV)": "good4 / 7.2",
          "Phase shift diff (deg)": 384.46206984822265,
          "Phase shift diff (rad)": 6.7101289678839,
          "Photoelectron KE (eV)": 7.212611200000001,
          "Photon energy (eV)": 15.9,
          "Polar ang (deg)": 105,
          "Polar ang (rad)": 1.8325957145940461,
          "Target dataset": "good4"
         },
         {
          "Dataset / KE (eV)": "good4 / 7.2",
          "Phase shift diff (deg)": 383.8830216570717,
          "Phase shift diff (rad)": 6.7000226704206,
          "Photoelectron KE (eV)": 7.212611200000001,
          "Photon energy (eV)": 15.9,
          "Polar ang (deg)": 106,
          "Polar ang (rad)": 1.8500490071139892,
          "Target dataset": "good4"
         },
         {
          "Dataset / KE (eV)": "good4 / 7.2",
          "Phase shift diff (deg)": 383.23973980135764,
          "Phase shift diff (rad)": 6.68879528402005,
          "Photoelectron KE (eV)": 7.212611200000001,
          "Photon energy (eV)": 15.9,
          "Polar ang (deg)": 107,
          "Polar ang (rad)": 1.8675022996339325,
          "Target dataset": "good4"
         },
         {
          "Dataset / KE (eV)": "good4 / 7.2",
          "Phase shift diff (deg)": 382.52570349413764,
          "Phase shift diff (rad)": 6.67633299948028,
          "Photoelectron KE (eV)": 7.212611200000001,
          "Photon energy (eV)": 15.9,
          "Polar ang (deg)": 108,
          "Polar ang (rad)": 1.8849555921538759,
          "Target dataset": "good4"
         },
         {
          "Dataset / KE (eV)": "good4 / 7.2",
          "Phase shift diff (deg)": 381.7333074638192,
          "Phase shift diff (rad)": 6.66250307977149,
          "Photoelectron KE (eV)": 7.212611200000001,
          "Photon energy (eV)": 15.9,
          "Polar ang (deg)": 109,
          "Polar ang (rad)": 1.902408884673819,
          "Target dataset": "good4"
         },
         {
          "Dataset / KE (eV)": "good4 / 7.2",
          "Phase shift diff (deg)": 380.8536782936184,
          "Phase shift diff (rad)": 6.6471506545549,
          "Photoelectron KE (eV)": 7.212611200000001,
          "Photon energy (eV)": 15.9,
          "Polar ang (deg)": 110,
          "Polar ang (rad)": 1.9198621771937625,
          "Target dataset": "good4"
         },
         {
          "Dataset / KE (eV)": "good4 / 7.2",
          "Phase shift diff (deg)": 379.87645221980904,
          "Phase shift diff (rad)": 6.63009484203059,
          "Photoelectron KE (eV)": 7.212611200000001,
          "Photon energy (eV)": 15.9,
          "Polar ang (deg)": 111,
          "Polar ang (rad)": 1.9373154697137058,
          "Target dataset": "good4"
         },
         {
          "Dataset / KE (eV)": "good4 / 7.2",
          "Phase shift diff (deg)": 378.7895084597418,
          "Phase shift diff (rad)": 6.61112409463341,
          "Photoelectron KE (eV)": 7.212611200000001,
          "Photon energy (eV)": 15.9,
          "Polar ang (deg)": 112,
          "Polar ang (rad)": 1.9547687622336491,
          "Target dataset": "good4"
         },
         {
          "Dataset / KE (eV)": "good4 / 7.2",
          "Phase shift diff (deg)": 377.57865200193476,
          "Phase shift diff (rad)": 6.58999066267564,
          "Photoelectron KE (eV)": 7.212611200000001,
          "Photon energy (eV)": 15.9,
          "Polar ang (deg)": 113,
          "Polar ang (rad)": 1.9722220547535922,
          "Target dataset": "good4"
         },
         {
          "Dataset / KE (eV)": "good4 / 7.2",
          "Phase shift diff (deg)": 376.2272408765738,
          "Phase shift diff (rad)": 6.56640408899001,
          "Photoelectron KE (eV)": 7.212611200000001,
          "Photon energy (eV)": 15.9,
          "Polar ang (deg)": 114,
          "Polar ang (rad)": 1.9896753472735356,
          "Target dataset": "good4"
         },
         {
          "Dataset / KE (eV)": "good4 / 7.2",
          "Phase shift diff (deg)": 374.7157561871872,
          "Phase shift diff (rad)": 6.54002370456673,
          "Photoelectron KE (eV)": 7.212611200000001,
          "Photon energy (eV)": 15.9,
          "Polar ang (deg)": 115,
          "Polar ang (rad)": 2.007128639793479,
          "Target dataset": "good4"
         },
         {
          "Dataset / KE (eV)": "good4 / 7.2",
          "Phase shift diff (deg)": 373.02132057281716,
          "Phase shift diff (rad)": 6.51045022413292,
          "Photoelectron KE (eV)": 7.212611200000001,
          "Photon energy (eV)": 15.9,
          "Polar ang (deg)": 116,
          "Polar ang (rad)": 2.0245819323134224,
          "Target dataset": "good4"
         },
         {
          "Dataset / KE (eV)": "good4 / 7.2",
          "Phase shift diff (deg)": 371.11718528362206,
          "Phase shift diff (rad)": 6.47721679393305,
          "Photoelectron KE (eV)": 7.212611200000001,
          "Photon energy (eV)": 15.9,
          "Polar ang (deg)": 117,
          "Polar ang (rad)": 2.0420352248333655,
          "Target dataset": "good4"
         },
         {
          "Dataset / KE (eV)": "good4 / 7.2",
          "Phase shift diff (deg)": 368.97223280206396,
          "Phase shift diff (rad)": 6.43978031083104,
          "Photoelectron KE (eV)": 7.212611200000001,
          "Photon energy (eV)": 15.9,
          "Polar ang (deg)": 118,
          "Polar ang (rad)": 2.0594885173533086,
          "Target dataset": "good4"
         },
         {
          "Dataset / KE (eV)": "good4 / 7.2",
          "Phase shift diff (deg)": 366.55058851941055,
          "Phase shift diff (rad)": 6.39751464478664,
          "Photoelectron KE (eV)": 7.212611200000001,
          "Photon energy (eV)": 15.9,
          "Polar ang (deg)": 119,
          "Polar ang (rad)": 2.076941809873252,
          "Target dataset": "good4"
         },
         {
          "Dataset / KE (eV)": "good4 / 7.2",
          "Phase shift diff (deg)": 363.8115120857236,
          "Phase shift diff (rad)": 6.34970874255502,
          "Photoelectron KE (eV)": 7.212611200000001,
          "Photon energy (eV)": 15.9,
          "Polar ang (deg)": 120,
          "Polar ang (rad)": 2.0943951023931953,
          "Target dataset": "good4"
         },
         {
          "Dataset / KE (eV)": "good4 / 7.2",
          "Phase shift diff (deg)": 360.70985851393635,
          "Phase shift diff (rad)": 6.29557467547109,
          "Photoelectron KE (eV)": 7.212611200000001,
          "Photon energy (eV)": 15.9,
          "Polar ang (deg)": 121,
          "Polar ang (rad)": 2.111848394913139,
          "Target dataset": "good4"
         },
         {
          "Dataset / KE (eV)": "good4 / 7.2",
          "Phase shift diff (deg)": 357.1975672886714,
          "Phase shift diff (rad)": 6.23427362930131,
          "Photoelectron KE (eV)": 7.212611200000001,
          "Photon energy (eV)": 15.9,
          "Polar ang (deg)": 122,
          "Polar ang (rad)": 2.129301687433082,
          "Target dataset": "good4"
         },
         {
          "Dataset / KE (eV)": "good4 / 7.2",
          "Phase shift diff (deg)": 353.2268357999588,
          "Phase shift diff (rad)": 6.16497129111066,
          "Photoelectron KE (eV)": 7.212611200000001,
          "Photon energy (eV)": 15.9,
          "Polar ang (deg)": 123,
          "Polar ang (rad)": 2.1467549799530254,
          "Target dataset": "good4"
         },
         {
          "Dataset / KE (eV)": "good4 / 7.2",
          "Phase shift diff (deg)": 348.7557789101512,
          "Phase shift diff (rad)": 6.08693662733954,
          "Photoelectron KE (eV)": 7.212611200000001,
          "Photon energy (eV)": 15.9,
          "Polar ang (deg)": 124,
          "Polar ang (rad)": 2.1642082724729685,
          "Target dataset": "good4"
         },
         {
          "Dataset / KE (eV)": "good4 / 7.2",
          "Phase shift diff (deg)": 343.75726266811876,
          "Phase shift diff (rad)": 5.99969606120166,
          "Photoelectron KE (eV)": 7.212611200000001,
          "Photon energy (eV)": 15.9,
          "Polar ang (deg)": 125,
          "Polar ang (rad)": 2.1816615649929116,
          "Target dataset": "good4"
         },
         {
          "Dataset / KE (eV)": "good4 / 7.2",
          "Phase shift diff (deg)": 338.23086818083874,
          "Phase shift diff (rad)": 5.90324228163456,
          "Photoelectron KE (eV)": 7.212611200000001,
          "Photon energy (eV)": 15.9,
          "Polar ang (deg)": 126,
          "Polar ang (rad)": 2.199114857512855,
          "Target dataset": "good4"
         },
         {
          "Dataset / KE (eV)": "good4 / 7.2",
          "Phase shift diff (deg)": 332.2162218651039,
          "Phase shift diff (rad)": 5.79826690008204,
          "Photoelectron KE (eV)": 7.212611200000001,
          "Photon energy (eV)": 15.9,
          "Polar ang (deg)": 127,
          "Polar ang (rad)": 2.2165681500327987,
          "Target dataset": "good4"
         },
         {
          "Dataset / KE (eV)": "good4 / 7.2",
          "Phase shift diff (deg)": 325.803369047758,
          "Phase shift diff (rad)": 5.68634150397356,
          "Photoelectron KE (eV)": 7.212611200000001,
          "Photon energy (eV)": 15.9,
          "Polar ang (deg)": 128,
          "Polar ang (rad)": 2.234021442552742,
          "Target dataset": "good4"
         },
         {
          "Dataset / KE (eV)": "good4 / 7.2",
          "Phase shift diff (deg)": 319.1339126302976,
          "Phase shift diff (rad)": 5.56993753017061,
          "Photoelectron KE (eV)": 7.212611200000001,
          "Photon energy (eV)": 15.9,
          "Polar ang (deg)": 129,
          "Polar ang (rad)": 2.251474735072685,
          "Target dataset": "good4"
         },
         {
          "Dataset / KE (eV)": "good4 / 7.2",
          "Phase shift diff (deg)": 312.3879361902967,
          "Phase shift diff (rad)": 5.45219803003063,
          "Photoelectron KE (eV)": 7.212611200000001,
          "Photon energy (eV)": 15.9,
          "Polar ang (deg)": 130,
          "Polar ang (rad)": 2.2689280275926285,
          "Target dataset": "good4"
         },
         {
          "Dataset / KE (eV)": "good4 / 7.2",
          "Phase shift diff (deg)": 305.7577106583267,
          "Phase shift diff (rad)": 5.33647876434796,
          "Photoelectron KE (eV)": 7.212611200000001,
          "Photon energy (eV)": 15.9,
          "Polar ang (deg)": 131,
          "Polar ang (rad)": 2.2863813201125716,
          "Target dataset": "good4"
         },
         {
          "Dataset / KE (eV)": "good4 / 7.2",
          "Phase shift diff (deg)": 299.4167969231274,
          "Phase shift diff (rad)": 5.2258089420838,
          "Photoelectron KE (eV)": 7.212611200000001,
          "Photon energy (eV)": 15.9,
          "Polar ang (deg)": 132,
          "Polar ang (rad)": 2.3038346126325147,
          "Target dataset": "good4"
         },
         {
          "Dataset / KE (eV)": "good4 / 7.2",
          "Phase shift diff (deg)": 293.49613388062744,
          "Phase shift diff (rad)": 5.12247387809103,
          "Photoelectron KE (eV)": 7.212611200000001,
          "Photon energy (eV)": 15.9,
          "Polar ang (deg)": 133,
          "Polar ang (rad)": 2.321287905152458,
          "Target dataset": "good4"
         },
         {
          "Dataset / KE (eV)": "good4 / 7.2",
          "Phase shift diff (deg)": 288.07424436522854,
          "Phase shift diff (rad)": 5.02784405436796,
          "Photoelectron KE (eV)": 7.212611200000001,
          "Photon energy (eV)": 15.9,
          "Polar ang (deg)": 134,
          "Polar ang (rad)": 2.3387411976724017,
          "Target dataset": "good4"
         },
         {
          "Dataset / KE (eV)": "good4 / 7.2",
          "Phase shift diff (deg)": 283.1809285381855,
          "Phase shift diff (rad)": 4.94243958184611,
          "Photoelectron KE (eV)": 7.212611200000001,
          "Photon energy (eV)": 15.9,
          "Polar ang (deg)": 135,
          "Polar ang (rad)": 2.356194490192345,
          "Target dataset": "good4"
         },
         {
          "Dataset / KE (eV)": "good4 / 7.2",
          "Phase shift diff (deg)": 278.8087795256193,
          "Phase shift diff (rad)": 4.86613118618901,
          "Photoelectron KE (eV)": 7.212611200000001,
          "Photon energy (eV)": 15.9,
          "Polar ang (deg)": 136,
          "Polar ang (rad)": 2.373647782712288,
          "Target dataset": "good4"
         },
         {
          "Dataset / KE (eV)": "good4 / 7.2",
          "Phase shift diff (deg)": 274.9264897648383,
          "Phase shift diff (rad)": 4.79837244734692,
          "Photoelectron KE (eV)": 7.212611200000001,
          "Photon energy (eV)": 15.9,
          "Polar ang (deg)": 137,
          "Polar ang (rad)": 2.3911010752322315,
          "Target dataset": "good4"
         },
         {
          "Dataset / KE (eV)": "good4 / 7.2",
          "Phase shift diff (deg)": 271.4902063180498,
          "Phase shift diff (rad)": 4.73839798716868,
          "Photoelectron KE (eV)": 7.212611200000001,
          "Photon energy (eV)": 15.9,
          "Polar ang (deg)": 138,
          "Polar ang (rad)": 2.408554367752175,
          "Target dataset": "good4"
         },
         {
          "Dataset / KE (eV)": "good4 / 7.2",
          "Phase shift diff (deg)": 268.45163772604684,
          "Phase shift diff (rad)": 4.68536496069054,
          "Photoelectron KE (eV)": 7.212611200000001,
          "Photon energy (eV)": 15.9,
          "Polar ang (deg)": 139,
          "Polar ang (rad)": 2.426007660272118,
          "Target dataset": "good4"
         },
         {
          "Dataset / KE (eV)": "good4 / 7.2",
          "Phase shift diff (deg)": 265.76310219187684,
          "Phase shift diff (rad)": 4.63844116356241,
          "Photoelectron KE (eV)": 7.212611200000001,
          "Photon energy (eV)": 15.9,
          "Polar ang (deg)": 140,
          "Polar ang (rad)": 2.443460952792061,
          "Target dataset": "good4"
         },
         {
          "Dataset / KE (eV)": "good4 / 7.2",
          "Phase shift diff (deg)": 263.3802681593556,
          "Phase shift diff (rad)": 4.59685286416634,
          "Photoelectron KE (eV)": 7.212611200000001,
          "Photon energy (eV)": 15.9,
          "Polar ang (deg)": 141,
          "Polar ang (rad)": 2.4609142453120048,
          "Target dataset": "good4"
         },
         {
          "Dataset / KE (eV)": "good4 / 7.2",
          "Phase shift diff (deg)": 261.2633698300786,
          "Phase shift diff (rad)": 4.55990601839049,
          "Photoelectron KE (eV)": 7.212611200000001,
          "Photon energy (eV)": 15.9,
          "Polar ang (deg)": 142,
          "Polar ang (rad)": 2.478367537831948,
          "Target dataset": "good4"
         },
         {
          "Dataset / KE (eV)": "good4 / 7.2",
          "Phase shift diff (deg)": 259.37751098611096,
          "Phase shift diff (rad)": 4.5269915723354,
          "Photoelectron KE (eV)": 7.212611200000001,
          "Photon energy (eV)": 15.9,
          "Polar ang (deg)": 143,
          "Polar ang (rad)": 2.495820830351891,
          "Target dataset": "good4"
         },
         {
          "Dataset / KE (eV)": "good4 / 7.2",
          "Phase shift diff (deg)": 257.69247483047127,
          "Phase shift diff (rad)": 4.49758214340434,
          "Photoelectron KE (eV)": 7.212611200000001,
          "Photon energy (eV)": 15.9,
          "Polar ang (deg)": 144,
          "Polar ang (rad)": 2.5132741228718345,
          "Target dataset": "good4"
         },
         {
          "Dataset / KE (eV)": "good4 / 7.2",
          "Phase shift diff (deg)": 256.18229975219805,
          "Phase shift diff (rad)": 4.47122461600691,
          "Photoelectron KE (eV)": 7.212611200000001,
          "Photon energy (eV)": 15.9,
          "Polar ang (deg)": 145,
          "Polar ang (rad)": 2.530727415391778,
          "Target dataset": "good4"
         },
         {
          "Dataset / KE (eV)": "good4 / 7.2",
          "Phase shift diff (deg)": 254.8247715763931,
          "Phase shift diff (rad)": 4.44753127965052,
          "Photoelectron KE (eV)": 7.212611200000001,
          "Photon energy (eV)": 15.9,
          "Polar ang (deg)": 146,
          "Polar ang (rad)": 2.548180707911721,
          "Target dataset": "good4"
         },
         {
          "Dataset / KE (eV)": "good4 / 7.2",
          "Phase shift diff (deg)": 253.60091344045728,
          "Phase shift diff (rad)": 4.42617092560112,
          "Photoelectron KE (eV)": 7.212611200000001,
          "Photon energy (eV)": 15.9,
          "Polar ang (deg)": 147,
          "Polar ang (rad)": 2.5656340004316642,
          "Target dataset": "good4"
         },
         {
          "Dataset / KE (eV)": "good4 / 7.2",
          "Phase shift diff (deg)": 252.49451295821333,
          "Phase shift diff (rad)": 4.40686059434031,
          "Photoelectron KE (eV)": 7.212611200000001,
          "Photon energy (eV)": 15.9,
          "Polar ang (deg)": 148,
          "Polar ang (rad)": 2.5830872929516078,
          "Target dataset": "good4"
         },
         {
          "Dataset / KE (eV)": "good4 / 7.2",
          "Phase shift diff (deg)": 251.49170279426116,
          "Phase shift diff (rad)": 4.38935825520688,
          "Photoelectron KE (eV)": 7.212611200000001,
          "Photon energy (eV)": 15.9,
          "Polar ang (deg)": 149,
          "Polar ang (rad)": 2.600540585471551,
          "Target dataset": "good4"
         },
         {
          "Dataset / KE (eV)": "good4 / 7.2",
          "Phase shift diff (deg)": 250.580598121069,
          "Phase shift diff (rad)": 4.37345647882937,
          "Photoelectron KE (eV)": 7.212611200000001,
          "Photon energy (eV)": 15.9,
          "Polar ang (deg)": 150,
          "Polar ang (rad)": 2.6179938779914944,
          "Target dataset": "good4"
         },
         {
          "Dataset / KE (eV)": "good4 / 7.2",
          "Phase shift diff (deg)": 249.75098812488946,
          "Phase shift diff (rad)": 4.35897705288858,
          "Photoelectron KE (eV)": 7.212611200000001,
          "Photon energy (eV)": 15.9,
          "Polar ang (deg)": 151,
          "Polar ang (rad)": 2.6354471705114375,
          "Target dataset": "good4"
         },
         {
          "Dataset / KE (eV)": "good4 / 7.2",
          "Phase shift diff (deg)": 248.99407597787624,
          "Phase shift diff (rad)": 4.34576644377486,
          "Photoelectron KE (eV)": 7.212611200000001,
          "Photon energy (eV)": 15.9,
          "Polar ang (deg)": 152,
          "Polar ang (rad)": 2.652900463031381,
          "Target dataset": "good4"
         },
         {
          "Dataset / KE (eV)": "good4 / 7.2",
          "Phase shift diff (deg)": 248.30226085677617,
          "Phase shift diff (rad)": 4.33369199209658,
          "Photoelectron KE (eV)": 7.212611200000001,
          "Photon energy (eV)": 15.9,
          "Polar ang (deg)": 153,
          "Polar ang (rad)": 2.670353755551324,
          "Target dataset": "good4"
         },
         {
          "Dataset / KE (eV)": "good4 / 7.2",
          "Phase shift diff (deg)": 247.6689557186035,
          "Phase shift diff (rad)": 4.32263873226567,
          "Photoelectron KE (eV)": 7.212611200000001,
          "Photon energy (eV)": 15.9,
          "Polar ang (deg)": 154,
          "Polar ang (rad)": 2.6878070480712672,
          "Target dataset": "good4"
         },
         {
          "Dataset / KE (eV)": "good4 / 7.2",
          "Phase shift diff (deg)": 247.08843511564893,
          "Phase shift diff (rad)": 4.31250673636845,
          "Photoelectron KE (eV)": 7.212611200000001,
          "Photon energy (eV)": 15.9,
          "Polar ang (deg)": 155,
          "Polar ang (rad)": 2.705260340591211,
          "Target dataset": "good4"
         },
         {
          "Dataset / KE (eV)": "good4 / 7.2",
          "Phase shift diff (deg)": 246.55570806151601,
          "Phase shift diff (rad)": 4.30320889525938,
          "Photoelectron KE (eV)": 7.212611200000001,
          "Photon energy (eV)": 15.9,
          "Polar ang (deg)": 156,
          "Polar ang (rad)": 2.7227136331111543,
          "Target dataset": "good4"
         },
         {
          "Dataset / KE (eV)": "good4 / 7.2",
          "Phase shift diff (deg)": 246.0664117018554,
          "Phase shift diff (rad)": 4.29466906276528,
          "Photoelectron KE (eV)": 7.212611200000001,
          "Photon energy (eV)": 15.9,
          "Polar ang (deg)": 157,
          "Polar ang (rad)": 2.7401669256310974,
          "Target dataset": "good4"
         },
         {
          "Dataset / KE (eV)": "good4 / 7.2",
          "Phase shift diff (deg)": 245.61672222991413,
          "Phase shift diff (rad)": 4.28682050086835,
          "Photoelectron KE (eV)": 7.212611200000001,
          "Photon energy (eV)": 15.9,
          "Polar ang (deg)": 158,
          "Polar ang (rad)": 2.7576202181510405,
          "Target dataset": "good4"
         },
         {
          "Dataset / KE (eV)": "good4 / 7.2",
          "Phase shift diff (deg)": 245.20328009015196,
          "Phase shift diff (rad)": 4.27960457426301,
          "Photoelectron KE (eV)": 7.212611200000001,
          "Photon energy (eV)": 15.9,
          "Polar ang (deg)": 159,
          "Polar ang (rad)": 2.7750735106709836,
          "Target dataset": "good4"
         },
         {
          "Dataset / KE (eV)": "good4 / 7.2",
          "Phase shift diff (deg)": 244.82312702865264,
          "Phase shift diff (rad)": 4.27296965167831,
          "Photoelectron KE (eV)": 7.212611200000001,
          "Photon energy (eV)": 15.9,
          "Polar ang (deg)": 160,
          "Polar ang (rad)": 2.792526803190927,
          "Target dataset": "good4"
         },
         {
          "Dataset / KE (eV)": "good4 / 7.2",
          "Phase shift diff (deg)": 244.47365298048493,
          "Phase shift diff (rad)": 4.26687017888751,
          "Photoelectron KE (eV)": 7.212611200000001,
          "Photon energy (eV)": 15.9,
          "Polar ang (deg)": 161,
          "Polar ang (rad)": 2.8099800957108707,
          "Target dataset": "good4"
         },
         {
          "Dataset / KE (eV)": "good4 / 7.2",
          "Phase shift diff (deg)": 244.15255114289485,
          "Phase shift diff (rad)": 4.26126589458736,
          "Photoelectron KE (eV)": 7.212611200000001,
          "Photon energy (eV)": 15.9,
          "Polar ang (deg)": 162,
          "Polar ang (rad)": 2.827433388230814,
          "Target dataset": "good4"
         },
         {
          "Dataset / KE (eV)": "good4 / 7.2",
          "Phase shift diff (deg)": 243.85777987692936,
          "Phase shift diff (rad)": 4.25612116545599,
          "Photoelectron KE (eV)": 7.212611200000001,
          "Photon energy (eV)": 15.9,
          "Polar ang (deg)": 163,
          "Polar ang (rad)": 2.844886680750757,
          "Target dataset": "good4"
         },
         {
          "Dataset / KE (eV)": "good4 / 7.2",
          "Phase shift diff (deg)": 243.58753032249197,
          "Phase shift diff (rad)": 4.25140442092901,
          "Photoelectron KE (eV)": 7.212611200000001,
          "Photon energy (eV)": 15.9,
          "Polar ang (deg)": 164,
          "Polar ang (rad)": 2.8623399732707004,
          "Target dataset": "good4"
         },
         {
          "Dataset / KE (eV)": "good4 / 7.2",
          "Phase shift diff (deg)": 243.34019880858952,
          "Phase shift diff (rad)": 4.24708767166747,
          "Photoelectron KE (eV)": 7.212611200000001,
          "Photon energy (eV)": 15.9,
          "Polar ang (deg)": 165,
          "Polar ang (rad)": 2.8797932657906435,
          "Target dataset": "good4"
         },
         {
          "Dataset / KE (eV)": "good4 / 7.2",
          "Phase shift diff (deg)": 243.1143633024473,
          "Phase shift diff (rad)": 4.24314609851738,
          "Photoelectron KE (eV)": 7.212611200000001,
          "Photon energy (eV)": 15.9,
          "Polar ang (deg)": 166,
          "Polar ang (rad)": 2.897246558310587,
          "Target dataset": "good4"
         },
         {
          "Dataset / KE (eV)": "good4 / 7.2",
          "Phase shift diff (deg)": 242.90876327302996,
          "Phase shift diff (rad)": 4.23955770106185,
          "Photoelectron KE (eV)": 7.212611200000001,
          "Photon energy (eV)": 15.9,
          "Polar ang (deg)": 167,
          "Polar ang (rad)": 2.91469985083053,
          "Target dataset": "good4"
         },
         {
          "Dataset / KE (eV)": "good4 / 7.2",
          "Phase shift diff (deg)": 242.7222824525119,
          "Phase shift diff (rad)": 4.23630299675199,
          "Photoelectron KE (eV)": 7.212611200000001,
          "Photon energy (eV)": 15.9,
          "Polar ang (deg)": 168,
          "Polar ang (rad)": 2.9321531433504737,
          "Target dataset": "good4"
         },
         {
          "Dataset / KE (eV)": "good4 / 7.2",
          "Phase shift diff (deg)": 242.55393406806795,
          "Phase shift diff (rad)": 4.23336476315303,
          "Photoelectron KE (eV)": 7.212611200000001,
          "Photon energy (eV)": 15.9,
          "Polar ang (deg)": 169,
          "Polar ang (rad)": 2.949606435870417,
          "Target dataset": "good4"
         },
         {
          "Dataset / KE (eV)": "good4 / 7.2",
          "Phase shift diff (deg)": 242.40284818933725,
          "Phase shift diff (rad)": 4.23072781711591,
          "Photoelectron KE (eV)": 7.212611200000001,
          "Photon energy (eV)": 15.9,
          "Polar ang (deg)": 170,
          "Polar ang (rad)": 2.96705972839036,
          "Target dataset": "good4"
         },
         {
          "Dataset / KE (eV)": "good4 / 7.2",
          "Phase shift diff (deg)": 242.2682608968533,
          "Phase shift diff (rad)": 4.22837882573072,
          "Photoelectron KE (eV)": 7.212611200000001,
          "Photon energy (eV)": 15.9,
          "Polar ang (deg)": 171,
          "Polar ang (rad)": 2.9845130209103035,
          "Target dataset": "good4"
         },
         {
          "Dataset / KE (eV)": "good4 / 7.2",
          "Phase shift diff (deg)": 242.14950502738847,
          "Phase shift diff (rad)": 4.22630614480249,
          "Photoelectron KE (eV)": 7.212611200000001,
          "Photon energy (eV)": 15.9,
          "Polar ang (deg)": 172,
          "Polar ang (rad)": 3.001966313430247,
          "Target dataset": "good4"
         },
         {
          "Dataset / KE (eV)": "good4 / 7.2",
          "Phase shift diff (deg)": 242.04600229226634,
          "Phase shift diff (rad)": 4.22449968128979,
          "Photoelectron KE (eV)": 7.212611200000001,
          "Photon energy (eV)": 15.9,
          "Polar ang (deg)": 173,
          "Polar ang (rad)": 3.01941960595019,
          "Target dataset": "good4"
         },
         {
          "Dataset / KE (eV)": "good4 / 7.2",
          "Phase shift diff (deg)": 241.95725660140542,
          "Phase shift diff (rad)": 4.22295077678731,
          "Photoelectron KE (eV)": 7.212611200000001,
          "Photon energy (eV)": 15.9,
          "Polar ang (deg)": 174,
          "Polar ang (rad)": 3.036872898470133,
          "Target dataset": "good4"
         },
         {
          "Dataset / KE (eV)": "good4 / 7.2",
          "Phase shift diff (deg)": 241.88284845325884,
          "Phase shift diff (rad)": 4.22165210961184,
          "Photoelectron KE (eV)": 7.212611200000001,
          "Photon energy (eV)": 15.9,
          "Polar ang (deg)": 175,
          "Polar ang (rad)": 3.0543261909900767,
          "Target dataset": "good4"
         },
         {
          "Dataset / KE (eV)": "good4 / 7.2",
          "Phase shift diff (deg)": 241.8224302769912,
          "Phase shift diff (rad)": 4.22059761350792,
          "Photoelectron KE (eV)": 7.212611200000001,
          "Photon energy (eV)": 15.9,
          "Polar ang (deg)": 176,
          "Polar ang (rad)": 3.07177948351002,
          "Target dataset": "good4"
         },
         {
          "Dataset / KE (eV)": "good4 / 7.2",
          "Phase shift diff (deg)": 241.77572263384434,
          "Phase shift diff (rad)": 4.21978241134916,
          "Photoelectron KE (eV)": 7.212611200000001,
          "Photon energy (eV)": 15.9,
          "Polar ang (deg)": 177,
          "Polar ang (rad)": 3.089232776029963,
          "Target dataset": "good4"
         },
         {
          "Dataset / KE (eV)": "good4 / 7.2",
          "Phase shift diff (deg)": 241.7425112036464,
          "Phase shift diff (rad)": 4.21920276254291,
          "Photoelectron KE (eV)": 7.212611200000001,
          "Photon energy (eV)": 15.9,
          "Polar ang (deg)": 178,
          "Polar ang (rad)": 3.1066860685499065,
          "Target dataset": "good4"
         },
         {
          "Dataset / KE (eV)": "good4 / 7.2",
          "Phase shift diff (deg)": 241.72264449789253,
          "Phase shift diff (rad)": 4.21885602311598,
          "Photoelectron KE (eV)": 7.212611200000001,
          "Photon energy (eV)": 15.9,
          "Polar ang (deg)": 179,
          "Polar ang (rad)": 3.12413936106985,
          "Target dataset": "good4"
         },
         {
          "Dataset / KE (eV)": "good4 / 7.2",
          "Phase shift diff (deg)": 241.71603225656798,
          "Phase shift diff (rad)": 4.21874061773393,
          "Photoelectron KE (eV)": 7.212611200000001,
          "Photon energy (eV)": 15.9,
          "Polar ang (deg)": 180,
          "Polar ang (rad)": 3.141592653589793,
          "Target dataset": "good4"
         }
        ],
        "data-bf66ad5fb91e0d9fa7facf1302258b01": [
         {
          "Dataset / KE (eV)": "good2 / 4.0",
          "Flipped (deg)": -50.9382443717861,
          "Phase shift diff (deg)": 50.9382443717861,
          "Phase shift diff (rad)": 0.889040079473138,
          "Photoelectron KE (eV)": 4.012611200000002,
          "Photon energy (eV)": 14.3,
          "Polar ang (deg)": 0,
          "Polar ang (rad)": 0
         },
         {
          "Dataset / KE (eV)": "good2 / 4.0",
          "Flipped (deg)": -51.1073603041119,
          "Phase shift diff (deg)": 51.1073603041119,
          "Phase shift diff (rad)": 0.8919917093098031,
          "Photoelectron KE (eV)": 4.012611200000002,
          "Photon energy (eV)": 14.3,
          "Polar ang (deg)": 5.72957795130823,
          "Polar ang (rad)": 0.09999999999999998
         },
         {
          "Dataset / KE (eV)": "good2 / 4.0",
          "Flipped (deg)": -51.6271772909367,
          "Phase shift diff (deg)": 51.6271772909367,
          "Phase shift diff (rad)": 0.9010642272376919,
          "Photoelectron KE (eV)": 4.012611200000002,
          "Photon energy (eV)": 14.3,
          "Polar ang (deg)": 11.4591559026165,
          "Polar ang (rad)": 0.2000000000000006
         },
         {
          "Dataset / KE (eV)": "good2 / 4.0",
          "Flipped (deg)": -52.536802249529,
          "Phase shift diff (deg)": 52.536802249529,
          "Phase shift diff (rad)": 0.9169401777234447,
          "Photoelectron KE (eV)": 4.012611200000002,
          "Photon energy (eV)": 14.3,
          "Polar ang (deg)": 17.1887338539247,
          "Polar ang (rad)": 0.3
         },
         {
          "Dataset / KE (eV)": "good2 / 4.0",
          "Flipped (deg)": -53.9073294060646,
          "Phase shift diff (deg)": 53.9073294060646,
          "Phase shift diff (rad)": 0.9408603890929864,
          "Photoelectron KE (eV)": 4.012611200000002,
          "Photon energy (eV)": 14.3,
          "Polar ang (deg)": 22.9183118052329,
          "Polar ang (rad)": 0.39999999999999947
         },
         {
          "Dataset / KE (eV)": "good2 / 4.0",
          "Flipped (deg)": -55.8515191311249,
          "Phase shift diff (deg)": 55.8515191311249,
          "Phase shift diff (rad)": 0.9747929010787321,
          "Photoelectron KE (eV)": 4.012611200000002,
          "Photon energy (eV)": 14.3,
          "Polar ang (deg)": 28.6478897565412,
          "Polar ang (rad)": 0.5000000000000007
         },
         {
          "Dataset / KE (eV)": "good2 / 4.0",
          "Flipped (deg)": -58.5384707483473,
          "Phase shift diff (deg)": 58.5384707483473,
          "Phase shift diff (rad)": 1.0216890536410494,
          "Photoelectron KE (eV)": 4.012611200000002,
          "Photon energy (eV)": 14.3,
          "Polar ang (deg)": 34.3774677078494,
          "Polar ang (rad)": 0.6
         },
         {
          "Dataset / KE (eV)": "good2 / 4.0",
          "Flipped (deg)": -62.2121864818478,
          "Phase shift diff (deg)": 62.2121864818478,
          "Phase shift diff (rad)": 1.0858074889729517,
          "Photoelectron KE (eV)": 4.012611200000002,
          "Photon energy (eV)": 14.3,
          "Polar ang (deg)": 40.1070456591576,
          "Polar ang (rad)": 0.6999999999999995
         },
         {
          "Dataset / KE (eV)": "good2 / 4.0",
          "Flipped (deg)": -67.2053514756323,
          "Phase shift diff (deg)": 67.2053514756323,
          "Phase shift diff (rad)": 1.1729546582098132,
          "Photoelectron KE (eV)": 4.012611200000002,
          "Photon energy (eV)": 14.3,
          "Polar ang (deg)": 45.8366236104659,
          "Polar ang (rad)": 0.8000000000000007
         },
         {
          "Dataset / KE (eV)": "good2 / 4.0",
          "Flipped (deg)": -73.9164688318461,
          "Phase shift diff (deg)": 73.9164688318461,
          "Phase shift diff (rad)": 1.2900857525634812,
          "Photoelectron KE (eV)": 4.012611200000002,
          "Photon energy (eV)": 14.3,
          "Polar ang (deg)": 51.5662015617741,
          "Polar ang (rad)": 0.9000000000000001
         },
         {
          "Dataset / KE (eV)": "good2 / 4.0",
          "Flipped (deg)": -82.6690671532057,
          "Phase shift diff (deg)": 82.6690671532057,
          "Phase shift diff (rad)": 1.442847411375735,
          "Photoelectron KE (eV)": 4.012611200000002,
          "Photon energy (eV)": 14.3,
          "Polar ang (deg)": 57.2957795130823,
          "Polar ang (rad)": 0.9999999999999997
         },
         {
          "Dataset / KE (eV)": "good2 / 4.0",
          "Flipped (deg)": -93.3448218793132,
          "Phase shift diff (deg)": 93.3448218793132,
          "Phase shift diff (rad)": 1.6291744814816564,
          "Photoelectron KE (eV)": 4.012611200000002,
          "Photon energy (eV)": 14.3,
          "Polar ang (deg)": 63.0253574643906,
          "Polar ang (rad)": 1.1000000000000008
         },
         {
          "Dataset / KE (eV)": "good2 / 4.0",
          "Flipped (deg)": -104.916957306059,
          "Phase shift diff (deg)": 104.916957306059,
          "Phase shift diff (rad)": 1.8311463461650497,
          "Photoelectron KE (eV)": 4.012611200000002,
          "Photon energy (eV)": 14.3,
          "Polar ang (deg)": 68.7549354156988,
          "Polar ang (rad)": 1.2
         },
         {
          "Dataset / KE (eV)": "good2 / 4.0",
          "Flipped (deg)": -115.548787342687,
          "Phase shift diff (deg)": 115.548787342687,
          "Phase shift diff (rad)": 2.0167067858166376,
          "Photoelectron KE (eV)": 4.012611200000002,
          "Photon energy (eV)": 14.3,
          "Polar ang (deg)": 74.484513367007,
          "Polar ang (rad)": 1.2999999999999996
         },
         {
          "Dataset / KE (eV)": "good2 / 4.0",
          "Flipped (deg)": -123.541939461141,
          "Phase shift diff (deg)": 123.541939461141,
          "Phase shift diff (rad)": 2.1562136078964196,
          "Photoelectron KE (eV)": 4.012611200000002,
          "Photon energy (eV)": 14.3,
          "Polar ang (deg)": 80.2140913183153,
          "Polar ang (rad)": 1.4000000000000008
         },
         {
          "Dataset / KE (eV)": "good2 / 4.0",
          "Flipped (deg)": -128.036986920965,
          "Phase shift diff (deg)": 128.036986920965,
          "Phase shift diff (rad)": 2.2346669861037562,
          "Photoelectron KE (eV)": 4.012611200000002,
          "Photon energy (eV)": 14.3,
          "Polar ang (deg)": 85.9436692696235,
          "Polar ang (rad)": 1.5000000000000002
         },
         {
          "Dataset / KE (eV)": "good2 / 4.0",
          "Flipped (deg)": 51.1858378728092,
          "Phase shift diff (deg)": 308.8141621271908,
          "Phase shift diff (rad)": 5.389823905907055,
          "Photoelectron KE (eV)": 4.012611200000002,
          "Photon energy (eV)": 14.3,
          "Polar ang (deg)": 91.6732472209317,
          "Polar ang (rad)": 1.5999999999999996
         },
         {
          "Dataset / KE (eV)": "good2 / 4.0",
          "Flipped (deg)": 54.1420814023714,
          "Phase shift diff (deg)": 305.8579185976286,
          "Phase shift diff (rad)": 5.338227722825417,
          "Photoelectron KE (eV)": 4.012611200000002,
          "Photon energy (eV)": 14.3,
          "Polar ang (deg)": 97.4028251722399,
          "Polar ang (rad)": 1.6999999999999993
         },
         {
          "Dataset / KE (eV)": "good2 / 4.0",
          "Flipped (deg)": 60.7366382255834,
          "Phase shift diff (deg)": 299.2633617744166,
          "Phase shift diff (rad)": 5.223130993550509,
          "Photoelectron KE (eV)": 4.012611200000002,
          "Photon energy (eV)": 14.3,
          "Polar ang (deg)": 103.132403123548,
          "Polar ang (rad)": 1.799999999999997
         },
         {
          "Dataset / KE (eV)": "good2 / 4.0",
          "Flipped (deg)": 70.4340104561995,
          "Phase shift diff (deg)": 289.56598954380047,
          "Phase shift diff (rad)": 5.053879919334791,
          "Photoelectron KE (eV)": 4.012611200000002,
          "Photon energy (eV)": 14.3,
          "Polar ang (deg)": 108.861981074856,
          "Polar ang (rad)": 1.8999999999999928
         },
         {
          "Dataset / KE (eV)": "good2 / 4.0",
          "Flipped (deg)": 81.8562187924849,
          "Phase shift diff (deg)": 278.1437812075151,
          "Phase shift diff (rad)": 4.854524776017867,
          "Photoelectron KE (eV)": 4.012611200000002,
          "Photon energy (eV)": 14.3,
          "Polar ang (deg)": 114.591559026165,
          "Polar ang (rad)": 2.000000000000006
         },
         {
          "Dataset / KE (eV)": "good2 / 4.0",
          "Flipped (deg)": 93.0896092565524,
          "Phase shift diff (deg)": 266.9103907434476,
          "Phase shift diff (rad)": 4.658465126257756,
          "Photoelectron KE (eV)": 4.012611200000002,
          "Photon energy (eV)": 14.3,
          "Polar ang (deg)": 120.321136977473,
          "Polar ang (rad)": 2.1000000000000023
         },
         {
          "Dataset / KE (eV)": "good2 / 4.0",
          "Flipped (deg)": 102.699933775054,
          "Phase shift diff (deg)": 257.300066224946,
          "Phase shift diff (rad)": 4.490733321224765,
          "Photoelectron KE (eV)": 4.012611200000002,
          "Photon energy (eV)": 14.3,
          "Polar ang (deg)": 126.050714928781,
          "Polar ang (rad)": 2.199999999999998
         },
         {
          "Dataset / KE (eV)": "good2 / 4.0",
          "Flipped (deg)": 110.235007673231,
          "Phase shift diff (deg)": 249.764992326769,
          "Phase shift diff (rad)": 4.359221472320492,
          "Photoelectron KE (eV)": 4.012611200000002,
          "Photon energy (eV)": 14.3,
          "Polar ang (deg)": 131.780292880089,
          "Polar ang (rad)": 2.299999999999994
         },
         {
          "Dataset / KE (eV)": "good2 / 4.0",
          "Flipped (deg)": 115.893361092746,
          "Phase shift diff (deg)": 244.106638907254,
          "Phase shift diff (rad)": 4.260464574908475,
          "Photoelectron KE (eV)": 4.012611200000002,
          "Photon energy (eV)": 14.3,
          "Polar ang (deg)": 137.509870831398,
          "Polar ang (rad)": 2.400000000000007
         },
         {
          "Dataset / KE (eV)": "good2 / 4.0",
          "Flipped (deg)": 120.070406093604,
          "Phase shift diff (deg)": 239.929593906396,
          "Phase shift diff (rad)": 4.187561386639534,
          "Photoelectron KE (eV)": 4.012611200000002,
          "Photon energy (eV)": 14.3,
          "Polar ang (deg)": 143.239448782706,
          "Polar ang (rad)": 2.5000000000000036
         },
         {
          "Dataset / KE (eV)": "good2 / 4.0",
          "Flipped (deg)": 123.133202953492,
          "Phase shift diff (deg)": 236.866797046508,
          "Phase shift diff (rad)": 4.134105497114745,
          "Photoelectron KE (eV)": 4.012611200000002,
          "Photon energy (eV)": 14.3,
          "Polar ang (deg)": 148.969026734014,
          "Polar ang (rad)": 2.599999999999999
         },
         {
          "Dataset / KE (eV)": "good2 / 4.0",
          "Flipped (deg)": 125.361933431064,
          "Phase shift diff (deg)": 234.63806656893598,
          "Phase shift diff (rad)": 4.0952068121415675,
          "Photoelectron KE (eV)": 4.012611200000002,
          "Photon energy (eV)": 14.3,
          "Polar ang (deg)": 154.698604685322,
          "Polar ang (rad)": 2.6999999999999953
         },
         {
          "Dataset / KE (eV)": "good2 / 4.0",
          "Flipped (deg)": 126.954524911105,
          "Phase shift diff (deg)": 233.045475088895,
          "Phase shift diff (rad)": 4.067410847175642,
          "Photoelectron KE (eV)": 4.012611200000002,
          "Photon energy (eV)": 14.3,
          "Polar ang (deg)": 160.42818263663,
          "Polar ang (rad)": 2.799999999999991
         },
         {
          "Dataset / KE (eV)": "good2 / 4.0",
          "Flipped (deg)": 128.04509966667,
          "Phase shift diff (deg)": 231.95490033333,
          "Phase shift diff (rad)": 4.048376726951901,
          "Photoelectron KE (eV)": 4.012611200000002,
          "Photon energy (eV)": 14.3,
          "Polar ang (deg)": 166.157760587939,
          "Polar ang (rad)": 2.900000000000005
         },
         {
          "Dataset / KE (eV)": "good2 / 4.0",
          "Flipped (deg)": 128.720629174079,
          "Phase shift diff (deg)": 231.279370825921,
          "Phase shift diff (rad)": 4.036586512853239,
          "Photoelectron KE (eV)": 4.012611200000002,
          "Photon energy (eV)": 14.3,
          "Polar ang (deg)": 171.887338539247,
          "Polar ang (rad)": 3.0000000000000004
         },
         {
          "Dataset / KE (eV)": "good2 / 4.0",
          "Flipped (deg)": 129.032645576374,
          "Phase shift diff (deg)": 230.967354423626,
          "Phase shift diff (rad)": 4.031140799312964,
          "Photoelectron KE (eV)": 4.012611200000002,
          "Photon energy (eV)": 14.3,
          "Polar ang (deg)": 177.616916490555,
          "Polar ang (rad)": 3.099999999999997
         },
         {
          "Dataset / KE (eV)": "good1 / 7.2",
          "Flipped (deg)": -53.9744927015086,
          "Phase shift diff (deg)": 53.9744927015086,
          "Phase shift diff (rad)": 0.942032609734974,
          "Photoelectron KE (eV)": 7.212611200000001,
          "Photon energy (eV)": 15.9,
          "Polar ang (deg)": 0,
          "Polar ang (rad)": 0
         },
         {
          "Dataset / KE (eV)": "good1 / 7.2",
          "Flipped (deg)": -54.086407418436,
          "Phase shift diff (deg)": 54.086407418436,
          "Phase shift diff (rad)": 0.9439858900267946,
          "Photoelectron KE (eV)": 7.212611200000001,
          "Photon energy (eV)": 15.9,
          "Polar ang (deg)": 5.72957795130823,
          "Polar ang (rad)": 0.09999999999999998
         },
         {
          "Dataset / KE (eV)": "good1 / 7.2",
          "Flipped (deg)": -54.4331744684868,
          "Phase shift diff (deg)": 54.4331744684868,
          "Phase shift diff (rad)": 0.950038116787609,
          "Photoelectron KE (eV)": 7.212611200000001,
          "Photon energy (eV)": 15.9,
          "Polar ang (deg)": 11.4591559026165,
          "Polar ang (rad)": 0.2000000000000006
         },
         {
          "Dataset / KE (eV)": "good1 / 7.2",
          "Flipped (deg)": -55.0503119536797,
          "Phase shift diff (deg)": 55.0503119536797,
          "Phase shift diff (rad)": 0.9608091978417028,
          "Photoelectron KE (eV)": 7.212611200000001,
          "Photon energy (eV)": 15.9,
          "Polar ang (deg)": 17.1887338539247,
          "Polar ang (rad)": 0.3
         },
         {
          "Dataset / KE (eV)": "good1 / 7.2",
          "Flipped (deg)": -56.0061595208693,
          "Phase shift diff (deg)": 56.0061595208693,
          "Phase shift diff (rad)": 0.9774918850363392,
          "Photoelectron KE (eV)": 7.212611200000001,
          "Photon energy (eV)": 15.9,
          "Polar ang (deg)": 22.9183118052329,
          "Polar ang (rad)": 0.39999999999999947
         },
         {
          "Dataset / KE (eV)": "good1 / 7.2",
          "Flipped (deg)": -57.4196258734288,
          "Phase shift diff (deg)": 57.4196258734288,
          "Phase shift diff (rad)": 1.0021615267546573,
          "Photoelectron KE (eV)": 7.212611200000001,
          "Photon energy (eV)": 15.9,
          "Polar ang (deg)": 28.6478897565412,
          "Polar ang (rad)": 0.5000000000000007
         },
         {
          "Dataset / KE (eV)": "good1 / 7.2",
          "Flipped (deg)": -59.4958169301348,
          "Phase shift diff (deg)": 59.4958169301348,
          "Phase shift diff (rad)": 1.0383978965946374,
          "Photoelectron KE (eV)": 7.212611200000001,
          "Photon energy (eV)": 15.9,
          "Polar ang (deg)": 34.3774677078494,
          "Polar ang (rad)": 0.6
         },
         {
          "Dataset / KE (eV)": "good1 / 7.2",
          "Flipped (deg)": -62.5990240461859,
          "Phase shift diff (deg)": 62.5990240461859,
          "Phase shift diff (rad)": 1.0925590781410468,
          "Photoelectron KE (eV)": 7.212611200000001,
          "Photon energy (eV)": 15.9,
          "Polar ang (deg)": 40.1070456591576,
          "Polar ang (rad)": 0.6999999999999995
         },
         {
          "Dataset / KE (eV)": "good1 / 7.2",
          "Flipped (deg)": -67.4079726782752,
          "Phase shift diff (deg)": 67.4079726782752,
          "Phase shift diff (rad)": 1.1764910653302827,
          "Photoelectron KE (eV)": 7.212611200000001,
          "Photon energy (eV)": 15.9,
          "Polar ang (deg)": 45.8366236104659,
          "Polar ang (rad)": 0.8000000000000007
         },
         {
          "Dataset / KE (eV)": "good1 / 7.2",
          "Flipped (deg)": -75.2460929721202,
          "Phase shift diff (deg)": 75.2460929721202,
          "Phase shift diff (rad)": 1.3132920716252632,
          "Photoelectron KE (eV)": 7.212611200000001,
          "Photon energy (eV)": 15.9,
          "Polar ang (deg)": 51.5662015617741,
          "Polar ang (rad)": 0.9000000000000001
         },
         {
          "Dataset / KE (eV)": "good1 / 7.2",
          "Flipped (deg)": -88.632110563799,
          "Phase shift diff (deg)": 88.632110563799,
          "Phase shift diff (rad)": 1.5469221523299403,
          "Photoelectron KE (eV)": 7.212611200000001,
          "Photon energy (eV)": 15.9,
          "Polar ang (deg)": 57.2957795130823,
          "Polar ang (rad)": 0.9999999999999997
         },
         {
          "Dataset / KE (eV)": "good1 / 7.2",
          "Flipped (deg)": -110.723201125829,
          "Phase shift diff (deg)": 110.723201125829,
          "Phase shift diff (rad)": 1.9324844179936083,
          "Photoelectron KE (eV)": 7.212611200000001,
          "Photon energy (eV)": 15.9,
          "Polar ang (deg)": 63.0253574643906,
          "Polar ang (rad)": 1.1000000000000008
         },
         {
          "Dataset / KE (eV)": "good1 / 7.2",
          "Flipped (deg)": -138.330891486546,
          "Phase shift diff (deg)": 138.330891486546,
          "Phase shift diff (rad)": 2.414329513659221,
          "Photoelectron KE (eV)": 7.212611200000001,
          "Photon energy (eV)": 15.9,
          "Polar ang (deg)": 68.7549354156988,
          "Polar ang (rad)": 1.2
         },
         {
          "Dataset / KE (eV)": "good1 / 7.2",
          "Flipped (deg)": -159.801781812851,
          "Phase shift diff (deg)": 159.801781812851,
          "Phase shift diff (rad)": 2.789067243187843,
          "Photoelectron KE (eV)": 7.212611200000001,
          "Photon energy (eV)": 15.9,
          "Polar ang (deg)": 74.484513367007,
          "Polar ang (rad)": 1.2999999999999996
         },
         {
          "Dataset / KE (eV)": "good1 / 7.2",
          "Flipped (deg)": -171.795330531373,
          "Phase shift diff (deg)": 171.795330531373,
          "Phase shift diff (rad)": 2.998394157324398,
          "Photoelectron KE (eV)": 7.212611200000001,
          "Photon energy (eV)": 15.9,
          "Polar ang (deg)": 80.2140913183153,
          "Polar ang (rad)": 1.4000000000000008
         },
         {
          "Dataset / KE (eV)": "good1 / 7.2",
          "Flipped (deg)": -177.210344206524,
          "Phase shift diff (deg)": 177.210344206524,
          "Phase shift diff (rad)": 3.092903974996302,
          "Photoelectron KE (eV)": 7.212611200000001,
          "Photon energy (eV)": 15.9,
          "Polar ang (deg)": 85.9436692696235,
          "Polar ang (rad)": 1.5000000000000002
         },
         {
          "Dataset / KE (eV)": "good1 / 7.2",
          "Flipped (deg)": 1.93438764205515,
          "Phase shift diff (deg)": 358.0656123579449,
          "Phase shift diff (rad)": 6.249423873815835,
          "Photoelectron KE (eV)": 7.212611200000001,
          "Photon energy (eV)": 15.9,
          "Polar ang (deg)": 91.6732472209317,
          "Polar ang (rad)": 1.5999999999999996
         },
         {
          "Dataset / KE (eV)": "good1 / 7.2",
          "Flipped (deg)": 5.31057625303709,
          "Phase shift diff (deg)": 354.6894237469629,
          "Phase shift diff (rad)": 6.190498266385865,
          "Photoelectron KE (eV)": 7.212611200000001,
          "Photon energy (eV)": 15.9,
          "Polar ang (deg)": 97.4028251722399,
          "Polar ang (rad)": 1.6999999999999993
         },
         {
          "Dataset / KE (eV)": "good1 / 7.2",
          "Flipped (deg)": 14.2080314944984,
          "Phase shift diff (deg)": 345.7919685055016,
          "Phase shift diff (rad)": 6.0352083773735385,
          "Photoelectron KE (eV)": 7.212611200000001,
          "Photon energy (eV)": 15.9,
          "Polar ang (deg)": 103.132403123548,
          "Polar ang (rad)": 1.799999999999997
         },
         {
          "Dataset / KE (eV)": "good1 / 7.2",
          "Flipped (deg)": 31.5147262799829,
          "Phase shift diff (deg)": 328.4852737200171,
          "Phase shift diff (rad)": 5.7331495707291005,
          "Photoelectron KE (eV)": 7.212611200000001,
          "Photon energy (eV)": 15.9,
          "Polar ang (deg)": 108.861981074856,
          "Polar ang (rad)": 1.8999999999999928
         },
         {
          "Dataset / KE (eV)": "good1 / 7.2",
          "Flipped (deg)": 57.8119309206602,
          "Phase shift diff (deg)": 302.1880690793398,
          "Phase shift diff (rad)": 5.274176765678549,
          "Photoelectron KE (eV)": 7.212611200000001,
          "Photon energy (eV)": 15.9,
          "Polar ang (deg)": 114.591559026165,
          "Polar ang (rad)": 2.000000000000006
         },
         {
          "Dataset / KE (eV)": "good1 / 7.2",
          "Flipped (deg)": 83.333597471819,
          "Phase shift diff (deg)": 276.666402528181,
          "Phase shift diff (rad)": 4.828739653764722,
          "Photoelectron KE (eV)": 7.212611200000001,
          "Photon energy (eV)": 15.9,
          "Polar ang (deg)": 120.321136977473,
          "Polar ang (rad)": 2.1000000000000023
         },
         {
          "Dataset / KE (eV)": "good1 / 7.2",
          "Flipped (deg)": 100.05640703242,
          "Phase shift diff (deg)": 259.94359296758,
          "Phase shift diff (rad)": 4.536871566748249,
          "Photoelectron KE (eV)": 7.212611200000001,
          "Photon energy (eV)": 15.9,
          "Polar ang (deg)": 126.050714928781,
          "Polar ang (rad)": 2.199999999999998
         },
         {
          "Dataset / KE (eV)": "good1 / 7.2",
          "Flipped (deg)": 109.810623718663,
          "Phase shift diff (deg)": 250.189376281337,
          "Phase shift diff (rad)": 4.366628369620337,
          "Photoelectron KE (eV)": 7.212611200000001,
          "Photon energy (eV)": 15.9,
          "Polar ang (deg)": 131.780292880089,
          "Polar ang (rad)": 2.299999999999994
         },
         {
          "Dataset / KE (eV)": "good1 / 7.2",
          "Flipped (deg)": 115.664002098261,
          "Phase shift diff (deg)": 244.335997901739,
          "Phase shift diff (rad)": 4.264467644531302,
          "Photoelectron KE (eV)": 7.212611200000001,
          "Photon energy (eV)": 15.9,
          "Polar ang (deg)": 137.509870831398,
          "Polar ang (rad)": 2.400000000000007
         },
         {
          "Dataset / KE (eV)": "good1 / 7.2",
          "Flipped (deg)": 119.367488864077,
          "Phase shift diff (deg)": 240.63251113592298,
          "Phase shift diff (rad)": 4.199829606663776,
          "Photoelectron KE (eV)": 7.212611200000001,
          "Photon energy (eV)": 15.9,
          "Polar ang (deg)": 143.239448782706,
          "Polar ang (rad)": 2.5000000000000036
         },
         {
          "Dataset / KE (eV)": "good1 / 7.2",
          "Flipped (deg)": 121.81343864296,
          "Phase shift diff (deg)": 238.18656135704,
          "Phase shift diff (rad)": 4.157139729683841,
          "Photoelectron KE (eV)": 7.212611200000001,
          "Photon energy (eV)": 15.9,
          "Polar ang (deg)": 148.969026734014,
          "Polar ang (rad)": 2.599999999999999
         },
         {
          "Dataset / KE (eV)": "good1 / 7.2",
          "Flipped (deg)": 123.470771396032,
          "Phase shift diff (deg)": 236.529228603968,
          "Phase shift diff (rad)": 4.128213816341592,
          "Photoelectron KE (eV)": 7.212611200000001,
          "Photon energy (eV)": 15.9,
          "Polar ang (deg)": 154.698604685322,
          "Polar ang (rad)": 2.6999999999999953
         },
         {
          "Dataset / KE (eV)": "good1 / 7.2",
          "Flipped (deg)": 124.598658700717,
          "Phase shift diff (deg)": 235.401341299283,
          "Phase shift diff (rad)": 4.108528469283394,
          "Photoelectron KE (eV)": 7.212611200000001,
          "Photon energy (eV)": 15.9,
          "Polar ang (deg)": 160.42818263663,
          "Polar ang (rad)": 2.799999999999991
         },
         {
          "Dataset / KE (eV)": "good1 / 7.2",
          "Flipped (deg)": 125.346017507713,
          "Phase shift diff (deg)": 234.653982492287,
          "Phase shift diff (rad)": 4.095484597407538,
          "Photoelectron KE (eV)": 7.212611200000001,
          "Photon energy (eV)": 15.9,
          "Polar ang (deg)": 166.157760587939,
          "Polar ang (rad)": 2.900000000000005
         },
         {
          "Dataset / KE (eV)": "good1 / 7.2",
          "Flipped (deg)": 125.799310874874,
          "Phase shift diff (deg)": 234.20068912512602,
          "Phase shift diff (rad)": 4.087573135673127,
          "Photoelectron KE (eV)": 7.212611200000001,
          "Photon energy (eV)": 15.9,
          "Polar ang (deg)": 171.887338539247,
          "Polar ang (rad)": 3.0000000000000004
         },
         {
          "Dataset / KE (eV)": "good1 / 7.2",
          "Flipped (deg)": 126.006274530426,
          "Phase shift diff (deg)": 233.993725469574,
          "Phase shift diff (rad)": 4.083960938451781,
          "Photoelectron KE (eV)": 7.212611200000001,
          "Photon energy (eV)": 15.9,
          "Polar ang (deg)": 177.616916490555,
          "Polar ang (rad)": 3.099999999999997
         },
         {
          "Dataset / KE (eV)": "good3 / 13.6",
          "Flipped (deg)": -60.5139065629168,
          "Phase shift diff (deg)": 60.5139065629168,
          "Phase shift diff (rad)": 1.0561669127671034,
          "Photoelectron KE (eV)": 13.612611200000003,
          "Photon energy (eV)": 19.1,
          "Polar ang (deg)": 0,
          "Polar ang (rad)": 0
         },
         {
          "Dataset / KE (eV)": "good3 / 13.6",
          "Flipped (deg)": -60.6899286711023,
          "Phase shift diff (deg)": 60.6899286711023,
          "Phase shift diff (rad)": 1.059239078111242,
          "Photoelectron KE (eV)": 13.612611200000003,
          "Photon energy (eV)": 19.1,
          "Polar ang (deg)": 5.72957795130823,
          "Polar ang (rad)": 0.09999999999999998
         },
         {
          "Dataset / KE (eV)": "good3 / 13.6",
          "Flipped (deg)": -61.2327611028246,
          "Phase shift diff (deg)": 61.2327611028246,
          "Phase shift diff (rad)": 1.0687132913314032,
          "Photoelectron KE (eV)": 13.612611200000003,
          "Photon energy (eV)": 19.1,
          "Polar ang (deg)": 11.4591559026165,
          "Polar ang (rad)": 0.2000000000000006
         },
         {
          "Dataset / KE (eV)": "good3 / 13.6",
          "Flipped (deg)": -62.1891804267224,
          "Phase shift diff (deg)": 62.1891804267224,
          "Phase shift diff (rad)": 1.085405957563118,
          "Photoelectron KE (eV)": 13.612611200000003,
          "Photon energy (eV)": 19.1,
          "Polar ang (deg)": 17.1887338539247,
          "Polar ang (rad)": 0.3
         },
         {
          "Dataset / KE (eV)": "good3 / 13.6",
          "Flipped (deg)": -63.6459892976517,
          "Phase shift diff (deg)": 63.6459892976517,
          "Phase shift diff (rad)": 1.1108320689330955,
          "Photoelectron KE (eV)": 13.612611200000003,
          "Photon energy (eV)": 19.1,
          "Polar ang (deg)": 22.9183118052329,
          "Polar ang (rad)": 0.39999999999999947
         },
         {
          "Dataset / KE (eV)": "good3 / 13.6",
          "Flipped (deg)": -65.7453688405474,
          "Phase shift diff (deg)": 65.7453688405474,
          "Phase shift diff (rad)": 1.147473154205639,
          "Photoelectron KE (eV)": 13.612611200000003,
          "Photon energy (eV)": 19.1,
          "Polar ang (deg)": 28.6478897565412,
          "Polar ang (rad)": 0.5000000000000007
         },
         {
          "Dataset / KE (eV)": "good3 / 13.6",
          "Flipped (deg)": -68.7104927198316,
          "Phase shift diff (deg)": 68.7104927198316,
          "Phase shift diff (rad)": 1.1992243286286552,
          "Photoelectron KE (eV)": 13.612611200000003,
          "Photon energy (eV)": 19.1,
          "Polar ang (deg)": 34.3774677078494,
          "Polar ang (rad)": 0.6
         },
         {
          "Dataset / KE (eV)": "good3 / 13.6",
          "Flipped (deg)": -72.8837469260875,
          "Phase shift diff (deg)": 72.8837469260875,
          "Phase shift diff (rad)": 1.272061355050523,
          "Photoelectron KE (eV)": 13.612611200000003,
          "Photon energy (eV)": 19.1,
          "Polar ang (deg)": 40.1070456591576,
          "Polar ang (rad)": 0.6999999999999995
         },
         {
          "Dataset / KE (eV)": "good3 / 13.6",
          "Flipped (deg)": -78.7701962386113,
          "Phase shift diff (deg)": 78.7701962386113,
          "Phase shift diff (rad)": 1.3747992768058201,
          "Photoelectron KE (eV)": 13.612611200000003,
          "Photon energy (eV)": 19.1,
          "Polar ang (deg)": 45.8366236104659,
          "Polar ang (rad)": 0.8000000000000007
         },
         {
          "Dataset / KE (eV)": "good3 / 13.6",
          "Flipped (deg)": -87.0345310322589,
          "Phase shift diff (deg)": 87.0345310322589,
          "Phase shift diff (rad)": 1.5190391294420968,
          "Photoelectron KE (eV)": 13.612611200000003,
          "Photon energy (eV)": 19.1,
          "Polar ang (deg)": 51.5662015617741,
          "Polar ang (rad)": 0.9000000000000001
         },
         {
          "Dataset / KE (eV)": "good3 / 13.6",
          "Flipped (deg)": -98.2700369710887,
          "Phase shift diff (deg)": 98.2700369710887,
          "Phase shift diff (rad)": 1.7151357012020534,
          "Photoelectron KE (eV)": 13.612611200000003,
          "Photon energy (eV)": 19.1,
          "Polar ang (deg)": 57.2957795130823,
          "Polar ang (rad)": 0.9999999999999997
         },
         {
          "Dataset / KE (eV)": "good3 / 13.6",
          "Flipped (deg)": -112.23996207302,
          "Phase shift diff (deg)": 112.23996207302,
          "Phase shift diff (rad)": 1.958956890487759,
          "Photoelectron KE (eV)": 13.612611200000003,
          "Photon energy (eV)": 19.1,
          "Polar ang (deg)": 63.0253574643906,
          "Polar ang (rad)": 1.1000000000000008
         },
         {
          "Dataset / KE (eV)": "good3 / 13.6",
          "Flipped (deg)": -126.986526993429,
          "Phase shift diff (deg)": 126.986526993429,
          "Phase shift diff (rad)": 2.2163330017079916,
          "Photoelectron KE (eV)": 13.612611200000003,
          "Photon energy (eV)": 19.1,
          "Polar ang (deg)": 68.7549354156988,
          "Polar ang (rad)": 1.2
         },
         {
          "Dataset / KE (eV)": "good3 / 13.6",
          "Flipped (deg)": -139.612777648767,
          "Phase shift diff (deg)": 139.612777648767,
          "Phase shift diff (rad)": 2.4367026478257316,
          "Photoelectron KE (eV)": 13.612611200000003,
          "Photon energy (eV)": 19.1,
          "Polar ang (deg)": 74.484513367007,
          "Polar ang (rad)": 1.2999999999999996
         },
         {
          "Dataset / KE (eV)": "good3 / 13.6",
          "Flipped (deg)": -148.366674932498,
          "Phase shift diff (deg)": 148.366674932498,
          "Phase shift diff (rad)": 2.589486977808226,
          "Photoelectron KE (eV)": 13.612611200000003,
          "Photon energy (eV)": 19.1,
          "Polar ang (deg)": 80.2140913183153,
          "Polar ang (rad)": 1.4000000000000008
         },
         {
          "Dataset / KE (eV)": "good3 / 13.6",
          "Flipped (deg)": -153.005988868819,
          "Phase shift diff (deg)": 153.005988868819,
          "Phase shift diff (rad)": 2.670458281030686,
          "Photoelectron KE (eV)": 13.612611200000003,
          "Photon energy (eV)": 19.1,
          "Polar ang (deg)": 85.9436692696235,
          "Polar ang (rad)": 1.5000000000000002
         },
         {
          "Dataset / KE (eV)": "good3 / 13.6",
          "Flipped (deg)": 26.2119004921937,
          "Phase shift diff (deg)": 333.7880995078063,
          "Phase shift diff (rad)": 5.825701340385684,
          "Photoelectron KE (eV)": 13.612611200000003,
          "Photon energy (eV)": 19.1,
          "Polar ang (deg)": 91.6732472209317,
          "Polar ang (rad)": 1.5999999999999996
         },
         {
          "Dataset / KE (eV)": "good3 / 13.6",
          "Flipped (deg)": 29.2181008085988,
          "Phase shift diff (deg)": 330.7818991914012,
          "Phase shift diff (rad)": 5.7732332468899195,
          "Photoelectron KE (eV)": 13.612611200000003,
          "Photon energy (eV)": 19.1,
          "Polar ang (deg)": 97.4028251722399,
          "Polar ang (rad)": 1.6999999999999993
         },
         {
          "Dataset / KE (eV)": "good3 / 13.6",
          "Flipped (deg)": 36.2378506704232,
          "Phase shift diff (deg)": 323.7621493295768,
          "Phase shift diff (rad)": 5.650715499134667,
          "Photoelectron KE (eV)": 13.612611200000003,
          "Photon energy (eV)": 19.1,
          "Polar ang (deg)": 103.132403123548,
          "Polar ang (rad)": 1.799999999999997
         },
         {
          "Dataset / KE (eV)": "good3 / 13.6",
          "Flipped (deg)": 47.3617579416991,
          "Phase shift diff (deg)": 312.6382420583009,
          "Phase shift diff (rad)": 5.456566691564364,
          "Photoelectron KE (eV)": 13.612611200000003,
          "Photon energy (eV)": 19.1,
          "Polar ang (deg)": 108.861981074856,
          "Polar ang (rad)": 1.8999999999999928
         },
         {
          "Dataset / KE (eV)": "good3 / 13.6",
          "Flipped (deg)": 61.5515491589121,
          "Phase shift diff (deg)": 298.4484508410879,
          "Phase shift diff (rad)": 5.208908114653424,
          "Photoelectron KE (eV)": 13.612611200000003,
          "Photon energy (eV)": 19.1,
          "Polar ang (deg)": 114.591559026165,
          "Polar ang (rad)": 2.000000000000006
         },
         {
          "Dataset / KE (eV)": "good3 / 13.6",
          "Flipped (deg)": 76.1824096213243,
          "Phase shift diff (deg)": 283.81759037867573,
          "Phase shift diff (rad)": 4.953551427184471,
          "Photoelectron KE (eV)": 13.612611200000003,
          "Photon energy (eV)": 19.1,
          "Polar ang (deg)": 120.321136977473,
          "Polar ang (rad)": 2.1000000000000023
         },
         {
          "Dataset / KE (eV)": "good3 / 13.6",
          "Flipped (deg)": 88.6707489850495,
          "Phase shift diff (deg)": 271.3292510149505,
          "Phase shift diff (rad)": 4.735588787181052,
          "Photoelectron KE (eV)": 13.612611200000003,
          "Photon energy (eV)": 19.1,
          "Polar ang (deg)": 126.050714928781,
          "Polar ang (rad)": 2.199999999999998
         },
         {
          "Dataset / KE (eV)": "good3 / 13.6",
          "Flipped (deg)": 98.122136396551,
          "Phase shift diff (deg)": 261.877863603449,
          "Phase shift diff (rad)": 4.570630957968807,
          "Photoelectron KE (eV)": 13.612611200000003,
          "Photon energy (eV)": 19.1,
          "Polar ang (deg)": 131.780292880089,
          "Polar ang (rad)": 2.299999999999994
         },
         {
          "Dataset / KE (eV)": "good3 / 13.6",
          "Flipped (deg)": 104.911284276069,
          "Phase shift diff (deg)": 255.088715723931,
          "Phase shift diff (rad)": 4.452137974066426,
          "Photoelectron KE (eV)": 13.612611200000003,
          "Photon energy (eV)": 19.1,
          "Polar ang (deg)": 137.509870831398,
          "Polar ang (rad)": 2.400000000000007
         },
         {
          "Dataset / KE (eV)": "good3 / 13.6",
          "Flipped (deg)": 109.725336074476,
          "Phase shift diff (deg)": 250.274663925524,
          "Phase shift diff (rad)": 4.36811691982267,
          "Photoelectron KE (eV)": 13.612611200000003,
          "Photon energy (eV)": 19.1,
          "Polar ang (deg)": 143.239448782706,
          "Polar ang (rad)": 2.5000000000000036
         },
         {
          "Dataset / KE (eV)": "good3 / 13.6",
          "Flipped (deg)": 113.142941870669,
          "Phase shift diff (deg)": 246.857058129331,
          "Phase shift diff (rad)": 4.30846844614386,
          "Photoelectron KE (eV)": 13.612611200000003,
          "Photon energy (eV)": 19.1,
          "Polar ang (deg)": 148.969026734014,
          "Polar ang (rad)": 2.599999999999999
         },
         {
          "Dataset / KE (eV)": "good3 / 13.6",
          "Flipped (deg)": 115.569470675233,
          "Phase shift diff (deg)": 244.430529324767,
          "Phase shift diff (rad)": 4.266117529109736,
          "Photoelectron KE (eV)": 13.612611200000003,
          "Photon energy (eV)": 19.1,
          "Polar ang (deg)": 154.698604685322,
          "Polar ang (rad)": 2.6999999999999953
         },
         {
          "Dataset / KE (eV)": "good3 / 13.6",
          "Flipped (deg)": 117.27234342565,
          "Phase shift diff (deg)": 242.72765657435,
          "Phase shift diff (rad)": 4.236396792872468,
          "Photoelectron KE (eV)": 13.612611200000003,
          "Photon energy (eV)": 19.1,
          "Polar ang (deg)": 160.42818263663,
          "Polar ang (rad)": 2.799999999999991
         },
         {
          "Dataset / KE (eV)": "good3 / 13.6",
          "Flipped (deg)": 118.423614993561,
          "Phase shift diff (deg)": 241.576385006439,
          "Phase shift diff (rad)": 4.216303313427823,
          "Photoelectron KE (eV)": 13.612611200000003,
          "Photon energy (eV)": 19.1,
          "Polar ang (deg)": 166.157760587939,
          "Polar ang (rad)": 2.900000000000005
         },
         {
          "Dataset / KE (eV)": "good3 / 13.6",
          "Flipped (deg)": 119.1307438084,
          "Phase shift diff (deg)": 240.86925619160002,
          "Phase shift diff (rad)": 4.203961587373158,
          "Photoelectron KE (eV)": 13.612611200000003,
          "Photon energy (eV)": 19.1,
          "Polar ang (deg)": 171.887338539247,
          "Polar ang (rad)": 3.0000000000000004
         },
         {
          "Dataset / KE (eV)": "good3 / 13.6",
          "Flipped (deg)": 119.455814925436,
          "Phase shift diff (deg)": 240.54418507456398,
          "Phase shift diff (rad)": 4.198288026077743,
          "Photoelectron KE (eV)": 13.612611200000003,
          "Photon energy (eV)": 19.1,
          "Polar ang (deg)": 177.616916490555,
          "Polar ang (rad)": 3.099999999999997
         }
        ],
        "data-e84d434886c3bad8ee4d5fa5ab522aa5": [
         {
          "Dataset": "good1",
          "Dataset / KE (eV)": "good1 / 7.2",
          "Phase shift diff (deg)": 55.62416523791295,
          "Phase shift diff (rad)": 0.970824827074956,
          "Phase shift diff err (deg)": 5.102608561745772,
          "Phase shift diff err (rad)": 0.0890573198429161,
          "Phase shift diff fr (deg)": 50.52155667616718,
          "Phase shift diff to (deg)": 60.726773799658716,
          "Photoelectron KE (eV)": 7.212611200000001,
          "Photon energy (eV)": 15.9,
          "Polar ang (deg)": 2.5,
          "Polar ang (rad)": 0.04363323129985824,
          "Polar ang fr (deg)": 0,
          "Polar ang to (deg)": 5
         },
         {
          "Dataset": "good1",
          "Dataset / KE (eV)": "good1 / 7.2",
          "Phase shift diff (deg)": 69.34129761702131,
          "Phase shift diff (rad)": 1.21023395102232,
          "Phase shift diff err (deg)": 5.542410717517573,
          "Phase shift diff err (rad)": 0.096733315518503,
          "Phase shift diff fr (deg)": 63.79888689950374,
          "Phase shift diff to (deg)": 74.88370833453888,
          "Photoelectron KE (eV)": 7.212611200000001,
          "Photon energy (eV)": 15.9,
          "Polar ang (deg)": 7.5,
          "Polar ang (rad)": 0.1308996938995747,
          "Polar ang fr (deg)": 5,
          "Polar ang to (deg)": 10
         },
         {
          "Dataset": "good1",
          "Dataset / KE (eV)": "good1 / 7.2",
          "Phase shift diff (deg)": 57.48579921989812,
          "Phase shift diff (rad)": 1.00331646952761,
          "Phase shift diff err (deg)": 4.167181008436687,
          "Phase shift diff err (rad)": 0.0727310291237978,
          "Phase shift diff fr (deg)": 53.318618211461434,
          "Phase shift diff to (deg)": 61.652980228334805,
          "Photoelectron KE (eV)": 7.212611200000001,
          "Photon energy (eV)": 15.9,
          "Polar ang (deg)": 12.5,
          "Polar ang (rad)": 0.2181661564992912,
          "Polar ang fr (deg)": 10,
          "Polar ang to (deg)": 15
         },
         {
          "Dataset": "good1",
          "Dataset / KE (eV)": "good1 / 7.2",
          "Phase shift diff (deg)": 69.85629700128588,
          "Phase shift diff (rad)": 1.21922238592348,
          "Phase shift diff err (deg)": 3.5493796519706624,
          "Phase shift diff err (rad)": 0.0619483613301785,
          "Phase shift diff fr (deg)": 66.30691734931521,
          "Phase shift diff to (deg)": 73.40567665325655,
          "Photoelectron KE (eV)": 7.212611200000001,
          "Photon energy (eV)": 15.9,
          "Polar ang (deg)": 17.5,
          "Polar ang (rad)": 0.30543261909900765,
          "Polar ang fr (deg)": 15,
          "Polar ang to (deg)": 20
         },
         {
          "Dataset": "good1",
          "Dataset / KE (eV)": "good1 / 7.2",
          "Phase shift diff (deg)": 63.804060942049574,
          "Phase shift diff (rad)": 1.11359093958188,
          "Phase shift diff err (deg)": 6.656708668429828,
          "Phase shift diff err (rad)": 0.116181483610148,
          "Phase shift diff fr (deg)": 57.147352273619745,
          "Phase shift diff to (deg)": 70.4607696104794,
          "Photoelectron KE (eV)": 7.212611200000001,
          "Photon energy (eV)": 15.9,
          "Polar ang (deg)": 22.5,
          "Polar ang (rad)": 0.39269908169872414,
          "Polar ang fr (deg)": 20,
          "Polar ang to (deg)": 25
         },
         {
          "Dataset": "good1",
          "Dataset / KE (eV)": "good1 / 7.2",
          "Phase shift diff (deg)": 64.06627678367491,
          "Phase shift diff (rad)": 1.11816746936913,
          "Phase shift diff err (deg)": 5.8558114423911025,
          "Phase shift diff err (rad)": 0.102203190045683,
          "Phase shift diff fr (deg)": 58.21046534128381,
          "Phase shift diff to (deg)": 69.92208822606601,
          "Photoelectron KE (eV)": 7.212611200000001,
          "Photon energy (eV)": 15.9,
          "Polar ang (deg)": 27.5,
          "Polar ang (rad)": 0.4799655442984406,
          "Polar ang fr (deg)": 25,
          "Polar ang to (deg)": 30
         },
         {
          "Dataset": "good1",
          "Dataset / KE (eV)": "good1 / 7.2",
          "Phase shift diff (deg)": 77.86420468270163,
          "Phase shift diff (rad)": 1.35898674115993,
          "Phase shift diff err (deg)": 6.246164745217436,
          "Phase shift diff err (rad)": 0.109016140426037,
          "Phase shift diff fr (deg)": 71.61803993748418,
          "Phase shift diff to (deg)": 84.11036942791907,
          "Photoelectron KE (eV)": 7.212611200000001,
          "Photon energy (eV)": 15.9,
          "Polar ang (deg)": 32.5,
          "Polar ang (rad)": 0.5672320068981571,
          "Polar ang fr (deg)": 30,
          "Polar ang to (deg)": 35
         },
         {
          "Dataset": "good1",
          "Dataset / KE (eV)": "good1 / 7.2",
          "Phase shift diff (deg)": 82.04948906635484,
          "Phase shift diff (rad)": 1.43203373378698,
          "Phase shift diff err (deg)": 6.583727202872511,
          "Phase shift diff err (rad)": 0.114907716743242,
          "Phase shift diff fr (deg)": 75.46576186348233,
          "Phase shift diff to (deg)": 88.63321626922735,
          "Photoelectron KE (eV)": 7.212611200000001,
          "Photon energy (eV)": 15.9,
          "Polar ang (deg)": 37.5,
          "Polar ang (rad)": 0.6544984694978736,
          "Polar ang fr (deg)": 35,
          "Polar ang to (deg)": 40
         },
         {
          "Dataset": "good1",
          "Dataset / KE (eV)": "good1 / 7.2",
          "Phase shift diff (deg)": 101.08066443197743,
          "Phase shift diff (rad)": 1.76419040444153,
          "Phase shift diff err (deg)": 8.71499977031819,
          "Phase shift diff err (rad)": 0.152105440302602,
          "Phase shift diff fr (deg)": 92.36566466165924,
          "Phase shift diff to (deg)": 109.79566420229561,
          "Photoelectron KE (eV)": 7.212611200000001,
          "Photon energy (eV)": 15.9,
          "Polar ang (deg)": 42.5,
          "Polar ang (rad)": 0.74176493209759,
          "Polar ang fr (deg)": 40,
          "Polar ang to (deg)": 45
         },
         {
          "Dataset": "good1",
          "Dataset / KE (eV)": "good1 / 7.2",
          "Phase shift diff (deg)": 116.74393961258663,
          "Phase shift diff (rad)": 2.03756612798907,
          "Phase shift diff err (deg)": 12.733462828784301,
          "Phase shift diff err (rad)": 0.222240851542597,
          "Phase shift diff fr (deg)": 104.01047678380233,
          "Phase shift diff to (deg)": 129.47740244137094,
          "Photoelectron KE (eV)": 7.212611200000001,
          "Photon energy (eV)": 15.9,
          "Polar ang (deg)": 47.5,
          "Polar ang (rad)": 0.8290313946973066,
          "Polar ang fr (deg)": 45,
          "Polar ang to (deg)": 50
         },
         {
          "Dataset": "good1",
          "Dataset / KE (eV)": "good1 / 7.2",
          "Phase shift diff (deg)": 142.074734302659,
          "Phase shift diff (rad)": 2.47967189747753,
          "Phase shift diff err (deg)": 10.910646903930461,
          "Phase shift diff err (rad)": 0.190426711996112,
          "Phase shift diff fr (deg)": 131.16408739872855,
          "Phase shift diff to (deg)": 152.98538120658947,
          "Photoelectron KE (eV)": 7.212611200000001,
          "Photon energy (eV)": 15.9,
          "Polar ang (deg)": 52.5,
          "Polar ang (rad)": 0.9162978572970231,
          "Polar ang fr (deg)": 50,
          "Polar ang to (deg)": 55
         },
         {
          "Dataset": "good1",
          "Dataset / KE (eV)": "good1 / 7.2",
          "Phase shift diff (deg)": 170.1899770629955,
          "Phase shift diff (rad)": 2.9703754536429,
          "Phase shift diff err (deg)": 19.928202449012527,
          "Phase shift diff err (rad)": 0.347812746739266,
          "Phase shift diff fr (deg)": 150.26177461398296,
          "Phase shift diff to (deg)": 190.11817951200803,
          "Photoelectron KE (eV)": 7.212611200000001,
          "Photon energy (eV)": 15.9,
          "Polar ang (deg)": 57.5,
          "Polar ang (rad)": 1.0035643198967394,
          "Polar ang fr (deg)": 55,
          "Polar ang to (deg)": 60
         },
         {
          "Dataset": "good1",
          "Dataset / KE (eV)": "good1 / 7.2",
          "Phase shift diff (deg)": 172.43782915687578,
          "Phase shift diff (rad)": 3.00960787377896,
          "Phase shift diff err (deg)": 9.117597979072663,
          "Phase shift diff err (rad)": 0.159132104607999,
          "Phase shift diff fr (deg)": 163.32023117780312,
          "Phase shift diff to (deg)": 181.55542713594843,
          "Photoelectron KE (eV)": 7.212611200000001,
          "Photon energy (eV)": 15.9,
          "Polar ang (deg)": 62.5,
          "Polar ang (rad)": 1.0908307824964558,
          "Polar ang fr (deg)": 60,
          "Polar ang to (deg)": 65
         },
         {
          "Dataset": "good1",
          "Dataset / KE (eV)": "good1 / 7.2",
          "Phase shift diff (deg)": 191.9282169905305,
          "Phase shift diff (rad)": 3.34977931396688,
          "Phase shift diff err (deg)": 11.106584553312167,
          "Phase shift diff err (rad)": 0.193846469106441,
          "Phase shift diff fr (deg)": 180.82163243721834,
          "Phase shift diff to (deg)": 203.03480154384266,
          "Photoelectron KE (eV)": 7.212611200000001,
          "Photon energy (eV)": 15.9,
          "Polar ang (deg)": 67.5,
          "Polar ang (rad)": 1.1780972450961724,
          "Polar ang fr (deg)": 65,
          "Polar ang to (deg)": 70
         },
         {
          "Dataset": "good1",
          "Dataset / KE (eV)": "good1 / 7.2",
          "Phase shift diff (deg)": 186.87179630246047,
          "Phase shift diff (rad)": 3.2615281245941,
          "Phase shift diff err (deg)": 12.34799372746737,
          "Phase shift diff err (rad)": 0.215513146559913,
          "Phase shift diff fr (deg)": 174.52380257499308,
          "Phase shift diff to (deg)": 199.21979002992785,
          "Photoelectron KE (eV)": 7.212611200000001,
          "Photon energy (eV)": 15.9,
          "Polar ang (deg)": 72.5,
          "Polar ang (rad)": 1.265363707695889,
          "Polar ang fr (deg)": 70,
          "Polar ang to (deg)": 75
         },
         {
          "Dataset": "good1",
          "Dataset / KE (eV)": "good1 / 7.2",
          "Phase shift diff (deg)": 205.02767445107293,
          "Phase shift diff (rad)": 3.57840797687828,
          "Phase shift diff err (deg)": 14.456379420938266,
          "Phase shift diff err (rad)": 0.252311418812924,
          "Phase shift diff fr (deg)": 190.57129503013465,
          "Phase shift diff to (deg)": 219.4840538720112,
          "Photoelectron KE (eV)": 7.212611200000001,
          "Photon energy (eV)": 15.9,
          "Polar ang (deg)": 77.5,
          "Polar ang (rad)": 1.3526301702956054,
          "Polar ang fr (deg)": 75,
          "Polar ang to (deg)": 80
         },
         {
          "Dataset": "good1",
          "Dataset / KE (eV)": "good1 / 7.2",
          "Phase shift diff (deg)": 211.1659306571402,
          "Phase shift diff (rad)": 3.68554075800513,
          "Phase shift diff err (deg)": 45.05397281516696,
          "Phase shift diff err (rad)": 0.786340166728682,
          "Phase shift diff fr (deg)": 166.11195784197324,
          "Phase shift diff to (deg)": 256.2199034723071,
          "Photoelectron KE (eV)": 7.212611200000001,
          "Photon energy (eV)": 15.9,
          "Polar ang (deg)": 82.5,
          "Polar ang (rad)": 1.4398966328953218,
          "Polar ang fr (deg)": 80,
          "Polar ang to (deg)": 85
         },
         {
          "Dataset": "good1",
          "Dataset / KE (eV)": "good1 / 7.2",
          "Phase shift diff (deg)": 206.585017988087,
          "Phase shift diff (rad)": 3.60558874918383,
          "Phase shift diff err (deg)": 68.51473101168507,
          "Phase shift diff err (rad)": 1.19580764227217,
          "Phase shift diff fr (deg)": 138.07028697640192,
          "Phase shift diff to (deg)": 275.0997489997721,
          "Photoelectron KE (eV)": 7.212611200000001,
          "Photon energy (eV)": 15.9,
          "Polar ang (deg)": 87.5,
          "Polar ang (rad)": 1.5271630954950384,
          "Polar ang fr (deg)": 85,
          "Polar ang to (deg)": 90
         },
         {
          "Dataset": "good1",
          "Dataset / KE (eV)": "good1 / 7.2",
          "Phase shift diff (deg)": 386.5850311745987,
          "Phase shift diff (rad)": 6.74718163292167,
          "Phase shift diff err (deg)": 68.51468835351905,
          "Phase shift diff err (rad)": 1.19580689774672,
          "Phase shift diff fr (deg)": 318.0703428210797,
          "Phase shift diff to (deg)": 455.09971952811776,
          "Photoelectron KE (eV)": 7.212611200000001,
          "Photon energy (eV)": 15.9,
          "Polar ang (deg)": 92.5,
          "Polar ang (rad)": 1.6144295580947547,
          "Polar ang fr (deg)": 90,
          "Polar ang to (deg)": 95
         },
         {
          "Dataset": "good1",
          "Dataset / KE (eV)": "good1 / 7.2",
          "Phase shift diff (deg)": 391.16592228664666,
          "Phase shift diff (rad)": 6.82713326550225,
          "Phase shift diff err (deg)": 45.053964030435026,
          "Phase shift diff err (rad)": 0.786340013406186,
          "Phase shift diff fr (deg)": 346.11195825621166,
          "Phase shift diff to (deg)": 436.21988631708166,
          "Photoelectron KE (eV)": 7.212611200000001,
          "Photon energy (eV)": 15.9,
          "Polar ang (deg)": 97.5,
          "Polar ang (rad)": 1.7016960206944711,
          "Polar ang fr (deg)": 95,
          "Polar ang to (deg)": 100
         },
         {
          "Dataset": "good1",
          "Dataset / KE (eV)": "good1 / 7.2",
          "Phase shift diff (deg)": 385.02767507481235,
          "Phase shift diff (rad)": 6.72000064135438,
          "Phase shift diff err (deg)": 14.456380230231295,
          "Phase shift diff err (rad)": 0.252311432937752,
          "Phase shift diff fr (deg)": 370.5712948445811,
          "Phase shift diff to (deg)": 399.4840553050436,
          "Photoelectron KE (eV)": 7.212611200000001,
          "Photon energy (eV)": 15.9,
          "Polar ang (deg)": 102.5,
          "Polar ang (rad)": 1.7889624832941877,
          "Polar ang fr (deg)": 100,
          "Polar ang to (deg)": 105
         },
         {
          "Dataset": "good1",
          "Dataset / KE (eV)": "good1 / 7.2",
          "Phase shift diff (deg)": 366.87179530347,
          "Phase shift diff (rad)": 6.40312076074822,
          "Phase shift diff err (deg)": 12.347993386815084,
          "Phase shift diff err (rad)": 0.215513140614409,
          "Phase shift diff fr (deg)": 354.5238019166549,
          "Phase shift diff to (deg)": 379.21978869028504,
          "Photoelectron KE (eV)": 7.212611200000001,
          "Photon energy (eV)": 15.9,
          "Polar ang (deg)": 107.5,
          "Polar ang (rad)": 1.876228945893904,
          "Polar ang fr (deg)": 105,
          "Polar ang to (deg)": 110
         },
         {
          "Dataset": "good1",
          "Dataset / KE (eV)": "good1 / 7.2",
          "Phase shift diff (deg)": 371.9282171432328,
          "Phase shift diff (rad)": 6.49137197022183,
          "Phase shift diff err (deg)": 11.106584660948707,
          "Phase shift diff err (rad)": 0.193846470985053,
          "Phase shift diff fr (deg)": 360.8216324822841,
          "Phase shift diff to (deg)": 383.03480180418154,
          "Photoelectron KE (eV)": 7.212611200000001,
          "Photon energy (eV)": 15.9,
          "Polar ang (deg)": 112.5,
          "Polar ang (rad)": 1.9634954084936207,
          "Polar ang fr (deg)": 110,
          "Polar ang to (deg)": 115
         },
         {
          "Dataset": "good1",
          "Dataset / KE (eV)": "good1 / 7.2",
          "Phase shift diff (deg)": 352.4378290366072,
          "Phase shift diff (rad)": 6.15120052526967,
          "Phase shift diff err (deg)": 9.117598019727742,
          "Phase shift diff err (rad)": 0.159132105317564,
          "Phase shift diff fr (deg)": 343.32023101687946,
          "Phase shift diff to (deg)": 361.5554270563349,
          "Photoelectron KE (eV)": 7.212611200000001,
          "Photon energy (eV)": 15.9,
          "Polar ang (deg)": 117.5,
          "Polar ang (rad)": 2.050761871093337,
          "Polar ang fr (deg)": 115,
          "Polar ang to (deg)": 120
         },
         {
          "Dataset": "good1",
          "Dataset / KE (eV)": "good1 / 7.2",
          "Phase shift diff (deg)": 350.1899795107145,
          "Phase shift diff (rad)": 6.11196814995345,
          "Phase shift diff err (deg)": 19.928201357194354,
          "Phase shift diff err (rad)": 0.347812727683444,
          "Phase shift diff fr (deg)": 330.26177815352014,
          "Phase shift diff to (deg)": 370.1181808679089,
          "Photoelectron KE (eV)": 7.212611200000001,
          "Photon energy (eV)": 15.9,
          "Polar ang (deg)": 122.5,
          "Polar ang (rad)": 2.138028333693054,
          "Polar ang fr (deg)": 120,
          "Polar ang to (deg)": 125
         },
         {
          "Dataset": "good1",
          "Dataset / KE (eV)": "good1 / 7.2",
          "Phase shift diff (deg)": 322.07473397811776,
          "Phase shift diff (rad)": 5.62126454540301,
          "Phase shift diff err (deg)": 10.910646980615477,
          "Phase shift diff err (rad)": 0.190426713334518,
          "Phase shift diff fr (deg)": 311.1640869975023,
          "Phase shift diff to (deg)": 332.98538095873323,
          "Photoelectron KE (eV)": 7.212611200000001,
          "Photon energy (eV)": 15.9,
          "Polar ang (deg)": 127.5,
          "Polar ang (rad)": 2.2252947962927703,
          "Polar ang fr (deg)": 125,
          "Polar ang to (deg)": 130
         },
         {
          "Dataset": "good1",
          "Dataset / KE (eV)": "good1 / 7.2",
          "Phase shift diff (deg)": 296.743940229548,
          "Phase shift diff (rad)": 5.17915879234687,
          "Phase shift diff err (deg)": 12.733462849442065,
          "Phase shift diff err (rad)": 0.222240851903143,
          "Phase shift diff fr (deg)": 284.01047738010595,
          "Phase shift diff to (deg)": 309.47740307899005,
          "Photoelectron KE (eV)": 7.212611200000001,
          "Photon energy (eV)": 15.9,
          "Polar ang (deg)": 132.5,
          "Polar ang (rad)": 2.3125612588924866,
          "Polar ang fr (deg)": 130,
          "Polar ang to (deg)": 135
         },
         {
          "Dataset": "good1",
          "Dataset / KE (eV)": "good1 / 7.2",
          "Phase shift diff (deg)": 281.0806642043761,
          "Phase shift diff (rad)": 4.90578305405893,
          "Phase shift diff err (deg)": 8.714999764856527,
          "Phase shift diff err (rad)": 0.152105440207278,
          "Phase shift diff fr (deg)": 272.36566443951955,
          "Phase shift diff to (deg)": 289.79566396923263,
          "Photoelectron KE (eV)": 7.212611200000001,
          "Photon energy (eV)": 15.9,
          "Polar ang (deg)": 137.5,
          "Polar ang (rad)": 2.399827721492203,
          "Polar ang fr (deg)": 135,
          "Polar ang to (deg)": 140
         },
         {
          "Dataset": "good1",
          "Dataset / KE (eV)": "good1 / 7.2",
          "Phase shift diff (deg)": 262.0494889431447,
          "Phase shift diff (rad)": 4.57362638522635,
          "Phase shift diff err (deg)": 6.583727208901231,
          "Phase shift diff err (rad)": 0.114907716848463,
          "Phase shift diff fr (deg)": 255.46576173424347,
          "Phase shift diff to (deg)": 268.6332161520459,
          "Photoelectron KE (eV)": 7.212611200000001,
          "Photon energy (eV)": 15.9,
          "Polar ang (deg)": 142.5,
          "Polar ang (rad)": 2.4870941840919194,
          "Polar ang fr (deg)": 140,
          "Polar ang to (deg)": 145
         },
         {
          "Dataset": "good1",
          "Dataset / KE (eV)": "good1 / 7.2",
          "Phase shift diff (deg)": 257.86420463985166,
          "Phase shift diff (rad)": 4.50057939400185,
          "Phase shift diff err (deg)": 6.24616477338301,
          "Phase shift diff err (rad)": 0.109016140917619,
          "Phase shift diff fr (deg)": 251.61803986646865,
          "Phase shift diff to (deg)": 264.11036941323465,
          "Photoelectron KE (eV)": 7.212611200000001,
          "Photon energy (eV)": 15.9,
          "Polar ang (deg)": 147.5,
          "Polar ang (rad)": 2.574360646691636,
          "Polar ang fr (deg)": 145,
          "Polar ang to (deg)": 150
         },
         {
          "Dataset": "good1",
          "Dataset / KE (eV)": "good1 / 7.2",
          "Phase shift diff (deg)": 244.06627675029188,
          "Phase shift diff (rad)": 4.25976012237628,
          "Phase shift diff err (deg)": 5.855811473988236,
          "Phase shift diff err (rad)": 0.102203190597157,
          "Phase shift diff fr (deg)": 238.21046527630364,
          "Phase shift diff to (deg)": 249.92208822428012,
          "Photoelectron KE (eV)": 7.212611200000001,
          "Photon energy (eV)": 15.9,
          "Polar ang (deg)": 152.5,
          "Polar ang (rad)": 2.6616271092913526,
          "Polar ang fr (deg)": 150,
          "Polar ang to (deg)": 155
         },
         {
          "Dataset": "good1",
          "Dataset / KE (eV)": "good1 / 7.2",
          "Phase shift diff (deg)": 243.80406099006325,
          "Phase shift diff (rad)": 4.25518359400967,
          "Phase shift diff err (deg)": 6.6567086404662215,
          "Phase shift diff err (rad)": 0.116181483122091,
          "Phase shift diff fr (deg)": 237.147352349597,
          "Phase shift diff to (deg)": 250.46076963052948,
          "Photoelectron KE (eV)": 7.212611200000001,
          "Photon energy (eV)": 15.9,
          "Polar ang (deg)": 157.5,
          "Polar ang (rad)": 2.748893571891069,
          "Polar ang fr (deg)": 155,
          "Polar ang to (deg)": 160
         },
         {
          "Dataset": "good1",
          "Dataset / KE (eV)": "good1 / 7.2",
          "Phase shift diff (deg)": 249.85629699598752,
          "Phase shift diff (rad)": 4.3608150394208,
          "Phase shift diff err (deg)": 3.5493796557450397,
          "Phase shift diff err (rad)": 0.0619483613960538,
          "Phase shift diff fr (deg)": 246.30691734024248,
          "Phase shift diff to (deg)": 253.40567665173256,
          "Photoelectron KE (eV)": 7.212611200000001,
          "Photon energy (eV)": 15.9,
          "Polar ang (deg)": 162.5,
          "Polar ang (rad)": 2.8361600344907854,
          "Polar ang fr (deg)": 160,
          "Polar ang to (deg)": 165
         },
         {
          "Dataset": "good1",
          "Dataset / KE (eV)": "good1 / 7.2",
          "Phase shift diff (deg)": 237.48579927144408,
          "Phase shift diff (rad)": 4.14490912401705,
          "Phase shift diff err (deg)": 4.1671810289378515,
          "Phase shift diff err (rad)": 0.0727310294816106,
          "Phase shift diff fr (deg)": 233.31861824250623,
          "Phase shift diff to (deg)": 241.65298030038193,
          "Photoelectron KE (eV)": 7.212611200000001,
          "Photon energy (eV)": 15.9,
          "Polar ang (deg)": 167.5,
          "Polar ang (rad)": 2.923426497090502,
          "Polar ang fr (deg)": 165,
          "Polar ang to (deg)": 170
         },
         {
          "Dataset": "good1",
          "Dataset / KE (eV)": "good1 / 7.2",
          "Phase shift diff (deg)": 249.3412975344184,
          "Phase shift diff (rad)": 4.35182660317042,
          "Phase shift diff err (deg)": 5.542410746479175,
          "Phase shift diff err (rad)": 0.0967333160239783,
          "Phase shift diff fr (deg)": 243.79888678793924,
          "Phase shift diff to (deg)": 254.88370828089757,
          "Photoelectron KE (eV)": 7.212611200000001,
          "Photon energy (eV)": 15.9,
          "Polar ang (deg)": 172.5,
          "Polar ang (rad)": 3.0106929596902186,
          "Polar ang fr (deg)": 170,
          "Polar ang to (deg)": 175
         },
         {
          "Dataset": "good1",
          "Dataset / KE (eV)": "good1 / 7.2",
          "Phase shift diff (deg)": 235.62416516592486,
          "Phase shift diff (rad)": 4.11241747940832,
          "Phase shift diff err (deg)": 5.102608574839944,
          "Phase shift diff err (rad)": 0.0890573200714525,
          "Phase shift diff fr (deg)": 230.52155659108493,
          "Phase shift diff to (deg)": 240.7267737407648,
          "Photoelectron KE (eV)": 7.212611200000001,
          "Photon energy (eV)": 15.9,
          "Polar ang (deg)": 177.5,
          "Polar ang (rad)": 3.097959422289935,
          "Polar ang fr (deg)": 175,
          "Polar ang to (deg)": 180
         },
         {
          "Dataset": "good3",
          "Dataset / KE (eV)": "good3 / 13.6",
          "Phase shift diff (deg)": 63.56911371973984,
          "Phase shift diff (rad)": 1.10949033698416,
          "Phase shift diff err (deg)": 3.8702134127518004,
          "Phase shift diff err (rad)": 0.0675479668073652,
          "Phase shift diff fr (deg)": 59.69890030698804,
          "Phase shift diff to (deg)": 67.43932713249164,
          "Photoelectron KE (eV)": 13.612611200000003,
          "Photon energy (eV)": 19.1,
          "Polar ang (deg)": 2.5,
          "Polar ang (rad)": 0.04363323129985824,
          "Polar ang fr (deg)": 0,
          "Polar ang to (deg)": 5
         },
         {
          "Dataset": "good3",
          "Dataset / KE (eV)": "good3 / 13.6",
          "Phase shift diff (deg)": 63.472793003001776,
          "Phase shift diff (rad)": 1.1078092233392,
          "Phase shift diff err (deg)": 4.0766946350696625,
          "Phase shift diff err (rad)": 0.0711517439803543,
          "Phase shift diff fr (deg)": 59.39609836793211,
          "Phase shift diff to (deg)": 67.54948763807144,
          "Photoelectron KE (eV)": 13.612611200000003,
          "Photon energy (eV)": 19.1,
          "Polar ang (deg)": 7.5,
          "Polar ang (rad)": 0.1308996938995747,
          "Polar ang fr (deg)": 5,
          "Polar ang to (deg)": 10
         },
         {
          "Dataset": "good3",
          "Dataset / KE (eV)": "good3 / 13.6",
          "Phase shift diff (deg)": 63.9853857296668,
          "Phase shift diff (rad)": 1.11675565414128,
          "Phase shift diff err (deg)": 3.9451035821401566,
          "Phase shift diff err (rad)": 0.0688550468405683,
          "Phase shift diff fr (deg)": 60.040282147526646,
          "Phase shift diff to (deg)": 67.93048931180697,
          "Photoelectron KE (eV)": 13.612611200000003,
          "Photon energy (eV)": 19.1,
          "Polar ang (deg)": 12.5,
          "Polar ang (rad)": 0.2181661564992912,
          "Polar ang fr (deg)": 10,
          "Polar ang to (deg)": 15
         },
         {
          "Dataset": "good3",
          "Dataset / KE (eV)": "good3 / 13.6",
          "Phase shift diff (deg)": 65.55916803938536,
          "Phase shift diff (rad)": 1.14422333715551,
          "Phase shift diff err (deg)": 4.0820566233977935,
          "Phase shift diff err (rad)": 0.0712453283311337,
          "Phase shift diff fr (deg)": 61.477111415987565,
          "Phase shift diff to (deg)": 69.64122466278315,
          "Photoelectron KE (eV)": 13.612611200000003,
          "Photon energy (eV)": 19.1,
          "Polar ang (deg)": 17.5,
          "Polar ang (rad)": 0.30543261909900765,
          "Polar ang fr (deg)": 15,
          "Polar ang to (deg)": 20
         },
         {
          "Dataset": "good3",
          "Dataset / KE (eV)": "good3 / 13.6",
          "Phase shift diff (deg)": 67.5385877195846,
          "Phase shift diff (rad)": 1.17877072785376,
          "Phase shift diff err (deg)": 4.363105819294113,
          "Phase shift diff err (rad)": 0.076150562159607,
          "Phase shift diff fr (deg)": 63.175481900290485,
          "Phase shift diff to (deg)": 71.9016935388787,
          "Photoelectron KE (eV)": 13.612611200000003,
          "Photon energy (eV)": 19.1,
          "Polar ang (deg)": 22.5,
          "Polar ang (rad)": 0.39269908169872414,
          "Polar ang fr (deg)": 20,
          "Polar ang to (deg)": 25
         },
         {
          "Dataset": "good3",
          "Dataset / KE (eV)": "good3 / 13.6",
          "Phase shift diff (deg)": 69.96797280545479,
          "Phase shift diff (rad)": 1.22117149640104,
          "Phase shift diff err (deg)": 4.575130117870673,
          "Phase shift diff err (rad)": 0.0798510842639995,
          "Phase shift diff fr (deg)": 65.39284268758412,
          "Phase shift diff to (deg)": 74.54310292332546,
          "Photoelectron KE (eV)": 13.612611200000003,
          "Photon energy (eV)": 19.1,
          "Polar ang (deg)": 27.5,
          "Polar ang (rad)": 0.4799655442984406,
          "Polar ang fr (deg)": 25,
          "Polar ang to (deg)": 30
         },
         {
          "Dataset": "good3",
          "Dataset / KE (eV)": "good3 / 13.6",
          "Phase shift diff (deg)": 73.89721216086856,
          "Phase shift diff (rad)": 1.28974966025195,
          "Phase shift diff err (deg)": 4.971428372216138,
          "Phase shift diff err (rad)": 0.0867677936222338,
          "Phase shift diff fr (deg)": 68.92578378865242,
          "Phase shift diff to (deg)": 78.8686405330847,
          "Photoelectron KE (eV)": 13.612611200000003,
          "Photon energy (eV)": 19.1,
          "Polar ang (deg)": 32.5,
          "Polar ang (rad)": 0.5672320068981571,
          "Polar ang fr (deg)": 30,
          "Polar ang to (deg)": 35
         },
         {
          "Dataset": "good3",
          "Dataset / KE (eV)": "good3 / 13.6",
          "Phase shift diff (deg)": 80.22320818469953,
          "Phase shift diff (rad)": 1.40015911933587,
          "Phase shift diff err (deg)": 5.66493816420788,
          "Phase shift diff err (rad)": 0.0988718228873107,
          "Phase shift diff fr (deg)": 74.55827002049165,
          "Phase shift diff to (deg)": 85.88814634890741,
          "Photoelectron KE (eV)": 13.612611200000003,
          "Photon energy (eV)": 19.1,
          "Polar ang (deg)": 37.5,
          "Polar ang (rad)": 0.6544984694978736,
          "Polar ang fr (deg)": 35,
          "Polar ang to (deg)": 40
         },
         {
          "Dataset": "good3",
          "Dataset / KE (eV)": "good3 / 13.6",
          "Phase shift diff (deg)": 84.69266867527082,
          "Phase shift diff (rad)": 1.47816592068414,
          "Phase shift diff err (deg)": 6.06418555913454,
          "Phase shift diff err (rad)": 0.105840004458791,
          "Phase shift diff fr (deg)": 78.62848311613628,
          "Phase shift diff to (deg)": 90.75685423440537,
          "Photoelectron KE (eV)": 13.612611200000003,
          "Photon energy (eV)": 19.1,
          "Polar ang (deg)": 42.5,
          "Polar ang (rad)": 0.74176493209759,
          "Polar ang fr (deg)": 40,
          "Polar ang to (deg)": 45
         },
         {
          "Dataset": "good3",
          "Dataset / KE (eV)": "good3 / 13.6",
          "Phase shift diff (deg)": 93.13782462662932,
          "Phase shift diff (rad)": 1.62556169787974,
          "Phase shift diff err (deg)": 6.961682832577927,
          "Phase shift diff err (rad)": 0.12150428690805,
          "Phase shift diff fr (deg)": 86.1761417940514,
          "Phase shift diff to (deg)": 100.09950745920725,
          "Photoelectron KE (eV)": 13.612611200000003,
          "Photon energy (eV)": 19.1,
          "Polar ang (deg)": 47.5,
          "Polar ang (rad)": 0.8290313946973066,
          "Polar ang fr (deg)": 45,
          "Polar ang to (deg)": 50
         },
         {
          "Dataset": "good3",
          "Dataset / KE (eV)": "good3 / 13.6",
          "Phase shift diff (deg)": 103.92487718307508,
          "Phase shift diff (rad)": 1.81383128157539,
          "Phase shift diff err (deg)": 8.127901387704805,
          "Phase shift diff err (rad)": 0.141858640492865,
          "Phase shift diff fr (deg)": 95.79697579537027,
          "Phase shift diff to (deg)": 112.05277857077989,
          "Photoelectron KE (eV)": 13.612611200000003,
          "Photon energy (eV)": 19.1,
          "Polar ang (deg)": 52.5,
          "Polar ang (rad)": 0.9162978572970231,
          "Polar ang fr (deg)": 50,
          "Polar ang to (deg)": 55
         },
         {
          "Dataset": "good3",
          "Dataset / KE (eV)": "good3 / 13.6",
          "Phase shift diff (deg)": 114.71907754662071,
          "Phase shift diff (rad)": 2.00222561803923,
          "Phase shift diff err (deg)": 8.697866948093369,
          "Phase shift diff err (rad)": 0.15180641614462,
          "Phase shift diff fr (deg)": 106.02121059852735,
          "Phase shift diff to (deg)": 123.41694449471407,
          "Photoelectron KE (eV)": 13.612611200000003,
          "Photon energy (eV)": 19.1,
          "Polar ang (deg)": 57.5,
          "Polar ang (rad)": 1.0035643198967394,
          "Polar ang fr (deg)": 55,
          "Polar ang to (deg)": 60
         },
         {
          "Dataset": "good3",
          "Dataset / KE (eV)": "good3 / 13.6",
          "Phase shift diff (deg)": 124.68426954579056,
          "Phase shift diff (rad)": 2.17615102901814,
          "Phase shift diff err (deg)": 9.213159761401537,
          "Phase shift diff err (rad)": 0.160799972348712,
          "Phase shift diff fr (deg)": 115.47110978438901,
          "Phase shift diff to (deg)": 133.89742930719208,
          "Photoelectron KE (eV)": 13.612611200000003,
          "Photon energy (eV)": 19.1,
          "Polar ang (deg)": 62.5,
          "Polar ang (rad)": 1.0908307824964558,
          "Polar ang fr (deg)": 60,
          "Polar ang to (deg)": 65
         },
         {
          "Dataset": "good3",
          "Dataset / KE (eV)": "good3 / 13.6",
          "Phase shift diff (deg)": 134.06041665357031,
          "Phase shift diff (rad)": 2.33979566720024,
          "Phase shift diff err (deg)": 10.314616494279436,
          "Phase shift diff err (rad)": 0.180024018905691,
          "Phase shift diff fr (deg)": 123.74580015929088,
          "Phase shift diff to (deg)": 144.37503314784976,
          "Photoelectron KE (eV)": 13.612611200000003,
          "Photon energy (eV)": 19.1,
          "Polar ang (deg)": 67.5,
          "Polar ang (rad)": 1.1780972450961724,
          "Polar ang fr (deg)": 65,
          "Polar ang to (deg)": 70
         },
         {
          "Dataset": "good3",
          "Dataset / KE (eV)": "good3 / 13.6",
          "Phase shift diff (deg)": 143.48720383095693,
          "Phase shift diff (rad)": 2.50432414133042,
          "Phase shift diff err (deg)": 12.329239814840514,
          "Phase shift diff err (rad)": 0.215185829036943,
          "Phase shift diff fr (deg)": 131.1579640161164,
          "Phase shift diff to (deg)": 155.81644364579745,
          "Photoelectron KE (eV)": 13.612611200000003,
          "Photon energy (eV)": 19.1,
          "Polar ang (deg)": 72.5,
          "Polar ang (rad)": 1.265363707695889,
          "Polar ang fr (deg)": 70,
          "Polar ang to (deg)": 75
         },
         {
          "Dataset": "good3",
          "Dataset / KE (eV)": "good3 / 13.6",
          "Phase shift diff (deg)": 151.73306159279474,
          "Phase shift diff (rad)": 2.64824150892562,
          "Phase shift diff err (deg)": 14.649781664186174,
          "Phase shift diff err (rad)": 0.255686924738343,
          "Phase shift diff fr (deg)": 137.08327992860856,
          "Phase shift diff to (deg)": 166.38284325698092,
          "Photoelectron KE (eV)": 13.612611200000003,
          "Photon energy (eV)": 19.1,
          "Polar ang (deg)": 77.5,
          "Polar ang (rad)": 1.3526301702956054,
          "Polar ang fr (deg)": 75,
          "Polar ang to (deg)": 80
         },
         {
          "Dataset": "good3",
          "Dataset / KE (eV)": "good3 / 13.6",
          "Phase shift diff (deg)": 152.4896542870002,
          "Phase shift diff (rad)": 2.66144654253604,
          "Phase shift diff err (deg)": 21.64422349920686,
          "Phase shift diff err (rad)": 0.377762964098688,
          "Phase shift diff fr (deg)": 130.84543078779336,
          "Phase shift diff to (deg)": 174.13387778620705,
          "Photoelectron KE (eV)": 13.612611200000003,
          "Photon energy (eV)": 19.1,
          "Polar ang (deg)": 82.5,
          "Polar ang (rad)": 1.4398966328953218,
          "Polar ang fr (deg)": 80,
          "Polar ang to (deg)": 85
         },
         {
          "Dataset": "good3",
          "Dataset / KE (eV)": "good3 / 13.6",
          "Phase shift diff (deg)": 148.69639360259413,
          "Phase shift diff (rad)": 2.5952416542067,
          "Phase shift diff err (deg)": 71.11644607164945,
          "Phase shift diff err (rad)": 1.24121613626727,
          "Phase shift diff fr (deg)": 77.57994753094468,
          "Phase shift diff to (deg)": 219.81283967424358,
          "Photoelectron KE (eV)": 13.612611200000003,
          "Photon energy (eV)": 19.1,
          "Polar ang (deg)": 87.5,
          "Polar ang (rad)": 1.5271630954950384,
          "Polar ang fr (deg)": 85,
          "Polar ang to (deg)": 90
         },
         {
          "Dataset": "good3",
          "Dataset / KE (eV)": "good3 / 13.6",
          "Phase shift diff (deg)": 328.6963936826533,
          "Phase shift diff (rad)": 5.73683430919379,
          "Phase shift diff err (deg)": 71.1164360669469,
          "Phase shift diff err (rad)": 1.24121596165227,
          "Phase shift diff fr (deg)": 257.5799576157064,
          "Phase shift diff to (deg)": 399.8128297496002,
          "Photoelectron KE (eV)": 13.612611200000003,
          "Photon energy (eV)": 19.1,
          "Polar ang (deg)": 92.5,
          "Polar ang (rad)": 1.6144295580947547,
          "Polar ang fr (deg)": 90,
          "Polar ang to (deg)": 95
         },
         {
          "Dataset": "good3",
          "Dataset / KE (eV)": "good3 / 13.6",
          "Phase shift diff (deg)": 332.4896538294365,
          "Phase shift diff (rad)": 5.80303918813984,
          "Phase shift diff err (deg)": 21.64422112199901,
          "Phase shift diff err (rad)": 0.377762922608584,
          "Phase shift diff fr (deg)": 310.8454327074375,
          "Phase shift diff to (deg)": 354.13387495143553,
          "Photoelectron KE (eV)": 13.612611200000003,
          "Photon energy (eV)": 19.1,
          "Polar ang (deg)": 97.5,
          "Polar ang (rad)": 1.7016960206944711,
          "Polar ang fr (deg)": 95,
          "Polar ang to (deg)": 100
         },
         {
          "Dataset": "good3",
          "Dataset / KE (eV)": "good3 / 13.6",
          "Phase shift diff (deg)": 331.7330608365344,
          "Phase shift diff (rad)": 5.78983414931618,
          "Phase shift diff err (deg)": 14.649782048459974,
          "Phase shift diff err (rad)": 0.255686931445186,
          "Phase shift diff fr (deg)": 317.0832787880744,
          "Phase shift diff to (deg)": 346.3828428849944,
          "Photoelectron KE (eV)": 13.612611200000003,
          "Photon energy (eV)": 19.1,
          "Polar ang (deg)": 102.5,
          "Polar ang (rad)": 1.7889624832941877,
          "Polar ang fr (deg)": 100,
          "Polar ang to (deg)": 105
         },
         {
          "Dataset": "good3",
          "Dataset / KE (eV)": "good3 / 13.6",
          "Phase shift diff (deg)": 323.48720374626504,
          "Phase shift diff (rad)": 5.64591679344206,
          "Phase shift diff err (deg)": 12.329239650149582,
          "Phase shift diff err (rad)": 0.215185826162544,
          "Phase shift diff fr (deg)": 311.15796409611545,
          "Phase shift diff to (deg)": 335.8164433964146,
          "Photoelectron KE (eV)": 13.612611200000003,
          "Photon energy (eV)": 19.1,
          "Polar ang (deg)": 107.5,
          "Polar ang (rad)": 1.876228945893904,
          "Polar ang fr (deg)": 105,
          "Polar ang to (deg)": 110
         },
         {
          "Dataset": "good3",
          "Dataset / KE (eV)": "good3 / 13.6",
          "Phase shift diff (deg)": 314.0604166704334,
          "Phase shift diff (rad)": 5.48138832108435,
          "Phase shift diff err (deg)": 10.314616462479533,
          "Phase shift diff err (rad)": 0.180024018350678,
          "Phase shift diff fr (deg)": 303.7458002079539,
          "Phase shift diff to (deg)": 324.37503313291296,
          "Photoelectron KE (eV)": 13.612611200000003,
          "Photon energy (eV)": 19.1,
          "Polar ang (deg)": 112.5,
          "Polar ang (rad)": 1.9634954084936207,
          "Polar ang fr (deg)": 110,
          "Polar ang to (deg)": 115
         },
         {
          "Dataset": "good3",
          "Dataset / KE (eV)": "good3 / 13.6",
          "Phase shift diff (deg)": 304.6842695185657,
          "Phase shift diff (rad)": 5.31774368213277,
          "Phase shift diff err (deg)": 9.213159733269137,
          "Phase shift diff err (rad)": 0.160799971857709,
          "Phase shift diff fr (deg)": 295.47110978529656,
          "Phase shift diff to (deg)": 313.89742925183486,
          "Photoelectron KE (eV)": 13.612611200000003,
          "Photon energy (eV)": 19.1,
          "Polar ang (deg)": 117.5,
          "Polar ang (rad)": 2.050761871093337,
          "Polar ang fr (deg)": 115,
          "Polar ang to (deg)": 120
         },
         {
          "Dataset": "good3",
          "Dataset / KE (eV)": "good3 / 13.6",
          "Phase shift diff (deg)": 294.71907719854005,
          "Phase shift diff (rad)": 5.14381826555387,
          "Phase shift diff err (deg)": 8.697866726153583,
          "Phase shift diff err (rad)": 0.15180641227104,
          "Phase shift diff fr (deg)": 286.0212104723865,
          "Phase shift diff to (deg)": 303.4169439246936,
          "Photoelectron KE (eV)": 13.612611200000003,
          "Photon energy (eV)": 19.1,
          "Polar ang (deg)": 122.5,
          "Polar ang (rad)": 2.138028333693054,
          "Polar ang fr (deg)": 120,
          "Polar ang to (deg)": 125
         },
         {
          "Dataset": "good3",
          "Dataset / KE (eV)": "good3 / 13.6",
          "Phase shift diff (deg)": 283.9248772922818,
          "Phase shift diff (rad)": 4.9554239370712,
          "Phase shift diff err (deg)": 8.127901409203213,
          "Phase shift diff err (rad)": 0.141858640868083,
          "Phase shift diff fr (deg)": 275.7969758830786,
          "Phase shift diff to (deg)": 292.052778701485,
          "Photoelectron KE (eV)": 13.612611200000003,
          "Photon energy (eV)": 19.1,
          "Polar ang (deg)": 127.5,
          "Polar ang (rad)": 2.2252947962927703,
          "Polar ang fr (deg)": 125,
          "Polar ang to (deg)": 130
         },
         {
          "Dataset": "good3",
          "Dataset / KE (eV)": "good3 / 13.6",
          "Phase shift diff (deg)": 273.1378245898624,
          "Phase shift diff (rad)": 4.76715435082783,
          "Phase shift diff err (deg)": 6.961682851011012,
          "Phase shift diff err (rad)": 0.121504287229768,
          "Phase shift diff fr (deg)": 266.1761417388514,
          "Phase shift diff to (deg)": 280.0995074408734,
          "Photoelectron KE (eV)": 13.612611200000003,
          "Photon energy (eV)": 19.1,
          "Polar ang (deg)": 132.5,
          "Polar ang (rad)": 2.3125612588924866,
          "Polar ang fr (deg)": 130,
          "Polar ang to (deg)": 135
         },
         {
          "Dataset": "good3",
          "Dataset / KE (eV)": "good3 / 13.6",
          "Phase shift diff (deg)": 264.6926687744983,
          "Phase shift diff (rad)": 4.61975857600578,
          "Phase shift diff err (deg)": 6.064185627421024,
          "Phase shift diff err (rad)": 0.105840005650615,
          "Phase shift diff fr (deg)": 258.6284831470773,
          "Phase shift diff to (deg)": 270.7568544019193,
          "Photoelectron KE (eV)": 13.612611200000003,
          "Photon energy (eV)": 19.1,
          "Polar ang (deg)": 137.5,
          "Polar ang (rad)": 2.399827721492203,
          "Polar ang fr (deg)": 135,
          "Polar ang to (deg)": 140
         },
         {
          "Dataset": "good3",
          "Dataset / KE (eV)": "good3 / 13.6",
          "Phase shift diff (deg)": 260.2232083313891,
          "Phase shift diff (rad)": 4.54175177548588,
          "Phase shift diff err (deg)": 5.6649381303900945,
          "Phase shift diff err (rad)": 0.098871822297079,
          "Phase shift diff fr (deg)": 254.55827020099903,
          "Phase shift diff to (deg)": 265.88814646177923,
          "Photoelectron KE (eV)": 13.612611200000003,
          "Photon energy (eV)": 19.1,
          "Polar ang (deg)": 142.5,
          "Polar ang (rad)": 2.4870941840919194,
          "Polar ang fr (deg)": 140,
          "Polar ang to (deg)": 145
         },
         {
          "Dataset": "good3",
          "Dataset / KE (eV)": "good3 / 13.6",
          "Phase shift diff (deg)": 253.89721228890724,
          "Phase shift diff (rad)": 4.43134231607644,
          "Phase shift diff err (deg)": 4.971428300633857,
          "Phase shift diff err (rad)": 0.0867677923728873,
          "Phase shift diff fr (deg)": 248.9257839882734,
          "Phase shift diff to (deg)": 258.8686405895411,
          "Photoelectron KE (eV)": 13.612611200000003,
          "Photon energy (eV)": 19.1,
          "Polar ang (deg)": 147.5,
          "Polar ang (rad)": 2.574360646691636,
          "Polar ang fr (deg)": 145,
          "Polar ang to (deg)": 150
         },
         {
          "Dataset": "good3",
          "Dataset / KE (eV)": "good3 / 13.6",
          "Phase shift diff (deg)": 249.96797272587477,
          "Phase shift diff (rad)": 4.3627641486019,
          "Phase shift diff err (deg)": 4.5751301294023135,
          "Phase shift diff err (rad)": 0.0798510844652646,
          "Phase shift diff fr (deg)": 245.39284259647246,
          "Phase shift diff to (deg)": 254.54310285527708,
          "Photoelectron KE (eV)": 13.612611200000003,
          "Photon energy (eV)": 19.1,
          "Polar ang (deg)": 152.5,
          "Polar ang (rad)": 2.6616271092913526,
          "Polar ang fr (deg)": 150,
          "Polar ang to (deg)": 155
         },
         {
          "Dataset": "good3",
          "Dataset / KE (eV)": "good3 / 13.6",
          "Phase shift diff (deg)": 247.53858769196043,
          "Phase shift diff (rad)": 4.32036338096142,
          "Phase shift diff err (deg)": 4.363105833892906,
          "Phase shift diff err (rad)": 0.076150562414404,
          "Phase shift diff fr (deg)": 243.1754818580675,
          "Phase shift diff to (deg)": 251.90169352585335,
          "Photoelectron KE (eV)": 13.612611200000003,
          "Photon energy (eV)": 19.1,
          "Polar ang (deg)": 157.5,
          "Polar ang (rad)": 2.748893571891069,
          "Polar ang fr (deg)": 155,
          "Polar ang to (deg)": 160
         },
         {
          "Dataset": "good3",
          "Dataset / KE (eV)": "good3 / 13.6",
          "Phase shift diff (deg)": 245.55916805289894,
          "Phase shift diff (rad)": 4.28581599098116,
          "Phase shift diff err (deg)": 4.082056592087449,
          "Phase shift diff err (rad)": 0.0712453277846651,
          "Phase shift diff fr (deg)": 241.4771114608115,
          "Phase shift diff to (deg)": 249.64122464498638,
          "Photoelectron KE (eV)": 13.612611200000003,
          "Photon energy (eV)": 19.1,
          "Polar ang (deg)": 162.5,
          "Polar ang (rad)": 2.8361600344907854,
          "Polar ang fr (deg)": 160,
          "Polar ang to (deg)": 165
         },
         {
          "Dataset": "good3",
          "Dataset / KE (eV)": "good3 / 13.6",
          "Phase shift diff (deg)": 243.98538567346577,
          "Phase shift diff (rad)": 4.25834830675018,
          "Phase shift diff err (deg)": 3.9451035620730557,
          "Phase shift diff err (rad)": 0.0688550464903313,
          "Phase shift diff fr (deg)": 240.0402821113927,
          "Phase shift diff to (deg)": 247.93048923553883,
          "Photoelectron KE (eV)": 13.612611200000003,
          "Photon energy (eV)": 19.1,
          "Polar ang (deg)": 167.5,
          "Polar ang (rad)": 2.923426497090502,
          "Polar ang fr (deg)": 165,
          "Polar ang to (deg)": 170
         },
         {
          "Dataset": "good3",
          "Dataset / KE (eV)": "good3 / 13.6",
          "Phase shift diff (deg)": 243.47279298244098,
          "Phase shift diff (rad)": 4.24940187657014,
          "Phase shift diff err (deg)": 4.0766946259834,
          "Phase shift diff err (rad)": 0.0711517438217691,
          "Phase shift diff fr (deg)": 239.39609835645757,
          "Phase shift diff to (deg)": 247.54948760842439,
          "Photoelectron KE (eV)": 13.612611200000003,
          "Photon energy (eV)": 19.1,
          "Polar ang (deg)": 172.5,
          "Polar ang (rad)": 3.0106929596902186,
          "Polar ang fr (deg)": 170,
          "Polar ang to (deg)": 175
         },
         {
          "Dataset": "good3",
          "Dataset / KE (eV)": "good3 / 13.6",
          "Phase shift diff (deg)": 243.56911367645495,
          "Phase shift diff (rad)": 4.25108298981849,
          "Phase shift diff err (deg)": 3.8702134251783264,
          "Phase shift diff err (rad)": 0.067547967024249,
          "Phase shift diff fr (deg)": 239.69890025127663,
          "Phase shift diff to (deg)": 247.43932710163327,
          "Photoelectron KE (eV)": 13.612611200000003,
          "Photon energy (eV)": 19.1,
          "Polar ang (deg)": 177.5,
          "Polar ang (rad)": 3.097959422289935,
          "Polar ang fr (deg)": 175,
          "Polar ang to (deg)": 180
         },
         {
          "Dataset": "good2",
          "Dataset / KE (eV)": "good2 / 4.0",
          "Phase shift diff (deg)": 55.85723161382815,
          "Phase shift diff (rad)": 0.974892602710367,
          "Phase shift diff err (deg)": 6.654672703620873,
          "Phase shift diff err (rad)": 0.116145949320777,
          "Phase shift diff fr (deg)": 49.20255891020727,
          "Phase shift diff to (deg)": 62.51190431744902,
          "Photoelectron KE (eV)": 4.012611200000002,
          "Photon energy (eV)": 14.3,
          "Polar ang (deg)": 2.5,
          "Polar ang (rad)": 0.04363323129985824,
          "Polar ang fr (deg)": 0,
          "Polar ang to (deg)": 5
         },
         {
          "Dataset": "good2",
          "Dataset / KE (eV)": "good2 / 4.0",
          "Phase shift diff (deg)": 58.181210267788444,
          "Phase shift diff (rad)": 1.01545368196804,
          "Phase shift diff err (deg)": 4.512967162475806,
          "Phase shift diff err (rad)": 0.0787661360195887,
          "Phase shift diff fr (deg)": 53.66824310531264,
          "Phase shift diff to (deg)": 62.69417743026425,
          "Photoelectron KE (eV)": 4.012611200000002,
          "Photon energy (eV)": 14.3,
          "Polar ang (deg)": 7.5,
          "Polar ang (rad)": 0.1308996938995747,
          "Polar ang fr (deg)": 5,
          "Polar ang to (deg)": 10
         },
         {
          "Dataset": "good2",
          "Dataset / KE (eV)": "good2 / 4.0",
          "Phase shift diff (deg)": 60.18767109617394,
          "Phase shift diff (rad)": 1.05047302973566,
          "Phase shift diff err (deg)": 4.336457588652929,
          "Phase shift diff err (rad)": 0.0756854627950875,
          "Phase shift diff fr (deg)": 55.85121350752102,
          "Phase shift diff to (deg)": 64.52412868482688,
          "Photoelectron KE (eV)": 4.012611200000002,
          "Photon energy (eV)": 14.3,
          "Polar ang (deg)": 12.5,
          "Polar ang (rad)": 0.2181661564992912,
          "Polar ang fr (deg)": 10,
          "Polar ang to (deg)": 15
         },
         {
          "Dataset": "good2",
          "Dataset / KE (eV)": "good2 / 4.0",
          "Phase shift diff (deg)": 64.10582091154656,
          "Phase shift diff (rad)": 1.11885764460032,
          "Phase shift diff err (deg)": 4.737725040044413,
          "Phase shift diff err (rad)": 0.0826889010029552,
          "Phase shift diff fr (deg)": 59.36809587150215,
          "Phase shift diff to (deg)": 68.84354595159097,
          "Photoelectron KE (eV)": 4.012611200000002,
          "Photon energy (eV)": 14.3,
          "Polar ang (deg)": 17.5,
          "Polar ang (rad)": 0.30543261909900765,
          "Polar ang fr (deg)": 15,
          "Polar ang to (deg)": 20
         },
         {
          "Dataset": "good2",
          "Dataset / KE (eV)": "good2 / 4.0",
          "Phase shift diff (deg)": 68.60144782072959,
          "Phase shift diff (rad)": 1.19732113610682,
          "Phase shift diff err (deg)": 5.365963175270792,
          "Phase shift diff err (rad)": 0.0936537249492449,
          "Phase shift diff fr (deg)": 63.2354846454588,
          "Phase shift diff to (deg)": 73.96741099600038,
          "Photoelectron KE (eV)": 4.012611200000002,
          "Photon energy (eV)": 14.3,
          "Polar ang (deg)": 22.5,
          "Polar ang (rad)": 0.39269908169872414,
          "Polar ang fr (deg)": 20,
          "Polar ang to (deg)": 25
         },
         {
          "Dataset": "good2",
          "Dataset / KE (eV)": "good2 / 4.0",
          "Phase shift diff (deg)": 78.3987459617571,
          "Phase shift diff (rad)": 1.36831624646727,
          "Phase shift diff err (deg)": 5.69822936350659,
          "Phase shift diff err (rad)": 0.0994528639270108,
          "Phase shift diff fr (deg)": 72.70051659825052,
          "Phase shift diff to (deg)": 84.09697532526368,
          "Photoelectron KE (eV)": 4.012611200000002,
          "Photon energy (eV)": 14.3,
          "Polar ang (deg)": 27.5,
          "Polar ang (rad)": 0.4799655442984406,
          "Polar ang fr (deg)": 25,
          "Polar ang to (deg)": 30
         },
         {
          "Dataset": "good2",
          "Dataset / KE (eV)": "good2 / 4.0",
          "Phase shift diff (deg)": 83.39021309803033,
          "Phase shift diff (rad)": 1.45543378250033,
          "Phase shift diff err (deg)": 6.113686567254399,
          "Phase shift diff err (rad)": 0.106703960033539,
          "Phase shift diff fr (deg)": 77.27652653077593,
          "Phase shift diff to (deg)": 89.50389966528473,
          "Photoelectron KE (eV)": 4.012611200000002,
          "Photon energy (eV)": 14.3,
          "Polar ang (deg)": 32.5,
          "Polar ang (rad)": 0.5672320068981571,
          "Polar ang fr (deg)": 30,
          "Polar ang to (deg)": 35
         },
         {
          "Dataset": "good2",
          "Dataset / KE (eV)": "good2 / 4.0",
          "Phase shift diff (deg)": 94.50585311409363,
          "Phase shift diff (rad)": 1.64943829924707,
          "Phase shift diff err (deg)": 5.913324174751144,
          "Phase shift diff err (rad)": 0.103206976587184,
          "Phase shift diff fr (deg)": 88.59252893934249,
          "Phase shift diff to (deg)": 100.41917728884476,
          "Photoelectron KE (eV)": 4.012611200000002,
          "Photon energy (eV)": 14.3,
          "Polar ang (deg)": 37.5,
          "Polar ang (rad)": 0.6544984694978736,
          "Polar ang fr (deg)": 35,
          "Polar ang to (deg)": 40
         },
         {
          "Dataset": "good2",
          "Dataset / KE (eV)": "good2 / 4.0",
          "Phase shift diff (deg)": 102.62188275679969,
          "Phase shift diff (rad)": 1.79108973870175,
          "Phase shift diff err (deg)": 6.803898487417824,
          "Phase shift diff err (rad)": 0.118750430576903,
          "Phase shift diff fr (deg)": 95.81798426938187,
          "Phase shift diff to (deg)": 109.42578124421752,
          "Photoelectron KE (eV)": 4.012611200000002,
          "Photon energy (eV)": 14.3,
          "Polar ang (deg)": 42.5,
          "Polar ang (rad)": 0.74176493209759,
          "Polar ang fr (deg)": 40,
          "Polar ang to (deg)": 45
         },
         {
          "Dataset": "good2",
          "Dataset / KE (eV)": "good2 / 4.0",
          "Phase shift diff (deg)": 113.0205258616028,
          "Phase shift diff (rad)": 1.97258029862037,
          "Phase shift diff err (deg)": 5.5204764299139955,
          "Phase shift diff err (rad)": 0.0963504899807412,
          "Phase shift diff fr (deg)": 107.50004943168881,
          "Phase shift diff to (deg)": 118.5410022915168,
          "Photoelectron KE (eV)": 4.012611200000002,
          "Photon energy (eV)": 14.3,
          "Polar ang (deg)": 47.5,
          "Polar ang (rad)": 0.8290313946973066,
          "Polar ang fr (deg)": 45,
          "Polar ang to (deg)": 50
         },
         {
          "Dataset": "good2",
          "Dataset / KE (eV)": "good2 / 4.0",
          "Phase shift diff (deg)": 117.1806867082902,
          "Phase shift diff (rad)": 2.04518880280762,
          "Phase shift diff err (deg)": 7.098387460235412,
          "Phase shift diff err (rad)": 0.123890232763386,
          "Phase shift diff fr (deg)": 110.08229924805478,
          "Phase shift diff to (deg)": 124.27907416852561,
          "Photoelectron KE (eV)": 4.012611200000002,
          "Photon energy (eV)": 14.3,
          "Polar ang (deg)": 52.5,
          "Polar ang (rad)": 0.9162978572970231,
          "Polar ang fr (deg)": 50,
          "Polar ang to (deg)": 55
         },
         {
          "Dataset": "good2",
          "Dataset / KE (eV)": "good2 / 4.0",
          "Phase shift diff (deg)": 127.51720003869966,
          "Phase shift diff (rad)": 2.22559499359955,
          "Phase shift diff err (deg)": 7.409813442735743,
          "Phase shift diff err (rad)": 0.129325641534275,
          "Phase shift diff fr (deg)": 120.10738659596392,
          "Phase shift diff to (deg)": 134.9270134814354,
          "Photoelectron KE (eV)": 4.012611200000002,
          "Photon energy (eV)": 14.3,
          "Polar ang (deg)": 57.5,
          "Polar ang (rad)": 1.0035643198967394,
          "Polar ang fr (deg)": 55,
          "Polar ang to (deg)": 60
         },
         {
          "Dataset": "good2",
          "Dataset / KE (eV)": "good2 / 4.0",
          "Phase shift diff (deg)": 131.85970189440548,
          "Phase shift diff (rad)": 2.30138594875558,
          "Phase shift diff err (deg)": 6.908581860412762,
          "Phase shift diff err (rad)": 0.120577500107758,
          "Phase shift diff fr (deg)": 124.95112003399271,
          "Phase shift diff to (deg)": 138.76828375481824,
          "Photoelectron KE (eV)": 4.012611200000002,
          "Photon energy (eV)": 14.3,
          "Polar ang (deg)": 62.5,
          "Polar ang (rad)": 1.0908307824964558,
          "Polar ang fr (deg)": 60,
          "Polar ang to (deg)": 65
         },
         {
          "Dataset": "good2",
          "Dataset / KE (eV)": "good2 / 4.0",
          "Phase shift diff (deg)": 136.50010965783093,
          "Phase shift diff (rad)": 2.38237634286246,
          "Phase shift diff err (deg)": 9.260831441141063,
          "Phase shift diff err (rad)": 0.161632000120123,
          "Phase shift diff fr (deg)": 127.23927821668987,
          "Phase shift diff to (deg)": 145.76094109897198,
          "Photoelectron KE (eV)": 4.012611200000002,
          "Photon energy (eV)": 14.3,
          "Polar ang (deg)": 67.5,
          "Polar ang (rad)": 1.1780972450961724,
          "Polar ang fr (deg)": 65,
          "Polar ang to (deg)": 70
         },
         {
          "Dataset": "good2",
          "Dataset / KE (eV)": "good2 / 4.0",
          "Phase shift diff (deg)": 135.81351661077937,
          "Phase shift diff (rad)": 2.37039303357011,
          "Phase shift diff err (deg)": 11.244339707285077,
          "Phase shift diff err (rad)": 0.19625075010486,
          "Phase shift diff fr (deg)": 124.5691769034943,
          "Phase shift diff to (deg)": 147.05785631806444,
          "Photoelectron KE (eV)": 4.012611200000002,
          "Photon energy (eV)": 14.3,
          "Polar ang (deg)": 72.5,
          "Polar ang (rad)": 1.265363707695889,
          "Polar ang fr (deg)": 70,
          "Polar ang to (deg)": 75
         },
         {
          "Dataset": "good2",
          "Dataset / KE (eV)": "good2 / 4.0",
          "Phase shift diff (deg)": 140.22174284059565,
          "Phase shift diff (rad)": 2.44733109545318,
          "Phase shift diff err (deg)": 14.329776414798014,
          "Phase shift diff err (rad)": 0.250101779512854,
          "Phase shift diff fr (deg)": 125.89196642579763,
          "Phase shift diff to (deg)": 154.55151925539366,
          "Photoelectron KE (eV)": 4.012611200000002,
          "Photon energy (eV)": 14.3,
          "Polar ang (deg)": 77.5,
          "Polar ang (rad)": 1.3526301702956054,
          "Polar ang fr (deg)": 75,
          "Polar ang to (deg)": 80
         },
         {
          "Dataset": "good2",
          "Dataset / KE (eV)": "good2 / 4.0",
          "Phase shift diff (deg)": 146.16747088735085,
          "Phase shift diff (rad)": 2.55110362629723,
          "Phase shift diff err (deg)": 30.388463738433646,
          "Phase shift diff err (rad)": 0.530378746858572,
          "Phase shift diff fr (deg)": 115.7790071489172,
          "Phase shift diff to (deg)": 176.5559346257845,
          "Photoelectron KE (eV)": 4.012611200000002,
          "Photon energy (eV)": 14.3,
          "Polar ang (deg)": 82.5,
          "Polar ang (rad)": 1.4398966328953218,
          "Polar ang fr (deg)": 80,
          "Polar ang to (deg)": 85
         },
         {
          "Dataset": "good2",
          "Dataset / KE (eV)": "good2 / 4.0",
          "Phase shift diff (deg)": 139.3005831570775,
          "Phase shift diff (rad)": 2.43125382603916,
          "Phase shift diff err (deg)": 58.614441858008455,
          "Phase shift diff err (rad)": 1.02301499964103,
          "Phase shift diff fr (deg)": 80.68614129906905,
          "Phase shift diff to (deg)": 197.91502501508597,
          "Photoelectron KE (eV)": 4.012611200000002,
          "Photon energy (eV)": 14.3,
          "Polar ang (deg)": 87.5,
          "Polar ang (rad)": 1.5271630954950384,
          "Polar ang fr (deg)": 85,
          "Polar ang to (deg)": 90
         },
         {
          "Dataset": "good2",
          "Dataset / KE (eV)": "good2 / 4.0",
          "Phase shift diff (deg)": 319.3005794220669,
          "Phase shift diff (rad)": 5.57284641444072,
          "Phase shift diff err (deg)": 58.61444503789613,
          "Phase shift diff err (rad)": 1.02301505514054,
          "Phase shift diff fr (deg)": 260.68613438417077,
          "Phase shift diff to (deg)": 377.91502445996304,
          "Photoelectron KE (eV)": 4.012611200000002,
          "Photon energy (eV)": 14.3,
          "Polar ang (deg)": 92.5,
          "Polar ang (rad)": 1.6144295580947547,
          "Polar ang fr (deg)": 90,
          "Polar ang to (deg)": 95
         },
         {
          "Dataset": "good2",
          "Dataset / KE (eV)": "good2 / 4.0",
          "Phase shift diff (deg)": 326.16747430207886,
          "Phase shift diff (rad)": 5.69269633948527,
          "Phase shift diff err (deg)": 30.388464064059598,
          "Phase shift diff err (rad)": 0.530378752541817,
          "Phase shift diff fr (deg)": 295.7790102380193,
          "Phase shift diff to (deg)": 356.55593836613843,
          "Photoelectron KE (eV)": 4.012611200000002,
          "Photon energy (eV)": 14.3,
          "Polar ang (deg)": 97.5,
          "Polar ang (rad)": 1.7016960206944711,
          "Polar ang fr (deg)": 95,
          "Polar ang to (deg)": 100
         },
         {
          "Dataset": "good2",
          "Dataset / KE (eV)": "good2 / 4.0",
          "Phase shift diff (deg)": 320.22174285795035,
          "Phase shift diff (rad)": 5.58892374934587,
          "Phase shift diff err (deg)": 14.32977635962023,
          "Phase shift diff err (rad)": 0.25010177854982,
          "Phase shift diff fr (deg)": 305.89196649833013,
          "Phase shift diff to (deg)": 334.55151921757056,
          "Photoelectron KE (eV)": 4.012611200000002,
          "Photon energy (eV)": 14.3,
          "Polar ang (deg)": 102.5,
          "Polar ang (rad)": 1.7889624832941877,
          "Polar ang fr (deg)": 100,
          "Polar ang to (deg)": 105
         },
         {
          "Dataset": "good2",
          "Dataset / KE (eV)": "good2 / 4.0",
          "Phase shift diff (deg)": 315.81351558175277,
          "Phase shift diff (rad)": 5.5119856692,
          "Phase shift diff err (deg)": 11.244339814730877,
          "Phase shift diff err (rad)": 0.196250751980143,
          "Phase shift diff fr (deg)": 304.5691757670219,
          "Phase shift diff to (deg)": 327.05785539648366,
          "Photoelectron KE (eV)": 4.012611200000002,
          "Photon energy (eV)": 14.3,
          "Polar ang (deg)": 107.5,
          "Polar ang (rad)": 1.876228945893904,
          "Polar ang fr (deg)": 105,
          "Polar ang to (deg)": 110
         },
         {
          "Dataset": "good2",
          "Dataset / KE (eV)": "good2 / 4.0",
          "Phase shift diff (deg)": 316.5001095985279,
          "Phase shift diff (rad)": 5.52396899541722,
          "Phase shift diff err (deg)": 9.260830989764225,
          "Phase shift diff err (rad)": 0.161631992242111,
          "Phase shift diff fr (deg)": 307.2392786087637,
          "Phase shift diff to (deg)": 325.7609405882921,
          "Photoelectron KE (eV)": 4.012611200000002,
          "Photon energy (eV)": 14.3,
          "Polar ang (deg)": 112.5,
          "Polar ang (rad)": 1.9634954084936207,
          "Polar ang fr (deg)": 110,
          "Polar ang to (deg)": 115
         },
         {
          "Dataset": "good2",
          "Dataset / KE (eV)": "good2 / 4.0",
          "Phase shift diff (deg)": 311.85970165573343,
          "Phase shift diff (rad)": 5.44297859817976,
          "Phase shift diff err (deg)": 6.908581953608186,
          "Phase shift diff err (rad)": 0.120577501734325,
          "Phase shift diff fr (deg)": 304.95111970212525,
          "Phase shift diff to (deg)": 318.7682836093416,
          "Photoelectron KE (eV)": 4.012611200000002,
          "Photon energy (eV)": 14.3,
          "Polar ang (deg)": 117.5,
          "Polar ang (rad)": 2.050761871093337,
          "Polar ang fr (deg)": 115,
          "Polar ang to (deg)": 120
         },
         {
          "Dataset": "good2",
          "Dataset / KE (eV)": "good2 / 4.0",
          "Phase shift diff (deg)": 307.5171994828457,
          "Phase shift diff (rad)": 5.36718763748786,
          "Phase shift diff err (deg)": 7.409813293346107,
          "Phase shift diff err (rad)": 0.129325638926934,
          "Phase shift diff fr (deg)": 300.10738618949955,
          "Phase shift diff to (deg)": 314.9270127761918,
          "Photoelectron KE (eV)": 4.012611200000002,
          "Photon energy (eV)": 14.3,
          "Polar ang (deg)": 122.5,
          "Polar ang (rad)": 2.138028333693054,
          "Polar ang fr (deg)": 120,
          "Polar ang to (deg)": 125
         },
         {
          "Dataset": "good2",
          "Dataset / KE (eV)": "good2 / 4.0",
          "Phase shift diff (deg)": 297.18068624843977,
          "Phase shift diff (rad)": 5.18678144837151,
          "Phase shift diff err (deg)": 7.098387445600064,
          "Phase shift diff err (rad)": 0.123890232507951,
          "Phase shift diff fr (deg)": 290.0822988028397,
          "Phase shift diff to (deg)": 304.2790736940398,
          "Photoelectron KE (eV)": 4.012611200000002,
          "Photon energy (eV)": 14.3,
          "Polar ang (deg)": 127.5,
          "Polar ang (rad)": 2.2252947962927703,
          "Polar ang fr (deg)": 125,
          "Polar ang to (deg)": 130
         },
         {
          "Dataset": "good2",
          "Dataset / KE (eV)": "good2 / 4.0",
          "Phase shift diff (deg)": 293.0205257468065,
          "Phase shift diff (rad)": 5.11417295020659,
          "Phase shift diff err (deg)": 5.520476415676407,
          "Phase shift diff err (rad)": 0.0963504897322484,
          "Phase shift diff fr (deg)": 287.5000493311301,
          "Phase shift diff to (deg)": 298.5410021624829,
          "Photoelectron KE (eV)": 4.012611200000002,
          "Photon energy (eV)": 14.3,
          "Polar ang (deg)": 132.5,
          "Polar ang (rad)": 2.3125612588924866,
          "Polar ang fr (deg)": 130,
          "Polar ang to (deg)": 135
         },
         {
          "Dataset": "good2",
          "Dataset / KE (eV)": "good2 / 4.0",
          "Phase shift diff (deg)": 282.62188263641536,
          "Phase shift diff (rad)": 4.93268239019044,
          "Phase shift diff err (deg)": 6.803898490330282,
          "Phase shift diff err (rad)": 0.118750430627735,
          "Phase shift diff fr (deg)": 275.8179841460851,
          "Phase shift diff to (deg)": 289.4257811267456,
          "Photoelectron KE (eV)": 4.012611200000002,
          "Photon energy (eV)": 14.3,
          "Polar ang (deg)": 137.5,
          "Polar ang (rad)": 2.399827721492203,
          "Polar ang fr (deg)": 135,
          "Polar ang to (deg)": 140
         },
         {
          "Dataset": "good2",
          "Dataset / KE (eV)": "good2 / 4.0",
          "Phase shift diff (deg)": 274.5058532047915,
          "Phase shift diff (rad)": 4.79103095441984,
          "Phase shift diff err (deg)": 5.913324236895234,
          "Phase shift diff err (rad)": 0.103206977671803,
          "Phase shift diff fr (deg)": 268.59252896789627,
          "Phase shift diff to (deg)": 280.4191774416867,
          "Photoelectron KE (eV)": 4.012611200000002,
          "Photon energy (eV)": 14.3,
          "Polar ang (deg)": 142.5,
          "Polar ang (rad)": 2.4870941840919194,
          "Polar ang fr (deg)": 140,
          "Polar ang to (deg)": 145
         },
         {
          "Dataset": "good2",
          "Dataset / KE (eV)": "good2 / 4.0",
          "Phase shift diff (deg)": 263.3902131945535,
          "Phase shift diff (rad)": 4.59702643777477,
          "Phase shift diff err (deg)": 6.11368654692219,
          "Phase shift diff err (rad)": 0.106703959678675,
          "Phase shift diff fr (deg)": 257.27652664763133,
          "Phase shift diff to (deg)": 269.50389974147566,
          "Photoelectron KE (eV)": 4.012611200000002,
          "Photon energy (eV)": 14.3,
          "Polar ang (deg)": 147.5,
          "Polar ang (rad)": 2.574360646691636,
          "Polar ang fr (deg)": 145,
          "Polar ang to (deg)": 150
         },
         {
          "Dataset": "good2",
          "Dataset / KE (eV)": "good2 / 4.0",
          "Phase shift diff (deg)": 258.39874610825996,
          "Phase shift diff (rad)": 4.50990890261402,
          "Phase shift diff err (deg)": 5.698229297643366,
          "Phase shift diff err (rad)": 0.0994528627774807,
          "Phase shift diff fr (deg)": 252.7005168106166,
          "Phase shift diff to (deg)": 264.0969754059033,
          "Photoelectron KE (eV)": 4.012611200000002,
          "Photon energy (eV)": 14.3,
          "Polar ang (deg)": 152.5,
          "Polar ang (rad)": 2.6616271092913526,
          "Polar ang fr (deg)": 150,
          "Polar ang to (deg)": 155
         },
         {
          "Dataset": "good2",
          "Dataset / KE (eV)": "good2 / 4.0",
          "Phase shift diff (deg)": 248.6014477897507,
          "Phase shift diff (rad)": 4.33891378915593,
          "Phase shift diff err (deg)": 5.365963152258911,
          "Phase shift diff err (rad)": 0.0936537245476118,
          "Phase shift diff fr (deg)": 243.2354846374918,
          "Phase shift diff to (deg)": 253.9674109420096,
          "Photoelectron KE (eV)": 4.012611200000002,
          "Photon energy (eV)": 14.3,
          "Polar ang (deg)": 157.5,
          "Polar ang (rad)": 2.748893571891069,
          "Polar ang fr (deg)": 155,
          "Polar ang to (deg)": 160
         },
         {
          "Dataset": "good2",
          "Dataset / KE (eV)": "good2 / 4.0",
          "Phase shift diff (deg)": 244.10582080185358,
          "Phase shift diff (rad)": 4.26045029627561,
          "Phase shift diff err (deg)": 4.737725028950242,
          "Phase shift diff err (rad)": 0.0826889008093254,
          "Phase shift diff fr (deg)": 239.36809577290333,
          "Phase shift diff to (deg)": 248.84354583080383,
          "Photoelectron KE (eV)": 4.012611200000002,
          "Photon energy (eV)": 14.3,
          "Polar ang (deg)": 162.5,
          "Polar ang (rad)": 2.8361600344907854,
          "Polar ang fr (deg)": 160,
          "Polar ang to (deg)": 165
         },
         {
          "Dataset": "good2",
          "Dataset / KE (eV)": "good2 / 4.0",
          "Phase shift diff (deg)": 240.18767116783184,
          "Phase shift diff (rad)": 4.19206568457612,
          "Phase shift diff err (deg)": 4.336457578597566,
          "Phase shift diff err (rad)": 0.0756854626195883,
          "Phase shift diff fr (deg)": 235.85121358923428,
          "Phase shift diff to (deg)": 244.5241287464294,
          "Photoelectron KE (eV)": 4.012611200000002,
          "Photon energy (eV)": 14.3,
          "Polar ang (deg)": 167.5,
          "Polar ang (rad)": 2.923426497090502,
          "Polar ang fr (deg)": 165,
          "Polar ang to (deg)": 170
         },
         {
          "Dataset": "good2",
          "Dataset / KE (eV)": "good2 / 4.0",
          "Phase shift diff (deg)": 238.18121024645075,
          "Phase shift diff (rad)": 4.15704633518542,
          "Phase shift diff err (deg)": 4.51296721819504,
          "Phase shift diff err (rad)": 0.0787661369920728,
          "Phase shift diff fr (deg)": 233.66824302825572,
          "Phase shift diff to (deg)": 242.69417746464578,
          "Photoelectron KE (eV)": 4.012611200000002,
          "Photon energy (eV)": 14.3,
          "Polar ang (deg)": 172.5,
          "Polar ang (rad)": 3.0106929596902186,
          "Polar ang fr (deg)": 170,
          "Polar ang to (deg)": 175
         },
         {
          "Dataset": "good2",
          "Dataset / KE (eV)": "good2 / 4.0",
          "Phase shift diff (deg)": 235.85723161292515,
          "Phase shift diff (rad)": 4.1164852562844,
          "Phase shift diff err (deg)": 6.654672751484965,
          "Phase shift diff err (rad)": 0.116145950156163,
          "Phase shift diff fr (deg)": 229.2025588614402,
          "Phase shift diff to (deg)": 242.5119043644101,
          "Photoelectron KE (eV)": 4.012611200000002,
          "Photon energy (eV)": 14.3,
          "Polar ang (deg)": 177.5,
          "Polar ang (rad)": 3.097959422289935,
          "Polar ang fr (deg)": 175,
          "Polar ang to (deg)": 180
         },
         {
          "Dataset": "good4",
          "Dataset / KE (eV)": "good4 / 7.2",
          "Phase shift diff (deg)": 60.17837946676736,
          "Phase shift diff (rad)": 1.05031086020964,
          "Phase shift diff err (deg)": 4.966652979461696,
          "Phase shift diff err (rad)": 0.0866844472955929,
          "Phase shift diff fr (deg)": 55.21172648730567,
          "Phase shift diff to (deg)": 65.14503244622905,
          "Photoelectron KE (eV)": 7.212611200000001,
          "Photon energy (eV)": 15.9,
          "Polar ang (deg)": 2.5,
          "Polar ang (rad)": 0.04363323129985824,
          "Polar ang fr (deg)": 0,
          "Polar ang to (deg)": 5
         },
         {
          "Dataset": "good4",
          "Dataset / KE (eV)": "good4 / 7.2",
          "Phase shift diff (deg)": 59.63317437669815,
          "Phase shift diff (rad)": 1.0407952362893,
          "Phase shift diff err (deg)": 5.317751025224112,
          "Phase shift diff err (rad)": 0.0928122641914648,
          "Phase shift diff fr (deg)": 54.31542335147404,
          "Phase shift diff to (deg)": 64.95092540192226,
          "Photoelectron KE (eV)": 7.212611200000001,
          "Photon energy (eV)": 15.9,
          "Polar ang (deg)": 7.5,
          "Polar ang (rad)": 0.1308996938995747,
          "Polar ang fr (deg)": 5,
          "Polar ang to (deg)": 10
         },
         {
          "Dataset": "good4",
          "Dataset / KE (eV)": "good4 / 7.2",
          "Phase shift diff (deg)": 61.43675356401543,
          "Phase shift diff (rad)": 1.07227363142843,
          "Phase shift diff err (deg)": 5.5997744964485205,
          "Phase shift diff err (rad)": 0.0977345023322342,
          "Phase shift diff fr (deg)": 55.836979067566915,
          "Phase shift diff to (deg)": 67.03652806046395,
          "Photoelectron KE (eV)": 7.212611200000001,
          "Photon energy (eV)": 15.9,
          "Polar ang (deg)": 12.5,
          "Polar ang (rad)": 0.2181661564992912,
          "Polar ang fr (deg)": 10,
          "Polar ang to (deg)": 15
         },
         {
          "Dataset": "good4",
          "Dataset / KE (eV)": "good4 / 7.2",
          "Phase shift diff (deg)": 62.56796360573621,
          "Phase shift diff (rad)": 1.09201697118808,
          "Phase shift diff err (deg)": 5.6448990112603115,
          "Phase shift diff err (rad)": 0.0985220736890649,
          "Phase shift diff fr (deg)": 56.923064594475896,
          "Phase shift diff to (deg)": 68.21286261699652,
          "Photoelectron KE (eV)": 7.212611200000001,
          "Photon energy (eV)": 15.9,
          "Polar ang (deg)": 17.5,
          "Polar ang (rad)": 0.30543261909900765,
          "Polar ang fr (deg)": 15,
          "Polar ang to (deg)": 20
         },
         {
          "Dataset": "good4",
          "Dataset / KE (eV)": "good4 / 7.2",
          "Phase shift diff (deg)": 64.4045791213452,
          "Phase shift diff (rad)": 1.12407195902867,
          "Phase shift diff err (deg)": 6.031103650749732,
          "Phase shift diff err (rad)": 0.105262616234633,
          "Phase shift diff fr (deg)": 58.37347547059546,
          "Phase shift diff to (deg)": 70.43568277209492,
          "Photoelectron KE (eV)": 7.212611200000001,
          "Photon energy (eV)": 15.9,
          "Polar ang (deg)": 22.5,
          "Polar ang (rad)": 0.39269908169872414,
          "Polar ang fr (deg)": 20,
          "Polar ang to (deg)": 25
         },
         {
          "Dataset": "good4",
          "Dataset / KE (eV)": "good4 / 7.2",
          "Phase shift diff (deg)": 67.39694011772008,
          "Phase shift diff (rad)": 1.17629851082367,
          "Phase shift diff err (deg)": 6.901753414134628,
          "Phase shift diff err (rad)": 0.120458321237409,
          "Phase shift diff fr (deg)": 60.495186703585446,
          "Phase shift diff to (deg)": 74.29869353185471,
          "Photoelectron KE (eV)": 7.212611200000001,
          "Photon energy (eV)": 15.9,
          "Polar ang (deg)": 27.5,
          "Polar ang (rad)": 0.4799655442984406,
          "Polar ang fr (deg)": 25,
          "Polar ang to (deg)": 30
         },
         {
          "Dataset": "good4",
          "Dataset / KE (eV)": "good4 / 7.2",
          "Phase shift diff (deg)": 72.82405345832417,
          "Phase shift diff (rad)": 1.27101950749612,
          "Phase shift diff err (deg)": 7.85597471385757,
          "Phase shift diff err (rad)": 0.137112624710234,
          "Phase shift diff fr (deg)": 64.9680787444666,
          "Phase shift diff to (deg)": 80.68002817218175,
          "Photoelectron KE (eV)": 7.212611200000001,
          "Photon energy (eV)": 15.9,
          "Polar ang (deg)": 32.5,
          "Polar ang (rad)": 0.5672320068981571,
          "Polar ang fr (deg)": 30,
          "Polar ang to (deg)": 35
         },
         {
          "Dataset": "good4",
          "Dataset / KE (eV)": "good4 / 7.2",
          "Phase shift diff (deg)": 79.56501823438364,
          "Phase shift diff (rad)": 1.38867153759932,
          "Phase shift diff err (deg)": 9.981954143220538,
          "Phase shift diff err (rad)": 0.174217965582288,
          "Phase shift diff fr (deg)": 69.58306409116311,
          "Phase shift diff to (deg)": 89.54697237760418,
          "Photoelectron KE (eV)": 7.212611200000001,
          "Photon energy (eV)": 15.9,
          "Polar ang (deg)": 37.5,
          "Polar ang (rad)": 0.6544984694978736,
          "Polar ang fr (deg)": 35,
          "Polar ang to (deg)": 40
         },
         {
          "Dataset": "good4",
          "Dataset / KE (eV)": "good4 / 7.2",
          "Phase shift diff (deg)": 93.17873649296767,
          "Phase shift diff (rad)": 1.62627574465048,
          "Phase shift diff err (deg)": 12.53368251246188,
          "Phase shift diff err (rad)": 0.218754027242095,
          "Phase shift diff fr (deg)": 80.64505398050579,
          "Phase shift diff to (deg)": 105.71241900542955,
          "Photoelectron KE (eV)": 7.212611200000001,
          "Photon energy (eV)": 15.9,
          "Polar ang (deg)": 42.5,
          "Polar ang (rad)": 0.74176493209759,
          "Polar ang fr (deg)": 40,
          "Polar ang to (deg)": 45
         },
         {
          "Dataset": "good4",
          "Dataset / KE (eV)": "good4 / 7.2",
          "Phase shift diff (deg)": 113.21342487382661,
          "Phase shift diff (rad)": 1.97594702150752,
          "Phase shift diff err (deg)": 16.33898678543981,
          "Phase shift diff err (rad)": 0.285169115845769,
          "Phase shift diff fr (deg)": 96.8744380883868,
          "Phase shift diff to (deg)": 129.55241165926643,
          "Photoelectron KE (eV)": 7.212611200000001,
          "Photon energy (eV)": 15.9,
          "Polar ang (deg)": 47.5,
          "Polar ang (rad)": 0.8290313946973066,
          "Polar ang fr (deg)": 45,
          "Polar ang to (deg)": 50
         },
         {
          "Dataset": "good4",
          "Dataset / KE (eV)": "good4 / 7.2",
          "Phase shift diff (deg)": 140.34418580539773,
          "Phase shift diff (rad)": 2.44946812833488,
          "Phase shift diff err (deg)": 17.941584921942592,
          "Phase shift diff err (rad)": 0.313139729914068,
          "Phase shift diff fr (deg)": 122.40260088345514,
          "Phase shift diff to (deg)": 158.28577072734032,
          "Photoelectron KE (eV)": 7.212611200000001,
          "Photon energy (eV)": 15.9,
          "Polar ang (deg)": 52.5,
          "Polar ang (rad)": 0.9162978572970231,
          "Polar ang fr (deg)": 50,
          "Polar ang to (deg)": 55
         },
         {
          "Dataset": "good4",
          "Dataset / KE (eV)": "good4 / 7.2",
          "Phase shift diff (deg)": 168.00222048055988,
          "Phase shift diff (rad)": 2.93219189804722,
          "Phase shift diff err (deg)": 16.789372867531533,
          "Phase shift diff err (rad)": 0.293029835883427,
          "Phase shift diff fr (deg)": 151.21284761302834,
          "Phase shift diff to (deg)": 184.79159334809142,
          "Photoelectron KE (eV)": 7.212611200000001,
          "Photon energy (eV)": 15.9,
          "Polar ang (deg)": 57.5,
          "Polar ang (rad)": 1.0035643198967394,
          "Polar ang fr (deg)": 55,
          "Polar ang to (deg)": 60
         },
         {
          "Dataset": "good4",
          "Dataset / KE (eV)": "good4 / 7.2",
          "Phase shift diff (deg)": 184.45360759060088,
          "Phase shift diff (rad)": 3.21932276963759,
          "Phase shift diff err (deg)": 15.531119501996503,
          "Phase shift diff err (rad)": 0.271069171830541,
          "Phase shift diff fr (deg)": 168.92248808860438,
          "Phase shift diff to (deg)": 199.98472709259738,
          "Photoelectron KE (eV)": 7.212611200000001,
          "Photon energy (eV)": 15.9,
          "Polar ang (deg)": 62.5,
          "Polar ang (rad)": 1.0908307824964558,
          "Polar ang fr (deg)": 60,
          "Polar ang to (deg)": 65
         },
         {
          "Dataset": "good4",
          "Dataset / KE (eV)": "good4 / 7.2",
          "Phase shift diff (deg)": 194.7440407208727,
          "Phase shift diff (rad)": 3.39892470921714,
          "Phase shift diff err (deg)": 14.163462736466654,
          "Phase shift diff err (rad)": 0.247199058234869,
          "Phase shift diff fr (deg)": 180.58057798440606,
          "Phase shift diff to (deg)": 208.90750345733935,
          "Photoelectron KE (eV)": 7.212611200000001,
          "Photon energy (eV)": 15.9,
          "Polar ang (deg)": 67.5,
          "Polar ang (rad)": 1.1780972450961724,
          "Polar ang fr (deg)": 65,
          "Polar ang to (deg)": 70
         },
         {
          "Dataset": "good4",
          "Dataset / KE (eV)": "good4 / 7.2",
          "Phase shift diff (deg)": 199.84904554101362,
          "Phase shift diff (rad)": 3.48802385165878,
          "Phase shift diff err (deg)": 15.117375953944148,
          "Phase shift diff err (rad)": 0.263847984658144,
          "Phase shift diff fr (deg)": 184.73166958706946,
          "Phase shift diff to (deg)": 214.96642149495779,
          "Photoelectron KE (eV)": 7.212611200000001,
          "Photon energy (eV)": 15.9,
          "Polar ang (deg)": 72.5,
          "Polar ang (rad)": 1.265363707695889,
          "Polar ang fr (deg)": 70,
          "Polar ang to (deg)": 75
         },
         {
          "Dataset": "good4",
          "Dataset / KE (eV)": "good4 / 7.2",
          "Phase shift diff (deg)": 202.16456036072174,
          "Phase shift diff (rad)": 3.52843720914141,
          "Phase shift diff err (deg)": 17.069540294836983,
          "Phase shift diff err (rad)": 0.297919679946749,
          "Phase shift diff fr (deg)": 185.09502006588474,
          "Phase shift diff to (deg)": 219.23410065555873,
          "Photoelectron KE (eV)": 7.212611200000001,
          "Photon energy (eV)": 15.9,
          "Polar ang (deg)": 77.5,
          "Polar ang (rad)": 1.3526301702956054,
          "Polar ang fr (deg)": 75,
          "Polar ang to (deg)": 80
         },
         {
          "Dataset": "good4",
          "Dataset / KE (eV)": "good4 / 7.2",
          "Phase shift diff (deg)": 208.93997719182545,
          "Phase shift diff (rad)": 3.64669054103921,
          "Phase shift diff err (deg)": 25.251024836128966,
          "Phase shift diff err (rad)": 0.440713522893312,
          "Phase shift diff fr (deg)": 183.68895235569647,
          "Phase shift diff to (deg)": 234.19100202795443,
          "Photoelectron KE (eV)": 7.212611200000001,
          "Photon energy (eV)": 15.9,
          "Polar ang (deg)": 82.5,
          "Polar ang (rad)": 1.4398966328953218,
          "Polar ang fr (deg)": 80,
          "Polar ang to (deg)": 85
         },
         {
          "Dataset": "good4",
          "Dataset / KE (eV)": "good4 / 7.2",
          "Phase shift diff (deg)": 204.65445299687468,
          "Phase shift diff (rad)": 3.57189403366344,
          "Phase shift diff err (deg)": 71.57628756761814,
          "Phase shift diff err (rad)": 1.24924188440922,
          "Phase shift diff fr (deg)": 133.07816542925656,
          "Phase shift diff to (deg)": 276.2307405644928,
          "Photoelectron KE (eV)": 7.212611200000001,
          "Photon energy (eV)": 15.9,
          "Polar ang (deg)": 87.5,
          "Polar ang (rad)": 1.5271630954950384,
          "Polar ang fr (deg)": 85,
          "Polar ang to (deg)": 90
         },
         {
          "Dataset": "good4",
          "Dataset / KE (eV)": "good4 / 7.2",
          "Phase shift diff (deg)": 384.65446278697397,
          "Phase shift diff (rad)": 6.7134868581227,
          "Phase shift diff err (deg)": 71.57629260336026,
          "Phase shift diff err (rad)": 1.2492419722995,
          "Phase shift diff fr (deg)": 313.0781701836137,
          "Phase shift diff to (deg)": 456.23075539033425,
          "Photoelectron KE (eV)": 7.212611200000001,
          "Photon energy (eV)": 15.9,
          "Polar ang (deg)": 92.5,
          "Polar ang (rad)": 1.6144295580947547,
          "Polar ang fr (deg)": 90,
          "Polar ang to (deg)": 95
         },
         {
          "Dataset": "good4",
          "Dataset / KE (eV)": "good4 / 7.2",
          "Phase shift diff (deg)": 388.9399781964982,
          "Phase shift diff (rad)": 6.78828321216385,
          "Phase shift diff err (deg)": 25.251023875080556,
          "Phase shift diff err (rad)": 0.440713506119853,
          "Phase shift diff fr (deg)": 363.68895432141767,
          "Phase shift diff to (deg)": 414.19100207157874,
          "Photoelectron KE (eV)": 7.212611200000001,
          "Photon energy (eV)": 15.9,
          "Polar ang (deg)": 97.5,
          "Polar ang (rad)": 1.7016960206944711,
          "Polar ang fr (deg)": 95,
          "Polar ang to (deg)": 100
         },
         {
          "Dataset": "good4",
          "Dataset / KE (eV)": "good4 / 7.2",
          "Phase shift diff (deg)": 382.1645607287295,
          "Phase shift diff (rad)": 6.67002986915415,
          "Phase shift diff err (deg)": 17.069540677484557,
          "Phase shift diff err (rad)": 0.297919686625209,
          "Phase shift diff fr (deg)": 365.09502005124494,
          "Phase shift diff to (deg)": 399.23410140621405,
          "Photoelectron KE (eV)": 7.212611200000001,
          "Photon energy (eV)": 15.9,
          "Polar ang (deg)": 102.5,
          "Polar ang (rad)": 1.7889624832941877,
          "Polar ang fr (deg)": 100,
          "Polar ang to (deg)": 105
         },
         {
          "Dataset": "good4",
          "Dataset / KE (eV)": "good4 / 7.2",
          "Phase shift diff (deg)": 379.78918236592506,
          "Phase shift diff (rad)": 6.62857169574258,
          "Phase shift diff err (deg)": 37.84930569285286,
          "Phase shift diff err (rad)": 0.660595003934116,
          "Phase shift diff fr (deg)": 341.9398766730722,
          "Phase shift diff to (deg)": 417.6384880587779,
          "Photoelectron KE (eV)": 7.212611200000001,
          "Photon energy (eV)": 15.9,
          "Polar ang (deg)": 107.5,
          "Polar ang (rad)": 1.876228945893904,
          "Polar ang fr (deg)": 105,
          "Polar ang to (deg)": 110
         },
         {
          "Dataset": "good4",
          "Dataset / KE (eV)": "good4 / 7.2",
          "Phase shift diff (deg)": 374.7440406342459,
          "Phase shift diff (rad)": 6.54051736129501,
          "Phase shift diff err (deg)": 14.163463202689686,
          "Phase shift diff err (rad)": 0.247199066371996,
          "Phase shift diff fr (deg)": 360.5805774315562,
          "Phase shift diff to (deg)": 388.9075038369356,
          "Photoelectron KE (eV)": 7.212611200000001,
          "Photon energy (eV)": 15.9,
          "Polar ang (deg)": 112.5,
          "Polar ang (rad)": 1.9634954084936207,
          "Polar ang fr (deg)": 110,
          "Polar ang to (deg)": 115
         },
         {
          "Dataset": "good4",
          "Dataset / KE (eV)": "good4 / 7.2",
          "Phase shift diff (deg)": 364.4536075956565,
          "Phase shift diff (rad)": 6.36091542331562,
          "Phase shift diff err (deg)": 15.531119241309701,
          "Phase shift diff err (rad)": 0.271069167280698,
          "Phase shift diff fr (deg)": 348.9224883543468,
          "Phase shift diff to (deg)": 379.98472683696616,
          "Photoelectron KE (eV)": 7.212611200000001,
          "Photon energy (eV)": 15.9,
          "Polar ang (deg)": 117.5,
          "Polar ang (rad)": 2.050761871093337,
          "Polar ang fr (deg)": 115,
          "Polar ang to (deg)": 120
         },
         {
          "Dataset": "good4",
          "Dataset / KE (eV)": "good4 / 7.2",
          "Phase shift diff (deg)": 348.00222050015884,
          "Phase shift diff (rad)": 6.07378455197908,
          "Phase shift diff err (deg)": 16.78937282072747,
          "Phase shift diff err (rad)": 0.293029835066542,
          "Phase shift diff fr (deg)": 331.2128476794314,
          "Phase shift diff to (deg)": 364.7915933208863,
          "Photoelectron KE (eV)": 7.212611200000001,
          "Photon energy (eV)": 15.9,
          "Polar ang (deg)": 122.5,
          "Polar ang (rad)": 2.138028333693054,
          "Polar ang fr (deg)": 120,
          "Polar ang to (deg)": 125
         },
         {
          "Dataset": "good4",
          "Dataset / KE (eV)": "good4 / 7.2",
          "Phase shift diff (deg)": 320.34418493039533,
          "Phase shift diff (rad)": 5.591060766653,
          "Phase shift diff err (deg)": 17.941584234764626,
          "Phase shift diff err (rad)": 0.31313971792055,
          "Phase shift diff fr (deg)": 302.4026006956307,
          "Phase shift diff to (deg)": 338.28576916515993,
          "Photoelectron KE (eV)": 7.212611200000001,
          "Photon energy (eV)": 15.9,
          "Polar ang (deg)": 127.5,
          "Polar ang (rad)": 2.2252947962927703,
          "Polar ang fr (deg)": 125,
          "Polar ang to (deg)": 130
         },
         {
          "Dataset": "good4",
          "Dataset / KE (eV)": "good4 / 7.2",
          "Phase shift diff (deg)": 293.2134254282542,
          "Phase shift diff (rad)": 5.1175396847739,
          "Phase shift diff err (deg)": 16.3389866864413,
          "Phase shift diff err (rad)": 0.285169114117919,
          "Phase shift diff fr (deg)": 276.8744387418129,
          "Phase shift diff to (deg)": 309.55241211469547,
          "Photoelectron KE (eV)": 7.212611200000001,
          "Photon energy (eV)": 15.9,
          "Polar ang (deg)": 132.5,
          "Polar ang (rad)": 2.3125612588924866,
          "Polar ang fr (deg)": 130,
          "Polar ang to (deg)": 135
         },
         {
          "Dataset": "good4",
          "Dataset / KE (eV)": "good4 / 7.2",
          "Phase shift diff (deg)": 273.17873664619304,
          "Phase shift diff (rad)": 4.76786840091456,
          "Phase shift diff err (deg)": 12.533682514564177,
          "Phase shift diff err (rad)": 0.218754027278787,
          "Phase shift diff fr (deg)": 260.64505413162885,
          "Phase shift diff to (deg)": 285.71241916075724,
          "Photoelectron KE (eV)": 7.212611200000001,
          "Photon energy (eV)": 15.9,
          "Polar ang (deg)": 137.5,
          "Polar ang (rad)": 2.399827721492203,
          "Polar ang fr (deg)": 135,
          "Polar ang to (deg)": 140
         },
         {
          "Dataset": "good4",
          "Dataset / KE (eV)": "good4 / 7.2",
          "Phase shift diff (deg)": 259.5650183731882,
          "Phase shift diff (rad)": 4.53026419361171,
          "Phase shift diff err (deg)": 9.981954106394191,
          "Phase shift diff err (rad)": 0.174217964939547,
          "Phase shift diff fr (deg)": 249.583064266794,
          "Phase shift diff to (deg)": 269.5469724795824,
          "Photoelectron KE (eV)": 7.212611200000001,
          "Photon energy (eV)": 15.9,
          "Polar ang (deg)": 142.5,
          "Polar ang (rad)": 2.4870941840919194,
          "Polar ang fr (deg)": 140,
          "Polar ang to (deg)": 145
         },
         {
          "Dataset": "good4",
          "Dataset / KE (eV)": "good4 / 7.2",
          "Phase shift diff (deg)": 252.8240532497313,
          "Phase shift diff (rad)": 4.41261215744528,
          "Phase shift diff err (deg)": 7.855974696288851,
          "Phase shift diff err (rad)": 0.137112624403602,
          "Phase shift diff fr (deg)": 244.96807855344244,
          "Phase shift diff to (deg)": 260.6800279460201,
          "Photoelectron KE (eV)": 7.212611200000001,
          "Photon energy (eV)": 15.9,
          "Polar ang (deg)": 147.5,
          "Polar ang (rad)": 2.574360646691636,
          "Polar ang fr (deg)": 145,
          "Polar ang to (deg)": 150
         },
         {
          "Dataset": "good4",
          "Dataset / KE (eV)": "good4 / 7.2",
          "Phase shift diff (deg)": 247.39693997080204,
          "Phase shift diff (rad)": 4.31789116184926,
          "Phase shift diff err (deg)": 6.901753445078187,
          "Phase shift diff err (rad)": 0.120458321777476,
          "Phase shift diff fr (deg)": 240.49518652572385,
          "Phase shift diff to (deg)": 254.29869341588022,
          "Photoelectron KE (eV)": 7.212611200000001,
          "Photon energy (eV)": 15.9,
          "Polar ang (deg)": 152.5,
          "Polar ang (rad)": 2.6616271092913526,
          "Polar ang fr (deg)": 150,
          "Polar ang to (deg)": 155
         },
         {
          "Dataset": "good4",
          "Dataset / KE (eV)": "good4 / 7.2",
          "Phase shift diff (deg)": 244.4045787004416,
          "Phase shift diff (rad)": 4.26566460527231,
          "Phase shift diff err (deg)": 6.031103815896164,
          "Phase shift diff err (rad)": 0.105262619116982,
          "Phase shift diff fr (deg)": 238.37347488454543,
          "Phase shift diff to (deg)": 250.43568251633775,
          "Photoelectron KE (eV)": 7.212611200000001,
          "Photon energy (eV)": 15.9,
          "Polar ang (deg)": 157.5,
          "Polar ang (rad)": 2.748893571891069,
          "Polar ang fr (deg)": 155,
          "Polar ang to (deg)": 160
         },
         {
          "Dataset": "good4",
          "Dataset / KE (eV)": "good4 / 7.2",
          "Phase shift diff (deg)": 242.5679634738503,
          "Phase shift diff (rad)": 4.23360962247603,
          "Phase shift diff err (deg)": 5.644899060388091,
          "Phase shift diff err (rad)": 0.0985220745465064,
          "Phase shift diff fr (deg)": 236.9230644134622,
          "Phase shift diff to (deg)": 248.2128625342384,
          "Photoelectron KE (eV)": 7.212611200000001,
          "Photon energy (eV)": 15.9,
          "Polar ang (deg)": 162.5,
          "Polar ang (rad)": 2.8361600344907854,
          "Polar ang fr (deg)": 160,
          "Polar ang to (deg)": 165
         },
         {
          "Dataset": "good4",
          "Dataset / KE (eV)": "good4 / 7.2",
          "Phase shift diff (deg)": 241.43675321830625,
          "Phase shift diff (rad)": 4.21386627898446,
          "Phase shift diff err (deg)": 5.599774481958292,
          "Phase shift diff err (rad)": 0.097734502079332,
          "Phase shift diff fr (deg)": 235.83697873634796,
          "Phase shift diff to (deg)": 247.03652770026454,
          "Photoelectron KE (eV)": 7.212611200000001,
          "Photon energy (eV)": 15.9,
          "Polar ang (deg)": 167.5,
          "Polar ang (rad)": 2.923426497090502,
          "Polar ang fr (deg)": 165,
          "Polar ang to (deg)": 170
         },
         {
          "Dataset": "good4",
          "Dataset / KE (eV)": "good4 / 7.2",
          "Phase shift diff (deg)": 239.6331744728357,
          "Phase shift diff (rad)": 4.18238789155701,
          "Phase shift diff err (deg)": 5.317751000046101,
          "Phase shift diff err (rad)": 0.0928122637520256,
          "Phase shift diff fr (deg)": 234.31542347278958,
          "Phase shift diff to (deg)": 244.9509254728818,
          "Photoelectron KE (eV)": 7.212611200000001,
          "Photon energy (eV)": 15.9,
          "Polar ang (deg)": 172.5,
          "Polar ang (rad)": 3.0106929596902186,
          "Polar ang fr (deg)": 170,
          "Polar ang to (deg)": 175
         },
         {
          "Dataset": "good4",
          "Dataset / KE (eV)": "good4 / 7.2",
          "Phase shift diff (deg)": 240.1783795548583,
          "Phase shift diff (rad)": 4.19190351533691,
          "Phase shift diff err (deg)": 4.966652961563554,
          "Phase shift diff err (rad)": 0.0866844469832114,
          "Phase shift diff fr (deg)": 235.21172659329477,
          "Phase shift diff to (deg)": 245.14503251642185,
          "Photoelectron KE (eV)": 7.212611200000001,
          "Photon energy (eV)": 15.9,
          "Polar ang (deg)": 177.5,
          "Polar ang (rad)": 3.097959422289935,
          "Polar ang fr (deg)": 175,
          "Polar ang to (deg)": 180
         }
        ]
       },
       "layer": [
        {
         "data": {
          "name": "data-e84d434886c3bad8ee4d5fa5ab522aa5"
         },
         "encoding": {
          "color": {
           "field": "Dataset / KE (eV)",
           "type": "nominal"
          },
          "x": {
           "axis": {
            "title": "Polar angle (deg)"
           },
           "field": "Polar ang (deg)",
           "type": "quantitative"
          },
          "y": {
           "axis": {
            "title": "Phase shift difference (deg)"
           },
           "field": "Phase shift diff (deg)",
           "type": "quantitative"
          }
         },
         "mark": "point"
        },
        {
         "data": {
          "name": "data-e84d434886c3bad8ee4d5fa5ab522aa5"
         },
         "encoding": {
          "color": {
           "field": "Dataset / KE (eV)",
           "type": "nominal"
          },
          "x": {
           "field": "Polar ang (deg)",
           "type": "quantitative"
          },
          "y": {
           "field": "Phase shift diff fr (deg)",
           "type": "quantitative"
          },
          "y2": {
           "field": "Phase shift diff to (deg)",
           "type": "quantitative"
          }
         },
         "mark": {
          "opacity": 0.1,
          "type": "area"
         }
        },
        {
         "data": {
          "name": "data-41874f8dacb77ce8a6c31a1e11d3671e"
         },
         "encoding": {
          "color": {
           "field": "Dataset / KE (eV)",
           "type": "nominal"
          },
          "x": {
           "field": "Polar ang (deg)",
           "type": "quantitative"
          },
          "y": {
           "field": "Phase shift diff (deg)",
           "type": "quantitative"
          }
         },
         "mark": "line"
        },
        {
         "data": {
          "name": "data-bf66ad5fb91e0d9fa7facf1302258b01"
         },
         "encoding": {
          "color": {
           "field": "Dataset / KE (eV)",
           "type": "nominal"
          },
          "x": {
           "field": "Polar ang (deg)",
           "type": "quantitative"
          },
          "y": {
           "field": "Phase shift diff (deg)",
           "type": "quantitative"
          }
         },
         "mark": {
          "strokeDash": [
           8,
           8
          ],
          "type": "line"
         },
         "selection": {
          "selector009": {
           "bind": "scales",
           "encodings": [
            "y"
           ],
           "mark": {
            "fill": "#333",
            "fillOpacity": 0.125,
            "stroke": "white"
           },
           "on": "[mousedown, window:mouseup] > window:mousemove!",
           "resolve": "global",
           "translate": "[mousedown, window:mouseup] > window:mousemove!",
           "type": "interval",
           "zoom": "wheel!"
          }
         }
        }
       ]
      },
      "image/png": "[encoded data removed]",
      "text/plain": [
       "<VegaLite 2 object>\n",
       "\n",
       "If you see this message, it means the renderer has not been properly enabled\n",
       "for the frontend that you are using. For more information, see\n",
       "https://altair-viz.github.io/user_guide/troubleshooting.html\n"
      ]
     },
     "execution_count": 25,
     "metadata": {},
     "output_type": "execute_result"
    }
   ],
   "source": [
    "data = pd.read_excel(\"Data/Ne phase shift diffs.xlsx\", sheet_name=None)\n",
    "\n",
    "base = alt.Chart(data[\"Measured\"])\n",
    "base.mark_point().encode(\n",
    "    x=alt.X(\"Polar ang (deg)\", axis=alt.Axis(title=\"Polar angle (deg)\")),\n",
    "    y=alt.Y(\"Phase shift diff (deg)\", axis=alt.Axis(title=\"Phase shift difference (deg)\")),\n",
    "    color=\"Dataset / KE (eV)\",\n",
    ") + base.mark_area(opacity=0.1).encode(\n",
    "    x=\"Polar ang (deg)\",\n",
    "    y=\"Phase shift diff fr (deg)\",\n",
    "    y2=\"Phase shift diff to (deg)\",\n",
    "    color=\"Dataset / KE (eV)\",\n",
    ") + alt.Chart(data[\"TDCASSCF\"]).mark_line().encode(\n",
    "    x=\"Polar ang (deg)\",\n",
    "    y=\"Phase shift diff (deg)\",\n",
    "    color=\"Dataset / KE (eV)\",\n",
    ") + alt.Chart(data[\"Perturb\"]).mark_line(strokeDash=[8, 8]).encode(\n",
    "    x=\"Polar ang (deg)\",\n",
    "    y=\"Phase shift diff (deg)\",\n",
    "    color=\"Dataset / KE (eV)\",\n",
    ").interactive(bind_x=False)"
   ]
  },
  {
   "cell_type": "code",
   "execution_count": 26,
   "metadata": {},
   "outputs": [
    {
     "data": {
      "application/vnd.vegalite.v2+json": {
       "$schema": "https://vega.github.io/schema/vega-lite/v2.6.0.json",
       "config": {
        "view": {
         "height": 300,
         "width": 400
        }
       },
       "datasets": {
        "data-0213430a14571113e45c330ba07813ad": [
         {
          "EWS delay diff (as)": 7.55880145103925,
          "EWS delay diff err (as)": 27.092306089801,
          "EWS delay diff fr (as)": -19.533504638761748,
          "EWS delay diff to (as)": 34.65110754084025,
          "KE range (eV)": "4.0–7.2",
          "Photon energy fr (eV)": 14.3,
          "Photon energy to (eV)": 15.9,
          "Polar ang (deg)": 2.5,
          "Polar ang fr (deg)": 0,
          "Polar ang to (deg)": 5
         },
         {
          "EWS delay diff (as)": 10.0633948268206,
          "EWS delay diff err (as)": 9.43788476081766,
          "EWS delay diff fr (as)": 0.6255100660029402,
          "EWS delay diff to (as)": 19.50127958763826,
          "KE range (eV)": "7.2–13.6",
          "Photon energy fr (eV)": 15.9,
          "Photon energy to (eV)": 19.1,
          "Polar ang (deg)": 2.5,
          "Polar ang fr (deg)": 0,
          "Polar ang to (deg)": 5
         },
         {
          "EWS delay diff (as)": 21.9179164595267,
          "EWS delay diff err (as)": 21.2662216083442,
          "EWS delay diff fr (as)": 0.6516948511825014,
          "EWS delay diff to (as)": 43.184138067870904,
          "KE range (eV)": "4.0–7.2",
          "Photon energy fr (eV)": 14.3,
          "Photon energy to (eV)": 15.9,
          "Polar ang (deg)": 7.5,
          "Polar ang fr (deg)": 5,
          "Polar ang to (deg)": 10
         },
         {
          "EWS delay diff (as)": -1.46058974514926,
          "EWS delay diff err (as)": 10.0493173072132,
          "EWS delay diff fr (as)": -11.50990705236246,
          "EWS delay diff to (as)": 8.588727562063939,
          "KE range (eV)": "7.2–13.6",
          "Photon energy fr (eV)": 15.9,
          "Photon energy to (eV)": 19.1,
          "Polar ang (deg)": 7.5,
          "Polar ang fr (deg)": 5,
          "Polar ang to (deg)": 10
         },
         {
          "EWS delay diff (as)": -4.64439299429189,
          "EWS delay diff err (as)": 19.656976194104,
          "EWS delay diff fr (as)": -24.30136918839589,
          "EWS delay diff to (as)": 15.012583199812111,
          "KE range (eV)": "4.0–7.2",
          "Photon energy fr (eV)": 14.3,
          "Photon energy to (eV)": 15.9,
          "Polar ang (deg)": 12.5,
          "Polar ang fr (deg)": 10,
          "Polar ang to (deg)": 15
         },
         {
          "EWS delay diff (as)": 9.13907809823719,
          "EWS delay diff err (as)": 9.282056530095,
          "EWS delay diff fr (as)": -0.14297843185780934,
          "EWS delay diff to (as)": 18.42113462833219,
          "KE range (eV)": "7.2–13.6",
          "Photon energy fr (eV)": 15.9,
          "Photon energy to (eV)": 19.1,
          "Polar ang (deg)": 12.5,
          "Polar ang fr (deg)": 10,
          "Polar ang to (deg)": 15
         },
         {
          "EWS delay diff (as)": 13.2305800801503,
          "EWS delay diff err (as)": 20.1406530082311,
          "EWS delay diff fr (as)": -6.910072928080801,
          "EWS delay diff to (as)": 33.3712330883814,
          "KE range (eV)": "4.0–7.2",
          "Photon energy fr (eV)": 14.3,
          "Photon energy to (eV)": 15.9,
          "Polar ang (deg)": 17.5,
          "Polar ang fr (deg)": 15,
          "Polar ang to (deg)": 20
         },
         {
          "EWS delay diff (as)": -4.00653813218129,
          "EWS delay diff err (as)": 9.09830037202216,
          "EWS delay diff fr (as)": -13.10483850420345,
          "EWS delay diff to (as)": 5.091762239840871,
          "KE range (eV)": "7.2–13.6",
          "Photon energy fr (eV)": 15.9,
          "Photon energy to (eV)": 19.1,
          "Polar ang (deg)": 17.5,
          "Polar ang fr (deg)": 15,
          "Polar ang to (deg)": 20
         },
         {
          "EWS delay diff (as)": -16.0386083406341,
          "EWS delay diff err (as)": 25.0708514713252,
          "EWS delay diff fr (as)": -41.1094598119593,
          "EWS delay diff to (as)": 9.0322431306911,
          "KE range (eV)": "4.0–7.2",
          "Photon energy fr (eV)": 14.3,
          "Photon energy to (eV)": 15.9,
          "Polar ang (deg)": 22.5,
          "Polar ang fr (deg)": 20,
          "Polar ang to (deg)": 25
         },
         {
          "EWS delay diff (as)": 6.1114748131214,
          "EWS delay diff err (as)": 11.2116088740499,
          "EWS delay diff fr (as)": -5.100134060928499,
          "EWS delay diff to (as)": 17.323083687171298,
          "KE range (eV)": "7.2–13.6",
          "Photon energy fr (eV)": 15.9,
          "Photon energy to (eV)": 19.1,
          "Polar ang (deg)": 22.5,
          "Polar ang fr (deg)": 20,
          "Polar ang to (deg)": 25
         },
         {
          "EWS delay diff (as)": -46.4486816447526,
          "EWS delay diff err (as)": 25.9890725409066,
          "EWS delay diff fr (as)": -72.4377541856592,
          "EWS delay diff to (as)": -20.459609103845995,
          "KE range (eV)": "4.0–7.2",
          "Photon energy fr (eV)": 14.3,
          "Photon energy to (eV)": 15.9,
          "Polar ang (deg)": 27.5,
          "Polar ang fr (deg)": 25,
          "Polar ang to (deg)": 30
         },
         {
          "EWS delay diff (as)": 8.09113889474414,
          "EWS delay diff err (as)": 11.4752959612234,
          "EWS delay diff fr (as)": -3.3841570664792613,
          "EWS delay diff to (as)": 19.56643485596754,
          "KE range (eV)": "7.2–13.6",
          "Photon energy fr (eV)": 15.9,
          "Photon energy to (eV)": 19.1,
          "Polar ang (deg)": 27.5,
          "Polar ang fr (deg)": 25,
          "Polar ang to (deg)": 30
         },
         {
          "EWS delay diff (as)": -26.8464360092415,
          "EWS delay diff err (as)": 28.103194288138,
          "EWS delay diff fr (as)": -54.9496302973795,
          "EWS delay diff to (as)": 1.2567582788964984,
          "KE range (eV)": "4.0–7.2",
          "Photon energy fr (eV)": 14.3,
          "Photon energy to (eV)": 15.9,
          "Polar ang (deg)": 32.5,
          "Polar ang fr (deg)": 30,
          "Polar ang to (deg)": 35
         },
         {
          "EWS delay diff (as)": -3.61667826798499,
          "EWS delay diff err (as)": 12.5159934095683,
          "EWS delay diff fr (as)": -16.13267167755329,
          "EWS delay diff to (as)": 8.899315141583308,
          "KE range (eV)": "7.2–13.6",
          "Photon energy fr (eV)": 15.9,
          "Photon energy to (eV)": 19.1,
          "Polar ang (deg)": 32.5,
          "Polar ang fr (deg)": 30,
          "Polar ang to (deg)": 35
         },
         {
          "EWS delay diff (as)": -47.4220802325965,
          "EWS delay diff err (as)": 28.981886009674,
          "EWS delay diff fr (as)": -76.4039662422705,
          "EWS delay diff to (as)": -18.4401942229225,
          "KE range (eV)": "4.0–7.2",
          "Photon energy fr (eV)": 14.3,
          "Photon energy to (eV)": 15.9,
          "Polar ang (deg)": 37.5,
          "Polar ang fr (deg)": 35,
          "Polar ang to (deg)": 40
         },
         {
          "EWS delay diff (as)": -1.92624673391314,
          "EWS delay diff err (as)": 14.1676152207784,
          "EWS delay diff fr (as)": -16.09386195469154,
          "EWS delay diff to (as)": 12.241368486865259,
          "KE range (eV)": "7.2–13.6",
          "Photon energy fr (eV)": 15.9,
          "Photon energy to (eV)": 19.1,
          "Polar ang (deg)": 37.5,
          "Polar ang fr (deg)": 35,
          "Polar ang to (deg)": 40
         },
         {
          "EWS delay diff (as)": -14.7782932327033,
          "EWS delay diff err (as)": 35.446705187341,
          "EWS delay diff fr (as)": -50.2249984200443,
          "EWS delay diff to (as)": 20.668411954637705,
          "KE range (eV)": "4.0–7.2",
          "Photon energy fr (eV)": 14.3,
          "Photon energy to (eV)": 15.9,
          "Polar ang (deg)": 42.5,
          "Polar ang fr (deg)": 40,
          "Polar ang to (deg)": 45
         },
         {
          "EWS delay diff (as)": -24.7937163393055,
          "EWS delay diff err (as)": 16.8359116621465,
          "EWS delay diff fr (as)": -41.629628001452005,
          "EWS delay diff to (as)": -7.957804677159,
          "KE range (eV)": "7.2–13.6",
          "Photon energy fr (eV)": 15.9,
          "Photon energy to (eV)": 19.1,
          "Polar ang (deg)": 42.5,
          "Polar ang fr (deg)": 40,
          "Polar ang to (deg)": 45
         },
         {
          "EWS delay diff (as)": 8.57783027244598,
          "EWS delay diff err (as)": 41.1442012355898,
          "EWS delay diff fr (as)": -32.56637096314382,
          "EWS delay diff to (as)": 49.722031508035776,
          "KE range (eV)": "4.0–7.2",
          "Photon energy fr (eV)": 14.3,
          "Photon energy to (eV)": 15.9,
          "Polar ang (deg)": 47.5,
          "Polar ang fr (deg)": 45,
          "Polar ang to (deg)": 50
         },
         {
          "EWS delay diff (as)": -39.9782792167516,
          "EWS delay diff err (as)": 21.9356614183273,
          "EWS delay diff fr (as)": -61.9139406350789,
          "EWS delay diff to (as)": -18.042617798424303,
          "KE range (eV)": "7.2–13.6",
          "Photon energy fr (eV)": 15.9,
          "Photon energy to (eV)": 19.1,
          "Polar ang (deg)": 47.5,
          "Polar ang fr (deg)": 45,
          "Polar ang to (deg)": 50
         },
         {
          "EWS delay diff (as)": 87.6921756765582,
          "EWS delay diff err (as)": 42.0644137686386,
          "EWS delay diff fr (as)": 45.62776190791959,
          "EWS delay diff to (as)": 129.7565894451968,
          "KE range (eV)": "4.0–7.2",
          "Photon energy fr (eV)": 14.3,
          "Photon energy to (eV)": 15.9,
          "Polar ang (deg)": 52.5,
          "Polar ang fr (deg)": 50,
          "Polar ang to (deg)": 55
         },
         {
          "EWS delay diff (as)": -67.6402095089996,
          "EWS delay diff err (as)": 22.2004709010833,
          "EWS delay diff fr (as)": -89.84068041008291,
          "EWS delay diff to (as)": -45.439738607916304,
          "KE range (eV)": "7.2–13.6",
          "Photon energy fr (eV)": 15.9,
          "Photon energy to (eV)": 19.1,
          "Polar ang (deg)": 52.5,
          "Polar ang fr (deg)": 50,
          "Polar ang to (deg)": 55
         },
         {
          "EWS delay diff (as)": 148.601355935534,
          "EWS delay diff err (as)": 53.220218799238,
          "EWS delay diff fr (as)": 95.381137136296,
          "EWS delay diff to (as)": 201.821574734772,
          "KE range (eV)": "4.0–7.2",
          "Photon energy fr (eV)": 14.3,
          "Photon energy to (eV)": 15.9,
          "Polar ang (deg)": 57.5,
          "Polar ang fr (deg)": 55,
          "Polar ang to (deg)": 60
         },
         {
          "EWS delay diff (as)": -97.2732533622803,
          "EWS delay diff err (as)": 27.8378652825666,
          "EWS delay diff fr (as)": -125.1111186448469,
          "EWS delay diff to (as)": -69.4353880797137,
          "KE range (eV)": "7.2–13.6",
          "Photon energy fr (eV)": 15.9,
          "Photon energy to (eV)": 19.1,
          "Polar ang (deg)": 57.5,
          "Polar ang fr (deg)": 55,
          "Polar ang to (deg)": 60
         },
         {
          "EWS delay diff (as)": 156.731112971093,
          "EWS delay diff err (as)": 37.5754926969003,
          "EWS delay diff fr (as)": 119.15562027419271,
          "EWS delay diff to (as)": 194.30660566799332,
          "KE range (eV)": "4.0–7.2",
          "Photon energy fr (eV)": 14.3,
          "Photon energy to (eV)": 15.9,
          "Polar ang (deg)": 62.5,
          "Polar ang fr (deg)": 60,
          "Polar ang to (deg)": 65
         },
         {
          "EWS delay diff (as)": -91.245427007087,
          "EWS delay diff err (as)": 21.7414201013693,
          "EWS delay diff fr (as)": -112.9868471084563,
          "EWS delay diff to (as)": -69.5040069057177,
          "KE range (eV)": "7.2–13.6",
          "Photon energy fr (eV)": 15.9,
          "Photon energy to (eV)": 19.1,
          "Polar ang (deg)": 62.5,
          "Polar ang fr (deg)": 60,
          "Polar ang to (deg)": 65
         },
         {
          "EWS delay diff (as)": 202.835617552951,
          "EWS delay diff err (as)": 45.7140141674859,
          "EWS delay diff fr (as)": 157.1216033854651,
          "EWS delay diff to (as)": 248.54963172043688,
          "KE range (eV)": "4.0–7.2",
          "Photon energy fr (eV)": 14.3,
          "Photon energy to (eV)": 15.9,
          "Polar ang (deg)": 67.5,
          "Polar ang fr (deg)": 65,
          "Polar ang to (deg)": 70
         },
         {
          "EWS delay diff (as)": -105.797047333892,
          "EWS delay diff err (as)": 24.2674144158551,
          "EWS delay diff fr (as)": -130.0644617497471,
          "EWS delay diff to (as)": -81.5296329180369,
          "KE range (eV)": "7.2–13.6",
          "Photon energy fr (eV)": 15.9,
          "Photon energy to (eV)": 19.1,
          "Polar ang (deg)": 67.5,
          "Polar ang fr (deg)": 65,
          "Polar ang to (deg)": 70
         },
         {
          "EWS delay diff (as)": 201.942603537794,
          "EWS delay diff err (as)": 52.9923400774187,
          "EWS delay diff fr (as)": 148.9502634603753,
          "EWS delay diff to (as)": 254.93494361521272,
          "KE range (eV)": "4.0–7.2",
          "Photon energy fr (eV)": 14.3,
          "Photon energy to (eV)": 15.9,
          "Polar ang (deg)": 72.5,
          "Polar ang fr (deg)": 70,
          "Polar ang to (deg)": 75
         },
         {
          "EWS delay diff (as)": -87.1970658738628,
          "EWS delay diff err (as)": 28.0080320170577,
          "EWS delay diff fr (as)": -115.2050978909205,
          "EWS delay diff to (as)": -59.189033856805096,
          "KE range (eV)": "7.2–13.6",
          "Photon energy fr (eV)": 15.9,
          "Photon energy to (eV)": 19.1,
          "Polar ang (deg)": 72.5,
          "Polar ang fr (deg)": 70,
          "Polar ang to (deg)": 75
         },
         {
          "EWS delay diff (as)": 228.359633504914,
          "EWS delay diff err (as)": 64.9223447782625,
          "EWS delay diff fr (as)": 163.4372887266515,
          "EWS delay diff to (as)": 293.2819782831765,
          "KE range (eV)": "4.0–7.2",
          "Photon energy fr (eV)": 14.3,
          "Photon energy to (eV)": 15.9,
          "Polar ang (deg)": 77.5,
          "Polar ang fr (deg)": 75,
          "Polar ang to (deg)": 80
         },
         {
          "EWS delay diff (as)": -93.5170485933893,
          "EWS delay diff err (as)": 32.9181921846856,
          "EWS delay diff fr (as)": -126.4352407780749,
          "EWS delay diff to (as)": -60.5988564087037,
          "KE range (eV)": "7.2–13.6",
          "Photon energy fr (eV)": 15.9,
          "Photon energy to (eV)": 19.1,
          "Polar ang (deg)": 77.5,
          "Polar ang fr (deg)": 75,
          "Polar ang to (deg)": 80
         },
         {
          "EWS delay diff (as)": 227.262912038755,
          "EWS delay diff err (as)": 134.740094505891,
          "EWS delay diff fr (as)": 92.522817532864,
          "EWS delay diff to (as)": 362.003006544646,
          "KE range (eV)": "4.0–7.2",
          "Photon energy fr (eV)": 14.3,
          "Photon energy to (eV)": 15.9,
          "Polar ang (deg)": 82.5,
          "Polar ang fr (deg)": 80,
          "Polar ang to (deg)": 85
         },
         {
          "EWS delay diff (as)": -102.283163729139,
          "EWS delay diff err (as)": 55.4324176835449,
          "EWS delay diff fr (as)": -157.7155814126839,
          "EWS delay diff to (as)": -46.85074604559411,
          "KE range (eV)": "7.2–13.6",
          "Photon energy fr (eV)": 15.9,
          "Photon energy to (eV)": 19.1,
          "Polar ang (deg)": 82.5,
          "Polar ang fr (deg)": 80,
          "Polar ang to (deg)": 85
         },
         {
          "EWS delay diff (as)": 238.236584112929,
          "EWS delay diff err (as)": 275.409368943996,
          "EWS delay diff fr (as)": -37.17278483106702,
          "EWS delay diff to (as)": 513.645953056925,
          "KE range (eV)": "4.0–7.2",
          "Photon energy fr (eV)": 14.3,
          "Photon energy to (eV)": 15.9,
          "Polar ang (deg)": 87.5,
          "Polar ang fr (deg)": 85,
          "Polar ang to (deg)": 90
         },
         {
          "EWS delay diff (as)": -102.252852302643,
          "EWS delay diff err (as)": 155.526027229847,
          "EWS delay diff fr (as)": -257.77887953249,
          "EWS delay diff to (as)": 53.27317492720398,
          "KE range (eV)": "7.2–13.6",
          "Photon energy fr (eV)": 15.9,
          "Photon energy to (eV)": 19.1,
          "Polar ang (deg)": 87.5,
          "Polar ang fr (deg)": 85,
          "Polar ang to (deg)": 90
         },
         {
          "EWS delay diff (as)": 238.236641427647,
          "EWS delay diff err (as)": 275.409344276933,
          "EWS delay diff fr (as)": -37.172702849286,
          "EWS delay diff to (as)": 513.64598570458,
          "KE range (eV)": "4.0–7.2",
          "Photon energy fr (eV)": 14.3,
          "Photon energy to (eV)": 15.9,
          "Polar ang (deg)": 92.5,
          "Polar ang fr (deg)": 90,
          "Polar ang to (deg)": 95
         },
         {
          "EWS delay diff (as)": -102.252874111968,
          "EWS delay diff err (as)": 155.525997708207,
          "EWS delay diff fr (as)": -257.778871820175,
          "EWS delay diff to (as)": 53.273123596239,
          "KE range (eV)": "7.2–13.6",
          "Photon energy fr (eV)": 15.9,
          "Photon energy to (eV)": 19.1,
          "Polar ang (deg)": 92.5,
          "Polar ang fr (deg)": 90,
          "Polar ang to (deg)": 95
         },
         {
          "EWS delay diff (as)": 227.262895797791,
          "EWS delay diff err (as)": 134.740091945187,
          "EWS delay diff fr (as)": 92.522803852604,
          "EWS delay diff to (as)": 362.002987742978,
          "KE range (eV)": "4.0–7.2",
          "Photon energy fr (eV)": 14.3,
          "Photon energy to (eV)": 15.9,
          "Polar ang (deg)": 97.5,
          "Polar ang fr (deg)": 95,
          "Polar ang to (deg)": 100
         },
         {
          "EWS delay diff (as)": -102.283162559404,
          "EWS delay diff err (as)": 55.4324125616051,
          "EWS delay diff fr (as)": -157.7155751210091,
          "EWS delay diff to (as)": -46.85074999779891,
          "KE range (eV)": "7.2–13.6",
          "Photon energy fr (eV)": 15.9,
          "Photon energy to (eV)": 19.1,
          "Polar ang (deg)": 97.5,
          "Polar ang fr (deg)": 95,
          "Polar ang to (deg)": 100
         },
         {
          "EWS delay diff (as)": 228.359635130551,
          "EWS delay diff err (as)": 64.9223456350661,
          "EWS delay diff fr (as)": 163.4372894954849,
          "EWS delay diff to (as)": 293.2819807656171,
          "KE range (eV)": "4.0–7.2",
          "Photon energy fr (eV)": 14.3,
          "Photon energy to (eV)": 15.9,
          "Polar ang (deg)": 102.5,
          "Polar ang fr (deg)": 100,
          "Polar ang to (deg)": 105
         },
         {
          "EWS delay diff (as)": -93.5170507948434,
          "EWS delay diff err (as)": 32.9181932355456,
          "EWS delay diff fr (as)": -126.435244030389,
          "EWS delay diff to (as)": -60.5988575592978,
          "KE range (eV)": "7.2–13.6",
          "Photon energy fr (eV)": 15.9,
          "Photon energy to (eV)": 19.1,
          "Polar ang (deg)": 102.5,
          "Polar ang fr (deg)": 100,
          "Polar ang to (deg)": 105
         },
         {
          "EWS delay diff (as)": 187.759662440438,
          "EWS delay diff err (as)": 58.3570766521536,
          "EWS delay diff fr (as)": 129.4025857882844,
          "EWS delay diff to (as)": 246.11673909259162,
          "KE range (eV)": "4.0–7.2",
          "Photon energy fr (eV)": 14.3,
          "Photon energy to (eV)": 15.9,
          "Polar ang (deg)": 107.5,
          "Polar ang fr (deg)": 105,
          "Polar ang to (deg)": 110
         },
         {
          "EWS delay diff (as)": -80.1055936301072,
          "EWS delay diff err (as)": 30.5579761882982,
          "EWS delay diff fr (as)": -110.66356981840539,
          "EWS delay diff to (as)": -49.547617441808995,
          "KE range (eV)": "7.2–13.6",
          "Photon energy fr (eV)": 15.9,
          "Photon energy to (eV)": 19.1,
          "Polar ang (deg)": 107.5,
          "Polar ang fr (deg)": 105,
          "Polar ang to (deg)": 110
         },
         {
          "EWS delay diff (as)": 202.835617876171,
          "EWS delay diff err (as)": 45.7140133881497,
          "EWS delay diff fr (as)": 157.1216044880213,
          "EWS delay diff to (as)": 248.5496312643207,
          "KE range (eV)": "4.0–7.2",
          "Photon energy fr (eV)": 14.3,
          "Photon energy to (eV)": 15.9,
          "Polar ang (deg)": 112.5,
          "Polar ang fr (deg)": 110,
          "Polar ang to (deg)": 115
         },
         {
          "EWS delay diff (as)": -105.797047358783,
          "EWS delay diff err (as)": 24.2674145602844,
          "EWS delay diff fr (as)": -130.0644619190674,
          "EWS delay diff to (as)": -81.5296327984986,
          "KE range (eV)": "7.2–13.6",
          "Photon energy fr (eV)": 15.9,
          "Photon energy to (eV)": 19.1,
          "Polar ang (deg)": 112.5,
          "Polar ang fr (deg)": 110,
          "Polar ang to (deg)": 115
         },
         {
          "EWS delay diff (as)": 156.731113860821,
          "EWS delay diff err (as)": 37.575492896829,
          "EWS delay diff fr (as)": 119.15562096399202,
          "EWS delay diff to (as)": 194.30660675765,
          "KE range (eV)": "4.0–7.2",
          "Photon energy fr (eV)": 14.3,
          "Photon energy to (eV)": 15.9,
          "Polar ang (deg)": 117.5,
          "Polar ang fr (deg)": 115,
          "Polar ang to (deg)": 120
         },
         {
          "EWS delay diff (as)": -91.2454270724033,
          "EWS delay diff err (as)": 21.7414200539258,
          "EWS delay diff fr (as)": -112.98684712632911,
          "EWS delay diff to (as)": -69.5040070184775,
          "KE range (eV)": "7.2–13.6",
          "Photon energy fr (eV)": 15.9,
          "Photon energy to (eV)": 19.1,
          "Polar ang (deg)": 117.5,
          "Polar ang fr (deg)": 115,
          "Polar ang to (deg)": 120
         },
         {
          "EWS delay diff (as)": 148.601361818425,
          "EWS delay diff err (as)": 53.220217558038,
          "EWS delay diff fr (as)": 95.381144260387,
          "EWS delay diff to (as)": 201.821579376463,
          "KE range (eV)": "4.0–7.2",
          "Photon energy fr (eV)": 14.3,
          "Photon energy to (eV)": 15.9,
          "Polar ang (deg)": 122.5,
          "Polar ang fr (deg)": 120,
          "Polar ang to (deg)": 125
         },
         {
          "EWS delay diff (as)": -97.2732559307737,
          "EWS delay diff err (as)": 27.8378645940292,
          "EWS delay diff fr (as)": -125.1111205248029,
          "EWS delay diff to (as)": -69.4353913367445,
          "KE range (eV)": "7.2–13.6",
          "Photon energy fr (eV)": 15.9,
          "Photon energy to (eV)": 19.1,
          "Polar ang (deg)": 122.5,
          "Polar ang fr (deg)": 120,
          "Polar ang to (deg)": 125
         },
         {
          "EWS delay diff (as)": 87.6921755178039,
          "EWS delay diff err (as)": 42.0644135981069,
          "EWS delay diff fr (as)": 45.627761919697,
          "EWS delay diff to (as)": 129.7565891159108,
          "KE range (eV)": "4.0–7.2",
          "Photon energy fr (eV)": 14.3,
          "Photon energy to (eV)": 15.9,
          "Polar ang (deg)": 127.5,
          "Polar ang fr (deg)": 125,
          "Polar ang to (deg)": 130
         },
         {
          "EWS delay diff (as)": -67.6402084081681,
          "EWS delay diff err (as)": 22.2004708607418,
          "EWS delay diff fr (as)": -89.84067926890991,
          "EWS delay diff to (as)": -45.439737547426304,
          "KE range (eV)": "7.2–13.6",
          "Photon energy fr (eV)": 15.9,
          "Photon energy to (eV)": 19.1,
          "Polar ang (deg)": 127.5,
          "Polar ang fr (deg)": 125,
          "Polar ang to (deg)": 130
         },
         {
          "EWS delay diff (as)": 8.57783276884521,
          "EWS delay diff err (as)": 41.1442011705192,
          "EWS delay diff fr (as)": -32.56636840167399,
          "EWS delay diff to (as)": 49.722033939364415,
          "KE range (eV)": "4.0–7.2",
          "Photon energy fr (eV)": 14.3,
          "Photon energy to (eV)": 15.9,
          "Polar ang (deg)": 132.5,
          "Polar ang fr (deg)": 130,
          "Polar ang to (deg)": 135
         },
         {
          "EWS delay diff (as)": -39.9782803248896,
          "EWS delay diff err (as)": 21.9356614182083,
          "EWS delay diff fr (as)": -61.91394174309791,
          "EWS delay diff to (as)": -18.0426189066813,
          "KE range (eV)": "7.2–13.6",
          "Photon energy fr (eV)": 15.9,
          "Photon energy to (eV)": 19.1,
          "Polar ang (deg)": 132.5,
          "Polar ang fr (deg)": 130,
          "Polar ang to (deg)": 135
         },
         {
          "EWS delay diff (as)": -14.778293162138,
          "EWS delay diff err (as)": 35.4467051876995,
          "EWS delay diff fr (as)": -50.2249983498375,
          "EWS delay diff to (as)": 20.6684120255615,
          "KE range (eV)": "4.0–7.2",
          "Photon energy fr (eV)": 14.3,
          "Photon energy to (eV)": 15.9,
          "Polar ang (deg)": 137.5,
          "Polar ang fr (deg)": 135,
          "Polar ang to (deg)": 140
         },
         {
          "EWS delay diff (as)": -24.7937159803859,
          "EWS delay diff err (as)": 16.8359117377925,
          "EWS delay diff fr (as)": -41.6296277181784,
          "EWS delay diff to (as)": -7.957804242593401,
          "KE range (eV)": "7.2–13.6",
          "Photon energy fr (eV)": 15.9,
          "Photon energy to (eV)": 19.1,
          "Polar ang (deg)": 137.5,
          "Polar ang fr (deg)": 135,
          "Polar ang to (deg)": 140
         },
         {
          "EWS delay diff (as)": -47.422080732729,
          "EWS delay diff err (as)": 28.9818861666376,
          "EWS delay diff fr (as)": -76.4039668993666,
          "EWS delay diff to (as)": -18.4401945660914,
          "KE range (eV)": "4.0–7.2",
          "Photon energy fr (eV)": 14.3,
          "Photon energy to (eV)": 15.9,
          "Polar ang (deg)": 142.5,
          "Polar ang fr (deg)": 140,
          "Polar ang to (deg)": 145
         },
         {
          "EWS delay diff (as)": -1.92624638334291,
          "EWS delay diff err (as)": 14.1676151739109,
          "EWS delay diff fr (as)": -16.09386155725381,
          "EWS delay diff to (as)": 12.24136879056799,
          "KE range (eV)": "7.2–13.6",
          "Photon energy fr (eV)": 15.9,
          "Photon energy to (eV)": 19.1,
          "Polar ang (deg)": 142.5,
          "Polar ang fr (deg)": 140,
          "Polar ang to (deg)": 145
         },
         {
          "EWS delay diff (as)": -26.8464367979766,
          "EWS delay diff err (as)": 28.1031942519228,
          "EWS delay diff fr (as)": -54.9496310498994,
          "EWS delay diff to (as)": 1.2567574539462,
          "KE range (eV)": "4.0–7.2",
          "Photon energy fr (eV)": 14.3,
          "Photon energy to (eV)": 15.9,
          "Polar ang (deg)": 147.5,
          "Polar ang fr (deg)": 145,
          "Polar ang to (deg)": 150
         },
         {
          "EWS delay diff (as)": -3.61667781704717,
          "EWS delay diff err (as)": 12.5159933296279,
          "EWS delay diff fr (as)": -16.13267114667507,
          "EWS delay diff to (as)": 8.89931551258073,
          "KE range (eV)": "7.2–13.6",
          "Photon energy fr (eV)": 15.9,
          "Photon energy to (eV)": 19.1,
          "Polar ang (deg)": 147.5,
          "Polar ang fr (deg)": 145,
          "Polar ang to (deg)": 150
         },
         {
          "EWS delay diff (as)": -46.4486824558314,
          "EWS delay diff err (as)": 25.9890724043667,
          "EWS delay diff fr (as)": -72.4377548601981,
          "EWS delay diff to (as)": -20.459610051464704,
          "KE range (eV)": "4.0–7.2",
          "Photon energy fr (eV)": 14.3,
          "Photon energy to (eV)": 15.9,
          "Polar ang (deg)": 152.5,
          "Polar ang fr (deg)": 150,
          "Polar ang to (deg)": 155
         },
         {
          "EWS delay diff (as)": 8.09113889446691,
          "EWS delay diff err (as)": 11.4752960041055,
          "EWS delay diff fr (as)": -3.38415710963859,
          "EWS delay diff to (as)": 19.56643489857241,
          "KE range (eV)": "7.2–13.6",
          "Photon energy fr (eV)": 15.9,
          "Photon energy to (eV)": 19.1,
          "Polar ang (deg)": 152.5,
          "Polar ang fr (deg)": 150,
          "Polar ang to (deg)": 155
         },
         {
          "EWS delay diff (as)": -16.0386090152756,
          "EWS delay diff err (as)": 25.0708515428285,
          "EWS delay diff fr (as)": -41.109460558104104,
          "EWS delay diff to (as)": 9.0322425275529,
          "KE range (eV)": "4.0–7.2",
          "Photon energy fr (eV)": 14.3,
          "Photon energy to (eV)": 15.9,
          "Polar ang (deg)": 157.5,
          "Polar ang fr (deg)": 155,
          "Polar ang to (deg)": 160
         },
         {
          "EWS delay diff (as)": 6.11147515646384,
          "EWS delay diff err (as)": 11.2116089678142,
          "EWS delay diff fr (as)": -5.100133811350361,
          "EWS delay diff to (as)": 17.32308412427804,
          "KE range (eV)": "7.2–13.6",
          "Photon energy fr (eV)": 15.9,
          "Photon energy to (eV)": 19.1,
          "Polar ang (deg)": 157.5,
          "Polar ang fr (deg)": 155,
          "Polar ang to (deg)": 160
         },
         {
          "EWS delay diff (as)": 13.2305804073432,
          "EWS delay diff err (as)": 20.1406529932466,
          "EWS delay diff fr (as)": -6.9100725859034,
          "EWS delay diff to (as)": 33.3712334005898,
          "KE range (eV)": "4.0–7.2",
          "Photon energy fr (eV)": 14.3,
          "Photon energy to (eV)": 15.9,
          "Polar ang (deg)": 162.5,
          "Polar ang fr (deg)": 160,
          "Polar ang to (deg)": 165
         },
         {
          "EWS delay diff (as)": -4.00653807462194,
          "EWS delay diff err (as)": 9.09830033708113,
          "EWS delay diff fr (as)": -13.104838411703069,
          "EWS delay diff to (as)": 5.09176226245919,
          "KE range (eV)": "7.2–13.6",
          "Photon energy fr (eV)": 15.9,
          "Photon energy to (eV)": 19.1,
          "Polar ang (deg)": 162.5,
          "Polar ang fr (deg)": 160,
          "Polar ang to (deg)": 165
         },
         {
          "EWS delay diff (as)": -4.64439352593619,
          "EWS delay diff err (as)": 19.6569761819577,
          "EWS delay diff fr (as)": -24.30136970789389,
          "EWS delay diff to (as)": 15.01258265602151,
          "KE range (eV)": "4.0–7.2",
          "Photon energy fr (eV)": 14.3,
          "Photon energy to (eV)": 15.9,
          "Polar ang (deg)": 167.5,
          "Polar ang fr (deg)": 165,
          "Polar ang to (deg)": 170
         },
         {
          "EWS delay diff (as)": 9.13907813455316,
          "EWS delay diff err (as)": 9.28205651131994,
          "EWS delay diff fr (as)": -0.1429783767667807,
          "EWS delay diff to (as)": 18.4211346458731,
          "KE range (eV)": "7.2–13.6",
          "Photon energy fr (eV)": 15.9,
          "Photon energy to (eV)": 19.1,
          "Polar ang (deg)": 167.5,
          "Polar ang fr (deg)": 165,
          "Polar ang to (deg)": 170
         },
         {
          "EWS delay diff (as)": 21.9179164004239,
          "EWS delay diff err (as)": 21.2662217610885,
          "EWS delay diff fr (as)": 0.6516946393353997,
          "EWS delay diff to (as)": 43.184138161512394,
          "KE range (eV)": "4.0–7.2",
          "Photon energy fr (eV)": 14.3,
          "Photon energy to (eV)": 15.9,
          "Polar ang (deg)": 172.5,
          "Polar ang fr (deg)": 170,
          "Polar ang to (deg)": 175
         },
         {
          "EWS delay diff (as)": -1.46058971420256,
          "EWS delay diff err (as)": 10.0493172955229,
          "EWS delay diff fr (as)": -11.50990700972546,
          "EWS delay diff to (as)": 8.588727581320342,
          "KE range (eV)": "7.2–13.6",
          "Photon energy fr (eV)": 15.9,
          "Photon energy to (eV)": 19.1,
          "Polar ang (deg)": 172.5,
          "Polar ang fr (deg)": 170,
          "Polar ang to (deg)": 175
         },
         {
          "EWS delay diff (as)": 7.55880154134318,
          "EWS delay diff err (as)": 27.092306237696,
          "EWS delay diff fr (as)": -19.53350469635282,
          "EWS delay diff to (as)": 34.65110777903918,
          "KE range (eV)": "4.0–7.2",
          "Photon energy fr (eV)": 14.3,
          "Photon energy to (eV)": 15.9,
          "Polar ang (deg)": 177.5,
          "Polar ang fr (deg)": 175,
          "Polar ang to (deg)": 180
         },
         {
          "EWS delay diff (as)": 10.0633947055931,
          "EWS delay diff err (as)": 9.43788477463288,
          "EWS delay diff fr (as)": 0.6255099309602201,
          "EWS delay diff to (as)": 19.50127948022598,
          "KE range (eV)": "7.2–13.6",
          "Photon energy fr (eV)": 15.9,
          "Photon energy to (eV)": 19.1,
          "Polar ang (deg)": 177.5,
          "Polar ang fr (deg)": 175,
          "Polar ang to (deg)": 180
         }
        ],
        "data-20d30a8d055a2ba37c4d5f58c792a945": [
         {
          "EWS delay diff (as)": 10.9001056544327,
          "KE range (eV)": "4.0–7.2",
          "Photon energy fr (eV)": 14.3,
          "Photon energy to (eV)": 15.9,
          "Polar ang (deg)": 0
         },
         {
          "EWS delay diff (as)": 11.7382200443937,
          "KE range (eV)": "7.2–13.6",
          "Photon energy fr (eV)": 15.9,
          "Photon energy to (eV)": 19.1,
          "Polar ang (deg)": 0
         },
         {
          "EWS delay diff (as)": 10.6947537781382,
          "KE range (eV)": "4.0–7.2",
          "Photon energy fr (eV)": 14.3,
          "Photon energy to (eV)": 15.9,
          "Polar ang (deg)": 5.72957795130823
         },
         {
          "EWS delay diff (as)": 11.8532925388111,
          "KE range (eV)": "7.2–13.6",
          "Photon energy fr (eV)": 15.9,
          "Photon energy to (eV)": 19.1,
          "Polar ang (deg)": 5.72957795130823
         },
         {
          "EWS delay diff (as)": 10.0735059783899,
          "KE range (eV)": "4.0–7.2",
          "Photon energy fr (eV)": 14.3,
          "Photon energy to (eV)": 15.9,
          "Polar ang (deg)": 11.4591559026165
         },
         {
          "EWS delay diff (as)": 12.2052290643046,
          "KE range (eV)": "7.2–13.6",
          "Photon energy fr (eV)": 15.9,
          "Photon energy to (eV)": 19.1,
          "Polar ang (deg)": 11.4591559026165
         },
         {
          "EWS delay diff (as)": 9.02347843899462,
          "KE range (eV)": "4.0–7.2",
          "Photon energy fr (eV)": 14.3,
          "Photon energy to (eV)": 15.9,
          "Polar ang (deg)": 17.1887338539247
         },
         {
          "EWS delay diff (as)": 12.8142385205324,
          "KE range (eV)": "7.2–13.6",
          "Photon energy fr (eV)": 15.9,
          "Photon energy to (eV)": 19.1,
          "Polar ang (deg)": 17.1887338539247
         },
         {
          "EWS delay diff (as)": 7.53478224364059,
          "KE range (eV)": "4.0–7.2",
          "Photon energy fr (eV)": 14.3,
          "Photon energy to (eV)": 15.9,
          "Polar ang (deg)": 22.9183118052329
         },
         {
          "EWS delay diff (as)": 13.713461928264,
          "KE range (eV)": "7.2–13.6",
          "Photon energy fr (eV)": 15.9,
          "Photon energy to (eV)": 19.1,
          "Polar ang (deg)": 22.9183118052329
         },
         {
          "EWS delay diff (as)": 5.62948985470597,
          "KE range (eV)": "4.0–7.2",
          "Photon energy fr (eV)": 14.3,
          "Photon energy to (eV)": 15.9,
          "Polar ang (deg)": 28.6478897565412
         },
         {
          "EWS delay diff (as)": 14.9446731851372,
          "KE range (eV)": "7.2–13.6",
          "Photon energy fr (eV)": 15.9,
          "Photon energy to (eV)": 19.1,
          "Polar ang (deg)": 28.6478897565412
         },
         {
          "EWS delay diff (as)": 3.4368646421965,
          "KE range (eV)": "4.0–7.2",
          "Photon energy fr (eV)": 14.3,
          "Photon energy to (eV)": 15.9,
          "Polar ang (deg)": 34.3774677078494
         },
         {
          "EWS delay diff (as)": 16.5403038176752,
          "KE range (eV)": "7.2–13.6",
          "Photon energy fr (eV)": 15.9,
          "Photon energy to (eV)": 19.1,
          "Polar ang (deg)": 34.3774677078494
         },
         {
          "EWS delay diff (as)": 1.38874356261038,
          "KE range (eV)": "4.0–7.2",
          "Photon energy fr (eV)": 14.3,
          "Photon energy to (eV)": 15.9,
          "Polar ang (deg)": 40.1070456591576
         },
         {
          "EWS delay diff (as)": 18.4610337896398,
          "KE range (eV)": "7.2–13.6",
          "Photon energy fr (eV)": 15.9,
          "Photon energy to (eV)": 19.1,
          "Polar ang (deg)": 40.1070456591576
         },
         {
          "EWS delay diff (as)": 0.727408392461059,
          "KE range (eV)": "4.0–7.2",
          "Photon energy fr (eV)": 14.3,
          "Photon energy to (eV)": 15.9,
          "Polar ang (deg)": 45.8366236104659
         },
         {
          "EWS delay diff (as)": 20.3951429243384,
          "KE range (eV)": "7.2–13.6",
          "Photon energy fr (eV)": 15.9,
          "Photon energy to (eV)": 19.1,
          "Polar ang (deg)": 45.8366236104659
         },
         {
          "EWS delay diff (as)": 4.77333934375405,
          "KE range (eV)": "4.0–7.2",
          "Photon energy fr (eV)": 14.3,
          "Photon energy to (eV)": 15.9,
          "Polar ang (deg)": 51.5662015617741
         },
         {
          "EWS delay diff (as)": 21.1601961371835,
          "KE range (eV)": "7.2–13.6",
          "Photon energy fr (eV)": 15.9,
          "Photon energy to (eV)": 19.1,
          "Polar ang (deg)": 51.5662015617741
         },
         {
          "EWS delay diff (as)": 21.4072750773242,
          "KE range (eV)": "4.0–7.2",
          "Photon energy fr (eV)": 14.3,
          "Photon energy to (eV)": 15.9,
          "Polar ang (deg)": 57.2957795130823
         },
         {
          "EWS delay diff (as)": 17.3000368745705,
          "KE range (eV)": "7.2–13.6",
          "Photon energy fr (eV)": 15.9,
          "Photon energy to (eV)": 19.1,
          "Polar ang (deg)": 57.2957795130823
         },
         {
          "EWS delay diff (as)": 62.3882335431817,
          "KE range (eV)": "4.0–7.2",
          "Photon energy fr (eV)": 14.3,
          "Photon energy to (eV)": 15.9,
          "Polar ang (deg)": 63.0253574643906
         },
         {
          "EWS delay diff (as)": 2.72257944369299,
          "KE range (eV)": "7.2–13.6",
          "Photon energy fr (eV)": 15.9,
          "Photon energy to (eV)": 19.1,
          "Polar ang (deg)": 63.0253574643906
         },
         {
          "EWS delay diff (as)": 119.955739236539,
          "KE range (eV)": "4.0–7.2",
          "Photon energy fr (eV)": 14.3,
          "Photon energy to (eV)": 15.9,
          "Polar ang (deg)": 68.7549354156988
         },
         {
          "EWS delay diff (as)": -20.3630859747022,
          "KE range (eV)": "7.2–13.6",
          "Photon energy fr (eV)": 15.9,
          "Photon energy to (eV)": 19.1,
          "Polar ang (deg)": 68.7549354156988
         },
         {
          "EWS delay diff (as)": 158.867873397529,
          "KE range (eV)": "4.0–7.2",
          "Photon energy fr (eV)": 14.3,
          "Photon energy to (eV)": 15.9,
          "Polar ang (deg)": 74.484513367007
         },
         {
          "EWS delay diff (as)": -36.2391765344191,
          "KE range (eV)": "7.2–13.6",
          "Photon energy fr (eV)": 15.9,
          "Photon energy to (eV)": 19.1,
          "Polar ang (deg)": 74.484513367007
         },
         {
          "EWS delay diff (as)": 173.229263134172,
          "KE range (eV)": "4.0–7.2",
          "Photon energy fr (eV)": 14.3,
          "Photon energy to (eV)": 15.9,
          "Polar ang (deg)": 80.2140913183153
         },
         {
          "EWS delay diff (as)": -42.0543370693914,
          "KE range (eV)": "7.2–13.6",
          "Photon energy fr (eV)": 15.9,
          "Photon energy to (eV)": 19.1,
          "Polar ang (deg)": 80.2140913183153
         },
         {
          "EWS delay diff (as)": 176.531934015012,
          "KE range (eV)": "4.0–7.2",
          "Photon energy fr (eV)": 14.3,
          "Photon energy to (eV)": 15.9,
          "Polar ang (deg)": 85.9436692696235
         },
         {
          "EWS delay diff (as)": -43.4467147986096,
          "KE range (eV)": "7.2–13.6",
          "Photon energy fr (eV)": 15.9,
          "Photon energy to (eV)": 19.1,
          "Polar ang (deg)": 85.9436692696235
         },
         {
          "EWS delay diff (as)": 176.812287023413,
          "KE range (eV)": "4.0–7.2",
          "Photon energy fr (eV)": 14.3,
          "Photon energy to (eV)": 15.9,
          "Polar ang (deg)": 91.6732472209317
         },
         {
          "EWS delay diff (as)": -43.5780322220127,
          "KE range (eV)": "7.2–13.6",
          "Photon energy fr (eV)": 15.9,
          "Photon energy to (eV)": 19.1,
          "Polar ang (deg)": 91.6732472209317
         },
         {
          "EWS delay diff (as)": 175.304687756342,
          "KE range (eV)": "4.0–7.2",
          "Photon energy fr (eV)": 14.3,
          "Photon energy to (eV)": 15.9,
          "Polar ang (deg)": 97.4028251722399
         },
         {
          "EWS delay diff (as)": -42.9139048082052,
          "KE range (eV)": "7.2–13.6",
          "Photon energy fr (eV)": 15.9,
          "Photon energy to (eV)": 19.1,
          "Polar ang (deg)": 97.4028251722399
         },
         {
          "EWS delay diff (as)": 167.037302040683,
          "KE range (eV)": "4.0–7.2",
          "Photon energy fr (eV)": 14.3,
          "Photon energy to (eV)": 15.9,
          "Polar ang (deg)": 103.132403123548
         },
         {
          "EWS delay diff (as)": -39.5434316447322,
          "KE range (eV)": "7.2–13.6",
          "Photon energy fr (eV)": 15.9,
          "Photon energy to (eV)": 19.1,
          "Polar ang (deg)": 103.132403123548
         },
         {
          "EWS delay diff (as)": 139.719898851101,
          "KE range (eV)": "4.0–7.2",
          "Photon energy fr (eV)": 14.3,
          "Photon energy to (eV)": 15.9,
          "Polar ang (deg)": 108.861981074856
         },
         {
          "EWS delay diff (as)": -28.4453543754826,
          "KE range (eV)": "7.2–13.6",
          "Photon energy fr (eV)": 15.9,
          "Photon energy to (eV)": 19.1,
          "Polar ang (deg)": 108.861981074856
         },
         {
          "EWS delay diff (as)": 86.3187887574524,
          "KE range (eV)": "4.0–7.2",
          "Photon energy fr (eV)": 14.3,
          "Photon energy to (eV)": 15.9,
          "Polar ang (deg)": 114.591559026165
         },
         {
          "EWS delay diff (as)": -6.71259881893693,
          "KE range (eV)": "7.2–13.6",
          "Photon energy fr (eV)": 15.9,
          "Photon energy to (eV)": 19.1,
          "Polar ang (deg)": 114.591559026165
         },
         {
          "EWS delay diff (as)": 35.0239992488374,
          "KE range (eV)": "4.0–7.2",
          "Photon energy fr (eV)": 14.3,
          "Photon energy to (eV)": 15.9,
          "Polar ang (deg)": 120.321136977473
         },
         {
          "EWS delay diff (as)": 12.8363517506179,
          "KE range (eV)": "7.2–13.6",
          "Photon energy fr (eV)": 15.9,
          "Photon energy to (eV)": 19.1,
          "Polar ang (deg)": 120.321136977473
         },
         {
          "EWS delay diff (as)": 9.49023850024237,
          "KE range (eV)": "4.0–7.2",
          "Photon energy fr (eV)": 14.3,
          "Photon energy to (eV)": 15.9,
          "Polar ang (deg)": 126.050714928781
         },
         {
          "EWS delay diff (as)": 20.4372077288096,
          "KE range (eV)": "7.2–13.6",
          "Photon energy fr (eV)": 15.9,
          "Photon energy to (eV)": 19.1,
          "Polar ang (deg)": 126.050714928781
         },
         {
          "EWS delay diff (as)": 1.52353478388242,
          "KE range (eV)": "4.0–7.2",
          "Photon energy fr (eV)": 14.3,
          "Photon energy to (eV)": 15.9,
          "Polar ang (deg)": 131.780292880089
         },
         {
          "EWS delay diff (as)": 20.9807849878937,
          "KE range (eV)": "7.2–13.6",
          "Photon energy fr (eV)": 15.9,
          "Photon energy to (eV)": 19.1,
          "Polar ang (deg)": 131.780292880089
         },
         {
          "EWS delay diff (as)": 0.823396837540404,
          "KE range (eV)": "4.0–7.2",
          "Photon energy fr (eV)": 14.3,
          "Photon energy to (eV)": 15.9,
          "Polar ang (deg)": 137.509870831398
         },
         {
          "EWS delay diff (as)": 19.3010827189004,
          "KE range (eV)": "7.2–13.6",
          "Photon energy fr (eV)": 15.9,
          "Photon energy to (eV)": 19.1,
          "Polar ang (deg)": 137.509870831398
         },
         {
          "EWS delay diff (as)": 2.52346686967638,
          "KE range (eV)": "4.0–7.2",
          "Photon energy fr (eV)": 14.3,
          "Photon energy to (eV)": 15.9,
          "Polar ang (deg)": 143.239448782706
         },
         {
          "EWS delay diff (as)": 17.3076232128285,
          "KE range (eV)": "7.2–13.6",
          "Photon energy fr (eV)": 15.9,
          "Photon energy to (eV)": 19.1,
          "Polar ang (deg)": 143.239448782706
         },
         {
          "EWS delay diff (as)": 4.73794263892216,
          "KE range (eV)": "4.0–7.2",
          "Photon energy fr (eV)": 14.3,
          "Photon energy to (eV)": 15.9,
          "Polar ang (deg)": 148.969026734014
         },
         {
          "EWS delay diff (as)": 15.5635047978811,
          "KE range (eV)": "7.2–13.6",
          "Photon energy fr (eV)": 15.9,
          "Photon energy to (eV)": 19.1,
          "Polar ang (deg)": 148.969026734014
         },
         {
          "EWS delay diff (as)": 6.78925560525045,
          "KE range (eV)": "4.0–7.2",
          "Photon energy fr (eV)": 14.3,
          "Photon energy to (eV)": 15.9,
          "Polar ang (deg)": 154.698604685322
         },
         {
          "EWS delay diff (as)": 14.18280115975,
          "KE range (eV)": "7.2–13.6",
          "Photon energy fr (eV)": 15.9,
          "Photon energy to (eV)": 19.1,
          "Polar ang (deg)": 154.698604685322
         },
         {
          "EWS delay diff (as)": 8.45753963849328,
          "KE range (eV)": "4.0–7.2",
          "Photon energy fr (eV)": 14.3,
          "Photon energy to (eV)": 15.9,
          "Polar ang (deg)": 160.42818263663
         },
         {
          "EWS delay diff (as)": 13.1507047322466,
          "KE range (eV)": "7.2–13.6",
          "Photon energy fr (eV)": 15.9,
          "Photon energy to (eV)": 19.1,
          "Polar ang (deg)": 160.42818263663
         },
         {
          "EWS delay diff (as)": 9.6896819718678,
          "KE range (eV)": "4.0–7.2",
          "Photon energy fr (eV)": 14.3,
          "Photon energy to (eV)": 15.9,
          "Polar ang (deg)": 166.157760587939
         },
         {
          "EWS delay diff (as)": 12.4256830457711,
          "KE range (eV)": "7.2–13.6",
          "Photon energy fr (eV)": 15.9,
          "Photon energy to (eV)": 19.1,
          "Polar ang (deg)": 166.157760587939
         },
         {
          "EWS delay diff (as)": 10.4875078233382,
          "KE range (eV)": "4.0–7.2",
          "Photon energy fr (eV)": 14.3,
          "Photon energy to (eV)": 15.9,
          "Polar ang (deg)": 171.887338539247
         },
         {
          "EWS delay diff (as)": 11.9700494977103,
          "KE range (eV)": "7.2–13.6",
          "Photon energy fr (eV)": 15.9,
          "Photon energy to (eV)": 19.1,
          "Polar ang (deg)": 171.887338539247
         },
         {
          "EWS delay diff (as)": 10.8646462897731,
          "KE range (eV)": "4.0–7.2",
          "Photon energy fr (eV)": 14.3,
          "Photon energy to (eV)": 15.9,
          "Polar ang (deg)": 177.616916490555
         },
         {
          "EWS delay diff (as)": 11.7580471071037,
          "KE range (eV)": "7.2–13.6",
          "Photon energy fr (eV)": 15.9,
          "Photon energy to (eV)": 19.1,
          "Polar ang (deg)": 177.616916490555
         }
        ],
        "data-2b9305226ea1649fdebd26075a316204": [
         {
          "EWS delay diff (as)": 8.60291253805253,
          "KE range (eV)": "4.0–7.2",
          "Photon energy fr (eV)": 14.3,
          "Photon energy to (eV)": 15.9,
          "Polar ang (deg)": 0
         },
         {
          "EWS delay diff (as)": 4.3841254217784,
          "KE range (eV)": "7.2–13.6",
          "Photon energy fr (eV)": 15.9,
          "Photon energy to (eV)": 19.1,
          "Polar ang (deg)": 0
         },
         {
          "EWS delay diff (as)": 8.54723793362702,
          "KE range (eV)": "4.0–7.2",
          "Photon energy fr (eV)": 14.3,
          "Photon energy to (eV)": 15.9,
          "Polar ang (deg)": 1
         },
         {
          "EWS delay diff (as)": 4.38829423901873,
          "KE range (eV)": "7.2–13.6",
          "Photon energy fr (eV)": 15.9,
          "Photon energy to (eV)": 19.1,
          "Polar ang (deg)": 1
         },
         {
          "EWS delay diff (as)": 8.38015813633129,
          "KE range (eV)": "4.0–7.2",
          "Photon energy fr (eV)": 14.3,
          "Photon energy to (eV)": 15.9,
          "Polar ang (deg)": 2
         },
         {
          "EWS delay diff (as)": 4.40078515522834,
          "KE range (eV)": "7.2–13.6",
          "Photon energy fr (eV)": 15.9,
          "Photon energy to (eV)": 19.1,
          "Polar ang (deg)": 2
         },
         {
          "EWS delay diff (as)": 8.10150708642052,
          "KE range (eV)": "4.0–7.2",
          "Photon energy fr (eV)": 14.3,
          "Photon energy to (eV)": 15.9,
          "Polar ang (deg)": 3
         },
         {
          "EWS delay diff (as)": 4.42155114460465,
          "KE range (eV)": "7.2–13.6",
          "Photon energy fr (eV)": 15.9,
          "Photon energy to (eV)": 19.1,
          "Polar ang (deg)": 3
         },
         {
          "EWS delay diff (as)": 7.711014385687,
          "KE range (eV)": "4.0–7.2",
          "Photon energy fr (eV)": 14.3,
          "Photon energy to (eV)": 15.9,
          "Polar ang (deg)": 4
         },
         {
          "EWS delay diff (as)": 4.45051242205439,
          "KE range (eV)": "7.2–13.6",
          "Photon energy fr (eV)": 15.9,
          "Photon energy to (eV)": 19.1,
          "Polar ang (deg)": 4
         },
         {
          "EWS delay diff (as)": 7.20831505172386,
          "KE range (eV)": "4.0–7.2",
          "Photon energy fr (eV)": 14.3,
          "Photon energy to (eV)": 15.9,
          "Polar ang (deg)": 5
         },
         {
          "EWS delay diff (as)": 4.48755429418086,
          "KE range (eV)": "7.2–13.6",
          "Photon energy fr (eV)": 15.9,
          "Photon energy to (eV)": 19.1,
          "Polar ang (deg)": 5
         },
         {
          "EWS delay diff (as)": 6.59296358843074,
          "KE range (eV)": "4.0–7.2",
          "Photon energy fr (eV)": 14.3,
          "Photon energy to (eV)": 15.9,
          "Polar ang (deg)": 6
         },
         {
          "EWS delay diff (as)": 4.53252407410332,
          "KE range (eV)": "7.2–13.6",
          "Photon energy fr (eV)": 15.9,
          "Photon energy to (eV)": 19.1,
          "Polar ang (deg)": 6
         },
         {
          "EWS delay diff (as)": 5.86445278898418,
          "KE range (eV)": "4.0–7.2",
          "Photon energy fr (eV)": 14.3,
          "Photon energy to (eV)": 15.9,
          "Polar ang (deg)": 7
         },
         {
          "EWS delay diff (as)": 4.5852269841022,
          "KE range (eV)": "7.2–13.6",
          "Photon energy fr (eV)": 15.9,
          "Photon energy to (eV)": 19.1,
          "Polar ang (deg)": 7
         },
         {
          "EWS delay diff (as)": 5.02223782676691,
          "KE range (eV)": "4.0–7.2",
          "Photon energy fr (eV)": 14.3,
          "Photon energy to (eV)": 15.9,
          "Polar ang (deg)": 8
         },
         {
          "EWS delay diff (as)": 4.64542094086453,
          "KE range (eV)": "7.2–13.6",
          "Photon energy fr (eV)": 15.9,
          "Photon energy to (eV)": 19.1,
          "Polar ang (deg)": 8
         },
         {
          "EWS delay diff (as)": 4.06576632777712,
          "KE range (eV)": "4.0–7.2",
          "Photon energy fr (eV)": 14.3,
          "Photon energy to (eV)": 15.9,
          "Polar ang (deg)": 9
         },
         {
          "EWS delay diff (as)": 4.71281008915027,
          "KE range (eV)": "7.2–13.6",
          "Photon energy fr (eV)": 15.9,
          "Photon energy to (eV)": 19.1,
          "Polar ang (deg)": 9
         },
         {
          "EWS delay diff (as)": 2.99451526985699,
          "KE range (eV)": "4.0–7.2",
          "Photon energy fr (eV)": 14.3,
          "Photon energy to (eV)": 15.9,
          "Polar ang (deg)": 10
         },
         {
          "EWS delay diff (as)": 4.78703691547986,
          "KE range (eV)": "7.2–13.6",
          "Photon energy fr (eV)": 15.9,
          "Photon energy to (eV)": 19.1,
          "Polar ang (deg)": 10
         },
         {
          "EWS delay diff (as)": 1.80803571753597,
          "KE range (eV)": "4.0–7.2",
          "Photon energy fr (eV)": 14.3,
          "Photon energy to (eV)": 15.9,
          "Polar ang (deg)": 11
         },
         {
          "EWS delay diff (as)": 4.86767273421416,
          "KE range (eV)": "7.2–13.6",
          "Photon energy fr (eV)": 15.9,
          "Photon energy to (eV)": 19.1,
          "Polar ang (deg)": 11
         },
         {
          "EWS delay diff (as)": 0.506006577600278,
          "KE range (eV)": "4.0–7.2",
          "Photon energy fr (eV)": 14.3,
          "Photon energy to (eV)": 15.9,
          "Polar ang (deg)": 12
         },
         {
          "EWS delay diff (as)": 4.95420629104616,
          "KE range (eV)": "7.2–13.6",
          "Photon energy fr (eV)": 15.9,
          "Photon energy to (eV)": 19.1,
          "Polar ang (deg)": 12
         },
         {
          "EWS delay diff (as)": -0.911701251775154,
          "KE range (eV)": "4.0–7.2",
          "Photon energy fr (eV)": 14.3,
          "Photon energy to (eV)": 15.9,
          "Polar ang (deg)": 13
         },
         {
          "EWS delay diff (as)": 5.04603017422278,
          "KE range (eV)": "7.2–13.6",
          "Photon energy fr (eV)": 15.9,
          "Photon energy to (eV)": 19.1,
          "Polar ang (deg)": 13
         },
         {
          "EWS delay diff (as)": -2.44494876319876,
          "KE range (eV)": "4.0–7.2",
          "Photon energy fr (eV)": 14.3,
          "Photon energy to (eV)": 15.9,
          "Polar ang (deg)": 14
         },
         {
          "EWS delay diff (as)": 5.1424246575949,
          "KE range (eV)": "7.2–13.6",
          "Photon energy fr (eV)": 15.9,
          "Photon energy to (eV)": 19.1,
          "Polar ang (deg)": 14
         },
         {
          "EWS delay diff (as)": -4.09323896528903,
          "KE range (eV)": "4.0–7.2",
          "Photon energy fr (eV)": 14.3,
          "Photon energy to (eV)": 15.9,
          "Polar ang (deg)": 15
         },
         {
          "EWS delay diff (as)": 5.24253851927207,
          "KE range (eV)": "7.2–13.6",
          "Photon energy fr (eV)": 15.9,
          "Photon energy to (eV)": 19.1,
          "Polar ang (deg)": 15
         },
         {
          "EWS delay diff (as)": -5.85561124308428,
          "KE range (eV)": "4.0–7.2",
          "Photon energy fr (eV)": 14.3,
          "Photon energy to (eV)": 15.9,
          "Polar ang (deg)": 16
         },
         {
          "EWS delay diff (as)": 5.34536628747797,
          "KE range (eV)": "7.2–13.6",
          "Photon energy fr (eV)": 15.9,
          "Photon energy to (eV)": 19.1,
          "Polar ang (deg)": 16
         },
         {
          "EWS delay diff (as)": -7.73051771052518,
          "KE range (eV)": "4.0–7.2",
          "Photon energy fr (eV)": 14.3,
          "Photon energy to (eV)": 15.9,
          "Polar ang (deg)": 17
         },
         {
          "EWS delay diff (as)": 5.44972124362474,
          "KE range (eV)": "7.2–13.6",
          "Photon energy fr (eV)": 15.9,
          "Photon energy to (eV)": 19.1,
          "Polar ang (deg)": 17
         },
         {
          "EWS delay diff (as)": -9.71567908817699,
          "KE range (eV)": "4.0–7.2",
          "Photon energy fr (eV)": 14.3,
          "Photon energy to (eV)": 15.9,
          "Polar ang (deg)": 18
         },
         {
          "EWS delay diff (as)": 5.5542033797196,
          "KE range (eV)": "7.2–13.6",
          "Photon energy fr (eV)": 15.9,
          "Photon energy to (eV)": 19.1,
          "Polar ang (deg)": 18
         },
         {
          "EWS delay diff (as)": -11.8079173946342,
          "KE range (eV)": "4.0–7.2",
          "Photon energy fr (eV)": 14.3,
          "Photon energy to (eV)": 15.9,
          "Polar ang (deg)": 19
         },
         {
          "EWS delay diff (as)": 5.65716132776856,
          "KE range (eV)": "7.2–13.6",
          "Photon energy fr (eV)": 15.9,
          "Photon energy to (eV)": 19.1,
          "Polar ang (deg)": 19
         },
         {
          "EWS delay diff (as)": -14.0029625255081,
          "KE range (eV)": "4.0–7.2",
          "Photon energy fr (eV)": 14.3,
          "Photon energy to (eV)": 15.9,
          "Polar ang (deg)": 20
         },
         {
          "EWS delay diff (as)": 5.75664707836351,
          "KE range (eV)": "7.2–13.6",
          "Photon energy fr (eV)": 15.9,
          "Photon energy to (eV)": 19.1,
          "Polar ang (deg)": 20
         },
         {
          "EWS delay diff (as)": -16.295229556283,
          "KE range (eV)": "4.0–7.2",
          "Photon energy fr (eV)": 14.3,
          "Photon energy to (eV)": 15.9,
          "Polar ang (deg)": 21
         },
         {
          "EWS delay diff (as)": 5.85036204317478,
          "KE range (eV)": "7.2–13.6",
          "Photon energy fr (eV)": 15.9,
          "Photon energy to (eV)": 19.1,
          "Polar ang (deg)": 21
         },
         {
          "EWS delay diff (as)": -18.677563401614,
          "KE range (eV)": "4.0–7.2",
          "Photon energy fr (eV)": 14.3,
          "Photon energy to (eV)": 15.9,
          "Polar ang (deg)": 22
         },
         {
          "EWS delay diff (as)": 5.93559271165589,
          "KE range (eV)": "7.2–13.6",
          "Photon energy fr (eV)": 15.9,
          "Photon energy to (eV)": 19.1,
          "Polar ang (deg)": 22
         },
         {
          "EWS delay diff (as)": -21.1409472288061,
          "KE range (eV)": "4.0–7.2",
          "Photon energy fr (eV)": 14.3,
          "Photon energy to (eV)": 15.9,
          "Polar ang (deg)": 23
         },
         {
          "EWS delay diff (as)": 6.00913376512787,
          "KE range (eV)": "7.2–13.6",
          "Photon energy fr (eV)": 15.9,
          "Photon energy to (eV)": 19.1,
          "Polar ang (deg)": 23
         },
         {
          "EWS delay diff (as)": -23.6741707939402,
          "KE range (eV)": "4.0–7.2",
          "Photon energy fr (eV)": 14.3,
          "Photon energy to (eV)": 15.9,
          "Polar ang (deg)": 24
         },
         {
          "EWS delay diff (as)": 6.06719605069604,
          "KE range (eV)": "7.2–13.6",
          "Photon energy fr (eV)": 15.9,
          "Photon energy to (eV)": 19.1,
          "Polar ang (deg)": 24
         },
         {
          "EWS delay diff (as)": -26.2634545786687,
          "KE range (eV)": "4.0–7.2",
          "Photon energy fr (eV)": 14.3,
          "Photon energy to (eV)": 15.9,
          "Polar ang (deg)": 25
         },
         {
          "EWS delay diff (as)": 6.10529624873011,
          "KE range (eV)": "7.2–13.6",
          "Photon energy fr (eV)": 15.9,
          "Photon energy to (eV)": 19.1,
          "Polar ang (deg)": 25
         },
         {
          "EWS delay diff (as)": -28.892025230569,
          "KE range (eV)": "4.0–7.2",
          "Photon energy fr (eV)": 14.3,
          "Photon energy to (eV)": 15.9,
          "Polar ang (deg)": 26
         },
         {
          "EWS delay diff (as)": 6.1181243798702,
          "KE range (eV)": "7.2–13.6",
          "Photon energy fr (eV)": 15.9,
          "Photon energy to (eV)": 19.1,
          "Polar ang (deg)": 26
         },
         {
          "EWS delay diff (as)": -31.5396372859893,
          "KE range (eV)": "4.0–7.2",
          "Photon energy fr (eV)": 14.3,
          "Photon energy to (eV)": 15.9,
          "Polar ang (deg)": 27
         },
         {
          "EWS delay diff (as)": 6.09938447249691,
          "KE range (eV)": "7.2–13.6",
          "Photon energy fr (eV)": 15.9,
          "Photon energy to (eV)": 19.1,
          "Polar ang (deg)": 27
         },
         {
          "EWS delay diff (as)": -34.1820353882018,
          "KE range (eV)": "4.0–7.2",
          "Photon energy fr (eV)": 14.3,
          "Photon energy to (eV)": 15.9,
          "Polar ang (deg)": 28
         },
         {
          "EWS delay diff (as)": 6.04160272036311,
          "KE range (eV)": "7.2–13.6",
          "Photon energy fr (eV)": 15.9,
          "Photon energy to (eV)": 19.1,
          "Polar ang (deg)": 28
         },
         {
          "EWS delay diff (as)": -36.7903501428129,
          "KE range (eV)": "4.0–7.2",
          "Photon energy fr (eV)": 14.3,
          "Photon energy to (eV)": 15.9,
          "Polar ang (deg)": 29
         },
         {
          "EWS delay diff (as)": 5.93589631065539,
          "KE range (eV)": "7.2–13.6",
          "Photon energy fr (eV)": 15.9,
          "Photon energy to (eV)": 19.1,
          "Polar ang (deg)": 29
         },
         {
          "EWS delay diff (as)": -39.3304192668349,
          "KE range (eV)": "4.0–7.2",
          "Photon energy fr (eV)": 14.3,
          "Photon energy to (eV)": 15.9,
          "Polar ang (deg)": 30
         },
         {
          "EWS delay diff (as)": 5.77169478726824,
          "KE range (eV)": "7.2–13.6",
          "Photon energy fr (eV)": 15.9,
          "Photon energy to (eV)": 19.1,
          "Polar ang (deg)": 30
         },
         {
          "EWS delay diff (as)": -41.7620237901212,
          "KE range (eV)": "4.0–7.2",
          "Photon energy fr (eV)": 14.3,
          "Photon energy to (eV)": 15.9,
          "Polar ang (deg)": 31
         },
         {
          "EWS delay diff (as)": 5.53640438871627,
          "KE range (eV)": "7.2–13.6",
          "Photon energy fr (eV)": 15.9,
          "Photon energy to (eV)": 19.1,
          "Polar ang (deg)": 31
         },
         {
          "EWS delay diff (as)": -44.0380268454708,
          "KE range (eV)": "4.0–7.2",
          "Photon energy fr (eV)": 14.3,
          "Photon energy to (eV)": 15.9,
          "Polar ang (deg)": 32
         },
         {
          "EWS delay diff (as)": 5.21500439179405,
          "KE range (eV)": "7.2–13.6",
          "Photon energy fr (eV)": 15.9,
          "Photon energy to (eV)": 19.1,
          "Polar ang (deg)": 32
         },
         {
          "EWS delay diff (as)": -46.1034004244681,
          "KE range (eV)": "4.0–7.2",
          "Photon energy fr (eV)": 14.3,
          "Photon energy to (eV)": 15.9,
          "Polar ang (deg)": 33
         },
         {
          "EWS delay diff (as)": 4.78956335043123,
          "KE range (eV)": "7.2–13.6",
          "Photon energy fr (eV)": 15.9,
          "Photon energy to (eV)": 19.1,
          "Polar ang (deg)": 33
         },
         {
          "EWS delay diff (as)": -47.8941242665149,
          "KE range (eV)": "4.0–7.2",
          "Photon energy fr (eV)": 14.3,
          "Photon energy to (eV)": 15.9,
          "Polar ang (deg)": 34
         },
         {
          "EWS delay diff (as)": 4.2386627674641,
          "KE range (eV)": "7.2–13.6",
          "Photon energy fr (eV)": 15.9,
          "Photon energy to (eV)": 19.1,
          "Polar ang (deg)": 34
         },
         {
          "EWS delay diff (as)": -49.3359425985373,
          "KE range (eV)": "4.0–7.2",
          "Photon energy fr (eV)": 14.3,
          "Photon energy to (eV)": 15.9,
          "Polar ang (deg)": 35
         },
         {
          "EWS delay diff (as)": 3.53671711630556,
          "KE range (eV)": "7.2–13.6",
          "Photon energy fr (eV)": 15.9,
          "Photon energy to (eV)": 19.1,
          "Polar ang (deg)": 35
         },
         {
          "EWS delay diff (as)": -50.3429721032066,
          "KE range (eV)": "4.0–7.2",
          "Photon energy fr (eV)": 14.3,
          "Photon energy to (eV)": 15.9,
          "Polar ang (deg)": 36
         },
         {
          "EWS delay diff (as)": 2.65318394254225,
          "KE range (eV)": "7.2–13.6",
          "Photon energy fr (eV)": 15.9,
          "Photon energy to (eV)": 19.1,
          "Polar ang (deg)": 36
         },
         {
          "EWS delay diff (as)": -50.8161742657363,
          "KE range (eV)": "4.0–7.2",
          "Photon energy fr (eV)": 14.3,
          "Photon energy to (eV)": 15.9,
          "Polar ang (deg)": 37
         },
         {
          "EWS delay diff (as)": 1.55166898771884,
          "KE range (eV)": "7.2–13.6",
          "Photon energy fr (eV)": 15.9,
          "Photon energy to (eV)": 19.1,
          "Polar ang (deg)": 37
         },
         {
          "EWS delay diff (as)": -50.6417472777283,
          "KE range (eV)": "4.0–7.2",
          "Photon energy fr (eV)": 14.3,
          "Photon energy to (eV)": 15.9,
          "Polar ang (deg)": 38
         },
         {
          "EWS delay diff (as)": 0.188953911042728,
          "KE range (eV)": "7.2–13.6",
          "Photon energy fr (eV)": 15.9,
          "Photon energy to (eV)": 19.1,
          "Polar ang (deg)": 38
         },
         {
          "EWS delay diff (as)": -49.6895735995666,
          "KE range (eV)": "4.0–7.2",
          "Photon energy fr (eV)": 14.3,
          "Photon energy to (eV)": 15.9,
          "Polar ang (deg)": 39
         },
         {
          "EWS delay diff (as)": -1.48598356960035,
          "KE range (eV)": "7.2–13.6",
          "Photon energy fr (eV)": 15.9,
          "Photon energy to (eV)": 19.1,
          "Polar ang (deg)": 39
         },
         {
          "EWS delay diff (as)": -47.8120047754195,
          "KE range (eV)": "4.0–7.2",
          "Photon energy fr (eV)": 14.3,
          "Photon energy to (eV)": 15.9,
          "Polar ang (deg)": 40
         },
         {
          "EWS delay diff (as)": -3.53281271893151,
          "KE range (eV)": "7.2–13.6",
          "Photon energy fr (eV)": 15.9,
          "Photon energy to (eV)": 19.1,
          "Polar ang (deg)": 40
         },
         {
          "EWS delay diff (as)": -44.8435116362262,
          "KE range (eV)": "4.0–7.2",
          "Photon energy fr (eV)": 14.3,
          "Photon energy to (eV)": 15.9,
          "Polar ang (deg)": 41
         },
         {
          "EWS delay diff (as)": -6.02028662887744,
          "KE range (eV)": "7.2–13.6",
          "Photon energy fr (eV)": 15.9,
          "Photon energy to (eV)": 19.1,
          "Polar ang (deg)": 41
         },
         {
          "EWS delay diff (as)": -40.6021192847334,
          "KE range (eV)": "4.0–7.2",
          "Photon energy fr (eV)": 14.3,
          "Photon energy to (eV)": 15.9,
          "Polar ang (deg)": 42
         },
         {
          "EWS delay diff (as)": -9.02580639153354,
          "KE range (eV)": "7.2–13.6",
          "Photon energy fr (eV)": 15.9,
          "Photon energy to (eV)": 19.1,
          "Polar ang (deg)": 42
         },
         {
          "EWS delay diff (as)": -34.8941137761068,
          "KE range (eV)": "4.0–7.2",
          "Photon energy fr (eV)": 14.3,
          "Photon energy to (eV)": 15.9,
          "Polar ang (deg)": 43
         },
         {
          "EWS delay diff (as)": -12.6333612511719,
          "KE range (eV)": "7.2–13.6",
          "Photon energy fr (eV)": 15.9,
          "Photon energy to (eV)": 19.1,
          "Polar ang (deg)": 43
         },
         {
          "EWS delay diff (as)": -27.5242140721819,
          "KE range (eV)": "4.0–7.2",
          "Photon energy fr (eV)": 14.3,
          "Photon energy to (eV)": 15.9,
          "Polar ang (deg)": 44
         },
         {
          "EWS delay diff (as)": -16.9287393295344,
          "KE range (eV)": "7.2–13.6",
          "Photon energy fr (eV)": 15.9,
          "Photon energy to (eV)": 19.1,
          "Polar ang (deg)": 44
         },
         {
          "EWS delay diff (as)": -18.3140183760654,
          "KE range (eV)": "4.0–7.2",
          "Photon energy fr (eV)": 14.3,
          "Photon energy to (eV)": 15.9,
          "Polar ang (deg)": 45
         },
         {
          "EWS delay diff (as)": -21.9905954128658,
          "KE range (eV)": "7.2–13.6",
          "Photon energy fr (eV)": 15.9,
          "Photon energy to (eV)": 19.1,
          "Polar ang (deg)": 45
         },
         {
          "EWS delay diff (as)": -7.13143182240852,
          "KE range (eV)": "4.0–7.2",
          "Photon energy fr (eV)": 14.3,
          "Photon energy to (eV)": 15.9,
          "Polar ang (deg)": 46
         },
         {
          "EWS delay diff (as)": -27.8760133233207,
          "KE range (eV)": "7.2–13.6",
          "Photon energy fr (eV)": 15.9,
          "Photon energy to (eV)": 19.1,
          "Polar ang (deg)": 46
         },
         {
          "EWS delay diff (as)": 6.0682251180925,
          "KE range (eV)": "4.0–7.2",
          "Photon energy fr (eV)": 14.3,
          "Photon energy to (eV)": 15.9,
          "Polar ang (deg)": 47
         },
         {
          "EWS delay diff (as)": -34.6002043959121,
          "KE range (eV)": "7.2–13.6",
          "Photon energy fr (eV)": 15.9,
          "Photon energy to (eV)": 19.1,
          "Polar ang (deg)": 47
         },
         {
          "EWS delay diff (as)": 21.1940773209745,
          "KE range (eV)": "4.0–7.2",
          "Photon energy fr (eV)": 14.3,
          "Photon energy to (eV)": 15.9,
          "Polar ang (deg)": 48
         },
         {
          "EWS delay diff (as)": -42.1126584791729,
          "KE range (eV)": "7.2–13.6",
          "Photon energy fr (eV)": 15.9,
          "Photon energy to (eV)": 19.1,
          "Polar ang (deg)": 48
         },
         {
          "EWS delay diff (as)": 37.9779934649854,
          "KE range (eV)": "4.0–7.2",
          "Photon energy fr (eV)": 14.3,
          "Photon energy to (eV)": 15.9,
          "Polar ang (deg)": 49
         },
         {
          "EWS delay diff (as)": -50.2764737101976,
          "KE range (eV)": "7.2–13.6",
          "Photon energy fr (eV)": 15.9,
          "Photon energy to (eV)": 19.1,
          "Polar ang (deg)": 49
         },
         {
          "EWS delay diff (as)": 55.9610824514164,
          "KE range (eV)": "4.0–7.2",
          "Photon energy fr (eV)": 14.3,
          "Photon energy to (eV)": 15.9,
          "Polar ang (deg)": 50
         },
         {
          "EWS delay diff (as)": -58.861737533731,
          "KE range (eV)": "7.2–13.6",
          "Photon energy fr (eV)": 15.9,
          "Photon energy to (eV)": 19.1,
          "Polar ang (deg)": 50
         },
         {
          "EWS delay diff (as)": 74.5288716308447,
          "KE range (eV)": "4.0–7.2",
          "Photon energy fr (eV)": 14.3,
          "Photon energy to (eV)": 15.9,
          "Polar ang (deg)": 51
         },
         {
          "EWS delay diff (as)": -67.563193891308,
          "KE range (eV)": "7.2–13.6",
          "Photon energy fr (eV)": 15.9,
          "Photon energy to (eV)": 19.1,
          "Polar ang (deg)": 51
         },
         {
          "EWS delay diff (as)": 92.997497168568,
          "KE range (eV)": "4.0–7.2",
          "Photon energy fr (eV)": 14.3,
          "Photon energy to (eV)": 15.9,
          "Polar ang (deg)": 52
         },
         {
          "EWS delay diff (as)": -76.0433556796153,
          "KE range (eV)": "7.2–13.6",
          "Photon energy fr (eV)": 15.9,
          "Photon energy to (eV)": 19.1,
          "Polar ang (deg)": 52
         },
         {
          "EWS delay diff (as)": 110.725181892348,
          "KE range (eV)": "4.0–7.2",
          "Photon energy fr (eV)": 14.3,
          "Photon energy to (eV)": 15.9,
          "Polar ang (deg)": 53
         },
         {
          "EWS delay diff (as)": -83.9881954894416,
          "KE range (eV)": "7.2–13.6",
          "Photon energy fr (eV)": 15.9,
          "Photon energy to (eV)": 19.1,
          "Polar ang (deg)": 53
         },
         {
          "EWS delay diff (as)": 127.207143043126,
          "KE range (eV)": "4.0–7.2",
          "Photon energy fr (eV)": 14.3,
          "Photon energy to (eV)": 15.9,
          "Polar ang (deg)": 54
         },
         {
          "EWS delay diff (as)": -91.1544832126,
          "KE range (eV)": "7.2–13.6",
          "Photon energy fr (eV)": 15.9,
          "Photon energy to (eV)": 19.1,
          "Polar ang (deg)": 54
         },
         {
          "EWS delay diff (as)": 142.122822691415,
          "KE range (eV)": "4.0–7.2",
          "Photon energy fr (eV)": 14.3,
          "Photon energy to (eV)": 15.9,
          "Polar ang (deg)": 55
         },
         {
          "EWS delay diff (as)": -97.3932170148073,
          "KE range (eV)": "7.2–13.6",
          "Photon energy fr (eV)": 15.9,
          "Photon energy to (eV)": 19.1,
          "Polar ang (deg)": 55
         },
         {
          "EWS delay diff (as)": 155.33184952996,
          "KE range (eV)": "4.0–7.2",
          "Photon energy fr (eV)": 14.3,
          "Photon energy to (eV)": 15.9,
          "Polar ang (deg)": 56
         },
         {
          "EWS delay diff (as)": -102.647355531811,
          "KE range (eV)": "7.2–13.6",
          "Photon energy fr (eV)": 15.9,
          "Photon energy to (eV)": 19.1,
          "Polar ang (deg)": 56
         },
         {
          "EWS delay diff (as)": 166.836734088174,
          "KE range (eV)": "4.0–7.2",
          "Photon energy fr (eV)": 14.3,
          "Photon energy to (eV)": 15.9,
          "Polar ang (deg)": 57
         },
         {
          "EWS delay diff (as)": -106.932859632812,
          "KE range (eV)": "7.2–13.6",
          "Photon energy fr (eV)": 15.9,
          "Photon energy to (eV)": 19.1,
          "Polar ang (deg)": 57
         },
         {
          "EWS delay diff (as)": 176.734957538812,
          "KE range (eV)": "4.0–7.2",
          "Photon energy fr (eV)": 14.3,
          "Photon energy to (eV)": 15.9,
          "Polar ang (deg)": 58
         },
         {
          "EWS delay diff (as)": -110.314385015851,
          "KE range (eV)": "7.2–13.6",
          "Photon energy fr (eV)": 15.9,
          "Photon energy to (eV)": 19.1,
          "Polar ang (deg)": 58
         },
         {
          "EWS delay diff (as)": 185.176029967483,
          "KE range (eV)": "4.0–7.2",
          "Photon energy fr (eV)": 14.3,
          "Photon energy to (eV)": 15.9,
          "Polar ang (deg)": 59
         },
         {
          "EWS delay diff (as)": -112.883428193962,
          "KE range (eV)": "7.2–13.6",
          "Photon energy fr (eV)": 15.9,
          "Photon energy to (eV)": 19.1,
          "Polar ang (deg)": 59
         },
         {
          "EWS delay diff (as)": 192.329850305209,
          "KE range (eV)": "4.0–7.2",
          "Photon energy fr (eV)": 14.3,
          "Photon energy to (eV)": 15.9,
          "Polar ang (deg)": 60
         },
         {
          "EWS delay diff (as)": -114.74210910556,
          "KE range (eV)": "7.2–13.6",
          "Photon energy fr (eV)": 15.9,
          "Photon energy to (eV)": 19.1,
          "Polar ang (deg)": 60
         },
         {
          "EWS delay diff (as)": 198.36650279036,
          "KE range (eV)": "4.0–7.2",
          "Photon energy fr (eV)": 14.3,
          "Photon energy to (eV)": 15.9,
          "Polar ang (deg)": 61
         },
         {
          "EWS delay diff (as)": -115.992676090664,
          "KE range (eV)": "7.2–13.6",
          "Photon energy fr (eV)": 15.9,
          "Photon energy to (eV)": 19.1,
          "Polar ang (deg)": 61
         },
         {
          "EWS delay diff (as)": 203.444995431762,
          "KE range (eV)": "4.0–7.2",
          "Photon energy fr (eV)": 14.3,
          "Photon energy to (eV)": 15.9,
          "Polar ang (deg)": 62
         },
         {
          "EWS delay diff (as)": -116.731503876372,
          "KE range (eV)": "7.2–13.6",
          "Photon energy fr (eV)": 15.9,
          "Photon energy to (eV)": 19.1,
          "Polar ang (deg)": 62
         },
         {
          "EWS delay diff (as)": 207.708045531381,
          "KE range (eV)": "4.0–7.2",
          "Photon energy fr (eV)": 14.3,
          "Photon energy to (eV)": 15.9,
          "Polar ang (deg)": 63
         },
         {
          "EWS delay diff (as)": -117.0461530487,
          "KE range (eV)": "7.2–13.6",
          "Photon energy fr (eV)": 15.9,
          "Photon energy to (eV)": 19.1,
          "Polar ang (deg)": 63
         },
         {
          "EWS delay diff (as)": 211.280546551906,
          "KE range (eV)": "4.0–7.2",
          "Photon energy fr (eV)": 14.3,
          "Photon energy to (eV)": 15.9,
          "Polar ang (deg)": 64
         },
         {
          "EWS delay diff (as)": -117.014320791692,
          "KE range (eV)": "7.2–13.6",
          "Photon energy fr (eV)": 15.9,
          "Photon energy to (eV)": 19.1,
          "Polar ang (deg)": 64
         },
         {
          "EWS delay diff (as)": 214.270067398632,
          "KE range (eV)": "4.0–7.2",
          "Photon energy fr (eV)": 14.3,
          "Photon energy to (eV)": 15.9,
          "Polar ang (deg)": 65
         },
         {
          "EWS delay diff (as)": -116.703866898288,
          "KE range (eV)": "7.2–13.6",
          "Photon energy fr (eV)": 15.9,
          "Photon energy to (eV)": 19.1,
          "Polar ang (deg)": 65
         },
         {
          "EWS delay diff (as)": 216.768341833763,
          "KE range (eV)": "4.0–7.2",
          "Photon energy fr (eV)": 14.3,
          "Photon energy to (eV)": 15.9,
          "Polar ang (deg)": 66
         },
         {
          "EWS delay diff (as)": -116.173397826152,
          "KE range (eV)": "7.2–13.6",
          "Photon energy fr (eV)": 15.9,
          "Photon energy to (eV)": 19.1,
          "Polar ang (deg)": 66
         },
         {
          "EWS delay diff (as)": 218.853136308125,
          "KE range (eV)": "4.0–7.2",
          "Photon energy fr (eV)": 14.3,
          "Photon energy to (eV)": 15.9,
          "Polar ang (deg)": 67
         },
         {
          "EWS delay diff (as)": -115.473102492981,
          "KE range (eV)": "7.2–13.6",
          "Photon energy fr (eV)": 15.9,
          "Photon energy to (eV)": 19.1,
          "Polar ang (deg)": 67
         },
         {
          "EWS delay diff (as)": 220.590161958609,
          "KE range (eV)": "4.0–7.2",
          "Photon energy fr (eV)": 14.3,
          "Photon energy to (eV)": 15.9,
          "Polar ang (deg)": 68
         },
         {
          "EWS delay diff (as)": -114.645668488845,
          "KE range (eV)": "7.2–13.6",
          "Photon energy fr (eV)": 15.9,
          "Photon energy to (eV)": 19.1,
          "Polar ang (deg)": 68
         },
         {
          "EWS delay diff (as)": 222.034864127538,
          "KE range (eV)": "4.0–7.2",
          "Photon energy fr (eV)": 14.3,
          "Photon energy to (eV)": 15.9,
          "Polar ang (deg)": 69
         },
         {
          "EWS delay diff (as)": -113.727188344506,
          "KE range (eV)": "7.2–13.6",
          "Photon energy fr (eV)": 15.9,
          "Photon energy to (eV)": 19.1,
          "Polar ang (deg)": 69
         },
         {
          "EWS delay diff (as)": 223.234018863079,
          "KE range (eV)": "4.0–7.2",
          "Photon energy fr (eV)": 14.3,
          "Photon energy to (eV)": 15.9,
          "Polar ang (deg)": 70
         },
         {
          "EWS delay diff (as)": -112.748011734889,
          "KE range (eV)": "7.2–13.6",
          "Photon energy fr (eV)": 15.9,
          "Photon energy to (eV)": 19.1,
          "Polar ang (deg)": 70
         },
         {
          "EWS delay diff (as)": 224.227118140787,
          "KE range (eV)": "4.0–7.2",
          "Photon energy fr (eV)": 14.3,
          "Photon energy to (eV)": 15.9,
          "Polar ang (deg)": 71
         },
         {
          "EWS delay diff (as)": -111.733524822898,
          "KE range (eV)": "7.2–13.6",
          "Photon energy fr (eV)": 15.9,
          "Photon energy to (eV)": 19.1,
          "Polar ang (deg)": 71
         },
         {
          "EWS delay diff (as)": 225.047552159716,
          "KE range (eV)": "4.0–7.2",
          "Photon energy fr (eV)": 14.3,
          "Photon energy to (eV)": 15.9,
          "Polar ang (deg)": 72
         },
         {
          "EWS delay diff (as)": -110.704851287938,
          "KE range (eV)": "7.2–13.6",
          "Photon energy fr (eV)": 15.9,
          "Photon energy to (eV)": 19.1,
          "Polar ang (deg)": 72
         },
         {
          "EWS delay diff (as)": 225.723609207167,
          "KE range (eV)": "4.0–7.2",
          "Photon energy fr (eV)": 14.3,
          "Photon energy to (eV)": 15.9,
          "Polar ang (deg)": 73
         },
         {
          "EWS delay diff (as)": -109.67947632551,
          "KE range (eV)": "7.2–13.6",
          "Photon energy fr (eV)": 15.9,
          "Photon energy to (eV)": 19.1,
          "Polar ang (deg)": 73
         },
         {
          "EWS delay diff (as)": 226.27931800256,
          "KE range (eV)": "4.0–7.2",
          "Photon energy fr (eV)": 14.3,
          "Photon energy to (eV)": 15.9,
          "Polar ang (deg)": 74
         },
         {
          "EWS delay diff (as)": -108.671798178221,
          "KE range (eV)": "7.2–13.6",
          "Photon energy fr (eV)": 15.9,
          "Photon energy to (eV)": 19.1,
          "Polar ang (deg)": 74
         },
         {
          "EWS delay diff (as)": 226.735158028876,
          "KE range (eV)": "4.0–7.2",
          "Photon energy fr (eV)": 14.3,
          "Photon energy to (eV)": 15.9,
          "Polar ang (deg)": 75
         },
         {
          "EWS delay diff (as)": -107.693613290408,
          "KE range (eV)": "7.2–13.6",
          "Photon energy fr (eV)": 15.9,
          "Photon energy to (eV)": 19.1,
          "Polar ang (deg)": 75
         },
         {
          "EWS delay diff (as)": 227.108662488289,
          "KE range (eV)": "4.0–7.2",
          "Photon energy fr (eV)": 14.3,
          "Photon energy to (eV)": 15.9,
          "Polar ang (deg)": 76
         },
         {
          "EWS delay diff (as)": -106.754541930687,
          "KE range (eV)": "7.2–13.6",
          "Photon energy fr (eV)": 15.9,
          "Photon energy to (eV)": 19.1,
          "Polar ang (deg)": 76
         },
         {
          "EWS delay diff (as)": 227.414937639368,
          "KE range (eV)": "4.0–7.2",
          "Photon energy fr (eV)": 14.3,
          "Photon energy to (eV)": 15.9,
          "Polar ang (deg)": 77
         },
         {
          "EWS delay diff (as)": -105.862401633999,
          "KE range (eV)": "7.2–13.6",
          "Photon energy fr (eV)": 15.9,
          "Photon energy to (eV)": 19.1,
          "Polar ang (deg)": 77
         },
         {
          "EWS delay diff (as)": 227.667122625515,
          "KE range (eV)": "4.0–7.2",
          "Photon energy fr (eV)": 14.3,
          "Photon energy to (eV)": 15.9,
          "Polar ang (deg)": 78
         },
         {
          "EWS delay diff (as)": -105.023536479108,
          "KE range (eV)": "7.2–13.6",
          "Photon energy fr (eV)": 15.9,
          "Photon energy to (eV)": 19.1,
          "Polar ang (deg)": 78
         },
         {
          "EWS delay diff (as)": 227.876816979084,
          "KE range (eV)": "4.0–7.2",
          "Photon energy fr (eV)": 14.3,
          "Photon energy to (eV)": 15.9,
          "Polar ang (deg)": 79
         },
         {
          "EWS delay diff (as)": -104.243111475525,
          "KE range (eV)": "7.2–13.6",
          "Photon energy fr (eV)": 15.9,
          "Photon energy to (eV)": 19.1,
          "Polar ang (deg)": 79
         },
         {
          "EWS delay diff (as)": 228.054511451878,
          "KE range (eV)": "4.0–7.2",
          "Photon energy fr (eV)": 14.3,
          "Photon energy to (eV)": 15.9,
          "Polar ang (deg)": 80
         },
         {
          "EWS delay diff (as)": -103.525383931783,
          "KE range (eV)": "7.2–13.6",
          "Photon energy fr (eV)": 15.9,
          "Photon energy to (eV)": 19.1,
          "Polar ang (deg)": 80
         },
         {
          "EWS delay diff (as)": 228.21007740811,
          "KE range (eV)": "4.0–7.2",
          "Photon energy fr (eV)": 14.3,
          "Photon energy to (eV)": 15.9,
          "Polar ang (deg)": 81
         },
         {
          "EWS delay diff (as)": -102.873969227476,
          "KE range (eV)": "7.2–13.6",
          "Photon energy fr (eV)": 15.9,
          "Photon energy to (eV)": 19.1,
          "Polar ang (deg)": 81
         },
         {
          "EWS delay diff (as)": 228.353414103423,
          "KE range (eV)": "4.0–7.2",
          "Photon energy fr (eV)": 14.3,
          "Photon energy to (eV)": 15.9,
          "Polar ang (deg)": 82
         },
         {
          "EWS delay diff (as)": -102.292130596158,
          "KE range (eV)": "7.2–13.6",
          "Photon energy fr (eV)": 15.9,
          "Photon energy to (eV)": 19.1,
          "Polar ang (deg)": 82
         },
         {
          "EWS delay diff (as)": 228.495456317937,
          "KE range (eV)": "4.0–7.2",
          "Photon energy fr (eV)": 14.3,
          "Photon energy to (eV)": 15.9,
          "Polar ang (deg)": 83
         },
         {
          "EWS delay diff (as)": -101.783150908972,
          "KE range (eV)": "7.2–13.6",
          "Photon energy fr (eV)": 15.9,
          "Photon energy to (eV)": 19.1,
          "Polar ang (deg)": 83
         },
         {
          "EWS delay diff (as)": 228.650004643339,
          "KE range (eV)": "4.0–7.2",
          "Photon energy fr (eV)": 14.3,
          "Photon energy to (eV)": 15.9,
          "Polar ang (deg)": 84
         },
         {
          "EWS delay diff (as)": -101.350915869242,
          "KE range (eV)": "7.2–13.6",
          "Photon energy fr (eV)": 15.9,
          "Photon energy to (eV)": 19.1,
          "Polar ang (deg)": 84
         },
         {
          "EWS delay diff (as)": 228.837569325816,
          "KE range (eV)": "4.0–7.2",
          "Photon energy fr (eV)": 14.3,
          "Photon energy to (eV)": 15.9,
          "Polar ang (deg)": 85
         },
         {
          "EWS delay diff (as)": -101.001038213278,
          "KE range (eV)": "7.2–13.6",
          "Photon energy fr (eV)": 15.9,
          "Photon energy to (eV)": 19.1,
          "Polar ang (deg)": 85
         },
         {
          "EWS delay diff (as)": 229.094783425161,
          "KE range (eV)": "4.0–7.2",
          "Photon energy fr (eV)": 14.3,
          "Photon energy to (eV)": 15.9,
          "Polar ang (deg)": 86
         },
         {
          "EWS delay diff (as)": -100.743501420802,
          "KE range (eV)": "7.2–13.6",
          "Photon energy fr (eV)": 15.9,
          "Photon energy to (eV)": 19.1,
          "Polar ang (deg)": 86
         },
         {
          "EWS delay diff (as)": 229.502371693254,
          "KE range (eV)": "4.0–7.2",
          "Photon energy fr (eV)": 14.3,
          "Photon energy to (eV)": 15.9,
          "Polar ang (deg)": 87
         },
         {
          "EWS delay diff (as)": -100.600382920306,
          "KE range (eV)": "7.2–13.6",
          "Photon energy fr (eV)": 15.9,
          "Photon energy to (eV)": 19.1,
          "Polar ang (deg)": 87
         },
         {
          "EWS delay diff (as)": 230.296252236102,
          "KE range (eV)": "4.0–7.2",
          "Photon energy fr (eV)": 14.3,
          "Photon energy to (eV)": 15.9,
          "Polar ang (deg)": 88
         },
         {
          "EWS delay diff (as)": -100.636278456384,
          "KE range (eV)": "7.2–13.6",
          "Photon energy fr (eV)": 15.9,
          "Photon energy to (eV)": 19.1,
          "Polar ang (deg)": 88
         },
         {
          "EWS delay diff (as)": 232.636128736217,
          "KE range (eV)": "4.0–7.2",
          "Photon energy fr (eV)": 14.3,
          "Photon energy to (eV)": 15.9,
          "Polar ang (deg)": 89
         },
         {
          "EWS delay diff (as)": -101.166653316562,
          "KE range (eV)": "7.2–13.6",
          "Photon energy fr (eV)": 15.9,
          "Photon energy to (eV)": 19.1,
          "Polar ang (deg)": 89
         },
         {
          "EWS delay diff (as)": 223.108959846612,
          "KE range (eV)": "4.0–7.2",
          "Photon energy fr (eV)": 14.3,
          "Photon energy to (eV)": 15.9,
          "Polar ang (deg)": 91
         },
         {
          "EWS delay diff (as)": -98.5137383575748,
          "KE range (eV)": "7.2–13.6",
          "Photon energy fr (eV)": 15.9,
          "Photon energy to (eV)": 19.1,
          "Polar ang (deg)": 91
         },
         {
          "EWS delay diff (as)": 225.534267505004,
          "KE range (eV)": "4.0–7.2",
          "Photon energy fr (eV)": 14.3,
          "Photon energy to (eV)": 15.9,
          "Polar ang (deg)": 92
         },
         {
          "EWS delay diff (as)": -99.3058088798357,
          "KE range (eV)": "7.2–13.6",
          "Photon energy fr (eV)": 15.9,
          "Photon energy to (eV)": 19.1,
          "Polar ang (deg)": 92
         },
         {
          "EWS delay diff (as)": 226.32907909179,
          "KE range (eV)": "4.0–7.2",
          "Photon energy fr (eV)": 14.3,
          "Photon energy to (eV)": 15.9,
          "Polar ang (deg)": 93
         },
         {
          "EWS delay diff (as)": -99.708733207946,
          "KE range (eV)": "7.2–13.6",
          "Photon energy fr (eV)": 15.9,
          "Photon energy to (eV)": 19.1,
          "Polar ang (deg)": 93
         },
         {
          "EWS delay diff (as)": 226.716192117875,
          "KE range (eV)": "4.0–7.2",
          "Photon energy fr (eV)": 14.3,
          "Photon energy to (eV)": 15.9,
          "Polar ang (deg)": 94
         },
         {
          "EWS delay diff (as)": -100.069832972299,
          "KE range (eV)": "7.2–13.6",
          "Photon energy fr (eV)": 15.9,
          "Photon energy to (eV)": 19.1,
          "Polar ang (deg)": 94
         },
         {
          "EWS delay diff (as)": 226.936085639059,
          "KE range (eV)": "4.0–7.2",
          "Photon energy fr (eV)": 14.3,
          "Photon energy to (eV)": 15.9,
          "Polar ang (deg)": 95
         },
         {
          "EWS delay diff (as)": -100.45701746874,
          "KE range (eV)": "7.2–13.6",
          "Photon energy fr (eV)": 15.9,
          "Photon energy to (eV)": 19.1,
          "Polar ang (deg)": 95
         },
         {
          "EWS delay diff (as)": 227.066822330235,
          "KE range (eV)": "4.0–7.2",
          "Photon energy fr (eV)": 14.3,
          "Photon energy to (eV)": 15.9,
          "Polar ang (deg)": 96
         },
         {
          "EWS delay diff (as)": -100.892372439663,
          "KE range (eV)": "7.2–13.6",
          "Photon energy fr (eV)": 15.9,
          "Photon energy to (eV)": 19.1,
          "Polar ang (deg)": 96
         },
         {
          "EWS delay diff (as)": 227.13981676899,
          "KE range (eV)": "4.0–7.2",
          "Photon energy fr (eV)": 14.3,
          "Photon energy to (eV)": 15.9,
          "Polar ang (deg)": 97
         },
         {
          "EWS delay diff (as)": -101.38484047438,
          "KE range (eV)": "7.2–13.6",
          "Photon energy fr (eV)": 15.9,
          "Photon energy to (eV)": 19.1,
          "Polar ang (deg)": 97
         },
         {
          "EWS delay diff (as)": 227.168579843876,
          "KE range (eV)": "4.0–7.2",
          "Photon energy fr (eV)": 14.3,
          "Photon energy to (eV)": 15.9,
          "Polar ang (deg)": 98
         },
         {
          "EWS delay diff (as)": -101.938271942365,
          "KE range (eV)": "7.2–13.6",
          "Photon energy fr (eV)": 15.9,
          "Photon energy to (eV)": 19.1,
          "Polar ang (deg)": 98
         },
         {
          "EWS delay diff (as)": 227.158209378536,
          "KE range (eV)": "4.0–7.2",
          "Photon energy fr (eV)": 14.3,
          "Photon energy to (eV)": 15.9,
          "Polar ang (deg)": 99
         },
         {
          "EWS delay diff (as)": -102.554039088049,
          "KE range (eV)": "7.2–13.6",
          "Photon energy fr (eV)": 15.9,
          "Photon energy to (eV)": 19.1,
          "Polar ang (deg)": 99
         },
         {
          "EWS delay diff (as)": 227.109107659777,
          "KE range (eV)": "4.0–7.2",
          "Photon energy fr (eV)": 14.3,
          "Photon energy to (eV)": 15.9,
          "Polar ang (deg)": 100
         },
         {
          "EWS delay diff (as)": -103.232014964075,
          "KE range (eV)": "7.2–13.6",
          "Photon energy fr (eV)": 15.9,
          "Photon energy to (eV)": 19.1,
          "Polar ang (deg)": 100
         },
         {
          "EWS delay diff (as)": 227.018588103464,
          "KE range (eV)": "4.0–7.2",
          "Photon energy fr (eV)": 14.3,
          "Photon energy to (eV)": 15.9,
          "Polar ang (deg)": 101
         },
         {
          "EWS delay diff (as)": -103.970946267762,
          "KE range (eV)": "7.2–13.6",
          "Photon energy fr (eV)": 15.9,
          "Photon energy to (eV)": 19.1,
          "Polar ang (deg)": 101
         },
         {
          "EWS delay diff (as)": 226.881586100108,
          "KE range (eV)": "4.0–7.2",
          "Photon energy fr (eV)": 14.3,
          "Photon energy to (eV)": 15.9,
          "Polar ang (deg)": 102
         },
         {
          "EWS delay diff (as)": -104.768559644384,
          "KE range (eV)": "7.2–13.6",
          "Photon energy fr (eV)": 15.9,
          "Photon energy to (eV)": 19.1,
          "Polar ang (deg)": 102
         },
         {
          "EWS delay diff (as)": 226.690937090026,
          "KE range (eV)": "4.0–7.2",
          "Photon energy fr (eV)": 14.3,
          "Photon energy to (eV)": 15.9,
          "Polar ang (deg)": 103
         },
         {
          "EWS delay diff (as)": -105.621529404753,
          "KE range (eV)": "7.2–13.6",
          "Photon energy fr (eV)": 15.9,
          "Photon energy to (eV)": 19.1,
          "Polar ang (deg)": 103
         },
         {
          "EWS delay diff (as)": 226.437415988608,
          "KE range (eV)": "4.0–7.2",
          "Photon energy fr (eV)": 14.3,
          "Photon energy to (eV)": 15.9,
          "Polar ang (deg)": 104
         },
         {
          "EWS delay diff (as)": -106.525358965835,
          "KE range (eV)": "7.2–13.6",
          "Photon energy fr (eV)": 15.9,
          "Photon energy to (eV)": 19.1,
          "Polar ang (deg)": 104
         },
         {
          "EWS delay diff (as)": 226.109623698245,
          "KE range (eV)": "4.0–7.2",
          "Photon energy fr (eV)": 14.3,
          "Photon energy to (eV)": 15.9,
          "Polar ang (deg)": 105
         },
         {
          "EWS delay diff (as)": -107.474197863017,
          "KE range (eV)": "7.2–13.6",
          "Photon energy fr (eV)": 15.9,
          "Photon energy to (eV)": 19.1,
          "Polar ang (deg)": 105
         },
         {
          "EWS delay diff (as)": 225.69375804338,
          "KE range (eV)": "4.0–7.2",
          "Photon energy fr (eV)": 14.3,
          "Photon energy to (eV)": 15.9,
          "Polar ang (deg)": 106
         },
         {
          "EWS delay diff (as)": -108.460602658033,
          "KE range (eV)": "7.2–13.6",
          "Photon energy fr (eV)": 15.9,
          "Photon energy to (eV)": 19.1,
          "Polar ang (deg)": 106
         },
         {
          "EWS delay diff (as)": 225.173282466028,
          "KE range (eV)": "4.0–7.2",
          "Photon energy fr (eV)": 14.3,
          "Photon energy to (eV)": 15.9,
          "Polar ang (deg)": 107
         },
         {
          "EWS delay diff (as)": -109.475243479738,
          "KE range (eV)": "7.2–13.6",
          "Photon energy fr (eV)": 15.9,
          "Photon energy to (eV)": 19.1,
          "Polar ang (deg)": 107
         },
         {
          "EWS delay diff (as)": 224.528492554003,
          "KE range (eV)": "4.0–7.2",
          "Photon energy fr (eV)": 14.3,
          "Photon energy to (eV)": 15.9,
          "Polar ang (deg)": 108
         },
         {
          "EWS delay diff (as)": -110.506554499016,
          "KE range (eV)": "7.2–13.6",
          "Photon energy fr (eV)": 15.9,
          "Photon energy to (eV)": 19.1,
          "Polar ang (deg)": 108
         },
         {
          "EWS delay diff (as)": 223.735972094609,
          "KE range (eV)": "4.0–7.2",
          "Photon energy fr (eV)": 14.3,
          "Photon energy to (eV)": 15.9,
          "Polar ang (deg)": 109
         },
         {
          "EWS delay diff (as)": -111.540324709626,
          "KE range (eV)": "7.2–13.6",
          "Photon energy fr (eV)": 15.9,
          "Photon energy to (eV)": 19.1,
          "Polar ang (deg)": 109
         },
         {
          "EWS delay diff (as)": 222.767924406059,
          "KE range (eV)": "4.0–7.2",
          "Photon energy fr (eV)": 14.3,
          "Photon energy to (eV)": 15.9,
          "Polar ang (deg)": 110
         },
         {
          "EWS delay diff (as)": -112.559224304298,
          "KE range (eV)": "7.2–13.6",
          "Photon energy fr (eV)": 15.9,
          "Photon energy to (eV)": 19.1,
          "Polar ang (deg)": 110
         },
         {
          "EWS delay diff (as)": 221.591360255143,
          "KE range (eV)": "4.0–7.2",
          "Photon energy fr (eV)": 14.3,
          "Photon energy to (eV)": 15.9,
          "Polar ang (deg)": 111
         },
         {
          "EWS delay diff (as)": -113.542261461085,
          "KE range (eV)": "7.2–13.6",
          "Photon energy fr (eV)": 15.9,
          "Photon energy to (eV)": 19.1,
          "Polar ang (deg)": 111
         },
         {
          "EWS delay diff (as)": 220.167120704129,
          "KE range (eV)": "4.0–7.2",
          "Photon energy fr (eV)": 14.3,
          "Photon energy to (eV)": 15.9,
          "Polar ang (deg)": 112
         },
         {
          "EWS delay diff (as)": -114.464164536863,
          "KE range (eV)": "7.2–13.6",
          "Photon energy fr (eV)": 15.9,
          "Photon energy to (eV)": 19.1,
          "Polar ang (deg)": 112
         },
         {
          "EWS delay diff (as)": 218.448712570846,
          "KE range (eV)": "4.0–7.2",
          "Photon energy fr (eV)": 14.3,
          "Photon energy to (eV)": 15.9,
          "Polar ang (deg)": 113
         },
         {
          "EWS delay diff (as)": -115.294685862176,
          "KE range (eV)": "7.2–13.6",
          "Photon energy fr (eV)": 15.9,
          "Photon energy to (eV)": 19.1,
          "Polar ang (deg)": 113
         },
         {
          "EWS delay diff (as)": 216.380937875713,
          "KE range (eV)": "4.0–7.2",
          "Photon energy fr (eV)": 14.3,
          "Photon energy to (eV)": 15.9,
          "Polar ang (deg)": 114
         },
         {
          "EWS delay diff (as)": -115.9978264339,
          "KE range (eV)": "7.2–13.6",
          "Photon energy fr (eV)": 15.9,
          "Photon energy to (eV)": 19.1,
          "Polar ang (deg)": 114
         },
         {
          "EWS delay diff (as)": 213.898310339,
          "KE range (eV)": "4.0–7.2",
          "Photon energy fr (eV)": 14.3,
          "Photon energy to (eV)": 15.9,
          "Polar ang (deg)": 115
         },
         {
          "EWS delay diff (as)": -116.530987443804,
          "KE range (eV)": "7.2–13.6",
          "Photon energy fr (eV)": 15.9,
          "Photon energy to (eV)": 19.1,
          "Polar ang (deg)": 115
         },
         {
          "EWS delay diff (as)": 210.923278381842,
          "KE range (eV)": "4.0–7.2",
          "Photon energy fr (eV)": 14.3,
          "Photon energy to (eV)": 15.9,
          "Polar ang (deg)": 116
         },
         {
          "EWS delay diff (as)": -116.844067900689,
          "KE range (eV)": "7.2–13.6",
          "Photon energy fr (eV)": 15.9,
          "Photon energy to (eV)": 19.1,
          "Polar ang (deg)": 116
         },
         {
          "EWS delay diff (as)": 207.364326221704,
          "KE range (eV)": "4.0–7.2",
          "Photon energy fr (eV)": 14.3,
          "Photon energy to (eV)": 15.9,
          "Polar ang (deg)": 117
         },
         {
          "EWS delay diff (as)": -116.878552921499,
          "KE range (eV)": "7.2–13.6",
          "Photon energy fr (eV)": 15.9,
          "Photon energy to (eV)": 19.1,
          "Polar ang (deg)": 117
         },
         {
          "EWS delay diff (as)": 203.114120673451,
          "KE range (eV)": "4.0–7.2",
          "Photon energy fr (eV)": 14.3,
          "Photon energy to (eV)": 15.9,
          "Polar ang (deg)": 118
         },
         {
          "EWS delay diff (as)": -116.566683511768,
          "KE range (eV)": "7.2–13.6",
          "Photon energy fr (eV)": 15.9,
          "Photon energy to (eV)": 19.1,
          "Polar ang (deg)": 118
         },
         {
          "EWS delay diff (as)": 198.048038624185,
          "KE range (eV)": "4.0–7.2",
          "Photon energy fr (eV)": 14.3,
          "Photon energy to (eV)": 15.9,
          "Polar ang (deg)": 119
         },
         {
          "EWS delay diff (as)": -115.830879524068,
          "KE range (eV)": "7.2–13.6",
          "Photon energy fr (eV)": 15.9,
          "Photon energy to (eV)": 19.1,
          "Polar ang (deg)": 119
         },
         {
          "EWS delay diff (as)": 192.023687126556,
          "KE range (eV)": "4.0–7.2",
          "Photon energy fr (eV)": 14.3,
          "Photon energy to (eV)": 15.9,
          "Polar ang (deg)": 120
         },
         {
          "EWS delay diff (as)": -114.583722238337,
          "KE range (eV)": "7.2–13.6",
          "Photon energy fr (eV)": 15.9,
          "Photon energy to (eV)": 19.1,
          "Polar ang (deg)": 120
         },
         {
          "EWS delay diff (as)": 184.882457186964,
          "KE range (eV)": "4.0–7.2",
          "Photon energy fr (eV)": 14.3,
          "Photon energy to (eV)": 15.9,
          "Polar ang (deg)": 121
         },
         {
          "EWS delay diff (as)": -112.729013211419,
          "KE range (eV)": "7.2–13.6",
          "Photon energy fr (eV)": 15.9,
          "Photon energy to (eV)": 19.1,
          "Polar ang (deg)": 121
         },
         {
          "EWS delay diff (as)": 176.45475630262,
          "KE range (eV)": "4.0–7.2",
          "Photon energy fr (eV)": 14.3,
          "Photon energy to (eV)": 15.9,
          "Polar ang (deg)": 122
         },
         {
          "EWS delay diff (as)": -110.164723478574,
          "KE range (eV)": "7.2–13.6",
          "Photon energy fr (eV)": 15.9,
          "Photon energy to (eV)": 19.1,
          "Polar ang (deg)": 122
         },
         {
          "EWS delay diff (as)": 166.571276569125,
          "KE range (eV)": "4.0–7.2",
          "Photon energy fr (eV)": 14.3,
          "Photon energy to (eV)": 15.9,
          "Polar ang (deg)": 123
         },
         {
          "EWS delay diff (as)": -106.788998868462,
          "KE range (eV)": "7.2–13.6",
          "Photon energy fr (eV)": 15.9,
          "Photon energy to (eV)": 19.1,
          "Polar ang (deg)": 123
         },
         {
          "EWS delay diff (as)": 155.08317699754,
          "KE range (eV)": "4.0–7.2",
          "Photon energy fr (eV)": 14.3,
          "Photon energy to (eV)": 15.9,
          "Polar ang (deg)": 124
         },
         {
          "EWS delay diff (as)": -102.510644782525,
          "KE range (eV)": "7.2–13.6",
          "Photon energy fr (eV)": 15.9,
          "Photon energy to (eV)": 19.1,
          "Polar ang (deg)": 124
         },
         {
          "EWS delay diff (as)": 141.893651132751,
          "KE range (eV)": "4.0–7.2",
          "Photon energy fr (eV)": 14.3,
          "Photon energy to (eV)": 15.9,
          "Polar ang (deg)": 125
         },
         {
          "EWS delay diff (as)": -97.2653080215751,
          "KE range (eV)": "7.2–13.6",
          "Photon energy fr (eV)": 15.9,
          "Photon energy to (eV)": 19.1,
          "Polar ang (deg)": 125
         },
         {
          "EWS delay diff (as)": 127.000722318688,
          "KE range (eV)": "4.0–7.2",
          "Photon energy fr (eV)": 14.3,
          "Photon energy to (eV)": 15.9,
          "Polar ang (deg)": 126
         },
         {
          "EWS delay diff (as)": -91.0372584490656,
          "KE range (eV)": "7.2–13.6",
          "Photon energy fr (eV)": 15.9,
          "Photon energy to (eV)": 19.1,
          "Polar ang (deg)": 126
         },
         {
          "EWS delay diff (as)": 110.544935755267,
          "KE range (eV)": "4.0–7.2",
          "Photon energy fr (eV)": 14.3,
          "Photon energy to (eV)": 15.9,
          "Polar ang (deg)": 127
         },
         {
          "EWS delay diff (as)": -83.8835878378851,
          "KE range (eV)": "7.2–13.6",
          "Photon energy fr (eV)": 15.9,
          "Photon energy to (eV)": 19.1,
          "Polar ang (deg)": 127
         },
         {
          "EWS delay diff (as)": 92.8464309291507,
          "KE range (eV)": "4.0–7.2",
          "Photon energy fr (eV)": 14.3,
          "Photon energy to (eV)": 15.9,
          "Polar ang (deg)": 128
         },
         {
          "EWS delay diff (as)": -75.9530529755709,
          "KE range (eV)": "7.2–13.6",
          "Photon energy fr (eV)": 15.9,
          "Photon energy to (eV)": 19.1,
          "Polar ang (deg)": 128
         },
         {
          "EWS delay diff (as)": 74.4088640310756,
          "KE range (eV)": "4.0–7.2",
          "Photon energy fr (eV)": 14.3,
          "Photon energy to (eV)": 15.9,
          "Polar ang (deg)": 129
         },
         {
          "EWS delay diff (as)": -67.4882865610354,
          "KE range (eV)": "7.2–13.6",
          "Photon energy fr (eV)": 15.9,
          "Photon energy to (eV)": 19.1,
          "Polar ang (deg)": 129
         },
         {
          "EWS delay diff (as)": 55.8723152582807,
          "KE range (eV)": "4.0–7.2",
          "Photon energy fr (eV)": 14.3,
          "Photon energy to (eV)": 15.9,
          "Polar ang (deg)": 130
         },
         {
          "EWS delay diff (as)": -58.8024359494519,
          "KE range (eV)": "7.2–13.6",
          "Photon energy fr (eV)": 15.9,
          "Photon energy to (eV)": 19.1,
          "Polar ang (deg)": 130
         },
         {
          "EWS delay diff (as)": 37.9187854282675,
          "KE range (eV)": "4.0–7.2",
          "Photon energy fr (eV)": 14.3,
          "Photon energy to (eV)": 15.9,
          "Polar ang (deg)": 131
         },
         {
          "EWS delay diff (as)": -50.2320284010566,
          "KE range (eV)": "7.2–13.6",
          "Photon energy fr (eV)": 15.9,
          "Photon energy to (eV)": 19.1,
          "Polar ang (deg)": 131
         },
         {
          "EWS delay diff (as)": 21.161210952166,
          "KE range (eV)": "4.0–7.2",
          "Photon energy fr (eV)": 14.3,
          "Photon energy to (eV)": 15.9,
          "Polar ang (deg)": 132
         },
         {
          "EWS delay diff (as)": -42.0815272086364,
          "KE range (eV)": "7.2–13.6",
          "Photon energy fr (eV)": 15.9,
          "Photon energy to (eV)": 19.1,
          "Polar ang (deg)": 132
         },
         {
          "EWS delay diff (as)": 6.05760328021706,
          "KE range (eV)": "4.0–7.2",
          "Photon energy fr (eV)": 14.3,
          "Photon energy to (eV)": 15.9,
          "Polar ang (deg)": 133
         },
         {
          "EWS delay diff (as)": -34.5803843771704,
          "KE range (eV)": "7.2–13.6",
          "Photon energy fr (eV)": 15.9,
          "Photon energy to (eV)": 19.1,
          "Polar ang (deg)": 133
         },
         {
          "EWS delay diff (as)": -7.12408671785773,
          "KE range (eV)": "4.0–7.2",
          "Photon energy fr (eV)": 14.3,
          "Photon energy to (eV)": 15.9,
          "Polar ang (deg)": 134
         },
         {
          "EWS delay diff (as)": -27.8653947574974,
          "KE range (eV)": "7.2–13.6",
          "Photon energy fr (eV)": 15.9,
          "Photon energy to (eV)": 19.1,
          "Polar ang (deg)": 134
         },
         {
          "EWS delay diff (as)": -18.2926434472842,
          "KE range (eV)": "4.0–7.2",
          "Photon energy fr (eV)": 14.3,
          "Photon energy to (eV)": 15.9,
          "Polar ang (deg)": 135
         },
         {
          "EWS delay diff (as)": -21.9872257221824,
          "KE range (eV)": "7.2–13.6",
          "Photon energy fr (eV)": 15.9,
          "Photon energy to (eV)": 19.1,
          "Polar ang (deg)": 135
         },
         {
          "EWS delay diff (as)": -27.4921332347776,
          "KE range (eV)": "4.0–7.2",
          "Photon energy fr (eV)": 14.3,
          "Photon energy to (eV)": 15.9,
          "Polar ang (deg)": 136
         },
         {
          "EWS delay diff (as)": -16.9309629776652,
          "KE range (eV)": "7.2–13.6",
          "Photon energy fr (eV)": 15.9,
          "Photon energy to (eV)": 19.1,
          "Polar ang (deg)": 136
         },
         {
          "EWS delay diff (as)": -34.8539697925365,
          "KE range (eV)": "4.0–7.2",
          "Photon energy fr (eV)": 14.3,
          "Photon energy to (eV)": 15.9,
          "Polar ang (deg)": 137
         },
         {
          "EWS delay diff (as)": -12.6398567456376,
          "KE range (eV)": "7.2–13.6",
          "Photon energy fr (eV)": 15.9,
          "Photon energy to (eV)": 19.1,
          "Polar ang (deg)": 137
         },
         {
          "EWS delay diff (as)": -40.5559288461797,
          "KE range (eV)": "4.0–7.2",
          "Photon energy fr (eV)": 14.3,
          "Photon energy to (eV)": 15.9,
          "Polar ang (deg)": 138
         },
         {
          "EWS delay diff (as)": -9.03556127554473,
          "KE range (eV)": "7.2–13.6",
          "Photon energy fr (eV)": 15.9,
          "Photon energy to (eV)": 19.1,
          "Polar ang (deg)": 138
         },
         {
          "EWS delay diff (as)": -44.7927729029197,
          "KE range (eV)": "4.0–7.2",
          "Photon energy fr (eV)": 14.3,
          "Photon energy to (eV)": 15.9,
          "Polar ang (deg)": 139
         },
         {
          "EWS delay diff (as)": -6.03254572276562,
          "KE range (eV)": "7.2–13.6",
          "Photon energy fr (eV)": 15.9,
          "Photon energy to (eV)": 19.1,
          "Polar ang (deg)": 139
         },
         {
          "EWS delay diff (as)": -47.7578131730025,
          "KE range (eV)": "4.0–7.2",
          "Photon energy fr (eV)": 14.3,
          "Photon energy to (eV)": 15.9,
          "Polar ang (deg)": 140
         },
         {
          "EWS delay diff (as)": -3.54702171851435,
          "KE range (eV)": "7.2–13.6",
          "Photon energy fr (eV)": 15.9,
          "Photon energy to (eV)": 19.1,
          "Polar ang (deg)": 140
         },
         {
          "EWS delay diff (as)": -49.632724485808,
          "KE range (eV)": "4.0–7.2",
          "Photon energy fr (eV)": 14.3,
          "Photon energy to (eV)": 15.9,
          "Polar ang (deg)": 141
         },
         {
          "EWS delay diff (as)": -1.50173873202102,
          "KE range (eV)": "7.2–13.6",
          "Photon energy fr (eV)": 15.9,
          "Photon energy to (eV)": 19.1,
          "Polar ang (deg)": 141
         },
         {
          "EWS delay diff (as)": -50.582818417469,
          "KE range (eV)": "4.0–7.2",
          "Photon energy fr (eV)": 14.3,
          "Photon energy to (eV)": 15.9,
          "Polar ang (deg)": 142
         },
         {
          "EWS delay diff (as)": 0.171946406560198,
          "KE range (eV)": "7.2–13.6",
          "Photon energy fr (eV)": 15.9,
          "Photon energy to (eV)": 19.1,
          "Polar ang (deg)": 142
         },
         {
          "EWS delay diff (as)": -50.7555883176857,
          "KE range (eV)": "4.0–7.2",
          "Photon energy fr (eV)": 14.3,
          "Photon energy to (eV)": 15.9,
          "Polar ang (deg)": 143
         },
         {
          "EWS delay diff (as)": 1.53362403477533,
          "KE range (eV)": "7.2–13.6",
          "Photon energy fr (eV)": 15.9,
          "Photon energy to (eV)": 19.1,
          "Polar ang (deg)": 143
         },
         {
          "EWS delay diff (as)": -50.2810422076559,
          "KE range (eV)": "4.0–7.2",
          "Photon energy fr (eV)": 14.3,
          "Photon energy to (eV)": 15.9,
          "Polar ang (deg)": 144
         },
         {
          "EWS delay diff (as)": 2.63426032459396,
          "KE range (eV)": "7.2–13.6",
          "Photon energy fr (eV)": 15.9,
          "Photon energy to (eV)": 19.1,
          "Polar ang (deg)": 144
         },
         {
          "EWS delay diff (as)": -49.2729047871701,
          "KE range (eV)": "4.0–7.2",
          "Photon energy fr (eV)": 14.3,
          "Photon energy to (eV)": 15.9,
          "Polar ang (deg)": 145
         },
         {
          "EWS delay diff (as)": 3.51703392901861,
          "KE range (eV)": "7.2–13.6",
          "Photon energy fr (eV)": 15.9,
          "Photon energy to (eV)": 19.1,
          "Polar ang (deg)": 145
         },
         {
          "EWS delay diff (as)": -47.8301600844389,
          "KE range (eV)": "4.0–7.2",
          "Photon energy fr (eV)": 14.3,
          "Photon energy to (eV)": 15.9,
          "Polar ang (deg)": 146
         },
         {
          "EWS delay diff (as)": 4.21831106810127,
          "KE range (eV)": "7.2–13.6",
          "Photon energy fr (eV)": 15.9,
          "Photon energy to (eV)": 19.1,
          "Polar ang (deg)": 146
         },
         {
          "EWS delay diff (as)": -46.0386525206759,
          "KE range (eV)": "4.0–7.2",
          "Photon energy fr (eV)": 14.3,
          "Photon energy to (eV)": 15.9,
          "Polar ang (deg)": 147
         },
         {
          "EWS delay diff (as)": 4.76861434898766,
          "KE range (eV)": "7.2–13.6",
          "Photon energy fr (eV)": 15.9,
          "Photon energy to (eV)": 19.1,
          "Polar ang (deg)": 147
         },
         {
          "EWS delay diff (as)": -43.9726096166935,
          "KE range (eV)": "4.0–7.2",
          "Photon energy fr (eV)": 14.3,
          "Photon energy to (eV)": 15.9,
          "Polar ang (deg)": 148
         },
         {
          "EWS delay diff (as)": 5.19351517447457,
          "KE range (eV)": "7.2–13.6",
          "Photon energy fr (eV)": 15.9,
          "Photon energy to (eV)": 19.1,
          "Polar ang (deg)": 148
         },
         {
          "EWS delay diff (as)": -41.6960306240442,
          "KE range (eV)": "4.0–7.2",
          "Photon energy fr (eV)": 14.3,
          "Photon energy to (eV)": 15.9,
          "Polar ang (deg)": 149
         },
         {
          "EWS delay diff (as)": 5.51442190774551,
          "KE range (eV)": "7.2–13.6",
          "Photon energy fr (eV)": 15.9,
          "Photon energy to (eV)": 19.1,
          "Polar ang (deg)": 149
         },
         {
          "EWS delay diff (as)": -39.2639274815647,
          "KE range (eV)": "4.0–7.2",
          "Photon energy fr (eV)": 14.3,
          "Photon energy to (eV)": 15.9,
          "Polar ang (deg)": 150
         },
         {
          "EWS delay diff (as)": 5.7492586383408,
          "KE range (eV)": "7.2–13.6",
          "Photon energy fr (eV)": 15.9,
          "Photon energy to (eV)": 19.1,
          "Polar ang (deg)": 150
         },
         {
          "EWS delay diff (as)": -36.7234243899063,
          "KE range (eV)": "4.0–7.2",
          "Photon energy fr (eV)": 14.3,
          "Photon energy to (eV)": 15.9,
          "Polar ang (deg)": 151
         },
         {
          "EWS delay diff (as)": 5.91304066754029,
          "KE range (eV)": "7.2–13.6",
          "Photon energy fr (eV)": 15.9,
          "Photon energy to (eV)": 19.1,
          "Polar ang (deg)": 151
         },
         {
          "EWS delay diff (as)": -34.114730048859,
          "KE range (eV)": "4.0–7.2",
          "Photon energy fr (eV)": 14.3,
          "Photon energy to (eV)": 15.9,
          "Polar ang (deg)": 152
         },
         {
          "EWS delay diff (as)": 6.01835768544319,
          "KE range (eV)": "7.2–13.6",
          "Photon energy fr (eV)": 15.9,
          "Photon energy to (eV)": 19.1,
          "Polar ang (deg)": 152
         },
         {
          "EWS delay diff (as)": -31.4719982157819,
          "KE range (eV)": "4.0–7.2",
          "Photon energy fr (eV)": 14.3,
          "Photon energy to (eV)": 15.9,
          "Polar ang (deg)": 153
         },
         {
          "EWS delay diff (as)": 6.0757770239407,
          "KE range (eV)": "7.2–13.6",
          "Photon energy fr (eV)": 15.9,
          "Photon energy to (eV)": 19.1,
          "Polar ang (deg)": 153
         },
         {
          "EWS delay diff (as)": -28.8240910867797,
          "KE range (eV)": "4.0–7.2",
          "Photon energy fr (eV)": 14.3,
          "Photon energy to (eV)": 15.9,
          "Polar ang (deg)": 154
         },
         {
          "EWS delay diff (as)": 6.09417903918926,
          "KE range (eV)": "7.2–13.6",
          "Photon energy fr (eV)": 15.9,
          "Photon energy to (eV)": 19.1,
          "Polar ang (deg)": 154
         },
         {
          "EWS delay diff (as)": -26.1952578802357,
          "KE range (eV)": "4.0–7.2",
          "Photon energy fr (eV)": 14.3,
          "Photon energy to (eV)": 15.9,
          "Polar ang (deg)": 155
         },
         {
          "EWS delay diff (as)": 6.08103555640141,
          "KE range (eV)": "7.2–13.6",
          "Photon energy fr (eV)": 15.9,
          "Photon energy to (eV)": 19.1,
          "Polar ang (deg)": 155
         },
         {
          "EWS delay diff (as)": -23.6057388092658,
          "KE range (eV)": "4.0–7.2",
          "Photon energy fr (eV)": 14.3,
          "Photon energy to (eV)": 15.9,
          "Polar ang (deg)": 156
         },
         {
          "EWS delay diff (as)": 6.04264090894443,
          "KE range (eV)": "7.2–13.6",
          "Photon energy fr (eV)": 15.9,
          "Photon energy to (eV)": 19.1,
          "Polar ang (deg)": 156
         },
         {
          "EWS delay diff (as)": -21.0723027460036,
          "KE range (eV)": "4.0–7.2",
          "Photon energy fr (eV)": 14.3,
          "Photon energy to (eV)": 15.9,
          "Polar ang (deg)": 157
         },
         {
          "EWS delay diff (as)": 5.98430368862036,
          "KE range (eV)": "7.2–13.6",
          "Photon energy fr (eV)": 15.9,
          "Photon energy to (eV)": 19.1,
          "Polar ang (deg)": 157
         },
         {
          "EWS delay diff (as)": -18.6087254154105,
          "KE range (eV)": "4.0–7.2",
          "Photon energy fr (eV)": 14.3,
          "Photon energy to (eV)": 15.9,
          "Polar ang (deg)": 158
         },
         {
          "EWS delay diff (as)": 5.91050601567076,
          "KE range (eV)": "7.2–13.6",
          "Photon energy fr (eV)": 15.9,
          "Photon energy to (eV)": 19.1,
          "Polar ang (deg)": 158
         },
         {
          "EWS delay diff (as)": -16.2262138869647,
          "KE range (eV)": "4.0–7.2",
          "Photon energy fr (eV)": 14.3,
          "Photon energy to (eV)": 15.9,
          "Polar ang (deg)": 159
         },
         {
          "EWS delay diff (as)": 5.82503598744773,
          "KE range (eV)": "7.2–13.6",
          "Photon energy fr (eV)": 15.9,
          "Photon energy to (eV)": 19.1,
          "Polar ang (deg)": 159
         },
         {
          "EWS delay diff (as)": -13.9337823795934,
          "KE range (eV)": "4.0–7.2",
          "Photon energy fr (eV)": 14.3,
          "Photon energy to (eV)": 15.9,
          "Polar ang (deg)": 160
         },
         {
          "EWS delay diff (as)": 5.73109798075678,
          "KE range (eV)": "7.2–13.6",
          "Photon energy fr (eV)": 15.9,
          "Photon energy to (eV)": 19.1,
          "Polar ang (deg)": 160
         },
         {
          "EWS delay diff (as)": -11.7385838709019,
          "KE range (eV)": "4.0–7.2",
          "Photon energy fr (eV)": 14.3,
          "Photon energy to (eV)": 15.9,
          "Polar ang (deg)": 161
         },
         {
          "EWS delay diff (as)": 5.63140465676375,
          "KE range (eV)": "7.2–13.6",
          "Photon energy fr (eV)": 15.9,
          "Photon energy to (eV)": 19.1,
          "Polar ang (deg)": 161
         },
         {
          "EWS delay diff (as)": -9.64620163019261,
          "KE range (eV)": "4.0–7.2",
          "Photon energy fr (eV)": 14.3,
          "Photon energy to (eV)": 15.9,
          "Polar ang (deg)": 162
         },
         {
          "EWS delay diff (as)": 5.52825383186053,
          "KE range (eV)": "7.2–13.6",
          "Photon energy fr (eV)": 15.9,
          "Photon energy to (eV)": 19.1,
          "Polar ang (deg)": 162
         },
         {
          "EWS delay diff (as)": -7.66090450861915,
          "KE range (eV)": "4.0–7.2",
          "Photon energy fr (eV)": 14.3,
          "Photon energy to (eV)": 15.9,
          "Polar ang (deg)": 163
         },
         {
          "EWS delay diff (as)": 5.42359281088536,
          "KE range (eV)": "7.2–13.6",
          "Photon energy fr (eV)": 15.9,
          "Photon energy to (eV)": 19.1,
          "Polar ang (deg)": 163
         },
         {
          "EWS delay diff (as)": -5.78586958389383,
          "KE range (eV)": "4.0–7.2",
          "Photon energy fr (eV)": 14.3,
          "Photon energy to (eV)": 15.9,
          "Polar ang (deg)": 164
         },
         {
          "EWS delay diff (as)": 5.31907231619421,
          "KE range (eV)": "7.2–13.6",
          "Photon energy fr (eV)": 15.9,
          "Photon energy to (eV)": 19.1,
          "Polar ang (deg)": 164
         },
         {
          "EWS delay diff (as)": -4.02337553371416,
          "KE range (eV)": "4.0–7.2",
          "Photon energy fr (eV)": 14.3,
          "Photon energy to (eV)": 15.9,
          "Polar ang (deg)": 165
         },
         {
          "EWS delay diff (as)": 5.21609176419963,
          "KE range (eV)": "7.2–13.6",
          "Photon energy fr (eV)": 15.9,
          "Photon energy to (eV)": 19.1,
          "Polar ang (deg)": 165
         },
         {
          "EWS delay diff (as)": -2.37496989579875,
          "KE range (eV)": "4.0–7.2",
          "Photon energy fr (eV)": 14.3,
          "Photon energy to (eV)": 15.9,
          "Polar ang (deg)": 166
         },
         {
          "EWS delay diff (as)": 5.11583733077608,
          "KE range (eV)": "7.2–13.6",
          "Photon energy fr (eV)": 15.9,
          "Photon energy to (eV)": 19.1,
          "Polar ang (deg)": 166
         },
         {
          "EWS delay diff (as)": -0.841613147945719,
          "KE range (eV)": "4.0–7.2",
          "Photon energy fr (eV)": 14.3,
          "Photon energy to (eV)": 15.9,
          "Polar ang (deg)": 167
         },
         {
          "EWS delay diff (as)": 5.01931399166128,
          "KE range (eV)": "7.2–13.6",
          "Photon energy fr (eV)": 15.9,
          "Photon energy to (eV)": 19.1,
          "Polar ang (deg)": 167
         },
         {
          "EWS delay diff (as)": 0.576197687115808,
          "KE range (eV)": "4.0–7.2",
          "Photon energy fr (eV)": 14.3,
          "Photon energy to (eV)": 15.9,
          "Polar ang (deg)": 168
         },
         {
          "EWS delay diff (as)": 4.92737251546261,
          "KE range (eV)": "7.2–13.6",
          "Photon energy fr (eV)": 15.9,
          "Photon energy to (eV)": 19.1,
          "Polar ang (deg)": 168
         },
         {
          "EWS delay diff (as)": 1.87832343826226,
          "KE range (eV)": "4.0–7.2",
          "Photon energy fr (eV)": 14.3,
          "Photon energy to (eV)": 15.9,
          "Polar ang (deg)": 169
         },
         {
          "EWS delay diff (as)": 4.84073221668058,
          "KE range (eV)": "7.2–13.6",
          "Photon energy fr (eV)": 15.9,
          "Photon energy to (eV)": 19.1,
          "Polar ang (deg)": 169
         },
         {
          "EWS delay diff (as)": 3.06489294605597,
          "KE range (eV)": "4.0–7.2",
          "Photon energy fr (eV)": 14.3,
          "Photon energy to (eV)": 15.9,
          "Polar ang (deg)": 170
         },
         {
          "EWS delay diff (as)": 4.76000013429287,
          "KE range (eV)": "7.2–13.6",
          "Photon energy fr (eV)": 15.9,
          "Photon energy to (eV)": 19.1,
          "Polar ang (deg)": 170
         },
         {
          "EWS delay diff (as)": 4.13622697463938,
          "KE range (eV)": "4.0–7.2",
          "Photon energy fr (eV)": 14.3,
          "Photon energy to (eV)": 15.9,
          "Polar ang (deg)": 171
         },
         {
          "EWS delay diff (as)": 4.68568718753646,
          "KE range (eV)": "7.2–13.6",
          "Photon energy fr (eV)": 15.9,
          "Photon energy to (eV)": 19.1,
          "Polar ang (deg)": 171
         },
         {
          "EWS delay diff (as)": 5.09277408957318,
          "KE range (eV)": "4.0–7.2",
          "Photon energy fr (eV)": 14.3,
          "Photon energy to (eV)": 15.9,
          "Polar ang (deg)": 172
         },
         {
          "EWS delay diff (as)": 4.61822176300716,
          "KE range (eV)": "7.2–13.6",
          "Photon energy fr (eV)": 15.9,
          "Photon energy to (eV)": 19.1,
          "Polar ang (deg)": 172
         },
         {
          "EWS delay diff (as)": 5.93505692523569,
          "KE range (eV)": "4.0–7.2",
          "Photon energy fr (eV)": 14.3,
          "Photon energy to (eV)": 15.9,
          "Polar ang (deg)": 173
         },
         {
          "EWS delay diff (as)": 4.55796111008184,
          "KE range (eV)": "7.2–13.6",
          "Photon energy fr (eV)": 15.9,
          "Photon energy to (eV)": 19.1,
          "Polar ang (deg)": 173
         },
         {
          "EWS delay diff (as)": 6.66362747016053,
          "KE range (eV)": "4.0–7.2",
          "Photon energy fr (eV)": 14.3,
          "Photon energy to (eV)": 15.9,
          "Polar ang (deg)": 174
         },
         {
          "EWS delay diff (as)": 4.50520085365209,
          "KE range (eV)": "7.2–13.6",
          "Photon energy fr (eV)": 15.9,
          "Photon energy to (eV)": 19.1,
          "Polar ang (deg)": 174
         },
         {
          "EWS delay diff (as)": 7.27903018496751,
          "KE range (eV)": "4.0–7.2",
          "Photon energy fr (eV)": 14.3,
          "Photon energy to (eV)": 15.9,
          "Polar ang (deg)": 175
         },
         {
          "EWS delay diff (as)": 4.46018287933525,
          "KE range (eV)": "7.2–13.6",
          "Photon energy fr (eV)": 15.9,
          "Photon energy to (eV)": 19.1,
          "Polar ang (deg)": 175
         },
         {
          "EWS delay diff (as)": 7.78177194421352,
          "KE range (eV)": "4.0–7.2",
          "Photon energy fr (eV)": 14.3,
          "Photon energy to (eV)": 15.9,
          "Polar ang (deg)": 176
         },
         {
          "EWS delay diff (as)": 4.42310179893929,
          "KE range (eV)": "7.2–13.6",
          "Photon energy fr (eV)": 15.9,
          "Photon energy to (eV)": 19.1,
          "Polar ang (deg)": 176
         },
         {
          "EWS delay diff (as)": 8.17229795714193,
          "KE range (eV)": "4.0–7.2",
          "Photon energy fr (eV)": 14.3,
          "Photon energy to (eV)": 15.9,
          "Polar ang (deg)": 177
         },
         {
          "EWS delay diff (as)": 4.39411016463856,
          "KE range (eV)": "7.2–13.6",
          "Photon energy fr (eV)": 15.9,
          "Photon energy to (eV)": 19.1,
          "Polar ang (deg)": 177
         },
         {
          "EWS delay diff (as)": 8.45097297330533,
          "KE range (eV)": "4.0–7.2",
          "Photon energy fr (eV)": 14.3,
          "Photon energy to (eV)": 15.9,
          "Polar ang (deg)": 178
         },
         {
          "EWS delay diff (as)": 4.37332256587144,
          "KE range (eV)": "7.2–13.6",
          "Photon energy fr (eV)": 15.9,
          "Photon energy to (eV)": 19.1,
          "Polar ang (deg)": 178
         },
         {
          "EWS delay diff (as)": 8.61806722015928,
          "KE range (eV)": "4.0–7.2",
          "Photon energy fr (eV)": 14.3,
          "Photon energy to (eV)": 15.9,
          "Polar ang (deg)": 179
         },
         {
          "EWS delay diff (as)": 4.36081871350437,
          "KE range (eV)": "7.2–13.6",
          "Photon energy fr (eV)": 15.9,
          "Photon energy to (eV)": 19.1,
          "Polar ang (deg)": 179
         },
         {
          "EWS delay diff (as)": 8.67374665279061,
          "KE range (eV)": "4.0–7.2",
          "Photon energy fr (eV)": 14.3,
          "Photon energy to (eV)": 15.9,
          "Polar ang (deg)": 180
         },
         {
          "EWS delay diff (as)": 4.35664558912715,
          "KE range (eV)": "7.2–13.6",
          "Photon energy fr (eV)": 15.9,
          "Photon energy to (eV)": 19.1,
          "Polar ang (deg)": 180
         }
        ]
       },
       "layer": [
        {
         "data": {
          "name": "data-0213430a14571113e45c330ba07813ad"
         },
         "encoding": {
          "color": {
           "field": "KE range (eV)",
           "type": "nominal"
          },
          "x": {
           "axis": {
            "title": "Polar angle (deg)"
           },
           "field": "Polar ang (deg)",
           "type": "quantitative"
          },
          "y": {
           "axis": {
            "title": "EWS delay difference (as)"
           },
           "field": "EWS delay diff (as)",
           "type": "quantitative"
          }
         },
         "mark": "point"
        },
        {
         "data": {
          "name": "data-0213430a14571113e45c330ba07813ad"
         },
         "encoding": {
          "color": {
           "field": "KE range (eV)",
           "type": "nominal"
          },
          "x": {
           "field": "Polar ang (deg)",
           "type": "quantitative"
          },
          "y": {
           "field": "EWS delay diff fr (as)",
           "type": "quantitative"
          },
          "y2": {
           "field": "EWS delay diff to (as)",
           "type": "quantitative"
          }
         },
         "mark": {
          "opacity": 0.1,
          "type": "area"
         }
        },
        {
         "data": {
          "name": "data-2b9305226ea1649fdebd26075a316204"
         },
         "encoding": {
          "color": {
           "field": "KE range (eV)",
           "type": "nominal"
          },
          "x": {
           "field": "Polar ang (deg)",
           "type": "quantitative"
          },
          "y": {
           "field": "EWS delay diff (as)",
           "type": "quantitative"
          }
         },
         "mark": "line"
        },
        {
         "data": {
          "name": "data-20d30a8d055a2ba37c4d5f58c792a945"
         },
         "encoding": {
          "color": {
           "field": "KE range (eV)",
           "type": "nominal"
          },
          "x": {
           "field": "Polar ang (deg)",
           "type": "quantitative"
          },
          "y": {
           "field": "EWS delay diff (as)",
           "type": "quantitative"
          }
         },
         "mark": {
          "strokeDash": [
           8,
           8
          ],
          "type": "line"
         },
         "selection": {
          "selector010": {
           "bind": "scales",
           "encodings": [
            "y"
           ],
           "mark": {
            "fill": "#333",
            "fillOpacity": 0.125,
            "stroke": "white"
           },
           "on": "[mousedown, window:mouseup] > window:mousemove!",
           "resolve": "global",
           "translate": "[mousedown, window:mouseup] > window:mousemove!",
           "type": "interval",
           "zoom": "wheel!"
          }
         }
        }
       ]
      },
      "image/png": "[encoded data removed]",
      "text/plain": [
       "<VegaLite 2 object>\n",
       "\n",
       "If you see this message, it means the renderer has not been properly enabled\n",
       "for the frontend that you are using. For more information, see\n",
       "https://altair-viz.github.io/user_guide/troubleshooting.html\n"
      ]
     },
     "execution_count": 26,
     "metadata": {},
     "output_type": "execute_result"
    }
   ],
   "source": [
    "data = pd.read_excel(\"Data/Ne EWS delay diffs.xlsx\", sheet_name=None)\n",
    "\n",
    "base = alt.Chart(data[\"Measured\"])\n",
    "base.mark_point().encode(\n",
    "    x=alt.X(\"Polar ang (deg)\", axis=alt.Axis(title=\"Polar angle (deg)\")),\n",
    "    y=alt.Y(\"EWS delay diff (as)\", axis=alt.Axis(title=\"EWS delay difference (as)\")),\n",
    "    color=\"KE range (eV)\",\n",
    ") + base.mark_area(opacity=0.1).encode(\n",
    "    x=\"Polar ang (deg)\",\n",
    "    y=\"EWS delay diff fr (as)\",\n",
    "    y2=\"EWS delay diff to (as)\",\n",
    "    color=\"KE range (eV)\",\n",
    ") + alt.Chart(data[\"TDCASSCF\"]).mark_line().encode(\n",
    "    x=\"Polar ang (deg)\",\n",
    "    y=\"EWS delay diff (as)\",\n",
    "    color=\"KE range (eV)\",\n",
    ") + alt.Chart(data[\"Perturb\"]).mark_line(strokeDash=[8, 8]).encode(\n",
    "    x=\"Polar ang (deg)\",\n",
    "    y=\"EWS delay diff (as)\",\n",
    "    color=\"KE range (eV)\",\n",
    ").interactive(bind_x=False)"
   ]
  }
 ],
 "metadata": {
  "kernelspec": {
   "display_name": "Python 3",
   "language": "python",
   "name": "python3"
  },
  "language_info": {
   "codemirror_mode": {
    "name": "ipython",
    "version": 3
   },
   "file_extension": ".py",
   "mimetype": "text/x-python",
   "name": "python",
   "nbconvert_exporter": "python",
   "pygments_lexer": "ipython3",
   "version": "3.6.5"
  }
 },
 "nbformat": 4,
 "nbformat_minor": 2
}
