{
 "cells": [
  {
   "cell_type": "code",
   "execution_count": 1,
   "metadata": {},
   "outputs": [],
   "source": [
    "from scipy.optimize import least_squares, OptimizeResult\n",
    "from yaml import safe_load\n",
    "from jinja2 import Template\n",
    "\n",
    "from padtools import TargetNeonPad"
   ]
  },
  {
   "cell_type": "code",
   "execution_count": 2,
   "metadata": {},
   "outputs": [],
   "source": [
    "with open('Data/beta_neon_ishikawa.yaml', 'r') as f:\n",
    "    measured = safe_load(Template(f.read()).render())"
   ]
  },
  {
   "cell_type": "code",
   "execution_count": 3,
   "metadata": {},
   "outputs": [
    {
     "name": "stdout",
     "output_type": "stream",
     "text": [
      "Dataset good1...\n"
     ]
    },
    {
     "name": "stderr",
     "output_type": "stream",
     "text": [
      "<string>:2: RuntimeWarning: invalid value encountered in double_scalars\n"
     ]
    },
    {
     "name": "stdout",
     "output_type": "stream",
     "text": [
      "Fitting report...\n",
      "                                                                          c_sp       c_psp       c_pdp        c_dp       c_fdp       eta_s     eta_psp     eta_pdp       eta_d       eta_f\n",
      "at:                                                                     -0.457      -2.550      -3.157       1.146       2.697       0.003       0.102      -3.502      -0.878       0.000\n",
      "error:                                                                   0.000       0.000       0.000       0.000       0.000       0.000       0.000       0.000       0.000       0.000\n",
      "\n",
      "                        target    examined        diff      weight     d/dc_sp    d/dc_psp    d/dc_pdp     d/dc_dp    d/dc_fdp    d/deta_s  d/deta_psp  d/deta_pdp    d/deta_d    d/deta_f\n",
      "w2w_b0:                  1.000       1.000      -0.000           4      -0.024      -0.001      -0.176       0.304       0.401       0.000       0.170      -0.170       0.000       0.000\n",
      "w2w_beta1_amp:           0.679       0.636       0.042           1      -0.098      -0.125       0.250       0.317       0.023       0.010       0.155      -0.655      -0.010       0.501\n",
      "w2w_beta1_shift:         1.464       1.467      -0.002           4      -0.034       0.162      -0.380      -0.013      -0.292      -0.082       0.506      -0.684      -0.918       1.178\n",
      "w2w_beta2:              -0.144      -0.152       0.008           1      -0.126      -0.309       0.588       0.399       0.205      -0.068       0.287      -0.979       0.068       0.693\n",
      "w2w_beta3_amp:           1.094       1.097      -0.003           1      -0.250      -0.196       0.236       0.514      -0.170      -0.141      -0.260       0.143       0.141       0.117\n",
      "w2w_beta3_shift:         0.840       0.838       0.002           4       0.281      -0.026      -0.013       0.112      -0.039      -0.115       0.460      -0.122      -0.885       0.662\n",
      "w2w_beta4:               1.276       1.233       0.043           1       0.030      -0.407       0.303      -0.375       0.135       0.000      -0.317       0.108       0.000       0.209\n",
      "wonly_beta2:            -0.492      -0.466      -0.026           1      -0.000      -0.377       0.649       0.000       0.403      -0.000       0.415      -1.259       0.000       0.845\n",
      "wonly_beta4:             1.469       1.503      -0.034           1       0.000      -0.495       0.428       0.000       0.033       0.000      -0.443       0.188       0.000       0.255\n"
     ]
    }
   ],
   "source": [
    "k = 'good1'\n",
    "m = measured[k]\n",
    "print('Dataset {}...'.format(k))\n",
    "pad = TargetNeonPad(\n",
    "    w2w_beta1_amp=m['w2w_beta1_amp'],\n",
    "    w2w_beta1_amp_err=m.get('w2w_beta1_amp_err', None),\n",
    "    w2w_beta1_shift=m['w2w_beta1_shift'],\n",
    "    w2w_beta1_shift_err=m.get('w2w_beta1_shift_err', None),\n",
    "    w2w_beta2=m['w2w_beta2'],\n",
    "    w2w_beta2_err=m.get('w2w_beta2_err', None),\n",
    "    w2w_beta3_amp=m['w2w_beta3_amp'],\n",
    "    w2w_beta3_amp_err=m.get('w2w_beta3_amp_err', None),\n",
    "    w2w_beta3_shift=m['w2w_beta3_shift'],\n",
    "    w2w_beta3_shift_err=m.get('w2w_beta3_shift_err', None),\n",
    "    w2w_beta4=m['w2w_beta4'],\n",
    "    w2w_beta4_err=m.get('w2w_beta4_err', None),\n",
    "    wonly_beta2=m['wonly_beta2'],\n",
    "    wonly_beta2_err=m.get('wonly_beta2_err', None),\n",
    "    wonly_beta4=m['wonly_beta4'],\n",
    "    wonly_beta4_err=m.get('wonly_beta4_err', None),\n",
    "    **m.get('weights', {}),\n",
    ")\n",
    "\n",
    "x0 = [m['x0'][k.name.lower()] for k in pad.XKEYS if k not in pad.xfixed]\n",
    "opt: OptimizeResult = least_squares(\n",
    "    pad.zdiffmat,\n",
    "    [d['init'] for d in x0],\n",
    "    jac=pad.zdiffjacmat,\n",
    "    bounds=[[d['lower'] for d in x0], [d['upper'] for d in x0]],\n",
    "    **m.get('opts', {}),\n",
    ")\n",
    "\n",
    "print('Fitting report...')\n",
    "pad.report(opt.x)\n",
    "if not opt.success:\n",
    "    raise AssertionError('Fail to optimize the pad!')"
   ]
  },
  {
   "cell_type": "code",
   "execution_count": 4,
   "metadata": {},
   "outputs": [
    {
     "name": "stdout",
     "output_type": "stream",
     "text": [
      "Dataset good2...\n"
     ]
    },
    {
     "name": "stderr",
     "output_type": "stream",
     "text": [
      "<string>:2: RuntimeWarning: invalid value encountered in double_scalars\n"
     ]
    },
    {
     "name": "stdout",
     "output_type": "stream",
     "text": [
      "Fitting report...\n",
      "                                                                          c_sp       c_psp       c_pdp        c_dp       c_fdp       eta_s     eta_psp     eta_pdp       eta_d       eta_f\n",
      "at:                                                                     -1.317       0.246      -2.493       1.258       2.503       1.076      -1.833      -3.296      -1.084       0.000\n",
      "error:                                                                   0.000       0.000       0.000       0.000       0.000       0.000       0.000       0.000       0.000       0.000\n",
      "\n",
      "                        target    examined        diff      weight     d/dc_sp    d/dc_psp    d/dc_pdp     d/dc_dp    d/dc_fdp    d/deta_s  d/deta_psp  d/deta_pdp    d/deta_d    d/deta_f\n",
      "w2w_b0:                  1.000       1.000      -0.000           4      -0.070       0.000      -0.224       0.334       0.372       0.000       0.029      -0.029       0.000       0.000\n",
      "w2w_beta1_amp:           0.537       0.547      -0.010           1      -0.164       0.125       0.215       0.040       0.095       0.026      -0.009      -0.524      -0.026       0.533\n",
      "w2w_beta1_shift:         1.704       1.703       0.001           4      -0.036      -0.050      -0.395      -0.038      -0.389      -0.488       0.056      -0.423      -0.512       1.367\n",
      "w2w_beta2:              -0.527      -0.541       0.014           1       0.080       0.075       0.294       0.391       0.131      -0.231       0.006      -0.269       0.231       0.264\n",
      "w2w_beta3_amp:           0.408       0.416      -0.008           1      -0.126      -0.148       0.125       0.030       0.058      -0.464      -0.052       0.104       0.464      -0.052\n",
      "w2w_beta3_shift:         0.080       0.081      -0.001           4       0.848       0.389       0.088       0.888       0.050      -0.490      -0.088      -0.194      -0.510       1.282\n",
      "w2w_beta4:               0.225       0.214       0.011           1       0.015       0.099       0.132      -0.071       0.165       0.000      -0.097      -0.026       0.000       0.123\n",
      "wonly_beta2:            -0.803      -0.801      -0.001           1      -0.000       0.101       0.317       0.000       0.306      -0.000       0.018      -0.372       0.000       0.355\n",
      "wonly_beta4:             0.288       0.287       0.001           1       0.000       0.133       0.199       0.000       0.185       0.000      -0.133      -0.033       0.000       0.166\n"
     ]
    }
   ],
   "source": [
    "k = 'good2'\n",
    "m = measured[k]\n",
    "print('Dataset {}...'.format(k))\n",
    "pad = TargetNeonPad(\n",
    "    w2w_beta1_amp=m['w2w_beta1_amp'],\n",
    "    w2w_beta1_amp_err=m.get('w2w_beta1_amp_err', None),\n",
    "    w2w_beta1_shift=m['w2w_beta1_shift'],\n",
    "    w2w_beta1_shift_err=m.get('w2w_beta1_shift_err', None),\n",
    "    w2w_beta2=m['w2w_beta2'],\n",
    "    w2w_beta2_err=m.get('w2w_beta2_err', None),\n",
    "    w2w_beta3_amp=m['w2w_beta3_amp'],\n",
    "    w2w_beta3_amp_err=m.get('w2w_beta3_amp_err', None),\n",
    "    w2w_beta3_shift=m['w2w_beta3_shift'],\n",
    "    w2w_beta3_shift_err=m.get('w2w_beta3_shift_err', None),\n",
    "    w2w_beta4=m['w2w_beta4'],\n",
    "    w2w_beta4_err=m.get('w2w_beta4_err', None),\n",
    "    wonly_beta2=m['wonly_beta2'],\n",
    "    wonly_beta2_err=m.get('wonly_beta2_err', None),\n",
    "    wonly_beta4=m['wonly_beta4'],\n",
    "    wonly_beta4_err=m.get('wonly_beta4_err', None),\n",
    "    **m.get('weights', {}),\n",
    ")\n",
    "\n",
    "x0 = [m['x0'][k.name.lower()] for k in pad.XKEYS if k not in pad.xfixed]\n",
    "opt: OptimizeResult = least_squares(\n",
    "    pad.zdiffmat,\n",
    "    [d['init'] for d in x0],\n",
    "    jac=pad.zdiffjacmat,\n",
    "    bounds=[[d['lower'] for d in x0], [d['upper'] for d in x0]],\n",
    "    **m.get('opts', {}),\n",
    ")\n",
    "\n",
    "print('Fitting report...')\n",
    "pad.report(opt.x)\n",
    "if not opt.success:\n",
    "    raise AssertionError('Fail to optimize the pad!')"
   ]
  },
  {
   "cell_type": "code",
   "execution_count": 5,
   "metadata": {},
   "outputs": [
    {
     "name": "stdout",
     "output_type": "stream",
     "text": [
      "Dataset good3...\n"
     ]
    },
    {
     "name": "stderr",
     "output_type": "stream",
     "text": [
      "<string>:2: RuntimeWarning: invalid value encountered in double_scalars\n"
     ]
    },
    {
     "name": "stdout",
     "output_type": "stream",
     "text": [
      "Fitting report...\n",
      "                                                                          c_sp       c_psp       c_pdp        c_dp       c_fdp       eta_s     eta_psp     eta_pdp       eta_d       eta_f\n",
      "at:                                                                     -1.346      -1.176       0.053       1.809       2.539       0.164      -3.336       0.537      -1.284       0.000\n",
      "error:                                                                   0.000       0.000       0.000       0.000       0.000       0.000       0.000       0.000       0.000       0.000\n",
      "\n",
      "                        target    examined        diff      weight     d/dc_sp    d/dc_psp    d/dc_pdp     d/dc_dp    d/dc_fdp    d/deta_s  d/deta_psp  d/deta_pdp    d/deta_d    d/deta_f\n",
      "w2w_b0:                  1.000       1.000       0.000           4      -0.071      -0.064       0.046       0.480       0.377       0.000       0.002      -0.002       0.000       0.000\n",
      "w2w_beta1_amp:           1.197       1.102       0.095           1       0.055       0.238      -0.476       0.063       0.104       0.146      -0.231       0.005      -0.146       0.227\n",
      "w2w_beta1_shift:         1.445       1.454      -0.009           4      -0.099      -0.177      -0.042      -0.073      -0.081      -0.029      -0.178      -0.021      -0.971       1.199\n",
      "w2w_beta2:               0.663       0.751      -0.088           1       0.017       0.204      -0.395       0.147       0.007      -0.405      -0.063       0.012       0.405       0.052\n",
      "w2w_beta3_amp:           0.832       0.744       0.088           1      -0.220       0.330      -0.061      -0.149       0.144      -0.375       0.163       0.005       0.375      -0.168\n",
      "w2w_beta3_shift:         0.640       0.631       0.009           4       0.375       0.188      -0.088       0.279       0.089      -0.495      -0.447      -0.002      -0.505       1.449\n",
      "w2w_beta4:               0.366      -0.039       0.405           1      -0.003       0.377      -0.072       0.019       0.161       0.000      -0.088       0.002       0.000       0.085\n",
      "wonly_beta2:             0.502       0.516      -0.014           1      -0.000       0.365      -0.742       0.000       0.185      -0.000      -0.121       0.022       0.000       0.100\n",
      "wonly_beta4:            -0.345      -0.076      -0.269           1       0.000       0.723      -0.137       0.000       0.338       0.000      -0.169       0.004       0.000       0.165\n"
     ]
    }
   ],
   "source": [
    "k = 'good3'\n",
    "m = measured[k]\n",
    "print('Dataset {}...'.format(k))\n",
    "pad = TargetNeonPad(\n",
    "    w2w_beta1_amp=m['w2w_beta1_amp'],\n",
    "    w2w_beta1_amp_err=m.get('w2w_beta1_amp_err', None),\n",
    "    w2w_beta1_shift=m['w2w_beta1_shift'],\n",
    "    w2w_beta1_shift_err=m.get('w2w_beta1_shift_err', None),\n",
    "    w2w_beta2=m['w2w_beta2'],\n",
    "    w2w_beta2_err=m.get('w2w_beta2_err', None),\n",
    "    w2w_beta3_amp=m['w2w_beta3_amp'],\n",
    "    w2w_beta3_amp_err=m.get('w2w_beta3_amp_err', None),\n",
    "    w2w_beta3_shift=m['w2w_beta3_shift'],\n",
    "    w2w_beta3_shift_err=m.get('w2w_beta3_shift_err', None),\n",
    "    w2w_beta4=m['w2w_beta4'],\n",
    "    w2w_beta4_err=m.get('w2w_beta4_err', None),\n",
    "    wonly_beta2=m['wonly_beta2'],\n",
    "    wonly_beta2_err=m.get('wonly_beta2_err', None),\n",
    "    wonly_beta4=m['wonly_beta4'],\n",
    "    wonly_beta4_err=m.get('wonly_beta4_err', None),\n",
    "    **m.get('weights', {}),\n",
    ")\n",
    "\n",
    "x0 = [m['x0'][k.name.lower()] for k in pad.XKEYS if k not in pad.xfixed]\n",
    "opt: OptimizeResult = least_squares(\n",
    "    pad.zdiffmat,\n",
    "    [d['init'] for d in x0],\n",
    "    jac=pad.zdiffjacmat,\n",
    "    bounds=[[d['lower'] for d in x0], [d['upper'] for d in x0]],\n",
    "    **m.get('opts', {}),\n",
    ")\n",
    "\n",
    "print('Fitting report...')\n",
    "pad.report(opt.x)\n",
    "if not opt.success:\n",
    "    raise AssertionError('Fail to optimize the pad!')"
   ]
  },
  {
   "cell_type": "code",
   "execution_count": 6,
   "metadata": {},
   "outputs": [
    {
     "name": "stdout",
     "output_type": "stream",
     "text": [
      "Dataset good4...\n",
      "Fitting report...\n",
      "                                                                          c_sp       c_psp       c_pdp        c_dp       c_fdp       eta_s     eta_psp     eta_pdp       eta_d       eta_f\n",
      "at:                                                                     -0.568      -2.038      -2.610       1.662       2.488       0.653      -0.337      -3.537      -1.126       0.000\n",
      "error:                                                                   0.000       0.000       0.000       0.000       0.000       0.000       0.000       0.000       0.000       0.000\n",
      "\n",
      "                        target    examined        diff      weight     d/dc_sp    d/dc_psp    d/dc_pdp     d/dc_dp    d/dc_fdp    d/deta_s  d/deta_psp  d/deta_pdp    d/deta_d    d/deta_f\n",
      "w2w_b0:                  1.000       1.000       0.000           4      -0.030       0.015      -0.139       0.441       0.370       0.000       0.015      -0.015       0.000       0.000\n",
      "w2w_beta1_amp:           0.756       0.750       0.006           1      -0.006      -0.122       0.339       0.111       0.180       0.004       0.302      -0.701      -0.004       0.399\n",
      "w2w_beta1_shift:         1.463       1.463      -0.000           4      -0.010       0.205      -0.364      -0.003      -0.214      -0.022       0.301      -0.818      -0.978       1.518\n",
      "w2w_beta2:               0.017       0.025      -0.008           1       0.058      -0.238       0.569       0.410       0.141      -0.155       0.221      -0.540       0.155       0.319\n",
      "w2w_beta3_amp:           1.216       1.210       0.006           1       0.006      -0.308       0.232       0.185      -0.131      -0.217       0.011      -0.000       0.217      -0.011\n",
      "w2w_beta3_shift:         0.839       0.839       0.000           4       0.315       0.012      -0.006       0.108       0.004      -0.014       0.487      -0.139      -0.986       0.651\n",
      "w2w_beta4:               0.915       0.919      -0.004           1       0.028      -0.372       0.206      -0.405       0.188       0.000       0.241      -0.072       0.000      -0.170\n",
      "wonly_beta2:            -0.491      -0.494       0.002           1      -0.000      -0.367       0.794       0.000       0.532      -0.000       0.365      -0.876       0.000       0.511\n",
      "wonly_beta4:             1.469       1.470      -0.001           1       0.000      -0.608       0.451       0.000      -0.025       0.000       0.373      -0.101       0.000      -0.272\n"
     ]
    },
    {
     "name": "stderr",
     "output_type": "stream",
     "text": [
      "<string>:2: RuntimeWarning: invalid value encountered in double_scalars\n"
     ]
    }
   ],
   "source": [
    "k = 'good4'\n",
    "m = measured[k]\n",
    "print('Dataset {}...'.format(k))\n",
    "pad = TargetNeonPad(\n",
    "    w2w_beta1_amp=m['w2w_beta1_amp'],\n",
    "    w2w_beta1_amp_err=m.get('w2w_beta1_amp_err', None),\n",
    "    w2w_beta1_shift=m['w2w_beta1_shift'],\n",
    "    w2w_beta1_shift_err=m.get('w2w_beta1_shift_err', None),\n",
    "    w2w_beta2=m['w2w_beta2'],\n",
    "    w2w_beta2_err=m.get('w2w_beta2_err', None),\n",
    "    w2w_beta3_amp=m['w2w_beta3_amp'],\n",
    "    w2w_beta3_amp_err=m.get('w2w_beta3_amp_err', None),\n",
    "    w2w_beta3_shift=m['w2w_beta3_shift'],\n",
    "    w2w_beta3_shift_err=m.get('w2w_beta3_shift_err', None),\n",
    "    w2w_beta4=m['w2w_beta4'],\n",
    "    w2w_beta4_err=m.get('w2w_beta4_err', None),\n",
    "    wonly_beta2=m['wonly_beta2'],\n",
    "    wonly_beta2_err=m.get('wonly_beta2_err', None),\n",
    "    wonly_beta4=m['wonly_beta4'],\n",
    "    wonly_beta4_err=m.get('wonly_beta4_err', None),\n",
    "    **m.get('weights', {}),\n",
    ")\n",
    "\n",
    "x0 = [m['x0'][k.name.lower()] for k in pad.XKEYS if k not in pad.xfixed]\n",
    "opt: OptimizeResult = least_squares(\n",
    "    pad.zdiffmat,\n",
    "    [d['init'] for d in x0],\n",
    "    jac=pad.zdiffjacmat,\n",
    "    bounds=[[d['lower'] for d in x0], [d['upper'] for d in x0]],\n",
    "    **m.get('opts', {}),\n",
    ")\n",
    "\n",
    "print('Fitting report...')\n",
    "pad.report(opt.x)\n",
    "if not opt.success:\n",
    "    raise AssertionError('Fail to optimize the pad!')"
   ]
  }
 ],
 "metadata": {
  "kernelspec": {
   "display_name": "Python 3",
   "language": "python",
   "name": "python3"
  },
  "language_info": {
   "codemirror_mode": {
    "name": "ipython",
    "version": 3
   },
   "file_extension": ".py",
   "mimetype": "text/x-python",
   "name": "python",
   "nbconvert_exporter": "python",
   "pygments_lexer": "ipython3",
   "version": "3.6.5"
  }
 },
 "nbformat": 4,
 "nbformat_minor": 2
}
