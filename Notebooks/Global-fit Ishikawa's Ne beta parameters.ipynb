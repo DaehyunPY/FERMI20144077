{
 "cells": [
  {
   "cell_type": "code",
   "execution_count": 1,
   "metadata": {},
   "outputs": [],
   "source": [
    "from scipy.optimize import least_squares, OptimizeResult\n",
    "from yaml import safe_load\n",
    "from jinja2 import Template\n",
    "\n",
    "from padtools import TargetNeonPad"
   ]
  },
  {
   "cell_type": "code",
   "execution_count": 2,
   "metadata": {},
   "outputs": [],
   "source": [
    "with open('Data/beta_neon_ishikawa.yaml', 'r') as f:\n",
    "    measured = safe_load(Template(f.read()).render())"
   ]
  },
  {
   "cell_type": "code",
   "execution_count": 3,
   "metadata": {},
   "outputs": [
    {
     "name": "stdout",
     "output_type": "stream",
     "text": [
      "Dataset good1...\n"
     ]
    },
    {
     "name": "stderr",
     "output_type": "stream",
     "text": [
      "<string>:2: RuntimeWarning: invalid value encountered in double_scalars\n"
     ]
    },
    {
     "name": "stdout",
     "output_type": "stream",
     "text": [
      "Fitting report...\n",
      "                                                                          c_sp       c_psp       c_pdp        c_dp       c_fdp       eta_s     eta_psp     eta_pdp       eta_d       eta_f\n",
      "at:                                                                      0.759       2.781       3.151       1.191       2.602       3.214       3.427      -0.243       5.410       0.000\n",
      "error:                                                                   0.000       0.000       0.000       0.000       0.000       0.000       0.000       0.000       0.000       0.000\n",
      "\n",
      "                        target    examined        diff      weight     d/dc_sp    d/dc_psp    d/dc_pdp     d/dc_dp    d/dc_fdp    d/deta_s  d/deta_psp  d/deta_pdp    d/deta_d    d/deta_f\n",
      "w2w_b0:                  1.000       1.000       0.000           4       0.040       0.018       0.170       0.316       0.386       0.000       0.210      -0.210       0.000       0.000\n",
      "w2w_beta1_amp:           0.756       0.662       0.094           1       0.107       0.141      -0.275       0.262       0.032       0.008       0.163      -0.670      -0.008       0.507\n",
      "w2w_beta1_shift:         1.463       1.469      -0.006           4       0.015      -0.164       0.387      -0.010      -0.294      -0.154       0.644      -0.774      -0.846       1.130\n",
      "w2w_beta2:              -0.144      -0.105      -0.039           1       0.121       0.324      -0.609       0.423       0.162      -0.123       0.209      -0.844       0.123       0.636\n",
      "w2w_beta3_amp:           1.216       1.193       0.023           1       0.199       0.175      -0.249       0.468      -0.158      -0.239      -0.435       0.221       0.239       0.214\n",
      "w2w_beta3_shift:         0.839       0.833       0.006           4      -0.264       0.056       0.008       0.168      -0.069      -0.157       0.458      -0.120      -0.843       0.662\n",
      "w2w_beta4:               1.276       1.217       0.060           1      -0.049       0.357      -0.293      -0.384       0.163       0.000      -0.566       0.188       0.000       0.378\n",
      "wonly_beta2:            -0.492      -0.479      -0.013           1      -0.000       0.415      -0.684       0.000       0.385      -0.000       0.361      -1.158       0.000       0.798\n",
      "wonly_beta4:             1.469       1.527      -0.058           1       0.000       0.441      -0.434       0.000       0.054       0.000      -0.792       0.318       0.000       0.474\n"
     ]
    }
   ],
   "source": [
    "k = 'good1'\n",
    "m = measured[k]\n",
    "print('Dataset {}...'.format(k))\n",
    "pad = TargetNeonPad(\n",
    "    w2w_beta1_amp=m['w2w_beta1_amp'],\n",
    "    w2w_beta1_amp_err=m.get('w2w_beta1_amp_err', None),\n",
    "    w2w_beta1_shift=m['w2w_beta1_shift'],\n",
    "    w2w_beta1_shift_err=m.get('w2w_beta1_shift_err', None),\n",
    "    w2w_beta2=m['w2w_beta2'],\n",
    "    w2w_beta2_err=m.get('w2w_beta2_err', None),\n",
    "    w2w_beta3_amp=m['w2w_beta3_amp'],\n",
    "    w2w_beta3_amp_err=m.get('w2w_beta3_amp_err', None),\n",
    "    w2w_beta3_shift=m['w2w_beta3_shift'],\n",
    "    w2w_beta3_shift_err=m.get('w2w_beta3_shift_err', None),\n",
    "    w2w_beta4=m['w2w_beta4'],\n",
    "    w2w_beta4_err=m.get('w2w_beta4_err', None),\n",
    "    wonly_beta2=m['wonly_beta2'],\n",
    "    wonly_beta2_err=m.get('wonly_beta2_err', None),\n",
    "    wonly_beta4=m['wonly_beta4'],\n",
    "    wonly_beta4_err=m.get('wonly_beta4_err', None),\n",
    "    **m.get('weights', {}),\n",
    ")\n",
    "\n",
    "x0 = [m['x0'][k.name.lower()] for k in pad.XKEYS if k not in pad.xfixed]\n",
    "opt: OptimizeResult = least_squares(\n",
    "    pad.zdiffmat,\n",
    "    [d['init'] for d in x0],\n",
    "    jac=pad.zdiffjacmat,\n",
    "    bounds=[[d['lower'] for d in x0], [d['upper'] for d in x0]],\n",
    "    **m.get('opts', {}),\n",
    ")\n",
    "\n",
    "print('Fitting report...')\n",
    "pad.report(opt.x)\n",
    "if not opt.success:\n",
    "    raise AssertionError('Fail to optimize the pad!')"
   ]
  },
  {
   "cell_type": "code",
   "execution_count": 4,
   "metadata": {},
   "outputs": [
    {
     "name": "stdout",
     "output_type": "stream",
     "text": [
      "Dataset good2...\n"
     ]
    },
    {
     "name": "stderr",
     "output_type": "stream",
     "text": [
      "<string>:2: RuntimeWarning: invalid value encountered in double_scalars\n"
     ]
    },
    {
     "name": "stdout",
     "output_type": "stream",
     "text": [
      "Fitting report...\n",
      "                                                                          c_sp       c_psp       c_pdp        c_dp       c_fdp       eta_s     eta_psp     eta_pdp       eta_d       eta_f\n",
      "at:                                                                      0.836       1.577       2.885       1.338       2.444       4.965       1.606      -0.675       5.207       0.000\n",
      "error:                                                                   0.000       0.000       0.000       0.000       0.000       0.000       0.000       0.000       0.000       0.000\n",
      "\n",
      "                        target    examined        diff      weight     d/dc_sp    d/dc_psp    d/dc_pdp     d/dc_dp    d/dc_fdp    d/deta_s  d/deta_psp  d/deta_pdp    d/deta_d    d/deta_f\n",
      "w2w_b0:                  1.000       1.000      -0.000           4       0.044      -0.006       0.211       0.355       0.363       0.000      -0.164       0.164       0.000       0.000\n",
      "w2w_beta1_amp:           0.537       0.547      -0.010           1       0.141      -0.057      -0.161       0.112       0.117      -0.059       0.179      -0.738       0.059       0.559\n",
      "w2w_beta1_shift:         1.704       1.703       0.001           4      -0.129      -0.104       0.411       0.081      -0.418      -0.253      -0.174      -0.238      -0.747       1.412\n",
      "w2w_beta2:              -0.527      -0.541       0.014           1      -0.194      -0.004      -0.266       0.411       0.158      -0.045       0.024      -0.483       0.045       0.460\n",
      "w2w_beta3_amp:           0.408       0.416      -0.008           1      -0.142       0.202      -0.137       0.240      -0.051      -0.297       0.257      -0.021       0.297      -0.237\n",
      "w2w_beta3_shift:         0.080       0.081      -0.001           4      -0.854      -0.289      -0.039       0.533       0.233       0.248       0.759      -0.343      -1.248       0.585\n",
      "w2w_beta4:               0.225       0.214       0.011           1      -0.009       0.014      -0.110      -0.076       0.165       0.000       0.621      -0.185       0.000      -0.436\n",
      "wonly_beta2:            -0.803      -0.801      -0.001           1      -0.000      -0.008      -0.283       0.000       0.339      -0.000      -0.026      -0.592       0.000       0.618\n",
      "wonly_beta4:             0.288       0.287       0.001           1       0.000       0.020      -0.169       0.000       0.187       0.000       0.851      -0.265       0.000      -0.586\n"
     ]
    }
   ],
   "source": [
    "k = 'good2'\n",
    "m = measured[k]\n",
    "print('Dataset {}...'.format(k))\n",
    "pad = TargetNeonPad(\n",
    "    w2w_beta1_amp=m['w2w_beta1_amp'],\n",
    "    w2w_beta1_amp_err=m.get('w2w_beta1_amp_err', None),\n",
    "    w2w_beta1_shift=m['w2w_beta1_shift'],\n",
    "    w2w_beta1_shift_err=m.get('w2w_beta1_shift_err', None),\n",
    "    w2w_beta2=m['w2w_beta2'],\n",
    "    w2w_beta2_err=m.get('w2w_beta2_err', None),\n",
    "    w2w_beta3_amp=m['w2w_beta3_amp'],\n",
    "    w2w_beta3_amp_err=m.get('w2w_beta3_amp_err', None),\n",
    "    w2w_beta3_shift=m['w2w_beta3_shift'],\n",
    "    w2w_beta3_shift_err=m.get('w2w_beta3_shift_err', None),\n",
    "    w2w_beta4=m['w2w_beta4'],\n",
    "    w2w_beta4_err=m.get('w2w_beta4_err', None),\n",
    "    wonly_beta2=m['wonly_beta2'],\n",
    "    wonly_beta2_err=m.get('wonly_beta2_err', None),\n",
    "    wonly_beta4=m['wonly_beta4'],\n",
    "    wonly_beta4_err=m.get('wonly_beta4_err', None),\n",
    "    **m.get('weights', {}),\n",
    ")\n",
    "\n",
    "x0 = [m['x0'][k.name.lower()] for k in pad.XKEYS if k not in pad.xfixed]\n",
    "opt: OptimizeResult = least_squares(\n",
    "    pad.zdiffmat,\n",
    "    [d['init'] for d in x0],\n",
    "    jac=pad.zdiffjacmat,\n",
    "    bounds=[[d['lower'] for d in x0], [d['upper'] for d in x0]],\n",
    "    **m.get('opts', {}),\n",
    ")\n",
    "\n",
    "print('Fitting report...')\n",
    "pad.report(opt.x)\n",
    "if not opt.success:\n",
    "    raise AssertionError('Fail to optimize the pad!')"
   ]
  },
  {
   "cell_type": "code",
   "execution_count": 5,
   "metadata": {},
   "outputs": [
    {
     "name": "stdout",
     "output_type": "stream",
     "text": [
      "Dataset good3...\n"
     ]
    },
    {
     "name": "stderr",
     "output_type": "stream",
     "text": [
      "<string>:2: RuntimeWarning: invalid value encountered in double_scalars\n"
     ]
    },
    {
     "name": "stdout",
     "output_type": "stream",
     "text": [
      "Fitting report...\n",
      "                                                                          c_sp       c_psp       c_pdp        c_dp       c_fdp       eta_s     eta_psp     eta_pdp       eta_d       eta_f\n",
      "at:                                                                      0.101       2.250       1.148       1.906       2.409       0.218       1.052      -1.573       4.865       0.000\n",
      "error:                                                                   0.000       0.000       0.000       0.000       0.000       0.000       0.000       0.000       0.000       0.000\n",
      "\n",
      "                        target    examined        diff      weight     d/dc_sp    d/dc_psp    d/dc_pdp     d/dc_dp    d/dc_fdp    d/deta_s  d/deta_psp  d/deta_pdp    d/deta_d    d/deta_f\n",
      "w2w_b0:                  1.000       1.000       0.000           4       0.005       0.072       0.011       0.506       0.358       0.000      -0.061       0.061       0.000       0.000\n",
      "w2w_beta1_amp:           1.197       1.102       0.095           1       0.069      -0.188      -0.004       0.017       0.161      -0.011       0.502      -0.551       0.011       0.048\n",
      "w2w_beta1_shift:         1.445       1.454      -0.009           4      -0.100      -0.176       0.383       0.005      -0.018      -0.007      -0.223       0.008      -0.993       1.214\n",
      "w2w_beta2:               0.663       0.751      -0.088           1       0.017      -0.046      -0.150       0.127       0.014       0.032       0.462      -0.489      -0.032       0.027\n",
      "w2w_beta3_amp:           0.832       0.744       0.088           1      -0.249       0.035      -0.060       0.027      -0.015       0.028       0.766      -0.105      -0.028      -0.661\n",
      "w2w_beta3_shift:         0.640       0.631       0.009           4       0.374      -0.431       0.071      -0.020       0.369       0.033       0.267      -0.081      -1.033       0.814\n",
      "w2w_beta4:               0.366      -0.039       0.405           1       0.000      -0.179       0.001       0.020       0.151       0.000       0.714      -0.092       0.000      -0.622\n",
      "wonly_beta2:             0.502       0.516      -0.014           1      -0.000      -0.057      -0.284       0.000       0.189      -0.000       0.864      -0.917       0.000       0.053\n",
      "wonly_beta4:            -0.345      -0.076      -0.269           1       0.000      -0.340       0.002       0.000       0.317       0.000       1.374      -0.173       0.000      -1.201\n"
     ]
    }
   ],
   "source": [
    "with open('Data/beta_neon_ishikawa.yaml', 'r') as f:\n",
    "    measured = safe_load(Template(f.read()).render())\n",
    "    \n",
    "k = 'good3'\n",
    "m = measured[k]\n",
    "print('Dataset {}...'.format(k))\n",
    "pad = TargetNeonPad(\n",
    "    w2w_beta1_amp=m['w2w_beta1_amp'],\n",
    "    w2w_beta1_amp_err=m.get('w2w_beta1_amp_err', None),\n",
    "    w2w_beta1_shift=m['w2w_beta1_shift'],\n",
    "    w2w_beta1_shift_err=m.get('w2w_beta1_shift_err', None),\n",
    "    w2w_beta2=m['w2w_beta2'],\n",
    "    w2w_beta2_err=m.get('w2w_beta2_err', None),\n",
    "    w2w_beta3_amp=m['w2w_beta3_amp'],\n",
    "    w2w_beta3_amp_err=m.get('w2w_beta3_amp_err', None),\n",
    "    w2w_beta3_shift=m['w2w_beta3_shift'],\n",
    "    w2w_beta3_shift_err=m.get('w2w_beta3_shift_err', None),\n",
    "    w2w_beta4=m['w2w_beta4'],\n",
    "    w2w_beta4_err=m.get('w2w_beta4_err', None),\n",
    "    wonly_beta2=m['wonly_beta2'],\n",
    "    wonly_beta2_err=m.get('wonly_beta2_err', None),\n",
    "    wonly_beta4=m['wonly_beta4'],\n",
    "    wonly_beta4_err=m.get('wonly_beta4_err', None),\n",
    "    **m.get('weights', {}),\n",
    ")\n",
    "\n",
    "x0 = [m['x0'][k.name.lower()] for k in pad.XKEYS if k not in pad.xfixed]\n",
    "opt: OptimizeResult = least_squares(\n",
    "    pad.zdiffmat,\n",
    "    [d['init'] for d in x0],\n",
    "    jac=pad.zdiffjacmat,\n",
    "    bounds=[[d['lower'] for d in x0], [d['upper'] for d in x0]],\n",
    "    **m.get('opts', {}),\n",
    ")\n",
    "\n",
    "print('Fitting report...')\n",
    "pad.report(opt.x)\n",
    "if not opt.success:\n",
    "    raise AssertionError('Fail to optimize the pad!')"
   ]
  },
  {
   "cell_type": "code",
   "execution_count": 6,
   "metadata": {},
   "outputs": [
    {
     "name": "stdout",
     "output_type": "stream",
     "text": [
      "Dataset good4...\n",
      "Fitting report...\n",
      "                                                                          c_sp       c_psp       c_pdp        c_dp       c_fdp       eta_s     eta_psp     eta_pdp       eta_d       eta_f\n",
      "at:                                                                      1.029       1.919       2.526       1.617       2.500       3.614       3.124      -0.242       5.137       0.000\n",
      "error:                                                                   0.000       0.000       0.000       0.000       0.000       0.000       0.000       0.000       0.000       0.000\n",
      "\n",
      "                        target    examined        diff      weight     d/dc_sp    d/dc_psp    d/dc_pdp     d/dc_dp    d/dc_fdp    d/deta_s  d/deta_psp  d/deta_pdp    d/deta_d    d/deta_f\n",
      "w2w_b0:                  1.000       1.000      -0.000           4       0.055      -0.015       0.139       0.429       0.371       0.000       0.051      -0.051       0.000       0.000\n",
      "w2w_beta1_amp:           0.756       0.750       0.006           1       0.012       0.154      -0.359       0.109       0.170       0.007       0.248      -0.615      -0.007       0.367\n",
      "w2w_beta1_shift:         1.463       1.463      -0.000           4       0.009      -0.199       0.345      -0.006      -0.196      -0.072       0.364      -0.857      -0.928       1.493\n",
      "w2w_beta2:               0.017       0.025      -0.008           1      -0.014       0.256      -0.583       0.410       0.133      -0.279       0.111      -0.410       0.279       0.300\n",
      "w2w_beta3_amp:           1.216       1.210       0.006           1       0.033       0.288      -0.231       0.167      -0.109      -0.382      -0.217       0.072       0.382       0.144\n",
      "w2w_beta3_shift:         0.839       0.839       0.000           4      -0.307       0.067      -0.003       0.195      -0.048      -0.084       0.428      -0.131      -0.916       0.703\n",
      "w2w_beta4:               0.915       0.919      -0.004           1      -0.050       0.394      -0.210      -0.394       0.186       0.000      -0.035      -0.004       0.000       0.039\n",
      "wonly_beta2:            -0.491      -0.494       0.002           1      -0.000       0.396      -0.816       0.000       0.521      -0.000       0.220      -0.699       0.000       0.479\n",
      "wonly_beta4:             1.469       1.470      -0.001           1       0.000       0.644      -0.459       0.000      -0.030       0.000      -0.101       0.038       0.000       0.062\n"
     ]
    },
    {
     "name": "stderr",
     "output_type": "stream",
     "text": [
      "<string>:2: RuntimeWarning: invalid value encountered in double_scalars\n"
     ]
    }
   ],
   "source": [
    "k = 'good4'\n",
    "m = measured[k]\n",
    "print('Dataset {}...'.format(k))\n",
    "pad = TargetNeonPad(\n",
    "    w2w_beta1_amp=m['w2w_beta1_amp'],\n",
    "    w2w_beta1_amp_err=m.get('w2w_beta1_amp_err', None),\n",
    "    w2w_beta1_shift=m['w2w_beta1_shift'],\n",
    "    w2w_beta1_shift_err=m.get('w2w_beta1_shift_err', None),\n",
    "    w2w_beta2=m['w2w_beta2'],\n",
    "    w2w_beta2_err=m.get('w2w_beta2_err', None),\n",
    "    w2w_beta3_amp=m['w2w_beta3_amp'],\n",
    "    w2w_beta3_amp_err=m.get('w2w_beta3_amp_err', None),\n",
    "    w2w_beta3_shift=m['w2w_beta3_shift'],\n",
    "    w2w_beta3_shift_err=m.get('w2w_beta3_shift_err', None),\n",
    "    w2w_beta4=m['w2w_beta4'],\n",
    "    w2w_beta4_err=m.get('w2w_beta4_err', None),\n",
    "    wonly_beta2=m['wonly_beta2'],\n",
    "    wonly_beta2_err=m.get('wonly_beta2_err', None),\n",
    "    wonly_beta4=m['wonly_beta4'],\n",
    "    wonly_beta4_err=m.get('wonly_beta4_err', None),\n",
    "    **m.get('weights', {}),\n",
    ")\n",
    "\n",
    "x0 = [m['x0'][k.name.lower()] for k in pad.XKEYS if k not in pad.xfixed]\n",
    "opt: OptimizeResult = least_squares(\n",
    "    pad.zdiffmat,\n",
    "    [d['init'] for d in x0],\n",
    "    jac=pad.zdiffjacmat,\n",
    "    bounds=[[d['lower'] for d in x0], [d['upper'] for d in x0]],\n",
    "    **m.get('opts', {}),\n",
    ")\n",
    "\n",
    "print('Fitting report...')\n",
    "pad.report(opt.x)\n",
    "if not opt.success:\n",
    "    raise AssertionError('Fail to optimize the pad!')"
   ]
  }
 ],
 "metadata": {
  "kernelspec": {
   "display_name": "Python 3",
   "language": "python",
   "name": "python3"
  },
  "language_info": {
   "codemirror_mode": {
    "name": "ipython",
    "version": 3
   },
   "file_extension": ".py",
   "mimetype": "text/x-python",
   "name": "python",
   "nbconvert_exporter": "python",
   "pygments_lexer": "ipython3",
   "version": "3.6.5"
  }
 },
 "nbformat": 4,
 "nbformat_minor": 2
}
