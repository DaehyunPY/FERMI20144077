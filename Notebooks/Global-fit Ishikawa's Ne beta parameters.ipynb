{
 "cells": [
  {
   "cell_type": "code",
   "execution_count": 1,
   "metadata": {},
   "outputs": [
    {
     "name": "stdout",
     "output_type": "stream",
     "text": [
      "Solving the He PAD equations...\n",
      "Lambdifying solved b parameters...\n",
      "Solving the Ne PAD equations...\n",
      "Lambdifying solved b parameters...\n"
     ]
    }
   ],
   "source": [
    "from scipy.optimize import least_squares, OptimizeResult\n",
    "from yaml import safe_load\n",
    "from jinja2 import Template\n",
    "\n",
    "from padtools import TargetNeonPad"
   ]
  },
  {
   "cell_type": "code",
   "execution_count": 2,
   "metadata": {},
   "outputs": [],
   "source": [
    "with open('Data/beta_neon_ishikawa.yaml', 'r') as f:\n",
    "    measured = safe_load(Template(f.read()).render())"
   ]
  },
  {
   "cell_type": "code",
   "execution_count": 3,
   "metadata": {},
   "outputs": [
    {
     "name": "stdout",
     "output_type": "stream",
     "text": [
      "Dataset good1...\n"
     ]
    },
    {
     "name": "stderr",
     "output_type": "stream",
     "text": [
      "/app/.venv/lib/python3.6/site-packages/numpy/__init__.py:1: RuntimeWarning: invalid value encountered in double_scalars\n",
      "  \"\"\"\n"
     ]
    },
    {
     "name": "stdout",
     "output_type": "stream",
     "text": [
      "Fitting report...\n",
      "                                                                c_sp     c_psp     c_pdp      c_dp     c_fdp     eta_s     eta_p     eta_d     eta_f\n",
      "at:                                                            0.869    -3.836     3.728     1.187     2.474     1.132    -0.759     5.329     0.000\n",
      "error:                                                         0.000     0.000     0.000     0.000     0.000     0.000     0.000     0.000     0.000\n",
      "\n",
      "                      target  examined      diff    weight   d/dc_sp  d/dc_psp  d/dc_pdp   d/dc_dp  d/dc_fdp  d/deta_s  d/deta_p  d/deta_d  d/deta_f\n",
      "w2w_b0:                1.000     1.000    -0.000         4     0.046    -0.027     0.154     0.315     0.368     0.000     0.000     0.000     0.000\n",
      "w2w_beta1_amp:         0.756     0.654     0.102         1     0.015    -0.101    -0.248     0.312     0.062    -0.009    -0.420     0.009     0.420\n",
      "w2w_beta1_shift:       1.463     1.466    -0.003         4    -0.015     0.228     0.407     0.011    -0.259    -0.060    -0.142    -0.940     1.142\n",
      "w2w_beta2:            -0.144    -0.107    -0.037         1     0.103    -0.261    -0.576     0.420     0.225     0.151    -0.551    -0.151     0.551\n",
      "w2w_beta3_amp:         1.216     1.193     0.023         1     0.092    -0.134    -0.221     0.522    -0.157     0.305     0.372    -0.305    -0.372\n",
      "w2w_beta3_shift:       0.839     0.836     0.003         4     0.294     0.104     0.023    -0.215     0.126    -0.107     0.417    -0.893     0.583\n",
      "w2w_beta4:             1.276     1.210     0.067         1    -0.056    -0.241    -0.248    -0.381     0.202     0.000     0.778     0.000    -0.778\n",
      "wonly_beta2:          -0.492    -0.478    -0.014         1    -0.000    -0.341    -0.654     0.000     0.455     0.000    -0.694    -0.000     0.694\n",
      "wonly_beta4:           1.469     1.525    -0.056         1     0.000    -0.293    -0.373     0.000     0.108     0.000     0.981     0.000    -0.981\n"
     ]
    }
   ],
   "source": [
    "k = 'good1'\n",
    "m = measured[k]\n",
    "print('Dataset {}...'.format(k))\n",
    "pad = TargetNeonPad(\n",
    "    w2w_beta1_amp=m['w2w_beta1_amp'],\n",
    "    w2w_beta1_amp_err=m.get('w2w_beta1_amp_err', None),\n",
    "    w2w_beta1_shift=m['w2w_beta1_shift'],\n",
    "    w2w_beta1_shift_err=m.get('w2w_beta1_shift_err', None),\n",
    "    w2w_beta2=m['w2w_beta2'],\n",
    "    w2w_beta2_err=m.get('w2w_beta2_err', None),\n",
    "    w2w_beta3_amp=m['w2w_beta3_amp'],\n",
    "    w2w_beta3_amp_err=m.get('w2w_beta3_amp_err', None),\n",
    "    w2w_beta3_shift=m['w2w_beta3_shift'],\n",
    "    w2w_beta3_shift_err=m.get('w2w_beta3_shift_err', None),\n",
    "    w2w_beta4=m['w2w_beta4'],\n",
    "    w2w_beta4_err=m.get('w2w_beta4_err', None),\n",
    "    wonly_beta2=m['wonly_beta2'],\n",
    "    wonly_beta2_err=m.get('wonly_beta2_err', None),\n",
    "    wonly_beta4=m['wonly_beta4'],\n",
    "    wonly_beta4_err=m.get('wonly_beta4_err', None),\n",
    "    **m.get('weights', {}),\n",
    ")\n",
    "\n",
    "x0 = [m['x0'][k.name.lower()] for k in pad.XKEYS if k not in pad.xfixed]\n",
    "opt: OptimizeResult = least_squares(\n",
    "    pad.zdiffmat,\n",
    "    [d['init'] for d in x0],\n",
    "    jac=pad.zdiffjacmat,\n",
    "    bounds=[[d['lower'] for d in x0], [d['upper'] for d in x0]],\n",
    "    **m.get('opts', {}),\n",
    ")\n",
    "\n",
    "print('Fitting report...')\n",
    "pad.report(opt.x)\n",
    "if not opt.success:\n",
    "    raise AssertionError('Fail to optimize the pad!')"
   ]
  },
  {
   "cell_type": "code",
   "execution_count": 4,
   "metadata": {},
   "outputs": [
    {
     "name": "stdout",
     "output_type": "stream",
     "text": [
      "Dataset good2...\n"
     ]
    },
    {
     "name": "stderr",
     "output_type": "stream",
     "text": [
      "/app/.venv/lib/python3.6/site-packages/numpy/__init__.py:1: RuntimeWarning: invalid value encountered in double_scalars\n",
      "  \"\"\"\n"
     ]
    },
    {
     "name": "stdout",
     "output_type": "stream",
     "text": [
      "Fitting report...\n",
      "                                                                c_sp     c_psp     c_pdp      c_dp     c_fdp     eta_s     eta_p     eta_d     eta_f\n",
      "at:                                                            1.231    -0.058     2.509     1.275     2.508     4.284    -0.234     5.200     0.000\n",
      "error:                                                         0.000     0.000     0.000     0.000     0.000     0.000     0.000     0.000     0.000\n",
      "\n",
      "                      target  examined      diff    weight   d/dc_sp  d/dc_psp  d/dc_pdp   d/dc_dp  d/dc_fdp  d/deta_s  d/deta_p  d/deta_d  d/deta_f\n",
      "w2w_b0:                1.000     1.000    -0.000         4     0.065     0.116     0.224     0.338     0.373     0.000     0.000     0.000     0.000\n",
      "w2w_beta1_amp:         0.537     0.547    -0.010         1     0.165    -0.048    -0.207     0.051     0.099     0.015    -0.542    -0.015     0.542\n",
      "w2w_beta1_shift:       1.704     1.703     0.001         4     0.023     0.217     0.399    -0.022    -0.395    -0.451    -0.388    -0.549     1.388\n",
      "w2w_beta2:            -0.527    -0.541     0.014         1    -0.095     0.016    -0.289     0.395     0.135    -0.209    -0.294     0.209     0.294\n",
      "w2w_beta3_amp:         0.408     0.416    -0.008         1     0.104    -0.208    -0.129     0.059     0.043    -0.446     0.078     0.446    -0.078\n",
      "w2w_beta3_shift:       0.080     0.081    -0.001         4    -0.872    -0.371    -0.083     0.842     0.075    -0.388    -0.194    -0.612     1.194\n",
      "w2w_beta4:             0.225     0.214     0.011         1    -0.014    -0.396    -0.131    -0.072     0.165     0.000    -0.045     0.000     0.045\n",
      "wonly_beta2:          -0.803    -0.801    -0.001         1    -0.000     0.063    -0.311     0.000     0.312     0.000    -0.395    -0.000     0.395\n",
      "wonly_beta4:           0.288     0.287     0.001         1     0.000    -0.544    -0.198     0.000     0.185     0.000    -0.060     0.000     0.060\n"
     ]
    }
   ],
   "source": [
    "k = 'good2'\n",
    "m = measured[k]\n",
    "print('Dataset {}...'.format(k))\n",
    "pad = TargetNeonPad(\n",
    "    w2w_beta1_amp=m['w2w_beta1_amp'],\n",
    "    w2w_beta1_amp_err=m.get('w2w_beta1_amp_err', None),\n",
    "    w2w_beta1_shift=m['w2w_beta1_shift'],\n",
    "    w2w_beta1_shift_err=m.get('w2w_beta1_shift_err', None),\n",
    "    w2w_beta2=m['w2w_beta2'],\n",
    "    w2w_beta2_err=m.get('w2w_beta2_err', None),\n",
    "    w2w_beta3_amp=m['w2w_beta3_amp'],\n",
    "    w2w_beta3_amp_err=m.get('w2w_beta3_amp_err', None),\n",
    "    w2w_beta3_shift=m['w2w_beta3_shift'],\n",
    "    w2w_beta3_shift_err=m.get('w2w_beta3_shift_err', None),\n",
    "    w2w_beta4=m['w2w_beta4'],\n",
    "    w2w_beta4_err=m.get('w2w_beta4_err', None),\n",
    "    wonly_beta2=m['wonly_beta2'],\n",
    "    wonly_beta2_err=m.get('wonly_beta2_err', None),\n",
    "    wonly_beta4=m['wonly_beta4'],\n",
    "    wonly_beta4_err=m.get('wonly_beta4_err', None),\n",
    "    **m.get('weights', {}),\n",
    ")\n",
    "\n",
    "x0 = [m['x0'][k.name.lower()] for k in pad.XKEYS if k not in pad.xfixed]\n",
    "opt: OptimizeResult = least_squares(\n",
    "    pad.zdiffmat,\n",
    "    [d['init'] for d in x0],\n",
    "    jac=pad.zdiffjacmat,\n",
    "    bounds=[[d['lower'] for d in x0], [d['upper'] for d in x0]],\n",
    "    **m.get('opts', {}),\n",
    ")\n",
    "\n",
    "print('Fitting report...')\n",
    "pad.report(opt.x)\n",
    "if not opt.success:\n",
    "    raise AssertionError('Fail to optimize the pad!')"
   ]
  },
  {
   "cell_type": "code",
   "execution_count": 6,
   "metadata": {},
   "outputs": [
    {
     "name": "stdout",
     "output_type": "stream",
     "text": [
      "Dataset good3...\n"
     ]
    },
    {
     "name": "stderr",
     "output_type": "stream",
     "text": [
      "/app/.venv/lib/python3.6/site-packages/numpy/__init__.py:1: RuntimeWarning: invalid value encountered in double_scalars\n",
      "  \"\"\"\n"
     ]
    },
    {
     "name": "stdout",
     "output_type": "stream",
     "text": [
      "Fitting report...\n",
      "                                                                c_sp     c_psp     c_pdp      c_dp     c_fdp     eta_s     eta_p     eta_d     eta_f\n",
      "at:                                                            1.307     1.166     0.045     1.815     2.540    -2.978    -0.142     4.995     0.000\n",
      "error:                                                         0.000     0.000     0.000     0.000     0.000     0.000     0.000     0.000     0.000\n",
      "\n",
      "                      target  examined      diff    weight   d/dc_sp  d/dc_psp  d/dc_pdp   d/dc_dp  d/dc_fdp  d/deta_s  d/deta_p  d/deta_d  d/deta_f\n",
      "w2w_b0:                1.000     1.000     0.000         4     0.069     0.064     0.059     0.481     0.377     0.000     0.000     0.000     0.000\n",
      "w2w_beta1_amp:         1.197     1.102     0.095         1    -0.056    -0.249    -0.427     0.062     0.106     0.142    -0.222    -0.142     0.222\n",
      "w2w_beta1_shift:       1.445     1.454    -0.009         4     0.099     0.165     0.206    -0.071    -0.079    -0.025    -0.204    -0.975     1.204\n",
      "w2w_beta2:             0.663     0.751    -0.088         1    -0.016    -0.207    -0.446     0.146     0.007    -0.395    -0.051     0.395     0.051\n",
      "w2w_beta3_amp:         0.832     0.744     0.088         1     0.222    -0.323    -0.106    -0.145     0.140    -0.364     0.183     0.364    -0.183\n",
      "w2w_beta3_shift:       0.640     0.631     0.009         4    -0.375    -0.210    -0.047     0.270     0.097    -0.481    -0.435    -0.519     1.435\n",
      "w2w_beta4:             0.366    -0.039     0.405         1     0.003    -0.380    -0.083     0.019     0.161     0.000    -0.064     0.000     0.064\n",
      "wonly_beta2:           0.502     0.516    -0.014         1    -0.000    -0.371    -0.834     0.000     0.185     0.000    -0.099    -0.000     0.099\n",
      "wonly_beta4:          -0.345    -0.076    -0.269         1     0.000    -0.729    -0.157     0.000     0.338     0.000    -0.124     0.000     0.124\n"
     ]
    }
   ],
   "source": [
    "k = 'good3'\n",
    "m = measured[k]\n",
    "print('Dataset {}...'.format(k))\n",
    "pad = TargetNeonPad(\n",
    "    w2w_beta1_amp=m['w2w_beta1_amp'],\n",
    "    w2w_beta1_amp_err=m.get('w2w_beta1_amp_err', None),\n",
    "    w2w_beta1_shift=m['w2w_beta1_shift'],\n",
    "    w2w_beta1_shift_err=m.get('w2w_beta1_shift_err', None),\n",
    "    w2w_beta2=m['w2w_beta2'],\n",
    "    w2w_beta2_err=m.get('w2w_beta2_err', None),\n",
    "    w2w_beta3_amp=m['w2w_beta3_amp'],\n",
    "    w2w_beta3_amp_err=m.get('w2w_beta3_amp_err', None),\n",
    "    w2w_beta3_shift=m['w2w_beta3_shift'],\n",
    "    w2w_beta3_shift_err=m.get('w2w_beta3_shift_err', None),\n",
    "    w2w_beta4=m['w2w_beta4'],\n",
    "    w2w_beta4_err=m.get('w2w_beta4_err', None),\n",
    "    wonly_beta2=m['wonly_beta2'],\n",
    "    wonly_beta2_err=m.get('wonly_beta2_err', None),\n",
    "    wonly_beta4=m['wonly_beta4'],\n",
    "    wonly_beta4_err=m.get('wonly_beta4_err', None),\n",
    "    **m.get('weights', {}),\n",
    ")\n",
    "\n",
    "x0 = [m['x0'][k.name.lower()] for k in pad.XKEYS if k not in pad.xfixed]\n",
    "opt: OptimizeResult = least_squares(\n",
    "    pad.zdiffmat,\n",
    "    [d['init'] for d in x0],\n",
    "    jac=pad.zdiffjacmat,\n",
    "    bounds=[[d['lower'] for d in x0], [d['upper'] for d in x0]],\n",
    "    **m.get('opts', {}),\n",
    ")\n",
    "\n",
    "print('Fitting report...')\n",
    "pad.report(opt.x)\n",
    "if not opt.success:\n",
    "    raise AssertionError('Fail to optimize the pad!')"
   ]
  },
  {
   "cell_type": "code",
   "execution_count": 7,
   "metadata": {},
   "outputs": [
    {
     "name": "stdout",
     "output_type": "stream",
     "text": [
      "Dataset good4...\n"
     ]
    },
    {
     "name": "stderr",
     "output_type": "stream",
     "text": [
      "/app/.venv/lib/python3.6/site-packages/numpy/__init__.py:1: RuntimeWarning: invalid value encountered in double_scalars\n",
      "  \"\"\"\n"
     ]
    },
    {
     "name": "stdout",
     "output_type": "stream",
     "text": [
      "Fitting report...\n",
      "                                                                c_sp     c_psp     c_pdp      c_dp     c_fdp     eta_s     eta_p     eta_d     eta_f\n",
      "at:                                                            0.361    -2.169     2.671     1.673     2.472     3.980    -0.459     5.168     0.000\n",
      "error:                                                         0.000     0.000     0.000     0.000     0.000     0.000     0.000     0.000     0.000\n",
      "\n",
      "                      target  examined      diff    weight   d/dc_sp  d/dc_psp  d/dc_pdp   d/dc_dp  d/dc_fdp  d/deta_s  d/deta_p  d/deta_d  d/deta_f\n",
      "w2w_b0:                1.000     1.000    -0.000         4     0.019     0.012     0.138     0.444     0.367     0.000     0.000     0.000     0.000\n",
      "w2w_beta1_amp:         0.756     0.750     0.006         1     0.004    -0.112    -0.332     0.111     0.184     0.003    -0.411    -0.003     0.411\n",
      "w2w_beta1_shift:       1.463     1.463    -0.000         4     0.010     0.204     0.371    -0.002    -0.222    -0.009    -0.512    -0.991     1.512\n",
      "w2w_beta2:             0.017     0.025    -0.008         1    -0.105    -0.230    -0.562     0.410     0.144    -0.094    -0.326     0.094     0.326\n",
      "w2w_beta3_amp:         1.216     1.210     0.006         1    -0.064    -0.301    -0.231     0.195    -0.137    -0.136     0.083     0.136    -0.083\n",
      "w2w_beta3_shift:       0.839     0.839     0.000         4    -0.312     0.044     0.010     0.067     0.028     0.012     0.373    -1.012     0.627\n",
      "w2w_beta4:             0.915     0.919    -0.004         1    -0.018    -0.348    -0.202    -0.408     0.192     0.000     0.262     0.000    -0.262\n",
      "wonly_beta2:          -0.491    -0.494     0.002         1    -0.000    -0.358    -0.785     0.000     0.534     0.000    -0.522    -0.000     0.522\n",
      "wonly_beta4:           1.469     1.470    -0.001         1     0.000    -0.567    -0.445     0.000    -0.017     0.000     0.419     0.000    -0.419\n"
     ]
    }
   ],
   "source": [
    "k = 'good4'\n",
    "m = measured[k]\n",
    "print('Dataset {}...'.format(k))\n",
    "pad = TargetNeonPad(\n",
    "    w2w_beta1_amp=m['w2w_beta1_amp'],\n",
    "    w2w_beta1_amp_err=m.get('w2w_beta1_amp_err', None),\n",
    "    w2w_beta1_shift=m['w2w_beta1_shift'],\n",
    "    w2w_beta1_shift_err=m.get('w2w_beta1_shift_err', None),\n",
    "    w2w_beta2=m['w2w_beta2'],\n",
    "    w2w_beta2_err=m.get('w2w_beta2_err', None),\n",
    "    w2w_beta3_amp=m['w2w_beta3_amp'],\n",
    "    w2w_beta3_amp_err=m.get('w2w_beta3_amp_err', None),\n",
    "    w2w_beta3_shift=m['w2w_beta3_shift'],\n",
    "    w2w_beta3_shift_err=m.get('w2w_beta3_shift_err', None),\n",
    "    w2w_beta4=m['w2w_beta4'],\n",
    "    w2w_beta4_err=m.get('w2w_beta4_err', None),\n",
    "    wonly_beta2=m['wonly_beta2'],\n",
    "    wonly_beta2_err=m.get('wonly_beta2_err', None),\n",
    "    wonly_beta4=m['wonly_beta4'],\n",
    "    wonly_beta4_err=m.get('wonly_beta4_err', None),\n",
    "    **m.get('weights', {}),\n",
    ")\n",
    "\n",
    "x0 = [m['x0'][k.name.lower()] for k in pad.XKEYS if k not in pad.xfixed]\n",
    "opt: OptimizeResult = least_squares(\n",
    "    pad.zdiffmat,\n",
    "    [d['init'] for d in x0],\n",
    "    jac=pad.zdiffjacmat,\n",
    "    bounds=[[d['lower'] for d in x0], [d['upper'] for d in x0]],\n",
    "    **m.get('opts', {}),\n",
    ")\n",
    "\n",
    "print('Fitting report...')\n",
    "pad.report(opt.x)\n",
    "if not opt.success:\n",
    "    raise AssertionError('Fail to optimize the pad!')"
   ]
  }
 ],
 "metadata": {
  "kernelspec": {
   "display_name": "Python 3",
   "language": "python",
   "name": "python3"
  },
  "language_info": {
   "codemirror_mode": {
    "name": "ipython",
    "version": 3
   },
   "file_extension": ".py",
   "mimetype": "text/x-python",
   "name": "python",
   "nbconvert_exporter": "python",
   "pygments_lexer": "ipython3",
   "version": "3.6.5"
  }
 },
 "nbformat": 4,
 "nbformat_minor": 2
}
