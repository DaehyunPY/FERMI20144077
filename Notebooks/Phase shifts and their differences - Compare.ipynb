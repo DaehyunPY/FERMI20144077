{
 "cells": [
  {
   "cell_type": "code",
   "execution_count": 1,
   "metadata": {},
   "outputs": [],
   "source": [
    "import numpy as np\n",
    "import pandas as pd\n",
    "import altair as alt"
   ]
  },
  {
   "cell_type": "code",
   "execution_count": 9,
   "metadata": {},
   "outputs": [
    {
     "data": {
      "application/vnd.vegalite.v2+json": {
       "$schema": "https://vega.github.io/schema/vega-lite/v2.6.0.json",
       "config": {
        "view": {
         "height": 300,
         "width": 400
        }
       },
       "datasets": {
        "data-16937ddac9caa5ce4de0193690aaba8b": [
         {
          "Dataset": "good1",
          "Dataset / KE (eV)": "good1 / 7.2",
          "Phase shift (deg)": 55.624165237912955,
          "Phase shift (rad)": 0.9708248270749561,
          "Phase shift err (deg)": 5.102608561745767,
          "Phase shift err (rad)": 0.08905731984291601,
          "Phase shift fr (deg)": 50.52155667616719,
          "Phase shift to (deg)": 60.72677379965872,
          "Photon energy (eV)": 15.9,
          "Polar ang (deg)": 2.5,
          "Polar ang fr (deg)": 0,
          "Polar ang to (deg)": 5
         },
         {
          "Dataset": "good1",
          "Dataset / KE (eV)": "good1 / 7.2",
          "Phase shift (deg)": 69.34129761702155,
          "Phase shift (rad)": 1.2102339510223241,
          "Phase shift err (deg)": 5.542410717517573,
          "Phase shift err (rad)": 0.096733315518503,
          "Phase shift fr (deg)": 63.798886899503984,
          "Phase shift to (deg)": 74.88370833453912,
          "Photon energy (eV)": 15.9,
          "Polar ang (deg)": 7.5,
          "Polar ang fr (deg)": 5,
          "Polar ang to (deg)": 10
         },
         {
          "Dataset": "good1",
          "Dataset / KE (eV)": "good1 / 7.2",
          "Phase shift (deg)": 57.48579921989847,
          "Phase shift (rad)": 1.003316469527616,
          "Phase shift err (deg)": 4.167181008436642,
          "Phase shift err (rad)": 0.072731029123797,
          "Phase shift fr (deg)": 53.318618211461825,
          "Phase shift to (deg)": 61.65298022833511,
          "Photon energy (eV)": 15.9,
          "Polar ang (deg)": 12.5,
          "Polar ang fr (deg)": 10,
          "Polar ang to (deg)": 15
         },
         {
          "Dataset": "good1",
          "Dataset / KE (eV)": "good1 / 7.2",
          "Phase shift (deg)": 69.85629700128604,
          "Phase shift (rad)": 1.219222385923483,
          "Phase shift err (deg)": 3.5493796519706344,
          "Phase shift err (rad)": 0.061948361330178,
          "Phase shift fr (deg)": 66.3069173493154,
          "Phase shift to (deg)": 73.40567665325668,
          "Photon energy (eV)": 15.9,
          "Polar ang (deg)": 17.5,
          "Polar ang fr (deg)": 15,
          "Polar ang to (deg)": 20
         },
         {
          "Dataset": "good1",
          "Dataset / KE (eV)": "good1 / 7.2",
          "Phase shift (deg)": 63.80406094204963,
          "Phase shift (rad)": 1.113590939581881,
          "Phase shift err (deg)": 6.656708668429828,
          "Phase shift err (rad)": 0.116181483610148,
          "Phase shift fr (deg)": 57.1473522736198,
          "Phase shift to (deg)": 70.46076961047946,
          "Photon energy (eV)": 15.9,
          "Polar ang (deg)": 22.5,
          "Polar ang fr (deg)": 20,
          "Polar ang to (deg)": 25
         },
         {
          "Dataset": "good1",
          "Dataset / KE (eV)": "good1 / 7.2",
          "Phase shift (deg)": 64.06627678367501,
          "Phase shift (rad)": 1.118167469369132,
          "Phase shift err (deg)": 5.855811442391104,
          "Phase shift err (rad)": 0.10220319004568301,
          "Phase shift fr (deg)": 58.21046534128391,
          "Phase shift to (deg)": 69.92208822606611,
          "Photon energy (eV)": 15.9,
          "Polar ang (deg)": 27.5,
          "Polar ang fr (deg)": 25,
          "Polar ang to (deg)": 30
         },
         {
          "Dataset": "good1",
          "Dataset / KE (eV)": "good1 / 7.2",
          "Phase shift (deg)": 77.8642046827021,
          "Phase shift (rad)": 1.3589867411599381,
          "Phase shift err (deg)": 6.246164745217437,
          "Phase shift err (rad)": 0.10901614042603701,
          "Phase shift fr (deg)": 71.61803993748465,
          "Phase shift to (deg)": 84.11036942791954,
          "Photon energy (eV)": 15.9,
          "Polar ang (deg)": 32.5,
          "Polar ang fr (deg)": 30,
          "Polar ang to (deg)": 35
         },
         {
          "Dataset": "good1",
          "Dataset / KE (eV)": "good1 / 7.2",
          "Phase shift (deg)": 82.04948906635494,
          "Phase shift (rad)": 1.432033733786982,
          "Phase shift err (deg)": 6.583727202872511,
          "Phase shift err (rad)": 0.114907716743242,
          "Phase shift fr (deg)": 75.46576186348243,
          "Phase shift to (deg)": 88.63321626922745,
          "Photon energy (eV)": 15.9,
          "Polar ang (deg)": 37.5,
          "Polar ang fr (deg)": 35,
          "Polar ang to (deg)": 40
         },
         {
          "Dataset": "good1",
          "Dataset / KE (eV)": "good1 / 7.2",
          "Phase shift (deg)": 101.08066443197784,
          "Phase shift (rad)": 1.764190404441537,
          "Phase shift err (deg)": 8.71499977031819,
          "Phase shift err (rad)": 0.152105440302602,
          "Phase shift fr (deg)": 92.36566466165965,
          "Phase shift to (deg)": 109.79566420229602,
          "Photon energy (eV)": 15.9,
          "Polar ang (deg)": 42.5,
          "Polar ang fr (deg)": 40,
          "Polar ang to (deg)": 45
         },
         {
          "Dataset": "good1",
          "Dataset / KE (eV)": "good1 / 7.2",
          "Phase shift (deg)": 116.7439396125871,
          "Phase shift (rad)": 2.037566127989078,
          "Phase shift err (deg)": 12.733462828784301,
          "Phase shift err (rad)": 0.222240851542597,
          "Phase shift fr (deg)": 104.0104767838028,
          "Phase shift to (deg)": 129.4774024413714,
          "Photon energy (eV)": 15.9,
          "Polar ang (deg)": 47.5,
          "Polar ang fr (deg)": 45,
          "Polar ang to (deg)": 50
         },
         {
          "Dataset": "good1",
          "Dataset / KE (eV)": "good1 / 7.2",
          "Phase shift (deg)": 142.07473430265935,
          "Phase shift (rad)": 2.479671897477535,
          "Phase shift err (deg)": 10.910646903930463,
          "Phase shift err (rad)": 0.19042671199611202,
          "Phase shift fr (deg)": 131.1640873987289,
          "Phase shift to (deg)": 152.9853812065898,
          "Photon energy (eV)": 15.9,
          "Polar ang (deg)": 52.5,
          "Polar ang fr (deg)": 50,
          "Polar ang to (deg)": 55
         },
         {
          "Dataset": "good1",
          "Dataset / KE (eV)": "good1 / 7.2",
          "Phase shift (deg)": 170.18997706299555,
          "Phase shift (rad)": 2.9703754536429012,
          "Phase shift err (deg)": 19.92820244901253,
          "Phase shift err (rad)": 0.34781274673926604,
          "Phase shift fr (deg)": 150.26177461398302,
          "Phase shift to (deg)": 190.11817951200808,
          "Photon energy (eV)": 15.9,
          "Polar ang (deg)": 57.5,
          "Polar ang fr (deg)": 55,
          "Polar ang to (deg)": 60
         },
         {
          "Dataset": "good1",
          "Dataset / KE (eV)": "good1 / 7.2",
          "Phase shift (deg)": 172.43782915687606,
          "Phase shift (rad)": 3.009607873778965,
          "Phase shift err (deg)": 9.117597979072663,
          "Phase shift err (rad)": 0.159132104607999,
          "Phase shift fr (deg)": 163.3202311778034,
          "Phase shift to (deg)": 181.55542713594872,
          "Photon energy (eV)": 15.9,
          "Polar ang (deg)": 62.5,
          "Polar ang fr (deg)": 60,
          "Polar ang to (deg)": 65
         },
         {
          "Dataset": "good1",
          "Dataset / KE (eV)": "good1 / 7.2",
          "Phase shift (deg)": 191.92821699053056,
          "Phase shift (rad)": 3.349779313966881,
          "Phase shift err (deg)": 11.10658455331217,
          "Phase shift err (rad)": 0.19384646910644102,
          "Phase shift fr (deg)": 180.8216324372184,
          "Phase shift to (deg)": 203.03480154384272,
          "Photon energy (eV)": 15.9,
          "Polar ang (deg)": 67.5,
          "Polar ang fr (deg)": 65,
          "Polar ang to (deg)": 70
         },
         {
          "Dataset": "good1",
          "Dataset / KE (eV)": "good1 / 7.2",
          "Phase shift (deg)": 186.87179630246047,
          "Phase shift (rad)": 3.2615281245941,
          "Phase shift err (deg)": 12.347993727467372,
          "Phase shift err (rad)": 0.21551314655991302,
          "Phase shift fr (deg)": 174.52380257499308,
          "Phase shift to (deg)": 199.21979002992785,
          "Photon energy (eV)": 15.9,
          "Polar ang (deg)": 72.5,
          "Polar ang fr (deg)": 70,
          "Polar ang to (deg)": 75
         },
         {
          "Dataset": "good1",
          "Dataset / KE (eV)": "good1 / 7.2",
          "Phase shift (deg)": 205.02767445107293,
          "Phase shift (rad)": 3.57840797687828,
          "Phase shift err (deg)": 14.456379420938266,
          "Phase shift err (rad)": 0.252311418812924,
          "Phase shift fr (deg)": 190.57129503013465,
          "Phase shift to (deg)": 219.4840538720112,
          "Photon energy (eV)": 15.9,
          "Polar ang (deg)": 77.5,
          "Polar ang fr (deg)": 75,
          "Polar ang to (deg)": 80
         },
         {
          "Dataset": "good1",
          "Dataset / KE (eV)": "good1 / 7.2",
          "Phase shift (deg)": 211.1659306571406,
          "Phase shift (rad)": 3.685540758005137,
          "Phase shift err (deg)": 45.05397281516696,
          "Phase shift err (rad)": 0.786340166728682,
          "Phase shift fr (deg)": 166.11195784197363,
          "Phase shift to (deg)": 256.2199034723076,
          "Photon energy (eV)": 15.9,
          "Polar ang (deg)": 82.5,
          "Polar ang fr (deg)": 80,
          "Polar ang to (deg)": 85
         },
         {
          "Dataset": "good1",
          "Dataset / KE (eV)": "good1 / 7.2",
          "Phase shift (deg)": 206.5850179880874,
          "Phase shift (rad)": 3.605588749183837,
          "Phase shift err (deg)": 68.51473101168536,
          "Phase shift err (rad)": 1.195807642272175,
          "Phase shift fr (deg)": 138.07028697640203,
          "Phase shift to (deg)": 275.09974899977277,
          "Photon energy (eV)": 15.9,
          "Polar ang (deg)": 87.5,
          "Polar ang fr (deg)": 85,
          "Polar ang to (deg)": 90
         },
         {
          "Dataset": "good1",
          "Dataset / KE (eV)": "good1 / 7.2",
          "Phase shift (deg)": 386.58503117459895,
          "Phase shift (rad)": 6.747181632921674,
          "Phase shift err (deg)": 68.51468835351905,
          "Phase shift err (rad)": 1.19580689774672,
          "Phase shift fr (deg)": 318.0703428210799,
          "Phase shift to (deg)": 455.099719528118,
          "Photon energy (eV)": 15.9,
          "Polar ang (deg)": 92.5,
          "Polar ang fr (deg)": 90,
          "Polar ang to (deg)": 95
         },
         {
          "Dataset": "good1",
          "Dataset / KE (eV)": "good1 / 7.2",
          "Phase shift (deg)": 391.1659222866469,
          "Phase shift (rad)": 6.827133265502255,
          "Phase shift err (deg)": 45.05396403043504,
          "Phase shift err (rad)": 0.7863400134061861,
          "Phase shift fr (deg)": 346.11195825621184,
          "Phase shift to (deg)": 436.21988631708194,
          "Photon energy (eV)": 15.9,
          "Polar ang (deg)": 97.5,
          "Polar ang fr (deg)": 95,
          "Polar ang to (deg)": 100
         },
         {
          "Dataset": "good1",
          "Dataset / KE (eV)": "good1 / 7.2",
          "Phase shift (deg)": 385.0276750748125,
          "Phase shift (rad)": 6.720000641354384,
          "Phase shift err (deg)": 14.456380230231298,
          "Phase shift err (rad)": 0.25231143293775204,
          "Phase shift fr (deg)": 370.57129484458125,
          "Phase shift to (deg)": 399.4840553050438,
          "Photon energy (eV)": 15.9,
          "Polar ang (deg)": 102.5,
          "Polar ang fr (deg)": 100,
          "Polar ang to (deg)": 105
         },
         {
          "Dataset": "good1",
          "Dataset / KE (eV)": "good1 / 7.2",
          "Phase shift (deg)": 366.87179530347004,
          "Phase shift (rad)": 6.403120760748221,
          "Phase shift err (deg)": 12.347993386815087,
          "Phase shift err (rad)": 0.21551314061440902,
          "Phase shift fr (deg)": 354.523801916655,
          "Phase shift to (deg)": 379.2197886902851,
          "Photon energy (eV)": 15.9,
          "Polar ang (deg)": 107.5,
          "Polar ang fr (deg)": 105,
          "Polar ang to (deg)": 110
         },
         {
          "Dataset": "good1",
          "Dataset / KE (eV)": "good1 / 7.2",
          "Phase shift (deg)": 371.9282171432328,
          "Phase shift (rad)": 6.49137197022183,
          "Phase shift err (deg)": 11.106584660948707,
          "Phase shift err (rad)": 0.193846470985053,
          "Phase shift fr (deg)": 360.8216324822841,
          "Phase shift to (deg)": 383.03480180418154,
          "Photon energy (eV)": 15.9,
          "Polar ang (deg)": 112.5,
          "Polar ang fr (deg)": 110,
          "Polar ang to (deg)": 115
         },
         {
          "Dataset": "good1",
          "Dataset / KE (eV)": "good1 / 7.2",
          "Phase shift (deg)": 352.4378290366077,
          "Phase shift (rad)": 6.151200525269679,
          "Phase shift err (deg)": 9.117598019727742,
          "Phase shift err (rad)": 0.159132105317564,
          "Phase shift fr (deg)": 343.32023101688,
          "Phase shift to (deg)": 361.5554270563354,
          "Photon energy (eV)": 15.9,
          "Polar ang (deg)": 117.5,
          "Polar ang fr (deg)": 115,
          "Polar ang to (deg)": 120
         },
         {
          "Dataset": "good1",
          "Dataset / KE (eV)": "good1 / 7.2",
          "Phase shift (deg)": 350.1899795107149,
          "Phase shift (rad)": 6.111968149953457,
          "Phase shift err (deg)": 19.928201357194354,
          "Phase shift err (rad)": 0.347812727683444,
          "Phase shift fr (deg)": 330.2617781535206,
          "Phase shift to (deg)": 370.11818086790925,
          "Photon energy (eV)": 15.9,
          "Polar ang (deg)": 122.5,
          "Polar ang fr (deg)": 120,
          "Polar ang to (deg)": 125
         },
         {
          "Dataset": "good1",
          "Dataset / KE (eV)": "good1 / 7.2",
          "Phase shift (deg)": 322.07473397811816,
          "Phase shift (rad)": 5.621264545403016,
          "Phase shift err (deg)": 10.910646980615478,
          "Phase shift err (rad)": 0.19042671333451802,
          "Phase shift fr (deg)": 311.1640869975027,
          "Phase shift to (deg)": 332.98538095873363,
          "Photon energy (eV)": 15.9,
          "Polar ang (deg)": 127.5,
          "Polar ang fr (deg)": 125,
          "Polar ang to (deg)": 130
         },
         {
          "Dataset": "good1",
          "Dataset / KE (eV)": "good1 / 7.2",
          "Phase shift (deg)": 296.743940229548,
          "Phase shift (rad)": 5.17915879234687,
          "Phase shift err (deg)": 12.733462849442065,
          "Phase shift err (rad)": 0.22224085190314302,
          "Phase shift fr (deg)": 284.01047738010595,
          "Phase shift to (deg)": 309.47740307899005,
          "Photon energy (eV)": 15.9,
          "Polar ang (deg)": 132.5,
          "Polar ang fr (deg)": 130,
          "Polar ang to (deg)": 135
         },
         {
          "Dataset": "good1",
          "Dataset / KE (eV)": "good1 / 7.2",
          "Phase shift (deg)": 281.0806642043766,
          "Phase shift (rad)": 4.905783054058939,
          "Phase shift err (deg)": 8.714999764856527,
          "Phase shift err (rad)": 0.152105440207278,
          "Phase shift fr (deg)": 272.36566443952006,
          "Phase shift to (deg)": 289.79566396923315,
          "Photon energy (eV)": 15.9,
          "Polar ang (deg)": 137.5,
          "Polar ang fr (deg)": 135,
          "Polar ang to (deg)": 140
         },
         {
          "Dataset": "good1",
          "Dataset / KE (eV)": "good1 / 7.2",
          "Phase shift (deg)": 262.049488943145,
          "Phase shift (rad)": 4.573626385226356,
          "Phase shift err (deg)": 6.583727208901231,
          "Phase shift err (rad)": 0.11490771684846302,
          "Phase shift fr (deg)": 255.46576173424376,
          "Phase shift to (deg)": 268.6332161520462,
          "Photon energy (eV)": 15.9,
          "Polar ang (deg)": 142.5,
          "Polar ang fr (deg)": 140,
          "Polar ang to (deg)": 145
         },
         {
          "Dataset": "good1",
          "Dataset / KE (eV)": "good1 / 7.2",
          "Phase shift (deg)": 257.86420463985195,
          "Phase shift (rad)": 4.500579394001855,
          "Phase shift err (deg)": 6.24616477338301,
          "Phase shift err (rad)": 0.109016140917619,
          "Phase shift fr (deg)": 251.61803986646893,
          "Phase shift to (deg)": 264.11036941323493,
          "Photon energy (eV)": 15.9,
          "Polar ang (deg)": 147.5,
          "Polar ang fr (deg)": 145,
          "Polar ang to (deg)": 150
         },
         {
          "Dataset": "good1",
          "Dataset / KE (eV)": "good1 / 7.2",
          "Phase shift (deg)": 244.06627675029216,
          "Phase shift (rad)": 4.259760122376284,
          "Phase shift err (deg)": 5.855811473988236,
          "Phase shift err (rad)": 0.102203190597157,
          "Phase shift fr (deg)": 238.21046527630392,
          "Phase shift to (deg)": 249.9220882242804,
          "Photon energy (eV)": 15.9,
          "Polar ang (deg)": 152.5,
          "Polar ang fr (deg)": 150,
          "Polar ang to (deg)": 155
         },
         {
          "Dataset": "good1",
          "Dataset / KE (eV)": "good1 / 7.2",
          "Phase shift (deg)": 243.80406099006325,
          "Phase shift (rad)": 4.25518359400967,
          "Phase shift err (deg)": 6.6567086404662215,
          "Phase shift err (rad)": 0.116181483122091,
          "Phase shift fr (deg)": 237.147352349597,
          "Phase shift to (deg)": 250.46076963052948,
          "Photon energy (eV)": 15.9,
          "Polar ang (deg)": 157.5,
          "Polar ang fr (deg)": 155,
          "Polar ang to (deg)": 160
         },
         {
          "Dataset": "good1",
          "Dataset / KE (eV)": "good1 / 7.2",
          "Phase shift (deg)": 249.856296995988,
          "Phase shift (rad)": 4.360815039420808,
          "Phase shift err (deg)": 3.5493796557449935,
          "Phase shift err (rad)": 0.061948361396053,
          "Phase shift fr (deg)": 246.30691734024302,
          "Phase shift to (deg)": 253.405676651733,
          "Photon energy (eV)": 15.9,
          "Polar ang (deg)": 162.5,
          "Polar ang fr (deg)": 160,
          "Polar ang to (deg)": 165
         },
         {
          "Dataset": "good1",
          "Dataset / KE (eV)": "good1 / 7.2",
          "Phase shift (deg)": 237.48579927144425,
          "Phase shift (rad)": 4.144909124017053,
          "Phase shift err (deg)": 4.167181028937817,
          "Phase shift err (rad)": 0.07273102948161,
          "Phase shift fr (deg)": 233.31861824250643,
          "Phase shift to (deg)": 241.65298030038207,
          "Photon energy (eV)": 15.9,
          "Polar ang (deg)": 167.5,
          "Polar ang fr (deg)": 165,
          "Polar ang to (deg)": 170
         },
         {
          "Dataset": "good1",
          "Dataset / KE (eV)": "good1 / 7.2",
          "Phase shift (deg)": 249.3412975344184,
          "Phase shift (rad)": 4.35182660317042,
          "Phase shift err (deg)": 5.542410746479158,
          "Phase shift err (rad)": 0.09673331602397801,
          "Phase shift fr (deg)": 243.79888678793924,
          "Phase shift to (deg)": 254.88370828089757,
          "Photon energy (eV)": 15.9,
          "Polar ang (deg)": 172.5,
          "Polar ang fr (deg)": 170,
          "Polar ang to (deg)": 175
         },
         {
          "Dataset": "good1",
          "Dataset / KE (eV)": "good1 / 7.2",
          "Phase shift (deg)": 235.62416516592492,
          "Phase shift (rad)": 4.112417479408321,
          "Phase shift err (deg)": 5.102608574839915,
          "Phase shift err (rad)": 0.089057320071452,
          "Phase shift fr (deg)": 230.52155659108502,
          "Phase shift to (deg)": 240.72677374076483,
          "Photon energy (eV)": 15.9,
          "Polar ang (deg)": 177.5,
          "Polar ang fr (deg)": 175,
          "Polar ang to (deg)": 180
         },
         {
          "Dataset": "good3",
          "Dataset / KE (eV)": "good3 / 13.6",
          "Phase shift (deg)": 63.56911371973984,
          "Phase shift (rad)": 1.10949033698416,
          "Phase shift err (deg)": 3.870213412751789,
          "Phase shift err (rad)": 0.06754796680736501,
          "Phase shift fr (deg)": 59.69890030698805,
          "Phase shift to (deg)": 67.43932713249163,
          "Photon energy (eV)": 19.1,
          "Polar ang (deg)": 2.5,
          "Polar ang fr (deg)": 0,
          "Polar ang to (deg)": 5
         },
         {
          "Dataset": "good3",
          "Dataset / KE (eV)": "good3 / 13.6",
          "Phase shift (deg)": 63.472793003002124,
          "Phase shift (rad)": 1.107809223339206,
          "Phase shift err (deg)": 4.076694635069646,
          "Phase shift err (rad)": 0.07115174398035401,
          "Phase shift fr (deg)": 59.39609836793248,
          "Phase shift to (deg)": 67.54948763807177,
          "Photon energy (eV)": 19.1,
          "Polar ang (deg)": 7.5,
          "Polar ang fr (deg)": 5,
          "Polar ang to (deg)": 10
         },
         {
          "Dataset": "good3",
          "Dataset / KE (eV)": "good3 / 13.6",
          "Phase shift (deg)": 63.9853857296672,
          "Phase shift (rad)": 1.116755654141287,
          "Phase shift err (deg)": 3.94510358214014,
          "Phase shift err (rad)": 0.06885504684056801,
          "Phase shift fr (deg)": 60.04028214752706,
          "Phase shift to (deg)": 67.93048931180734,
          "Photon energy (eV)": 19.1,
          "Polar ang (deg)": 12.5,
          "Polar ang fr (deg)": 10,
          "Polar ang to (deg)": 15
         },
         {
          "Dataset": "good3",
          "Dataset / KE (eV)": "good3 / 13.6",
          "Phase shift (deg)": 65.55916803938543,
          "Phase shift (rad)": 1.144223337155511,
          "Phase shift err (deg)": 4.082056623397754,
          "Phase shift err (rad)": 0.071245328331133,
          "Phase shift fr (deg)": 61.47711141598767,
          "Phase shift to (deg)": 69.64122466278317,
          "Photon energy (eV)": 19.1,
          "Polar ang (deg)": 17.5,
          "Polar ang fr (deg)": 15,
          "Polar ang to (deg)": 20
         },
         {
          "Dataset": "good3",
          "Dataset / KE (eV)": "good3 / 13.6",
          "Phase shift (deg)": 67.53858771958478,
          "Phase shift (rad)": 1.1787707278537631,
          "Phase shift err (deg)": 4.363105819294113,
          "Phase shift err (rad)": 0.076150562159607,
          "Phase shift fr (deg)": 63.17548190029067,
          "Phase shift to (deg)": 71.9016935388789,
          "Photon energy (eV)": 19.1,
          "Polar ang (deg)": 22.5,
          "Polar ang fr (deg)": 20,
          "Polar ang to (deg)": 25
         },
         {
          "Dataset": "good3",
          "Dataset / KE (eV)": "good3 / 13.6",
          "Phase shift (deg)": 69.96797280545485,
          "Phase shift (rad)": 1.221171496401041,
          "Phase shift err (deg)": 4.5751301178706445,
          "Phase shift err (rad)": 0.079851084263999,
          "Phase shift fr (deg)": 65.3928426875842,
          "Phase shift to (deg)": 74.54310292332549,
          "Photon energy (eV)": 19.1,
          "Polar ang (deg)": 27.5,
          "Polar ang fr (deg)": 25,
          "Polar ang to (deg)": 30
         },
         {
          "Dataset": "good3",
          "Dataset / KE (eV)": "good3 / 13.6",
          "Phase shift (deg)": 73.89721216086903,
          "Phase shift (rad)": 1.289749660251958,
          "Phase shift err (deg)": 4.971428372216093,
          "Phase shift err (rad)": 0.08676779362223301,
          "Phase shift fr (deg)": 68.92578378865294,
          "Phase shift to (deg)": 78.86864053308513,
          "Photon energy (eV)": 19.1,
          "Polar ang (deg)": 32.5,
          "Polar ang fr (deg)": 30,
          "Polar ang to (deg)": 35
         },
         {
          "Dataset": "good3",
          "Dataset / KE (eV)": "good3 / 13.6",
          "Phase shift (deg)": 80.22320818469981,
          "Phase shift (rad)": 1.4001591193358751,
          "Phase shift err (deg)": 5.6649381642078405,
          "Phase shift err (rad)": 0.09887182288731,
          "Phase shift fr (deg)": 74.55827002049197,
          "Phase shift to (deg)": 85.88814634890765,
          "Photon energy (eV)": 19.1,
          "Polar ang (deg)": 37.5,
          "Polar ang fr (deg)": 35,
          "Polar ang to (deg)": 40
         },
         {
          "Dataset": "good3",
          "Dataset / KE (eV)": "good3 / 13.6",
          "Phase shift (deg)": 84.69266867527116,
          "Phase shift (rad)": 1.478165920684146,
          "Phase shift err (deg)": 6.06418555913454,
          "Phase shift err (rad)": 0.105840004458791,
          "Phase shift fr (deg)": 78.62848311613662,
          "Phase shift to (deg)": 90.75685423440571,
          "Photon energy (eV)": 19.1,
          "Polar ang (deg)": 42.5,
          "Polar ang fr (deg)": 40,
          "Polar ang to (deg)": 45
         },
         {
          "Dataset": "good3",
          "Dataset / KE (eV)": "good3 / 13.6",
          "Phase shift (deg)": 93.13782462662982,
          "Phase shift (rad)": 1.625561697879749,
          "Phase shift err (deg)": 6.961682832577929,
          "Phase shift err (rad)": 0.12150428690805001,
          "Phase shift fr (deg)": 86.17614179405189,
          "Phase shift to (deg)": 100.09950745920776,
          "Photon energy (eV)": 19.1,
          "Polar ang (deg)": 47.5,
          "Polar ang fr (deg)": 45,
          "Polar ang to (deg)": 50
         },
         {
          "Dataset": "good3",
          "Dataset / KE (eV)": "good3 / 13.6",
          "Phase shift (deg)": 103.92487718307527,
          "Phase shift (rad)": 1.8138312815753932,
          "Phase shift err (deg)": 8.127901387704805,
          "Phase shift err (rad)": 0.141858640492865,
          "Phase shift fr (deg)": 95.79697579537046,
          "Phase shift to (deg)": 112.05277857078008,
          "Photon energy (eV)": 19.1,
          "Polar ang (deg)": 52.5,
          "Polar ang fr (deg)": 50,
          "Polar ang to (deg)": 55
         },
         {
          "Dataset": "good3",
          "Dataset / KE (eV)": "good3 / 13.6",
          "Phase shift (deg)": 114.719077546621,
          "Phase shift (rad)": 2.002225618039235,
          "Phase shift err (deg)": 8.697866948093369,
          "Phase shift err (rad)": 0.15180641614462,
          "Phase shift fr (deg)": 106.02121059852763,
          "Phase shift to (deg)": 123.41694449471436,
          "Photon energy (eV)": 19.1,
          "Polar ang (deg)": 57.5,
          "Polar ang fr (deg)": 55,
          "Polar ang to (deg)": 60
         },
         {
          "Dataset": "good3",
          "Dataset / KE (eV)": "good3 / 13.6",
          "Phase shift (deg)": 124.68426954579067,
          "Phase shift (rad)": 2.176151029018142,
          "Phase shift err (deg)": 9.213159761401538,
          "Phase shift err (rad)": 0.16079997234871202,
          "Phase shift fr (deg)": 115.47110978438913,
          "Phase shift to (deg)": 133.8974293071922,
          "Photon energy (eV)": 19.1,
          "Polar ang (deg)": 62.5,
          "Polar ang fr (deg)": 60,
          "Polar ang to (deg)": 65
         },
         {
          "Dataset": "good3",
          "Dataset / KE (eV)": "good3 / 13.6",
          "Phase shift (deg)": 134.06041665357043,
          "Phase shift (rad)": 2.3397956672002422,
          "Phase shift err (deg)": 10.314616494279436,
          "Phase shift err (rad)": 0.180024018905691,
          "Phase shift fr (deg)": 123.745800159291,
          "Phase shift to (deg)": 144.37503314784988,
          "Photon energy (eV)": 19.1,
          "Polar ang (deg)": 67.5,
          "Polar ang fr (deg)": 65,
          "Polar ang to (deg)": 70
         },
         {
          "Dataset": "good3",
          "Dataset / KE (eV)": "good3 / 13.6",
          "Phase shift (deg)": 143.48720383095693,
          "Phase shift (rad)": 2.50432414133042,
          "Phase shift err (deg)": 12.329239814840514,
          "Phase shift err (rad)": 0.21518582903694303,
          "Phase shift fr (deg)": 131.1579640161164,
          "Phase shift to (deg)": 155.81644364579745,
          "Photon energy (eV)": 19.1,
          "Polar ang (deg)": 72.5,
          "Polar ang fr (deg)": 70,
          "Polar ang to (deg)": 75
         },
         {
          "Dataset": "good3",
          "Dataset / KE (eV)": "good3 / 13.6",
          "Phase shift (deg)": 151.73306159279517,
          "Phase shift (rad)": 2.648241508925627,
          "Phase shift err (deg)": 14.649781664186175,
          "Phase shift err (rad)": 0.25568692473834304,
          "Phase shift fr (deg)": 137.083279928609,
          "Phase shift to (deg)": 166.38284325698135,
          "Photon energy (eV)": 19.1,
          "Polar ang (deg)": 77.5,
          "Polar ang fr (deg)": 75,
          "Polar ang to (deg)": 80
         },
         {
          "Dataset": "good3",
          "Dataset / KE (eV)": "good3 / 13.6",
          "Phase shift (deg)": 152.48965428700046,
          "Phase shift (rad)": 2.6614465425360443,
          "Phase shift err (deg)": 21.644223499206863,
          "Phase shift err (rad)": 0.37776296409868804,
          "Phase shift fr (deg)": 130.8454307877936,
          "Phase shift to (deg)": 174.13387778620734,
          "Photon energy (eV)": 19.1,
          "Polar ang (deg)": 82.5,
          "Polar ang fr (deg)": 80,
          "Polar ang to (deg)": 85
         },
         {
          "Dataset": "good3",
          "Dataset / KE (eV)": "good3 / 13.6",
          "Phase shift (deg)": 148.6963936025943,
          "Phase shift (rad)": 2.595241654206703,
          "Phase shift err (deg)": 71.11644607164945,
          "Phase shift err (rad)": 1.24121613626727,
          "Phase shift fr (deg)": 77.57994753094485,
          "Phase shift to (deg)": 219.81283967424375,
          "Photon energy (eV)": 19.1,
          "Polar ang (deg)": 87.5,
          "Polar ang fr (deg)": 85,
          "Polar ang to (deg)": 90
         },
         {
          "Dataset": "good3",
          "Dataset / KE (eV)": "good3 / 13.6",
          "Phase shift (deg)": 328.69639368265354,
          "Phase shift (rad)": 5.736834309193794,
          "Phase shift err (deg)": 71.11643606694732,
          "Phase shift err (rad)": 1.241215961652277,
          "Phase shift fr (deg)": 257.57995761570623,
          "Phase shift to (deg)": 399.81282974960084,
          "Photon energy (eV)": 19.1,
          "Polar ang (deg)": 92.5,
          "Polar ang fr (deg)": 90,
          "Polar ang to (deg)": 95
         },
         {
          "Dataset": "good3",
          "Dataset / KE (eV)": "good3 / 13.6",
          "Phase shift (deg)": 332.4896538294369,
          "Phase shift (rad)": 5.803039188139847,
          "Phase shift err (deg)": 21.64422112199901,
          "Phase shift err (rad)": 0.377762922608584,
          "Phase shift fr (deg)": 310.8454327074379,
          "Phase shift to (deg)": 354.1338749514359,
          "Photon energy (eV)": 19.1,
          "Polar ang (deg)": 97.5,
          "Polar ang fr (deg)": 95,
          "Polar ang to (deg)": 100
         },
         {
          "Dataset": "good3",
          "Dataset / KE (eV)": "good3 / 13.6",
          "Phase shift (deg)": 331.73306083653483,
          "Phase shift (rad)": 5.789834149316188,
          "Phase shift err (deg)": 14.649782048459974,
          "Phase shift err (rad)": 0.255686931445186,
          "Phase shift fr (deg)": 317.08327878807484,
          "Phase shift to (deg)": 346.38284288499483,
          "Photon energy (eV)": 19.1,
          "Polar ang (deg)": 102.5,
          "Polar ang fr (deg)": 100,
          "Polar ang to (deg)": 105
         },
         {
          "Dataset": "good3",
          "Dataset / KE (eV)": "good3 / 13.6",
          "Phase shift (deg)": 323.4872037462653,
          "Phase shift (rad)": 5.6459167934420655,
          "Phase shift err (deg)": 12.329239650149585,
          "Phase shift err (rad)": 0.21518582616254403,
          "Phase shift fr (deg)": 311.15796409611573,
          "Phase shift to (deg)": 335.8164433964149,
          "Photon energy (eV)": 19.1,
          "Polar ang (deg)": 107.5,
          "Polar ang fr (deg)": 105,
          "Polar ang to (deg)": 110
         },
         {
          "Dataset": "good3",
          "Dataset / KE (eV)": "good3 / 13.6",
          "Phase shift (deg)": 314.06041667043377,
          "Phase shift (rad)": 5.481388321084356,
          "Phase shift err (deg)": 10.314616462479535,
          "Phase shift err (rad)": 0.18002401835067802,
          "Phase shift fr (deg)": 303.74580020795423,
          "Phase shift to (deg)": 324.3750331329133,
          "Photon energy (eV)": 19.1,
          "Polar ang (deg)": 112.5,
          "Polar ang fr (deg)": 110,
          "Polar ang to (deg)": 115
         },
         {
          "Dataset": "good3",
          "Dataset / KE (eV)": "good3 / 13.6",
          "Phase shift (deg)": 304.6842695185661,
          "Phase shift (rad)": 5.317743682132777,
          "Phase shift err (deg)": 9.213159733269137,
          "Phase shift err (rad)": 0.160799971857709,
          "Phase shift fr (deg)": 295.47110978529696,
          "Phase shift to (deg)": 313.89742925183526,
          "Photon energy (eV)": 19.1,
          "Polar ang (deg)": 117.5,
          "Polar ang fr (deg)": 115,
          "Polar ang to (deg)": 120
         },
         {
          "Dataset": "good3",
          "Dataset / KE (eV)": "good3 / 13.6",
          "Phase shift (deg)": 294.71907719854045,
          "Phase shift (rad)": 5.143818265553876,
          "Phase shift err (deg)": 8.697866726153585,
          "Phase shift err (rad)": 0.15180641227104003,
          "Phase shift fr (deg)": 286.0212104723869,
          "Phase shift to (deg)": 303.416943924694,
          "Photon energy (eV)": 19.1,
          "Polar ang (deg)": 122.5,
          "Polar ang fr (deg)": 120,
          "Polar ang to (deg)": 125
         },
         {
          "Dataset": "good3",
          "Dataset / KE (eV)": "good3 / 13.6",
          "Phase shift (deg)": 283.92487729228213,
          "Phase shift (rad)": 4.955423937071205,
          "Phase shift err (deg)": 8.127901409203213,
          "Phase shift err (rad)": 0.141858640868083,
          "Phase shift fr (deg)": 275.7969758830789,
          "Phase shift to (deg)": 292.05277870148535,
          "Photon energy (eV)": 19.1,
          "Polar ang (deg)": 127.5,
          "Polar ang fr (deg)": 125,
          "Polar ang to (deg)": 130
         },
         {
          "Dataset": "good3",
          "Dataset / KE (eV)": "good3 / 13.6",
          "Phase shift (deg)": 273.1378245898628,
          "Phase shift (rad)": 4.767154350827837,
          "Phase shift err (deg)": 6.9616828510110125,
          "Phase shift err (rad)": 0.12150428722976801,
          "Phase shift fr (deg)": 266.1761417388518,
          "Phase shift to (deg)": 280.0995074408738,
          "Photon energy (eV)": 19.1,
          "Polar ang (deg)": 132.5,
          "Polar ang fr (deg)": 130,
          "Polar ang to (deg)": 135
         },
         {
          "Dataset": "good3",
          "Dataset / KE (eV)": "good3 / 13.6",
          "Phase shift (deg)": 264.69266877449866,
          "Phase shift (rad)": 4.619758576005785,
          "Phase shift err (deg)": 6.0641856274210255,
          "Phase shift err (rad)": 0.10584000565061501,
          "Phase shift fr (deg)": 258.62848314707765,
          "Phase shift to (deg)": 270.75685440191967,
          "Photon energy (eV)": 19.1,
          "Polar ang (deg)": 137.5,
          "Polar ang fr (deg)": 135,
          "Polar ang to (deg)": 140
         },
         {
          "Dataset": "good3",
          "Dataset / KE (eV)": "good3 / 13.6",
          "Phase shift (deg)": 260.22320833138923,
          "Phase shift (rad)": 4.541751775485881,
          "Phase shift err (deg)": 5.664938130390095,
          "Phase shift err (rad)": 0.09887182229707901,
          "Phase shift fr (deg)": 254.55827020099915,
          "Phase shift to (deg)": 265.88814646177934,
          "Photon energy (eV)": 19.1,
          "Polar ang (deg)": 142.5,
          "Polar ang fr (deg)": 140,
          "Polar ang to (deg)": 145
         },
         {
          "Dataset": "good3",
          "Dataset / KE (eV)": "good3 / 13.6",
          "Phase shift (deg)": 253.89721228890772,
          "Phase shift (rad)": 4.431342316076448,
          "Phase shift err (deg)": 4.97142830063384,
          "Phase shift err (rad)": 0.08676779237288701,
          "Phase shift fr (deg)": 248.92578398827388,
          "Phase shift to (deg)": 258.86864058954154,
          "Photon energy (eV)": 19.1,
          "Polar ang (deg)": 147.5,
          "Polar ang fr (deg)": 145,
          "Polar ang to (deg)": 150
         },
         {
          "Dataset": "good3",
          "Dataset / KE (eV)": "good3 / 13.6",
          "Phase shift (deg)": 249.96797272587517,
          "Phase shift (rad)": 4.362764148601907,
          "Phase shift err (deg)": 4.57513012940228,
          "Phase shift err (rad)": 0.07985108446526401,
          "Phase shift fr (deg)": 245.3928425964729,
          "Phase shift to (deg)": 254.54310285527745,
          "Photon energy (eV)": 19.1,
          "Polar ang (deg)": 152.5,
          "Polar ang fr (deg)": 150,
          "Polar ang to (deg)": 155
         },
         {
          "Dataset": "good3",
          "Dataset / KE (eV)": "good3 / 13.6",
          "Phase shift (deg)": 247.5385876919608,
          "Phase shift (rad)": 4.320363380961426,
          "Phase shift err (deg)": 4.363105833892906,
          "Phase shift err (rad)": 0.076150562414404,
          "Phase shift fr (deg)": 243.17548185806788,
          "Phase shift to (deg)": 251.90169352585372,
          "Photon energy (eV)": 19.1,
          "Polar ang (deg)": 157.5,
          "Polar ang fr (deg)": 155,
          "Polar ang to (deg)": 160
         },
         {
          "Dataset": "good3",
          "Dataset / KE (eV)": "good3 / 13.6",
          "Phase shift (deg)": 245.55916805289934,
          "Phase shift (rad)": 4.285815990981167,
          "Phase shift err (deg)": 4.082056592087444,
          "Phase shift err (rad)": 0.07124532778466501,
          "Phase shift fr (deg)": 241.4771114608119,
          "Phase shift to (deg)": 249.64122464498678,
          "Photon energy (eV)": 19.1,
          "Polar ang (deg)": 162.5,
          "Polar ang fr (deg)": 160,
          "Polar ang to (deg)": 165
         },
         {
          "Dataset": "good3",
          "Dataset / KE (eV)": "good3 / 13.6",
          "Phase shift (deg)": 243.9853856734661,
          "Phase shift (rad)": 4.258348306750186,
          "Phase shift err (deg)": 3.945103562073038,
          "Phase shift err (rad)": 0.068855046490331,
          "Phase shift fr (deg)": 240.04028211139308,
          "Phase shift to (deg)": 247.93048923553914,
          "Photon energy (eV)": 19.1,
          "Polar ang (deg)": 167.5,
          "Polar ang fr (deg)": 165,
          "Polar ang to (deg)": 170
         },
         {
          "Dataset": "good3",
          "Dataset / KE (eV)": "good3 / 13.6",
          "Phase shift (deg)": 243.47279298244138,
          "Phase shift (rad)": 4.249401876570147,
          "Phase shift err (deg)": 4.076694625983395,
          "Phase shift err (rad)": 0.071151743821769,
          "Phase shift fr (deg)": 239.39609835645797,
          "Phase shift to (deg)": 247.54948760842478,
          "Photon energy (eV)": 19.1,
          "Polar ang (deg)": 172.5,
          "Polar ang fr (deg)": 170,
          "Polar ang to (deg)": 175
         },
         {
          "Dataset": "good3",
          "Dataset / KE (eV)": "good3 / 13.6",
          "Phase shift (deg)": 243.56911367645523,
          "Phase shift (rad)": 4.251082989818494,
          "Phase shift err (deg)": 3.8702134251783264,
          "Phase shift err (rad)": 0.067547967024249,
          "Phase shift fr (deg)": 239.6989002512769,
          "Phase shift to (deg)": 247.43932710163355,
          "Photon energy (eV)": 19.1,
          "Polar ang (deg)": 177.5,
          "Polar ang fr (deg)": 175,
          "Polar ang to (deg)": 180
         },
         {
          "Dataset": "good2",
          "Dataset / KE (eV)": "good2 / 4.0",
          "Phase shift (deg)": 55.85723161382815,
          "Phase shift (rad)": 0.974892602710367,
          "Phase shift err (deg)": 6.654672703620873,
          "Phase shift err (rad)": 0.11614594932077701,
          "Phase shift fr (deg)": 49.20255891020727,
          "Phase shift to (deg)": 62.51190431744902,
          "Photon energy (eV)": 14.3,
          "Polar ang (deg)": 2.5,
          "Polar ang fr (deg)": 0,
          "Polar ang to (deg)": 5
         },
         {
          "Dataset": "good2",
          "Dataset / KE (eV)": "good2 / 4.0",
          "Phase shift (deg)": 58.18121026778884,
          "Phase shift (rad)": 1.015453681968047,
          "Phase shift err (deg)": 4.512967162475766,
          "Phase shift err (rad)": 0.07876613601958801,
          "Phase shift fr (deg)": 53.668243105313074,
          "Phase shift to (deg)": 62.69417743026461,
          "Photon energy (eV)": 14.3,
          "Polar ang (deg)": 7.5,
          "Polar ang fr (deg)": 5,
          "Polar ang to (deg)": 10
         },
         {
          "Dataset": "good2",
          "Dataset / KE (eV)": "good2 / 4.0",
          "Phase shift (deg)": 60.187671096174235,
          "Phase shift (rad)": 1.050473029735665,
          "Phase shift err (deg)": 4.3364575886529,
          "Phase shift err (rad)": 0.075685462795087,
          "Phase shift fr (deg)": 55.85121350752134,
          "Phase shift to (deg)": 64.52412868482713,
          "Photon energy (eV)": 14.3,
          "Polar ang (deg)": 12.5,
          "Polar ang fr (deg)": 10,
          "Polar ang to (deg)": 15
         },
         {
          "Dataset": "good2",
          "Dataset / KE (eV)": "good2 / 4.0",
          "Phase shift (deg)": 64.1058209115469,
          "Phase shift (rad)": 1.118857644600326,
          "Phase shift err (deg)": 4.737725040044402,
          "Phase shift err (rad)": 0.082688901002955,
          "Phase shift fr (deg)": 59.3680958715025,
          "Phase shift to (deg)": 68.8435459515913,
          "Photon energy (eV)": 14.3,
          "Polar ang (deg)": 17.5,
          "Polar ang fr (deg)": 15,
          "Polar ang to (deg)": 20
         },
         {
          "Dataset": "good2",
          "Dataset / KE (eV)": "good2 / 4.0",
          "Phase shift (deg)": 68.60144782072976,
          "Phase shift (rad)": 1.197321136106823,
          "Phase shift err (deg)": 5.365963175270742,
          "Phase shift err (rad)": 0.09365372494924401,
          "Phase shift fr (deg)": 63.23548464545902,
          "Phase shift to (deg)": 73.9674109960005,
          "Photon energy (eV)": 14.3,
          "Polar ang (deg)": 22.5,
          "Polar ang fr (deg)": 20,
          "Polar ang to (deg)": 25
         },
         {
          "Dataset": "good2",
          "Dataset / KE (eV)": "good2 / 4.0",
          "Phase shift (deg)": 78.39874596175741,
          "Phase shift (rad)": 1.3683162464672751,
          "Phase shift err (deg)": 5.6982293635065435,
          "Phase shift err (rad)": 0.09945286392701001,
          "Phase shift fr (deg)": 72.70051659825087,
          "Phase shift to (deg)": 84.09697532526395,
          "Photon energy (eV)": 14.3,
          "Polar ang (deg)": 27.5,
          "Polar ang fr (deg)": 25,
          "Polar ang to (deg)": 30
         },
         {
          "Dataset": "good2",
          "Dataset / KE (eV)": "good2 / 4.0",
          "Phase shift (deg)": 83.39021309803037,
          "Phase shift (rad)": 1.455433782500331,
          "Phase shift err (deg)": 6.113686567254399,
          "Phase shift err (rad)": 0.106703960033539,
          "Phase shift fr (deg)": 77.27652653077597,
          "Phase shift to (deg)": 89.50389966528478,
          "Photon energy (eV)": 14.3,
          "Polar ang (deg)": 32.5,
          "Polar ang fr (deg)": 30,
          "Polar ang to (deg)": 35
         },
         {
          "Dataset": "good2",
          "Dataset / KE (eV)": "good2 / 4.0",
          "Phase shift (deg)": 94.50585311409381,
          "Phase shift (rad)": 1.649438299247073,
          "Phase shift err (deg)": 5.913324174751144,
          "Phase shift err (rad)": 0.103206976587184,
          "Phase shift fr (deg)": 88.59252893934267,
          "Phase shift to (deg)": 100.41917728884495,
          "Photon energy (eV)": 14.3,
          "Polar ang (deg)": 37.5,
          "Polar ang fr (deg)": 35,
          "Polar ang to (deg)": 40
         },
         {
          "Dataset": "good2",
          "Dataset / KE (eV)": "good2 / 4.0",
          "Phase shift (deg)": 102.62188275679982,
          "Phase shift (rad)": 1.7910897387017521,
          "Phase shift err (deg)": 6.8038984874178245,
          "Phase shift err (rad)": 0.11875043057690302,
          "Phase shift fr (deg)": 95.817984269382,
          "Phase shift to (deg)": 109.42578124421765,
          "Photon energy (eV)": 14.3,
          "Polar ang (deg)": 42.5,
          "Polar ang fr (deg)": 40,
          "Polar ang to (deg)": 45
         },
         {
          "Dataset": "good2",
          "Dataset / KE (eV)": "good2 / 4.0",
          "Phase shift (deg)": 113.02052586160293,
          "Phase shift (rad)": 1.9725802986203722,
          "Phase shift err (deg)": 5.520476429913985,
          "Phase shift err (rad)": 0.09635048998074101,
          "Phase shift fr (deg)": 107.50004943168895,
          "Phase shift to (deg)": 118.54100229151692,
          "Photon energy (eV)": 14.3,
          "Polar ang (deg)": 47.5,
          "Polar ang fr (deg)": 45,
          "Polar ang to (deg)": 50
         },
         {
          "Dataset": "good2",
          "Dataset / KE (eV)": "good2 / 4.0",
          "Phase shift (deg)": 117.18068670829024,
          "Phase shift (rad)": 2.045188802807621,
          "Phase shift err (deg)": 7.098387460235412,
          "Phase shift err (rad)": 0.12389023276338601,
          "Phase shift fr (deg)": 110.08229924805482,
          "Phase shift to (deg)": 124.27907416852565,
          "Photon energy (eV)": 14.3,
          "Polar ang (deg)": 52.5,
          "Polar ang fr (deg)": 50,
          "Polar ang to (deg)": 55
         },
         {
          "Dataset": "good2",
          "Dataset / KE (eV)": "good2 / 4.0",
          "Phase shift (deg)": 127.5172000386999,
          "Phase shift (rad)": 2.225594993599554,
          "Phase shift err (deg)": 7.409813442735743,
          "Phase shift err (rad)": 0.129325641534275,
          "Phase shift fr (deg)": 120.10738659596416,
          "Phase shift to (deg)": 134.92701348143564,
          "Photon energy (eV)": 14.3,
          "Polar ang (deg)": 57.5,
          "Polar ang fr (deg)": 55,
          "Polar ang to (deg)": 60
         },
         {
          "Dataset": "good2",
          "Dataset / KE (eV)": "good2 / 4.0",
          "Phase shift (deg)": 131.85970189440573,
          "Phase shift (rad)": 2.301385948755584,
          "Phase shift err (deg)": 6.908581860412763,
          "Phase shift err (rad)": 0.12057750010775801,
          "Phase shift fr (deg)": 124.95112003399296,
          "Phase shift to (deg)": 138.7682837548185,
          "Photon energy (eV)": 14.3,
          "Polar ang (deg)": 62.5,
          "Polar ang fr (deg)": 60,
          "Polar ang to (deg)": 65
         },
         {
          "Dataset": "good2",
          "Dataset / KE (eV)": "good2 / 4.0",
          "Phase shift (deg)": 136.50010965783142,
          "Phase shift (rad)": 2.382376342862469,
          "Phase shift err (deg)": 9.260831441141063,
          "Phase shift err (rad)": 0.16163200012012302,
          "Phase shift fr (deg)": 127.23927821669035,
          "Phase shift to (deg)": 145.76094109897247,
          "Photon energy (eV)": 14.3,
          "Polar ang (deg)": 67.5,
          "Polar ang fr (deg)": 65,
          "Polar ang to (deg)": 70
         },
         {
          "Dataset": "good2",
          "Dataset / KE (eV)": "good2 / 4.0",
          "Phase shift (deg)": 135.81351661077952,
          "Phase shift (rad)": 2.370393033570113,
          "Phase shift err (deg)": 11.244339707285077,
          "Phase shift err (rad)": 0.19625075010486,
          "Phase shift fr (deg)": 124.56917690349444,
          "Phase shift to (deg)": 147.05785631806458,
          "Photon energy (eV)": 14.3,
          "Polar ang (deg)": 72.5,
          "Polar ang fr (deg)": 70,
          "Polar ang to (deg)": 75
         },
         {
          "Dataset": "good2",
          "Dataset / KE (eV)": "good2 / 4.0",
          "Phase shift (deg)": 140.22174284059594,
          "Phase shift (rad)": 2.447331095453185,
          "Phase shift err (deg)": 14.329776414798014,
          "Phase shift err (rad)": 0.250101779512854,
          "Phase shift fr (deg)": 125.89196642579792,
          "Phase shift to (deg)": 154.55151925539394,
          "Photon energy (eV)": 14.3,
          "Polar ang (deg)": 77.5,
          "Polar ang fr (deg)": 75,
          "Polar ang to (deg)": 80
         },
         {
          "Dataset": "good2",
          "Dataset / KE (eV)": "good2 / 4.0",
          "Phase shift (deg)": 146.167470887351,
          "Phase shift (rad)": 2.551103626297232,
          "Phase shift err (deg)": 30.388463738433646,
          "Phase shift err (rad)": 0.530378746858572,
          "Phase shift fr (deg)": 115.77900714891734,
          "Phase shift to (deg)": 176.55593462578463,
          "Photon energy (eV)": 14.3,
          "Polar ang (deg)": 82.5,
          "Polar ang fr (deg)": 80,
          "Polar ang to (deg)": 85
         },
         {
          "Dataset": "good2",
          "Dataset / KE (eV)": "good2 / 4.0",
          "Phase shift (deg)": 139.3005831570779,
          "Phase shift (rad)": 2.431253826039167,
          "Phase shift err (deg)": 58.61444185800868,
          "Phase shift err (rad)": 1.023014999641034,
          "Phase shift fr (deg)": 80.68614129906922,
          "Phase shift to (deg)": 197.9150250150866,
          "Photon energy (eV)": 14.3,
          "Polar ang (deg)": 87.5,
          "Polar ang fr (deg)": 85,
          "Polar ang to (deg)": 90
         },
         {
          "Dataset": "good2",
          "Dataset / KE (eV)": "good2 / 4.0",
          "Phase shift (deg)": 319.30057942206724,
          "Phase shift (rad)": 5.572846414440726,
          "Phase shift err (deg)": 58.61444503789635,
          "Phase shift err (rad)": 1.023015055140544,
          "Phase shift fr (deg)": 260.6861343841709,
          "Phase shift to (deg)": 377.9150244599636,
          "Photon energy (eV)": 14.3,
          "Polar ang (deg)": 92.5,
          "Polar ang fr (deg)": 90,
          "Polar ang to (deg)": 95
         },
         {
          "Dataset": "good2",
          "Dataset / KE (eV)": "good2 / 4.0",
          "Phase shift (deg)": 326.16747430207937,
          "Phase shift (rad)": 5.692696339485279,
          "Phase shift err (deg)": 30.388464064059598,
          "Phase shift err (rad)": 0.530378752541817,
          "Phase shift fr (deg)": 295.7790102380198,
          "Phase shift to (deg)": 356.55593836613895,
          "Photon energy (eV)": 14.3,
          "Polar ang (deg)": 97.5,
          "Polar ang fr (deg)": 95,
          "Polar ang to (deg)": 100
         },
         {
          "Dataset": "good2",
          "Dataset / KE (eV)": "good2 / 4.0",
          "Phase shift (deg)": 320.2217428579505,
          "Phase shift (rad)": 5.588923749345874,
          "Phase shift err (deg)": 14.32977635962023,
          "Phase shift err (rad)": 0.25010177854982,
          "Phase shift fr (deg)": 305.8919664983303,
          "Phase shift to (deg)": 334.5515192175707,
          "Photon energy (eV)": 14.3,
          "Polar ang (deg)": 102.5,
          "Polar ang fr (deg)": 100,
          "Polar ang to (deg)": 105
         },
         {
          "Dataset": "good2",
          "Dataset / KE (eV)": "good2 / 4.0",
          "Phase shift (deg)": 315.8135155817529,
          "Phase shift (rad)": 5.511985669200003,
          "Phase shift err (deg)": 11.244339814730878,
          "Phase shift err (rad)": 0.19625075198014302,
          "Phase shift fr (deg)": 304.569175767022,
          "Phase shift to (deg)": 327.0578553964838,
          "Photon energy (eV)": 14.3,
          "Polar ang (deg)": 107.5,
          "Polar ang fr (deg)": 105,
          "Polar ang to (deg)": 110
         },
         {
          "Dataset": "good2",
          "Dataset / KE (eV)": "good2 / 4.0",
          "Phase shift (deg)": 316.50010959852807,
          "Phase shift (rad)": 5.523968995417223,
          "Phase shift err (deg)": 9.260830989764225,
          "Phase shift err (rad)": 0.161631992242111,
          "Phase shift fr (deg)": 307.23927860876387,
          "Phase shift to (deg)": 325.76094058829227,
          "Photon energy (eV)": 14.3,
          "Polar ang (deg)": 112.5,
          "Polar ang fr (deg)": 110,
          "Polar ang to (deg)": 115
         },
         {
          "Dataset": "good2",
          "Dataset / KE (eV)": "good2 / 4.0",
          "Phase shift (deg)": 311.85970165573366,
          "Phase shift (rad)": 5.442978598179764,
          "Phase shift err (deg)": 6.908581953608188,
          "Phase shift err (rad)": 0.12057750173432501,
          "Phase shift fr (deg)": 304.9511197021255,
          "Phase shift to (deg)": 318.76828360934184,
          "Photon energy (eV)": 14.3,
          "Polar ang (deg)": 117.5,
          "Polar ang fr (deg)": 115,
          "Polar ang to (deg)": 120
         },
         {
          "Dataset": "good2",
          "Dataset / KE (eV)": "good2 / 4.0",
          "Phase shift (deg)": 307.5171994828461,
          "Phase shift (rad)": 5.367187637487867,
          "Phase shift err (deg)": 7.409813293346108,
          "Phase shift err (rad)": 0.12932563892693402,
          "Phase shift fr (deg)": 300.10738618949995,
          "Phase shift to (deg)": 314.9270127761922,
          "Photon energy (eV)": 14.3,
          "Polar ang (deg)": 122.5,
          "Polar ang fr (deg)": 120,
          "Polar ang to (deg)": 125
         },
         {
          "Dataset": "good2",
          "Dataset / KE (eV)": "good2 / 4.0",
          "Phase shift (deg)": 297.18068624844034,
          "Phase shift (rad)": 5.186781448371519,
          "Phase shift err (deg)": 7.098387445600064,
          "Phase shift err (rad)": 0.123890232507951,
          "Phase shift fr (deg)": 290.0822988028403,
          "Phase shift to (deg)": 304.2790736940404,
          "Photon energy (eV)": 14.3,
          "Polar ang (deg)": 127.5,
          "Polar ang fr (deg)": 125,
          "Polar ang to (deg)": 130
         },
         {
          "Dataset": "good2",
          "Dataset / KE (eV)": "good2 / 4.0",
          "Phase shift (deg)": 293.020525746807,
          "Phase shift (rad)": 5.114172950206598,
          "Phase shift err (deg)": 5.520476415676384,
          "Phase shift err (rad)": 0.09635048973224801,
          "Phase shift fr (deg)": 287.5000493311306,
          "Phase shift to (deg)": 298.5410021624834,
          "Photon energy (eV)": 14.3,
          "Polar ang (deg)": 132.5,
          "Polar ang fr (deg)": 130,
          "Polar ang to (deg)": 135
         },
         {
          "Dataset": "good2",
          "Dataset / KE (eV)": "good2 / 4.0",
          "Phase shift (deg)": 282.6218826364155,
          "Phase shift (rad)": 4.9326823901904415,
          "Phase shift err (deg)": 6.803898490330282,
          "Phase shift err (rad)": 0.118750430627735,
          "Phase shift fr (deg)": 275.8179841460852,
          "Phase shift to (deg)": 289.42578112674573,
          "Photon energy (eV)": 14.3,
          "Polar ang (deg)": 137.5,
          "Polar ang fr (deg)": 135,
          "Polar ang to (deg)": 140
         },
         {
          "Dataset": "good2",
          "Dataset / KE (eV)": "good2 / 4.0",
          "Phase shift (deg)": 274.505853204792,
          "Phase shift (rad)": 4.791030954419848,
          "Phase shift err (deg)": 5.913324236895236,
          "Phase shift err (rad)": 0.10320697767180301,
          "Phase shift fr (deg)": 268.5925289678968,
          "Phase shift to (deg)": 280.4191774416872,
          "Photon energy (eV)": 14.3,
          "Polar ang (deg)": 142.5,
          "Polar ang fr (deg)": 140,
          "Polar ang to (deg)": 145
         },
         {
          "Dataset": "good2",
          "Dataset / KE (eV)": "good2 / 4.0",
          "Phase shift (deg)": 263.3902131945536,
          "Phase shift (rad)": 4.5970264377747725,
          "Phase shift err (deg)": 6.11368654692219,
          "Phase shift err (rad)": 0.106703959678675,
          "Phase shift fr (deg)": 257.27652664763144,
          "Phase shift to (deg)": 269.5038997414758,
          "Photon energy (eV)": 14.3,
          "Polar ang (deg)": 147.5,
          "Polar ang fr (deg)": 145,
          "Polar ang to (deg)": 150
         },
         {
          "Dataset": "good2",
          "Dataset / KE (eV)": "good2 / 4.0",
          "Phase shift (deg)": 258.39874610825996,
          "Phase shift (rad)": 4.50990890261402,
          "Phase shift err (deg)": 5.698229297643326,
          "Phase shift err (rad)": 0.09945286277748001,
          "Phase shift fr (deg)": 252.70051681061662,
          "Phase shift to (deg)": 264.09697540590327,
          "Photon energy (eV)": 14.3,
          "Polar ang (deg)": 152.5,
          "Polar ang fr (deg)": 150,
          "Polar ang to (deg)": 155
         },
         {
          "Dataset": "good2",
          "Dataset / KE (eV)": "good2 / 4.0",
          "Phase shift (deg)": 248.60144778975106,
          "Phase shift (rad)": 4.338913789155936,
          "Phase shift err (deg)": 5.365963152258866,
          "Phase shift err (rad)": 0.093653724547611,
          "Phase shift fr (deg)": 243.2354846374922,
          "Phase shift to (deg)": 253.96741094200993,
          "Photon energy (eV)": 14.3,
          "Polar ang (deg)": 157.5,
          "Polar ang fr (deg)": 155,
          "Polar ang to (deg)": 160
         },
         {
          "Dataset": "good2",
          "Dataset / KE (eV)": "good2 / 4.0",
          "Phase shift (deg)": 244.10582080185395,
          "Phase shift (rad)": 4.260450296275616,
          "Phase shift err (deg)": 4.73772502895022,
          "Phase shift err (rad)": 0.082688900809325,
          "Phase shift fr (deg)": 239.36809577290373,
          "Phase shift to (deg)": 248.84354583080417,
          "Photon energy (eV)": 14.3,
          "Polar ang (deg)": 162.5,
          "Polar ang fr (deg)": 160,
          "Polar ang to (deg)": 165
         },
         {
          "Dataset": "good2",
          "Dataset / KE (eV)": "good2 / 4.0",
          "Phase shift (deg)": 240.187671167832,
          "Phase shift (rad)": 4.192065684576122,
          "Phase shift err (deg)": 4.336457578597548,
          "Phase shift err (rad)": 0.075685462619588,
          "Phase shift fr (deg)": 235.85121358923445,
          "Phase shift to (deg)": 244.52412874642957,
          "Photon energy (eV)": 14.3,
          "Polar ang (deg)": 167.5,
          "Polar ang fr (deg)": 165,
          "Polar ang to (deg)": 170
         },
         {
          "Dataset": "good2",
          "Dataset / KE (eV)": "good2 / 4.0",
          "Phase shift (deg)": 238.1812102464508,
          "Phase shift (rad)": 4.157046335185421,
          "Phase shift err (deg)": 4.512967218194995,
          "Phase shift err (rad)": 0.07876613699207201,
          "Phase shift fr (deg)": 233.6682430282558,
          "Phase shift to (deg)": 242.6941774646458,
          "Photon energy (eV)": 14.3,
          "Polar ang (deg)": 172.5,
          "Polar ang fr (deg)": 170,
          "Polar ang to (deg)": 175
         },
         {
          "Dataset": "good2",
          "Dataset / KE (eV)": "good2 / 4.0",
          "Phase shift (deg)": 235.85723161292555,
          "Phase shift (rad)": 4.116485256284407,
          "Phase shift err (deg)": 6.6546727514849655,
          "Phase shift err (rad)": 0.11614595015616301,
          "Phase shift fr (deg)": 229.2025588614406,
          "Phase shift to (deg)": 242.5119043644105,
          "Photon energy (eV)": 14.3,
          "Polar ang (deg)": 177.5,
          "Polar ang fr (deg)": 175,
          "Polar ang to (deg)": 180
         },
         {
          "Dataset": "good4",
          "Dataset / KE (eV)": "good4 / 7.2",
          "Phase shift (deg)": 60.17837946676748,
          "Phase shift (rad)": 1.050310860209642,
          "Phase shift err (deg)": 4.966652979461645,
          "Phase shift err (rad)": 0.08668444729559201,
          "Phase shift fr (deg)": 55.21172648730584,
          "Phase shift to (deg)": 65.14503244622912,
          "Photon energy (eV)": 15.9,
          "Polar ang (deg)": 2.5,
          "Polar ang fr (deg)": 0,
          "Polar ang to (deg)": 5
         },
         {
          "Dataset": "good4",
          "Dataset / KE (eV)": "good4 / 7.2",
          "Phase shift (deg)": 59.63317437669838,
          "Phase shift (rad)": 1.040795236289304,
          "Phase shift err (deg)": 5.317751025224068,
          "Phase shift err (rad)": 0.092812264191464,
          "Phase shift fr (deg)": 54.31542335147431,
          "Phase shift to (deg)": 64.95092540192245,
          "Photon energy (eV)": 15.9,
          "Polar ang (deg)": 7.5,
          "Polar ang fr (deg)": 5,
          "Polar ang to (deg)": 10
         },
         {
          "Dataset": "good4",
          "Dataset / KE (eV)": "good4 / 7.2",
          "Phase shift (deg)": 61.43675356401543,
          "Phase shift (rad)": 1.07227363142843,
          "Phase shift err (deg)": 5.59977449644851,
          "Phase shift err (rad)": 0.097734502332234,
          "Phase shift fr (deg)": 55.83697906756692,
          "Phase shift to (deg)": 67.03652806046394,
          "Photon energy (eV)": 15.9,
          "Polar ang (deg)": 12.5,
          "Polar ang fr (deg)": 10,
          "Polar ang to (deg)": 15
         },
         {
          "Dataset": "good4",
          "Dataset / KE (eV)": "good4 / 7.2",
          "Phase shift (deg)": 62.56796360573655,
          "Phase shift (rad)": 1.092016971188086,
          "Phase shift err (deg)": 5.644899011260261,
          "Phase shift err (rad)": 0.098522073689064,
          "Phase shift fr (deg)": 56.92306459447629,
          "Phase shift to (deg)": 68.21286261699682,
          "Photon energy (eV)": 15.9,
          "Polar ang (deg)": 17.5,
          "Polar ang fr (deg)": 15,
          "Polar ang to (deg)": 20
         },
         {
          "Dataset": "good4",
          "Dataset / KE (eV)": "good4 / 7.2",
          "Phase shift (deg)": 64.40457912134531,
          "Phase shift (rad)": 1.124071959028672,
          "Phase shift err (deg)": 6.031103650749732,
          "Phase shift err (rad)": 0.10526261623463301,
          "Phase shift fr (deg)": 58.37347547059557,
          "Phase shift to (deg)": 70.43568277209503,
          "Photon energy (eV)": 15.9,
          "Polar ang (deg)": 22.5,
          "Polar ang fr (deg)": 20,
          "Polar ang to (deg)": 25
         },
         {
          "Dataset": "good4",
          "Dataset / KE (eV)": "good4 / 7.2",
          "Phase shift (deg)": 67.39694011772036,
          "Phase shift (rad)": 1.176298510823675,
          "Phase shift err (deg)": 6.901753414134628,
          "Phase shift err (rad)": 0.12045832123740902,
          "Phase shift fr (deg)": 60.49518670358573,
          "Phase shift to (deg)": 74.298693531855,
          "Photon energy (eV)": 15.9,
          "Polar ang (deg)": 27.5,
          "Polar ang fr (deg)": 25,
          "Polar ang to (deg)": 30
         },
         {
          "Dataset": "good4",
          "Dataset / KE (eV)": "good4 / 7.2",
          "Phase shift (deg)": 72.82405345832446,
          "Phase shift (rad)": 1.271019507496125,
          "Phase shift err (deg)": 7.85597471385757,
          "Phase shift err (rad)": 0.137112624710234,
          "Phase shift fr (deg)": 64.96807874446688,
          "Phase shift to (deg)": 80.68002817218203,
          "Photon energy (eV)": 15.9,
          "Polar ang (deg)": 32.5,
          "Polar ang fr (deg)": 30,
          "Polar ang to (deg)": 35
         },
         {
          "Dataset": "good4",
          "Dataset / KE (eV)": "good4 / 7.2",
          "Phase shift (deg)": 79.56501823438398,
          "Phase shift (rad)": 1.388671537599326,
          "Phase shift err (deg)": 9.98195414322054,
          "Phase shift err (rad)": 0.17421796558228803,
          "Phase shift fr (deg)": 69.58306409116345,
          "Phase shift to (deg)": 89.54697237760452,
          "Photon energy (eV)": 15.9,
          "Polar ang (deg)": 37.5,
          "Polar ang fr (deg)": 35,
          "Polar ang to (deg)": 40
         },
         {
          "Dataset": "good4",
          "Dataset / KE (eV)": "good4 / 7.2",
          "Phase shift (deg)": 93.17873649296794,
          "Phase shift (rad)": 1.626275744650485,
          "Phase shift err (deg)": 12.533682512461882,
          "Phase shift err (rad)": 0.21875402724209503,
          "Phase shift fr (deg)": 80.64505398050606,
          "Phase shift to (deg)": 105.71241900542982,
          "Photon energy (eV)": 15.9,
          "Polar ang (deg)": 42.5,
          "Polar ang fr (deg)": 40,
          "Polar ang to (deg)": 45
         },
         {
          "Dataset": "good4",
          "Dataset / KE (eV)": "good4 / 7.2",
          "Phase shift (deg)": 113.213424873827,
          "Phase shift (rad)": 1.975947021507527,
          "Phase shift err (deg)": 16.33898678543981,
          "Phase shift err (rad)": 0.28516911584576904,
          "Phase shift fr (deg)": 96.87443808838718,
          "Phase shift to (deg)": 129.5524116592668,
          "Photon energy (eV)": 15.9,
          "Polar ang (deg)": 47.5,
          "Polar ang fr (deg)": 45,
          "Polar ang to (deg)": 50
         },
         {
          "Dataset": "good4",
          "Dataset / KE (eV)": "good4 / 7.2",
          "Phase shift (deg)": 140.3441858053982,
          "Phase shift (rad)": 2.449468128334889,
          "Phase shift err (deg)": 17.941584921942592,
          "Phase shift err (rad)": 0.313139729914068,
          "Phase shift fr (deg)": 122.40260088345562,
          "Phase shift to (deg)": 158.2857707273408,
          "Photon energy (eV)": 15.9,
          "Polar ang (deg)": 52.5,
          "Polar ang fr (deg)": 50,
          "Polar ang to (deg)": 55
         },
         {
          "Dataset": "good4",
          "Dataset / KE (eV)": "good4 / 7.2",
          "Phase shift (deg)": 168.00222048056023,
          "Phase shift (rad)": 2.932191898047226,
          "Phase shift err (deg)": 16.789372867531533,
          "Phase shift err (rad)": 0.293029835883427,
          "Phase shift fr (deg)": 151.21284761302869,
          "Phase shift to (deg)": 184.79159334809177,
          "Photon energy (eV)": 15.9,
          "Polar ang (deg)": 57.5,
          "Polar ang fr (deg)": 55,
          "Polar ang to (deg)": 60
         },
         {
          "Dataset": "good4",
          "Dataset / KE (eV)": "good4 / 7.2",
          "Phase shift (deg)": 184.45360759060114,
          "Phase shift (rad)": 3.219322769637595,
          "Phase shift err (deg)": 15.531119501996503,
          "Phase shift err (rad)": 0.271069171830541,
          "Phase shift fr (deg)": 168.92248808860464,
          "Phase shift to (deg)": 199.98472709259764,
          "Photon energy (eV)": 15.9,
          "Polar ang (deg)": 62.5,
          "Polar ang fr (deg)": 60,
          "Polar ang to (deg)": 65
         },
         {
          "Dataset": "good4",
          "Dataset / KE (eV)": "good4 / 7.2",
          "Phase shift (deg)": 194.7440407208732,
          "Phase shift (rad)": 3.398924709217148,
          "Phase shift err (deg)": 14.163462736466654,
          "Phase shift err (rad)": 0.247199058234869,
          "Phase shift fr (deg)": 180.58057798440655,
          "Phase shift to (deg)": 208.90750345733983,
          "Photon energy (eV)": 15.9,
          "Polar ang (deg)": 67.5,
          "Polar ang fr (deg)": 65,
          "Polar ang to (deg)": 70
         },
         {
          "Dataset": "good4",
          "Dataset / KE (eV)": "good4 / 7.2",
          "Phase shift (deg)": 199.84904554101382,
          "Phase shift (rad)": 3.488023851658783,
          "Phase shift err (deg)": 15.117375953944148,
          "Phase shift err (rad)": 0.263847984658144,
          "Phase shift fr (deg)": 184.7316695870697,
          "Phase shift to (deg)": 214.96642149495796,
          "Photon energy (eV)": 15.9,
          "Polar ang (deg)": 72.5,
          "Polar ang fr (deg)": 70,
          "Polar ang to (deg)": 75
         },
         {
          "Dataset": "good4",
          "Dataset / KE (eV)": "good4 / 7.2",
          "Phase shift (deg)": 202.16456036072182,
          "Phase shift (rad)": 3.528437209141411,
          "Phase shift err (deg)": 17.069540294836983,
          "Phase shift err (rad)": 0.297919679946749,
          "Phase shift fr (deg)": 185.09502006588485,
          "Phase shift to (deg)": 219.2341006555588,
          "Photon energy (eV)": 15.9,
          "Polar ang (deg)": 77.5,
          "Polar ang fr (deg)": 75,
          "Polar ang to (deg)": 80
         },
         {
          "Dataset": "good4",
          "Dataset / KE (eV)": "good4 / 7.2",
          "Phase shift (deg)": 208.939977191826,
          "Phase shift (rad)": 3.646690541039219,
          "Phase shift err (deg)": 25.251024836128966,
          "Phase shift err (rad)": 0.44071352289331206,
          "Phase shift fr (deg)": 183.688952355697,
          "Phase shift to (deg)": 234.19100202795497,
          "Photon energy (eV)": 15.9,
          "Polar ang (deg)": 82.5,
          "Polar ang fr (deg)": 80,
          "Polar ang to (deg)": 85
         },
         {
          "Dataset": "good4",
          "Dataset / KE (eV)": "good4 / 7.2",
          "Phase shift (deg)": 204.65445299687494,
          "Phase shift (rad)": 3.571894033663444,
          "Phase shift err (deg)": 71.57628756761825,
          "Phase shift err (rad)": 1.249241884409222,
          "Phase shift fr (deg)": 133.07816542925667,
          "Phase shift to (deg)": 276.2307405644932,
          "Photon energy (eV)": 15.9,
          "Polar ang (deg)": 87.5,
          "Polar ang fr (deg)": 85,
          "Polar ang to (deg)": 90
         },
         {
          "Dataset": "good4",
          "Dataset / KE (eV)": "good4 / 7.2",
          "Phase shift (deg)": 384.6544627869743,
          "Phase shift (rad)": 6.713486858122705,
          "Phase shift err (deg)": 71.57629260336026,
          "Phase shift err (rad)": 1.2492419722995,
          "Phase shift fr (deg)": 313.078170183614,
          "Phase shift to (deg)": 456.2307553903346,
          "Photon energy (eV)": 15.9,
          "Polar ang (deg)": 92.5,
          "Polar ang fr (deg)": 90,
          "Polar ang to (deg)": 95
         },
         {
          "Dataset": "good4",
          "Dataset / KE (eV)": "good4 / 7.2",
          "Phase shift (deg)": 388.9399781964985,
          "Phase shift (rad)": 6.788283212163855,
          "Phase shift err (deg)": 25.25102387508056,
          "Phase shift err (rad)": 0.44071350611985305,
          "Phase shift fr (deg)": 363.68895432141795,
          "Phase shift to (deg)": 414.191002071579,
          "Photon energy (eV)": 15.9,
          "Polar ang (deg)": 97.5,
          "Polar ang fr (deg)": 95,
          "Polar ang to (deg)": 100
         },
         {
          "Dataset": "good4",
          "Dataset / KE (eV)": "good4 / 7.2",
          "Phase shift (deg)": 382.1645607287299,
          "Phase shift (rad)": 6.670029869154157,
          "Phase shift err (deg)": 17.069540677484557,
          "Phase shift err (rad)": 0.297919686625209,
          "Phase shift fr (deg)": 365.09502005124534,
          "Phase shift to (deg)": 399.23410140621445,
          "Photon energy (eV)": 15.9,
          "Polar ang (deg)": 102.5,
          "Polar ang fr (deg)": 100,
          "Polar ang to (deg)": 105
         },
         {
          "Dataset": "good4",
          "Dataset / KE (eV)": "good4 / 7.2",
          "Phase shift (deg)": 379.78918236592557,
          "Phase shift (rad)": 6.628571695742589,
          "Phase shift err (deg)": 37.849305692852866,
          "Phase shift err (rad)": 0.6605950039341161,
          "Phase shift fr (deg)": 341.9398766730727,
          "Phase shift to (deg)": 417.6384880587784,
          "Photon energy (eV)": 15.9,
          "Polar ang (deg)": 107.5,
          "Polar ang fr (deg)": 105,
          "Polar ang to (deg)": 110
         },
         {
          "Dataset": "good4",
          "Dataset / KE (eV)": "good4 / 7.2",
          "Phase shift (deg)": 374.74404063424623,
          "Phase shift (rad)": 6.5405173612950165,
          "Phase shift err (deg)": 14.163463202689686,
          "Phase shift err (rad)": 0.247199066371996,
          "Phase shift fr (deg)": 360.58057743155655,
          "Phase shift to (deg)": 388.9075038369359,
          "Photon energy (eV)": 15.9,
          "Polar ang (deg)": 112.5,
          "Polar ang fr (deg)": 110,
          "Polar ang to (deg)": 115
         },
         {
          "Dataset": "good4",
          "Dataset / KE (eV)": "good4 / 7.2",
          "Phase shift (deg)": 364.45360759565676,
          "Phase shift (rad)": 6.360915423315625,
          "Phase shift err (deg)": 15.531119241309701,
          "Phase shift err (rad)": 0.271069167280698,
          "Phase shift fr (deg)": 348.9224883543471,
          "Phase shift to (deg)": 379.98472683696644,
          "Photon energy (eV)": 15.9,
          "Polar ang (deg)": 117.5,
          "Polar ang fr (deg)": 115,
          "Polar ang to (deg)": 120
         },
         {
          "Dataset": "good4",
          "Dataset / KE (eV)": "good4 / 7.2",
          "Phase shift (deg)": 348.00222050015935,
          "Phase shift (rad)": 6.073784551979088,
          "Phase shift err (deg)": 16.78937282072747,
          "Phase shift err (rad)": 0.293029835066542,
          "Phase shift fr (deg)": 331.2128476794319,
          "Phase shift to (deg)": 364.7915933208868,
          "Photon energy (eV)": 15.9,
          "Polar ang (deg)": 122.5,
          "Polar ang fr (deg)": 120,
          "Polar ang to (deg)": 125
         },
         {
          "Dataset": "good4",
          "Dataset / KE (eV)": "good4 / 7.2",
          "Phase shift (deg)": 320.3441849303958,
          "Phase shift (rad)": 5.591060766653008,
          "Phase shift err (deg)": 17.941584234764626,
          "Phase shift err (rad)": 0.31313971792055,
          "Phase shift fr (deg)": 302.4026006956312,
          "Phase shift to (deg)": 338.2857691651604,
          "Photon energy (eV)": 15.9,
          "Polar ang (deg)": 127.5,
          "Polar ang fr (deg)": 125,
          "Polar ang to (deg)": 130
         },
         {
          "Dataset": "good4",
          "Dataset / KE (eV)": "good4 / 7.2",
          "Phase shift (deg)": 293.21342542825437,
          "Phase shift (rad)": 5.117539684773902,
          "Phase shift err (deg)": 16.3389866864413,
          "Phase shift err (rad)": 0.285169114117919,
          "Phase shift fr (deg)": 276.8744387418131,
          "Phase shift to (deg)": 309.55241211469564,
          "Photon energy (eV)": 15.9,
          "Polar ang (deg)": 132.5,
          "Polar ang fr (deg)": 130,
          "Polar ang to (deg)": 135
         },
         {
          "Dataset": "good4",
          "Dataset / KE (eV)": "good4 / 7.2",
          "Phase shift (deg)": 273.17873664619356,
          "Phase shift (rad)": 4.767868400914569,
          "Phase shift err (deg)": 12.533682514564177,
          "Phase shift err (rad)": 0.218754027278787,
          "Phase shift fr (deg)": 260.64505413162937,
          "Phase shift to (deg)": 285.71241916075775,
          "Photon energy (eV)": 15.9,
          "Polar ang (deg)": 137.5,
          "Polar ang fr (deg)": 135,
          "Polar ang to (deg)": 140
         },
         {
          "Dataset": "good4",
          "Dataset / KE (eV)": "good4 / 7.2",
          "Phase shift (deg)": 259.5650183731883,
          "Phase shift (rad)": 4.530264193611711,
          "Phase shift err (deg)": 9.981954106394193,
          "Phase shift err (rad)": 0.17421796493954703,
          "Phase shift fr (deg)": 249.5830642667941,
          "Phase shift to (deg)": 269.5469724795825,
          "Photon energy (eV)": 15.9,
          "Polar ang (deg)": 142.5,
          "Polar ang fr (deg)": 140,
          "Polar ang to (deg)": 145
         },
         {
          "Dataset": "good4",
          "Dataset / KE (eV)": "good4 / 7.2",
          "Phase shift (deg)": 252.8240532497317,
          "Phase shift (rad)": 4.412612157445287,
          "Phase shift err (deg)": 7.855974696288851,
          "Phase shift err (rad)": 0.137112624403602,
          "Phase shift fr (deg)": 244.96807855344284,
          "Phase shift to (deg)": 260.6800279460205,
          "Photon energy (eV)": 15.9,
          "Polar ang (deg)": 147.5,
          "Polar ang fr (deg)": 145,
          "Polar ang to (deg)": 150
         },
         {
          "Dataset": "good4",
          "Dataset / KE (eV)": "good4 / 7.2",
          "Phase shift (deg)": 247.39693997080212,
          "Phase shift (rad)": 4.317891161849261,
          "Phase shift err (deg)": 6.901753445078189,
          "Phase shift err (rad)": 0.12045832177747601,
          "Phase shift fr (deg)": 240.49518652572394,
          "Phase shift to (deg)": 254.2986934158803,
          "Photon energy (eV)": 15.9,
          "Polar ang (deg)": 152.5,
          "Polar ang fr (deg)": 150,
          "Polar ang to (deg)": 155
         },
         {
          "Dataset": "good4",
          "Dataset / KE (eV)": "good4 / 7.2",
          "Phase shift (deg)": 244.4045787004416,
          "Phase shift (rad)": 4.26566460527231,
          "Phase shift err (deg)": 6.031103815896166,
          "Phase shift err (rad)": 0.10526261911698201,
          "Phase shift fr (deg)": 238.37347488454543,
          "Phase shift to (deg)": 250.43568251633775,
          "Photon energy (eV)": 15.9,
          "Polar ang (deg)": 157.5,
          "Polar ang fr (deg)": 155,
          "Polar ang to (deg)": 160
         },
         {
          "Dataset": "good4",
          "Dataset / KE (eV)": "good4 / 7.2",
          "Phase shift (deg)": 242.56796347385068,
          "Phase shift (rad)": 4.2336096224760364,
          "Phase shift err (deg)": 5.644899060388068,
          "Phase shift err (rad)": 0.09852207454650601,
          "Phase shift fr (deg)": 236.9230644134626,
          "Phase shift to (deg)": 248.21286253423875,
          "Photon energy (eV)": 15.9,
          "Polar ang (deg)": 162.5,
          "Polar ang fr (deg)": 160,
          "Polar ang to (deg)": 165
         },
         {
          "Dataset": "good4",
          "Dataset / KE (eV)": "good4 / 7.2",
          "Phase shift (deg)": 241.43675321830676,
          "Phase shift (rad)": 4.213866278984469,
          "Phase shift err (deg)": 5.599774481958293,
          "Phase shift err (rad)": 0.09773450207933201,
          "Phase shift fr (deg)": 235.83697873634847,
          "Phase shift to (deg)": 247.03652770026505,
          "Photon energy (eV)": 15.9,
          "Polar ang (deg)": 167.5,
          "Polar ang fr (deg)": 165,
          "Polar ang to (deg)": 170
         },
         {
          "Dataset": "good4",
          "Dataset / KE (eV)": "good4 / 7.2",
          "Phase shift (deg)": 239.63317447283615,
          "Phase shift (rad)": 4.182387891557018,
          "Phase shift err (deg)": 5.3177510000460675,
          "Phase shift err (rad)": 0.092812263752025,
          "Phase shift fr (deg)": 234.3154234727901,
          "Phase shift to (deg)": 244.9509254728822,
          "Photon energy (eV)": 15.9,
          "Polar ang (deg)": 172.5,
          "Polar ang fr (deg)": 170,
          "Polar ang to (deg)": 175
         },
         {
          "Dataset": "good4",
          "Dataset / KE (eV)": "good4 / 7.2",
          "Phase shift (deg)": 240.1783795548587,
          "Phase shift (rad)": 4.191903515336917,
          "Phase shift err (deg)": 4.966652961563533,
          "Phase shift err (rad)": 0.08668444698321101,
          "Phase shift fr (deg)": 235.21172659329517,
          "Phase shift to (deg)": 245.14503251642225,
          "Photon energy (eV)": 15.9,
          "Polar ang (deg)": 177.5,
          "Polar ang fr (deg)": 175,
          "Polar ang to (deg)": 180
         }
        ],
        "data-206dc880b85100c0b20506cd01c91fe3": [
         {
          "Dataset / KE (eV)": "good1 / 7.2",
          "Phase shift (deg)": 61.70028595631958,
          "Phase shift (rad)": 1.076873139359795,
          "Photon energy (eV)": 15.9,
          "Polar ang (deg)": 0,
          "Target dataset": "good1"
         },
         {
          "Dataset / KE (eV)": "good1 / 7.2",
          "Phase shift (deg)": 61.70690242629653,
          "Phase shift (rad)": 1.076988618545752,
          "Photon energy (eV)": 15.9,
          "Polar ang (deg)": 1,
          "Target dataset": "good1"
         },
         {
          "Dataset / KE (eV)": "good1 / 7.2",
          "Phase shift (deg)": 61.726781803684005,
          "Phase shift (rad)": 1.07733557913441,
          "Photon energy (eV)": 15.9,
          "Polar ang (deg)": 2,
          "Target dataset": "good1"
         },
         {
          "Dataset / KE (eV)": "good1 / 7.2",
          "Phase shift (deg)": 61.76001430501711,
          "Phase shift (rad)": 1.077915595701346,
          "Photon energy (eV)": 15.9,
          "Polar ang (deg)": 3,
          "Target dataset": "good1"
         },
         {
          "Dataset / KE (eV)": "good1 / 7.2",
          "Phase shift (deg)": 61.806751346045495,
          "Phase shift (rad)": 1.078731310949931,
          "Photon energy (eV)": 15.9,
          "Polar ang (deg)": 4,
          "Target dataset": "good1"
         },
         {
          "Dataset / KE (eV)": "good1 / 7.2",
          "Phase shift (deg)": 61.86720714430466,
          "Phase shift (rad)": 1.079786463681475,
          "Photon energy (eV)": 15.9,
          "Polar ang (deg)": 5,
          "Target dataset": "good1"
         },
         {
          "Dataset / KE (eV)": "good1 / 7.2",
          "Phase shift (deg)": 61.941661004857124,
          "Phase shift (rad)": 1.081085928688936,
          "Photon energy (eV)": 15.9,
          "Polar ang (deg)": 6,
          "Target dataset": "good1"
         },
         {
          "Dataset / KE (eV)": "good1 / 7.2",
          "Phase shift (deg)": 62.03046033303535,
          "Phase shift (rad)": 1.082635769339205,
          "Photon energy (eV)": 15.9,
          "Polar ang (deg)": 7,
          "Target dataset": "good1"
         },
         {
          "Dataset / KE (eV)": "good1 / 7.2",
          "Phase shift (deg)": 62.13402443125821,
          "Phase shift (rad)": 1.084443303840053,
          "Photon energy (eV)": 15.9,
          "Polar ang (deg)": 8,
          "Target dataset": "good1"
         },
         {
          "Dataset / KE (eV)": "good1 / 7.2",
          "Phase shift (deg)": 62.25284915539604,
          "Phase shift (rad)": 1.086517186509032,
          "Photon energy (eV)": 15.9,
          "Polar ang (deg)": 9,
          "Target dataset": "good1"
         },
         {
          "Dataset / KE (eV)": "good1 / 7.2",
          "Phase shift (deg)": 62.38751252265551,
          "Phase shift (rad)": 1.088867505649532,
          "Photon energy (eV)": 15.9,
          "Polar ang (deg)": 10,
          "Target dataset": "good1"
         },
         {
          "Dataset / KE (eV)": "good1 / 7.2",
          "Phase shift (deg)": 62.53868138540419,
          "Phase shift (rad)": 1.091505900030992,
          "Photon energy (eV)": 15.9,
          "Polar ang (deg)": 11,
          "Target dataset": "good1"
         },
         {
          "Dataset / KE (eV)": "good1 / 7.2",
          "Phase shift (deg)": 62.70711931021516,
          "Phase shift (rad)": 1.09444569640417,
          "Photon energy (eV)": 15.9,
          "Polar ang (deg)": 12,
          "Target dataset": "good1"
         },
         {
          "Dataset / KE (eV)": "good1 / 7.2",
          "Phase shift (deg)": 62.89369582968585,
          "Phase shift (rad)": 1.097702070975845,
          "Photon energy (eV)": 15.9,
          "Polar ang (deg)": 13,
          "Target dataset": "good1"
         },
         {
          "Dataset / KE (eV)": "good1 / 7.2",
          "Phase shift (deg)": 63.09939727058783,
          "Phase shift (rad)": 1.101292238395681,
          "Photon energy (eV)": 15.9,
          "Polar ang (deg)": 14,
          "Target dataset": "good1"
         },
         {
          "Dataset / KE (eV)": "good1 / 7.2",
          "Phase shift (deg)": 63.32533940354023,
          "Phase shift (rad)": 1.105235672534679,
          "Photon energy (eV)": 15.9,
          "Polar ang (deg)": 15,
          "Target dataset": "good1"
         },
         {
          "Dataset / KE (eV)": "good1 / 7.2",
          "Phase shift (deg)": 63.57278220696079,
          "Phase shift (rad)": 1.109554364164733,
          "Photon energy (eV)": 15.9,
          "Polar ang (deg)": 16,
          "Target dataset": "good1"
         },
         {
          "Dataset / KE (eV)": "good1 / 7.2",
          "Phase shift (deg)": 63.8431471024901,
          "Phase shift (rad)": 1.11427312177353,
          "Photon energy (eV)": 15.9,
          "Polar ang (deg)": 17,
          "Target dataset": "good1"
         },
         {
          "Dataset / KE (eV)": "good1 / 7.2",
          "Phase shift (deg)": 64.13803708720204,
          "Phase shift (rad)": 1.119419922937909,
          "Photon energy (eV)": 15.9,
          "Polar ang (deg)": 18,
          "Target dataset": "good1"
         },
         {
          "Dataset / KE (eV)": "good1 / 7.2",
          "Phase shift (deg)": 64.45926028142432,
          "Phase shift (rad)": 1.125026325310861,
          "Photon energy (eV)": 15.9,
          "Polar ang (deg)": 19,
          "Target dataset": "good1"
         },
         {
          "Dataset / KE (eV)": "good1 / 7.2",
          "Phase shift (deg)": 64.80885751491404,
          "Phase shift (rad)": 1.13112794809112,
          "Photon energy (eV)": 15.9,
          "Polar ang (deg)": 20,
          "Target dataset": "good1"
         },
         {
          "Dataset / KE (eV)": "good1 / 7.2",
          "Phase shift (deg)": 65.18913471045418,
          "Phase shift (rad)": 1.137765037223546,
          "Photon energy (eV)": 15.9,
          "Polar ang (deg)": 21,
          "Target dataset": "good1"
         },
         {
          "Dataset / KE (eV)": "good1 / 7.2",
          "Phase shift (deg)": 65.60270098064144,
          "Phase shift (rad)": 1.144983130313506,
          "Photon energy (eV)": 15.9,
          "Polar ang (deg)": 22,
          "Target dataset": "good1"
         },
         {
          "Dataset / KE (eV)": "good1 / 7.2",
          "Phase shift (deg)": 66.05251355724116,
          "Phase shift (rad)": 1.15283384079205,
          "Photon energy (eV)": 15.9,
          "Polar ang (deg)": 23,
          "Target dataset": "good1"
         },
         {
          "Dataset / KE (eV)": "good1 / 7.2",
          "Phase shift (deg)": 66.5419309087052,
          "Phase shift (rad)": 1.161375784991488,
          "Photon energy (eV)": 15.9,
          "Polar ang (deg)": 24,
          "Target dataset": "good1"
         },
         {
          "Dataset / KE (eV)": "good1 / 7.2",
          "Phase shift (deg)": 67.07477570079864,
          "Phase shift (rad)": 1.1706756810156231,
          "Photon energy (eV)": 15.9,
          "Polar ang (deg)": 25,
          "Target dataset": "good1"
         },
         {
          "Dataset / KE (eV)": "good1 / 7.2",
          "Phase shift (deg)": 67.65540961191428,
          "Phase shift (rad)": 1.180809654513323,
          "Photon energy (eV)": 15.9,
          "Polar ang (deg)": 26,
          "Target dataset": "good1"
         },
         {
          "Dataset / KE (eV)": "good1 / 7.2",
          "Phase shift (deg)": 68.2888224478866,
          "Phase shift (rad)": 1.191864794025435,
          "Photon energy (eV)": 15.9,
          "Polar ang (deg)": 27,
          "Target dataset": "good1"
         },
         {
          "Dataset / KE (eV)": "good1 / 7.2",
          "Phase shift (deg)": 68.98073851873919,
          "Phase shift (rad)": 1.203941007609275,
          "Photon energy (eV)": 15.9,
          "Polar ang (deg)": 28,
          "Target dataset": "good1"
         },
         {
          "Dataset / KE (eV)": "good1 / 7.2",
          "Phase shift (deg)": 69.7377438450153,
          "Phase shift (rad)": 1.217153243007927,
          "Photon energy (eV)": 15.9,
          "Polar ang (deg)": 29,
          "Target dataset": "good1"
         },
         {
          "Dataset / KE (eV)": "good1 / 7.2",
          "Phase shift (deg)": 70.56743844933085,
          "Phase shift (rad)": 1.231634145639265,
          "Photon energy (eV)": 15.9,
          "Polar ang (deg)": 30,
          "Target dataset": "good1"
         },
         {
          "Dataset / KE (eV)": "good1 / 7.2",
          "Phase shift (deg)": 71.47861873897253,
          "Phase shift (rad)": 1.247537241772788,
          "Photon energy (eV)": 15.9,
          "Polar ang (deg)": 31,
          "Target dataset": "good1"
         },
         {
          "Dataset / KE (eV)": "good1 / 7.2",
          "Phase shift (deg)": 72.48149571710697,
          "Phase shift (rad)": 1.265040747033685,
          "Photon energy (eV)": 15.9,
          "Polar ang (deg)": 32,
          "Target dataset": "good1"
         },
         {
          "Dataset / KE (eV)": "good1 / 7.2",
          "Phase shift (deg)": 73.58795534448069,
          "Phase shift (rad)": 1.2843521105717461,
          "Photon energy (eV)": 15.9,
          "Polar ang (deg)": 33,
          "Target dataset": "good1"
         },
         {
          "Dataset / KE (eV)": "good1 / 7.2",
          "Phase shift (deg)": 74.8118675154002,
          "Phase shift (rad)": 1.305713407709523,
          "Photon energy (eV)": 15.9,
          "Polar ang (deg)": 34,
          "Target dataset": "good1"
         },
         {
          "Dataset / KE (eV)": "good1 / 7.2",
          "Phase shift (deg)": 76.16944929164193,
          "Phase shift (rad)": 1.329407679570014,
          "Photon energy (eV)": 15.9,
          "Polar ang (deg)": 35,
          "Target dataset": "good1"
         },
         {
          "Dataset / KE (eV)": "good1 / 7.2",
          "Phase shift (deg)": 77.6796853161562,
          "Phase shift (rad)": 1.355766270680018,
          "Photon energy (eV)": 15.9,
          "Polar ang (deg)": 36,
          "Target dataset": "good1"
         },
         {
          "Dataset / KE (eV)": "good1 / 7.2",
          "Phase shift (deg)": 79.3648020468411,
          "Phase shift (rad)": 1.3851771059109121,
          "Photon energy (eV)": 15.9,
          "Polar ang (deg)": 37,
          "Target dataset": "good1"
         },
         {
          "Dataset / KE (eV)": "good1 / 7.2",
          "Phase shift (deg)": 81.2507798417326,
          "Phase shift (rad)": 1.418093628051271,
          "Photon energy (eV)": 15.9,
          "Polar ang (deg)": 38,
          "Target dataset": "good1"
         },
         {
          "Dataset / KE (eV)": "good1 / 7.2",
          "Phase shift (deg)": 83.36786340932429,
          "Phase shift (rad)": 1.455043706845614,
          "Photon energy (eV)": 15.9,
          "Polar ang (deg)": 39,
          "Target dataset": "good1"
         },
         {
          "Dataset / KE (eV)": "good1 / 7.2",
          "Phase shift (deg)": 85.75098966777655,
          "Phase shift (rad)": 1.496637106546339,
          "Photon energy (eV)": 15.9,
          "Polar ang (deg)": 40,
          "Target dataset": "good1"
         },
         {
          "Dataset / KE (eV)": "good1 / 7.2",
          "Phase shift (deg)": 88.43998255780969,
          "Phase shift (rad)": 1.543568886040135,
          "Photon energy (eV)": 15.9,
          "Polar ang (deg)": 41,
          "Target dataset": "good1"
         },
         {
          "Dataset / KE (eV)": "good1 / 7.2",
          "Phase shift (deg)": 91.47925476119646,
          "Phase shift (rad)": 1.596614192853577,
          "Photon energy (eV)": 15.9,
          "Polar ang (deg)": 42,
          "Target dataset": "good1"
         },
         {
          "Dataset / KE (eV)": "good1 / 7.2",
          "Phase shift (deg)": 94.91659787404286,
          "Phase shift (rad)": 1.656607147693498,
          "Photon energy (eV)": 15.9,
          "Polar ang (deg)": 43,
          "Target dataset": "good1"
         },
         {
          "Dataset / KE (eV)": "good1 / 7.2",
          "Phase shift (deg)": 98.80044574991437,
          "Phase shift (rad)": 1.724393080774044,
          "Photon energy (eV)": 15.9,
          "Polar ang (deg)": 44,
          "Target dataset": "good1"
         },
         {
          "Dataset / KE (eV)": "good1 / 7.2",
          "Phase shift (deg)": 103.1748246203155,
          "Phase shift (rad)": 1.800740394792214,
          "Photon energy (eV)": 15.9,
          "Polar ang (deg)": 45,
          "Target dataset": "good1"
         },
         {
          "Dataset / KE (eV)": "good1 / 7.2",
          "Phase shift (deg)": 108.07123270593235,
          "Phase shift (rad)": 1.8861988374075,
          "Photon energy (eV)": 15.9,
          "Polar ang (deg)": 46,
          "Target dataset": "good1"
         },
         {
          "Dataset / KE (eV)": "good1 / 7.2",
          "Phase shift (deg)": 113.49725217399565,
          "Phase shift (rad)": 1.980900742402516,
          "Photon energy (eV)": 15.9,
          "Polar ang (deg)": 47,
          "Target dataset": "good1"
         },
         {
          "Dataset / KE (eV)": "good1 / 7.2",
          "Phase shift (deg)": 119.42318738694881,
          "Phase shift (rad)": 2.08432782312842,
          "Photon energy (eV)": 15.9,
          "Polar ang (deg)": 48,
          "Target dataset": "good1"
         },
         {
          "Dataset / KE (eV)": "good1 / 7.2",
          "Phase shift (deg)": 125.77048095230653,
          "Phase shift (rad)": 2.195108994434562,
          "Photon energy (eV)": 15.9,
          "Polar ang (deg)": 49,
          "Target dataset": "good1"
         },
         {
          "Dataset / KE (eV)": "good1 / 7.2",
          "Phase shift (deg)": 132.4079694621167,
          "Phase shift (rad)": 2.310955022994042,
          "Photon energy (eV)": 15.9,
          "Polar ang (deg)": 50,
          "Target dataset": "good1"
         },
         {
          "Dataset / KE (eV)": "good1 / 7.2",
          "Phase shift (deg)": 139.1616855858064,
          "Phase shift (rad)": 2.4288296060974552,
          "Photon energy (eV)": 15.9,
          "Polar ang (deg)": 51,
          "Target dataset": "good1"
         },
         {
          "Dataset / KE (eV)": "good1 / 7.2",
          "Phase shift (deg)": 145.83885653085792,
          "Phase shift (rad)": 2.545368223807106,
          "Photon energy (eV)": 15.9,
          "Polar ang (deg)": 52,
          "Target dataset": "good1"
         },
         {
          "Dataset / KE (eV)": "good1 / 7.2",
          "Phase shift (deg)": 152.25893446555477,
          "Phase shift (rad)": 2.6574197220022038,
          "Photon energy (eV)": 15.9,
          "Polar ang (deg)": 53,
          "Target dataset": "good1"
         },
         {
          "Dataset / KE (eV)": "good1 / 7.2",
          "Phase shift (deg)": 158.2800015257928,
          "Phase shift (rad)": 2.762507166686733,
          "Photon energy (eV)": 15.9,
          "Polar ang (deg)": 54,
          "Target dataset": "good1"
         },
         {
          "Dataset / KE (eV)": "good1 / 7.2",
          "Phase shift (deg)": 163.81188738594275,
          "Phase shift (rad)": 2.859056788790868,
          "Photon energy (eV)": 15.9,
          "Polar ang (deg)": 55,
          "Target dataset": "good1"
         },
         {
          "Dataset / KE (eV)": "good1 / 7.2",
          "Phase shift (deg)": 168.81500204349706,
          "Phase shift (rad)": 2.946377612419979,
          "Photon energy (eV)": 15.9,
          "Polar ang (deg)": 56,
          "Target dataset": "good1"
         },
         {
          "Dataset / KE (eV)": "good1 / 7.2",
          "Phase shift (deg)": 173.28990066591174,
          "Phase shift (rad)": 3.024479327074074,
          "Photon energy (eV)": 15.9,
          "Polar ang (deg)": 57,
          "Target dataset": "good1"
         },
         {
          "Dataset / KE (eV)": "good1 / 7.2",
          "Phase shift (deg)": 177.2638940877188,
          "Phase shift (rad)": 3.093838596737203,
          "Photon energy (eV)": 15.9,
          "Polar ang (deg)": 58,
          "Target dataset": "good1"
         },
         {
          "Dataset / KE (eV)": "good1 / 7.2",
          "Phase shift (deg)": 180.77904468336976,
          "Phase shift (rad)": 3.155189548334752,
          "Photon energy (eV)": 15.9,
          "Polar ang (deg)": 59,
          "Target dataset": "good1"
         },
         {
          "Dataset / KE (eV)": "good1 / 7.2",
          "Phase shift (deg)": 183.8833122341906,
          "Phase shift (rad)": 3.209369237959396,
          "Photon energy (eV)": 15.9,
          "Polar ang (deg)": 60,
          "Target dataset": "good1"
         },
         {
          "Dataset / KE (eV)": "good1 / 7.2",
          "Phase shift (deg)": 186.62488796106578,
          "Phase shift (rad)": 3.257218761086125,
          "Photon energy (eV)": 15.9,
          "Polar ang (deg)": 61,
          "Target dataset": "good1"
         },
         {
          "Dataset / KE (eV)": "good1 / 7.2",
          "Phase shift (deg)": 189.0490223130026,
          "Phase shift (rad)": 3.299527887038122,
          "Photon energy (eV)": 15.9,
          "Polar ang (deg)": 62,
          "Target dataset": "good1"
         },
         {
          "Dataset / KE (eV)": "good1 / 7.2",
          "Phase shift (deg)": 191.19654040015632,
          "Phase shift (rad)": 3.337009148405084,
          "Photon energy (eV)": 15.9,
          "Polar ang (deg)": 63,
          "Target dataset": "good1"
         },
         {
          "Dataset / KE (eV)": "good1 / 7.2",
          "Phase shift (deg)": 193.10338621788222,
          "Phase shift (rad)": 3.370289886252285,
          "Photon energy (eV)": 15.9,
          "Polar ang (deg)": 64,
          "Target dataset": "good1"
         },
         {
          "Dataset / KE (eV)": "good1 / 7.2",
          "Phase shift (deg)": 194.80073633645736,
          "Phase shift (rad)": 3.399914234380537,
          "Photon energy (eV)": 15.9,
          "Polar ang (deg)": 65,
          "Target dataset": "good1"
         },
         {
          "Dataset / KE (eV)": "good1 / 7.2",
          "Phase shift (deg)": 196.31539260909506,
          "Phase shift (rad)": 3.42634997337405,
          "Photon energy (eV)": 15.9,
          "Polar ang (deg)": 66,
          "Target dataset": "good1"
         },
         {
          "Dataset / KE (eV)": "good1 / 7.2",
          "Phase shift (deg)": 197.67028331089844,
          "Phase shift (rad)": 3.449997277125176,
          "Photon energy (eV)": 15.9,
          "Polar ang (deg)": 67,
          "Target dataset": "good1"
         },
         {
          "Dataset / KE (eV)": "good1 / 7.2",
          "Phase shift (deg)": 198.88497935986618,
          "Phase shift (rad)": 3.471197722590629,
          "Photon energy (eV)": 15.9,
          "Polar ang (deg)": 68,
          "Target dataset": "good1"
         },
         {
          "Dataset / KE (eV)": "good1 / 7.2",
          "Phase shift (deg)": 199.97617892893993,
          "Phase shift (rad)": 3.490242747867309,
          "Photon energy (eV)": 15.9,
          "Polar ang (deg)": 69,
          "Target dataset": "good1"
         },
         {
          "Dataset / KE (eV)": "good1 / 7.2",
          "Phase shift (deg)": 200.9581405137945,
          "Phase shift (rad)": 3.507381210651123,
          "Photon energy (eV)": 15.9,
          "Polar ang (deg)": 70,
          "Target dataset": "good1"
         },
         {
          "Dataset / KE (eV)": "good1 / 7.2",
          "Phase shift (deg)": 201.84305907898215,
          "Phase shift (rad)": 3.522825953225672,
          "Photon energy (eV)": 15.9,
          "Polar ang (deg)": 71,
          "Target dataset": "good1"
         },
         {
          "Dataset / KE (eV)": "good1 / 7.2",
          "Phase shift (deg)": 202.64138731860623,
          "Phase shift (rad)": 3.536759409518762,
          "Photon energy (eV)": 15.9,
          "Polar ang (deg)": 72,
          "Target dataset": "good1"
         },
         {
          "Dataset / KE (eV)": "good1 / 7.2",
          "Phase shift (deg)": 203.36210745019602,
          "Phase shift (rad)": 3.549338348800411,
          "Photon energy (eV)": 15.9,
          "Polar ang (deg)": 73,
          "Target dataset": "good1"
         },
         {
          "Dataset / KE (eV)": "good1 / 7.2",
          "Phase shift (deg)": 204.0129601852822,
          "Phase shift (rad)": 3.560697871973275,
          "Photon energy (eV)": 15.9,
          "Polar ang (deg)": 74,
          "Target dataset": "good1"
         },
         {
          "Dataset / KE (eV)": "good1 / 7.2",
          "Phase shift (deg)": 204.60063766811868,
          "Phase shift (rad)": 3.570954778988604,
          "Photon energy (eV)": 15.9,
          "Polar ang (deg)": 75,
          "Target dataset": "good1"
         },
         {
          "Dataset / KE (eV)": "good1 / 7.2",
          "Phase shift (deg)": 205.13094688874418,
          "Phase shift (rad)": 3.580210420942204,
          "Photon energy (eV)": 15.9,
          "Polar ang (deg)": 76,
          "Target dataset": "good1"
         },
         {
          "Dataset / KE (eV)": "good1 / 7.2",
          "Phase shift (deg)": 205.6089497427855,
          "Phase shift (rad)": 3.588553144579155,
          "Photon energy (eV)": 15.9,
          "Polar ang (deg)": 77,
          "Target dataset": "good1"
         },
         {
          "Dataset / KE (eV)": "good1 / 7.2",
          "Phase shift (deg)": 206.0390858374539,
          "Phase shift (rad)": 3.596060435662789,
          "Photon energy (eV)": 15.9,
          "Polar ang (deg)": 78,
          "Target dataset": "good1"
         },
         {
          "Dataset / KE (eV)": "good1 / 7.2",
          "Phase shift (deg)": 206.42528467267778,
          "Phase shift (rad)": 3.602800876904812,
          "Photon energy (eV)": 15.9,
          "Polar ang (deg)": 79,
          "Target dataset": "good1"
         },
         {
          "Dataset / KE (eV)": "good1 / 7.2",
          "Phase shift (deg)": 206.77107554169567,
          "Phase shift (rad)": 3.608836066092507,
          "Photon energy (eV)": 15.9,
          "Polar ang (deg)": 80,
          "Target dataset": "good1"
         },
         {
          "Dataset / KE (eV)": "good1 / 7.2",
          "Phase shift (deg)": 207.07970765133192,
          "Phase shift (rad)": 3.614222712583036,
          "Photon energy (eV)": 15.9,
          "Polar ang (deg)": 81,
          "Target dataset": "good1"
         },
         {
          "Dataset / KE (eV)": "good1 / 7.2",
          "Phase shift (deg)": 207.3543024607609,
          "Phase shift (rad)": 3.619015296116458,
          "Photon energy (eV)": 15.9,
          "Polar ang (deg)": 82,
          "Target dataset": "good1"
         },
         {
          "Dataset / KE (eV)": "good1 / 7.2",
          "Phase shift (deg)": 207.59808259382058,
          "Phase shift (rad)": 3.623270062089299,
          "Photon energy (eV)": 15.9,
          "Polar ang (deg)": 83,
          "Target dataset": "good1"
         },
         {
          "Dataset / KE (eV)": "good1 / 7.2",
          "Phase shift (deg)": 207.81477810676495,
          "Phase shift (rad)": 3.627052112264476,
          "Photon energy (eV)": 15.9,
          "Polar ang (deg)": 84,
          "Target dataset": "good1"
         },
         {
          "Dataset / KE (eV)": "good1 / 7.2",
          "Phase shift (deg)": 208.0094691898296,
          "Phase shift (rad)": 3.6304501126882283,
          "Photon energy (eV)": 15.9,
          "Polar ang (deg)": 85,
          "Target dataset": "good1"
         },
         {
          "Dataset / KE (eV)": "good1 / 7.2",
          "Phase shift (deg)": 208.19063805944467,
          "Phase shift (rad)": 3.633612105965127,
          "Photon energy (eV)": 15.9,
          "Polar ang (deg)": 86,
          "Target dataset": "good1"
         },
         {
          "Dataset / KE (eV)": "good1 / 7.2",
          "Phase shift (deg)": 208.3762500390724,
          "Phase shift (rad)": 3.636851646140776,
          "Photon energy (eV)": 15.9,
          "Polar ang (deg)": 87,
          "Target dataset": "good1"
         },
         {
          "Dataset / KE (eV)": "good1 / 7.2",
          "Phase shift (deg)": 208.6178713528148,
          "Phase shift (rad)": 3.641068733608575,
          "Photon energy (eV)": 15.9,
          "Polar ang (deg)": 88,
          "Target dataset": "good1"
         },
         {
          "Dataset / KE (eV)": "good1 / 7.2",
          "Phase shift (deg)": 209.16711221455787,
          "Phase shift (rad)": 3.650654795032483,
          "Photon energy (eV)": 15.9,
          "Polar ang (deg)": 89,
          "Target dataset": "good1"
         },
         {
          "Dataset / KE (eV)": "good1 / 7.2",
          "Phase shift (deg)": 387.09040150443,
          "Phase shift (rad)": 6.756002009119116,
          "Photon energy (eV)": 15.9,
          "Polar ang (deg)": 91,
          "Target dataset": "good1"
         },
         {
          "Dataset / KE (eV)": "good1 / 7.2",
          "Phase shift (deg)": 387.579557284416,
          "Phase shift (rad)": 6.764539388035032,
          "Photon energy (eV)": 15.9,
          "Polar ang (deg)": 92,
          "Target dataset": "good1"
         },
         {
          "Dataset / KE (eV)": "good1 / 7.2",
          "Phase shift (deg)": 387.6839756644025,
          "Phase shift (rad)": 6.766361832565395,
          "Photon energy (eV)": 15.9,
          "Polar ang (deg)": 93,
          "Target dataset": "good1"
         },
         {
          "Dataset / KE (eV)": "good1 / 7.2",
          "Phase shift (deg)": 387.67134788021286,
          "Phase shift (rad)": 6.766141436154054,
          "Photon energy (eV)": 15.9,
          "Polar ang (deg)": 94,
          "Target dataset": "good1"
         },
         {
          "Dataset / KE (eV)": "good1 / 7.2",
          "Phase shift (deg)": 387.5939402215684,
          "Phase shift (rad)": 6.764790417644448,
          "Photon energy (eV)": 15.9,
          "Polar ang (deg)": 95,
          "Target dataset": "good1"
         },
         {
          "Dataset / KE (eV)": "good1 / 7.2",
          "Phase shift (deg)": 387.4683947451384,
          "Phase shift (rad)": 6.762599235719761,
          "Photon energy (eV)": 15.9,
          "Polar ang (deg)": 96,
          "Target dataset": "good1"
         },
         {
          "Dataset / KE (eV)": "good1 / 7.2",
          "Phase shift (deg)": 387.301059544948,
          "Phase shift (rad)": 6.759678685521953,
          "Photon energy (eV)": 15.9,
          "Polar ang (deg)": 97,
          "Target dataset": "good1"
         },
         {
          "Dataset / KE (eV)": "good1 / 7.2",
          "Phase shift (deg)": 387.0942685708537,
          "Phase shift (rad)": 6.756069502160603,
          "Photon energy (eV)": 15.9,
          "Polar ang (deg)": 98,
          "Target dataset": "good1"
         },
         {
          "Dataset / KE (eV)": "good1 / 7.2",
          "Phase shift (deg)": 386.8484098625807,
          "Phase shift (rad)": 6.751778458206537,
          "Photon energy (eV)": 15.9,
          "Polar ang (deg)": 99,
          "Target dataset": "good1"
         },
         {
          "Dataset / KE (eV)": "good1 / 7.2",
          "Phase shift (deg)": 386.5627308588165,
          "Phase shift (rad)": 6.746792418987035,
          "Photon energy (eV)": 15.9,
          "Polar ang (deg)": 100,
          "Target dataset": "good1"
         },
         {
          "Dataset / KE (eV)": "good1 / 7.2",
          "Phase shift (deg)": 386.2356812143292,
          "Phase shift (rad)": 6.7410843258732545,
          "Photon energy (eV)": 15.9,
          "Polar ang (deg)": 101,
          "Target dataset": "good1"
         },
         {
          "Dataset / KE (eV)": "good1 / 7.2",
          "Phase shift (deg)": 385.8650584287785,
          "Phase shift (rad)": 6.734615737982483,
          "Photon energy (eV)": 15.9,
          "Polar ang (deg)": 102,
          "Target dataset": "good1"
         },
         {
          "Dataset / KE (eV)": "good1 / 7.2",
          "Phase shift (deg)": 385.44805718766656,
          "Phase shift (rad)": 6.727337693340177,
          "Photon energy (eV)": 15.9,
          "Polar ang (deg)": 103,
          "Target dataset": "good1"
         },
         {
          "Dataset / KE (eV)": "good1 / 7.2",
          "Phase shift (deg)": 384.98126449715693,
          "Phase shift (rad)": 6.71919062396654,
          "Photon energy (eV)": 15.9,
          "Polar ang (deg)": 104,
          "Target dataset": "good1"
         },
         {
          "Dataset / KE (eV)": "good1 / 7.2",
          "Phase shift (deg)": 384.4606189505304,
          "Phase shift (rad)": 6.710103644942062,
          "Photon energy (eV)": 15.9,
          "Polar ang (deg)": 105,
          "Target dataset": "good1"
         },
         {
          "Dataset / KE (eV)": "good1 / 7.2",
          "Phase shift (deg)": 383.8813418003753,
          "Phase shift (rad)": 6.699993351390286,
          "Photon energy (eV)": 15.9,
          "Polar ang (deg)": 106,
          "Target dataset": "good1"
         },
         {
          "Dataset / KE (eV)": "good1 / 7.2",
          "Phase shift (deg)": 383.237842172969,
          "Phase shift (rad)": 6.688762164156689,
          "Photon energy (eV)": 15.9,
          "Polar ang (deg)": 107,
          "Target dataset": "good1"
         },
         {
          "Dataset / KE (eV)": "good1 / 7.2",
          "Phase shift (deg)": 382.5235957376257,
          "Phase shift (rad)": 6.676296212189316,
          "Photon energy (eV)": 15.9,
          "Polar ang (deg)": 108,
          "Target dataset": "good1"
         },
         {
          "Dataset / KE (eV)": "good1 / 7.2",
          "Phase shift (deg)": 381.7309941782682,
          "Phase shift (rad)": 6.662462705322086,
          "Photon energy (eV)": 15.9,
          "Polar ang (deg)": 109,
          "Target dataset": "good1"
         },
         {
          "Dataset / KE (eV)": "good1 / 7.2",
          "Phase shift (deg)": 380.8511613718195,
          "Phase shift (rad)": 6.6471067259824945,
          "Photon energy (eV)": 15.9,
          "Polar ang (deg)": 110,
          "Target dataset": "good1"
         },
         {
          "Dataset / KE (eV)": "good1 / 7.2",
          "Phase shift (deg)": 379.8737310695467,
          "Phase shift (rad)": 6.630047348999071,
          "Photon energy (eV)": 15.9,
          "Polar ang (deg)": 111,
          "Target dataset": "good1"
         },
         {
          "Dataset / KE (eV)": "good1 / 7.2",
          "Phase shift (deg)": 378.78658013514683,
          "Phase shift (rad)": 6.61107298572766,
          "Photon energy (eV)": 15.9,
          "Polar ang (deg)": 112,
          "Target dataset": "good1"
         },
         {
          "Dataset / KE (eV)": "good1 / 7.2",
          "Phase shift (deg)": 377.5755112799981,
          "Phase shift (rad)": 6.589935846736957,
          "Photon energy (eV)": 15.9,
          "Polar ang (deg)": 113,
          "Target dataset": "good1"
         },
         {
          "Dataset / KE (eV)": "good1 / 7.2",
          "Phase shift (deg)": 376.2238802921938,
          "Phase shift (rad)": 6.566345435727788,
          "Photon energy (eV)": 15.9,
          "Polar ang (deg)": 114,
          "Target dataset": "good1"
         },
         {
          "Dataset / KE (eV)": "good1 / 7.2",
          "Phase shift (deg)": 374.71216606649,
          "Phase shift (rad)": 6.53996104514002,
          "Photon energy (eV)": 15.9,
          "Polar ang (deg)": 115,
          "Target dataset": "good1"
         },
         {
          "Dataset / KE (eV)": "good1 / 7.2",
          "Phase shift (deg)": 373.0174890990123,
          "Phase shift (rad)": 6.510383352299821,
          "Photon energy (eV)": 15.9,
          "Polar ang (deg)": 116,
          "Target dataset": "good1"
         },
         {
          "Dataset / KE (eV)": "good1 / 7.2",
          "Phase shift (deg)": 371.1130986608079,
          "Phase shift (rad)": 6.477145468909657,
          "Photon energy (eV)": 15.9,
          "Polar ang (deg)": 117,
          "Target dataset": "good1"
         },
         {
          "Dataset / KE (eV)": "good1 / 7.2",
          "Phase shift (deg)": 368.96787560207395,
          "Phase shift (rad)": 6.439704263345045,
          "Photon energy (eV)": 15.9,
          "Polar ang (deg)": 118,
          "Target dataset": "good1"
         },
         {
          "Dataset / KE (eV)": "good1 / 7.2",
          "Phase shift (deg)": 366.54594435511854,
          "Phase shift (rad)": 6.397433588828742,
          "Photon energy (eV)": 15.9,
          "Polar ang (deg)": 119,
          "Target dataset": "good1"
         },
         {
          "Dataset / KE (eV)": "good1 / 7.2",
          "Phase shift (deg)": 363.8065648178795,
          "Phase shift (rad)": 6.349622396442162,
          "Photon energy (eV)": 15.9,
          "Polar ang (deg)": 120,
          "Target dataset": "good1"
         },
         {
          "Dataset / KE (eV)": "good1 / 7.2",
          "Phase shift (deg)": 360.70459427443757,
          "Phase shift (rad)": 6.295482797159222,
          "Photon energy (eV)": 15.9,
          "Polar ang (deg)": 121,
          "Target dataset": "good1"
         },
         {
          "Dataset / KE (eV)": "good1 / 7.2",
          "Phase shift (deg)": 357.1919776220741,
          "Phase shift (rad)": 6.234176071215099,
          "Photon energy (eV)": 15.9,
          "Polar ang (deg)": 122,
          "Target dataset": "good1"
         },
         {
          "Dataset / KE (eV)": "good1 / 7.2",
          "Phase shift (deg)": 353.22092236750933,
          "Phase shift (rad)": 6.164868082244323,
          "Photon energy (eV)": 15.9,
          "Polar ang (deg)": 123,
          "Target dataset": "good1"
         },
         {
          "Dataset / KE (eV)": "good1 / 7.2",
          "Phase shift (deg)": 348.7495597292788,
          "Phase shift (rad)": 6.086828082156539,
          "Photon energy (eV)": 15.9,
          "Polar ang (deg)": 124,
          "Target dataset": "good1"
         },
         {
          "Dataset / KE (eV)": "good1 / 7.2",
          "Phase shift (deg)": 343.75077950594755,
          "Phase shift (rad)": 5.999582908675832,
          "Photon energy (eV)": 15.9,
          "Polar ang (deg)": 125,
          "Target dataset": "good1"
         },
         {
          "Dataset / KE (eV)": "good1 / 7.2",
          "Phase shift (deg)": 338.2241933854586,
          "Phase shift (rad)": 5.903125784478279,
          "Photon energy (eV)": 15.9,
          "Polar ang (deg)": 126,
          "Target dataset": "good1"
         },
         {
          "Dataset / KE (eV)": "good1 / 7.2",
          "Phase shift (deg)": 332.20946147135714,
          "Phase shift (rad)": 5.798148908952427,
          "Photon energy (eV)": 15.9,
          "Polar ang (deg)": 127,
          "Target dataset": "good1"
         },
         {
          "Dataset / KE (eV)": "good1 / 7.2",
          "Phase shift (deg)": 325.79665813133755,
          "Phase shift (rad)": 5.686224376386196,
          "Photon energy (eV)": 15.9,
          "Polar ang (deg)": 128,
          "Target dataset": "good1"
         },
         {
          "Dataset / KE (eV)": "good1 / 7.2",
          "Phase shift (deg)": 319.12740040042047,
          "Phase shift (rad)": 5.569823870317608,
          "Photon energy (eV)": 15.9,
          "Polar ang (deg)": 129,
          "Target dataset": "good1"
         },
         {
          "Dataset / KE (eV)": "good1 / 7.2",
          "Phase shift (deg)": 312.3817630046499,
          "Phase shift (rad)": 5.452090287615755,
          "Photon energy (eV)": 15.9,
          "Polar ang (deg)": 130,
          "Target dataset": "good1"
         },
         {
          "Dataset / KE (eV)": "good1 / 7.2",
          "Phase shift (deg)": 305.7519846283013,
          "Phase shift (rad)": 5.336378826270948,
          "Photon energy (eV)": 15.9,
          "Polar ang (deg)": 131,
          "Target dataset": "good1"
         },
         {
          "Dataset / KE (eV)": "good1 / 7.2",
          "Phase shift (deg)": 299.4115792486752,
          "Phase shift (rad)": 5.225717876485312,
          "Photon energy (eV)": 15.9,
          "Polar ang (deg)": 132,
          "Target dataset": "good1"
         },
         {
          "Dataset / KE (eV)": "good1 / 7.2",
          "Phase shift (deg)": 293.4914374585688,
          "Phase shift (rad)": 5.122391910063044,
          "Photon energy (eV)": 15.9,
          "Polar ang (deg)": 133,
          "Target dataset": "good1"
         },
         {
          "Dataset / KE (eV)": "good1 / 7.2",
          "Phase shift (deg)": 288.07004331649404,
          "Phase shift (rad)": 5.027770732235506,
          "Photon energy (eV)": 15.9,
          "Polar ang (deg)": 134,
          "Target dataset": "good1"
         },
         {
          "Dataset / KE (eV)": "good1 / 7.2",
          "Phase shift (deg)": 283.17717245758354,
          "Phase shift (rad)": 4.942374025872635,
          "Photon energy (eV)": 15.9,
          "Polar ang (deg)": 135,
          "Target dataset": "good1"
         },
         {
          "Dataset / KE (eV)": "good1 / 7.2",
          "Phase shift (deg)": 278.8054068862791,
          "Phase shift (rad)": 4.8660723225280424,
          "Photon energy (eV)": 15.9,
          "Polar ang (deg)": 136,
          "Target dataset": "good1"
         },
         {
          "Dataset / KE (eV)": "good1 / 7.2",
          "Phase shift (deg)": 274.92343769550337,
          "Phase shift (rad)": 4.7983191786880255,
          "Photon energy (eV)": 15.9,
          "Polar ang (deg)": 137,
          "Target dataset": "good1"
         },
         {
          "Dataset / KE (eV)": "good1 / 7.2",
          "Phase shift (deg)": 271.48741641254594,
          "Phase shift (rad)": 4.738349294131819,
          "Photon energy (eV)": 15.9,
          "Polar ang (deg)": 138,
          "Target dataset": "good1"
         },
         {
          "Dataset / KE (eV)": "good1 / 7.2",
          "Phase shift (deg)": 268.4490587512161,
          "Phase shift (rad)": 4.685319949088418,
          "Photon energy (eV)": 15.9,
          "Polar ang (deg)": 139,
          "Target dataset": "good1"
         },
         {
          "Dataset / KE (eV)": "good1 / 7.2",
          "Phase shift (deg)": 265.7606908021732,
          "Phase shift (rad)": 4.638399076872533,
          "Photon energy (eV)": 15.9,
          "Polar ang (deg)": 140,
          "Target dataset": "good1"
         },
         {
          "Dataset / KE (eV)": "good1 / 7.2",
          "Phase shift (deg)": 263.3779885199659,
          "Phase shift (rad)": 4.596813076953232,
          "Photon energy (eV)": 15.9,
          "Polar ang (deg)": 141,
          "Target dataset": "good1"
         },
         {
          "Dataset / KE (eV)": "good1 / 7.2",
          "Phase shift (deg)": 261.26119274860434,
          "Phase shift (rad)": 4.559868021150679,
          "Photon energy (eV)": 15.9,
          "Polar ang (deg)": 142,
          "Target dataset": "good1"
         },
         {
          "Dataset / KE (eV)": "good1 / 7.2",
          "Phase shift (deg)": 259.3754129002775,
          "Phase shift (rad)": 4.526954953829618,
          "Photon energy (eV)": 15.9,
          "Polar ang (deg)": 143,
          "Target dataset": "good1"
         },
         {
          "Dataset / KE (eV)": "good1 / 7.2",
          "Phase shift (deg)": 257.69043683024864,
          "Phase shift (rad)": 4.497546573590299,
          "Photon energy (eV)": 15.9,
          "Polar ang (deg)": 144,
          "Target dataset": "good1"
         },
         {
          "Dataset / KE (eV)": "good1 / 7.2",
          "Phase shift (deg)": 256.1803067129384,
          "Phase shift (rad)": 4.471189830909706,
          "Photon energy (eV)": 15.9,
          "Polar ang (deg)": 145,
          "Target dataset": "good1"
         },
         {
          "Dataset / KE (eV)": "good1 / 7.2",
          "Phase shift (deg)": 254.82281142782853,
          "Phase shift (rad)": 4.447497068604241,
          "Photon energy (eV)": 15.9,
          "Polar ang (deg)": 146,
          "Target dataset": "good1"
         },
         {
          "Dataset / KE (eV)": "good1 / 7.2",
          "Phase shift (deg)": 253.5989765622542,
          "Phase shift (rad)": 4.426137120699266,
          "Photon energy (eV)": 15.9,
          "Polar ang (deg)": 147,
          "Target dataset": "good1"
         },
         {
          "Dataset / KE (eV)": "good1 / 7.2",
          "Phase shift (deg)": 252.49259169419594,
          "Phase shift (rad)": 4.406827061957406,
          "Photon energy (eV)": 15.9,
          "Polar ang (deg)": 148,
          "Target dataset": "good1"
         },
         {
          "Dataset / KE (eV)": "good1 / 7.2",
          "Phase shift (deg)": 251.48979106165646,
          "Phase shift (rad)": 4.389324889178511,
          "Photon energy (eV)": 15.9,
          "Polar ang (deg)": 149,
          "Target dataset": "good1"
         },
         {
          "Dataset / KE (eV)": "good1 / 7.2",
          "Phase shift (deg)": 250.5786910991576,
          "Phase shift (rad)": 4.373423195018109,
          "Photon energy (eV)": 15.9,
          "Polar ang (deg)": 150,
          "Target dataset": "good1"
         },
         {
          "Dataset / KE (eV)": "good1 / 7.2",
          "Phase shift (deg)": 249.74908200738884,
          "Phase shift (rad)": 4.358943784862264,
          "Photon energy (eV)": 15.9,
          "Polar ang (deg)": 151,
          "Target dataset": "good1"
         },
         {
          "Dataset / KE (eV)": "good1 / 7.2",
          "Phase shift (deg)": 248.99216777606406,
          "Phase shift (rad)": 4.345733139370445,
          "Photon energy (eV)": 15.9,
          "Polar ang (deg)": 152,
          "Target dataset": "good1"
         },
         {
          "Dataset / KE (eV)": "good1 / 7.2",
          "Phase shift (deg)": 248.3003482425847,
          "Phase shift (rad)": 4.333658610681619,
          "Photon energy (eV)": 15.9,
          "Polar ang (deg)": 153,
          "Target dataset": "good1"
         },
         {
          "Dataset / KE (eV)": "good1 / 7.2",
          "Phase shift (deg)": 247.6670368996225,
          "Phase shift (rad)": 4.322605242556701,
          "Photon energy (eV)": 15.9,
          "Polar ang (deg)": 154,
          "Target dataset": "good1"
         },
         {
          "Dataset / KE (eV)": "good1 / 7.2",
          "Phase shift (deg)": 247.0865087350291,
          "Phase shift (rad)": 4.312473114683987,
          "Photon energy (eV)": 15.9,
          "Polar ang (deg)": 155,
          "Target dataset": "good1"
         },
         {
          "Dataset / KE (eV)": "good1 / 7.2",
          "Phase shift (deg)": 246.55377311775422,
          "Phase shift (rad)": 4.303175124119896,
          "Photon energy (eV)": 15.9,
          "Polar ang (deg)": 156,
          "Target dataset": "good1"
         },
         {
          "Dataset / KE (eV)": "good1 / 7.2",
          "Phase shift (deg)": 246.06446748420097,
          "Phase shift (rad)": 4.294635129765835,
          "Photon energy (eV)": 15.9,
          "Polar ang (deg)": 157,
          "Target dataset": "good1"
         },
         {
          "Dataset / KE (eV)": "good1 / 7.2",
          "Phase shift (deg)": 245.61476826617667,
          "Phase shift (rad)": 4.286786397767667,
          "Photon energy (eV)": 15.9,
          "Polar ang (deg)": 158,
          "Target dataset": "good1"
         },
         {
          "Dataset / KE (eV)": "good1 / 7.2",
          "Phase shift (deg)": 245.2013161045486,
          "Phase shift (rad)": 4.279570296247769,
          "Photon energy (eV)": 15.9,
          "Polar ang (deg)": 159,
          "Target dataset": "good1"
         },
         {
          "Dataset / KE (eV)": "good1 / 7.2",
          "Phase shift (deg)": 244.82115290732037,
          "Phase shift (rad)": 4.272935196761228,
          "Photon energy (eV)": 15.9,
          "Polar ang (deg)": 160,
          "Target dataset": "good1"
         },
         {
          "Dataset / KE (eV)": "good1 / 7.2",
          "Phase shift (deg)": 244.4716687436663,
          "Phase shift (rad)": 4.266835547421886,
          "Photon energy (eV)": 15.9,
          "Polar ang (deg)": 161,
          "Target dataset": "good1"
         },
         {
          "Dataset / KE (eV)": "good1 / 7.2",
          "Phase shift (deg)": 244.1505569218245,
          "Phase shift (rad)": 4.261231088863669,
          "Photon energy (eV)": 15.9,
          "Polar ang (deg)": 162,
          "Target dataset": "good1"
         },
         {
          "Dataset / KE (eV)": "good1 / 7.2",
          "Phase shift (deg)": 243.85577589519008,
          "Phase shift (rad)": 4.256086189376489,
          "Photon energy (eV)": 15.9,
          "Polar ang (deg)": 163,
          "Target dataset": "good1"
         },
         {
          "Dataset / KE (eV)": "good1 / 7.2",
          "Phase shift (deg)": 243.58551688038807,
          "Phase shift (rad)": 4.251369279734998,
          "Photon energy (eV)": 15.9,
          "Polar ang (deg)": 164,
          "Target dataset": "good1"
         },
         {
          "Dataset / KE (eV)": "good1 / 7.2",
          "Phase shift (deg)": 243.3381762704438,
          "Phase shift (rad)": 4.247052371717579,
          "Photon energy (eV)": 15.9,
          "Polar ang (deg)": 165,
          "Target dataset": "good1"
         },
         {
          "Dataset / KE (eV)": "good1 / 7.2",
          "Phase shift (deg)": 243.11233208602056,
          "Phase shift (rad)": 4.243110647102913,
          "Photon energy (eV)": 15.9,
          "Polar ang (deg)": 166,
          "Target dataset": "good1"
         },
         {
          "Dataset / KE (eV)": "good1 / 7.2",
          "Phase shift (deg)": 242.9067238406146,
          "Phase shift (rad)": 4.23952210625133,
          "Photon energy (eV)": 15.9,
          "Polar ang (deg)": 167,
          "Target dataset": "good1"
         },
         {
          "Dataset / KE (eV)": "good1 / 7.2",
          "Phase shift (deg)": 242.72023530373545,
          "Phase shift (rad)": 4.236267267265562,
          "Photon energy (eV)": 15.9,
          "Polar ang (deg)": 168,
          "Target dataset": "good1"
         },
         {
          "Dataset / KE (eV)": "good1 / 7.2",
          "Phase shift (deg)": 242.55187973366967,
          "Phase shift (rad)": 4.233328908253842,
          "Photon energy (eV)": 15.9,
          "Polar ang (deg)": 169,
          "Target dataset": "good1"
         },
         {
          "Dataset / KE (eV)": "good1 / 7.2",
          "Phase shift (deg)": 242.4007872260633,
          "Phase shift (rad)": 4.230691846521017,
          "Photon energy (eV)": 15.9,
          "Polar ang (deg)": 170,
          "Target dataset": "good1"
         },
         {
          "Dataset / KE (eV)": "good1 / 7.2",
          "Phase shift (deg)": 242.26619388318878,
          "Phase shift (rad)": 4.228342749536591,
          "Photon energy (eV)": 15.9,
          "Polar ang (deg)": 171,
          "Target dataset": "good1"
         },
         {
          "Dataset / KE (eV)": "good1 / 7.2",
          "Phase shift (deg)": 242.14743255977302,
          "Phase shift (rad)": 4.22626997341896,
          "Photon energy (eV)": 15.9,
          "Polar ang (deg)": 172,
          "Target dataset": "good1"
         },
         {
          "Dataset / KE (eV)": "good1 / 7.2",
          "Phase shift (deg)": 242.04392498215105,
          "Phase shift (rad)": 4.224463425388693,
          "Photon energy (eV)": 15.9,
          "Polar ang (deg)": 173,
          "Target dataset": "good1"
         },
         {
          "Dataset / KE (eV)": "good1 / 7.2",
          "Phase shift (deg)": 241.95517507246717,
          "Phase shift (rad)": 4.222914447253862,
          "Photon energy (eV)": 15.9,
          "Polar ang (deg)": 174,
          "Target dataset": "good1"
         },
         {
          "Dataset / KE (eV)": "good1 / 7.2",
          "Phase shift (deg)": 241.88076333917883,
          "Phase shift (rad)": 4.221615717505864,
          "Photon energy (eV)": 15.9,
          "Polar ang (deg)": 175,
          "Target dataset": "good1"
         },
         {
          "Dataset / KE (eV)": "good1 / 7.2",
          "Phase shift (deg)": 241.82034221944758,
          "Phase shift (rad)": 4.220561170028812,
          "Photon energy (eV)": 15.9,
          "Polar ang (deg)": 176,
          "Target dataset": "good1"
         },
         {
          "Dataset / KE (eV)": "good1 / 7.2",
          "Phase shift (deg)": 241.7736322808233,
          "Phase shift (rad)": 4.219745927806414,
          "Photon energy (eV)": 15.9,
          "Polar ang (deg)": 177,
          "Target dataset": "good1"
         },
         {
          "Dataset / KE (eV)": "good1 / 7.2",
          "Phase shift (deg)": 241.7404192077183,
          "Phase shift (rad)": 4.219166250326026,
          "Photon energy (eV)": 15.9,
          "Polar ang (deg)": 178,
          "Target dataset": "good1"
         },
         {
          "Dataset / KE (eV)": "good1 / 7.2",
          "Phase shift (deg)": 241.72055151496122,
          "Phase shift (rad)": 4.21881949367264,
          "Photon energy (eV)": 15.9,
          "Polar ang (deg)": 179,
          "Target dataset": "good1"
         },
         {
          "Dataset / KE (eV)": "good1 / 7.2",
          "Phase shift (deg)": 241.71393894441775,
          "Phase shift (rad)": 4.218704082544637,
          "Photon energy (eV)": 15.9,
          "Polar ang (deg)": 180,
          "Target dataset": "good1"
         },
         {
          "Dataset / KE (eV)": "good2 / 4.0",
          "Phase shift (deg)": 59.304854445029655,
          "Phase shift (rad)": 1.035064972481762,
          "Photon energy (eV)": 14.3,
          "Polar ang (deg)": 0,
          "Target dataset": "good2"
         },
         {
          "Dataset / KE (eV)": "good2 / 4.0",
          "Phase shift (deg)": 59.32697929981754,
          "Phase shift (rad)": 1.035451124044336,
          "Photon energy (eV)": 14.3,
          "Polar ang (deg)": 1,
          "Target dataset": "good2"
         },
         {
          "Dataset / KE (eV)": "good2 / 4.0",
          "Phase shift (deg)": 59.39339942578226,
          "Phase shift (rad)": 1.03661037393201,
          "Photon energy (eV)": 14.3,
          "Polar ang (deg)": 2,
          "Target dataset": "good2"
         },
         {
          "Dataset / KE (eV)": "good2 / 4.0",
          "Phase shift (deg)": 59.504251295023,
          "Phase shift (rad)": 1.038545104032251,
          "Photon energy (eV)": 14.3,
          "Polar ang (deg)": 3,
          "Target dataset": "good2"
         },
         {
          "Dataset / KE (eV)": "good2 / 4.0",
          "Phase shift (deg)": 59.65976164204117,
          "Phase shift (rad)": 1.041259271608637,
          "Photon energy (eV)": 14.3,
          "Polar ang (deg)": 4,
          "Target dataset": "good2"
         },
         {
          "Dataset / KE (eV)": "good2 / 4.0",
          "Phase shift (deg)": 59.86024634902277,
          "Phase shift (rad)": 1.044758389845362,
          "Photon energy (eV)": 14.3,
          "Polar ang (deg)": 5,
          "Target dataset": "good2"
         },
         {
          "Dataset / KE (eV)": "good2 / 4.0",
          "Phase shift (deg)": 60.106108812595345,
          "Phase shift (rad)": 1.049049499341768,
          "Photon energy (eV)": 14.3,
          "Polar ang (deg)": 6,
          "Target dataset": "good2"
         },
         {
          "Dataset / KE (eV)": "good2 / 4.0",
          "Phase shift (deg)": 60.39783771847399,
          "Phase shift (rad)": 1.054141129272591,
          "Photon energy (eV)": 14.3,
          "Polar ang (deg)": 7,
          "Target dataset": "good2"
         },
         {
          "Dataset / KE (eV)": "good2 / 4.0",
          "Phase shift (deg)": 60.73600412799046,
          "Phase shift (rad)": 1.060043246538301,
          "Photon energy (eV)": 14.3,
          "Polar ang (deg)": 8,
          "Target dataset": "good2"
         },
         {
          "Dataset / KE (eV)": "good2 / 4.0",
          "Phase shift (deg)": 61.121257757434584,
          "Phase shift (rad)": 1.066767190827359,
          "Photon energy (eV)": 14.3,
          "Polar ang (deg)": 9,
          "Target dataset": "good2"
         },
         {
          "Dataset / KE (eV)": "good2 / 4.0",
          "Phase shift (deg)": 61.55432230760827,
          "Phase shift (rad)": 1.074325593101558,
          "Photon energy (eV)": 14.3,
          "Polar ang (deg)": 10,
          "Target dataset": "good2"
         },
         {
          "Dataset / KE (eV)": "good2 / 4.0",
          "Phase shift (deg)": 62.0359896766339,
          "Phase shift (rad)": 1.082732274590474,
          "Photon energy (eV)": 14.3,
          "Polar ang (deg)": 11,
          "Target dataset": "good2"
         },
         {
          "Dataset / KE (eV)": "good2 / 4.0",
          "Phase shift (deg)": 62.56711286493272,
          "Phase shift (rad)": 1.0920021229599781,
          "Photon energy (eV)": 14.3,
          "Polar ang (deg)": 12,
          "Target dataset": "good2"
         },
         {
          "Dataset / KE (eV)": "good2 / 4.0",
          "Phase shift (deg)": 63.1485973581462,
          "Phase shift (rad)": 1.102150941915844,
          "Photon energy (eV)": 14.3,
          "Polar ang (deg)": 13,
          "Target dataset": "good2"
         },
         {
          "Dataset / KE (eV)": "good2 / 4.0",
          "Phase shift (deg)": 63.78139075250145,
          "Phase shift (rad)": 1.113195270132214,
          "Photon energy (eV)": 14.3,
          "Polar ang (deg)": 14,
          "Target dataset": "good2"
         },
         {
          "Dataset / KE (eV)": "good2 / 4.0",
          "Phase shift (deg)": 64.46647036911014,
          "Phase shift (rad)": 1.125152165080336,
          "Photon energy (eV)": 14.3,
          "Polar ang (deg)": 15,
          "Target dataset": "good2"
         },
         {
          "Dataset / KE (eV)": "good2 / 4.0",
          "Phase shift (deg)": 65.20482859189707,
          "Phase shift (rad)": 1.138038947127142,
          "Photon energy (eV)": 14.3,
          "Polar ang (deg)": 16,
          "Target dataset": "good2"
         },
         {
          "Dataset / KE (eV)": "good2 / 4.0",
          "Phase shift (deg)": 65.9974556602667,
          "Phase shift (rad)": 1.151872899210622,
          "Photon energy (eV)": 14.3,
          "Polar ang (deg)": 17,
          "Target dataset": "good2"
         },
         {
          "Dataset / KE (eV)": "good2 / 4.0",
          "Phase shift (deg)": 66.84531965545533,
          "Phase shift (rad)": 1.166670917535777,
          "Photon energy (eV)": 14.3,
          "Polar ang (deg)": 18,
          "Target dataset": "good2"
         },
         {
          "Dataset / KE (eV)": "good2 / 4.0",
          "Phase shift (deg)": 67.7493434437961,
          "Phase shift (rad)": 1.182449109158676,
          "Photon energy (eV)": 14.3,
          "Polar ang (deg)": 19,
          "Target dataset": "good2"
         },
         {
          "Dataset / KE (eV)": "good2 / 4.0",
          "Phase shift (deg)": 68.71037838460661,
          "Phase shift (rad)": 1.199222333102528,
          "Photon energy (eV)": 14.3,
          "Polar ang (deg)": 20,
          "Target dataset": "good2"
         },
         {
          "Dataset / KE (eV)": "good2 / 4.0",
          "Phase shift (deg)": 69.72917468027516,
          "Phase shift (rad)": 1.217003682869066,
          "Photon energy (eV)": 14.3,
          "Polar ang (deg)": 21,
          "Target dataset": "good2"
         },
         {
          "Dataset / KE (eV)": "good2 / 4.0",
          "Phase shift (deg)": 70.80634834701041,
          "Phase shift (rad)": 1.235803909969376,
          "Photon energy (eV)": 14.3,
          "Polar ang (deg)": 22,
          "Target dataset": "good2"
         },
         {
          "Dataset / KE (eV)": "good2 / 4.0",
          "Phase shift (deg)": 71.94234492091206,
          "Phase shift (rad)": 1.255630790475335,
          "Photon energy (eV)": 14.3,
          "Polar ang (deg)": 23,
          "Target dataset": "good2"
         },
         {
          "Dataset / KE (eV)": "good2 / 4.0",
          "Phase shift (deg)": 73.13740018912262,
          "Phase shift (rad)": 1.276488439648913,
          "Photon energy (eV)": 14.3,
          "Polar ang (deg)": 24,
          "Target dataset": "good2"
         },
         {
          "Dataset / KE (eV)": "good2 / 4.0",
          "Phase shift (deg)": 74.39149845156565,
          "Phase shift (rad)": 1.298376583472084,
          "Photon energy (eV)": 14.3,
          "Polar ang (deg)": 25,
          "Target dataset": "good2"
         },
         {
          "Dataset / KE (eV)": "good2 / 4.0",
          "Phase shift (deg)": 75.70432907292324,
          "Phase shift (rad)": 1.321289800335777,
          "Photon energy (eV)": 14.3,
          "Polar ang (deg)": 26,
          "Target dataset": "good2"
         },
         {
          "Dataset / KE (eV)": "good2 / 4.0",
          "Phase shift (deg)": 77.07524237039686,
          "Phase shift (rad)": 1.345216751136064,
          "Photon energy (eV)": 14.3,
          "Polar ang (deg)": 27,
          "Target dataset": "good2"
         },
         {
          "Dataset / KE (eV)": "good2 / 4.0",
          "Phase shift (deg)": 78.50320618839261,
          "Phase shift (rad)": 1.370139421359439,
          "Photon energy (eV)": 14.3,
          "Polar ang (deg)": 28,
          "Target dataset": "good2"
         },
         {
          "Dataset / KE (eV)": "good2 / 4.0",
          "Phase shift (deg)": 79.98676481600833,
          "Phase shift (rad)": 1.396032404057702,
          "Photon energy (eV)": 14.3,
          "Polar ang (deg)": 29,
          "Target dataset": "good2"
         },
         {
          "Dataset / KE (eV)": "good2 / 4.0",
          "Phase shift (deg)": 81.5240021805977,
          "Phase shift (rad)": 1.422862257454467,
          "Photon energy (eV)": 14.3,
          "Polar ang (deg)": 30,
          "Target dataset": "good2"
         },
         {
          "Dataset / KE (eV)": "good2 / 4.0",
          "Phase shift (deg)": 83.11251146861068,
          "Phase shift (rad)": 1.450586974728804,
          "Photon energy (eV)": 14.3,
          "Polar ang (deg)": 31,
          "Target dataset": "good2"
         },
         {
          "Dataset / KE (eV)": "good2 / 4.0",
          "Phase shift (deg)": 84.74937344070824,
          "Phase shift (rad)": 1.479155605542594,
          "Photon energy (eV)": 14.3,
          "Polar ang (deg)": 32,
          "Target dataset": "good2"
         },
         {
          "Dataset / KE (eV)": "good2 / 4.0",
          "Phase shift (deg)": 86.43114568899796,
          "Phase shift (rad)": 1.5085080685439172,
          "Photon energy (eV)": 14.3,
          "Polar ang (deg)": 33,
          "Target dataset": "good2"
         },
         {
          "Dataset / KE (eV)": "good2 / 4.0",
          "Phase shift (deg)": 88.15386489022346,
          "Phase shift (rad)": 1.538575190692629,
          "Photon energy (eV)": 14.3,
          "Polar ang (deg)": 34,
          "Target dataset": "good2"
         },
         {
          "Dataset / KE (eV)": "good2 / 4.0",
          "Phase shift (deg)": 89.91306372075499,
          "Phase shift (rad)": 1.569279002482638,
          "Photon energy (eV)": 14.3,
          "Polar ang (deg)": 35,
          "Target dataset": "good2"
         },
         {
          "Dataset / KE (eV)": "good2 / 4.0",
          "Phase shift (deg)": 91.70380350970811,
          "Phase shift (rad)": 1.6005333078463382,
          "Photon energy (eV)": 14.3,
          "Polar ang (deg)": 36,
          "Target dataset": "good2"
         },
         {
          "Dataset / KE (eV)": "good2 / 4.0",
          "Phase shift (deg)": 93.52072293674311,
          "Phase shift (rad)": 1.632244534091548,
          "Photon energy (eV)": 14.3,
          "Polar ang (deg)": 37,
          "Target dataset": "good2"
         },
         {
          "Dataset / KE (eV)": "good2 / 4.0",
          "Phase shift (deg)": 95.35810217497473,
          "Phase shift (rad)": 1.664312851406475,
          "Photon energy (eV)": 14.3,
          "Polar ang (deg)": 38,
          "Target dataset": "good2"
         },
         {
          "Dataset / KE (eV)": "good2 / 4.0",
          "Phase shift (deg)": 97.20994091022737,
          "Phase shift (rad)": 1.6966335345526011,
          "Photon energy (eV)": 14.3,
          "Polar ang (deg)": 39,
          "Target dataset": "good2"
         },
         {
          "Dataset / KE (eV)": "good2 / 4.0",
          "Phase shift (deg)": 99.07004772323513,
          "Phase shift (rad)": 1.729098522878365,
          "Photon energy (eV)": 14.3,
          "Polar ang (deg)": 40,
          "Target dataset": "good2"
         },
         {
          "Dataset / KE (eV)": "good2 / 4.0",
          "Phase shift (deg)": 100.93213750355434,
          "Phase shift (rad)": 1.761598120512673,
          "Photon energy (eV)": 14.3,
          "Polar ang (deg)": 41,
          "Target dataset": "good2"
         },
         {
          "Dataset / KE (eV)": "good2 / 4.0",
          "Phase shift (deg)": 102.78993296094328,
          "Phase shift (rad)": 1.794022768072704,
          "Photon energy (eV)": 14.3,
          "Polar ang (deg)": 42,
          "Target dataset": "good2"
         },
         {
          "Dataset / KE (eV)": "good2 / 4.0",
          "Phase shift (deg)": 104.63726598705094,
          "Phase shift (rad)": 1.826264811759113,
          "Photon energy (eV)": 14.3,
          "Polar ang (deg)": 43,
          "Target dataset": "good2"
         },
         {
          "Dataset / KE (eV)": "good2 / 4.0",
          "Phase shift (deg)": 106.46817463178192,
          "Phase shift (rad)": 1.8582201959128961,
          "Photon energy (eV)": 14.3,
          "Polar ang (deg)": 44,
          "Target dataset": "good2"
         },
         {
          "Dataset / KE (eV)": "good2 / 4.0",
          "Phase shift (deg)": 108.2769917972417,
          "Phase shift (rad)": 1.88979001101676,
          "Photon energy (eV)": 14.3,
          "Polar ang (deg)": 45,
          "Target dataset": "good2"
         },
         {
          "Dataset / KE (eV)": "good2 / 4.0",
          "Phase shift (deg)": 110.058422372758,
          "Phase shift (rad)": 1.920881839955217,
          "Photon energy (eV)": 14.3,
          "Polar ang (deg)": 46,
          "Target dataset": "good2"
         },
         {
          "Dataset / KE (eV)": "good2 / 4.0",
          "Phase shift (deg)": 111.80760636655198,
          "Phase shift (rad)": 1.951410859870106,
          "Photon energy (eV)": 14.3,
          "Polar ang (deg)": 47,
          "Target dataset": "good2"
         },
         {
          "Dataset / KE (eV)": "good2 / 4.0",
          "Phase shift (deg)": 113.5201665387463,
          "Phase shift (rad)": 1.981300673513418,
          "Photon energy (eV)": 14.3,
          "Polar ang (deg)": 48,
          "Target dataset": "good2"
         },
         {
          "Dataset / KE (eV)": "good2 / 4.0",
          "Phase shift (deg)": 115.19224000834181,
          "Phase shift (rad)": 2.010483860893105,
          "Photon energy (eV)": 14.3,
          "Polar ang (deg)": 49,
          "Target dataset": "good2"
         },
         {
          "Dataset / KE (eV)": "good2 / 4.0",
          "Phase shift (deg)": 116.82049420461338,
          "Phase shift (rad)": 2.038902257677458,
          "Photon energy (eV)": 14.3,
          "Polar ang (deg)": 50,
          "Target dataset": "good2"
         },
         {
          "Dataset / KE (eV)": "good2 / 4.0",
          "Phase shift (deg)": 118.40212829116076,
          "Phase shift (rad)": 2.066506980049483,
          "Photon energy (eV)": 14.3,
          "Polar ang (deg)": 51,
          "Target dataset": "good2"
         },
         {
          "Dataset / KE (eV)": "good2 / 4.0",
          "Phase shift (deg)": 119.93486176513102,
          "Phase shift (rad)": 2.093258225725794,
          "Photon energy (eV)": 14.3,
          "Polar ang (deg)": 52,
          "Target dataset": "good2"
         },
         {
          "Dataset / KE (eV)": "good2 / 4.0",
          "Phase shift (deg)": 121.41691230752632,
          "Phase shift (rad)": 2.11912488737156,
          "Photon energy (eV)": 14.3,
          "Polar ang (deg)": 53,
          "Target dataset": "good2"
         },
         {
          "Dataset / KE (eV)": "good2 / 4.0",
          "Phase shift (deg)": 122.84696513950361,
          "Phase shift (rad)": 2.144084017767033,
          "Photon energy (eV)": 14.3,
          "Polar ang (deg)": 54,
          "Target dataset": "good2"
         },
         {
          "Dataset / KE (eV)": "good2 / 4.0",
          "Phase shift (deg)": 124.22413614930302,
          "Phase shift (rad)": 2.168120186251048,
          "Photon energy (eV)": 14.3,
          "Polar ang (deg)": 55,
          "Target dataset": "good2"
         },
         {
          "Dataset / KE (eV)": "good2 / 4.0",
          "Phase shift (deg)": 125.54793092568806,
          "Phase shift (rad)": 2.191224763719669,
          "Photon energy (eV)": 14.3,
          "Polar ang (deg)": 56,
          "Target dataset": "good2"
         },
         {
          "Dataset / KE (eV)": "good2 / 4.0",
          "Phase shift (deg)": 126.81820161495581,
          "Phase shift (rad)": 2.213395169638969,
          "Photon energy (eV)": 14.3,
          "Polar ang (deg)": 57,
          "Target dataset": "good2"
         },
         {
          "Dataset / KE (eV)": "good2 / 4.0",
          "Phase shift (deg)": 128.03510323352097,
          "Phase shift (rad)": 2.234634109555779,
          "Photon energy (eV)": 14.3,
          "Polar ang (deg)": 58,
          "Target dataset": "good2"
         },
         {
          "Dataset / KE (eV)": "good2 / 4.0",
          "Phase shift (deg)": 129.19905076479122,
          "Phase shift (rad)": 2.254948826296905,
          "Photon energy (eV)": 14.3,
          "Polar ang (deg)": 59,
          "Target dataset": "good2"
         },
         {
          "Dataset / KE (eV)": "good2 / 4.0",
          "Phase shift (deg)": 130.31067806334028,
          "Phase shift (rad)": 2.274350382711636,
          "Photon energy (eV)": 14.3,
          "Polar ang (deg)": 60,
          "Target dataset": "good2"
         },
         {
          "Dataset / KE (eV)": "good2 / 4.0",
          "Phase shift (deg)": 131.37079930540207,
          "Phase shift (rad)": 2.292852988855946,
          "Photon energy (eV)": 14.3,
          "Polar ang (deg)": 61,
          "Target dataset": "good2"
         },
         {
          "Dataset / KE (eV)": "good2 / 4.0",
          "Phase shift (deg)": 132.380373472267,
          "Phase shift (rad)": 2.310473382110817,
          "Photon energy (eV)": 14.3,
          "Polar ang (deg)": 62,
          "Target dataset": "good2"
         },
         {
          "Dataset / KE (eV)": "good2 / 4.0",
          "Phase shift (deg)": 133.34047214109822,
          "Phase shift (rad)": 2.327230265025937,
          "Photon energy (eV)": 14.3,
          "Polar ang (deg)": 63,
          "Target dataset": "good2"
         },
         {
          "Dataset / KE (eV)": "good2 / 4.0",
          "Phase shift (deg)": 134.25225068331181,
          "Phase shift (rad)": 2.343143802636598,
          "Photon energy (eV)": 14.3,
          "Polar ang (deg)": 64,
          "Target dataset": "good2"
         },
         {
          "Dataset / KE (eV)": "good2 / 4.0",
          "Phase shift (deg)": 135.1169228375048,
          "Phase shift (rad)": 2.358235178677578,
          "Photon energy (eV)": 14.3,
          "Polar ang (deg)": 65,
          "Target dataset": "good2"
         },
         {
          "Dataset / KE (eV)": "good2 / 4.0",
          "Phase shift (deg)": 135.9357385232674,
          "Phase shift (rad)": 2.3725262083611103,
          "Photon energy (eV)": 14.3,
          "Polar ang (deg)": 66,
          "Target dataset": "good2"
         },
         {
          "Dataset / KE (eV)": "good2 / 4.0",
          "Phase shift (deg)": 136.7099646928433,
          "Phase shift (rad)": 2.386039004175314,
          "Photon energy (eV)": 14.3,
          "Polar ang (deg)": 67,
          "Target dataset": "good2"
         },
         {
          "Dataset / KE (eV)": "good2 / 4.0",
          "Phase shift (deg)": 137.4408689719505,
          "Phase shift (rad)": 2.39879569036265,
          "Photon energy (eV)": 14.3,
          "Polar ang (deg)": 68,
          "Target dataset": "good2"
         },
         {
          "Dataset / KE (eV)": "good2 / 4.0",
          "Phase shift (deg)": 138.12970581452092,
          "Phase shift (rad)": 2.410818161274546,
          "Photon energy (eV)": 14.3,
          "Polar ang (deg)": 69,
          "Target dataset": "good2"
         },
         {
          "Dataset / KE (eV)": "good2 / 4.0",
          "Phase shift (deg)": 138.77770488393088,
          "Phase shift (rad)": 2.422127878585609,
          "Photon energy (eV)": 14.3,
          "Polar ang (deg)": 70,
          "Target dataset": "good2"
         },
         {
          "Dataset / KE (eV)": "good2 / 4.0",
          "Phase shift (deg)": 139.38606137014082,
          "Phase shift (rad)": 2.432745702295836,
          "Photon energy (eV)": 14.3,
          "Polar ang (deg)": 71,
          "Target dataset": "good2"
         },
         {
          "Dataset / KE (eV)": "good2 / 4.0",
          "Phase shift (deg)": 139.95592795315946,
          "Phase shift (rad)": 2.442691750466601,
          "Photon energy (eV)": 14.3,
          "Polar ang (deg)": 72,
          "Target dataset": "good2"
         },
         {
          "Dataset / KE (eV)": "good2 / 4.0",
          "Phase shift (deg)": 140.48840812573656,
          "Phase shift (rad)": 2.451985282679659,
          "Photon energy (eV)": 14.3,
          "Polar ang (deg)": 73,
          "Target dataset": "good2"
         },
         {
          "Dataset / KE (eV)": "good2 / 4.0",
          "Phase shift (deg)": 140.98455058390095,
          "Phase shift (rad)": 2.460644602133566,
          "Photon energy (eV)": 14.3,
          "Polar ang (deg)": 74,
          "Target dataset": "good2"
         },
         {
          "Dataset / KE (eV)": "good2 / 4.0",
          "Phase shift (deg)": 141.44534437847574,
          "Phase shift (rad)": 2.468686971021654,
          "Photon energy (eV)": 14.3,
          "Polar ang (deg)": 75,
          "Target dataset": "good2"
         },
         {
          "Dataset / KE (eV)": "good2 / 4.0",
          "Phase shift (deg)": 141.8717144809608,
          "Phase shift (rad)": 2.476128533142084,
          "Photon energy (eV)": 14.3,
          "Polar ang (deg)": 76,
          "Target dataset": "good2"
         },
         {
          "Dataset / KE (eV)": "good2 / 4.0",
          "Phase shift (deg)": 142.26451733599356,
          "Phase shift (rad)": 2.48298423627364,
          "Photon energy (eV)": 14.3,
          "Polar ang (deg)": 77,
          "Target dataset": "good2"
         },
         {
          "Dataset / KE (eV)": "good2 / 4.0",
          "Phase shift (deg)": 142.62453581199657,
          "Phase shift (rad)": 2.489267744047904,
          "Photon energy (eV)": 14.3,
          "Polar ang (deg)": 78,
          "Target dataset": "good2"
         },
         {
          "Dataset / KE (eV)": "good2 / 4.0",
          "Phase shift (deg)": 142.95247265441577,
          "Phase shift (rad)": 2.494991321686713,
          "Photon energy (eV)": 14.3,
          "Polar ang (deg)": 79,
          "Target dataset": "good2"
         },
         {
          "Dataset / KE (eV)": "good2 / 4.0",
          "Phase shift (deg)": 143.24894094272,
          "Phase shift (rad)": 2.5001656694453738,
          "Photon energy (eV)": 14.3,
          "Polar ang (deg)": 80,
          "Target dataset": "good2"
         },
         {
          "Dataset / KE (eV)": "good2 / 4.0",
          "Phase shift (deg)": 143.51444882822545,
          "Phase shift (rad)": 2.504799656237452,
          "Photon energy (eV)": 14.3,
          "Polar ang (deg)": 81,
          "Target dataset": "good2"
         },
         {
          "Dataset / KE (eV)": "good2 / 4.0",
          "Phase shift (deg)": 143.74937321101774,
          "Phase shift (rad)": 2.508899860210393,
          "Photon energy (eV)": 14.3,
          "Polar ang (deg)": 82,
          "Target dataset": "good2"
         },
         {
          "Dataset / KE (eV)": "good2 / 4.0",
          "Phase shift (deg)": 143.953911010091,
          "Phase shift (rad)": 2.512469718249004,
          "Photon energy (eV)": 14.3,
          "Polar ang (deg)": 83,
          "Target dataset": "good2"
         },
         {
          "Dataset / KE (eV)": "good2 / 4.0",
          "Phase shift (deg)": 144.1279816548905,
          "Phase shift (rad)": 2.515507824131825,
          "Photon energy (eV)": 14.3,
          "Polar ang (deg)": 84,
          "Target dataset": "good2"
         },
         {
          "Dataset / KE (eV)": "good2 / 4.0",
          "Phase shift (deg)": 144.27101234535894,
          "Phase shift (rad)": 2.5180041806119,
          "Photon energy (eV)": 14.3,
          "Polar ang (deg)": 85,
          "Target dataset": "good2"
         },
         {
          "Dataset / KE (eV)": "good2 / 4.0",
          "Phase shift (deg)": 144.38140089259582,
          "Phase shift (rad)": 2.519930824217677,
          "Photon energy (eV)": 14.3,
          "Polar ang (deg)": 86,
          "Target dataset": "good2"
         },
         {
          "Dataset / KE (eV)": "good2 / 4.0",
          "Phase shift (deg)": 144.45490427745426,
          "Phase shift (rad)": 2.521213700294817,
          "Photon energy (eV)": 14.3,
          "Polar ang (deg)": 87,
          "Target dataset": "good2"
         },
         {
          "Dataset / KE (eV)": "good2 / 4.0",
          "Phase shift (deg)": 144.47819693068817,
          "Phase shift (rad)": 2.5216202337852742,
          "Photon energy (eV)": 14.3,
          "Polar ang (deg)": 88,
          "Target dataset": "good2"
         },
         {
          "Dataset / KE (eV)": "good2 / 4.0",
          "Phase shift (deg)": 144.38385883569396,
          "Phase shift (rad)": 2.519973723417566,
          "Photon energy (eV)": 14.3,
          "Polar ang (deg)": 89,
          "Target dataset": "good2"
         },
         {
          "Dataset / KE (eV)": "good2 / 4.0",
          "Phase shift (deg)": 324.9265929071953,
          "Phase shift (rad)": 5.671038873517812,
          "Photon energy (eV)": 14.3,
          "Polar ang (deg)": 91,
          "Target dataset": "good2"
         },
         {
          "Dataset / KE (eV)": "good2 / 4.0",
          "Phase shift (deg)": 324.7492317209199,
          "Phase shift (rad)": 5.667943336852064,
          "Photon energy (eV)": 14.3,
          "Polar ang (deg)": 92,
          "Target dataset": "good2"
         },
         {
          "Dataset / KE (eV)": "good2 / 4.0",
          "Phase shift (deg)": 324.6352235826546,
          "Phase shift (rad)": 5.665953519465264,
          "Photon energy (eV)": 14.3,
          "Polar ang (deg)": 93,
          "Target dataset": "good2"
         },
         {
          "Dataset / KE (eV)": "good2 / 4.0",
          "Phase shift (deg)": 324.5162499929714,
          "Phase shift (rad)": 5.663877038602376,
          "Photon energy (eV)": 14.3,
          "Polar ang (deg)": 94,
          "Target dataset": "good2"
         },
         {
          "Dataset / KE (eV)": "good2 / 4.0",
          "Phase shift (deg)": 324.3784883798876,
          "Phase shift (rad)": 5.661472644871205,
          "Photon energy (eV)": 14.3,
          "Polar ang (deg)": 95,
          "Target dataset": "good2"
         },
         {
          "Dataset / KE (eV)": "good2 / 4.0",
          "Phase shift (deg)": 324.21713212549344,
          "Phase shift (rad)": 5.658656446963342,
          "Photon energy (eV)": 14.3,
          "Polar ang (deg)": 96,
          "Target dataset": "good2"
         },
         {
          "Dataset / KE (eV)": "good2 / 4.0",
          "Phase shift (deg)": 324.02990478761404,
          "Phase shift (rad)": 5.655388713467602,
          "Photon energy (eV)": 14.3,
          "Polar ang (deg)": 97,
          "Target dataset": "good2"
         },
         {
          "Dataset / KE (eV)": "good2 / 4.0",
          "Phase shift (deg)": 323.8154396597116,
          "Phase shift (rad)": 5.651645590854994,
          "Photon energy (eV)": 14.3,
          "Polar ang (deg)": 98,
          "Target dataset": "good2"
         },
         {
          "Dataset / KE (eV)": "good2 / 4.0",
          "Phase shift (deg)": 323.57273963494004,
          "Phase shift (rad)": 5.647409676328058,
          "Photon energy (eV)": 14.3,
          "Polar ang (deg)": 99,
          "Target dataset": "good2"
         },
         {
          "Dataset / KE (eV)": "good2 / 4.0",
          "Phase shift (deg)": 323.3009610274238,
          "Phase shift (rad)": 5.642666244790414,
          "Photon energy (eV)": 14.3,
          "Polar ang (deg)": 100,
          "Target dataset": "good2"
         },
         {
          "Dataset / KE (eV)": "good2 / 4.0",
          "Phase shift (deg)": 322.99931520840113,
          "Phase shift (rad)": 5.637401532073595,
          "Photon energy (eV)": 14.3,
          "Polar ang (deg)": 101,
          "Target dataset": "good2"
         },
         {
          "Dataset / KE (eV)": "good2 / 4.0",
          "Phase shift (deg)": 322.66701939982204,
          "Phase shift (rad)": 5.631601876123312,
          "Photon energy (eV)": 14.3,
          "Polar ang (deg)": 102,
          "Target dataset": "good2"
         },
         {
          "Dataset / KE (eV)": "good2 / 4.0",
          "Phase shift (deg)": 322.3032702627482,
          "Phase shift (rad)": 5.625253256030085,
          "Photon energy (eV)": 14.3,
          "Polar ang (deg)": 103,
          "Target dataset": "good2"
         },
         {
          "Dataset / KE (eV)": "good2 / 4.0",
          "Phase shift (deg)": 321.90722902573003,
          "Phase shift (rad)": 5.618341032470447,
          "Photon energy (eV)": 14.3,
          "Polar ang (deg)": 104,
          "Target dataset": "good2"
         },
         {
          "Dataset / KE (eV)": "good2 / 4.0",
          "Phase shift (deg)": 321.4780129480166,
          "Phase shift (rad)": 5.610849798711852,
          "Photon energy (eV)": 14.3,
          "Polar ang (deg)": 105,
          "Target dataset": "good2"
         },
         {
          "Dataset / KE (eV)": "good2 / 4.0",
          "Phase shift (deg)": 321.01469056735743,
          "Phase shift (rad)": 5.602763297671171,
          "Photon energy (eV)": 14.3,
          "Polar ang (deg)": 106,
          "Target dataset": "good2"
         },
         {
          "Dataset / KE (eV)": "good2 / 4.0",
          "Phase shift (deg)": 320.5162794390687,
          "Phase shift (rad)": 5.594064382453952,
          "Photon energy (eV)": 14.3,
          "Polar ang (deg)": 107,
          "Target dataset": "good2"
         },
         {
          "Dataset / KE (eV)": "good2 / 4.0",
          "Phase shift (deg)": 319.9817457115544,
          "Phase shift (rad)": 5.58473500894587,
          "Photon energy (eV)": 14.3,
          "Polar ang (deg)": 108,
          "Target dataset": "good2"
         },
         {
          "Dataset / KE (eV)": "good2 / 4.0",
          "Phase shift (deg)": 319.41000522836873,
          "Phase shift (rad)": 5.574756255047337,
          "Photon energy (eV)": 14.3,
          "Polar ang (deg)": 109,
          "Target dataset": "good2"
         },
         {
          "Dataset / KE (eV)": "good2 / 4.0",
          "Phase shift (deg)": 318.79992604624056,
          "Phase shift (rad)": 5.564108364621326,
          "Photon energy (eV)": 14.3,
          "Polar ang (deg)": 110,
          "Target dataset": "good2"
         },
         {
          "Dataset / KE (eV)": "good2 / 4.0",
          "Phase shift (deg)": 318.1503323821837,
          "Phase shift (rad)": 5.55277081638344,
          "Photon energy (eV)": 14.3,
          "Polar ang (deg)": 111,
          "Target dataset": "good2"
         },
         {
          "Dataset / KE (eV)": "good2 / 4.0",
          "Phase shift (deg)": 317.4600100846868,
          "Phase shift (rad)": 5.540722419392187,
          "Photon energy (eV)": 14.3,
          "Polar ang (deg)": 112,
          "Target dataset": "good2"
         },
         {
          "Dataset / KE (eV)": "good2 / 4.0",
          "Phase shift (deg)": 316.7277137815334,
          "Phase shift (rad)": 5.527941437801978,
          "Photon energy (eV)": 14.3,
          "Polar ang (deg)": 113,
          "Target dataset": "good2"
         },
         {
          "Dataset / KE (eV)": "good2 / 4.0",
          "Phase shift (deg)": 315.9521759001036,
          "Phase shift (rad)": 5.5144057482970865,
          "Photon energy (eV)": 14.3,
          "Polar ang (deg)": 114,
          "Target dataset": "good2"
         },
         {
          "Dataset / KE (eV)": "good2 / 4.0",
          "Phase shift (deg)": 315.13211778634377,
          "Phase shift (rad)": 5.500093034154283,
          "Photon energy (eV)": 14.3,
          "Polar ang (deg)": 115,
          "Target dataset": "good2"
         },
         {
          "Dataset / KE (eV)": "good2 / 4.0",
          "Phase shift (deg)": 314.2662631701711,
          "Phase shift (rad)": 5.484981020258479,
          "Photon energy (eV)": 14.3,
          "Polar ang (deg)": 116,
          "Target dataset": "good2"
         },
         {
          "Dataset / KE (eV)": "good2 / 4.0",
          "Phase shift (deg)": 313.3533542340714,
          "Phase shift (rad)": 5.46904775355266,
          "Photon energy (eV)": 14.3,
          "Polar ang (deg)": 117,
          "Target dataset": "good2"
         },
         {
          "Dataset / KE (eV)": "good2 / 4.0",
          "Phase shift (deg)": 312.3921705384343,
          "Phase shift (rad)": 5.452271933347305,
          "Photon energy (eV)": 14.3,
          "Polar ang (deg)": 118,
          "Target dataset": "good2"
         },
         {
          "Dataset / KE (eV)": "good2 / 4.0",
          "Phase shift (deg)": 311.38155103639514,
          "Phase shift (rad)": 5.434633295551857,
          "Photon energy (eV)": 14.3,
          "Polar ang (deg)": 119,
          "Target dataset": "good2"
         },
         {
          "Dataset / KE (eV)": "good2 / 4.0",
          "Phase shift (deg)": 310.32041936964987,
          "Phase shift (rad)": 5.416113054169976,
          "Photon energy (eV)": 14.3,
          "Polar ang (deg)": 120,
          "Target dataset": "good2"
         },
         {
          "Dataset / KE (eV)": "good2 / 4.0",
          "Phase shift (deg)": 309.20781256964045,
          "Phase shift (rad)": 5.396694402229734,
          "Photon energy (eV)": 14.3,
          "Polar ang (deg)": 121,
          "Target dataset": "good2"
         },
         {
          "Dataset / KE (eV)": "good2 / 4.0",
          "Phase shift (deg)": 308.04291319082137,
          "Phase shift (rad)": 5.376363072614904,
          "Photon energy (eV)": 14.3,
          "Polar ang (deg)": 122,
          "Target dataset": "good2"
         },
         {
          "Dataset / KE (eV)": "good2 / 4.0",
          "Phase shift (deg)": 306.82508476956366,
          "Phase shift (rad)": 5.355107956939593,
          "Photon energy (eV)": 14.3,
          "Polar ang (deg)": 123,
          "Target dataset": "good2"
         },
         {
          "Dataset / KE (eV)": "good2 / 4.0",
          "Phase shift (deg)": 305.5539103301312,
          "Phase shift (rad)": 5.332921777604303,
          "Photon energy (eV)": 14.3,
          "Polar ang (deg)": 124,
          "Target dataset": "good2"
         },
         {
          "Dataset / KE (eV)": "good2 / 4.0",
          "Phase shift (deg)": 304.2292334465723,
          "Phase shift (rad)": 5.309801804461143,
          "Photon energy (eV)": 14.3,
          "Polar ang (deg)": 125,
          "Target dataset": "good2"
         },
         {
          "Dataset / KE (eV)": "good2 / 4.0",
          "Phase shift (deg)": 302.8512011182291,
          "Phase shift (rad)": 5.28575060313263,
          "Photon energy (eV)": 14.3,
          "Polar ang (deg)": 126,
          "Target dataset": "good2"
         },
         {
          "Dataset / KE (eV)": "good2 / 4.0",
          "Phase shift (deg)": 301.42030743167334,
          "Phase shift (rad)": 5.2607767970562325,
          "Photon energy (eV)": 14.3,
          "Polar ang (deg)": 127,
          "Target dataset": "good2"
         },
         {
          "Dataset / KE (eV)": "good2 / 4.0",
          "Phase shift (deg)": 299.93743667822343,
          "Phase shift (rad)": 5.234895820027003,
          "Photon energy (eV)": 14.3,
          "Polar ang (deg)": 128,
          "Target dataset": "good2"
         },
         {
          "Dataset / KE (eV)": "good2 / 4.0",
          "Phase shift (deg)": 298.4039042898863,
          "Phase shift (rad)": 5.208130630664549,
          "Photon energy (eV)": 14.3,
          "Polar ang (deg)": 129,
          "Target dataset": "good2"
         },
         {
          "Dataset / KE (eV)": "good2 / 4.0",
          "Phase shift (deg)": 296.82149367608406,
          "Phase shift (rad)": 5.180512355335194,
          "Photon energy (eV)": 14.3,
          "Polar ang (deg)": 130,
          "Target dataset": "good2"
         },
         {
          "Dataset / KE (eV)": "good2 / 4.0",
          "Phase shift (deg)": 295.1924868211635,
          "Phase shift (rad)": 5.152080822179274,
          "Photon energy (eV)": 14.3,
          "Polar ang (deg)": 131,
          "Target dataset": "good2"
         },
         {
          "Dataset / KE (eV)": "good2 / 4.0",
          "Phase shift (deg)": 293.5196863768935,
          "Phase shift (rad)": 5.122884946697937,
          "Photon energy (eV)": 14.3,
          "Polar ang (deg)": 132,
          "Target dataset": "good2"
         },
         {
          "Dataset / KE (eV)": "good2 / 4.0",
          "Phase shift (deg)": 291.8064269939326,
          "Phase shift (rad)": 5.092982929524583,
          "Photon energy (eV)": 14.3,
          "Polar ang (deg)": 133,
          "Target dataset": "good2"
         },
         {
          "Dataset / KE (eV)": "good2 / 4.0",
          "Phase shift (deg)": 290.0565738164642,
          "Phase shift (rad)": 5.062442230151275,
          "Photon energy (eV)": 14.3,
          "Polar ang (deg)": 134,
          "Target dataset": "good2"
         },
         {
          "Dataset / KE (eV)": "good2 / 4.0",
          "Phase shift (deg)": 288.27450643875784,
          "Phase shift (rad)": 5.031339286917918,
          "Photon energy (eV)": 14.3,
          "Polar ang (deg)": 135,
          "Target dataset": "good2"
         },
         {
          "Dataset / KE (eV)": "good2 / 4.0",
          "Phase shift (deg)": 286.4650871980218,
          "Phase shift (rad)": 4.999758963618138,
          "Photon energy (eV)": 14.3,
          "Polar ang (deg)": 136,
          "Target dataset": "good2"
         },
         {
          "Dataset / KE (eV)": "good2 / 4.0",
          "Phase shift (deg)": 284.6336134370434,
          "Phase shift (rad)": 4.967793716325181,
          "Photon energy (eV)": 14.3,
          "Polar ang (deg)": 137,
          "Target dataset": "good2"
         },
         {
          "Dataset / KE (eV)": "good2 / 4.0",
          "Phase shift (deg)": 282.7857542687349,
          "Phase shift (rad)": 4.935542489725034,
          "Photon energy (eV)": 14.3,
          "Polar ang (deg)": 138,
          "Target dataset": "good2"
         },
         {
          "Dataset / KE (eV)": "good2 / 4.0",
          "Phase shift (deg)": 280.92747334382,
          "Phase shift (rad)": 4.903109369158264,
          "Photon energy (eV)": 14.3,
          "Polar ang (deg)": 139,
          "Target dataset": "good2"
         },
         {
          "Dataset / KE (eV)": "good2 / 4.0",
          "Phase shift (deg)": 279.06494007062224,
          "Phase shift (rad)": 4.870602031113014,
          "Photon energy (eV)": 14.3,
          "Polar ang (deg)": 140,
          "Target dataset": "good2"
         },
         {
          "Dataset / KE (eV)": "good2 / 4.0",
          "Phase shift (deg)": 277.20443257038886,
          "Phase shift (rad)": 4.838130049475893,
          "Photon energy (eV)": 14.3,
          "Polar ang (deg)": 141,
          "Target dataset": "good2"
         },
         {
          "Dataset / KE (eV)": "good2 / 4.0",
          "Phase shift (deg)": 275.35223626791935,
          "Phase shift (rad)": 4.805803125604536,
          "Photon energy (eV)": 14.3,
          "Polar ang (deg)": 142,
          "Target dataset": "good2"
         },
         {
          "Dataset / KE (eV)": "good2 / 4.0",
          "Phase shift (deg)": 273.5145423562943,
          "Phase shift (rad)": 4.773729316202825,
          "Photon energy (eV)": 14.3,
          "Polar ang (deg)": 143,
          "Target dataset": "good2"
         },
         {
          "Dataset / KE (eV)": "good2 / 4.0",
          "Phase shift (deg)": 271.69735038401683,
          "Phase shift (rad)": 4.742013333145774,
          "Photon energy (eV)": 14.3,
          "Polar ang (deg)": 144,
          "Target dataset": "good2"
         },
         {
          "Dataset / KE (eV)": "good2 / 4.0",
          "Phase shift (deg)": 269.9063788972967,
          "Phase shift (rad)": 4.710754983893169,
          "Photon energy (eV)": 14.3,
          "Polar ang (deg)": 145,
          "Target dataset": "good2"
         },
         {
          "Dataset / KE (eV)": "good2 / 4.0",
          "Phase shift (deg)": 268.1469874665169,
          "Phase shift (rad)": 4.680047810594688,
          "Photon energy (eV)": 14.3,
          "Polar ang (deg)": 146,
          "Target dataset": "good2"
         },
         {
          "Dataset / KE (eV)": "good2 / 4.0",
          "Phase shift (deg)": 266.42411260579837,
          "Phase shift (rad)": 4.649977971675311,
          "Photon energy (eV)": 14.3,
          "Polar ang (deg)": 147,
          "Target dataset": "good2"
         },
         {
          "Dataset / KE (eV)": "good2 / 4.0",
          "Phase shift (deg)": 264.7422191497167,
          "Phase shift (rad)": 4.6206233931989384,
          "Photon energy (eV)": 14.3,
          "Polar ang (deg)": 148,
          "Target dataset": "good2"
         },
         {
          "Dataset / KE (eV)": "good2 / 4.0",
          "Phase shift (deg)": 263.10526768141864,
          "Phase shift (rad)": 4.592053200381782,
          "Photon energy (eV)": 14.3,
          "Polar ang (deg)": 149,
          "Target dataset": "good2"
         },
         {
          "Dataset / KE (eV)": "good2 / 4.0",
          "Phase shift (deg)": 261.51669770058203,
          "Phase shift (rad)": 4.56432742381784,
          "Photon energy (eV)": 14.3,
          "Polar ang (deg)": 150,
          "Target dataset": "good2"
         },
         {
          "Dataset / KE (eV)": "good2 / 4.0",
          "Phase shift (deg)": 259.979425450094,
          "Phase shift (rad)": 4.537496961547282,
          "Photon energy (eV)": 14.3,
          "Polar ang (deg)": 151,
          "Target dataset": "good2"
         },
         {
          "Dataset / KE (eV)": "good2 / 4.0",
          "Phase shift (deg)": 258.49585473237704,
          "Phase shift (rad)": 4.511603767836945,
          "Photon energy (eV)": 14.3,
          "Polar ang (deg)": 152,
          "Target dataset": "good2"
         },
         {
          "Dataset / KE (eV)": "good2 / 4.0",
          "Phase shift (deg)": 257.0678986585035,
          "Phase shift (rad)": 4.486681232774,
          "Photon energy (eV)": 14.3,
          "Polar ang (deg)": 153,
          "Target dataset": "good2"
         },
         {
          "Dataset / KE (eV)": "good2 / 4.0",
          "Phase shift (deg)": 255.69701008132492,
          "Phase shift (rad)": 4.462754713424253,
          "Photon energy (eV)": 14.3,
          "Polar ang (deg)": 154,
          "Target dataset": "good2"
         },
         {
          "Dataset / KE (eV)": "good2 / 4.0",
          "Phase shift (deg)": 254.3842184438622,
          "Phase shift (rad)": 4.439842176957882,
          "Photon energy (eV)": 14.3,
          "Polar ang (deg)": 155,
          "Target dataset": "good2"
         },
         {
          "Dataset / KE (eV)": "good2 / 4.0",
          "Phase shift (deg)": 253.13017089313436,
          "Phase shift (rad)": 4.41795491822111,
          "Photon energy (eV)": 14.3,
          "Polar ang (deg)": 156,
          "Target dataset": "good2"
         },
         {
          "Dataset / KE (eV)": "good2 / 4.0",
          "Phase shift (deg)": 251.93517572626848,
          "Phase shift (rad)": 4.397098318013882,
          "Photon energy (eV)": 14.3,
          "Polar ang (deg)": 157,
          "Target dataset": "good2"
         },
         {
          "Dataset / KE (eV)": "good2 / 4.0",
          "Phase shift (deg)": 250.79924651418474,
          "Phase shift (rad)": 4.377272613193435,
          "Photon energy (eV)": 14.3,
          "Polar ang (deg)": 158,
          "Target dataset": "good2"
         },
         {
          "Dataset / KE (eV)": "good2 / 4.0",
          "Phase shift (deg)": 249.72214555332258,
          "Phase shift (rad)": 4.358473655049996,
          "Photon energy (eV)": 14.3,
          "Polar ang (deg)": 159,
          "Target dataset": "good2"
         },
         {
          "Dataset / KE (eV)": "good2 / 4.0",
          "Phase shift (deg)": 248.70342560117254,
          "Phase shift (rad)": 4.340693637729219,
          "Photon energy (eV)": 14.3,
          "Polar ang (deg)": 160,
          "Target dataset": "good2"
         },
         {
          "Dataset / KE (eV)": "good2 / 4.0",
          "Phase shift (deg)": 247.74246913745148,
          "Phase shift (rad)": 4.323921783468965,
          "Photon energy (eV)": 14.3,
          "Polar ang (deg)": 161,
          "Target dataset": "good2"
         },
         {
          "Dataset / KE (eV)": "good2 / 4.0",
          "Phase shift (deg)": 246.83852464680785,
          "Phase shift (rad)": 4.30814497585197,
          "Photon energy (eV)": 14.3,
          "Polar ang (deg)": 162,
          "Target dataset": "good2"
         },
         {
          "Dataset / KE (eV)": "good2 / 4.0",
          "Phase shift (deg)": 245.9907396343114,
          "Phase shift (rad)": 4.293348336034846,
          "Photon energy (eV)": 14.3,
          "Polar ang (deg)": 163,
          "Target dataset": "good2"
         },
         {
          "Dataset / KE (eV)": "good2 / 4.0",
          "Phase shift (deg)": 245.19819026018916,
          "Phase shift (rad)": 4.279515739971792,
          "Photon energy (eV)": 14.3,
          "Polar ang (deg)": 164,
          "Target dataset": "good2"
         },
         {
          "Dataset / KE (eV)": "good2 / 4.0",
          "Phase shift (deg)": 244.4599076161262,
          "Phase shift (rad)": 4.266630277022564,
          "Photon energy (eV)": 14.3,
          "Polar ang (deg)": 165,
          "Target dataset": "good2"
         },
         {
          "Dataset / KE (eV)": "good2 / 4.0",
          "Phase shift (deg)": 243.7749007660914,
          "Phase shift (rad)": 4.254674652090742,
          "Photon energy (eV)": 14.3,
          "Polar ang (deg)": 166,
          "Target dataset": "good2"
         },
         {
          "Dataset / KE (eV)": "good2 / 4.0",
          "Phase shift (deg)": 243.14217674451206,
          "Phase shift (rad)": 4.243631534657723,
          "Photon energy (eV)": 14.3,
          "Polar ang (deg)": 167,
          "Target dataset": "good2"
         },
         {
          "Dataset / KE (eV)": "good2 / 4.0",
          "Phase shift (deg)": 242.56075774900089,
          "Phase shift (rad)": 4.233483858852415,
          "Photon energy (eV)": 14.3,
          "Polar ang (deg)": 168,
          "Target dataset": "good2"
         },
         {
          "Dataset / KE (eV)": "good2 / 4.0",
          "Phase shift (deg)": 242.02969578871017,
          "Phase shift (rad)": 4.224215079113247,
          "Photon energy (eV)": 14.3,
          "Polar ang (deg)": 169,
          "Target dataset": "good2"
         },
         {
          "Dataset / KE (eV)": "good2 / 4.0",
          "Phase shift (deg)": 241.5480850574618,
          "Phase shift (rad)": 4.215809386140025,
          "Photon energy (eV)": 14.3,
          "Polar ang (deg)": 170,
          "Target dataset": "good2"
         },
         {
          "Dataset / KE (eV)": "good2 / 4.0",
          "Phase shift (deg)": 241.1150722971028,
          "Phase shift (rad)": 4.208251887768611,
          "Photon energy (eV)": 14.3,
          "Polar ang (deg)": 171,
          "Target dataset": "good2"
         },
         {
          "Dataset / KE (eV)": "good2 / 4.0",
          "Phase shift (deg)": 240.72986540446314,
          "Phase shift (rad)": 4.201528759190673,
          "Photon energy (eV)": 14.3,
          "Polar ang (deg)": 172,
          "Target dataset": "good2"
         },
         {
          "Dataset / KE (eV)": "good2 / 4.0",
          "Phase shift (deg)": 240.39174051741946,
          "Phase shift (rad)": 4.195627366628827,
          "Photon energy (eV)": 14.3,
          "Polar ang (deg)": 173,
          "Target dataset": "good2"
         },
         {
          "Dataset / KE (eV)": "good2 / 4.0",
          "Phase shift (deg)": 240.10004779438717,
          "Phase shift (rad)": 4.190536368207805,
          "Photon energy (eV)": 14.3,
          "Polar ang (deg)": 174,
          "Target dataset": "good2"
         },
         {
          "Dataset / KE (eV)": "good2 / 4.0",
          "Phase shift (deg)": 239.8542160781222,
          "Phase shift (rad)": 4.186245795353153,
          "Photon energy (eV)": 14.3,
          "Polar ang (deg)": 175,
          "Target dataset": "good2"
         },
         {
          "Dataset / KE (eV)": "good2 / 4.0",
          "Phase shift (deg)": 239.65375661076826,
          "Phase shift (rad)": 4.182747117631033,
          "Photon energy (eV)": 14.3,
          "Polar ang (deg)": 176,
          "Target dataset": "good2"
         },
         {
          "Dataset / KE (eV)": "good2 / 4.0",
          "Phase shift (deg)": 239.4982659427102,
          "Phase shift (rad)": 4.180033293517294,
          "Photon energy (eV)": 14.3,
          "Polar ang (deg)": 177,
          "Target dataset": "good2"
         },
         {
          "Dataset / KE (eV)": "good2 / 4.0",
          "Phase shift (deg)": 239.38742815428083,
          "Phase shift (rad)": 4.178098809173573,
          "Photon energy (eV)": 14.3,
          "Polar ang (deg)": 178,
          "Target dataset": "good2"
         },
         {
          "Dataset / KE (eV)": "good2 / 4.0",
          "Phase shift (deg)": 239.32101648619164,
          "Phase shift (rad)": 4.176939706903674,
          "Photon energy (eV)": 14.3,
          "Polar ang (deg)": 179,
          "Target dataset": "good2"
         },
         {
          "Dataset / KE (eV)": "good2 / 4.0",
          "Phase shift (deg)": 239.29889445221497,
          "Phase shift (rad)": 4.176553604573543,
          "Photon energy (eV)": 14.3,
          "Polar ang (deg)": 180,
          "Target dataset": "good2"
         },
         {
          "Dataset / KE (eV)": "good3 / 13.6",
          "Phase shift (deg)": 64.14363009316286,
          "Phase shift (rad)": 1.119517539307009,
          "Photon energy (eV)": 19.1,
          "Polar ang (deg)": 0,
          "Target dataset": "good3"
         },
         {
          "Dataset / KE (eV)": "good3 / 13.6",
          "Phase shift (deg)": 64.15256913118108,
          "Phase shift (rad)": 1.119673554952388,
          "Photon energy (eV)": 19.1,
          "Polar ang (deg)": 1,
          "Target dataset": "good3"
         },
         {
          "Dataset / KE (eV)": "good3 / 13.6",
          "Phase shift (deg)": 64.17940755746402,
          "Phase shift (rad)": 1.120141973857079,
          "Photon energy (eV)": 19.1,
          "Polar ang (deg)": 2,
          "Target dataset": "good3"
         },
         {
          "Dataset / KE (eV)": "good3 / 13.6",
          "Phase shift (deg)": 64.22420938952405,
          "Phase shift (rad)": 1.120923913337452,
          "Photon energy (eV)": 19.1,
          "Polar ang (deg)": 3,
          "Target dataset": "good3"
         },
         {
          "Dataset / KE (eV)": "good3 / 13.6",
          "Phase shift (deg)": 64.2870815932235,
          "Phase shift (rad)": 1.122021240299992,
          "Photon energy (eV)": 19.1,
          "Polar ang (deg)": 4,
          "Target dataset": "good3"
         },
         {
          "Dataset / KE (eV)": "good3 / 13.6",
          "Phase shift (deg)": 64.36817448790453,
          "Phase shift (rad)": 1.123436578312149,
          "Photon energy (eV)": 19.1,
          "Polar ang (deg)": 5,
          "Target dataset": "good3"
         },
         {
          "Dataset / KE (eV)": "good3 / 13.6",
          "Phase shift (deg)": 64.46768231374818,
          "Phase shift (rad)": 1.125173317504622,
          "Photon energy (eV)": 19.1,
          "Polar ang (deg)": 6,
          "Target dataset": "good3"
         },
         {
          "Dataset / KE (eV)": "good3 / 13.6",
          "Phase shift (deg)": 64.58584396137522,
          "Phase shift (rad)": 1.127235627305295,
          "Photon energy (eV)": 19.1,
          "Polar ang (deg)": 7,
          "Target dataset": "good3"
         },
         {
          "Dataset / KE (eV)": "good3 / 13.6",
          "Phase shift (deg)": 64.72294386379316,
          "Phase shift (rad)": 1.129628472006651,
          "Photon energy (eV)": 19.1,
          "Polar ang (deg)": 8,
          "Target dataset": "good3"
         },
         {
          "Dataset / KE (eV)": "good3 / 13.6",
          "Phase shift (deg)": 64.87931305005102,
          "Phase shift (rad)": 1.132357629155515,
          "Photon energy (eV)": 19.1,
          "Polar ang (deg)": 9,
          "Target dataset": "good3"
         },
         {
          "Dataset / KE (eV)": "good3 / 13.6",
          "Phase shift (deg)": 65.05533035965446,
          "Phase shift (rad)": 1.135429710748597,
          "Photon energy (eV)": 19.1,
          "Polar ang (deg)": 10,
          "Target dataset": "good3"
         },
         {
          "Dataset / KE (eV)": "good3 / 13.6",
          "Phase shift (deg)": 65.25142381611691,
          "Phase shift (rad)": 1.138852187205483,
          "Photon energy (eV)": 19.1,
          "Polar ang (deg)": 11,
          "Target dataset": "good3"
         },
         {
          "Dataset / KE (eV)": "good3 / 13.6",
          "Phase shift (deg)": 65.46807215662432,
          "Phase shift (rad)": 1.142633414066319,
          "Photon energy (eV)": 19.1,
          "Polar ang (deg)": 12,
          "Target dataset": "good3"
         },
         {
          "Dataset / KE (eV)": "good3 / 13.6",
          "Phase shift (deg)": 65.70580651347055,
          "Phase shift (rad)": 1.146782661338397,
          "Photon energy (eV)": 19.1,
          "Polar ang (deg)": 13,
          "Target dataset": "good3"
         },
         {
          "Dataset / KE (eV)": "good3 / 13.6",
          "Phase shift (deg)": 65.9652122411026,
          "Phase shift (rad)": 1.151310145384108,
          "Photon energy (eV)": 19.1,
          "Polar ang (deg)": 14,
          "Target dataset": "good3"
         },
         {
          "Dataset / KE (eV)": "good3 / 13.6",
          "Phase shift (deg)": 66.24693087922321,
          "Phase shift (rad)": 1.156227063183547,
          "Photon energy (eV)": 19.1,
          "Polar ang (deg)": 15,
          "Target dataset": "good3"
         },
         {
          "Dataset / KE (eV)": "good3 / 13.6",
          "Phase shift (deg)": 66.5516622404251,
          "Phase shift (rad)": 1.161545628770604,
          "Photon energy (eV)": 19.1,
          "Polar ang (deg)": 16,
          "Target dataset": "good3"
         },
         {
          "Dataset / KE (eV)": "good3 / 13.6",
          "Phase shift (deg)": 66.88016660503932,
          "Phase shift (rad)": 1.167279111540294,
          "Photon energy (eV)": 19.1,
          "Polar ang (deg)": 17,
          "Target dataset": "good3"
         },
         {
          "Dataset / KE (eV)": "good3 / 13.6",
          "Phase shift (deg)": 67.23326700199398,
          "Phase shift (rad)": 1.173441876057252,
          "Photon energy (eV)": 19.1,
          "Polar ang (deg)": 18,
          "Target dataset": "good3"
         },
         {
          "Dataset / KE (eV)": "good3 / 13.6",
          "Phase shift (deg)": 67.61185154695993,
          "Phase shift (rad)": 1.180049422864072,
          "Photon energy (eV)": 19.1,
          "Polar ang (deg)": 19,
          "Target dataset": "good3"
         },
         {
          "Dataset / KE (eV)": "good3 / 13.6",
          "Phase shift (deg)": 68.01687580161098,
          "Phase shift (rad)": 1.187118429658169,
          "Photon energy (eV)": 19.1,
          "Polar ang (deg)": 20,
          "Target dataset": "good3"
         },
         {
          "Dataset / KE (eV)": "good3 / 13.6",
          "Phase shift (deg)": 68.44936510766671,
          "Phase shift (rad)": 1.194666792028507,
          "Photon energy (eV)": 19.1,
          "Polar ang (deg)": 21,
          "Target dataset": "good3"
         },
         {
          "Dataset / KE (eV)": "good3 / 13.6",
          "Phase shift (deg)": 68.91041683742212,
          "Phase shift (rad)": 1.202713662734754,
          "Photon energy (eV)": 19.1,
          "Polar ang (deg)": 22,
          "Target dataset": "good3"
         },
         {
          "Dataset / KE (eV)": "good3 / 13.6",
          "Phase shift (deg)": 69.40120248840242,
          "Phase shift (rad)": 1.211279488265904,
          "Photon energy (eV)": 19.1,
          "Polar ang (deg)": 23,
          "Target dataset": "good3"
         },
         {
          "Dataset / KE (eV)": "good3 / 13.6",
          "Phase shift (deg)": 69.9229695320796,
          "Phase shift (rad)": 1.220386041106468,
          "Photon energy (eV)": 19.1,
          "Polar ang (deg)": 24,
          "Target dataset": "good3"
         },
         {
          "Dataset / KE (eV)": "good3 / 13.6",
          "Phase shift (deg)": 70.47704290639962,
          "Phase shift (rad)": 1.230056445785987,
          "Photon energy (eV)": 19.1,
          "Polar ang (deg)": 25,
          "Target dataset": "good3"
         },
         {
          "Dataset / KE (eV)": "good3 / 13.6",
          "Phase shift (deg)": 71.0648260173525,
          "Phase shift (rad)": 1.24031519635973,
          "Photon energy (eV)": 19.1,
          "Polar ang (deg)": 26,
          "Target dataset": "good3"
         },
         {
          "Dataset / KE (eV)": "good3 / 13.6",
          "Phase shift (deg)": 71.68780108703191,
          "Phase shift (rad)": 1.251188162483477,
          "Photon energy (eV)": 19.1,
          "Polar ang (deg)": 27,
          "Target dataset": "good3"
         },
         {
          "Dataset / KE (eV)": "good3 / 13.6",
          "Phase shift (deg)": 72.34752865240858,
          "Phase shift (rad)": 1.262702580665466,
          "Photon energy (eV)": 19.1,
          "Polar ang (deg)": 28,
          "Target dataset": "good3"
         },
         {
          "Dataset / KE (eV)": "good3 / 13.6",
          "Phase shift (deg)": 73.04564598171646,
          "Phase shift (rad)": 1.274887026627118,
          "Photon energy (eV)": 19.1,
          "Polar ang (deg)": 29,
          "Target dataset": "good3"
         },
         {
          "Dataset / KE (eV)": "good3 / 13.6",
          "Phase shift (deg)": 73.78386413368978,
          "Phase shift (rad)": 1.28777136397704,
          "Photon energy (eV)": 19.1,
          "Polar ang (deg)": 30,
          "Target dataset": "good3"
         },
         {
          "Dataset / KE (eV)": "good3 / 13.6",
          "Phase shift (deg)": 74.56396333734766,
          "Phase shift (rad)": 1.301386663573056,
          "Photon energy (eV)": 19.1,
          "Polar ang (deg)": 31,
          "Target dataset": "good3"
         },
         {
          "Dataset / KE (eV)": "good3 / 13.6",
          "Phase shift (deg)": 75.3877863202955,
          "Phase shift (rad)": 1.3157650870790971,
          "Photon energy (eV)": 19.1,
          "Polar ang (deg)": 32,
          "Target dataset": "good3"
         },
         {
          "Dataset / KE (eV)": "good3 / 13.6",
          "Phase shift (deg)": 76.25722915980108,
          "Phase shift (rad)": 1.3309397272863581,
          "Photon energy (eV)": 19.1,
          "Polar ang (deg)": 33,
          "Target dataset": "good3"
         },
         {
          "Dataset / KE (eV)": "good3 / 13.6",
          "Phase shift (deg)": 77.17422917787435,
          "Phase shift (rad)": 1.346944396842584,
          "Photon energy (eV)": 19.1,
          "Polar ang (deg)": 34,
          "Target dataset": "good3"
         },
         {
          "Dataset / KE (eV)": "good3 / 13.6",
          "Phase shift (deg)": 78.14074935022931,
          "Phase shift (rad)": 1.363813356137121,
          "Photon energy (eV)": 19.1,
          "Polar ang (deg)": 35,
          "Target dataset": "good3"
         },
         {
          "Dataset / KE (eV)": "good3 / 13.6",
          "Phase shift (deg)": 79.15875865704304,
          "Phase shift (rad)": 1.381580970356966,
          "Photon energy (eV)": 19.1,
          "Polar ang (deg)": 36,
          "Target dataset": "good3"
         },
         {
          "Dataset / KE (eV)": "good3 / 13.6",
          "Phase shift (deg)": 80.2302077724402,
          "Phase shift (rad)": 1.400281285188227,
          "Photon energy (eV)": 19.1,
          "Polar ang (deg)": 37,
          "Target dataset": "good3"
         },
         {
          "Dataset / KE (eV)": "good3 / 13.6",
          "Phase shift (deg)": 81.35699948561013,
          "Phase shift (rad)": 1.41994751056723,
          "Photon energy (eV)": 19.1,
          "Polar ang (deg)": 38,
          "Target dataset": "good3"
         },
         {
          "Dataset / KE (eV)": "good3 / 13.6",
          "Phase shift (deg)": 82.54095327122482,
          "Phase shift (rad)": 1.440611402317657,
          "Photon energy (eV)": 19.1,
          "Polar ang (deg)": 39,
          "Target dataset": "good3"
         },
         {
          "Dataset / KE (eV)": "good3 / 13.6",
          "Phase shift (deg)": 83.78376350208642,
          "Phase shift (rad)": 1.462302532823663,
          "Photon energy (eV)": 19.1,
          "Polar ang (deg)": 40,
          "Target dataset": "good3"
         },
         {
          "Dataset / KE (eV)": "good3 / 13.6",
          "Phase shift (deg)": 85.08695093172453,
          "Phase shift (rad)": 1.48504744424145,
          "Photon energy (eV)": 19.1,
          "Polar ang (deg)": 41,
          "Target dataset": "good3"
         },
         {
          "Dataset / KE (eV)": "good3 / 13.6",
          "Phase shift (deg)": 86.45180728870005,
          "Phase shift (rad)": 1.508868681487448,
          "Photon energy (eV)": 19.1,
          "Polar ang (deg)": 42,
          "Target dataset": "good3"
         },
         {
          "Dataset / KE (eV)": "good3 / 13.6",
          "Phase shift (deg)": 87.87933313243943,
          "Phase shift (rad)": 1.53378370761801,
          "Photon energy (eV)": 19.1,
          "Polar ang (deg)": 43,
          "Target dataset": "good3"
         },
         {
          "Dataset / KE (eV)": "good3 / 13.6",
          "Phase shift (deg)": 89.37016953538094,
          "Phase shift (rad)": 1.5598037114579282,
          "Photon energy (eV)": 19.1,
          "Polar ang (deg)": 44,
          "Target dataset": "good3"
         },
         {
          "Dataset / KE (eV)": "good3 / 13.6",
          "Phase shift (deg)": 90.9245246849847,
          "Phase shift (rad)": 1.586932326563843,
          "Photon energy (eV)": 19.1,
          "Polar ang (deg)": 45,
          "Target dataset": "good3"
         },
         {
          "Dataset / KE (eV)": "good3 / 13.6",
          "Phase shift (deg)": 92.54209713730654,
          "Phase shift (rad)": 1.6151642917464182,
          "Photon energy (eV)": 19.1,
          "Polar ang (deg)": 46,
          "Target dataset": "good3"
         },
         {
          "Dataset / KE (eV)": "good3 / 13.6",
          "Phase shift (deg)": 94.22199817997905,
          "Phase shift (rad)": 1.644484096048739,
          "Photon energy (eV)": 19.1,
          "Polar ang (deg)": 47,
          "Target dataset": "good3"
         },
         {
          "Dataset / KE (eV)": "good3 / 13.6",
          "Phase shift (deg)": 95.96267653483244,
          "Phase shift (rad)": 1.674864664559129,
          "Photon energy (eV)": 19.1,
          "Polar ang (deg)": 48,
          "Target dataset": "good3"
         },
         {
          "Dataset / KE (eV)": "good3 / 13.6",
          "Phase shift (deg)": 97.76184938159483,
          "Phase shift (rad)": 1.706266154547612,
          "Photon energy (eV)": 19.1,
          "Polar ang (deg)": 49,
          "Target dataset": "good3"
         },
         {
          "Dataset / KE (eV)": "good3 / 13.6",
          "Phase shift (deg)": 99.61644432057633,
          "Phase shift (rad)": 1.738634942523663,
          "Photon energy (eV)": 19.1,
          "Polar ang (deg)": 50,
          "Target dataset": "good3"
         },
         {
          "Dataset / KE (eV)": "good3 / 13.6",
          "Phase shift (deg)": 101.52255730036718,
          "Phase shift (rad)": 1.7719028899360132,
          "Photon energy (eV)": 19.1,
          "Polar ang (deg)": 51,
          "Target dataset": "good3"
         },
         {
          "Dataset / KE (eV)": "good3 / 13.6",
          "Phase shift (deg)": 103.4754315927221,
          "Phase shift (rad)": 1.805986976215161,
          "Photon energy (eV)": 19.1,
          "Polar ang (deg)": 52,
          "Target dataset": "good3"
         },
         {
          "Dataset / KE (eV)": "good3 / 13.6",
          "Phase shift (deg)": 105.46946248690054,
          "Phase shift (rad)": 1.840789380705061,
          "Photon energy (eV)": 19.1,
          "Polar ang (deg)": 53,
          "Target dataset": "good3"
         },
         {
          "Dataset / KE (eV)": "good3 / 13.6",
          "Phase shift (deg)": 107.49823141961977,
          "Phase shift (rad)": 1.876198078343183,
          "Photon energy (eV)": 19.1,
          "Polar ang (deg)": 54,
          "Target dataset": "good3"
         },
         {
          "Dataset / KE (eV)": "good3 / 13.6",
          "Phase shift (deg)": 109.55457174028844,
          "Phase shift (rad)": 1.9120879874803671,
          "Photon energy (eV)": 19.1,
          "Polar ang (deg)": 55,
          "Target dataset": "good3"
         },
         {
          "Dataset / KE (eV)": "good3 / 13.6",
          "Phase shift (deg)": 111.6306662964184,
          "Phase shift (rad)": 1.9483226730675651,
          "Photon energy (eV)": 19.1,
          "Polar ang (deg)": 56,
          "Target dataset": "good3"
         },
         {
          "Dataset / KE (eV)": "good3 / 13.6",
          "Phase shift (deg)": 113.71817467755567,
          "Phase shift (rad)": 1.9847565674813872,
          "Photon energy (eV)": 19.1,
          "Polar ang (deg)": 57,
          "Target dataset": "good3"
         },
         {
          "Dataset / KE (eV)": "good3 / 13.6",
          "Phase shift (deg)": 115.80838552161582,
          "Phase shift (rad)": 2.021237628771127,
          "Photon energy (eV)": 19.1,
          "Polar ang (deg)": 58,
          "Target dataset": "good3"
         },
         {
          "Dataset / KE (eV)": "good3 / 13.6",
          "Phase shift (deg)": 117.8923870655267,
          "Phase shift (rad)": 2.057610317329017,
          "Photon energy (eV)": 19.1,
          "Polar ang (deg)": 59,
          "Target dataset": "good3"
         },
         {
          "Dataset / KE (eV)": "good3 / 13.6",
          "Phase shift (deg)": 119.96124741811136,
          "Phase shift (rad)": 2.09371874224559,
          "Photon energy (eV)": 19.1,
          "Polar ang (deg)": 60,
          "Target dataset": "good3"
         },
         {
          "Dataset / KE (eV)": "good3 / 13.6",
          "Phase shift (deg)": 122.00619509452366,
          "Phase shift (rad)": 2.129409812229992,
          "Photon energy (eV)": 19.1,
          "Polar ang (deg)": 61,
          "Target dataset": "good3"
         },
         {
          "Dataset / KE (eV)": "good3 / 13.6",
          "Phase shift (deg)": 124.01879032246462,
          "Phase shift (rad)": 2.164536225467488,
          "Photon energy (eV)": 19.1,
          "Polar ang (deg)": 62,
          "Target dataset": "good3"
         },
         {
          "Dataset / KE (eV)": "good3 / 13.6",
          "Phase shift (deg)": 125.99107851004094,
          "Phase shift (rad)": 2.198959148138886,
          "Photon energy (eV)": 19.1,
          "Polar ang (deg)": 63,
          "Target dataset": "good3"
         },
         {
          "Dataset / KE (eV)": "good3 / 13.6",
          "Phase shift (deg)": 127.9157189345938,
          "Phase shift (rad)": 2.232550460464315,
          "Photon energy (eV)": 19.1,
          "Polar ang (deg)": 64,
          "Target dataset": "good3"
         },
         {
          "Dataset / KE (eV)": "good3 / 13.6",
          "Phase shift (deg)": 129.78608390091944,
          "Phase shift (rad)": 2.26519448734065,
          "Photon energy (eV)": 19.1,
          "Polar ang (deg)": 65,
          "Target dataset": "good3"
         },
         {
          "Dataset / KE (eV)": "good3 / 13.6",
          "Phase shift (deg)": 131.59632605464003,
          "Phase shift (rad)": 2.296789173181468,
          "Photon energy (eV)": 19.1,
          "Polar ang (deg)": 66,
          "Target dataset": "good3"
         },
         {
          "Dataset / KE (eV)": "good3 / 13.6",
          "Phase shift (deg)": 133.34141389724883,
          "Phase shift (rad)": 2.327246701771516,
          "Photon energy (eV)": 19.1,
          "Polar ang (deg)": 67,
          "Target dataset": "good3"
         },
         {
          "Dataset / KE (eV)": "good3 / 13.6",
          "Phase shift (deg)": 135.01713759210273,
          "Phase shift (rad)": 2.356493597600401,
          "Photon energy (eV)": 19.1,
          "Polar ang (deg)": 68,
          "Target dataset": "good3"
         },
         {
          "Dataset / KE (eV)": "good3 / 13.6",
          "Phase shift (deg)": 136.6200887076454,
          "Phase shift (rad)": 2.3844703723151373,
          "Photon energy (eV)": 19.1,
          "Polar ang (deg)": 69,
          "Target dataset": "good3"
         },
         {
          "Dataset / KE (eV)": "good3 / 13.6",
          "Phase shift (deg)": 138.14761854104103,
          "Phase shift (rad)": 2.411130797330331,
          "Photon energy (eV)": 19.1,
          "Polar ang (deg)": 70,
          "Target dataset": "good3"
         },
         {
          "Dataset / KE (eV)": "good3 / 13.6",
          "Phase shift (deg)": 139.5977801159542,
          "Phase shift (rad)": 2.436440891498472,
          "Photon energy (eV)": 19.1,
          "Polar ang (deg)": 71,
          "Target dataset": "good3"
         },
         {
          "Dataset / KE (eV)": "good3 / 13.6",
          "Phase shift (deg)": 140.96925893112308,
          "Phase shift (rad)": 2.46037771244452,
          "Photon energy (eV)": 19.1,
          "Polar ang (deg)": 72,
          "Target dataset": "good3"
         },
         {
          "Dataset / KE (eV)": "good3 / 13.6",
          "Phase shift (deg)": 142.2612971646607,
          "Phase shift (rad)": 2.482928033681403,
          "Photon energy (eV)": 19.1,
          "Polar ang (deg)": 73,
          "Target dataset": "good3"
         },
         {
          "Dataset / KE (eV)": "good3 / 13.6",
          "Phase shift (deg)": 143.4736154409797,
          "Phase shift (rad)": 2.504086979185272,
          "Photon energy (eV)": 19.1,
          "Polar ang (deg)": 74,
          "Target dataset": "good3"
         },
         {
          "Dataset / KE (eV)": "good3 / 13.6",
          "Phase shift (deg)": 144.60633556492056,
          "Phase shift (rad)": 2.523856674851638,
          "Photon energy (eV)": 19.1,
          "Polar ang (deg)": 75,
          "Target dataset": "good3"
         },
         {
          "Dataset / KE (eV)": "good3 / 13.6",
          "Phase shift (deg)": 145.65990692605976,
          "Phase shift (rad)": 2.542244964008235,
          "Photon energy (eV)": 19.1,
          "Polar ang (deg)": 76,
          "Target dataset": "good3"
         },
         {
          "Dataset / KE (eV)": "good3 / 13.6",
          "Phase shift (deg)": 146.63503866748363,
          "Phase shift (rad)": 2.559264223536788,
          "Photon energy (eV)": 19.1,
          "Polar ang (deg)": 77,
          "Target dataset": "good3"
         },
         {
          "Dataset / KE (eV)": "good3 / 13.6",
          "Phase shift (deg)": 147.53263928071922,
          "Phase shift (rad)": 2.5749303096056693,
          "Photon energy (eV)": 19.1,
          "Polar ang (deg)": 78,
          "Target dataset": "good3"
         },
         {
          "Dataset / KE (eV)": "good3 / 13.6",
          "Phase shift (deg)": 148.35376513693407,
          "Phase shift (rad)": 2.589261659369876,
          "Photon energy (eV)": 19.1,
          "Polar ang (deg)": 79,
          "Target dataset": "good3"
         },
         {
          "Dataset / KE (eV)": "good3 / 13.6",
          "Phase shift (deg)": 149.09957977226196,
          "Phase shift (rad)": 2.6022785803659083,
          "Photon energy (eV)": 19.1,
          "Polar ang (deg)": 80,
          "Target dataset": "good3"
         },
         {
          "Dataset / KE (eV)": "good3 / 13.6",
          "Phase shift (deg)": 149.77132688433704,
          "Phase shift (rad)": 2.614002779212382,
          "Photon energy (eV)": 19.1,
          "Polar ang (deg)": 81,
          "Target dataset": "good3"
         },
         {
          "Dataset / KE (eV)": "good3 / 13.6",
          "Phase shift (deg)": 150.37032287088843,
          "Phase shift (rad)": 2.624457231383935,
          "Photon energy (eV)": 19.1,
          "Polar ang (deg)": 82,
          "Target dataset": "good3"
         },
         {
          "Dataset / KE (eV)": "good3 / 13.6",
          "Phase shift (deg)": 150.89798165597654,
          "Phase shift (rad)": 2.633666614510796,
          "Photon energy (eV)": 19.1,
          "Polar ang (deg)": 83,
          "Target dataset": "good3"
         },
         {
          "Dataset / KE (eV)": "good3 / 13.6",
          "Phase shift (deg)": 151.3559021117604,
          "Phase shift (rad)": 2.6416588341764573,
          "Photon energy (eV)": 19.1,
          "Polar ang (deg)": 84,
          "Target dataset": "good3"
         },
         {
          "Dataset / KE (eV)": "good3 / 13.6",
          "Phase shift (deg)": 151.7460977322167,
          "Phase shift (rad)": 2.648469032480282,
          "Photon energy (eV)": 19.1,
          "Polar ang (deg)": 85,
          "Target dataset": "good3"
         },
         {
          "Dataset / KE (eV)": "good3 / 13.6",
          "Phase shift (deg)": 152.0716087072403,
          "Phase shift (rad)": 2.654150270745821,
          "Photon energy (eV)": 19.1,
          "Polar ang (deg)": 86,
          "Target dataset": "good3"
         },
         {
          "Dataset / KE (eV)": "good3 / 13.6",
          "Phase shift (deg)": 152.3383786420905,
          "Phase shift (rad)": 2.658806284454288,
          "Photon energy (eV)": 19.1,
          "Polar ang (deg)": 87,
          "Target dataset": "good3"
         },
         {
          "Dataset / KE (eV)": "good3 / 13.6",
          "Phase shift (deg)": 152.5628109006462,
          "Phase shift (rad)": 2.662723366313772,
          "Photon energy (eV)": 19.1,
          "Polar ang (deg)": 88,
          "Target dataset": "good3"
         },
         {
          "Dataset / KE (eV)": "good3 / 13.6",
          "Phase shift (deg)": 152.82477637478019,
          "Phase shift (rad)": 2.667295526363958,
          "Photon energy (eV)": 19.1,
          "Polar ang (deg)": 89,
          "Target dataset": "good3"
         },
         {
          "Dataset / KE (eV)": "good3 / 13.6",
          "Phase shift (deg)": 332.191647219984,
          "Phase shift (rad)": 5.797837991612189,
          "Photon energy (eV)": 19.1,
          "Polar ang (deg)": 91,
          "Target dataset": "good3"
         },
         {
          "Dataset / KE (eV)": "good3 / 13.6",
          "Phase shift (deg)": 332.2485948383523,
          "Phase shift (rad)": 5.798831915053885,
          "Photon energy (eV)": 19.1,
          "Polar ang (deg)": 92,
          "Target dataset": "good3"
         },
         {
          "Dataset / KE (eV)": "good3 / 13.6",
          "Phase shift (deg)": 332.13151230019605,
          "Phase shift (rad)": 5.796788439266466,
          "Photon energy (eV)": 19.1,
          "Polar ang (deg)": 93,
          "Target dataset": "good3"
         },
         {
          "Dataset / KE (eV)": "good3 / 13.6",
          "Phase shift (deg)": 331.91919963049406,
          "Phase shift (rad)": 5.793082884136467,
          "Photon energy (eV)": 19.1,
          "Polar ang (deg)": 94,
          "Target dataset": "good3"
         },
         {
          "Dataset / KE (eV)": "good3 / 13.6",
          "Phase shift (deg)": 331.6269876590201,
          "Phase shift (rad)": 5.787982823120503,
          "Photon energy (eV)": 19.1,
          "Polar ang (deg)": 95,
          "Target dataset": "good3"
         },
         {
          "Dataset / KE (eV)": "good3 / 13.6",
          "Phase shift (deg)": 331.2595102331791,
          "Phase shift (rad)": 5.781569132112825,
          "Photon energy (eV)": 19.1,
          "Polar ang (deg)": 96,
          "Target dataset": "good3"
         },
         {
          "Dataset / KE (eV)": "good3 / 13.6",
          "Phase shift (deg)": 330.81825955454195,
          "Phase shift (rad)": 5.773867854943946,
          "Photon energy (eV)": 19.1,
          "Polar ang (deg)": 97,
          "Target dataset": "good3"
         },
         {
          "Dataset / KE (eV)": "good3 / 13.6",
          "Phase shift (deg)": 330.303487346482,
          "Phase shift (rad)": 5.764883385015539,
          "Photon energy (eV)": 19.1,
          "Polar ang (deg)": 98,
          "Target dataset": "good3"
         },
         {
          "Dataset / KE (eV)": "good3 / 13.6",
          "Phase shift (deg)": 329.7148520287165,
          "Phase shift (rad)": 5.754609760627009,
          "Photon energy (eV)": 19.1,
          "Polar ang (deg)": 99,
          "Target dataset": "good3"
         },
         {
          "Dataset / KE (eV)": "good3 / 13.6",
          "Phase shift (deg)": 329.0516926961718,
          "Phase shift (rad)": 5.743035446808776,
          "Photon energy (eV)": 19.1,
          "Polar ang (deg)": 100,
          "Target dataset": "good3"
         },
         {
          "Dataset / KE (eV)": "good3 / 13.6",
          "Phase shift (deg)": 328.31317058660375,
          "Phase shift (rad)": 5.730145804398038,
          "Photon energy (eV)": 19.1,
          "Polar ang (deg)": 101,
          "Target dataset": "good3"
         },
         {
          "Dataset / KE (eV)": "good3 / 13.6",
          "Phase shift (deg)": 327.49835865977144,
          "Phase shift (rad)": 5.715924653490296,
          "Photon energy (eV)": 19.1,
          "Polar ang (deg)": 102,
          "Target dataset": "good3"
         },
         {
          "Dataset / KE (eV)": "good3 / 13.6",
          "Phase shift (deg)": 326.60631062895874,
          "Phase shift (rad)": 5.700355478266681,
          "Photon energy (eV)": 19.1,
          "Polar ang (deg)": 103,
          "Target dataset": "good3"
         },
         {
          "Dataset / KE (eV)": "good3 / 13.6",
          "Phase shift (deg)": 325.636123121298,
          "Phase shift (rad)": 5.683422511896284,
          "Photon energy (eV)": 19.1,
          "Polar ang (deg)": 104,
          "Target dataset": "good3"
         },
         {
          "Dataset / KE (eV)": "good3 / 13.6",
          "Phase shift (deg)": 324.58699747189576,
          "Phase shift (rad)": 5.665111815047091,
          "Photon energy (eV)": 19.1,
          "Polar ang (deg)": 105,
          "Target dataset": "good3"
         },
         {
          "Dataset / KE (eV)": "good3 / 13.6",
          "Phase shift (deg)": 323.4583043643369,
          "Phase shift (rad)": 5.645412404075623,
          "Photon energy (eV)": 19.1,
          "Polar ang (deg)": 106,
          "Target dataset": "good3"
         },
         {
          "Dataset / KE (eV)": "good3 / 13.6",
          "Phase shift (deg)": 322.2496527715818,
          "Phase shift (rad)": 5.624317454272573,
          "Photon energy (eV)": 19.1,
          "Polar ang (deg)": 107,
          "Target dataset": "good3"
         },
         {
          "Dataset / KE (eV)": "good3 / 13.6",
          "Phase shift (deg)": 320.9609635089352,
          "Phase shift (rad)": 5.601825583604292,
          "Photon energy (eV)": 19.1,
          "Polar ang (deg)": 108,
          "Target dataset": "good3"
         },
         {
          "Dataset / KE (eV)": "good3 / 13.6",
          "Phase shift (deg)": 319.59254679645636,
          "Phase shift (rad)": 5.577942206432219,
          "Photon energy (eV)": 19.1,
          "Polar ang (deg)": 109,
          "Target dataset": "good3"
         },
         {
          "Dataset / KE (eV)": "good3 / 13.6",
          "Phase shift (deg)": 318.14518237584105,
          "Phase shift (rad)": 5.552680931816262,
          "Photon energy (eV)": 19.1,
          "Polar ang (deg)": 110,
          "Target dataset": "good3"
         },
         {
          "Dataset / KE (eV)": "good3 / 13.6",
          "Phase shift (deg)": 316.62019987691986,
          "Phase shift (rad)": 5.526064966174797,
          "Photon energy (eV)": 19.1,
          "Polar ang (deg)": 111,
          "Target dataset": "good3"
         },
         {
          "Dataset / KE (eV)": "good3 / 13.6",
          "Phase shift (deg)": 315.0195562834228,
          "Phase shift (rad)": 5.498128465317318,
          "Photon energy (eV)": 19.1,
          "Polar ang (deg)": 112,
          "Target dataset": "good3"
         },
         {
          "Dataset / KE (eV)": "good3 / 13.6",
          "Phase shift (deg)": 313.3459065545942,
          "Phase shift (rad)": 5.46891776702415,
          "Photon energy (eV)": 19.1,
          "Polar ang (deg)": 113,
          "Target dataset": "good3"
         },
         {
          "Dataset / KE (eV)": "good3 / 13.6",
          "Phase shift (deg)": 311.60266280207844,
          "Phase shift (rad)": 5.438492423877928,
          "Photon energy (eV)": 19.1,
          "Polar ang (deg)": 114,
          "Target dataset": "good3"
         },
         {
          "Dataset / KE (eV)": "good3 / 13.6",
          "Phase shift (deg)": 309.79403700788725,
          "Phase shift (rad)": 5.406925948832795,
          "Photon energy (eV)": 19.1,
          "Polar ang (deg)": 115,
          "Target dataset": "good3"
         },
         {
          "Dataset / KE (eV)": "good3 / 13.6",
          "Phase shift (deg)": 307.92506222150627,
          "Phase shift (rad)": 5.374306185173689,
          "Photon energy (eV)": 19.1,
          "Polar ang (deg)": 116,
          "Target dataset": "good3"
         },
         {
          "Dataset / KE (eV)": "good3 / 13.6",
          "Phase shift (deg)": 306.00158760148827,
          "Phase shift (rad)": 5.340735219975828,
          "Photon energy (eV)": 19.1,
          "Polar ang (deg)": 117,
          "Target dataset": "good3"
         },
         {
          "Dataset / KE (eV)": "good3 / 13.6",
          "Phase shift (deg)": 304.0302436471197,
          "Phase shift (rad)": 5.306328777282811,
          "Photon energy (eV)": 19.1,
          "Polar ang (deg)": 118,
          "Target dataset": "good3"
         },
         {
          "Dataset / KE (eV)": "good3 / 13.6",
          "Phase shift (deg)": 302.0183755105253,
          "Phase shift (rad)": 5.271215054183276,
          "Photon energy (eV)": 19.1,
          "Polar ang (deg)": 119,
          "Target dataset": "good3"
         },
         {
          "Dataset / KE (eV)": "good3 / 13.6",
          "Phase shift (deg)": 299.973944318002,
          "Phase shift (rad)": 5.23553299854327,
          "Photon energy (eV)": 19.1,
          "Polar ang (deg)": 120,
          "Target dataset": "good3"
         },
         {
          "Dataset / KE (eV)": "good3 / 13.6",
          "Phase shift (deg)": 297.9053987925902,
          "Phase shift (rad)": 5.199430068397438,
          "Photon energy (eV)": 19.1,
          "Polar ang (deg)": 121,
          "Target dataset": "good3"
         },
         {
          "Dataset / KE (eV)": "good3 / 13.6",
          "Phase shift (deg)": 295.82152190891867,
          "Phase shift (rad)": 5.163059555571172,
          "Photon energy (eV)": 19.1,
          "Polar ang (deg)": 122,
          "Target dataset": "good3"
         },
         {
          "Dataset / KE (eV)": "good3 / 13.6",
          "Phase shift (deg)": 293.7312595208681,
          "Phase shift (rad)": 5.12657759466909,
          "Photon energy (eV)": 19.1,
          "Polar ang (deg)": 123,
          "Target dataset": "good3"
         },
         {
          "Dataset / KE (eV)": "good3 / 13.6",
          "Phase shift (deg)": 291.64353957964795,
          "Phase shift (rad)": 5.090140007835256,
          "Photon energy (eV)": 19.1,
          "Polar ang (deg)": 124,
          "Target dataset": "good3"
         },
         {
          "Dataset / KE (eV)": "good3 / 13.6",
          "Phase shift (deg)": 289.5670914584467,
          "Phase shift (rad)": 5.053899151373445,
          "Photon energy (eV)": 19.1,
          "Polar ang (deg)": 125,
          "Target dataset": "good3"
         },
         {
          "Dataset / KE (eV)": "good3 / 13.6",
          "Phase shift (deg)": 287.5102748827744,
          "Phase shift (rad)": 5.018000930018367,
          "Photon energy (eV)": 19.1,
          "Polar ang (deg)": 126,
          "Target dataset": "good3"
         },
         {
          "Dataset / KE (eV)": "good3 / 13.6",
          "Phase shift (deg)": 285.4809270357638,
          "Phase shift (rad)": 4.982582128419773,
          "Photon energy (eV)": 19.1,
          "Polar ang (deg)": 127,
          "Target dataset": "good3"
         },
         {
          "Dataset / KE (eV)": "good3 / 13.6",
          "Phase shift (deg)": 283.4862347060158,
          "Phase shift (rad)": 4.947768179701395,
          "Photon energy (eV)": 19.1,
          "Polar ang (deg)": 128,
          "Target dataset": "good3"
         },
         {
          "Dataset / KE (eV)": "good3 / 13.6",
          "Phase shift (deg)": 281.53263612122714,
          "Phase shift (rad)": 4.9136714521345315,
          "Photon energy (eV)": 19.1,
          "Polar ang (deg)": 129,
          "Target dataset": "good3"
         },
         {
          "Dataset / KE (eV)": "good3 / 13.6",
          "Phase shift (deg)": 279.6257546684197,
          "Phase shift (rad)": 4.880390092337828,
          "Photon energy (eV)": 19.1,
          "Polar ang (deg)": 130,
          "Target dataset": "good3"
         },
         {
          "Dataset / KE (eV)": "good3 / 13.6",
          "Phase shift (deg)": 277.77036434259355,
          "Phase shift (rad)": 4.848007422242512,
          "Photon energy (eV)": 19.1,
          "Polar ang (deg)": 131,
          "Target dataset": "good3"
         },
         {
          "Dataset / KE (eV)": "good3 / 13.6",
          "Phase shift (deg)": 275.97038474121825,
          "Phase shift (rad)": 4.816591851729777,
          "Photon energy (eV)": 19.1,
          "Polar ang (deg)": 132,
          "Target dataset": "good3"
         },
         {
          "Dataset / KE (eV)": "good3 / 13.6",
          "Phase shift (deg)": 274.228901890486,
          "Phase shift (rad)": 4.786197242117483,
          "Photon energy (eV)": 19.1,
          "Polar ang (deg)": 133,
          "Target dataset": "good3"
         },
         {
          "Dataset / KE (eV)": "good3 / 13.6",
          "Phase shift (deg)": 272.5482102255752,
          "Phase shift (rad)": 4.7568636388539645,
          "Photon energy (eV)": 19.1,
          "Polar ang (deg)": 134,
          "Target dataset": "good3"
         },
         {
          "Dataset / KE (eV)": "good3 / 13.6",
          "Phase shift (deg)": 270.9298706292363,
          "Phase shift (rad)": 4.7286182844824545,
          "Photon energy (eV)": 19.1,
          "Polar ang (deg)": 135,
          "Target dataset": "good3"
         },
         {
          "Dataset / KE (eV)": "good3 / 13.6",
          "Phase shift (deg)": 269.3747794850957,
          "Phase shift (rad)": 4.701476823848596,
          "Photon energy (eV)": 19.1,
          "Polar ang (deg)": 136,
          "Target dataset": "good3"
         },
         {
          "Dataset / KE (eV)": "good3 / 13.6",
          "Phase shift (deg)": 267.88324410862447,
          "Phase shift (rad)": 4.675444620619199,
          "Photon energy (eV)": 19.1,
          "Polar ang (deg)": 137,
          "Target dataset": "good3"
         },
         {
          "Dataset / KE (eV)": "good3 / 13.6",
          "Phase shift (deg)": 266.4550605557685,
          "Phase shift (rad)": 4.6505181152990325,
          "Photon energy (eV)": 19.1,
          "Polar ang (deg)": 138,
          "Target dataset": "good3"
         },
         {
          "Dataset / KE (eV)": "good3 / 13.6",
          "Phase shift (deg)": 265.0895905624391,
          "Phase shift (rad)": 4.626686168078249,
          "Photon energy (eV)": 19.1,
          "Polar ang (deg)": 139,
          "Target dataset": "good3"
         },
         {
          "Dataset / KE (eV)": "good3 / 13.6",
          "Phase shift (deg)": 263.78583514317063,
          "Phase shift (rad)": 4.603931343371295,
          "Photon energy (eV)": 19.1,
          "Polar ang (deg)": 140,
          "Target dataset": "good3"
         },
         {
          "Dataset / KE (eV)": "good3 / 13.6",
          "Phase shift (deg)": 262.5425031065972,
          "Phase shift (rad)": 4.582231105637563,
          "Photon energy (eV)": 19.1,
          "Polar ang (deg)": 141,
          "Target dataset": "good3"
         },
         {
          "Dataset / KE (eV)": "good3 / 13.6",
          "Phase shift (deg)": 261.3580733864592,
          "Phase shift (rad)": 4.561558907262679,
          "Photon energy (eV)": 19.1,
          "Polar ang (deg)": 142,
          "Target dataset": "good3"
         },
         {
          "Dataset / KE (eV)": "good3 / 13.6",
          "Phase shift (deg)": 260.2308506182463,
          "Phase shift (rad)": 4.541885158553919,
          "Photon energy (eV)": 19.1,
          "Polar ang (deg)": 143,
          "Target dataset": "good3"
         },
         {
          "Dataset / KE (eV)": "good3 / 13.6",
          "Phase shift (deg)": 259.1590138090023,
          "Phase shift (rad)": 4.5231780771885415,
          "Photon energy (eV)": 19.1,
          "Polar ang (deg)": 144,
          "Target dataset": "good3"
         },
         {
          "Dataset / KE (eV)": "good3 / 13.6",
          "Phase shift (deg)": 258.140658257392,
          "Phase shift (rad)": 4.505404419856978,
          "Photon energy (eV)": 19.1,
          "Polar ang (deg)": 145,
          "Target dataset": "good3"
         },
         {
          "Dataset / KE (eV)": "good3 / 13.6",
          "Phase shift (deg)": 257.1738310963719,
          "Phase shift (rad)": 4.4885301025994675,
          "Photon energy (eV)": 19.1,
          "Polar ang (deg)": 146,
          "Target dataset": "good3"
         },
         {
          "Dataset / KE (eV)": "good3 / 13.6",
          "Phase shift (deg)": 256.2565609665995,
          "Phase shift (rad)": 4.472520718704745,
          "Photon energy (eV)": 19.1,
          "Polar ang (deg)": 147,
          "Target dataset": "good3"
         },
         {
          "Dataset / KE (eV)": "good3 / 13.6",
          "Phase shift (deg)": 255.38688240461073,
          "Phase shift (rad)": 4.45734196436403,
          "Photon energy (eV)": 19.1,
          "Polar ang (deg)": 148,
          "Target dataset": "good3"
         },
         {
          "Dataset / KE (eV)": "good3 / 13.6",
          "Phase shift (deg)": 254.56285555471678,
          "Phase shift (rad)": 4.442959982708544,
          "Photon energy (eV)": 19.1,
          "Polar ang (deg)": 149,
          "Target dataset": "good3"
         },
         {
          "Dataset / KE (eV)": "good3 / 13.6",
          "Phase shift (deg)": 253.78258180929672,
          "Phase shift (rad)": 4.429341636784096,
          "Photon energy (eV)": 19.1,
          "Polar ang (deg)": 150,
          "Target dataset": "good3"
         },
         {
          "Dataset / KE (eV)": "good3 / 13.6",
          "Phase shift (deg)": 253.04421595200986,
          "Phase shift (rad)": 4.41645472149013,
          "Photon energy (eV)": 19.1,
          "Polar ang (deg)": 151,
          "Target dataset": "good3"
         },
         {
          "Dataset / KE (eV)": "good3 / 13.6",
          "Phase shift (deg)": 252.34597533535282,
          "Phase shift (rad)": 4.404268123758309,
          "Photon energy (eV)": 19.1,
          "Polar ang (deg)": 152,
          "Target dataset": "good3"
         },
         {
          "Dataset / KE (eV)": "good3 / 13.6",
          "Phase shift (deg)": 251.6861465733364,
          "Phase shift (rad)": 4.392751939361764,
          "Photon energy (eV)": 19.1,
          "Polar ang (deg)": 153,
          "Target dataset": "good3"
         },
         {
          "Dataset / KE (eV)": "good3 / 13.6",
          "Phase shift (deg)": 251.0630901761608,
          "Phase shift (rad)": 4.381877553805436,
          "Photon energy (eV)": 19.1,
          "Polar ang (deg)": 154,
          "Target dataset": "good3"
         },
         {
          "Dataset / KE (eV)": "good3 / 13.6",
          "Phase shift (deg)": 250.4752435004887,
          "Phase shift (rad)": 4.371617693818054,
          "Photon energy (eV)": 19.1,
          "Polar ang (deg)": 155,
          "Target dataset": "good3"
         },
         {
          "Dataset / KE (eV)": "good3 / 13.6",
          "Phase shift (deg)": 249.9211223383175,
          "Phase shift (rad)": 4.36194645508319,
          "Photon energy (eV)": 19.1,
          "Polar ang (deg)": 156,
          "Target dataset": "good3"
         },
         {
          "Dataset / KE (eV)": "good3 / 13.6",
          "Phase shift (deg)": 249.39932142044643,
          "Phase shift (rad)": 4.352839311026411,
          "Photon energy (eV)": 19.1,
          "Polar ang (deg)": 157,
          "Target dataset": "good3"
         },
         {
          "Dataset / KE (eV)": "good3 / 13.6",
          "Phase shift (deg)": 248.90851406824433,
          "Phase shift (rad)": 4.344273106737489,
          "Photon energy (eV)": 19.1,
          "Polar ang (deg)": 158,
          "Target dataset": "good3"
         },
         {
          "Dataset / KE (eV)": "good3 / 13.6",
          "Phase shift (deg)": 248.44745119002138,
          "Phase shift (rad)": 4.336226041453777,
          "Photon energy (eV)": 19.1,
          "Polar ang (deg)": 159,
          "Target dataset": "good3"
         },
         {
          "Dataset / KE (eV)": "good3 / 13.6",
          "Phase shift (deg)": 248.01495978519142,
          "Phase shift (rad)": 4.328677642452918,
          "Photon energy (eV)": 19.1,
          "Polar ang (deg)": 160,
          "Target dataset": "good3"
         },
         {
          "Dataset / KE (eV)": "good3 / 13.6",
          "Phase shift (deg)": 247.60994109130684,
          "Phase shift (rad)": 4.321608732712505,
          "Photon energy (eV)": 19.1,
          "Polar ang (deg)": 161,
          "Target dataset": "good3"
         },
         {
          "Dataset / KE (eV)": "good3 / 13.6",
          "Phase shift (deg)": 247.23136848469827,
          "Phase shift (rad)": 4.315001394269329,
          "Photon energy (eV)": 19.1,
          "Polar ang (deg)": 162,
          "Target dataset": "good3"
         },
         {
          "Dataset / KE (eV)": "good3 / 13.6",
          "Phase shift (deg)": 246.8782852246515,
          "Phase shift (rad)": 4.3088389288478375,
          "Photon energy (eV)": 19.1,
          "Polar ang (deg)": 163,
          "Target dataset": "good3"
         },
         {
          "Dataset / KE (eV)": "good3 / 13.6",
          "Phase shift (deg)": 246.54980211409395,
          "Phase shift (rad)": 4.303105817031415,
          "Photon energy (eV)": 19.1,
          "Polar ang (deg)": 164,
          "Target dataset": "good3"
         },
         {
          "Dataset / KE (eV)": "good3 / 13.6",
          "Phase shift (deg)": 246.245095135062,
          "Phase shift (rad)": 4.297787676993503,
          "Photon energy (eV)": 19.1,
          "Polar ang (deg)": 165,
          "Target dataset": "good3"
         },
         {
          "Dataset / KE (eV)": "good3 / 13.6",
          "Phase shift (deg)": 245.96340310528115,
          "Phase shift (rad)": 4.292871223597201,
          "Photon energy (eV)": 19.1,
          "Polar ang (deg)": 166,
          "Target dataset": "good3"
         },
         {
          "Dataset / KE (eV)": "good3 / 13.6",
          "Phase shift (deg)": 245.70402539237267,
          "Phase shift (rad)": 4.288344228500655,
          "Photon energy (eV)": 19.1,
          "Polar ang (deg)": 167,
          "Target dataset": "good3"
         },
         {
          "Dataset / KE (eV)": "good3 / 13.6",
          "Phase shift (deg)": 245.46631971410014,
          "Phase shift (rad)": 4.2841954817641135,
          "Photon energy (eV)": 19.1,
          "Polar ang (deg)": 168,
          "Target dataset": "good3"
         },
         {
          "Dataset / KE (eV)": "good3 / 13.6",
          "Phase shift (deg)": 245.24970004645695,
          "Phase shift (rad)": 4.280414755339164,
          "Photon energy (eV)": 19.1,
          "Polar ang (deg)": 169,
          "Target dataset": "good3"
         },
         {
          "Dataset / KE (eV)": "good3 / 13.6",
          "Phase shift (deg)": 245.0536346561625,
          "Phase shift (rad)": 4.276992768729318,
          "Photon energy (eV)": 19.1,
          "Polar ang (deg)": 170,
          "Target dataset": "good3"
         },
         {
          "Dataset / KE (eV)": "good3 / 13.6",
          "Phase shift (deg)": 244.8776442699665,
          "Phase shift (rad)": 4.273921157038341,
          "Photon energy (eV)": 19.1,
          "Polar ang (deg)": 171,
          "Target dataset": "good3"
         },
         {
          "Dataset / KE (eV)": "good3 / 13.6",
          "Phase shift (deg)": 244.72130038967035,
          "Phase shift (rad)": 4.27119244156183,
          "Photon energy (eV)": 19.1,
          "Polar ang (deg)": 172,
          "Target dataset": "good3"
         },
         {
          "Dataset / KE (eV)": "good3 / 13.6",
          "Phase shift (deg)": 244.58422375929734,
          "Phase shift (rad)": 4.268800003034281,
          "Photon energy (eV)": 19.1,
          "Polar ang (deg)": 173,
          "Target dataset": "good3"
         },
         {
          "Dataset / KE (eV)": "good3 / 13.6",
          "Phase shift (deg)": 244.46608298880253,
          "Phase shift (rad)": 4.266738057608304,
          "Photon energy (eV)": 19.1,
          "Polar ang (deg)": 174,
          "Target dataset": "good3"
         },
         {
          "Dataset / KE (eV)": "good3 / 13.6",
          "Phase shift (deg)": 244.36659333717955,
          "Phase shift (rad)": 4.265001635615821,
          "Photon energy (eV)": 19.1,
          "Polar ang (deg)": 175,
          "Target dataset": "good3"
         },
         {
          "Dataset / KE (eV)": "good3 / 13.6",
          "Phase shift (deg)": 244.28551565668286,
          "Phase shift (rad)": 4.263586563141274,
          "Photon energy (eV)": 19.1,
          "Polar ang (deg)": 176,
          "Target dataset": "good3"
         },
         {
          "Dataset / KE (eV)": "good3 / 13.6",
          "Phase shift (deg)": 244.22265549919362,
          "Phase shift (rad)": 4.262489446424764,
          "Photon energy (eV)": 19.1,
          "Polar ang (deg)": 177,
          "Target dataset": "good3"
         },
         {
          "Dataset / KE (eV)": "good3 / 13.6",
          "Phase shift (deg)": 244.17786238511084,
          "Phase shift (rad)": 4.261707659101798,
          "Photon energy (eV)": 19.1,
          "Polar ang (deg)": 178,
          "Target dataset": "good3"
         },
         {
          "Dataset / KE (eV)": "good3 / 13.6",
          "Phase shift (deg)": 244.15102923486944,
          "Phase shift (rad)": 4.261239332281404,
          "Photon energy (eV)": 19.1,
          "Polar ang (deg)": 179,
          "Target dataset": "good3"
         },
         {
          "Dataset / KE (eV)": "good3 / 13.6",
          "Phase shift (deg)": 244.14209196304492,
          "Phase shift (rad)": 4.26108334746192,
          "Photon energy (eV)": 19.1,
          "Polar ang (deg)": 180,
          "Target dataset": "good3"
         },
         {
          "Dataset / KE (eV)": "good4 / 7.2",
          "Phase shift (deg)": 61.702143234352306,
          "Phase shift (rad)": 1.076905554976591,
          "Photon energy (eV)": 15.9,
          "Polar ang (deg)": 0,
          "Target dataset": "good4"
         },
         {
          "Dataset / KE (eV)": "good4 / 7.2",
          "Phase shift (deg)": 61.70875990768029,
          "Phase shift (rad)": 1.077021037711693,
          "Photon energy (eV)": 15.9,
          "Polar ang (deg)": 1,
          "Target dataset": "good4"
         },
         {
          "Dataset / KE (eV)": "good4 / 7.2",
          "Phase shift (deg)": 61.7286398944671,
          "Phase shift (rad)": 1.077368008936376,
          "Photon energy (eV)": 15.9,
          "Polar ang (deg)": 2,
          "Target dataset": "good4"
         },
         {
          "Dataset / KE (eV)": "good4 / 7.2",
          "Phase shift (deg)": 61.761873409764064,
          "Phase shift (rad)": 1.07794804320032,
          "Photon energy (eV)": 15.9,
          "Polar ang (deg)": 3,
          "Target dataset": "good4"
         },
         {
          "Dataset / KE (eV)": "good4 / 7.2",
          "Phase shift (deg)": 61.80861186679703,
          "Phase shift (rad)": 1.078763783162847,
          "Photon energy (eV)": 15.9,
          "Polar ang (deg)": 4,
          "Target dataset": "good4"
         },
         {
          "Dataset / KE (eV)": "good4 / 7.2",
          "Phase shift (deg)": 61.86906947910297,
          "Phase shift (rad)": 1.07981896755548,
          "Photon energy (eV)": 15.9,
          "Polar ang (deg)": 5,
          "Target dataset": "good4"
         },
         {
          "Dataset / KE (eV)": "good4 / 7.2",
          "Phase shift (deg)": 61.94352554704363,
          "Phase shift (rad)": 1.081118471089133,
          "Photon energy (eV)": 15.9,
          "Polar ang (deg)": 6,
          "Target dataset": "good4"
         },
         {
          "Dataset / KE (eV)": "good4 / 7.2",
          "Phase shift (deg)": 62.03232746957091,
          "Phase shift (rad)": 1.082668357019335,
          "Photon energy (eV)": 15.9,
          "Polar ang (deg)": 7,
          "Target dataset": "good4"
         },
         {
          "Dataset / KE (eV)": "good4 / 7.2",
          "Phase shift (deg)": 62.135894541631934,
          "Phase shift (rad)": 1.08447594342345,
          "Photon energy (eV)": 15.9,
          "Polar ang (deg)": 8,
          "Target dataset": "good4"
         },
         {
          "Dataset / KE (eV)": "good4 / 7.2",
          "Phase shift (deg)": 62.25472260995728,
          "Phase shift (rad)": 1.086549884459512,
          "Photon energy (eV)": 15.9,
          "Polar ang (deg)": 9,
          "Target dataset": "good4"
         },
         {
          "Dataset / KE (eV)": "good4 / 7.2",
          "Phase shift (deg)": 62.38938968100632,
          "Phase shift (rad)": 1.088900268243335,
          "Photon energy (eV)": 15.9,
          "Polar ang (deg)": 10,
          "Target dataset": "good4"
         },
         {
          "Dataset / KE (eV)": "good4 / 7.2",
          "Phase shift (deg)": 62.54056259473719,
          "Phase shift (rad)": 1.091538733327772,
          "Photon energy (eV)": 15.9,
          "Polar ang (deg)": 11,
          "Target dataset": "good4"
         },
         {
          "Dataset / KE (eV)": "good4 / 7.2",
          "Phase shift (deg)": 62.70900490298148,
          "Phase shift (rad)": 1.0944786062062941,
          "Photon energy (eV)": 15.9,
          "Polar ang (deg)": 12,
          "Target dataset": "good4"
         },
         {
          "Dataset / KE (eV)": "good4 / 7.2",
          "Phase shift (deg)": 62.895586121232064,
          "Phase shift (rad)": 1.097735062787149,
          "Photon energy (eV)": 15.9,
          "Polar ang (deg)": 13,
          "Target dataset": "good4"
         },
         {
          "Dataset / KE (eV)": "good4 / 7.2",
          "Phase shift (deg)": 63.10129255679904,
          "Phase shift (rad)": 1.1013253173803341,
          "Photon energy (eV)": 15.9,
          "Polar ang (deg)": 14,
          "Target dataset": "good4"
         },
         {
          "Dataset / KE (eV)": "good4 / 7.2",
          "Phase shift (deg)": 63.32723995736451,
          "Phase shift (rad)": 1.105268843456524,
          "Photon energy (eV)": 15.9,
          "Polar ang (deg)": 15,
          "Target dataset": "good4"
         },
         {
          "Dataset / KE (eV)": "good4 / 7.2",
          "Phase shift (deg)": 63.57468827516798,
          "Phase shift (rad)": 1.109587631330716,
          "Photon energy (eV)": 15.9,
          "Polar ang (deg)": 16,
          "Target dataset": "good4"
         },
         {
          "Dataset / KE (eV)": "good4 / 7.2",
          "Phase shift (deg)": 63.845058901489395,
          "Phase shift (rad)": 1.114306488960704,
          "Photon energy (eV)": 15.9,
          "Polar ang (deg)": 17,
          "Target dataset": "good4"
         },
         {
          "Dataset / KE (eV)": "good4 / 7.2",
          "Phase shift (deg)": 64.1399547982956,
          "Phase shift (rad)": 1.119453393310594,
          "Photon energy (eV)": 15.9,
          "Polar ang (deg)": 18,
          "Target dataset": "good4"
         },
         {
          "Dataset / KE (eV)": "good4 / 7.2",
          "Phase shift (deg)": 64.46118404530262,
          "Phase shift (rad)": 1.1250599013245681,
          "Photon energy (eV)": 15.9,
          "Polar ang (deg)": 19,
          "Target dataset": "good4"
         },
         {
          "Dataset / KE (eV)": "good4 / 7.2",
          "Phase shift (deg)": 64.81078742526829,
          "Phase shift (rad)": 1.13116163138107,
          "Photon energy (eV)": 15.9,
          "Polar ang (deg)": 20,
          "Target dataset": "good4"
         },
         {
          "Dataset / KE (eV)": "good4 / 7.2",
          "Phase shift (deg)": 65.19107080612551,
          "Phase shift (rad)": 1.137798828467644,
          "Photon energy (eV)": 15.9,
          "Polar ang (deg)": 21,
          "Target dataset": "good4"
         },
         {
          "Dataset / KE (eV)": "good4 / 7.2",
          "Phase shift (deg)": 65.6046432371169,
          "Phase shift (rad)": 1.145017029083921,
          "Photon energy (eV)": 15.9,
          "Polar ang (deg)": 22,
          "Target dataset": "good4"
         },
         {
          "Dataset / KE (eV)": "good4 / 7.2",
          "Phase shift (deg)": 66.05446187571195,
          "Phase shift (rad)": 1.152867845364243,
          "Photon energy (eV)": 15.9,
          "Polar ang (deg)": 23,
          "Target dataset": "good4"
         },
         {
          "Dataset / KE (eV)": "good4 / 7.2",
          "Phase shift (deg)": 66.5438851037904,
          "Phase shift (rad)": 1.161409892129951,
          "Photon energy (eV)": 15.9,
          "Polar ang (deg)": 24,
          "Target dataset": "good4"
         },
         {
          "Dataset / KE (eV)": "good4 / 7.2",
          "Phase shift (deg)": 67.07673548553191,
          "Phase shift (rad)": 1.170709885711849,
          "Photon energy (eV)": 15.9,
          "Polar ang (deg)": 25,
          "Target dataset": "good4"
         },
         {
          "Dataset / KE (eV)": "good4 / 7.2",
          "Phase shift (deg)": 67.65737458009735,
          "Phase shift (rad)": 1.180843949677815,
          "Photon energy (eV)": 15.9,
          "Polar ang (deg)": 26,
          "Target dataset": "good4"
         },
         {
          "Dataset / KE (eV)": "good4 / 7.2",
          "Phase shift (deg)": 68.29079205263646,
          "Phase shift (rad)": 1.191899170113283,
          "Photon energy (eV)": 15.9,
          "Polar ang (deg)": 27,
          "Target dataset": "good4"
         },
         {
          "Dataset / KE (eV)": "good4 / 7.2",
          "Phase shift (deg)": 68.98271204753604,
          "Phase shift (rad)": 1.203975452184663,
          "Photon energy (eV)": 15.9,
          "Polar ang (deg)": 28,
          "Target dataset": "good4"
         },
         {
          "Dataset / KE (eV)": "good4 / 7.2",
          "Phase shift (deg)": 69.73972038866376,
          "Phase shift (rad)": 1.217187740202402,
          "Photon energy (eV)": 15.9,
          "Polar ang (deg)": 29,
          "Target dataset": "good4"
         },
         {
          "Dataset / KE (eV)": "good4 / 7.2",
          "Phase shift (deg)": 70.56941686577242,
          "Phase shift (rad)": 1.231668675520146,
          "Photon energy (eV)": 15.9,
          "Polar ang (deg)": 30,
          "Target dataset": "good4"
         },
         {
          "Dataset / KE (eV)": "good4 / 7.2",
          "Phase shift (deg)": 71.48059760911337,
          "Phase shift (rad)": 1.247571779572215,
          "Photon energy (eV)": 15.9,
          "Polar ang (deg)": 31,
          "Target dataset": "good4"
         },
         {
          "Dataset / KE (eV)": "good4 / 7.2",
          "Phase shift (deg)": 72.48347329226475,
          "Phase shift (rad)": 1.2650752622313939,
          "Photon energy (eV)": 15.9,
          "Polar ang (deg)": 32,
          "Target dataset": "good4"
         },
         {
          "Dataset / KE (eV)": "good4 / 7.2",
          "Phase shift (deg)": 73.58992948349363,
          "Phase shift (rad)": 1.284386565797414,
          "Photon energy (eV)": 15.9,
          "Polar ang (deg)": 33,
          "Target dataset": "good4"
         },
         {
          "Dataset / KE (eV)": "good4 / 7.2",
          "Phase shift (deg)": 74.8138356099031,
          "Phase shift (rad)": 1.305747757438589,
          "Photon energy (eV)": 15.9,
          "Polar ang (deg)": 34,
          "Target dataset": "good4"
         },
         {
          "Dataset / KE (eV)": "good4 / 7.2",
          "Phase shift (deg)": 76.17140817926423,
          "Phase shift (rad)": 1.3294418686087,
          "Photon energy (eV)": 15.9,
          "Polar ang (deg)": 35,
          "Target dataset": "good4"
         },
         {
          "Dataset / KE (eV)": "good4 / 7.2",
          "Phase shift (deg)": 77.68163117955908,
          "Phase shift (rad)": 1.3558002324031921,
          "Photon energy (eV)": 15.9,
          "Polar ang (deg)": 36,
          "Target dataset": "good4"
         },
         {
          "Dataset / KE (eV)": "good4 / 7.2",
          "Phase shift (deg)": 79.36673030310342,
          "Phase shift (rad)": 1.385210760331512,
          "Photon energy (eV)": 15.9,
          "Polar ang (deg)": 37,
          "Target dataset": "good4"
         },
         {
          "Dataset / KE (eV)": "good4 / 7.2",
          "Phase shift (deg)": 81.25268502459504,
          "Phase shift (rad)": 1.418126879765073,
          "Photon energy (eV)": 15.9,
          "Polar ang (deg)": 38,
          "Target dataset": "good4"
         },
         {
          "Dataset / KE (eV)": "good4 / 7.2",
          "Phase shift (deg)": 83.36973905910354,
          "Phase shift (rad)": 1.455076443109876,
          "Photon energy (eV)": 15.9,
          "Polar ang (deg)": 39,
          "Target dataset": "good4"
         },
         {
          "Dataset / KE (eV)": "good4 / 7.2",
          "Phase shift (deg)": 85.75282825215128,
          "Phase shift (rad)": 1.496669195897254,
          "Photon energy (eV)": 15.9,
          "Polar ang (deg)": 40,
          "Target dataset": "good4"
         },
         {
          "Dataset / KE (eV)": "good4 / 7.2",
          "Phase shift (deg)": 88.4417754680965,
          "Phase shift (rad)": 1.543600178227833,
          "Photon energy (eV)": 15.9,
          "Polar ang (deg)": 41,
          "Target dataset": "good4"
         },
         {
          "Dataset / KE (eV)": "good4 / 7.2",
          "Phase shift (deg)": 91.48099245794245,
          "Phase shift (rad)": 1.5966445213831961,
          "Photon energy (eV)": 15.9,
          "Polar ang (deg)": 42,
          "Target dataset": "good4"
         },
         {
          "Dataset / KE (eV)": "good4 / 7.2",
          "Phase shift (deg)": 94.91827029702677,
          "Phase shift (rad)": 1.656636336981053,
          "Photon energy (eV)": 15.9,
          "Polar ang (deg)": 43,
          "Target dataset": "good4"
         },
         {
          "Dataset / KE (eV)": "good4 / 7.2",
          "Phase shift (deg)": 98.80204315430483,
          "Phase shift (rad)": 1.724420960740143,
          "Photon energy (eV)": 15.9,
          "Polar ang (deg)": 44,
          "Target dataset": "good4"
         },
         {
          "Dataset / KE (eV)": "good4 / 7.2",
          "Phase shift (deg)": 103.17633902586351,
          "Phase shift (rad)": 1.800766826155237,
          "Photon energy (eV)": 15.9,
          "Polar ang (deg)": 45,
          "Target dataset": "good4"
         },
         {
          "Dataset / KE (eV)": "good4 / 7.2",
          "Phase shift (deg)": 108.07266009842303,
          "Phase shift (rad)": 1.886223750106181,
          "Photon energy (eV)": 15.9,
          "Polar ang (deg)": 46,
          "Target dataset": "good4"
         },
         {
          "Dataset / KE (eV)": "good4 / 7.2",
          "Phase shift (deg)": 113.49859538289942,
          "Phase shift (rad)": 1.9809241858204292,
          "Photon energy (eV)": 15.9,
          "Polar ang (deg)": 47,
          "Target dataset": "good4"
         },
         {
          "Dataset / KE (eV)": "good4 / 7.2",
          "Phase shift (deg)": 119.42445910674894,
          "Phase shift (rad)": 2.084350018826095,
          "Photon energy (eV)": 15.9,
          "Polar ang (deg)": 48,
          "Target dataset": "good4"
         },
         {
          "Dataset / KE (eV)": "good4 / 7.2",
          "Phase shift (deg)": 125.77170576557417,
          "Phase shift (rad)": 2.195130371458805,
          "Photon energy (eV)": 15.9,
          "Polar ang (deg)": 49,
          "Target dataset": "good4"
         },
         {
          "Dataset / KE (eV)": "good4 / 7.2",
          "Phase shift (deg)": 132.4091833824481,
          "Phase shift (rad)": 2.310976209900682,
          "Photon energy (eV)": 15.9,
          "Polar ang (deg)": 50,
          "Target dataset": "good4"
         },
         {
          "Dataset / KE (eV)": "good4 / 7.2",
          "Phase shift (deg)": 139.162932207552,
          "Phase shift (rad)": 2.428851363751443,
          "Photon energy (eV)": 15.9,
          "Polar ang (deg)": 51,
          "Target dataset": "good4"
         },
         {
          "Dataset / KE (eV)": "good4 / 7.2",
          "Phase shift (deg)": 145.84018048649122,
          "Phase shift (rad)": 2.5453913311920573,
          "Photon energy (eV)": 15.9,
          "Polar ang (deg)": 52,
          "Target dataset": "good4"
         },
         {
          "Dataset / KE (eV)": "good4 / 7.2",
          "Phase shift (deg)": 152.26037453599935,
          "Phase shift (rad)": 2.657444855972922,
          "Photon energy (eV)": 15.9,
          "Polar ang (deg)": 53,
          "Target dataset": "good4"
         },
         {
          "Dataset / KE (eV)": "good4 / 7.2",
          "Phase shift (deg)": 158.28158597383836,
          "Phase shift (rad)": 2.762534820521955,
          "Photon energy (eV)": 15.9,
          "Polar ang (deg)": 54,
          "Target dataset": "good4"
         },
         {
          "Dataset / KE (eV)": "good4 / 7.2",
          "Phase shift (deg)": 163.81363267388477,
          "Phase shift (rad)": 2.859087249811852,
          "Photon energy (eV)": 15.9,
          "Polar ang (deg)": 55,
          "Target dataset": "good4"
         },
         {
          "Dataset / KE (eV)": "good4 / 7.2",
          "Phase shift (deg)": 168.8169143453418,
          "Phase shift (rad)": 2.946410988383462,
          "Photon energy (eV)": 15.9,
          "Polar ang (deg)": 56,
          "Target dataset": "good4"
         },
         {
          "Dataset / KE (eV)": "good4 / 7.2",
          "Phase shift (deg)": 173.29197874029256,
          "Phase shift (rad)": 3.024515596314121,
          "Photon energy (eV)": 15.9,
          "Polar ang (deg)": 57,
          "Target dataset": "good4"
         },
         {
          "Dataset / KE (eV)": "good4 / 7.2",
          "Phase shift (deg)": 177.2661322458534,
          "Phase shift (rad)": 3.093877659965832,
          "Photon energy (eV)": 15.9,
          "Polar ang (deg)": 58,
          "Target dataset": "good4"
         },
         {
          "Dataset / KE (eV)": "good4 / 7.2",
          "Phase shift (deg)": 180.78143517871428,
          "Phase shift (rad)": 3.155231270349267,
          "Photon energy (eV)": 15.9,
          "Polar ang (deg)": 59,
          "Target dataset": "good4"
         },
         {
          "Dataset / KE (eV)": "good4 / 7.2",
          "Phase shift (deg)": 183.88584690621434,
          "Phase shift (rad)": 3.209413476331669,
          "Photon energy (eV)": 15.9,
          "Polar ang (deg)": 60,
          "Target dataset": "good4"
         },
         {
          "Dataset / KE (eV)": "good4 / 7.2",
          "Phase shift (deg)": 186.627559234989,
          "Phase shift (rad)": 3.257265383611308,
          "Photon energy (eV)": 15.9,
          "Polar ang (deg)": 61,
          "Target dataset": "good4"
         },
         {
          "Dataset / KE (eV)": "good4 / 7.2",
          "Phase shift (deg)": 189.05182373761446,
          "Phase shift (rad)": 3.299576781121345,
          "Photon energy (eV)": 15.9,
          "Polar ang (deg)": 62,
          "Target dataset": "good4"
         },
         {
          "Dataset / KE (eV)": "good4 / 7.2",
          "Phase shift (deg)": 191.199466893033,
          "Phase shift (rad)": 3.337060225341318,
          "Photon energy (eV)": 15.9,
          "Polar ang (deg)": 63,
          "Target dataset": "good4"
         },
         {
          "Dataset / KE (eV)": "good4 / 7.2",
          "Phase shift (deg)": 193.1064341444715,
          "Phase shift (rad)": 3.370343082606627,
          "Photon energy (eV)": 15.9,
          "Polar ang (deg)": 64,
          "Target dataset": "good4"
         },
         {
          "Dataset / KE (eV)": "good4 / 7.2",
          "Phase shift (deg)": 194.80390350769954,
          "Phase shift (rad)": 3.399969511946688,
          "Photon energy (eV)": 15.9,
          "Polar ang (deg)": 65,
          "Target dataset": "good4"
         },
         {
          "Dataset / KE (eV)": "good4 / 7.2",
          "Phase shift (deg)": 196.31867824988177,
          "Phase shift (rad)": 3.426407318623816,
          "Photon energy (eV)": 15.9,
          "Polar ang (deg)": 66,
          "Target dataset": "good4"
         },
         {
          "Dataset / KE (eV)": "good4 / 7.2",
          "Phase shift (deg)": 197.67368803117958,
          "Phase shift (rad)": 3.450056700704191,
          "Photon energy (eV)": 15.9,
          "Polar ang (deg)": 67,
          "Target dataset": "good4"
         },
         {
          "Dataset / KE (eV)": "good4 / 7.2",
          "Phase shift (deg)": 198.88850514755032,
          "Phase shift (rad)": 3.471259259194443,
          "Photon energy (eV)": 15.9,
          "Polar ang (deg)": 68,
          "Target dataset": "good4"
         },
         {
          "Dataset / KE (eV)": "good4 / 7.2",
          "Phase shift (deg)": 199.97982917726452,
          "Phase shift (rad)": 3.490306456719089,
          "Photon energy (eV)": 15.9,
          "Polar ang (deg)": 69,
          "Target dataset": "good4"
         },
         {
          "Dataset / KE (eV)": "good4 / 7.2",
          "Phase shift (deg)": 200.9619200929566,
          "Phase shift (rad)": 3.507447176751842,
          "Photon energy (eV)": 15.9,
          "Polar ang (deg)": 70,
          "Target dataset": "good4"
         },
         {
          "Dataset / KE (eV)": "good4 / 7.2",
          "Phase shift (deg)": 201.846974462759,
          "Phase shift (rad)": 3.522894289564057,
          "Photon energy (eV)": 15.9,
          "Polar ang (deg)": 71,
          "Target dataset": "good4"
         },
         {
          "Dataset / KE (eV)": "good4 / 7.2",
          "Phase shift (deg)": 202.64544677890083,
          "Phase shift (rad)": 3.536830260466757,
          "Photon energy (eV)": 15.9,
          "Polar ang (deg)": 72,
          "Target dataset": "good4"
         },
         {
          "Dataset / KE (eV)": "good4 / 7.2",
          "Phase shift (deg)": 203.36632133825916,
          "Phase shift (rad)": 3.5494118950214233,
          "Photon energy (eV)": 15.9,
          "Polar ang (deg)": 73,
          "Target dataset": "good4"
         },
         {
          "Dataset / KE (eV)": "good4 / 7.2",
          "Phase shift (deg)": 204.01734132632092,
          "Phase shift (rad)": 3.560774337309395,
          "Photon energy (eV)": 15.9,
          "Polar ang (deg)": 74,
          "Target dataset": "good4"
         },
         {
          "Dataset / KE (eV)": "good4 / 7.2",
          "Phase shift (deg)": 204.60520191025316,
          "Phase shift (rad)": 3.571034440041709,
          "Photon energy (eV)": 15.9,
          "Polar ang (deg)": 75,
          "Target dataset": "good4"
         },
         {
          "Dataset / KE (eV)": "good4 / 7.2",
          "Phase shift (deg)": 205.13571386683597,
          "Phase shift (rad)": 3.580293620405276,
          "Photon energy (eV)": 15.9,
          "Polar ang (deg)": 76,
          "Target dataset": "good4"
         },
         {
          "Dataset / KE (eV)": "good4 / 7.2",
          "Phase shift (deg)": 205.61394395261044,
          "Phase shift (rad)": 3.588640309984136,
          "Photon energy (eV)": 15.9,
          "Polar ang (deg)": 77,
          "Target dataset": "good4"
         },
         {
          "Dataset / KE (eV)": "good4 / 7.2",
          "Phase shift (deg)": 206.04433817161663,
          "Phase shift (rad)": 3.596152106187343,
          "Photon energy (eV)": 15.9,
          "Polar ang (deg)": 78,
          "Target dataset": "good4"
         },
         {
          "Dataset / KE (eV)": "good4 / 7.2",
          "Phase shift (deg)": 206.43083466516035,
          "Phase shift (rad)": 3.602897742547094,
          "Photon energy (eV)": 15.9,
          "Polar ang (deg)": 79,
          "Target dataset": "good4"
         },
         {
          "Dataset / KE (eV)": "good4 / 7.2",
          "Phase shift (deg)": 206.77697474277394,
          "Phase shift (rad)": 3.60893902657456,
          "Photon energy (eV)": 15.9,
          "Polar ang (deg)": 80,
          "Target dataset": "good4"
         },
         {
          "Dataset / KE (eV)": "good4 / 7.2",
          "Phase shift (deg)": 207.0860248805561,
          "Phase shift (rad)": 3.614332969032601,
          "Photon energy (eV)": 15.9,
          "Polar ang (deg)": 81,
          "Target dataset": "good4"
         },
         {
          "Dataset / KE (eV)": "good4 / 7.2",
          "Phase shift (deg)": 207.36113233823392,
          "Phase shift (rad)": 3.61913449996587,
          "Photon energy (eV)": 15.9,
          "Polar ang (deg)": 82,
          "Target dataset": "good4"
         },
         {
          "Dataset / KE (eV)": "good4 / 7.2",
          "Phase shift (deg)": 207.60556014391264,
          "Phase shift (rad)": 3.623400569958388,
          "Photon energy (eV)": 15.9,
          "Polar ang (deg)": 83,
          "Target dataset": "good4"
         },
         {
          "Dataset / KE (eV)": "good4 / 7.2",
          "Phase shift (deg)": 207.82310547037753,
          "Phase shift (rad)": 3.6271974521775263,
          "Photon energy (eV)": 15.9,
          "Polar ang (deg)": 84,
          "Target dataset": "good4"
         },
         {
          "Dataset / KE (eV)": "good4 / 7.2",
          "Phase shift (deg)": 208.01896887536955,
          "Phase shift (rad)": 3.6306159134788043,
          "Photon energy (eV)": 15.9,
          "Polar ang (deg)": 85,
          "Target dataset": "good4"
         },
         {
          "Dataset / KE (eV)": "good4 / 7.2",
          "Phase shift (deg)": 208.20187220291422,
          "Phase shift (rad)": 3.633808178757313,
          "Photon energy (eV)": 15.9,
          "Polar ang (deg)": 86,
          "Target dataset": "good4"
         },
         {
          "Dataset / KE (eV)": "good4 / 7.2",
          "Phase shift (deg)": 208.3903362045216,
          "Phase shift (rad)": 3.637097496106845,
          "Photon energy (eV)": 15.9,
          "Polar ang (deg)": 87,
          "Target dataset": "good4"
         },
         {
          "Dataset / KE (eV)": "good4 / 7.2",
          "Phase shift (deg)": 208.63757452900865,
          "Phase shift (rad)": 3.641412618906258,
          "Photon energy (eV)": 15.9,
          "Polar ang (deg)": 88,
          "Target dataset": "good4"
         },
         {
          "Dataset / KE (eV)": "good4 / 7.2",
          "Phase shift (deg)": 209.20321293636445,
          "Phase shift (rad)": 3.651284871490354,
          "Photon energy (eV)": 15.9,
          "Polar ang (deg)": 89,
          "Target dataset": "good4"
         },
         {
          "Dataset / KE (eV)": "good4 / 7.2",
          "Phase shift (deg)": 387.05776422236517,
          "Phase shift (rad)": 6.755432381088182,
          "Photon energy (eV)": 15.9,
          "Polar ang (deg)": 91,
          "Target dataset": "good4"
         },
         {
          "Dataset / KE (eV)": "good4 / 7.2",
          "Phase shift (deg)": 387.5650356018259,
          "Phase shift (rad)": 6.7642859368609045,
          "Photon energy (eV)": 15.9,
          "Polar ang (deg)": 92,
          "Target dataset": "good4"
         },
         {
          "Dataset / KE (eV)": "good4 / 7.2",
          "Phase shift (deg)": 387.67539396573085,
          "Phase shift (rad)": 6.76621205366816,
          "Photon energy (eV)": 15.9,
          "Polar ang (deg)": 93,
          "Target dataset": "good4"
         },
         {
          "Dataset / KE (eV)": "good4 / 7.2",
          "Phase shift (deg)": 387.6657369349621,
          "Phase shift (rad)": 6.766043506685279,
          "Photon energy (eV)": 15.9,
          "Polar ang (deg)": 94,
          "Target dataset": "good4"
         },
         {
          "Dataset / KE (eV)": "good4 / 7.2",
          "Phase shift (deg)": 387.59012501237197,
          "Phase shift (rad)": 6.7647238296823184,
          "Photon energy (eV)": 15.9,
          "Polar ang (deg)": 95,
          "Target dataset": "good4"
         },
         {
          "Dataset / KE (eV)": "good4 / 7.2",
          "Phase shift (deg)": 387.46579196397704,
          "Phase shift (rad)": 6.762553808618785,
          "Photon energy (eV)": 15.9,
          "Polar ang (deg)": 96,
          "Target dataset": "good4"
         },
         {
          "Dataset / KE (eV)": "good4 / 7.2",
          "Phase shift (deg)": 387.29933801033565,
          "Phase shift (rad)": 6.759648639074781,
          "Photon energy (eV)": 15.9,
          "Polar ang (deg)": 97,
          "Target dataset": "good4"
         },
         {
          "Dataset / KE (eV)": "good4 / 7.2",
          "Phase shift (deg)": 387.0932227637765,
          "Phase shift (rad)": 6.756051249383765,
          "Photon energy (eV)": 15.9,
          "Polar ang (deg)": 98,
          "Target dataset": "good4"
         },
         {
          "Dataset / KE (eV)": "good4 / 7.2",
          "Phase shift (deg)": 386.8479039907883,
          "Phase shift (rad)": 6.751769629078168,
          "Photon energy (eV)": 15.9,
          "Polar ang (deg)": 99,
          "Target dataset": "good4"
         },
         {
          "Dataset / KE (eV)": "good4 / 7.2",
          "Phase shift (deg)": 386.56267099667775,
          "Phase shift (rad)": 6.746791374195617,
          "Photon energy (eV)": 15.9,
          "Polar ang (deg)": 100,
          "Target dataset": "good4"
         },
         {
          "Dataset / KE (eV)": "good4 / 7.2",
          "Phase shift (deg)": 386.2360001613497,
          "Phase shift (rad)": 6.741089892548901,
          "Photon energy (eV)": 15.9,
          "Polar ang (deg)": 101,
          "Target dataset": "good4"
         },
         {
          "Dataset / KE (eV)": "good4 / 7.2",
          "Phase shift (deg)": 385.8657069128885,
          "Phase shift (rad)": 6.734627056165349,
          "Photon energy (eV)": 15.9,
          "Polar ang (deg)": 102,
          "Target dataset": "good4"
         },
         {
          "Dataset / KE (eV)": "good4 / 7.2",
          "Phase shift (deg)": 385.4489984802979,
          "Phase shift (rad)": 6.727354121995818,
          "Photon energy (eV)": 15.9,
          "Polar ang (deg)": 103,
          "Target dataset": "good4"
         },
         {
          "Dataset / KE (eV)": "good4 / 7.2",
          "Phase shift (deg)": 384.98247097942595,
          "Phase shift (rad)": 6.719211681054502,
          "Photon energy (eV)": 15.9,
          "Polar ang (deg)": 104,
          "Target dataset": "good4"
         },
         {
          "Dataset / KE (eV)": "good4 / 7.2",
          "Phase shift (deg)": 384.46206984822277,
          "Phase shift (rad)": 6.710128967883904,
          "Photon energy (eV)": 15.9,
          "Polar ang (deg)": 105,
          "Target dataset": "good4"
         },
         {
          "Dataset / KE (eV)": "good4 / 7.2",
          "Phase shift (deg)": 383.88302165707194,
          "Phase shift (rad)": 6.700022670420603,
          "Photon energy (eV)": 15.9,
          "Polar ang (deg)": 106,
          "Target dataset": "good4"
         },
         {
          "Dataset / KE (eV)": "good4 / 7.2",
          "Phase shift (deg)": 383.239739801358,
          "Phase shift (rad)": 6.688795284020056,
          "Photon energy (eV)": 15.9,
          "Polar ang (deg)": 107,
          "Target dataset": "good4"
         },
         {
          "Dataset / KE (eV)": "good4 / 7.2",
          "Phase shift (deg)": 382.525703494138,
          "Phase shift (rad)": 6.676332999480286,
          "Photon energy (eV)": 15.9,
          "Polar ang (deg)": 108,
          "Target dataset": "good4"
         },
         {
          "Dataset / KE (eV)": "good4 / 7.2",
          "Phase shift (deg)": 381.7333074638197,
          "Phase shift (rad)": 6.662503079771498,
          "Photon energy (eV)": 15.9,
          "Polar ang (deg)": 109,
          "Target dataset": "good4"
         },
         {
          "Dataset / KE (eV)": "good4 / 7.2",
          "Phase shift (deg)": 380.85367829361866,
          "Phase shift (rad)": 6.647150654554904,
          "Photon energy (eV)": 15.9,
          "Polar ang (deg)": 110,
          "Target dataset": "good4"
         },
         {
          "Dataset / KE (eV)": "good4 / 7.2",
          "Phase shift (deg)": 379.87645221980944,
          "Phase shift (rad)": 6.630094842030597,
          "Photon energy (eV)": 15.9,
          "Polar ang (deg)": 111,
          "Target dataset": "good4"
         },
         {
          "Dataset / KE (eV)": "good4 / 7.2",
          "Phase shift (deg)": 378.7895084597421,
          "Phase shift (rad)": 6.611124094633413,
          "Photon energy (eV)": 15.9,
          "Polar ang (deg)": 112,
          "Target dataset": "good4"
         },
         {
          "Dataset / KE (eV)": "good4 / 7.2",
          "Phase shift (deg)": 377.5786520019348,
          "Phase shift (rad)": 6.589990662675642,
          "Photon energy (eV)": 15.9,
          "Polar ang (deg)": 113,
          "Target dataset": "good4"
         },
         {
          "Dataset / KE (eV)": "good4 / 7.2",
          "Phase shift (deg)": 376.2272408765743,
          "Phase shift (rad)": 6.566404088990018,
          "Photon energy (eV)": 15.9,
          "Polar ang (deg)": 114,
          "Target dataset": "good4"
         },
         {
          "Dataset / KE (eV)": "good4 / 7.2",
          "Phase shift (deg)": 374.7157561871875,
          "Phase shift (rad)": 6.540023704566735,
          "Photon energy (eV)": 15.9,
          "Polar ang (deg)": 115,
          "Target dataset": "good4"
         },
         {
          "Dataset / KE (eV)": "good4 / 7.2",
          "Phase shift (deg)": 373.02132057281756,
          "Phase shift (rad)": 6.510450224132927,
          "Photon energy (eV)": 15.9,
          "Polar ang (deg)": 116,
          "Target dataset": "good4"
         },
         {
          "Dataset / KE (eV)": "good4 / 7.2",
          "Phase shift (deg)": 371.1171852836221,
          "Phase shift (rad)": 6.477216793933052,
          "Photon energy (eV)": 15.9,
          "Polar ang (deg)": 117,
          "Target dataset": "good4"
         },
         {
          "Dataset / KE (eV)": "good4 / 7.2",
          "Phase shift (deg)": 368.97223280206407,
          "Phase shift (rad)": 6.439780310831041,
          "Photon energy (eV)": 15.9,
          "Polar ang (deg)": 118,
          "Target dataset": "good4"
         },
         {
          "Dataset / KE (eV)": "good4 / 7.2",
          "Phase shift (deg)": 366.5505885194109,
          "Phase shift (rad)": 6.397514644786646,
          "Photon energy (eV)": 15.9,
          "Polar ang (deg)": 119,
          "Target dataset": "good4"
         },
         {
          "Dataset / KE (eV)": "good4 / 7.2",
          "Phase shift (deg)": 363.811512085724,
          "Phase shift (rad)": 6.349708742555027,
          "Photon energy (eV)": 15.9,
          "Polar ang (deg)": 120,
          "Target dataset": "good4"
         },
         {
          "Dataset / KE (eV)": "good4 / 7.2",
          "Phase shift (deg)": 360.7098585139365,
          "Phase shift (rad)": 6.295574675471093,
          "Photon energy (eV)": 15.9,
          "Polar ang (deg)": 121,
          "Target dataset": "good4"
         },
         {
          "Dataset / KE (eV)": "good4 / 7.2",
          "Phase shift (deg)": 357.19756728867185,
          "Phase shift (rad)": 6.234273629301319,
          "Photon energy (eV)": 15.9,
          "Polar ang (deg)": 122,
          "Target dataset": "good4"
         },
         {
          "Dataset / KE (eV)": "good4 / 7.2",
          "Phase shift (deg)": 353.226835799959,
          "Phase shift (rad)": 6.164971291110663,
          "Photon energy (eV)": 15.9,
          "Polar ang (deg)": 123,
          "Target dataset": "good4"
         },
         {
          "Dataset / KE (eV)": "good4 / 7.2",
          "Phase shift (deg)": 348.75577891015155,
          "Phase shift (rad)": 6.086936627339545,
          "Photon energy (eV)": 15.9,
          "Polar ang (deg)": 124,
          "Target dataset": "good4"
         },
         {
          "Dataset / KE (eV)": "good4 / 7.2",
          "Phase shift (deg)": 343.7572626681192,
          "Phase shift (rad)": 5.999696061201667,
          "Photon energy (eV)": 15.9,
          "Polar ang (deg)": 125,
          "Target dataset": "good4"
         },
         {
          "Dataset / KE (eV)": "good4 / 7.2",
          "Phase shift (deg)": 338.230868180839,
          "Phase shift (rad)": 5.903242281634565,
          "Photon energy (eV)": 15.9,
          "Polar ang (deg)": 126,
          "Target dataset": "good4"
         },
         {
          "Dataset / KE (eV)": "good4 / 7.2",
          "Phase shift (deg)": 332.21622186510416,
          "Phase shift (rad)": 5.798266900082044,
          "Photon energy (eV)": 15.9,
          "Polar ang (deg)": 127,
          "Target dataset": "good4"
         },
         {
          "Dataset / KE (eV)": "good4 / 7.2",
          "Phase shift (deg)": 325.80336904775834,
          "Phase shift (rad)": 5.686341503973566,
          "Photon energy (eV)": 15.9,
          "Polar ang (deg)": 128,
          "Target dataset": "good4"
         },
         {
          "Dataset / KE (eV)": "good4 / 7.2",
          "Phase shift (deg)": 319.13391263029786,
          "Phase shift (rad)": 5.569937530170614,
          "Photon energy (eV)": 15.9,
          "Polar ang (deg)": 129,
          "Target dataset": "good4"
         },
         {
          "Dataset / KE (eV)": "good4 / 7.2",
          "Phase shift (deg)": 312.3879361902967,
          "Phase shift (rad)": 5.45219803003063,
          "Photon energy (eV)": 15.9,
          "Polar ang (deg)": 130,
          "Target dataset": "good4"
         },
         {
          "Dataset / KE (eV)": "good4 / 7.2",
          "Phase shift (deg)": 305.75771065832714,
          "Phase shift (rad)": 5.336478764347968,
          "Photon energy (eV)": 15.9,
          "Polar ang (deg)": 131,
          "Target dataset": "good4"
         },
         {
          "Dataset / KE (eV)": "good4 / 7.2",
          "Phase shift (deg)": 299.4167969231274,
          "Phase shift (rad)": 5.2258089420838,
          "Photon energy (eV)": 15.9,
          "Polar ang (deg)": 132,
          "Target dataset": "good4"
         },
         {
          "Dataset / KE (eV)": "good4 / 7.2",
          "Phase shift (deg)": 293.4961338806279,
          "Phase shift (rad)": 5.122473878091039,
          "Photon energy (eV)": 15.9,
          "Polar ang (deg)": 133,
          "Target dataset": "good4"
         },
         {
          "Dataset / KE (eV)": "good4 / 7.2",
          "Phase shift (deg)": 288.07424436522876,
          "Phase shift (rad)": 5.027844054367964,
          "Photon energy (eV)": 15.9,
          "Polar ang (deg)": 134,
          "Target dataset": "good4"
         },
         {
          "Dataset / KE (eV)": "good4 / 7.2",
          "Phase shift (deg)": 283.1809285381856,
          "Phase shift (rad)": 4.942439581846111,
          "Photon energy (eV)": 15.9,
          "Polar ang (deg)": 135,
          "Target dataset": "good4"
         },
         {
          "Dataset / KE (eV)": "good4 / 7.2",
          "Phase shift (deg)": 278.80877952561934,
          "Phase shift (rad)": 4.866131186189012,
          "Photon energy (eV)": 15.9,
          "Polar ang (deg)": 136,
          "Target dataset": "good4"
         },
         {
          "Dataset / KE (eV)": "good4 / 7.2",
          "Phase shift (deg)": 274.9264897648384,
          "Phase shift (rad)": 4.798372447346921,
          "Photon energy (eV)": 15.9,
          "Polar ang (deg)": 137,
          "Target dataset": "good4"
         },
         {
          "Dataset / KE (eV)": "good4 / 7.2",
          "Phase shift (deg)": 271.4902063180498,
          "Phase shift (rad)": 4.73839798716868,
          "Photon energy (eV)": 15.9,
          "Polar ang (deg)": 138,
          "Target dataset": "good4"
         },
         {
          "Dataset / KE (eV)": "good4 / 7.2",
          "Phase shift (deg)": 268.451637726047,
          "Phase shift (rad)": 4.685364960690544,
          "Photon energy (eV)": 15.9,
          "Polar ang (deg)": 139,
          "Target dataset": "good4"
         },
         {
          "Dataset / KE (eV)": "good4 / 7.2",
          "Phase shift (deg)": 265.7631021918774,
          "Phase shift (rad)": 4.638441163562419,
          "Photon energy (eV)": 15.9,
          "Polar ang (deg)": 140,
          "Target dataset": "good4"
         },
         {
          "Dataset / KE (eV)": "good4 / 7.2",
          "Phase shift (deg)": 263.3802681593556,
          "Phase shift (rad)": 4.59685286416634,
          "Photon energy (eV)": 15.9,
          "Polar ang (deg)": 141,
          "Target dataset": "good4"
         },
         {
          "Dataset / KE (eV)": "good4 / 7.2",
          "Phase shift (deg)": 261.26336983007906,
          "Phase shift (rad)": 4.559906018390498,
          "Photon energy (eV)": 15.9,
          "Polar ang (deg)": 142,
          "Target dataset": "good4"
         },
         {
          "Dataset / KE (eV)": "good4 / 7.2",
          "Phase shift (deg)": 259.377510986111,
          "Phase shift (rad)": 4.526991572335401,
          "Photon energy (eV)": 15.9,
          "Polar ang (deg)": 143,
          "Target dataset": "good4"
         },
         {
          "Dataset / KE (eV)": "good4 / 7.2",
          "Phase shift (deg)": 257.69247483047167,
          "Phase shift (rad)": 4.4975821434043475,
          "Photon energy (eV)": 15.9,
          "Polar ang (deg)": 144,
          "Target dataset": "good4"
         },
         {
          "Dataset / KE (eV)": "good4 / 7.2",
          "Phase shift (deg)": 256.18229975219856,
          "Phase shift (rad)": 4.471224616006918,
          "Photon energy (eV)": 15.9,
          "Polar ang (deg)": 145,
          "Target dataset": "good4"
         },
         {
          "Dataset / KE (eV)": "good4 / 7.2",
          "Phase shift (deg)": 254.82477157639323,
          "Phase shift (rad)": 4.447531279650523,
          "Photon energy (eV)": 15.9,
          "Polar ang (deg)": 146,
          "Target dataset": "good4"
         },
         {
          "Dataset / KE (eV)": "good4 / 7.2",
          "Phase shift (deg)": 253.60091344045748,
          "Phase shift (rad)": 4.426170925601124,
          "Photon energy (eV)": 15.9,
          "Polar ang (deg)": 147,
          "Target dataset": "good4"
         },
         {
          "Dataset / KE (eV)": "good4 / 7.2",
          "Phase shift (deg)": 252.49451295821345,
          "Phase shift (rad)": 4.406860594340312,
          "Photon energy (eV)": 15.9,
          "Polar ang (deg)": 148,
          "Target dataset": "good4"
         },
         {
          "Dataset / KE (eV)": "good4 / 7.2",
          "Phase shift (deg)": 251.49170279426139,
          "Phase shift (rad)": 4.389358255206885,
          "Photon energy (eV)": 15.9,
          "Polar ang (deg)": 149,
          "Target dataset": "good4"
         },
         {
          "Dataset / KE (eV)": "good4 / 7.2",
          "Phase shift (deg)": 250.58059812106947,
          "Phase shift (rad)": 4.373456478829379,
          "Photon energy (eV)": 15.9,
          "Polar ang (deg)": 150,
          "Target dataset": "good4"
         },
         {
          "Dataset / KE (eV)": "good4 / 7.2",
          "Phase shift (deg)": 249.75098812488997,
          "Phase shift (rad)": 4.358977052888589,
          "Photon energy (eV)": 15.9,
          "Polar ang (deg)": 151,
          "Target dataset": "good4"
         },
         {
          "Dataset / KE (eV)": "good4 / 7.2",
          "Phase shift (deg)": 248.99407597787663,
          "Phase shift (rad)": 4.345766443774867,
          "Photon energy (eV)": 15.9,
          "Polar ang (deg)": 152,
          "Target dataset": "good4"
         },
         {
          "Dataset / KE (eV)": "good4 / 7.2",
          "Phase shift (deg)": 248.3022608567764,
          "Phase shift (rad)": 4.333691992096584,
          "Photon energy (eV)": 15.9,
          "Polar ang (deg)": 153,
          "Target dataset": "good4"
         },
         {
          "Dataset / KE (eV)": "good4 / 7.2",
          "Phase shift (deg)": 247.6689557186037,
          "Phase shift (rad)": 4.322638732265673,
          "Photon energy (eV)": 15.9,
          "Polar ang (deg)": 154,
          "Target dataset": "good4"
         },
         {
          "Dataset / KE (eV)": "good4 / 7.2",
          "Phase shift (deg)": 247.08843511564913,
          "Phase shift (rad)": 4.312506736368453,
          "Photon energy (eV)": 15.9,
          "Polar ang (deg)": 155,
          "Target dataset": "good4"
         },
         {
          "Dataset / KE (eV)": "good4 / 7.2",
          "Phase shift (deg)": 246.5557080615162,
          "Phase shift (rad)": 4.303208895259384,
          "Photon energy (eV)": 15.9,
          "Polar ang (deg)": 156,
          "Target dataset": "good4"
         },
         {
          "Dataset / KE (eV)": "good4 / 7.2",
          "Phase shift (deg)": 246.0664117018555,
          "Phase shift (rad)": 4.294669062765282,
          "Photon energy (eV)": 15.9,
          "Polar ang (deg)": 157,
          "Target dataset": "good4"
         },
         {
          "Dataset / KE (eV)": "good4 / 7.2",
          "Phase shift (deg)": 245.61672222991413,
          "Phase shift (rad)": 4.28682050086835,
          "Photon energy (eV)": 15.9,
          "Polar ang (deg)": 158,
          "Target dataset": "good4"
         },
         {
          "Dataset / KE (eV)": "good4 / 7.2",
          "Phase shift (deg)": 245.20328009015213,
          "Phase shift (rad)": 4.279604574263013,
          "Photon energy (eV)": 15.9,
          "Polar ang (deg)": 159,
          "Target dataset": "good4"
         },
         {
          "Dataset / KE (eV)": "good4 / 7.2",
          "Phase shift (deg)": 244.8231270286531,
          "Phase shift (rad)": 4.272969651678318,
          "Photon energy (eV)": 15.9,
          "Polar ang (deg)": 160,
          "Target dataset": "good4"
         },
         {
          "Dataset / KE (eV)": "good4 / 7.2",
          "Phase shift (deg)": 244.47365298048533,
          "Phase shift (rad)": 4.266870178887517,
          "Photon energy (eV)": 15.9,
          "Polar ang (deg)": 161,
          "Target dataset": "good4"
         },
         {
          "Dataset / KE (eV)": "good4 / 7.2",
          "Phase shift (deg)": 244.15255114289533,
          "Phase shift (rad)": 4.261265894587368,
          "Photon energy (eV)": 15.9,
          "Polar ang (deg)": 162,
          "Target dataset": "good4"
         },
         {
          "Dataset / KE (eV)": "good4 / 7.2",
          "Phase shift (deg)": 243.8577798769299,
          "Phase shift (rad)": 4.256121165455999,
          "Photon energy (eV)": 15.9,
          "Polar ang (deg)": 163,
          "Target dataset": "good4"
         },
         {
          "Dataset / KE (eV)": "good4 / 7.2",
          "Phase shift (deg)": 243.5875303224924,
          "Phase shift (rad)": 4.251404420929017,
          "Photon energy (eV)": 15.9,
          "Polar ang (deg)": 164,
          "Target dataset": "good4"
         },
         {
          "Dataset / KE (eV)": "good4 / 7.2",
          "Phase shift (deg)": 243.3401988085899,
          "Phase shift (rad)": 4.247087671667476,
          "Photon energy (eV)": 15.9,
          "Polar ang (deg)": 165,
          "Target dataset": "good4"
         },
         {
          "Dataset / KE (eV)": "good4 / 7.2",
          "Phase shift (deg)": 243.1143633024474,
          "Phase shift (rad)": 4.243146098517382,
          "Photon energy (eV)": 15.9,
          "Polar ang (deg)": 166,
          "Target dataset": "good4"
         },
         {
          "Dataset / KE (eV)": "good4 / 7.2",
          "Phase shift (deg)": 242.90876327303025,
          "Phase shift (rad)": 4.239557701061855,
          "Photon energy (eV)": 15.9,
          "Polar ang (deg)": 167,
          "Target dataset": "good4"
         },
         {
          "Dataset / KE (eV)": "good4 / 7.2",
          "Phase shift (deg)": 242.7222824525121,
          "Phase shift (rad)": 4.236302996751993,
          "Photon energy (eV)": 15.9,
          "Polar ang (deg)": 168,
          "Target dataset": "good4"
         },
         {
          "Dataset / KE (eV)": "good4 / 7.2",
          "Phase shift (deg)": 242.55393406806803,
          "Phase shift (rad)": 4.2333647631530305,
          "Photon energy (eV)": 15.9,
          "Polar ang (deg)": 169,
          "Target dataset": "good4"
         },
         {
          "Dataset / KE (eV)": "good4 / 7.2",
          "Phase shift (deg)": 242.4028481893377,
          "Phase shift (rad)": 4.230727817115918,
          "Photon energy (eV)": 15.9,
          "Polar ang (deg)": 170,
          "Target dataset": "good4"
         },
         {
          "Dataset / KE (eV)": "good4 / 7.2",
          "Phase shift (deg)": 242.2682608968534,
          "Phase shift (rad)": 4.228378825730722,
          "Photon energy (eV)": 15.9,
          "Polar ang (deg)": 171,
          "Target dataset": "good4"
         },
         {
          "Dataset / KE (eV)": "good4 / 7.2",
          "Phase shift (deg)": 242.1495050273889,
          "Phase shift (rad)": 4.226306144802498,
          "Photon energy (eV)": 15.9,
          "Polar ang (deg)": 172,
          "Target dataset": "good4"
         },
         {
          "Dataset / KE (eV)": "good4 / 7.2",
          "Phase shift (deg)": 242.04600229226656,
          "Phase shift (rad)": 4.224499681289794,
          "Photon energy (eV)": 15.9,
          "Polar ang (deg)": 173,
          "Target dataset": "good4"
         },
         {
          "Dataset / KE (eV)": "good4 / 7.2",
          "Phase shift (deg)": 241.9572566014056,
          "Phase shift (rad)": 4.222950776787313,
          "Photon energy (eV)": 15.9,
          "Polar ang (deg)": 174,
          "Target dataset": "good4"
         },
         {
          "Dataset / KE (eV)": "good4 / 7.2",
          "Phase shift (deg)": 241.88284845325924,
          "Phase shift (rad)": 4.221652109611847,
          "Photon energy (eV)": 15.9,
          "Polar ang (deg)": 175,
          "Target dataset": "good4"
         },
         {
          "Dataset / KE (eV)": "good4 / 7.2",
          "Phase shift (deg)": 241.82243027699172,
          "Phase shift (rad)": 4.220597613507929,
          "Photon energy (eV)": 15.9,
          "Polar ang (deg)": 176,
          "Target dataset": "good4"
         },
         {
          "Dataset / KE (eV)": "good4 / 7.2",
          "Phase shift (deg)": 241.7757226338447,
          "Phase shift (rad)": 4.219782411349167,
          "Photon energy (eV)": 15.9,
          "Polar ang (deg)": 177,
          "Target dataset": "good4"
         },
         {
          "Dataset / KE (eV)": "good4 / 7.2",
          "Phase shift (deg)": 241.7425112036469,
          "Phase shift (rad)": 4.219202762542919,
          "Photon energy (eV)": 15.9,
          "Polar ang (deg)": 178,
          "Target dataset": "good4"
         },
         {
          "Dataset / KE (eV)": "good4 / 7.2",
          "Phase shift (deg)": 241.7226444978929,
          "Phase shift (rad)": 4.218856023115986,
          "Photon energy (eV)": 15.9,
          "Polar ang (deg)": 179,
          "Target dataset": "good4"
         },
         {
          "Dataset / KE (eV)": "good4 / 7.2",
          "Phase shift (deg)": 241.7160322565685,
          "Phase shift (rad)": 4.218740617733939,
          "Photon energy (eV)": 15.9,
          "Polar ang (deg)": 180,
          "Target dataset": "good4"
         }
        ]
       },
       "layer": [
        {
         "data": {
          "name": "data-16937ddac9caa5ce4de0193690aaba8b"
         },
         "encoding": {
          "color": {
           "field": "Dataset / KE (eV)",
           "type": "nominal"
          },
          "x": {
           "axis": {
            "title": "Polar angle (deg)"
           },
           "field": "Polar ang (deg)",
           "type": "quantitative"
          },
          "y": {
           "axis": {
            "title": "Phase shift difference (deg)"
           },
           "field": "Phase shift (deg)",
           "type": "quantitative"
          }
         },
         "mark": "point"
        },
        {
         "data": {
          "name": "data-16937ddac9caa5ce4de0193690aaba8b"
         },
         "encoding": {
          "color": {
           "field": "Dataset / KE (eV)",
           "type": "nominal"
          },
          "x": {
           "field": "Polar ang (deg)",
           "type": "quantitative"
          },
          "y": {
           "field": "Phase shift fr (deg)",
           "type": "quantitative"
          },
          "y2": {
           "field": "Phase shift to (deg)",
           "type": "quantitative"
          }
         },
         "mark": {
          "opacity": 0.1,
          "type": "area"
         }
        },
        {
         "data": {
          "name": "data-206dc880b85100c0b20506cd01c91fe3"
         },
         "encoding": {
          "color": {
           "field": "Dataset / KE (eV)",
           "type": "nominal"
          },
          "x": {
           "field": "Polar ang (deg)",
           "type": "quantitative"
          },
          "y": {
           "field": "Phase shift (deg)",
           "type": "quantitative"
          }
         },
         "mark": "line",
         "selection": {
          "selector008": {
           "bind": "scales",
           "encodings": [
            "y"
           ],
           "mark": {
            "fill": "#333",
            "fillOpacity": 0.125,
            "stroke": "white"
           },
           "on": "[mousedown, window:mouseup] > window:mousemove!",
           "resolve": "global",
           "translate": "[mousedown, window:mouseup] > window:mousemove!",
           "type": "interval",
           "zoom": "wheel!"
          }
         }
        }
       ]
      },
      "image/png": "[encoded data removed]",
      "text/plain": [
       "<VegaLite 2 object>\n",
       "\n",
       "If you see this message, it means the renderer has not been properly enabled\n",
       "for the frontend that you are using. For more information, see\n",
       "https://altair-viz.github.io/user_guide/troubleshooting.html\n"
      ]
     },
     "execution_count": 9,
     "metadata": {},
     "output_type": "execute_result"
    }
   ],
   "source": [
    "def _format(r: pd.Series):\n",
    "    th = 24.58738880\n",
    "    return \"{} / {:.1f}\".format(\n",
    "        r[\"Dataset\"] if \"Dataset\" in r.keys() else r[\"Target dataset\"],\n",
    "        2 * r[\"Photon energy (eV)\"] - th,\n",
    "    )\n",
    "\n",
    "measu = pd.read_json(\"Data/Phase shifts - Measured.json\")\n",
    "measu[\"Dataset / KE (eV)\"] = measu.apply(_format, axis=1)\n",
    "measu[\"Polar ang (deg)\"] = (measu[\"Polar ang fr (deg)\"] + measu[\"Polar ang to (deg)\"]) / 2\n",
    "measu[\"Phase shift (deg)\"] = measu[\"Phase shift (rad)\"] / np.pi * 180\n",
    "measu[\"Phase shift err (deg)\"] = measu[\"Phase shift err (rad)\"] / np.pi * 180\n",
    "measu[\"Phase shift fr (deg)\"] = measu[\"Phase shift (deg)\"] - measu[\"Phase shift err (deg)\"]\n",
    "measu[\"Phase shift to (deg)\"] = measu[\"Phase shift (deg)\"] + measu[\"Phase shift err (deg)\"]\n",
    "\n",
    "simul = pd.read_json(\"Data/Phase shifts - TDCASSCF.json\")\n",
    "simul = simul[simul[\"Polar ang (deg)\"] != 90]\n",
    "simul[\"Dataset / KE (eV)\"] = simul.apply(_format, axis=1)\n",
    "simul[\"Phase shift (deg)\"] = simul[\"Phase shift (rad)\"] / np.pi * 180\n",
    "\n",
    "base = alt.Chart(measu)\n",
    "base.mark_point().encode(\n",
    "    x=alt.X(\"Polar ang (deg)\", axis=alt.Axis(title=\"Polar angle (deg)\")),\n",
    "    y=alt.Y(\"Phase shift (deg)\", axis=alt.Axis(title=\"Phase shift difference (deg)\")),\n",
    "    color=\"Dataset / KE (eV)\",\n",
    ") + base.mark_area(opacity=0.1).encode(\n",
    "    x=\"Polar ang (deg)\",\n",
    "    y=\"Phase shift fr (deg)\",\n",
    "    y2=\"Phase shift to (deg)\",\n",
    "    color=\"Dataset / KE (eV)\",\n",
    ") + alt.Chart(simul).mark_line().encode(\n",
    "    x=\"Polar ang (deg)\",\n",
    "    y=\"Phase shift (deg)\",\n",
    "    color=\"Dataset / KE (eV)\",\n",
    ").interactive(bind_x=False)"
   ]
  },
  {
   "cell_type": "code",
   "execution_count": 10,
   "metadata": {},
   "outputs": [
    {
     "data": {
      "application/vnd.vegalite.v2+json": {
       "$schema": "https://vega.github.io/schema/vega-lite/v2.6.0.json",
       "config": {
        "view": {
         "height": 300,
         "width": 400
        }
       },
       "datasets": {
        "data-1eba8ba4c31027ef96e20f8eaa4650d4": [
         {
          "EWS delay (as)": 8.602912538052529,
          "KE range (eV)": "4.0–7.2",
          "Photon energy fr (eV)": 14.3,
          "Photon energy to (eV)": 15.9,
          "Polar ang (deg)": 0
         },
         {
          "EWS delay (as)": 4.384125421778398,
          "KE range (eV)": "7.2–13.6",
          "Photon energy fr (eV)": 15.9,
          "Photon energy to (eV)": 19.1,
          "Polar ang (deg)": 0
         },
         {
          "EWS delay (as)": 8.54723793362702,
          "KE range (eV)": "4.0–7.2",
          "Photon energy fr (eV)": 14.3,
          "Photon energy to (eV)": 15.9,
          "Polar ang (deg)": 1
         },
         {
          "EWS delay (as)": 4.388294239018735,
          "KE range (eV)": "7.2–13.6",
          "Photon energy fr (eV)": 15.9,
          "Photon energy to (eV)": 19.1,
          "Polar ang (deg)": 1
         },
         {
          "EWS delay (as)": 8.380158136331286,
          "KE range (eV)": "4.0–7.2",
          "Photon energy fr (eV)": 14.3,
          "Photon energy to (eV)": 15.9,
          "Polar ang (deg)": 2
         },
         {
          "EWS delay (as)": 4.400785155228336,
          "KE range (eV)": "7.2–13.6",
          "Photon energy fr (eV)": 15.9,
          "Photon energy to (eV)": 19.1,
          "Polar ang (deg)": 2
         },
         {
          "EWS delay (as)": 8.10150708642052,
          "KE range (eV)": "4.0–7.2",
          "Photon energy fr (eV)": 14.3,
          "Photon energy to (eV)": 15.9,
          "Polar ang (deg)": 3
         },
         {
          "EWS delay (as)": 4.4215511446046545,
          "KE range (eV)": "7.2–13.6",
          "Photon energy fr (eV)": 15.9,
          "Photon energy to (eV)": 19.1,
          "Polar ang (deg)": 3
         },
         {
          "EWS delay (as)": 7.711014385687002,
          "KE range (eV)": "4.0–7.2",
          "Photon energy fr (eV)": 14.3,
          "Photon energy to (eV)": 15.9,
          "Polar ang (deg)": 4
         },
         {
          "EWS delay (as)": 4.450512422054392,
          "KE range (eV)": "7.2–13.6",
          "Photon energy fr (eV)": 15.9,
          "Photon energy to (eV)": 19.1,
          "Polar ang (deg)": 4
         },
         {
          "EWS delay (as)": 7.208315051723861,
          "KE range (eV)": "4.0–7.2",
          "Photon energy fr (eV)": 14.3,
          "Photon energy to (eV)": 15.9,
          "Polar ang (deg)": 5
         },
         {
          "EWS delay (as)": 4.487554294180863,
          "KE range (eV)": "7.2–13.6",
          "Photon energy fr (eV)": 15.9,
          "Photon energy to (eV)": 19.1,
          "Polar ang (deg)": 5
         },
         {
          "EWS delay (as)": 6.592963588430742,
          "KE range (eV)": "4.0–7.2",
          "Photon energy fr (eV)": 14.3,
          "Photon energy to (eV)": 15.9,
          "Polar ang (deg)": 6
         },
         {
          "EWS delay (as)": 4.5325240741033195,
          "KE range (eV)": "7.2–13.6",
          "Photon energy fr (eV)": 15.9,
          "Photon energy to (eV)": 19.1,
          "Polar ang (deg)": 6
         },
         {
          "EWS delay (as)": 5.864452788984181,
          "KE range (eV)": "4.0–7.2",
          "Photon energy fr (eV)": 14.3,
          "Photon energy to (eV)": 15.9,
          "Polar ang (deg)": 7
         },
         {
          "EWS delay (as)": 4.585226984102202,
          "KE range (eV)": "7.2–13.6",
          "Photon energy fr (eV)": 15.9,
          "Photon energy to (eV)": 19.1,
          "Polar ang (deg)": 7
         },
         {
          "EWS delay (as)": 5.022237826766909,
          "KE range (eV)": "4.0–7.2",
          "Photon energy fr (eV)": 14.3,
          "Photon energy to (eV)": 15.9,
          "Polar ang (deg)": 8
         },
         {
          "EWS delay (as)": 4.645420940864529,
          "KE range (eV)": "7.2–13.6",
          "Photon energy fr (eV)": 15.9,
          "Photon energy to (eV)": 19.1,
          "Polar ang (deg)": 8
         },
         {
          "EWS delay (as)": 4.065766327777116,
          "KE range (eV)": "4.0–7.2",
          "Photon energy fr (eV)": 14.3,
          "Photon energy to (eV)": 15.9,
          "Polar ang (deg)": 9
         },
         {
          "EWS delay (as)": 4.712810089150265,
          "KE range (eV)": "7.2–13.6",
          "Photon energy fr (eV)": 15.9,
          "Photon energy to (eV)": 19.1,
          "Polar ang (deg)": 9
         },
         {
          "EWS delay (as)": 2.9945152698569864,
          "KE range (eV)": "4.0–7.2",
          "Photon energy fr (eV)": 14.3,
          "Photon energy to (eV)": 15.9,
          "Polar ang (deg)": 10
         },
         {
          "EWS delay (as)": 4.787036915479857,
          "KE range (eV)": "7.2–13.6",
          "Photon energy fr (eV)": 15.9,
          "Photon energy to (eV)": 19.1,
          "Polar ang (deg)": 10
         },
         {
          "EWS delay (as)": 1.8080357175359651,
          "KE range (eV)": "4.0–7.2",
          "Photon energy fr (eV)": 14.3,
          "Photon energy to (eV)": 15.9,
          "Polar ang (deg)": 11
         },
         {
          "EWS delay (as)": 4.867672734214157,
          "KE range (eV)": "7.2–13.6",
          "Photon energy fr (eV)": 15.9,
          "Photon energy to (eV)": 19.1,
          "Polar ang (deg)": 11
         },
         {
          "EWS delay (as)": 0.506006577600278,
          "KE range (eV)": "4.0–7.2",
          "Photon energy fr (eV)": 14.3,
          "Photon energy to (eV)": 15.9,
          "Polar ang (deg)": 12
         },
         {
          "EWS delay (as)": 4.954206291046158,
          "KE range (eV)": "7.2–13.6",
          "Photon energy fr (eV)": 15.9,
          "Photon energy to (eV)": 19.1,
          "Polar ang (deg)": 12
         },
         {
          "EWS delay (as)": -0.911701251775153,
          "KE range (eV)": "4.0–7.2",
          "Photon energy fr (eV)": 14.3,
          "Photon energy to (eV)": 15.9,
          "Polar ang (deg)": 13
         },
         {
          "EWS delay (as)": 5.046030174222779,
          "KE range (eV)": "7.2–13.6",
          "Photon energy fr (eV)": 15.9,
          "Photon energy to (eV)": 19.1,
          "Polar ang (deg)": 13
         },
         {
          "EWS delay (as)": -2.444948763198762,
          "KE range (eV)": "4.0–7.2",
          "Photon energy fr (eV)": 14.3,
          "Photon energy to (eV)": 15.9,
          "Polar ang (deg)": 14
         },
         {
          "EWS delay (as)": 5.142424657594898,
          "KE range (eV)": "7.2–13.6",
          "Photon energy fr (eV)": 15.9,
          "Photon energy to (eV)": 19.1,
          "Polar ang (deg)": 14
         },
         {
          "EWS delay (as)": -4.093238965289032,
          "KE range (eV)": "4.0–7.2",
          "Photon energy fr (eV)": 14.3,
          "Photon energy to (eV)": 15.9,
          "Polar ang (deg)": 15
         },
         {
          "EWS delay (as)": 5.242538519272072,
          "KE range (eV)": "7.2–13.6",
          "Photon energy fr (eV)": 15.9,
          "Photon energy to (eV)": 19.1,
          "Polar ang (deg)": 15
         },
         {
          "EWS delay (as)": -5.855611243084278,
          "KE range (eV)": "4.0–7.2",
          "Photon energy fr (eV)": 14.3,
          "Photon energy to (eV)": 15.9,
          "Polar ang (deg)": 16
         },
         {
          "EWS delay (as)": 5.345366287477972,
          "KE range (eV)": "7.2–13.6",
          "Photon energy fr (eV)": 15.9,
          "Photon energy to (eV)": 19.1,
          "Polar ang (deg)": 16
         },
         {
          "EWS delay (as)": -7.730517710525184,
          "KE range (eV)": "4.0–7.2",
          "Photon energy fr (eV)": 14.3,
          "Photon energy to (eV)": 15.9,
          "Polar ang (deg)": 17
         },
         {
          "EWS delay (as)": 5.449721243624743,
          "KE range (eV)": "7.2–13.6",
          "Photon energy fr (eV)": 15.9,
          "Photon energy to (eV)": 19.1,
          "Polar ang (deg)": 17
         },
         {
          "EWS delay (as)": -9.71567908817699,
          "KE range (eV)": "4.0–7.2",
          "Photon energy fr (eV)": 14.3,
          "Photon energy to (eV)": 15.9,
          "Polar ang (deg)": 18
         },
         {
          "EWS delay (as)": 5.554203379719598,
          "KE range (eV)": "7.2–13.6",
          "Photon energy fr (eV)": 15.9,
          "Photon energy to (eV)": 19.1,
          "Polar ang (deg)": 18
         },
         {
          "EWS delay (as)": -11.807917394634213,
          "KE range (eV)": "4.0–7.2",
          "Photon energy fr (eV)": 14.3,
          "Photon energy to (eV)": 15.9,
          "Polar ang (deg)": 19
         },
         {
          "EWS delay (as)": 5.6571613277685575,
          "KE range (eV)": "7.2–13.6",
          "Photon energy fr (eV)": 15.9,
          "Photon energy to (eV)": 19.1,
          "Polar ang (deg)": 19
         },
         {
          "EWS delay (as)": -14.002962525508087,
          "KE range (eV)": "4.0–7.2",
          "Photon energy fr (eV)": 14.3,
          "Photon energy to (eV)": 15.9,
          "Polar ang (deg)": 20
         },
         {
          "EWS delay (as)": 5.756647078363514,
          "KE range (eV)": "7.2–13.6",
          "Photon energy fr (eV)": 15.9,
          "Photon energy to (eV)": 19.1,
          "Polar ang (deg)": 20
         },
         {
          "EWS delay (as)": -16.295229556283047,
          "KE range (eV)": "4.0–7.2",
          "Photon energy fr (eV)": 14.3,
          "Photon energy to (eV)": 15.9,
          "Polar ang (deg)": 21
         },
         {
          "EWS delay (as)": 5.850362043174781,
          "KE range (eV)": "7.2–13.6",
          "Photon energy fr (eV)": 15.9,
          "Photon energy to (eV)": 19.1,
          "Polar ang (deg)": 21
         },
         {
          "EWS delay (as)": -18.677563401614037,
          "KE range (eV)": "4.0–7.2",
          "Photon energy fr (eV)": 14.3,
          "Photon energy to (eV)": 15.9,
          "Polar ang (deg)": 22
         },
         {
          "EWS delay (as)": 5.935592711655887,
          "KE range (eV)": "7.2–13.6",
          "Photon energy fr (eV)": 15.9,
          "Photon energy to (eV)": 19.1,
          "Polar ang (deg)": 22
         },
         {
          "EWS delay (as)": -21.140947228806134,
          "KE range (eV)": "4.0–7.2",
          "Photon energy fr (eV)": 14.3,
          "Photon energy to (eV)": 15.9,
          "Polar ang (deg)": 23
         },
         {
          "EWS delay (as)": 6.00913376512787,
          "KE range (eV)": "7.2–13.6",
          "Photon energy fr (eV)": 15.9,
          "Photon energy to (eV)": 19.1,
          "Polar ang (deg)": 23
         },
         {
          "EWS delay (as)": -23.6741707939402,
          "KE range (eV)": "4.0–7.2",
          "Photon energy fr (eV)": 14.3,
          "Photon energy to (eV)": 15.9,
          "Polar ang (deg)": 24
         },
         {
          "EWS delay (as)": 6.067196050696043,
          "KE range (eV)": "7.2–13.6",
          "Photon energy fr (eV)": 15.9,
          "Photon energy to (eV)": 19.1,
          "Polar ang (deg)": 24
         },
         {
          "EWS delay (as)": -26.263454578668707,
          "KE range (eV)": "4.0–7.2",
          "Photon energy fr (eV)": 14.3,
          "Photon energy to (eV)": 15.9,
          "Polar ang (deg)": 25
         },
         {
          "EWS delay (as)": 6.1052962487301095,
          "KE range (eV)": "7.2–13.6",
          "Photon energy fr (eV)": 15.9,
          "Photon energy to (eV)": 19.1,
          "Polar ang (deg)": 25
         },
         {
          "EWS delay (as)": -28.89202523056903,
          "KE range (eV)": "4.0–7.2",
          "Photon energy fr (eV)": 14.3,
          "Photon energy to (eV)": 15.9,
          "Polar ang (deg)": 26
         },
         {
          "EWS delay (as)": 6.118124379870202,
          "KE range (eV)": "7.2–13.6",
          "Photon energy fr (eV)": 15.9,
          "Photon energy to (eV)": 19.1,
          "Polar ang (deg)": 26
         },
         {
          "EWS delay (as)": -31.53963728598932,
          "KE range (eV)": "4.0–7.2",
          "Photon energy fr (eV)": 14.3,
          "Photon energy to (eV)": 15.9,
          "Polar ang (deg)": 27
         },
         {
          "EWS delay (as)": 6.099384472496911,
          "KE range (eV)": "7.2–13.6",
          "Photon energy fr (eV)": 15.9,
          "Photon energy to (eV)": 19.1,
          "Polar ang (deg)": 27
         },
         {
          "EWS delay (as)": -34.18203538820185,
          "KE range (eV)": "4.0–7.2",
          "Photon energy fr (eV)": 14.3,
          "Photon energy to (eV)": 15.9,
          "Polar ang (deg)": 28
         },
         {
          "EWS delay (as)": 6.041602720363105,
          "KE range (eV)": "7.2–13.6",
          "Photon energy fr (eV)": 15.9,
          "Photon energy to (eV)": 19.1,
          "Polar ang (deg)": 28
         },
         {
          "EWS delay (as)": -36.79035014281291,
          "KE range (eV)": "4.0–7.2",
          "Photon energy fr (eV)": 14.3,
          "Photon energy to (eV)": 15.9,
          "Polar ang (deg)": 29
         },
         {
          "EWS delay (as)": 5.935896310655394,
          "KE range (eV)": "7.2–13.6",
          "Photon energy fr (eV)": 15.9,
          "Photon energy to (eV)": 19.1,
          "Polar ang (deg)": 29
         },
         {
          "EWS delay (as)": -39.33041926683491,
          "KE range (eV)": "4.0–7.2",
          "Photon energy fr (eV)": 14.3,
          "Photon energy to (eV)": 15.9,
          "Polar ang (deg)": 30
         },
         {
          "EWS delay (as)": 5.771694787268244,
          "KE range (eV)": "7.2–13.6",
          "Photon energy fr (eV)": 15.9,
          "Photon energy to (eV)": 19.1,
          "Polar ang (deg)": 30
         },
         {
          "EWS delay (as)": -41.76202379012121,
          "KE range (eV)": "4.0–7.2",
          "Photon energy fr (eV)": 14.3,
          "Photon energy to (eV)": 15.9,
          "Polar ang (deg)": 31
         },
         {
          "EWS delay (as)": 5.536404388716274,
          "KE range (eV)": "7.2–13.6",
          "Photon energy fr (eV)": 15.9,
          "Photon energy to (eV)": 19.1,
          "Polar ang (deg)": 31
         },
         {
          "EWS delay (as)": -44.038026845470846,
          "KE range (eV)": "4.0–7.2",
          "Photon energy fr (eV)": 14.3,
          "Photon energy to (eV)": 15.9,
          "Polar ang (deg)": 32
         },
         {
          "EWS delay (as)": 5.215004391794051,
          "KE range (eV)": "7.2–13.6",
          "Photon energy fr (eV)": 15.9,
          "Photon energy to (eV)": 19.1,
          "Polar ang (deg)": 32
         },
         {
          "EWS delay (as)": -46.10340042446814,
          "KE range (eV)": "4.0–7.2",
          "Photon energy fr (eV)": 14.3,
          "Photon energy to (eV)": 15.9,
          "Polar ang (deg)": 33
         },
         {
          "EWS delay (as)": 4.789563350431232,
          "KE range (eV)": "7.2–13.6",
          "Photon energy fr (eV)": 15.9,
          "Photon energy to (eV)": 19.1,
          "Polar ang (deg)": 33
         },
         {
          "EWS delay (as)": -47.894124266514865,
          "KE range (eV)": "4.0–7.2",
          "Photon energy fr (eV)": 14.3,
          "Photon energy to (eV)": 15.9,
          "Polar ang (deg)": 34
         },
         {
          "EWS delay (as)": 4.238662767464096,
          "KE range (eV)": "7.2–13.6",
          "Photon energy fr (eV)": 15.9,
          "Photon energy to (eV)": 19.1,
          "Polar ang (deg)": 34
         },
         {
          "EWS delay (as)": -49.335942598537265,
          "KE range (eV)": "4.0–7.2",
          "Photon energy fr (eV)": 14.3,
          "Photon energy to (eV)": 15.9,
          "Polar ang (deg)": 35
         },
         {
          "EWS delay (as)": 3.536717116305555,
          "KE range (eV)": "7.2–13.6",
          "Photon energy fr (eV)": 15.9,
          "Photon energy to (eV)": 19.1,
          "Polar ang (deg)": 35
         },
         {
          "EWS delay (as)": -50.342972103206556,
          "KE range (eV)": "4.0–7.2",
          "Photon energy fr (eV)": 14.3,
          "Photon energy to (eV)": 15.9,
          "Polar ang (deg)": 36
         },
         {
          "EWS delay (as)": 2.653183942542247,
          "KE range (eV)": "7.2–13.6",
          "Photon energy fr (eV)": 15.9,
          "Photon energy to (eV)": 19.1,
          "Polar ang (deg)": 36
         },
         {
          "EWS delay (as)": -50.816174265736265,
          "KE range (eV)": "4.0–7.2",
          "Photon energy fr (eV)": 14.3,
          "Photon energy to (eV)": 15.9,
          "Polar ang (deg)": 37
         },
         {
          "EWS delay (as)": 1.551668987718843,
          "KE range (eV)": "7.2–13.6",
          "Photon energy fr (eV)": 15.9,
          "Photon energy to (eV)": 19.1,
          "Polar ang (deg)": 37
         },
         {
          "EWS delay (as)": -50.64174727772829,
          "KE range (eV)": "4.0–7.2",
          "Photon energy fr (eV)": 14.3,
          "Photon energy to (eV)": 15.9,
          "Polar ang (deg)": 38
         },
         {
          "EWS delay (as)": 0.18895391104272802,
          "KE range (eV)": "7.2–13.6",
          "Photon energy fr (eV)": 15.9,
          "Photon energy to (eV)": 19.1,
          "Polar ang (deg)": 38
         },
         {
          "EWS delay (as)": -49.6895735995666,
          "KE range (eV)": "4.0–7.2",
          "Photon energy fr (eV)": 14.3,
          "Photon energy to (eV)": 15.9,
          "Polar ang (deg)": 39
         },
         {
          "EWS delay (as)": -1.485983569600354,
          "KE range (eV)": "7.2–13.6",
          "Photon energy fr (eV)": 15.9,
          "Photon energy to (eV)": 19.1,
          "Polar ang (deg)": 39
         },
         {
          "EWS delay (as)": -47.812004775419545,
          "KE range (eV)": "4.0–7.2",
          "Photon energy fr (eV)": 14.3,
          "Photon energy to (eV)": 15.9,
          "Polar ang (deg)": 40
         },
         {
          "EWS delay (as)": -3.532812718931511,
          "KE range (eV)": "7.2–13.6",
          "Photon energy fr (eV)": 15.9,
          "Photon energy to (eV)": 19.1,
          "Polar ang (deg)": 40
         },
         {
          "EWS delay (as)": -44.84351163622618,
          "KE range (eV)": "4.0–7.2",
          "Photon energy fr (eV)": 14.3,
          "Photon energy to (eV)": 15.9,
          "Polar ang (deg)": 41
         },
         {
          "EWS delay (as)": -6.020286628877438,
          "KE range (eV)": "7.2–13.6",
          "Photon energy fr (eV)": 15.9,
          "Photon energy to (eV)": 19.1,
          "Polar ang (deg)": 41
         },
         {
          "EWS delay (as)": -40.60211928473342,
          "KE range (eV)": "4.0–7.2",
          "Photon energy fr (eV)": 14.3,
          "Photon energy to (eV)": 15.9,
          "Polar ang (deg)": 42
         },
         {
          "EWS delay (as)": -9.025806391533537,
          "KE range (eV)": "7.2–13.6",
          "Photon energy fr (eV)": 15.9,
          "Photon energy to (eV)": 19.1,
          "Polar ang (deg)": 42
         },
         {
          "EWS delay (as)": -34.89411377610682,
          "KE range (eV)": "4.0–7.2",
          "Photon energy fr (eV)": 14.3,
          "Photon energy to (eV)": 15.9,
          "Polar ang (deg)": 43
         },
         {
          "EWS delay (as)": -12.633361251171936,
          "KE range (eV)": "7.2–13.6",
          "Photon energy fr (eV)": 15.9,
          "Photon energy to (eV)": 19.1,
          "Polar ang (deg)": 43
         },
         {
          "EWS delay (as)": -27.524214072181852,
          "KE range (eV)": "4.0–7.2",
          "Photon energy fr (eV)": 14.3,
          "Photon energy to (eV)": 15.9,
          "Polar ang (deg)": 44
         },
         {
          "EWS delay (as)": -16.928739329534377,
          "KE range (eV)": "7.2–13.6",
          "Photon energy fr (eV)": 15.9,
          "Photon energy to (eV)": 19.1,
          "Polar ang (deg)": 44
         },
         {
          "EWS delay (as)": -18.314018376065363,
          "KE range (eV)": "4.0–7.2",
          "Photon energy fr (eV)": 14.3,
          "Photon energy to (eV)": 15.9,
          "Polar ang (deg)": 45
         },
         {
          "EWS delay (as)": -21.990595412865837,
          "KE range (eV)": "7.2–13.6",
          "Photon energy fr (eV)": 15.9,
          "Photon energy to (eV)": 19.1,
          "Polar ang (deg)": 45
         },
         {
          "EWS delay (as)": -7.131431822408518,
          "KE range (eV)": "4.0–7.2",
          "Photon energy fr (eV)": 14.3,
          "Photon energy to (eV)": 15.9,
          "Polar ang (deg)": 46
         },
         {
          "EWS delay (as)": -27.87601332332073,
          "KE range (eV)": "7.2–13.6",
          "Photon energy fr (eV)": 15.9,
          "Photon energy to (eV)": 19.1,
          "Polar ang (deg)": 46
         },
         {
          "EWS delay (as)": 6.068225118092496,
          "KE range (eV)": "4.0–7.2",
          "Photon energy fr (eV)": 14.3,
          "Photon energy to (eV)": 15.9,
          "Polar ang (deg)": 47
         },
         {
          "EWS delay (as)": -34.60020439591213,
          "KE range (eV)": "7.2–13.6",
          "Photon energy fr (eV)": 15.9,
          "Photon energy to (eV)": 19.1,
          "Polar ang (deg)": 47
         },
         {
          "EWS delay (as)": 21.194077320974472,
          "KE range (eV)": "4.0–7.2",
          "Photon energy fr (eV)": 14.3,
          "Photon energy to (eV)": 15.9,
          "Polar ang (deg)": 48
         },
         {
          "EWS delay (as)": -42.112658479172914,
          "KE range (eV)": "7.2–13.6",
          "Photon energy fr (eV)": 15.9,
          "Photon energy to (eV)": 19.1,
          "Polar ang (deg)": 48
         },
         {
          "EWS delay (as)": 37.97799346498539,
          "KE range (eV)": "4.0–7.2",
          "Photon energy fr (eV)": 14.3,
          "Photon energy to (eV)": 15.9,
          "Polar ang (deg)": 49
         },
         {
          "EWS delay (as)": -50.27647371019761,
          "KE range (eV)": "7.2–13.6",
          "Photon energy fr (eV)": 15.9,
          "Photon energy to (eV)": 19.1,
          "Polar ang (deg)": 49
         },
         {
          "EWS delay (as)": 55.96108245141635,
          "KE range (eV)": "4.0–7.2",
          "Photon energy fr (eV)": 14.3,
          "Photon energy to (eV)": 15.9,
          "Polar ang (deg)": 50
         },
         {
          "EWS delay (as)": -58.86173753373103,
          "KE range (eV)": "7.2–13.6",
          "Photon energy fr (eV)": 15.9,
          "Photon energy to (eV)": 19.1,
          "Polar ang (deg)": 50
         },
         {
          "EWS delay (as)": 74.52887163084473,
          "KE range (eV)": "4.0–7.2",
          "Photon energy fr (eV)": 14.3,
          "Photon energy to (eV)": 15.9,
          "Polar ang (deg)": 51
         },
         {
          "EWS delay (as)": -67.56319389130799,
          "KE range (eV)": "7.2–13.6",
          "Photon energy fr (eV)": 15.9,
          "Photon energy to (eV)": 19.1,
          "Polar ang (deg)": 51
         },
         {
          "EWS delay (as)": 92.99749716856805,
          "KE range (eV)": "4.0–7.2",
          "Photon energy fr (eV)": 14.3,
          "Photon energy to (eV)": 15.9,
          "Polar ang (deg)": 52
         },
         {
          "EWS delay (as)": -76.0433556796153,
          "KE range (eV)": "7.2–13.6",
          "Photon energy fr (eV)": 15.9,
          "Photon energy to (eV)": 19.1,
          "Polar ang (deg)": 52
         },
         {
          "EWS delay (as)": 110.72518189234847,
          "KE range (eV)": "4.0–7.2",
          "Photon energy fr (eV)": 14.3,
          "Photon energy to (eV)": 15.9,
          "Polar ang (deg)": 53
         },
         {
          "EWS delay (as)": -83.98819548944162,
          "KE range (eV)": "7.2–13.6",
          "Photon energy fr (eV)": 15.9,
          "Photon energy to (eV)": 19.1,
          "Polar ang (deg)": 53
         },
         {
          "EWS delay (as)": 127.20714304312551,
          "KE range (eV)": "4.0–7.2",
          "Photon energy fr (eV)": 14.3,
          "Photon energy to (eV)": 15.9,
          "Polar ang (deg)": 54
         },
         {
          "EWS delay (as)": -91.15448321259997,
          "KE range (eV)": "7.2–13.6",
          "Photon energy fr (eV)": 15.9,
          "Photon energy to (eV)": 19.1,
          "Polar ang (deg)": 54
         },
         {
          "EWS delay (as)": 142.12282269141463,
          "KE range (eV)": "4.0–7.2",
          "Photon energy fr (eV)": 14.3,
          "Photon energy to (eV)": 15.9,
          "Polar ang (deg)": 55
         },
         {
          "EWS delay (as)": -97.3932170148073,
          "KE range (eV)": "7.2–13.6",
          "Photon energy fr (eV)": 15.9,
          "Photon energy to (eV)": 19.1,
          "Polar ang (deg)": 55
         },
         {
          "EWS delay (as)": 155.33184952995998,
          "KE range (eV)": "4.0–7.2",
          "Photon energy fr (eV)": 14.3,
          "Photon energy to (eV)": 15.9,
          "Polar ang (deg)": 56
         },
         {
          "EWS delay (as)": -102.64735553181106,
          "KE range (eV)": "7.2–13.6",
          "Photon energy fr (eV)": 15.9,
          "Photon energy to (eV)": 19.1,
          "Polar ang (deg)": 56
         },
         {
          "EWS delay (as)": 166.83673408817356,
          "KE range (eV)": "4.0–7.2",
          "Photon energy fr (eV)": 14.3,
          "Photon energy to (eV)": 15.9,
          "Polar ang (deg)": 57
         },
         {
          "EWS delay (as)": -106.93285963281171,
          "KE range (eV)": "7.2–13.6",
          "Photon energy fr (eV)": 15.9,
          "Photon energy to (eV)": 19.1,
          "Polar ang (deg)": 57
         },
         {
          "EWS delay (as)": 176.73495753881247,
          "KE range (eV)": "4.0–7.2",
          "Photon energy fr (eV)": 14.3,
          "Photon energy to (eV)": 15.9,
          "Polar ang (deg)": 58
         },
         {
          "EWS delay (as)": -110.31438501585119,
          "KE range (eV)": "7.2–13.6",
          "Photon energy fr (eV)": 15.9,
          "Photon energy to (eV)": 19.1,
          "Polar ang (deg)": 58
         },
         {
          "EWS delay (as)": 185.1760299674827,
          "KE range (eV)": "4.0–7.2",
          "Photon energy fr (eV)": 14.3,
          "Photon energy to (eV)": 15.9,
          "Polar ang (deg)": 59
         },
         {
          "EWS delay (as)": -112.88342819396225,
          "KE range (eV)": "7.2–13.6",
          "Photon energy fr (eV)": 15.9,
          "Photon energy to (eV)": 19.1,
          "Polar ang (deg)": 59
         },
         {
          "EWS delay (as)": 192.329850305209,
          "KE range (eV)": "4.0–7.2",
          "Photon energy fr (eV)": 14.3,
          "Photon energy to (eV)": 15.9,
          "Polar ang (deg)": 60
         },
         {
          "EWS delay (as)": -114.74210910556022,
          "KE range (eV)": "7.2–13.6",
          "Photon energy fr (eV)": 15.9,
          "Photon energy to (eV)": 19.1,
          "Polar ang (deg)": 60
         },
         {
          "EWS delay (as)": 198.36650279035987,
          "KE range (eV)": "4.0–7.2",
          "Photon energy fr (eV)": 14.3,
          "Photon energy to (eV)": 15.9,
          "Polar ang (deg)": 61
         },
         {
          "EWS delay (as)": -115.9926760906641,
          "KE range (eV)": "7.2–13.6",
          "Photon energy fr (eV)": 15.9,
          "Photon energy to (eV)": 19.1,
          "Polar ang (deg)": 61
         },
         {
          "EWS delay (as)": 203.4449954317624,
          "KE range (eV)": "4.0–7.2",
          "Photon energy fr (eV)": 14.3,
          "Photon energy to (eV)": 15.9,
          "Polar ang (deg)": 62
         },
         {
          "EWS delay (as)": -116.73150387637196,
          "KE range (eV)": "7.2–13.6",
          "Photon energy fr (eV)": 15.9,
          "Photon energy to (eV)": 19.1,
          "Polar ang (deg)": 62
         },
         {
          "EWS delay (as)": 207.70804553138078,
          "KE range (eV)": "4.0–7.2",
          "Photon energy fr (eV)": 14.3,
          "Photon energy to (eV)": 15.9,
          "Polar ang (deg)": 63
         },
         {
          "EWS delay (as)": -117.04615304869996,
          "KE range (eV)": "7.2–13.6",
          "Photon energy fr (eV)": 15.9,
          "Photon energy to (eV)": 19.1,
          "Polar ang (deg)": 63
         },
         {
          "EWS delay (as)": 211.2805465519061,
          "KE range (eV)": "4.0–7.2",
          "Photon energy fr (eV)": 14.3,
          "Photon energy to (eV)": 15.9,
          "Polar ang (deg)": 64
         },
         {
          "EWS delay (as)": -117.01432079169194,
          "KE range (eV)": "7.2–13.6",
          "Photon energy fr (eV)": 15.9,
          "Photon energy to (eV)": 19.1,
          "Polar ang (deg)": 64
         },
         {
          "EWS delay (as)": 214.2700673986316,
          "KE range (eV)": "4.0–7.2",
          "Photon energy fr (eV)": 14.3,
          "Photon energy to (eV)": 15.9,
          "Polar ang (deg)": 65
         },
         {
          "EWS delay (as)": -116.70386689828776,
          "KE range (eV)": "7.2–13.6",
          "Photon energy fr (eV)": 15.9,
          "Photon energy to (eV)": 19.1,
          "Polar ang (deg)": 65
         },
         {
          "EWS delay (as)": 216.76834183376346,
          "KE range (eV)": "4.0–7.2",
          "Photon energy fr (eV)": 14.3,
          "Photon energy to (eV)": 15.9,
          "Polar ang (deg)": 66
         },
         {
          "EWS delay (as)": -116.17339782615161,
          "KE range (eV)": "7.2–13.6",
          "Photon energy fr (eV)": 15.9,
          "Photon energy to (eV)": 19.1,
          "Polar ang (deg)": 66
         },
         {
          "EWS delay (as)": 218.85313630812539,
          "KE range (eV)": "4.0–7.2",
          "Photon energy fr (eV)": 14.3,
          "Photon energy to (eV)": 15.9,
          "Polar ang (deg)": 67
         },
         {
          "EWS delay (as)": -115.47310249298135,
          "KE range (eV)": "7.2–13.6",
          "Photon energy fr (eV)": 15.9,
          "Photon energy to (eV)": 19.1,
          "Polar ang (deg)": 67
         },
         {
          "EWS delay (as)": 220.59016195860931,
          "KE range (eV)": "4.0–7.2",
          "Photon energy fr (eV)": 14.3,
          "Photon energy to (eV)": 15.9,
          "Polar ang (deg)": 68
         },
         {
          "EWS delay (as)": -114.64566848884458,
          "KE range (eV)": "7.2–13.6",
          "Photon energy fr (eV)": 15.9,
          "Photon energy to (eV)": 19.1,
          "Polar ang (deg)": 68
         },
         {
          "EWS delay (as)": 222.03486412753838,
          "KE range (eV)": "4.0–7.2",
          "Photon energy fr (eV)": 14.3,
          "Photon energy to (eV)": 15.9,
          "Polar ang (deg)": 69
         },
         {
          "EWS delay (as)": -113.72718834450562,
          "KE range (eV)": "7.2–13.6",
          "Photon energy fr (eV)": 15.9,
          "Photon energy to (eV)": 19.1,
          "Polar ang (deg)": 69
         },
         {
          "EWS delay (as)": 223.23401886307872,
          "KE range (eV)": "4.0–7.2",
          "Photon energy fr (eV)": 14.3,
          "Photon energy to (eV)": 15.9,
          "Polar ang (deg)": 70
         },
         {
          "EWS delay (as)": -112.7480117348888,
          "KE range (eV)": "7.2–13.6",
          "Photon energy fr (eV)": 15.9,
          "Photon energy to (eV)": 19.1,
          "Polar ang (deg)": 70
         },
         {
          "EWS delay (as)": 224.22711814078713,
          "KE range (eV)": "4.0–7.2",
          "Photon energy fr (eV)": 14.3,
          "Photon energy to (eV)": 15.9,
          "Polar ang (deg)": 71
         },
         {
          "EWS delay (as)": -111.73352482289825,
          "KE range (eV)": "7.2–13.6",
          "Photon energy fr (eV)": 15.9,
          "Photon energy to (eV)": 19.1,
          "Polar ang (deg)": 71
         },
         {
          "EWS delay (as)": 225.04755215971565,
          "KE range (eV)": "4.0–7.2",
          "Photon energy fr (eV)": 14.3,
          "Photon energy to (eV)": 15.9,
          "Polar ang (deg)": 72
         },
         {
          "EWS delay (as)": -110.70485128793818,
          "KE range (eV)": "7.2–13.6",
          "Photon energy fr (eV)": 15.9,
          "Photon energy to (eV)": 19.1,
          "Polar ang (deg)": 72
         },
         {
          "EWS delay (as)": 225.7236092071667,
          "KE range (eV)": "4.0–7.2",
          "Photon energy fr (eV)": 14.3,
          "Photon energy to (eV)": 15.9,
          "Polar ang (deg)": 73
         },
         {
          "EWS delay (as)": -109.6794763255098,
          "KE range (eV)": "7.2–13.6",
          "Photon energy fr (eV)": 15.9,
          "Photon energy to (eV)": 19.1,
          "Polar ang (deg)": 73
         },
         {
          "EWS delay (as)": 226.27931800256044,
          "KE range (eV)": "4.0–7.2",
          "Photon energy fr (eV)": 14.3,
          "Photon energy to (eV)": 15.9,
          "Polar ang (deg)": 74
         },
         {
          "EWS delay (as)": -108.67179817822073,
          "KE range (eV)": "7.2–13.6",
          "Photon energy fr (eV)": 15.9,
          "Photon energy to (eV)": 19.1,
          "Polar ang (deg)": 74
         },
         {
          "EWS delay (as)": 226.73515802887607,
          "KE range (eV)": "4.0–7.2",
          "Photon energy fr (eV)": 14.3,
          "Photon energy to (eV)": 15.9,
          "Polar ang (deg)": 75
         },
         {
          "EWS delay (as)": -107.69361329040774,
          "KE range (eV)": "7.2–13.6",
          "Photon energy fr (eV)": 15.9,
          "Photon energy to (eV)": 19.1,
          "Polar ang (deg)": 75
         },
         {
          "EWS delay (as)": 227.10866248828918,
          "KE range (eV)": "4.0–7.2",
          "Photon energy fr (eV)": 14.3,
          "Photon energy to (eV)": 15.9,
          "Polar ang (deg)": 76
         },
         {
          "EWS delay (as)": -106.75454193068677,
          "KE range (eV)": "7.2–13.6",
          "Photon energy fr (eV)": 15.9,
          "Photon energy to (eV)": 19.1,
          "Polar ang (deg)": 76
         },
         {
          "EWS delay (as)": 227.41493763936842,
          "KE range (eV)": "4.0–7.2",
          "Photon energy fr (eV)": 14.3,
          "Photon energy to (eV)": 15.9,
          "Polar ang (deg)": 77
         },
         {
          "EWS delay (as)": -105.86240163399927,
          "KE range (eV)": "7.2–13.6",
          "Photon energy fr (eV)": 15.9,
          "Photon energy to (eV)": 19.1,
          "Polar ang (deg)": 77
         },
         {
          "EWS delay (as)": 227.66712262551474,
          "KE range (eV)": "4.0–7.2",
          "Photon energy fr (eV)": 14.3,
          "Photon energy to (eV)": 15.9,
          "Polar ang (deg)": 78
         },
         {
          "EWS delay (as)": -105.02353647910769,
          "KE range (eV)": "7.2–13.6",
          "Photon energy fr (eV)": 15.9,
          "Photon energy to (eV)": 19.1,
          "Polar ang (deg)": 78
         },
         {
          "EWS delay (as)": 227.87681697908369,
          "KE range (eV)": "4.0–7.2",
          "Photon energy fr (eV)": 14.3,
          "Photon energy to (eV)": 15.9,
          "Polar ang (deg)": 79
         },
         {
          "EWS delay (as)": -104.24311147552518,
          "KE range (eV)": "7.2–13.6",
          "Photon energy fr (eV)": 15.9,
          "Photon energy to (eV)": 19.1,
          "Polar ang (deg)": 79
         },
         {
          "EWS delay (as)": 228.05451145187794,
          "KE range (eV)": "4.0–7.2",
          "Photon energy fr (eV)": 14.3,
          "Photon energy to (eV)": 15.9,
          "Polar ang (deg)": 80
         },
         {
          "EWS delay (as)": -103.52538393178268,
          "KE range (eV)": "7.2–13.6",
          "Photon energy fr (eV)": 15.9,
          "Photon energy to (eV)": 19.1,
          "Polar ang (deg)": 80
         },
         {
          "EWS delay (as)": 228.2100774081095,
          "KE range (eV)": "4.0–7.2",
          "Photon energy fr (eV)": 14.3,
          "Photon energy to (eV)": 15.9,
          "Polar ang (deg)": 81
         },
         {
          "EWS delay (as)": -102.87396922747607,
          "KE range (eV)": "7.2–13.6",
          "Photon energy fr (eV)": 15.9,
          "Photon energy to (eV)": 19.1,
          "Polar ang (deg)": 81
         },
         {
          "EWS delay (as)": 228.35341410342335,
          "KE range (eV)": "4.0–7.2",
          "Photon energy fr (eV)": 14.3,
          "Photon energy to (eV)": 15.9,
          "Polar ang (deg)": 82
         },
         {
          "EWS delay (as)": -102.29213059615752,
          "KE range (eV)": "7.2–13.6",
          "Photon energy fr (eV)": 15.9,
          "Photon energy to (eV)": 19.1,
          "Polar ang (deg)": 82
         },
         {
          "EWS delay (as)": 228.49545631793669,
          "KE range (eV)": "4.0–7.2",
          "Photon energy fr (eV)": 14.3,
          "Photon energy to (eV)": 15.9,
          "Polar ang (deg)": 83
         },
         {
          "EWS delay (as)": -101.78315090897198,
          "KE range (eV)": "7.2–13.6",
          "Photon energy fr (eV)": 15.9,
          "Photon energy to (eV)": 19.1,
          "Polar ang (deg)": 83
         },
         {
          "EWS delay (as)": 228.6500046433394,
          "KE range (eV)": "4.0–7.2",
          "Photon energy fr (eV)": 14.3,
          "Photon energy to (eV)": 15.9,
          "Polar ang (deg)": 84
         },
         {
          "EWS delay (as)": -101.35091586924207,
          "KE range (eV)": "7.2–13.6",
          "Photon energy fr (eV)": 15.9,
          "Photon energy to (eV)": 19.1,
          "Polar ang (deg)": 84
         },
         {
          "EWS delay (as)": 228.83756932581562,
          "KE range (eV)": "4.0–7.2",
          "Photon energy fr (eV)": 14.3,
          "Photon energy to (eV)": 15.9,
          "Polar ang (deg)": 85
         },
         {
          "EWS delay (as)": -101.00103821327818,
          "KE range (eV)": "7.2–13.6",
          "Photon energy fr (eV)": 15.9,
          "Photon energy to (eV)": 19.1,
          "Polar ang (deg)": 85
         },
         {
          "EWS delay (as)": 229.09478342516138,
          "KE range (eV)": "4.0–7.2",
          "Photon energy fr (eV)": 14.3,
          "Photon energy to (eV)": 15.9,
          "Polar ang (deg)": 86
         },
         {
          "EWS delay (as)": -100.74350142080235,
          "KE range (eV)": "7.2–13.6",
          "Photon energy fr (eV)": 15.9,
          "Photon energy to (eV)": 19.1,
          "Polar ang (deg)": 86
         },
         {
          "EWS delay (as)": 229.5023716932535,
          "KE range (eV)": "4.0–7.2",
          "Photon energy fr (eV)": 14.3,
          "Photon energy to (eV)": 15.9,
          "Polar ang (deg)": 87
         },
         {
          "EWS delay (as)": -100.60038292030599,
          "KE range (eV)": "7.2–13.6",
          "Photon energy fr (eV)": 15.9,
          "Photon energy to (eV)": 19.1,
          "Polar ang (deg)": 87
         },
         {
          "EWS delay (as)": 230.2962522361019,
          "KE range (eV)": "4.0–7.2",
          "Photon energy fr (eV)": 14.3,
          "Photon energy to (eV)": 15.9,
          "Polar ang (deg)": 88
         },
         {
          "EWS delay (as)": -100.63627845638429,
          "KE range (eV)": "7.2–13.6",
          "Photon energy fr (eV)": 15.9,
          "Photon energy to (eV)": 19.1,
          "Polar ang (deg)": 88
         },
         {
          "EWS delay (as)": 232.63612873621727,
          "KE range (eV)": "4.0–7.2",
          "Photon energy fr (eV)": 14.3,
          "Photon energy to (eV)": 15.9,
          "Polar ang (deg)": 89
         },
         {
          "EWS delay (as)": -101.1666533165621,
          "KE range (eV)": "7.2–13.6",
          "Photon energy fr (eV)": 15.9,
          "Photon energy to (eV)": 19.1,
          "Polar ang (deg)": 89
         },
         {
          "EWS delay (as)": 223.10895984661235,
          "KE range (eV)": "4.0–7.2",
          "Photon energy fr (eV)": 14.3,
          "Photon energy to (eV)": 15.9,
          "Polar ang (deg)": 91
         },
         {
          "EWS delay (as)": -98.51373835757481,
          "KE range (eV)": "7.2–13.6",
          "Photon energy fr (eV)": 15.9,
          "Photon energy to (eV)": 19.1,
          "Polar ang (deg)": 91
         },
         {
          "EWS delay (as)": 225.5342675050037,
          "KE range (eV)": "4.0–7.2",
          "Photon energy fr (eV)": 14.3,
          "Photon energy to (eV)": 15.9,
          "Polar ang (deg)": 92
         },
         {
          "EWS delay (as)": -99.3058088798357,
          "KE range (eV)": "7.2–13.6",
          "Photon energy fr (eV)": 15.9,
          "Photon energy to (eV)": 19.1,
          "Polar ang (deg)": 92
         },
         {
          "EWS delay (as)": 226.3290790917901,
          "KE range (eV)": "4.0–7.2",
          "Photon energy fr (eV)": 14.3,
          "Photon energy to (eV)": 15.9,
          "Polar ang (deg)": 93
         },
         {
          "EWS delay (as)": -99.70873320794598,
          "KE range (eV)": "7.2–13.6",
          "Photon energy fr (eV)": 15.9,
          "Photon energy to (eV)": 19.1,
          "Polar ang (deg)": 93
         },
         {
          "EWS delay (as)": 226.71619211787544,
          "KE range (eV)": "4.0–7.2",
          "Photon energy fr (eV)": 14.3,
          "Photon energy to (eV)": 15.9,
          "Polar ang (deg)": 94
         },
         {
          "EWS delay (as)": -100.06983297229868,
          "KE range (eV)": "7.2–13.6",
          "Photon energy fr (eV)": 15.9,
          "Photon energy to (eV)": 19.1,
          "Polar ang (deg)": 94
         },
         {
          "EWS delay (as)": 226.93608563905929,
          "KE range (eV)": "4.0–7.2",
          "Photon energy fr (eV)": 14.3,
          "Photon energy to (eV)": 15.9,
          "Polar ang (deg)": 95
         },
         {
          "EWS delay (as)": -100.45701746874006,
          "KE range (eV)": "7.2–13.6",
          "Photon energy fr (eV)": 15.9,
          "Photon energy to (eV)": 19.1,
          "Polar ang (deg)": 95
         },
         {
          "EWS delay (as)": 227.06682233023545,
          "KE range (eV)": "4.0–7.2",
          "Photon energy fr (eV)": 14.3,
          "Photon energy to (eV)": 15.9,
          "Polar ang (deg)": 96
         },
         {
          "EWS delay (as)": -100.89237243966306,
          "KE range (eV)": "7.2–13.6",
          "Photon energy fr (eV)": 15.9,
          "Photon energy to (eV)": 19.1,
          "Polar ang (deg)": 96
         },
         {
          "EWS delay (as)": 227.13981676899039,
          "KE range (eV)": "4.0–7.2",
          "Photon energy fr (eV)": 14.3,
          "Photon energy to (eV)": 15.9,
          "Polar ang (deg)": 97
         },
         {
          "EWS delay (as)": -101.38484047437977,
          "KE range (eV)": "7.2–13.6",
          "Photon energy fr (eV)": 15.9,
          "Photon energy to (eV)": 19.1,
          "Polar ang (deg)": 97
         },
         {
          "EWS delay (as)": 227.16857984387647,
          "KE range (eV)": "4.0–7.2",
          "Photon energy fr (eV)": 14.3,
          "Photon energy to (eV)": 15.9,
          "Polar ang (deg)": 98
         },
         {
          "EWS delay (as)": -101.93827194236492,
          "KE range (eV)": "7.2–13.6",
          "Photon energy fr (eV)": 15.9,
          "Photon energy to (eV)": 19.1,
          "Polar ang (deg)": 98
         },
         {
          "EWS delay (as)": 227.15820937853584,
          "KE range (eV)": "4.0–7.2",
          "Photon energy fr (eV)": 14.3,
          "Photon energy to (eV)": 15.9,
          "Polar ang (deg)": 99
         },
         {
          "EWS delay (as)": -102.55403908804882,
          "KE range (eV)": "7.2–13.6",
          "Photon energy fr (eV)": 15.9,
          "Photon energy to (eV)": 19.1,
          "Polar ang (deg)": 99
         },
         {
          "EWS delay (as)": 227.10910765977715,
          "KE range (eV)": "4.0–7.2",
          "Photon energy fr (eV)": 14.3,
          "Photon energy to (eV)": 15.9,
          "Polar ang (deg)": 100
         },
         {
          "EWS delay (as)": -103.23201496407462,
          "KE range (eV)": "7.2–13.6",
          "Photon energy fr (eV)": 15.9,
          "Photon energy to (eV)": 19.1,
          "Polar ang (deg)": 100
         },
         {
          "EWS delay (as)": 227.01858810346405,
          "KE range (eV)": "4.0–7.2",
          "Photon energy fr (eV)": 14.3,
          "Photon energy to (eV)": 15.9,
          "Polar ang (deg)": 101
         },
         {
          "EWS delay (as)": -103.97094626776178,
          "KE range (eV)": "7.2–13.6",
          "Photon energy fr (eV)": 15.9,
          "Photon energy to (eV)": 19.1,
          "Polar ang (deg)": 101
         },
         {
          "EWS delay (as)": 226.88158610010797,
          "KE range (eV)": "4.0–7.2",
          "Photon energy fr (eV)": 14.3,
          "Photon energy to (eV)": 15.9,
          "Polar ang (deg)": 102
         },
         {
          "EWS delay (as)": -104.76855964438411,
          "KE range (eV)": "7.2–13.6",
          "Photon energy fr (eV)": 15.9,
          "Photon energy to (eV)": 19.1,
          "Polar ang (deg)": 102
         },
         {
          "EWS delay (as)": 226.69093709002553,
          "KE range (eV)": "4.0–7.2",
          "Photon energy fr (eV)": 14.3,
          "Photon energy to (eV)": 15.9,
          "Polar ang (deg)": 103
         },
         {
          "EWS delay (as)": -105.62152940475299,
          "KE range (eV)": "7.2–13.6",
          "Photon energy fr (eV)": 15.9,
          "Photon energy to (eV)": 19.1,
          "Polar ang (deg)": 103
         },
         {
          "EWS delay (as)": 226.43741598860848,
          "KE range (eV)": "4.0–7.2",
          "Photon energy fr (eV)": 14.3,
          "Photon energy to (eV)": 15.9,
          "Polar ang (deg)": 104
         },
         {
          "EWS delay (as)": -106.5253589658346,
          "KE range (eV)": "7.2–13.6",
          "Photon energy fr (eV)": 15.9,
          "Photon energy to (eV)": 19.1,
          "Polar ang (deg)": 104
         },
         {
          "EWS delay (as)": 226.1096236982448,
          "KE range (eV)": "4.0–7.2",
          "Photon energy fr (eV)": 14.3,
          "Photon energy to (eV)": 15.9,
          "Polar ang (deg)": 105
         },
         {
          "EWS delay (as)": -107.47419786301674,
          "KE range (eV)": "7.2–13.6",
          "Photon energy fr (eV)": 15.9,
          "Photon energy to (eV)": 19.1,
          "Polar ang (deg)": 105
         },
         {
          "EWS delay (as)": 225.69375804337972,
          "KE range (eV)": "4.0–7.2",
          "Photon energy fr (eV)": 14.3,
          "Photon energy to (eV)": 15.9,
          "Polar ang (deg)": 106
         },
         {
          "EWS delay (as)": -108.46060265803344,
          "KE range (eV)": "7.2–13.6",
          "Photon energy fr (eV)": 15.9,
          "Photon energy to (eV)": 19.1,
          "Polar ang (deg)": 106
         },
         {
          "EWS delay (as)": 225.17328246602764,
          "KE range (eV)": "4.0–7.2",
          "Photon energy fr (eV)": 14.3,
          "Photon energy to (eV)": 15.9,
          "Polar ang (deg)": 107
         },
         {
          "EWS delay (as)": -109.47524347973842,
          "KE range (eV)": "7.2–13.6",
          "Photon energy fr (eV)": 15.9,
          "Photon energy to (eV)": 19.1,
          "Polar ang (deg)": 107
         },
         {
          "EWS delay (as)": 224.5284925540026,
          "KE range (eV)": "4.0–7.2",
          "Photon energy fr (eV)": 14.3,
          "Photon energy to (eV)": 15.9,
          "Polar ang (deg)": 108
         },
         {
          "EWS delay (as)": -110.50655449901562,
          "KE range (eV)": "7.2–13.6",
          "Photon energy fr (eV)": 15.9,
          "Photon energy to (eV)": 19.1,
          "Polar ang (deg)": 108
         },
         {
          "EWS delay (as)": 223.73597209460934,
          "KE range (eV)": "4.0–7.2",
          "Photon energy fr (eV)": 14.3,
          "Photon energy to (eV)": 15.9,
          "Polar ang (deg)": 109
         },
         {
          "EWS delay (as)": -111.5403247096263,
          "KE range (eV)": "7.2–13.6",
          "Photon energy fr (eV)": 15.9,
          "Photon energy to (eV)": 19.1,
          "Polar ang (deg)": 109
         },
         {
          "EWS delay (as)": 222.7679244060591,
          "KE range (eV)": "4.0–7.2",
          "Photon energy fr (eV)": 14.3,
          "Photon energy to (eV)": 15.9,
          "Polar ang (deg)": 110
         },
         {
          "EWS delay (as)": -112.55922430429808,
          "KE range (eV)": "7.2–13.6",
          "Photon energy fr (eV)": 15.9,
          "Photon energy to (eV)": 19.1,
          "Polar ang (deg)": 110
         },
         {
          "EWS delay (as)": 221.59136025514252,
          "KE range (eV)": "4.0–7.2",
          "Photon energy fr (eV)": 14.3,
          "Photon energy to (eV)": 15.9,
          "Polar ang (deg)": 111
         },
         {
          "EWS delay (as)": -113.54226146108512,
          "KE range (eV)": "7.2–13.6",
          "Photon energy fr (eV)": 15.9,
          "Photon energy to (eV)": 19.1,
          "Polar ang (deg)": 111
         },
         {
          "EWS delay (as)": 220.16712070412854,
          "KE range (eV)": "4.0–7.2",
          "Photon energy fr (eV)": 14.3,
          "Photon energy to (eV)": 15.9,
          "Polar ang (deg)": 112
         },
         {
          "EWS delay (as)": -114.46416453686277,
          "KE range (eV)": "7.2–13.6",
          "Photon energy fr (eV)": 15.9,
          "Photon energy to (eV)": 19.1,
          "Polar ang (deg)": 112
         },
         {
          "EWS delay (as)": 218.44871257084634,
          "KE range (eV)": "4.0–7.2",
          "Photon energy fr (eV)": 14.3,
          "Photon energy to (eV)": 15.9,
          "Polar ang (deg)": 113
         },
         {
          "EWS delay (as)": -115.29468586217584,
          "KE range (eV)": "7.2–13.6",
          "Photon energy fr (eV)": 15.9,
          "Photon energy to (eV)": 19.1,
          "Polar ang (deg)": 113
         },
         {
          "EWS delay (as)": 216.3809378757134,
          "KE range (eV)": "4.0–7.2",
          "Photon energy fr (eV)": 14.3,
          "Photon energy to (eV)": 15.9,
          "Polar ang (deg)": 114
         },
         {
          "EWS delay (as)": -115.99782643389953,
          "KE range (eV)": "7.2–13.6",
          "Photon energy fr (eV)": 15.9,
          "Photon energy to (eV)": 19.1,
          "Polar ang (deg)": 114
         },
         {
          "EWS delay (as)": 213.89831033899995,
          "KE range (eV)": "4.0–7.2",
          "Photon energy fr (eV)": 14.3,
          "Photon energy to (eV)": 15.9,
          "Polar ang (deg)": 115
         },
         {
          "EWS delay (as)": -116.53098744380374,
          "KE range (eV)": "7.2–13.6",
          "Photon energy fr (eV)": 15.9,
          "Photon energy to (eV)": 19.1,
          "Polar ang (deg)": 115
         },
         {
          "EWS delay (as)": 210.92327838184153,
          "KE range (eV)": "4.0–7.2",
          "Photon energy fr (eV)": 14.3,
          "Photon energy to (eV)": 15.9,
          "Polar ang (deg)": 116
         },
         {
          "EWS delay (as)": -116.84406790068856,
          "KE range (eV)": "7.2–13.6",
          "Photon energy fr (eV)": 15.9,
          "Photon energy to (eV)": 19.1,
          "Polar ang (deg)": 116
         },
         {
          "EWS delay (as)": 207.3643262217043,
          "KE range (eV)": "4.0–7.2",
          "Photon energy fr (eV)": 14.3,
          "Photon energy to (eV)": 15.9,
          "Polar ang (deg)": 117
         },
         {
          "EWS delay (as)": -116.87855292149928,
          "KE range (eV)": "7.2–13.6",
          "Photon energy fr (eV)": 15.9,
          "Photon energy to (eV)": 19.1,
          "Polar ang (deg)": 117
         },
         {
          "EWS delay (as)": 203.11412067345137,
          "KE range (eV)": "4.0–7.2",
          "Photon energy fr (eV)": 14.3,
          "Photon energy to (eV)": 15.9,
          "Polar ang (deg)": 118
         },
         {
          "EWS delay (as)": -116.56668351176768,
          "KE range (eV)": "7.2–13.6",
          "Photon energy fr (eV)": 15.9,
          "Photon energy to (eV)": 19.1,
          "Polar ang (deg)": 118
         },
         {
          "EWS delay (as)": 198.04803862418487,
          "KE range (eV)": "4.0–7.2",
          "Photon energy fr (eV)": 14.3,
          "Photon energy to (eV)": 15.9,
          "Polar ang (deg)": 119
         },
         {
          "EWS delay (as)": -115.8308795240678,
          "KE range (eV)": "7.2–13.6",
          "Photon energy fr (eV)": 15.9,
          "Photon energy to (eV)": 19.1,
          "Polar ang (deg)": 119
         },
         {
          "EWS delay (as)": 192.02368712655584,
          "KE range (eV)": "4.0–7.2",
          "Photon energy fr (eV)": 14.3,
          "Photon energy to (eV)": 15.9,
          "Polar ang (deg)": 120
         },
         {
          "EWS delay (as)": -114.58372223833693,
          "KE range (eV)": "7.2–13.6",
          "Photon energy fr (eV)": 15.9,
          "Photon energy to (eV)": 19.1,
          "Polar ang (deg)": 120
         },
         {
          "EWS delay (as)": 184.88245718696373,
          "KE range (eV)": "4.0–7.2",
          "Photon energy fr (eV)": 14.3,
          "Photon energy to (eV)": 15.9,
          "Polar ang (deg)": 121
         },
         {
          "EWS delay (as)": -112.72901321141912,
          "KE range (eV)": "7.2–13.6",
          "Photon energy fr (eV)": 15.9,
          "Photon energy to (eV)": 19.1,
          "Polar ang (deg)": 121
         },
         {
          "EWS delay (as)": 176.45475630262004,
          "KE range (eV)": "4.0–7.2",
          "Photon energy fr (eV)": 14.3,
          "Photon energy to (eV)": 15.9,
          "Polar ang (deg)": 122
         },
         {
          "EWS delay (as)": -110.16472347857395,
          "KE range (eV)": "7.2–13.6",
          "Photon energy fr (eV)": 15.9,
          "Photon energy to (eV)": 19.1,
          "Polar ang (deg)": 122
         },
         {
          "EWS delay (as)": 166.57127656912505,
          "KE range (eV)": "4.0–7.2",
          "Photon energy fr (eV)": 14.3,
          "Photon energy to (eV)": 15.9,
          "Polar ang (deg)": 123
         },
         {
          "EWS delay (as)": -106.78899886846182,
          "KE range (eV)": "7.2–13.6",
          "Photon energy fr (eV)": 15.9,
          "Photon energy to (eV)": 19.1,
          "Polar ang (deg)": 123
         },
         {
          "EWS delay (as)": 155.08317699754,
          "KE range (eV)": "4.0–7.2",
          "Photon energy fr (eV)": 14.3,
          "Photon energy to (eV)": 15.9,
          "Polar ang (deg)": 124
         },
         {
          "EWS delay (as)": -102.51064478252519,
          "KE range (eV)": "7.2–13.6",
          "Photon energy fr (eV)": 15.9,
          "Photon energy to (eV)": 19.1,
          "Polar ang (deg)": 124
         },
         {
          "EWS delay (as)": 141.89365113275068,
          "KE range (eV)": "4.0–7.2",
          "Photon energy fr (eV)": 14.3,
          "Photon energy to (eV)": 15.9,
          "Polar ang (deg)": 125
         },
         {
          "EWS delay (as)": -97.2653080215751,
          "KE range (eV)": "7.2–13.6",
          "Photon energy fr (eV)": 15.9,
          "Photon energy to (eV)": 19.1,
          "Polar ang (deg)": 125
         },
         {
          "EWS delay (as)": 127.00072231868795,
          "KE range (eV)": "4.0–7.2",
          "Photon energy fr (eV)": 14.3,
          "Photon energy to (eV)": 15.9,
          "Polar ang (deg)": 126
         },
         {
          "EWS delay (as)": -91.03725844906556,
          "KE range (eV)": "7.2–13.6",
          "Photon energy fr (eV)": 15.9,
          "Photon energy to (eV)": 19.1,
          "Polar ang (deg)": 126
         },
         {
          "EWS delay (as)": 110.54493575526719,
          "KE range (eV)": "4.0–7.2",
          "Photon energy fr (eV)": 14.3,
          "Photon energy to (eV)": 15.9,
          "Polar ang (deg)": 127
         },
         {
          "EWS delay (as)": -83.88358783788509,
          "KE range (eV)": "7.2–13.6",
          "Photon energy fr (eV)": 15.9,
          "Photon energy to (eV)": 19.1,
          "Polar ang (deg)": 127
         },
         {
          "EWS delay (as)": 92.84643092915067,
          "KE range (eV)": "4.0–7.2",
          "Photon energy fr (eV)": 14.3,
          "Photon energy to (eV)": 15.9,
          "Polar ang (deg)": 128
         },
         {
          "EWS delay (as)": -75.95305297557094,
          "KE range (eV)": "7.2–13.6",
          "Photon energy fr (eV)": 15.9,
          "Photon energy to (eV)": 19.1,
          "Polar ang (deg)": 128
         },
         {
          "EWS delay (as)": 74.40886403107555,
          "KE range (eV)": "4.0–7.2",
          "Photon energy fr (eV)": 14.3,
          "Photon energy to (eV)": 15.9,
          "Polar ang (deg)": 129
         },
         {
          "EWS delay (as)": -67.48828656103541,
          "KE range (eV)": "7.2–13.6",
          "Photon energy fr (eV)": 15.9,
          "Photon energy to (eV)": 19.1,
          "Polar ang (deg)": 129
         },
         {
          "EWS delay (as)": 55.872315258280686,
          "KE range (eV)": "4.0–7.2",
          "Photon energy fr (eV)": 14.3,
          "Photon energy to (eV)": 15.9,
          "Polar ang (deg)": 130
         },
         {
          "EWS delay (as)": -58.802435949451905,
          "KE range (eV)": "7.2–13.6",
          "Photon energy fr (eV)": 15.9,
          "Photon energy to (eV)": 19.1,
          "Polar ang (deg)": 130
         },
         {
          "EWS delay (as)": 37.91878542826746,
          "KE range (eV)": "4.0–7.2",
          "Photon energy fr (eV)": 14.3,
          "Photon energy to (eV)": 15.9,
          "Polar ang (deg)": 131
         },
         {
          "EWS delay (as)": -50.232028401056645,
          "KE range (eV)": "7.2–13.6",
          "Photon energy fr (eV)": 15.9,
          "Photon energy to (eV)": 19.1,
          "Polar ang (deg)": 131
         },
         {
          "EWS delay (as)": 21.161210952165995,
          "KE range (eV)": "4.0–7.2",
          "Photon energy fr (eV)": 14.3,
          "Photon energy to (eV)": 15.9,
          "Polar ang (deg)": 132
         },
         {
          "EWS delay (as)": -42.08152720863641,
          "KE range (eV)": "7.2–13.6",
          "Photon energy fr (eV)": 15.9,
          "Photon energy to (eV)": 19.1,
          "Polar ang (deg)": 132
         },
         {
          "EWS delay (as)": 6.057603280217057,
          "KE range (eV)": "4.0–7.2",
          "Photon energy fr (eV)": 14.3,
          "Photon energy to (eV)": 15.9,
          "Polar ang (deg)": 133
         },
         {
          "EWS delay (as)": -34.580384377170425,
          "KE range (eV)": "7.2–13.6",
          "Photon energy fr (eV)": 15.9,
          "Photon energy to (eV)": 19.1,
          "Polar ang (deg)": 133
         },
         {
          "EWS delay (as)": -7.124086717857729,
          "KE range (eV)": "4.0–7.2",
          "Photon energy fr (eV)": 14.3,
          "Photon energy to (eV)": 15.9,
          "Polar ang (deg)": 134
         },
         {
          "EWS delay (as)": -27.86539475749737,
          "KE range (eV)": "7.2–13.6",
          "Photon energy fr (eV)": 15.9,
          "Photon energy to (eV)": 19.1,
          "Polar ang (deg)": 134
         },
         {
          "EWS delay (as)": -18.292643447284245,
          "KE range (eV)": "4.0–7.2",
          "Photon energy fr (eV)": 14.3,
          "Photon energy to (eV)": 15.9,
          "Polar ang (deg)": 135
         },
         {
          "EWS delay (as)": -21.987225722182433,
          "KE range (eV)": "7.2–13.6",
          "Photon energy fr (eV)": 15.9,
          "Photon energy to (eV)": 19.1,
          "Polar ang (deg)": 135
         },
         {
          "EWS delay (as)": -27.492133234777608,
          "KE range (eV)": "4.0–7.2",
          "Photon energy fr (eV)": 14.3,
          "Photon energy to (eV)": 15.9,
          "Polar ang (deg)": 136
         },
         {
          "EWS delay (as)": -16.930962977665153,
          "KE range (eV)": "7.2–13.6",
          "Photon energy fr (eV)": 15.9,
          "Photon energy to (eV)": 19.1,
          "Polar ang (deg)": 136
         },
         {
          "EWS delay (as)": -34.85396979253653,
          "KE range (eV)": "4.0–7.2",
          "Photon energy fr (eV)": 14.3,
          "Photon energy to (eV)": 15.9,
          "Polar ang (deg)": 137
         },
         {
          "EWS delay (as)": -12.639856745637612,
          "KE range (eV)": "7.2–13.6",
          "Photon energy fr (eV)": 15.9,
          "Photon energy to (eV)": 19.1,
          "Polar ang (deg)": 137
         },
         {
          "EWS delay (as)": -40.55592884617968,
          "KE range (eV)": "4.0–7.2",
          "Photon energy fr (eV)": 14.3,
          "Photon energy to (eV)": 15.9,
          "Polar ang (deg)": 138
         },
         {
          "EWS delay (as)": -9.035561275544731,
          "KE range (eV)": "7.2–13.6",
          "Photon energy fr (eV)": 15.9,
          "Photon energy to (eV)": 19.1,
          "Polar ang (deg)": 138
         },
         {
          "EWS delay (as)": -44.79277290291968,
          "KE range (eV)": "4.0–7.2",
          "Photon energy fr (eV)": 14.3,
          "Photon energy to (eV)": 15.9,
          "Polar ang (deg)": 139
         },
         {
          "EWS delay (as)": -6.032545722765617,
          "KE range (eV)": "7.2–13.6",
          "Photon energy fr (eV)": 15.9,
          "Photon energy to (eV)": 19.1,
          "Polar ang (deg)": 139
         },
         {
          "EWS delay (as)": -47.75781317300254,
          "KE range (eV)": "4.0–7.2",
          "Photon energy fr (eV)": 14.3,
          "Photon energy to (eV)": 15.9,
          "Polar ang (deg)": 140
         },
         {
          "EWS delay (as)": -3.547021718514352,
          "KE range (eV)": "7.2–13.6",
          "Photon energy fr (eV)": 15.9,
          "Photon energy to (eV)": 19.1,
          "Polar ang (deg)": 140
         },
         {
          "EWS delay (as)": -49.632724485808026,
          "KE range (eV)": "4.0–7.2",
          "Photon energy fr (eV)": 14.3,
          "Photon energy to (eV)": 15.9,
          "Polar ang (deg)": 141
         },
         {
          "EWS delay (as)": -1.501738732021023,
          "KE range (eV)": "7.2–13.6",
          "Photon energy fr (eV)": 15.9,
          "Photon energy to (eV)": 19.1,
          "Polar ang (deg)": 141
         },
         {
          "EWS delay (as)": -50.58281841746895,
          "KE range (eV)": "4.0–7.2",
          "Photon energy fr (eV)": 14.3,
          "Photon energy to (eV)": 15.9,
          "Polar ang (deg)": 142
         },
         {
          "EWS delay (as)": 0.17194640656019802,
          "KE range (eV)": "7.2–13.6",
          "Photon energy fr (eV)": 15.9,
          "Photon energy to (eV)": 19.1,
          "Polar ang (deg)": 142
         },
         {
          "EWS delay (as)": -50.7555883176857,
          "KE range (eV)": "4.0–7.2",
          "Photon energy fr (eV)": 14.3,
          "Photon energy to (eV)": 15.9,
          "Polar ang (deg)": 143
         },
         {
          "EWS delay (as)": 1.533624034775325,
          "KE range (eV)": "7.2–13.6",
          "Photon energy fr (eV)": 15.9,
          "Photon energy to (eV)": 19.1,
          "Polar ang (deg)": 143
         },
         {
          "EWS delay (as)": -50.28104220765589,
          "KE range (eV)": "4.0–7.2",
          "Photon energy fr (eV)": 14.3,
          "Photon energy to (eV)": 15.9,
          "Polar ang (deg)": 144
         },
         {
          "EWS delay (as)": 2.6342603245939573,
          "KE range (eV)": "7.2–13.6",
          "Photon energy fr (eV)": 15.9,
          "Photon energy to (eV)": 19.1,
          "Polar ang (deg)": 144
         },
         {
          "EWS delay (as)": -49.27290478717015,
          "KE range (eV)": "4.0–7.2",
          "Photon energy fr (eV)": 14.3,
          "Photon energy to (eV)": 15.9,
          "Polar ang (deg)": 145
         },
         {
          "EWS delay (as)": 3.517033929018607,
          "KE range (eV)": "7.2–13.6",
          "Photon energy fr (eV)": 15.9,
          "Photon energy to (eV)": 19.1,
          "Polar ang (deg)": 145
         },
         {
          "EWS delay (as)": -47.83016008443885,
          "KE range (eV)": "4.0–7.2",
          "Photon energy fr (eV)": 14.3,
          "Photon energy to (eV)": 15.9,
          "Polar ang (deg)": 146
         },
         {
          "EWS delay (as)": 4.218311068101267,
          "KE range (eV)": "7.2–13.6",
          "Photon energy fr (eV)": 15.9,
          "Photon energy to (eV)": 19.1,
          "Polar ang (deg)": 146
         },
         {
          "EWS delay (as)": -46.03865252067585,
          "KE range (eV)": "4.0–7.2",
          "Photon energy fr (eV)": 14.3,
          "Photon energy to (eV)": 15.9,
          "Polar ang (deg)": 147
         },
         {
          "EWS delay (as)": 4.768614348987664,
          "KE range (eV)": "7.2–13.6",
          "Photon energy fr (eV)": 15.9,
          "Photon energy to (eV)": 19.1,
          "Polar ang (deg)": 147
         },
         {
          "EWS delay (as)": -43.972609616693546,
          "KE range (eV)": "4.0–7.2",
          "Photon energy fr (eV)": 14.3,
          "Photon energy to (eV)": 15.9,
          "Polar ang (deg)": 148
         },
         {
          "EWS delay (as)": 5.19351517447457,
          "KE range (eV)": "7.2–13.6",
          "Photon energy fr (eV)": 15.9,
          "Photon energy to (eV)": 19.1,
          "Polar ang (deg)": 148
         },
         {
          "EWS delay (as)": -41.69603062404416,
          "KE range (eV)": "4.0–7.2",
          "Photon energy fr (eV)": 14.3,
          "Photon energy to (eV)": 15.9,
          "Polar ang (deg)": 149
         },
         {
          "EWS delay (as)": 5.514421907745508,
          "KE range (eV)": "7.2–13.6",
          "Photon energy fr (eV)": 15.9,
          "Photon energy to (eV)": 19.1,
          "Polar ang (deg)": 149
         },
         {
          "EWS delay (as)": -39.26392748156467,
          "KE range (eV)": "4.0–7.2",
          "Photon energy fr (eV)": 14.3,
          "Photon energy to (eV)": 15.9,
          "Polar ang (deg)": 150
         },
         {
          "EWS delay (as)": 5.749258638340804,
          "KE range (eV)": "7.2–13.6",
          "Photon energy fr (eV)": 15.9,
          "Photon energy to (eV)": 19.1,
          "Polar ang (deg)": 150
         },
         {
          "EWS delay (as)": -36.723424389906285,
          "KE range (eV)": "4.0–7.2",
          "Photon energy fr (eV)": 14.3,
          "Photon energy to (eV)": 15.9,
          "Polar ang (deg)": 151
         },
         {
          "EWS delay (as)": 5.9130406675402885,
          "KE range (eV)": "7.2–13.6",
          "Photon energy fr (eV)": 15.9,
          "Photon energy to (eV)": 19.1,
          "Polar ang (deg)": 151
         },
         {
          "EWS delay (as)": -34.114730048858995,
          "KE range (eV)": "4.0–7.2",
          "Photon energy fr (eV)": 14.3,
          "Photon energy to (eV)": 15.9,
          "Polar ang (deg)": 152
         },
         {
          "EWS delay (as)": 6.018357685443188,
          "KE range (eV)": "7.2–13.6",
          "Photon energy fr (eV)": 15.9,
          "Photon energy to (eV)": 19.1,
          "Polar ang (deg)": 152
         },
         {
          "EWS delay (as)": -31.47199821578194,
          "KE range (eV)": "4.0–7.2",
          "Photon energy fr (eV)": 14.3,
          "Photon energy to (eV)": 15.9,
          "Polar ang (deg)": 153
         },
         {
          "EWS delay (as)": 6.075777023940698,
          "KE range (eV)": "7.2–13.6",
          "Photon energy fr (eV)": 15.9,
          "Photon energy to (eV)": 19.1,
          "Polar ang (deg)": 153
         },
         {
          "EWS delay (as)": -28.824091086779685,
          "KE range (eV)": "4.0–7.2",
          "Photon energy fr (eV)": 14.3,
          "Photon energy to (eV)": 15.9,
          "Polar ang (deg)": 154
         },
         {
          "EWS delay (as)": 6.094179039189258,
          "KE range (eV)": "7.2–13.6",
          "Photon energy fr (eV)": 15.9,
          "Photon energy to (eV)": 19.1,
          "Polar ang (deg)": 154
         },
         {
          "EWS delay (as)": -26.195257880235687,
          "KE range (eV)": "4.0–7.2",
          "Photon energy fr (eV)": 14.3,
          "Photon energy to (eV)": 15.9,
          "Polar ang (deg)": 155
         },
         {
          "EWS delay (as)": 6.081035556401407,
          "KE range (eV)": "7.2–13.6",
          "Photon energy fr (eV)": 15.9,
          "Photon energy to (eV)": 19.1,
          "Polar ang (deg)": 155
         },
         {
          "EWS delay (as)": -23.605738809265773,
          "KE range (eV)": "4.0–7.2",
          "Photon energy fr (eV)": 14.3,
          "Photon energy to (eV)": 15.9,
          "Polar ang (deg)": 156
         },
         {
          "EWS delay (as)": 6.042640908944429,
          "KE range (eV)": "7.2–13.6",
          "Photon energy fr (eV)": 15.9,
          "Photon energy to (eV)": 19.1,
          "Polar ang (deg)": 156
         },
         {
          "EWS delay (as)": -21.072302746003594,
          "KE range (eV)": "4.0–7.2",
          "Photon energy fr (eV)": 14.3,
          "Photon energy to (eV)": 15.9,
          "Polar ang (deg)": 157
         },
         {
          "EWS delay (as)": 5.984303688620356,
          "KE range (eV)": "7.2–13.6",
          "Photon energy fr (eV)": 15.9,
          "Photon energy to (eV)": 19.1,
          "Polar ang (deg)": 157
         },
         {
          "EWS delay (as)": -18.608725415410497,
          "KE range (eV)": "4.0–7.2",
          "Photon energy fr (eV)": 14.3,
          "Photon energy to (eV)": 15.9,
          "Polar ang (deg)": 158
         },
         {
          "EWS delay (as)": 5.910506015670761,
          "KE range (eV)": "7.2–13.6",
          "Photon energy fr (eV)": 15.9,
          "Photon energy to (eV)": 19.1,
          "Polar ang (deg)": 158
         },
         {
          "EWS delay (as)": -16.226213886964683,
          "KE range (eV)": "4.0–7.2",
          "Photon energy fr (eV)": 14.3,
          "Photon energy to (eV)": 15.9,
          "Polar ang (deg)": 159
         },
         {
          "EWS delay (as)": 5.825035987447731,
          "KE range (eV)": "7.2–13.6",
          "Photon energy fr (eV)": 15.9,
          "Photon energy to (eV)": 19.1,
          "Polar ang (deg)": 159
         },
         {
          "EWS delay (as)": -13.93378237959339,
          "KE range (eV)": "4.0–7.2",
          "Photon energy fr (eV)": 14.3,
          "Photon energy to (eV)": 15.9,
          "Polar ang (deg)": 160
         },
         {
          "EWS delay (as)": 5.7310979807567755,
          "KE range (eV)": "7.2–13.6",
          "Photon energy fr (eV)": 15.9,
          "Photon energy to (eV)": 19.1,
          "Polar ang (deg)": 160
         },
         {
          "EWS delay (as)": -11.738583870901902,
          "KE range (eV)": "4.0–7.2",
          "Photon energy fr (eV)": 14.3,
          "Photon energy to (eV)": 15.9,
          "Polar ang (deg)": 161
         },
         {
          "EWS delay (as)": 5.631404656763753,
          "KE range (eV)": "7.2–13.6",
          "Photon energy fr (eV)": 15.9,
          "Photon energy to (eV)": 19.1,
          "Polar ang (deg)": 161
         },
         {
          "EWS delay (as)": -9.646201630192614,
          "KE range (eV)": "4.0–7.2",
          "Photon energy fr (eV)": 14.3,
          "Photon energy to (eV)": 15.9,
          "Polar ang (deg)": 162
         },
         {
          "EWS delay (as)": 5.528253831860526,
          "KE range (eV)": "7.2–13.6",
          "Photon energy fr (eV)": 15.9,
          "Photon energy to (eV)": 19.1,
          "Polar ang (deg)": 162
         },
         {
          "EWS delay (as)": -7.660904508619151,
          "KE range (eV)": "4.0–7.2",
          "Photon energy fr (eV)": 14.3,
          "Photon energy to (eV)": 15.9,
          "Polar ang (deg)": 163
         },
         {
          "EWS delay (as)": 5.4235928108853635,
          "KE range (eV)": "7.2–13.6",
          "Photon energy fr (eV)": 15.9,
          "Photon energy to (eV)": 19.1,
          "Polar ang (deg)": 163
         },
         {
          "EWS delay (as)": -5.78586958389383,
          "KE range (eV)": "4.0–7.2",
          "Photon energy fr (eV)": 14.3,
          "Photon energy to (eV)": 15.9,
          "Polar ang (deg)": 164
         },
         {
          "EWS delay (as)": 5.319072316194206,
          "KE range (eV)": "7.2–13.6",
          "Photon energy fr (eV)": 15.9,
          "Photon energy to (eV)": 19.1,
          "Polar ang (deg)": 164
         },
         {
          "EWS delay (as)": -4.023375533714155,
          "KE range (eV)": "4.0–7.2",
          "Photon energy fr (eV)": 14.3,
          "Photon energy to (eV)": 15.9,
          "Polar ang (deg)": 165
         },
         {
          "EWS delay (as)": 5.216091764199635,
          "KE range (eV)": "7.2–13.6",
          "Photon energy fr (eV)": 15.9,
          "Photon energy to (eV)": 19.1,
          "Polar ang (deg)": 165
         },
         {
          "EWS delay (as)": -2.374969895798748,
          "KE range (eV)": "4.0–7.2",
          "Photon energy fr (eV)": 14.3,
          "Photon energy to (eV)": 15.9,
          "Polar ang (deg)": 166
         },
         {
          "EWS delay (as)": 5.115837330776076,
          "KE range (eV)": "7.2–13.6",
          "Photon energy fr (eV)": 15.9,
          "Photon energy to (eV)": 19.1,
          "Polar ang (deg)": 166
         },
         {
          "EWS delay (as)": -0.8416131479457181,
          "KE range (eV)": "4.0–7.2",
          "Photon energy fr (eV)": 14.3,
          "Photon energy to (eV)": 15.9,
          "Polar ang (deg)": 167
         },
         {
          "EWS delay (as)": 5.019313991661281,
          "KE range (eV)": "7.2–13.6",
          "Photon energy fr (eV)": 15.9,
          "Photon energy to (eV)": 19.1,
          "Polar ang (deg)": 167
         },
         {
          "EWS delay (as)": 0.5761976871158081,
          "KE range (eV)": "4.0–7.2",
          "Photon energy fr (eV)": 14.3,
          "Photon energy to (eV)": 15.9,
          "Polar ang (deg)": 168
         },
         {
          "EWS delay (as)": 4.927372515462611,
          "KE range (eV)": "7.2–13.6",
          "Photon energy fr (eV)": 15.9,
          "Photon energy to (eV)": 19.1,
          "Polar ang (deg)": 168
         },
         {
          "EWS delay (as)": 1.8783234382622642,
          "KE range (eV)": "4.0–7.2",
          "Photon energy fr (eV)": 14.3,
          "Photon energy to (eV)": 15.9,
          "Polar ang (deg)": 169
         },
         {
          "EWS delay (as)": 4.840732216680577,
          "KE range (eV)": "7.2–13.6",
          "Photon energy fr (eV)": 15.9,
          "Photon energy to (eV)": 19.1,
          "Polar ang (deg)": 169
         },
         {
          "EWS delay (as)": 3.064892946055967,
          "KE range (eV)": "4.0–7.2",
          "Photon energy fr (eV)": 14.3,
          "Photon energy to (eV)": 15.9,
          "Polar ang (deg)": 170
         },
         {
          "EWS delay (as)": 4.7600001342928735,
          "KE range (eV)": "7.2–13.6",
          "Photon energy fr (eV)": 15.9,
          "Photon energy to (eV)": 19.1,
          "Polar ang (deg)": 170
         },
         {
          "EWS delay (as)": 4.136226974639381,
          "KE range (eV)": "4.0–7.2",
          "Photon energy fr (eV)": 14.3,
          "Photon energy to (eV)": 15.9,
          "Polar ang (deg)": 171
         },
         {
          "EWS delay (as)": 4.685687187536456,
          "KE range (eV)": "7.2–13.6",
          "Photon energy fr (eV)": 15.9,
          "Photon energy to (eV)": 19.1,
          "Polar ang (deg)": 171
         },
         {
          "EWS delay (as)": 5.092774089573181,
          "KE range (eV)": "4.0–7.2",
          "Photon energy fr (eV)": 14.3,
          "Photon energy to (eV)": 15.9,
          "Polar ang (deg)": 172
         },
         {
          "EWS delay (as)": 4.618221763007156,
          "KE range (eV)": "7.2–13.6",
          "Photon energy fr (eV)": 15.9,
          "Photon energy to (eV)": 19.1,
          "Polar ang (deg)": 172
         },
         {
          "EWS delay (as)": 5.935056925235688,
          "KE range (eV)": "4.0–7.2",
          "Photon energy fr (eV)": 14.3,
          "Photon energy to (eV)": 15.9,
          "Polar ang (deg)": 173
         },
         {
          "EWS delay (as)": 4.557961110081839,
          "KE range (eV)": "7.2–13.6",
          "Photon energy fr (eV)": 15.9,
          "Photon energy to (eV)": 19.1,
          "Polar ang (deg)": 173
         },
         {
          "EWS delay (as)": 6.663627470160533,
          "KE range (eV)": "4.0–7.2",
          "Photon energy fr (eV)": 14.3,
          "Photon energy to (eV)": 15.9,
          "Polar ang (deg)": 174
         },
         {
          "EWS delay (as)": 4.505200853652093,
          "KE range (eV)": "7.2–13.6",
          "Photon energy fr (eV)": 15.9,
          "Photon energy to (eV)": 19.1,
          "Polar ang (deg)": 174
         },
         {
          "EWS delay (as)": 7.279030184967513,
          "KE range (eV)": "4.0–7.2",
          "Photon energy fr (eV)": 14.3,
          "Photon energy to (eV)": 15.9,
          "Polar ang (deg)": 175
         },
         {
          "EWS delay (as)": 4.460182879335255,
          "KE range (eV)": "7.2–13.6",
          "Photon energy fr (eV)": 15.9,
          "Photon energy to (eV)": 19.1,
          "Polar ang (deg)": 175
         },
         {
          "EWS delay (as)": 7.781771944213524,
          "KE range (eV)": "4.0–7.2",
          "Photon energy fr (eV)": 14.3,
          "Photon energy to (eV)": 15.9,
          "Polar ang (deg)": 176
         },
         {
          "EWS delay (as)": 4.423101798939291,
          "KE range (eV)": "7.2–13.6",
          "Photon energy fr (eV)": 15.9,
          "Photon energy to (eV)": 19.1,
          "Polar ang (deg)": 176
         },
         {
          "EWS delay (as)": 8.17229795714193,
          "KE range (eV)": "4.0–7.2",
          "Photon energy fr (eV)": 14.3,
          "Photon energy to (eV)": 15.9,
          "Polar ang (deg)": 177
         },
         {
          "EWS delay (as)": 4.394110164638562,
          "KE range (eV)": "7.2–13.6",
          "Photon energy fr (eV)": 15.9,
          "Photon energy to (eV)": 19.1,
          "Polar ang (deg)": 177
         },
         {
          "EWS delay (as)": 8.45097297330533,
          "KE range (eV)": "4.0–7.2",
          "Photon energy fr (eV)": 14.3,
          "Photon energy to (eV)": 15.9,
          "Polar ang (deg)": 178
         },
         {
          "EWS delay (as)": 4.373322565871437,
          "KE range (eV)": "7.2–13.6",
          "Photon energy fr (eV)": 15.9,
          "Photon energy to (eV)": 19.1,
          "Polar ang (deg)": 178
         },
         {
          "EWS delay (as)": 8.618067220159281,
          "KE range (eV)": "4.0–7.2",
          "Photon energy fr (eV)": 14.3,
          "Photon energy to (eV)": 15.9,
          "Polar ang (deg)": 179
         },
         {
          "EWS delay (as)": 4.360818713504374,
          "KE range (eV)": "7.2–13.6",
          "Photon energy fr (eV)": 15.9,
          "Photon energy to (eV)": 19.1,
          "Polar ang (deg)": 179
         },
         {
          "EWS delay (as)": 8.67374665279061,
          "KE range (eV)": "4.0–7.2",
          "Photon energy fr (eV)": 14.3,
          "Photon energy to (eV)": 15.9,
          "Polar ang (deg)": 180
         },
         {
          "EWS delay (as)": 4.356645589127146,
          "KE range (eV)": "7.2–13.6",
          "Photon energy fr (eV)": 15.9,
          "Photon energy to (eV)": 19.1,
          "Polar ang (deg)": 180
         }
        ],
        "data-bc44ebc23fd634924faa655a26027ee9": [
         {
          "EWS delay (as)": 7.558801451039248,
          "EWS delay err (as)": 27.092306089800985,
          "EWS delay fr (as)": -19.533504638761737,
          "EWS delay to (as)": 34.65110754084023,
          "KE range (eV)": "4.0–7.2",
          "Photon energy fr (eV)": 14.3,
          "Photon energy to (eV)": 15.9,
          "Polar ang (deg)": 2.5,
          "Polar ang fr (deg)": 0,
          "Polar ang to (deg)": 5
         },
         {
          "EWS delay (as)": 10.06339482682064,
          "EWS delay err (as)": 9.437884760817662,
          "EWS delay fr (as)": 0.6255100660029775,
          "EWS delay to (as)": 19.5012795876383,
          "KE range (eV)": "7.2–13.6",
          "Photon energy fr (eV)": 15.9,
          "Photon energy to (eV)": 19.1,
          "Polar ang (deg)": 2.5,
          "Polar ang fr (deg)": 0,
          "Polar ang to (deg)": 5
         },
         {
          "EWS delay (as)": 21.917916459526666,
          "EWS delay err (as)": 21.266221608344175,
          "EWS delay fr (as)": 0.6516948511824907,
          "EWS delay to (as)": 43.18413806787084,
          "KE range (eV)": "4.0–7.2",
          "Photon energy fr (eV)": 14.3,
          "Photon energy to (eV)": 15.9,
          "Polar ang (deg)": 7.5,
          "Polar ang fr (deg)": 5,
          "Polar ang to (deg)": 10
         },
         {
          "EWS delay (as)": -1.46058974514926,
          "EWS delay err (as)": 10.049317307213165,
          "EWS delay fr (as)": -11.509907052362426,
          "EWS delay to (as)": 8.588727562063905,
          "KE range (eV)": "7.2–13.6",
          "Photon energy fr (eV)": 15.9,
          "Photon energy to (eV)": 19.1,
          "Polar ang (deg)": 7.5,
          "Polar ang fr (deg)": 5,
          "Polar ang to (deg)": 10
         },
         {
          "EWS delay (as)": -4.64439299429189,
          "EWS delay err (as)": 19.65697619410396,
          "EWS delay fr (as)": -24.301369188395853,
          "EWS delay to (as)": 15.012583199812072,
          "KE range (eV)": "4.0–7.2",
          "Photon energy fr (eV)": 14.3,
          "Photon energy to (eV)": 15.9,
          "Polar ang (deg)": 12.5,
          "Polar ang fr (deg)": 10,
          "Polar ang to (deg)": 15
         },
         {
          "EWS delay (as)": 9.139078098237192,
          "EWS delay err (as)": 9.282056530095003,
          "EWS delay fr (as)": -0.14297843185781112,
          "EWS delay to (as)": 18.421134628332197,
          "KE range (eV)": "7.2–13.6",
          "Photon energy fr (eV)": 15.9,
          "Photon energy to (eV)": 19.1,
          "Polar ang (deg)": 12.5,
          "Polar ang fr (deg)": 10,
          "Polar ang to (deg)": 15
         },
         {
          "EWS delay (as)": 13.230580080150327,
          "EWS delay err (as)": 20.140653008231077,
          "EWS delay fr (as)": -6.91007292808075,
          "EWS delay to (as)": 33.3712330883814,
          "KE range (eV)": "4.0–7.2",
          "Photon energy fr (eV)": 14.3,
          "Photon energy to (eV)": 15.9,
          "Polar ang (deg)": 17.5,
          "Polar ang fr (deg)": 15,
          "Polar ang to (deg)": 20
         },
         {
          "EWS delay (as)": -4.006538132181292,
          "EWS delay err (as)": 9.09830037202216,
          "EWS delay fr (as)": -13.104838504203453,
          "EWS delay to (as)": 5.091762239840869,
          "KE range (eV)": "7.2–13.6",
          "Photon energy fr (eV)": 15.9,
          "Photon energy to (eV)": 19.1,
          "Polar ang (deg)": 17.5,
          "Polar ang fr (deg)": 15,
          "Polar ang to (deg)": 20
         },
         {
          "EWS delay (as)": -16.038608340634074,
          "EWS delay err (as)": 25.070851471325188,
          "EWS delay fr (as)": -41.10945981195926,
          "EWS delay to (as)": 9.032243130691114,
          "KE range (eV)": "4.0–7.2",
          "Photon energy fr (eV)": 14.3,
          "Photon energy to (eV)": 15.9,
          "Polar ang (deg)": 22.5,
          "Polar ang fr (deg)": 20,
          "Polar ang to (deg)": 25
         },
         {
          "EWS delay (as)": 6.111474813121396,
          "EWS delay err (as)": 11.211608874049917,
          "EWS delay fr (as)": -5.100134060928521,
          "EWS delay to (as)": 17.323083687171312,
          "KE range (eV)": "7.2–13.6",
          "Photon energy fr (eV)": 15.9,
          "Photon energy to (eV)": 19.1,
          "Polar ang (deg)": 22.5,
          "Polar ang fr (deg)": 20,
          "Polar ang to (deg)": 25
         },
         {
          "EWS delay (as)": -46.44868164475264,
          "EWS delay err (as)": 25.989072540906648,
          "EWS delay fr (as)": -72.43775418565929,
          "EWS delay to (as)": -20.45960910384599,
          "KE range (eV)": "4.0–7.2",
          "Photon energy fr (eV)": 14.3,
          "Photon energy to (eV)": 15.9,
          "Polar ang (deg)": 27.5,
          "Polar ang fr (deg)": 25,
          "Polar ang to (deg)": 30
         },
         {
          "EWS delay (as)": 8.091138894744141,
          "EWS delay err (as)": 11.475295961223372,
          "EWS delay fr (as)": -3.384157066479231,
          "EWS delay to (as)": 19.566434855967515,
          "KE range (eV)": "7.2–13.6",
          "Photon energy fr (eV)": 15.9,
          "Photon energy to (eV)": 19.1,
          "Polar ang (deg)": 27.5,
          "Polar ang fr (deg)": 25,
          "Polar ang to (deg)": 30
         },
         {
          "EWS delay (as)": -26.846436009241486,
          "EWS delay err (as)": 28.103194288137974,
          "EWS delay fr (as)": -54.94963029737946,
          "EWS delay to (as)": 1.2567582788964877,
          "KE range (eV)": "4.0–7.2",
          "Photon energy fr (eV)": 14.3,
          "Photon energy to (eV)": 15.9,
          "Polar ang (deg)": 32.5,
          "Polar ang fr (deg)": 30,
          "Polar ang to (deg)": 35
         },
         {
          "EWS delay (as)": -3.616678267984985,
          "EWS delay err (as)": 12.515993409568312,
          "EWS delay fr (as)": -16.132671677553297,
          "EWS delay to (as)": 8.899315141583326,
          "KE range (eV)": "7.2–13.6",
          "Photon energy fr (eV)": 15.9,
          "Photon energy to (eV)": 19.1,
          "Polar ang (deg)": 32.5,
          "Polar ang fr (deg)": 30,
          "Polar ang to (deg)": 35
         },
         {
          "EWS delay (as)": -47.42208023259648,
          "EWS delay err (as)": 28.98188600967397,
          "EWS delay fr (as)": -76.40396624227046,
          "EWS delay to (as)": -18.440194222922507,
          "KE range (eV)": "4.0–7.2",
          "Photon energy fr (eV)": 14.3,
          "Photon energy to (eV)": 15.9,
          "Polar ang (deg)": 37.5,
          "Polar ang fr (deg)": 35,
          "Polar ang to (deg)": 40
         },
         {
          "EWS delay (as)": -1.92624673391314,
          "EWS delay err (as)": 14.167615220778442,
          "EWS delay fr (as)": -16.093861954691583,
          "EWS delay to (as)": 12.241368486865301,
          "KE range (eV)": "7.2–13.6",
          "Photon energy fr (eV)": 15.9,
          "Photon energy to (eV)": 19.1,
          "Polar ang (deg)": 37.5,
          "Polar ang fr (deg)": 35,
          "Polar ang to (deg)": 40
         },
         {
          "EWS delay (as)": -14.778293232703325,
          "EWS delay err (as)": 35.44670518734103,
          "EWS delay fr (as)": -50.22499842004436,
          "EWS delay to (as)": 20.668411954637705,
          "KE range (eV)": "4.0–7.2",
          "Photon energy fr (eV)": 14.3,
          "Photon energy to (eV)": 15.9,
          "Polar ang (deg)": 42.5,
          "Polar ang fr (deg)": 40,
          "Polar ang to (deg)": 45
         },
         {
          "EWS delay (as)": -24.79371633930554,
          "EWS delay err (as)": 16.835911662146476,
          "EWS delay fr (as)": -41.62962800145202,
          "EWS delay to (as)": -7.957804677159064,
          "KE range (eV)": "7.2–13.6",
          "Photon energy fr (eV)": 15.9,
          "Photon energy to (eV)": 19.1,
          "Polar ang (deg)": 42.5,
          "Polar ang fr (deg)": 40,
          "Polar ang to (deg)": 45
         },
         {
          "EWS delay (as)": 8.577830272445977,
          "EWS delay err (as)": 41.144201235589755,
          "EWS delay fr (as)": -32.566370963143775,
          "EWS delay to (as)": 49.722031508035734,
          "KE range (eV)": "4.0–7.2",
          "Photon energy fr (eV)": 14.3,
          "Photon energy to (eV)": 15.9,
          "Polar ang (deg)": 47.5,
          "Polar ang fr (deg)": 45,
          "Polar ang to (deg)": 50
         },
         {
          "EWS delay (as)": -39.978279216751574,
          "EWS delay err (as)": 21.935661418327257,
          "EWS delay fr (as)": -61.91394063507883,
          "EWS delay to (as)": -18.042617798424317,
          "KE range (eV)": "7.2–13.6",
          "Photon energy fr (eV)": 15.9,
          "Photon energy to (eV)": 19.1,
          "Polar ang (deg)": 47.5,
          "Polar ang fr (deg)": 45,
          "Polar ang to (deg)": 50
         },
         {
          "EWS delay (as)": 87.69217567655822,
          "EWS delay err (as)": 42.0644137686386,
          "EWS delay fr (as)": 45.62776190791962,
          "EWS delay to (as)": 129.75658944519682,
          "KE range (eV)": "4.0–7.2",
          "Photon energy fr (eV)": 14.3,
          "Photon energy to (eV)": 15.9,
          "Polar ang (deg)": 52.5,
          "Polar ang fr (deg)": 50,
          "Polar ang to (deg)": 55
         },
         {
          "EWS delay (as)": -67.64020950899963,
          "EWS delay err (as)": 22.20047090108335,
          "EWS delay fr (as)": -89.84068041008298,
          "EWS delay to (as)": -45.43973860791628,
          "KE range (eV)": "7.2–13.6",
          "Photon energy fr (eV)": 15.9,
          "Photon energy to (eV)": 19.1,
          "Polar ang (deg)": 52.5,
          "Polar ang fr (deg)": 50,
          "Polar ang to (deg)": 55
         },
         {
          "EWS delay (as)": 148.6013559355338,
          "EWS delay err (as)": 53.220218799238026,
          "EWS delay fr (as)": 95.38113713629578,
          "EWS delay to (as)": 201.82157473477184,
          "KE range (eV)": "4.0–7.2",
          "Photon energy fr (eV)": 14.3,
          "Photon energy to (eV)": 15.9,
          "Polar ang (deg)": 57.5,
          "Polar ang fr (deg)": 55,
          "Polar ang to (deg)": 60
         },
         {
          "EWS delay (as)": -97.27325336228034,
          "EWS delay err (as)": 27.83786528256656,
          "EWS delay fr (as)": -125.1111186448469,
          "EWS delay to (as)": -69.43538807971379,
          "KE range (eV)": "7.2–13.6",
          "Photon energy fr (eV)": 15.9,
          "Photon energy to (eV)": 19.1,
          "Polar ang (deg)": 57.5,
          "Polar ang fr (deg)": 55,
          "Polar ang to (deg)": 60
         },
         {
          "EWS delay (as)": 156.73111297109335,
          "EWS delay err (as)": 37.575492696900255,
          "EWS delay fr (as)": 119.1556202741931,
          "EWS delay to (as)": 194.3066056679936,
          "KE range (eV)": "4.0–7.2",
          "Photon energy fr (eV)": 14.3,
          "Photon energy to (eV)": 15.9,
          "Polar ang (deg)": 62.5,
          "Polar ang fr (deg)": 60,
          "Polar ang to (deg)": 65
         },
         {
          "EWS delay (as)": -91.24542700708696,
          "EWS delay err (as)": 21.741420101369282,
          "EWS delay fr (as)": -112.98684710845625,
          "EWS delay to (as)": -69.50400690571767,
          "KE range (eV)": "7.2–13.6",
          "Photon energy fr (eV)": 15.9,
          "Photon energy to (eV)": 19.1,
          "Polar ang (deg)": 62.5,
          "Polar ang fr (deg)": 60,
          "Polar ang to (deg)": 65
         },
         {
          "EWS delay (as)": 202.8356175529506,
          "EWS delay err (as)": 45.714014167485864,
          "EWS delay fr (as)": 157.12160338546474,
          "EWS delay to (as)": 248.54963172043645,
          "KE range (eV)": "4.0–7.2",
          "Photon energy fr (eV)": 14.3,
          "Photon energy to (eV)": 15.9,
          "Polar ang (deg)": 67.5,
          "Polar ang fr (deg)": 65,
          "Polar ang to (deg)": 70
         },
         {
          "EWS delay (as)": -105.7970473338919,
          "EWS delay err (as)": 24.267414415855136,
          "EWS delay fr (as)": -130.06446174974704,
          "EWS delay to (as)": -81.52963291803675,
          "KE range (eV)": "7.2–13.6",
          "Photon energy fr (eV)": 15.9,
          "Photon energy to (eV)": 19.1,
          "Polar ang (deg)": 67.5,
          "Polar ang fr (deg)": 65,
          "Polar ang to (deg)": 70
         },
         {
          "EWS delay (as)": 201.94260353779438,
          "EWS delay err (as)": 52.992340077418746,
          "EWS delay fr (as)": 148.95026346037565,
          "EWS delay to (as)": 254.93494361521311,
          "KE range (eV)": "4.0–7.2",
          "Photon energy fr (eV)": 14.3,
          "Photon energy to (eV)": 15.9,
          "Polar ang (deg)": 72.5,
          "Polar ang fr (deg)": 70,
          "Polar ang to (deg)": 75
         },
         {
          "EWS delay (as)": -87.19706587386281,
          "EWS delay err (as)": 28.008032017057715,
          "EWS delay fr (as)": -115.20509789092053,
          "EWS delay to (as)": -59.189033856805096,
          "KE range (eV)": "7.2–13.6",
          "Photon energy fr (eV)": 15.9,
          "Photon energy to (eV)": 19.1,
          "Polar ang (deg)": 72.5,
          "Polar ang fr (deg)": 70,
          "Polar ang to (deg)": 75
         },
         {
          "EWS delay (as)": 228.3596335049139,
          "EWS delay err (as)": 64.92234477826248,
          "EWS delay fr (as)": 163.4372887266514,
          "EWS delay to (as)": 293.2819782831764,
          "KE range (eV)": "4.0–7.2",
          "Photon energy fr (eV)": 14.3,
          "Photon energy to (eV)": 15.9,
          "Polar ang (deg)": 77.5,
          "Polar ang fr (deg)": 75,
          "Polar ang to (deg)": 80
         },
         {
          "EWS delay (as)": -93.5170485933893,
          "EWS delay err (as)": 32.918192184685616,
          "EWS delay fr (as)": -126.43524077807493,
          "EWS delay to (as)": -60.59885640870369,
          "KE range (eV)": "7.2–13.6",
          "Photon energy fr (eV)": 15.9,
          "Photon energy to (eV)": 19.1,
          "Polar ang (deg)": 77.5,
          "Polar ang fr (deg)": 75,
          "Polar ang to (deg)": 80
         },
         {
          "EWS delay (as)": 227.26291203875542,
          "EWS delay err (as)": 134.7400945058907,
          "EWS delay fr (as)": 92.5228175328647,
          "EWS delay to (as)": 362.00300654464615,
          "KE range (eV)": "4.0–7.2",
          "Photon energy fr (eV)": 14.3,
          "Photon energy to (eV)": 15.9,
          "Polar ang (deg)": 82.5,
          "Polar ang fr (deg)": 80,
          "Polar ang to (deg)": 85
         },
         {
          "EWS delay (as)": -102.28316372913895,
          "EWS delay err (as)": 55.43241768354488,
          "EWS delay fr (as)": -157.71558141268383,
          "EWS delay to (as)": -46.85074604559407,
          "KE range (eV)": "7.2–13.6",
          "Photon energy fr (eV)": 15.9,
          "Photon energy to (eV)": 19.1,
          "Polar ang (deg)": 82.5,
          "Polar ang fr (deg)": 80,
          "Polar ang to (deg)": 85
         },
         {
          "EWS delay (as)": 238.23658411292854,
          "EWS delay err (as)": 275.40936894399647,
          "EWS delay fr (as)": -37.17278483106793,
          "EWS delay to (as)": 513.645953056925,
          "KE range (eV)": "4.0–7.2",
          "Photon energy fr (eV)": 14.3,
          "Photon energy to (eV)": 15.9,
          "Polar ang (deg)": 87.5,
          "Polar ang fr (deg)": 85,
          "Polar ang to (deg)": 90
         },
         {
          "EWS delay (as)": -102.25285230264288,
          "EWS delay err (as)": 155.52602722984707,
          "EWS delay fr (as)": -257.77887953248995,
          "EWS delay to (as)": 53.273174927204195,
          "KE range (eV)": "7.2–13.6",
          "Photon energy fr (eV)": 15.9,
          "Photon energy to (eV)": 19.1,
          "Polar ang (deg)": 87.5,
          "Polar ang fr (deg)": 85,
          "Polar ang to (deg)": 90
         },
         {
          "EWS delay (as)": 238.23664142764727,
          "EWS delay err (as)": 275.40934427693304,
          "EWS delay fr (as)": -37.17270284928577,
          "EWS delay to (as)": 513.6459857045803,
          "KE range (eV)": "4.0–7.2",
          "Photon energy fr (eV)": 14.3,
          "Photon energy to (eV)": 15.9,
          "Polar ang (deg)": 92.5,
          "Polar ang fr (deg)": 90,
          "Polar ang to (deg)": 95
         },
         {
          "EWS delay (as)": -102.25287411196794,
          "EWS delay err (as)": 155.52599770820711,
          "EWS delay fr (as)": -257.778871820175,
          "EWS delay to (as)": 53.273123596239174,
          "KE range (eV)": "7.2–13.6",
          "Photon energy fr (eV)": 15.9,
          "Photon energy to (eV)": 19.1,
          "Polar ang (deg)": 92.5,
          "Polar ang fr (deg)": 90,
          "Polar ang to (deg)": 95
         },
         {
          "EWS delay (as)": 227.2628957977911,
          "EWS delay err (as)": 134.74009194518746,
          "EWS delay fr (as)": 92.52280385260363,
          "EWS delay to (as)": 362.0029877429786,
          "KE range (eV)": "4.0–7.2",
          "Photon energy fr (eV)": 14.3,
          "Photon energy to (eV)": 15.9,
          "Polar ang (deg)": 97.5,
          "Polar ang fr (deg)": 95,
          "Polar ang to (deg)": 100
         },
         {
          "EWS delay (as)": -102.28316255940433,
          "EWS delay err (as)": 55.43241256160514,
          "EWS delay fr (as)": -157.71557512100946,
          "EWS delay to (as)": -46.85074999779919,
          "KE range (eV)": "7.2–13.6",
          "Photon energy fr (eV)": 15.9,
          "Photon energy to (eV)": 19.1,
          "Polar ang (deg)": 97.5,
          "Polar ang fr (deg)": 95,
          "Polar ang to (deg)": 100
         },
         {
          "EWS delay (as)": 228.35963513055088,
          "EWS delay err (as)": 64.92234563506605,
          "EWS delay fr (as)": 163.43728949548483,
          "EWS delay to (as)": 293.28198076561694,
          "KE range (eV)": "4.0–7.2",
          "Photon energy fr (eV)": 14.3,
          "Photon energy to (eV)": 15.9,
          "Polar ang (deg)": 102.5,
          "Polar ang fr (deg)": 100,
          "Polar ang to (deg)": 105
         },
         {
          "EWS delay (as)": -93.51705079484337,
          "EWS delay err (as)": 32.918193235545644,
          "EWS delay fr (as)": -126.43524403038901,
          "EWS delay to (as)": -60.59885755929773,
          "KE range (eV)": "7.2–13.6",
          "Photon energy fr (eV)": 15.9,
          "Photon energy to (eV)": 19.1,
          "Polar ang (deg)": 102.5,
          "Polar ang fr (deg)": 100,
          "Polar ang to (deg)": 105
         },
         {
          "EWS delay (as)": 187.75966244043784,
          "EWS delay err (as)": 58.35707665215361,
          "EWS delay fr (as)": 129.40258578828423,
          "EWS delay to (as)": 246.11673909259144,
          "KE range (eV)": "4.0–7.2",
          "Photon energy fr (eV)": 14.3,
          "Photon energy to (eV)": 15.9,
          "Polar ang (deg)": 107.5,
          "Polar ang fr (deg)": 105,
          "Polar ang to (deg)": 110
         },
         {
          "EWS delay (as)": -80.1055936301072,
          "EWS delay err (as)": 30.55797618829823,
          "EWS delay fr (as)": -110.66356981840542,
          "EWS delay to (as)": -49.54761744180897,
          "KE range (eV)": "7.2–13.6",
          "Photon energy fr (eV)": 15.9,
          "Photon energy to (eV)": 19.1,
          "Polar ang (deg)": 107.5,
          "Polar ang fr (deg)": 105,
          "Polar ang to (deg)": 110
         },
         {
          "EWS delay (as)": 202.8356178761709,
          "EWS delay err (as)": 45.7140133881497,
          "EWS delay fr (as)": 157.12160448802118,
          "EWS delay to (as)": 248.5496312643206,
          "KE range (eV)": "4.0–7.2",
          "Photon energy fr (eV)": 14.3,
          "Photon energy to (eV)": 15.9,
          "Polar ang (deg)": 112.5,
          "Polar ang fr (deg)": 110,
          "Polar ang to (deg)": 115
         },
         {
          "EWS delay (as)": -105.79704735878313,
          "EWS delay err (as)": 24.26741456028439,
          "EWS delay fr (as)": -130.06446191906753,
          "EWS delay to (as)": -81.52963279849874,
          "KE range (eV)": "7.2–13.6",
          "Photon energy fr (eV)": 15.9,
          "Photon energy to (eV)": 19.1,
          "Polar ang (deg)": 112.5,
          "Polar ang fr (deg)": 110,
          "Polar ang to (deg)": 115
         },
         {
          "EWS delay (as)": 156.7311138608208,
          "EWS delay err (as)": 37.575492896829005,
          "EWS delay fr (as)": 119.15562096399181,
          "EWS delay to (as)": 194.30660675764983,
          "KE range (eV)": "4.0–7.2",
          "Photon energy fr (eV)": 14.3,
          "Photon energy to (eV)": 15.9,
          "Polar ang (deg)": 117.5,
          "Polar ang fr (deg)": 115,
          "Polar ang to (deg)": 120
         },
         {
          "EWS delay (as)": -91.24542707240334,
          "EWS delay err (as)": 21.741420053925847,
          "EWS delay fr (as)": -112.9868471263292,
          "EWS delay to (as)": -69.5040070184775,
          "KE range (eV)": "7.2–13.6",
          "Photon energy fr (eV)": 15.9,
          "Photon energy to (eV)": 19.1,
          "Polar ang (deg)": 117.5,
          "Polar ang fr (deg)": 115,
          "Polar ang to (deg)": 120
         },
         {
          "EWS delay (as)": 148.60136181842483,
          "EWS delay err (as)": 53.22021755803801,
          "EWS delay fr (as)": 95.38114426038683,
          "EWS delay to (as)": 201.82157937646284,
          "KE range (eV)": "4.0–7.2",
          "Photon energy fr (eV)": 14.3,
          "Photon energy to (eV)": 15.9,
          "Polar ang (deg)": 122.5,
          "Polar ang fr (deg)": 120,
          "Polar ang to (deg)": 125
         },
         {
          "EWS delay (as)": -97.27325593077374,
          "EWS delay err (as)": 27.837864594029245,
          "EWS delay fr (as)": -125.11112052480298,
          "EWS delay to (as)": -69.4353913367445,
          "KE range (eV)": "7.2–13.6",
          "Photon energy fr (eV)": 15.9,
          "Photon energy to (eV)": 19.1,
          "Polar ang (deg)": 122.5,
          "Polar ang fr (deg)": 120,
          "Polar ang to (deg)": 125
         },
         {
          "EWS delay (as)": 87.6921755178039,
          "EWS delay err (as)": 42.06441359810687,
          "EWS delay fr (as)": 45.627761919697036,
          "EWS delay to (as)": 129.75658911591077,
          "KE range (eV)": "4.0–7.2",
          "Photon energy fr (eV)": 14.3,
          "Photon energy to (eV)": 15.9,
          "Polar ang (deg)": 127.5,
          "Polar ang fr (deg)": 125,
          "Polar ang to (deg)": 130
         },
         {
          "EWS delay (as)": -67.64020840816812,
          "EWS delay err (as)": 22.200470860741834,
          "EWS delay fr (as)": -89.84067926890995,
          "EWS delay to (as)": -45.43973754742629,
          "KE range (eV)": "7.2–13.6",
          "Photon energy fr (eV)": 15.9,
          "Photon energy to (eV)": 19.1,
          "Polar ang (deg)": 127.5,
          "Polar ang fr (deg)": 125,
          "Polar ang to (deg)": 130
         },
         {
          "EWS delay (as)": 8.577832768845214,
          "EWS delay err (as)": 41.144201170519246,
          "EWS delay fr (as)": -32.56636840167403,
          "EWS delay to (as)": 49.72203393936446,
          "KE range (eV)": "4.0–7.2",
          "Photon energy fr (eV)": 14.3,
          "Photon energy to (eV)": 15.9,
          "Polar ang (deg)": 132.5,
          "Polar ang fr (deg)": 130,
          "Polar ang to (deg)": 135
         },
         {
          "EWS delay (as)": -39.978280324889575,
          "EWS delay err (as)": 21.935661418208344,
          "EWS delay fr (as)": -61.91394174309792,
          "EWS delay to (as)": -18.04261890668123,
          "KE range (eV)": "7.2–13.6",
          "Photon energy fr (eV)": 15.9,
          "Photon energy to (eV)": 19.1,
          "Polar ang (deg)": 132.5,
          "Polar ang fr (deg)": 130,
          "Polar ang to (deg)": 135
         },
         {
          "EWS delay (as)": -14.778293162137974,
          "EWS delay err (as)": 35.44670518769949,
          "EWS delay fr (as)": -50.22499834983746,
          "EWS delay to (as)": 20.66841202556152,
          "KE range (eV)": "4.0–7.2",
          "Photon energy fr (eV)": 14.3,
          "Photon energy to (eV)": 15.9,
          "Polar ang (deg)": 137.5,
          "Polar ang fr (deg)": 135,
          "Polar ang to (deg)": 140
         },
         {
          "EWS delay (as)": -24.79371598038594,
          "EWS delay err (as)": 16.835911737792546,
          "EWS delay fr (as)": -41.62962771817848,
          "EWS delay to (as)": -7.957804242593394,
          "KE range (eV)": "7.2–13.6",
          "Photon energy fr (eV)": 15.9,
          "Photon energy to (eV)": 19.1,
          "Polar ang (deg)": 137.5,
          "Polar ang fr (deg)": 135,
          "Polar ang to (deg)": 140
         },
         {
          "EWS delay (as)": -47.42208073272897,
          "EWS delay err (as)": 28.98188616663759,
          "EWS delay fr (as)": -76.40396689936657,
          "EWS delay to (as)": -18.44019456609138,
          "KE range (eV)": "4.0–7.2",
          "Photon energy fr (eV)": 14.3,
          "Photon energy to (eV)": 15.9,
          "Polar ang (deg)": 142.5,
          "Polar ang fr (deg)": 140,
          "Polar ang to (deg)": 145
         },
         {
          "EWS delay (as)": -1.926246383342911,
          "EWS delay err (as)": 14.167615173910903,
          "EWS delay fr (as)": -16.093861557253813,
          "EWS delay to (as)": 12.241368790567993,
          "KE range (eV)": "7.2–13.6",
          "Photon energy fr (eV)": 15.9,
          "Photon energy to (eV)": 19.1,
          "Polar ang (deg)": 142.5,
          "Polar ang fr (deg)": 140,
          "Polar ang to (deg)": 145
         },
         {
          "EWS delay (as)": -26.846436797976573,
          "EWS delay err (as)": 28.103194251922773,
          "EWS delay fr (as)": -54.949631049899345,
          "EWS delay to (as)": 1.2567574539462,
          "KE range (eV)": "4.0–7.2",
          "Photon energy fr (eV)": 14.3,
          "Photon energy to (eV)": 15.9,
          "Polar ang (deg)": 147.5,
          "Polar ang fr (deg)": 145,
          "Polar ang to (deg)": 150
         },
         {
          "EWS delay (as)": -3.616677817047174,
          "EWS delay err (as)": 12.515993329627914,
          "EWS delay fr (as)": -16.132671146675087,
          "EWS delay to (as)": 8.89931551258074,
          "KE range (eV)": "7.2–13.6",
          "Photon energy fr (eV)": 15.9,
          "Photon energy to (eV)": 19.1,
          "Polar ang (deg)": 147.5,
          "Polar ang fr (deg)": 145,
          "Polar ang to (deg)": 150
         },
         {
          "EWS delay (as)": -46.44868245583139,
          "EWS delay err (as)": 25.989072404366723,
          "EWS delay fr (as)": -72.43775486019811,
          "EWS delay to (as)": -20.459610051464665,
          "KE range (eV)": "4.0–7.2",
          "Photon energy fr (eV)": 14.3,
          "Photon energy to (eV)": 15.9,
          "Polar ang (deg)": 152.5,
          "Polar ang fr (deg)": 150,
          "Polar ang to (deg)": 155
         },
         {
          "EWS delay (as)": 8.091138894466908,
          "EWS delay err (as)": 11.475296004105502,
          "EWS delay fr (as)": -3.3841571096385934,
          "EWS delay to (as)": 19.56643489857241,
          "KE range (eV)": "7.2–13.6",
          "Photon energy fr (eV)": 15.9,
          "Photon energy to (eV)": 19.1,
          "Polar ang (deg)": 152.5,
          "Polar ang fr (deg)": 150,
          "Polar ang to (deg)": 155
         },
         {
          "EWS delay (as)": -16.03860901527558,
          "EWS delay err (as)": 25.0708515428285,
          "EWS delay fr (as)": -41.109460558104075,
          "EWS delay to (as)": 9.03224252755292,
          "KE range (eV)": "4.0–7.2",
          "Photon energy fr (eV)": 14.3,
          "Photon energy to (eV)": 15.9,
          "Polar ang (deg)": 157.5,
          "Polar ang fr (deg)": 155,
          "Polar ang to (deg)": 160
         },
         {
          "EWS delay (as)": 6.111475156463836,
          "EWS delay err (as)": 11.211608967814186,
          "EWS delay fr (as)": -5.10013381135035,
          "EWS delay to (as)": 17.323084124278022,
          "KE range (eV)": "7.2–13.6",
          "Photon energy fr (eV)": 15.9,
          "Photon energy to (eV)": 19.1,
          "Polar ang (deg)": 157.5,
          "Polar ang fr (deg)": 155,
          "Polar ang to (deg)": 160
         },
         {
          "EWS delay (as)": 13.230580407343213,
          "EWS delay err (as)": 20.140652993246555,
          "EWS delay fr (as)": -6.910072585903341,
          "EWS delay to (as)": 33.371233400589766,
          "KE range (eV)": "4.0–7.2",
          "Photon energy fr (eV)": 14.3,
          "Photon energy to (eV)": 15.9,
          "Polar ang (deg)": 162.5,
          "Polar ang fr (deg)": 160,
          "Polar ang to (deg)": 165
         },
         {
          "EWS delay (as)": -4.006538074621938,
          "EWS delay err (as)": 9.098300337081126,
          "EWS delay fr (as)": -13.104838411703064,
          "EWS delay to (as)": 5.091762262459188,
          "KE range (eV)": "7.2–13.6",
          "Photon energy fr (eV)": 15.9,
          "Photon energy to (eV)": 19.1,
          "Polar ang (deg)": 162.5,
          "Polar ang fr (deg)": 160,
          "Polar ang to (deg)": 165
         },
         {
          "EWS delay (as)": -4.644393525936186,
          "EWS delay err (as)": 19.65697618195771,
          "EWS delay fr (as)": -24.301369707893897,
          "EWS delay to (as)": 15.012582656021523,
          "KE range (eV)": "4.0–7.2",
          "Photon energy fr (eV)": 14.3,
          "Photon energy to (eV)": 15.9,
          "Polar ang (deg)": 167.5,
          "Polar ang fr (deg)": 165,
          "Polar ang to (deg)": 170
         },
         {
          "EWS delay (as)": 9.139078134553165,
          "EWS delay err (as)": 9.282056511319938,
          "EWS delay fr (as)": -0.1429783767667736,
          "EWS delay to (as)": 18.421134645873103,
          "KE range (eV)": "7.2–13.6",
          "Photon energy fr (eV)": 15.9,
          "Photon energy to (eV)": 19.1,
          "Polar ang (deg)": 167.5,
          "Polar ang fr (deg)": 165,
          "Polar ang to (deg)": 170
         },
         {
          "EWS delay (as)": 21.917916400423916,
          "EWS delay err (as)": 21.266221761088488,
          "EWS delay fr (as)": 0.6516946393354281,
          "EWS delay to (as)": 43.18413816151241,
          "KE range (eV)": "4.0–7.2",
          "Photon energy fr (eV)": 14.3,
          "Photon energy to (eV)": 15.9,
          "Polar ang (deg)": 172.5,
          "Polar ang fr (deg)": 170,
          "Polar ang to (deg)": 175
         },
         {
          "EWS delay (as)": -1.4605897142025641,
          "EWS delay err (as)": 10.049317295522874,
          "EWS delay fr (as)": -11.509907009725438,
          "EWS delay to (as)": 8.58872758132031,
          "KE range (eV)": "7.2–13.6",
          "Photon energy fr (eV)": 15.9,
          "Photon energy to (eV)": 19.1,
          "Polar ang (deg)": 172.5,
          "Polar ang fr (deg)": 170,
          "Polar ang to (deg)": 175
         },
         {
          "EWS delay (as)": 7.558801541343179,
          "EWS delay err (as)": 27.092306237696015,
          "EWS delay fr (as)": -19.533504696352836,
          "EWS delay to (as)": 34.651107779039194,
          "KE range (eV)": "4.0–7.2",
          "Photon energy fr (eV)": 14.3,
          "Photon energy to (eV)": 15.9,
          "Polar ang (deg)": 177.5,
          "Polar ang fr (deg)": 175,
          "Polar ang to (deg)": 180
         },
         {
          "EWS delay (as)": 10.063394705593122,
          "EWS delay err (as)": 9.437884774632883,
          "EWS delay fr (as)": 0.6255099309602397,
          "EWS delay to (as)": 19.501279480226003,
          "KE range (eV)": "7.2–13.6",
          "Photon energy fr (eV)": 15.9,
          "Photon energy to (eV)": 19.1,
          "Polar ang (deg)": 177.5,
          "Polar ang fr (deg)": 175,
          "Polar ang to (deg)": 180
         }
        ]
       },
       "layer": [
        {
         "data": {
          "name": "data-bc44ebc23fd634924faa655a26027ee9"
         },
         "encoding": {
          "color": {
           "field": "KE range (eV)",
           "type": "nominal"
          },
          "x": {
           "axis": {
            "title": "Polar angle (deg)"
           },
           "field": "Polar ang (deg)",
           "type": "quantitative"
          },
          "y": {
           "axis": {
            "title": "EWS delay difference (as)"
           },
           "field": "EWS delay (as)",
           "type": "quantitative"
          }
         },
         "mark": "point"
        },
        {
         "data": {
          "name": "data-bc44ebc23fd634924faa655a26027ee9"
         },
         "encoding": {
          "color": {
           "field": "KE range (eV)",
           "type": "nominal"
          },
          "x": {
           "field": "Polar ang (deg)",
           "type": "quantitative"
          },
          "y": {
           "field": "EWS delay fr (as)",
           "type": "quantitative"
          },
          "y2": {
           "field": "EWS delay to (as)",
           "type": "quantitative"
          }
         },
         "mark": {
          "opacity": 0.1,
          "type": "area"
         }
        },
        {
         "data": {
          "name": "data-1eba8ba4c31027ef96e20f8eaa4650d4"
         },
         "encoding": {
          "color": {
           "field": "KE range (eV)",
           "type": "nominal"
          },
          "x": {
           "field": "Polar ang (deg)",
           "type": "quantitative"
          },
          "y": {
           "field": "EWS delay (as)",
           "type": "quantitative"
          }
         },
         "mark": "line",
         "selection": {
          "selector009": {
           "bind": "scales",
           "encodings": [
            "y"
           ],
           "mark": {
            "fill": "#333",
            "fillOpacity": 0.125,
            "stroke": "white"
           },
           "on": "[mousedown, window:mouseup] > window:mousemove!",
           "resolve": "global",
           "translate": "[mousedown, window:mouseup] > window:mousemove!",
           "type": "interval",
           "zoom": "wheel!"
          }
         }
        }
       ]
      },
      "image/png": "[encoded data removed]",
      "text/plain": [
       "<VegaLite 2 object>\n",
       "\n",
       "If you see this message, it means the renderer has not been properly enabled\n",
       "for the frontend that you are using. For more information, see\n",
       "https://altair-viz.github.io/user_guide/troubleshooting.html\n"
      ]
     },
     "execution_count": 10,
     "metadata": {},
     "output_type": "execute_result"
    }
   ],
   "source": [
    "def _format(r: pd.Series):\n",
    "    th = 24.58738880\n",
    "    return \"{:.1f}–{:.1f}\".format(\n",
    "        2 * r[\"Photon energy fr (eV)\"] - th,\n",
    "        2 * r[\"Photon energy to (eV)\"] - th,\n",
    "    )\n",
    "\n",
    "\n",
    "measu = pd.read_json(\"Data/EWS delays - Measured.json\")\n",
    "measu[\"KE range (eV)\"] = measu.apply(_format, axis=1)\n",
    "measu[\"Polar ang (deg)\"] = (measu[\"Polar ang fr (deg)\"] + measu[\"Polar ang to (deg)\"]) / 2\n",
    "measu[\"EWS delay fr (as)\"] = measu[\"EWS delay (as)\"] - measu[\"EWS delay err (as)\"]\n",
    "measu[\"EWS delay to (as)\"] = measu[\"EWS delay (as)\"] + measu[\"EWS delay err (as)\"]\n",
    "\n",
    "simul = pd.read_json(\"Data/EWS delays - TDCASSCF.json\")\n",
    "simul = simul[simul[\"Polar ang (deg)\"] != 90]\n",
    "simul[\"KE range (eV)\"] = simul.apply(_format, axis=1)\n",
    "\n",
    "base = alt.Chart(measu)\n",
    "base.mark_point().encode(\n",
    "    x=alt.X(\"Polar ang (deg)\", axis=alt.Axis(title=\"Polar angle (deg)\")),\n",
    "    y=alt.Y(\"EWS delay (as)\", axis=alt.Axis(title=\"EWS delay difference (as)\")),\n",
    "    color=\"KE range (eV)\",\n",
    ") + base.mark_area(opacity=0.1).encode(\n",
    "    x=\"Polar ang (deg)\",\n",
    "    y=\"EWS delay fr (as)\",\n",
    "    y2=\"EWS delay to (as)\",\n",
    "    color=\"KE range (eV)\",\n",
    ") + alt.Chart(simul).mark_line().encode(\n",
    "    x=\"Polar ang (deg)\",\n",
    "    y=\"EWS delay (as)\",\n",
    "    color=\"KE range (eV)\",\n",
    ").interactive(bind_x=False)"
   ]
  }
 ],
 "metadata": {
  "kernelspec": {
   "display_name": "Python 3",
   "language": "python",
   "name": "python3"
  },
  "language_info": {
   "codemirror_mode": {
    "name": "ipython",
    "version": 3
   },
   "file_extension": ".py",
   "mimetype": "text/x-python",
   "name": "python",
   "nbconvert_exporter": "python",
   "pygments_lexer": "ipython3",
   "version": "3.6.5"
  }
 },
 "nbformat": 4,
 "nbformat_minor": 2
}
