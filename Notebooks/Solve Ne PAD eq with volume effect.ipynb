{
 "cells": [
  {
   "cell_type": "code",
   "execution_count": 1,
   "metadata": {},
   "outputs": [],
   "source": [
    "from typing import Tuple\n",
    "from itertools import chain, repeat, islice\n",
    "\n",
    "from IPython.display import display, Latex\n",
    "from sympy import (\n",
    "    init_printing, Expr, Symbol, symbols, I, pi, oo, Rational, exp, Ynm, Abs, cos, sin, arg, sqrt, re, legendre, cancel,\n",
    "    expand_func, simplify, expand, solve,\n",
    ")\n",
    "\n",
    "init_printing()"
   ]
  },
  {
   "cell_type": "code",
   "execution_count": 2,
   "metadata": {},
   "outputs": [],
   "source": [
    "# %% pads\n",
    "c_psp, c_pdp, c_sp, c_dp, c_fdp = symbols('c_psp c_pdp c_sp c_dp c_fdp', real=True)\n",
    "eta_s, eta_psp, eta_pdp, eta_d, eta_f = symbols('eta_sp eta_psp eta_pdp eta_dp eta_fdp', real=True)\n",
    "phi, the, vphi = symbols('phi theta varphi', real=True)\n",
    "r, rho_w, rho_2w, h = symbols('r rho_omega rho_2_omega h', positive=True)\n",
    "\n",
    "c0_sp = -sqrt(3)/3 * c_sp\n",
    "c0_dp, c1_dp = sqrt(30)/15 * c_dp, sqrt(10)/10 * c_dp\n",
    "c0_psp = -Rational(1, 3) * c_psp\n",
    "c0_pdp, c1_pdp = -Rational(2, 15) * c_pdp, -Rational(1, 10) * c_pdp\n",
    "c0_fdp, c1_fdp = sqrt(14)/35 * c_fdp, 2*sqrt(21)/105 * c_fdp\n",
    "\n",
    "waves = {\n",
    "    'm=0': (c0_psp * exp(-(r/rho_w)**2) * exp(eta_psp*I) * Ynm(1, 0, the, vphi) +\n",
    "            c0_pdp * exp(-(r/rho_w)**2) * exp(eta_pdp*I) * Ynm(1, 0, the, vphi) +\n",
    "            c0_fdp * exp(-(r/rho_w)**2) * exp(eta_f*I) * Ynm(3, 0, the, vphi) +\n",
    "            c0_sp * exp(-(r/rho_2w)**2/2) * exp(eta_s*I + phi*I) * Ynm(0, 0, the, vphi) +\n",
    "            c0_dp * exp(-(r/rho_2w)**2/2) * exp(eta_d*I + phi*I) * Ynm(2, 0, the, vphi)),\n",
    "    'm=1': (c1_pdp * exp(-(r/rho_w)**2) * exp(eta_pdp*I) * Ynm(1, 1, the, vphi) +\n",
    "            c1_fdp * exp(-(r/rho_w)**2) * exp(eta_f*I) * Ynm(3, 1, the, vphi) +\n",
    "            c1_dp * exp(-(r/rho_2w)**2/2) * exp(eta_d*I + phi*I) * Ynm(2, 1, the, vphi)),\n",
    "}\n",
    "pads = {\n",
    "    k: ((sum(Abs(term) ** 2 for term in expr) * r)\n",
    "        .integrate([r, 0, oo])\n",
    "        .subs(rho_2w**2, h*rho_w**2/2)\n",
    "        .cancel()\n",
    "        .simplify())\n",
    "    for k, expr in {\n",
    "        'm=0': [waves['m=0']],\n",
    "        'm=1': [waves['m=1']],\n",
    "        'summed': [waves['m=1'].subs(vphi, -vphi), waves['m=0'], waves['m=1']],\n",
    "    }.items()\n",
    "}"
   ]
  },
  {
   "cell_type": "code",
   "execution_count": 3,
   "metadata": {},
   "outputs": [],
   "source": [
    "# %% solve pad eq\n",
    "def expend_cos(expr: Expr, x: Symbol) -> Tuple[Expr, Expr]:\n",
    "    while True:\n",
    "        term = expr.subs(x, pi / 2)\n",
    "        yield term\n",
    "        expr = cancel((expr - term) / cos(x))\n",
    "        if expr == 0:\n",
    "            return\n",
    "\n",
    "\n",
    "def amp_and_shift(expr: Expr, x: Symbol) -> Tuple[Expr, Expr]:\n",
    "    amp = simplify(cancel(sqrt(expr ** 2 + expr.diff(x) ** 2).subs(x, 0)))\n",
    "    shift = arg(expr.subs(x, 0) + I * expr.diff(x).subs(x, 0))\n",
    "    return amp, shift\n",
    "\n",
    "\n",
    "def solve_eq(pad: Expr) -> dict:\n",
    "    # expand left term\n",
    "    left = (\n",
    "        expand_func(pad)\n",
    "        .subs(sin(the) ** 2, 1 - cos(the) ** 2)\n",
    "    )\n",
    "    terms_lft = list(islice(chain(expend_cos(left, the), repeat(0)), 7))\n",
    "\n",
    "    # expand right term\n",
    "    b0, b1, b2, b3, b4, b5, b6 = symbols(\n",
    "        'b_0 b_1 b_2 b_3 b_4 b_5 b_6',\n",
    "        real=True\n",
    "    )\n",
    "    right = (b0 +\n",
    "             b1 * legendre(1, cos(the)) +\n",
    "             b2 * legendre(2, cos(the)) +\n",
    "             b3 * legendre(3, cos(the)) +\n",
    "             b4 * legendre(4, cos(the)) +\n",
    "             b5 * legendre(5, cos(the)) +\n",
    "             b6 * legendre(6, cos(the)))\n",
    "    terms_rgt = list(expend_cos(right, the))\n",
    "\n",
    "    # solve equations\n",
    "    b6_cmpx = simplify(cancel(solve(terms_lft[6] - terms_rgt[6], b6)[0]))\n",
    "    b6_real = simplify(re(expand(b6_cmpx)))\n",
    "\n",
    "    b5_cmpx = simplify(cancel(solve(terms_lft[5] - terms_rgt[5], b5)[0]))\n",
    "    b5_real = simplify(re(expand(b5_cmpx)))\n",
    "    b5_amp, b5_shift = amp_and_shift(b5_real, phi)\n",
    "\n",
    "    b4_cmpx = simplify(cancel(solve((terms_lft[4] - terms_rgt[4])\n",
    "                                    .subs(b6, b6_cmpx), b4)[0]))\n",
    "    b4_real = simplify(re(expand(b4_cmpx)))\n",
    "\n",
    "    b3_cmpx = simplify(cancel(solve((terms_lft[3] - terms_rgt[3])\n",
    "                                    .subs(b5, b5_cmpx), b3)[0]))\n",
    "    b3_real = simplify(re(expand(b3_cmpx)))\n",
    "    b3_amp, b3_shift = amp_and_shift(b3_real, phi)\n",
    "\n",
    "    b2_cmpx = simplify(cancel(solve((terms_lft[2] - terms_rgt[2])\n",
    "                                    .subs(b6, b6_cmpx)\n",
    "                                    .subs(b4, b4_cmpx), b2)[0]))\n",
    "    b2_real = simplify(re(expand(b2_cmpx)))\n",
    "\n",
    "    b1_cmpx = simplify(cancel(solve((terms_lft[1] - terms_rgt[1])\n",
    "                                    .subs(b5, b5_cmpx)\n",
    "                                    .subs(b3, b3_cmpx), b1)[0]))\n",
    "    b1_real = simplify(re(expand(b1_cmpx)))\n",
    "    b1_amp, b1_shift = amp_and_shift(b1_real, phi)\n",
    "\n",
    "    b0_cmpx = simplify(cancel(solve((terms_lft[0] - terms_rgt[0])\n",
    "                                    .subs(b6, b6_cmpx)\n",
    "                                    .subs(b4, b4_cmpx)\n",
    "                                    .subs(b2, b2_cmpx), b0)[0]))\n",
    "    b0_real = simplify(re(expand(b0_cmpx)))\n",
    "\n",
    "    b1m3_real = simplify(cancel(b1_real - b3_real * 3 / 2))\n",
    "    b1m3_amp, b1m3_shift = amp_and_shift(b1m3_real, phi)\n",
    "    return {\n",
    "        'b0': b0_real,\n",
    "\n",
    "        'b1': b1_real,\n",
    "        'b1_amp': b1_amp,\n",
    "        'b1_shift': b1_shift,\n",
    "        'beta1': b1_real / b0_real,\n",
    "        'beta1_amp': b1_amp / b0_real,\n",
    "        'beta1_shift': b1_shift,\n",
    "\n",
    "        'b2': b2_real,\n",
    "        'beta2': b2_real / b0_real,\n",
    "\n",
    "        'b3': b3_real,\n",
    "        'b3_amp': b3_amp,\n",
    "        'b3_shift': b3_shift,\n",
    "        'beta3': b3_real / b0_real,\n",
    "        'beta3_amp': b3_amp / b0_real,\n",
    "        'beta3_shift': b3_shift,\n",
    "\n",
    "        'b4': b4_real,\n",
    "        'beta4': b4_real / b0_real,\n",
    "\n",
    "        'b5': b5_real,\n",
    "        'b5_amp': b5_amp,\n",
    "        'b5_shift': b5_shift,\n",
    "        'beta5': b5_real / b0_real,\n",
    "        'beta5_amp': b5_amp / b0_real,\n",
    "        'beta5_shift': b5_shift,\n",
    "\n",
    "        'b6': b6_real,\n",
    "        'beta6': b6_real / b0_real,\n",
    "\n",
    "        'b1m3': b1m3_real,\n",
    "        'b1m3_amp': b1m3_amp,\n",
    "        'b1m3_shift': b1m3_shift,\n",
    "        'beta1m3': b1m3_real / b0_real,\n",
    "        'beta1m3_amp': b1m3_amp / b0_real,\n",
    "        'beta1m3_shift': b1m3_shift,\n",
    "    }\n",
    "\n",
    "\n",
    "solved = solve_eq(pads['summed'])"
   ]
  },
  {
   "cell_type": "code",
   "execution_count": 4,
   "metadata": {},
   "outputs": [
    {
     "data": {
      "text/latex": [
       "$b_0=$"
      ],
      "text/plain": [
       "<IPython.core.display.Latex object>"
      ]
     },
     "metadata": {},
     "output_type": "display_data"
    },
    {
     "data": {
      "image/png": "[encoded data removed]",
      "text/latex": [
       "$$\\frac{\\rho_{\\omega}^{2}}{7200 \\pi} \\left(150 c_{dp}^{2} h + 12 c_{fdp}^{2} + 17 c_{pdp}^{2} + 40 c_{pdp} c_{psp} \\cos{\\left (\\eta_{pdp} - \\eta_{psp} \\right )} + 50 c_{psp}^{2} + 150 c_{sp}^{2} h\\right)$$"
      ],
      "text/plain": [
       "   2 ⎛        2             2           2                                     \n",
       "ρ_ω ⋅⎝150⋅c_dp ⋅h + 12⋅c_fdp  + 17⋅c_pdp  + 40⋅c_pdp⋅cₚₛₚ⋅cos(η_pdp - ηₚₛₚ) + \n",
       "──────────────────────────────────────────────────────────────────────────────\n",
       "                                               7200⋅π                         \n",
       "\n",
       "       2          2  ⎞\n",
       "50⋅cₚₛₚ  + 150⋅cₛₚ ⋅h⎠\n",
       "──────────────────────\n",
       "                      "
      ]
     },
     "metadata": {},
     "output_type": "display_data"
    },
    {
     "name": "stdout",
     "output_type": "stream",
     "text": [
      "\n"
     ]
    },
    {
     "data": {
      "text/latex": [
       "$b_1=$"
      ],
      "text/plain": [
       "<IPython.core.display.Latex object>"
      ]
     },
     "metadata": {},
     "output_type": "display_data"
    },
    {
     "data": {
      "image/png": "[encoded data removed]",
      "text/latex": [
       "$$\\frac{h \\rho_{\\omega}^{2}}{1200 \\pi \\left(h + 1\\right)} \\left(24 \\sqrt{3} c_{dp} c_{fdp} \\cos{\\left (\\eta_{dp} - \\eta_{fdp} + \\phi \\right )} - 34 \\sqrt{2} c_{dp} c_{pdp} \\cos{\\left (\\eta_{dp} - \\eta_{pdp} + \\phi \\right )} - 40 \\sqrt{2} c_{dp} c_{psp} \\cos{\\left (\\eta_{dp} - \\eta_{psp} + \\phi \\right )} + 40 c_{pdp} c_{sp} \\cos{\\left (- \\eta_{pdp} + \\eta_{sp} + \\phi \\right )} + 100 c_{psp} c_{sp} \\cos{\\left (- \\eta_{psp} + \\eta_{sp} + \\phi \\right )}\\right)$$"
      ],
      "text/plain": [
       "     2                                                                        \n",
       "h⋅ρ_ω ⋅(24⋅√3⋅c_dp⋅c_fdp⋅cos(η_dp - η_fdp + φ) - 34⋅√2⋅c_dp⋅c_pdp⋅cos(η_dp - η\n",
       "──────────────────────────────────────────────────────────────────────────────\n",
       "                                                                              \n",
       "\n",
       "                                                                              \n",
       "_pdp + φ) - 40⋅√2⋅c_dp⋅cₚₛₚ⋅cos(η_dp - ηₚₛₚ + φ) + 40⋅c_pdp⋅cₛₚ⋅cos(-η_pdp + η\n",
       "──────────────────────────────────────────────────────────────────────────────\n",
       "               1200⋅π⋅(h + 1)                                                 \n",
       "\n",
       "                                            \n",
       "ₛₚ + φ) + 100⋅cₚₛₚ⋅cₛₚ⋅cos(-ηₚₛₚ + ηₛₚ + φ))\n",
       "────────────────────────────────────────────\n",
       "                                            "
      ]
     },
     "metadata": {},
     "output_type": "display_data"
    },
    {
     "name": "stdout",
     "output_type": "stream",
     "text": [
      "\n"
     ]
    },
    {
     "data": {
      "text/latex": [
       "$b_2=$"
      ],
      "text/plain": [
       "<IPython.core.display.Latex object>"
      ]
     },
     "metadata": {},
     "output_type": "display_data"
    },
    {
     "data": {
      "image/png": "[encoded data removed]",
      "text/latex": [
       "$$\\frac{\\rho_{\\omega}^{2}}{50400 \\pi} \\left(1050 c_{dp}^{2} h - 2100 \\sqrt{2} c_{dp} c_{sp} h \\cos{\\left (\\eta_{dp} - \\eta_{sp} \\right )} + 96 c_{fdp}^{2} - 144 \\sqrt{6} c_{fdp} c_{pdp} \\cos{\\left (\\eta_{fdp} - \\eta_{pdp} \\right )} - 180 \\sqrt{6} c_{fdp} c_{psp} \\cos{\\left (\\eta_{fdp} - \\eta_{psp} \\right )} + 49 c_{pdp}^{2} + 560 c_{pdp} c_{psp} \\cos{\\left (\\eta_{pdp} - \\eta_{psp} \\right )} + 700 c_{psp}^{2}\\right)$$"
      ],
      "text/plain": [
       "   2 ⎛         2                                                  2           \n",
       "ρ_ω ⋅⎝1050⋅c_dp ⋅h - 2100⋅√2⋅c_dp⋅cₛₚ⋅h⋅cos(η_dp - ηₛₚ) + 96⋅c_fdp  - 144⋅√6⋅c\n",
       "──────────────────────────────────────────────────────────────────────────────\n",
       "                                                                              \n",
       "\n",
       "                                                                              \n",
       "_fdp⋅c_pdp⋅cos(η_fdp - η_pdp) - 180⋅√6⋅c_fdp⋅cₚₛₚ⋅cos(η_fdp - ηₚₛₚ) + 49⋅c_pdp\n",
       "──────────────────────────────────────────────────────────────────────────────\n",
       "                     50400⋅π                                                  \n",
       "\n",
       "2                                              2⎞\n",
       "  + 560⋅c_pdp⋅cₚₛₚ⋅cos(η_pdp - ηₚₛₚ) + 700⋅cₚₛₚ ⎠\n",
       "─────────────────────────────────────────────────\n",
       "                                                 "
      ]
     },
     "metadata": {},
     "output_type": "display_data"
    },
    {
     "name": "stdout",
     "output_type": "stream",
     "text": [
      "\n"
     ]
    },
    {
     "data": {
      "text/latex": [
       "$b_3=$"
      ],
      "text/plain": [
       "<IPython.core.display.Latex object>"
      ]
     },
     "metadata": {},
     "output_type": "display_data"
    },
    {
     "data": {
      "image/png": "[encoded data removed]",
      "text/latex": [
       "$$\\frac{h \\rho_{\\omega}^{2}}{1200 \\pi \\left(h + 1\\right)} \\left(16 \\sqrt{3} c_{dp} c_{fdp} \\cos{\\left (\\eta_{dp} - \\eta_{fdp} + \\phi \\right )} - 6 \\sqrt{2} c_{dp} c_{pdp} \\cos{\\left (\\eta_{dp} - \\eta_{pdp} + \\phi \\right )} - 60 \\sqrt{2} c_{dp} c_{psp} \\cos{\\left (\\eta_{dp} - \\eta_{psp} + \\phi \\right )} - 20 \\sqrt{6} c_{fdp} c_{sp} \\cos{\\left (- \\eta_{fdp} + \\eta_{sp} + \\phi \\right )}\\right)$$"
      ],
      "text/plain": [
       "     2                                                                        \n",
       "h⋅ρ_ω ⋅(16⋅√3⋅c_dp⋅c_fdp⋅cos(η_dp - η_fdp + φ) - 6⋅√2⋅c_dp⋅c_pdp⋅cos(η_dp - η_\n",
       "──────────────────────────────────────────────────────────────────────────────\n",
       "                                                                            12\n",
       "\n",
       "                                                                              \n",
       "pdp + φ) - 60⋅√2⋅c_dp⋅cₚₛₚ⋅cos(η_dp - ηₚₛₚ + φ) - 20⋅√6⋅c_fdp⋅cₛₚ⋅cos(-η_fdp +\n",
       "──────────────────────────────────────────────────────────────────────────────\n",
       "00⋅π⋅(h + 1)                                                                  \n",
       "\n",
       "          \n",
       " ηₛₚ + φ))\n",
       "──────────\n",
       "          "
      ]
     },
     "metadata": {},
     "output_type": "display_data"
    },
    {
     "name": "stdout",
     "output_type": "stream",
     "text": [
      "\n"
     ]
    },
    {
     "data": {
      "text/latex": [
       "$b_4=$"
      ],
      "text/plain": [
       "<IPython.core.display.Latex object>"
      ]
     },
     "metadata": {},
     "output_type": "display_data"
    },
    {
     "data": {
      "image/png": "[encoded data removed]",
      "text/latex": [
       "$$\\frac{c_{fdp} \\rho_{\\omega}^{2}}{2100 \\pi} \\left(3 c_{fdp} - \\sqrt{6} c_{pdp} \\cos{\\left (\\eta_{fdp} - \\eta_{pdp} \\right )} - 10 \\sqrt{6} c_{psp} \\cos{\\left (\\eta_{fdp} - \\eta_{psp} \\right )}\\right)$$"
      ],
      "text/plain": [
       "         2                                                                    \n",
       "c_fdp⋅ρ_ω ⋅(3⋅c_fdp - √6⋅c_pdp⋅cos(η_fdp - η_pdp) - 10⋅√6⋅cₚₛₚ⋅cos(η_fdp - ηₚₛ\n",
       "──────────────────────────────────────────────────────────────────────────────\n",
       "                                      2100⋅π                                  \n",
       "\n",
       "   \n",
       "ₚ))\n",
       "───\n",
       "   "
      ]
     },
     "metadata": {},
     "output_type": "display_data"
    },
    {
     "name": "stdout",
     "output_type": "stream",
     "text": [
      "\n"
     ]
    },
    {
     "data": {
      "text/latex": [
       "$b_1-\\frac{3}{2}b_3=$"
      ],
      "text/plain": [
       "<IPython.core.display.Latex object>"
      ]
     },
     "metadata": {},
     "output_type": "display_data"
    },
    {
     "data": {
      "image/png": "[encoded data removed]",
      "text/latex": [
       "$$\\frac{h \\rho_{\\omega}^{2}}{240 \\pi \\left(h + 1\\right)} \\left(- 5 \\sqrt{2} c_{dp} c_{pdp} \\cos{\\left (\\eta_{dp} - \\eta_{pdp} + \\phi \\right )} + 10 \\sqrt{2} c_{dp} c_{psp} \\cos{\\left (\\eta_{dp} - \\eta_{psp} + \\phi \\right )} + 6 \\sqrt{6} c_{fdp} c_{sp} \\cos{\\left (- \\eta_{fdp} + \\eta_{sp} + \\phi \\right )} + 8 c_{pdp} c_{sp} \\cos{\\left (- \\eta_{pdp} + \\eta_{sp} + \\phi \\right )} + 20 c_{psp} c_{sp} \\cos{\\left (- \\eta_{psp} + \\eta_{sp} + \\phi \\right )}\\right)$$"
      ],
      "text/plain": [
       "     2                                                                        \n",
       "h⋅ρ_ω ⋅(-5⋅√2⋅c_dp⋅c_pdp⋅cos(η_dp - η_pdp + φ) + 10⋅√2⋅c_dp⋅cₚₛₚ⋅cos(η_dp - ηₚ\n",
       "──────────────────────────────────────────────────────────────────────────────\n",
       "                                                                              \n",
       "\n",
       "                                                                              \n",
       "ₛₚ + φ) + 6⋅√6⋅c_fdp⋅cₛₚ⋅cos(-η_fdp + ηₛₚ + φ) + 8⋅c_pdp⋅cₛₚ⋅cos(-η_pdp + ηₛₚ \n",
       "──────────────────────────────────────────────────────────────────────────────\n",
       "             240⋅π⋅(h + 1)                                                    \n",
       "\n",
       "                                        \n",
       "+ φ) + 20⋅cₚₛₚ⋅cₛₚ⋅cos(-ηₚₛₚ + ηₛₚ + φ))\n",
       "────────────────────────────────────────\n",
       "                                        "
      ]
     },
     "metadata": {},
     "output_type": "display_data"
    },
    {
     "name": "stdout",
     "output_type": "stream",
     "text": [
      "\n"
     ]
    }
   ],
   "source": [
    "for k, v in [\n",
    "        [r\"$b_0=$\", \"b0\"],\n",
    "        [r\"$b_1=$\", \"b1\"],\n",
    "        [r\"$b_2=$\", \"b2\"],\n",
    "        [r\"$b_3=$\", \"b3\"],\n",
    "        [r\"$b_4=$\", \"b4\"],\n",
    "        [r\"$b_1-\\frac{3}{2}b_3=$\", \"b1m3\"],\n",
    "    ]:\n",
    "    display(Latex(k))\n",
    "    display(solved[f\"{v}\"])\n",
    "    print()"
   ]
  },
  {
   "cell_type": "code",
   "execution_count": 5,
   "metadata": {},
   "outputs": [
    {
     "data": {
      "text/latex": [
       "$b_0=$"
      ],
      "text/plain": [
       "<IPython.core.display.Latex object>"
      ]
     },
     "metadata": {},
     "output_type": "display_data"
    },
    {
     "data": {
      "image/png": "[encoded data removed]",
      "text/latex": [
       "$$\\frac{\\rho_{\\omega}^{2}}{\\pi} \\left(\\frac{c_{dp}^{2} h}{48} + \\frac{c_{fdp}^{2}}{600} + \\frac{c_{sp}^{2} h}{48}\\right)$$"
      ],
      "text/plain": [
       "     ⎛    2          2      2  ⎞\n",
       "   2 ⎜c_dp ⋅h   c_fdp    cₛₚ ⋅h⎟\n",
       "ρ_ω ⋅⎜─────── + ────── + ──────⎟\n",
       "     ⎝   48      600       48  ⎠\n",
       "────────────────────────────────\n",
       "               π                "
      ]
     },
     "metadata": {},
     "output_type": "display_data"
    },
    {
     "name": "stdout",
     "output_type": "stream",
     "text": [
      "\n"
     ]
    },
    {
     "data": {
      "text/latex": [
       "$b_1=$"
      ],
      "text/plain": [
       "<IPython.core.display.Latex object>"
      ]
     },
     "metadata": {},
     "output_type": "display_data"
    },
    {
     "data": {
      "image/png": "[encoded data removed]",
      "text/latex": [
       "$$\\frac{\\sqrt{3} c_{dp} c_{fdp} h \\rho_{\\omega}^{2}}{50 \\pi \\left(h + 1\\right)} \\cos{\\left (\\eta_{dp} - \\eta_{fdp} + \\phi \\right )}$$"
      ],
      "text/plain": [
       "                   2                      \n",
       "√3⋅c_dp⋅c_fdp⋅h⋅ρ_ω ⋅cos(η_dp - η_fdp + φ)\n",
       "──────────────────────────────────────────\n",
       "               50⋅π⋅(h + 1)               "
      ]
     },
     "metadata": {},
     "output_type": "display_data"
    },
    {
     "name": "stdout",
     "output_type": "stream",
     "text": [
      "\n"
     ]
    },
    {
     "data": {
      "text/latex": [
       "$b_2=$"
      ],
      "text/plain": [
       "<IPython.core.display.Latex object>"
      ]
     },
     "metadata": {},
     "output_type": "display_data"
    },
    {
     "data": {
      "image/png": "[encoded data removed]",
      "text/latex": [
       "$$\\frac{\\rho_{\\omega}^{2}}{\\pi} \\left(\\frac{c_{dp}^{2} h}{48} - \\frac{c_{dp} c_{sp}}{24} \\sqrt{2} h \\cos{\\left (\\eta_{dp} - \\eta_{sp} \\right )} + \\frac{c_{fdp}^{2}}{525}\\right)$$"
      ],
      "text/plain": [
       "     ⎛    2                                          2⎞\n",
       "   2 ⎜c_dp ⋅h   √2⋅c_dp⋅cₛₚ⋅h⋅cos(η_dp - ηₛₚ)   c_fdp ⎟\n",
       "ρ_ω ⋅⎜─────── - ───────────────────────────── + ──────⎟\n",
       "     ⎝   48                   24                 525  ⎠\n",
       "───────────────────────────────────────────────────────\n",
       "                           π                           "
      ]
     },
     "metadata": {},
     "output_type": "display_data"
    },
    {
     "name": "stdout",
     "output_type": "stream",
     "text": [
      "\n"
     ]
    },
    {
     "data": {
      "text/latex": [
       "$b_3=$"
      ],
      "text/plain": [
       "<IPython.core.display.Latex object>"
      ]
     },
     "metadata": {},
     "output_type": "display_data"
    },
    {
     "data": {
      "image/png": "[encoded data removed]",
      "text/latex": [
       "$$\\frac{c_{fdp} h \\rho_{\\omega}^{2}}{300 \\pi \\left(h + 1\\right)} \\left(4 \\sqrt{3} c_{dp} \\cos{\\left (\\eta_{dp} - \\eta_{fdp} + \\phi \\right )} - 5 \\sqrt{6} c_{sp} \\cos{\\left (- \\eta_{fdp} + \\eta_{sp} + \\phi \\right )}\\right)$$"
      ],
      "text/plain": [
       "           2                                                                  \n",
       "c_fdp⋅h⋅ρ_ω ⋅(4⋅√3⋅c_dp⋅cos(η_dp - η_fdp + φ) - 5⋅√6⋅cₛₚ⋅cos(-η_fdp + ηₛₚ + φ)\n",
       "──────────────────────────────────────────────────────────────────────────────\n",
       "                                 300⋅π⋅(h + 1)                                \n",
       "\n",
       " \n",
       ")\n",
       "─\n",
       " "
      ]
     },
     "metadata": {},
     "output_type": "display_data"
    },
    {
     "name": "stdout",
     "output_type": "stream",
     "text": [
      "\n"
     ]
    },
    {
     "data": {
      "text/latex": [
       "$b_4=$"
      ],
      "text/plain": [
       "<IPython.core.display.Latex object>"
      ]
     },
     "metadata": {},
     "output_type": "display_data"
    },
    {
     "data": {
      "image/png": "[encoded data removed]",
      "text/latex": [
       "$$\\frac{c_{fdp}^{2} \\rho_{\\omega}^{2}}{700 \\pi}$$"
      ],
      "text/plain": [
       "     2    2\n",
       "c_fdp ⋅ρ_ω \n",
       "───────────\n",
       "   700⋅π   "
      ]
     },
     "metadata": {},
     "output_type": "display_data"
    },
    {
     "name": "stdout",
     "output_type": "stream",
     "text": [
      "\n"
     ]
    },
    {
     "data": {
      "text/latex": [
       "$b_1-\\frac{3}{2}b_3=$"
      ],
      "text/plain": [
       "<IPython.core.display.Latex object>"
      ]
     },
     "metadata": {},
     "output_type": "display_data"
    },
    {
     "data": {
      "image/png": "[encoded data removed]",
      "text/latex": [
       "$$\\frac{\\sqrt{6} c_{fdp} c_{sp} h \\rho_{\\omega}^{2}}{40 \\pi \\left(h + 1\\right)} \\cos{\\left (- \\eta_{fdp} + \\eta_{sp} + \\phi \\right )}$$"
      ],
      "text/plain": [
       "                  2                      \n",
       "√6⋅c_fdp⋅cₛₚ⋅h⋅ρ_ω ⋅cos(-η_fdp + ηₛₚ + φ)\n",
       "─────────────────────────────────────────\n",
       "               40⋅π⋅(h + 1)              "
      ]
     },
     "metadata": {},
     "output_type": "display_data"
    },
    {
     "name": "stdout",
     "output_type": "stream",
     "text": [
      "\n"
     ]
    }
   ],
   "source": [
    "for k, v in [\n",
    "        [r\"$b_0=$\", \"b0\"],\n",
    "        [r\"$b_1=$\", \"b1\"],\n",
    "        [r\"$b_2=$\", \"b2\"],\n",
    "        [r\"$b_3=$\", \"b3\"],\n",
    "        [r\"$b_4=$\", \"b4\"],\n",
    "        [r\"$b_1-\\frac{3}{2}b_3=$\", \"b1m3\"],\n",
    "    ]:\n",
    "    display(Latex(k))\n",
    "    display(solved[f\"{v}\"].subs(c_psp, 0).subs(c_pdp, 0).cancel().simplify())\n",
    "    print()"
   ]
  }
 ],
 "metadata": {
  "kernelspec": {
   "display_name": "Python 3",
   "language": "python",
   "name": "python3"
  },
  "language_info": {
   "codemirror_mode": {
    "name": "ipython",
    "version": 3
   },
   "file_extension": ".py",
   "mimetype": "text/x-python",
   "name": "python",
   "nbconvert_exporter": "python",
   "pygments_lexer": "ipython3",
   "version": "3.6.5"
  }
 },
 "nbformat": 4,
 "nbformat_minor": 2
}
