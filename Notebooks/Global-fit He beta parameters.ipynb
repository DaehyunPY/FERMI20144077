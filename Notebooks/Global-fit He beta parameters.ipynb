{
 "cells": [
  {
   "cell_type": "code",
   "execution_count": 1,
   "metadata": {},
   "outputs": [],
   "source": [
    "from pprint import pprint\n",
    "from textwrap import dedent\n",
    "from math import inf, pi\n",
    "\n",
    "from yaml import safe_load\n",
    "\n",
    "from fit_helium import fit"
   ]
  },
  {
   "cell_type": "code",
   "execution_count": 2,
   "metadata": {},
   "outputs": [],
   "source": [
    "with open('../Data/beta_helium_gauss3.yaml', 'r') as f:\n",
    "    doc = safe_load(f)"
   ]
  },
  {
   "cell_type": "markdown",
   "metadata": {
    "toc-hr-collapsed": false
   },
   "source": [
    "# Global-fit"
   ]
  },
  {
   "cell_type": "markdown",
   "metadata": {},
   "source": [
    "## Dataset *good1*"
   ]
  },
  {
   "cell_type": "code",
   "execution_count": 3,
   "metadata": {},
   "outputs": [
    {
     "name": "stdout",
     "output_type": "stream",
     "text": [
      "Sign of beta3_amp does not match with the reference. Force to flip the sign\n",
      " rat =  1.44  ±  0.05\n",
      "   h =  0.360 ±  0.010\n",
      " int = 13.4   ±  0.2\n",
      "phi0 =  5.25  ±  0.03\n",
      "\n"
     ]
    }
   ],
   "source": [
    "d = doc[\"good1\"]\n",
    "ret = fit(**d)\n",
    "ref = 1.24e+10**0.5 / 1.00e+13\n",
    "print(dedent(\"\"\"\\\n",
    "     rat = {r_opt:5.2f}  ± {r_err:5.2f}\n",
    "       h = {h_opt:6.3f} ± {h_err:6.3f}\n",
    "     int = {int_opt:4.1f}   ± {int_err:4.1f}\n",
    "    phi0 = {phi0_opt:5.2f}  ± {phi0_err:5.2f}\n",
    "    \"\"\").format(\n",
    "        r_opt = ret[\"opt\"][\"r\"]**2,\n",
    "        r_err = 2*ret[\"opt\"][\"r\"]*ret[\"err\"][\"r\"],\n",
    "        h_opt = ret[\"opt\"][\"h\"],\n",
    "        h_err = ret[\"err\"][\"h\"],\n",
    "        int_opt = ret[\"opt\"][\"r\"] * ref * 1e9,\n",
    "        int_err = ret[\"err\"][\"r\"] * ref * 1e9,\n",
    "        phi0_opt = ret[\"opt\"][\"phi0\"] % (2*pi),\n",
    "        phi0_err = ret[\"err\"][\"phi0\"],\n",
    "    ))"
   ]
  },
  {
   "cell_type": "markdown",
   "metadata": {},
   "source": [
    "## Dataset *good2*"
   ]
  },
  {
   "cell_type": "code",
   "execution_count": 4,
   "metadata": {},
   "outputs": [
    {
     "name": "stdout",
     "output_type": "stream",
     "text": [
      "Sign of beta3_amp does not match with the reference. Force to flip the sign\n",
      " rat =  0.82  ±  0.01\n",
      "   h =  0.262 ±  0.006\n",
      " int = 10.5   ±  0.1\n",
      "phi0 =  5.07  ±  0.02\n",
      "\n"
     ]
    }
   ],
   "source": [
    "d = doc[\"good2\"]\n",
    "ret = fit(**d)\n",
    "ref = 1.34e+10**0.5 / 1.00e+13\n",
    "print(dedent(\"\"\"\\\n",
    "     rat = {r_opt:5.2f}  ± {r_err:5.2f}\n",
    "       h = {h_opt:6.3f} ± {h_err:6.3f}\n",
    "     int = {int_opt:4.1f}   ± {int_err:4.1f}\n",
    "    phi0 = {phi0_opt:5.2f}  ± {phi0_err:5.2f}\n",
    "    \"\"\").format(\n",
    "        r_opt = ret[\"opt\"][\"r\"]**2,\n",
    "        r_err = 2*ret[\"opt\"][\"r\"]*ret[\"err\"][\"r\"],\n",
    "        h_opt = ret[\"opt\"][\"h\"],\n",
    "        h_err = ret[\"err\"][\"h\"],\n",
    "        int_opt = ret[\"opt\"][\"r\"] * ref * 1e9,\n",
    "        int_err = ret[\"err\"][\"r\"] * ref * 1e9,\n",
    "        phi0_opt = ret[\"opt\"][\"phi0\"] % (2*pi),\n",
    "        phi0_err = ret[\"err\"][\"phi0\"],\n",
    "    ))"
   ]
  },
  {
   "cell_type": "markdown",
   "metadata": {},
   "source": [
    "## Dataset *good3*"
   ]
  },
  {
   "cell_type": "code",
   "execution_count": 5,
   "metadata": {},
   "outputs": [
    {
     "name": "stdout",
     "output_type": "stream",
     "text": [
      "Sign of beta1m3_amp does not match with the reference. Force to flip the sign\n",
      "Sign of beta3_amp does not match with the reference. Force to flip the sign\n",
      " rat =  1.55  ±  0.03\n",
      "   h =  0.318 ±  0.004\n",
      " int = 13.0   ±  0.1\n",
      "phi0 =  4.26  ±  0.01\n",
      "\n"
     ]
    }
   ],
   "source": [
    "d = doc[\"good3\"]\n",
    "ret = fit(**d)\n",
    "ref = 1.09e+10**0.5 / 1.00e+13\n",
    "print(dedent(\"\"\"\\\n",
    "     rat = {r_opt:5.2f}  ± {r_err:5.2f}\n",
    "       h = {h_opt:6.3f} ± {h_err:6.3f}\n",
    "     int = {int_opt:4.1f}   ± {int_err:4.1f}\n",
    "    phi0 = {phi0_opt:5.2f}  ± {phi0_err:5.2f}\n",
    "    \"\"\").format(\n",
    "        r_opt = ret[\"opt\"][\"r\"]**2,\n",
    "        r_err = 2*ret[\"opt\"][\"r\"]*ret[\"err\"][\"r\"],\n",
    "        h_opt = ret[\"opt\"][\"h\"],\n",
    "        h_err = ret[\"err\"][\"h\"],\n",
    "        int_opt = ret[\"opt\"][\"r\"] * ref * 1e9,\n",
    "        int_err = ret[\"err\"][\"r\"] * ref * 1e9,\n",
    "        phi0_opt = ret[\"opt\"][\"phi0\"] % (2*pi),\n",
    "        phi0_err = ret[\"err\"][\"phi0\"],\n",
    "    ))"
   ]
  },
  {
   "cell_type": "markdown",
   "metadata": {},
   "source": [
    "## Dataset *good4*"
   ]
  },
  {
   "cell_type": "code",
   "execution_count": 6,
   "metadata": {},
   "outputs": [
    {
     "name": "stdout",
     "output_type": "stream",
     "text": [
      "Sign of beta3_amp does not match with the reference. Force to flip the sign\n",
      " rat =  3.58  ±  0.06\n",
      "   h =  0.226 ±  0.008\n",
      " int = 21.1   ±  0.2\n",
      "phi0 =  3.38  ±  0.03\n",
      "\n"
     ]
    }
   ],
   "source": [
    "d = doc[\"good4\"]\n",
    "ret = fit(**d)\n",
    "ref = 1.24e+10**0.5 / 1.00e+13\n",
    "print(dedent(\"\"\"\\\n",
    "     rat = {r_opt:5.2f}  ± {r_err:5.2f}\n",
    "       h = {h_opt:6.3f} ± {h_err:6.3f}\n",
    "     int = {int_opt:4.1f}   ± {int_err:4.1f}\n",
    "    phi0 = {phi0_opt:5.2f}  ± {phi0_err:5.2f}\n",
    "    \"\"\").format(\n",
    "        r_opt = ret[\"opt\"][\"r\"]**2,\n",
    "        r_err = 2*ret[\"opt\"][\"r\"]*ret[\"err\"][\"r\"],\n",
    "        h_opt = ret[\"opt\"][\"h\"],\n",
    "        h_err = ret[\"err\"][\"h\"],\n",
    "        int_opt = ret[\"opt\"][\"r\"] * ref * 1e9,\n",
    "        int_err = ret[\"err\"][\"r\"] * ref * 1e9,\n",
    "        phi0_opt = ret[\"opt\"][\"phi0\"] % (2*pi),\n",
    "        phi0_err = ret[\"err\"][\"phi0\"],\n",
    "    ))"
   ]
  }
 ],
 "metadata": {
  "kernelspec": {
   "display_name": "Python 3",
   "language": "python",
   "name": "python3"
  },
  "language_info": {
   "codemirror_mode": {
    "name": "ipython",
    "version": 3
   },
   "file_extension": ".py",
   "mimetype": "text/x-python",
   "name": "python",
   "nbconvert_exporter": "python",
   "pygments_lexer": "ipython3",
   "version": "3.7.4"
  },
  "toc-autonumbering": false
 },
 "nbformat": 4,
 "nbformat_minor": 2
}
