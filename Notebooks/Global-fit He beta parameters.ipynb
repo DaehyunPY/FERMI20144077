{
 "cells": [
  {
   "cell_type": "code",
   "execution_count": 1,
   "metadata": {},
   "outputs": [],
   "source": [
    "from pprint import pprint\n",
    "from textwrap import dedent\n",
    "from math import inf\n",
    "\n",
    "from yaml import safe_load\n",
    "\n",
    "from fit_helium import fit"
   ]
  },
  {
   "cell_type": "code",
   "execution_count": 2,
   "metadata": {},
   "outputs": [],
   "source": [
    "with open('Data/beta_helium_gauss3.yaml', 'r') as f:\n",
    "    doc = safe_load(f)"
   ]
  },
  {
   "cell_type": "markdown",
   "metadata": {
    "toc-hr-collapsed": false
   },
   "source": [
    "# Global-fit"
   ]
  },
  {
   "cell_type": "markdown",
   "metadata": {},
   "source": [
    "## Dataset *good1*"
   ]
  },
  {
   "cell_type": "code",
   "execution_count": 3,
   "metadata": {},
   "outputs": [
    {
     "name": "stdout",
     "output_type": "stream",
     "text": [
      "Sign of beta3_amp does not match with the reference. Force to flip the sign\n",
      "{'beta1m3_amp': 0.11382119,\n",
      " 'beta1m3_amp_err': 0.00780484,\n",
      " 'beta1m3_shift': 1.75117358,\n",
      " 'beta1m3_shift_err': 0.06333875,\n",
      " 'beta2': 1.63093134,\n",
      " 'beta2_err': 0.00931104,\n",
      " 'beta3_amp': 0.80997766,\n",
      " 'beta3_amp_err': 0.0246302,\n",
      " 'beta3_shift': 0.02397292,\n",
      " 'beta3_shift_err': 0.03180625,\n",
      " 'beta4': 1.0282585,\n",
      " 'beta4_err': 0.02773891,\n",
      " 'photon': 15.9}\n",
      "OrderedDict([('opt',\n",
      "              OrderedDict([('phi0', -1.038139466713992),\n",
      "                           ('r', 1.2012939528061508),\n",
      "                           ('h', 0.36007900128662074)])),\n",
      "             ('err',\n",
      "              OrderedDict([('phi0', 0.035438096699120986),\n",
      "                           ('r', 0.024660908891498863),\n",
      "                           ('h', 0.010846726771653757)])),\n",
      "             ('fx',\n",
      "              OrderedDict([('beta1m3_amp', 0.11492694662066157),\n",
      "                           ('beta1m3_shift', 1.9118605332860081),\n",
      "                           ('beta2', 1.6273191168011034),\n",
      "                           ('beta3_amp', -0.8084121478094515),\n",
      "                           ('beta3_shift', -3.158139466713992),\n",
      "                           ('beta4', 1.0165045246490736)])),\n",
      "             ('report',\n",
      "              {'active_mask': array([0, 0, 0]),\n",
      "               'cost': 4.2066117589994425,\n",
      "               'fun': array([-0.14167576, -2.53694544,  0.38795056, -0.06356068,  1.27395506,\n",
      "        0.42373602]),\n",
      "               'grad': array([-7.10542736e-14, -8.18900503e-13,  1.25721922e-09]),\n",
      "               'jac': array([[ -0.        ,   2.21402793, -40.89404483],\n",
      "       [-15.78812338,  -0.        ,  -0.        ],\n",
      "       [ -0.        , -39.33698746,  -0.        ],\n",
      "       [ -0.        ,  -4.93503371,  91.15218786],\n",
      "       [-31.44036156,  -0.        ,  -0.        ],\n",
      "       [ -0.        ,  36.01489047,  -0.        ]]),\n",
      "               'message': '`gtol` termination condition is satisfied.',\n",
      "               'nfev': 7,\n",
      "               'njev': 7,\n",
      "               'optimality': 4.5269824027923944e-10,\n",
      "               'status': 1,\n",
      "               'success': True,\n",
      "               'x': array([-1.03813947,  1.20129395,  0.360079  ])})])\n"
     ]
    }
   ],
   "source": [
    "d = doc[\"good1\"]\n",
    "ret = fit(**d)\n",
    "pprint(d)\n",
    "pprint(ret)"
   ]
  },
  {
   "cell_type": "markdown",
   "metadata": {},
   "source": [
    "## Dataset *good2*"
   ]
  },
  {
   "cell_type": "code",
   "execution_count": 4,
   "metadata": {},
   "outputs": [
    {
     "name": "stdout",
     "output_type": "stream",
     "text": [
      "Sign of beta3_amp does not match with the reference. Force to flip the sign\n",
      "{'beta1m3_amp': 0.14133936,\n",
      " 'beta1m3_amp_err': 0.00812239,\n",
      " 'beta1m3_shift': 1.70142651,\n",
      " 'beta1m3_shift_err': 0.05363039,\n",
      " 'beta2': 0.85577271,\n",
      " 'beta2_err': 0.01006146,\n",
      " 'beta3_amp': 0.57382046,\n",
      " 'beta3_amp_err': 0.01349924,\n",
      " 'beta3_shift': -0.30203627,\n",
      " 'beta3_shift_err': 0.02268753,\n",
      " 'beta4': 0.93521111,\n",
      " 'beta4_err': 0.01291322,\n",
      " 'photon': 14.3}\n",
      "OrderedDict([('opt',\n",
      "              OrderedDict([('phi0', -1.2162561718066938),\n",
      "                           ('r', 0.9047503164191851),\n",
      "                           ('h', 0.2623217467070834)])),\n",
      "             ('err',\n",
      "              OrderedDict([('phi0', 0.029115900935111894),\n",
      "                           ('r', 0.008094937906883804),\n",
      "                           ('h', 0.005859598583428447)])),\n",
      "             ('fx',\n",
      "              OrderedDict([('beta1m3_amp', 0.12811870375636963),\n",
      "                           ('beta1m3_shift', 1.8837438281933068),\n",
      "                           ('beta2', 1.2217642915307316),\n",
      "                           ('beta3_amp', -0.581861222160291),\n",
      "                           ('beta3_shift', -3.4762561718066936),\n",
      "                           ('beta4', 1.2969571024374573)])),\n",
      "             ('report',\n",
      "              {'active_mask': array([0, 0, 0]),\n",
      "               'cost': 1062.2877699011565,\n",
      "               'fun': array([  1.62768055,  -3.39951505, -36.37559375,   0.59564554,\n",
      "         1.43811372, -28.01361647]),\n",
      "               'grad': array([-1.17950094e-12, -6.34827302e-09,  2.74077552e-05]),\n",
      "               'jac': array([[ -0.        ,  -1.6872089 , -60.13044281],\n",
      "       [-18.64614447,  -0.        ,  -0.        ],\n",
      "       [ -0.        , -77.21767871,  -0.        ],\n",
      "       [ -0.        ,   4.61052367, 164.31446636],\n",
      "       [-44.0770767 ,  -0.        ,  -0.        ],\n",
      "       [ -0.        , 100.2669154 ,  -0.        ]]),\n",
      "               'message': '`ftol` termination condition is satisfied.',\n",
      "               'nfev': 7,\n",
      "               'njev': 7,\n",
      "               'optimality': 7.189650209358756e-06,\n",
      "               'status': 2,\n",
      "               'success': True,\n",
      "               'x': array([-1.21625617,  0.90475032,  0.26232175])})])\n"
     ]
    }
   ],
   "source": [
    "d = doc[\"good2\"]\n",
    "ret = fit(**d)\n",
    "pprint(d)\n",
    "pprint(ret)"
   ]
  },
  {
   "cell_type": "markdown",
   "metadata": {},
   "source": [
    "### Uncertain beta2"
   ]
  },
  {
   "cell_type": "code",
   "execution_count": 5,
   "metadata": {},
   "outputs": [
    {
     "name": "stdout",
     "output_type": "stream",
     "text": [
      "Sign of beta3_amp does not match with the reference. Force to flip the sign\n",
      "{'beta1m3_amp': 0.14133936,\n",
      " 'beta1m3_amp_err': 0.00812239,\n",
      " 'beta1m3_shift': 1.70142651,\n",
      " 'beta1m3_shift_err': 0.05363039,\n",
      " 'beta2': 0.85577271,\n",
      " 'beta2_err': 0.01006146,\n",
      " 'beta3_amp': 0.57382046,\n",
      " 'beta3_amp_err': 0.01349924,\n",
      " 'beta3_shift': -0.30203627,\n",
      " 'beta3_shift_err': 0.02268753,\n",
      " 'beta4': 0.93521111,\n",
      " 'beta4_err': 0.01291322,\n",
      " 'photon': 14.3}\n",
      "OrderedDict([('opt',\n",
      "              OrderedDict([('phi0', -1.2162561718066938),\n",
      "                           ('r', 1.2327543250326103),\n",
      "                           ('h', 0.26699458788911085)])),\n",
      "             ('err', OrderedDict([('phi0', nan), ('r', inf), ('h', inf)])),\n",
      "             ('fx',\n",
      "              OrderedDict([('beta1m3_amp', 0.1281187035918979),\n",
      "                           ('beta1m3_shift', 1.8837438281933068),\n",
      "                           ('beta2', 1.4388290258124095),\n",
      "                           ('beta3_amp', -0.5818612214133296),\n",
      "                           ('beta3_shift', -3.4762561718066936),\n",
      "                           ('beta4', 0.9352111098652871)])),\n",
      "             ('report',\n",
      "              {'active_mask': array([0, 0, 0]),\n",
      "               'cost': 8.314505640556671,\n",
      "               'fun': array([ 1.62768057e+00, -3.39951505e+00, -0.00000000e+00,  5.95645489e-01,\n",
      "        1.43811372e+00,  1.04321701e-08]),\n",
      "               'grad': array([-1.17950094e-12, -1.98568471e-08,  1.67988102e-05]),\n",
      "               'jac': array([[ -0.        ,   2.6759616 , -59.07806181],\n",
      "       [-18.64614447,  -0.        ,  -0.        ],\n",
      "       [ -0.        ,  -0.        ,  -0.        ],\n",
      "       [ -0.        ,  -7.31242249, 161.43869473],\n",
      "       [-44.0770767 ,  -0.        ,  -0.        ],\n",
      "       [ -0.        ,  71.03518846,  -0.        ]]),\n",
      "               'message': '`xtol` termination condition is satisfied.',\n",
      "               'nfev': 8,\n",
      "               'njev': 7,\n",
      "               'optimality': 4.485191397069423e-06,\n",
      "               'status': 3,\n",
      "               'success': True,\n",
      "               'x': array([-1.21625617,  1.23275433,  0.26699459])})])\n"
     ]
    }
   ],
   "source": [
    "d = doc[\"good2\"]\n",
    "ret = fit(**{**d, 'beta2_err': inf})\n",
    "pprint(d)\n",
    "pprint(ret)"
   ]
  },
  {
   "cell_type": "markdown",
   "metadata": {},
   "source": [
    "### Uncertain beta4"
   ]
  },
  {
   "cell_type": "code",
   "execution_count": 6,
   "metadata": {},
   "outputs": [
    {
     "name": "stdout",
     "output_type": "stream",
     "text": [
      "Sign of beta3_amp does not match with the reference. Force to flip the sign\n",
      "{'beta1m3_amp': 0.14133936,\n",
      " 'beta1m3_amp_err': 0.00812239,\n",
      " 'beta1m3_shift': 1.70142651,\n",
      " 'beta1m3_shift_err': 0.05363039,\n",
      " 'beta2': 0.85577271,\n",
      " 'beta2_err': 0.01006146,\n",
      " 'beta3_amp': 0.57382046,\n",
      " 'beta3_amp_err': 0.01349924,\n",
      " 'beta3_shift': -0.30203627,\n",
      " 'beta3_shift_err': 0.02268753,\n",
      " 'beta4': 0.93521111,\n",
      " 'beta4_err': 0.01291322,\n",
      " 'photon': 14.3}\n",
      "OrderedDict([('opt',\n",
      "              OrderedDict([('phi0', -1.2162561718066938),\n",
      "                           ('r', 0.4886814305620003),\n",
      "                           ('h', 0.3303209003394849)])),\n",
      "             ('err', OrderedDict([('phi0', nan), ('r', inf), ('h', inf)])),\n",
      "             ('fx',\n",
      "              OrderedDict([('beta1m3_amp', 0.12811870331885336),\n",
      "                           ('beta1m3_shift', 1.8837438281933068),\n",
      "                           ('beta2', 0.8557727100002986),\n",
      "                           ('beta3_amp', -0.5818612201732765),\n",
      "                           ('beta3_shift', -3.4762561718066936),\n",
      "                           ('beta4', 1.906894909110276)])),\n",
      "             ('report',\n",
      "              {'active_mask': array([0, 0, 0]),\n",
      "               'cost': 8.314505640556673,\n",
      "               'fun': array([ 1.62768061e+00, -3.39951505e+00, -2.96825703e-11,  5.95645397e-01,\n",
      "        1.43811372e+00, -0.00000000e+00]),\n",
      "               'grad': array([-1.17950094e-12, -3.04294900e-09, -1.38122260e-08]),\n",
      "               'jac': array([[ -0.        , -19.77243758, -47.75211837],\n",
      "       [-18.64614447,  -0.        ,  -0.        ],\n",
      "       [ -0.        , -90.16046228,  -0.        ],\n",
      "       [ -0.        ,  54.0308266 , 130.48904152],\n",
      "       [-44.0770767 ,  -0.        ,  -0.        ],\n",
      "       [ -0.        ,   0.        ,  -0.        ]]),\n",
      "               'message': '`ftol` termination condition is satisfied.',\n",
      "               'nfev': 7,\n",
      "               'njev': 7,\n",
      "               'optimality': 1.3812226029585872e-08,\n",
      "               'status': 2,\n",
      "               'success': True,\n",
      "               'x': array([-1.21625617,  0.48868143,  0.3303209 ])})])\n"
     ]
    }
   ],
   "source": [
    "d = doc[\"good2\"]\n",
    "ret = fit(**{**d, 'beta4_err': inf})\n",
    "pprint(d)\n",
    "pprint(ret)"
   ]
  },
  {
   "cell_type": "markdown",
   "metadata": {},
   "source": [
    "## Dataset *good3*"
   ]
  },
  {
   "cell_type": "code",
   "execution_count": 7,
   "metadata": {},
   "outputs": [
    {
     "name": "stdout",
     "output_type": "stream",
     "text": [
      "Sign of beta1m3_amp does not match with the reference. Force to flip the sign\n",
      "Sign of beta3_amp does not match with the reference. Force to flip the sign\n",
      "{'beta1m3_amp': 0.02985916,\n",
      " 'beta1m3_amp_err': 0.00314395,\n",
      " 'beta1m3_shift': 4.3456232,\n",
      " 'beta1m3_shift_err': 0.1058441,\n",
      " 'beta2': 1.78359136,\n",
      " 'beta2_err': 0.0051995,\n",
      " 'beta3_amp': 0.72313844,\n",
      " 'beta3_amp_err': 0.00801409,\n",
      " 'beta3_shift': 5.42099236,\n",
      " 'beta3_shift_err': 0.01060334,\n",
      " 'beta4': 1.01037479,\n",
      " 'beta4_err': 0.01578971,\n",
      " 'photon': 19.1}\n",
      "OrderedDict([('opt',\n",
      "              OrderedDict([('phi0', -2.019336061467292),\n",
      "                           ('r', 1.244163410858616),\n",
      "                           ('h', 0.31654665721967573)])),\n",
      "             ('err',\n",
      "              OrderedDict([('phi0', 0.05318694464801864),\n",
      "                           ('r', 0.015439807410239483),\n",
      "                           ('h', 0.00363137759882438)])),\n",
      "             ('fx',\n",
      "              OrderedDict([('beta1m3_amp', -0.04762184267192079),\n",
      "                           ('beta1m3_shift', 0.7606639385327076),\n",
      "                           ('beta2', 1.7788223448726324),\n",
      "                           ('beta3_amp', -0.7154561821216847),\n",
      "                           ('beta3_shift', -3.999336061467292),\n",
      "                           ('beta4', 1.000653783125093)])),\n",
      "             ('report',\n",
      "              {'active_mask': array([0, 0, 0]),\n",
      "               'cost': 25.891049967592895,\n",
      "               'fun': array([ 5.64979808,  4.18886464,  0.91720649, -0.95859391, -0.41963563,\n",
      "        0.61565455]),\n",
      "               'grad': array([-1.51487711e-11, -1.19303678e-09,  3.12409270e-07]),\n",
      "               'jac': array([[ -0.        ,  -2.62370283,  47.85120003],\n",
      "       [ -9.44785775,  -0.        ,  -0.        ],\n",
      "       [ -0.        , -41.55848697,  -0.        ],\n",
      "       [ -0.        , -15.46368179, 282.02726363],\n",
      "       [-94.30990612,  -0.        ,  -0.        ],\n",
      "       [ -0.        ,  61.9141263 ,  -0.        ]]),\n",
      "               'message': '`ftol` termination condition is satisfied.',\n",
      "               'nfev': 7,\n",
      "               'njev': 7,\n",
      "               'optimality': 9.889211010581468e-08,\n",
      "               'status': 2,\n",
      "               'success': True,\n",
      "               'x': array([-2.01933606,  1.24416341,  0.31654666])})])\n"
     ]
    }
   ],
   "source": [
    "d = doc[\"good3\"]\n",
    "ret = fit(**d)\n",
    "pprint(d)\n",
    "pprint(ret)"
   ]
  },
  {
   "cell_type": "markdown",
   "metadata": {},
   "source": [
    "## Dataset *good4*"
   ]
  },
  {
   "cell_type": "code",
   "execution_count": 8,
   "metadata": {},
   "outputs": [
    {
     "name": "stdout",
     "output_type": "stream",
     "text": [
      "Sign of beta3_amp does not match with the reference. Force to flip the sign\n",
      "{'beta1m3_amp': 0.05685844,\n",
      " 'beta1m3_amp_err': 0.0037058,\n",
      " 'beta1m3_shift': 6.28210366,\n",
      " 'beta1m3_shift_err': 0.06710068,\n",
      " 'beta2': 1.6911762,\n",
      " 'beta2_err': 0.0048242,\n",
      " 'beta3_amp': 0.43882003,\n",
      " 'beta3_amp_err': 0.01747798,\n",
      " 'beta3_shift': 4.4181477,\n",
      " 'beta3_shift_err': 0.03975083,\n",
      " 'beta4': 0.41195893,\n",
      " 'beta4_err': 0.00868607,\n",
      " 'photon': 15.9}\n",
      "OrderedDict([('opt',\n",
      "              OrderedDict([('phi0', -2.903373261071235),\n",
      "                           ('r', 1.8916727348985676),\n",
      "                           ('h', 0.22615312657456355)])),\n",
      "             ('err',\n",
      "              OrderedDict([('phi0', 0.03899560790060625),\n",
      "                           ('r', 0.017433932134129745),\n",
      "                           ('h', 0.009158040339335838)])),\n",
      "             ('fx',\n",
      "              OrderedDict([('beta1m3_amp', 0.06067052762899712),\n",
      "                           ('beta1m3_shift', 0.04662673892876512),\n",
      "                           ('beta2', 1.8010740205524556),\n",
      "                           ('beta3_amp', -0.42676494061204445),\n",
      "                           ('beta3_shift', -5.023373261071235),\n",
      "                           ('beta4', 0.5425799049391005)])),\n",
      "             ('report',\n",
      "              {'active_mask': array([0, 0, 0]),\n",
      "               'cost': 373.65510446941187,\n",
      "               'fun': array([ -1.02868143,  -0.71099706, -22.78052746,  -0.68973013,\n",
      "         0.42119876, -15.03798322]),\n",
      "               'grad': array([-8.88178420e-14, -3.06954462e-12,  2.43133513e-10]),\n",
      "               'jac': array([[ -0.        ,   4.86946612, -72.39243729],\n",
      "       [-14.90297863,  -0.        ,  -0.        ],\n",
      "       [ -0.        , -34.06273195,  -0.        ],\n",
      "       [ -0.        ,  -7.26244824, 107.96796106],\n",
      "       [-25.15670742,  -0.        ,  -0.        ],\n",
      "       [ -0.        ,  51.60046988,  -0.        ]]),\n",
      "               'message': '`gtol` termination condition is satisfied.',\n",
      "               'nfev': 8,\n",
      "               'njev': 8,\n",
      "               'optimality': 5.4985404212917044e-11,\n",
      "               'status': 1,\n",
      "               'success': True,\n",
      "               'x': array([-2.90337326,  1.89167273,  0.22615313])})])\n"
     ]
    }
   ],
   "source": [
    "d = doc[\"good4\"]\n",
    "ret = fit(**d)\n",
    "pprint(d)\n",
    "pprint(ret)"
   ]
  },
  {
   "cell_type": "markdown",
   "metadata": {},
   "source": [
    "### Uncertain beta2"
   ]
  },
  {
   "cell_type": "code",
   "execution_count": 9,
   "metadata": {},
   "outputs": [
    {
     "name": "stdout",
     "output_type": "stream",
     "text": [
      "Sign of beta3_amp does not match with the reference. Force to flip the sign\n",
      "{'beta1m3_amp': 0.05685844,\n",
      " 'beta1m3_amp_err': 0.0037058,\n",
      " 'beta1m3_shift': 6.28210366,\n",
      " 'beta1m3_shift_err': 0.06710068,\n",
      " 'beta2': 1.6911762,\n",
      " 'beta2_err': 0.0048242,\n",
      " 'beta3_amp': 0.43882003,\n",
      " 'beta3_amp_err': 0.01747798,\n",
      " 'beta3_shift': 4.4181477,\n",
      " 'beta3_shift_err': 0.03975083,\n",
      " 'beta4': 0.41195893,\n",
      " 'beta4_err': 0.00868607,\n",
      " 'photon': 15.9}\n",
      "OrderedDict([('opt',\n",
      "              OrderedDict([('phi0', -2.903373261071235),\n",
      "                           ('r', 2.2429021355354415),\n",
      "                           ('h', 0.2512164416698775)])),\n",
      "             ('err', OrderedDict([('phi0', nan), ('r', inf), ('h', inf)])),\n",
      "             ('fx',\n",
      "              OrderedDict([('beta1m3_amp', 0.060670527628994074),\n",
      "                           ('beta1m3_shift', 0.04662673892876512),\n",
      "                           ('beta2', 1.8489635666628492),\n",
      "                           ('beta3_amp', -0.42676494061202297),\n",
      "                           ('beta3_shift', -5.023373261071235),\n",
      "                           ('beta4', 0.4119589299999991)])),\n",
      "             ('report',\n",
      "              {'active_mask': array([0, 0, 0]),\n",
      "               'cost': 1.1084191695228889,\n",
      "               'fun': array([-1.02868143e+00, -7.10997059e-01, -0.00000000e+00, -6.89730128e-01,\n",
      "        4.21198760e-01,  1.02253196e-13]),\n",
      "               'grad': array([-8.88178420e-14,  1.75378445e-13,  4.58442173e-11]),\n",
      "               'jac': array([[ -0.        ,   4.87547812, -65.17000211],\n",
      "       [-14.90297863,  -0.        ,  -0.        ],\n",
      "       [ -0.        ,  -0.        ,  -0.        ],\n",
      "       [ -0.        ,  -7.27141469,  97.19623366],\n",
      "       [-25.15670742,  -0.        ,  -0.        ],\n",
      "       [ -0.        ,  35.26942742,  -0.        ]]),\n",
      "               'message': '`gtol` termination condition is satisfied.',\n",
      "               'nfev': 8,\n",
      "               'njev': 8,\n",
      "               'optimality': 1.151682114407073e-11,\n",
      "               'status': 1,\n",
      "               'success': True,\n",
      "               'x': array([-2.90337326,  2.24290214,  0.25121644])})])\n"
     ]
    }
   ],
   "source": [
    "d = doc[\"good4\"]\n",
    "ret = fit(**{**d, 'beta2_err': inf})\n",
    "pprint(d)\n",
    "pprint(ret)"
   ]
  },
  {
   "cell_type": "markdown",
   "metadata": {},
   "source": [
    "### Uncertain beta4"
   ]
  },
  {
   "cell_type": "code",
   "execution_count": 10,
   "metadata": {},
   "outputs": [
    {
     "name": "stdout",
     "output_type": "stream",
     "text": [
      "Sign of beta3_amp does not match with the reference. Force to flip the sign\n",
      "{'beta1m3_amp': 0.05685844,\n",
      " 'beta1m3_amp_err': 0.0037058,\n",
      " 'beta1m3_shift': 6.28210366,\n",
      " 'beta1m3_shift_err': 0.06710068,\n",
      " 'beta2': 1.6911762,\n",
      " 'beta2_err': 0.0048242,\n",
      " 'beta3_amp': 0.43882003,\n",
      " 'beta3_amp_err': 0.01747798,\n",
      " 'beta3_shift': 4.4181477,\n",
      " 'beta3_shift_err': 0.03975083,\n",
      " 'beta4': 0.41195893,\n",
      " 'beta4_err': 0.00868607,\n",
      " 'photon': 15.9}\n",
      "OrderedDict([('opt',\n",
      "              OrderedDict([('phi0', -2.903373261071235),\n",
      "                           ('r', 1.395922809103738),\n",
      "                           ('h', 0.1974094504325673)])),\n",
      "             ('err', OrderedDict([('phi0', nan), ('r', inf), ('h', inf)])),\n",
      "             ('fx',\n",
      "              OrderedDict([('beta1m3_amp', 0.06067052762903407),\n",
      "                           ('beta1m3_shift', 0.04662673892876512),\n",
      "                           ('beta2', 1.6911762000000101),\n",
      "                           ('beta3_amp', -0.4267649406123044),\n",
      "                           ('beta3_shift', -5.023373261071235),\n",
      "                           ('beta4', 0.8423313461232008)])),\n",
      "             ('report',\n",
      "              {'active_mask': array([0, 0, 0]),\n",
      "               'cost': 1.1084191695228847,\n",
      "               'fun': array([-1.02868143e+00, -7.10997059e-01, -2.11725298e-12, -6.89730128e-01,\n",
      "        4.21198760e-01, -0.00000000e+00]),\n",
      "               'grad': array([-8.88178420e-14, -5.44231327e-12,  2.94511437e-09]),\n",
      "               'jac': array([[ -0.        ,   3.76501101, -82.9330916 ],\n",
      "       [-14.90297863,  -0.        ,  -0.        ],\n",
      "       [ -0.        , -60.58057501,  -0.        ],\n",
      "       [ -0.        ,  -5.6152352 , 123.68856664],\n",
      "       [-25.15670742,  -0.        ,  -0.        ],\n",
      "       [ -0.        ,   0.        ,  -0.        ]]),\n",
      "               'message': '`gtol` termination condition is satisfied.',\n",
      "               'nfev': 8,\n",
      "               'njev': 8,\n",
      "               'optimality': 5.813934101503119e-10,\n",
      "               'status': 1,\n",
      "               'success': True,\n",
      "               'x': array([-2.90337326,  1.39592281,  0.19740945])})])\n"
     ]
    }
   ],
   "source": [
    "d = doc[\"good4\"]\n",
    "ret = fit(**{**d, 'beta4_err': inf})\n",
    "pprint(d)\n",
    "pprint(ret)"
   ]
  }
 ],
 "metadata": {
  "kernelspec": {
   "display_name": "Python 3",
   "language": "python",
   "name": "python3"
  },
  "language_info": {
   "codemirror_mode": {
    "name": "ipython",
    "version": 3
   },
   "file_extension": ".py",
   "mimetype": "text/x-python",
   "name": "python",
   "nbconvert_exporter": "python",
   "pygments_lexer": "ipython3",
   "version": "3.6.5"
  },
  "toc-autonumbering": false
 },
 "nbformat": 4,
 "nbformat_minor": 2
}
