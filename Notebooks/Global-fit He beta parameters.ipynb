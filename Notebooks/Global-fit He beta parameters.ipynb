{
 "cells": [
  {
   "cell_type": "code",
   "execution_count": 1,
   "metadata": {},
   "outputs": [],
   "source": [
    "from pprint import pprint\n",
    "from textwrap import dedent\n",
    "from math import inf\n",
    "\n",
    "from yaml import safe_load\n",
    "\n",
    "from fit_helium import fit"
   ]
  },
  {
   "cell_type": "code",
   "execution_count": 2,
   "metadata": {},
   "outputs": [],
   "source": [
    "with open('Data/beta_helium_gauss3.yaml', 'r') as f:\n",
    "    doc = safe_load(f)"
   ]
  },
  {
   "cell_type": "markdown",
   "metadata": {
    "toc-hr-collapsed": false
   },
   "source": [
    "# Global-fit"
   ]
  },
  {
   "cell_type": "markdown",
   "metadata": {},
   "source": [
    "## Dataset *good1*"
   ]
  },
  {
   "cell_type": "code",
   "execution_count": 3,
   "metadata": {},
   "outputs": [
    {
     "name": "stdout",
     "output_type": "stream",
     "text": [
      "Sign of beta3_amp does not match with the reference. Force to flip the sign\n",
      "{'beta1m3_amp': 0.11382119,\n",
      " 'beta1m3_amp_err': 0.00780484,\n",
      " 'beta1m3_shift': 1.75117358,\n",
      " 'beta1m3_shift_err': 0.06333875,\n",
      " 'beta2': 1.63093134,\n",
      " 'beta2_err': 0.00931104,\n",
      " 'beta3_amp': 0.80997766,\n",
      " 'beta3_amp_err': 0.0246302,\n",
      " 'beta3_shift': 0.02397292,\n",
      " 'beta3_shift_err': 0.03180625,\n",
      " 'beta4': 1.0282585,\n",
      " 'beta4_err': 0.02773891,\n",
      " 'photon': 15.9}\n",
      "OrderedDict([('opt',\n",
      "              OrderedDict([('phi0', -1.038139466713992),\n",
      "                           ('r', 1.201293952806151),\n",
      "                           ('h', 0.36007900128662074)])),\n",
      "             ('cov',\n",
      "              array([[8.07910298e-04, 0.00000000e+00, 0.00000000e+00],\n",
      "       [0.00000000e+00, 3.51559228e-04, 1.90336259e-05],\n",
      "       [0.00000000e+00, 1.90336259e-05, 1.01220409e-04]])),\n",
      "             ('err',\n",
      "              OrderedDict([('phi0', 0.028423762911023796),\n",
      "                           ('r', 0.018749912744799917),\n",
      "                           ('h', 0.010060835417334012)])),\n",
      "             ('fx',\n",
      "              OrderedDict([('beta1m3_amp', 0.1149269466206616),\n",
      "                           ('beta1m3_shift', 1.9118605332860081),\n",
      "                           ('beta2', 1.6273191168011032),\n",
      "                           ('beta3_amp', -0.8084121478094516),\n",
      "                           ('beta3_shift', -3.158139466713992),\n",
      "                           ('beta4', 1.0165045246490734)])),\n",
      "             ('report',\n",
      "              {'active_mask': array([0, 0, 0]),\n",
      "               'cost': 4.206611758999457,\n",
      "               'fun': array([-0.14167576, -2.53694544,  0.38795056, -0.06356068,  1.27395506,\n",
      "        0.42373602]),\n",
      "               'grad': array([-7.81597009e-14, -1.49569246e-12,  1.25777611e-09]),\n",
      "               'jac': array([[ -0.        ,   2.21402793, -40.89404483],\n",
      "       [-15.78812338,  -0.        ,  -0.        ],\n",
      "       [ -0.        , -39.33698746,  -0.        ],\n",
      "       [ -0.        ,  -4.93503371,  91.15218786],\n",
      "       [-31.44036156,  -0.        ,  -0.        ],\n",
      "       [ -0.        ,  36.01489047,  -0.        ]]),\n",
      "               'message': '`gtol` termination condition is satisfied.',\n",
      "               'nfev': 7,\n",
      "               'njev': 7,\n",
      "               'optimality': 4.528987639069923e-10,\n",
      "               'status': 1,\n",
      "               'success': True,\n",
      "               'x': array([-1.03813947,  1.20129395,  0.360079  ])})])\n"
     ]
    }
   ],
   "source": [
    "d = doc[\"good1\"]\n",
    "ret = fit(**d)\n",
    "pprint(d)\n",
    "pprint(ret)"
   ]
  },
  {
   "cell_type": "markdown",
   "metadata": {},
   "source": [
    "## Dataset *good2*"
   ]
  },
  {
   "cell_type": "code",
   "execution_count": 4,
   "metadata": {},
   "outputs": [
    {
     "name": "stdout",
     "output_type": "stream",
     "text": [
      "Sign of beta3_amp does not match with the reference. Force to flip the sign\n",
      "{'beta1m3_amp': 0.14133936,\n",
      " 'beta1m3_amp_err': 0.00812239,\n",
      " 'beta1m3_shift': 1.70142651,\n",
      " 'beta1m3_shift_err': 0.05363039,\n",
      " 'beta2': 0.85577271,\n",
      " 'beta2_err': 0.01006146,\n",
      " 'beta3_amp': 0.57382046,\n",
      " 'beta3_amp_err': 0.01349924,\n",
      " 'beta3_shift': -0.30203627,\n",
      " 'beta3_shift_err': 0.02268753,\n",
      " 'beta4': 0.93521111,\n",
      " 'beta4_err': 0.01291322,\n",
      " 'photon': 14.3}\n",
      "OrderedDict([('opt',\n",
      "              OrderedDict([('phi0', -1.2162561718066938),\n",
      "                           ('r', 0.904750316419185),\n",
      "                           ('h', 0.26232174670708347)])),\n",
      "             ('cov',\n",
      "              array([[ 4.36592113e-04,  0.00000000e+00,  0.00000000e+00],\n",
      "       [ 0.00000000e+00,  6.24374680e-05, -1.75194206e-06],\n",
      "       [ 0.00000000e+00, -1.75194206e-06,  3.27129767e-05]])),\n",
      "             ('err',\n",
      "              OrderedDict([('phi0', 0.0208947867481131),\n",
      "                           ('r', 0.007901738288661897),\n",
      "                           ('h', 0.005719525913662605)])),\n",
      "             ('fx',\n",
      "              OrderedDict([('beta1m3_amp', 0.1281187037563697),\n",
      "                           ('beta1m3_shift', 1.8837438281933068),\n",
      "                           ('beta2', 1.2217642915307316),\n",
      "                           ('beta3_amp', -0.5818612221602912),\n",
      "                           ('beta3_shift', -3.4762561718066936),\n",
      "                           ('beta4', 1.2969571024374573)])),\n",
      "             ('report',\n",
      "              {'active_mask': array([0, 0, 0]),\n",
      "               'cost': 1062.2877699011567,\n",
      "               'fun': array([  1.62768055,  -3.39951505, -36.37559375,   0.59564554,\n",
      "         1.43811372, -28.01361647]),\n",
      "               'grad': array([-1.18660637e-12, -6.34872777e-09,  2.74077583e-05]),\n",
      "               'jac': array([[ -0.        ,  -1.6872089 , -60.13044281],\n",
      "       [-18.64614447,  -0.        ,  -0.        ],\n",
      "       [ -0.        , -77.21767871,  -0.        ],\n",
      "       [ -0.        ,   4.61052367, 164.31446636],\n",
      "       [-44.0770767 ,  -0.        ,  -0.        ],\n",
      "       [ -0.        , 100.2669154 ,  -0.        ]]),\n",
      "               'message': '`ftol` termination condition is satisfied.',\n",
      "               'nfev': 7,\n",
      "               'njev': 7,\n",
      "               'optimality': 7.189651033206144e-06,\n",
      "               'status': 2,\n",
      "               'success': True,\n",
      "               'x': array([-1.21625617,  0.90475032,  0.26232175])})])\n"
     ]
    }
   ],
   "source": [
    "d = doc[\"good2\"]\n",
    "ret = fit(**d)\n",
    "pprint(d)\n",
    "pprint(ret)"
   ]
  },
  {
   "cell_type": "markdown",
   "metadata": {},
   "source": [
    "### Uncertain beta2"
   ]
  },
  {
   "cell_type": "code",
   "execution_count": 5,
   "metadata": {},
   "outputs": [
    {
     "name": "stdout",
     "output_type": "stream",
     "text": [
      "Sign of beta3_amp does not match with the reference. Force to flip the sign\n",
      "{'beta1m3_amp': 0.14133936,\n",
      " 'beta1m3_amp_err': 0.00812239,\n",
      " 'beta1m3_shift': 1.70142651,\n",
      " 'beta1m3_shift_err': 0.05363039,\n",
      " 'beta2': 0.85577271,\n",
      " 'beta2_err': 0.01006146,\n",
      " 'beta3_amp': 0.57382046,\n",
      " 'beta3_amp_err': 0.01349924,\n",
      " 'beta3_shift': -0.30203627,\n",
      " 'beta3_shift_err': 0.02268753,\n",
      " 'beta4': 0.93521111,\n",
      " 'beta4_err': 0.01291322,\n",
      " 'photon': 14.3}\n",
      "OrderedDict([('opt',\n",
      "              OrderedDict([('phi0', -1.2162561718066938),\n",
      "                           ('r', 1.2327543250326103),\n",
      "                           ('h', 0.26699458788911085)])),\n",
      "             ('cov',\n",
      "              array([[4.36592113e-04, 0.00000000e+00, 0.00000000e+00],\n",
      "       [0.00000000e+00, 1.98176852e-04, 8.97649027e-06],\n",
      "       [0.00000000e+00, 8.97649027e-06, 3.42444839e-05]])),\n",
      "             ('err',\n",
      "              OrderedDict([('phi0', 0.0208947867481131),\n",
      "                           ('r', 0.014077530048638518),\n",
      "                           ('h', 0.005851878665824412)])),\n",
      "             ('fx',\n",
      "              OrderedDict([('beta1m3_amp', 0.1281187035918979),\n",
      "                           ('beta1m3_shift', 1.8837438281933068),\n",
      "                           ('beta2', 1.4388290258124097),\n",
      "                           ('beta3_amp', -0.5818612214133297),\n",
      "                           ('beta3_shift', -3.4762561718066936),\n",
      "                           ('beta4', 0.9352111098652871)])),\n",
      "             ('report',\n",
      "              {'active_mask': array([0, 0, 0]),\n",
      "               'cost': 8.314505640556675,\n",
      "               'fun': array([ 1.62768057e+00, -3.39951505e+00, -0.00000000e+00,  5.95645489e-01,\n",
      "        1.43811372e+00,  1.04321701e-08]),\n",
      "               'grad': array([-1.18660637e-12, -1.98569119e-08,  1.67988115e-05]),\n",
      "               'jac': array([[ -0.        ,   2.6759616 , -59.07806181],\n",
      "       [-18.64614447,  -0.        ,  -0.        ],\n",
      "       [ -0.        ,  -0.        ,  -0.        ],\n",
      "       [ -0.        ,  -7.31242249, 161.43869473],\n",
      "       [-44.0770767 ,  -0.        ,  -0.        ],\n",
      "       [ -0.        ,  71.03518846,  -0.        ]]),\n",
      "               'message': '`xtol` termination condition is satisfied.',\n",
      "               'nfev': 9,\n",
      "               'njev': 7,\n",
      "               'optimality': 4.485191757520446e-06,\n",
      "               'status': 3,\n",
      "               'success': True,\n",
      "               'x': array([-1.21625617,  1.23275433,  0.26699459])})])\n"
     ]
    },
    {
     "name": "stderr",
     "output_type": "stream",
     "text": [
      "/data/fit_helium/fit.py:102: RuntimeWarning: invalid value encountered in multiply\n",
      "  divider = sign(diff) * [inf, 0, inf, inf, 0, inf] + where_shift * 2 * pi\n"
     ]
    }
   ],
   "source": [
    "d = doc[\"good2\"]\n",
    "ret = fit(**{**d, 'beta2_err': inf})\n",
    "pprint(d)\n",
    "pprint(ret)"
   ]
  },
  {
   "cell_type": "markdown",
   "metadata": {},
   "source": [
    "### Uncertain beta4"
   ]
  },
  {
   "cell_type": "code",
   "execution_count": 6,
   "metadata": {},
   "outputs": [
    {
     "name": "stdout",
     "output_type": "stream",
     "text": [
      "Sign of beta3_amp does not match with the reference. Force to flip the sign\n",
      "{'beta1m3_amp': 0.14133936,\n",
      " 'beta1m3_amp_err': 0.00812239,\n",
      " 'beta1m3_shift': 1.70142651,\n",
      " 'beta1m3_shift_err': 0.05363039,\n",
      " 'beta2': 0.85577271,\n",
      " 'beta2_err': 0.01006146,\n",
      " 'beta3_amp': 0.57382046,\n",
      " 'beta3_amp_err': 0.01349924,\n",
      " 'beta3_shift': -0.30203627,\n",
      " 'beta3_shift_err': 0.02268753,\n",
      " 'beta4': 0.93521111,\n",
      " 'beta4_err': 0.01291322,\n",
      " 'photon': 14.3}\n",
      "OrderedDict([('opt',\n",
      "              OrderedDict([('phi0', -1.2162561718066938),\n",
      "                           ('r', 0.4886814305620006),\n",
      "                           ('h', 0.3303209003394847)])),\n",
      "             ('cov',\n",
      "              array([[ 4.36592113e-04,  0.00000000e+00,  0.00000000e+00],\n",
      "       [ 0.00000000e+00,  1.23017739e-04, -5.09372285e-05],\n",
      "       [ 0.00000000e+00, -5.09372285e-05,  7.28842067e-05]])),\n",
      "             ('err',\n",
      "              OrderedDict([('phi0', 0.0208947867481131),\n",
      "                           ('r', 0.011091336210086811),\n",
      "                           ('h', 0.008537224765310429)])),\n",
      "             ('fx',\n",
      "              OrderedDict([('beta1m3_amp', 0.12811870331885333),\n",
      "                           ('beta1m3_shift', 1.8837438281933068),\n",
      "                           ('beta2', 0.8557727100002989),\n",
      "                           ('beta3_amp', -0.5818612201732762),\n",
      "                           ('beta3_shift', -3.4762561718066936),\n",
      "                           ('beta4', 1.9068949091102758)])),\n",
      "             ('report',\n",
      "              {'active_mask': array([0, 0, 0]),\n",
      "               'cost': 8.31450564055667,\n",
      "               'fun': array([ 1.62768061e+00, -3.39951505e+00, -2.97046391e-11,  5.95645397e-01,\n",
      "        1.43811372e+00, -0.00000000e+00]),\n",
      "               'grad': array([-1.18660637e-12, -3.04192582e-09, -1.38145566e-08]),\n",
      "               'jac': array([[ -0.        , -19.77243758, -47.75211837],\n",
      "       [-18.64614447,  -0.        ,  -0.        ],\n",
      "       [ -0.        , -90.16046228,  -0.        ],\n",
      "       [ -0.        ,  54.0308266 , 130.48904152],\n",
      "       [-44.0770767 ,  -0.        ,  -0.        ],\n",
      "       [ -0.        ,   0.        ,  -0.        ]]),\n",
      "               'message': '`ftol` termination condition is satisfied.',\n",
      "               'nfev': 7,\n",
      "               'njev': 7,\n",
      "               'optimality': 1.3814556609759165e-08,\n",
      "               'status': 2,\n",
      "               'success': True,\n",
      "               'x': array([-1.21625617,  0.48868143,  0.3303209 ])})])\n"
     ]
    }
   ],
   "source": [
    "d = doc[\"good2\"]\n",
    "ret = fit(**{**d, 'beta4_err': inf})\n",
    "pprint(d)\n",
    "pprint(ret)"
   ]
  },
  {
   "cell_type": "markdown",
   "metadata": {},
   "source": [
    "## Dataset *good3*"
   ]
  },
  {
   "cell_type": "code",
   "execution_count": 7,
   "metadata": {},
   "outputs": [
    {
     "name": "stdout",
     "output_type": "stream",
     "text": [
      "Sign of beta1m3_amp does not match with the reference. Force to flip the sign\n",
      "Sign of beta3_amp does not match with the reference. Force to flip the sign\n",
      "{'beta1m3_amp': 0.02985916,\n",
      " 'beta1m3_amp_err': 0.00314395,\n",
      " 'beta1m3_shift': 4.3456232,\n",
      " 'beta1m3_shift_err': 0.1058441,\n",
      " 'beta2': 1.78359136,\n",
      " 'beta2_err': 0.0051995,\n",
      " 'beta3_amp': 0.72313844,\n",
      " 'beta3_amp_err': 0.00801409,\n",
      " 'beta3_shift': 5.42099236,\n",
      " 'beta3_shift_err': 0.01060334,\n",
      " 'beta4': 1.01037479,\n",
      " 'beta4_err': 0.01578971,\n",
      " 'photon': 19.1}\n",
      "OrderedDict([('opt',\n",
      "              OrderedDict([('phi0', -2.019336061467292),\n",
      "                           ('r', 1.2441634108586155),\n",
      "                           ('h', 0.3165466572196756)])),\n",
      "             ('cov',\n",
      "              array([[1.11313697e-04, 0.00000000e+00, 0.00000000e+00],\n",
      "       [0.00000000e+00, 1.79841014e-04, 9.86076372e-06],\n",
      "       [0.00000000e+00, 9.86076372e-06, 1.27612594e-05]])),\n",
      "             ('err',\n",
      "              OrderedDict([('phi0', 0.010550530649214577),\n",
      "                           ('r', 0.013410481489493892),\n",
      "                           ('h', 0.003572290491902338)])),\n",
      "             ('fx',\n",
      "              OrderedDict([('beta1m3_amp', -0.047621842671920774),\n",
      "                           ('beta1m3_shift', 0.7606639385327076),\n",
      "                           ('beta2', 1.7788223448726324),\n",
      "                           ('beta3_amp', -0.7154561821216848),\n",
      "                           ('beta3_shift', -3.999336061467292),\n",
      "                           ('beta4', 1.0006537831250935)])),\n",
      "             ('report',\n",
      "              {'active_mask': array([0, 0, 0]),\n",
      "               'cost': 25.89104996759284,\n",
      "               'fun': array([ 5.64979808,  4.18886464,  0.91720649, -0.95859391, -0.41963563,\n",
      "        0.61565455]),\n",
      "               'grad': array([-1.51558766e-11, -1.19495525e-09,  3.12412908e-07]),\n",
      "               'jac': array([[ -0.        ,  -2.62370283,  47.85120003],\n",
      "       [ -9.44785775,  -0.        ,  -0.        ],\n",
      "       [ -0.        , -41.55848697,  -0.        ],\n",
      "       [ -0.        , -15.46368179, 282.02726363],\n",
      "       [-94.30990612,  -0.        ,  -0.        ],\n",
      "       [ -0.        ,  61.9141263 ,  -0.        ]]),\n",
      "               'message': '`ftol` termination condition is satisfied.',\n",
      "               'nfev': 7,\n",
      "               'njev': 7,\n",
      "               'optimality': 9.889326169584506e-08,\n",
      "               'status': 2,\n",
      "               'success': True,\n",
      "               'x': array([-2.01933606,  1.24416341,  0.31654666])})])\n"
     ]
    }
   ],
   "source": [
    "d = doc[\"good3\"]\n",
    "ret = fit(**d)\n",
    "pprint(d)\n",
    "pprint(ret)"
   ]
  },
  {
   "cell_type": "markdown",
   "metadata": {},
   "source": [
    "## Dataset *good4*"
   ]
  },
  {
   "cell_type": "code",
   "execution_count": 8,
   "metadata": {},
   "outputs": [
    {
     "name": "stdout",
     "output_type": "stream",
     "text": [
      "Sign of beta3_amp does not match with the reference. Force to flip the sign\n",
      "{'beta1m3_amp': 0.05685844,\n",
      " 'beta1m3_amp_err': 0.0037058,\n",
      " 'beta1m3_shift': 6.28210366,\n",
      " 'beta1m3_shift_err': 0.06710068,\n",
      " 'beta2': 1.6911762,\n",
      " 'beta2_err': 0.0048242,\n",
      " 'beta3_amp': 0.43882003,\n",
      " 'beta3_amp_err': 0.01747798,\n",
      " 'beta3_shift': 4.4181477,\n",
      " 'beta3_shift_err': 0.03975083,\n",
      " 'beta4': 0.41195893,\n",
      " 'beta4_err': 0.00868607,\n",
      " 'photon': 15.9}\n",
      "OrderedDict([('opt',\n",
      "              OrderedDict([('phi0', -2.903373261071235),\n",
      "                           ('r', 1.8916727348985676),\n",
      "                           ('h', 0.22615312657456355)])),\n",
      "             ('cov',\n",
      "              array([[1.16964714e-03, 0.00000000e+00, 0.00000000e+00],\n",
      "       [0.00000000e+00, 2.61583014e-04, 1.75953410e-05],\n",
      "       [0.00000000e+00, 1.75953410e-05, 6.03630399e-05]])),\n",
      "             ('err',\n",
      "              OrderedDict([('phi0', 0.03420010441128336),\n",
      "                           ('r', 0.01617352817483518),\n",
      "                           ('h', 0.0077693654752780585)])),\n",
      "             ('fx',\n",
      "              OrderedDict([('beta1m3_amp', 0.06067052762899711),\n",
      "                           ('beta1m3_shift', 0.04662673892876512),\n",
      "                           ('beta2', 1.8010740205524556),\n",
      "                           ('beta3_amp', -0.42676494061204445),\n",
      "                           ('beta3_shift', -5.023373261071235),\n",
      "                           ('beta4', 0.5425799049391005)])),\n",
      "             ('report',\n",
      "              {'active_mask': array([0, 0, 0]),\n",
      "               'cost': 373.65510446941187,\n",
      "               'fun': array([ -1.02868143,  -0.71099706, -22.78052746,  -0.68973013,\n",
      "         0.42119876, -15.03798322]),\n",
      "               'grad': array([-8.88178420e-14, -3.29691829e-12,  2.42962983e-10]),\n",
      "               'jac': array([[ -0.        ,   4.86946612, -72.39243729],\n",
      "       [-14.90297863,  -0.        ,  -0.        ],\n",
      "       [ -0.        , -34.06273195,  -0.        ],\n",
      "       [ -0.        ,  -7.26244824, 107.96796106],\n",
      "       [-25.15670742,  -0.        ,  -0.        ],\n",
      "       [ -0.        ,  51.60046988,  -0.        ]]),\n",
      "               'message': '`gtol` termination condition is satisfied.',\n",
      "               'nfev': 8,\n",
      "               'njev': 8,\n",
      "               'optimality': 5.494683826221537e-11,\n",
      "               'status': 1,\n",
      "               'success': True,\n",
      "               'x': array([-2.90337326,  1.89167273,  0.22615313])})])\n"
     ]
    }
   ],
   "source": [
    "d = doc[\"good4\"]\n",
    "ret = fit(**d)\n",
    "pprint(d)\n",
    "pprint(ret)"
   ]
  },
  {
   "cell_type": "markdown",
   "metadata": {},
   "source": [
    "### Uncertain beta2"
   ]
  },
  {
   "cell_type": "code",
   "execution_count": 9,
   "metadata": {},
   "outputs": [
    {
     "name": "stdout",
     "output_type": "stream",
     "text": [
      "Sign of beta3_amp does not match with the reference. Force to flip the sign\n",
      "{'beta1m3_amp': 0.05685844,\n",
      " 'beta1m3_amp_err': 0.0037058,\n",
      " 'beta1m3_shift': 6.28210366,\n",
      " 'beta1m3_shift_err': 0.06710068,\n",
      " 'beta2': 1.6911762,\n",
      " 'beta2_err': 0.0048242,\n",
      " 'beta3_amp': 0.43882003,\n",
      " 'beta3_amp_err': 0.01747798,\n",
      " 'beta3_shift': 4.4181477,\n",
      " 'beta3_shift_err': 0.03975083,\n",
      " 'beta4': 0.41195893,\n",
      " 'beta4_err': 0.00868607,\n",
      " 'photon': 15.9}\n",
      "OrderedDict([('opt',\n",
      "              OrderedDict([('phi0', -2.903373261071235),\n",
      "                           ('r', 2.2429021355354415),\n",
      "                           ('h', 0.25121644166987744)])),\n",
      "             ('cov',\n",
      "              array([[1.16964714e-03, 0.00000000e+00, 0.00000000e+00],\n",
      "       [0.00000000e+00, 8.03902134e-04, 6.01412789e-05],\n",
      "       [0.00000000e+00, 6.01412789e-05, 7.75226893e-05]])),\n",
      "             ('err',\n",
      "              OrderedDict([('phi0', 0.03420010441128336),\n",
      "                           ('r', 0.028353167978249407),\n",
      "                           ('h', 0.008804697001685943)])),\n",
      "             ('fx',\n",
      "              OrderedDict([('beta1m3_amp', 0.06067052762899407),\n",
      "                           ('beta1m3_shift', 0.04662673892876512),\n",
      "                           ('beta2', 1.8489635666628492),\n",
      "                           ('beta3_amp', -0.42676494061202286),\n",
      "                           ('beta3_shift', -5.023373261071235),\n",
      "                           ('beta4', 0.4119589299999991)])),\n",
      "             ('report',\n",
      "              {'active_mask': array([0, 0, 0]),\n",
      "               'cost': 1.1084191695228913,\n",
      "               'fun': array([-1.02868143e+00, -7.10997059e-01, -0.00000000e+00, -6.89730128e-01,\n",
      "        4.21198760e-01,  1.02253196e-13]),\n",
      "               'grad': array([-8.88178420e-14,  2.33998221e-13,  4.51052529e-11]),\n",
      "               'jac': array([[ -0.        ,   4.87547812, -65.17000211],\n",
      "       [-14.90297863,  -0.        ,  -0.        ],\n",
      "       [ -0.        ,  -0.        ,  -0.        ],\n",
      "       [ -0.        ,  -7.27141469,  97.19623366],\n",
      "       [-25.15670742,  -0.        ,  -0.        ],\n",
      "       [ -0.        ,  35.26942742,  -0.        ]]),\n",
      "               'message': '`gtol` termination condition is satisfied.',\n",
      "               'nfev': 8,\n",
      "               'njev': 8,\n",
      "               'optimality': 1.1331181125629414e-11,\n",
      "               'status': 1,\n",
      "               'success': True,\n",
      "               'x': array([-2.90337326,  2.24290214,  0.25121644])})])\n"
     ]
    }
   ],
   "source": [
    "d = doc[\"good4\"]\n",
    "ret = fit(**{**d, 'beta2_err': inf})\n",
    "pprint(d)\n",
    "pprint(ret)"
   ]
  },
  {
   "cell_type": "markdown",
   "metadata": {},
   "source": [
    "### Uncertain beta4"
   ]
  },
  {
   "cell_type": "code",
   "execution_count": 10,
   "metadata": {},
   "outputs": [
    {
     "name": "stdout",
     "output_type": "stream",
     "text": [
      "Sign of beta3_amp does not match with the reference. Force to flip the sign\n",
      "{'beta1m3_amp': 0.05685844,\n",
      " 'beta1m3_amp_err': 0.0037058,\n",
      " 'beta1m3_shift': 6.28210366,\n",
      " 'beta1m3_shift_err': 0.06710068,\n",
      " 'beta2': 1.6911762,\n",
      " 'beta2_err': 0.0048242,\n",
      " 'beta3_amp': 0.43882003,\n",
      " 'beta3_amp_err': 0.01747798,\n",
      " 'beta3_shift': 4.4181477,\n",
      " 'beta3_shift_err': 0.03975083,\n",
      " 'beta4': 0.41195893,\n",
      " 'beta4_err': 0.00868607,\n",
      " 'photon': 15.9}\n",
      "OrderedDict([('opt',\n",
      "              OrderedDict([('phi0', -2.903373261071235),\n",
      "                           ('r', 1.395922809103738),\n",
      "                           ('h', 0.1974094504325673)])),\n",
      "             ('cov',\n",
      "              array([[1.16964714e-03, 0.00000000e+00, 0.00000000e+00],\n",
      "       [0.00000000e+00, 2.72479113e-04, 1.23700545e-05],\n",
      "       [0.00000000e+00, 1.23700545e-05, 4.56538293e-05]])),\n",
      "             ('err',\n",
      "              OrderedDict([('phi0', 0.03420010441128336),\n",
      "                           ('r', 0.016506941373176712),\n",
      "                           ('h', 0.006756761743082833)])),\n",
      "             ('fx',\n",
      "              OrderedDict([('beta1m3_amp', 0.06067052762903407),\n",
      "                           ('beta1m3_shift', 0.04662673892876512),\n",
      "                           ('beta2', 1.6911762000000101),\n",
      "                           ('beta3_amp', -0.4267649406123044),\n",
      "                           ('beta3_shift', -5.023373261071235),\n",
      "                           ('beta4', 0.8423313461232008)])),\n",
      "             ('report',\n",
      "              {'active_mask': array([0, 0, 0]),\n",
      "               'cost': 1.1084191695228844,\n",
      "               'fun': array([-1.02868143e+00, -7.10997059e-01, -2.11725298e-12, -6.89730128e-01,\n",
      "        4.21198760e-01, -0.00000000e+00]),\n",
      "               'grad': array([-8.88178420e-14, -5.44098100e-12,  2.94507174e-09]),\n",
      "               'jac': array([[ -0.        ,   3.76501101, -82.9330916 ],\n",
      "       [-14.90297863,  -0.        ,  -0.        ],\n",
      "       [ -0.        , -60.58057501,  -0.        ],\n",
      "       [ -0.        ,  -5.6152352 , 123.68856664],\n",
      "       [-25.15670742,  -0.        ,  -0.        ],\n",
      "       [ -0.        ,   0.        ,  -0.        ]]),\n",
      "               'message': '`gtol` termination condition is satisfied.',\n",
      "               'nfev': 8,\n",
      "               'njev': 8,\n",
      "               'optimality': 5.813849940792534e-10,\n",
      "               'status': 1,\n",
      "               'success': True,\n",
      "               'x': array([-2.90337326,  1.39592281,  0.19740945])})])\n"
     ]
    }
   ],
   "source": [
    "d = doc[\"good4\"]\n",
    "ret = fit(**{**d, 'beta4_err': inf})\n",
    "pprint(d)\n",
    "pprint(ret)"
   ]
  }
 ],
 "metadata": {
  "kernelspec": {
   "display_name": "Python 3",
   "language": "python",
   "name": "python3"
  },
  "language_info": {
   "codemirror_mode": {
    "name": "ipython",
    "version": 3
   },
   "file_extension": ".py",
   "mimetype": "text/x-python",
   "name": "python",
   "nbconvert_exporter": "python",
   "pygments_lexer": "ipython3",
   "version": "3.6.5"
  },
  "toc-autonumbering": false
 },
 "nbformat": 4,
 "nbformat_minor": 2
}
